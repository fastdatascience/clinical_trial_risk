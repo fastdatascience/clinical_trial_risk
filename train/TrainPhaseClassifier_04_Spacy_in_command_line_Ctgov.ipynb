{
  "cells": [
    {
      "cell_type": "markdown",
      "metadata": {
        "id": "view-in-github",
        "colab_type": "text"
      },
      "source": [
        "<a href=\"https://colab.research.google.com/github/fastdatascience/clinical_trial_risk/blob/fixes_nov_2022/train/ctgov/TrainPhaseClassifier_04_Spacy_in_command_line.ipynb\" target=\"_parent\"><img src=\"https://colab.research.google.com/assets/colab-badge.svg\" alt=\"Open In Colab\"/></a>"
      ]
    },
    {
      "cell_type": "code",
      "execution_count": 1,
      "metadata": {
        "id": "0557d6c8"
      },
      "outputs": [],
      "source": [
        "import pandas as pd\n",
        "import re\n",
        "import os\n",
        "import sys\n",
        "import pickle as pkl\n",
        "import seaborn as sns\n",
        "from sklearn.metrics import accuracy_score, confusion_matrix\n",
        "from sklearn.metrics import ConfusionMatrixDisplay\n",
        "from sklearn.metrics import mean_absolute_error, mean_squared_error\n",
        "from sklearn.metrics import roc_auc_score\n",
        "from sklearn.metrics import roc_curve, auc\n",
        "from IPython.display import display\n",
        "import matplotlib.pyplot as plt\n",
        "import numpy as np\n",
        "import json\n",
        "\n"
      ],
      "id": "0557d6c8"
    },
    {
      "cell_type": "code",
      "execution_count": 2,
      "metadata": {
        "colab": {
          "base_uri": "https://localhost:8080/"
        },
        "id": "3cTsWWseCCMc",
        "outputId": "0b354d84-c760-4b48-fd5f-84a6e12013a6"
      },
      "outputs": [
        {
          "output_type": "stream",
          "name": "stdout",
          "text": [
            "Mounted at /content/drive\n"
          ]
        }
      ],
      "source": [
        "from google.colab import drive\n",
        "drive.mount('/content/drive')"
      ],
      "id": "3cTsWWseCCMc"
    },
    {
      "cell_type": "code",
      "execution_count": 3,
      "metadata": {
        "id": "92CbJN_cCFul"
      },
      "outputs": [],
      "source": [
        "df_annotations = pd.read_csv(\"/content/drive/MyDrive/data/all_annotations.csv\")\n"
      ],
      "id": "92CbJN_cCFul"
    },
    {
      "cell_type": "markdown",
      "metadata": {
        "id": "4b2e7a73"
      },
      "source": [
        "# Get data"
      ],
      "id": "4b2e7a73"
    },
    {
      "cell_type": "code",
      "execution_count": 4,
      "metadata": {
        "id": "c8ebd7a5"
      },
      "outputs": [],
      "source": [
        "with open(\"/content/drive/MyDrive/data/protocols.pkl.gz\", \"rb\") as f:\n",
        "    file_to_pages = pkl.load(f)"
      ],
      "id": "c8ebd7a5"
    },
    {
      "cell_type": "code",
      "execution_count": 5,
      "metadata": {
        "id": "9fbe5bf0"
      },
      "outputs": [],
      "source": [
        "texts = []\n",
        "\n",
        "for i in range(len(df_annotations)):\n",
        "    file_name = df_annotations.file.iloc[i]\n",
        "    \n",
        "    pages= file_to_pages[file_name]\n",
        "    # Limit to first 3 pages because of memory constraints\n",
        "    if len(pages) > 3:\n",
        "      pages = pages[:3]\n",
        "\n",
        "    texts.append(\" \".join(pages))\n",
        "df_annotations[\"text\"] = texts"
      ],
      "id": "9fbe5bf0"
    },
    {
      "cell_type": "code",
      "execution_count": 6,
      "metadata": {
        "id": "f3322e30"
      },
      "outputs": [],
      "source": [
        "df_annotations = df_annotations[~df_annotations.phase.isna()]"
      ],
      "id": "f3322e30"
    },
    {
      "cell_type": "code",
      "source": [
        "df_annotations[\"phase\"].value_counts()"
      ],
      "metadata": {
        "colab": {
          "base_uri": "https://localhost:8080/"
        },
        "id": "nZgEgMEKD4XR",
        "outputId": "c6d94314-9c06-4869-e9a8-e01573c072a7"
      },
      "id": "nZgEgMEKD4XR",
      "execution_count": 7,
      "outputs": [
        {
          "output_type": "execute_result",
          "data": {
            "text/plain": [
              "Phase 2            4317\n",
              "Phase 3            2725\n",
              "Phase 4            1461\n",
              "Phase 1            1154\n",
              "Phase 1/Phase 2     983\n",
              "Not Applicable      519\n",
              "Phase 2/Phase 3     297\n",
              "Early Phase 1       135\n",
              "Name: phase, dtype: int64"
            ]
          },
          "metadata": {},
          "execution_count": 7
        }
      ]
    },
    {
      "cell_type": "code",
      "source": [
        "df_annotations[\"phase\"].value_counts().max() / df_annotations[\"phase\"].value_counts()"
      ],
      "metadata": {
        "colab": {
          "base_uri": "https://localhost:8080/"
        },
        "id": "jTr12CTU37nQ",
        "outputId": "e5c9dec5-f0a1-4801-d258-468340ece931"
      },
      "id": "jTr12CTU37nQ",
      "execution_count": 11,
      "outputs": [
        {
          "output_type": "execute_result",
          "data": {
            "text/plain": [
              "Phase 2             1.000000\n",
              "Phase 3             1.584220\n",
              "Phase 4             2.954825\n",
              "Phase 1             3.740901\n",
              "Phase 1/Phase 2     4.391658\n",
              "Not Applicable      8.317919\n",
              "Phase 2/Phase 3    14.535354\n",
              "Early Phase 1      31.977778\n",
              "Name: phase, dtype: float64"
            ]
          },
          "metadata": {},
          "execution_count": 11
        }
      ]
    },
    {
      "cell_type": "code",
      "source": [
        "labels = sorted(set(df_annotations[\"phase\"]))"
      ],
      "metadata": {
        "id": "-dJssyKancgv"
      },
      "id": "-dJssyKancgv",
      "execution_count": 8,
      "outputs": []
    },
    {
      "cell_type": "markdown",
      "source": [
        "# Begin Spacy"
      ],
      "metadata": {
        "id": "SfBgW4gfxcij"
      },
      "id": "SfBgW4gfxcij"
    },
    {
      "cell_type": "code",
      "source": [
        "import spacy\n",
        "\n",
        "nlp = spacy.blank(\"en\")\n",
        "from spacy.tokens import DocBin\n",
        "\n",
        "docs_train = DocBin()\n",
        "docs_val = DocBin()\n",
        "\n",
        "for idx in range(len(df_annotations)):\n",
        "  if idx % 100 == 0:\n",
        "    print (idx, len(df_annotations))\n",
        "  if df_annotations.train_val.iloc[idx] == \"train\":\n",
        "    docs_list = docs_train\n",
        "  else:\n",
        "    docs_list = docs_val\n",
        "  text = str(df_annotations.text.iloc[idx])\n",
        "  if len(text) > 100000:\n",
        "      text = text[:100000]\n",
        "  doc = nlp(text)\n",
        "\n",
        "  cats = {}\n",
        "  for l in labels:\n",
        "    cats[l] = 0\n",
        "  \n",
        "  phase = df_annotations.phase.iloc[idx]\n",
        "  cats[phase] = 1\n",
        "  doc.cats = cats\n",
        "\n",
        "  # data augmenting\n",
        "  aug = 1\n",
        "  if  df_annotations.train_val.iloc[idx] == \"train\" and phase not in (\"Phase 2\", \"Phase 3\" ):\n",
        "    aug = 2\n",
        "  for i in range(aug):\n",
        "    docs_list.add(doc)  "
      ],
      "metadata": {
        "colab": {
          "base_uri": "https://localhost:8080/"
        },
        "id": "KvW8o14rzkOh",
        "outputId": "53783d03-c30c-4a3d-b140-068a869cacea"
      },
      "id": "KvW8o14rzkOh",
      "execution_count": 12,
      "outputs": [
        {
          "output_type": "stream",
          "name": "stdout",
          "text": [
            "0 11591\n",
            "100 11591\n",
            "200 11591\n",
            "300 11591\n",
            "400 11591\n",
            "500 11591\n",
            "600 11591\n",
            "700 11591\n",
            "800 11591\n",
            "900 11591\n",
            "1000 11591\n",
            "1100 11591\n",
            "1200 11591\n",
            "1300 11591\n",
            "1400 11591\n",
            "1500 11591\n",
            "1600 11591\n",
            "1700 11591\n",
            "1800 11591\n",
            "1900 11591\n",
            "2000 11591\n",
            "2100 11591\n",
            "2200 11591\n",
            "2300 11591\n",
            "2400 11591\n",
            "2500 11591\n",
            "2600 11591\n",
            "2700 11591\n",
            "2800 11591\n",
            "2900 11591\n",
            "3000 11591\n",
            "3100 11591\n",
            "3200 11591\n",
            "3300 11591\n",
            "3400 11591\n",
            "3500 11591\n",
            "3600 11591\n",
            "3700 11591\n",
            "3800 11591\n",
            "3900 11591\n",
            "4000 11591\n",
            "4100 11591\n",
            "4200 11591\n",
            "4300 11591\n",
            "4400 11591\n",
            "4500 11591\n",
            "4600 11591\n",
            "4700 11591\n",
            "4800 11591\n",
            "4900 11591\n",
            "5000 11591\n",
            "5100 11591\n",
            "5200 11591\n",
            "5300 11591\n",
            "5400 11591\n",
            "5500 11591\n",
            "5600 11591\n",
            "5700 11591\n",
            "5800 11591\n",
            "5900 11591\n",
            "6000 11591\n",
            "6100 11591\n",
            "6200 11591\n",
            "6300 11591\n",
            "6400 11591\n",
            "6500 11591\n",
            "6600 11591\n",
            "6700 11591\n",
            "6800 11591\n",
            "6900 11591\n",
            "7000 11591\n",
            "7100 11591\n",
            "7200 11591\n",
            "7300 11591\n",
            "7400 11591\n",
            "7500 11591\n",
            "7600 11591\n",
            "7700 11591\n",
            "7800 11591\n",
            "7900 11591\n",
            "8000 11591\n",
            "8100 11591\n",
            "8200 11591\n",
            "8300 11591\n",
            "8400 11591\n",
            "8500 11591\n",
            "8600 11591\n",
            "8700 11591\n",
            "8800 11591\n",
            "8900 11591\n",
            "9000 11591\n",
            "9100 11591\n",
            "9200 11591\n",
            "9300 11591\n",
            "9400 11591\n",
            "9500 11591\n",
            "9600 11591\n",
            "9700 11591\n",
            "9800 11591\n",
            "9900 11591\n",
            "10000 11591\n",
            "10100 11591\n",
            "10200 11591\n",
            "10300 11591\n",
            "10400 11591\n",
            "10500 11591\n",
            "10600 11591\n",
            "10700 11591\n",
            "10800 11591\n",
            "10900 11591\n",
            "11000 11591\n",
            "11100 11591\n",
            "11200 11591\n",
            "11300 11591\n",
            "11400 11591\n",
            "11500 11591\n"
          ]
        }
      ]
    },
    {
      "cell_type": "code",
      "source": [
        "docs_val.to_disk(\"/content/drive/MyDrive/data/dev_phase_04.spacy\")\n",
        "docs_train.to_disk(\"/content/drive/MyDrive/data/train_phase_04.spacy\")\n",
        "\n",
        "# for idx, doc_bin_train in enumerate(docs_train):\n",
        "#   doc_bin_train.to_disk(f\"/content/drive/MyDrive/data/train_is_international.spacy/train_doc_bin{idx}.spacy\")"
      ],
      "metadata": {
        "id": "FCwDsuzoz-VF"
      },
      "id": "FCwDsuzoz-VF",
      "execution_count": 13,
      "outputs": []
    },
    {
      "cell_type": "code",
      "source": [
        "# !python -m spacy init fill-config base_config.cfg spacy_textcat_is_international_11.cfg"
      ],
      "metadata": {
        "id": "4W_3MT1S1HB2"
      },
      "id": "4W_3MT1S1HB2",
      "execution_count": 14,
      "outputs": []
    },
    {
      "cell_type": "code",
      "source": [
        "!python -m spacy train ./spacy_textcat_is_international_11.cfg --output /content/drive/MyDrive/data/output_textcat_phase_04 --paths.train /content/drive/MyDrive/data/train_phase_04.spacy --paths.dev /content/drive/MyDrive/data/dev_phase_04.spacy --gpu-id 0"
      ],
      "metadata": {
        "colab": {
          "base_uri": "https://localhost:8080/"
        },
        "id": "sUWoDWS90p2B",
        "outputId": "c1df2550-ab39-430b-d987-bcc4b7a302cc"
      },
      "id": "sUWoDWS90p2B",
      "execution_count": 18,
      "outputs": [
        {
          "output_type": "stream",
          "name": "stdout",
          "text": [
            "\u001b[38;5;2m✔ Created output directory:\n",
            "/content/drive/MyDrive/data/output_textcat_phase_04\u001b[0m\n",
            "\u001b[38;5;4mℹ Saving to output directory:\n",
            "/content/drive/MyDrive/data/output_textcat_phase_04\u001b[0m\n",
            "\u001b[38;5;4mℹ Using GPU: 0\u001b[0m\n",
            "\u001b[1m\n",
            "=========================== Initializing pipeline ===========================\u001b[0m\n",
            "[2022-11-17 14:01:12,663] [INFO] Set up nlp object from config\n",
            "INFO:spacy:Set up nlp object from config\n",
            "[2022-11-17 14:01:12,673] [INFO] Pipeline: ['textcat']\n",
            "INFO:spacy:Pipeline: ['textcat']\n",
            "[2022-11-17 14:01:12,677] [INFO] Created vocabulary\n",
            "INFO:spacy:Created vocabulary\n",
            "[2022-11-17 14:01:12,678] [INFO] Finished initializing nlp object\n",
            "INFO:spacy:Finished initializing nlp object\n",
            "tcmalloc: large alloc 1073750016 bytes == 0xbae26000 @  0x7f78e232f2a4 0x58ead6 0x441ff3 0x5d1f81 0x5d2306 0x58f62c 0x5105e2 0x58fd37 0x50ca37 0x58fd37 0x50ca37 0x4d01b4 0x50cb8d 0x4d01b4 0x50cb8d 0x4d01b4 0x7f778ccf47c6 0x4ba72b 0x7f778ccf2ce3 0x58f6e4 0x50ff13 0x5b575e 0x4bad0a 0x4d3249 0x591e56 0x50e18c 0x5b575e 0x58ff2e 0x50d482 0x5b575e 0x58ff2e\n",
            "tcmalloc: large alloc 2147491840 bytes == 0xfae28000 @  0x7f78e232f2a4 0x58ead6 0x441ff3 0x5d1f81 0x5d2306 0x58f62c 0x5105e2 0x58fd37 0x50ca37 0x58fd37 0x50ca37 0x4d01b4 0x50cb8d 0x4d01b4 0x50cb8d 0x4d01b4 0x7f778ccf47c6 0x4ba72b 0x7f778ccf2ce3 0x58f6e4 0x50ff13 0x5b575e 0x4bad0a 0x4d3249 0x591e56 0x50e18c 0x5b575e 0x58ff2e 0x50d482 0x5b575e 0x58ff2e\n",
            "tcmalloc: large alloc 2147491840 bytes == 0x17b71c000 @  0x7f78e232f2a4 0x58ead6 0x441ff3 0x5d1f81 0x5d2306 0x58f62c 0x5105e2 0x58fd37 0x50ca37 0x58fd37 0x50ca37 0x4d01b4 0x50cb8d 0x4d01b4 0x50cb8d 0x4d01b4 0x50cb8d 0x58fd37 0x50ca37 0x5b575e 0x4bad0a 0x4d3249 0x591e56 0x50e18c 0x5b575e 0x58ff2e 0x50d482 0x5b575e 0x58ff2e 0x50d482 0x5b575e\n",
            "tcmalloc: large alloc 2147491840 bytes == 0xc2f6a000 @  0x7f78e232f2a4 0x58ead6 0x441ff3 0x5d1f81 0x5d2306 0x58f62c 0x5105e2 0x58fd37 0x50ca37 0x58fd37 0x50ca37 0x4d01b4 0x50cb8d 0x4d01b4 0x50cb8d 0x4d01b4 0x50cb8d 0x5b575e 0x4bad0a 0x4d3249 0x591e56 0x50e18c 0x5b575e 0x58ff2e 0x50d482 0x5b575e 0x58ff2e 0x50d482 0x5b575e 0x58ff2e 0x50d482\n",
            "tcmalloc: large alloc 2147491840 bytes == 0xc2f6a000 @  0x7f78e232f2a4 0x58ead6 0x441ff3 0x5d1f81 0x5d2306 0x58f62c 0x5105e2 0x58fd37 0x50ca37 0x58fd37 0x50ca37 0x4d01b4 0x50cb8d 0x4d01b4 0x50cb8d 0x4d01b4 0x4dd836 0x5a04c4 0x5a2ed4 0x5909f6 0x510280 0x5b575e 0x4bad0a 0x4d3249 0x591e56 0x50e18c 0x5b575e 0x58ff2e 0x50d482 0x5b575e 0x58ff2e\n",
            "[2022-11-17 14:04:26,964] [INFO] Initialized pipeline components: ['textcat']\n",
            "INFO:spacy:Initialized pipeline components: ['textcat']\n",
            "\u001b[38;5;2m✔ Initialized pipeline\u001b[0m\n",
            "\u001b[1m\n",
            "============================= Training pipeline =============================\u001b[0m\n",
            "\u001b[38;5;4mℹ Pipeline: ['textcat']\u001b[0m\n",
            "\u001b[38;5;4mℹ Initial learn rate: 0.0\u001b[0m\n",
            "E    #       LOSS TEXTCAT  CATS_SCORE  SCORE \n",
            "---  ------  ------------  ----------  ------\n",
            "tcmalloc: large alloc 2147491840 bytes == 0xc2f6a000 @  0x7f78e232f2a4 0x58ead6 0x441ff3 0x5d1f81 0x5d2306 0x58f62c 0x5105e2 0x58fd37 0x50ca37 0x58fd37 0x50ca37 0x4d01b4 0x50cb8d 0x4d01b4 0x50cb8d 0x4d01b4 0x5a04c4 0x5a2ed4 0x5909f6 0x510280 0x4d01b4 0x4d0b64 0x50cb8d 0x4d01b4 0x50cb8d 0x5b575e 0x58ff2e 0x50d482 0x5b575e 0x58ff2e 0x50d482\n",
            "  0       0          0.11        0.00    0.00\n",
            "  0     200         28.48        0.11    0.00\n",
            "  0     400         31.66        3.98    0.04\n",
            "  0     600         27.34        1.51    0.02\n",
            "  0     800         26.26        5.15    0.05\n",
            "  0    1000         27.39        5.75    0.06\n",
            "  0    1200         28.59        8.21    0.08\n",
            "  0    1400         23.59        9.58    0.10\n",
            "  0    1600         29.39       12.95    0.13\n",
            "  0    1800         24.31        9.40    0.09\n",
            "  0    2000         27.88       13.82    0.14\n",
            "  0    2200         21.16       15.08    0.15\n",
            "  0    2400         27.72       15.56    0.16\n",
            "  0    2600         21.42       16.32    0.16\n",
            "  0    2800         27.78       15.10    0.15\n",
            "  0    3000         21.91       16.79    0.17\n",
            "  0    3200         25.05       19.07    0.19\n",
            "  0    3400         21.04       20.25    0.20\n",
            "  0    3600         26.71       20.74    0.21\n",
            "  0    3800         22.02       20.42    0.20\n",
            "  0    4000         24.32       21.15    0.21\n",
            "  0    4200         23.14       19.81    0.20\n",
            "  0    4400         23.17       20.38    0.20\n",
            "  0    4600         22.62       18.74    0.19\n",
            "  0    4800         24.68       21.06    0.21\n",
            "  0    5000         22.42       21.04    0.21\n",
            "  0    5200         22.83       22.75    0.23\n",
            "  0    5400         21.36       22.31    0.22\n",
            "  0    5600         21.56       22.35    0.22\n",
            "  0    5800         24.16       22.67    0.23\n",
            "  0    6000         21.11       23.31    0.23\n",
            "  0    6200         26.65       22.92    0.23\n",
            "  0    6400         19.61       23.42    0.23\n",
            "  0    6600         24.98       24.14    0.24\n",
            "  1    6800         18.86       24.81    0.25\n",
            "  1    7000         16.73       23.44    0.23\n",
            "  1    7200         18.59       24.11    0.24\n",
            "  1    7400         17.05       23.74    0.24\n",
            "  1    7600         15.59       24.22    0.24\n",
            "  1    7800         16.42       24.76    0.25\n",
            "  1    8000         17.20       25.79    0.26\n",
            "  1    8200         17.80       24.62    0.25\n",
            "  1    8400         17.22       25.60    0.26\n",
            "  1    8600         19.34       25.24    0.25\n",
            "  1    8800         15.06       24.87    0.25\n",
            "  1    9000         20.45       25.53    0.26\n",
            "  1    9200         14.07       25.63    0.26\n",
            "  1    9400         17.10       26.17    0.26\n",
            "  1    9600         13.91       24.88    0.25\n",
            "  1    9800         18.02       25.35    0.25\n",
            "  1   10000         15.23       26.88    0.27\n",
            "  1   10200         17.82       25.50    0.26\n",
            "  1   10400         14.64       25.67    0.26\n",
            "  1   10600         20.14       26.41    0.26\n",
            "  1   10800         15.05       26.72    0.27\n",
            "  1   11000         18.06       27.45    0.27\n",
            "  1   11200         14.01       27.17    0.27\n",
            "  1   11400         15.16       26.77    0.27\n",
            "  1   11600         14.53       27.05    0.27\n",
            "  1   11800         16.89       27.13    0.27\n",
            "  1   12000         15.45       27.39    0.27\n",
            "  1   12200         18.80       26.90    0.27\n",
            "  1   12400         13.67       27.34    0.27\n",
            "  1   12600         15.30       27.53    0.28\n",
            "  1   12800         17.96       27.54    0.28\n",
            "  1   13000         14.57       27.94    0.28\n",
            "  1   13200         16.97       28.22    0.28\n",
            "  2   13400         14.79       28.46    0.28\n",
            "  2   13600         11.89       27.91    0.28\n",
            "  2   13800         16.11       27.92    0.28\n",
            "  2   14000         11.62       27.76    0.28\n",
            "  2   14200         15.26       28.29    0.28\n",
            "  2   14400         11.11       28.28    0.28\n",
            "  2   14600         14.00       27.72    0.28\n",
            "  2   14800         10.32       28.15    0.28\n",
            "  2   15000         15.55       28.70    0.29\n",
            "  2   15200         10.56       28.43    0.28\n",
            "  2   15400         15.80       28.58    0.29\n",
            "  2   15600         10.94       28.63    0.29\n",
            "  2   15800         16.08       28.41    0.28\n",
            "  2   16000         10.40       28.67    0.29\n",
            "  2   16200         14.04       28.55    0.29\n",
            "  2   16400         11.47       28.63    0.29\n",
            "  2   16600         15.66       28.47    0.28\n",
            "\u001b[38;5;2m✔ Saved pipeline to output directory\u001b[0m\n",
            "/content/drive/MyDrive/data/output_textcat_phase_04/model-last\n"
          ]
        }
      ]
    },
    {
      "cell_type": "code",
      "source": [
        "import spacy\n",
        "nlp = spacy.load(\"/content/drive/MyDrive/data/output_textcat_phase_04/model-best\")"
      ],
      "metadata": {
        "id": "beqb5ctemjgM"
      },
      "id": "beqb5ctemjgM",
      "execution_count": 19,
      "outputs": []
    },
    {
      "cell_type": "code",
      "source": [
        "df_val = df_annotations[df_annotations.train_val==\"val\"]"
      ],
      "metadata": {
        "id": "vWTmP_yEJL87"
      },
      "id": "vWTmP_yEJL87",
      "execution_count": 21,
      "outputs": []
    },
    {
      "cell_type": "code",
      "execution_count": 22,
      "metadata": {
        "id": "3d106a6e"
      },
      "outputs": [],
      "source": [
        "predictions = []\n",
        "for idx in range(len(df_val)):\n",
        "    doc = nlp(df_val.text.apply(str).iloc[idx])\n",
        "    predictions.append(doc.cats)"
      ],
      "id": "3d106a6e"
    },
    {
      "cell_type": "code",
      "execution_count": 24,
      "metadata": {
        "id": "fcff782f",
        "colab": {
          "base_uri": "https://localhost:8080/"
        },
        "outputId": "75294294-74cf-40fd-c865-bf72eba01abf"
      },
      "outputs": [
        {
          "output_type": "stream",
          "name": "stderr",
          "text": [
            "/usr/local/lib/python3.7/dist-packages/ipykernel_launcher.py:1: SettingWithCopyWarning: \n",
            "A value is trying to be set on a copy of a slice from a DataFrame.\n",
            "Try using .loc[row_indexer,col_indexer] = value instead\n",
            "\n",
            "See the caveats in the documentation: https://pandas.pydata.org/pandas-docs/stable/user_guide/indexing.html#returning-a-view-versus-a-copy\n",
            "  \"\"\"Entry point for launching an IPython kernel.\n"
          ]
        }
      ],
      "source": [
        "df_val[\"y_pred_phase\"] = [max(p, key=p.get) for p in predictions]"
      ],
      "id": "fcff782f"
    },
    {
      "cell_type": "code",
      "source": [
        "pred_phase = df_val[\"y_pred_phase\"]"
      ],
      "metadata": {
        "id": "ZlUaqG_6FqEs"
      },
      "id": "ZlUaqG_6FqEs",
      "execution_count": 25,
      "outputs": []
    },
    {
      "cell_type": "code",
      "execution_count": 26,
      "metadata": {
        "id": "91311d34",
        "colab": {
          "base_uri": "https://localhost:8080/"
        },
        "outputId": "890c92aa-57d1-44b9-b93f-fa3c4d516738"
      },
      "outputs": [
        {
          "output_type": "stream",
          "name": "stdout",
          "text": [
            "Phase accuracy 0.5298013245033113\n"
          ]
        }
      ],
      "source": [
        "acc = accuracy_score(df_val.phase, df_val[\"y_pred_phase\"])\n",
        "print (f\"Phase accuracy {acc}\")"
      ],
      "id": "91311d34"
    },
    {
      "cell_type": "code",
      "execution_count": 27,
      "metadata": {
        "id": "b620ed04",
        "colab": {
          "base_uri": "https://localhost:8080/",
          "height": 369
        },
        "outputId": "3564fc32-6e60-4143-a7b9-669914d553f5"
      },
      "outputs": [
        {
          "output_type": "execute_result",
          "data": {
            "text/plain": [
              "''"
            ],
            "application/vnd.google.colaboratory.intrinsic+json": {
              "type": "string"
            }
          },
          "metadata": {},
          "execution_count": 27
        },
        {
          "output_type": "display_data",
          "data": {
            "text/plain": [
              "<Figure size 432x288 with 2 Axes>"
            ],
            "image/png": "[encoded data removed]"
          },
          "metadata": {
            "needs_background": "light"
          }
        }
      ],
      "source": [
        "ConfusionMatrixDisplay.from_predictions(df_val.phase, df_val[\"y_pred_phase\"])\n",
        "plt.xticks(rotation=90)\n",
        ";"
      ],
      "id": "b620ed04"
    },
    {
      "cell_type": "code",
      "execution_count": 28,
      "metadata": {
        "id": "84b0d6cd",
        "colab": {
          "base_uri": "https://localhost:8080/"
        },
        "outputId": "b63041e9-3714-434f-9cf6-91df6b17f43f"
      },
      "outputs": [
        {
          "output_type": "stream",
          "name": "stdout",
          "text": [
            "Phase ROC AUC 0.6317418213969939 for Early Phase 1\n",
            "Phase ROC AUC 0.7959833139809918 for Not Applicable\n",
            "Phase ROC AUC 0.8760439839206962 for Phase 1\n",
            "Phase ROC AUC 0.7666624106230848 for Phase 1/Phase 2\n",
            "Phase ROC AUC 0.7668323836475582 for Phase 2\n",
            "Phase ROC AUC 0.700685405269446 for Phase 2/Phase 3\n",
            "Phase ROC AUC 0.8337558153405703 for Phase 3\n",
            "Phase ROC AUC 0.8360186179735053 for Phase 4\n",
            "Average 0.7759654690191058\n"
          ]
        }
      ],
      "source": [
        "all_aucs = []\n",
        "from sklearn.metrics import roc_auc_score\n",
        "for phase in labels:\n",
        "  roc_auc = roc_auc_score(df_val.phase == phase, [p[phase] for p in predictions])\n",
        "  print (f\"Phase ROC AUC {roc_auc} for {phase}\")\n",
        "  all_aucs.append(roc_auc)\n",
        "print (\"Average\", np.mean(all_aucs))"
      ],
      "id": "84b0d6cd"
    },
    {
      "cell_type": "code",
      "source": [
        "plt.figure()\n",
        "lw = 2\n",
        "    \n",
        "for phase in labels:\n",
        "    fpr, tpr, _ = roc_curve(df_val.phase == phase, [p[phase] for p in predictions])\n",
        "    roc_auc = auc(fpr, tpr)\n",
        "    plt.plot(\n",
        "        fpr,\n",
        "        tpr,\n",
        "        # color=\"darkorange\",\n",
        "        lw=lw,\n",
        "        label=f\"ROC curve {phase} (area = {roc_auc:0.2f})\"\n",
        "    )\n",
        "    plt.plot([0, 1], [0, 1], color=\"gray\", alpha=0.5, lw=lw, linestyle=\"--\")\n",
        "plt.xlim([0.0, 1.0])\n",
        "plt.ylim([0.0, 1.05])\n",
        "plt.xlabel(\"False Positive Rate\")\n",
        "plt.ylabel(\"True Positive Rate\")\n",
        "plt.title(\"Receiver operating characteristic example\")\n",
        "plt.legend(loc=\"lower right\")\n",
        "plt.show()"
      ],
      "metadata": {
        "id": "MMUw1gpToQxh",
        "colab": {
          "base_uri": "https://localhost:8080/",
          "height": 295
        },
        "outputId": "7bbc7b18-83b1-4f66-fa76-c282228dca21"
      },
      "id": "MMUw1gpToQxh",
      "execution_count": 29,
      "outputs": [
        {
          "output_type": "display_data",
          "data": {
            "text/plain": [
              "<Figure size 432x288 with 1 Axes>"
            ],
            "image/png": "[encoded data removed]"
          },
          "metadata": {
            "needs_background": "light"
          }
        }
      ]
    },
    {
      "cell_type": "code",
      "source": [],
      "metadata": {
        "id": "EcelKkER4cjk"
      },
      "id": "EcelKkER4cjk",
      "execution_count": null,
      "outputs": []
    }
  ],
  "metadata": {
    "colab": {
      "provenance": [],
      "machine_shape": "hm",
      "include_colab_link": true
    },
    "kernelspec": {
      "display_name": "Python [conda env:py310] *",
      "language": "python",
      "name": "conda-env-py310-py"
    },
    "language_info": {
      "codemirror_mode": {
        "name": "ipython",
        "version": 3
      },
      "file_extension": ".py",
      "mimetype": "text/x-python",
      "name": "python",
      "nbconvert_exporter": "python",
      "pygments_lexer": "ipython3",
      "version": "3.10.4"
    },
    "gpuClass": "premium",
    "accelerator": "GPU"
  },
  "nbformat": 4,
  "nbformat_minor": 5
}