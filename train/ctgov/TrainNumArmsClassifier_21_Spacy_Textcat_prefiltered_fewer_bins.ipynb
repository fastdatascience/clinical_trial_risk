{
  "cells": [
    {
      "cell_type": "markdown",
      "metadata": {
        "id": "view-in-github",
        "colab_type": "text"
      },
      "source": [
        "<a href=\"https://colab.research.google.com/github/fastdatascience/clinical_trial_risk/blob/fixes_nov_2022/train/ctgov/TrainNumArmsClassifier_21_Spacy_Textcat_prefiltered_fewer_bins.ipynb\" target=\"_parent\"><img src=\"https://colab.research.google.com/assets/colab-badge.svg\" alt=\"Open In Colab\"/></a>"
      ]
    },
    {
      "cell_type": "code",
      "execution_count": null,
      "id": "0557d6c8",
      "metadata": {
        "id": "0557d6c8"
      },
      "outputs": [],
      "source": [
        "import spacy\n",
        "import pandas as pd\n",
        "import re\n",
        "import os\n",
        "import sys\n",
        "import pickle as pkl\n",
        "import seaborn as sns\n",
        "from sklearn.metrics import accuracy_score, confusion_matrix\n",
        "from sklearn.metrics import ConfusionMatrixDisplay\n",
        "from sklearn.metrics import mean_absolute_error, mean_squared_error\n",
        "from sklearn.metrics import roc_auc_score\n",
        "from sklearn.metrics import roc_curve, auc\n",
        "from IPython.display import display\n",
        "import matplotlib.pyplot as plt\n",
        "import numpy as np\n",
        "import json\n",
        "\n"
      ]
    },
    {
      "cell_type": "code",
      "source": [
        "from google.colab import drive\n",
        "drive.mount('/content/drive')"
      ],
      "metadata": {
        "colab": {
          "base_uri": "https://localhost:8080/"
        },
        "id": "mG8gR8O6QXgX",
        "outputId": "aec981e9-f43d-44e9-e497-1433007f4843"
      },
      "id": "mG8gR8O6QXgX",
      "execution_count": null,
      "outputs": [
        {
          "output_type": "stream",
          "name": "stdout",
          "text": [
            "Mounted at /content/drive\n"
          ]
        }
      ]
    },
    {
      "cell_type": "code",
      "source": [
        "import pandas as pd\n",
        "df_annotations = pd.read_csv(\"/content/drive/MyDrive/data/filtered_for_phase_arms_subjects.csv.bz2\")"
      ],
      "metadata": {
        "id": "HyXyGuD_P6s7"
      },
      "id": "HyXyGuD_P6s7",
      "execution_count": null,
      "outputs": []
    },
    {
      "cell_type": "markdown",
      "id": "4b2e7a73",
      "metadata": {
        "id": "4b2e7a73"
      },
      "source": [
        "# Get data"
      ]
    },
    {
      "cell_type": "code",
      "execution_count": null,
      "id": "9fbe5bf0",
      "metadata": {
        "id": "9fbe5bf0",
        "scrolled": true
      },
      "outputs": [],
      "source": [
        "df_annotations = df_annotations[~df_annotations.num_arms.isna()]"
      ]
    },
    {
      "cell_type": "code",
      "execution_count": null,
      "id": "cfac2830",
      "metadata": {
        "id": "cfac2830",
        "colab": {
          "base_uri": "https://localhost:8080/"
        },
        "outputId": "4cb95887-e347-49c6-f6a8-e4c2d51ca77f"
      },
      "outputs": [
        {
          "output_type": "execute_result",
          "data": {
            "text/plain": [
              "2.0     5228\n",
              "1.0     3086\n",
              "3.0     1456\n",
              "4.0      908\n",
              "5.0      315\n",
              "6.0      251\n",
              "7.0       83\n",
              "8.0       80\n",
              "9.0       58\n",
              "10.0      31\n",
              "12.0      27\n",
              "11.0      17\n",
              "13.0      10\n",
              "14.0       8\n",
              "15.0       7\n",
              "18.0       5\n",
              "16.0       4\n",
              "20.0       3\n",
              "17.0       3\n",
              "23.0       2\n",
              "21.0       2\n",
              "29.0       1\n",
              "19.0       1\n",
              "34.0       1\n",
              "38.0       1\n",
              "30.0       1\n",
              "40.0       1\n",
              "22.0       1\n",
              "Name: num_arms, dtype: int64"
            ]
          },
          "metadata": {},
          "execution_count": 5
        }
      ],
      "source": [
        "df_annotations[\"num_arms\"].value_counts()"
      ]
    },
    {
      "cell_type": "code",
      "source": [
        "import numpy as np\n",
        "for i in np.quantile(df_annotations[\"num_arms\"], [0, 0.2, 0.4, 0.6, 0.8, 1]):\n",
        "  print (int(np.float(i)))"
      ],
      "metadata": {
        "colab": {
          "base_uri": "https://localhost:8080/"
        },
        "id": "yKJyat3PSVkm",
        "outputId": "a9bde510-8129-422d-ffe2-ad5c5d1ede4e"
      },
      "id": "yKJyat3PSVkm",
      "execution_count": null,
      "outputs": [
        {
          "output_type": "stream",
          "name": "stdout",
          "text": [
            "1\n",
            "1\n",
            "2\n",
            "2\n",
            "3\n",
            "40\n"
          ]
        },
        {
          "output_type": "stream",
          "name": "stderr",
          "text": [
            "/usr/local/lib/python3.7/dist-packages/ipykernel_launcher.py:3: DeprecationWarning: `np.float` is a deprecated alias for the builtin `float`. To silence this warning, use `float` by itself. Doing this will not modify any behavior and is safe. If you specifically wanted the numpy scalar type, use `np.float64` here.\n",
            "Deprecated in NumPy 1.20; for more details and guidance: https://numpy.org/devdocs/release/1.20.0-notes.html#deprecations\n",
            "  This is separate from the ipykernel package so we can avoid doing imports until\n"
          ]
        }
      ]
    },
    {
      "cell_type": "code",
      "source": [
        "def get_num_arms_clean(num):\n",
        "    if pd.isna(num):\n",
        "        return None\n",
        "    if num >= 3:\n",
        "        return \"3+\"\n",
        "    return str(int(num))\n",
        "df_annotations[\"num_arms_clean\"] = df_annotations[\"num_arms\"].apply(get_num_arms_clean)"
      ],
      "metadata": {
        "id": "EhFnhl7tNHeb"
      },
      "id": "EhFnhl7tNHeb",
      "execution_count": null,
      "outputs": []
    },
    {
      "cell_type": "code",
      "execution_count": null,
      "id": "068abf18",
      "metadata": {
        "id": "068abf18",
        "colab": {
          "base_uri": "https://localhost:8080/"
        },
        "outputId": "1c823b8b-5b83-4010-b16a-7964cb285479"
      },
      "outputs": [
        {
          "output_type": "execute_result",
          "data": {
            "text/plain": [
              "2     5228\n",
              "3+    3277\n",
              "1     3086\n",
              "Name: num_arms_clean, dtype: int64"
            ]
          },
          "metadata": {},
          "execution_count": 8
        }
      ],
      "source": [
        "df_annotations[\"num_arms_clean\"].value_counts()"
      ]
    },
    {
      "cell_type": "code",
      "source": [
        "labels = list(sorted(set(df_annotations[\"num_arms_clean\"]), key =lambda x : int(re.sub(r'\\D.*', '', x))))\n",
        "labels"
      ],
      "metadata": {
        "colab": {
          "base_uri": "https://localhost:8080/"
        },
        "id": "tg_Q5ZLIGknP",
        "outputId": "161c311e-df09-4c6b-b949-0a264d9c9637"
      },
      "id": "tg_Q5ZLIGknP",
      "execution_count": null,
      "outputs": [
        {
          "output_type": "execute_result",
          "data": {
            "text/plain": [
              "['1', '2', '3+']"
            ]
          },
          "metadata": {},
          "execution_count": 9
        }
      ]
    },
    {
      "cell_type": "code",
      "source": [
        "import spacy\n",
        "nlp = spacy.blank(\"en\")\n",
        "from spacy.tokens import DocBin\n",
        "\n",
        "docs_train = []\n",
        "for i in range(10):\n",
        "  docs_train.append(DocBin())\n",
        "docs_val = DocBin()\n",
        "\n",
        "for idx in range(len(df_annotations)):\n",
        "  if idx % 100 == 0:\n",
        "    print (idx, len(df_annotations))\n",
        "  if df_annotations.train_val.iloc[idx] == \"train\":\n",
        "    docs_list = docs_train[idx % 10]\n",
        "  else:\n",
        "    docs_list = docs_val\n",
        "  text = str(df_annotations.text.iloc[idx])\n",
        "  if len(text) > 100000:\n",
        "      text = text[:100000]\n",
        "  doc = nlp(text)\n",
        "\n",
        "  cats = {}\n",
        "  for a in labels:\n",
        "      cats[a] = 0\n",
        "  if pd.isna(df_annotations.num_arms_clean.iloc[idx]):\n",
        "    continue\n",
        "  cats[df_annotations.num_arms_clean.iloc[idx]] = 1\n",
        "  doc.cats = cats\n",
        "\n",
        "  docs_list.add(doc)"
      ],
      "metadata": {
        "colab": {
          "base_uri": "https://localhost:8080/"
        },
        "id": "8YqH-b1AHVRy",
        "outputId": "1d9960d9-cc24-4f36-fc38-bcc039339c72"
      },
      "id": "8YqH-b1AHVRy",
      "execution_count": null,
      "outputs": [
        {
          "output_type": "stream",
          "name": "stdout",
          "text": [
            "0 11591\n",
            "100 11591\n",
            "200 11591\n",
            "300 11591\n",
            "400 11591\n",
            "500 11591\n",
            "600 11591\n",
            "700 11591\n",
            "800 11591\n",
            "900 11591\n",
            "1000 11591\n",
            "1100 11591\n",
            "1200 11591\n",
            "1300 11591\n",
            "1400 11591\n",
            "1500 11591\n",
            "1600 11591\n",
            "1700 11591\n",
            "1800 11591\n",
            "1900 11591\n",
            "2000 11591\n",
            "2100 11591\n",
            "2200 11591\n",
            "2300 11591\n",
            "2400 11591\n",
            "2500 11591\n",
            "2600 11591\n",
            "2700 11591\n",
            "2800 11591\n",
            "2900 11591\n",
            "3000 11591\n",
            "3100 11591\n",
            "3200 11591\n",
            "3300 11591\n",
            "3400 11591\n",
            "3500 11591\n",
            "3600 11591\n",
            "3700 11591\n",
            "3800 11591\n",
            "3900 11591\n",
            "4000 11591\n",
            "4100 11591\n",
            "4200 11591\n",
            "4300 11591\n",
            "4400 11591\n",
            "4500 11591\n",
            "4600 11591\n",
            "4700 11591\n",
            "4800 11591\n",
            "4900 11591\n",
            "5000 11591\n",
            "5100 11591\n",
            "5200 11591\n",
            "5300 11591\n",
            "5400 11591\n",
            "5500 11591\n",
            "5600 11591\n",
            "5700 11591\n",
            "5800 11591\n",
            "5900 11591\n",
            "6000 11591\n",
            "6100 11591\n",
            "6200 11591\n",
            "6300 11591\n",
            "6400 11591\n",
            "6500 11591\n",
            "6600 11591\n",
            "6700 11591\n",
            "6800 11591\n",
            "6900 11591\n",
            "7000 11591\n",
            "7100 11591\n",
            "7200 11591\n",
            "7300 11591\n",
            "7400 11591\n",
            "7500 11591\n",
            "7600 11591\n",
            "7700 11591\n",
            "7800 11591\n",
            "7900 11591\n",
            "8000 11591\n",
            "8100 11591\n",
            "8200 11591\n",
            "8300 11591\n",
            "8400 11591\n",
            "8500 11591\n",
            "8600 11591\n",
            "8700 11591\n",
            "8800 11591\n",
            "8900 11591\n",
            "9000 11591\n",
            "9100 11591\n",
            "9200 11591\n",
            "9300 11591\n",
            "9400 11591\n",
            "9500 11591\n",
            "9600 11591\n",
            "9700 11591\n",
            "9800 11591\n",
            "9900 11591\n",
            "10000 11591\n",
            "10100 11591\n",
            "10200 11591\n",
            "10300 11591\n",
            "10400 11591\n",
            "10500 11591\n",
            "10600 11591\n",
            "10700 11591\n",
            "10800 11591\n",
            "10900 11591\n",
            "11000 11591\n",
            "11100 11591\n",
            "11200 11591\n",
            "11300 11591\n",
            "11400 11591\n",
            "11500 11591\n"
          ]
        }
      ]
    },
    {
      "cell_type": "code",
      "source": [
        "!mkdir train.spacy\n",
        "!mkdir /content/drive/MyDrive/data/arms_21_train.spacy\n"
      ],
      "metadata": {
        "id": "9gLDu1qFTxls",
        "colab": {
          "base_uri": "https://localhost:8080/"
        },
        "outputId": "189babfb-13e0-496c-af74-949c863c3f9a"
      },
      "id": "9gLDu1qFTxls",
      "execution_count": null,
      "outputs": [
        {
          "output_type": "stream",
          "name": "stdout",
          "text": [
            "mkdir: cannot create directory ‘/content/drive/MyDrive/data/arms_21_train.spacy’: File exists\n"
          ]
        }
      ]
    },
    {
      "cell_type": "code",
      "source": [
        "for idx, doc_bin_train in enumerate(docs_train):\n",
        "  doc_bin_train.to_disk(f\"train.spacy/train_doc_bin{idx}.spacy\")\n",
        "  doc_bin_train.to_disk(f\"/content/drive/MyDrive/data/arms_21_train.spacy/train_doc_bin{idx}.spacy\")"
      ],
      "metadata": {
        "id": "EhS_f_Z3TsRG"
      },
      "id": "EhS_f_Z3TsRG",
      "execution_count": null,
      "outputs": []
    },
    {
      "cell_type": "code",
      "source": [
        "!ls /content/drive/MyDrive/data/arms_21_train.spacy"
      ],
      "metadata": {
        "colab": {
          "base_uri": "https://localhost:8080/"
        },
        "id": "L6llzX4NVxT6",
        "outputId": "cb5eb4a4-dac1-47c5-9894-e1c71735ba9e"
      },
      "id": "L6llzX4NVxT6",
      "execution_count": null,
      "outputs": [
        {
          "output_type": "stream",
          "name": "stdout",
          "text": [
            "train_doc_bin0.spacy  train_doc_bin4.spacy  train_doc_bin8.spacy\n",
            "train_doc_bin1.spacy  train_doc_bin5.spacy  train_doc_bin9.spacy\n",
            "train_doc_bin2.spacy  train_doc_bin6.spacy\n",
            "train_doc_bin3.spacy  train_doc_bin7.spacy\n"
          ]
        }
      ]
    },
    {
      "cell_type": "code",
      "source": [
        "docs_val.to_disk(\"dev.spacy\")"
      ],
      "metadata": {
        "id": "Ld9Qv0nuQ_V1"
      },
      "id": "Ld9Qv0nuQ_V1",
      "execution_count": null,
      "outputs": []
    },
    {
      "cell_type": "code",
      "source": [
        "docs_val.to_disk(\"/content/drive/MyDrive/data/arms_21_dev.spacy\")"
      ],
      "metadata": {
        "id": "YkMG6YPeRB2i"
      },
      "id": "YkMG6YPeRB2i",
      "execution_count": null,
      "outputs": []
    },
    {
      "cell_type": "code",
      "source": [
        "from google.colab import runtime\n",
        "runtime.unassign()"
      ],
      "metadata": {
        "id": "igcVHYI1-sbT"
      },
      "id": "igcVHYI1-sbT",
      "execution_count": null,
      "outputs": []
    },
    {
      "cell_type": "code",
      "source": [
        "%%javascript\n",
        "Jupyter.notebook.session.delete();"
      ],
      "metadata": {
        "id": "uiLJ6Bie-3sk"
      },
      "id": "uiLJ6Bie-3sk",
      "execution_count": null,
      "outputs": []
    },
    {
      "cell_type": "code",
      "execution_count": null,
      "id": "6b88f1c9",
      "metadata": {
        "id": "6b88f1c9"
      },
      "outputs": [],
      "source": [
        "!python -m spacy train /content/drive/MyDrive/data/spacy_textcat_is_international_11.cfg --output /content/drive/MyDrive/data/output_arms_21 --paths.train /content/drive/MyDrive/data/arms_21_train.spacy --paths.dev  /content/drive/MyDrive/data/arms_21_dev.spacy --gpu-id 0"
      ]
    },
    {
      "cell_type": "code",
      "source": [
        "import spacy\n",
        "nlp = spacy.load(\"/content/drive/MyDrive/data/output_arms_21/model-best\")"
      ],
      "metadata": {
        "id": "RA18XmbkRge_"
      },
      "id": "RA18XmbkRge_",
      "execution_count": null,
      "outputs": []
    },
    {
      "cell_type": "code",
      "source": [
        "df_val = df_annotations[df_annotations.train_val==\"val\"]\n",
        "\n",
        "predictions = []\n",
        "for idx in range(len(df_val)):\n",
        "    doc = nlp(df_val.text.apply(str).iloc[idx])\n",
        "    predictions.append(doc.cats)"
      ],
      "metadata": {
        "id": "i6kKqURLRmk4"
      },
      "id": "i6kKqURLRmk4",
      "execution_count": null,
      "outputs": []
    },
    {
      "cell_type": "code",
      "source": [
        "# pred_proba = []\n",
        "# for idx in range(len(df_val)):\n",
        "#     pred_proba.append([predictions[idx][a] for a in range(num_classes)])"
      ],
      "metadata": {
        "id": "sh2k1WwZRqqn"
      },
      "id": "sh2k1WwZRqqn",
      "execution_count": null,
      "outputs": []
    },
    {
      "cell_type": "code",
      "source": [
        "predictions = []\n",
        "for idx in range(len(df_val)):\n",
        "    doc = nlp(df_val.text.apply(str).iloc[idx])\n",
        "    predictions.append(doc.cats)"
      ],
      "metadata": {
        "id": "WzVdvY9tR84X"
      },
      "id": "WzVdvY9tR84X",
      "execution_count": null,
      "outputs": []
    },
    {
      "cell_type": "code",
      "execution_count": null,
      "id": "68ebd9f0",
      "metadata": {
        "id": "68ebd9f0",
        "scrolled": true
      },
      "outputs": [],
      "source": [
        "df_val[\"y_pred\"] = [max(p, key=p.get) for p in predictions]"
      ]
    },
    {
      "cell_type": "code",
      "execution_count": null,
      "id": "118aef49",
      "metadata": {
        "id": "118aef49"
      },
      "outputs": [],
      "source": [
        "num_arms_ground_truths = df_val.num_arms_clean\n",
        "pred_num_arms = df_val[\"y_pred\"]"
      ]
    },
    {
      "cell_type": "code",
      "execution_count": null,
      "id": "73495a5c",
      "metadata": {
        "id": "73495a5c"
      },
      "outputs": [],
      "source": [
        "acc = accuracy_score(num_arms_ground_truths, pred_num_arms)\n",
        "print (f\"Num arms accuracy {acc}\")"
      ]
    },
    {
      "cell_type": "code",
      "execution_count": null,
      "id": "775ae91e",
      "metadata": {
        "id": "775ae91e"
      },
      "outputs": [],
      "source": [
        "ConfusionMatrixDisplay.from_predictions(num_arms_ground_truths, pred_num_arms, labels=labels)\n",
        "plt.xticks(rotation=90)\n",
        ";"
      ]
    },
    {
      "cell_type": "code",
      "execution_count": null,
      "id": "16527f52",
      "metadata": {
        "id": "16527f52"
      },
      "outputs": [],
      "source": [
        "all_aucs = []\n",
        "from sklearn.metrics import roc_auc_score\n",
        "for i in labels:\n",
        "  roc_auc = roc_auc_score(num_arms_ground_truths == i, [p[i] for p in predictions])\n",
        "  print (f\"Num arms ROC AUC {roc_auc} for {i} arms\")\n",
        "  all_aucs.append(roc_auc)\n",
        "print (\"Average\", np.mean(all_aucs))"
      ]
    },
    {
      "cell_type": "code",
      "source": [
        "plt.figure()\n",
        "lw = 2\n",
        "    \n",
        "for i in labels:\n",
        "    fpr, tpr, _ = roc_curve(num_arms_ground_truths == i, [p[i] for p in predictions])\n",
        "    roc_auc = auc(fpr, tpr)\n",
        "    plt.plot(\n",
        "        fpr,\n",
        "        tpr,\n",
        "        # color=\"darkorange\",\n",
        "        lw=lw,\n",
        "        label=f\"ROC curve {i} arms (area = {roc_auc:0.2f})\"\n",
        "    )\n",
        "    plt.plot([0, 1], [0, 1], color=\"gray\", alpha=0.5, lw=lw, linestyle=\"--\")\n",
        "plt.xlim([0.0, 1.0])\n",
        "plt.ylim([0.0, 1.05])\n",
        "plt.xlabel(\"False Positive Rate\")\n",
        "plt.ylabel(\"True Positive Rate\")\n",
        "plt.title(\"Receiver operating characteristic example\")\n",
        "plt.legend(loc=\"lower right\")\n",
        "plt.show()"
      ],
      "metadata": {
        "id": "bvS_8GcTMgCl"
      },
      "id": "bvS_8GcTMgCl",
      "execution_count": null,
      "outputs": []
    },
    {
      "cell_type": "code",
      "source": [],
      "metadata": {
        "id": "W7qDw2rgSHKj"
      },
      "id": "W7qDw2rgSHKj",
      "execution_count": null,
      "outputs": []
    }
  ],
  "metadata": {
    "colab": {
      "provenance": [],
      "machine_shape": "hm",
      "include_colab_link": true
    },
    "kernelspec": {
      "display_name": "Python [conda env:py310] *",
      "language": "python",
      "name": "conda-env-py310-py"
    },
    "language_info": {
      "codemirror_mode": {
        "name": "ipython",
        "version": 3
      },
      "file_extension": ".py",
      "mimetype": "text/x-python",
      "name": "python",
      "nbconvert_exporter": "python",
      "pygments_lexer": "ipython3",
      "version": "3.10.4"
    },
    "gpuClass": "standard"
  },
  "nbformat": 4,
  "nbformat_minor": 5
}