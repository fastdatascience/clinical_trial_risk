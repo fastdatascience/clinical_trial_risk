{
 "cells": [
  {
   "cell_type": "markdown",
   "id": "3fe820cd",
   "metadata": {
    "colab_type": "text",
    "id": "view-in-github"
   },
   "source": [
    "<a href=\"https://colab.research.google.com/github/fastdatascience/clinical_trial_risk/blob/fixes_nov_2022/train/ctgov/TrainNumArmsClassifier_23_NaiveBayes_predetermined_vocab.ipynb\" target=\"_parent\"><img src=\"https://colab.research.google.com/assets/colab-badge.svg\" alt=\"Open In Colab\"/></a>"
   ]
  },
  {
   "cell_type": "code",
   "execution_count": 1,
   "id": "0557d6c8",
   "metadata": {
    "id": "0557d6c8"
   },
   "outputs": [],
   "source": [
    "import spacy\n",
    "import pandas as pd\n",
    "import re\n",
    "import os\n",
    "import sys\n",
    "import pickle as pkl\n",
    "import seaborn as sns\n",
    "from sklearn.metrics import accuracy_score, confusion_matrix\n",
    "from sklearn.metrics import ConfusionMatrixDisplay\n",
    "from sklearn.metrics import mean_absolute_error, mean_squared_error\n",
    "from sklearn.metrics import roc_auc_score\n",
    "from sklearn.metrics import roc_curve, auc\n",
    "from IPython.display import display\n",
    "import matplotlib.pyplot as plt\n",
    "import numpy as np\n",
    "import json\n",
    "\n",
    "from nltk.corpus import stopwords\n",
    "from nltk.tokenize import RegexpTokenizer\n",
    "from sklearn.ensemble import RandomForestClassifier\n",
    "from sklearn.feature_extraction.text import CountVectorizer, TfidfTransformer\n",
    "from sklearn.metrics import accuracy_score, auc, roc_curve\n",
    "from sklearn.model_selection import cross_validate\n",
    "from sklearn.naive_bayes import MultinomialNB\n",
    "from sklearn.pipeline import make_pipeline"
   ]
  },
  {
   "cell_type": "code",
   "execution_count": 2,
   "id": "mG8gR8O6QXgX",
   "metadata": {
    "colab": {
     "base_uri": "https://localhost:8080/"
    },
    "id": "mG8gR8O6QXgX",
    "outputId": "a951e972-a3da-4fe1-fdf9-092bd1401331"
   },
   "outputs": [
    {
     "name": "stdout",
     "output_type": "stream",
     "text": [
      "Mounted at /content/drive\n"
     ]
    }
   ],
   "source": [
    "from google.colab import drive\n",
    "drive.mount('/content/drive')"
   ]
  },
  {
   "cell_type": "code",
   "execution_count": 3,
   "id": "HyXyGuD_P6s7",
   "metadata": {
    "id": "HyXyGuD_P6s7"
   },
   "outputs": [],
   "source": [
    "df_annotations = pd.read_csv(\"/content/drive/MyDrive/data/all_annotations.csv\")\n"
   ]
  },
  {
   "cell_type": "markdown",
   "id": "4b2e7a73",
   "metadata": {
    "id": "4b2e7a73"
   },
   "source": [
    "# Get data"
   ]
  },
  {
   "cell_type": "code",
   "execution_count": 4,
   "id": "pdjdb4_wYeyG",
   "metadata": {
    "id": "pdjdb4_wYeyG"
   },
   "outputs": [],
   "source": [
    "vocab = {\"cancer\",\"tumor\",\"ati\",\"carfilzomib\",\"hcc\",\"dose\",\"grade\",\"cell\",\"response\",\"df\",\"hcc\",\"trametinib\",\"tho\",\"riz\",\"pet\",\"ct\",\"relapsed\",\"cycle\",\"myeloma\",\"eisai\",\"reo\",\"lymphoma\",\"emtansine\",\"ctcae\",\"measurable\",\"trastuzumab\",\"gvhd\",\"stem\",\"ctep\",\"recist\",\"transplantation\",\"cell\",\"lung\",\"erlotinib\",\"everolimus\",\"gdc\",\"lenalidomide\",\"fludarabine\",\"fdg\",\"acalabrutinib\",\"bortezomib\",\"metastatic\",\"cytometry\",\"tumors\",\"cell\",\"lymphoma\",\"solid\",\"lesions\",\"lymph\",\"solid\",\"tumors\",\"mrd\",\"pazopanib\",\"oncol\",\"marrow\",\"bone\",\"marrow\",\"opy\",\"diameters\",\"cll\",\"refractory\",\"prostate\",\"cancer\",\"center\",\"cell\",\"transplantation\",\"relapsed\",\"refractory\",\"hodgkin\",\"advanced\",\"paclitaxel\",\"ark\",\"eti\",\"pli\",\"nci\",\"pembrolizumab\",\"nhl\",\"avelumab\",\"node\",\"multiple\",\"myeloma\",\"conditioning\",\"eti\",\"cooperative\",\"hpv\",\"toxicity\",\"sof\",\"ovarian\",\"donor\",\"ecog\",\"abt\",\"correlative\",\"neoadjuvant\",\"dlbcl\",\"ovarian\",\"cancer\",\"ucb\",\"carcinoma\",\"radiation\",\"adverse\",\"immune\",\"stem\",\"cell\",\"neutrophil\",\"autologous\",\"allogeneic\",\"oncology\",\"nodes\",\"capecitabine\",\"bevacizumab\",\"lymph\",\"nodes\",\"pd\",\"therapy\",\"rituximab\",\"gemcitabine\",\"leukemia\",\"limiting\",\"dose\",\"dose\",\"trastuzumab\",\"emtansine\",\"hla\",\"eisai\",\"final\",\"irinotecan\",\"progression\",\"hcv\",\"hct\",\"dsmc\",\"nab\",\"paclitaxel\",\"cmv\",\"monoclonal\",\"ipilimumab\",\"colorectal\",\"alfa\",\"progressive\",\"hematopoietic\",\"measurable\",\"lesions\",\"pd\",\"myeloid\",\"cells\",\"cyclophosphamide\",\"tyrosine\",\"cisplatin\",\"nab\",\"eastern\",\"her\",\"ctep\",\"cancer\",\"bmt\",\"aml\",\"spleen\",\"androgen\",\"stable\",\"disease\",\"measurable\",\"disease\",\"antitumor\",\"every\",\"grade\",\"survival\",\"locally\",\"advanced\",\"cu\",\"men\",\"phase\",\"progression\",\"free\",\"immune\",\"related\",\"eti\",\"ng\",\"partial\",\"response\",\"lesion\",\"osi\",\"nodal\",\"complete\",\"response\",\"flow\",\"cytometry\",\"rt\",\"alk\",\"target\",\"lesions\",\"tumor\",\"cells\",\"nsclc\",\"clin\",\"oncol\",\"aspirate\",\"small\",\"cell\",\"ctc\",\"permanently\",\"fdg\",\"pet\",\"melanoma\",\"stage\",\"pli\",\"ca\",\"bone\",\"unacceptable\",\"nk\",\"squamous\",\"consolidation\",\"alopecia\",\"radiation\",\"therapy\",\"prostate\",\"cancer\",\"cetuximab\",\"tumor\",\"response\",\"amgen\",\"metastases\",\"cit\",\"response\",\"cr\",\"mutations\",\"pneumonitis\",\"colorectal\",\"cancer\",\"ert\",\"progressive\",\"disease\",\"response\",\"criteria\",\"best\",\"response\",\"free\",\"survival\",\"staging\",\"ca\",\"tio\",\"sorafenib\",\"response\",\"rate\",\"radiotherapy\",\"transplant\",\"ion\",\"v\",\"longest\",\"metastasis\",\"ort\",\"tissue\",\"mds\",\"sum\",\"limiting\",\"toxicity\",\"anti\",\"pd\",\"unequivocal\",\"pn\",\"lung\",\"cancer\",\"imaging\",\"rt\",\"ny\",\"duration\",\"response\",\"ctcae\",\"grade\",\"anti\",\"tumor\",\"anc\",\"dose\",\"lung\",\"pd\",\"l\",\"ctsu\",\"dlts\",\"lymph\",\"node\",\"graft\",\"neutropenia\",\"breast\",\"nivolumab\",\"unacceptable\",\"toxicity\",\"response\",\"evaluation\",\"dose\",\"reductions\",\"anti\",\"cancer\",\"cytotoxic\",\"tremelimumab\",\"phase\",\"ii\",\"ct\",\"mri\",\"placebo\",\"randomized\",\"sars\",\"dapagliflozin\",\"nordisk\",\"blind\",\"visit\",\"icu\",\"diabetes\",\"analysis\",\"crit\",\"randomisation\",\"ncbi\",\"nlm\",\"ketamine\",\"postoperative\",\"mi\",\"randomization\",\"inferiority\",\"medical\",\"opioid\",\"hypoglycemia\",\"double\",\"matching\",\"prior\",\"randomization\",\"type\",\"crossover\",\"outcomes\",\"randomized\",\"controlled\",\"metformin\",\"matching\",\"placebo\",\"smoking\",\"atezolizumab\",\"antidepressant\",\"controlled\",\"intervention\",\"sided\",\"heart\",\"hospitalized\",\"related\",\"quality\",\"copd\",\"insulin\",\"randomized\",\"mellitus\",\"randomized\",\"placebo\",\"ancova\",\"stratified\",\"efficacy\",\"meta\",\"randomly\",\"ratio\",\"blind\",\"period\",\"discharge\",\"unblinding\",\"unblinded\",\"compared\",\"placebo\",\"analyses\",\"randomized\",\"double\",\"randomized\",\"receive\",\"standard\",\"care\",\"itt\",\"versus\",\"placebo\",\"diabetic\",\"dialysis\",\"blind\",\"placebo\",\"superiority\",\"medication\",\"side\",\"ci\",\"control\",\"compare\",\"random\",\"key\",\"secondary\",\"statistical\",\"randomised\",\"adverse\",\"systematic\",\"statistically\",\"standard\",\"allocated\",\"double\",\"blind\",\"morbidity\",\"placebo\",\"controlled\",\"block\",\"computer\",\"cox\",\"rank\",\"interim\",\"two\",\"scores\",\"procedures\",\"cf\",\"test\",\"hypothesis\",\"sample\",\"one\",\"affiliated\",\"endpoint\",\"monitoring\",\"board\",\"hipaa\",\"one\",\"two\",\"sided\",\"bias\",\"versus\",\"cv\",\"significance\",\"visit\",\"diabetes\",\"mellitus\",\"comparing\",\"recruited\",\"room\",\"surgery\",\"dysfunction\",\"qol\",\"outcome\",\"hb\",\"tr\",\"assumptions\",\"covariates\",\"coordinator\",\"comparator\",\"analysed\",\"prevalence\",\"endpoints\",\"events\",\"recruitment\",\"adverse\",\"effects\",\"statistician\",\"key\",\"feasibility\",\"parallel\",\"criteria\",\"measures\",\"sr\",\"benefit\",\"clinic\",\"effectiveness\",\"informed\",\"function\",\"regression\",\"secondary\",\"committee\",\"detect\",\"intent\",\"treat\",\"to\",\"blinding\",\"cross\",\"hazard\",\"ratio\",\"standard\",\"deviation\",\"hypotheses\",\"amendment\",\"final\",\"placebo\",\"visit\",\"redacted\",\"incorporating\",\"safety\",\"final\",\"triplicate\",\"randomisation\",\"stopping\",\"criteria\",\"schedule\",\"activities\",\"randomized\",\"amended\",\"version\",\"unblinded\",\"double\",\"analyses\",\"concentration\",\"curve\",\"tmax\",\"efficacy\",\"versus\",\"placebo\",\"dose\",\"escalation\",\"pharmacokinetic\",\"pharmacodynamic\",\"prior\",\"dosing\",\"adjudication\",\"randomization\",\"schedule\",\"procedures\",\"objectives\",\"endpoints\",\"strictly\",\"screening\",\"day\",\"samples\",\"may\",\"prior\",\"baseline\",\"social\",\"functional\",\"chemistry\",\"database\",\"lock\",\"exploratory\",\"termination\",\"visit\",\"dose\",\"administration\",\"exclusion\",\"criterion\",\"clinical\",\"tests\",\"follow\",\"assessments\",\"nonclinical\",\"adaptive\",\"randomly\",\"vendor\",\"emergent\",\"investigational\",\"products\",\"tolerability\",\"allocated\",\"bioavailability\",\"prior\",\"randomization\",\"clinical\",\"chemistry\",\"baseline\",\"value\",\"safety\",\"tolerability\",\"monotherapy\",\"starting\",\"dose\",\"reading\",\"interactive\",\"tables\",\"ideation\",\"schedule\",\"assessments\",\"blind\",\"placebo\",\"hypotheses\",\"follow\",\"visit\",\"randomized\",\"double\",\"secondary\",\"efficacy\",\"normalized\",\"ratio\",\"exploratory\",\"endpoints\",\"changes\",\"baseline\",\"efficacy\",\"endpoints\",\"crossover\",\"inferiority\",\"scheduled\",\"visits\",\"efficacy\",\"analysis\"}"
   ]
  },
  {
   "cell_type": "code",
   "execution_count": 5,
   "id": "B_ujycyl5_ig",
   "metadata": {
    "id": "B_ujycyl5_ig"
   },
   "outputs": [],
   "source": [
    "# import nltk\n",
    "# nltk.download('stopwords')"
   ]
  },
  {
   "cell_type": "code",
   "execution_count": 6,
   "id": "nAdPJr9a8QNM",
   "metadata": {
    "id": "nAdPJr9a8QNM"
   },
   "outputs": [],
   "source": [
    "# vocab = set(stopwords.words('english')).union(vocab)"
   ]
  },
  {
   "cell_type": "code",
   "execution_count": 7,
   "id": "Dyj4wdIw8YZ3",
   "metadata": {
    "id": "Dyj4wdIw8YZ3"
   },
   "outputs": [],
   "source": [
    "for w in \"arm\", \"group\", \"subgroup\", \"cohort\":\n",
    "  vocab.add(w)\n",
    "  vocab.add(w + \"s\")\n",
    "vocab.add(\"armed\")\n"
   ]
  },
  {
   "cell_type": "code",
   "execution_count": 8,
   "id": "KaXPDiVA8m_V",
   "metadata": {
    "id": "KaXPDiVA8m_V"
   },
   "outputs": [],
   "source": [
    "for w in \"one\", \"two\", \"three\", \"four\", \"five\", \"six\", \"seven\", \"eight\", \"nine\", \"ten\", \"single\", \"double\":\n",
    "  vocab.add(w)"
   ]
  },
  {
   "cell_type": "code",
   "execution_count": 9,
   "id": "19i_VLHz8tws",
   "metadata": {
    "id": "19i_VLHz8tws"
   },
   "outputs": [],
   "source": [
    "for w in range(1, 11):\n",
    "  vocab.add(str(w))"
   ]
  },
  {
   "cell_type": "code",
   "execution_count": 10,
   "id": "c8ebd7a5",
   "metadata": {
    "id": "c8ebd7a5"
   },
   "outputs": [],
   "source": [
    "with open(\"/content/drive/MyDrive/data/protocols.pkl.gz\", \"rb\") as f:\n",
    "    file_to_pages = pkl.load(f)"
   ]
  },
  {
   "cell_type": "code",
   "execution_count": 11,
   "id": "qftiTgt7JGwL",
   "metadata": {
    "id": "qftiTgt7JGwL"
   },
   "outputs": [],
   "source": [
    "import operator\n",
    "texts = []\n",
    "\n",
    "for i in range(len(df_annotations)):\n",
    "    file_name = df_annotations.file.iloc[i]\n",
    "    \n",
    "    pages= file_to_pages[file_name]\n",
    "\n",
    "    texts.append(\" \".join(pages))\n",
    "df_annotations[\"text\"] = texts"
   ]
  },
  {
   "cell_type": "code",
   "execution_count": 12,
   "id": "93361b2c",
   "metadata": {
    "id": "93361b2c"
   },
   "outputs": [],
   "source": [
    " del file_to_pages"
   ]
  },
  {
   "cell_type": "code",
   "execution_count": 13,
   "id": "9fbe5bf0",
   "metadata": {
    "id": "9fbe5bf0",
    "scrolled": true
   },
   "outputs": [],
   "source": [
    "df_annotations = df_annotations[~df_annotations.num_arms.isna()]"
   ]
  },
  {
   "cell_type": "code",
   "execution_count": 14,
   "id": "dDY3uTsbLe4K",
   "metadata": {
    "colab": {
     "base_uri": "https://localhost:8080/"
    },
    "id": "dDY3uTsbLe4K",
    "outputId": "f3314003-be44-41ee-b0a4-bd800583700a"
   },
   "outputs": [
    {
     "name": "stderr",
     "output_type": "stream",
     "text": [
      "/usr/local/lib/python3.7/dist-packages/ipykernel_launcher.py:7: SettingWithCopyWarning: \n",
      "A value is trying to be set on a copy of a slice from a DataFrame.\n",
      "Try using .loc[row_indexer,col_indexer] = value instead\n",
      "\n",
      "See the caveats in the documentation: https://pandas.pydata.org/pandas-docs/stable/user_guide/indexing.html#returning-a-view-versus-a-copy\n",
      "  import sys\n"
     ]
    }
   ],
   "source": [
    "def get_num_arms_clean(num):\n",
    "    if pd.isna(num):\n",
    "        return None\n",
    "    if num >= 3:\n",
    "        return \"3+\"\n",
    "    return str(int(num))\n",
    "df_annotations[\"num_arms_clean\"] = df_annotations[\"num_arms\"].apply(get_num_arms_clean)"
   ]
  },
  {
   "cell_type": "code",
   "execution_count": 15,
   "id": "cfac2830",
   "metadata": {
    "colab": {
     "base_uri": "https://localhost:8080/"
    },
    "id": "cfac2830",
    "outputId": "d774af24-b7d1-4745-86d4-bcedf37644fa"
   },
   "outputs": [
    {
     "data": {
      "text/plain": [
       "2     5228\n",
       "3+    3277\n",
       "1     3086\n",
       "Name: num_arms_clean, dtype: int64"
      ]
     },
     "execution_count": 15,
     "metadata": {},
     "output_type": "execute_result"
    }
   ],
   "source": [
    "df_annotations[\"num_arms_clean\"].value_counts()"
   ]
  },
  {
   "cell_type": "code",
   "execution_count": 16,
   "id": "D3iMJQHVMYdB",
   "metadata": {
    "id": "D3iMJQHVMYdB"
   },
   "outputs": [],
   "source": [
    "labels = list(sorted(set(df_annotations[\"num_arms_clean\"])))"
   ]
  },
  {
   "cell_type": "code",
   "execution_count": 17,
   "id": "uiS_TD8H6mPs",
   "metadata": {
    "id": "uiS_TD8H6mPs"
   },
   "outputs": [],
   "source": [
    "df_train = df_annotations[df_annotations.train_val == \"train\"]\n",
    "df_val = df_annotations[df_annotations.train_val == \"val\"]"
   ]
  },
  {
   "cell_type": "code",
   "execution_count": 18,
   "id": "tg_Q5ZLIGknP",
   "metadata": {
    "id": "tg_Q5ZLIGknP"
   },
   "outputs": [],
   "source": [
    "\n",
    "# Specially engineered regex to include 95%, 95%ci, etc\n",
    "vectoriser = CountVectorizer(lowercase=True, vocabulary = vocab, min_df=5,\n",
    "                            token_pattern=r'\\w+', ngram_range=[1,2])\n",
    "\n",
    "transformer = TfidfTransformer()\n",
    "\n",
    "nb = MultinomialNB()\n",
    "model = make_pipeline(vectoriser, transformer, nb)"
   ]
  },
  {
   "cell_type": "code",
   "execution_count": 19,
   "id": "mJ8L9rLG_31x",
   "metadata": {
    "id": "mJ8L9rLG_31x"
   },
   "outputs": [],
   "source": [
    "# df_train_small = df_train.sample(1000)"
   ]
  },
  {
   "cell_type": "code",
   "execution_count": 20,
   "id": "8YqH-b1AHVRy",
   "metadata": {
    "colab": {
     "base_uri": "https://localhost:8080/"
    },
    "id": "8YqH-b1AHVRy",
    "outputId": "5f9af509-a91f-4de6-ac05-9d2897a2a5f9"
   },
   "outputs": [
    {
     "data": {
      "text/plain": [
       "Pipeline(steps=[('countvectorizer',\n",
       "                 CountVectorizer(min_df=5, ngram_range=[1, 2],\n",
       "                                 token_pattern='\\\\w+',\n",
       "                                 vocabulary={'1', '10', '2', '3', '4', '5', '6',\n",
       "                                             '7', '8', '9', 'abt',\n",
       "                                             'acalabrutinib', 'activities',\n",
       "                                             'adaptive', 'adjudication',\n",
       "                                             'administration', 'advanced',\n",
       "                                             'adverse', 'affiliated', 'alfa',\n",
       "                                             'alk', 'allocated', 'allogeneic',\n",
       "                                             'alopecia', 'amended', 'amendment',\n",
       "                                             'amgen', 'aml', 'analysed',\n",
       "                                             'analyses', ...})),\n",
       "                ('tfidftransformer', TfidfTransformer()),\n",
       "                ('multinomialnb', MultinomialNB())])"
      ]
     },
     "execution_count": 20,
     "metadata": {},
     "output_type": "execute_result"
    }
   ],
   "source": [
    "model.fit(df_train.text, df_train.num_arms_clean)"
   ]
  },
  {
   "cell_type": "code",
   "execution_count": 21,
   "id": "i6kKqURLRmk4",
   "metadata": {
    "colab": {
     "base_uri": "https://localhost:8080/"
    },
    "id": "i6kKqURLRmk4",
    "outputId": "124fa2bc-6c7d-4bd6-d2d8-0a8d5985141c"
   },
   "outputs": [
    {
     "name": "stderr",
     "output_type": "stream",
     "text": [
      "/usr/local/lib/python3.7/dist-packages/ipykernel_launcher.py:1: SettingWithCopyWarning: \n",
      "A value is trying to be set on a copy of a slice from a DataFrame.\n",
      "Try using .loc[row_indexer,col_indexer] = value instead\n",
      "\n",
      "See the caveats in the documentation: https://pandas.pydata.org/pandas-docs/stable/user_guide/indexing.html#returning-a-view-versus-a-copy\n",
      "  \"\"\"Entry point for launching an IPython kernel.\n"
     ]
    }
   ],
   "source": [
    "df_val[\"y_pred\"] = model.predict(df_val.text)"
   ]
  },
  {
   "cell_type": "code",
   "execution_count": 22,
   "id": "dfh6cdJFMwQc",
   "metadata": {
    "colab": {
     "base_uri": "https://localhost:8080/"
    },
    "id": "dfh6cdJFMwQc",
    "outputId": "84b45611-9c1d-4a9e-e324-f0b3e4636bbf"
   },
   "outputs": [
    {
     "data": {
      "text/plain": [
       "12       2\n",
       "49       1\n",
       "50       2\n",
       "51       2\n",
       "52       2\n",
       "        ..\n",
       "11902    1\n",
       "11903    2\n",
       "11904    2\n",
       "11906    1\n",
       "11907    2\n",
       "Name: y_pred, Length: 1056, dtype: object"
      ]
     },
     "execution_count": 22,
     "metadata": {},
     "output_type": "execute_result"
    }
   ],
   "source": [
    "df_val[\"y_pred\"]"
   ]
  },
  {
   "cell_type": "code",
   "execution_count": 23,
   "id": "68ebd9f0",
   "metadata": {
    "id": "68ebd9f0",
    "scrolled": true
   },
   "outputs": [],
   "source": [
    "y_pred_proba = model.predict_proba(df_val.text)"
   ]
  },
  {
   "cell_type": "code",
   "execution_count": 24,
   "id": "X9ZcGYhRNfSa",
   "metadata": {
    "colab": {
     "base_uri": "https://localhost:8080/"
    },
    "id": "X9ZcGYhRNfSa",
    "outputId": "c7d91258-795e-42e9-de38-dd616d04ce1d"
   },
   "outputs": [
    {
     "data": {
      "text/plain": [
       "array([[0.11473313, 0.55465194, 0.33061493],\n",
       "       [0.444774  , 0.32617583, 0.22905017],\n",
       "       [0.13394936, 0.56869938, 0.29735126],\n",
       "       ...,\n",
       "       [0.10182256, 0.60830127, 0.28987617],\n",
       "       [0.70122912, 0.19794418, 0.1008267 ],\n",
       "       [0.18314084, 0.42956222, 0.38729694]])"
      ]
     },
     "execution_count": 24,
     "metadata": {},
     "output_type": "execute_result"
    }
   ],
   "source": [
    "y_pred_proba"
   ]
  },
  {
   "cell_type": "code",
   "execution_count": 25,
   "id": "_kQxAehK698Y",
   "metadata": {
    "id": "_kQxAehK698Y"
   },
   "outputs": [],
   "source": [
    "\n",
    "ground_truths = df_val.num_arms_clean\n",
    "pred = df_val.y_pred"
   ]
  },
  {
   "cell_type": "code",
   "execution_count": 26,
   "id": "4QJ3CVAFMyh0",
   "metadata": {
    "colab": {
     "base_uri": "https://localhost:8080/"
    },
    "id": "4QJ3CVAFMyh0",
    "outputId": "f7149d9c-9a61-47f4-b709-66ddbd00b87e"
   },
   "outputs": [
    {
     "data": {
      "text/plain": [
       "12       2\n",
       "49       1\n",
       "50       2\n",
       "51       2\n",
       "52       2\n",
       "        ..\n",
       "11902    1\n",
       "11903    2\n",
       "11904    2\n",
       "11906    1\n",
       "11907    2\n",
       "Name: y_pred, Length: 1056, dtype: object"
      ]
     },
     "execution_count": 26,
     "metadata": {},
     "output_type": "execute_result"
    }
   ],
   "source": [
    "pred"
   ]
  },
  {
   "cell_type": "code",
   "execution_count": 27,
   "id": "73495a5c",
   "metadata": {
    "colab": {
     "base_uri": "https://localhost:8080/"
    },
    "id": "73495a5c",
    "outputId": "a06fb3bb-990c-4a97-80d9-cb4e491ca30f"
   },
   "outputs": [
    {
     "name": "stdout",
     "output_type": "stream",
     "text": [
      "accuracy 0.5464015151515151\n"
     ]
    }
   ],
   "source": [
    "acc = accuracy_score(ground_truths, pred)\n",
    "print (f\"accuracy {acc}\")"
   ]
  },
  {
   "cell_type": "code",
   "execution_count": 28,
   "id": "aUvXu0dkMj_z",
   "metadata": {
    "colab": {
     "base_uri": "https://localhost:8080/"
    },
    "id": "aUvXu0dkMj_z",
    "outputId": "f4f73329-a1b2-4a23-9610-54bc60e45f56"
   },
   "outputs": [
    {
     "data": {
      "text/plain": [
       "12       2\n",
       "49       1\n",
       "50       2\n",
       "51       2\n",
       "52       2\n",
       "        ..\n",
       "11902    1\n",
       "11903    2\n",
       "11904    2\n",
       "11906    1\n",
       "11907    2\n",
       "Name: y_pred, Length: 1056, dtype: object"
      ]
     },
     "execution_count": 28,
     "metadata": {},
     "output_type": "execute_result"
    }
   ],
   "source": [
    "pred"
   ]
  },
  {
   "cell_type": "code",
   "execution_count": 29,
   "id": "775ae91e",
   "metadata": {
    "colab": {
     "base_uri": "https://localhost:8080/",
     "height": 302
    },
    "id": "775ae91e",
    "outputId": "482b2501-ea83-481d-ca57-2aec6afdc09e"
   },
   "outputs": [
    {
     "data": {
      "application/vnd.google.colaboratory.intrinsic+json": {
       "type": "string"
      },
      "text/plain": [
       "''"
      ]
     },
     "execution_count": 29,
     "metadata": {},
     "output_type": "execute_result"
    },
    {
     "data": {
      "image/png": "[encoded data removed]",
      "text/plain": [
       "<Figure size 432x288 with 2 Axes>"
      ]
     },
     "metadata": {
      "needs_background": "light"
     },
     "output_type": "display_data"
    }
   ],
   "source": [
    "ConfusionMatrixDisplay.from_predictions(ground_truths, pred)\n",
    "plt.xticks(rotation=90)\n",
    ";"
   ]
  },
  {
   "cell_type": "code",
   "execution_count": 30,
   "id": "16527f52",
   "metadata": {
    "colab": {
     "base_uri": "https://localhost:8080/"
    },
    "id": "16527f52",
    "outputId": "6216615f-581a-4b2e-b567-38956dff7b41"
   },
   "outputs": [
    {
     "name": "stdout",
     "output_type": "stream",
     "text": [
      "ROC AUC 0.8055280043246292\n",
      "ROC AUC 0.7027805755395684\n",
      "ROC AUC 0.6936446173800259\n",
      "0.7339843990814078\n"
     ]
    }
   ],
   "source": [
    "all_aucs = []\n",
    "from sklearn.metrics import roc_auc_score\n",
    "for i, label in enumerate(list(nb.classes_)):\n",
    "  roc_auc = roc_auc_score(ground_truths==label, y_pred_proba[:,i])\n",
    "  print (f\"ROC AUC {roc_auc}\")\n",
    "  all_aucs.append(roc_auc)\n",
    "print (np.mean(all_aucs))"
   ]
  },
  {
   "cell_type": "code",
   "execution_count": 31,
   "id": "bvS_8GcTMgCl",
   "metadata": {
    "colab": {
     "base_uri": "https://localhost:8080/",
     "height": 295
    },
    "id": "bvS_8GcTMgCl",
    "outputId": "affb5b1d-d1a6-4408-ab0b-c1885edeef74"
   },
   "outputs": [
    {
     "data": {
      "image/png": "[encoded data removed]",
      "text/plain": [
       "<Figure size 432x288 with 1 Axes>"
      ]
     },
     "metadata": {
      "needs_background": "light"
     },
     "output_type": "display_data"
    }
   ],
   "source": [
    "plt.figure()\n",
    "lw = 2\n",
    "    \n",
    "for i, label in enumerate(list(nb.classes_)):\n",
    "    fpr, tpr, _ = roc_curve(ground_truths==label, y_pred_proba[:,i])\n",
    "    roc_auc = auc(fpr, tpr)\n",
    "    plt.plot(\n",
    "        fpr,\n",
    "        tpr,\n",
    "        # color=\"darkorange\",\n",
    "        lw=lw,\n",
    "        label=f\"ROC curve arms = {label} (area = {roc_auc:0.2f})\"\n",
    "    )\n",
    "    plt.plot([0, 1], [0, 1], color=\"gray\", alpha=0.5, lw=lw, linestyle=\"--\")\n",
    "plt.xlim([0.0, 1.0])\n",
    "plt.ylim([0.0, 1.05])\n",
    "plt.xlabel(\"False Positive Rate\")\n",
    "plt.ylabel(\"True Positive Rate\")\n",
    "plt.title(\"Receiver operating characteristic example\")\n",
    "plt.legend(loc=\"lower right\")\n",
    "plt.show()"
   ]
  },
  {
   "cell_type": "code",
   "execution_count": 32,
   "id": "8rtQ_j8W3Dna",
   "metadata": {
    "id": "8rtQ_j8W3Dna"
   },
   "outputs": [],
   "source": [
    "fake_document = \" \".join(vectoriser.vocabulary_)\n",
    "vectorised_document = vectoriser.transform([fake_document])\n",
    "transformed_document = transformer.transform(vectorised_document)\n",
    "probas = np.zeros((transformed_document.shape[1]))"
   ]
  },
  {
   "cell_type": "code",
   "execution_count": 33,
   "id": "_DYlmhvKSeTG",
   "metadata": {
    "id": "_DYlmhvKSeTG"
   },
   "outputs": [],
   "source": [
    "vocab_lookup = {i:w for w, i in vectoriser.vocabulary_.items()}\n",
    "with open(\"num_arms_diagnostics.txt\", \"w\", encoding=\"utf-8\") as f:\n",
    "  for prediction_idx in [0, 1, 2]:\n",
    "        f.write(f\"Strongest predictors for class {nb.classes_[prediction_idx]}\\n\")\n",
    "        for i in range(transformed_document.shape[1]):\n",
    "            zeros = np.zeros(transformed_document.shape)\n",
    "            zeros[0, i] = transformed_document[0, i]\n",
    "            proba = nb.predict_log_proba(zeros)\n",
    "            probas[i] = proba[0, prediction_idx]\n",
    "\n",
    "\n",
    "        for ctr, j in enumerate(np.argsort(-probas)):\n",
    "          f.write(f\"{ctr}\\t{vocab_lookup[j]}\\n\")"
   ]
  },
  {
   "cell_type": "code",
   "execution_count": 34,
   "id": "xOuD5cp3mVop",
   "metadata": {
    "id": "xOuD5cp3mVop"
   },
   "outputs": [],
   "source": [
    "import bz2\n",
    "with bz2.open(\"arms_classifier_document_level.pkl.bz2\", \"wb\") as f:\n",
    "    pkl.dump(model, f)"
   ]
  },
  {
   "cell_type": "code",
   "execution_count": 35,
   "id": "0dmqIeN1ApTU",
   "metadata": {
    "id": "0dmqIeN1ApTU"
   },
   "outputs": [],
   "source": [
    "# from google.colab import runtime\n",
    "# runtime.unassign()"
   ]
  },
  {
   "cell_type": "code",
   "execution_count": 35,
   "id": "NKnHC0ZHPq08",
   "metadata": {
    "id": "NKnHC0ZHPq08"
   },
   "outputs": [],
   "source": []
  }
 ],
 "metadata": {
  "colab": {
   "include_colab_link": true,
   "machine_shape": "hm",
   "provenance": []
  },
  "gpuClass": "standard",
  "kernelspec": {
   "display_name": "Python [conda env:py310]",
   "language": "python",
   "name": "conda-env-py310-py"
  },
  "language_info": {
   "codemirror_mode": {
    "name": "ipython",
    "version": 3
   },
   "file_extension": ".py",
   "mimetype": "text/x-python",
   "name": "python",
   "nbconvert_exporter": "python",
   "pygments_lexer": "ipython3",
   "version": "3.10.4"
  }
 },
 "nbformat": 4,
 "nbformat_minor": 5
}
