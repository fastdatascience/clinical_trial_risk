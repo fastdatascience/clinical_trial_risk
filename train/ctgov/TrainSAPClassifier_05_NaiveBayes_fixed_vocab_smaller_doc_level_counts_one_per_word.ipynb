{
  "cells": [
    {
      "cell_type": "markdown",
      "metadata": {
        "id": "view-in-github",
        "colab_type": "text"
      },
      "source": [
        "<a href=\"https://colab.research.google.com/github/fastdatascience/clinical_trial_risk/blob/fixes_nov_2022/train/ctgov/TrainSAPClassifier_05_NaiveBayes_fixed_vocab_smaller_doc_level_counts_one_per_word.ipynb\" target=\"_parent\"><img src=\"https://colab.research.google.com/assets/colab-badge.svg\" alt=\"Open In Colab\"/></a>"
      ]
    },
    {
      "cell_type": "code",
      "execution_count": 1,
      "metadata": {
        "id": "0557d6c8"
      },
      "outputs": [],
      "source": [
        "import spacy\n",
        "import pandas as pd\n",
        "import re\n",
        "import os\n",
        "import sys\n",
        "import pickle as pkl\n",
        "import seaborn as sns\n",
        "from sklearn.metrics import accuracy_score, confusion_matrix\n",
        "from sklearn.metrics import ConfusionMatrixDisplay\n",
        "from sklearn.metrics import mean_absolute_error, mean_squared_error\n",
        "from sklearn.metrics import roc_auc_score\n",
        "from sklearn.metrics import roc_curve, auc\n",
        "from IPython.display import display\n",
        "import matplotlib.pyplot as plt\n",
        "import numpy as np\n",
        "import json\n",
        "\n",
        "from nltk.corpus import stopwords\n",
        "from nltk.tokenize import RegexpTokenizer\n",
        "from sklearn.ensemble import RandomForestClassifier\n",
        "from sklearn.feature_extraction.text import CountVectorizer, TfidfTransformer\n",
        "from sklearn.metrics import accuracy_score, auc, roc_curve\n",
        "from sklearn.model_selection import cross_validate\n",
        "from sklearn.naive_bayes import MultinomialNB\n",
        "from sklearn.pipeline import make_pipeline"
      ],
      "id": "0557d6c8"
    },
    {
      "cell_type": "code",
      "execution_count": 2,
      "metadata": {
        "colab": {
          "base_uri": "https://localhost:8080/"
        },
        "id": "mG8gR8O6QXgX",
        "outputId": "702ccbc6-d7f9-4d78-cb34-1296f4a72294"
      },
      "outputs": [
        {
          "output_type": "stream",
          "name": "stdout",
          "text": [
            "Mounted at /content/drive\n"
          ]
        }
      ],
      "source": [
        "from google.colab import drive\n",
        "drive.mount('/content/drive')"
      ],
      "id": "mG8gR8O6QXgX"
    },
    {
      "cell_type": "code",
      "execution_count": 3,
      "metadata": {
        "id": "HyXyGuD_P6s7"
      },
      "outputs": [],
      "source": [
        "df_annotations = pd.read_csv(\"/content/drive/MyDrive/data/all_annotations.csv\")\n"
      ],
      "id": "HyXyGuD_P6s7"
    },
    {
      "cell_type": "markdown",
      "metadata": {
        "id": "4b2e7a73"
      },
      "source": [
        "# Get data"
      ],
      "id": "4b2e7a73"
    },
    {
      "cell_type": "code",
      "execution_count": 60,
      "metadata": {
        "id": "pdjdb4_wYeyG"
      },
      "outputs": [],
      "source": [
        "stats_vocab = set(\"\"\"0\tpe\n",
        "1\tsap\n",
        "2\ttabulated\n",
        "3\thazard\n",
        "4\tinferiority\n",
        "5\tcategorical\n",
        "6\tmeddra\n",
        "7\tresidual\n",
        "8\titt\n",
        "9\tcontinuous\n",
        "10\tsummarised\n",
        "11\tvariables\n",
        "12\tbrv\n",
        "13\tvariable\n",
        "14\tcox\n",
        "16\tlaz\n",
        "17\tstatistics\n",
        "18\tdescriptive\n",
        "19\tregression\n",
        "20\tproportional\n",
        "21\thazards\n",
        "22\tsided\n",
        "23\tdeviation\n",
        "26\tpercentage\n",
        "27\tcalculated\n",
        "28\tanalysed\n",
        "29\tcensored\n",
        "30\tderived\n",
        "31\tcoding\n",
        "32\tcumulative\n",
        "34\tsoc\n",
        "38\tcovariates\n",
        "39\tsurvival\n",
        "40\tdeviations\n",
        "41\tpv\n",
        "42\tinterim\n",
        "43\tclass\n",
        "44\thypothesis\n",
        "45\tsensitivity\n",
        "46\tpower\n",
        "47\tratio\n",
        "48\tsummarized\n",
        "49\tmedian\n",
        "50\tmeasurements\n",
        "51\tmodel\n",
        "52\tendpoint\n",
        "53\texploratory\n",
        "54\tstatistical\n",
        "55\tplan\n",
        "56\tconfidence\n",
        "57\tlog\n",
        "58\tipm\n",
        "59\testimate\n",
        "60\tplanned\n",
        "62\tclassified\n",
        "63\t95%\n",
        "64\tsolicited\n",
        "65\tiu\n",
        "66\tsignificance\n",
        "67\tadjusted\n",
        "68\tpq\n",
        "69\trandomisation\n",
        "70\tci\n",
        "71\tvalues\n",
        "72\tdifferences\n",
        "73\tmeasures\n",
        "74\tsigned\n",
        "75\toutcomes\n",
        "76\tassigned\n",
        "77\tanalyses\n",
        "78\toverview\n",
        "79\tintervals\n",
        "81\tmeasurement\n",
        "82\t90%\n",
        "83\tversus\n",
        "84\tanalysis\n",
        "85\tpoint\n",
        "86\tadherence\n",
        "87\tinterval\n",
        "88\tsecondary\n",
        "89\tvalue\n",
        "90\tgroups\n",
        "91\testimated\n",
        "92\tmean\n",
        "93\trelative\n",
        "94\ttreat\n",
        "95\tfrequency\n",
        "96\toutcome\n",
        "97\tdetect\n",
        "98\tdischarge\n",
        "99\tdistribution\n",
        "100\tbaseline\n",
        "101\tendpoints\n",
        "102\tdsmb\n",
        "103\tobjectives\n",
        "104\tefficacy\n",
        "105\tmethod\n",
        "106\tnegative\n",
        "112\tae\n",
        "113\trate\n",
        "116\tcd\n",
        "119\tparameters\n",
        "120\tmaximum\n",
        "123\tcrf\n",
        "124\ttype\n",
        "126\tincidence\n",
        "127\tdefined\n",
        "128\tfunction\n",
        "129\t50%\n",
        "152\tvs\n",
        "155\tdatabase\n",
        "156\teffect\n",
        "159\tsaes\n",
        "169\tone\n",
        "173\ttwo\n",
        "178\tobserved\n",
        "179\tversion\n",
        "180\tmeasure\n",
        "182\tthree\n",
        "202\tdesign\n",
        "265\tsample\n",
        "282\tcriteria\n",
        "283\texamination\n",
        "284\tevaluated\n",
        "286\tsimilar\n",
        "312\tcontrol\n",
        "325\tsae\n",
        "394\t50\n",
        "426\t95\n",
        "447\t90\n",
        "462\trecords\n",
        "465\tmanagement\n",
        "473\tdocuments\n",
        "478\taccess\n",
        "490\t55\"\"\".split(\"\\n\"))\n",
        "stats_vocab = set([re.sub(r'^\\d+\\s+', '', w) for w in stats_vocab])"
      ],
      "id": "pdjdb4_wYeyG"
    },
    {
      "cell_type": "code",
      "source": [
        "tok = RegexpTokenizer(r'[a-zA-Z]+')"
      ],
      "metadata": {
        "id": "B_ujycyl5_ig"
      },
      "id": "B_ujycyl5_ig",
      "execution_count": 61,
      "outputs": []
    },
    {
      "cell_type": "code",
      "execution_count": 81,
      "metadata": {
        "id": "c8ebd7a5"
      },
      "outputs": [],
      "source": [
        "with open(\"/content/drive/MyDrive/data/protocols.pkl.gz\", \"rb\") as f:\n",
        "    file_to_pages = pkl.load(f)"
      ],
      "id": "c8ebd7a5"
    },
    {
      "cell_type": "code",
      "source": [
        "from nltk.tokenize import RegexpTokenizer\n",
        "\n",
        "# Words and fractions and percentages\n",
        "tok = RegexpTokenizer(r'\\d+[\\.,]\\d+%?|[\\w%]+|=|≤|≥|<|>')\n",
        "\n",
        "\n",
        "def tokenise_text(page: str) -> list:\n",
        "    \"\"\"\n",
        "    Tokenise the content of a single page\n",
        "    :param page:\n",
        "    \"\"\"\n",
        "    for word in tok.tokenize(page):\n",
        "        yield word\n",
        "\n",
        "def tokenise_text_and_lowercase(page: str) -> list:\n",
        "    \"\"\"\n",
        "    Tokenise the content of a single page and return the lowercase of each token\n",
        "    :param page:\n",
        "    \"\"\"\n",
        "    for word in tok.tokenize(page):\n",
        "        yield word.lower()\n",
        "\n",
        "def tokenise_pages(pages):\n",
        "    \"\"\"\n",
        "    Tokenises the lists of pages and returns a list of lists.\n",
        "    This is a custom tokeniser as nunbers and percentages should not be split (e.g. 5.5%).\n",
        "\n",
        "    :param pages: List of strings which each correspond to the content of a single page.\n",
        "    :return: List of lists of tokens.\n",
        "    \"\"\"\n",
        "    tokenised_pages = []\n",
        "\n",
        "    for page in pages:\n",
        "        tokens = []\n",
        "        for word in tokenise_text(page):\n",
        "            tokens.append(word)\n",
        "        tokenised_pages.append(tokens)\n",
        "    return tokenised_pages\n",
        "\n",
        "\n",
        "\n",
        "def iterate_tokens(tokenised_pages):\n",
        "    for page_no, tokens in enumerate(tokenised_pages):\n",
        "        for token_no, token in enumerate(tokens):\n",
        "            yield page_no, token_no, token"
      ],
      "metadata": {
        "id": "qftiTgt7JGwL"
      },
      "id": "qftiTgt7JGwL",
      "execution_count": 82,
      "outputs": []
    },
    {
      "cell_type": "code",
      "execution_count": 83,
      "metadata": {
        "id": "6148cb3b"
      },
      "outputs": [],
      "source": [
        "import operator\n",
        "texts = []\n",
        "\n",
        "for i in range(len(df_annotations)):\n",
        "    file_name = df_annotations.file.iloc[i]\n",
        "    \n",
        "    pages= file_to_pages[file_name]\n",
        "\n",
        "    text = \"\"\n",
        "    for page in pages:\n",
        "      tokens = set(tokenise_text_and_lowercase(page))\n",
        "      text += \" \" + \" \".join(tokens)\n",
        "\n",
        "\n",
        "    texts.append(text)\n",
        "df_annotations[\"text\"] = texts"
      ],
      "id": "6148cb3b"
    },
    {
      "cell_type": "code",
      "execution_count": 84,
      "metadata": {
        "id": "93361b2c"
      },
      "outputs": [],
      "source": [
        " del file_to_pages"
      ],
      "id": "93361b2c"
    },
    {
      "cell_type": "code",
      "execution_count": 85,
      "metadata": {
        "id": "9fbe5bf0",
        "scrolled": true
      },
      "outputs": [],
      "source": [
        "df_annotations = df_annotations[~df_annotations.has_sap.isna()]"
      ],
      "id": "9fbe5bf0"
    },
    {
      "cell_type": "code",
      "execution_count": 86,
      "metadata": {
        "colab": {
          "base_uri": "https://localhost:8080/"
        },
        "id": "cfac2830",
        "outputId": "9c99eda4-4f3f-4991-c5f4-7c2fdcef7d9d"
      },
      "outputs": [
        {
          "output_type": "execute_result",
          "data": {
            "text/plain": [
              "0    6150\n",
              "1    5774\n",
              "Name: has_sap, dtype: int64"
            ]
          },
          "metadata": {},
          "execution_count": 86
        }
      ],
      "source": [
        "df_annotations[\"has_sap\"].value_counts()"
      ],
      "id": "cfac2830"
    },
    {
      "cell_type": "code",
      "source": [
        "df_train = df_annotations[df_annotations.train_val == \"train\"]\n",
        "df_val = df_annotations[df_annotations.train_val == \"val\"]"
      ],
      "metadata": {
        "id": "uiS_TD8H6mPs"
      },
      "id": "uiS_TD8H6mPs",
      "execution_count": 87,
      "outputs": []
    },
    {
      "cell_type": "code",
      "execution_count": 88,
      "metadata": {
        "id": "tg_Q5ZLIGknP"
      },
      "outputs": [],
      "source": [
        "\n",
        "# Specially engineered regex to include 95%, 95%ci, etc\n",
        "vectoriser = CountVectorizer(lowercase=True, vocabulary=stats_vocab, min_df=5,\n",
        "                             token_pattern=r'[59][05]%?(?:ci)?|[a-z][a-z]+')\n",
        "transformer = TfidfTransformer()\n",
        "\n",
        "nb = MultinomialNB()\n",
        "model = make_pipeline(vectoriser, transformer, nb)"
      ],
      "id": "tg_Q5ZLIGknP"
    },
    {
      "cell_type": "code",
      "source": [
        "df_train_small = df_train.sample(100)"
      ],
      "metadata": {
        "id": "mJ8L9rLG_31x"
      },
      "id": "mJ8L9rLG_31x",
      "execution_count": 89,
      "outputs": []
    },
    {
      "cell_type": "code",
      "execution_count": 90,
      "metadata": {
        "id": "8YqH-b1AHVRy",
        "colab": {
          "base_uri": "https://localhost:8080/"
        },
        "outputId": "5455593b-487c-484e-a739-dafcb346609a"
      },
      "outputs": [
        {
          "output_type": "execute_result",
          "data": {
            "text/plain": [
              "Pipeline(steps=[('countvectorizer',\n",
              "                 CountVectorizer(min_df=5,\n",
              "                                 token_pattern='[59][05]%?(?:ci)?|[a-z][a-z]+',\n",
              "                                 vocabulary={'50', '50%', '55', '90', '90%',\n",
              "                                             '95', '95%', 'access', 'adherence',\n",
              "                                             'adjusted', 'ae', 'analysed',\n",
              "                                             'analyses', 'analysis', 'assigned',\n",
              "                                             'baseline', 'brv', 'calculated',\n",
              "                                             'categorical', 'cd', 'censored',\n",
              "                                             'ci', 'class', 'classified',\n",
              "                                             'coding', 'confidence',\n",
              "                                             'continuous', 'control',\n",
              "                                             'covariates', 'cox', ...})),\n",
              "                ('tfidftransformer', TfidfTransformer()),\n",
              "                ('multinomialnb', MultinomialNB())])"
            ]
          },
          "metadata": {},
          "execution_count": 90
        }
      ],
      "source": [
        "model.fit(df_train_small.text, df_train_small.has_sap)"
      ],
      "id": "8YqH-b1AHVRy"
    },
    {
      "cell_type": "code",
      "execution_count": 91,
      "metadata": {
        "id": "i6kKqURLRmk4",
        "colab": {
          "base_uri": "https://localhost:8080/"
        },
        "outputId": "f462a73c-3d11-46dd-8ff8-d20b6ad10b7a"
      },
      "outputs": [
        {
          "output_type": "stream",
          "name": "stderr",
          "text": [
            "/usr/local/lib/python3.7/dist-packages/ipykernel_launcher.py:1: SettingWithCopyWarning: \n",
            "A value is trying to be set on a copy of a slice from a DataFrame.\n",
            "Try using .loc[row_indexer,col_indexer] = value instead\n",
            "\n",
            "See the caveats in the documentation: https://pandas.pydata.org/pandas-docs/stable/user_guide/indexing.html#returning-a-view-versus-a-copy\n",
            "  \"\"\"Entry point for launching an IPython kernel.\n"
          ]
        }
      ],
      "source": [
        "df_val[\"y_pred\"] = model.predict(df_val.text)"
      ],
      "id": "i6kKqURLRmk4"
    },
    {
      "cell_type": "code",
      "execution_count": 92,
      "metadata": {
        "colab": {
          "base_uri": "https://localhost:8080/"
        },
        "id": "68ebd9f0",
        "scrolled": true,
        "outputId": "d61ba6d6-5287-4732-80c0-f8bb40d2f022"
      },
      "outputs": [
        {
          "output_type": "stream",
          "name": "stderr",
          "text": [
            "/usr/local/lib/python3.7/dist-packages/ipykernel_launcher.py:1: SettingWithCopyWarning: \n",
            "A value is trying to be set on a copy of a slice from a DataFrame.\n",
            "Try using .loc[row_indexer,col_indexer] = value instead\n",
            "\n",
            "See the caveats in the documentation: https://pandas.pydata.org/pandas-docs/stable/user_guide/indexing.html#returning-a-view-versus-a-copy\n",
            "  \"\"\"Entry point for launching an IPython kernel.\n"
          ]
        }
      ],
      "source": [
        "df_val[\"y_pred_proba\"] = model.predict_proba(df_val.text)[:,1]"
      ],
      "id": "68ebd9f0"
    },
    {
      "cell_type": "code",
      "source": [
        "sap_ground_truths = df_val.has_sap\n",
        "pred_sap = df_val.y_pred"
      ],
      "metadata": {
        "id": "_kQxAehK698Y"
      },
      "id": "_kQxAehK698Y",
      "execution_count": 93,
      "outputs": []
    },
    {
      "cell_type": "code",
      "execution_count": 94,
      "metadata": {
        "colab": {
          "base_uri": "https://localhost:8080/"
        },
        "id": "73495a5c",
        "outputId": "c1b99a2a-6947-4f4f-a28c-5e1a3ac2221b"
      },
      "outputs": [
        {
          "output_type": "stream",
          "name": "stdout",
          "text": [
            "SAP accuracy 0.7299539170506912\n"
          ]
        }
      ],
      "source": [
        "acc = accuracy_score(sap_ground_truths, pred_sap)\n",
        "print (f\"SAP accuracy {acc}\")"
      ],
      "id": "73495a5c"
    },
    {
      "cell_type": "code",
      "execution_count": 95,
      "metadata": {
        "id": "775ae91e",
        "colab": {
          "base_uri": "https://localhost:8080/",
          "height": 294
        },
        "outputId": "a2cc11b3-99d1-4a29-cf2f-aad932020a79"
      },
      "outputs": [
        {
          "output_type": "execute_result",
          "data": {
            "text/plain": [
              "''"
            ],
            "application/vnd.google.colaboratory.intrinsic+json": {
              "type": "string"
            }
          },
          "metadata": {},
          "execution_count": 95
        },
        {
          "output_type": "display_data",
          "data": {
            "text/plain": [
              "<Figure size 432x288 with 2 Axes>"
            ],
            "image/png": "[encoded data removed]"
          },
          "metadata": {
            "needs_background": "light"
          }
        }
      ],
      "source": [
        "ConfusionMatrixDisplay.from_predictions(sap_ground_truths, pred_sap)\n",
        "plt.xticks(rotation=90)\n",
        ";"
      ],
      "id": "775ae91e"
    },
    {
      "cell_type": "code",
      "execution_count": 96,
      "metadata": {
        "colab": {
          "base_uri": "https://localhost:8080/"
        },
        "id": "16527f52",
        "outputId": "9b85277d-8857-4fbe-ccdf-5b6d034e4f91"
      },
      "outputs": [
        {
          "output_type": "stream",
          "name": "stdout",
          "text": [
            "SAP ROC AUC 0.7304487876481461\n"
          ]
        }
      ],
      "source": [
        "all_aucs = []\n",
        "from sklearn.metrics import roc_auc_score\n",
        "roc_auc = roc_auc_score(sap_ground_truths, pred_sap)\n",
        "print (f\"SAP ROC AUC {roc_auc}\")"
      ],
      "id": "16527f52"
    },
    {
      "cell_type": "code",
      "execution_count": 97,
      "metadata": {
        "colab": {
          "base_uri": "https://localhost:8080/",
          "height": 295
        },
        "id": "bvS_8GcTMgCl",
        "outputId": "67094162-55ab-41a7-ba48-bc8fabd65cf3"
      },
      "outputs": [
        {
          "output_type": "display_data",
          "data": {
            "text/plain": [
              "<Figure size 432x288 with 1 Axes>"
            ],
            "image/png": "[encoded data removed]"
          },
          "metadata": {
            "needs_background": "light"
          }
        }
      ],
      "source": [
        "plt.figure()\n",
        "lw = 2\n",
        "    \n",
        "for i in [1]:\n",
        "    fpr, tpr, _ = roc_curve(sap_ground_truths, pred_sap)\n",
        "    roc_auc = auc(fpr, tpr)\n",
        "    plt.plot(\n",
        "        fpr,\n",
        "        tpr,\n",
        "        # color=\"darkorange\",\n",
        "        lw=lw,\n",
        "        label=f\"ROC curve SAP = {i} (area = {roc_auc:0.2f})\"\n",
        "    )\n",
        "    plt.plot([0, 1], [0, 1], color=\"gray\", alpha=0.5, lw=lw, linestyle=\"--\")\n",
        "plt.xlim([0.0, 1.0])\n",
        "plt.ylim([0.0, 1.05])\n",
        "plt.xlabel(\"False Positive Rate\")\n",
        "plt.ylabel(\"True Positive Rate\")\n",
        "plt.title(\"Receiver operating characteristic example\")\n",
        "plt.legend(loc=\"lower right\")\n",
        "plt.show()"
      ],
      "id": "bvS_8GcTMgCl"
    },
    {
      "cell_type": "code",
      "execution_count": 98,
      "metadata": {
        "id": "W7qDw2rgSHKj",
        "colab": {
          "base_uri": "https://localhost:8080/"
        },
        "outputId": "750ddb04-b72f-4ee4-bf8a-6a024be440cd"
      },
      "outputs": [
        {
          "output_type": "stream",
          "name": "stdout",
          "text": [
            "Strongest predictors for class 1\n",
            "\n",
            "0\tpq\n",
            "1\tdsmb\n",
            "2\tvs\n",
            "3\tsurvival\n",
            "4\tregression\n",
            "5\tanalysed\n",
            "6\tiu\n",
            "7\tcox\n",
            "8\tsummarised\n",
            "9\tpe\n",
            "10\tcd\n",
            "11\tpower\n",
            "12\tdifferences\n",
            "13\tpv\n",
            "14\tdetect\n",
            "15\tresidual\n",
            "16\thypothesis\n",
            "17\tthree\n",
            "18\tlaz\n",
            "19\tbrv\n",
            "20\tversus\n",
            "21\testimate\n",
            "22\tincidence\n",
            "23\tplan\n",
            "24\tsensitivity\n",
            "25\t50%\n",
            "26\toutcomes\n",
            "27\tadjusted\n",
            "28\tcumulative\n",
            "29\tfunction\n",
            "30\tgroups\n",
            "31\tcontrol\n",
            "32\ttwo\n",
            "33\tsignificance\n",
            "34\tnegative\n",
            "35\tcoding\n",
            "36\thazard\n",
            "37\tversion\n",
            "38\taccess\n",
            "39\teffect\n",
            "40\tmedian\n",
            "41\toutcome\n",
            "42\tsimilar\n",
            "43\ttype\n",
            "44\trelative\n",
            "45\tfrequency\n",
            "46\tderived\n",
            "47\tone\n",
            "48\t95\n",
            "49\tvariable\n",
            "50\tcensored\n",
            "51\tdistribution\n",
            "52\tmanagement\n",
            "53\tsoc\n",
            "54\tcalculated\n",
            "55\t90\n",
            "56\t50\n",
            "57\trandomisation\n",
            "58\tmeasures\n",
            "59\tproportional\n",
            "60\testimated\n",
            "61\tvalue\n",
            "62\tsided\n",
            "63\tanalysis\n",
            "64\tmeasure\n",
            "65\tdatabase\n",
            "66\tmodel\n",
            "67\tstatistical\n",
            "68\tdesign\n",
            "69\tcategorical\n",
            "70\tdeviation\n",
            "71\tsecondary\n",
            "72\trate\n",
            "73\t90%\n",
            "74\tcontinuous\n",
            "75\toverview\n",
            "76\trecords\n",
            "77\tmeasurement\n",
            "78\tdocuments\n",
            "79\tobjectives\n",
            "80\tdischarge\n",
            "81\tconfidence\n",
            "82\tobserved\n",
            "83\thazards\n",
            "84\tvalues\n",
            "85\tmean\n",
            "86\tsigned\n",
            "87\ttreat\n",
            "88\tvariables\n",
            "89\tdefined\n",
            "90\tcriteria\n",
            "91\tintervals\n",
            "92\tevaluated\n",
            "93\t95%\n",
            "94\tsample\n",
            "95\tclassified\n",
            "96\tsolicited\n",
            "97\tcovariates\n",
            "98\t55\n",
            "99\tplanned\n",
            "100\tadherence\n",
            "101\tae\n",
            "102\tclass\n",
            "103\tassigned\n",
            "104\tsaes\n",
            "105\tpoint\n",
            "106\tendpoint\n",
            "107\tmaximum\n",
            "108\tratio\n",
            "109\tmethod\n",
            "110\tdeviations\n",
            "111\tpercentage\n",
            "112\tstatistics\n",
            "113\tsae\n",
            "114\tinterim\n",
            "115\tmeasurements\n",
            "116\tlog\n",
            "117\texploratory\n",
            "118\tbaseline\n",
            "119\tanalyses\n",
            "120\tendpoints\n",
            "121\tefficacy\n",
            "122\tinterval\n",
            "123\tdescriptive\n",
            "124\tcrf\n",
            "125\tinferiority\n",
            "126\tparameters\n",
            "127\tipm\n",
            "128\tsummarized\n",
            "129\tci\n",
            "130\texamination\n",
            "131\ttabulated\n",
            "132\tmeddra\n",
            "133\titt\n",
            "134\tsap\n"
          ]
        }
      ],
      "source": [
        "fake_document = \" \".join(vectoriser.vocabulary_)\n",
        "vectorised_document = vectoriser.transform([fake_document])\n",
        "transformed_document = transformer.transform(vectorised_document)\n",
        "probas = np.zeros((transformed_document.shape[1]))\n",
        "\n",
        "for prediction_idx in [1]:\n",
        "      print(f\"Strongest predictors for class {prediction_idx}\\n\")\n",
        "      for i in range(transformed_document.shape[1]):\n",
        "          zeros = np.zeros(transformed_document.shape)\n",
        "          zeros[0, i] = transformed_document[0, i]\n",
        "          proba = nb.predict_log_proba(zeros)\n",
        "          probas[i] = proba[0, prediction_idx]\n",
        "\n",
        "      for ctr, j in enumerate(np.argsort(-probas)):\n",
        "          for w, i in vectoriser.vocabulary_.items():\n",
        "              if i == j:\n",
        "                  print(f\"{ctr}\\t{w}\")\n"
      ],
      "id": "W7qDw2rgSHKj"
    },
    {
      "cell_type": "code",
      "source": [
        "import bz2\n",
        "with bz2.open(\"sap_classifier_document_level.pkl.bz2\", \"wb\") as f:\n",
        "    pkl.dump(model, f)"
      ],
      "metadata": {
        "id": "xOuD5cp3mVop"
      },
      "id": "xOuD5cp3mVop",
      "execution_count": 99,
      "outputs": []
    },
    {
      "cell_type": "code",
      "source": [],
      "metadata": {
        "id": "0dmqIeN1ApTU"
      },
      "id": "0dmqIeN1ApTU",
      "execution_count": null,
      "outputs": []
    }
  ],
  "metadata": {
    "colab": {
      "provenance": [],
      "machine_shape": "hm",
      "include_colab_link": true
    },
    "gpuClass": "standard",
    "kernelspec": {
      "display_name": "Python [conda env:py310] *",
      "language": "python",
      "name": "conda-env-py310-py"
    },
    "language_info": {
      "codemirror_mode": {
        "name": "ipython",
        "version": 3
      },
      "file_extension": ".py",
      "mimetype": "text/x-python",
      "name": "python",
      "nbconvert_exporter": "python",
      "pygments_lexer": "ipython3",
      "version": "3.10.4"
    }
  },
  "nbformat": 4,
  "nbformat_minor": 5
}