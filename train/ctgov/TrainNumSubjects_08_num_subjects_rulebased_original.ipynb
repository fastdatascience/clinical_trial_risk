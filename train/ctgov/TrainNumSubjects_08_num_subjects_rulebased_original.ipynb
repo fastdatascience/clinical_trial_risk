{
  "cells": [
    {
      "cell_type": "markdown",
      "metadata": {
        "id": "view-in-github",
        "colab_type": "text"
      },
      "source": [
        "<a href=\"https://colab.research.google.com/github/fastdatascience/clinical_trial_risk/blob/fixes_nov_2022/train/ctgov/TrainNumSubjects_08_num_subjects_rulebased_original.ipynb\" target=\"_parent\"><img src=\"https://colab.research.google.com/assets/colab-badge.svg\" alt=\"Open In Colab\"/></a>"
      ]
    },
    {
      "cell_type": "code",
      "execution_count": 2,
      "id": "ad812236",
      "metadata": {
        "id": "ad812236"
      },
      "outputs": [],
      "source": [
        "import pandas as pd\n",
        "import re\n",
        "import os\n",
        "import sys\n",
        "import pickle as pkl\n",
        "import seaborn as sns\n",
        "from sklearn.metrics import accuracy_score, confusion_matrix\n",
        "from sklearn.metrics import ConfusionMatrixDisplay\n",
        "from sklearn.metrics import mean_absolute_error, mean_squared_error\n",
        "from sklearn.metrics import roc_auc_score\n",
        "from sklearn.metrics import roc_curve, auc\n",
        "from IPython.display import display\n",
        "import matplotlib.pyplot as plt\n",
        "import numpy as np\n",
        "import json\n",
        "\n",
        "# df_annotations = pd.read_csv(\"all_annotations.csv\")\n"
      ]
    },
    {
      "cell_type": "markdown",
      "id": "e7ea7d33",
      "metadata": {
        "id": "e7ea7d33"
      },
      "source": [
        "# Get data"
      ]
    },
    {
      "cell_type": "code",
      "execution_count": 3,
      "id": "284b9a07",
      "metadata": {
        "id": "284b9a07"
      },
      "outputs": [],
      "source": [
        "# with open(\"protocols.pkl.gz\", \"rb\") as f:\n",
        "#     file_to_pages = pkl.load(f)"
      ]
    },
    {
      "cell_type": "code",
      "execution_count": 4,
      "id": "91013de0",
      "metadata": {
        "id": "91013de0"
      },
      "outputs": [],
      "source": [
        "# import spacy\n",
        "# nlp = spacy.blank(\"en\")"
      ]
    },
    {
      "cell_type": "code",
      "execution_count": 5,
      "id": "65956b92",
      "metadata": {
        "id": "65956b92",
        "scrolled": true
      },
      "outputs": [],
      "source": [
        "# texts = []\n",
        "\n",
        "# for i in range(len(df_annotations)):\n",
        "#     file_name = df_annotations.file.iloc[i]\n",
        "    \n",
        "#     pages= file_to_pages[file_name]\n",
        "    \n",
        "#     text = \"\"\n",
        "#     for page in pages:\n",
        "#         doc = nlp(page)\n",
        "        \n",
        "#         is_include = [False] * len(doc)\n",
        "#         for tok in doc:\n",
        "#             if tok.text.lower() in {\"phase\"}:\n",
        "#                 for token_index in range(tok.i - 20, tok.i + 20):\n",
        "#                     if token_index >= 0 and token_index < len(doc):\n",
        "#                         is_include[token_index] = True\n",
        "        \n",
        "#         for token_index in range(len(doc)):\n",
        "#             if is_include[token_index]:\n",
        "#                 text += doc[token_index].text + doc[token_index].whitespace_\n",
        "                \n",
        "                \n",
        "#     if text == \"\":\n",
        "#         print (\"nothing found\", file_name, df_annotations.phase.iloc[i])\n",
        "#         text = \" \".join(pages)\n",
        "#         if len(text) > 100000:\n",
        "#             text = text[:100000]\n",
        "#     else:\n",
        "#         print (\"found\", file_name, df_annotations.phase.iloc[i])\n",
        "\n",
        "#     texts.append(text)\n",
        "# df_annotations[\"text\"] = texts"
      ]
    },
    {
      "cell_type": "code",
      "execution_count": 6,
      "id": "76a39c5b",
      "metadata": {
        "id": "76a39c5b"
      },
      "outputs": [],
      "source": [
        "# df_annotations.to_csv(\"filtered_for_phase.csv.bz2\")"
      ]
    },
    {
      "cell_type": "code",
      "source": [
        "from google.colab import drive\n",
        "drive.mount('/content/drive')"
      ],
      "metadata": {
        "colab": {
          "base_uri": "https://localhost:8080/"
        },
        "id": "xCe1anFkGSrt",
        "outputId": "4f322feb-d05e-49ea-b0c5-46f966800091"
      },
      "id": "xCe1anFkGSrt",
      "execution_count": 7,
      "outputs": [
        {
          "output_type": "stream",
          "name": "stdout",
          "text": [
            "Mounted at /content/drive\n"
          ]
        }
      ]
    },
    {
      "cell_type": "code",
      "source": [
        "df_annotations= pd.read_csv(\"/content/drive/MyDrive/data/filtered_for_phase_arms_subjects_02.csv.bz2\")"
      ],
      "metadata": {
        "id": "FdcTHlHsGWnk"
      },
      "id": "FdcTHlHsGWnk",
      "execution_count": 8,
      "outputs": []
    },
    {
      "cell_type": "code",
      "source": [
        "#df_annotations.text = df_annotations.text.apply(lambda t : t[:10000] if len(t) > 10000 else t)"
      ],
      "metadata": {
        "id": "wGilqqbTi76N"
      },
      "id": "wGilqqbTi76N",
      "execution_count": 9,
      "outputs": []
    },
    {
      "cell_type": "code",
      "source": [
        "def get_num_subjects_clean(num):\n",
        "    if pd.isna(num):\n",
        "        return None\n",
        "    if num >= 10000:\n",
        "        return \"10000+\"\n",
        "    if num >= 1000:\n",
        "        return \"1000+\"\n",
        "    if num >= 500:\n",
        "        return \"500+\"\n",
        "    if num >= 200:\n",
        "        return \"200+\"\n",
        "    if num >= 100:\n",
        "        return \"100+\"\n",
        "    if num >= 50:\n",
        "        return \"50+\"\n",
        "    if num >= 25:\n",
        "        return \"25+\"\n",
        "    return \"1-24\"\n",
        "df_annotations[\"num_subjects_clean\"] = df_annotations[\"num_subjects\"].apply(get_num_subjects_clean)"
      ],
      "metadata": {
        "id": "mZ82V337HouW"
      },
      "id": "mZ82V337HouW",
      "execution_count": 10,
      "outputs": []
    },
    {
      "cell_type": "code",
      "source": [
        "df_annotations[\"num_subjects_clean\"].value_counts()"
      ],
      "metadata": {
        "colab": {
          "base_uri": "https://localhost:8080/"
        },
        "id": "cKMRrJjQIF7U",
        "outputId": "66955776-9832-4a85-a61a-38e183ceeafc"
      },
      "id": "cKMRrJjQIF7U",
      "execution_count": 11,
      "outputs": [
        {
          "output_type": "execute_result",
          "data": {
            "text/plain": [
              "1-24      2980\n",
              "25+       2119\n",
              "50+       2016\n",
              "100+      1674\n",
              "200+      1656\n",
              "500+       816\n",
              "1000+      547\n",
              "10000+     112\n",
              "Name: num_subjects_clean, dtype: int64"
            ]
          },
          "metadata": {},
          "execution_count": 11
        }
      ]
    },
    {
      "cell_type": "code",
      "execution_count": 12,
      "id": "89e1c4f0",
      "metadata": {
        "id": "89e1c4f0"
      },
      "outputs": [],
      "source": [
        "# df_annotations = pd.read_csv(\"filtered_for_phase.csv.bz2\")"
      ]
    },
    {
      "cell_type": "code",
      "execution_count": 13,
      "id": "a12043ac",
      "metadata": {
        "id": "a12043ac"
      },
      "outputs": [],
      "source": [
        "# del file_to_pages"
      ]
    },
    {
      "cell_type": "code",
      "execution_count": 14,
      "id": "bbe0ba77",
      "metadata": {
        "id": "bbe0ba77"
      },
      "outputs": [],
      "source": [
        "phase_map = {\"Phase 2\":\"2\",\n",
        "\"Phase 3\":\"3\",\n",
        "\"Phase 4\":\"4\",\n",
        "\"Phase 1\":\"1\",\n",
        "\"Phase 1/Phase 2\":\"1.5\",\n",
        "\"Not Applicable\":\"0\",\n",
        "\"Phase 2/Phase 3\":\"2.5\",\n",
        "\"Early Phase 1\":\"0.5\"}\n",
        "df_annotations[\"phase_clean\"] = df_annotations[\"phase\"].apply(lambda x : phase_map.get(x, None))"
      ]
    },
    {
      "cell_type": "code",
      "source": [
        "phase_clean_map = {}\n",
        "for idx, val in enumerate(sorted(set(phase_map.values()), key = lambda x : float(x))):\n",
        "  phase_clean_map[val] = idx\n",
        "# invert the dictionary\n",
        "phase_lookup = {v: k for k, v in phase_clean_map.items()}\n",
        "\n",
        "phase_list = [phase_lookup[x] for x in sorted(phase_lookup)]\n",
        "phase_list"
      ],
      "metadata": {
        "colab": {
          "base_uri": "https://localhost:8080/"
        },
        "id": "DNjQhXOVrQxj",
        "outputId": "37fe36a2-5f46-4475-e8fd-7b01e71fdd84"
      },
      "id": "DNjQhXOVrQxj",
      "execution_count": 15,
      "outputs": [
        {
          "output_type": "execute_result",
          "data": {
            "text/plain": [
              "['0', '0.5', '1', '1.5', '2', '2.5', '3', '4']"
            ]
          },
          "metadata": {},
          "execution_count": 15
        }
      ]
    },
    {
      "cell_type": "code",
      "execution_count": 16,
      "id": "f99e999b",
      "metadata": {
        "id": "f99e999b"
      },
      "outputs": [],
      "source": [
        "def get_num_arms_clean(num):\n",
        "    if pd.isna(num):\n",
        "        return None\n",
        "    if num >= 5:\n",
        "        num = 5\n",
        "    return num\n",
        "df_annotations[\"num_arms_clean\"] = df_annotations[\"num_arms\"].apply(get_num_arms_clean)"
      ]
    },
    {
      "cell_type": "markdown",
      "source": [
        "# Begin existing rule based"
      ],
      "metadata": {
        "id": "Tq8Iseh1e_uQ"
      },
      "id": "Tq8Iseh1e_uQ"
    },
    {
      "cell_type": "code",
      "source": [
        "import bz2\n",
        "import pickle as pkl\n",
        "import pandas as pd\n",
        "from collections import Counter\n",
        "import numpy as np\n",
        "import spacy\n",
        "from spacy.matcher import Matcher\n",
        "import re\n",
        "from os.path import exists\n",
        "\n",
        "\n",
        "demonym_to_country_code = {'ARUBAN': 'AW',\n",
        "                           'AFGHAN': 'AF',\n",
        "                           'ANGOLAN': 'AO',\n",
        "                           'ANGUILLIAN': 'AI',\n",
        "                           'ALBANIAN': 'AL',\n",
        "                           'EMIRATI': 'AE',\n",
        "                           'ARGENTINEAN': 'AR',\n",
        "                           'ARMENIAN': 'AM',\n",
        "                           'AMERICAN SAMOAN': 'AS',\n",
        "                           'FRENCH': 'PM',\n",
        "                           'ANTIGUAN': 'AG',\n",
        "                           'BARBUDAN': 'AG',\n",
        "                           'AUSTRALIAN': 'AU',\n",
        "                           'AUSTRIAN': 'AT',\n",
        "                           'AZERBAIJANI': 'AZ',\n",
        "                           'BURUNDIAN': 'BI',\n",
        "                           'BELGIAN': 'BE',\n",
        "                           'BENINESE': 'BJ',\n",
        "                           'BURKINABE': 'BF',\n",
        "                           'BANGLADESHI': 'BD',\n",
        "                           'BULGARIAN': 'BG',\n",
        "                           'BAHRAINI': 'BH',\n",
        "                           'BAHAMIAN': 'BS',\n",
        "                           'BOSNIAN': 'BA',\n",
        "                           'HERZEGOVINIAN': 'BA',\n",
        "                           'BELARUSIAN': 'BY',\n",
        "                           'BELIZEAN': 'BZ',\n",
        "                           'BERMUDIAN': 'BM',\n",
        "                           'BOLIVIAN': 'BO',\n",
        "                           'BRAZILIAN': 'BR',\n",
        "                           'BARBADIAN': 'BB',\n",
        "                           'BRUNEIAN': 'BN',\n",
        "                           'BHUTANESE': 'BT',\n",
        "                           'MOTSWANA': 'BW',\n",
        "                           'CENTRAL AFRICAN': 'CF',\n",
        "                           'CANADIAN': 'CA',\n",
        "                           'COCOS ISLANDER': 'CC',\n",
        "                           'SWISS': 'CH',\n",
        "                           'CHILEAN': 'CL',\n",
        "                           'CHINESE': 'MO',\n",
        "                           'IVORIAN': 'CI',\n",
        "                           'CAMEROONIAN': 'CM',\n",
        "                           'CONGOLESE': 'CG',\n",
        "                           'COOK ISLANDER': 'CK',\n",
        "                           'COLOMBIAN': 'CO',\n",
        "                           'COMORAN': 'KM',\n",
        "                           'CAPE VERDIAN': 'CV',\n",
        "                           'COSTA RICAN': 'CR',\n",
        "                           'CUBAN': 'CU',\n",
        "                           'CHRISTMAS ISLAND': 'CX',\n",
        "                           'CAYMANIAN': 'KY',\n",
        "                           'CYPRIOT': 'CY',\n",
        "                           'CZECH': 'CZ',\n",
        "                           'GERMAN': 'DE',\n",
        "                           'DJIBOUTI': 'DJ',\n",
        "                           'DOMINICAN': 'DO',\n",
        "                           'DANISH': 'DK',\n",
        "                           'ALGERIAN': 'DZ',\n",
        "                           'ECUADOREAN': 'EC',\n",
        "                           'EGYPTIAN': 'EG',\n",
        "                           'ERITREAN': 'ER',\n",
        "                           'SAHRAWI': 'EH',\n",
        "                           'SPANISH': 'ES',\n",
        "                           'ESTONIAN': 'EE',\n",
        "                           'ETHIOPIAN': 'ET',\n",
        "                           'FINNISH': 'FI',\n",
        "                           'FIJIAN': 'FJ',\n",
        "                           'FALKLAND ISLANDER': 'FK',\n",
        "                           'FAROESE': 'FO',\n",
        "                           'MICRONESIAN': 'FM',\n",
        "                           'GABONESE': 'GA',\n",
        "                           'BRITISH': 'GB',\n",
        "                           'GEORGIAN': 'GE',\n",
        "                           'CHANNEL ISLANDER': 'JE',\n",
        "                           'GHANAIAN': 'GH',\n",
        "                           'GIBRALTAR': 'GI',\n",
        "                           'GUINEAN': 'GN',\n",
        "                           'GUADELOUPIAN': 'GP',\n",
        "                           'GAMBIAN': 'GM',\n",
        "                           'GUINEA-BISSAUAN': 'GW',\n",
        "                           'EQUATORIAL GUINEAN': 'GQ',\n",
        "                           'GREEK': 'GR',\n",
        "                           'GRENADIAN': 'GD',\n",
        "                           'GREENLANDIC': 'GL',\n",
        "                           'GUATEMALAN': 'GT',\n",
        "                           'GUAMANIAN': 'GU',\n",
        "                           'GUYANESE': 'GY',\n",
        "                           'HEARD AND MCDONALD ISLANDER': 'HM',\n",
        "                           'HONDURAN': 'HN',\n",
        "                           'CROATIAN': 'HR',\n",
        "                           'HAITIAN': 'HT',\n",
        "                           'HUNGARIAN': 'HU',\n",
        "                           'INDONESIAN': 'ID',\n",
        "                           'MANX': 'IM',\n",
        "                           'INDIAN': 'IO',\n",
        "                           'IRISH': 'IE',\n",
        "                           'IRANIAN': 'IR',\n",
        "                           'IRAQI': 'IQ',\n",
        "                           'ICELANDER': 'IS',\n",
        "                           'ISRAELI': 'IL',\n",
        "                           'ITALIAN': 'IT',\n",
        "                           'JAMAICAN': 'JM',\n",
        "                           'JORDANIAN': 'JO',\n",
        "                           'JAPANESE': 'JP',\n",
        "                           'KAZAKHSTANI': 'KZ',\n",
        "                           'KENYAN': 'KE',\n",
        "                           'KIRGHIZ': 'KG',\n",
        "                           'CAMBODIAN': 'KH',\n",
        "                           'I-KIRIBATI': 'KI',\n",
        "                           'KIRIBATI': 'KI',\n",
        "                           'KITTIAN AND NEVISIAN': 'KN',\n",
        "                           'SOUTH KOREAN': 'KR',\n",
        "                           'KUWAITI': 'KW',\n",
        "                           'LAOTIAN': 'LA',\n",
        "                           'LEBANESE': 'LB',\n",
        "                           'LIBERIAN': 'LR',\n",
        "                           'LIBYAN': 'LY',\n",
        "                           'SAINT LUCIAN': 'LC',\n",
        "                           'LIECHTENSTEINER': 'LI',\n",
        "                           'SRI LANKAN': 'LK',\n",
        "                           'MOSOTHO': 'LS',\n",
        "                           'LITHUANIAN': 'LT',\n",
        "                           'LUXEMBOURGER': 'LU',\n",
        "                           'LATVIAN': 'LV',\n",
        "                           'MOROCCAN': 'MA',\n",
        "                           'MONEGASQUE': 'MC',\n",
        "                           'MOLDOVAN': 'MD',\n",
        "                           'MALAGASY': 'MG',\n",
        "                           'MALDIVAN': 'MV',\n",
        "                           'MEXICAN': 'MX',\n",
        "                           'MARSHALLESE': 'MH',\n",
        "                           'MACEDONIAN': 'MK',\n",
        "                           'MALIAN': 'ML',\n",
        "                           'MALTESE': 'MT',\n",
        "                           'MONGOLIAN': 'MN',\n",
        "                           'AMERICAN': 'US',\n",
        "                           'MOZAMBICAN': 'MZ',\n",
        "                           'MAURITANIAN': 'MR',\n",
        "                           'MONTSERRATIAN': 'MS',\n",
        "                           'MAURITIAN': 'MU',\n",
        "                           'MALAWIAN': 'MW',\n",
        "                           'MALAYSIAN': 'MY',\n",
        "                           'NAMIBIAN': 'NA',\n",
        "                           'NEW CALEDONIAN': 'NC',\n",
        "                           'NIGERIEN': 'NE',\n",
        "                           'NORFOLK ISLANDER': 'NF',\n",
        "                           'NIGERIAN': 'NG',\n",
        "                           'NICARAGUAN': 'NI',\n",
        "                           'NIUEAN': 'NU',\n",
        "                           'DUTCH': 'NL',\n",
        "                           'NORWEGIAN': 'SJ',\n",
        "                           'NEPALESE': 'NP',\n",
        "                           'NAURUAN': 'NR',\n",
        "                           'NEW ZEALANDER': 'NZ',\n",
        "                           'OMANI': 'OM',\n",
        "                           'PAKISTANI': 'PK',\n",
        "                           'PANAMANIAN': 'PA',\n",
        "                           'PITCAIRN ISLANDER': 'PN',\n",
        "                           'PERUVIAN': 'PE',\n",
        "                           'FILIPINO': 'PH',\n",
        "                           'PALAUAN': 'PW',\n",
        "                           'PAPUA NEW GUINEAN': 'PG',\n",
        "                           'POLISH': 'PL',\n",
        "                           'PUERTO RICAN': 'PR',\n",
        "                           'NORTH KOREAN': 'KP',\n",
        "                           'PORTUGUESE': 'PT',\n",
        "                           'PARAGUAYAN': 'PY',\n",
        "                           'FRENCH POLYNESIAN': 'PF',\n",
        "                           'QATARI': 'QA',\n",
        "                           'ROMANIAN': 'RO',\n",
        "                           'RUSSIAN': 'RU',\n",
        "                           'RWANDAN': 'RW',\n",
        "                           'SAUDI ARABIAN': 'SA',\n",
        "                           'SUDANESE': 'SD',\n",
        "                           'SENEGALESE': 'SN',\n",
        "                           'SINGAPOREAN': 'SG',\n",
        "                           'SOUTH GEORGIA AND THE SOUTH SANDWICH ISLANDER': 'GS',\n",
        "                           'SAINT HELENIAN': 'SH',\n",
        "                           'SOLOMON ISLANDER': 'SB',\n",
        "                           'SIERRA LEONEAN': 'SL',\n",
        "                           'SALVADORAN': 'SV',\n",
        "                           'SAMMARINESE': 'SM',\n",
        "                           'SOMALI': 'SO',\n",
        "                           'SOUTH SUDANESE': 'SS',\n",
        "                           'SAO TOMEAN': 'ST',\n",
        "                           'SURINAMER': 'SR',\n",
        "                           'SLOVAK': 'SK',\n",
        "                           'SLOVENE': 'SI',\n",
        "                           'SWEDISH': 'SE',\n",
        "                           'SWAZI': 'SZ',\n",
        "                           'SEYCHELLOIS': 'SC',\n",
        "                           'SYRIAN': 'SY',\n",
        "                           'CHADIAN': 'TD',\n",
        "                           'TOGOLESE': 'TG',\n",
        "                           'THAI': 'TH',\n",
        "                           'TADZHIK': 'TJ',\n",
        "                           'TAJIK': 'TJ',\n",
        "                           'TOKELAUAN': 'TK',\n",
        "                           'TURKMEN': 'TM',\n",
        "                           'EAST TIMORESE': 'TL',\n",
        "                           'TONGAN': 'TO',\n",
        "                           'TRINIDADIAN': 'TT',\n",
        "                           'TUNISIAN': 'TN',\n",
        "                           'TURKISH': 'TR',\n",
        "                           'TUVALUAN': 'TV',\n",
        "                           'TAIWANESE': 'TW',\n",
        "                           'TANZANIAN': 'TZ',\n",
        "                           'UGANDAN': 'UG',\n",
        "                           'UKRAINIAN': 'UA',\n",
        "                           'URUGUAYAN': 'UY',\n",
        "                           'UZBEKISTANI': 'UZ',\n",
        "                           'SAINT VINCENTIAN': 'VC',\n",
        "                           'VENEZUELAN': 'VE',\n",
        "                           'VIETNAMESE': 'VN',\n",
        "                           'NI-VANUATU': 'VU',\n",
        "                           'WALLIS AND FUTUNA ISLANDER': 'WF',\n",
        "                           'SAMOAN': 'WS',\n",
        "                           'YEMENI': 'YE',\n",
        "                           'SOUTH AFRICAN': 'ZA',\n",
        "                           'ZAMBIAN': 'ZM',\n",
        "                           'ZIMBABWEAN': 'ZW'}\n",
        "from nltk.tokenize import RegexpTokenizer\n",
        "\n",
        "# Words and fractions and percentages\n",
        "tok = RegexpTokenizer(r'\\d+[\\.,]\\d+%?|[\\w%]+|=|≤|≥|<|>')\n",
        "\n",
        "\n",
        "def tokenise_text(page: str) -> list:\n",
        "    \"\"\"\n",
        "    Tokenise the content of a single page\n",
        "    :param page:\n",
        "    \"\"\"\n",
        "    for word in tok.tokenize(page):\n",
        "        yield word\n",
        "\n",
        "def tokenise_text_and_lowercase(page: str) -> list:\n",
        "    \"\"\"\n",
        "    Tokenise the content of a single page and return the lowercase of each token\n",
        "    :param page:\n",
        "    \"\"\"\n",
        "    for word in tok.tokenize(page):\n",
        "        yield word.lower()\n",
        "\n",
        "def tokenise_pages(pages):\n",
        "    \"\"\"\n",
        "    Tokenises the lists of pages and returns a list of lists.\n",
        "    This is a custom tokeniser as nunbers and percentages should not be split (e.g. 5.5%).\n",
        "\n",
        "    :param pages: List of strings which each correspond to the content of a single page.\n",
        "    :return: List of lists of tokens.\n",
        "    \"\"\"\n",
        "    tokenised_pages = []\n",
        "\n",
        "    for page in pages:\n",
        "        tokens = []\n",
        "        for word in tokenise_text(page):\n",
        "            tokens.append(word)\n",
        "        tokenised_pages.append(tokens)\n",
        "    return tokenised_pages\n",
        "\n",
        "\n",
        "\n",
        "def iterate_tokens(tokenised_pages):\n",
        "    for page_no, tokens in enumerate(tokenised_pages):\n",
        "        for token_no, token in enumerate(tokens):\n",
        "            yield page_no, token_no, token\n",
        "\n",
        "import spacy\n",
        "\n",
        "#nlp = spacy.load('en_core_web_sm', disable=['ner', 'tagger', 'parser', 'lemmatizer'])\n",
        "nlp = spacy.blank(\"en\")\n",
        "\n",
        "\n",
        "patterns = dict()\n",
        "\n",
        "patterns[\"sample size\"] = ['sample size is #', 'sample size #', 'sample size of #', 'sample size to #',\n",
        "                           'sample size increase to #']\n",
        "patterns[\"sample\"] = ['sample #', 'sample of #', 'sampling #']\n",
        "patterns[\"enroll\"] = ['enroll #', 'enrol #', 'enrolling #', 'enroll up to #', 'enrolling up to #', 'enrol up to #', 'enrolment #', 'enrollment #', 'enrolment of #', 'enrollment of #']\n",
        "patterns[\"will_enroll\"] = [\"will enroll #\", \"will enrol #\", \"aim to enroll #\", \"aim to enrol #\"]\n",
        "patterns[\"recruit\"] = ['recruit #', 'recruiting #', 'recruitment #', 'recruitment of']\n",
        "patterns[\"will_recruit\"] = [\"will recruit #\", \"aim to recruit #\"]\n",
        "patterns[\"total\"] = ['total #', 'total of #']\n",
        "patterns[\"target\"] = ['target #', 'target of #', 'targeting #', 'target is #']\n",
        "patterns[\"accrual\"] = ['accrual #', 'accrual of #', 'accruing #', 'accrue #']\n",
        "patterns[\"will_target\"] = [\"will target #\"]\n",
        "patterns[\"total\"] = [\"total #\", \"total of #\"]\n",
        "patterns[\"total_after\"] = [\"# total\", \"# overall\"]\n",
        "patterns[\"n =\"] = ['n = #', 'n > #', 'n ≥ #']\n",
        "patterns[\"participants\"] = ['# total participants', 'number of participants #', '# participants',\n",
        "                            'participants up to #']\n",
        "patterns[\"subjects\"] = ['# total subjects', 'number of subjects #', '# subjects', 'subjects up to #']\n",
        "patterns[\"misc_personal_noun\"] = ['# people', '# persons', '# residents', '# mother infant pairs','# mother child pairs','# mother - child pairs',\n",
        "                                  '# mother - infant pairs', '# individuals', \"# sexually active\", \"# patients\", \"# pts\", \"# cases\", \"# * cases\"]\n",
        "patterns[\"gender\"] = ['# male', '# males', '# female', '# females', '# women', '# men', '# mothers', '# pregnant']\n",
        "patterns[\"age\"] = ['# infants', '# adult', '# adults', '# adolescents', '# babies', '# children']\n",
        "patterns[\"disease_state\"] = ['# healthy', '# hiv infected', '# hiv positive', '# hiv negative', '# hiv - infected', '# hiv - positive', '# hiv - negative',]\n",
        "patterns[\"selection\"] = ['selection #', 'selection of #', ]\n",
        "patterns[\"demonym\"] = [\"# \" + demonym.lower() for demonym in demonym_to_country_code]\n",
        "patterns[\"approximately\"] = [\"approximately #\", \"up to #\"]\n",
        "patterns[\"to achieve\"] = [\"# to achieve\"]\n",
        "\n",
        "# These patterns do not contain a number. The feature generated from them is just the shortest distance from a candidate number to the nearest occurrence of these words.\n",
        "patterns[\"distance to sample size no number\"] = [\"sample size\"]\n",
        "patterns[\"distance to power no number\"] = [\"power\", \"powered\"]\n",
        "patterns[\"distance to num subjects no number\"] = [\"number of subjects\", \"number of participants\", \"number of patients\", \"number of pts\"]\n",
        "patterns[\"distance to subjects no number\"] = [\"subjects\", \"participants\", \"patients\", \"pts\"]\n",
        "patterns[\"distance to cases no number\"] = [\"cases\"]\n",
        "# These are anticipated to be negative features.\n",
        "patterns[\"distance to per no number\"] = [\"per\"]\n",
        "patterns[\"distance to arm/group no number\"] = [\"arm\", \"group\"]\n",
        "\n",
        "patterns_without_number = set([x for x in patterns if \"no number\" in x])\n",
        "\n",
        "FEATURE_NAMES = list(patterns.keys())\n",
        "FEATURE_NAMES.append(\"first_page_no\")\n",
        "FEATURE_NAMES.append(\"last_page_no\")\n",
        "FEATURE_NAMES.append(\"num_occurrences\")\n",
        "FEATURE_NAMES.append(\"magnitude\")\n",
        "\n",
        "matcher = Matcher(nlp.vocab)\n",
        "\n",
        "num_regex = re.compile(r'^[1-9]\\d*,?\\d+$')\n",
        "\n",
        "ABSOLUTE_MINIMUM = 35\n",
        "\n",
        "for feature_name, feature_patterns in patterns.items():\n",
        "    patterns = []\n",
        "    for feature_pattern in feature_patterns:\n",
        "        for is_range in [0, 1, 2, 3]:\n",
        "            pattern = []\n",
        "            for word in feature_pattern.split(\" \"):\n",
        "                if word == \"#\":\n",
        "                    if is_range == 2:\n",
        "                        pattern.append({\"LOWER\": {\"IN\": [\"=\", \">\", \"≥\", \"approx\", \"approximately\", \"planned\"]}})\n",
        "                    elif is_range == 3:\n",
        "                        pattern.append({\"LOWER\": \"up\"})\n",
        "                        pattern.append({\"LOWER\": \"to\"})\n",
        "                    pattern.append({\"LIKE_NUM\": True})\n",
        "                    if is_range == 1:\n",
        "                        pattern.append({\"LOWER\": {\"IN\": [\"-\", \"–\", \"to\"]}})\n",
        "                        pattern.append({\"LIKE_NUM\": True})\n",
        "                elif word == \"*\": # wildcard\n",
        "                    pattern.append({\"LIKE_NUM\": False})\n",
        "                else:\n",
        "                    pattern.append({\"LOWER\": word})\n",
        "            patterns.append(pattern)\n",
        "    matcher.add(feature_name, patterns)\n",
        "\n",
        "\n",
        "def extract_features(tokenised_pages: list):\n",
        "    features = {}\n",
        "    num_subjects_to_pages = {}\n",
        "\n",
        "    contexts = {}\n",
        "\n",
        "    all_tokens = list(iterate_tokens(tokenised_pages))\n",
        "\n",
        "    tokens = [item[2] for item in all_tokens]\n",
        "\n",
        "    doc = spacy.tokens.doc.Doc(\n",
        "        nlp.vocab, words=tokens)\n",
        "    matches = matcher(doc)\n",
        "\n",
        "    token_indexes = {}\n",
        "\n",
        "    for phrase_match in matches:\n",
        "\n",
        "        value = None\n",
        "        matcher_name = nlp.vocab.strings[phrase_match[0]]\n",
        "\n",
        "        if matcher_name in patterns_without_number:\n",
        "            if matcher_name not in token_indexes:\n",
        "                token_indexes[matcher_name] = set()\n",
        "            token_indexes[matcher_name].add(phrase_match[1])\n",
        "            token_indexes[matcher_name].add(phrase_match[2])\n",
        "            continue\n",
        "\n",
        "        for token_idx in range(phrase_match[1], phrase_match[2]):\n",
        "            page_no, token_no, token = all_tokens[token_idx]\n",
        "            if num_regex.match(token):\n",
        "                value = re.sub(r',', '', token)\n",
        "                if value not in token_indexes:\n",
        "                    token_indexes[value] = set()\n",
        "                token_indexes[value].add(token_idx)\n",
        "        if value:\n",
        "            if value not in features:\n",
        "                features[value] = Counter()\n",
        "                features[value][\"first_page_no\"] = page_no\n",
        "                features[value][\"last_page_no\"] = page_no\n",
        "            features[value][matcher_name] += 1\n",
        "            features[value][\"last_page_no\"] = page_no\n",
        "            features[value][\"num_occurrences\"] += 1\n",
        "            if value not in num_subjects_to_pages:\n",
        "                num_subjects_to_pages[value] = []\n",
        "            num_subjects_to_pages[value].append(page_no)\n",
        "\n",
        "            if value not in contexts:\n",
        "                start = max(0,  phrase_match[1] - 5)\n",
        "                end = min(len(tokens) - 1, phrase_match[2] + 5)\n",
        "                contexts[value] = f\"Page {page_no + 1}: \" + \" \".join(tokens[start:end])\n",
        "\n",
        "    for candidate in features:\n",
        "        for distance_feature in patterns_without_number:\n",
        "            min_dist = -1\n",
        "            for i in token_indexes[candidate]:\n",
        "                for j in token_indexes.get(distance_feature, set()):\n",
        "                    if min_dist == -1 or abs(i - j) < min_dist:\n",
        "                        min_dist = abs(i - j)\n",
        "            if min_dist == -1 or min_dist > 1000:\n",
        "                min_dist = 1000\n",
        "            features[candidate][distance_feature] = min_dist\n",
        "        features[candidate][\"magnitude\"] = min(int(re.sub(r'\\D.+$', '', candidate)), 50)\n",
        "\n",
        "    candidates = []\n",
        "    feature_vectors = []\n",
        "    for cand, features in features.items():\n",
        "        if features[\"magnitude\"] < ABSOLUTE_MINIMUM:\n",
        "            continue\n",
        "        feature_vector = []\n",
        "        for feature_name in FEATURE_NAMES:\n",
        "            feature_vector.append(features.get(feature_name, 0))\n",
        "        candidates.append(str(cand))\n",
        "        feature_vectors.append(feature_vector)\n",
        "\n",
        "    df_instances = pd.DataFrame({\"candidate\": candidates})\n",
        "    for feature_idx, feature_name in enumerate(FEATURE_NAMES):\n",
        "        df_instances[feature_name] = [fv[feature_idx] for fv in feature_vectors]\n",
        "\n",
        "    return df_instances, num_subjects_to_pages, contexts\n",
        "\n",
        "\n",
        "class NumSubjectsExtractor:\n",
        "\n",
        "    def __init__(self, path_to_classifier):\n",
        "        if not exists(path_to_classifier):\n",
        "            print(\n",
        "                f\"WARNING! UNABLE TO LOAD NUMBER OF SUBJECTS CLASSIFIER {path_to_classifier}. You need to run the training script.\")\n",
        "            self.model = None\n",
        "            return\n",
        "        with bz2.open(path_to_classifier, \"rb\") as f:\n",
        "            self.model = pkl.load(f)\n",
        "\n",
        "    def process(self, tokenised_pages: list) -> tuple:\n",
        "        \"\"\"\n",
        "        Identify the number of subjects in the trial.\n",
        "\n",
        "        :param tokenised_pages: List of lists of tokens of each page.\n",
        "        :return: The prediction (int) and a map from numbers to the pages it's mentioned in.\n",
        "        \"\"\"\n",
        "\n",
        "        df_instances, num_subjects_to_pages, contexts = extract_features(tokenised_pages)\n",
        "\n",
        "        if len(df_instances) == 0:\n",
        "            return {\"prediction\": 0, \"pages\": {}, \"context\": [],\n",
        "                    \"score\": 0, \"comment\": \"No possible subject numbers found.\"}\n",
        "\n",
        "        probas = self.model.predict_proba(df_instances[FEATURE_NAMES])[:, 1]\n",
        "        winning_index = np.argmax(probas)\n",
        "        score = np.max(probas)\n",
        "\n",
        "        top_indices = list(np.argsort(-probas))\n",
        "        if len(top_indices) > 5:\n",
        "            top_indices = top_indices[:5]\n",
        "\n",
        "\n",
        "        possible_candidates = []\n",
        "        for idx in top_indices:\n",
        "            if probas[idx]  > score * 0.1 and len(possible_candidates) < 3:\n",
        "                possible_candidates.append(df_instances.candidate.iloc[idx])\n",
        "        possible_candidates = \"Possible sample sizes found: \" + \", \".join(possible_candidates)\n",
        "\n",
        "        num_subjects = df_instances.candidate.iloc[winning_index]\n",
        "\n",
        "        top_values = set()\n",
        "        for top_index in top_indices:\n",
        "            top_values.add(df_instances.candidate.iloc[top_index])\n",
        "        for k in list(num_subjects_to_pages):\n",
        "            if k not in top_values:\n",
        "                del num_subjects_to_pages[k]\n",
        "        for k in list(contexts):\n",
        "            if k not in top_values:\n",
        "                del contexts[k]\n",
        "\n",
        "        return {\"prediction\": int(num_subjects), \"pages\": num_subjects_to_pages, \"context\": contexts, \"score\": score, \"comment\": possible_candidates}"
      ],
      "metadata": {
        "id": "eE1-7kc4ceQP"
      },
      "id": "eE1-7kc4ceQP",
      "execution_count": 62,
      "outputs": []
    },
    {
      "cell_type": "code",
      "source": [
        "nse = NumSubjectsExtractor(\"num_subjects_classifier.pkl.bz2\")"
      ],
      "metadata": {
        "colab": {
          "base_uri": "https://localhost:8080/"
        },
        "id": "XjoN5snqMyZH",
        "outputId": "4e41cb75-8fdb-4140-ff11-e0604385429a"
      },
      "id": "XjoN5snqMyZH",
      "execution_count": 64,
      "outputs": [
        {
          "output_type": "stream",
          "name": "stderr",
          "text": [
            "/usr/local/lib/python3.7/dist-packages/sklearn/base.py:338: UserWarning: Trying to unpickle estimator DecisionTreeClassifier from version 1.1.1 when using version 1.0.2. This might lead to breaking code or invalid results. Use at your own risk. For more info please refer to:\n",
            "https://scikit-learn.org/stable/modules/model_persistence.html#security-maintainability-limitations\n",
            "  UserWarning,\n",
            "/usr/local/lib/python3.7/dist-packages/sklearn/base.py:338: UserWarning: Trying to unpickle estimator RandomForestClassifier from version 1.1.1 when using version 1.0.2. This might lead to breaking code or invalid results. Use at your own risk. For more info please refer to:\n",
            "https://scikit-learn.org/stable/modules/model_persistence.html#security-maintainability-limitations\n",
            "  UserWarning,\n"
          ]
        }
      ]
    },
    {
      "cell_type": "code",
      "source": [
        "num_subjects_clean_map = {}\n",
        "for idx, val in enumerate(sorted(set(df_annotations[~df_annotations.num_subjects_clean.isna()].num_subjects_clean), key = lambda x : int(re.sub(r'\\D.*$', '', x)))):\n",
        "  num_subjects_clean_map[val] = idx"
      ],
      "metadata": {
        "id": "0HHgTj8Qfub9"
      },
      "id": "0HHgTj8Qfub9",
      "execution_count": 18,
      "outputs": []
    },
    {
      "cell_type": "code",
      "source": [
        "# invert the dictionary\n",
        "num_subjects_lookup = {v: k for k, v in num_subjects_clean_map.items()}"
      ],
      "metadata": {
        "id": "6jQQHMvxkC2l"
      },
      "id": "6jQQHMvxkC2l",
      "execution_count": 19,
      "outputs": []
    },
    {
      "cell_type": "code",
      "source": [
        "num_subjects_list = [num_subjects_lookup[x] for x in sorted(num_subjects_lookup)]\n",
        "num_subjects_list"
      ],
      "metadata": {
        "colab": {
          "base_uri": "https://localhost:8080/"
        },
        "id": "C6fm756mlUSk",
        "outputId": "f3d2ea73-398b-40ef-ec60-fb728cc68736"
      },
      "id": "C6fm756mlUSk",
      "execution_count": 20,
      "outputs": [
        {
          "output_type": "execute_result",
          "data": {
            "text/plain": [
              "['1-24', '25+', '50+', '100+', '200+', '500+', '1000+', '10000+']"
            ]
          },
          "metadata": {},
          "execution_count": 20
        }
      ]
    },
    {
      "cell_type": "code",
      "source": [
        "num_subjects_clean_map"
      ],
      "metadata": {
        "colab": {
          "base_uri": "https://localhost:8080/"
        },
        "id": "sDIKJA57hR-K",
        "outputId": "bd928c5e-e549-483d-fcc6-6ba2ee67df23"
      },
      "id": "sDIKJA57hR-K",
      "execution_count": 21,
      "outputs": [
        {
          "output_type": "execute_result",
          "data": {
            "text/plain": [
              "{'1-24': 0,\n",
              " '25+': 1,\n",
              " '50+': 2,\n",
              " '100+': 3,\n",
              " '200+': 4,\n",
              " '500+': 5,\n",
              " '1000+': 6,\n",
              " '10000+': 7}"
            ]
          },
          "metadata": {},
          "execution_count": 21
        }
      ]
    },
    {
      "cell_type": "code",
      "source": [
        "outputs = []\n",
        "for idx in range(len(df_val)):\n",
        "  doc = nlp(df_val.text.iloc[idx])\n",
        "  output = nse.process([[t.text for t in doc]])\n",
        "  outputs.append(output)"
      ],
      "metadata": {
        "id": "DrpUa4NdgkI2"
      },
      "id": "DrpUa4NdgkI2",
      "execution_count": 71,
      "outputs": []
    },
    {
      "cell_type": "code",
      "source": [
        "pred_proba = [o[\"prediction\"] for o in outputs]"
      ],
      "metadata": {
        "id": "5SVOApX4NUse"
      },
      "id": "5SVOApX4NUse",
      "execution_count": 72,
      "outputs": []
    },
    {
      "cell_type": "code",
      "source": [],
      "metadata": {
        "id": "d7OoRswbRsYz"
      },
      "id": "d7OoRswbRsYz",
      "execution_count": 72,
      "outputs": []
    },
    {
      "cell_type": "code",
      "source": [
        "from sklearn.metrics import mean_absolute_error\n",
        "mean_absolute_error(df_val.num_subjects, pred_proba)"
      ],
      "metadata": {
        "colab": {
          "base_uri": "https://localhost:8080/"
        },
        "id": "WfgNdMjlRsbJ",
        "outputId": "76c5c92f-3799-459e-c078-d7d734d996e4"
      },
      "id": "WfgNdMjlRsbJ",
      "execution_count": 73,
      "outputs": [
        {
          "output_type": "execute_result",
          "data": {
            "text/plain": [
              "5354.036866359447"
            ]
          },
          "metadata": {},
          "execution_count": 73
        }
      ]
    },
    {
      "cell_type": "code",
      "source": [],
      "metadata": {
        "id": "6dYBotjkRsdO"
      },
      "id": "6dYBotjkRsdO",
      "execution_count": 73,
      "outputs": []
    },
    {
      "cell_type": "code",
      "source": [
        "df_val[\"y_pred_num_subjects\"] = [get_num_subjects_clean(x) for x in  pred_proba]"
      ],
      "metadata": {
        "colab": {
          "base_uri": "https://localhost:8080/"
        },
        "id": "lKk_zrR1RW7j",
        "outputId": "14162525-18e9-45b1-924d-d045df0fa544"
      },
      "id": "lKk_zrR1RW7j",
      "execution_count": 76,
      "outputs": [
        {
          "output_type": "stream",
          "name": "stderr",
          "text": [
            "/usr/local/lib/python3.7/dist-packages/ipykernel_launcher.py:1: SettingWithCopyWarning: \n",
            "A value is trying to be set on a copy of a slice from a DataFrame.\n",
            "Try using .loc[row_indexer,col_indexer] = value instead\n",
            "\n",
            "See the caveats in the documentation: https://pandas.pydata.org/pandas-docs/stable/user_guide/indexing.html#returning-a-view-versus-a-copy\n",
            "  \"\"\"Entry point for launching an IPython kernel.\n"
          ]
        }
      ]
    },
    {
      "cell_type": "code",
      "source": [
        "plt.hist(df_val.num_subjects, range=(0,1000),bins=100, alpha=0.5 )\n",
        "plt.hist(pred_proba, range=(0,1000),bins=100, alpha=0.5 )"
      ],
      "metadata": {
        "id": "DbBjX9-agkVH",
        "colab": {
          "base_uri": "https://localhost:8080/",
          "height": 664
        },
        "outputId": "52bcd7a2-c8ec-44e8-b4f8-4f54c82260db"
      },
      "id": "DbBjX9-agkVH",
      "execution_count": 77,
      "outputs": [
        {
          "output_type": "execute_result",
          "data": {
            "text/plain": [
              "(array([ 89.,   0.,   0.,  49., 124., 109.,  85.,  42.,  34.,  29.,  51.,\n",
              "         13.,  28.,  17.,  12.,  19.,  13.,   1.,  12.,   5.,  29.,   4.,\n",
              "          8.,   2.,  12.,  10.,   5.,   5.,   4.,   4.,  14.,   2.,   3.,\n",
              "          1.,   5.,   5.,   1.,   3.,   2.,   2.,  15.,   2.,   2.,   4.,\n",
              "          1.,   8.,   1.,   2.,   1.,   1.,  12.,   2.,   4.,   0.,   1.,\n",
              "          2.,   3.,   1.,   2.,   1.,   8.,   1.,   4.,   0.,   2.,   1.,\n",
              "          0.,   2.,   0.,   0.,   7.,   0.,   0.,   1.,   1.,   6.,   2.,\n",
              "          0.,   0.,   0.,   2.,   1.,   1.,   3.,   1.,   1.,   1.,   3.,\n",
              "          1.,   0.,   3.,   0.,   0.,   0.,   1.,   0.,   0.,   0.,   0.,\n",
              "         15.]),\n",
              " array([   0.,   10.,   20.,   30.,   40.,   50.,   60.,   70.,   80.,\n",
              "          90.,  100.,  110.,  120.,  130.,  140.,  150.,  160.,  170.,\n",
              "         180.,  190.,  200.,  210.,  220.,  230.,  240.,  250.,  260.,\n",
              "         270.,  280.,  290.,  300.,  310.,  320.,  330.,  340.,  350.,\n",
              "         360.,  370.,  380.,  390.,  400.,  410.,  420.,  430.,  440.,\n",
              "         450.,  460.,  470.,  480.,  490.,  500.,  510.,  520.,  530.,\n",
              "         540.,  550.,  560.,  570.,  580.,  590.,  600.,  610.,  620.,\n",
              "         630.,  640.,  650.,  660.,  670.,  680.,  690.,  700.,  710.,\n",
              "         720.,  730.,  740.,  750.,  760.,  770.,  780.,  790.,  800.,\n",
              "         810.,  820.,  830.,  840.,  850.,  860.,  870.,  880.,  890.,\n",
              "         900.,  910.,  920.,  930.,  940.,  950.,  960.,  970.,  980.,\n",
              "         990., 1000.]),\n",
              " <a list of 100 Patch objects>)"
            ]
          },
          "metadata": {},
          "execution_count": 77
        },
        {
          "output_type": "display_data",
          "data": {
            "text/plain": [
              "<Figure size 432x288 with 1 Axes>"
            ],
            "image/png": "[encoded data removed]"
          },
          "metadata": {
            "needs_background": "light"
          }
        }
      ]
    },
    {
      "cell_type": "markdown",
      "source": [
        "## Subjects"
      ],
      "metadata": {
        "id": "lLWC7P1k5NSX"
      },
      "id": "lLWC7P1k5NSX"
    },
    {
      "cell_type": "code",
      "source": [
        "acc = accuracy_score(df_val.num_subjects_clean, df_val[\"y_pred_num_subjects\"])\n",
        "print (f\"Subjects accuracy {acc}\")"
      ],
      "metadata": {
        "id": "rYhLhDmnNuAl",
        "outputId": "e1d4a142-514f-4155-a8f0-2cfc49380af4",
        "colab": {
          "base_uri": "https://localhost:8080/"
        }
      },
      "id": "rYhLhDmnNuAl",
      "execution_count": 78,
      "outputs": [
        {
          "output_type": "stream",
          "name": "stdout",
          "text": [
            "Subjects accuracy 0.41566820276497696\n"
          ]
        }
      ]
    },
    {
      "cell_type": "code",
      "source": [
        "ConfusionMatrixDisplay.from_predictions(df_val.num_subjects_clean, df_val[\"y_pred_num_subjects\"], labels=num_subjects_list)\n",
        "plt.xticks(rotation=90)\n",
        ";"
      ],
      "metadata": {
        "id": "XOiQVXB0NuHC",
        "outputId": "c489b6a4-1fd0-4192-f121-394bf1add4bf",
        "colab": {
          "base_uri": "https://localhost:8080/",
          "height": 330
        }
      },
      "id": "XOiQVXB0NuHC",
      "execution_count": 79,
      "outputs": [
        {
          "output_type": "execute_result",
          "data": {
            "text/plain": [
              "''"
            ],
            "application/vnd.google.colaboratory.intrinsic+json": {
              "type": "string"
            }
          },
          "metadata": {},
          "execution_count": 79
        },
        {
          "output_type": "display_data",
          "data": {
            "text/plain": [
              "<Figure size 432x288 with 2 Axes>"
            ],
            "image/png": "[encoded data removed]"
          },
          "metadata": {
            "needs_background": "light"
          }
        }
      ]
    },
    {
      "cell_type": "code",
      "source": [
        "num_correct = 0\n",
        "for idx in range(len(df_val)):\n",
        "  gt = num_subjects_clean_map[df_val[\"num_subjects_clean\"].iloc[idx]]\n",
        "  pred = num_subjects_clean_map[df_val[\"y_pred_num_subjects\"].iloc[idx]]\n",
        "  is_correct = int(np.abs(gt - pred) <= 1)\n",
        "  num_correct += is_correct\n",
        "print (\"Accuracy including adjacent groups\", num_correct/len(df_val))"
      ],
      "metadata": {
        "colab": {
          "base_uri": "https://localhost:8080/"
        },
        "id": "VzFHDCRtmBA6",
        "outputId": "34ea7ffc-c17d-4da2-e2f8-9728244bdeda"
      },
      "id": "VzFHDCRtmBA6",
      "execution_count": 80,
      "outputs": [
        {
          "output_type": "stream",
          "name": "stdout",
          "text": [
            "Accuracy including adjacent groups 0.6903225806451613\n"
          ]
        }
      ]
    },
    {
      "cell_type": "code",
      "source": [],
      "metadata": {
        "id": "1MU1NT4T_DLO"
      },
      "id": "1MU1NT4T_DLO",
      "execution_count": 80,
      "outputs": []
    }
  ],
  "metadata": {
    "colab": {
      "provenance": [],
      "machine_shape": "hm",
      "include_colab_link": true
    },
    "kernelspec": {
      "display_name": "conda_tensorflow_p36",
      "language": "python",
      "name": "conda_tensorflow_p36"
    },
    "language_info": {
      "codemirror_mode": {
        "name": "ipython",
        "version": 3
      },
      "file_extension": ".py",
      "mimetype": "text/x-python",
      "name": "python",
      "nbconvert_exporter": "python",
      "pygments_lexer": "ipython3",
      "version": "3.6.13"
    },
    "accelerator": "GPU",
    "gpuClass": "premium"
  },
  "nbformat": 4,
  "nbformat_minor": 5
}