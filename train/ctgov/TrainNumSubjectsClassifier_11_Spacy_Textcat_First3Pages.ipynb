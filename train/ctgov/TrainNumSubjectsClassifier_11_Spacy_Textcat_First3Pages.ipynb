{
  "cells": [
    {
      "cell_type": "markdown",
      "metadata": {
        "id": "view-in-github",
        "colab_type": "text"
      },
      "source": [
        "<a href=\"https://colab.research.google.com/github/fastdatascience/clinical_trial_risk/blob/fixes_nov_2022/train/ctgov/TrainNumSubjectsClassifier_11_Spacy_Textcat_First3Pages.ipynb\" target=\"_parent\"><img src=\"https://colab.research.google.com/assets/colab-badge.svg\" alt=\"Open In Colab\"/></a>"
      ]
    },
    {
      "cell_type": "code",
      "execution_count": 1,
      "id": "0557d6c8",
      "metadata": {
        "id": "0557d6c8"
      },
      "outputs": [],
      "source": [
        "import pandas as pd\n",
        "import re\n",
        "import os\n",
        "import sys\n",
        "import pickle as pkl\n",
        "import seaborn as sns\n",
        "from sklearn.metrics import accuracy_score, confusion_matrix\n",
        "from sklearn.metrics import ConfusionMatrixDisplay\n",
        "from sklearn.metrics import mean_absolute_error, mean_squared_error\n",
        "from sklearn.metrics import roc_auc_score\n",
        "from sklearn.metrics import roc_curve, auc\n",
        "from IPython.display import display\n",
        "import matplotlib.pyplot as plt\n",
        "import numpy as np\n",
        "import json\n",
        "\n"
      ]
    },
    {
      "cell_type": "code",
      "source": [
        "from google.colab import drive\n",
        "drive.mount('/content/drive')"
      ],
      "metadata": {
        "colab": {
          "base_uri": "https://localhost:8080/"
        },
        "id": "mG8gR8O6QXgX",
        "outputId": "376699ab-abe1-4f2e-9fc2-d4a7b8bfd1c9"
      },
      "id": "mG8gR8O6QXgX",
      "execution_count": 2,
      "outputs": [
        {
          "output_type": "stream",
          "name": "stdout",
          "text": [
            "Drive already mounted at /content/drive; to attempt to forcibly remount, call drive.mount(\"/content/drive\", force_remount=True).\n"
          ]
        }
      ]
    },
    {
      "cell_type": "code",
      "source": [
        "df_annotations = pd.read_csv(\"/content/drive/MyDrive/data/all_annotations.csv\")\n"
      ],
      "metadata": {
        "id": "HyXyGuD_P6s7"
      },
      "id": "HyXyGuD_P6s7",
      "execution_count": 3,
      "outputs": []
    },
    {
      "cell_type": "markdown",
      "id": "4b2e7a73",
      "metadata": {
        "id": "4b2e7a73"
      },
      "source": [
        "# Get data"
      ]
    },
    {
      "cell_type": "code",
      "execution_count": 4,
      "id": "c8ebd7a5",
      "metadata": {
        "id": "c8ebd7a5"
      },
      "outputs": [],
      "source": [
        "with open(\"/content/drive/MyDrive/data/protocols.pkl.gz\", \"rb\") as f:\n",
        "    file_to_pages = pkl.load(f)"
      ]
    },
    {
      "cell_type": "code",
      "execution_count": 5,
      "id": "6148cb3b",
      "metadata": {
        "id": "6148cb3b"
      },
      "outputs": [],
      "source": [
        "\n",
        "texts = []\n",
        "\n",
        "for i in range(len(df_annotations)):\n",
        "    file_name = df_annotations.file.iloc[i]\n",
        "    \n",
        "    pages= file_to_pages[file_name]\n",
        "    # Limit to first 3 pages because of memory constraints\n",
        "    if len(pages) > 3:\n",
        "      pages = pages[:3]\n",
        "\n",
        "    texts.append(\" \".join(pages))\n",
        "df_annotations[\"text\"] = texts"
      ]
    },
    {
      "cell_type": "code",
      "execution_count": 6,
      "id": "93361b2c",
      "metadata": {
        "id": "93361b2c"
      },
      "outputs": [],
      "source": [
        " del file_to_pages"
      ]
    },
    {
      "cell_type": "code",
      "execution_count": 7,
      "id": "9fbe5bf0",
      "metadata": {
        "id": "9fbe5bf0",
        "scrolled": true
      },
      "outputs": [],
      "source": [
        "df_annotations = df_annotations[~df_annotations.num_subjects.isna()]"
      ]
    },
    {
      "cell_type": "code",
      "execution_count": 8,
      "id": "cfac2830",
      "metadata": {
        "id": "cfac2830",
        "colab": {
          "base_uri": "https://localhost:8080/"
        },
        "outputId": "8a496144-e262-4311-c882-6be588e1bbdc"
      },
      "outputs": [
        {
          "output_type": "execute_result",
          "data": {
            "text/plain": [
              "20.0      198\n",
              "10.0      179\n",
              "24.0      174\n",
              "30.0      174\n",
              "12.0      160\n",
              "         ... \n",
              "1311.0      1\n",
              "598.0       1\n",
              "1300.0      1\n",
              "2218.0      1\n",
              "4891.0      1\n",
              "Name: num_subjects, Length: 1444, dtype: int64"
            ]
          },
          "metadata": {},
          "execution_count": 8
        }
      ],
      "source": [
        "df_annotations[\"num_subjects\"].value_counts()"
      ]
    },
    {
      "cell_type": "code",
      "source": [
        "def get_num_subjects_clean(num):\n",
        "    if pd.isna(num):\n",
        "        return None\n",
        "    if num >= 10000:\n",
        "        return \"10000+\"\n",
        "    if num >= 1000:\n",
        "        return \"1000+\"\n",
        "    if num >= 500:\n",
        "        return \"500+\"\n",
        "    if num >= 200:\n",
        "        return \"200+\"\n",
        "    if num >= 100:\n",
        "        return \"100+\"\n",
        "    if num >= 50:\n",
        "        return \"50+\"\n",
        "    if num >= 25:\n",
        "        return \"25+\"\n",
        "    return \"1-24\"\n",
        "df_annotations[\"num_subjects_clean\"] = df_annotations[\"num_subjects\"].apply(get_num_subjects_clean)"
      ],
      "metadata": {
        "id": "EhFnhl7tNHeb",
        "colab": {
          "base_uri": "https://localhost:8080/"
        },
        "outputId": "e2bdbe43-376d-4f9f-adcd-d1c56df018c8"
      },
      "id": "EhFnhl7tNHeb",
      "execution_count": 9,
      "outputs": [
        {
          "output_type": "stream",
          "name": "stderr",
          "text": [
            "/usr/local/lib/python3.7/dist-packages/ipykernel_launcher.py:19: SettingWithCopyWarning: \n",
            "A value is trying to be set on a copy of a slice from a DataFrame.\n",
            "Try using .loc[row_indexer,col_indexer] = value instead\n",
            "\n",
            "See the caveats in the documentation: https://pandas.pydata.org/pandas-docs/stable/user_guide/indexing.html#returning-a-view-versus-a-copy\n"
          ]
        }
      ]
    },
    {
      "cell_type": "code",
      "execution_count": 10,
      "id": "068abf18",
      "metadata": {
        "id": "068abf18",
        "colab": {
          "base_uri": "https://localhost:8080/"
        },
        "outputId": "4da90241-67f6-456f-8e74-b728ca524eb8"
      },
      "outputs": [
        {
          "output_type": "execute_result",
          "data": {
            "text/plain": [
              "1-24      2980\n",
              "25+       2119\n",
              "50+       2016\n",
              "100+      1674\n",
              "200+      1656\n",
              "500+       816\n",
              "1000+      547\n",
              "10000+     112\n",
              "Name: num_subjects_clean, dtype: int64"
            ]
          },
          "metadata": {},
          "execution_count": 10
        }
      ],
      "source": [
        "df_annotations[\"num_subjects_clean\"].value_counts()"
      ]
    },
    {
      "cell_type": "code",
      "source": [
        "labels = list(sorted(set(df_annotations[\"num_subjects_clean\"]), key =lambda x : int(re.sub(r'\\D.*', '', x))))\n",
        "labels"
      ],
      "metadata": {
        "colab": {
          "base_uri": "https://localhost:8080/"
        },
        "id": "tg_Q5ZLIGknP",
        "outputId": "774cd8dd-899a-417c-dc49-d0277793d4ce"
      },
      "id": "tg_Q5ZLIGknP",
      "execution_count": 11,
      "outputs": [
        {
          "output_type": "execute_result",
          "data": {
            "text/plain": [
              "['1-24', '25+', '50+', '100+', '200+', '500+', '1000+', '10000+']"
            ]
          },
          "metadata": {},
          "execution_count": 11
        }
      ]
    },
    {
      "cell_type": "code",
      "source": [
        "import spacy\n",
        "nlp = spacy.blank(\"en\")\n",
        "from spacy.tokens import DocBin\n",
        "\n",
        "docs_train = []\n",
        "for i in range(10):\n",
        "  docs_train.append(DocBin())\n",
        "docs_val = DocBin()\n",
        "\n",
        "for idx in range(len(df_annotations)):\n",
        "  if idx % 100 == 0:\n",
        "    print (idx, len(df_annotations))\n",
        "  if df_annotations.train_val.iloc[idx] == \"train\":\n",
        "    docs_list = docs_train[idx % 10]\n",
        "  else:\n",
        "    docs_list = docs_val\n",
        "  text = str(df_annotations.text.iloc[idx])\n",
        "  if len(text) > 100000:\n",
        "      text = text[:100000]\n",
        "  doc = nlp(text)\n",
        "\n",
        "  cats = {}\n",
        "  for a in labels:\n",
        "      cats[a] = 0\n",
        "  if pd.isna(df_annotations.num_subjects_clean.iloc[idx]):\n",
        "    continue\n",
        "  cats[df_annotations.num_subjects_clean.iloc[idx]] = 1\n",
        "  doc.cats = cats\n",
        "\n",
        "  aug = 1\n",
        "  # upsample\n",
        "  if df_annotations.train_val.iloc[idx] == \"train\" and df_annotations.num_subjects_clean.iloc[idx] in (\"500+\", \"1000+\", \"10000+\"):\n",
        "    aug = 2\n",
        "  for i in range(aug):\n",
        "    docs_list.add(doc)"
      ],
      "metadata": {
        "colab": {
          "base_uri": "https://localhost:8080/"
        },
        "id": "8YqH-b1AHVRy",
        "outputId": "73f4bd28-214b-4544-c6a4-d7699e07e13b"
      },
      "id": "8YqH-b1AHVRy",
      "execution_count": 16,
      "outputs": [
        {
          "output_type": "stream",
          "name": "stdout",
          "text": [
            "0 11920\n",
            "100 11920\n",
            "200 11920\n",
            "300 11920\n",
            "400 11920\n",
            "500 11920\n",
            "600 11920\n",
            "700 11920\n",
            "800 11920\n",
            "900 11920\n",
            "1000 11920\n",
            "1100 11920\n",
            "1200 11920\n",
            "1300 11920\n",
            "1400 11920\n",
            "1500 11920\n",
            "1600 11920\n",
            "1700 11920\n",
            "1800 11920\n",
            "1900 11920\n",
            "2000 11920\n",
            "2100 11920\n",
            "2200 11920\n",
            "2300 11920\n",
            "2400 11920\n",
            "2500 11920\n",
            "2600 11920\n",
            "2700 11920\n",
            "2800 11920\n",
            "2900 11920\n",
            "3000 11920\n",
            "3100 11920\n",
            "3200 11920\n",
            "3300 11920\n",
            "3400 11920\n",
            "3500 11920\n",
            "3600 11920\n",
            "3700 11920\n",
            "3800 11920\n",
            "3900 11920\n",
            "4000 11920\n",
            "4100 11920\n",
            "4200 11920\n",
            "4300 11920\n",
            "4400 11920\n",
            "4500 11920\n",
            "4600 11920\n",
            "4700 11920\n",
            "4800 11920\n",
            "4900 11920\n",
            "5000 11920\n",
            "5100 11920\n",
            "5200 11920\n",
            "5300 11920\n",
            "5400 11920\n",
            "5500 11920\n",
            "5600 11920\n",
            "5700 11920\n",
            "5800 11920\n",
            "5900 11920\n",
            "6000 11920\n",
            "6100 11920\n",
            "6200 11920\n",
            "6300 11920\n",
            "6400 11920\n",
            "6500 11920\n",
            "6600 11920\n",
            "6700 11920\n",
            "6800 11920\n",
            "6900 11920\n",
            "7000 11920\n",
            "7100 11920\n",
            "7200 11920\n",
            "7300 11920\n",
            "7400 11920\n",
            "7500 11920\n",
            "7600 11920\n",
            "7700 11920\n",
            "7800 11920\n",
            "7900 11920\n",
            "8000 11920\n",
            "8100 11920\n",
            "8200 11920\n",
            "8300 11920\n",
            "8400 11920\n",
            "8500 11920\n",
            "8600 11920\n",
            "8700 11920\n",
            "8800 11920\n",
            "8900 11920\n",
            "9000 11920\n",
            "9100 11920\n",
            "9200 11920\n",
            "9300 11920\n",
            "9400 11920\n",
            "9500 11920\n",
            "9600 11920\n",
            "9700 11920\n",
            "9800 11920\n",
            "9900 11920\n",
            "10000 11920\n",
            "10100 11920\n",
            "10200 11920\n",
            "10300 11920\n",
            "10400 11920\n",
            "10500 11920\n",
            "10600 11920\n",
            "10700 11920\n",
            "10800 11920\n",
            "10900 11920\n",
            "11000 11920\n",
            "11100 11920\n",
            "11200 11920\n",
            "11300 11920\n",
            "11400 11920\n",
            "11500 11920\n",
            "11600 11920\n",
            "11700 11920\n",
            "11800 11920\n",
            "11900 11920\n"
          ]
        }
      ]
    },
    {
      "cell_type": "code",
      "source": [
        "!mkdir train.spacy\n",
        "!mkdir /content/drive/MyDrive/data/subjects_11_train.spacy\n"
      ],
      "metadata": {
        "colab": {
          "base_uri": "https://localhost:8080/"
        },
        "id": "9gLDu1qFTxls",
        "outputId": "57a08139-3e3a-45e5-bf2c-a71f37751f78"
      },
      "id": "9gLDu1qFTxls",
      "execution_count": 17,
      "outputs": [
        {
          "output_type": "stream",
          "name": "stdout",
          "text": [
            "mkdir: cannot create directory ‘train.spacy’: File exists\n",
            "mkdir: cannot create directory ‘/content/drive/MyDrive/data/subjects_11_train.spacy’: File exists\n"
          ]
        }
      ]
    },
    {
      "cell_type": "code",
      "source": [
        "for idx, doc_bin_train in enumerate(docs_train):\n",
        "  doc_bin_train.to_disk(f\"train.spacy/train_doc_bin{idx}.spacy\")\n",
        "  doc_bin_train.to_disk(f\"/content/drive/MyDrive/data/subjects_11_train.spacy/train_doc_bin{idx}.spacy\")"
      ],
      "metadata": {
        "id": "EhS_f_Z3TsRG"
      },
      "id": "EhS_f_Z3TsRG",
      "execution_count": 18,
      "outputs": []
    },
    {
      "cell_type": "code",
      "source": [
        "docs_val.to_disk(\"dev.spacy\")"
      ],
      "metadata": {
        "id": "Ld9Qv0nuQ_V1"
      },
      "id": "Ld9Qv0nuQ_V1",
      "execution_count": 19,
      "outputs": []
    },
    {
      "cell_type": "code",
      "source": [
        "docs_val.to_disk(\"/content/drive/MyDrive/data/subjects_11_dev.spacy\")"
      ],
      "metadata": {
        "id": "YkMG6YPeRB2i"
      },
      "id": "YkMG6YPeRB2i",
      "execution_count": 20,
      "outputs": []
    },
    {
      "cell_type": "code",
      "execution_count": 21,
      "id": "6b88f1c9",
      "metadata": {
        "id": "6b88f1c9",
        "colab": {
          "base_uri": "https://localhost:8080/"
        },
        "outputId": "697174bb-5f8c-4845-d3f9-1c6ae281853f"
      },
      "outputs": [
        {
          "output_type": "stream",
          "name": "stdout",
          "text": [
            "\u001b[38;5;2m✔ Created output directory:\n",
            "/content/drive/MyDrive/data/output_subjects_11\u001b[0m\n",
            "\u001b[38;5;4mℹ Saving to output directory:\n",
            "/content/drive/MyDrive/data/output_subjects_11\u001b[0m\n",
            "\u001b[38;5;4mℹ Using GPU: 0\u001b[0m\n",
            "\u001b[1m\n",
            "=========================== Initializing pipeline ===========================\u001b[0m\n",
            "[2022-11-17 15:09:05,310] [INFO] Set up nlp object from config\n",
            "INFO:spacy:Set up nlp object from config\n",
            "[2022-11-17 15:09:05,321] [INFO] Pipeline: ['textcat']\n",
            "INFO:spacy:Pipeline: ['textcat']\n",
            "[2022-11-17 15:09:05,325] [INFO] Created vocabulary\n",
            "INFO:spacy:Created vocabulary\n",
            "[2022-11-17 15:09:05,326] [INFO] Finished initializing nlp object\n",
            "INFO:spacy:Finished initializing nlp object\n",
            "[2022-11-17 15:11:43,886] [INFO] Initialized pipeline components: ['textcat']\n",
            "INFO:spacy:Initialized pipeline components: ['textcat']\n",
            "\u001b[38;5;2m✔ Initialized pipeline\u001b[0m\n",
            "\u001b[1m\n",
            "============================= Training pipeline =============================\u001b[0m\n",
            "\u001b[38;5;4mℹ Pipeline: ['textcat']\u001b[0m\n",
            "\u001b[38;5;4mℹ Initial learn rate: 0.0\u001b[0m\n",
            "E    #       LOSS TEXTCAT  CATS_SCORE  SCORE \n",
            "---  ------  ------------  ----------  ------\n",
            "  0       0          0.11        0.00    0.00\n",
            "  0     200         28.42        0.04    0.00\n",
            "  0     400         35.21        0.38    0.00\n",
            "  0     600         27.98        1.24    0.01\n",
            "\n",
            "Aborted!\n"
          ]
        }
      ],
      "source": [
        "!python -m spacy train ./spacy_textcat_is_international_11.cfg --output /content/drive/MyDrive/data/output_subjects_11 --paths.train train.spacy --paths.dev  dev.spacy --gpu-id 0"
      ]
    },
    {
      "cell_type": "code",
      "source": [
        "import spacy\n",
        "nlp = spacy.load(\"/content/drive/MyDrive/data/output_subjects_11/model-best\")"
      ],
      "metadata": {
        "id": "RA18XmbkRge_"
      },
      "id": "RA18XmbkRge_",
      "execution_count": 27,
      "outputs": []
    },
    {
      "cell_type": "code",
      "source": [
        "df_val = df_annotations[df_annotations.train_val==\"val\"]\n",
        "\n",
        "predictions = []\n",
        "for idx in range(len(df_val)):\n",
        "    doc = nlp(df_val.text.apply(str).iloc[idx])\n",
        "    predictions.append(doc.cats)"
      ],
      "metadata": {
        "id": "i6kKqURLRmk4"
      },
      "id": "i6kKqURLRmk4",
      "execution_count": 28,
      "outputs": []
    },
    {
      "cell_type": "code",
      "source": [
        "# pred_proba = []\n",
        "# for idx in range(len(df_val)):\n",
        "#     pred_proba.append([predictions[idx][a] for a in range(num_classes)])"
      ],
      "metadata": {
        "id": "sh2k1WwZRqqn"
      },
      "id": "sh2k1WwZRqqn",
      "execution_count": 29,
      "outputs": []
    },
    {
      "cell_type": "code",
      "source": [
        "predictions = []\n",
        "for idx in range(len(df_val)):\n",
        "    doc = nlp(df_val.text.apply(str).iloc[idx])\n",
        "    predictions.append(doc.cats)"
      ],
      "metadata": {
        "id": "WzVdvY9tR84X"
      },
      "id": "WzVdvY9tR84X",
      "execution_count": 31,
      "outputs": []
    },
    {
      "cell_type": "code",
      "execution_count": 32,
      "id": "68ebd9f0",
      "metadata": {
        "id": "68ebd9f0",
        "scrolled": true,
        "colab": {
          "base_uri": "https://localhost:8080/"
        },
        "outputId": "a1eb4e12-8e45-4161-8da1-84351f439b72"
      },
      "outputs": [
        {
          "output_type": "stream",
          "name": "stderr",
          "text": [
            "/usr/local/lib/python3.7/dist-packages/ipykernel_launcher.py:1: SettingWithCopyWarning: \n",
            "A value is trying to be set on a copy of a slice from a DataFrame.\n",
            "Try using .loc[row_indexer,col_indexer] = value instead\n",
            "\n",
            "See the caveats in the documentation: https://pandas.pydata.org/pandas-docs/stable/user_guide/indexing.html#returning-a-view-versus-a-copy\n",
            "  \"\"\"Entry point for launching an IPython kernel.\n"
          ]
        }
      ],
      "source": [
        "df_val[\"y_pred\"] = [max(p, key=p.get) for p in predictions]"
      ]
    },
    {
      "cell_type": "code",
      "execution_count": 33,
      "id": "118aef49",
      "metadata": {
        "id": "118aef49"
      },
      "outputs": [],
      "source": [
        "num_subjects_ground_truths = df_val.num_subjects_clean\n",
        "pred_num_subjects = df_val[\"y_pred\"]"
      ]
    },
    {
      "cell_type": "code",
      "execution_count": 34,
      "id": "73495a5c",
      "metadata": {
        "id": "73495a5c",
        "colab": {
          "base_uri": "https://localhost:8080/"
        },
        "outputId": "42028a09-ec55-4211-8b68-c027d6160216"
      },
      "outputs": [
        {
          "output_type": "stream",
          "name": "stdout",
          "text": [
            "Num subjects accuracy 0.25806451612903225\n"
          ]
        }
      ],
      "source": [
        "acc = accuracy_score(num_subjects_ground_truths, pred_num_subjects)\n",
        "print (f\"Num subjects accuracy {acc}\")"
      ]
    },
    {
      "cell_type": "code",
      "execution_count": 38,
      "id": "775ae91e",
      "metadata": {
        "id": "775ae91e",
        "colab": {
          "base_uri": "https://localhost:8080/",
          "height": 327
        },
        "outputId": "73c242c8-437e-4f01-81ff-b3a35374b16e"
      },
      "outputs": [
        {
          "output_type": "execute_result",
          "data": {
            "text/plain": [
              "''"
            ],
            "application/vnd.google.colaboratory.intrinsic+json": {
              "type": "string"
            }
          },
          "metadata": {},
          "execution_count": 38
        },
        {
          "output_type": "display_data",
          "data": {
            "text/plain": [
              "<Figure size 432x288 with 2 Axes>"
            ],
            "image/png": "[encoded data removed]"
          },
          "metadata": {
            "needs_background": "light"
          }
        }
      ],
      "source": [
        "ConfusionMatrixDisplay.from_predictions(num_subjects_ground_truths, pred_num_subjects, labels=labels)\n",
        "plt.xticks(rotation=90)\n",
        ";"
      ]
    },
    {
      "cell_type": "code",
      "execution_count": 36,
      "id": "16527f52",
      "metadata": {
        "id": "16527f52",
        "colab": {
          "base_uri": "https://localhost:8080/"
        },
        "outputId": "9bdc432f-500f-42d4-a695-a3a54b1e59fe"
      },
      "outputs": [
        {
          "output_type": "stream",
          "name": "stdout",
          "text": [
            "Num arms ROC AUC 0.677982052462034 for 1-24 subjects\n",
            "Num arms ROC AUC 0.579681704232222 for 25+ subjects\n",
            "Num arms ROC AUC 0.5345211930926217 for 50+ subjects\n",
            "Num arms ROC AUC 0.5389956482972467 for 100+ subjects\n",
            "Num arms ROC AUC 0.6192180496932249 for 200+ subjects\n",
            "Num arms ROC AUC 0.6989900718931872 for 500+ subjects\n",
            "Num arms ROC AUC 0.6391945022631909 for 1000+ subjects\n",
            "Num arms ROC AUC 0.8720984215413184 for 10000+ subjects\n",
            "Average 0.6450852054343807\n"
          ]
        }
      ],
      "source": [
        "all_aucs = []\n",
        "from sklearn.metrics import roc_auc_score\n",
        "for i in labels:\n",
        "  roc_auc = roc_auc_score(num_subjects_ground_truths == i, [p[i] for p in predictions])\n",
        "  print (f\"Num arms ROC AUC {roc_auc} for {i} subjects\")\n",
        "  all_aucs.append(roc_auc)\n",
        "print (\"Average\", np.mean(all_aucs))"
      ]
    },
    {
      "cell_type": "code",
      "source": [
        "plt.figure()\n",
        "lw = 2\n",
        "    \n",
        "for i in labels:\n",
        "    fpr, tpr, _ = roc_curve(num_subjects_ground_truths == i, [p[i] for p in predictions])\n",
        "    roc_auc = auc(fpr, tpr)\n",
        "    plt.plot(\n",
        "        fpr,\n",
        "        tpr,\n",
        "        # color=\"darkorange\",\n",
        "        lw=lw,\n",
        "        label=f\"ROC curve {i} subjects (area = {roc_auc:0.2f})\"\n",
        "    )\n",
        "    plt.plot([0, 1], [0, 1], color=\"gray\", alpha=0.5, lw=lw, linestyle=\"--\")\n",
        "plt.xlim([0.0, 1.0])\n",
        "plt.ylim([0.0, 1.05])\n",
        "plt.xlabel(\"False Positive Rate\")\n",
        "plt.ylabel(\"True Positive Rate\")\n",
        "plt.title(\"Receiver operating characteristic example\")\n",
        "plt.legend(loc=\"lower right\")\n",
        "plt.show()"
      ],
      "metadata": {
        "id": "bvS_8GcTMgCl",
        "colab": {
          "base_uri": "https://localhost:8080/",
          "height": 295
        },
        "outputId": "2802afaf-92a2-4fb6-8c17-2411d129af76"
      },
      "id": "bvS_8GcTMgCl",
      "execution_count": 37,
      "outputs": [
        {
          "output_type": "display_data",
          "data": {
            "text/plain": [
              "<Figure size 432x288 with 1 Axes>"
            ],
            "image/png": "[encoded data removed]"
          },
          "metadata": {
            "needs_background": "light"
          }
        }
      ]
    },
    {
      "cell_type": "code",
      "source": [],
      "metadata": {
        "id": "W7qDw2rgSHKj"
      },
      "id": "W7qDw2rgSHKj",
      "execution_count": 37,
      "outputs": []
    }
  ],
  "metadata": {
    "colab": {
      "provenance": [],
      "machine_shape": "hm",
      "include_colab_link": true
    },
    "kernelspec": {
      "display_name": "Python [conda env:py310] *",
      "language": "python",
      "name": "conda-env-py310-py"
    },
    "language_info": {
      "codemirror_mode": {
        "name": "ipython",
        "version": 3
      },
      "file_extension": ".py",
      "mimetype": "text/x-python",
      "name": "python",
      "nbconvert_exporter": "python",
      "pygments_lexer": "ipython3",
      "version": "3.10.4"
    },
    "gpuClass": "standard",
    "accelerator": "GPU"
  },
  "nbformat": 4,
  "nbformat_minor": 5
}