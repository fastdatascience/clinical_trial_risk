{
 "cells": [
  {
   "cell_type": "code",
   "execution_count": 1,
   "id": "9eed3f3c",
   "metadata": {},
   "outputs": [],
   "source": [
    "import pandas as pd\n",
    "import re\n",
    "import os\n",
    "import sys\n",
    "import pickle as pkl\n",
    "import seaborn as sns\n",
    "from sklearn.metrics import accuracy_score, confusion_matrix\n",
    "from sklearn.metrics import ConfusionMatrixDisplay\n",
    "from sklearn.metrics import mean_absolute_error, mean_squared_error\n",
    "from sklearn.metrics import roc_auc_score\n",
    "from sklearn.metrics import roc_curve, auc\n",
    "from IPython.display import display\n",
    "import matplotlib.pyplot as plt\n",
    "import numpy as np\n",
    "import json\n",
    "\n",
    "\n",
    "# Point this path to where you unzipped the clinical_trial_risk repository\n",
    "REPO_DIR = \"/media/thomas/642d0db5-2c98-4156-b591-1a3572c5868c/projects_client/clinical_trial_risk\"\n",
    "sys.path.append(REPO_DIR + \"/front_end\")\n",
    "\n",
    "df_annotations = pd.read_csv(\"../../data/ctgov/annotations/all_annotations.csv\")\n"
   ]
  },
  {
   "cell_type": "code",
   "execution_count": 2,
   "id": "a526601d",
   "metadata": {},
   "outputs": [],
   "source": [
    "MODELS_DIR = REPO_DIR + '/front_end/models/'"
   ]
  },
  {
   "cell_type": "code",
   "execution_count": 3,
   "id": "8f2b933e",
   "metadata": {},
   "outputs": [],
   "source": [
    "from util.page_tokeniser import tokenise_pages"
   ]
  },
  {
   "cell_type": "code",
   "execution_count": 4,
   "id": "bbc754b4",
   "metadata": {},
   "outputs": [
    {
     "name": "stderr",
     "output_type": "stream",
     "text": [
      "/media/thomas/642d0db5-2c98-4156-b591-1a3572c5868c/anaconda3/envs/py310/lib/python3.10/site-packages/torch/cuda/__init__.py:83: UserWarning: CUDA initialization: CUDA unknown error - this may be due to an incorrectly set up environment, e.g. changing env variable CUDA_VISIBLE_DEVICES after program start. Setting the available devices to be zero. (Triggered internally at  ../c10/cuda/CUDAFunctions.cpp:109.)\n",
      "  return torch._C._cuda_getDeviceCount() > 0\n",
      "2022-11-21 23:52:35.549549: I tensorflow/core/platform/cpu_feature_guard.cc:193] This TensorFlow binary is optimized with oneAPI Deep Neural Network Library (oneDNN) to use the following CPU instructions in performance-critical operations:  AVX2 FMA\n",
      "To enable them in other operations, rebuild TensorFlow with the appropriate compiler flags.\n",
      "2022-11-21 23:52:35.702180: W tensorflow/stream_executor/platform/default/dso_loader.cc:64] Could not load dynamic library 'libcudart.so.11.0'; dlerror: libcudart.so.11.0: cannot open shared object file: No such file or directory\n",
      "2022-11-21 23:52:35.702196: I tensorflow/stream_executor/cuda/cudart_stub.cc:29] Ignore above cudart dlerror if you do not have a GPU set up on your machine.\n",
      "2022-11-21 23:52:35.734091: E tensorflow/stream_executor/cuda/cuda_blas.cc:2981] Unable to register cuBLAS factory: Attempting to register factory for plugin cuBLAS when one has already been registered\n",
      "2022-11-21 23:52:36.414867: W tensorflow/stream_executor/platform/default/dso_loader.cc:64] Could not load dynamic library 'libnvinfer.so.7'; dlerror: libnvinfer.so.7: cannot open shared object file: No such file or directory\n",
      "2022-11-21 23:52:36.414979: W tensorflow/stream_executor/platform/default/dso_loader.cc:64] Could not load dynamic library 'libnvinfer_plugin.so.7'; dlerror: libnvinfer_plugin.so.7: cannot open shared object file: No such file or directory\n",
      "2022-11-21 23:52:36.414986: W tensorflow/compiler/tf2tensorrt/utils/py_utils.cc:38] TF-TRT Warning: Cannot dlopen some TensorRT libraries. If you would like to use Nvidia GPU with TensorRT, please make sure the missing libraries mentioned above are installed properly.\n",
      "2022-11-21 23:52:37.228440: E tensorflow/stream_executor/cuda/cuda_driver.cc:265] failed call to cuInit: CUDA_ERROR_UNKNOWN: unknown error\n",
      "2022-11-21 23:52:37.228469: I tensorflow/stream_executor/cuda/cuda_diagnostics.cc:169] retrieving CUDA diagnostic information for host: mufasa\n",
      "2022-11-21 23:52:37.228477: I tensorflow/stream_executor/cuda/cuda_diagnostics.cc:176] hostname: mufasa\n",
      "2022-11-21 23:52:37.228573: I tensorflow/stream_executor/cuda/cuda_diagnostics.cc:200] libcuda reported version is: 470.141.3\n",
      "2022-11-21 23:52:37.228597: I tensorflow/stream_executor/cuda/cuda_diagnostics.cc:204] kernel reported version is: 470.141.3\n",
      "2022-11-21 23:52:37.228604: I tensorflow/stream_executor/cuda/cuda_diagnostics.cc:310] kernel version seems to match DSO: 470.141.3\n"
     ]
    }
   ],
   "source": [
    "from processors.num_subjects_extractor import NumSubjectsExtractor"
   ]
  },
  {
   "cell_type": "code",
   "execution_count": 5,
   "id": "4bc7c815",
   "metadata": {},
   "outputs": [],
   "source": [
    "from processors.num_subjects_extractor_naive_bayes import NumSubjectsExtractorNaiveBayes"
   ]
  },
  {
   "cell_type": "code",
   "execution_count": 6,
   "id": "5222c584",
   "metadata": {},
   "outputs": [
    {
     "name": "stderr",
     "output_type": "stream",
     "text": [
      "/media/thomas/642d0db5-2c98-4156-b591-1a3572c5868c/anaconda3/envs/py310/lib/python3.10/site-packages/sklearn/base.py:329: UserWarning: Trying to unpickle estimator DecisionTreeClassifier from version 1.1.1 when using version 1.1.2. This might lead to breaking code or invalid results. Use at your own risk. For more info please refer to:\n",
      "https://scikit-learn.org/stable/model_persistence.html#security-maintainability-limitations\n",
      "  warnings.warn(\n",
      "/media/thomas/642d0db5-2c98-4156-b591-1a3572c5868c/anaconda3/envs/py310/lib/python3.10/site-packages/sklearn/base.py:329: UserWarning: Trying to unpickle estimator RandomForestClassifier from version 1.1.1 when using version 1.1.2. This might lead to breaking code or invalid results. Use at your own risk. For more info please refer to:\n",
      "https://scikit-learn.org/stable/model_persistence.html#security-maintainability-limitations\n",
      "  warnings.warn(\n"
     ]
    }
   ],
   "source": [
    "num_subjects_extractor = NumSubjectsExtractor(MODELS_DIR + \"num_subjects_classifier.pkl.bz2\")"
   ]
  },
  {
   "cell_type": "code",
   "execution_count": 7,
   "id": "93a494a5",
   "metadata": {
    "scrolled": true
   },
   "outputs": [
    {
     "name": "stdout",
     "output_type": "stream",
     "text": [
      "Initialising Num Subjects classifier /media/thomas/642d0db5-2c98-4156-b591-1a3572c5868c/projects_client/clinical_trial_risk/front_end/models/subjects_classifier_document_level.pkl.bz2\n"
     ]
    },
    {
     "name": "stderr",
     "output_type": "stream",
     "text": [
      "/media/thomas/642d0db5-2c98-4156-b591-1a3572c5868c/anaconda3/envs/py310/lib/python3.10/site-packages/sklearn/base.py:329: UserWarning: Trying to unpickle estimator CountVectorizer from version 1.0.2 when using version 1.1.2. This might lead to breaking code or invalid results. Use at your own risk. For more info please refer to:\n",
      "https://scikit-learn.org/stable/model_persistence.html#security-maintainability-limitations\n",
      "  warnings.warn(\n",
      "/media/thomas/642d0db5-2c98-4156-b591-1a3572c5868c/anaconda3/envs/py310/lib/python3.10/site-packages/sklearn/base.py:329: UserWarning: Trying to unpickle estimator TfidfTransformer from version 1.0.2 when using version 1.1.2. This might lead to breaking code or invalid results. Use at your own risk. For more info please refer to:\n",
      "https://scikit-learn.org/stable/model_persistence.html#security-maintainability-limitations\n",
      "  warnings.warn(\n",
      "/media/thomas/642d0db5-2c98-4156-b591-1a3572c5868c/anaconda3/envs/py310/lib/python3.10/site-packages/sklearn/base.py:329: UserWarning: Trying to unpickle estimator MultinomialNB from version 1.0.2 when using version 1.1.2. This might lead to breaking code or invalid results. Use at your own risk. For more info please refer to:\n",
      "https://scikit-learn.org/stable/model_persistence.html#security-maintainability-limitations\n",
      "  warnings.warn(\n",
      "/media/thomas/642d0db5-2c98-4156-b591-1a3572c5868c/anaconda3/envs/py310/lib/python3.10/site-packages/sklearn/base.py:329: UserWarning: Trying to unpickle estimator Pipeline from version 1.0.2 when using version 1.1.2. This might lead to breaking code or invalid results. Use at your own risk. For more info please refer to:\n",
      "https://scikit-learn.org/stable/model_persistence.html#security-maintainability-limitations\n",
      "  warnings.warn(\n"
     ]
    }
   ],
   "source": [
    "num_subjects_extractor_nb = NumSubjectsExtractorNaiveBayes(MODELS_DIR + \"subjects_classifier_document_level.pkl.bz2\")"
   ]
  },
  {
   "cell_type": "code",
   "execution_count": 8,
   "id": "86b19741",
   "metadata": {},
   "outputs": [],
   "source": [
    "df_train = df_annotations[df_annotations.train_val == \"val\"]"
   ]
  },
  {
   "cell_type": "code",
   "execution_count": 9,
   "id": "a53b1305",
   "metadata": {},
   "outputs": [],
   "source": [
    "df_train_small = df_train[~df_train.num_subjects.isna()].sample(1000)"
   ]
  },
  {
   "cell_type": "code",
   "execution_count": null,
   "id": "20e38210",
   "metadata": {},
   "outputs": [],
   "source": []
  },
  {
   "cell_type": "code",
   "execution_count": 10,
   "id": "e15cee30",
   "metadata": {},
   "outputs": [],
   "source": [
    "texts =[]\n",
    "for i in range(len(df_train_small)):\n",
    "    file_name = df_train_small.file.iloc[i]\n",
    "\n",
    "    with open(\"/media/thomas/642d0db5-2c98-4156-b591-1a3572c5868c/data_open/read_ctgov_data/json/\" + file_name + \".json\", \"r\", encoding=\"utf-8\") as f:\n",
    "        pages = json.load(f)\n",
    "    texts.append(pages)\n",
    "df_train_small[\"pages\"] = texts"
   ]
  },
  {
   "cell_type": "code",
   "execution_count": 11,
   "id": "dccca4ce",
   "metadata": {},
   "outputs": [],
   "source": [
    "pred1 = []\n",
    "pred2 = []\n",
    "\n",
    "\n",
    "y1 = []\n",
    "y2 = []\n",
    "for idx in range(len(df_train_small)):\n",
    "    tokenised_pages = tokenise_pages(df_train_small.pages.iloc[idx])\n",
    "    \n",
    "    subj_to_pages = num_subjects_extractor.process(tokenised_pages)\n",
    "    pred1.append(subj_to_pages[\"prediction\"])\n",
    "    y1.append(subj_to_pages[\"proba\"])\n",
    "    \n",
    "    subj_to_pages_nb = num_subjects_extractor_nb.process(tokenised_pages)\n",
    "    pred2.append(subj_to_pages_nb[\"prediction\"])\n",
    "    y2.append(subj_to_pages_nb[\"proba\"])\n"
   ]
  },
  {
   "cell_type": "code",
   "execution_count": 12,
   "id": "6cb822a1",
   "metadata": {},
   "outputs": [],
   "source": [
    "df_train_small[\"y1\"] = y1\n",
    "df_train_small[\"y2\"] = y2\n"
   ]
  },
  {
   "cell_type": "code",
   "execution_count": 13,
   "id": "688b864d",
   "metadata": {},
   "outputs": [],
   "source": [
    "df_train_small[\"y1_pred\"] = pred1\n",
    "df_train_small[\"y2_pred\"] = pred2\n"
   ]
  },
  {
   "cell_type": "code",
   "execution_count": 14,
   "id": "32ec23e2",
   "metadata": {},
   "outputs": [],
   "source": [
    "def get_num_subjects_clean(num):\n",
    "    if num >= 134:\n",
    "        return \"134+\"\n",
    "    if num >= 34:\n",
    "        return \"34-133\"\n",
    "    return \"1-33\""
   ]
  },
  {
   "cell_type": "code",
   "execution_count": 15,
   "id": "f5dc5aa4",
   "metadata": {},
   "outputs": [
    {
     "data": {
      "text/html": [
       "<div>\n",
       "<style scoped>\n",
       "    .dataframe tbody tr th:only-of-type {\n",
       "        vertical-align: middle;\n",
       "    }\n",
       "\n",
       "    .dataframe tbody tr th {\n",
       "        vertical-align: top;\n",
       "    }\n",
       "\n",
       "    .dataframe thead th {\n",
       "        text-align: right;\n",
       "    }\n",
       "</style>\n",
       "<table border=\"1\" class=\"dataframe\">\n",
       "  <thead>\n",
       "    <tr style=\"text-align: right;\">\n",
       "      <th></th>\n",
       "      <th>file</th>\n",
       "      <th>nct_id</th>\n",
       "      <th>train_val</th>\n",
       "      <th>num_arms</th>\n",
       "      <th>num_subjects</th>\n",
       "      <th>phase</th>\n",
       "      <th>intervention_type</th>\n",
       "      <th>country</th>\n",
       "      <th>has_sap</th>\n",
       "      <th>pages</th>\n",
       "      <th>y1</th>\n",
       "      <th>y2</th>\n",
       "      <th>y1_pred</th>\n",
       "      <th>y2_pred</th>\n",
       "    </tr>\n",
       "  </thead>\n",
       "  <tbody>\n",
       "    <tr>\n",
       "      <th>8489</th>\n",
       "      <td>71_NCT02862171_Prot_002.pdf</td>\n",
       "      <td>NCT02862171</td>\n",
       "      <td>val</td>\n",
       "      <td>1.0</td>\n",
       "      <td>941.0</td>\n",
       "      <td>Phase 3</td>\n",
       "      <td>Drug</td>\n",
       "      <td>ZA,UG</td>\n",
       "      <td>0</td>\n",
       "      <td>[\\n \\n\\nIPM 032 \\n\\nProtocol \\n \\n\\nCONFIDENTI...</td>\n",
       "      <td>{'1400': 0.6}</td>\n",
       "      <td>{'1-33': 0.22776806102175343, '134+': 0.448837...</td>\n",
       "      <td>1400</td>\n",
       "      <td>134+</td>\n",
       "    </tr>\n",
       "    <tr>\n",
       "      <th>1128</th>\n",
       "      <td>09_NCT02892409_Prot_001.pdf</td>\n",
       "      <td>NCT02892409</td>\n",
       "      <td>val</td>\n",
       "      <td>2.0</td>\n",
       "      <td>30.0</td>\n",
       "      <td>Phase 1</td>\n",
       "      <td>Drug</td>\n",
       "      <td>KR</td>\n",
       "      <td>0</td>\n",
       "      <td>[\\nThis may include, but is not limited to, re...</td>\n",
       "      <td>{'30': 0.51, '15': 0.17, '14': 0.11}</td>\n",
       "      <td>{'1-33': 0.4602939399120555, '134+': 0.2011895...</td>\n",
       "      <td>30</td>\n",
       "      <td>1-33</td>\n",
       "    </tr>\n",
       "    <tr>\n",
       "      <th>3082</th>\n",
       "      <td>25_NCT04805125_Prot_SAP_000.pdf</td>\n",
       "      <td>NCT04805125</td>\n",
       "      <td>val</td>\n",
       "      <td>2.0</td>\n",
       "      <td>610.0</td>\n",
       "      <td>Phase 3</td>\n",
       "      <td>Biological</td>\n",
       "      <td>CH</td>\n",
       "      <td>1</td>\n",
       "      <td>[\\nClinical Study first sub-protocol \\n \\n\\nRa...</td>\n",
       "      <td>{'380': 0.3}</td>\n",
       "      <td>{'1-33': 0.09782174395854197, '134+': 0.687297...</td>\n",
       "      <td>380</td>\n",
       "      <td>134+</td>\n",
       "    </tr>\n",
       "    <tr>\n",
       "      <th>3194</th>\n",
       "      <td>26_NCT03877926_Prot_000.pdf</td>\n",
       "      <td>NCT03877926</td>\n",
       "      <td>val</td>\n",
       "      <td>4.0</td>\n",
       "      <td>3862.0</td>\n",
       "      <td>Phase 3</td>\n",
       "      <td>Biological</td>\n",
       "      <td>US</td>\n",
       "      <td>0</td>\n",
       "      <td>[\\n   \\n  \\n\\n     \\n\\n \\n\\n        \\n \\n\\n   ...</td>\n",
       "      <td>{}</td>\n",
       "      <td>{'1-33': 0.32438384897745165, '134+': 0.331620...</td>\n",
       "      <td>0</td>\n",
       "      <td>34-133</td>\n",
       "    </tr>\n",
       "    <tr>\n",
       "      <th>11575</th>\n",
       "      <td>97_NCT01885897_Prot_SAP_000.pdf</td>\n",
       "      <td>NCT01885897</td>\n",
       "      <td>val</td>\n",
       "      <td>1.0</td>\n",
       "      <td>33.0</td>\n",
       "      <td>Phase 1/Phase 2</td>\n",
       "      <td>Biological</td>\n",
       "      <td>US</td>\n",
       "      <td>1</td>\n",
       "      <td>[\\n \\n \\n\\nMasonic Cancer Center, University o...</td>\n",
       "      <td>{'31': 0.22, '14': 0.2, '16': 0.16}</td>\n",
       "      <td>{'1-33': 0.7763629032056141, '134+': 0.0100682...</td>\n",
       "      <td>31</td>\n",
       "      <td>1-33</td>\n",
       "    </tr>\n",
       "    <tr>\n",
       "      <th>...</th>\n",
       "      <td>...</td>\n",
       "      <td>...</td>\n",
       "      <td>...</td>\n",
       "      <td>...</td>\n",
       "      <td>...</td>\n",
       "      <td>...</td>\n",
       "      <td>...</td>\n",
       "      <td>...</td>\n",
       "      <td>...</td>\n",
       "      <td>...</td>\n",
       "      <td>...</td>\n",
       "      <td>...</td>\n",
       "      <td>...</td>\n",
       "      <td>...</td>\n",
       "    </tr>\n",
       "    <tr>\n",
       "      <th>11725</th>\n",
       "      <td>98_NCT02818998_Prot_000.pdf</td>\n",
       "      <td>NCT02818998</td>\n",
       "      <td>val</td>\n",
       "      <td>3.0</td>\n",
       "      <td>463.0</td>\n",
       "      <td>Phase 3</td>\n",
       "      <td>Drug</td>\n",
       "      <td>AT,CA,CZ,FR,DE,HU,IT,LT,PL,PT,SK,ES,CH,GB,CZ</td>\n",
       "      <td>0</td>\n",
       "      <td>[\\n \\n\\nDocument Type: Study Protocol \\n\\nOffi...</td>\n",
       "      <td>{'490': 0.39}</td>\n",
       "      <td>{'1-33': 0.09625335414258913, '134+': 0.686142...</td>\n",
       "      <td>490</td>\n",
       "      <td>134+</td>\n",
       "    </tr>\n",
       "    <tr>\n",
       "      <th>1616</th>\n",
       "      <td>13_NCT02856113_Prot_000.pdf</td>\n",
       "      <td>NCT02856113</td>\n",
       "      <td>val</td>\n",
       "      <td>2.0</td>\n",
       "      <td>152.0</td>\n",
       "      <td>Phase 3</td>\n",
       "      <td>Drug</td>\n",
       "      <td>US,BR,IL,IT,MX,PL,RU,AR,DE,HU</td>\n",
       "      <td>0</td>\n",
       "      <td>[\\nC\\nC\\nI\\n\\n, \\n1.0 TITLE PAGE\\n\\nPROTOCOL\\n...</td>\n",
       "      <td>{'75': 0.42, '100': 0.14, '150': 0.14}</td>\n",
       "      <td>{'1-33': 0.16220942469473512, '134+': 0.636224...</td>\n",
       "      <td>75</td>\n",
       "      <td>134+</td>\n",
       "    </tr>\n",
       "    <tr>\n",
       "      <th>637</th>\n",
       "      <td>05_NCT02853305_Prot_SAP_000.pdf</td>\n",
       "      <td>NCT02853305</td>\n",
       "      <td>val</td>\n",
       "      <td>3.0</td>\n",
       "      <td>1010.0</td>\n",
       "      <td>Phase 3</td>\n",
       "      <td>BiologicalDrug</td>\n",
       "      <td>AR,BE,BR,CA,CL,FR,DE,HU,IE,IL,JP,KR,NL,RU,ZA,E...</td>\n",
       "      <td>1</td>\n",
       "      <td>[\\nOfficial Protocol Title: \\n\\nNCT number: \\n...</td>\n",
       "      <td>{'990': 0.64, '1300': 0.08}</td>\n",
       "      <td>{'1-33': 0.36412900321960673, '134+': 0.298009...</td>\n",
       "      <td>990</td>\n",
       "      <td>1-33</td>\n",
       "    </tr>\n",
       "    <tr>\n",
       "      <th>1996</th>\n",
       "      <td>16_NCT03802916_Prot_SAP_002.pdf</td>\n",
       "      <td>NCT03802916</td>\n",
       "      <td>val</td>\n",
       "      <td>2.0</td>\n",
       "      <td>30.0</td>\n",
       "      <td>Phase 2</td>\n",
       "      <td>Drug</td>\n",
       "      <td>US,CA,GR,IT</td>\n",
       "      <td>1</td>\n",
       "      <td>[\\n \\n\\n \\n CONFIDENTIAL Page 1 of 58 \\n \\n \\n...</td>\n",
       "      <td>{'30': 0.29, '28': 0.15, '15': 0.12}</td>\n",
       "      <td>{'1-33': 0.33955007029632955, '134+': 0.246443...</td>\n",
       "      <td>30</td>\n",
       "      <td>34-133</td>\n",
       "    </tr>\n",
       "    <tr>\n",
       "      <th>7739</th>\n",
       "      <td>64_NCT03875664_Prot_SAP_001.pdf</td>\n",
       "      <td>NCT03875664</td>\n",
       "      <td>val</td>\n",
       "      <td>2.0</td>\n",
       "      <td>72.0</td>\n",
       "      <td>Phase 4</td>\n",
       "      <td>Drug</td>\n",
       "      <td>US</td>\n",
       "      <td>1</td>\n",
       "      <td>[\\n1 \\n\\nOfficial Title: Extended Release Loca...</td>\n",
       "      <td>{'72': 0.15, '32': 0.1, '64': 0.09}</td>\n",
       "      <td>{'1-33': 0.10543689355744784, '134+': 0.212389...</td>\n",
       "      <td>72</td>\n",
       "      <td>34-133</td>\n",
       "    </tr>\n",
       "  </tbody>\n",
       "</table>\n",
       "<p>1000 rows × 14 columns</p>\n",
       "</div>"
      ],
      "text/plain": [
       "                                  file       nct_id train_val  num_arms  \\\n",
       "8489       71_NCT02862171_Prot_002.pdf  NCT02862171       val       1.0   \n",
       "1128       09_NCT02892409_Prot_001.pdf  NCT02892409       val       2.0   \n",
       "3082   25_NCT04805125_Prot_SAP_000.pdf  NCT04805125       val       2.0   \n",
       "3194       26_NCT03877926_Prot_000.pdf  NCT03877926       val       4.0   \n",
       "11575  97_NCT01885897_Prot_SAP_000.pdf  NCT01885897       val       1.0   \n",
       "...                                ...          ...       ...       ...   \n",
       "11725      98_NCT02818998_Prot_000.pdf  NCT02818998       val       3.0   \n",
       "1616       13_NCT02856113_Prot_000.pdf  NCT02856113       val       2.0   \n",
       "637    05_NCT02853305_Prot_SAP_000.pdf  NCT02853305       val       3.0   \n",
       "1996   16_NCT03802916_Prot_SAP_002.pdf  NCT03802916       val       2.0   \n",
       "7739   64_NCT03875664_Prot_SAP_001.pdf  NCT03875664       val       2.0   \n",
       "\n",
       "       num_subjects            phase intervention_type  \\\n",
       "8489          941.0          Phase 3              Drug   \n",
       "1128           30.0          Phase 1              Drug   \n",
       "3082          610.0          Phase 3        Biological   \n",
       "3194         3862.0          Phase 3        Biological   \n",
       "11575          33.0  Phase 1/Phase 2        Biological   \n",
       "...             ...              ...               ...   \n",
       "11725         463.0          Phase 3              Drug   \n",
       "1616          152.0          Phase 3              Drug   \n",
       "637          1010.0          Phase 3    BiologicalDrug   \n",
       "1996           30.0          Phase 2              Drug   \n",
       "7739           72.0          Phase 4              Drug   \n",
       "\n",
       "                                                 country  has_sap  \\\n",
       "8489                                               ZA,UG        0   \n",
       "1128                                                  KR        0   \n",
       "3082                                                  CH        1   \n",
       "3194                                                  US        0   \n",
       "11575                                                 US        1   \n",
       "...                                                  ...      ...   \n",
       "11725       AT,CA,CZ,FR,DE,HU,IT,LT,PL,PT,SK,ES,CH,GB,CZ        0   \n",
       "1616                       US,BR,IL,IT,MX,PL,RU,AR,DE,HU        0   \n",
       "637    AR,BE,BR,CA,CL,FR,DE,HU,IE,IL,JP,KR,NL,RU,ZA,E...        1   \n",
       "1996                                         US,CA,GR,IT        1   \n",
       "7739                                                  US        1   \n",
       "\n",
       "                                                   pages  \\\n",
       "8489   [\\n \\n\\nIPM 032 \\n\\nProtocol \\n \\n\\nCONFIDENTI...   \n",
       "1128   [\\nThis may include, but is not limited to, re...   \n",
       "3082   [\\nClinical Study first sub-protocol \\n \\n\\nRa...   \n",
       "3194   [\\n   \\n  \\n\\n     \\n\\n \\n\\n        \\n \\n\\n   ...   \n",
       "11575  [\\n \\n \\n\\nMasonic Cancer Center, University o...   \n",
       "...                                                  ...   \n",
       "11725  [\\n \\n\\nDocument Type: Study Protocol \\n\\nOffi...   \n",
       "1616   [\\nC\\nC\\nI\\n\\n, \\n1.0 TITLE PAGE\\n\\nPROTOCOL\\n...   \n",
       "637    [\\nOfficial Protocol Title: \\n\\nNCT number: \\n...   \n",
       "1996   [\\n \\n\\n \\n CONFIDENTIAL Page 1 of 58 \\n \\n \\n...   \n",
       "7739   [\\n1 \\n\\nOfficial Title: Extended Release Loca...   \n",
       "\n",
       "                                           y1  \\\n",
       "8489                            {'1400': 0.6}   \n",
       "1128     {'30': 0.51, '15': 0.17, '14': 0.11}   \n",
       "3082                             {'380': 0.3}   \n",
       "3194                                       {}   \n",
       "11575     {'31': 0.22, '14': 0.2, '16': 0.16}   \n",
       "...                                       ...   \n",
       "11725                           {'490': 0.39}   \n",
       "1616   {'75': 0.42, '100': 0.14, '150': 0.14}   \n",
       "637               {'990': 0.64, '1300': 0.08}   \n",
       "1996     {'30': 0.29, '28': 0.15, '15': 0.12}   \n",
       "7739      {'72': 0.15, '32': 0.1, '64': 0.09}   \n",
       "\n",
       "                                                      y2  y1_pred y2_pred  \n",
       "8489   {'1-33': 0.22776806102175343, '134+': 0.448837...     1400    134+  \n",
       "1128   {'1-33': 0.4602939399120555, '134+': 0.2011895...       30    1-33  \n",
       "3082   {'1-33': 0.09782174395854197, '134+': 0.687297...      380    134+  \n",
       "3194   {'1-33': 0.32438384897745165, '134+': 0.331620...        0  34-133  \n",
       "11575  {'1-33': 0.7763629032056141, '134+': 0.0100682...       31    1-33  \n",
       "...                                                  ...      ...     ...  \n",
       "11725  {'1-33': 0.09625335414258913, '134+': 0.686142...      490    134+  \n",
       "1616   {'1-33': 0.16220942469473512, '134+': 0.636224...       75    134+  \n",
       "637    {'1-33': 0.36412900321960673, '134+': 0.298009...      990    1-33  \n",
       "1996   {'1-33': 0.33955007029632955, '134+': 0.246443...       30  34-133  \n",
       "7739   {'1-33': 0.10543689355744784, '134+': 0.212389...       72  34-133  \n",
       "\n",
       "[1000 rows x 14 columns]"
      ]
     },
     "execution_count": 15,
     "metadata": {},
     "output_type": "execute_result"
    }
   ],
   "source": [
    "df_train_small"
   ]
  },
  {
   "cell_type": "code",
   "execution_count": 17,
   "id": "6da8806b",
   "metadata": {},
   "outputs": [],
   "source": [
    "probas3 = []\n",
    "for idx in range(len(df_train_small)):\n",
    "    combined_probas = {}\n",
    "    rule_based = df_train_small[\"y1\"].iloc[idx]\n",
    "    \n",
    "    for i, p in rule_based.items():\n",
    "        # Multiply by number of arms if applicable\n",
    "#         if i in num_subjects_to_pages[\"is_per_arm\"]:\n",
    "#             i *= num_arms_to_pages[\"prediction\"]\n",
    "        cat = get_num_subjects_clean(int(i))\n",
    "        combined_probas[i] = (p + df_train_small[\"y2\"].iloc[idx][cat]) / 2\n",
    "    \n",
    "    \n",
    "    probas3.append(combined_probas)\n",
    "df_train_small[\"y3\"] = probas3"
   ]
  },
  {
   "cell_type": "code",
   "execution_count": 18,
   "id": "004eb122",
   "metadata": {},
   "outputs": [],
   "source": [
    "df_train_small[\"y3_pred\"] = df_train_small[\"y3\"].apply(lambda x : max(x, key=x.get) if len(x) > 0 else 0)"
   ]
  },
  {
   "cell_type": "code",
   "execution_count": 22,
   "id": "0a7c0359",
   "metadata": {},
   "outputs": [
    {
     "data": {
      "text/plain": [
       "'1400'"
      ]
     },
     "execution_count": 22,
     "metadata": {},
     "output_type": "execute_result"
    }
   ],
   "source": [
    "df_train_small[\"y3_pred\"].iloc[0]"
   ]
  },
  {
   "cell_type": "code",
   "execution_count": 25,
   "id": "1eb1f6c7",
   "metadata": {},
   "outputs": [
    {
     "data": {
      "text/plain": [
       "941.0"
      ]
     },
     "execution_count": 25,
     "metadata": {},
     "output_type": "execute_result"
    }
   ],
   "source": [
    "df_train_small[\"num_subjects\"].iloc[0]"
   ]
  },
  {
   "cell_type": "code",
   "execution_count": 24,
   "id": "8342104f",
   "metadata": {},
   "outputs": [
    {
     "data": {
      "text/plain": [
       "{'1400': 0.6}"
      ]
     },
     "execution_count": 24,
     "metadata": {},
     "output_type": "execute_result"
    }
   ],
   "source": [
    "df_train_small[\"y1\"].iloc[0]"
   ]
  },
  {
   "cell_type": "code",
   "execution_count": 23,
   "id": "e7e1f172",
   "metadata": {},
   "outputs": [
    {
     "data": {
      "text/plain": [
       "{'1400': 0.5244186935010103}"
      ]
     },
     "execution_count": 23,
     "metadata": {},
     "output_type": "execute_result"
    }
   ],
   "source": [
    "df_train_small[\"y3\"].iloc[0]"
   ]
  },
  {
   "cell_type": "code",
   "execution_count": 19,
   "id": "f81d022d",
   "metadata": {},
   "outputs": [
    {
     "data": {
      "text/plain": [
       "0.123"
      ]
     },
     "execution_count": 19,
     "metadata": {},
     "output_type": "execute_result"
    }
   ],
   "source": [
    "accuracy_score( df_train_small.num_subjects.apply(str).apply(lambda x : re.sub(r'\\.0', '', x)), df_train_small.y1_pred.apply(str))"
   ]
  },
  {
   "cell_type": "code",
   "execution_count": 20,
   "id": "59af8415",
   "metadata": {},
   "outputs": [
    {
     "data": {
      "text/plain": [
       "0.0"
      ]
     },
     "execution_count": 20,
     "metadata": {},
     "output_type": "execute_result"
    }
   ],
   "source": [
    "accuracy_score( df_train_small.num_subjects.apply(str).apply(lambda x : re.sub(r'\\.0', '', x)), df_train_small.y2_pred.apply(str))"
   ]
  },
  {
   "cell_type": "code",
   "execution_count": 21,
   "id": "57bd0a6a",
   "metadata": {},
   "outputs": [
    {
     "data": {
      "text/plain": [
       "0.122"
      ]
     },
     "execution_count": 21,
     "metadata": {},
     "output_type": "execute_result"
    }
   ],
   "source": [
    "accuracy_score( df_train_small.num_subjects.apply(str).apply(lambda x : re.sub(r'\\.0', '', x)), df_train_small.y3_pred.apply(str))"
   ]
  },
  {
   "cell_type": "code",
   "execution_count": null,
   "id": "0232635b",
   "metadata": {},
   "outputs": [],
   "source": [
    "from sklearn.metrics import ConfusionMatrixDisplay"
   ]
  },
  {
   "cell_type": "code",
   "execution_count": null,
   "id": "256cce0b",
   "metadata": {},
   "outputs": [],
   "source": [
    "ConfusionMatrixDisplay.from_predictions(df_train_small.num_subjects.apply(str).apply(lambda x : re.sub(r'\\.0', '', x)), \n",
    "                                        df_train_small.y1_pred.apply(str))\n",
    "plt.xticks(rotation=90)\n",
    ";"
   ]
  },
  {
   "cell_type": "code",
   "execution_count": null,
   "id": "e561a46b",
   "metadata": {},
   "outputs": [],
   "source": [
    "pd.DataFrame({\"gt\":df_train_small.num_subjects.apply(str).apply(lambda x : re.sub(r'\\.0', '', x)),\n",
    "             \"pred\":df_train_small.y1_pred.apply(str)\n",
    "             })"
   ]
  },
  {
   "cell_type": "code",
   "execution_count": null,
   "id": "3f150350",
   "metadata": {},
   "outputs": [],
   "source": [
    "df_train_small.file"
   ]
  },
  {
   "cell_type": "code",
   "execution_count": null,
   "id": "2abe42ef",
   "metadata": {},
   "outputs": [],
   "source": [
    "pd.DataFrame({\"gt\":df_train_small.num_subjects.apply(str).apply(lambda x : re.sub(r'\\.0', '', x)),\n",
    "             \"pred\":df_train_small.y3_pred.apply(str)\n",
    "             })"
   ]
  },
  {
   "cell_type": "code",
   "execution_count": null,
   "id": "653a0c8c",
   "metadata": {},
   "outputs": [],
   "source": [
    "import matplotlib.pyplot as plt"
   ]
  },
  {
   "cell_type": "code",
   "execution_count": null,
   "id": "ef91fab9",
   "metadata": {},
   "outputs": [],
   "source": [
    "df_train_small.num_arms_clean.value_counts()"
   ]
  },
  {
   "cell_type": "code",
   "execution_count": null,
   "id": "da7183a9",
   "metadata": {},
   "outputs": [],
   "source": [
    "plt.scatter(df_train_small.y1, df_train_small.num_arms_clean)"
   ]
  },
  {
   "cell_type": "code",
   "execution_count": null,
   "id": "f3ea247c",
   "metadata": {},
   "outputs": [],
   "source": [
    "plt.scatter(df_train_small.y2, df_train_small.num_arms_clean)"
   ]
  },
  {
   "cell_type": "code",
   "execution_count": null,
   "id": "af7e716e",
   "metadata": {},
   "outputs": [],
   "source": []
  },
  {
   "cell_type": "code",
   "execution_count": null,
   "id": "61a105b6",
   "metadata": {
    "scrolled": true
   },
   "outputs": [],
   "source": [
    "from sklearn.metrics import roc_auc_score\n",
    "for model in 2, 3, 4:\n",
    "    all_aucs = []\n",
    "    for num_arms in [\"1\", \"2\", \"3+\"]:\n",
    "        roc_auc = roc_auc_score(df_train_small.num_arms_clean == num_arms, df_train_small[f\"y{model}\"].apply(lambda m : m[num_arms]))\n",
    "        print (f\"SAP ROC AUC {roc_auc} for model {model} arms {num_arms}\")\n",
    "        all_aucs.append(roc_auc)\n",
    "    print (f\"Average model {model}\", np.mean(all_aucs))"
   ]
  },
  {
   "cell_type": "code",
   "execution_count": null,
   "id": "3fc44d1c",
   "metadata": {
    "scrolled": false
   },
   "outputs": [],
   "source": [
    "plt.figure()\n",
    "lw = 2\n",
    "    \n",
    "for model in 2, 3, 4:\n",
    "    for num_arms in [\"1\", \"2\", \"3+\"]:\n",
    "        fpr, tpr, _ = roc_curve(df_train_small.num_arms_clean==num_arms,df_train_small[f\"y{model}\"].apply(lambda m : m[num_arms]))\n",
    "        roc_auc = auc(fpr, tpr)\n",
    "        plt.plot(\n",
    "            fpr,\n",
    "            tpr,\n",
    "            # color=\"darkorange\",\n",
    "            lw=lw,\n",
    "            label=f\"ROC curve model {model} {num_arms} arms (area = {roc_auc:0.2f})\"\n",
    "        )\n",
    "    plt.plot([0, 1], [0, 1], color=\"gray\", alpha=0.5, lw=lw, linestyle=\"--\")\n",
    "    plt.xlim([0.0, 1.0])\n",
    "    plt.ylim([0.0, 1.05])\n",
    "    plt.xlabel(\"False Positive Rate\")\n",
    "    plt.ylabel(\"True Positive Rate\")\n",
    "    plt.title(\"Receiver operating characteristic example\")\n",
    "    plt.legend(loc=\"lower right\")\n",
    "    plt.show()"
   ]
  },
  {
   "cell_type": "code",
   "execution_count": null,
   "id": "133aa419",
   "metadata": {},
   "outputs": [],
   "source": []
  },
  {
   "cell_type": "code",
   "execution_count": null,
   "id": "1debb94f",
   "metadata": {},
   "outputs": [],
   "source": []
  },
  {
   "cell_type": "code",
   "execution_count": null,
   "id": "c068085e",
   "metadata": {},
   "outputs": [],
   "source": []
  }
 ],
 "metadata": {
  "kernelspec": {
   "display_name": "Python [conda env:py310] *",
   "language": "python",
   "name": "conda-env-py310-py"
  },
  "language_info": {
   "codemirror_mode": {
    "name": "ipython",
    "version": 3
   },
   "file_extension": ".py",
   "mimetype": "text/x-python",
   "name": "python",
   "nbconvert_exporter": "python",
   "pygments_lexer": "ipython3",
   "version": "3.10.4"
  }
 },
 "nbformat": 4,
 "nbformat_minor": 5
}
