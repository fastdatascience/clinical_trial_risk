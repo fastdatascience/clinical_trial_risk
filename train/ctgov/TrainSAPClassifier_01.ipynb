{
  "cells": [
    {
      "cell_type": "markdown",
      "metadata": {
        "id": "view-in-github",
        "colab_type": "text"
      },
      "source": [
        "<a href=\"https://colab.research.google.com/github/fastdatascience/clinical_trial_risk/blob/fixes_nov_2022/train/ctgov/TrainSAPClassifier_01.ipynb\" target=\"_parent\"><img src=\"https://colab.research.google.com/assets/colab-badge.svg\" alt=\"Open In Colab\"/></a>"
      ]
    },
    {
      "cell_type": "code",
      "execution_count": null,
      "metadata": {
        "id": "0557d6c8"
      },
      "outputs": [],
      "source": [
        "import spacy\n",
        "import pandas as pd\n",
        "import re\n",
        "import os\n",
        "import sys\n",
        "import pickle as pkl\n",
        "import seaborn as sns\n",
        "from sklearn.metrics import accuracy_score, confusion_matrix\n",
        "from sklearn.metrics import ConfusionMatrixDisplay\n",
        "from sklearn.metrics import mean_absolute_error, mean_squared_error\n",
        "from sklearn.metrics import roc_auc_score\n",
        "from sklearn.metrics import roc_curve, auc\n",
        "from IPython.display import display\n",
        "import matplotlib.pyplot as plt\n",
        "import numpy as np\n",
        "import json\n",
        "\n"
      ],
      "id": "0557d6c8"
    },
    {
      "cell_type": "code",
      "execution_count": null,
      "metadata": {
        "colab": {
          "base_uri": "https://localhost:8080/"
        },
        "id": "mG8gR8O6QXgX",
        "outputId": "8458715a-361a-443c-b09d-6d2b46e07e4f"
      },
      "outputs": [
        {
          "name": "stdout",
          "output_type": "stream",
          "text": [
            "Mounted at /content/drive\n"
          ]
        }
      ],
      "source": [
        "from google.colab import drive\n",
        "drive.mount('/content/drive')"
      ],
      "id": "mG8gR8O6QXgX"
    },
    {
      "cell_type": "code",
      "execution_count": null,
      "metadata": {
        "id": "HyXyGuD_P6s7"
      },
      "outputs": [],
      "source": [
        "df_annotations = pd.read_csv(\"/content/drive/MyDrive/data/all_annotations.csv\")\n"
      ],
      "id": "HyXyGuD_P6s7"
    },
    {
      "cell_type": "markdown",
      "metadata": {
        "id": "4b2e7a73"
      },
      "source": [
        "# Get data"
      ],
      "id": "4b2e7a73"
    },
    {
      "cell_type": "code",
      "execution_count": null,
      "metadata": {
        "id": "pdjdb4_wYeyG"
      },
      "outputs": [],
      "source": [
        "stats_vocab = ['pe',\n",
        " 'sap',\n",
        " 'tabulated',\n",
        " 'hazard',\n",
        " 'inferiority',\n",
        " 'categorical',\n",
        " 'meddra',\n",
        " 'residual',\n",
        " 'itt',\n",
        " 'continuous',\n",
        " 'summarised',\n",
        " 'variables',\n",
        " 'brv',\n",
        " 'variable',\n",
        " 'cox',\n",
        " 'listings',\n",
        " 'laz',\n",
        " 'statistics',\n",
        " 'descriptive',\n",
        " 'regression',\n",
        " 'proportional',\n",
        " 'hazards',\n",
        " 'sided',\n",
        " 'deviation',\n",
        " 'presented',\n",
        " 'corresponding',\n",
        " 'percentage',\n",
        " 'calculated',\n",
        " 'analysed',\n",
        " 'censored',\n",
        " 'derived',\n",
        " 'coding',\n",
        " 'cumulative',\n",
        " 'seroconversion',\n",
        " 'soc',\n",
        " 'tables',\n",
        " 'proportion',\n",
        " 'covariates',\n",
        " 'survival',\n",
        " 'deviations',\n",
        " 'pv',\n",
        " 'interim',\n",
        " 'class',\n",
        " 'hypothesis',\n",
        " 'sensitivity',\n",
        " 'power',\n",
        " 'ratio',\n",
        " 'summarized',\n",
        " 'median',\n",
        " 'measurements',\n",
        " 'model',\n",
        " 'endpoint',\n",
        " 'exploratory',\n",
        " 'statistical',\n",
        " 'plan',\n",
        " 'confidence',\n",
        " 'log',\n",
        " 'ipm',\n",
        " 'estimate',\n",
        " 'planned',\n",
        " 'demographic',\n",
        " 'classified',\n",
        " '95%',\n",
        " 'solicited',\n",
        " 'iu',\n",
        " 'significance',\n",
        " 'adjusted',\n",
        " 'pq',\n",
        " 'randomisation',\n",
        " 'ci',\n",
        " 'values',\n",
        " 'differences',\n",
        " 'measures',\n",
        " 'signed',\n",
        " 'outcomes',\n",
        " 'assigned',\n",
        " 'analyses',\n",
        " 'overview',\n",
        " 'intervals',\n",
        " 'randomised',\n",
        " 'measurement',\n",
        " '90%',\n",
        " 'versus',\n",
        " 'analysis',\n",
        " 'point',\n",
        " 'adherence',\n",
        " 'interval',\n",
        " 'secondary',\n",
        " 'value',\n",
        " 'groups',\n",
        " 'estimated',\n",
        " 'mean',\n",
        " 'relative',\n",
        " 'treat',\n",
        " 'frequency',\n",
        " 'outcome',\n",
        " 'detect',\n",
        " 'discharge',\n",
        " 'distribution',\n",
        " 'baseline',\n",
        " 'endpoints',\n",
        " 'dsmb',\n",
        " 'objectives',\n",
        " 'efficacy',\n",
        " 'method',\n",
        " 'negative',\n",
        " 'concentration',\n",
        " 'assessed',\n",
        " 'confirmed',\n",
        " 'table',\n",
        " 'fluid',\n",
        " 'ae',\n",
        " 'rate',\n",
        " 'death',\n",
        " 'stopping',\n",
        " 'cd',\n",
        " 'self',\n",
        " 'otherwise',\n",
        " 'parameters',\n",
        " 'maximum',\n",
        " 'compared',\n",
        " 'multiple',\n",
        " 'crf',\n",
        " 'type',\n",
        " 'general',\n",
        " 'incidence',\n",
        " 'defined',\n",
        " 'function',\n",
        " '50%',\n",
        " 'scheduled',\n",
        " 'considerations',\n",
        " 'methods',\n",
        " 'reported',\n",
        " 'expected',\n",
        " 'period',\n",
        " 'meeting',\n",
        " 'details',\n",
        " 'first',\n",
        " 'aes',\n",
        " 'occurring',\n",
        " 'doses',\n",
        " 'rates',\n",
        " 'count',\n",
        " 'received',\n",
        " 'completed',\n",
        " 'relationship',\n",
        " 'status',\n",
        " 'occurrence',\n",
        " 'placebo',\n",
        " 'specified']"
      ],
      "id": "pdjdb4_wYeyG"
    },
    {
      "cell_type": "code",
      "execution_count": null,
      "metadata": {
        "id": "QLbiN_pVZPBN"
      },
      "outputs": [],
      "source": [
        "stats_vocab_regex = re.compile(r'(?i)\\b(' + \"|\".join(stats_vocab) + r\"\\b)\")"
      ],
      "id": "QLbiN_pVZPBN"
    },
    {
      "cell_type": "code",
      "execution_count": null,
      "metadata": {
        "id": "c8ebd7a5"
      },
      "outputs": [],
      "source": [
        "with open(\"/content/drive/MyDrive/data/protocols.pkl.gz\", \"rb\") as f:\n",
        "    file_to_pages = pkl.load(f)"
      ],
      "id": "c8ebd7a5"
    },
    {
      "cell_type": "code",
      "execution_count": null,
      "metadata": {
        "colab": {
          "background_save": true
        },
        "id": "6148cb3b"
      },
      "outputs": [],
      "source": [
        "import operator\n",
        "texts = []\n",
        "\n",
        "for i in range(len(df_annotations)):\n",
        "    file_name = df_annotations.file.iloc[i]\n",
        "    \n",
        "    pages= file_to_pages[file_name]\n",
        "    page_to_num_matches = {}\n",
        "    pages_to_save = []\n",
        "    for page_no, page in enumerate(pages):\n",
        "      if type(page) is str:\n",
        "        num_matches = len(stats_vocab_regex.findall(page))\n",
        "        page_to_num_matches[page_no] = num_matches\n",
        "    for page, _ in sorted(page_to_num_matches.items(), key=operator.itemgetter(1), reverse=True):\n",
        "      pages_to_save.append(page)\n",
        "      if len(pages_to_save) >= 10:\n",
        "        break\n",
        "\n",
        "    texts.append(\" \".join([pages[page] for page in pages_to_save]))\n",
        "df_annotations[\"text\"] = texts"
      ],
      "id": "6148cb3b"
    },
    {
      "cell_type": "code",
      "execution_count": null,
      "metadata": {
        "colab": {
          "background_save": true
        },
        "id": "93361b2c"
      },
      "outputs": [],
      "source": [
        " del file_to_pages"
      ],
      "id": "93361b2c"
    },
    {
      "cell_type": "code",
      "execution_count": null,
      "metadata": {
        "colab": {
          "background_save": true
        },
        "id": "9fbe5bf0",
        "scrolled": true
      },
      "outputs": [],
      "source": [
        "df_annotations = df_annotations[~df_annotations.has_sap.isna()]"
      ],
      "id": "9fbe5bf0"
    },
    {
      "cell_type": "code",
      "execution_count": null,
      "metadata": {
        "colab": {
          "background_save": true,
          "base_uri": "https://localhost:8080/"
        },
        "id": "cfac2830",
        "outputId": "adf1e471-98a8-43fb-daa1-bfba33983278"
      },
      "outputs": [
        {
          "data": {
            "text/plain": [
              "0    6150\n",
              "1    5774\n",
              "Name: has_sap, dtype: int64"
            ]
          },
          "execution_count": 11,
          "metadata": {},
          "output_type": "execute_result"
        }
      ],
      "source": [
        "df_annotations[\"has_sap\"].value_counts()"
      ],
      "id": "cfac2830"
    },
    {
      "cell_type": "code",
      "execution_count": null,
      "metadata": {
        "colab": {
          "background_save": true
        },
        "id": "tg_Q5ZLIGknP"
      },
      "outputs": [],
      "source": [
        "labels = [\"0\",\"1\"]"
      ],
      "id": "tg_Q5ZLIGknP"
    },
    {
      "cell_type": "code",
      "execution_count": null,
      "metadata": {
        "id": "8YqH-b1AHVRy"
      },
      "outputs": [],
      "source": [
        "import spacy\n",
        "nlp = spacy.blank(\"en\")\n",
        "from spacy.tokens import DocBin\n",
        "\n",
        "docs_train = []\n",
        "for i in range(10):\n",
        "  docs_train.append(DocBin())\n",
        "docs_val = DocBin()\n",
        "\n",
        "for idx in range(len(df_annotations)):\n",
        "  if idx % 100 == 0:\n",
        "    print (idx, len(df_annotations))\n",
        "  if df_annotations.train_val.iloc[idx] == \"train\":\n",
        "    docs_list = docs_train[idx % 10]\n",
        "  else:\n",
        "    docs_list = docs_val\n",
        "  text = str(df_annotations.text.iloc[idx])\n",
        "  if len(text) > 100000:\n",
        "      text = text[:100000]\n",
        "  doc = nlp(text)\n",
        "\n",
        "  cats = {}\n",
        "  for a in labels:\n",
        "      cats[a] = 0\n",
        "  if pd.isna(df_annotations.has_sap.iloc[idx]):\n",
        "    continue\n",
        "  cats[str(int(df_annotations.has_sap.iloc[idx]))] = 1\n",
        "  doc.cats = cats\n",
        "\n",
        "  docs_list.add(doc)"
      ],
      "id": "8YqH-b1AHVRy"
    },
    {
      "cell_type": "code",
      "execution_count": null,
      "metadata": {
        "id": "9gLDu1qFTxls"
      },
      "outputs": [],
      "source": [
        "!mkdir train.spacy\n",
        "!mkdir /content/drive/MyDrive/data/sap_01_train.spacy\n"
      ],
      "id": "9gLDu1qFTxls"
    },
    {
      "cell_type": "code",
      "execution_count": null,
      "metadata": {
        "id": "EhS_f_Z3TsRG"
      },
      "outputs": [],
      "source": [
        "for idx, doc_bin_train in enumerate(docs_train):\n",
        "  doc_bin_train.to_disk(f\"train.spacy/train_doc_bin{idx}.spacy\")\n",
        "  doc_bin_train.to_disk(f\"/content/drive/MyDrive/data/sap_01_train.spacy/train_doc_bin{idx}.spacy\")"
      ],
      "id": "EhS_f_Z3TsRG"
    },
    {
      "cell_type": "code",
      "execution_count": null,
      "metadata": {
        "colab": {
          "base_uri": "https://localhost:8080/"
        },
        "id": "L6llzX4NVxT6",
        "outputId": "70d96c1b-ea92-43ff-c540-e22a2fc4456f"
      },
      "outputs": [
        {
          "name": "stdout",
          "output_type": "stream",
          "text": [
            "train_doc_bin0.spacy  train_doc_bin4.spacy  train_doc_bin8.spacy\n",
            "train_doc_bin1.spacy  train_doc_bin5.spacy  train_doc_bin9.spacy\n",
            "train_doc_bin2.spacy  train_doc_bin6.spacy\n",
            "train_doc_bin3.spacy  train_doc_bin7.spacy\n"
          ]
        }
      ],
      "source": [
        "!ls /content/drive/MyDrive/data/sap_01_train.spacy"
      ],
      "id": "L6llzX4NVxT6"
    },
    {
      "cell_type": "code",
      "execution_count": null,
      "metadata": {
        "id": "Ld9Qv0nuQ_V1"
      },
      "outputs": [],
      "source": [
        "docs_val.to_disk(\"dev.spacy\")"
      ],
      "id": "Ld9Qv0nuQ_V1"
    },
    {
      "cell_type": "code",
      "execution_count": null,
      "metadata": {
        "id": "YkMG6YPeRB2i"
      },
      "outputs": [],
      "source": [
        "docs_val.to_disk(\"/content/drive/MyDrive/data/sap_01_dev.spacy\")"
      ],
      "id": "YkMG6YPeRB2i"
    },
    {
      "cell_type": "code",
      "execution_count": null,
      "metadata": {
        "colab": {
          "base_uri": "https://localhost:8080/"
        },
        "id": "6b88f1c9",
        "outputId": "3a3c86a6-af12-41de-c6e0-592b3f75802c"
      },
      "outputs": [
        {
          "name": "stdout",
          "output_type": "stream",
          "text": [
            "\u001b[38;5;2m✔ Created output directory:\n",
            "/content/drive/MyDrive/data/output_sap_01\u001b[0m\n",
            "\u001b[38;5;4mℹ Saving to output directory:\n",
            "/content/drive/MyDrive/data/output_sap_01\u001b[0m\n",
            "\u001b[38;5;4mℹ Using GPU: 0\u001b[0m\n",
            "\u001b[1m\n",
            "=========================== Initializing pipeline ===========================\u001b[0m\n",
            "[2022-11-18 11:40:25,886] [INFO] Set up nlp object from config\n",
            "INFO:spacy:Set up nlp object from config\n",
            "[2022-11-18 11:40:25,897] [INFO] Pipeline: ['textcat']\n",
            "INFO:spacy:Pipeline: ['textcat']\n",
            "[2022-11-18 11:40:25,901] [INFO] Created vocabulary\n",
            "INFO:spacy:Created vocabulary\n",
            "[2022-11-18 11:40:25,901] [INFO] Finished initializing nlp object\n",
            "INFO:spacy:Finished initializing nlp object\n",
            "tcmalloc: large alloc 1073750016 bytes == 0xb8c14000 @  0x7f59593452a4 0x58ead6 0x441ff3 0x5d1f81 0x5d2306 0x58f62c 0x5105e2 0x58fd37 0x50ca37 0x58fd37 0x50ca37 0x4d01b4 0x50cb8d 0x4d01b4 0x50cb8d 0x4d01b4 0x7f57edcea7c6 0x4ba72b 0x7f57edce8ce3 0x58f6e4 0x50ff13 0x5b575e 0x4bad0a 0x4d3249 0x591e56 0x50e18c 0x5b575e 0x58ff2e 0x50d482 0x5b575e 0x58ff2e\n",
            "[2022-11-18 11:54:02,555] [INFO] Initialized pipeline components: ['textcat']\n",
            "INFO:spacy:Initialized pipeline components: ['textcat']\n",
            "\u001b[38;5;2m✔ Initialized pipeline\u001b[0m\n",
            "\u001b[1m\n",
            "============================= Training pipeline =============================\u001b[0m\n",
            "\u001b[38;5;4mℹ Pipeline: ['textcat']\u001b[0m\n",
            "\u001b[38;5;4mℹ Initial learn rate: 0.0\u001b[0m\n",
            "E    #       LOSS TEXTCAT  CATS_SCORE  SCORE \n",
            "---  ------  ------------  ----------  ------\n",
            "tcmalloc: large alloc 2147491840 bytes == 0x7f522970c000 @  0x7f59593452a4 0x58ead6 0x441ff3 0x5d1f81 0x5d2306 0x58f62c 0x5105e2 0x58fd37 0x50ca37 0x58fd37 0x50ca37 0x4d01b4 0x50cb8d 0x4d01b4 0x50cb8d 0x4d01b4 0x5a04c4 0x5a2ed4 0x5909f6 0x510280 0x5b575e 0x58ff2e 0x50ca37 0x5b575e 0x58ff2e 0x50c4fc 0x4d01b4 0x50cb8d 0x5b575e 0x58ff2e 0x50d482\n",
            "tcmalloc: large alloc 1561247744 bytes == 0x7f52a970e000 @  0x7f59593441e7 0x4b2590 0x5ad01c 0x7f594037e05a 0x7f5940382387 0x7f594038372d 0x512654 0x5b4ee6 0x58ff2e 0x50d482 0x5b4ee6 0x58ff2e 0x510325 0x58fd37 0x50ca37 0x58fd37 0x50ca37 0x4d01b4 0x50cb8d 0x4d01b4 0x50cb8d 0x4d01b4 0x5a04c4 0x5a2ed4 0x5909f6 0x510280 0x5b575e 0x58ff2e 0x50ca37 0x5b575e 0x58ff2e\n",
            "  0       0          0.25       33.94    0.34\n",
            "tcmalloc: large alloc 2147491840 bytes == 0x7f4ff03ee000 @  0x7f59593452a4 0x58ead6 0x441ff3 0x5d1f81 0x5d2306 0x58f62c 0x5105e2 0x58fd37 0x50ca37 0x58fd37 0x50ca37 0x4d01b4 0x50cb8d 0x4d01b4 0x50cb8d 0x4d01b4 0x5a04c4 0x5a2ed4 0x5909f6 0x510280 0x5b575e 0x58ff2e 0x50ca37 0x5b575e 0x58ff2e 0x50c4fc 0x4d00fb 0x50cb8d 0x5b575e 0x58ff2e 0x50d482\n",
            "  2     200         60.50       63.77    0.64\n",
            "tcmalloc: large alloc 2147491840 bytes == 0x7f4ff3a5a000 @  0x7f59593452a4 0x58ead6 0x441ff3 0x5d1f81 0x5d2306 0x58f62c 0x5105e2 0x58fd37 0x50ca37 0x58fd37 0x50ca37 0x4d01b4 0x50cb8d 0x4d01b4 0x50cb8d 0x4d01b4 0x5a04c4 0x5a2ed4 0x5909f6 0x510280 0x5b575e 0x58ff2e 0x50ca37 0x5b575e 0x58ff2e 0x50c4fc 0x4d00fb 0x50cb8d 0x5b575e 0x58ff2e 0x50d482\n",
            "  4     400         40.40       64.84    0.65\n",
            "tcmalloc: large alloc 2147491840 bytes == 0x7f4ff3d8e000 @  0x7f59593452a4 0x58ead6 0x441ff3 0x5d1f81 0x5d2306 0x58f62c 0x5105e2 0x58fd37 0x50ca37 0x58fd37 0x50ca37 0x4d01b4 0x50cb8d 0x4d01b4 0x50cb8d 0x4d01b4 0x5a04c4 0x5a2ed4 0x5909f6 0x510280 0x5b575e 0x58ff2e 0x50ca37 0x5b575e 0x58ff2e 0x50c4fc 0x4d00fb 0x50cb8d 0x5b575e 0x58ff2e 0x50d482\n"
          ]
        }
      ],
      "source": [
        "!python -m spacy train ./spacy_textcat_is_international_11.cfg --output /content/drive/MyDrive/data/output_sap_01 --paths.train /content/drive/MyDrive/data/sap_01_train.spacy --paths.dev  /content/drive/MyDrive/data/sap_01_dev.spacy --gpu-id 0"
      ],
      "id": "6b88f1c9"
    },
    {
      "cell_type": "code",
      "execution_count": 29,
      "metadata": {
        "id": "RA18XmbkRge_"
      },
      "outputs": [],
      "source": [
        "import spacy\n",
        "nlp = spacy.load(\"/content/drive/MyDrive/data/output_sap_01/model-best\")"
      ],
      "id": "RA18XmbkRge_"
    },
    {
      "cell_type": "code",
      "execution_count": 30,
      "metadata": {
        "id": "i6kKqURLRmk4"
      },
      "outputs": [],
      "source": [
        "df_val = df_annotations[df_annotations.train_val==\"val\"]\n",
        "\n",
        "predictions = []\n",
        "for idx in range(len(df_val)):\n",
        "    doc = nlp(df_val.text.apply(str).iloc[idx])\n",
        "    predictions.append(doc.cats)"
      ],
      "id": "i6kKqURLRmk4"
    },
    {
      "cell_type": "code",
      "execution_count": 31,
      "metadata": {
        "id": "sh2k1WwZRqqn"
      },
      "outputs": [],
      "source": [
        "# pred_proba = []\n",
        "# for idx in range(len(df_val)):\n",
        "#     pred_proba.append([predictions[idx][a] for a in range(num_classes)])"
      ],
      "id": "sh2k1WwZRqqn"
    },
    {
      "cell_type": "code",
      "execution_count": 32,
      "metadata": {
        "id": "WzVdvY9tR84X"
      },
      "outputs": [],
      "source": [
        "predictions = []\n",
        "for idx in range(len(df_val)):\n",
        "    doc = nlp(df_val.text.apply(str).iloc[idx])\n",
        "    predictions.append(doc.cats)"
      ],
      "id": "WzVdvY9tR84X"
    },
    {
      "cell_type": "code",
      "execution_count": 33,
      "metadata": {
        "colab": {
          "base_uri": "https://localhost:8080/"
        },
        "id": "68ebd9f0",
        "scrolled": true,
        "outputId": "c3035b0c-0513-4dab-efaa-ff5a08dc7185"
      },
      "outputs": [
        {
          "output_type": "stream",
          "name": "stderr",
          "text": [
            "/usr/local/lib/python3.7/dist-packages/ipykernel_launcher.py:1: SettingWithCopyWarning: \n",
            "A value is trying to be set on a copy of a slice from a DataFrame.\n",
            "Try using .loc[row_indexer,col_indexer] = value instead\n",
            "\n",
            "See the caveats in the documentation: https://pandas.pydata.org/pandas-docs/stable/user_guide/indexing.html#returning-a-view-versus-a-copy\n",
            "  \"\"\"Entry point for launching an IPython kernel.\n"
          ]
        }
      ],
      "source": [
        "df_val[\"y_pred\"] = [max(p, key=p.get) for p in predictions]"
      ],
      "id": "68ebd9f0"
    },
    {
      "cell_type": "code",
      "execution_count": 34,
      "metadata": {
        "id": "118aef49"
      },
      "outputs": [],
      "source": [
        "sap_ground_truths = df_val.has_sap\n",
        "pred_sap = df_val[\"y_pred\"]"
      ],
      "id": "118aef49"
    },
    {
      "cell_type": "code",
      "execution_count": 35,
      "metadata": {
        "id": "fbAH8oBQbakW"
      },
      "outputs": [],
      "source": [
        "sap_ground_truths = df_val.has_sap.apply(int).apply(str)"
      ],
      "id": "fbAH8oBQbakW"
    },
    {
      "cell_type": "code",
      "execution_count": 36,
      "metadata": {
        "colab": {
          "base_uri": "https://localhost:8080/"
        },
        "id": "73495a5c",
        "outputId": "c4ed70a4-dd64-4914-82b0-a0a24df05c11"
      },
      "outputs": [
        {
          "output_type": "stream",
          "name": "stdout",
          "text": [
            "SAP accuracy 0.656221198156682\n"
          ]
        }
      ],
      "source": [
        "acc = accuracy_score(sap_ground_truths, pred_sap)\n",
        "print (f\"SAP accuracy {acc}\")"
      ],
      "id": "73495a5c"
    },
    {
      "cell_type": "code",
      "execution_count": 37,
      "metadata": {
        "id": "775ae91e",
        "colab": {
          "base_uri": "https://localhost:8080/",
          "height": 294
        },
        "outputId": "1c1e47b1-5746-4112-e8cb-72d9b1b5968f"
      },
      "outputs": [
        {
          "output_type": "execute_result",
          "data": {
            "text/plain": [
              "''"
            ],
            "application/vnd.google.colaboratory.intrinsic+json": {
              "type": "string"
            }
          },
          "metadata": {},
          "execution_count": 37
        },
        {
          "output_type": "display_data",
          "data": {
            "text/plain": [
              "<Figure size 432x288 with 2 Axes>"
            ],
            "image/png": "[encoded data removed]"
          },
          "metadata": {
            "needs_background": "light"
          }
        }
      ],
      "source": [
        "ConfusionMatrixDisplay.from_predictions(sap_ground_truths, pred_sap, labels=labels)\n",
        "plt.xticks(rotation=90)\n",
        ";"
      ],
      "id": "775ae91e"
    },
    {
      "cell_type": "code",
      "execution_count": 38,
      "metadata": {
        "colab": {
          "base_uri": "https://localhost:8080/"
        },
        "id": "16527f52",
        "outputId": "720028fb-4105-42e5-88c3-0bf12089f713"
      },
      "outputs": [
        {
          "output_type": "stream",
          "name": "stdout",
          "text": [
            "SAP ROC AUC 0.7692148254865718 for 0 subjects\n",
            "SAP ROC AUC 0.7692216211808198 for 1 subjects\n",
            "Average 0.7692182233336958\n"
          ]
        }
      ],
      "source": [
        "all_aucs = []\n",
        "from sklearn.metrics import roc_auc_score\n",
        "for i in labels:\n",
        "  roc_auc = roc_auc_score(sap_ground_truths == i, [p[i] for p in predictions])\n",
        "  print (f\"SAP ROC AUC {roc_auc} for {i} subjects\")\n",
        "  all_aucs.append(roc_auc)\n",
        "print (\"Average\", np.mean(all_aucs))"
      ],
      "id": "16527f52"
    },
    {
      "cell_type": "code",
      "execution_count": 39,
      "metadata": {
        "colab": {
          "base_uri": "https://localhost:8080/",
          "height": 295
        },
        "id": "bvS_8GcTMgCl",
        "outputId": "39e42226-9e90-4bff-b221-9fcd17e782de"
      },
      "outputs": [
        {
          "output_type": "display_data",
          "data": {
            "text/plain": [
              "<Figure size 432x288 with 1 Axes>"
            ],
            "image/png": "[encoded data removed]"
          },
          "metadata": {
            "needs_background": "light"
          }
        }
      ],
      "source": [
        "plt.figure()\n",
        "lw = 2\n",
        "    \n",
        "for i in labels:\n",
        "    fpr, tpr, _ = roc_curve(sap_ground_truths == i, [p[i] for p in predictions])\n",
        "    roc_auc = auc(fpr, tpr)\n",
        "    plt.plot(\n",
        "        fpr,\n",
        "        tpr,\n",
        "        # color=\"darkorange\",\n",
        "        lw=lw,\n",
        "        label=f\"ROC curve {i} SAP (area = {roc_auc:0.2f})\"\n",
        "    )\n",
        "    plt.plot([0, 1], [0, 1], color=\"gray\", alpha=0.5, lw=lw, linestyle=\"--\")\n",
        "plt.xlim([0.0, 1.0])\n",
        "plt.ylim([0.0, 1.05])\n",
        "plt.xlabel(\"False Positive Rate\")\n",
        "plt.ylabel(\"True Positive Rate\")\n",
        "plt.title(\"Receiver operating characteristic example\")\n",
        "plt.legend(loc=\"lower right\")\n",
        "plt.show()"
      ],
      "id": "bvS_8GcTMgCl"
    },
    {
      "cell_type": "code",
      "execution_count": 39,
      "metadata": {
        "id": "W7qDw2rgSHKj"
      },
      "outputs": [],
      "source": [],
      "id": "W7qDw2rgSHKj"
    }
  ],
  "metadata": {
    "colab": {
      "provenance": [],
      "include_colab_link": true
    },
    "gpuClass": "standard",
    "kernelspec": {
      "display_name": "Python [conda env:py310] *",
      "language": "python",
      "name": "conda-env-py310-py"
    },
    "language_info": {
      "codemirror_mode": {
        "name": "ipython",
        "version": 3
      },
      "file_extension": ".py",
      "mimetype": "text/x-python",
      "name": "python",
      "nbconvert_exporter": "python",
      "pygments_lexer": "ipython3",
      "version": "3.10.4"
    }
  },
  "nbformat": 4,
  "nbformat_minor": 5
}