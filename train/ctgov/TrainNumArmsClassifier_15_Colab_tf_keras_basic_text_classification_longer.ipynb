{
 "cells": [
  {
   "cell_type": "markdown",
   "metadata": {
    "id": "Ic4_occAAiAT"
   },
   "source": [
    "##### Copyright 2019 The TensorFlow Hub Authors.\n",
    "\n",
    "Licensed under the Apache License, Version 2.0 (the \"License\");"
   ]
  },
  {
   "cell_type": "code",
   "execution_count": 1,
   "metadata": {
    "cellView": "both",
    "id": "ioaprt5q5US7"
   },
   "outputs": [],
   "source": [
    "# Copyright 2019 The TensorFlow Hub Authors. All Rights Reserved.\n",
    "#\n",
    "# Licensed under the Apache License, Version 2.0 (the \"License\");\n",
    "# you may not use this file except in compliance with the License.\n",
    "# You may obtain a copy of the License at\n",
    "#\n",
    "#     http://www.apache.org/licenses/LICENSE-2.0\n",
    "#\n",
    "# Unless required by applicable law or agreed to in writing, software\n",
    "# distributed under the License is distributed on an \"AS IS\" BASIS,\n",
    "# WITHOUT WARRANTIES OR CONDITIONS OF ANY KIND, either express or implied.\n",
    "# See the License for the specific language governing permissions and\n",
    "# limitations under the License.\n",
    "# =============================================================================="
   ]
  },
  {
   "cell_type": "code",
   "execution_count": 2,
   "metadata": {
    "id": "yCl0eTNH5RS3"
   },
   "outputs": [],
   "source": [
    "#@title MIT License\n",
    "#\n",
    "# Copyright (c) 2017 François Chollet\n",
    "#\n",
    "# Permission is hereby granted, free of charge, to any person obtaining a\n",
    "# copy of this software and associated documentation files (the \"Software\"),\n",
    "# to deal in the Software without restriction, including without limitation\n",
    "# the rights to use, copy, modify, merge, publish, distribute, sublicense,\n",
    "# and/or sell copies of the Software, and to permit persons to whom the\n",
    "# Software is furnished to do so, subject to the following conditions:\n",
    "#\n",
    "# The above copyright notice and this permission notice shall be included in\n",
    "# all copies or substantial portions of the Software.\n",
    "#\n",
    "# THE SOFTWARE IS PROVIDED \"AS IS\", WITHOUT WARRANTY OF ANY KIND, EXPRESS OR\n",
    "# IMPLIED, INCLUDING BUT NOT LIMITED TO THE WARRANTIES OF MERCHANTABILITY,\n",
    "# FITNESS FOR A PARTICULAR PURPOSE AND NONINFRINGEMENT. IN NO EVENT SHALL\n",
    "# THE AUTHORS OR COPYRIGHT HOLDERS BE LIABLE FOR ANY CLAIM, DAMAGES OR OTHER\n",
    "# LIABILITY, WHETHER IN AN ACTION OF CONTRACT, TORT OR OTHERWISE, ARISING\n",
    "# FROM, OUT OF OR IN CONNECTION WITH THE SOFTWARE OR THE USE OR OTHER\n",
    "# DEALINGS IN THE SOFTWARE."
   ]
  },
  {
   "cell_type": "markdown",
   "metadata": {
    "id": "ItXfxkxvosLH"
   },
   "source": [
    "# Text Classification with Movie Reviews"
   ]
  },
  {
   "cell_type": "markdown",
   "metadata": {
    "id": "MfBg1C5NB3X0"
   },
   "source": [
    "<table class=\"tfo-notebook-buttons\" align=\"left\">\n",
    "  <td>\n",
    "    <a target=\"_blank\" href=\"https://www.tensorflow.org/hub/tutorials/tf2_text_classification\"><img src=\"https://www.tensorflow.org/images/tf_logo_32px.png\" />View on TensorFlow.org</a>\n",
    "  </td>\n",
    "  <td>\n",
    "    <a target=\"_blank\" href=\"https://colab.research.google.com/github/tensorflow/hub/blob/master/examples/colab/tf2_text_classification.ipynb\"><img src=\"https://www.tensorflow.org/images/colab_logo_32px.png\" />Run in Google Colab</a>\n",
    "  </td>\n",
    "  <td>\n",
    "    <a target=\"_blank\" href=\"https://github.com/tensorflow/hub/blob/master/examples/colab/tf2_text_classification.ipynb\"><img src=\"https://www.tensorflow.org/images/GitHub-Mark-32px.png\" />View on GitHub</a>\n",
    "  </td>\n",
    "  <td>\n",
    "    <a href=\"https://storage.googleapis.com/tensorflow_docs/hub/examples/colab/tf2_text_classification.ipynb\"><img src=\"https://www.tensorflow.org/images/download_logo_32px.png\" />Download notebook</a>\n",
    "  </td>\n",
    "  <td>\n",
    "    <a href=\"https://tfhub.dev/google/collections/nnlm/1\"><img src=\"https://www.tensorflow.org/images/hub_logo_32px.png\" />See TF Hub models</a>\n",
    "  </td>\n",
    "</table>"
   ]
  },
  {
   "cell_type": "markdown",
   "metadata": {
    "id": "Eg62Pmz3o83v"
   },
   "source": [
    "This notebook classifies movie reviews as *positive* or *negative* using the text of the review. This is an example of *binary*—or two-class—classification, an important and widely applicable kind of machine learning problem. \n",
    "\n",
    "We'll use the [IMDB dataset](https://www.tensorflow.org/api_docs/python/tf/keras/datasets/imdb) that contains the text of 50,000 movie reviews from the [Internet Movie Database](https://www.imdb.com/). These are split into 25,000 reviews for training and 25,000 reviews for testing. The training and testing sets are *balanced*, meaning they contain an equal number of positive and negative reviews. \n",
    "\n",
    "This notebook uses [tf.keras](https://www.tensorflow.org/api_docs/python/tf/keras), a high-level API to build and train models in TensorFlow, and [TensorFlow Hub](https://www.tensorflow.org/hub), a library and platform for transfer learning. For a more advanced text classification tutorial using `tf.keras`, see the [MLCC Text Classification Guide](https://developers.google.com/machine-learning/guides/text-classification/)."
   ]
  },
  {
   "cell_type": "markdown",
   "metadata": {
    "id": "qrk8NjzhSBh-"
   },
   "source": [
    "### More models\n",
    "[Here](https://tfhub.dev/s?module-type=text-embedding) you can find more expressive or performant models that you could use to generate the text embedding."
   ]
  },
  {
   "cell_type": "markdown",
   "metadata": {
    "id": "Q4DN769E2O_R"
   },
   "source": [
    "## Setup"
   ]
  },
  {
   "cell_type": "code",
   "execution_count": 3,
   "metadata": {
    "colab": {
     "base_uri": "https://localhost:8080/"
    },
    "id": "2ew7HTbPpCJH",
    "outputId": "4945fc59-c1d4-44b6-cdbe-c2fd6b50a861"
   },
   "outputs": [
    {
     "name": "stdout",
     "output_type": "stream",
     "text": [
      "Version:  2.9.2\n",
      "Eager mode:  True\n",
      "Hub version:  0.12.0\n",
      "GPU is NOT AVAILABLE\n"
     ]
    }
   ],
   "source": [
    "import numpy as np\n",
    "\n",
    "import tensorflow as tf\n",
    "import tensorflow_hub as hub\n",
    "import tensorflow_datasets as tfds\n",
    "\n",
    "import matplotlib.pyplot as plt\n",
    "\n",
    "print(\"Version: \", tf.__version__)\n",
    "print(\"Eager mode: \", tf.executing_eagerly())\n",
    "print(\"Hub version: \", hub.__version__)\n",
    "print(\"GPU is\", \"available\" if tf.config.list_physical_devices('GPU') else \"NOT AVAILABLE\")"
   ]
  },
  {
   "cell_type": "markdown",
   "metadata": {
    "id": "iAsKG535pHep"
   },
   "source": [
    "## Download the IMDB dataset\n",
    "\n",
    "The IMDB dataset is available on [TensorFlow datasets](https://github.com/tensorflow/datasets). The following code downloads the IMDB dataset to your machine (or the colab runtime):"
   ]
  },
  {
   "cell_type": "code",
   "execution_count": 4,
   "metadata": {
    "id": "zXXx5Oc3pOmN"
   },
   "outputs": [],
   "source": [
    "# train_data, test_data = tfds.load(name=\"imdb_reviews\", split=[\"train\", \"test\"], \n",
    "#                                   batch_size=-1, as_supervised=True)\n",
    "\n",
    "# train_examples, train_labels = tfds.as_numpy(train_data)\n",
    "# test_examples, test_labels = tfds.as_numpy(test_data)"
   ]
  },
  {
   "cell_type": "code",
   "execution_count": 5,
   "metadata": {
    "colab": {
     "base_uri": "https://localhost:8080/"
    },
    "id": "c2ZHOJ7OwVPu",
    "outputId": "9d8b79e9-f690-46b3-b810-e45bf3169b77"
   },
   "outputs": [
    {
     "name": "stderr",
     "output_type": "stream",
     "text": [
      "/usr/local/lib/python3.7/dist-packages/ipykernel_launcher.py:8: SettingWithCopyWarning: \n",
      "A value is trying to be set on a copy of a slice from a DataFrame.\n",
      "Try using .loc[row_indexer,col_indexer] = value instead\n",
      "\n",
      "See the caveats in the documentation: https://pandas.pydata.org/pandas-docs/stable/user_guide/indexing.html#returning-a-view-versus-a-copy\n",
      "  \n",
      "/usr/local/lib/python3.7/dist-packages/ipykernel_launcher.py:14: SettingWithCopyWarning: \n",
      "A value is trying to be set on a copy of a slice from a DataFrame.\n",
      "Try using .loc[row_indexer,col_indexer] = value instead\n",
      "\n",
      "See the caveats in the documentation: https://pandas.pydata.org/pandas-docs/stable/user_guide/indexing.html#returning-a-view-versus-a-copy\n",
      "  \n"
     ]
    }
   ],
   "source": [
    "import pandas as pd\n",
    "df_annotations = pd.read_csv(\"filtered_for_arm.pkl.csv.bz2\")\n",
    "df_annotations_num_arms_known = df_annotations[~df_annotations.num_arms.isna() & ~df_annotations.text.isna()]\n",
    "def get_num_arms_clean(num):\n",
    "    if num >= 5:\n",
    "        num = 5\n",
    "    return num\n",
    "df_annotations_num_arms_known[\"num_arms_clean\"] = df_annotations_num_arms_known[\"num_arms\"].apply(get_num_arms_clean)\n",
    "\n",
    "def get_one_hot(x):\n",
    "  a = [0] * 5\n",
    "  a[int(x - 1)] = 1\n",
    "  return a\n",
    "df_annotations_num_arms_known[\"num_arms_one_hot\"] = df_annotations_num_arms_known[\"num_arms_clean\"].apply(get_one_hot)\n",
    "\n",
    "df_train = df_annotations_num_arms_known[df_annotations_num_arms_known.train_val == \"train\"]\n",
    "df_val = df_annotations_num_arms_known[df_annotations_num_arms_known.train_val == \"val\"]\n",
    "\n",
    "train_examples = np.asarray(list(df_train.text))\n",
    "test_examples = np.asarray(list(df_val.text))\n",
    "\n",
    "train_labels = np.asarray(list(df_train.num_arms_one_hot))\n",
    "test_labels = np.asarray(list(df_val.num_arms_one_hot))"
   ]
  },
  {
   "cell_type": "markdown",
   "metadata": {
    "id": "l50X3GfjpU4r"
   },
   "source": [
    "## Explore the data \n",
    "\n",
    "Let's take a moment to understand the format of the data. Each example is a sentence representing the movie review and a corresponding label. The sentence is not preprocessed in any way. The label is an integer value of either 0 or 1, where 0 is a negative review, and 1 is a positive review."
   ]
  },
  {
   "cell_type": "code",
   "execution_count": 6,
   "metadata": {
    "colab": {
     "base_uri": "https://localhost:8080/"
    },
    "id": "y8qCnve_-lkO",
    "outputId": "33058b5f-3435-4cf7-a0b8-c1e7759860ed"
   },
   "outputs": [
    {
     "name": "stdout",
     "output_type": "stream",
     "text": [
      "Training entries: 8947, test entries: 1022\n"
     ]
    }
   ],
   "source": [
    "print(\"Training entries: {}, test entries: {}\".format(len(train_examples), len(test_examples)))"
   ]
  },
  {
   "cell_type": "markdown",
   "metadata": {
    "id": "RnKvHWW4-lkW"
   },
   "source": [
    "Let's print first 10 examples."
   ]
  },
  {
   "cell_type": "code",
   "execution_count": 7,
   "metadata": {
    "colab": {
     "base_uri": "https://localhost:8080/"
    },
    "id": "QtTS4kpEpjbi",
    "outputId": "8c2a27c3-44c1-4707-cb39-e8c0a362079d"
   },
   "outputs": [
    {
     "data": {
      "text/plain": [
       "array(['\\n\\n8.3 Prophylactic Medications 8-3\\n\\n8.4 Parent Education 8-4\\n\\n9 SPECIAL STUDIES AND READING GROUPS\\n9.1 Introduction 9-1\\n\\n9.2 Pitted Cell Counts 9-1\\n\\n9.3 Cytogenetics (Karyotype children\\n(HUSOFT) with SCA, but its clinical efficacy has not been proven in this younger age group.\\nImportantly, the effects of hydroxyurea on chronic end organ damage in SCA have not been\\nRATIONALE\\n\\n1.1 OVERVIEW OF SICKLE CELL ANEMIA\\n\\nThe term Sickle Cell Disease (SCD) refers to a group of genetic hematological disorders\\n\\ncharacterized by the predominance of sickle hemoglobin (HbS).  SCD is 1-6 of 1-15    \\n\\nThe physiologic decline in % HbF and % F cells in a cohort of infants homozygous for HbSS\\n\\nbetween birth and 24 months of age was recently investigated (Marcus and prevent the elevation of\\n\\nGFR observed over time in untreated children with sickle cell anemia.  \\n\\nRecently two groups of investigators have presented evidence that hydroxyurea therapy in\\n\\nchildren is associated with lower TCD velocities (Zimmerman has been investigated most carefully in patients\\n\\nwith myeloproliferative disorders (MPD).  The Polycythemia Vera Study Group (PVSG) reported a\\n\\n5.9% incidence of acute leukemia in 51 adults with PV treated with that HU may help prevent damage\\n\\nto the spleen and kidneys compared to expectations from the CSSCD and nonrandomized groups\\n\\n(Wang et al, 2001; Hankins et al, 2005) not given HU.  1999).  Several smaller studies have further suggested that HU has clinical efficacy in this\\n\\nyounger age group (Hoppe et al, 2000; Bernaudin et al, 1999), and reduces the number of (HUSOFT)\\n\\nhas provided preliminary data demonstrating that HU is well-tolerated in this very young age group,\\n\\nwith laboratory effects similar to those for older children (Wang et al, 2001; Hankins the toxicities, effects on growth and\\n\\ndevelopment, and occurrence of adverse events in this very young age group (9-17 months).\\n\\nMoreover, the accurate and reproducible quantitative measurements of splenic and clearance; and,\\n\\n5. To assess some pharmacokinetic parameters of hydroxyurea in the BABY HUG age\\n\\ngroup.\\n\\nAt study entry, plasma specimens for pharmacokinetics were collected from the blood\\n\\ncollected as part the\\n\\nExecutive Secretary of the DSMB, and the NHLBI Project Officer.\\n\\nBased on individual patient and group safety monitoring reviews, the Executive Secretary\\n\\nof the DSMB, the NHLBI Project Officer and/or DSMB Chair /BHUG Protocol/August-09/CHAP-2.wpd — 8/09 Page 2-9 of 2-10  \\n\\n  2. Group comparisons between hydroxyurea-assigned patients and placebo-assigned\\n\\npatients will be included in semi-annual the Medical Coordinating Center (MCC)\\n\\nand tabulated based on the affected organ system. A central review group\\n\\n(consisting of two pediatric hematologists with expertise in sickle cell disease and\\n\\nwithout association with the of the event.  MCC staff will immediately review the material and\\n\\nforward it to the central review group. If the central review group finds that an event\\n\\nis serious, MCC staff will send the information to the NHLBI and NICHD with sickle cell anemia.  This will be\\n\\naccomplished by the administration of hydroxyurea or placebo to a group of very young children\\n\\nwith sickle cell anemia (or sickle beta zero thalassemia) at an age be described in detail along with the fact that relatively little is known about\\n\\ndrug effects in this age group. A list of the known and possible risks (including possible malignancy\\n\\nor growth retardation which are , and (3) validate the proposed methods of quantitating splenic\\n\\nand renal function.  This initial group was studied intensively and monitored closely.  The DSMB\\n\\nhas recommended that 160 additional participants be enrolled on\\n\\nan \"intention to treat\" basis, with two-sided statistical tests comparing the outcome between groups\\n\\nof patients defined at study entry by random assignment to the hydroxyurea and placebo groups.\\n\\nBlinding of outcomes in the primary analysis is protected by use of placebo, standardized methods\\n\\ndisease in the U.S., examined pitted cell counts and liver-spleen scans\\n\\nin a cross-sectional cohort of 8 to 13 month old patients.  Pearson (Pearson et al, 1985) reported\\n\\nof the spleen on liver-spleen scan correlated with a pitted cell count over 3.5%\\n\\nin this group of young children with sickle cell disease.  \\n\\nSpleen function will be assessed by uptake of 99mTc sulfur 33/36 scan readings) (Rogers, unpublished observations).  The difference between\\n\\nthe HU and placebo groups in the proportion of patients worsening in spleen function over the study\\n\\nperiod will be tested. \\n\\nof patients whose paired scans demonstrate a decline in\\n\\nsplenic function will be compared in the HU versus placebo groups.  Statistical power to detect\\n\\ndifferences that are 50% (relative) or greater in the a difference between the two categories (assuming a\\n\\nplacebo incidence rate of 0.60 and 80 patients in each group).  Thus, the boldface line in Table 4-2\\n\\nis drawn along the 96.8Function = 0.80\\nTreatment Incidence of Worsening Spleen Function = 0.40\\n\\nAlpha =0.04\\nN=100 in each group\\n\\nY = Treatment “Improvement” Rate\\n\\n.05 .10 .15 .20 .25 .30\\n\\nX =\\n= 0.60\\nTreatment Incidence of Worsening Spleen Function = 0.30\\n\\nAlpha = 0.04\\nN= 100 in each group\\n\\nY = Treatment “Improvement” Rate\\n\\n.05 .10 .15 .20 .25 .30 .35 .40 .45 .50 Neurological examinations and neuropsychologic evaluations with Bayley and Vineland\\n\\ntests will be performed annually, and compared between treatment groups as part of early and\\n\\nongoing monitoring as well as for the 2-year outcome.  scan, to assess splenic\\n\\nfunction during hydroxyurea therapy.  The proportion of patients in the HU treatment group\\n\\ncompared to the placebo treated group with pitted cell counts above predetermined thresholds will\\n\\nobtained quarterly. These measurements will be checked for quality with longitudinal data\\n\\nanalysis methods and compared between treatment groups using t-tests and longitudinal data\\n\\nanalysis.  \\n\\n4.3.7 Chromosome Analysis\\n\\nKaryotype and chromosome breakage measles-mumps-rubella (MMR) immunization and conjugate pneumococcal\\n\\nimmunization will be compared between the treatment groups.  Also, T-cell subpopulations will be\\n\\nevaluated by flow cytometry.  \\n\\n4.3.10 Clinical 14 of 4-37  \\n\\ndactylitis, is associated with adverse clinical outcomes later in childhood in the Jamaican cohort\\n\\n(Stevens et al, 1981), and recently early onset of dactylitis was associated with an 1999; Olivieri and\\n\\nVichinsky, 1998; Scott et al, 1996).  In the newborn cohort, comprised of infants enrolled to the\\n\\nCSSCD prior to six months of age, frequencies of complications visit reports.  There is adequate statistical\\n\\npower in BABY HUG to detect 50% differences between treatment groups at alpha = 0.01 if the\\n\\nevent rates are in the range expected from the CSSCD and the cm/sec., substantially lower than in school-aged children.  Studies from\\n\\nthe French group led by Bernaudin (Bernaudin et al, 2001) have also shown a lowering of TCD\\n\\nvelocity are randomized to hydroxyurea in the BABY\\n\\nHUG trial may have a lower TCD velocity compared to the control group receiving placebo.  If TCD\\n\\nvelocity is considered a surrogate marker for stroke risk in this populationvalues as Z\" and Z$ respectively.\\n\\n”N” is the number of children in each treatment group necessary for this study.  We have presented\\n\\nthe formulas for study size calculations, but each  \\n\\n is the average of p1 and p2,  = 1-  and N = study size (each group).  The overall alpha levelp q p\\n\\nof this comparison will be alpha = 0.04 (assumed that the rate of worsening function of the spleen will be at least 80% in the PLBO\\n\\ngroup.  Figure 4-1 presents the power to detect 50% reductions in the spleen endpoint event by the end of the study, and of a range of possible sample sizes from 20 to 100 per group.\\n\\nA review of this figure shows that the proposed study will have adequate power (80% or more) to\\n\\ndetect 50% reductions in the rate of absent spleen function in the HU group, provided that the\\n\\nsample size is 70 or more in each of the treatment arms.  Even with 20% of the initial study \\n\\npopulation classified as having absent spleen function, the realized sample size of 160 infants (80\\n\\nin each group) will have more than 90% power to detect a 50% reduction in the incidence of the\\n\\nendpoint as a result of the administration of HU, if the PLBO group incidence of this endpoint is\\n\\n60% or more.   With 30% of the initial study population classified as having absent spleen function,\\n\\nthe realized sample size of 140 infants (70 in each group) will have more than 80% power to detect\\n\\na 50% reduction in the incidence of initial study population\\n\\nare classified as having absent spleen function, resulting in N=80 and N=70 (in each group),\\n\\nrespectively.\\n\\nThe first two sub-tables in Table 4-4 show that 0.80\\n\\nTreatment incidence rate = 0.40\\nPower (100% compliance) = 1.00\\n\\nN=80 in each group\\n\\n0.10\\n(0.76)\\n\\n0.993 0.986 0.973 0.952\\n\\n0.15\\n(0.74)\\n\\n0.985 0.80\\nTreatment incidence rate = 0.40\\n\\nPower (100% compliance) = 0.999\\n\\nN=70 in each group\\n\\n0.10\\n(0.76)\\n\\n0.985 0.972 0.952 0.922\\n\\n0.15\\n(0.74)\\n\\n0.970 = 0.60\\n\\nTreatment incidence rate = 0.30\\nPower (100% compliance = 0.968\\n\\nN=80 in each group\\n\\n0.10\\n(0.57)\\n\\n0.892 0.848 0.795 0.733\\n\\n0.15\\n(0.555)\\n\\n0.851 0.60\\n\\nTreatment incidence rate = 0.30\\nPower (100% compliance) = 0.944\\n\\nN=70 in each group\\n\\n0.10\\n(0.57)\\n\\n0.846 0.795 0.737 0.673\\n\\n0.15\\n(0.555)\\n\\n0.798 table analyses will be adjusted for confounding\\n\\nvariables using logistic regression.  \\n\\nFor continuous variables, comparisons of groups will be accomplished using Student’s t test\\n\\nor the Wilcoxon rank sum test depending on the distributional enrollment. \\n\\nTests of interaction will be performed to determine if treatment effects are different in these\\n\\ntwo groups of infants.  We plan to use regression methods to evaluate the significance of the\\n\\nhypothesized interactions.  This will be done by multiplying an indicator variable for the birth cohort\\n\\n(1 = less than 15 months, 0 = 15 months or older) times treatment ( \\n\\nThe interim analysis reports for the DSMB will include, but are not limited to comparisons\\n\\nby treatment group for:\\n\\n1. Primary endpoint;\\n\\nSpleen – worsening of function on scintigraphy\\n\\n2. of the event.  MCC staff\\n\\nwill immediately review the material and forward it to the central review group. If the central review\\n\\ngroup finds that an event is serious, MCC staff will attach the treatment assignment to the report,\\n\\naccording to\\n\\nthe requirements of their local IRB.  \\n\\nOther AEs will be collected and tabulated by treatment group on a monthly basis.  A critical\\n\\nvalue corresponding to p = 0.05 will be used for the Project Officer for each severe complication and if any severe complication is\\n\\nfound six times in one treatment group without a single occurrence in the other treatment group.\\n\\nIf six complications have been observed, all in one of the treatment groups, the alpha level of\\n\\nrejecting the null hypothesis of no treatment effect on the appearance of the adverse event is less\\n\\nthan 0.05 and suggests that the risk of this complication in one group is not equal to the risk of\\n\\ncomplication in the other group.  The alpha level of rejecting the null hypothesis of no treatment\\n\\neffect is obtained by using a binomial approximation for the log-rank statistic.\\n\\nIf complications occur in both treatment groups, a 95% confidence interval for the difference\\n\\nbetween proportions for the assigned study treatments will be enrolled in a clinical trial. \\n\\nIn addition, a centralized over-ride system (the central review group) will be carried out by\\n\\nindividuals with knowledge about the treatment assignments. These individuals will review schedule for each BABY HUG Clinical\\n\\nCenter.  Each randomization schedule will be known only to a small group of people at the MCC.\\n\\nIndividual treatment assignments will be available to selected MCC staff only on treatment assignment will specify a kit number for a kit that\\n\\ncontains either hydroxyurea or placebo.  Treatment group allocations will be stratified according to\\n\\nClinical Center to ensure balance of numbers to each treatment arm within each Clinical Center.\\n\\nA standard procedure for stratified, blocked randomization will be used.  \\n\\n However, the number of children undergoing splenectomy according\\n\\nto local indications will be tabulated in each treatment group.  Chronic transfusion therapy or\\n\\nsplenectomy, options that would remove the patient from study treatment or Episodes of splenomegaly, splenic sequestration and associated measures will be tabulated\\n\\nand compared according to HU and placebo group assignment.  If an excess of sequestration\\n\\nevents is found in the HU group, the DSMB may consider stopping the trial.  \\n\\nRenal: Parents and caregivers will be educated about reminded at each clinical contact to call the Clinical Center immediately if\\n\\nthe child is not able to move arms or legs (unrelated to pain), has facial drooping or dysarthria.\\n\\nEach Clinical Center will  \\n\\nPEDIATRIC HYDROXYUREA PHASE III CLINICAL TRIAL (BABY HUG) PROTOCOL\\n\\nCHAPTER 9\\n\\nSPECIAL STUDIES AND READING GROUPS \\n\\n9.1 INTRODUCTION \\n\\nSpecial studies and event reports that will be centrally evaluated by individuals blind to\\n\\nat baseline, six, twelve, and eighteen months, and 24 months will be compared between treatment\\n\\ngroups.  If the proportion of patients in the HU treatment group who have pitted cell count values\\n\\nabove a predetermined level (e.g., 3.5 or 7-10%) decreases in relation to the placebo group, this\\n\\nfinding will be interpreted as secondary outcome evidence of prevention by HU of injury to theand to compare the frequency of VDJ mutational events among patients\\n\\nassigned to hydroxyurea as compared with the placebo group, using serial measurements for both\\n\\ngroups.  \\n\\nQuantitations of Howell-Jolly bodies will also be performed.  For each of the patientsand the final evaluation will be that of the majority.  The\\n\\nproportion of patients in each treatment group classified by spleen function (normal, decreased, or\\n\\nabsent) and the proportion of entry and of 9-4  \\n\\nto another) in splenic function will be compared in the HU vs placebo treated groups.  Paired scans\\n\\nthat demonstrate an improvement in uptake will be scored as not demonstrating a declinetreated on an out-patient or in-patient basis, will be reviewed by the\\n\\nCentral Review Group (the NHLBI Project Director and the MCC Medical Consultant). Adverse\\n\\ntreatment effects will be reported NHLBI, NICHD and DSMB.  Accrual, efficacy and safety data will be\\n\\nmonitored by all four groups.  \\n\\nAccrual and safety data will be reviewed annually by each center’s Institutional Review\\n\\nBoard (;\\n\\nsupporting information will be required from the Clinical Center.  MCC staff and the central review\\n\\ngroup will immediately review the report to determine if the event is serious. If so, MCC staff willvisit reports.  There is\\n\\nadequate statistical power in BABY HUG to detect 50% differences between treatment groups at\\n\\nalpha = 0.01 if the event rates are in the range expected from the Cooperative Study of Executive Secretary of the\\n\\nDSMB, DSMB Chair, and NHLBI and NICHD Project Officers\\n\\nIndividual Patient and Group Safety Monitoring\\n\\na. In consultation with the Project Officer, the Executive Secretary of DSMB, and thepopulation for head circumference (Pivnick et\\n\\nal, 1999).  Average scores for the two treatment groups will be compared to test: \\n\\nHO: :2 > :1\\n\\nversus the alternative:\\n\\ncubic models (mixed model analysis of variance to\\n\\nincorporate child-specific random effects, and in treatment group comparisons to account for\\n\\n However, the number of children undergoing splenectomy according\\n\\nto local indications will be tabulated in each treatment group.  Chronic transfusion therapy or\\n\\nsplenectomy, options that would remove the patient from study treatment or Episodes of splenomegaly, splenic sequestration and associated measures will be tabulated\\n\\nand compared according to HU and placebo group assignment.  If an excess of sequestration\\n\\nevents is found in the HU group, the DSMB may consider stopping the trial.  \\n\\nRenal: Parents and caregivers will be educated about reminded at each clinical contact to call the Clinical Center immediately if\\n\\nthe child is not able to move arms or legs (unrelated to pain), has facial drooping or dysarthria.\\n\\nEach Clinical Center will clinical ascertainment and structured evaluation should be\\n\\na part of the long term follow-up of this unique group of patients.  Clinical care after the two-year\\n\\nstudy treatment might or might not include after 24 months.  An assessment of the use of hydroxyurea for sickle cell anemia\\n\\nin this age group will await final study results and a review of those results by the BABY HUG Data\\n\\nand Safety , Lung, and\\n\\nBlood Institute (NHLBI).  Labelling for use of hydroxyurea in this age group will depend on the\\n\\ndetermination of the US Food and Drug Administration (FDA) if a supplemental staff when full functionality is\\n\\nrestored.  BABY HUG Clinical Centers that participate in the Children’s Oncology Group (COG)\\n\\nalready have experience with Internet data entry and note that this backup plan offers a .  Randomization\\n\\nThe randomization schedule will be devised to assure the appropriate blocking and balance\\n\\nof treatment groups for clinically important clinical patient characteristics and within each Clinical\\n\\nCenter.  Two schedules will be devised treatment will also be reviewed.  Placebo stops and adjustments will be compared for\\n\\nsimilarity to the hydroxyurea group to help maintain the blind.  \\n\\n3.  Data entry and database quality assurance\\n\\nBecause data data.  In addition to the routine\\n\\nperformance reports, they will review data according to the assigned groups.  Interim review of the\\n\\nprimary and secondary endpoint data with statistical testing will be presented according FDA for labeling of hydroxyurea for infants and very young children with sickle\\n\\ncell disease.  Premier Research Group will be the NICHD’s coordinating center and will assist in\\n\\nthe design of PK studies and perform \\nZhaoxia Ren, M.D., Ph.D.\\nBruce Thompson, Ph.D.\\nBeatrice Files, M.D.\\n\\nPREMIER RESEARCH GROUP\\nFrank Norton, Ph.D., Project Mgr.\\n\\nMEDICAL COORDINATING CENTER (MCC)\\nBruce Thompsonis collaborative in nature.  No investigator will publish BABY HUG data from any one\\n\\nClinical Center or group of Clinical Centers without the written approval of the Publication\\n\\nCommittee, the NICHD and the NHLBI. from the study will be those who actually write the document (the writing committee), plus\\n\\nthe group as a whole (“Doe J, Roe K, and the Pediatric Hydroxyurea Phase III Clinical Trial follow-up of hydroxyurea treatment in severely ill children with sickle cell\\ndisease.  The French Study Group on Sickle Cell Disease.  J Ped Hematol/Oncol.  19.  313-8(HU)\\nand polycythemia vera (PV):  an analysis of risk from the Polycythemia Vera Study Group.  Blood.\\n84.  Suppl:518a.  \\n\\nFurgerson J.L., Vukelja S.J., Baker W.J. Pegelow C.H. and\\nVichinsky E.  (1995).  Clinical events in the first decade in a cohort of infants with sickle cell\\ndisease.  Blood. 86.  776-783.  \\n\\n52.  455-63.  \\n\\nMcMahon R.P., Terrin M.L., Barton F.B. for the MSH Study Group.  (1992).  Rank statistics for\\nanalysis of a clinical trial with multiple events —  8/09 Page R-9 of R-14  \\n\\nNajean Y. and Rain J-D for the French Polycythemia Study Group.  (1997a).  Treatment of\\npolycythemia vera:  The use of hydroxyurea and 90.  3370-7.  \\n\\nNajean Y. and Rain J-D for the French Polycythemia Study Group.  (1997b).  Treatment of\\npolycythemia vera:  Use of 32P alone or Reboussin D.M., DeMets D.L., Kim K. and Lan K.K.G.  (1992).  Programs for computing group\\nsequential bounds using the Lan-DeMets method.  Technical Report #60 University of Wisconsin\\nregimens in the perioperative management of sickle cell disease.  The Preoperative\\nTransfusion in Sickle Cell Disease Study Group.  N Eng J Med.  333.  206-13.  \\n\\nVichinsky E.P., ',\n",
       "       'therapeutic long-term follow-up, multicenter, non-comparative, open-label \\nand single arm study.\\n\\nThis study will run throughout the duration of the clinical development period of BRV and \\n, providing much more precise knowledge in regard to seizure type classifications and \\nepileptic syndromes, led some epilepsy groups and scientists towards introducing competing \\nclassification systems (like the Cleveland Clinic Epilepsy Classification) and even debating in young healthy male \\nadults.  The main metabolic pathway of BRV is by hydrolysis of the acetamide group to the \\ncorresponding carboxylic acid, while a second pathway is the ω1-hydroxylation mediated by \\n, long-term, follow-up, multicenter, \\nnoncomparative, open-label, and single arm study.\\n\\nThe study design of this study and in particular the frequency of study visits is adapted at all times.\\n\\n11.1.3 Demography\\n\\nAt the first visit, date of birth, gender and racial group will be recorded.\\n\\n11.1.4 Childbearing Potential and Birth Control\\n\\nAt the first visit, information on \\nEarly Discontinuation Visit occurs within the first 2 years.\\n\\n11.1.22 EQ-5D Questionnaire\\n\\nThe EQ-5D (EuroQol Group, 2000) is a self-administered questionnaire designed to measure \\nhealth status. EQ-5D defines health Verification of the Inclusion/exclusion criteria.\\n\\uf0b7 Demography data: date of birth, gender and racial group.\\n\\uf0b7 Childbearing potential.\\n\\uf0b7 Medical and procedure history.\\n\\uf0b7 Epilepsy history.\\n\\n\\nort\\n Inclusion\\n\\nsu\\npp\\n\\nort\\n Inclusion\\n\\ndate of birth, gender and racial group.\\n\\nsu\\npp\\n\\nort\\n \\n\\ndate of birth, gender and racial group.\\nChildbearing potential.su\\n\\npp\\nort\\n\\n \\n\\nChildbearing potential.\\ndical and procedure historysu\\n\\npp\\ncategories of duration of exposure.\\n\\n13.3.2 Interim Analysis and Data Monitoring\\n\\nDue to the single-arm open-label nature of this study, no interim analysis as such will be \\nperformed. Howeverbe a subset of the safety population.  The efficacy population \\nwill be divided into 2 mutually exclusive groups, the POS and PGS subpopulations.  \\nAdditionally, as needed, the POS and the PGS subjects may be subset into categories that \\ngroup subjects and subject data according to similar BRV exposure times.\\n\\n13.3.4 Examination of Subgroups\\n\\nSubgroup analyses\\nnn\\n\\not \\nAdditionally\\n\\nca\\nnn\\n\\not \\nAdditionally\\n\\nca\\nnn\\n\\not group subjects and subject data according to similar BRV exposure times.\\n\\nca\\nnn\\n\\not group subjects and subject data according to similar BRV exposure times.\\n\\n13.3.4ca\\nnn\\n\\not \\n\\n13.3.4IEC may inspect \\nmedical records and Case Report Forms for verification of the accuracy of data. These \\ngroups are obliged to respect medical confidentiality and to refrain from divulging the \\nsubject’s identity or any other with levetiracetam. Epilepsy Behav. 2003;4:118-23.\\n\\nEngel J Jr. Report of the ILAE classification core group. Epilepsia. 2006;47:1558-68.\\n\\nREDACTED \\n\\nBerg AT, Berkovic SF, Brodie MJ, TA, editors. Epilepsy: a comprehensive textbook. Philadelphia: Lippincott-\\nRaven; 1998.\\n\\nEuroQol Group. EQ-5D. A measure of health-related quality of life developed by the \\nEuroQol group. User guide. 8th issue. April 2000.\\n\\nHauser WA, Annegers JF, Kurland LT',\n",
       "       'combination treatment with \\nbevacizumab and erlotinib in treatment-naïve elderly patients with advanced NSCLC – an \\nimportant cohort that need less toxic therapies. \\n \\n1.2 Vascular Endothelial Growth Factor (VEGF) and Anti-angiogenic ), and duration of response \\n(7.1 vs. 10.4 months; p < 0.01) for the combination arm versus the chemotherapy only arm19.   \\n \\nBased on the survival advantage demonstrated in Study AVF2107g, bevacizumab small cell lung cancer was \\ninvestigated in a randomized Phase III trial conducted by the Eastern Cooperative \\nOncology Group (ECOG 4599)23.  \\n \\nIn this multicenter trial, more than 800 patients were randomly assigned to receive rate, time to progression and tolerability.  \\n \\nOverall survival was statistically significantly better in the PC plus bevacizumab arm. \\nThe median overall survival was 12.3 months vs. 10.3 months in the control group \\n(hazard ratio 0.80). Response rate (10% vs. 27%) and time to progression (4.5 mos vs. \\n6.4 mos) also favored the bevacizumab arm. Toxicities included grade 4/5 neutropenia \\n(16.4% vs. 24%); grade 3/4 thrombosis/; & hemorrhage (1.0% \\nvs 4.1%). There were 11 treatment-related deaths (arm PC: 2; arm PCB: 9); 5 due to \\nhemoptysis, all on the bevacizumab arm. Bases on this trial, in October 2006, the FDA \\ngranted approval of this regimen for study, BR.21.  This international trial, conducted by the \\nNational Cancer Institute of Canada Clinical Trial Group (NCIC CTG), included 731 \\npatients with incurable Stage IIIb/IV NSCLC who have failed patients evaluable for safety (485 erlotinib, 242 placebo), the most \\ncommon AEs in the erlotinib arm were rash (75% erlotinib, 17% placebo), diarrhea (54% \\nerlotinib,  The incidence of interstitial \\nlung disease (ILD) reported was the same in the placebo and erlotinib groups at 0.8% in \\neach arm. \\n \\nTwo large, Phase III, randomized studies in first-line NSCLC patients evaluated erlotinib \\n.  \\nOverall, the number of adverse events and serious adverse events were well balanced \\nbetween the two arms of each study, with two exceptions.  As expected, rash and diarrhea \\noccurred more frequently in the Erlotinib arms.  In the TRIBUTE study, more serious \\nadverse events resulting in death were seen in the Erlotinib arm compared with the \\nplacebo arm (53 vs. 27).  Most of the apparent imbalance was due to events reported as \\n.  A total of 12 subjects were enrolled and treated (3, 3, and 6 per \\ncohort, respectively).  No dose-limiting toxicities were observed, and the pharmacokinetic \\nprofiles of stable disease (31.2%) were reported.  Based on the preliminary \\ndata from this single-arm, Phase I/II study, it appears that the combination of bevacizumab and \\nerlotinib is well ASCO meeting, Fehrenbacher presented an abstract from a study were patients \\nwith NSCLC were randomized to three different arms: chemo plus placebo, chemo plus \\nbevacizumab and erlotinib plus bevacizumab (AT). In this the elderly), \\nthe serious adverse event rates were somewhat less common in the erlotinib plus bevacizumab \\narm compared to the other two arms. There was one case of a pulmonary hemorrhage in this arm \\nvs. two in the chemo plus bevacizumab arm. Study discontinuation due to adverse events were \\nalso less frequent in the AT arm. Efficacy was similar to the chemo plus bevacizumab arm and \\nbetter that the chemo alone group34.  Hence the safety of this regimen has been tested kind, will explore the response rate in treatment-naïve \\nelderly patients with advanced NSCLC –an important cohort that needs less toxic therapies. \\n \\n2.0 OBJECTIVES \\n \\n2.1 Primary \\n  \\nThe primary objective of this Phase Proteinuria:  An increased incidence of proteinuria has been observed in patients treated \\nwith bevacizumab compared with control arm patients. In the bevacizumab-containing \\ntreatment arms of clinical trials (across all indications), the incidence of proteinuria \\n(reported as an adverse  3 venous VTE events in one NSCLC trial (E4599) \\nwas higher in the bevacizumab-containing arm compared to the chemotherapy control \\narm (5.6% vs. 3.2%).  One event (0.2%) was fatal in the bevacizumab-containing arm; no \\nfatal events were reported in the carboplatin/paclitaxel arm (see Bevacizumab \\nInvestigator Brochure).  In metastatic CRC clinical trials, the incidence of VTE across all indications the overall incidence of VTE events was \\n2.8% 17.3% in the bevacizumab-containing arms compared with 3.2% 15.6% in the \\nchemotherapy control arms.  The use of bevacizumab with chemotherapy does not \\nsubstantially increase the risk of VTE event compared was excluded, the \\nrate of any type of Grade ≥ 3 hemorrhage was 1.0% in the control arm \\n\\n(carboplatin/paclitaxel) versus 4.1% in the carboplatin/paclitaxel + bevacizumab arm23. \\n \\nof LVEF decrease (defined as NCI-CTC Grade 3 or 4) in \\nthe paclitaxel  bevacizumab arm was 0.3% versus 0% for the paclitaxel alone arm.  \\n \\nNo information is available on patients with preexisting CHF of New York Heart \\nAssociation (NYHAStudy BR.21, the incidence of ILD (0.8%) was the same in the placebo and \\nerlotinib groups.  The overall incidence in erlotinib-treated patients from all studies \\n(including uncontrolled studies and cisplatin plus vinorelbine in the treatment of advanced non-small-cell lung cancer: \\na Southwest Oncology Group study. J Clin Oncol 16:2459-65, 1998 \\n 2. Kelly K, Crowley J, plus cisplatin in the treatment of patients with advanced non-\\n-small-cell lung cancer: a Southwest Oncology Group trial. J Clin Oncol 19:3210-8, 2001 \\n 3. Gridelli C: The ELVIS TrialD1 and epidermal growth factor receptor genes in non-small-cell lung cancer. Lung \\nCancer Study Group. J Cancer Res Clin Oncol 125:61-70, 1999 \\n 16. Kuo T, Fisher GA',\n",
       "       'the addition of bortezomib to anthracycline-based chemotherapy \\n2.  \\nRecent work led by Dr. Staudt’s group has identified two signatures of the microenvironment \\nthat are predictive of R-CHOP outcome in DLBCL3. ) regimen was initially studied in 131 patients with \\nrelapsed or resistant lymphomas32.  46% of the group generally had a poor prognosis as \\ndetermined by a high-intermediate or high International Prognostic Index (in patients who showed no response to their last combination regimen \\n(i.e. resistant disease). In this group of 42 patients, 57% responded to EPOCH. Among patients \\nwith chemotherapy-sensitive disease, and ABC DLBCL patients who \\nreceived DA-EPOCH-B, there were significant differences between the 2 groups. The overall \\nresponse rate was 13% in GCB DLBCL compared to 83% in ABC DLBCL of treatment was used to determine Alemtuzumab dose escalation. Patients \\nwere treated with escalated doses of Alemtuzumab in cohorts of three patients; 4 patients were \\ntreated with 30 mg, and subsequent cohorts were treated with 60 and 90 mg. All but 3 were stage \\nIII or IV at presentationidentifier information as part of the transfer process but may, at the \\ndiscretion of the NCI investigator, group samples from individual patients when that is \\ncritical to the testing process.    \\n\\n• The NCI investigator alone. But this potential toxicity of this combination is \\nreasonable in relation to the potential benefit to this group of patients who have treatable \\ndiseases. Additionally, the knowledge that will be gained from this trial newly diagnosed patients with \\nclassical Hodgkin lymphoma: improvement of event free survival in all international prognostic \\nscore groups. Blood 2006;108:2742a. \\n56. Oki Y, Pro B, Fayad LE, et al. ',\n",
       "       'treatment ......................................................................................................27\\n\\n5.1.1 Investigational and control drugs ..........................................................27\\n\\n5.1.2 Additional treatment..............................................................................27\\n\\n5.2 Treatment arms ......................................................................................................28\\n\\n5.3 Treatment assignment ............................................................................................28\\n\\n5.4 Treatment blinding.................................................................................................28\\n\\n5.5 Treating the patient 27\\n\\nTable 5-2 Preparation of i.v. zoledronic acid infusion ..........................................30\\n\\nTable 6-1 Group 1 Assessment schedule...............................................................34\\n\\nTable 6-2 Group 2 Assessment schedule...............................................................36\\n\\nTable 7-1 Guidance for capturing the study treatment errors including \\ninformed consent\\n\\nRandomization number A unique identifier assigned to each randomized patient, \\ncorresponding to a specific treatment arm assignment\\n\\nStudy drug Any single drug or combination of drugs administered to the patient \\nas part of current minimum RDAs for vitamin D and \\ncalcium from the Institute of Medicine. \\n\\n\\uf0b7 Visit 9 for Group 1 is now defined as up to 10 months after Visit 5 (month 6) of the \\nDMD) already specified previously. These additional conditions \\nare listed in Appendix 6 and the exclusion criteria for Group 2 have been revised to \\naddress these as follows: \\n\\n\\uf0b7 Due to the inclusion of some renal function defined as < 60 \\nmL/min/1.73 m2 based on the Schwartz formula at Visit 8 (Group 1) or Visit 8A \\n(Group 2). \\n\\n\\uf0b7 Schwartz formula has been added under Section 6.5.4.2\\n\\n\\uf0b7 In addition ‘serious definition of normal i.e. < 20 ng/mL or < 50 nmol/L at Visit 8A for \\nGroup 2. \\n\\n\\uf0b7 The blood volume required (Appendix 7) for the analysis of specialized bone \\nwithin the protocol and across supporting documents \\nespecially with respect to Serious Adverse Event/Adverse Event reporting in Group 2 and \\ncentral laboratory analyses. \\n\\n\\uf0b7 In this 12 month study, visit windows have been and replaced with a requirement \\nto perform the visit as close to the designated day as possible. For Group 2 only, the time \\nbetween Visit 8A and Visit 9 should be as close to 28 days -May-2016:\\n\\nTwelve (12) patients have been enrolled onto this study, all were enrolled into Group 1; the \\nproposed changes will have no impact on the interpretation of the data.\\n\\nChanges underlying conditions other than chronic inflammatory disorders e.g. Duchenne muscular \\ndystrophy (DMD).\\n\\n\\uf0b7 Include (Group 2): patients not eligible to enroll into the Core study because of clinically \\nsignificant back pain (Therefore two Baselines are used in the study:\\n\\n\\uf0b7 Baseline 1: First visit of the Core for Group 1\\n\\n\\uf0b7 Baseline 2: First visit of the Extension for Group 2.\\n\\n\\uf0b7 Align with the Core study changes in the Inclusion/Exclusion criteria:\\n\\n\\uf0b7 the Core study (CZOL446H2337), is safe for the treatment of osteoporotic \\nchildren treated with glucocorticoids (Group 1 only)\\n\\nSecondary \\nObjectives\\n\\nGroup 1:\\n\\n1. To evaluate the change from baseline (Visit 1 of the Core study) in LS BMD Z-\\nscore at Month 18 and 24 by core treatment group.\\n\\n2. To evaluate the change from baseline 1 (Visit 1 of the Core study) in LS and total \\nbody BMC at Month 18 and 24 by core treatment group.\\n\\n3. To evaluate the change from baseline 1(Visit 1 of the Core study) in serum tartrate-resistant acid \\nphosphatase isoform 5b (TRAP-5b) at Month 18 and 24 by core treatment \\ngroup.\\n\\n4. To evaluate the proportion of patients with new clinical vertebral fractures during \\nthe 12 month extension period by core treatment group.\\n\\n5. To evaluate the proportion of patients with new morphometric vertebral fracture \\nduring the 12 month extension period by core treatment group.\\n\\n6. To evaluate the change from baseline 1 (Visit 1 of the Core study) -Revised (FPS-R) at Month 15, 18, 21 and 24 by core \\ntreatment group.\\n\\n7. To evaluate the change from baseline 1 (Visit 1 of the Core study) in 2nd \\nmetacarpal cortical width at month 24 by core treatment group.\\n\\n8. To evaluate the change from baseline 1(Visit 1 of the Core study) in bone age \\nand 2nd metacarpal cortical width at month 24 by core treatment group.\\n\\nGroup 2:\\n\\n1. To evaluate the change from (Extension) baseline 2 (Visit 8A) -center, 1-year open-label extension to the \\nCZOL446H2337 Core study with a single treatment arm (zoledronic acid); there will \\nbe no placebo or active control group. All patients will have received glucocorticoid \\ntherapy of any duration within the 12 months preceding screening.of non-malignant conditions requiring treatment with systemic \\nglucocorticoids. All patients who complete the Core study (Group 1) will be eligible.\\nThose patients who were found to be eligible for the Core study but not enrolled due \\nto clinically significant back pain associated with the fracture (Group 2).\\n\\nApproximately 100 patients will be eligible for enrollment into the extension, for both \\ngroups. Patient recruitment in Group 2 will stop once enrollment in the Core study is \\ncompleted.\\n\\nKey Inclusion \\ncriteria\\n\\nWritten informed consent before any study-related procedure.\\n\\nGroup 1:\\n\\n1. Children and adolescents, male or female, 6-19 years old, regimen of calcium and vitamin D intake as required in \\nthe Core study through diet or supplementation.\\n\\nGroup 2:\\n\\n1. Children and adolescents, male or female, 5 - 17 years old who from standing height or less).\\n\\nKey Exclusion 1. Major protocol violation in the Core Study (Group 1 only).\\n\\nTrial Protocol (Version 03) clean Protocol No. CZOL446H2337E1\\n\\ncriteria 2. Prior use of bisphosphonates (Group 2 only) or sodium fluoride (doses for \\nosteoporosis not for dental hygiene).\\n\\n3D concentrations of < 20 \\nng/mL or < 50 nmol/L) at Visit 8 (Group 1) or Visit 8A (Group 2).\\n\\n5. Renal impairment defined as an estimated glomerular filtration rate (GFR) \\nformula at Visit 8 \\nor 8 A; a serum creatinine above the normal range at Visit 9 (Group 1) or \\nan increase between Visit 8A and Visit 9 greater than 0.5 mg/dL (44.2 \\nμmol/L) for Group 2.\\n\\n6. Female patients of child bearing potential are eligible only if they are not \\n; and bone safety monitoring.\\n\\nData analysis Data analyses will be performed separately for the two populations (Group 1 [SAF-\\n1] and Group 2 [SAF-2]), if not otherwise specified. \\n\\nFor the patients in Group 2 (SAF-2); only descriptive statistics will be reported for \\nthe single treatment arm.\\n\\nKey words Osteoporosis, children and adolescents, zoledronic acid, chronic inflammation, \\nDuchenne muscular with \\nGCs. Patients who completed the Core study are referred to in this protocol as patients in \\nGroup 1. This study will also add to the information available on the management of \\n\\nis to treat this type of patient with a bisphosphonate. These patients are\\nincluded in this protocol in Group 2.\\n\\n2 Study objectives\\n\\n2.1 Primary objective\\n\\nThe primary objective of this study is to . This objective applies only to patients \\nwho completed the Core study (these patients are referred to as Group 1).\\n\\n2.2 Secondary objective(s)\\n\\nGroup 1 secondary objectives:\\n\\n1. To evaluate the change from baseline 1 (Visit 1 of the Core study) in LS-BMD Z-score at \\nMonth 18 and 24 by core treatment group.\\n\\n2. To evaluate the change from baseline 1 (Visit 1 of the Core study) in LS and total body \\nBMC at Month 18 and 24 by core treatment group.\\n\\n3. To evaluate the change from baseline 1(Visit 1 of the Core study) in serum tartrate-resistant acid phosphatase isoform 5b (TRAP-\\n5b) at Month 18 and 24 by core treatment group.\\n\\n4. To evaluate the proportion of patients with new clinical vertebral fractures during the 12 \\nmonth extension period by core treatment group.\\n\\n5. To evaluate the proportion of patients with new morphometric vertebral fracture during \\nthe 12 month extension period by core treatment group.\\n\\n6. To evaluate the change from baseline 1 (Visit 1 of the Core study) Scale-Revised (FPS-R) at Month 15, 18, 21 and 24 by core treatment group.\\n\\n7. To evaluate the change from baseline 1 (Visit 1 of the Core study) in 2nd metacarpal \\ncortical width at month 24 by core treatment group.\\n\\n8. To evaluate the change from baseline 1(Visit 1 of the Core study) in bone age and 2nd\\n\\nmetacarpal cortical width at month 24 by core treatment group.\\n\\nGroup 2 secondary objectives:\\n\\n1. To evaluate the change from (Extension) baseline 2 (visit 1-year open-label extension to the CZOL446H2337 Core study. The study uses \\na single treatment arm (zoledronic acid); there will be no placebo or active control group. All \\npatients will be osteoporotic children and adolescents receiving GC therapy of any duration \\nwithin the 12 months preceding Baseline (Visit 1 of the Core study for Group 1; Visit 8A of \\nthis study for Group 2). All patients must manifest a LS-BMD Z-score of -0.5 or worse and \\nhave evidence of low impact/fragility fracture at either the Baseline of the Core Study (Group \\n1) or this study (Group 2).\\n\\nGroup 1: Patients who have received at least one dose of study drug and who have completed \\nthe months of the Visit 9 infusion; otherwise, the DXA scans must be repeated at Visit 9.\\n\\nGroup 2: Children, male or female, 5 to 17 years of age who otherwise met the inclusion of patient with a bisphosphonate.\\n\\nVisit 8 A will serve as the first (screening) visit for Group 2. Patients will return at Visit 9 and \\nall patients will receive zoledronic acid. The allowed of Visit 9; otherwise, the DXA scans must be repeated at Visit 9.\\n\\nAll Patients (Group 1 and Group 2) will receive two infusions of i.v. zoledronic acid \\n(0.05 mg/kg) with study where all patients will be receiving active study drug \\n(zoledronic acid 0.05mg/kg).\\n\\nGroup 1: The Core study, CZOL446H2337, is part of a Pediatric Investigational Plan \\n(EMEA-000057-an active \\nintervention, while at the same time allowing for the primary objective to be assessed.\\n\\nGroup 2: The study will capture additional safety and efficacy data on zoledronic acid from \\npatients who presented significant back pain (significant symptoms) from \\nvertebral fracture who were not enrolled into the Core study (Group 2) because the pre-\\nexisting clinical care at the Investigator’s site is to treat this type both formation and resorption.  \\n\\n The \\noverall incidence rate of adverse events was similar between the two treatment groups. There \\nwas no evidence of a long-term effect on renal function following the administration of of possible adverse effects while maintaining efficacy.\\n\\n3.4 Rationale for choice of comparator\\n\\nNo placebo-treatment arm will be used in this Extension study.\\n\\n3.5 Purpose and timing of interim analyses/design adaptationsestimated glomerular filtration rate \\n(GFR) < 60 ml/min/1.73 m2. In addition patients considered for Group 2 who have \\nnephrotic syndrome with osteoporosis, who do not meet this exclusion criterion, have \\nwith primary and secondary osteoporosis and has shown a favorable \\nrisk-benefit profile. \\n\\n4 Population\\n\\nGroup 1: Patients who have received at least one dose of study drug, have completed \\nparticipation in bone fractures or two or more low \\ntrauma upper extremity long bone fractures confirmed by radiology report. \\n\\nGroup 2: Patients who were not eligible for the Core study because of clinically significant \\nback pain from patient with a bisphosphonate.\\n\\nApproximately 100 patients will be eligible for enrollment into the extension, for both groups. \\nPatient recruitment in Group 2 will stop once enrollment in the Core study is completed \\n\\n4.1 Inclusion criteria\\n\\nPatients eligible for assessment is performed. An assent \\nneeds to be provided in accordance with ICH and local regulations.\\n\\nGroup 1:\\n\\n1. Children and adolescents, male or female, between 6 to 19 years of 19 years of age and at least 600 IU daily vitamin D, through diet or supplementation). \\n\\nGroup 2:\\n\\n1. Children and adolescents, male or female, between 5 to 17 years of .\\n\\n4.2 Exclusion criteria\\n1. Patients who demonstrated a major protocol violation in the Core study (Group 1 only)\\n\\n2. Patients for whom the investigator considers participation in the Extension study is not \\nappropriate (Group 1 only).\\n\\n(For both groups) \\n\\n3. Hypocalcaemia and hypophosphatemia: any value (age-matched) below the normal range vitamin D concentrations < 20 ng/mL or \\n< 50 nmol/L) at Visit 8 for Group 1, Visit 8 A for Group 2. \\n\\n5. Local serum ionized calcium below the normal range at Visit 9.\\n\\n6have been recorded in the source documents). Serum creatinine above the normal range at \\nVisit 9 (Group 1) or an increase between Visit 8 A and Visit 9 greater than 0.5 mg/dL \\n\\n(44.2μmol/L) for Group 2.\\n\\n7. Uncontrolled symptoms of cardiac failure or arrhythmia\\n\\n8. Any prior use of bisphosphonates (other than study drug during the Core study for Group \\n1 only) or sodium fluoride (doses for osteoporosis not for dental hygiene).\\n\\n9treatment period is \\napproximately 10 days in total) (Hogler et al 2004).\\n\\n5.2 Treatment arms\\n\\nAll patients will be given open-label zoledronic acid.\\n\\n5.3 Treatment assignment\\n\\nNot applicable-label study and treatment blinding is not applicable.\\n\\n5.5 Treating the patient\\n\\n5.5.1 Patient numbering\\n\\nGroup 1: Each patient entering this Extension study will continue to be identified by the \\npatient number assigned in the Core study, CZOL446H2337.  \\n\\nGroup 2:  Patient number consists of a four digit Center number (e.g. 0001) followed by a patient number for the first patient starts at 101 (e.g.\\n00101). Example of patient number in Group 2:  0001_00101.\\n\\n5.5.2 Dispensing the study drug\\n\\nEach study site will be supplied by 34\\nAmended Clinical Trial Protocol (Version 03) clean Protocol No. CZOL446H2337E1\\n\\nTable 6-1 Group 1 Assessment schedule\\n\\nFinal \\nvisit of \\nCore \\nstudy\\n\\nInfusion visit\\n\\nTele-\\nphone36\\nAmended Clinical Trial Protocol (Version 03) clean Protocol No. CZOL446H2337E1\\n\\nTable 6-2 Group 2 Assessment schedule\\n\\nScreening \\nVisit \\n\\nInfusion \\nVisit1\\n\\nTele-\\nphone\\n\\nInfusion\\n\\nVisiteligibility and screening log should be completed on the eCRF.\\n\\n6.2 Patient demographics/other baseline characteristics\\n\\nGroup 1: Baseline demographical information for continuing patients was collected at the \\nbeginning of the Core study and of the Extension study (Visit 9) will be also collected \\non the adverse event eCRF.\\n\\nGroup 2: Baseline demographical information, medical history, concomitant medications, \\nphysical exam and laboratory/imaging CZOL446H2337E1\\n\\n\\uf0b7 bone age and metacarpal cortical width assessment\\n\\n\\uf0b7 pain assessment\\n\\n6.4.1 Vertebral morphometric fractures\\n\\nGroup 2 only: \\n\\nAt Visit 8A, anterior-posterior (AP) and lateral X-rays BMC), Total body BMC  \\n\\n will be assessed at the final visit of the Core study (for Group 1) or \\nVisit 8A-Screening Visit (for Group 2), Visit 9 (Month 18) and Visit 15 (Month 24) (final \\nDXA will be acquired locally and the results will be sent to a \\ncentral reader for evaluation.\\n\\nGroup 1: The DXA scans (hip, spine and distal femur) from Visit 8 will be used of the Visit 9 \\ninfusion; otherwise, the DXA scans must be repeated at Visit 9.\\n\\nGroup 2: Lumbar Spine-BMD-Z score of -0.5 or worse at Visit 8A needs to be NTX will be performed. Blood will \\nbe drawn from patients at the final visit Core study (for Group 1) or Visit 9 (for Group 2), at \\nVisit 12 (Month 18) and Visit 15 (Month 24) () hand/wrist X-ray will be taken at the final visit of Core study (for \\nGroup 1) or Visit 8A-Screening visit for Group 2 and at Visit 15/EOS (Month 24) for both \\nGroups to assess bone age. The change in 2nd metacarpal cortical width at Month 24 relative \\nto the left upper extremity precludes radiographic imaging, (or precluded this    \\nX-ray in the Core study for Group 1) then the right hand will be evaluated for this purpose. In \\nthis case, the at each visit (at office and telephone visit) at the final visit of the Core \\nstudy (Group 1 only) and first visit of the Extension study (Visit 9), Visits 11, 12case report form. Significant findings prior to study \\ndrug would be entered on the Medical History CRF for Group 2 only.\\n\\nTanner staging will be performed at Visit 8 (Group 1 only), Visit 9 (Group 2 only) and the \\nend of the extension study visit (Visit 15/EOS), \\n\\n6.5.2 Vital signs\\n\\nMeasurements will be made of sitting blood pressure and pulse rate at Visits 8 (Group 1 only), \\n8A (Group 2 only), 9, 12 and 15. \\n\\nClinically notable vital signs are defined in Appendix kilogram (kg) in indoor clothing, but without shoes) will be \\nperformed at Visits 8 (Group 1 only), 8A (Group 2 only), 9, 12 and 15 and recorded on the \\nVital sign eCRF.\\n\\n \\n \\n \\n\\nlaboratory will collect and evaluate blood and urine samples for hematology, \\nbiochemistry and urinalysis at Visit 8A (Group 2 only) and Visits 9, 12 and 15.\\n\\nAn additional lab test for renal monitoring be calculated using the Schwartz equation at all visits \\nwhere serum creatinine will be measured (Visits 8A (Group 2 only) 9, 10, 12, 13 and 15) by \\nthe Central Laboratory.may be dosed.\\n\\nAlso, local laboratory evaluation of serum creatinine will be performed at Visit 8A (Group 2 \\nonly) and Visit 9 for exclusion purposes.  If local serum creatinine at Visit 9 related adverse event, is identified \\n\\n6.5.4.3 Urinalysis\\n\\nA urine specimen will be obtained at Visit 8A (Group 2 and Group 1 if more than 28 days has \\nlapsed since Visit 8 of the Core study), Visits β-hCG) will be performed at Visit 8 of the Core study or Screening \\nvisit (for Group 2) and at the final visit (Visit 15) of the Extension study.  Urine pregnancy \\ncase of excessive change in LS-BMD Z-scores compared with the relevant baseline for each \\nGroup, the investigator will be alerted.\\n\\nPatients may be hospitalized at the discretion of the primary investigator abuse of the product are also considered an \\nadverse event irrespective if a clinical event has occurred.\\n\\nGroup 1: all AEs following completion of the Core study (Visit 8) will be recorded in the \\neCRF of this extension study.\\n\\nGroup 2: due to the long screening period (at least 4 weeks), although SAEs are collected should be submitted to Novartis before \\npublication or presentation.\\n\\nData analyses will be performed separately for two group populations (Group 1 and Group 2), \\nif not otherwise specified. No inferential statistical analysis or treatment group comparison \\nwill be performed for the patients in Group 2; only descriptive statistics will be reported for \\nthe single treatment arm. Baseline comparison will be performed with respect to baseline 1 \\n\\n53\\nAmended Clinical Trial Protocol (Version 03) clean Protocol No. CZOL446H2337E1\\n\\nand baseline 2 for Group 1 population whereas the same will be performed with respect to \\nbaseline 2 for Group 2 population.\\n\\n9.1 Analysis sets\\n\\nThe following analysis sets are described:\\n\\nGroup 1 (patients who were randomized into the Core protocol)\\n\\n\\uf0b7 Full Analysis Set-1 (FAS-1)\\n\\n\\uf0b7 Safety Analysis Set-1 (SAF-1)\\n\\nGroup 2 (patients who were not randomized into the Core protocol)\\n\\n\\uf0b7 Full Analysis Set-2 (FAS-2No. CZOL446H2337E1\\n\\ndemographic and other baseline characteristics variables will be provided for the 2 \\nrandomized Core treatment groups. In addition, the baseline comparability between these two\\ntreatment groups will be evaluated for key demographic and other baseline characteristics \\nvariables for Group 1. Categorical variables will be evaluated using Fisher’s exact test, and \\nthe continuous variables will analyses performed on the key secondary efficacy variables.\\n\\nAll analyses will be performed based on the FAS-1 for Group 1. \\n\\nSimilar descriptive statistics for single treatment arm will be reported on FAS-2 for Group 2 \\nalso.  \\n\\nThe relevant medical history/current medical conditions for the Extension study include \\nor after the end of Core study but before the first study \\ndrug infusion in the Extension study for Group 1. The number and percentage of patients with \\nrelevant medical history/current medical conditions for the and preferred term. Similar medical \\nhistory/current medical conditions except adverse events will also be recorded for Group 2. \\nThe number and percentage of patients with relevant medical history/current medical \\nconditions for the Extension study will be presented for single treatment arm by primary \\nsystem organ class and preferred term of the MedDRA dictionary.\\n\\nAll analyses will be and FAS-2.\\n\\n9.3 Treatments \\n\\nStudy drug and compliance\\n\\nDescriptive statistics will be provided by core treatment group for duration of infusion and \\nvolume of infusion. \\n\\nConcomitant therapy\\n\\nConcomitant medications will be coded . The medications will be sorted in decreasing order of \\nfrequency with respect to usage in the zoledronic acid group.\\n\\nTrial Protocol (Version 03) clean Protocol No. CZOL446H2337E1\\n\\nDescriptive statistics will be provided by core treatment group for the dose and duration of \\nuse of GCs prior to the first dose in the extension and during the 12-month extension period\\nfor Group 1.  The number and percentage of patients receiving different types of GC therapy \\nwill be presented by preferred term and Core treatment group (zoledronic acid or placebo).\\n\\nSimilar summary tables will be provided that present the number and for medications prior to the first \\ndose in the extension and during the 12-month extension period for Group 2.\\n\\n9.4 Analysis of the primary variable(s)\\n\\n9.4.1 Variable\\n\\nThis study is designed to safety of zoledronic acid in pediatric patients \\nwho were treated with GCs and completed the Core study CZOL446H2337 (Group 1) and \\nthose who were not enrolled onto Core study due to symptomatic vertebral fracture but \\nenrolled in this Extension study CZOL446H2337E1 (Group 2). Particular attention will be \\ngiven to general safety and renal safety.\\n\\nAll safety discontinuation of study drug, and adverse events causing concomitant \\nmedication taken will be presented by the core treatment group. \\n\\nLaboratory data will be presented with respect to three groups of laboratory tests (hematology, \\nserum chemistry, and urinalysis).  \\n\\nSummary statistics (means, low, or high. \\nThese summaries will be presented by laboratory test and by the core treatment group. For \\nGroup 1, both changes from Baseline 1 (first visit of the Core) and Baseline 2 (first criteria for being clinically notable after the first dose of study medication will be \\npresented by the Core treatment group. Patient listings that present each patient’s lab profile \\nfor those tests that are outside of the criteria for being clinically notable after \\nthe first dose of study medication will be presented by the Core treatment group. Any \\nstatistical tests performed to explore the data will be used only to highlight any interesting \\ncomparisons that may warrant further consideration.\\n\\nNo statistical test will be performed for Group 2.\\n\\nDetails will be available in statistical analysis plan. \\n\\n9.4.2 Statistical model, hypothesis, summary statistics (mean, standard \\ndeviation, median, minimum, maximum) presented by the Core treatment group for \\ncontinuous variables and the number and percentage of patients presented by the Core  \\ntreatment group for categorical variables for Group 1. Similar statistics will be presented for\\nthe single treatment arm for Group 2.\\n\\n9.4.3 Handling of missing values/censoring/discontinuations\\n\\nAll patients in the SAF-1 and \\n\\n9.5 Analysis of secondary variables\\n\\n9.5.1 Efficacy variables\\n\\nIf otherwise not specified, the efficacy data for Group 1 will be summarized and analyzed \\nwith respect to Baseline 1 (first visit of the Core) and Baseline 2 (first visit of the Extension)\\nwill be presented by the Core treatment group and visit. However only summary statistics will \\nbe presented with respect to Baseline 2 and will be each \\nvariable and its change from baseline measured on a continuous scale, will be presented by \\ntreatment group and visit. Frequency tables will be provided for categorical variables by \\ntreatment group and visit. All hypothesis tests (only for Group 1) will be evaluated at a 0.05 \\nlevel of significance, and the p-values will 9.5.1.1 Change in lumbar spine areal BMD Z-score at Months 18 and 24 \\nrelative to baseline\\n\\nGroup 1: the percentage change in LS-BMD Z-score at Months 18 and 24 relative to both \\nbaselines between zoledronic acid and placebo (the Core treatment groups) will be evaluated \\nusing an ANCOVA model with treatment, pooled center, underlying condition treated with \\nintervals for the difference in least squares means between zoledronic acid and placebo will be \\nprovided.\\n\\nGroup 2: percentage changes in LS-BMD Z-score at Months 18 and 24 relative to Baseline \\n\\n9.5.1.2 Change in lumbar spine and total body BMC at Months 18 and 24 \\nrelative to baseline\\n\\nGroup 1: change in BMC at the lumbar spine and total body at Months 18 and 24 relative to intervals \\nfor the difference in least squares means between zoledronic acid and placebo will be \\nprovided.\\n\\nGroup 2: change from Baseline 2 (Visit 8A/9) in BMC at the lumbar spine and total body at \\nMonths 18 and 24 in zoledronic acid group will be presented.  \\n\\n9.5.1.3 Relative change in biochemical markers of bone turnover (Serum NTX, \\nTRAP-5b, BSAP and P1NP)\\n\\nGroup 1: a transformation of the log ratio of treatment value vs. baseline value (calculated by \\ndividing visit will be used to normalize the distribution of the biochemical \\nmarker parameters. An ANCOVA model with treatment group, pooled center, underlying \\ncondition treated with GCs, and loge (baseline value), as placebo will be provided using the described ANCOVA \\nmodel and then back transformed to the original scale.\\n\\nGroup 2: summary statistics and relative change from Baseline 2 (Visit 8A/9) of biochemical \\nmarkers of 9.5.1.4 Incidence of new clinical vertebral fractures and new morphometric \\nvertebral fractures during the 12 month extension period\\n\\nGroup 1: The number and percentage of patients with new vertebral fractures and new \\nmorphometric vertebral fractures during Confidential Page 58\\nAmended Clinical Trial Protocol (Version 03) clean Protocol No. CZOL446H2337E1\\n\\nCore treatment group. Between-treatment differences will be evaluated using Fisher’s exact \\ntest. A new morphometric vertebral not present at the \\nextension baseline (Core Visit 8 and Visit 1 X-rays).\\n\\nGroup 2: number and percentage of patients with new vertebral fractures and new \\nmorphometric vertebral fractures during the extension period will be presented.\\n\\n9.5.1.5 Change in metacarpal cortical width at Month 24 relative to baseline\\n\\nGroup 1: the change in metacarpal cortical width at Month 12 relative to both baselines will \\nbe evaluated confidence \\nintervals in difference in least squares means between zoledronic acid and placebo will be \\nprovided.\\n\\nGroup 2: summary statistics will be reported. \\n\\n9.5.1.6 Reduction in pain from baseline\\n\\nThe reduction in condition treated with GCs and baseline pain score as explanatory variables.\\n\\nRegression analysis will be carried out for Group 1 with respect to both the baselines. \\nHowever the number and percentage of patients with classified status of pain with respect to \\nbaseline 2 will be reported for Group 2.\\n\\nChange in metacarpal cortical width relative to baseline\\n\\nSimilar analyses will be performed for FAS-2 for the zoledronic acid group.\\n\\n9.5.2 Safety variables\\n\\nSafety is the primary objective.  Analysis of safety variables are described vertebral fracture. Approximately 100\\npatients in total will be enrolled into the Extension study. Patient recruitment in Group 2 will \\nstop once randomization in the Core study is completed.\\n\\n9.7 Interim analyses\\n\\nAn , and Novartis systems are performed by Novartis Pharma \\nAuditing and Compliance Quality Assurance (CQA), a group independent from those \\ninvolved in conducting, monitoring or performing quality control of the clinical trial. The electrolytes, calcium, magnesium, phosphorus only\\n2Only in girls of child bearing potential\\n3Only repeated in Group 1 if more than 30 days after Visit 8 of the Core study\\n\\nand control drugs\\n\\t5.1.2 Additional treatment\\n\\tTable 5-1 Recommended minimum daily dietary allowances\\n\\n\\n\\t5.2 Treatment arms\\n\\t5.3 Treatment assignment\\n\\t5.4 Treatment blinding\\n\\t5.5 Treating the patient\\n\\t5.5.1 Patient numbering\\n\\t5.5.2 up\\n\\t5.6.5 Early study termination by the sponsor\\n\\n\\n\\t6 Visit schedule and assessments\\n\\tTable 6-1 Group 1 Assessment schedule\\n\\tTable 6-2 Group 2 Assessment schedule\\n\\t6.1 Information to be collected on screening failures\\n\\t6.2 Patient demographics/other baseline ',\n",
       "       'guided by MRI images of the carotid arteries.  Participants randomized to the \\nsecond, imaging guided, group will be assigned to LDL cholesterol targets \\naccording to the degree of atherosclerosis seen by MRI.  in which 200 \\nmen and women aged 55 and older will be randomized to one of two \\ntreatment arms.  The study duration will be 24 months.  The control group \\nwill receive standard care with NCEP ATP IIIR guided statin therapy as \\ndetermined by clinical risk factors.  The imaging intervention group will \\nhave lipid targets assigned according to the severity of atherosclerotic \\nplaque measured as wall volume in below 70 mg/dL.  Participants will be randomized in a equal ratio \\ninto imaging guided and control groups, respectively.  This recruitment \\ngoal is designed to account for an estimated 20% attrition rate of \\ncarotid arterial wall volume using contrast enhanced MR.  For participants \\nrandomized to the imaging intervention arm, measured wall volume will be \\ncompared against the MESA population, and treatment targets will be \\nreceive statin therapy to an LDL target between 40 \\nand 70 mg/dL.  Participants in the control arm will have lipid sub-fraction \\ntargets determined according to estimated 10 year cardiovascular risk, as \\nextended release once daily \\n\\nrosuvastatin 40 mg/ day  \\n\\nsimvastatin 80 mg/day  \\n\\n \\nSubjects assigned to both arms of the study will undergo carotid MR for \\nplaque evaluation at baseline, 12 and 24 months of 10/26/17 \\n\\n10 \\n\\nData Analyses of Carotid MR imaging \\n \\nCo-investigators blinded to the results of treatment group assignment and \\npatient characteristics will be responsible for the measurement of all  MR \\noutcome variables, year.   \\n \\nSixteen to twenty-four patients (total, n=60) will be selected from three \\ngroups: (a) patients with a calcium score of 0-99, (b) patients with be open-label randomized by the NIH \\nPharmaceutical Development Service in to either the image guided \\ntherapy arm or the standardized treatment arm using a random \\nnumber table used by the NIH Pharmaceutical Development \\nService Department.  Double blinding feasible in light of the \\nneed for study physicians to titrate drugs to LDL targets.   \\n \\nThe treatment group assignments will be blinded to the MRI and CT \\nreaders.  If a participant should need to come off study for any \\nreason, they will be informed which arm they were randomized to. \\n \\n\\n3.0 Subjects Implementation \\n\\n3.1 Study Design \\n\\nThis is a randomized, in which 200 men and \\nwomen aged 55 and older will be randomized to one of two \\ntreatment arms.  The study followup will be 24 months.  The control \\ngroup will receive standard care with NCEP ATP IIIR guided statin \\ntherapy as determined by clinical risk factors. \\n  Version Date:   10/26/17 \\n\\n21 \\n\\n \\nThe imaging intervention group will have lipid targets assigned \\naccording to the severity of atherosclerotic plaque measured as \\nwall volume in and less than 70 mg/dL.  Participants will \\nbe randomized in equal numbers to the two study arms.   \\n\\n \\nWe estimate we will accrue approximately 3-4 subjects a month, \\nleading to full accrual within 50 months. \\n\\n3.2 Protocol Evaluation/Study Calendar \\n\\nTreatment Arms: Randomized 1 (Arm A):1 (Arm B) \\n \\nA. Statin therapy with lipid targets determined by plaque imaging.  \\n\\n \\n1. Lowest tertile follow up, \\nthey will complete imaging as per protocol and be analyzed \\naccording to their original treatment group assignment.   \\n\\n \\n1. Occurrence of a clinical cardiovascular event including \\n\\nmyocardial infarction, acute coronary syndrome125 mm3, combining data from both the left and right arteries. The \\nbaseline mean for the entire group was 300.0. Since the proposed study \\nhas a longer duration (24 months) than the NIA size \\ncalculations were based on finding a 40% decrease in plaque volume in \\nthe image-guided arm compared to a 20% decrease in the conventional \\ntreatment arm at 24 months using a two-sample t-test.  The table below \\nshows the power to detect this difference at the 5% level of significance, \\nassuming 80 subjects in each group. These power calculations were \\nbased on comparing the change from baseline at a single time point. a mixed model, which will \\ninclude multiple observations per patient. Therefore, 80 patients in each \\ngroup will certainly provide adequate power. As discussed below we \\nassume that the attrition rate will be 0.20 for this study. These \\ncalculations were based on the optimal allocation of equal numbers to the \\ntwo arms. However a 3/1 ratio of image-guided to conventional therapy did \\nnot meaningfully reduce the powerhazard rate, which is assumed to be constant across \\nall study months, is identical in the two groups (image guided vs. \\n\\nLiver \\nFunction \\n\\nAlk. \\nPhosphatase \\n\\nStandard 2 x \\nnormal . \\n\\nClin. Diagn. <1% \\n\\n \\nDecrease in \\nplaque volume  \\n(Image guided \\narm) \\n\\nDecrease in Plaque Volume (Control Arm) \\n 15% 20% 25% \\n35% 0.85 0.62 0.33 \\n40% 0.96 0.85 hazard ratio \\nof 0.50.  Specifically, it assumes hazard rates of 1.00 for the standard care \\ngroup, versus 0.50 for the image guided group. Since the hazard rate is \\nconstant across months, this is equivalent to median survival times of 0.69 \\nyears for the standard treatment versus 1.39 years for the image guided \\nintervention group.  \\n \\nThe power analysis for the secondary outcome (clinical events) was based \\non the paper by Brown et al.24 This paper reported mortality rates at 30 \\nmonths in two treatment groups (2/48 = 0.042 and 3/46 = 0.065) and a \\ncontrol (10/52 = 0.192). We used these rates, as well as the combination \\nfor the two treatment groups (5/94 = 0.053). The calculation of power was \\nbased on the log-rank test(25log-rank to detect the indicated difference from control \\n\\n     Treatment \\nMortality Rate \\nSample \\nSize/group \\n\\n0.042 0.053 0.065 \\n\\n50 0.57 0.47 0.38 \\n\\n80 0.82 0.71 0.59 \\n\\n100 0.91 0.82 0.70 are \\nmade according to randomized treatment assignment, regardless of any \\nchanges in dose, schedule or treatment arm. In an ITT analysis, all \\nrandomized study participants are included in their assigned treatment \\ngroups, regardless of compliance with the assigned treatment regimen. \\nOn the other hand, the weakness of will also be used to isolate specific \\ncomparisons of outcome variables at specific time points between the two \\narms.  The required assumptions of normally distributed errors and \\nrandom effects can be checked by an analysis 7.0 Human Subject Protection  \\n\\n7.1 Rationale for Subject Selection  \\n\\nIndividuals over age 55 from all racial/ethnical groups are eligible to \\nparticipate.  NIH employees over age 55 who meet the eligibility \\nrequirements are 630-3 - Leave policy for NIH \\nEmployees Participating in NIH Medical Research Studies. \\n \\nThis age group is the most likely group to suffer the clinical events \\nconsequent to atherosclerosis. Atherosclerosis and concomitant \\ncardiovascular events are the leading eligible for the PET \\nsubstudy.   Sixteen to twenty-four patients will be selected from three \\ngroups: (a) patients with a calcium score of  0-99, (b) patients the DSMB will monitor the safety \\nand efficacy of image guided therapy compared with the standard \\ntherapy control arm. This will include evaluation of enrollment, \\ncompliance, follow-up, laboratory results, data of symptoms to the initiation of \\ntherapy was 8 hours in both the Lopressor- and placebo-treatment \\ngroups. Among patients treated with Lopressor, there were \\ncomparable reductions in 3-month mortality for those ',\n",
       "       '\\nDSMB \\nEC \\n\\nData Safety Monitoring Board \\nEthics Committee \\n\\nECG Electrocardiogram \\nECOG Eastern Cooperative Oncology Group \\nFCBP Female of child bearing potential \\nFDA Food and Drug Administration \\nFISH Fluorescence in situ hybridization 2008).  Cmax, Cmin, AUC and t½ increased from dose 1 to 4 in all three arms. In the \\n\\n2000mg dose group, objective response significantly correlated with Cmax, AUC and t½ after dose 4 \\n\\nand survival endpoints correlated patients with various hematologic malignancies.  \\n\\nThis study identified the maximal tolerated dose as 125mg daily with a cohort expansion Part 2 at \\n\\nthis dose.   The most common adverse events (AEs) were GI FDA \\n\\napproval (Wierda et al, 2010), the overall response rate in the BF-ref cohort which is used as the \\n\\nhistorical comparator for our current study population, was 47% (0.470',\n",
       "       'a slower loss of walking ability relative to patients receiving placebo.  \\nEfficacy in the high-dose ataluren arm was not better than observed in the placebo arm.  Given \\nthese data suggesting the potential for an inverse dose-response relationship favoring the lower Participants in the study were 38 boys with nmDMD ranging in \\nage from 5 to 17 years.  Cohorts received sequential, escalating dose levels of ataluren in a single \\n56-day cycle, comprising 28 days of drug administration and 28 days of follow-up.  The first \\ncohort of 6 patients received drug TID at morning, midday, and evening doses of 4-, 4-, and \\n8-mg/kg.  A second cohort of 20 patients received drug TID at doses of 10-, 10-, and 20-mg/kg.  \\nThereafter, a further cohort of 12 patients received drug TID at doses of 20-, 20-, and 40-mg/kgataluren.  Investigators’ attributions of drug-relatedness were \\nsimilar across the placebo- and ataluren-treated groups.  None of the patients prematurely \\ndiscontinued treatment because of adverse events.  No ataluren-patients had clinically concerning laboratory \\nabnormalities.     \\n\\nMedian study drug compliance was >97% in each treatment arm.  Ataluren plasma \\nconcentrations were obtained prior to the morning dose (trough) and 2 hours Manual provides \\nadditional information regarding the performance of this procedure. \\n\\n7.2.7. Height/Ulna Length/Arm Span \\nHeight (in cm) will be measured at Screening (Visit 1), at Week For nonambulatory patients, due to the difficulty in obtaining an accurate standing height \\nmeasurement, ulna length and arm span will be used, as a surrogate measure for height (see \\nStudy Manual).  Ulna length and arm span (in cm) will be measured at Screening (Visit 1),Week \\n\\nPulmonary function parameters (adjusted as appropriate for gender, age, and height (using ulna \\nlength and arm span) and their changes from baseline will be described by subject and visit and \\nsummarized by visit.  Ulna length and arm span will be used for separate calculation of %-\\npredicted parameters.  The within-subject study.  In a second 26 \\nweek rat study, no malignant hibernomas were observed in any dose group, including the high \\ndose group (1200 mg/kg/day).  The exact correlative relevance of this finding is unclear , 10, 20 mg/kg, and ataluren 20, 20, 40 mg/kg \\ntreatment arms.  Many of the reported adverse events were those that are typically associated \\nwith pediatric illnesses. Igarashi M, Nevo Y, Pestronk A, Subramony SH, \\nVedanarayanan VV, Wessel H; CINRG Group.  CINRG randomized controlled trial of creatine \\nand glutamine in Duchenne muscular dystrophy.  Ann NeurolA randomized, controlled trial defining the time course and \\ndose response.  Clinical Investigation of Duchenne Dystrophy Group.  Arch Neurol.  1991 Apr; \\n48(4): 383-8. \\n\\nGrubb A, \\nBertini E, Mercuri E. Functional changes in Duchenne muscular dystrophy: a 12-month \\nlongitudinal cohort study. Neurology. 2011 Jul 19;77(3):250-6. \\n\\nMcDonald CM, Abresch RT, Carter GTthe investigator must obtain informed consent \\nfrom the legally authorized representative in accordance with applicable law.  These groups \\nshould not be included in research unless the research is necessary to promote the health of \\nthe . Vital Signs\\n\\t7.2.6. Brooke Upper Extremity Functional Rating Scale\\n\\t7.2.7. Height/Ulna Length/Arm Span\\n\\t7.2.8. Physical Examination\\n\\t7.2.9. Weight\\n\\t7.2.10. Hematology Laboratory Assessment\\n\\t7.2.11. ',\n",
       "       'last patient last visit date, \\nMay 2018.\\n\\nThe patients will be recruited evenly from two age groups; 0-5 years and 6-11 years. A minimum of \\n12 patients in each age group will complete pharmacokinetic assessment of previous FVIII product \\nand of N8-GP. The trial has one treatment arm where all patients receive N8-GP twice weekly for \\nprophylaxis. An increase in dose frequency from 60 patients will be enrolled and started on trial product in order for approximately\\n25 patients in each age group to complete the main phase of the trial.\\n\\nThe trial population is characterised by the following key linked congenital bleeding disorder caused by mutations in the \\ncoagulation factor VIII (FVIII) gene on the long arm of the X-chromosome. According to the World \\nFederation of Haemophilia (WFH), there Trial design\\n\\n5.1 Type of trial\\nThis is a multi-national, open-label single-arm, and non-controlled trial to assess safety including \\nimmunogenicity, efficacy and PK of N8-planned last patient last visit date, \\nMay 2018.\\n\\nPatients will be recruited evenly from two age groups; 0-5 years and 6-11 years. 12 patients within \\neach age group will complete PK assessment with both their previous FVIII product and with N8-\\nGP.\\n\\nThe trial has one treatment arm. All patients will receive N8-GP twice weekly for prophylaxis. \\nDuring the extension phase the to treat bleeding episodes during the trial period.\\n\\nAfter approximately 25 patients in each of the two age groups (0-5 and 6-11 years) have completed \\nthe main phase, any patients prophylaxis regimen \\nuntil one year of treatment is completed.\\n\\nThe trial does not include a placebo control group, as it is considered unethical to administer an \\nineffective treatment to patients with haemophilia.\\n\\nThere will be no randomisation due to the single-arm nature of the trial. However, the patients will \\nbe sampled equally from the two age groups at screening; 0-5 years and 6-11 years, both inclusive.\\n\\nPK\\n, approximately 60 patients will commence treatment \\nwith trial product, and at least 25 patients in each age group are anticipated to complete the main \\nphase of the trial.\\n\\nThe duration of single patient’s 6.5 Patient replacement\\nWithdrawn patients may be replaced to ensure that 25 patients in each of the two age groups \\ncomplete the main phase of the trial, achieving at least 50 ED. It is estimated that 11 years respectively, at the time of screening. The patients will remain \\nand count in the age group to which they were initially assigned throughout their participation in the \\ntrial. Since patients aged ≥12 years -GP pivotal trial (NN7088-\\n3859), N8-GP will be investigated in all the age groups required by regulatory authorities.\\n\\nA weight limit has been set at ≥10kg to ensure sufficient blood visits:\\n\\nVisit 1: Screening and PK of previous FVIII product for first 12 patients in each age group\\nVisit 2: 1st dose of N8-GP at the clinic and PK of N8-GP for first 12 patients in each age group\\nVisit 3: 2nd dose of N8-GP at the clinic 4 days after Visit 2. ≥20.0 kg due to limit on blood sampling volume.\\n\\nThe blood samples should be taken from the contralateral arm as compared to the arm used for \\ninjection of previous FVIII product within a time period of at least 24 hours post-venepuncture is not possible, the blood may be sampled \\nfrom a venflon or a butterfly on the contralateral arm as compared to the arm used for injection. If \\nso, the first portion of blood must be discarded (1 ml Visit 3 N8-\\nGP pre-dose sample. \\n\\nThe blood samples should be taken from the contralateral arm as compared to the arm used for N8-\\nGP injection within a time period of at least 24 hours post-dosing.venepuncture is not possible, the blood may be sampled \\nfrom a venflon or a butterfly on the contralateral arm as compared to the arm used for injections. If \\nso, the first portion of blood must be discarded (1 ml to perform visit 1 \\nprocedures over several days to accommodate blood sampling from patients in the lowest weight \\ngroup.\\n\\nCONFIDENTIAL\\n\\nPK assessment instead (see 8.1.1.1 and 8.1.2.1). \\n\\nThe blood samples should be taken from the contralateral arm as compared to the arm used for \\nFVIII injection within a time period of at least 24 hours post-dosing. Ifvenepuncture is not possible, the blood may be sampled from a venflon or a \\nbutterfly on the contralateral arm as compared to the arm used for injection. If so, the first portion of \\nblood must be discarded (1 ml the amount of FVIII. The end product, FXa hydrolyses a chromogenic substrate, \\nthereby releasing the chromogenic group p-nitroanilide, and the colour of this reaction is followed \\nphotometrically at 405 nm. The \\nbeing in the extension phase.\\n\\nThe PRO questionnaires are generic as well as disease and age-group specific and are designed to \\nminimise the burden on the patient/parent/LAR in providing the Nordisk will be responsible for the statistical analyses.\\n\\nAll endpoints will be summarised in total and by age group (children 0-5 years old at screening and \\nchildren 6 -11 years old at screening)assuming an \\nannualised bleeding rate of 24 for the missing period\\n\\nABRs will also be estimated by age group (0-5 years and 6-11 years), by cause of bleed, by location will not be log-transformed prior to analysis. This will be done in total and \\nby age group. Furthermore individual data on PK endpoints will be summarised and listed. \\n\\nTable 16-1 Definition and for each \\nassay used. \\n\\nThe following plots will be made (for all and by age group as applicable):\\n\\n! Mean curves for all PK patients for previous FVIII and N8-GP and .  2007. \\n\\n16 European Commission Regulation for EudraCT.  2011. \\n\\n17 The ad hoc group for the development of implementing guidelines for Directive 2001/20/EC \\nrelating to good clinical practice in the 25 80 2000 20.0 60.0 50\\n\\nBlood sample prioritisation\\n\\nThe below listed visits can in the lowest weight group lead to need of prioritisation of blood \\nsamples. It is therefore advised to draw blood samples in to perform Visit 1 blood sampling over several days to accommodate blood sampling \\nfrom patients in the lowest weight group. It must be possible to evaluate eligibility criteria prior to \\nVisit 2.\\n\\nVisit 1: Visit procedures\\n\\nVisit 1: Screening and PK of previous FVIII product for first 12 patients in each age group\\nVisit 2: 1st dose of N8-GP at the clinic and PK of N8-GP for first 12 patients in each age group\\n\\n8.1.1 Visit 1 Screening visit\\n\\nIt is voluntary for the patient to consent to having a blood venepuncture is not possible, the blood may be sampled \\nfrom a venflon or a butterfly on the contralateral arm as compared to the arm used for injection. If \\nso, the first portion of blood must be discarded (1 ml venepuncture is not possible, the blood may be sampled \\nfrom a venflon or a butterfly on the contralateral arm as compared to the arm used for injection. If \\nso, the first portion of blood must be discarded (1 ml information will be collected.\\n\\n8.4.2.6 FVIII activity analysis\\n\\nThe blood samples should be taken from the contralateral arm as compared to the arm used for \\nFVIII injection within a time period of at least 24 hours post-dosing. Ifvenepuncture is not possible, the blood may be sampled from a venflon or a \\nbutterfly on the contralateral arm as compared to the arm used for injection. If so, the first portion of \\nblood must be discarded (1 ml section 5.1 to allow for patients to continue in the extension phase as soon \\nas 25 patients for each cohort have completed the main phase. \\n\\n! Section 6.1 has been updated to reflect actual participating countries.X X\\n\\n5.1 Type of trial\\n\\n…\\n\\nAfter approximately 25 patients in each of the two age groups (0-5 and 6-11 years) have completed \\nthe main phase, any patients ',\n",
       "       'MAcitentan in Eisenmenger Syndrome To RestOre exercise \\n\\ncapacity (Open-Label) \\n\\nLong term, single-arm, open-label extension study of protocol AC-055-305 to assess \\n\\nthe safety, tolerability and Protocol number, acronym, title  \\n\\nAC-055-308, MAESTRO-OL, Long term, single-arm, open-label extension study of \\n\\nprotocol AC-055-305 to assess the safety, tolerability and Protocol number, acronym, title  \\n\\nAC-055-308, MAESTRO-OL, Long term, single-arm, open-label extension study of \\n\\nprotocol AC-055-305 to assess the safety, tolerability and 004411-31 \\n\\nDoc No D-14.170 \\n\\n \\n \\n\\nPROTOCOL SYNOPSIS AC-055-308 \\n\\nTITLE Long term, single-arm, open-label extension study of protocol \\n\\nAC-055-305 to assess the safety, tolerability and ). \\n\\nDESIGN / PHASE Multi-center, open-label (OL) extension, single-arm, Phase 3 \\n\\nstudy. \\n\\nSTUDY PLANNED \\nDURATION \\n\\nFirst subject \\n\\nFirst visit \\n\\nQ2 \\n\\nLast visit \\nOpen \\n\\nCENTERS/COUNTRIES Approximately 90 centers in approximately 30 countries. \\n\\nSUBJECTS / GROUPS Up to 220 subjects in one group*. \\n\\n* Sample size may be increased up to 330 subjects based on the interim blind \\n\\n\\n\\n(ULN). \\n\\n6. Severe hepatic impairment according to National Cancer \\n\\nInstitute organ dysfunction working group criteria defined as \\n\\ntotal bilirubin > 3 \\uf0b4 ULN accompanied by any AST \\n\\nelevation above the ULNDoc No D-14.170 \\n\\n \\n\\n1 BACKGROUND AND RATIONALE \\n\\n1.1 Eisenmenger Syndrome \\n\\nEisenmenger Syndrome (ES) belongs to group 1.4.4 of the Dana Point clinical \\n\\nclassification of pulmonary hypertension [Simonneau 2009; see Appendix 1]across all 4 dose levels. The overall frequency of AEs was \\n\\nsimilar to that observed in the placebo group. The numbers of patients with at least one \\n\\nserious adverse event (SAE) were equally distributed across groups. There were no \\n\\ndeaths.  \\n\\nThe study was terminated prematurely following the sponsor’s decision to of 5 cases of increased liver enzymes \\uf03e 3 \\uf0b4 ULN. These 5 cases \\n\\noccurred in the macitentan groups, without obvious dose relationship (one, 2, one, and \\n\\none in the 0.3 mg, 1 mg, 3 mg, and 10 mg dose groups, respectively). In 3 cases, there \\n\\nwere other plausible reasons for increased liver enzymes (idiopathic pulmonary fibrosis \\n\\nA double-blind, randomized, placebo-controlled, multi-center, parallel group \\n\\nPhase 2 study to evaluate the efficacy and safety of a 10 mg dose of macitentan in \\n\\ndose was well tolerated. Overall, the safety profile was \\n\\nsimilar in the macitentan 10 mg and placebo groups. The overall incidence of \\n\\n \\n\\nEudraCT 2012-004411-31 \\n\\nDoc No D-14.170 \\n\\n \\n\\ntreatment-emergent AEs was similar in both groups. Dyspnea, peripheral edema, anemia, \\n\\npneumonia and nausea occurred at a higher incidence in patients hypertension were lower on macitentan \\n\\nthan on placebo. \\n\\nAn equal proportion of patients in the 2 treatment groups experienced SAEs and died \\n\\nduring the study. The most frequently reported SAEs and causes of death were consequences of the underlying disease. \\n\\nMean changes in laboratory variables were generally small and unremarkable in both \\n\\ngroups. Seven patients treated with macitentan had a decrease in hemoglobin levels to \\n\\n≤ 10 g/dL aminotransferase [ALT] or aspartate \\n\\naminotransferase [AST] > 3 \\uf0b4 ULN in the macitentan and placebo groups, respectively). \\n\\n \\n\\n \\n\\n1.3.2.4 Phase 3 study in patients with pulmonary arterial hypertension \\n\\nA randomized, over the treatment period versus placebo. This risk was \\n\\nreduced by 45% in the 10 mg dose group (p < 0.0001). At 3 mg, the observed risk \\n\\nreduction was 30% (well tolerated. The number of AEs reported and patients \\n\\ndiscontinuing treatment due to AEs was similar across all groups. The overall incidence \\n\\nof elevations in liver aminotransferases was similar to placebo (4.5%, 3.6of ALT or AST > 3 \\uf0b4 ULN in the placebo, macitentan 3 mg and macitentan \\n\\n10 mg groups, respectively). In addition, no differences were observed between \\n\\nmacitentan and placebo on fluid retention an AE – was observed more frequently on macitentan than placebo, with no difference \\n\\nin treatment discontinuation between groups. \\n\\nadverse effect reported with other endothelin \\n\\nantagonists, was reported with similar incidence across macitentan and placebo treatment \\n\\ngroups. \\n\\nElevations of liver aminotransferases (AST, ALT) have been associated with PAH and \\n\\nwith May 2014, page 28/102 \\n\\nConfidential  \\n\\nEudraCT 2012-004411-31 \\n\\nDoc No D-14.170 \\n\\n \\n\\nmacitentan groups, showed markedly reduced platelet counts, with or without bleeding \\n\\ncomplications, at some time during the alternative medical cause. \\n\\n• Of the 2 contraceptive methods that must be used, one must be from Group 1, and \\n\\none must be from Group 2, defined as follows:  \\n\\n– Group 1: Oral, implantable, transdermal or injectable hormonal contraceptives, \\n\\nintrauterine devices, female sterilization (), or partner’s \\n\\nsterilization (vasectomy). If a hormonal contraceptive is chosen from this \\n\\ngroup, it must be taken for at least one month prior to enrollment. Alternatively, \\n\\nif the confirm correct location of \\n\\nthe microinserts and tubal occlusion (as per manufacturer’s recommendations). \\n\\n– Group 2: Female or male condoms, diaphragm or cervical cap, any of them in \\n\\ncombination with > 3 \\uf0b4 ULN. \\n\\n6. Severe hepatic impairment according to National Cancer Institute organ dysfunction \\n\\nworking group criteria, defined as total bilirubin > 3 \\uf0b4 ULN accompanied by any AST \\n\\nelevation above the ULNbe identified by \\n\\ntrained staff before study closure.  \\n\\nAll the listings will be presented by previous treatment group during AC-055-305 (i.e., \\n\\nformer placebo and former macitentan), site, subject number, where \\n\\nappropriate. Where appropriate, all the summaries and graphics will be presented by \\n\\nprevious treatment group during AC-055-305 (i.e., former placebo and former \\n\\nmacitentan) and all subjects pooled togetherof subjects with treatment-emergent MLAs up to EOT will \\n\\nbe tabulated for each laboratory assessment by treatment group. \\n\\nThe number and percentage of subjects with treatment-emergent ALT and/or AST \\n\\nabnormalities (> of \\n\\npreferred term). \\n\\nDistributions of these parameters will only be compared descriptively between the \\n\\ntreatment groups. No statistical inference will be performed. \\n\\n5.7 Exploratory analyses \\n\\nNot applicable. \\n\\n5.8 Interim summary of the potential risks associated with macitentan and the methodology for \\n\\nrisk management were added. \\n\\n\\uf02d Group 1 contraceptive methods were revised to add non-surgical sterilization methods \\n\\n(e.g., the Essure procedure'],\n",
       "      dtype='<U267271')"
      ]
     },
     "execution_count": 7,
     "metadata": {},
     "output_type": "execute_result"
    }
   ],
   "source": [
    "train_examples[:10]"
   ]
  },
  {
   "cell_type": "markdown",
   "metadata": {
    "id": "IFtaCHTdc-GY"
   },
   "source": [
    "Let's also print the first 10 labels."
   ]
  },
  {
   "cell_type": "code",
   "execution_count": 8,
   "metadata": {
    "colab": {
     "base_uri": "https://localhost:8080/"
    },
    "id": "tvAjVXOWc6Mj",
    "outputId": "40ee2206-305c-4967-de4b-bf0a3ddf3f6c"
   },
   "outputs": [
    {
     "data": {
      "text/plain": [
       "array([[0, 1, 0, 0, 0],\n",
       "       [1, 0, 0, 0, 0],\n",
       "       [1, 0, 0, 0, 0],\n",
       "       [1, 0, 0, 0, 0],\n",
       "       [1, 0, 0, 0, 0],\n",
       "       [0, 1, 0, 0, 0],\n",
       "       [1, 0, 0, 0, 0],\n",
       "       [1, 0, 0, 0, 0],\n",
       "       [1, 0, 0, 0, 0],\n",
       "       [1, 0, 0, 0, 0]])"
      ]
     },
     "execution_count": 8,
     "metadata": {},
     "output_type": "execute_result"
    }
   ],
   "source": [
    "train_labels[:10]"
   ]
  },
  {
   "cell_type": "markdown",
   "metadata": {
    "id": "LLC02j2g-llC"
   },
   "source": [
    "## Build the model\n",
    "\n",
    "The neural network is created by stacking layers—this requires three main architectural decisions:\n",
    "\n",
    "* How to represent the text?\n",
    "* How many layers to use in the model?\n",
    "* How many *hidden units* to use for each layer?\n",
    "\n",
    "In this example, the input data consists of sentences. The labels to predict are either 0 or 1.\n",
    "\n",
    "One way to represent the text is to convert sentences into embeddings vectors. We can use a pre-trained text embedding as the first layer, which will have two advantages:\n",
    "*   we don't have to worry about text preprocessing,\n",
    "*   we can benefit from transfer learning.\n",
    "\n",
    "For this example we will use a model from [TensorFlow Hub](https://www.tensorflow.org/hub) called [google/nnlm-en-dim50/2](https://tfhub.dev/google/nnlm-en-dim50/2).\n",
    "\n",
    "There are two other models to test for the sake of this tutorial:\n",
    "* [google/nnlm-en-dim50-with-normalization/2](https://tfhub.dev/google/nnlm-en-dim50-with-normalization/2) - same as [google/nnlm-en-dim50/2](https://tfhub.dev/google/nnlm-en-dim50/2), but with additional text normalization to remove punctuation. This can help to get better coverage of in-vocabulary embeddings for tokens on your input text.\n",
    "* [google/nnlm-en-dim128-with-normalization/2](https://tfhub.dev/google/nnlm-en-dim128-with-normalization/2) - A larger model with an embedding dimension of 128 instead of the smaller 50."
   ]
  },
  {
   "cell_type": "markdown",
   "metadata": {
    "id": "In2nDpTLkgKa"
   },
   "source": [
    "Let's first create a Keras layer that uses a TensorFlow Hub model to embed the sentences, and try it out on a couple of input examples. Note that the output shape of the produced embeddings is a expected: `(num_examples, embedding_dimension)`."
   ]
  },
  {
   "cell_type": "code",
   "execution_count": null,
   "metadata": {
    "id": "_NUbzVeYkgcO"
   },
   "outputs": [],
   "source": [
    "model = \"https://tfhub.dev/google/nnlm-en-dim50/2\"\n",
    "hub_layer = hub.KerasLayer(model, input_shape=[], dtype=tf.string, trainable=True)\n",
    "hub_layer(train_examples[:3])"
   ]
  },
  {
   "cell_type": "markdown",
   "metadata": {
    "id": "dfSbV6igl1EH"
   },
   "source": [
    "Let's now build the full model:"
   ]
  },
  {
   "cell_type": "code",
   "execution_count": null,
   "metadata": {
    "id": "xpKOoWgu-llD"
   },
   "outputs": [],
   "source": [
    "model = tf.keras.Sequential()\n",
    "model.add(hub_layer)\n",
    "model.add(tf.keras.layers.Dense(16, activation='relu'))\n",
    "model.add(tf.keras.layers.Dense(5, activation='softmax'))\n",
    "\n",
    "model.summary()"
   ]
  },
  {
   "cell_type": "markdown",
   "metadata": {
    "id": "6PbKQ6mucuKL"
   },
   "source": [
    "The layers are stacked sequentially to build the classifier:\n",
    "\n",
    "1. The first layer is a TensorFlow Hub layer. This layer uses a pre-trained Saved Model to map a sentence into its embedding vector. The model that we are using ([google/nnlm-en-dim50/2](https://tfhub.dev/google/nnlm-en-dim50/2)) splits the sentence into tokens, embeds each token and then combines the embedding. The resulting dimensions are: `(num_examples, embedding_dimension)`.\n",
    "2. This fixed-length output vector is piped through a fully-connected (`Dense`) layer with 16 hidden units.\n",
    "3. The last layer is densely connected with a single output node. This outputs logits: the log-odds of the true class, according to the model."
   ]
  },
  {
   "cell_type": "markdown",
   "metadata": {
    "id": "0XMwnDOp-llH"
   },
   "source": [
    "### Hidden units\n",
    "\n",
    "The above model has two intermediate or \"hidden\" layers, between the input and output. The number of outputs (units, nodes, or neurons) is the dimension of the representational space for the layer. In other words, the amount of freedom the network is allowed when learning an internal representation.\n",
    "\n",
    "If a model has more hidden units (a higher-dimensional representation space), and/or more layers, then the network can learn more complex representations. However, it makes the network more computationally expensive and may lead to learning unwanted patterns—patterns that improve performance on training data but not on the test data. This is called *overfitting*, and we'll explore it later."
   ]
  },
  {
   "cell_type": "markdown",
   "metadata": {
    "id": "L4EqVWg4-llM"
   },
   "source": [
    "### Loss function and optimizer\n",
    "\n",
    "A model needs a loss function and an optimizer for training. Since this is a binary classification problem and the model outputs a probability (a single-unit layer with a sigmoid activation), we'll use the `binary_crossentropy` loss function. \n",
    "\n",
    "This isn't the only choice for a loss function, you could, for instance, choose `mean_squared_error`. But, generally, `binary_crossentropy` is better for dealing with probabilities—it measures the \"distance\" between probability distributions, or in our case, between the ground-truth distribution and the predictions.\n",
    "\n",
    "Later, when we are exploring regression problems (say, to predict the price of a house), we will see how to use another loss function called mean squared error.\n",
    "\n",
    "Now, configure the model to use an optimizer and a loss function:"
   ]
  },
  {
   "cell_type": "code",
   "execution_count": null,
   "metadata": {
    "id": "Mr0GP-cQ-llN"
   },
   "outputs": [],
   "source": [
    "model.compile(optimizer='adam',\n",
    "              loss=tf.losses.CategoricalCrossentropy(),\n",
    "              metrics=[tf.metrics.CategoricalAccuracy(name='accuracy')],\n",
    "              run_eagerly=True)"
   ]
  },
  {
   "cell_type": "markdown",
   "metadata": {
    "id": "hCWYwkug-llQ"
   },
   "source": [
    "## Create a validation set\n",
    "\n",
    "When training, we want to check the accuracy of the model on data it hasn't seen before. Create a *validation set* by setting apart 10,000 examples from the original training data. (Why not use the testing set now? Our goal is to develop and tune our model using only the training data, then use the test data just once to evaluate our accuracy)."
   ]
  },
  {
   "cell_type": "code",
   "execution_count": null,
   "metadata": {
    "id": "-NpcXY9--llS"
   },
   "outputs": [],
   "source": [
    "# x_val = train_examples[:10000]\n",
    "# partial_x_train = train_examples[10000:]\n",
    "\n",
    "# y_val = train_labels[:10000]\n",
    "# partial_y_train = train_labels[10000:]\n",
    "\n",
    "partial_x_train = train_examples\n",
    "x_val = test_examples\n",
    "\n",
    "partial_y_train = train_labels\n",
    "y_val = test_labels"
   ]
  },
  {
   "cell_type": "markdown",
   "metadata": {
    "id": "35jv_fzP-llU"
   },
   "source": [
    "## Train the model\n",
    "\n",
    "Train the model for 40 epochs in mini-batches of 512 samples. This is 40 iterations over all samples in the `x_train` and `y_train` tensors. While training, monitor the model's loss and accuracy on the 10,000 samples from the validation set:"
   ]
  },
  {
   "cell_type": "code",
   "execution_count": null,
   "metadata": {
    "id": "tXSGrjWZ-llW"
   },
   "outputs": [],
   "source": [
    "history = model.fit(partial_x_train,\n",
    "                    partial_y_train,\n",
    "                    epochs=50,\n",
    "                    batch_size=512,\n",
    "                    validation_data=(x_val, y_val),\n",
    "                    verbose=1,\n",
    "                    class_weights=[2,1,5,10,15])"
   ]
  },
  {
   "cell_type": "code",
   "execution_count": null,
   "metadata": {
    "id": "rBJzhek-33s3"
   },
   "outputs": [],
   "source": [
    "model.save('num_arms_model_15_keras.keras')"
   ]
  },
  {
   "cell_type": "code",
   "execution_count": null,
   "metadata": {
    "id": "U0Q8OsTu6FIL"
   },
   "outputs": [],
   "source": [
    "from google.colab import drive\n",
    "drive.mount('/content/drive')\n",
    "model.save(\"model15\")"
   ]
  },
  {
   "cell_type": "markdown",
   "metadata": {
    "id": "9EEGuDVuzb5r"
   },
   "source": [
    "## Evaluate the model\n",
    "\n",
    "And let's see how the model performs. Two values will be returned. Loss (a number which represents our error, lower values are better), and accuracy."
   ]
  },
  {
   "cell_type": "code",
   "execution_count": null,
   "metadata": {
    "id": "zOMKywn4zReN"
   },
   "outputs": [],
   "source": [
    "results = model.evaluate(test_examples, test_labels)\n",
    "\n",
    "print(results)"
   ]
  },
  {
   "cell_type": "markdown",
   "metadata": {
    "id": "z1iEXVTR0Z2t"
   },
   "source": [
    "This fairly naive approach achieves an accuracy of about 87%. With more advanced approaches, the model should get closer to 95%."
   ]
  },
  {
   "cell_type": "markdown",
   "metadata": {
    "id": "5KggXVeL-llZ"
   },
   "source": [
    "## Create a graph of accuracy and loss over time\n",
    "\n",
    "`model.fit()` returns a `History` object that contains a dictionary with everything that happened during training:"
   ]
  },
  {
   "cell_type": "code",
   "execution_count": null,
   "metadata": {
    "id": "VcvSXvhp-llb"
   },
   "outputs": [],
   "source": [
    "history_dict = history.history\n",
    "history_dict.keys()"
   ]
  },
  {
   "cell_type": "markdown",
   "metadata": {
    "id": "nRKsqL40-lle"
   },
   "source": [
    "There are four entries: one for each monitored metric during training and validation. We can use these to plot the training and validation loss for comparison, as well as the training and validation accuracy:"
   ]
  },
  {
   "cell_type": "code",
   "execution_count": null,
   "metadata": {
    "id": "nGoYf2Js-lle"
   },
   "outputs": [],
   "source": [
    "acc = history_dict['accuracy']\n",
    "val_acc = history_dict['val_accuracy']\n",
    "loss = history_dict['loss']\n",
    "val_loss = history_dict['val_loss']\n",
    "\n",
    "epochs = range(1, len(acc) + 1)\n",
    "\n",
    "# \"bo\" is for \"blue dot\"\n",
    "plt.plot(epochs, loss, 'bo', label='Training loss')\n",
    "# b is for \"solid blue line\"\n",
    "plt.plot(epochs, val_loss, 'b', label='Validation loss')\n",
    "plt.title('Training and validation loss')\n",
    "plt.xlabel('Epochs')\n",
    "plt.ylabel('Loss')\n",
    "plt.legend()\n",
    "\n",
    "plt.show()"
   ]
  },
  {
   "cell_type": "code",
   "execution_count": null,
   "metadata": {
    "id": "6hXx-xOv-llh"
   },
   "outputs": [],
   "source": [
    "plt.clf()   # clear figure\n",
    "\n",
    "plt.plot(epochs, acc, 'bo', label='Training acc')\n",
    "plt.plot(epochs, val_acc, 'b', label='Validation acc')\n",
    "plt.title('Training and validation accuracy')\n",
    "plt.xlabel('Epochs')\n",
    "plt.ylabel('Accuracy')\n",
    "plt.legend()\n",
    "\n",
    "plt.show()"
   ]
  },
  {
   "cell_type": "markdown",
   "metadata": {
    "id": "oFEmZ5zq-llk"
   },
   "source": [
    "In this plot, the dots represent the training loss and accuracy, and the solid lines are the validation loss and accuracy.\n",
    "\n",
    "Notice the training loss *decreases* with each epoch and the training accuracy *increases* with each epoch. This is expected when using a gradient descent optimization—it should minimize the desired quantity on every iteration.\n",
    "\n",
    "This isn't the case for the validation loss and accuracy—they seem to peak after about twenty epochs. This is an example of overfitting: the model performs better on the training data than it does on data it has never seen before. After this point, the model over-optimizes and learns representations *specific* to the training data that do not *generalize* to test data.\n",
    "\n",
    "For this particular case, we could prevent overfitting by simply stopping the training after twenty or so epochs. Later, you'll see how to do this automatically with a callback."
   ]
  },
  {
   "cell_type": "code",
   "execution_count": null,
   "metadata": {
    "id": "ApsV4Fhx3_ld"
   },
   "outputs": [],
   "source": [
    "model.predict(train_examples[0:1])"
   ]
  },
  {
   "cell_type": "code",
   "execution_count": null,
   "metadata": {
    "id": "M4TWUhEE4Ipt"
   },
   "outputs": [],
   "source": [
    "model.predict(test_examples[0:1])"
   ]
  },
  {
   "cell_type": "code",
   "execution_count": null,
   "metadata": {
    "id": "1bCieCFc6p3C"
   },
   "outputs": [],
   "source": []
  },
  {
   "cell_type": "code",
   "execution_count": null,
   "metadata": {
    "id": "mvBe3LPY4oYs"
   },
   "outputs": [],
   "source": [
    "df_annotations_num_arms_known = df_annotations[~df_annotations.num_arms.isna() ]\n",
    "df_annotations_num_arms_known[\"num_arms_clean\"] = df_annotations_num_arms_known[\"num_arms\"].apply(get_num_arms_clean)\n",
    "df_val_full = df_annotations_num_arms_known[df_annotations_num_arms_known.train_val == \"val\"]\n"
   ]
  },
  {
   "cell_type": "code",
   "execution_count": null,
   "metadata": {
    "id": "tijSFG_b6wb0"
   },
   "outputs": [],
   "source": [
    "df_val_full"
   ]
  },
  {
   "cell_type": "code",
   "execution_count": null,
   "metadata": {
    "id": "xQPIHMHv63vK"
   },
   "outputs": [],
   "source": [
    "input_texts= np.asarray(df_val_full.text.apply(lambda x : x if type(x) is str else \"\"))"
   ]
  },
  {
   "cell_type": "code",
   "execution_count": null,
   "metadata": {
    "id": "jLgoTPer7HX5"
   },
   "outputs": [],
   "source": [
    "pred_proba = model.predict(input_texts)"
   ]
  },
  {
   "cell_type": "code",
   "execution_count": null,
   "metadata": {
    "id": "WNKFJjOd7AXI"
   },
   "outputs": [],
   "source": [
    "df_val_full[\"y_pred\"] = np.argmax(pred_proba, axis=1) + 1"
   ]
  },
  {
   "cell_type": "code",
   "execution_count": null,
   "metadata": {
    "id": "j9jwtqye7Oyh"
   },
   "outputs": [],
   "source": [
    "df_val_full[\"y_pred\"].value_counts()"
   ]
  },
  {
   "cell_type": "code",
   "execution_count": null,
   "metadata": {
    "id": "2g9kJ-7W6yBU"
   },
   "outputs": [],
   "source": [
    "from sklearn.metrics import accuracy_score, confusion_matrix\n",
    "\n",
    "\n",
    "num_arms_ground_truths = df_val_full.num_arms_clean\n",
    "pred_num_arms = df_val_full[\"y_pred\"]\n",
    "\n",
    "acc = accuracy_score(num_arms_ground_truths, pred_num_arms)\n",
    "print (f\"Num arms accuracy {acc}\")"
   ]
  },
  {
   "cell_type": "code",
   "execution_count": null,
   "metadata": {
    "id": "tctTNflu7Sk-"
   },
   "outputs": [],
   "source": [
    "from sklearn.metrics import ConfusionMatrixDisplay\n",
    "\n",
    "ConfusionMatrixDisplay.from_predictions(num_arms_ground_truths, pred_num_arms)\n",
    "plt.xticks(rotation=90)\n",
    ";"
   ]
  },
  {
   "cell_type": "code",
   "execution_count": null,
   "metadata": {
    "id": "O4Ot79oG9eWj"
   },
   "outputs": [],
   "source": [
    "num_arms_ground_truths.value_counts()"
   ]
  },
  {
   "cell_type": "code",
   "execution_count": null,
   "metadata": {
    "id": "K5iK5BPb9si6"
   },
   "outputs": [],
   "source": [
    "pred_num_arms.value_counts()"
   ]
  },
  {
   "cell_type": "code",
   "execution_count": null,
   "metadata": {
    "id": "bKwC40K29t4j"
   },
   "outputs": [],
   "source": []
  }
 ],
 "metadata": {
  "colab": {
   "collapsed_sections": [],
   "machine_shape": "hm",
   "provenance": []
  },
  "gpuClass": "standard",
  "kernelspec": {
   "display_name": "Python 3 (ipykernel)",
   "language": "python",
   "name": "python3"
  },
  "language_info": {
   "codemirror_mode": {
    "name": "ipython",
    "version": 3
   },
   "file_extension": ".py",
   "mimetype": "text/x-python",
   "name": "python",
   "nbconvert_exporter": "python",
   "pygments_lexer": "ipython3",
   "version": "3.10.4"
  }
 },
 "nbformat": 4,
 "nbformat_minor": 1
}
