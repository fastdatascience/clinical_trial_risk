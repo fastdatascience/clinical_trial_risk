{
  "cells": [
    {
      "cell_type": "markdown",
      "metadata": {
        "id": "view-in-github",
        "colab_type": "text"
      },
      "source": [
        "<a href=\"https://colab.research.google.com/github/fastdatascience/clinical_trial_risk/blob/fixes_nov_2022/train/ctgov/TrainPhaseAndArmAndNumSubjectsClassifier_07_Spacy_with_config_no_transformers.ipynb\" target=\"_parent\"><img src=\"https://colab.research.google.com/assets/colab-badge.svg\" alt=\"Open In Colab\"/></a>"
      ]
    },
    {
      "cell_type": "markdown",
      "source": [
        "TODO: make config without transformers\n",
        "\n",
        "1.   List item\n",
        "2.   List item\n",
        "\n"
      ],
      "metadata": {
        "id": "QFH0LayX5B9I"
      },
      "id": "QFH0LayX5B9I"
    },
    {
      "cell_type": "code",
      "source": [
        "#!pip install spacy-transformers"
      ],
      "metadata": {
        "id": "EpG7zWxUgCKW"
      },
      "id": "EpG7zWxUgCKW",
      "execution_count": null,
      "outputs": []
    },
    {
      "cell_type": "code",
      "source": [
        "# !python -m spacy init fill-config base_config.cfg spacy_textcat_07.cfg"
      ],
      "metadata": {
        "id": "3t_pIMzNf0jN",
        "colab": {
          "base_uri": "https://localhost:8080/"
        },
        "outputId": "268a26b2-5662-4088-b919-35e1d9f1e437"
      },
      "id": "3t_pIMzNf0jN",
      "execution_count": null,
      "outputs": [
        {
          "output_type": "stream",
          "name": "stdout",
          "text": [
            "2022-11-14 20:58:27.862751: I tensorflow/core/util/util.cc:169] oneDNN custom operations are on. You may see slightly different numerical results due to floating-point round-off errors from different computation orders. To turn them off, set the environment variable `TF_ENABLE_ONEDNN_OPTS=0`.\n",
            "\u001b[38;5;2m✔ Auto-filled config with all values\u001b[0m\n",
            "\u001b[38;5;2m✔ Saved config\u001b[0m\n",
            "spacy_textcat_07.cfg\n",
            "You can now add your data and train your pipeline:\n",
            "python -m spacy train spacy_textcat_07.cfg --paths.train ./train.spacy --paths.dev ./dev.spacy\n"
          ]
        }
      ]
    },
    {
      "cell_type": "code",
      "execution_count": 1,
      "id": "ad812236",
      "metadata": {
        "id": "ad812236"
      },
      "outputs": [],
      "source": [
        "import pandas as pd\n",
        "import re\n",
        "import os\n",
        "import sys\n",
        "import pickle as pkl\n",
        "from sklearn.metrics import accuracy_score, confusion_matrix\n",
        "from sklearn.metrics import ConfusionMatrixDisplay\n",
        "from sklearn.metrics import mean_absolute_error, mean_squared_error\n",
        "from sklearn.metrics import roc_auc_score\n",
        "from sklearn.metrics import roc_curve, auc\n",
        "from IPython.display import display\n",
        "import matplotlib.pyplot as plt\n",
        "import numpy as np\n",
        "import json\n",
        "\n",
        "# df_annotations = pd.read_csv(\"all_annotations.csv\")\n"
      ]
    },
    {
      "cell_type": "markdown",
      "id": "e7ea7d33",
      "metadata": {
        "id": "e7ea7d33"
      },
      "source": [
        "# Get data"
      ]
    },
    {
      "cell_type": "code",
      "execution_count": 2,
      "id": "xCe1anFkGSrt",
      "metadata": {
        "colab": {
          "base_uri": "https://localhost:8080/"
        },
        "id": "xCe1anFkGSrt",
        "outputId": "4ea2245a-2655-476a-ed1c-32b1f69c5d31"
      },
      "outputs": [
        {
          "output_type": "stream",
          "name": "stdout",
          "text": [
            "Mounted at /content/drive\n"
          ]
        }
      ],
      "source": [
        "from google.colab import drive\n",
        "drive.mount('/content/drive')"
      ]
    },
    {
      "cell_type": "code",
      "execution_count": 3,
      "id": "FdcTHlHsGWnk",
      "metadata": {
        "id": "FdcTHlHsGWnk"
      },
      "outputs": [],
      "source": [
        "df_annotations= pd.read_csv(\"/content/drive/MyDrive/data/filtered_for_phase_arms_subjects_02.csv.bz2\")"
      ]
    },
    {
      "cell_type": "code",
      "execution_count": 4,
      "id": "4048908c",
      "metadata": {
        "id": "4048908c"
      },
      "outputs": [],
      "source": [
        "#df_annotations= pd.read_csv(\"filtered_for_phase_arms_subjects_02.csv.bz2\")\n",
        "# df_annotations= pd.read_csv(\"/home/thomas/Downloads/filtered_for_phase_arms_subjects.csv.bz2\")"
      ]
    },
    {
      "cell_type": "code",
      "execution_count": 5,
      "id": "wGilqqbTi76N",
      "metadata": {
        "id": "wGilqqbTi76N"
      },
      "outputs": [],
      "source": [
        "#df_annotations.text = df_annotations.text.apply(lambda t : t[:10000] if len(t) > 10000 else t)"
      ]
    },
    {
      "cell_type": "code",
      "execution_count": 6,
      "id": "mZ82V337HouW",
      "metadata": {
        "id": "mZ82V337HouW"
      },
      "outputs": [],
      "source": [
        "def get_num_subjects_clean(num):\n",
        "    if pd.isna(num):\n",
        "        return None\n",
        "    if num >= 10000:\n",
        "        return \"10000+\"\n",
        "    if num >= 1000:\n",
        "        return \"1000+\"\n",
        "    if num >= 500:\n",
        "        return \"500+\"\n",
        "    if num >= 200:\n",
        "        return \"200+\"\n",
        "    if num >= 100:\n",
        "        return \"100+\"\n",
        "    if num >= 50:\n",
        "        return \"50+\"\n",
        "    if num >= 25:\n",
        "        return \"25+\"\n",
        "    return \"1-24\"\n",
        "df_annotations[\"num_subjects_clean\"] = df_annotations[\"num_subjects\"].apply(get_num_subjects_clean)"
      ]
    },
    {
      "cell_type": "code",
      "execution_count": 7,
      "id": "cKMRrJjQIF7U",
      "metadata": {
        "colab": {
          "base_uri": "https://localhost:8080/"
        },
        "id": "cKMRrJjQIF7U",
        "outputId": "6c4c1ba8-83ec-4c47-9d89-aeac0b95d67a"
      },
      "outputs": [
        {
          "output_type": "execute_result",
          "data": {
            "text/plain": [
              "1-24      2980\n",
              "25+       2119\n",
              "50+       2016\n",
              "100+      1674\n",
              "200+      1656\n",
              "500+       816\n",
              "1000+      547\n",
              "10000+     112\n",
              "Name: num_subjects_clean, dtype: int64"
            ]
          },
          "metadata": {},
          "execution_count": 7
        }
      ],
      "source": [
        "df_annotations[\"num_subjects_clean\"].value_counts()"
      ]
    },
    {
      "cell_type": "code",
      "execution_count": 8,
      "id": "89e1c4f0",
      "metadata": {
        "id": "89e1c4f0"
      },
      "outputs": [],
      "source": [
        "# df_annotations = pd.read_csv(\"filtered_for_phase.csv.bz2\")"
      ]
    },
    {
      "cell_type": "code",
      "execution_count": 9,
      "id": "a12043ac",
      "metadata": {
        "id": "a12043ac"
      },
      "outputs": [],
      "source": [
        "# del file_to_pages"
      ]
    },
    {
      "cell_type": "code",
      "execution_count": 10,
      "id": "bbe0ba77",
      "metadata": {
        "id": "bbe0ba77"
      },
      "outputs": [],
      "source": [
        "phase_map = {\"Phase 2\":\"2\",\n",
        "\"Phase 3\":\"3\",\n",
        "\"Phase 4\":\"4\",\n",
        "\"Phase 1\":\"1\",\n",
        "\"Phase 1/Phase 2\":\"1.5\",\n",
        "\"Not Applicable\":\"0\",\n",
        "\"Phase 2/Phase 3\":\"2.5\",\n",
        "\"Early Phase 1\":\"0.5\"}\n",
        "df_annotations[\"phase_clean\"] = df_annotations[\"phase\"].apply(lambda x : phase_map.get(x, None))"
      ]
    },
    {
      "cell_type": "code",
      "execution_count": 11,
      "id": "DNjQhXOVrQxj",
      "metadata": {
        "colab": {
          "base_uri": "https://localhost:8080/"
        },
        "id": "DNjQhXOVrQxj",
        "outputId": "277518c7-c10d-4c78-cc53-5e8d66782691"
      },
      "outputs": [
        {
          "output_type": "execute_result",
          "data": {
            "text/plain": [
              "['0', '0.5', '1', '1.5', '2', '2.5', '3', '4']"
            ]
          },
          "metadata": {},
          "execution_count": 11
        }
      ],
      "source": [
        "phase_clean_map = {}\n",
        "for idx, val in enumerate(sorted(set(phase_map.values()), key = lambda x : float(x))):\n",
        "  phase_clean_map[val] = idx\n",
        "# invert the dictionary\n",
        "phase_lookup = {v: k for k, v in phase_clean_map.items()}\n",
        "\n",
        "phase_list = [phase_lookup[x] for x in sorted(phase_lookup)]\n",
        "phase_list"
      ]
    },
    {
      "cell_type": "code",
      "execution_count": 12,
      "id": "f99e999b",
      "metadata": {
        "id": "f99e999b"
      },
      "outputs": [],
      "source": [
        "def get_num_arms_clean(num):\n",
        "    if pd.isna(num):\n",
        "        return None\n",
        "    if num >= 5:\n",
        "        num = 5\n",
        "    return num\n",
        "df_annotations[\"num_arms_clean\"] = df_annotations[\"num_arms\"].apply(get_num_arms_clean)"
      ]
    },
    {
      "cell_type": "markdown",
      "id": "Tq8Iseh1e_uQ",
      "metadata": {
        "id": "Tq8Iseh1e_uQ"
      },
      "source": [
        "# Begin Spacy"
      ]
    },
    {
      "cell_type": "code",
      "execution_count": 13,
      "id": "0HHgTj8Qfub9",
      "metadata": {
        "id": "0HHgTj8Qfub9"
      },
      "outputs": [],
      "source": [
        "num_subjects_clean_map = {}\n",
        "for idx, val in enumerate(sorted(set(df_annotations[~df_annotations.num_subjects_clean.isna()].num_subjects_clean), key = lambda x : int(re.sub(r'\\D.*$', '', x)))):\n",
        "  num_subjects_clean_map[val] = idx"
      ]
    },
    {
      "cell_type": "code",
      "execution_count": 14,
      "id": "6jQQHMvxkC2l",
      "metadata": {
        "id": "6jQQHMvxkC2l"
      },
      "outputs": [],
      "source": [
        "# invert the dictionary\n",
        "num_subjects_lookup = {v: k for k, v in num_subjects_clean_map.items()}"
      ]
    },
    {
      "cell_type": "code",
      "execution_count": 15,
      "id": "C6fm756mlUSk",
      "metadata": {
        "colab": {
          "base_uri": "https://localhost:8080/"
        },
        "id": "C6fm756mlUSk",
        "outputId": "e1859940-7d96-44c2-fcc9-b384103678aa"
      },
      "outputs": [
        {
          "output_type": "execute_result",
          "data": {
            "text/plain": [
              "['1-24', '25+', '50+', '100+', '200+', '500+', '1000+', '10000+']"
            ]
          },
          "metadata": {},
          "execution_count": 15
        }
      ],
      "source": [
        "num_subjects_list = [num_subjects_lookup[x] for x in sorted(num_subjects_lookup)]\n",
        "num_subjects_list"
      ]
    },
    {
      "cell_type": "code",
      "execution_count": 16,
      "id": "sDIKJA57hR-K",
      "metadata": {
        "colab": {
          "base_uri": "https://localhost:8080/"
        },
        "id": "sDIKJA57hR-K",
        "outputId": "61d2d2e6-c474-4025-ddd1-c81d63220dfc"
      },
      "outputs": [
        {
          "output_type": "execute_result",
          "data": {
            "text/plain": [
              "{'1-24': 0,\n",
              " '25+': 1,\n",
              " '50+': 2,\n",
              " '100+': 3,\n",
              " '200+': 4,\n",
              " '500+': 5,\n",
              " '1000+': 6,\n",
              " '10000+': 7}"
            ]
          },
          "metadata": {},
          "execution_count": 16
        }
      ],
      "source": [
        "num_subjects_clean_map"
      ]
    },
    {
      "cell_type": "code",
      "execution_count": 17,
      "id": "EFTomf_xfjTS",
      "metadata": {
        "id": "EFTomf_xfjTS"
      },
      "outputs": [],
      "source": [
        "def get_one_hot_num_subjects(x):\n",
        "  a = [0] * len(num_subjects_clean_map)\n",
        "  if x is None:\n",
        "    return a\n",
        "  a[num_subjects_clean_map[x]] = 1\n",
        "  return a"
      ]
    },
    {
      "cell_type": "code",
      "execution_count": 18,
      "id": "GCf8jZQZiBbC",
      "metadata": {
        "id": "GCf8jZQZiBbC"
      },
      "outputs": [],
      "source": [
        "df_annotations[\"num_subjects_one_hot\"] = df_annotations[\"num_subjects_clean\"].apply(get_one_hot_num_subjects)"
      ]
    },
    {
      "cell_type": "code",
      "execution_count": 19,
      "id": "RoXplcZ6q3N3",
      "metadata": {
        "id": "RoXplcZ6q3N3"
      },
      "outputs": [],
      "source": [
        "df_annotations[\"num_subjects_one_hot\"] = df_annotations[\"num_subjects_clean\"].apply(get_one_hot_num_subjects)"
      ]
    },
    {
      "cell_type": "code",
      "execution_count": 20,
      "id": "bGkQ4LeYq3QR",
      "metadata": {
        "id": "bGkQ4LeYq3QR"
      },
      "outputs": [],
      "source": [
        "def get_one_hot_num_arms(x):\n",
        "  a = [0] * 5\n",
        "  if x is not None and not pd.isna(x):\n",
        "    a[int(x - 1)] = 1\n",
        "  return a\n",
        "df_annotations[\"num_arms_one_hot\"] = df_annotations[\"num_arms_clean\"].apply(get_one_hot_num_arms)"
      ]
    },
    {
      "cell_type": "code",
      "execution_count": 21,
      "id": "POLLhzW_rFvz",
      "metadata": {
        "id": "POLLhzW_rFvz"
      },
      "outputs": [],
      "source": [
        "def get_one_hot_phase(x):\n",
        "  a = [0] * len(phase_clean_map)\n",
        "  if x is None:\n",
        "    return a\n",
        "  a[phase_clean_map[x]] = 1\n",
        "  return a\n",
        "df_annotations[\"phase_one_hot\"] = df_annotations[\"phase_clean\"].apply(get_one_hot_phase)"
      ]
    },
    {
      "cell_type": "markdown",
      "id": "ondugbdEsLJ7",
      "metadata": {
        "id": "ondugbdEsLJ7"
      },
      "source": [
        "Concatenate the three bits of one-hot data into one column"
      ]
    },
    {
      "cell_type": "code",
      "execution_count": 22,
      "id": "eykeDEeFr56g",
      "metadata": {
        "id": "eykeDEeFr56g"
      },
      "outputs": [],
      "source": [
        "concatenated_one_hot = []\n",
        "for i in range(len(df_annotations)):\n",
        "  concatenated = list(df_annotations.phase_one_hot.iloc[i]) + \\\n",
        "  list(df_annotations.num_arms_one_hot.iloc[i]) + \\\n",
        "  list(df_annotations.num_subjects_one_hot.iloc[i]) + [df_annotations.has_sap.iloc[i]]\n",
        "  concatenated_one_hot.append(concatenated)\n",
        "df_annotations[\"concatenated_one_hot\"] = concatenated_one_hot"
      ]
    },
    {
      "cell_type": "code",
      "execution_count": 23,
      "id": "eFM7jbfutXfu",
      "metadata": {
        "colab": {
          "base_uri": "https://localhost:8080/"
        },
        "id": "eFM7jbfutXfu",
        "outputId": "e6e6d49d-6356-401f-9e77-119bd8f0e472"
      },
      "outputs": [
        {
          "output_type": "execute_result",
          "data": {
            "text/plain": [
              "nan"
            ]
          },
          "metadata": {},
          "execution_count": 23
        }
      ],
      "source": [
        "np.sum(np.asarray([np.asarray(x) for x in df_annotations[\"concatenated_one_hot\"]]), axis=1).mean()"
      ]
    },
    {
      "cell_type": "code",
      "execution_count": 24,
      "id": "YmCgmZh3tmkn",
      "metadata": {
        "colab": {
          "base_uri": "https://localhost:8080/"
        },
        "id": "YmCgmZh3tmkn",
        "outputId": "26f5b9a1-b81c-4053-eacf-a64c278cd9e0"
      },
      "outputs": [
        {
          "output_type": "execute_result",
          "data": {
            "text/plain": [
              "array([ 519.,  135., 1154.,  983., 4317.,  297., 2725., 1461., 3086.,\n",
              "       5228., 1456.,  908.,  913., 2980., 2119., 2016., 1674., 1656.,\n",
              "        816.,  547.,  112.,   nan])"
            ]
          },
          "metadata": {},
          "execution_count": 24
        }
      ],
      "source": [
        "np.sum(np.asarray([np.asarray(x) for x in df_annotations[\"concatenated_one_hot\"]]), axis=0)"
      ]
    },
    {
      "cell_type": "code",
      "execution_count": 25,
      "id": "yuUe_QwxsQRE",
      "metadata": {
        "colab": {
          "base_uri": "https://localhost:8080/"
        },
        "id": "yuUe_QwxsQRE",
        "outputId": "5f67494c-83b8-43cc-dce8-c1b3f6854447"
      },
      "outputs": [
        {
          "output_type": "stream",
          "name": "stdout",
          "text": [
            "There are 22 classes in this multi-label classifier\n"
          ]
        }
      ],
      "source": [
        "num_classes = len(concatenated)\n",
        "print (f\"There are {num_classes} classes in this multi-label classifier\")"
      ]
    },
    {
      "cell_type": "code",
      "execution_count": 26,
      "id": "F_VhjeihirIu",
      "metadata": {
        "id": "F_VhjeihirIu"
      },
      "outputs": [],
      "source": [
        "df_train = df_annotations[df_annotations.train_val == \"train\"]\n",
        "df_val = df_annotations[df_annotations.train_val == \"val\"]"
      ]
    },
    {
      "cell_type": "code",
      "execution_count": 27,
      "id": "pIWANTOGqDkg",
      "metadata": {
        "id": "pIWANTOGqDkg"
      },
      "outputs": [],
      "source": [
        "df_train_got_some_ground_truths = df_train[~df_train.num_subjects_clean.isna() | ~df_train.num_arms_clean.isna() | ~df_train.phase_clean.isna()]"
      ]
    },
    {
      "cell_type": "code",
      "execution_count": 28,
      "id": "yfw08MW2sYTw",
      "metadata": {
        "colab": {
          "base_uri": "https://localhost:8080/"
        },
        "id": "yfw08MW2sYTw",
        "outputId": "187b5e0d-8de6-4274-af0c-f0c364a3f811"
      },
      "outputs": [
        {
          "output_type": "execute_result",
          "data": {
            "text/plain": [
              "(9535, 9538)"
            ]
          },
          "metadata": {},
          "execution_count": 28
        }
      ],
      "source": [
        "len(df_train_got_some_ground_truths), len(df_train)"
      ]
    },
    {
      "cell_type": "markdown",
      "id": "e6da254a",
      "metadata": {
        "id": "e6da254a"
      },
      "source": [
        "# Begin Spacy"
      ]
    },
    {
      "cell_type": "code",
      "execution_count": null,
      "id": "eb7993bd",
      "metadata": {
        "id": "eb7993bd"
      },
      "outputs": [],
      "source": [
        "# TRAINING_DATA = [\n",
        "#     [\"My little kitty is so special\", {\"KAT0\": True}],\n",
        "#     [\"Dude, Totally, Yeah, Video Games\", {\"KAT1\": True}],\n",
        "#     [\"Should I pay $1,000 for the iPhone X?\", {\"KAT1\": True}],\n",
        "#     [\"The iPhone 8 reviews are here\", {\"KAT1\": True}],\n",
        "#     [\"Noa is a great cat name.\", {\"KAT0\": True}],\n",
        "#     [\"We got a new kitten!\", {\"KAT0\": True}]\n",
        "# ]\n",
        "\n",
        "# TRAINING_DATA = []\n",
        "# for idx in range(len(df_train)):\n",
        "#     cats = {}\n",
        "#     for a in range(num_classes):\n",
        "#         cats[str(a)] = df_annotations[\"concatenated_one_hot\"].iloc[idx][a]\n",
        "\n",
        "#     text = df_train.text.iloc[idx]\n",
        "#     if len(text) > 1000000:\n",
        "#         text = text[:1000000]\n",
        "    \n",
        "#     TRAINING_DATA.append([text , cats])"
      ]
    },
    {
      "cell_type": "markdown",
      "source": [
        "## Preprocess everything into two DocBins so that we can train from the command line with spaCy"
      ],
      "metadata": {
        "id": "vJX8GSp2k1jB"
      },
      "id": "vJX8GSp2k1jB"
    },
    {
      "cell_type": "code",
      "source": [
        "import spacy\n",
        "\n",
        "nlp = spacy.blank(\"en\")\n",
        "from spacy.tokens import DocBin\n",
        "\n",
        "docs_train = []\n",
        "for i in range(10):\n",
        "  docs_train.append(DocBin())\n",
        "docs_val = DocBin()\n",
        "\n",
        "for idx in range(len(df_annotations)):\n",
        "  if idx % 100 == 0:\n",
        "    print (idx, len(df_annotations))\n",
        "  if df_annotations.train_val.iloc[idx] == \"train\":\n",
        "    docs_list = docs_train[idx % 10]\n",
        "  else:\n",
        "    docs_list = docs_val\n",
        "  text = str(df_annotations.text.iloc[idx])\n",
        "  if len(text) > 100000:\n",
        "      text = text[:100000]\n",
        "  doc = nlp(text)\n",
        "\n",
        "  cats = {}\n",
        "  for a in range(num_classes):\n",
        "        cats[str(a)] = df_annotations[\"concatenated_one_hot\"].iloc[idx][a]\n",
        "  doc.cats = cats\n",
        "\n",
        "  docs_list.add(doc)"
      ],
      "metadata": {
        "colab": {
          "base_uri": "https://localhost:8080/"
        },
        "id": "zKHF4luDhdK1",
        "outputId": "06972baa-d1da-4f88-8633-b1ddec8d0fc0"
      },
      "id": "zKHF4luDhdK1",
      "execution_count": null,
      "outputs": [
        {
          "output_type": "stream",
          "name": "stdout",
          "text": [
            "0 11926\n",
            "100 11926\n",
            "200 11926\n",
            "300 11926\n",
            "400 11926\n",
            "500 11926\n",
            "600 11926\n",
            "700 11926\n",
            "800 11926\n",
            "900 11926\n",
            "1000 11926\n",
            "1100 11926\n",
            "1200 11926\n",
            "1300 11926\n",
            "1400 11926\n",
            "1500 11926\n",
            "1600 11926\n",
            "1700 11926\n",
            "1800 11926\n",
            "1900 11926\n",
            "2000 11926\n",
            "2100 11926\n",
            "2200 11926\n",
            "2300 11926\n",
            "2400 11926\n",
            "2500 11926\n",
            "2600 11926\n",
            "2700 11926\n",
            "2800 11926\n",
            "2900 11926\n",
            "3000 11926\n",
            "3100 11926\n",
            "3200 11926\n",
            "3300 11926\n",
            "3400 11926\n",
            "3500 11926\n",
            "3600 11926\n",
            "3700 11926\n",
            "3800 11926\n",
            "3900 11926\n",
            "4000 11926\n",
            "4100 11926\n",
            "4200 11926\n",
            "4300 11926\n",
            "4400 11926\n",
            "4500 11926\n",
            "4600 11926\n",
            "4700 11926\n",
            "4800 11926\n",
            "4900 11926\n",
            "5000 11926\n",
            "5100 11926\n",
            "5200 11926\n",
            "5300 11926\n",
            "5400 11926\n",
            "5500 11926\n",
            "5600 11926\n",
            "5700 11926\n",
            "5800 11926\n",
            "5900 11926\n",
            "6000 11926\n",
            "6100 11926\n",
            "6200 11926\n",
            "6300 11926\n",
            "6400 11926\n",
            "6500 11926\n",
            "6600 11926\n",
            "6700 11926\n",
            "6800 11926\n",
            "6900 11926\n",
            "7000 11926\n",
            "7100 11926\n",
            "7200 11926\n",
            "7300 11926\n",
            "7400 11926\n",
            "7500 11926\n",
            "7600 11926\n",
            "7700 11926\n",
            "7800 11926\n",
            "7900 11926\n",
            "8000 11926\n",
            "8100 11926\n",
            "8200 11926\n",
            "8300 11926\n",
            "8400 11926\n",
            "8500 11926\n",
            "8600 11926\n",
            "8700 11926\n",
            "8800 11926\n",
            "8900 11926\n",
            "9000 11926\n",
            "9100 11926\n",
            "9200 11926\n",
            "9300 11926\n",
            "9400 11926\n",
            "9500 11926\n",
            "9600 11926\n",
            "9700 11926\n",
            "9800 11926\n",
            "9900 11926\n",
            "10000 11926\n",
            "10100 11926\n",
            "10200 11926\n",
            "10300 11926\n",
            "10400 11926\n",
            "10500 11926\n",
            "10600 11926\n",
            "10700 11926\n",
            "10800 11926\n",
            "10900 11926\n",
            "11000 11926\n",
            "11100 11926\n",
            "11200 11926\n",
            "11300 11926\n",
            "11400 11926\n",
            "11500 11926\n",
            "11600 11926\n",
            "11700 11926\n",
            "11800 11926\n",
            "11900 11926\n"
          ]
        }
      ]
    },
    {
      "cell_type": "code",
      "source": [
        "# docs_train.to_disk(\"train.spacy\")\n",
        "docs_val.to_disk(\"dev.spacy\")"
      ],
      "metadata": {
        "id": "7LLBAyjkisjm"
      },
      "id": "7LLBAyjkisjm",
      "execution_count": null,
      "outputs": []
    },
    {
      "cell_type": "code",
      "source": [
        "docs_val.to_disk(\"/content/drive/MyDrive/data/dev.spacy\")"
      ],
      "metadata": {
        "id": "uhVOW2-Sp70P"
      },
      "id": "uhVOW2-Sp70P",
      "execution_count": null,
      "outputs": []
    },
    {
      "cell_type": "code",
      "source": [
        "# !mkdir train.spacy\n",
        "# !mkdir /content/drive/MyDrive/data/train.spacy\n"
      ],
      "metadata": {
        "colab": {
          "base_uri": "https://localhost:8080/"
        },
        "id": "bbV7xnZip2Wj",
        "outputId": "c77d8feb-7132-4105-b334-0630bdadba88"
      },
      "id": "bbV7xnZip2Wj",
      "execution_count": null,
      "outputs": [
        {
          "output_type": "stream",
          "name": "stdout",
          "text": [
            "mkdir: cannot create directory ‘/content/drive/MyDrive/data/train.spacy’: File exists\n"
          ]
        }
      ]
    },
    {
      "cell_type": "code",
      "source": [
        "for idx, doc_bin_train in enumerate(docs_train):\n",
        "  doc_bin_train.to_disk(f\"train.spacy/train_doc_bin{idx}.spacy\")\n",
        "  doc_bin_train.to_disk(f\"/content/drive/MyDrive/data/train.spacy/train_doc_bin{idx}.spacy\")"
      ],
      "metadata": {
        "id": "k3qf7_xEo_Dx"
      },
      "id": "k3qf7_xEo_Dx",
      "execution_count": null,
      "outputs": []
    },
    {
      "cell_type": "markdown",
      "source": [
        "# Begin training using spaCy CLI"
      ],
      "metadata": {
        "id": "h14ok40dsYqT"
      },
      "id": "h14ok40dsYqT"
    },
    {
      "cell_type": "code",
      "source": [
        "!python -m spacy train ./spacy_textcat_07.cfg --output /content/drive/MyDrive/data/output_textcat_07 --paths.train /content/drive/MyDrive/data/train.spacy --paths.dev /content/drive/MyDrive/data/dev.spacy "
      ],
      "metadata": {
        "colab": {
          "base_uri": "https://localhost:8080/"
        },
        "id": "PghYHYDVgktY",
        "outputId": "91059c58-fb3c-412f-c49a-fa97e5973127"
      },
      "id": "PghYHYDVgktY",
      "execution_count": 35,
      "outputs": [
        {
          "output_type": "stream",
          "name": "stdout",
          "text": [
            "2022-11-14 21:01:21.242845: E tensorflow/stream_executor/cuda/cuda_driver.cc:271] failed call to cuInit: CUDA_ERROR_NO_DEVICE: no CUDA-capable device is detected\n",
            "\u001b[38;5;4mℹ Saving to output directory:\n",
            "/content/drive/MyDrive/data/output_textcat_07\u001b[0m\n",
            "\u001b[38;5;4mℹ Using CPU\u001b[0m\n",
            "\u001b[1m\n",
            "=========================== Initializing pipeline ===========================\u001b[0m\n",
            "[2022-11-14 21:01:22,152] [INFO] Set up nlp object from config\n",
            "INFO:spacy:Set up nlp object from config\n",
            "[2022-11-14 21:01:22,165] [INFO] Pipeline: ['textcat_multilabel']\n",
            "INFO:spacy:Pipeline: ['textcat_multilabel']\n",
            "[2022-11-14 21:01:22,169] [INFO] Created vocabulary\n",
            "INFO:spacy:Created vocabulary\n",
            "[2022-11-14 21:01:22,171] [INFO] Finished initializing nlp object\n",
            "INFO:spacy:Finished initializing nlp object\n",
            "tcmalloc: large alloc 1073750016 bytes == 0xba6ae000 @  0x7f44159102a4 0x58ead6 0x441ff3 0x5d1f81 0x5d2306 0x58f62c 0x5105e2 0x58fd37 0x50ca37 0x58fd37 0x50ca37 0x4d00fb 0x50cb8d 0x4d00fb 0x50cb8d 0x4d00fb 0x7f431d5007c6 0x4ba72b 0x7f431d4fece3 0x58f6e4 0x50ff13 0x5b575e 0x4bad0a 0x4d3249 0x591e56 0x50e18c 0x5b575e 0x58ff2e 0x50d482 0x5b575e 0x58ff2e\n",
            "[2022-11-14 21:09:53,067] [INFO] Initialized pipeline components: ['textcat_multilabel']\n",
            "INFO:spacy:Initialized pipeline components: ['textcat_multilabel']\n",
            "\u001b[38;5;2m✔ Initialized pipeline\u001b[0m\n",
            "\u001b[1m\n",
            "============================= Training pipeline =============================\u001b[0m\n",
            "\u001b[38;5;4mℹ Pipeline: ['textcat_multilabel']\u001b[0m\n",
            "\u001b[38;5;4mℹ Initial learn rate: 0.001\u001b[0m\n",
            "E    #       LOSS TEXTC...  CATS_SCORE  SCORE \n",
            "---  ------  -------------  ----------  ------\n",
            "tcmalloc: large alloc 2147491840 bytes == 0x444fd2000 @  0x7f44159102a4 0x58ead6 0x441ff3 0x5d1f81 0x5d2306 0x58f62c 0x5105e2 0x58fd37 0x50ca37 0x58fd37 0x50ca37 0x4d01b4 0x50cb8d 0x4d01b4 0x50cb8d 0x4d01b4 0x5a04c4 0x5a2ed4 0x5909f6 0x510280 0x5b575e 0x58ff2e 0x50ca37 0x5b575e 0x58ff2e 0x50c4fc 0x4d01b4 0x50cb8d 0x5b575e 0x58ff2e 0x50d482\n",
            "  0       0           0.25       47.87    0.48\n",
            "tcmalloc: large alloc 2147491840 bytes == 0x5a9060000 @  0x7f44159102a4 0x58ead6 0x441ff3 0x5d1f81 0x5d2306 0x58f62c 0x5105e2 0x58fd37 0x50ca37 0x58fd37 0x50ca37 0x4d01b4 0x50cb8d 0x4d01b4 0x50cb8d 0x4d01b4 0x5a04c4 0x5a2ed4 0x5909f6 0x510280 0x5b575e 0x58ff2e 0x50ca37 0x5b575e 0x58ff2e 0x50c4fc 0x4d00fb 0x50cb8d 0x5b575e 0x58ff2e 0x50d482\n",
            "  0     200          31.55       50.36    0.50\n",
            "tcmalloc: large alloc 2147491840 bytes == 0x5a9b10000 @  0x7f44159102a4 0x58ead6 0x441ff3 0x5d1f81 0x5d2306 0x58f62c 0x5105e2 0x58fd37 0x50ca37 0x58fd37 0x50ca37 0x4d01b4 0x50cb8d 0x4d01b4 0x50cb8d 0x4d01b4 0x5a04c4 0x5a2ed4 0x5909f6 0x510280 0x5b575e 0x58ff2e 0x50ca37 0x5b575e 0x58ff2e 0x50c4fc 0x4d00fb 0x50cb8d 0x5b575e 0x58ff2e 0x50d482\n",
            "  0     400          29.63       49.83    0.50\n",
            "tcmalloc: large alloc 2147491840 bytes == 0x5b1cca000 @  0x7f44159102a4 0x58ead6 0x441ff3 0x5d1f81 0x5d2306 0x58f62c 0x5105e2 0x58fd37 0x50ca37 0x58fd37 0x50ca37 0x4d01b4 0x50cb8d 0x4d01b4 0x50cb8d 0x4d01b4 0x5a04c4 0x5a2ed4 0x5909f6 0x510280 0x5b575e 0x58ff2e 0x50ca37 0x5b575e 0x58ff2e 0x50c4fc 0x4d00fb 0x50cb8d 0x5b575e 0x58ff2e 0x50d482\n",
            "  0     600          30.52       49.36    0.49\n",
            "tcmalloc: large alloc 2147491840 bytes == 0x5b1d66000 @  0x7f44159102a4 0x58ead6 0x441ff3 0x5d1f81 0x5d2306 0x58f62c 0x5105e2 0x58fd37 0x50ca37 0x58fd37 0x50ca37 0x4d01b4 0x50cb8d 0x4d01b4 0x50cb8d 0x4d01b4 0x5a04c4 0x5a2ed4 0x5909f6 0x510280 0x5b575e 0x58ff2e 0x50ca37 0x5b575e 0x58ff2e 0x50c4fc 0x4d00fb 0x50cb8d 0x5b575e 0x58ff2e 0x50d482\n",
            "  0     800          30.94       50.52    0.51\n",
            "  0    1000          27.62       51.26    0.51\n",
            "  0    1200          26.40       50.80    0.51\n",
            "  0    1400          27.81       50.76    0.51\n",
            "  0    1600          28.29       50.54    0.51\n",
            "  0    1800          28.83       50.73    0.51\n",
            "  0    2000          27.72       50.72    0.51\n",
            "  0    2200          28.16       51.09    0.51\n",
            "  0    2400          28.00       50.60    0.51\n",
            "  0    2600          27.63       49.95    0.50\n",
            "\u001b[38;5;2m✔ Saved pipeline to output directory\u001b[0m\n",
            "/content/drive/MyDrive/data/output_textcat_07/model-last\n"
          ]
        }
      ]
    },
    {
      "cell_type": "code",
      "source": [
        "import spacy\n",
        "nlp = spacy.load(\"/content/drive/MyDrive/data/output_textcat_07/model-last\")"
      ],
      "metadata": {
        "id": "mDLgJUS-jCCd"
      },
      "id": "mDLgJUS-jCCd",
      "execution_count": 30,
      "outputs": []
    },
    {
      "cell_type": "code",
      "execution_count": 31,
      "id": "89103b7c",
      "metadata": {
        "id": "89103b7c"
      },
      "outputs": [],
      "source": [
        "predictions = []\n",
        "for idx in range(len(df_val)):\n",
        "    doc = nlp(df_val.text.apply(str).iloc[idx])\n",
        "    predictions.append(doc.cats)"
      ]
    },
    {
      "cell_type": "code",
      "execution_count": 34,
      "id": "4832e5ba",
      "metadata": {
        "id": "4832e5ba"
      },
      "outputs": [],
      "source": [
        "pred_proba = []\n",
        "for idx in range(len(df_val)):\n",
        "    pred_proba.append([predictions[idx][str(a)] for a in range(num_classes)])"
      ]
    },
    {
      "cell_type": "code",
      "execution_count": 35,
      "id": "wia77Kufub2v",
      "metadata": {
        "id": "wia77Kufub2v",
        "colab": {
          "base_uri": "https://localhost:8080/"
        },
        "outputId": "cf900795-303c-49fa-9b75-a939f3cebed9"
      },
      "outputs": [
        {
          "output_type": "stream",
          "name": "stderr",
          "text": [
            "/usr/local/lib/python3.7/dist-packages/ipykernel_launcher.py:16: SettingWithCopyWarning: \n",
            "A value is trying to be set on a copy of a slice from a DataFrame.\n",
            "Try using .loc[row_indexer,col_indexer] = value instead\n",
            "\n",
            "See the caveats in the documentation: https://pandas.pydata.org/pandas-docs/stable/user_guide/indexing.html#returning-a-view-versus-a-copy\n",
            "  app.launch_new_instance()\n",
            "/usr/local/lib/python3.7/dist-packages/ipykernel_launcher.py:17: SettingWithCopyWarning: \n",
            "A value is trying to be set on a copy of a slice from a DataFrame.\n",
            "Try using .loc[row_indexer,col_indexer] = value instead\n",
            "\n",
            "See the caveats in the documentation: https://pandas.pydata.org/pandas-docs/stable/user_guide/indexing.html#returning-a-view-versus-a-copy\n",
            "/usr/local/lib/python3.7/dist-packages/ipykernel_launcher.py:18: SettingWithCopyWarning: \n",
            "A value is trying to be set on a copy of a slice from a DataFrame.\n",
            "Try using .loc[row_indexer,col_indexer] = value instead\n",
            "\n",
            "See the caveats in the documentation: https://pandas.pydata.org/pandas-docs/stable/user_guide/indexing.html#returning-a-view-versus-a-copy\n",
            "/usr/local/lib/python3.7/dist-packages/ipykernel_launcher.py:19: SettingWithCopyWarning: \n",
            "A value is trying to be set on a copy of a slice from a DataFrame.\n",
            "Try using .loc[row_indexer,col_indexer] = value instead\n",
            "\n",
            "See the caveats in the documentation: https://pandas.pydata.org/pandas-docs/stable/user_guide/indexing.html#returning-a-view-versus-a-copy\n"
          ]
        }
      ],
      "source": [
        "y_pred_phase = []\n",
        "y_pred_num_arms = []\n",
        "y_pred_num_subjects = []\n",
        "y_pred_sap = []\n",
        "for idx in range(len(pred_proba)):\n",
        "  probas_this_instance = pred_proba[idx]\n",
        "  probas_phase = probas_this_instance[:len(phase_lookup)]\n",
        "  y_pred_phase.append(phase_lookup[int(np.argmax(probas_phase))])\n",
        "  probas_arms = probas_this_instance[len(phase_lookup):len(phase_lookup)+5]\n",
        "  y_pred_num_arms.append(1 + int(np.argmax(probas_arms)))\n",
        "  probas_subjects = probas_this_instance[len(phase_lookup)+5:-1]\n",
        "  y_pred_num_subjects.append(num_subjects_lookup[int(np.argmax(probas_subjects))])\n",
        "  probas_sap = probas_this_instance[-1:]\n",
        "  y_pred_sap.append(probas_sap[0] > 0.5)\n",
        "\n",
        "df_val[\"y_pred_phase\"] = y_pred_phase\n",
        "df_val[\"y_pred_num_arms\"] = y_pred_num_arms\n",
        "df_val[\"y_pred_num_subjects\"] = y_pred_num_subjects\n",
        "df_val[\"y_pred_sap\"] = y_pred_sap"
      ]
    },
    {
      "cell_type": "code",
      "execution_count": 35,
      "id": "DbBjX9-agkVH",
      "metadata": {
        "id": "DbBjX9-agkVH"
      },
      "outputs": [],
      "source": []
    },
    {
      "cell_type": "markdown",
      "id": "ZNUbeGPw5KWg",
      "metadata": {
        "id": "ZNUbeGPw5KWg"
      },
      "source": [
        "## Phase"
      ]
    },
    {
      "cell_type": "code",
      "execution_count": 36,
      "id": "sznpf_e24NvP",
      "metadata": {
        "id": "sznpf_e24NvP",
        "colab": {
          "base_uri": "https://localhost:8080/"
        },
        "outputId": "ab934eab-f936-4779-c795-b02a6724286d"
      },
      "outputs": [
        {
          "output_type": "stream",
          "name": "stdout",
          "text": [
            "Phase accuracy 0.08847926267281106\n"
          ]
        }
      ],
      "source": [
        "acc = accuracy_score(df_val.phase_clean.apply(str), df_val[\"y_pred_phase\"])\n",
        "print (f\"Phase accuracy {acc}\")"
      ]
    },
    {
      "cell_type": "code",
      "execution_count": 37,
      "id": "zLJ_MQih4T9n",
      "metadata": {
        "id": "zLJ_MQih4T9n",
        "colab": {
          "base_uri": "https://localhost:8080/",
          "height": 315
        },
        "outputId": "c8a68834-16d9-49b8-e0df-40aa6c1182c1"
      },
      "outputs": [
        {
          "output_type": "execute_result",
          "data": {
            "text/plain": [
              "''"
            ],
            "application/vnd.google.colaboratory.intrinsic+json": {
              "type": "string"
            }
          },
          "metadata": {},
          "execution_count": 37
        },
        {
          "output_type": "display_data",
          "data": {
            "text/plain": [
              "<Figure size 432x288 with 2 Axes>"
            ],
            "image/png": "[encoded data removed]"
          },
          "metadata": {
            "needs_background": "light"
          }
        }
      ],
      "source": [
        "ConfusionMatrixDisplay.from_predictions(df_val.phase_clean.apply(str), df_val[\"y_pred_phase\"])\n",
        "plt.xticks(rotation=90)\n",
        ";"
      ]
    },
    {
      "cell_type": "markdown",
      "id": "Fz_EyOrB5PXa",
      "metadata": {
        "id": "Fz_EyOrB5PXa"
      },
      "source": [
        "# Number of arms"
      ]
    },
    {
      "cell_type": "code",
      "execution_count": 38,
      "id": "X8IsVDo34YTg",
      "metadata": {
        "id": "X8IsVDo34YTg",
        "colab": {
          "base_uri": "https://localhost:8080/"
        },
        "outputId": "dc6a6e24-de09-4b28-d4c4-da8001d3caa6"
      },
      "outputs": [
        {
          "output_type": "stream",
          "name": "stdout",
          "text": [
            "Num arms accuracy 0.5023041474654378\n"
          ]
        }
      ],
      "source": [
        "acc = accuracy_score(df_val.num_arms_clean.apply(float).apply(str), df_val[\"y_pred_num_arms\"].apply(float).apply(str))\n",
        "print (f\"Num arms accuracy {acc}\")"
      ]
    },
    {
      "cell_type": "code",
      "execution_count": 39,
      "id": "idb1W6VE4kIp",
      "metadata": {
        "id": "idb1W6VE4kIp",
        "colab": {
          "base_uri": "https://localhost:8080/",
          "height": 307
        },
        "outputId": "3caa44be-c066-497d-c159-bcb02c68dfe7"
      },
      "outputs": [
        {
          "output_type": "execute_result",
          "data": {
            "text/plain": [
              "''"
            ],
            "application/vnd.google.colaboratory.intrinsic+json": {
              "type": "string"
            }
          },
          "metadata": {},
          "execution_count": 39
        },
        {
          "output_type": "display_data",
          "data": {
            "text/plain": [
              "<Figure size 432x288 with 2 Axes>"
            ],
            "image/png": "[encoded data removed]"
          },
          "metadata": {
            "needs_background": "light"
          }
        }
      ],
      "source": [
        "ConfusionMatrixDisplay.from_predictions(df_val.num_arms_clean.apply(float).apply(str), df_val[\"y_pred_num_arms\"].apply(float).apply(str))\n",
        "plt.xticks(rotation=90)\n",
        ";"
      ]
    },
    {
      "cell_type": "markdown",
      "id": "lLWC7P1k5NSX",
      "metadata": {
        "id": "lLWC7P1k5NSX"
      },
      "source": [
        "## Subjects"
      ]
    },
    {
      "cell_type": "code",
      "execution_count": 40,
      "id": "rYhLhDmnNuAl",
      "metadata": {
        "id": "rYhLhDmnNuAl",
        "colab": {
          "base_uri": "https://localhost:8080/"
        },
        "outputId": "0dfca297-e01f-4cda-ff97-c79cb0fe6fe4"
      },
      "outputs": [
        {
          "output_type": "stream",
          "name": "stdout",
          "text": [
            "Subjects accuracy 0.21658986175115208\n"
          ]
        }
      ],
      "source": [
        "acc = accuracy_score(df_val.num_subjects_clean, df_val[\"y_pred_num_subjects\"])\n",
        "print (f\"Subjects accuracy {acc}\")"
      ]
    },
    {
      "cell_type": "code",
      "execution_count": 41,
      "id": "XOiQVXB0NuHC",
      "metadata": {
        "id": "XOiQVXB0NuHC",
        "colab": {
          "base_uri": "https://localhost:8080/",
          "height": 328
        },
        "outputId": "7b5a9f4d-50e4-4122-b87e-152cd3e9d61f"
      },
      "outputs": [
        {
          "output_type": "execute_result",
          "data": {
            "text/plain": [
              "''"
            ],
            "application/vnd.google.colaboratory.intrinsic+json": {
              "type": "string"
            }
          },
          "metadata": {},
          "execution_count": 41
        },
        {
          "output_type": "display_data",
          "data": {
            "text/plain": [
              "<Figure size 432x288 with 2 Axes>"
            ],
            "image/png": "[encoded data removed]"
          },
          "metadata": {
            "needs_background": "light"
          }
        }
      ],
      "source": [
        "ConfusionMatrixDisplay.from_predictions(df_val.num_subjects_clean, df_val[\"y_pred_num_subjects\"], labels=num_subjects_list)\n",
        "plt.xticks(rotation=90)\n",
        ";"
      ]
    },
    {
      "cell_type": "code",
      "execution_count": 42,
      "id": "VzFHDCRtmBA6",
      "metadata": {
        "id": "VzFHDCRtmBA6",
        "colab": {
          "base_uri": "https://localhost:8080/"
        },
        "outputId": "c3703679-421d-4b86-f195-5a1e6229afea"
      },
      "outputs": [
        {
          "output_type": "stream",
          "name": "stdout",
          "text": [
            "Accuracy including adjacent groups 0.47557603686635946\n"
          ]
        }
      ],
      "source": [
        "num_correct = 0\n",
        "for idx in range(len(df_val)):\n",
        "  gt = num_subjects_clean_map[df_val[\"num_subjects_clean\"].iloc[idx]]\n",
        "  pred = num_subjects_clean_map[df_val[\"y_pred_num_subjects\"].iloc[idx]]\n",
        "  is_correct = int(np.abs(gt - pred) <= 1)\n",
        "  num_correct += is_correct\n",
        "print (\"Accuracy including adjacent groups\", num_correct/len(df_val))"
      ]
    },
    {
      "cell_type": "code",
      "execution_count": 42,
      "id": "1MU1NT4T_DLO",
      "metadata": {
        "id": "1MU1NT4T_DLO"
      },
      "outputs": [],
      "source": []
    },
    {
      "cell_type": "markdown",
      "id": "tNsHUs9VBl4u",
      "metadata": {
        "id": "tNsHUs9VBl4u"
      },
      "source": [
        "## SAP"
      ]
    },
    {
      "cell_type": "code",
      "execution_count": 43,
      "id": "w9KjSCypBmgs",
      "metadata": {
        "id": "w9KjSCypBmgs",
        "colab": {
          "base_uri": "https://localhost:8080/"
        },
        "outputId": "2f9bf986-0b26-44e8-cfd3-0b40bb8dc4a2"
      },
      "outputs": [
        {
          "output_type": "stream",
          "name": "stdout",
          "text": [
            "SAP accuracy 0.808294930875576\n"
          ]
        }
      ],
      "source": [
        "acc = accuracy_score(df_val.has_sap, df_val[\"y_pred_sap\"])\n",
        "print (f\"SAP accuracy {acc}\")"
      ]
    },
    {
      "cell_type": "code",
      "execution_count": 44,
      "id": "Yt36Zw4wB4P9",
      "metadata": {
        "id": "Yt36Zw4wB4P9",
        "colab": {
          "base_uri": "https://localhost:8080/",
          "height": 304
        },
        "outputId": "c0103b27-c082-49a7-e2a4-01d4fdb3d503"
      },
      "outputs": [
        {
          "output_type": "execute_result",
          "data": {
            "text/plain": [
              "''"
            ],
            "application/vnd.google.colaboratory.intrinsic+json": {
              "type": "string"
            }
          },
          "metadata": {},
          "execution_count": 44
        },
        {
          "output_type": "display_data",
          "data": {
            "text/plain": [
              "<Figure size 432x288 with 2 Axes>"
            ],
            "image/png": "[encoded data removed]"
          },
          "metadata": {
            "needs_background": "light"
          }
        }
      ],
      "source": [
        "ConfusionMatrixDisplay.from_predictions(df_val.has_sap, df_val[\"y_pred_sap\"])\n",
        "plt.xticks(rotation=90)\n",
        ";"
      ]
    },
    {
      "cell_type": "code",
      "execution_count": null,
      "id": "f5f4a3b1",
      "metadata": {
        "id": "f5f4a3b1"
      },
      "outputs": [],
      "source": []
    },
    {
      "cell_type": "code",
      "execution_count": null,
      "id": "96d94c76",
      "metadata": {
        "id": "96d94c76"
      },
      "outputs": [],
      "source": []
    },
    {
      "cell_type": "code",
      "execution_count": null,
      "id": "dd10b723",
      "metadata": {
        "id": "dd10b723"
      },
      "outputs": [],
      "source": []
    }
  ],
  "metadata": {
    "colab": {
      "collapsed_sections": [],
      "machine_shape": "hm",
      "provenance": [],
      "include_colab_link": true
    },
    "gpuClass": "premium",
    "kernelspec": {
      "display_name": "Python [conda env:py310] *",
      "language": "python",
      "name": "conda-env-py310-py"
    },
    "language_info": {
      "codemirror_mode": {
        "name": "ipython",
        "version": 3
      },
      "file_extension": ".py",
      "mimetype": "text/x-python",
      "name": "python",
      "nbconvert_exporter": "python",
      "pygments_lexer": "ipython3",
      "version": "3.10.4"
    }
  },
  "nbformat": 4,
  "nbformat_minor": 5
}