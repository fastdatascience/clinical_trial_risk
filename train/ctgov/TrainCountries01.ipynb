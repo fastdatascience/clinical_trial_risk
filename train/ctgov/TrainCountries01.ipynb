{
  "cells": [
    {
      "cell_type": "markdown",
      "metadata": {
        "id": "view-in-github",
        "colab_type": "text"
      },
      "source": [
        "<a href=\"https://colab.research.google.com/github/fastdatascience/clinical_trial_risk/blob/fixes_nov_2022/train/ctgov/TrainCountries01.ipynb\" target=\"_parent\"><img src=\"https://colab.research.google.com/assets/colab-badge.svg\" alt=\"Open In Colab\"/></a>"
      ]
    },
    {
      "cell_type": "code",
      "execution_count": 1,
      "id": "ad812236",
      "metadata": {
        "id": "ad812236"
      },
      "outputs": [],
      "source": [
        "import pandas as pd\n",
        "import re\n",
        "import os\n",
        "import sys\n",
        "import pickle as pkl\n",
        "import seaborn as sns\n",
        "from sklearn.metrics import accuracy_score, confusion_matrix\n",
        "from sklearn.metrics import ConfusionMatrixDisplay\n",
        "from sklearn.metrics import mean_absolute_error, mean_squared_error\n",
        "from sklearn.metrics import roc_auc_score\n",
        "from sklearn.metrics import roc_curve, auc\n",
        "from IPython.display import display\n",
        "import matplotlib.pyplot as plt\n",
        "import numpy as np\n",
        "import json\n",
        "\n",
        "# df_annotations = pd.read_csv(\"all_annotations.csv\")\n"
      ]
    },
    {
      "cell_type": "markdown",
      "id": "e7ea7d33",
      "metadata": {
        "id": "e7ea7d33"
      },
      "source": [
        "# Get data"
      ]
    },
    {
      "cell_type": "code",
      "source": [
        "from google.colab import drive\n",
        "drive.mount('/content/drive')"
      ],
      "metadata": {
        "colab": {
          "base_uri": "https://localhost:8080/"
        },
        "id": "xCe1anFkGSrt",
        "outputId": "b3556848-06e2-45e2-9d9a-5f84ba894973"
      },
      "id": "xCe1anFkGSrt",
      "execution_count": 2,
      "outputs": [
        {
          "output_type": "stream",
          "name": "stdout",
          "text": [
            "Mounted at /content/drive\n"
          ]
        }
      ]
    },
    {
      "cell_type": "code",
      "execution_count": 3,
      "id": "284b9a07",
      "metadata": {
        "id": "284b9a07"
      },
      "outputs": [],
      "source": [
        "with open(\"/content/drive/MyDrive/data/protocols.pkl.gz\", \"rb\") as f:\n",
        "    file_to_pages = pkl.load(f)"
      ]
    },
    {
      "cell_type": "code",
      "execution_count": 4,
      "id": "91013de0",
      "metadata": {
        "id": "91013de0"
      },
      "outputs": [],
      "source": [
        "import spacy\n",
        "nlp = spacy.blank(\"en\")"
      ]
    },
    {
      "cell_type": "code",
      "source": [
        "df_annotations= pd.read_csv(\"/content/drive/MyDrive/data/filtered_for_phase_arms_subjects_02.csv.bz2\")"
      ],
      "metadata": {
        "id": "FdcTHlHsGWnk"
      },
      "id": "FdcTHlHsGWnk",
      "execution_count": 5,
      "outputs": []
    },
    {
      "cell_type": "code",
      "source": [
        "!pip install country_named_entity_recognition"
      ],
      "metadata": {
        "colab": {
          "base_uri": "https://localhost:8080/"
        },
        "id": "Q1RI0PV1WkWn",
        "outputId": "48e10fd1-0943-4ba0-e870-38d87cde12db"
      },
      "id": "Q1RI0PV1WkWn",
      "execution_count": 6,
      "outputs": [
        {
          "output_type": "stream",
          "name": "stdout",
          "text": [
            "Looking in indexes: https://pypi.org/simple, https://us-python.pkg.dev/colab-wheels/public/simple/\n",
            "Collecting country_named_entity_recognition\n",
            "  Downloading country_named_entity_recognition-0.4-py3-none-any.whl (9.7 kB)\n",
            "Collecting pycountry==22.1.10\n",
            "  Downloading pycountry-22.1.10.tar.gz (10.1 MB)\n",
            "\u001b[K     |████████████████████████████████| 10.1 MB 4.6 MB/s \n",
            "\u001b[?25hRequirement already satisfied: setuptools in /usr/local/lib/python3.7/dist-packages (from pycountry==22.1.10->country_named_entity_recognition) (57.4.0)\n",
            "Building wheels for collected packages: pycountry\n",
            "  Building wheel for pycountry (setup.py) ... \u001b[?25l\u001b[?25hdone\n",
            "  Created wheel for pycountry: filename=pycountry-22.1.10-py2.py3-none-any.whl size=10595786 sha256=17154abd8f467b836abaede7f400e04ffa63fafb989d0c36816922b202cdc5ce\n",
            "  Stored in directory: /root/.cache/pip/wheels/f7/8f/9c/b070d7376caf2beb0685bf72578106b2fd57019ed57d84f126\n",
            "Successfully built pycountry\n",
            "Installing collected packages: pycountry, country-named-entity-recognition\n",
            "Successfully installed country-named-entity-recognition-0.4 pycountry-22.1.10\n"
          ]
        }
      ]
    },
    {
      "cell_type": "code",
      "source": [
        "from country_named_entity_recognition import find_countries"
      ],
      "metadata": {
        "id": "KIUkJ4rOXksM"
      },
      "id": "KIUkJ4rOXksM",
      "execution_count": 7,
      "outputs": []
    },
    {
      "cell_type": "code",
      "source": [
        "import re\n",
        "\n",
        "import pycountry\n",
        "\n",
        "demonym_to_country_code = {'ARUBAN': 'AW',\n",
        "                           'AFGHAN': 'AF',\n",
        "                           'ANGOLAN': 'AO',\n",
        "                           'ANGUILLIAN': 'AI',\n",
        "                           'ALBANIAN': 'AL',\n",
        "                           'EMIRATI': 'AE',\n",
        "                           'ARGENTINEAN': 'AR',\n",
        "                           'ARMENIAN': 'AM',\n",
        "                           'AMERICAN SAMOAN': 'AS',\n",
        "                           'FRENCH': 'PM',\n",
        "                           'ANTIGUAN': 'AG',\n",
        "                           'BARBUDAN': 'AG',\n",
        "                           'AUSTRALIAN': 'AU',\n",
        "                           'AUSTRIAN': 'AT',\n",
        "                           'AZERBAIJANI': 'AZ',\n",
        "                           'BURUNDIAN': 'BI',\n",
        "                           'BELGIAN': 'BE',\n",
        "                           'BENINESE': 'BJ',\n",
        "                           'BURKINABE': 'BF',\n",
        "                           'BANGLADESHI': 'BD',\n",
        "                           'BULGARIAN': 'BG',\n",
        "                           'BAHRAINI': 'BH',\n",
        "                           'BAHAMIAN': 'BS',\n",
        "                           'BOSNIAN': 'BA',\n",
        "                           'HERZEGOVINIAN': 'BA',\n",
        "                           'BELARUSIAN': 'BY',\n",
        "                           'BELIZEAN': 'BZ',\n",
        "                           'BERMUDIAN': 'BM',\n",
        "                           'BOLIVIAN': 'BO',\n",
        "                           'BRAZILIAN': 'BR',\n",
        "                           'BARBADIAN': 'BB',\n",
        "                           'BRUNEIAN': 'BN',\n",
        "                           'BHUTANESE': 'BT',\n",
        "                           'MOTSWANA': 'BW',\n",
        "                           'CENTRAL AFRICAN': 'CF',\n",
        "                           'CANADIAN': 'CA',\n",
        "                           'COCOS ISLANDER': 'CC',\n",
        "                           'SWISS': 'CH',\n",
        "                           'CHILEAN': 'CL',\n",
        "                           'CHINESE': 'MO',\n",
        "                           'IVORIAN': 'CI',\n",
        "                           'CAMEROONIAN': 'CM',\n",
        "                           'CONGOLESE': 'CG',\n",
        "                           'COOK ISLANDER': 'CK',\n",
        "                           'COLOMBIAN': 'CO',\n",
        "                           'COMORAN': 'KM',\n",
        "                           'CAPE VERDIAN': 'CV',\n",
        "                           'COSTA RICAN': 'CR',\n",
        "                           'CUBAN': 'CU',\n",
        "                           'CHRISTMAS ISLAND': 'CX',\n",
        "                           'CAYMANIAN': 'KY',\n",
        "                           'CYPRIOT': 'CY',\n",
        "                           'CZECH': 'CZ',\n",
        "                           'GERMAN': 'DE',\n",
        "                           'DJIBOUTI': 'DJ',\n",
        "                           'DOMINICAN': 'DO',\n",
        "                           'DANISH': 'DK',\n",
        "                           'ALGERIAN': 'DZ',\n",
        "                           'ECUADOREAN': 'EC',\n",
        "                           'EGYPTIAN': 'EG',\n",
        "                           'ERITREAN': 'ER',\n",
        "                           'SAHRAWI': 'EH',\n",
        "                           'SPANISH': 'ES',\n",
        "                           'ESTONIAN': 'EE',\n",
        "                           'ETHIOPIAN': 'ET',\n",
        "                           'FINNISH': 'FI',\n",
        "                           'FIJIAN': 'FJ',\n",
        "                           'FALKLAND ISLANDER': 'FK',\n",
        "                           'FAROESE': 'FO',\n",
        "                           'MICRONESIAN': 'FM',\n",
        "                           'GABONESE': 'GA',\n",
        "                           'BRITISH': 'GB',\n",
        "                           'GEORGIAN': 'GE',\n",
        "                           'CHANNEL ISLANDER': 'JE',\n",
        "                           'GHANAIAN': 'GH',\n",
        "                           'GIBRALTAR': 'GI',\n",
        "                           'GUINEAN': 'GN',\n",
        "                           'GUADELOUPIAN': 'GP',\n",
        "                           'GAMBIAN': 'GM',\n",
        "                           'GUINEA-BISSAUAN': 'GW',\n",
        "                           'EQUATORIAL GUINEAN': 'GQ',\n",
        "                           'GREEK': 'GR',\n",
        "                           'GRENADIAN': 'GD',\n",
        "                           'GREENLANDIC': 'GL',\n",
        "                           'GUATEMALAN': 'GT',\n",
        "                           'GUAMANIAN': 'GU',\n",
        "                           'GUYANESE': 'GY',\n",
        "                           'HEARD AND MCDONALD ISLANDER': 'HM',\n",
        "                           'HONDURAN': 'HN',\n",
        "                           'CROATIAN': 'HR',\n",
        "                           'HAITIAN': 'HT',\n",
        "                           'HUNGARIAN': 'HU',\n",
        "                           'INDONESIAN': 'ID',\n",
        "                           'MANX': 'IM',\n",
        "                           'INDIAN': 'IO',\n",
        "                           'IRISH': 'IE',\n",
        "                           'IRANIAN': 'IR',\n",
        "                           'IRAQI': 'IQ',\n",
        "                           'ICELANDER': 'IS',\n",
        "                           'ISRAELI': 'IL',\n",
        "                           'ITALIAN': 'IT',\n",
        "                           'JAMAICAN': 'JM',\n",
        "                           'JORDANIAN': 'JO',\n",
        "                           'JAPANESE': 'JP',\n",
        "                           'KAZAKHSTANI': 'KZ',\n",
        "                           'KENYAN': 'KE',\n",
        "                           'KIRGHIZ': 'KG',\n",
        "                           'CAMBODIAN': 'KH',\n",
        "                           'I-KIRIBATI': 'KI',\n",
        "                           'KIRIBATI': 'KI',\n",
        "                           'KITTIAN AND NEVISIAN': 'KN',\n",
        "                           'SOUTH KOREAN': 'KR',\n",
        "                           'KUWAITI': 'KW',\n",
        "                           'LAOTIAN': 'LA',\n",
        "                           'LEBANESE': 'LB',\n",
        "                           'LIBERIAN': 'LR',\n",
        "                           'LIBYAN': 'LY',\n",
        "                           'SAINT LUCIAN': 'LC',\n",
        "                           'LIECHTENSTEINER': 'LI',\n",
        "                           'SRI LANKAN': 'LK',\n",
        "                           'MOSOTHO': 'LS',\n",
        "                           'LITHUANIAN': 'LT',\n",
        "                           'LUXEMBOURGER': 'LU',\n",
        "                           'LATVIAN': 'LV',\n",
        "                           'MOROCCAN': 'MA',\n",
        "                           'MONEGASQUE': 'MC',\n",
        "                           'MOLDOVAN': 'MD',\n",
        "                           'MALAGASY': 'MG',\n",
        "                           'MALDIVAN': 'MV',\n",
        "                           'MEXICAN': 'MX',\n",
        "                           'MARSHALLESE': 'MH',\n",
        "                           'MACEDONIAN': 'MK',\n",
        "                           'MALIAN': 'ML',\n",
        "                           'MALTESE': 'MT',\n",
        "                           'MONGOLIAN': 'MN',\n",
        "                           'AMERICAN': 'US',\n",
        "                           'MOZAMBICAN': 'MZ',\n",
        "                           'MAURITANIAN': 'MR',\n",
        "                           'MONTSERRATIAN': 'MS',\n",
        "                           'MAURITIAN': 'MU',\n",
        "                           'MALAWIAN': 'MW',\n",
        "                           'MALAYSIAN': 'MY',\n",
        "                           'NAMIBIAN': 'NA',\n",
        "                           'NEW CALEDONIAN': 'NC',\n",
        "                           'NIGERIEN': 'NE',\n",
        "                           'NORFOLK ISLANDER': 'NF',\n",
        "                           'NIGERIAN': 'NG',\n",
        "                           'NICARAGUAN': 'NI',\n",
        "                           'NIUEAN': 'NU',\n",
        "                           'DUTCH': 'NL',\n",
        "                           'NORWEGIAN': 'SJ',\n",
        "                           'NEPALESE': 'NP',\n",
        "                           'NAURUAN': 'NR',\n",
        "                           'NEW ZEALANDER': 'NZ',\n",
        "                           'OMANI': 'OM',\n",
        "                           'PAKISTANI': 'PK',\n",
        "                           'PANAMANIAN': 'PA',\n",
        "                           'PITCAIRN ISLANDER': 'PN',\n",
        "                           'PERUVIAN': 'PE',\n",
        "                           'FILIPINO': 'PH',\n",
        "                           'PALAUAN': 'PW',\n",
        "                           'PAPUA NEW GUINEAN': 'PG',\n",
        "                           'POLISH': 'PL',\n",
        "                           'PUERTO RICAN': 'PR',\n",
        "                           'NORTH KOREAN': 'KP',\n",
        "                           'PORTUGUESE': 'PT',\n",
        "                           'PARAGUAYAN': 'PY',\n",
        "                           'FRENCH POLYNESIAN': 'PF',\n",
        "                           'QATARI': 'QA',\n",
        "                           'ROMANIAN': 'RO',\n",
        "                           'RUSSIAN': 'RU',\n",
        "                           'RWANDAN': 'RW',\n",
        "                           'SAUDI ARABIAN': 'SA',\n",
        "                           'SUDANESE': 'SD',\n",
        "                           'SENEGALESE': 'SN',\n",
        "                           'SINGAPOREAN': 'SG',\n",
        "                           'SOUTH GEORGIA AND THE SOUTH SANDWICH ISLANDER': 'GS',\n",
        "                           'SAINT HELENIAN': 'SH',\n",
        "                           'SOLOMON ISLANDER': 'SB',\n",
        "                           'SIERRA LEONEAN': 'SL',\n",
        "                           'SALVADORAN': 'SV',\n",
        "                           'SAMMARINESE': 'SM',\n",
        "                           'SOMALI': 'SO',\n",
        "                           'SOUTH SUDANESE': 'SS',\n",
        "                           'SAO TOMEAN': 'ST',\n",
        "                           'SURINAMER': 'SR',\n",
        "                           'SLOVAK': 'SK',\n",
        "                           'SLOVENE': 'SI',\n",
        "                           'SWEDISH': 'SE',\n",
        "                           'SWAZI': 'SZ',\n",
        "                           'SEYCHELLOIS': 'SC',\n",
        "                           'SYRIAN': 'SY',\n",
        "                           'CHADIAN': 'TD',\n",
        "                           'TOGOLESE': 'TG',\n",
        "                           'THAI': 'TH',\n",
        "                           'TADZHIK': 'TJ',\n",
        "                           'TAJIK': 'TJ',\n",
        "                           'TOKELAUAN': 'TK',\n",
        "                           'TURKMEN': 'TM',\n",
        "                           'EAST TIMORESE': 'TL',\n",
        "                           'TONGAN': 'TO',\n",
        "                           'TRINIDADIAN': 'TT',\n",
        "                           'TUNISIAN': 'TN',\n",
        "                           'TURKISH': 'TR',\n",
        "                           'TUVALUAN': 'TV',\n",
        "                           'TAIWANESE': 'TW',\n",
        "                           'TANZANIAN': 'TZ',\n",
        "                           'UGANDAN': 'UG',\n",
        "                           'UKRAINIAN': 'UA',\n",
        "                           'URUGUAYAN': 'UY',\n",
        "                           'UZBEKISTANI': 'UZ',\n",
        "                           'SAINT VINCENTIAN': 'VC',\n",
        "                           'VENEZUELAN': 'VE',\n",
        "                           'VIETNAMESE': 'VN',\n",
        "                           'NI-VANUATU': 'VU',\n",
        "                           'WALLIS AND FUTUNA ISLANDER': 'WF',\n",
        "                           'SAMOAN': 'WS',\n",
        "                           'YEMENI': 'YE',\n",
        "                           'SOUTH AFRICAN': 'ZA',\n",
        "                           'ZAMBIAN': 'ZM',\n",
        "                           'ZIMBABWEAN': 'ZW'}\n",
        "\n",
        "demonym_to_country = dict(\n",
        "    [demonym, pycountry.countries.lookup(alpha_2)]\n",
        "    for demonym, alpha_2 in demonym_to_country_code.items()\n",
        ")\n",
        "\n",
        "people = {\"adults\", \"men\", \"women\", \"children\", \"infants\", \"toddlers\", \"sex workers\",\n",
        "          \"communities\", \"community\",\n",
        "          \"population\",\n",
        "          \"males\", \"male adults\", \"females\",\n",
        "          \"female adults\", \"individuals\",\n",
        "          \"volunteers\", \"babies\", \"teenagers\", \"adolescents\", \"pregnant\"}\n",
        "\n",
        "country_pattern = \"(\" + \"|\".join(demonym_to_country_code) + \")\"\n",
        "people_pattern = \"(\" + \"|\".join(people) + \")\"\n",
        "\n",
        "demonym_regex = re.compile(f\"(?i)\\\\b(?:{country_pattern}(?:s|\\\\s*{people_pattern}))\\\\b\")\n",
        "\n",
        "\n",
        "def find_demonyms(text: str) -> list:\n",
        "    \"\"\"\n",
        "    Find the nationalities mentioned in the text that clearly refer to study subjects, e.g. Samoan males.\n",
        "    :param text: the text of the protocol page\n",
        "    :return: nationalities found as a list of tuples (PyCountry object and Match object).\n",
        "    \"\"\"\n",
        "    country_matches = []\n",
        "\n",
        "    matches = demonym_regex.finditer(text)\n",
        "    for match in matches:\n",
        "        matched_country = demonym_to_country[match.groups()[0].upper()]\n",
        "        country_matches.append((matched_country, match))\n",
        "\n",
        "    return country_matches\n"
      ],
      "metadata": {
        "id": "vbIO7iuXXmpk"
      },
      "id": "vbIO7iuXXmpk",
      "execution_count": 8,
      "outputs": []
    },
    {
      "cell_type": "code",
      "source": [
        "def get_contexts(pages):\n",
        "\n",
        "    country_to_contexts = {}\n",
        "\n",
        "    for page_no, page_text in enumerate(pages):\n",
        "        countries = find_countries(page_text)\n",
        "\n",
        "        demonyms = find_demonyms(page_text)\n",
        "\n",
        "        matches = []\n",
        "        for country, match in countries:\n",
        "            matches.append((country, match, \"USA\"))\n",
        "        for country, match in demonyms:\n",
        "            first_word = match.group().split(\" \")[0]\n",
        "            if first_word.endswith(\"s\"):\n",
        "              substitute = re.sub(first_word, \"Americans\", match.group())\n",
        "            else:\n",
        "              substitute = re.sub(first_word, \"American\", match.group())\n",
        "            matches.append((country, match, substitute))\n",
        "\n",
        "        for country, match, substitute in matches:\n",
        "            if country.alpha_2 not in country_to_contexts:\n",
        "                country_to_contexts[country.alpha_2] = []\n",
        "\n",
        "            start = match.start() - 100\n",
        "            end = match.end() + 100\n",
        "            if start < 0:\n",
        "                start = 0\n",
        "            if end > len(page_text) - 1:\n",
        "                end = len(page_text)\n",
        "\n",
        "            left_context = page_text[start:match.start()]\n",
        "            left_context = re.sub(r'the\\s*$', '', left_context)\n",
        "            context = left_context + substitute + page_text[match.end():end]\n",
        "            context = re.sub(r'^\\w+|\\w+$', '', context).strip()\n",
        "            country_to_contexts[country.alpha_2].append(context)\n",
        "    \n",
        "    return country_to_contexts"
      ],
      "metadata": {
        "id": "LtIfZ5R3Xr6S"
      },
      "id": "LtIfZ5R3Xr6S",
      "execution_count": 43,
      "outputs": []
    },
    {
      "cell_type": "code",
      "source": [
        "all_contexts = []\n",
        "for idx in range(len(df_annotations)):\n",
        "  if not pd.isna(df_annotations.file.iloc[idx]):\n",
        "    pages = file_to_pages[df_annotations.file.iloc[idx]]\n",
        "    contexts = get_contexts(pages)\n",
        "  else:\n",
        "    contexts = {}\n",
        "  all_contexts.append(contexts)"
      ],
      "metadata": {
        "id": "EuTfYYFMYvQ6"
      },
      "id": "EuTfYYFMYvQ6",
      "execution_count": null,
      "outputs": []
    },
    {
      "cell_type": "code",
      "source": [
        "train_examples = []\n",
        "test_examples = []\n",
        "train_labels = []\n",
        "test_labels = []\n",
        "for idx in range(len(df_annotations)):\n",
        "  gt = set(df_annotations.country.iloc[idx].split(\",\"))\n",
        "  is_found = False\n",
        "  for country_code, contexts in all_contexts[idx]:\n",
        "     if country_code in gt:\n",
        "       is_found = True\n",
        "  if is_found:\n",
        "    if df_annotations.train_val.iloc[idx] == \"train\":\n",
        "      e = train_examples\n",
        "      l = train_labels\n",
        "    else:\n",
        "      e = test_examples\n",
        "      l = test_labels\n",
        "    for country_code, contexts in all_contexts[idx].items():\n",
        "      text= \" \".join(contexts)\n",
        "      e.append(text)\n",
        "      l.append(int(country_code in gt))    "
      ],
      "metadata": {
        "colab": {
          "base_uri": "https://localhost:8080/"
        },
        "id": "XGVC3-jtZAZy",
        "outputId": "7f87bb43-eced-45b1-9b99-401b104062d3"
      },
      "id": "XGVC3-jtZAZy",
      "execution_count": 45,
      "outputs": [
        {
          "output_type": "execute_result",
          "data": {
            "text/plain": [
              "{'US': ['sickle cell anemia (SCA) is a\\ndevastating medical disorder.  Over 50,000 affected persons in USA have inherited\\nSCA, and the vast majority of them are African-American.  To date, there have been',\n",
              "  'the proposed answers must be sensitive to the history of medical investigation\\ninvolving African-Americans.  \\n\\nHighest priority must be given to patient protection and to assuring that patients’ families',\n",
              "  'predominance of sickle hemoglobin (HbS).  SCD is one of the most common\\n\\ninherited diseases in USA, affecting approximately 1 in 375 African-American live\\n\\nbirths.  Currently it is estimated that',\n",
              "  '-American live\\n\\nbirths.  Currently it is estimated that there are over 75,000 persons in USA with SCD.\\n\\nA single inherited amino acid substitution in beta globin results in the formation of',\n",
              "  'with HU (mean 5.6 years) and had no cases of secondary malignancy (Triadou et al,\\n\\n1994).  In USA, some adults with SCA have received HU therapy for over 10 years; no\\n\\ncases of secondary leukemia',\n",
              "  'specifically in patients with SCD.  \\n\\nThe incidence of cancer among African-American children in USA is about 11 new cases\\n\\nper 100,000 children per year (Gurney et al, 1995), of which one-third are',\n",
              "  'reported.  These cases need to be evaluated in light of the incidence of cancer in the\\n\\nAfrican-American population in general, and specifically in patients with SCD.  \\n\\nThe incidence of cancer among African-',\n",
              "  'in general, and specifically in patients with SCD.  \\n\\nThe incidence of cancer among African-American children in the US is about 11 new cases\\n\\nper 100,000 children per year (Gurney et al, 1995), of which one-',\n",
              "  '(Gurney et al, 1995), of which one-third are leukemia or lymphoma.\\n\\nThe incidence among African-American children under age four years, however, is at least 15 cases\\n\\nper 100,000 children per year (Gurney et al,',\n",
              "  '14 Clinical Centers, a Medical Coordinating\\n\\nCenter, and eight core laboratories within USA.  The Phase III study will include 200\\n\\nchildren with sickle cell anemia (SCA) aged 9-17 months.',\n",
              "  '/August-09/CHAP-4.wpd — 8/09 Page 4-3 of 4-37  \\n\\nclinical course of sickle cell disease in USA., examined pitted cell counts and liver-spleen scans\\n\\nin a cross-sectional cohort of 8 to 13 month',\n",
              "  'data to complete the records for patients with missing data.\\n\\nThis method has been accepted by USA. Food and Drug Administration (FDA) as a legitimate\\n\\nmethod for correcting for missing data.  We',\n",
              "  'study treatment.  \\n\\nThe NHLBI has submitted an investigational new drug (IND) application to USA.  Food\\n\\nand Drug Administration (FDA) for use of hydroxyurea in BABY HUG (IND #67,289).',\n",
              "  'Director and the MCC Medical Consultant). Adverse\\n\\ntreatment effects will be reported to USA. Food and Drug Administration (FDA).',\n",
              "  'Project Officer and DSMB Executive Secretary will file\\n\\nreports on each death or stroke with USA. Food and Drug Administration (FDA) under the study\\n\\nIND.  If the p-value for an association of',\n",
              "  'to the CSSCD population of children with HbSS for\\n\\nheight and weight, and to a normal black American population for head circumference (Pivnick et\\n\\nal, 1999).  Average scores for the two treatment groups will',\n",
              "  '(NHLBI).  Labelling for use of hydroxyurea in this age group will depend on the\\n\\ndetermination of USA Food and Drug Administration (FDA) if a supplemental New Drug\\n\\nApplication (NDA) is submitted.',\n",
              "  'or other compensation.  The BABY\\n\\nHUG conflict-of-interest policy will incorporate the NHLBI and USA.  Food and Drug Administration\\n\\n(FDA) policies on conflict-of-interest for investigators.\\n\\nThe',\n",
              "  'mutant 6-\\nthioguanine-resistant lymphocytes present in human peripheral blood.  Proc Natl Acad Sci USA.\\n79.  6617-21.  \\n\\nAliverti V., Bonanomi L. and Giavini E. (1980).  Hydroxyurea as a reference',\n",
              "  '.  J R Stat Soc B.  34.  187-220.\\n\\nCouncil of Regional Networks for Genetic Services (CORN).  USA. Newborn Screening System\\nGuidelines II:  Follow-up of Children, Diagnosis, Management, and',\n",
              "  'J.G., Severson R.K., Davis S. and Robinson L.L.  (1995).  Incidence of cancer in children\\nin USA.  Cancer.  75.  2186-95.\\n\\nHandy C., Barton F., Moore R., McMahon R.P., Eckert S., Terrin M., Dover',\n",
              "  'ProtocolAugust-09/References.wpd —  8/09 Page R-6 of R-14  \\n\\nHellerstein S., Berenborn M., Alon USA. and Warady B.A.  (1998).  Creatinine clearance following\\ncimetidine for estimation of glomerular',\n",
              "  'genomic\\ninstability in agriculture workers at risk for lymphoid malignancies.  Proc Natl Acad Sci USA.  89.\\n5301-5.  \\n\\nLittle R., Rubin D.  (1987).  Statistical analysis with missing data.  John Wiley',\n",
              "  'A2 on the polymerization of hemoglobin S at physiologic ligand\\nsaturations.  Proc Natl Acad Sci USA.  90.  5039-43.  \\n\\nPowars D., Weidman J.A., Odom-Maryon T., Niland J.C. and Johnson C.  (1988).'],\n",
              " 'SA': ['.K., Al-Majid H. and Al-Ali J.  (2000).  Splenic function in\\nsickle cell anemia patients in Qatif, USA.  Am J Hematol.  63.  68-73.\\n\\nAlbertini R.J., Castle K.L. and Borcherding W.R.  (1982).  T-cell']}"
            ]
          },
          "metadata": {},
          "execution_count": 45
        }
      ]
    },
    {
      "cell_type": "code",
      "source": [
        "train_examples = np.asarray(train_examples)\n",
        "test_examples = np.asarray(test_examples)\n",
        "train_labels = np.asarray(train_labels)\n",
        "test_labels = np.asarray(test_labels)"
      ],
      "metadata": {
        "id": "mz_-LkfyZBpR"
      },
      "id": "mz_-LkfyZBpR",
      "execution_count": 45,
      "outputs": []
    },
    {
      "cell_type": "code",
      "source": [
        "model = \"https://tfhub.dev/google/nnlm-en-dim50/2\"\n",
        "hub_layer = hub.KerasLayer(model, input_shape=[], dtype=tf.string, trainable=True)\n",
        "hub_layer(train_examples[:3])"
      ],
      "metadata": {
        "id": "gzmRpULOev00"
      },
      "id": "gzmRpULOev00",
      "execution_count": null,
      "outputs": []
    },
    {
      "cell_type": "code",
      "source": [
        "model = tf.keras.Sequential()\n",
        "model.add(hub_layer)\n",
        "model.add(tf.keras.layers.Dense(16, activation='relu'))\n",
        "model.add(tf.keras.layers.Dense(1, activation='softmax'))\n",
        "\n",
        "model.summary()"
      ],
      "metadata": {
        "id": "BoT_kA91exL_"
      },
      "id": "BoT_kA91exL_",
      "execution_count": null,
      "outputs": []
    },
    {
      "cell_type": "code",
      "source": [
        "model.compile(optimizer='adam',\n",
        "              loss=tf.losses.CategoricalCrossentropy(),\n",
        "              metrics=[tf.metrics.CategoricalAccuracy(name='accuracy')],\n",
        "              run_eagerly=True)"
      ],
      "metadata": {
        "id": "pwBbpQ73eyH9"
      },
      "id": "pwBbpQ73eyH9",
      "execution_count": null,
      "outputs": []
    },
    {
      "cell_type": "code",
      "source": [
        "partial_x_train = train_examples\n",
        "x_val = test_examples\n",
        "\n",
        "partial_y_train = train_labels\n",
        "y_val = test_labels"
      ],
      "metadata": {
        "id": "RpKljhY_e0Ci"
      },
      "id": "RpKljhY_e0Ci",
      "execution_count": null,
      "outputs": []
    },
    {
      "cell_type": "code",
      "source": [
        "history = model.fit(partial_x_train,\n",
        "                    partial_y_train,\n",
        "                    epochs=20,\n",
        "                    batch_size=512,\n",
        "                    validation_data=(x_val, y_val),\n",
        "                    verbose=1)"
      ],
      "metadata": {
        "id": "kZ8EPMbje1VK"
      },
      "id": "kZ8EPMbje1VK",
      "execution_count": null,
      "outputs": []
    },
    {
      "cell_type": "code",
      "source": [
        "with open(\"/content/drive/MyDrive/data/countries_contexts.pkl.gz\", \"wb\") as f:\n",
        "    pkl.dump(all_contexts, f)"
      ],
      "metadata": {
        "id": "ntRoTSA4e2OI"
      },
      "id": "ntRoTSA4e2OI",
      "execution_count": null,
      "outputs": []
    },
    {
      "cell_type": "code",
      "source": [
        "import operator\n",
        "\n",
        "\n",
        "value_to_scores = []\n",
        "\n",
        "for idx in range(len(df_annotations)):\n",
        "  if df_annotations.train_val.iloc[idx] == \"val\":\n",
        "    contexts = all_contexts[idx]\n",
        "    candidate_values = list(contexts.keys())\n",
        "    input_texts = np.asarray(list([\" \".join(c) for c in contexts.values()  ] ))\n",
        "    scores = model.predict(input_texts)\n",
        "\n",
        "    value_to_score = {}\n",
        "    for j in range(len(contexts)):\n",
        "      value_to_score[candidate_values[j]] = scores[j][0]\n",
        "    value_to_scores.append(value_to_score)"
      ],
      "metadata": {
        "id": "x72Cwim5flsK"
      },
      "id": "x72Cwim5flsK",
      "execution_count": null,
      "outputs": []
    },
    {
      "cell_type": "code",
      "source": [
        "pred_proba = []\n",
        "\n",
        "for idx in range(len(df_annotations[df_annotations.train_val == \"val\"])):\n",
        "  value_to_score = value_to_scores[idx]\n",
        "  winning_values = sorted(value_to_score.items(), key=operator.itemgetter(1), reverse=True)\n",
        "  if winning_values[0][1] < 0.5:\n",
        "    winning_values = winning_values[:1]\n",
        "  else:\n",
        "    winning_values = [v for v in winning_values if v[1] > 0.5]\n",
        "  pred_proba.append(\",\".join(sorted(set(winning_values))))"
      ],
      "metadata": {
        "id": "oidLity_iSUZ"
      },
      "id": "oidLity_iSUZ",
      "execution_count": null,
      "outputs": []
    },
    {
      "cell_type": "code",
      "source": [
        "from sklearn.metrics import accuracy_score"
      ],
      "metadata": {
        "id": "L-6k1baairhF"
      },
      "id": "L-6k1baairhF",
      "execution_count": null,
      "outputs": []
    },
    {
      "cell_type": "code",
      "source": [
        "df_val = df_annotations[df_annotations.train_val == \"val\"]"
      ],
      "metadata": {
        "id": "tLDdTJLBiup2"
      },
      "id": "tLDdTJLBiup2",
      "execution_count": null,
      "outputs": []
    },
    {
      "cell_type": "code",
      "source": [
        "df_val[\"y_pred\"] = pred_proba"
      ],
      "metadata": {
        "id": "zHoNV0LNi1EE"
      },
      "id": "zHoNV0LNi1EE",
      "execution_count": null,
      "outputs": []
    },
    {
      "cell_type": "code",
      "source": [
        "accuracy_score(df_val.country, df_val.y_pred)"
      ],
      "metadata": {
        "id": "35Us7G3oi3Gy"
      },
      "id": "35Us7G3oi3Gy",
      "execution_count": null,
      "outputs": []
    },
    {
      "cell_type": "code",
      "source": [],
      "metadata": {
        "id": "KDdNPXsci5UM"
      },
      "id": "KDdNPXsci5UM",
      "execution_count": null,
      "outputs": []
    }
  ],
  "metadata": {
    "colab": {
      "provenance": [],
      "machine_shape": "hm",
      "include_colab_link": true
    },
    "kernelspec": {
      "display_name": "conda_tensorflow_p36",
      "language": "python",
      "name": "conda_tensorflow_p36"
    },
    "language_info": {
      "codemirror_mode": {
        "name": "ipython",
        "version": 3
      },
      "file_extension": ".py",
      "mimetype": "text/x-python",
      "name": "python",
      "nbconvert_exporter": "python",
      "pygments_lexer": "ipython3",
      "version": "3.6.13"
    },
    "accelerator": "GPU",
    "gpuClass": "premium"
  },
  "nbformat": 4,
  "nbformat_minor": 5
}