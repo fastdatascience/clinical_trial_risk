{
 "cells": [
  {
   "cell_type": "code",
   "execution_count": 1,
   "id": "62d17128",
   "metadata": {
    "id": "0557d6c8"
   },
   "outputs": [],
   "source": [
    "import pandas as pd\n",
    "import re\n",
    "import os\n",
    "import sys\n",
    "import pickle as pkl\n",
    "import seaborn as sns\n",
    "from sklearn.metrics import accuracy_score, confusion_matrix\n",
    "from sklearn.metrics import ConfusionMatrixDisplay\n",
    "from sklearn.metrics import mean_absolute_error, mean_squared_error\n",
    "from sklearn.metrics import roc_auc_score\n",
    "from sklearn.metrics import roc_curve, auc\n",
    "from IPython.display import display\n",
    "import matplotlib.pyplot as plt\n",
    "import numpy as np\n",
    "import json\n",
    "\n",
    "df_annotations = pd.read_csv(\"all_annotations.csv\")\n"
   ]
  },
  {
   "cell_type": "markdown",
   "id": "de7f2a42",
   "metadata": {
    "id": "4b2e7a73"
   },
   "source": [
    "# Get data"
   ]
  },
  {
   "cell_type": "code",
   "execution_count": 2,
   "id": "c9079732",
   "metadata": {
    "id": "c8ebd7a5"
   },
   "outputs": [],
   "source": [
    "# with open(\"protocols.pkl.gz\", \"rb\") as f:\n",
    "#     file_to_pages = pkl.load(f)"
   ]
  },
  {
   "cell_type": "code",
   "execution_count": 3,
   "id": "1420b1f0",
   "metadata": {
    "id": "6148cb3b"
   },
   "outputs": [],
   "source": [
    "# import spacy\n",
    "# nlp = spacy.blank(\"en\")"
   ]
  },
  {
   "cell_type": "code",
   "execution_count": 4,
   "id": "81ac94e6",
   "metadata": {
    "id": "9fbe5bf0",
    "scrolled": true
   },
   "outputs": [],
   "source": [
    "# texts = []\n",
    "\n",
    "# for i in range(len(df_annotations)):\n",
    "#     file_name = df_annotations.file.iloc[i]\n",
    "    \n",
    "#     pages= file_to_pages[file_name]\n",
    "    \n",
    "#     text = \"\"\n",
    "#     for page in pages:\n",
    "#         doc = nlp(page)\n",
    "        \n",
    "#         is_include = [False] * len(doc)\n",
    "#         for tok in doc:\n",
    "#             if tok.text.lower() in {\"phase\"}:\n",
    "#                 for token_index in range(tok.i - 20, tok.i + 20):\n",
    "#                     if token_index >= 0 and token_index < len(doc):\n",
    "#                         is_include[token_index] = True\n",
    "        \n",
    "#         for token_index in range(len(doc)):\n",
    "#             if is_include[token_index]:\n",
    "#                 text += doc[token_index].text + doc[token_index].whitespace_\n",
    "                \n",
    "                \n",
    "#     if text == \"\":\n",
    "#         print (\"nothing found\", file_name, df_annotations.phase.iloc[i])\n",
    "#         text = \" \".join(pages)\n",
    "#         if len(text) > 100000:\n",
    "#             text = text[:100000]\n",
    "#     else:\n",
    "#         print (\"found\", file_name, df_annotations.phase.iloc[i])\n",
    "\n",
    "#     texts.append(text)\n",
    "# df_annotations[\"text\"] = texts"
   ]
  },
  {
   "cell_type": "code",
   "execution_count": 5,
   "id": "ba1adf11",
   "metadata": {
    "id": "cfac2830"
   },
   "outputs": [],
   "source": [
    "# df_annotations.to_csv(\"filtered_for_phase.csv.bz2\")"
   ]
  },
  {
   "cell_type": "code",
   "execution_count": 6,
   "id": "e917be1a",
   "metadata": {
    "id": "068abf18"
   },
   "outputs": [],
   "source": [
    "df_annotations = pd.read_csv(\"filtered_for_phase.csv.bz2\")"
   ]
  },
  {
   "cell_type": "code",
   "execution_count": 7,
   "id": "98e43be9",
   "metadata": {
    "id": "93361b2c"
   },
   "outputs": [],
   "source": [
    "# del file_to_pages"
   ]
  },
  {
   "cell_type": "code",
   "execution_count": 8,
   "id": "c0445959",
   "metadata": {
    "id": "f3322e30"
   },
   "outputs": [],
   "source": [
    "df_annotations_phase_known = df_annotations[~df_annotations.phase.isna()]"
   ]
  },
  {
   "cell_type": "code",
   "execution_count": 9,
   "id": "339f725a",
   "metadata": {},
   "outputs": [
    {
     "data": {
      "text/plain": [
       "(11591, 11924)"
      ]
     },
     "execution_count": 9,
     "metadata": {},
     "output_type": "execute_result"
    }
   ],
   "source": [
    "len(df_annotations_phase_known), len(df_annotations)"
   ]
  },
  {
   "cell_type": "code",
   "execution_count": 10,
   "id": "e1944a6b",
   "metadata": {
    "id": "26b24be0"
   },
   "outputs": [],
   "source": [
    "#df_annotations_num_arms_known = df_annotations_num_arms_known.sample(1000)"
   ]
  },
  {
   "cell_type": "code",
   "execution_count": 11,
   "id": "f11b6876",
   "metadata": {
    "scrolled": true
   },
   "outputs": [
    {
     "data": {
      "text/plain": [
       "Phase 2            4317\n",
       "Phase 3            2725\n",
       "Phase 4            1461\n",
       "Phase 1            1154\n",
       "Phase 1/Phase 2     983\n",
       "Not Applicable      519\n",
       "Phase 2/Phase 3     297\n",
       "Early Phase 1       135\n",
       "Name: phase, dtype: int64"
      ]
     },
     "execution_count": 11,
     "metadata": {},
     "output_type": "execute_result"
    }
   ],
   "source": [
    "df_annotations_phase_known.phase.value_counts()"
   ]
  },
  {
   "cell_type": "code",
   "execution_count": 12,
   "id": "cdbdfdb6",
   "metadata": {
    "colab": {
     "base_uri": "https://localhost:8080/"
    },
    "id": "df0ea588",
    "outputId": "5e8d7ff8-6c65-4035-ed02-573d640f2367"
   },
   "outputs": [
    {
     "name": "stderr",
     "output_type": "stream",
     "text": [
      "/home/ec2-user/anaconda3/envs/tensorflow_p36/lib/python3.6/site-packages/ipykernel/__main__.py:9: SettingWithCopyWarning: \n",
      "A value is trying to be set on a copy of a slice from a DataFrame.\n",
      "Try using .loc[row_indexer,col_indexer] = value instead\n",
      "\n",
      "See the caveats in the documentation: https://pandas.pydata.org/pandas-docs/stable/user_guide/indexing.html#returning-a-view-versus-a-copy\n"
     ]
    }
   ],
   "source": [
    "phase_map = {\"Phase 2\":\"2\",\n",
    "\"Phase 3\":\"3\",\n",
    "\"Phase 4\":\"4\",\n",
    "\"Phase 1\":\"1\",\n",
    "\"Phase 1/Phase 2\":\"1.5\",\n",
    "\"Not Applicable\":\"0\",\n",
    "\"Phase 2/Phase 3\":\"2.5\",\n",
    "\"Early Phase 1\":\"0.5\"}\n",
    "df_annotations_phase_known[\"phase_clean\"] = df_annotations_phase_known[\"phase\"].map(phase_map)"
   ]
  },
  {
   "cell_type": "code",
   "execution_count": 13,
   "id": "8be7eef2",
   "metadata": {},
   "outputs": [
    {
     "data": {
      "text/plain": [
       "8"
      ]
     },
     "execution_count": 13,
     "metadata": {},
     "output_type": "execute_result"
    }
   ],
   "source": [
    "len(phase_map)"
   ]
  },
  {
   "cell_type": "code",
   "execution_count": 14,
   "id": "58132084",
   "metadata": {
    "id": "df49af99"
   },
   "outputs": [],
   "source": [
    "df_train = df_annotations_phase_known[df_annotations_phase_known.train_val == \"train\"]"
   ]
  },
  {
   "cell_type": "code",
   "execution_count": 15,
   "id": "cfb358ec",
   "metadata": {
    "id": "5f720fbf"
   },
   "outputs": [],
   "source": [
    "df_val = df_annotations_phase_known[df_annotations_phase_known.train_val == \"val\"]"
   ]
  },
  {
   "cell_type": "code",
   "execution_count": 16,
   "id": "d5b6e221",
   "metadata": {},
   "outputs": [],
   "source": [
    "from nltk.corpus import stopwords\n",
    "from nltk.tokenize import RegexpTokenizer\n",
    "\n",
    "from sklearn.ensemble import RandomForestClassifier\n",
    "from sklearn.feature_extraction.text import CountVectorizer, TfidfTransformer\n",
    "from sklearn.metrics import accuracy_score, auc, roc_curve\n",
    "from sklearn.model_selection import cross_validate\n",
    "from sklearn.naive_bayes import MultinomialNB, ComplementNB\n",
    "from sklearn.pipeline import make_pipeline\n",
    "\n",
    "NUM_FEATURES = 1500\n",
    "\n",
    "\n",
    "stops = set(stopwords.words('english')).union(set(stopwords.words('french')))\n",
    "stops.remove(\"both\")\n",
    "stops.remove(\"all\")\n",
    "\n",
    "# Specially engineered regex to include 95%, 95%ci, etc\n",
    "vectoriser = CountVectorizer(lowercase=True,\n",
    "                         stop_words = stops, max_features= NUM_FEATURES,\n",
    "                             ngram_range=[1,2]\n",
    "                            )\n",
    "transformer = TfidfTransformer()\n",
    "\n",
    "nb = MultinomialNB()\n",
    "nb = ComplementNB()\n",
    "model = make_pipeline(vectoriser, transformer, nb)"
   ]
  },
  {
   "cell_type": "code",
   "execution_count": 17,
   "id": "096996a1",
   "metadata": {},
   "outputs": [
    {
     "data": {
      "text/plain": [
       "Pipeline(steps=[('countvectorizer',\n",
       "                 CountVectorizer(max_features=1500, ngram_range=[1, 2],\n",
       "                                 stop_words={'a', 'about', 'above', 'after',\n",
       "                                             'again', 'against', 'ai', 'aie',\n",
       "                                             'aient', 'aies', 'ain', 'ait',\n",
       "                                             'am', 'an', 'and', 'any', 'are',\n",
       "                                             'aren', \"aren't\", 'as', 'at', 'au',\n",
       "                                             'aura', 'aurai', 'auraient',\n",
       "                                             'aurais', 'aurait', 'auras',\n",
       "                                             'aurez', 'auriez', ...})),\n",
       "                ('tfidftransformer', TfidfTransformer()),\n",
       "                ('complementnb', ComplementNB())])"
      ]
     },
     "execution_count": 17,
     "metadata": {},
     "output_type": "execute_result"
    }
   ],
   "source": [
    "model.fit(df_train.text, df_train.phase_clean)"
   ]
  },
  {
   "cell_type": "code",
   "execution_count": 18,
   "id": "e4460873",
   "metadata": {},
   "outputs": [
    {
     "name": "stderr",
     "output_type": "stream",
     "text": [
      "/home/ec2-user/anaconda3/envs/tensorflow_p36/lib/python3.6/site-packages/ipykernel/__main__.py:1: SettingWithCopyWarning: \n",
      "A value is trying to be set on a copy of a slice from a DataFrame.\n",
      "Try using .loc[row_indexer,col_indexer] = value instead\n",
      "\n",
      "See the caveats in the documentation: https://pandas.pydata.org/pandas-docs/stable/user_guide/indexing.html#returning-a-view-versus-a-copy\n",
      "  if __name__ == '__main__':\n"
     ]
    }
   ],
   "source": [
    "df_val[\"y_pred\"]  = model.predict(df_val.text)"
   ]
  },
  {
   "cell_type": "code",
   "execution_count": null,
   "id": "664411f8",
   "metadata": {},
   "outputs": [],
   "source": []
  },
  {
   "cell_type": "code",
   "execution_count": 19,
   "id": "c538a9c6",
   "metadata": {
    "id": "118aef49"
   },
   "outputs": [],
   "source": [
    "phase_ground_truths = df_val.phase_clean\n",
    "pred_phase = df_val[\"y_pred\"]"
   ]
  },
  {
   "cell_type": "code",
   "execution_count": 20,
   "id": "7af17b91",
   "metadata": {
    "id": "73495a5c"
   },
   "outputs": [
    {
     "name": "stdout",
     "output_type": "stream",
     "text": [
      "Phase accuracy 0.5099337748344371\n"
     ]
    }
   ],
   "source": [
    "acc = accuracy_score(phase_ground_truths, pred_phase)\n",
    "print (f\"Phase accuracy {acc}\")"
   ]
  },
  {
   "cell_type": "code",
   "execution_count": 24,
   "id": "ae19c4f5",
   "metadata": {},
   "outputs": [
    {
     "data": {
      "text/plain": [
       "2      395\n",
       "3      249\n",
       "4      126\n",
       "1      108\n",
       "1.5     89\n",
       "0       46\n",
       "2.5     31\n",
       "0.5     13\n",
       "Name: phase_clean, dtype: int64"
      ]
     },
     "execution_count": 24,
     "metadata": {},
     "output_type": "execute_result"
    }
   ],
   "source": [
    "phase_ground_truths.value_counts()"
   ]
  },
  {
   "cell_type": "code",
   "execution_count": 30,
   "id": "8f6d5325",
   "metadata": {},
   "outputs": [
    {
     "name": "stdout",
     "output_type": "stream",
     "text": [
      "['0', '0.5', '1', '1.5', '2', '2.5', '3', '4']\n"
     ]
    },
    {
     "data": {
      "text/plain": [
       "array([[  0,   0,   0,   2,   8,   0,   2,  34],\n",
       "       [  0,   0,   0,   1,   3,   0,   1,   8],\n",
       "       [  0,   0,  48,  12,  19,   0,  17,  12],\n",
       "       [  1,   0,   5,  36,  25,   0,   4,  18],\n",
       "       [  3,   0,  12,   7, 209,   0, 112,  52],\n",
       "       [  0,   0,   0,   0,   4,   0,  14,  13],\n",
       "       [  2,   0,   6,   3,  37,   0, 167,  34],\n",
       "       [  0,   0,   6,   0,   5,   0,  36,  79]])"
      ]
     },
     "execution_count": 30,
     "metadata": {},
     "output_type": "execute_result"
    }
   ],
   "source": [
    "labels = list(sorted(phase_map.values()))\n",
    "from sklearn.metrics import confusion_matrix\n",
    "print (labels)\n",
    "confusion_matrix(phase_ground_truths, pred_phase, labels=labels)\n"
   ]
  },
  {
   "cell_type": "code",
   "execution_count": 21,
   "id": "06baca08",
   "metadata": {
    "id": "775ae91e"
   },
   "outputs": [
    {
     "ename": "AttributeError",
     "evalue": "type object 'ConfusionMatrixDisplay' has no attribute 'from_predictions'",
     "output_type": "error",
     "traceback": [
      "\u001b[0;31m---------------------------------------------------------------------------\u001b[0m",
      "\u001b[0;31mAttributeError\u001b[0m                            Traceback (most recent call last)",
      "\u001b[0;32m<ipython-input-21-f730fd700e47>\u001b[0m in \u001b[0;36m<module>\u001b[0;34m\u001b[0m\n\u001b[0;32m----> 1\u001b[0;31m \u001b[0mConfusionMatrixDisplay\u001b[0m\u001b[0;34m.\u001b[0m\u001b[0mfrom_predictions\u001b[0m\u001b[0;34m(\u001b[0m\u001b[0mphase_ground_truths\u001b[0m\u001b[0;34m,\u001b[0m \u001b[0mpred_phase\u001b[0m\u001b[0;34m)\u001b[0m\u001b[0;34m\u001b[0m\u001b[0;34m\u001b[0m\u001b[0m\n\u001b[0m\u001b[1;32m      2\u001b[0m \u001b[0mplt\u001b[0m\u001b[0;34m.\u001b[0m\u001b[0mxticks\u001b[0m\u001b[0;34m(\u001b[0m\u001b[0mrotation\u001b[0m\u001b[0;34m=\u001b[0m\u001b[0;36m90\u001b[0m\u001b[0;34m)\u001b[0m\u001b[0;34m\u001b[0m\u001b[0;34m\u001b[0m\u001b[0m\n\u001b[1;32m      3\u001b[0m \u001b[0;34m(\u001b[0m\u001b[0;34m\"\"\u001b[0m\u001b[0;34m)\u001b[0m\u001b[0;34m\u001b[0m\u001b[0;34m\u001b[0m\u001b[0m\n",
      "\u001b[0;31mAttributeError\u001b[0m: type object 'ConfusionMatrixDisplay' has no attribute 'from_predictions'"
     ]
    }
   ],
   "source": [
    "ConfusionMatrixDisplay.from_predictions(phase_ground_truths, pred_phase)\n",
    "plt.xticks(rotation=90)\n",
    ";"
   ]
  },
  {
   "cell_type": "code",
   "execution_count": null,
   "id": "9e5cfc5f",
   "metadata": {},
   "outputs": [],
   "source": []
  }
 ],
 "metadata": {
  "colab": {
   "provenance": []
  },
  "kernelspec": {
   "display_name": "conda_tensorflow_p36",
   "language": "python",
   "name": "conda_tensorflow_p36"
  },
  "language_info": {
   "codemirror_mode": {
    "name": "ipython",
    "version": 3
   },
   "file_extension": ".py",
   "mimetype": "text/x-python",
   "name": "python",
   "nbconvert_exporter": "python",
   "pygments_lexer": "ipython3",
   "version": "3.6.13"
  }
 },
 "nbformat": 4,
 "nbformat_minor": 5
}
