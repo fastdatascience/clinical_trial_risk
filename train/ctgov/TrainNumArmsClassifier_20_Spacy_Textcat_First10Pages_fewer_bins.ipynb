{
 "cells": [
  {
   "cell_type": "markdown",
   "id": "2e2430e2",
   "metadata": {
    "colab_type": "text",
    "id": "view-in-github"
   },
   "source": [
    "<a href=\"https://colab.research.google.com/github/fastdatascience/clinical_trial_risk/blob/fixes_nov_2022/train/ctgov/TrainNumArmsClassifier_20_Spacy_Textcat_First10Pages_fewer_bins.ipynb\" target=\"_parent\"><img src=\"https://colab.research.google.com/assets/colab-badge.svg\" alt=\"Open In Colab\"/></a>"
   ]
  },
  {
   "cell_type": "code",
   "execution_count": 1,
   "id": "0557d6c8",
   "metadata": {
    "id": "0557d6c8"
   },
   "outputs": [
    {
     "name": "stderr",
     "output_type": "stream",
     "text": [
      "/media/thomas/642d0db5-2c98-4156-b591-1a3572c5868c/anaconda3/envs/py310/lib/python3.10/site-packages/torch/cuda/__init__.py:83: UserWarning: CUDA initialization: CUDA unknown error - this may be due to an incorrectly set up environment, e.g. changing env variable CUDA_VISIBLE_DEVICES after program start. Setting the available devices to be zero. (Triggered internally at  ../c10/cuda/CUDAFunctions.cpp:109.)\n",
      "  return torch._C._cuda_getDeviceCount() > 0\n",
      "2022-11-18 14:18:35.250705: I tensorflow/core/platform/cpu_feature_guard.cc:193] This TensorFlow binary is optimized with oneAPI Deep Neural Network Library (oneDNN) to use the following CPU instructions in performance-critical operations:  AVX2 FMA\n",
      "To enable them in other operations, rebuild TensorFlow with the appropriate compiler flags.\n",
      "2022-11-18 14:18:40.543626: W tensorflow/stream_executor/platform/default/dso_loader.cc:64] Could not load dynamic library 'libcudart.so.11.0'; dlerror: libcudart.so.11.0: cannot open shared object file: No such file or directory\n",
      "2022-11-18 14:18:40.543695: I tensorflow/stream_executor/cuda/cudart_stub.cc:29] Ignore above cudart dlerror if you do not have a GPU set up on your machine.\n",
      "2022-11-18 14:18:41.024233: E tensorflow/stream_executor/cuda/cuda_blas.cc:2981] Unable to register cuBLAS factory: Attempting to register factory for plugin cuBLAS when one has already been registered\n",
      "2022-11-18 14:19:00.856838: W tensorflow/stream_executor/platform/default/dso_loader.cc:64] Could not load dynamic library 'libnvinfer.so.7'; dlerror: libnvinfer.so.7: cannot open shared object file: No such file or directory\n",
      "2022-11-18 14:19:00.857292: W tensorflow/stream_executor/platform/default/dso_loader.cc:64] Could not load dynamic library 'libnvinfer_plugin.so.7'; dlerror: libnvinfer_plugin.so.7: cannot open shared object file: No such file or directory\n",
      "2022-11-18 14:19:00.857364: W tensorflow/compiler/tf2tensorrt/utils/py_utils.cc:38] TF-TRT Warning: Cannot dlopen some TensorRT libraries. If you would like to use Nvidia GPU with TensorRT, please make sure the missing libraries mentioned above are installed properly.\n",
      "2022-11-18 14:19:22.202248: E tensorflow/stream_executor/cuda/cuda_driver.cc:265] failed call to cuInit: CUDA_ERROR_UNKNOWN: unknown error\n",
      "2022-11-18 14:19:22.202381: I tensorflow/stream_executor/cuda/cuda_diagnostics.cc:169] retrieving CUDA diagnostic information for host: mufasa\n",
      "2022-11-18 14:19:22.202412: I tensorflow/stream_executor/cuda/cuda_diagnostics.cc:176] hostname: mufasa\n",
      "2022-11-18 14:19:22.202706: I tensorflow/stream_executor/cuda/cuda_diagnostics.cc:200] libcuda reported version is: 470.141.3\n",
      "2022-11-18 14:19:22.202809: I tensorflow/stream_executor/cuda/cuda_diagnostics.cc:204] kernel reported version is: 470.141.3\n",
      "2022-11-18 14:19:22.202833: I tensorflow/stream_executor/cuda/cuda_diagnostics.cc:310] kernel version seems to match DSO: 470.141.3\n"
     ]
    }
   ],
   "source": [
    "import spacy\n",
    "import pandas as pd\n",
    "import re\n",
    "import os\n",
    "import sys\n",
    "import pickle as pkl\n",
    "import seaborn as sns\n",
    "from sklearn.metrics import accuracy_score, confusion_matrix\n",
    "from sklearn.metrics import ConfusionMatrixDisplay\n",
    "from sklearn.metrics import mean_absolute_error, mean_squared_error\n",
    "from sklearn.metrics import roc_auc_score\n",
    "from sklearn.metrics import roc_curve, auc\n",
    "from IPython.display import display\n",
    "import matplotlib.pyplot as plt\n",
    "import numpy as np\n",
    "import json\n",
    "\n"
   ]
  },
  {
   "cell_type": "code",
   "execution_count": null,
   "id": "mG8gR8O6QXgX",
   "metadata": {
    "colab": {
     "base_uri": "https://localhost:8080/"
    },
    "id": "mG8gR8O6QXgX",
    "outputId": "c914724c-fb71-49f5-cfaa-22cad8417459"
   },
   "outputs": [
    {
     "name": "stdout",
     "output_type": "stream",
     "text": [
      "Mounted at /content/drive\n"
     ]
    }
   ],
   "source": [
    "from google.colab import drive\n",
    "drive.mount('/content/drive')"
   ]
  },
  {
   "cell_type": "code",
   "execution_count": null,
   "id": "HyXyGuD_P6s7",
   "metadata": {
    "id": "HyXyGuD_P6s7"
   },
   "outputs": [],
   "source": [
    "df_annotations = pd.read_csv(\"/content/drive/MyDrive/data/all_annotations.csv\")\n"
   ]
  },
  {
   "cell_type": "code",
   "execution_count": 2,
   "id": "5360ac3b",
   "metadata": {},
   "outputs": [],
   "source": [
    "df_annotations = pd.read_csv(\"../../data/ctgov/annotations/all_annotations.csv\")\n"
   ]
  },
  {
   "cell_type": "markdown",
   "id": "4b2e7a73",
   "metadata": {
    "id": "4b2e7a73"
   },
   "source": [
    "# Get data"
   ]
  },
  {
   "cell_type": "code",
   "execution_count": null,
   "id": "c8ebd7a5",
   "metadata": {
    "id": "c8ebd7a5"
   },
   "outputs": [],
   "source": [
    "with open(\"/content/drive/MyDrive/data/protocols.pkl.gz\", \"rb\") as f:\n",
    "    file_to_pages = pkl.load(f)"
   ]
  },
  {
   "cell_type": "code",
   "execution_count": 3,
   "id": "94ad0598",
   "metadata": {},
   "outputs": [],
   "source": [
    "with open(\"../../data/ctgov/protocols.pkl.gz\", \"rb\") as f:\n",
    "    file_to_pages = pkl.load(f)"
   ]
  },
  {
   "cell_type": "code",
   "execution_count": 4,
   "id": "6148cb3b",
   "metadata": {
    "id": "6148cb3b"
   },
   "outputs": [],
   "source": [
    "\n",
    "texts = []\n",
    "\n",
    "for i in range(len(df_annotations)):\n",
    "    file_name = df_annotations.file.iloc[i]\n",
    "    \n",
    "    pages= file_to_pages[file_name]\n",
    "    # Limit to first 3 pages because of memory constraints\n",
    "    if len(pages) > 10:\n",
    "      pages = pages[:10]\n",
    "\n",
    "    texts.append(\" \".join(pages))\n",
    "df_annotations[\"text\"] = texts"
   ]
  },
  {
   "cell_type": "code",
   "execution_count": 5,
   "id": "93361b2c",
   "metadata": {
    "id": "93361b2c"
   },
   "outputs": [],
   "source": [
    " del file_to_pages"
   ]
  },
  {
   "cell_type": "code",
   "execution_count": 6,
   "id": "9fbe5bf0",
   "metadata": {
    "id": "9fbe5bf0",
    "scrolled": true
   },
   "outputs": [],
   "source": [
    "df_annotations = df_annotations[~df_annotations.num_arms.isna()]"
   ]
  },
  {
   "cell_type": "code",
   "execution_count": 7,
   "id": "cfac2830",
   "metadata": {
    "colab": {
     "base_uri": "https://localhost:8080/"
    },
    "id": "cfac2830",
    "outputId": "e5e7b4dd-c7f6-4051-cbbc-421f4f8d1fc9"
   },
   "outputs": [
    {
     "data": {
      "text/plain": [
       "2.0     5228\n",
       "1.0     3086\n",
       "3.0     1456\n",
       "4.0      908\n",
       "5.0      315\n",
       "6.0      251\n",
       "7.0       83\n",
       "8.0       80\n",
       "9.0       58\n",
       "10.0      31\n",
       "12.0      27\n",
       "11.0      17\n",
       "13.0      10\n",
       "14.0       8\n",
       "15.0       7\n",
       "18.0       5\n",
       "16.0       4\n",
       "20.0       3\n",
       "17.0       3\n",
       "23.0       2\n",
       "21.0       2\n",
       "29.0       1\n",
       "19.0       1\n",
       "34.0       1\n",
       "38.0       1\n",
       "30.0       1\n",
       "40.0       1\n",
       "22.0       1\n",
       "Name: num_arms, dtype: int64"
      ]
     },
     "execution_count": 7,
     "metadata": {},
     "output_type": "execute_result"
    }
   ],
   "source": [
    "df_annotations[\"num_arms\"].value_counts()"
   ]
  },
  {
   "cell_type": "code",
   "execution_count": 8,
   "id": "yKJyat3PSVkm",
   "metadata": {
    "colab": {
     "base_uri": "https://localhost:8080/"
    },
    "id": "yKJyat3PSVkm",
    "outputId": "9091bb45-0994-4b16-ff58-b56c82b0714d"
   },
   "outputs": [
    {
     "name": "stdout",
     "output_type": "stream",
     "text": [
      "1\n",
      "1\n",
      "2\n",
      "2\n",
      "3\n",
      "40\n"
     ]
    },
    {
     "name": "stderr",
     "output_type": "stream",
     "text": [
      "/tmp/ipykernel_241877/1062825910.py:2: DeprecationWarning: `np.float` is a deprecated alias for the builtin `float`. To silence this warning, use `float` by itself. Doing this will not modify any behavior and is safe. If you specifically wanted the numpy scalar type, use `np.float64` here.\n",
      "Deprecated in NumPy 1.20; for more details and guidance: https://numpy.org/devdocs/release/1.20.0-notes.html#deprecations\n",
      "  print (int(np.float(i)))\n"
     ]
    }
   ],
   "source": [
    "for i in np.quantile(df_annotations[\"num_arms\"], [0, 0.2, 0.4, 0.6, 0.8, 1]):\n",
    "  print (int(np.float(i)))"
   ]
  },
  {
   "cell_type": "code",
   "execution_count": 9,
   "id": "EhFnhl7tNHeb",
   "metadata": {
    "id": "EhFnhl7tNHeb"
   },
   "outputs": [],
   "source": [
    "def get_num_arms_clean(num):\n",
    "    if pd.isna(num):\n",
    "        return None\n",
    "    if num >= 3:\n",
    "        return \"3+\"\n",
    "    return str(int(num))\n",
    "df_annotations[\"num_arms_clean\"] = df_annotations[\"num_arms\"].apply(get_num_arms_clean)"
   ]
  },
  {
   "cell_type": "code",
   "execution_count": 10,
   "id": "068abf18",
   "metadata": {
    "colab": {
     "base_uri": "https://localhost:8080/"
    },
    "id": "068abf18",
    "outputId": "e126c98a-024a-4291-f962-5c789eee063d"
   },
   "outputs": [
    {
     "data": {
      "text/plain": [
       "2     5228\n",
       "3+    3277\n",
       "1     3086\n",
       "Name: num_arms_clean, dtype: int64"
      ]
     },
     "execution_count": 10,
     "metadata": {},
     "output_type": "execute_result"
    }
   ],
   "source": [
    "df_annotations[\"num_arms_clean\"].value_counts()"
   ]
  },
  {
   "cell_type": "code",
   "execution_count": 11,
   "id": "tg_Q5ZLIGknP",
   "metadata": {
    "colab": {
     "base_uri": "https://localhost:8080/"
    },
    "id": "tg_Q5ZLIGknP",
    "outputId": "21c0ba8b-2d30-47de-f5e6-0bc23ab2454e"
   },
   "outputs": [
    {
     "data": {
      "text/plain": [
       "['1', '2', '3+']"
      ]
     },
     "execution_count": 11,
     "metadata": {},
     "output_type": "execute_result"
    }
   ],
   "source": [
    "labels = list(sorted(set(df_annotations[\"num_arms_clean\"]), key =lambda x : int(re.sub(r'\\D.*', '', x))))\n",
    "labels"
   ]
  },
  {
   "cell_type": "code",
   "execution_count": null,
   "id": "8YqH-b1AHVRy",
   "metadata": {
    "colab": {
     "base_uri": "https://localhost:8080/"
    },
    "id": "8YqH-b1AHVRy",
    "outputId": "9dafba02-c959-425c-96b3-6a3e1499acf8"
   },
   "outputs": [
    {
     "name": "stdout",
     "output_type": "stream",
     "text": [
      "0 11591\n",
      "100 11591\n",
      "200 11591\n",
      "300 11591\n",
      "400 11591\n",
      "500 11591\n",
      "600 11591\n",
      "700 11591\n",
      "800 11591\n",
      "900 11591\n",
      "1000 11591\n",
      "1100 11591\n",
      "1200 11591\n",
      "1300 11591\n",
      "1400 11591\n",
      "1500 11591\n",
      "1600 11591\n",
      "1700 11591\n",
      "1800 11591\n",
      "1900 11591\n",
      "2000 11591\n",
      "2100 11591\n",
      "2200 11591\n",
      "2300 11591\n",
      "2400 11591\n",
      "2500 11591\n",
      "2600 11591\n",
      "2700 11591\n",
      "2800 11591\n",
      "2900 11591\n",
      "3000 11591\n",
      "3100 11591\n",
      "3200 11591\n",
      "3300 11591\n",
      "3400 11591\n",
      "3500 11591\n",
      "3600 11591\n",
      "3700 11591\n",
      "3800 11591\n",
      "3900 11591\n",
      "4000 11591\n",
      "4100 11591\n",
      "4200 11591\n",
      "4300 11591\n",
      "4400 11591\n",
      "4500 11591\n",
      "4600 11591\n",
      "4700 11591\n",
      "4800 11591\n",
      "4900 11591\n",
      "5000 11591\n",
      "5100 11591\n",
      "5200 11591\n",
      "5300 11591\n",
      "5400 11591\n",
      "5500 11591\n",
      "5600 11591\n",
      "5700 11591\n",
      "5800 11591\n",
      "5900 11591\n",
      "6000 11591\n",
      "6100 11591\n",
      "6200 11591\n",
      "6300 11591\n",
      "6400 11591\n",
      "6500 11591\n",
      "6600 11591\n",
      "6700 11591\n",
      "6800 11591\n",
      "6900 11591\n",
      "7000 11591\n",
      "7100 11591\n",
      "7200 11591\n",
      "7300 11591\n",
      "7400 11591\n",
      "7500 11591\n",
      "7600 11591\n",
      "7700 11591\n",
      "7800 11591\n",
      "7900 11591\n",
      "8000 11591\n",
      "8100 11591\n",
      "8200 11591\n",
      "8300 11591\n",
      "8400 11591\n",
      "8500 11591\n",
      "8600 11591\n",
      "8700 11591\n",
      "8800 11591\n",
      "8900 11591\n",
      "9000 11591\n",
      "9100 11591\n",
      "9200 11591\n",
      "9300 11591\n",
      "9400 11591\n",
      "9500 11591\n",
      "9600 11591\n",
      "9700 11591\n",
      "9800 11591\n",
      "9900 11591\n",
      "10000 11591\n",
      "10100 11591\n",
      "10200 11591\n",
      "10300 11591\n",
      "10400 11591\n",
      "10500 11591\n",
      "10600 11591\n",
      "10700 11591\n",
      "10800 11591\n",
      "10900 11591\n",
      "11000 11591\n",
      "11100 11591\n",
      "11200 11591\n",
      "11300 11591\n",
      "11400 11591\n",
      "11500 11591\n"
     ]
    }
   ],
   "source": [
    "import spacy\n",
    "nlp = spacy.blank(\"en\")\n",
    "from spacy.tokens import DocBin\n",
    "\n",
    "docs_train = []\n",
    "for i in range(10):\n",
    "  docs_train.append(DocBin())\n",
    "docs_val = DocBin()\n",
    "\n",
    "for idx in range(len(df_annotations)):\n",
    "  if idx % 100 == 0:\n",
    "    print (idx, len(df_annotations))\n",
    "  if df_annotations.train_val.iloc[idx] == \"train\":\n",
    "    docs_list = docs_train[idx % 10]\n",
    "  else:\n",
    "    docs_list = docs_val\n",
    "  text = str(df_annotations.text.iloc[idx])\n",
    "  if len(text) > 100000:\n",
    "      text = text[:100000]\n",
    "  doc = nlp(text)\n",
    "\n",
    "  cats = {}\n",
    "  for a in labels:\n",
    "      cats[a] = 0\n",
    "  if pd.isna(df_annotations.num_arms_clean.iloc[idx]):\n",
    "    continue\n",
    "  cats[df_annotations.num_arms_clean.iloc[idx]] = 1\n",
    "  doc.cats = cats\n",
    "\n",
    "  docs_list.add(doc)"
   ]
  },
  {
   "cell_type": "code",
   "execution_count": null,
   "id": "9gLDu1qFTxls",
   "metadata": {
    "id": "9gLDu1qFTxls"
   },
   "outputs": [],
   "source": [
    "!mkdir train.spacy\n",
    "!mkdir /content/drive/MyDrive/data/arms_20_train.spacy\n"
   ]
  },
  {
   "cell_type": "code",
   "execution_count": null,
   "id": "EhS_f_Z3TsRG",
   "metadata": {
    "id": "EhS_f_Z3TsRG"
   },
   "outputs": [],
   "source": [
    "for idx, doc_bin_train in enumerate(docs_train):\n",
    "  doc_bin_train.to_disk(f\"train.spacy/train_doc_bin{idx}.spacy\")\n",
    "  doc_bin_train.to_disk(f\"/content/drive/MyDrive/data/arms_20_train.spacy/train_doc_bin{idx}.spacy\")"
   ]
  },
  {
   "cell_type": "code",
   "execution_count": null,
   "id": "L6llzX4NVxT6",
   "metadata": {
    "colab": {
     "base_uri": "https://localhost:8080/"
    },
    "id": "L6llzX4NVxT6",
    "outputId": "ef69f6c7-ce72-4c29-d328-f84d7c93ce0f"
   },
   "outputs": [
    {
     "name": "stdout",
     "output_type": "stream",
     "text": [
      "train_doc_bin0.spacy  train_doc_bin4.spacy  train_doc_bin8.spacy\n",
      "train_doc_bin1.spacy  train_doc_bin5.spacy  train_doc_bin9.spacy\n",
      "train_doc_bin2.spacy  train_doc_bin6.spacy\n",
      "train_doc_bin3.spacy  train_doc_bin7.spacy\n"
     ]
    }
   ],
   "source": [
    "!ls /content/drive/MyDrive/data/arms_20_train.spacy"
   ]
  },
  {
   "cell_type": "code",
   "execution_count": null,
   "id": "Ld9Qv0nuQ_V1",
   "metadata": {
    "id": "Ld9Qv0nuQ_V1"
   },
   "outputs": [],
   "source": [
    "docs_val.to_disk(\"dev.spacy\")"
   ]
  },
  {
   "cell_type": "code",
   "execution_count": null,
   "id": "YkMG6YPeRB2i",
   "metadata": {
    "id": "YkMG6YPeRB2i"
   },
   "outputs": [],
   "source": [
    "docs_val.to_disk(\"/content/drive/MyDrive/data/arms_20_dev.spacy\")"
   ]
  },
  {
   "cell_type": "code",
   "execution_count": null,
   "id": "6b88f1c9",
   "metadata": {
    "colab": {
     "base_uri": "https://localhost:8080/"
    },
    "id": "6b88f1c9",
    "outputId": "c7e56a5d-2b0f-49a1-e6cf-9285c8566375"
   },
   "outputs": [
    {
     "name": "stdout",
     "output_type": "stream",
     "text": [
      "\u001b[38;5;2m✔ Created output directory:\n",
      "/content/drive/MyDrive/data/output_arms_20\u001b[0m\n",
      "\u001b[38;5;4mℹ Saving to output directory:\n",
      "/content/drive/MyDrive/data/output_arms_20\u001b[0m\n",
      "\u001b[38;5;4mℹ Using GPU: 0\u001b[0m\n",
      "\u001b[1m\n",
      "=========================== Initializing pipeline ===========================\u001b[0m\n",
      "[2022-11-18 10:56:48,354] [INFO] Set up nlp object from config\n",
      "INFO:spacy:Set up nlp object from config\n",
      "[2022-11-18 10:56:48,365] [INFO] Pipeline: ['textcat']\n",
      "INFO:spacy:Pipeline: ['textcat']\n",
      "[2022-11-18 10:56:48,368] [INFO] Created vocabulary\n",
      "INFO:spacy:Created vocabulary\n",
      "[2022-11-18 10:56:48,369] [INFO] Finished initializing nlp object\n",
      "INFO:spacy:Finished initializing nlp object\n",
      "[2022-11-18 11:06:35,178] [INFO] Initialized pipeline components: ['textcat']\n",
      "INFO:spacy:Initialized pipeline components: ['textcat']\n",
      "\u001b[38;5;2m✔ Initialized pipeline\u001b[0m\n",
      "\u001b[1m\n",
      "============================= Training pipeline =============================\u001b[0m\n",
      "\u001b[38;5;4mℹ Pipeline: ['textcat']\u001b[0m\n",
      "\u001b[38;5;4mℹ Initial learn rate: 0.0\u001b[0m\n",
      "E    #       LOSS TEXTCAT  CATS_SCORE  SCORE \n",
      "---  ------  ------------  ----------  ------\n",
      "tcmalloc: large alloc 1073750016 bytes == 0x7f3eba2da000 @  0x7f42ee5fe2a4 0x58ead6 0x441ff3 0x5d1f81 0x5d2306 0x58f62c 0x5105e2 0x58fd37 0x50ca37 0x58fd37 0x50ca37 0x4d01b4 0x50cb8d 0x4d01b4 0x50cb8d 0x4d01b4 0x5a04c4 0x5a2ed4 0x5909f6 0x510280 0x5b575e 0x58ff2e 0x50ca37 0x5b575e 0x58ff2e 0x50c4fc 0x4d01b4 0x50cb8d 0x5b575e 0x58ff2e 0x50d482\n",
      "  0       0          0.22        0.00    0.00\n",
      "  0     200         53.79       19.93    0.20\n",
      "  0     400         49.38       21.05    0.21\n",
      "  1     600         43.60       31.49    0.31\n",
      "  1     800         38.98       28.61    0.29\n",
      "  2    1000         40.69       33.80    0.34\n",
      "  2    1200         27.46       33.74    0.34\n",
      "  2    1400         29.59       33.36    0.33\n",
      "  3    1600         21.03       47.17    0.47\n",
      "  3    1800         21.04       47.48    0.47\n",
      "  4    2000         19.13       43.54    0.44\n",
      "  4    2200         13.30       43.59    0.44\n",
      "  4    2400         15.45       43.92    0.44\n",
      "  5    2600         13.19       48.20    0.48\n",
      "  5    2800         13.26       46.20    0.46\n"
     ]
    }
   ],
   "source": [
    "!python -m spacy train ./spacy_textcat_is_international_11.cfg --output /content/drive/MyDrive/data/output_arms_20 --paths.train /content/drive/MyDrive/data/arms_20_train.spacy --paths.dev  /content/drive/MyDrive/data/arms_20_dev.spacy --gpu-id 0"
   ]
  },
  {
   "cell_type": "code",
   "execution_count": null,
   "id": "RA18XmbkRge_",
   "metadata": {
    "id": "RA18XmbkRge_"
   },
   "outputs": [],
   "source": [
    "import spacy\n",
    "nlp = spacy.load(\"/content/drive/MyDrive/data/output_arms_20/model-best\")"
   ]
  },
  {
   "cell_type": "code",
   "execution_count": 12,
   "id": "aeb9b587",
   "metadata": {},
   "outputs": [
    {
     "name": "stderr",
     "output_type": "stream",
     "text": [
      "/media/thomas/642d0db5-2c98-4156-b591-1a3572c5868c/anaconda3/envs/py310/lib/python3.10/site-packages/spacy/util.py:865: UserWarning: [W095] Model 'en_pipeline' (0.0.0) was trained with spaCy v3.4 and may not be 100% compatible with the current version (3.4.1). If you see errors or degraded performance, download a newer compatible model or retrain your custom model with the current spaCy version. For more details and available updates, run: python -m spacy validate\n",
      "  warnings.warn(warn_msg)\n"
     ]
    }
   ],
   "source": [
    "import spacy\n",
    "nlp = spacy.load(\"/media/thomas/642d0db5-2c98-4156-b591-1a3572c5868c/projects_client/clinical_trial_risk/front_end/models/spacy-textcat-arms-20-model-best\")"
   ]
  },
  {
   "cell_type": "code",
   "execution_count": 13,
   "id": "i6kKqURLRmk4",
   "metadata": {
    "id": "i6kKqURLRmk4"
   },
   "outputs": [],
   "source": [
    "df_val = df_annotations[df_annotations.train_val==\"val\"]\n",
    "\n",
    "predictions = []\n",
    "for idx in range(len(df_val)):\n",
    "    doc = nlp(df_val.text.apply(str).iloc[idx])\n",
    "    predictions.append(doc.cats)"
   ]
  },
  {
   "cell_type": "code",
   "execution_count": 14,
   "id": "sh2k1WwZRqqn",
   "metadata": {
    "id": "sh2k1WwZRqqn"
   },
   "outputs": [],
   "source": [
    "# pred_proba = []\n",
    "# for idx in range(len(df_val)):\n",
    "#     pred_proba.append([predictions[idx][a] for a in range(num_classes)])"
   ]
  },
  {
   "cell_type": "code",
   "execution_count": 15,
   "id": "WzVdvY9tR84X",
   "metadata": {
    "id": "WzVdvY9tR84X"
   },
   "outputs": [],
   "source": [
    "predictions = []\n",
    "for idx in range(len(df_val)):\n",
    "    doc = nlp(df_val.text.apply(str).iloc[idx])\n",
    "    predictions.append(doc.cats)"
   ]
  },
  {
   "cell_type": "code",
   "execution_count": 16,
   "id": "68ebd9f0",
   "metadata": {
    "id": "68ebd9f0",
    "scrolled": true
   },
   "outputs": [
    {
     "name": "stderr",
     "output_type": "stream",
     "text": [
      "/tmp/ipykernel_241877/487073676.py:1: SettingWithCopyWarning: \n",
      "A value is trying to be set on a copy of a slice from a DataFrame.\n",
      "Try using .loc[row_indexer,col_indexer] = value instead\n",
      "\n",
      "See the caveats in the documentation: https://pandas.pydata.org/pandas-docs/stable/user_guide/indexing.html#returning-a-view-versus-a-copy\n",
      "  df_val[\"y_pred\"] = [max(p, key=p.get) for p in predictions]\n"
     ]
    }
   ],
   "source": [
    "df_val[\"y_pred\"] = [max(p, key=p.get) for p in predictions]"
   ]
  },
  {
   "cell_type": "code",
   "execution_count": 17,
   "id": "118aef49",
   "metadata": {
    "id": "118aef49"
   },
   "outputs": [],
   "source": [
    "num_arms_ground_truths = df_val.num_arms_clean\n",
    "pred_num_arms = df_val[\"y_pred\"]"
   ]
  },
  {
   "cell_type": "code",
   "execution_count": 18,
   "id": "73495a5c",
   "metadata": {
    "id": "73495a5c"
   },
   "outputs": [
    {
     "name": "stdout",
     "output_type": "stream",
     "text": [
      "Num arms accuracy 0.5160984848484849\n"
     ]
    }
   ],
   "source": [
    "acc = accuracy_score(num_arms_ground_truths, pred_num_arms)\n",
    "print (f\"Num arms accuracy {acc}\")"
   ]
  },
  {
   "cell_type": "code",
   "execution_count": 19,
   "id": "775ae91e",
   "metadata": {
    "id": "775ae91e"
   },
   "outputs": [
    {
     "data": {
      "text/plain": [
       "''"
      ]
     },
     "execution_count": 19,
     "metadata": {},
     "output_type": "execute_result"
    },
    {
     "data": {
      "image/png": "[encoded data removed]",
      "text/plain": [
       "<Figure size 640x480 with 2 Axes>"
      ]
     },
     "metadata": {},
     "output_type": "display_data"
    }
   ],
   "source": [
    "ConfusionMatrixDisplay.from_predictions(num_arms_ground_truths, pred_num_arms, labels=labels)\n",
    "plt.xticks(rotation=90)\n",
    ";"
   ]
  },
  {
   "cell_type": "code",
   "execution_count": 20,
   "id": "16527f52",
   "metadata": {
    "id": "16527f52"
   },
   "outputs": [
    {
     "name": "stdout",
     "output_type": "stream",
     "text": [
      "Num arms ROC AUC 0.6972524502315086 for 1 arms\n",
      "Num arms ROC AUC 0.6149460431654676 for 2 arms\n",
      "Num arms ROC AUC 0.6531412838191457 for 3+ arms\n",
      "Average 0.6551132590720407\n"
     ]
    }
   ],
   "source": [
    "all_aucs = []\n",
    "from sklearn.metrics import roc_auc_score\n",
    "for i in labels:\n",
    "  roc_auc = roc_auc_score(num_arms_ground_truths == i, [p[i] for p in predictions])\n",
    "  print (f\"Num arms ROC AUC {roc_auc} for {i} arms\")\n",
    "  all_aucs.append(roc_auc)\n",
    "print (\"Average\", np.mean(all_aucs))"
   ]
  },
  {
   "cell_type": "code",
   "execution_count": 21,
   "id": "bvS_8GcTMgCl",
   "metadata": {
    "id": "bvS_8GcTMgCl"
   },
   "outputs": [
    {
     "data": {
      "image/png": "[encoded data removed]",
      "text/plain": [
       "<Figure size 640x480 with 1 Axes>"
      ]
     },
     "metadata": {},
     "output_type": "display_data"
    }
   ],
   "source": [
    "plt.figure()\n",
    "lw = 2\n",
    "    \n",
    "for i in labels:\n",
    "    fpr, tpr, _ = roc_curve(num_arms_ground_truths == i, [p[i] for p in predictions])\n",
    "    roc_auc = auc(fpr, tpr)\n",
    "    plt.plot(\n",
    "        fpr,\n",
    "        tpr,\n",
    "        # color=\"darkorange\",\n",
    "        lw=lw,\n",
    "        label=f\"ROC curve {i} arms (area = {roc_auc:0.2f})\"\n",
    "    )\n",
    "    plt.plot([0, 1], [0, 1], color=\"gray\", alpha=0.5, lw=lw, linestyle=\"--\")\n",
    "plt.xlim([0.0, 1.0])\n",
    "plt.ylim([0.0, 1.05])\n",
    "plt.xlabel(\"False Positive Rate\")\n",
    "plt.ylabel(\"True Positive Rate\")\n",
    "plt.title(\"Receiver operating characteristic example\")\n",
    "plt.legend(loc=\"lower right\")\n",
    "plt.show()"
   ]
  },
  {
   "cell_type": "code",
   "execution_count": null,
   "id": "W7qDw2rgSHKj",
   "metadata": {
    "id": "W7qDw2rgSHKj"
   },
   "outputs": [],
   "source": []
  },
  {
   "cell_type": "code",
   "execution_count": null,
   "id": "cafb87d2",
   "metadata": {},
   "outputs": [],
   "source": []
  }
 ],
 "metadata": {
  "colab": {
   "include_colab_link": true,
   "provenance": []
  },
  "gpuClass": "standard",
  "kernelspec": {
   "display_name": "Python [conda env:py310] *",
   "language": "python",
   "name": "conda-env-py310-py"
  },
  "language_info": {
   "codemirror_mode": {
    "name": "ipython",
    "version": 3
   },
   "file_extension": ".py",
   "mimetype": "text/x-python",
   "name": "python",
   "nbconvert_exporter": "python",
   "pygments_lexer": "ipython3",
   "version": "3.10.4"
  }
 },
 "nbformat": 4,
 "nbformat_minor": 5
}
