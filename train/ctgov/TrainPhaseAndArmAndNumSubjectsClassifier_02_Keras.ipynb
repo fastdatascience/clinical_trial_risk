{
  "cells": [
    {
      "cell_type": "markdown",
      "metadata": {
        "id": "view-in-github",
        "colab_type": "text"
      },
      "source": [
        "<a href=\"https://colab.research.google.com/github/fastdatascience/clinical_trial_risk/blob/fixes_nov_2022/train/ctgov/TrainPhaseAndArmAndNumSubjectsClassifier_02_Keras.ipynb\" target=\"_parent\"><img src=\"https://colab.research.google.com/assets/colab-badge.svg\" alt=\"Open In Colab\"/></a>"
      ]
    },
    {
      "cell_type": "code",
      "execution_count": 1,
      "id": "ad812236",
      "metadata": {
        "id": "ad812236"
      },
      "outputs": [],
      "source": [
        "import pandas as pd\n",
        "import re\n",
        "import os\n",
        "import sys\n",
        "import pickle as pkl\n",
        "import seaborn as sns\n",
        "from sklearn.metrics import accuracy_score, confusion_matrix\n",
        "from sklearn.metrics import ConfusionMatrixDisplay\n",
        "from sklearn.metrics import mean_absolute_error, mean_squared_error\n",
        "from sklearn.metrics import roc_auc_score\n",
        "from sklearn.metrics import roc_curve, auc\n",
        "from IPython.display import display\n",
        "import matplotlib.pyplot as plt\n",
        "import numpy as np\n",
        "import json\n",
        "\n",
        "# df_annotations = pd.read_csv(\"all_annotations.csv\")\n"
      ]
    },
    {
      "cell_type": "code",
      "source": [],
      "metadata": {
        "id": "2NNBbnc0JzF2"
      },
      "id": "2NNBbnc0JzF2",
      "execution_count": 1,
      "outputs": []
    },
    {
      "cell_type": "markdown",
      "id": "e7ea7d33",
      "metadata": {
        "id": "e7ea7d33"
      },
      "source": [
        "# Get data"
      ]
    },
    {
      "cell_type": "code",
      "execution_count": 2,
      "id": "284b9a07",
      "metadata": {
        "id": "284b9a07"
      },
      "outputs": [],
      "source": [
        "# with open(\"protocols.pkl.gz\", \"rb\") as f:\n",
        "#     file_to_pages = pkl.load(f)"
      ]
    },
    {
      "cell_type": "code",
      "execution_count": 3,
      "id": "91013de0",
      "metadata": {
        "id": "91013de0"
      },
      "outputs": [],
      "source": [
        "# import spacy\n",
        "# nlp = spacy.blank(\"en\")"
      ]
    },
    {
      "cell_type": "code",
      "execution_count": 4,
      "id": "65956b92",
      "metadata": {
        "id": "65956b92",
        "scrolled": true
      },
      "outputs": [],
      "source": [
        "# texts = []\n",
        "\n",
        "# for i in range(len(df_annotations)):\n",
        "#     file_name = df_annotations.file.iloc[i]\n",
        "    \n",
        "#     pages= file_to_pages[file_name]\n",
        "    \n",
        "#     text = \"\"\n",
        "#     for page in pages:\n",
        "#         doc = nlp(page)\n",
        "        \n",
        "#         is_include = [False] * len(doc)\n",
        "#         for tok in doc:\n",
        "#             if tok.text.lower() in {\"phase\"}:\n",
        "#                 for token_index in range(tok.i - 20, tok.i + 20):\n",
        "#                     if token_index >= 0 and token_index < len(doc):\n",
        "#                         is_include[token_index] = True\n",
        "        \n",
        "#         for token_index in range(len(doc)):\n",
        "#             if is_include[token_index]:\n",
        "#                 text += doc[token_index].text + doc[token_index].whitespace_\n",
        "                \n",
        "                \n",
        "#     if text == \"\":\n",
        "#         print (\"nothing found\", file_name, df_annotations.phase.iloc[i])\n",
        "#         text = \" \".join(pages)\n",
        "#         if len(text) > 100000:\n",
        "#             text = text[:100000]\n",
        "#     else:\n",
        "#         print (\"found\", file_name, df_annotations.phase.iloc[i])\n",
        "\n",
        "#     texts.append(text)\n",
        "# df_annotations[\"text\"] = texts"
      ]
    },
    {
      "cell_type": "code",
      "execution_count": 5,
      "id": "76a39c5b",
      "metadata": {
        "id": "76a39c5b"
      },
      "outputs": [],
      "source": [
        "# df_annotations.to_csv(\"filtered_for_phase.csv.bz2\")"
      ]
    },
    {
      "cell_type": "code",
      "source": [
        "from google.colab import drive\n",
        "drive.mount('/content/drive')"
      ],
      "metadata": {
        "colab": {
          "base_uri": "https://localhost:8080/"
        },
        "id": "xCe1anFkGSrt",
        "outputId": "875a72fb-8920-4334-b7a5-add549b8d85a"
      },
      "id": "xCe1anFkGSrt",
      "execution_count": 6,
      "outputs": [
        {
          "output_type": "stream",
          "name": "stdout",
          "text": [
            "Mounted at /content/drive\n"
          ]
        }
      ]
    },
    {
      "cell_type": "code",
      "source": [
        "df_annotations= pd.read_csv(\"/content/drive/MyDrive/data/filtered_for_phase_arms_subjects.csv.bz2\")"
      ],
      "metadata": {
        "id": "FdcTHlHsGWnk"
      },
      "id": "FdcTHlHsGWnk",
      "execution_count": 7,
      "outputs": []
    },
    {
      "cell_type": "code",
      "source": [
        "df_annotations.text = df_annotations.text.apply(lambda t : t[:10000] if len(t) > 10000 else t)"
      ],
      "metadata": {
        "id": "wGilqqbTi76N"
      },
      "id": "wGilqqbTi76N",
      "execution_count": 8,
      "outputs": []
    },
    {
      "cell_type": "markdown",
      "source": [
        "Override the subjects column with more up to date data"
      ],
      "metadata": {
        "id": "XP9xzQDxODSO"
      },
      "id": "XP9xzQDxODSO"
    },
    {
      "cell_type": "code",
      "source": [
        "annots_with_subject = pd.read_csv(\"/content/drive/MyDrive/data/all_annotations.csv\")"
      ],
      "metadata": {
        "id": "QqYlj_tFJ0Go"
      },
      "id": "QqYlj_tFJ0Go",
      "execution_count": 9,
      "outputs": []
    },
    {
      "cell_type": "code",
      "source": [
        "(~df_annotations.num_subjects.isna()).sum(), (~annots_with_subject.num_subjects.isna()).sum()"
      ],
      "metadata": {
        "colab": {
          "base_uri": "https://localhost:8080/"
        },
        "id": "ha07Zb55KOfa",
        "outputId": "4d334742-a092-40b1-ad0b-758341f15bef"
      },
      "id": "ha07Zb55KOfa",
      "execution_count": 10,
      "outputs": [
        {
          "output_type": "execute_result",
          "data": {
            "text/plain": [
              "(418, 11920)"
            ]
          },
          "metadata": {},
          "execution_count": 10
        }
      ]
    },
    {
      "cell_type": "code",
      "source": [
        "df_annotations[\"num_subjects\"] = annots_with_subject[\"num_subjects\"]"
      ],
      "metadata": {
        "id": "gHWOafBCKCQD"
      },
      "id": "gHWOafBCKCQD",
      "execution_count": 11,
      "outputs": []
    },
    {
      "cell_type": "code",
      "source": [
        "def get_num_subjects_clean(num):\n",
        "    if pd.isna(num):\n",
        "        return None\n",
        "    if num >= 10000:\n",
        "        return \"10000+\"\n",
        "    if num >= 1000:\n",
        "        return \"1000+\"\n",
        "    if num >= 500:\n",
        "        return \"500+\"\n",
        "    if num >= 200:\n",
        "        return \"200+\"\n",
        "    if num >= 100:\n",
        "        return \"100+\"\n",
        "    if num >= 50:\n",
        "        return \"50+\"\n",
        "    if num >= 25:\n",
        "        return \"25+\"\n",
        "    return \"1-24\"\n",
        "df_annotations[\"num_subjects_clean\"] = df_annotations[\"num_subjects\"].apply(get_num_subjects_clean)"
      ],
      "metadata": {
        "id": "mZ82V337HouW"
      },
      "id": "mZ82V337HouW",
      "execution_count": 12,
      "outputs": []
    },
    {
      "cell_type": "code",
      "source": [
        "df_annotations[\"num_subjects_clean\"].value_counts()"
      ],
      "metadata": {
        "colab": {
          "base_uri": "https://localhost:8080/"
        },
        "id": "cKMRrJjQIF7U",
        "outputId": "0d60cc69-4de4-4562-c364-691c1d8542c7"
      },
      "id": "cKMRrJjQIF7U",
      "execution_count": 13,
      "outputs": [
        {
          "output_type": "execute_result",
          "data": {
            "text/plain": [
              "1-24      2980\n",
              "25+       2119\n",
              "50+       2016\n",
              "100+      1674\n",
              "200+      1656\n",
              "500+       816\n",
              "1000+      547\n",
              "10000+     112\n",
              "Name: num_subjects_clean, dtype: int64"
            ]
          },
          "metadata": {},
          "execution_count": 13
        }
      ]
    },
    {
      "cell_type": "code",
      "execution_count": 14,
      "id": "89e1c4f0",
      "metadata": {
        "id": "89e1c4f0"
      },
      "outputs": [],
      "source": [
        "# df_annotations = pd.read_csv(\"filtered_for_phase.csv.bz2\")"
      ]
    },
    {
      "cell_type": "code",
      "execution_count": 15,
      "id": "a12043ac",
      "metadata": {
        "id": "a12043ac"
      },
      "outputs": [],
      "source": [
        "# del file_to_pages"
      ]
    },
    {
      "cell_type": "code",
      "execution_count": 16,
      "id": "bbe0ba77",
      "metadata": {
        "id": "bbe0ba77"
      },
      "outputs": [],
      "source": [
        "phase_map = {\"Phase 2\":\"2\",\n",
        "\"Phase 3\":\"3\",\n",
        "\"Phase 4\":\"4\",\n",
        "\"Phase 1\":\"1\",\n",
        "\"Phase 1/Phase 2\":\"1.5\",\n",
        "\"Not Applicable\":\"0\",\n",
        "\"Phase 2/Phase 3\":\"2.5\",\n",
        "\"Early Phase 1\":\"0.5\"}\n",
        "df_annotations[\"phase_clean\"] = df_annotations[\"phase\"].apply(lambda x : phase_map.get(x, None))"
      ]
    },
    {
      "cell_type": "code",
      "source": [
        "phase_clean_map = {}\n",
        "for idx, val in enumerate(sorted(set(phase_map.values()), key = lambda x : float(x))):\n",
        "  phase_clean_map[val] = idx\n",
        "# invert the dictionary\n",
        "phase_lookup = {v: k for k, v in phase_clean_map.items()}\n",
        "\n",
        "phase_list = [phase_lookup[x] for x in sorted(phase_lookup)]\n",
        "phase_list"
      ],
      "metadata": {
        "colab": {
          "base_uri": "https://localhost:8080/"
        },
        "id": "DNjQhXOVrQxj",
        "outputId": "c39bf399-9d21-44b9-9020-8b1a2e2ba8f4"
      },
      "id": "DNjQhXOVrQxj",
      "execution_count": 17,
      "outputs": [
        {
          "output_type": "execute_result",
          "data": {
            "text/plain": [
              "['0', '0.5', '1', '1.5', '2', '2.5', '3', '4']"
            ]
          },
          "metadata": {},
          "execution_count": 17
        }
      ]
    },
    {
      "cell_type": "code",
      "execution_count": 18,
      "id": "f99e999b",
      "metadata": {
        "id": "f99e999b"
      },
      "outputs": [],
      "source": [
        "def get_num_arms_clean(num):\n",
        "    if pd.isna(num):\n",
        "        return None\n",
        "    if num >= 5:\n",
        "        num = 5\n",
        "    return num\n",
        "df_annotations[\"num_arms_clean\"] = df_annotations[\"num_arms\"].apply(get_num_arms_clean)"
      ]
    },
    {
      "cell_type": "markdown",
      "source": [
        "# Begin Keras/TF"
      ],
      "metadata": {
        "id": "Tq8Iseh1e_uQ"
      },
      "id": "Tq8Iseh1e_uQ"
    },
    {
      "cell_type": "code",
      "source": [
        "import numpy as np\n",
        "\n",
        "import tensorflow as tf\n",
        "import tensorflow_hub as hub\n",
        "import tensorflow_datasets as tfds\n",
        "\n",
        "import matplotlib.pyplot as plt\n",
        "\n",
        "print(\"Version: \", tf.__version__)\n",
        "print(\"Eager mode: \", tf.executing_eagerly())\n",
        "print(\"Hub version: \", hub.__version__)\n",
        "print(\"GPU is\", \"available\" if tf.config.list_physical_devices('GPU') else \"NOT AVAILABLE\")"
      ],
      "metadata": {
        "id": "eE1-7kc4ceQP",
        "colab": {
          "base_uri": "https://localhost:8080/"
        },
        "outputId": "6b75de38-af8f-41a0-f5ac-52558de28129"
      },
      "id": "eE1-7kc4ceQP",
      "execution_count": 19,
      "outputs": [
        {
          "output_type": "stream",
          "name": "stdout",
          "text": [
            "Version:  2.9.2\n",
            "Eager mode:  True\n",
            "Hub version:  0.12.0\n",
            "GPU is available\n"
          ]
        }
      ]
    },
    {
      "cell_type": "code",
      "source": [
        "num_subjects_clean_map = {}\n",
        "for idx, val in enumerate(sorted(set(df_annotations[~df_annotations.num_subjects_clean.isna()].num_subjects_clean), key = lambda x : int(re.sub(r'\\D.*$', '', x)))):\n",
        "  num_subjects_clean_map[val] = idx"
      ],
      "metadata": {
        "id": "0HHgTj8Qfub9"
      },
      "id": "0HHgTj8Qfub9",
      "execution_count": 20,
      "outputs": []
    },
    {
      "cell_type": "code",
      "source": [
        "# invert the dictionary\n",
        "num_subjects_lookup = {v: k for k, v in num_subjects_clean_map.items()}"
      ],
      "metadata": {
        "id": "6jQQHMvxkC2l"
      },
      "id": "6jQQHMvxkC2l",
      "execution_count": 21,
      "outputs": []
    },
    {
      "cell_type": "code",
      "source": [
        "num_subjects_list = [num_subjects_lookup[x] for x in sorted(num_subjects_lookup)]\n",
        "num_subjects_list"
      ],
      "metadata": {
        "colab": {
          "base_uri": "https://localhost:8080/"
        },
        "id": "C6fm756mlUSk",
        "outputId": "5f75a2c2-0ef7-4746-d248-03f42b6734e6"
      },
      "id": "C6fm756mlUSk",
      "execution_count": 22,
      "outputs": [
        {
          "output_type": "execute_result",
          "data": {
            "text/plain": [
              "['1-24', '25+', '50+', '100+', '200+', '500+', '1000+', '10000+']"
            ]
          },
          "metadata": {},
          "execution_count": 22
        }
      ]
    },
    {
      "cell_type": "code",
      "source": [
        "num_subjects_clean_map"
      ],
      "metadata": {
        "colab": {
          "base_uri": "https://localhost:8080/"
        },
        "id": "sDIKJA57hR-K",
        "outputId": "ac07b9e7-b500-44f3-9f80-e8399696590a"
      },
      "id": "sDIKJA57hR-K",
      "execution_count": 23,
      "outputs": [
        {
          "output_type": "execute_result",
          "data": {
            "text/plain": [
              "{'1-24': 0,\n",
              " '25+': 1,\n",
              " '50+': 2,\n",
              " '100+': 3,\n",
              " '200+': 4,\n",
              " '500+': 5,\n",
              " '1000+': 6,\n",
              " '10000+': 7}"
            ]
          },
          "metadata": {},
          "execution_count": 23
        }
      ]
    },
    {
      "cell_type": "code",
      "source": [
        "def get_one_hot_num_subjects(x):\n",
        "  a = [0] * len(num_subjects_clean_map)\n",
        "  if x is None:\n",
        "    return a\n",
        "  a[num_subjects_clean_map[x]] = 1\n",
        "  return a"
      ],
      "metadata": {
        "id": "EFTomf_xfjTS"
      },
      "id": "EFTomf_xfjTS",
      "execution_count": 24,
      "outputs": []
    },
    {
      "cell_type": "code",
      "source": [
        "df_annotations[\"num_subjects_one_hot\"] = df_annotations[\"num_subjects_clean\"].apply(get_one_hot_num_subjects)"
      ],
      "metadata": {
        "id": "GCf8jZQZiBbC"
      },
      "id": "GCf8jZQZiBbC",
      "execution_count": 25,
      "outputs": []
    },
    {
      "cell_type": "code",
      "source": [
        "df_annotations[\"num_subjects_one_hot\"] = df_annotations[\"num_subjects_clean\"].apply(get_one_hot_num_subjects)"
      ],
      "metadata": {
        "id": "RoXplcZ6q3N3"
      },
      "id": "RoXplcZ6q3N3",
      "execution_count": 26,
      "outputs": []
    },
    {
      "cell_type": "code",
      "source": [
        "def get_one_hot_num_arms(x):\n",
        "  a = [0] * 5\n",
        "  if x is not None and not pd.isna(x):\n",
        "    a[int(x - 1)] = 1\n",
        "  return a\n",
        "df_annotations[\"num_arms_one_hot\"] = df_annotations[\"num_arms_clean\"].apply(get_one_hot_num_arms)"
      ],
      "metadata": {
        "id": "bGkQ4LeYq3QR"
      },
      "id": "bGkQ4LeYq3QR",
      "execution_count": 29,
      "outputs": []
    },
    {
      "cell_type": "code",
      "source": [
        "def get_one_hot_phase(x):\n",
        "  a = [0] * len(phase_clean_map)\n",
        "  if x is None:\n",
        "    return a\n",
        "  a[phase_clean_map[x]] = 1\n",
        "  return a\n",
        "df_annotations[\"phase_one_hot\"] = df_annotations[\"phase_clean\"].apply(get_one_hot_phase)"
      ],
      "metadata": {
        "id": "POLLhzW_rFvz"
      },
      "id": "POLLhzW_rFvz",
      "execution_count": 30,
      "outputs": []
    },
    {
      "cell_type": "markdown",
      "source": [
        "Concatenate the three bits of one-hot data into one column"
      ],
      "metadata": {
        "id": "ondugbdEsLJ7"
      },
      "id": "ondugbdEsLJ7"
    },
    {
      "cell_type": "code",
      "source": [
        "concatenated_one_hot = []\n",
        "for i in range(len(df_annotations)):\n",
        "  concatenated = list(df_annotations.phase_one_hot.iloc[i]) + \\\n",
        "  list(df_annotations.num_arms_one_hot.iloc[i]) + \\\n",
        "  list(df_annotations.num_subjects_one_hot.iloc[i])\n",
        "  concatenated_one_hot.append(concatenated)\n",
        "df_annotations[\"concatenated_one_hot\"] = concatenated_one_hot"
      ],
      "metadata": {
        "id": "eykeDEeFr56g"
      },
      "id": "eykeDEeFr56g",
      "execution_count": 31,
      "outputs": []
    },
    {
      "cell_type": "code",
      "source": [
        "np.sum(np.asarray([np.asarray(x) for x in df_annotations[\"concatenated_one_hot\"]]), axis=1).mean()"
      ],
      "metadata": {
        "colab": {
          "base_uri": "https://localhost:8080/"
        },
        "id": "eFM7jbfutXfu",
        "outputId": "37243eed-b0f0-4413-9e63-43cd5ec69bb3"
      },
      "id": "eFM7jbfutXfu",
      "execution_count": 38,
      "outputs": [
        {
          "output_type": "execute_result",
          "data": {
            "text/plain": [
              "2.943810801744381"
            ]
          },
          "metadata": {},
          "execution_count": 38
        }
      ]
    },
    {
      "cell_type": "code",
      "source": [
        "np.sum(np.asarray([np.asarray(x) for x in df_annotations[\"concatenated_one_hot\"]]), axis=0)"
      ],
      "metadata": {
        "colab": {
          "base_uri": "https://localhost:8080/"
        },
        "id": "YmCgmZh3tmkn",
        "outputId": "54ba9b4d-20a2-4757-8cdd-0f1f69b72255"
      },
      "id": "YmCgmZh3tmkn",
      "execution_count": 42,
      "outputs": [
        {
          "output_type": "execute_result",
          "data": {
            "text/plain": [
              "array([ 519,  135, 1154,  983, 4317,  297, 2725, 1461, 3086, 5228, 1456,\n",
              "        908,  913, 2980, 2119, 2016, 1674, 1656,  816,  547,  112])"
            ]
          },
          "metadata": {},
          "execution_count": 42
        }
      ]
    },
    {
      "cell_type": "code",
      "source": [
        "num_classes = len(concatenated)\n",
        "print (f\"There are {num_classes} classes in this multi-label classifier\")"
      ],
      "metadata": {
        "colab": {
          "base_uri": "https://localhost:8080/"
        },
        "id": "yuUe_QwxsQRE",
        "outputId": "84f250a4-24b1-48bc-a615-0b1ff0d0876a"
      },
      "id": "yuUe_QwxsQRE",
      "execution_count": 44,
      "outputs": [
        {
          "output_type": "stream",
          "name": "stdout",
          "text": [
            "There are 21 classes in this multi-label classifier\n"
          ]
        }
      ]
    },
    {
      "cell_type": "code",
      "source": [
        "df_train = df_annotations[df_annotations.train_val == \"train\"]\n",
        "df_val = df_annotations[df_annotations.train_val == \"val\"]"
      ],
      "metadata": {
        "id": "F_VhjeihirIu"
      },
      "id": "F_VhjeihirIu",
      "execution_count": 45,
      "outputs": []
    },
    {
      "cell_type": "code",
      "source": [
        "df_train_got_some_ground_truths = df_train[~df_train.num_subjects_clean.isna() | ~df_train.num_arms_clean.isna() | ~df_train.phase_clean.isna()]"
      ],
      "metadata": {
        "id": "pIWANTOGqDkg"
      },
      "id": "pIWANTOGqDkg",
      "execution_count": 50,
      "outputs": []
    },
    {
      "cell_type": "code",
      "source": [
        "len(df_train_got_some_ground_truths), len(df_train)"
      ],
      "metadata": {
        "colab": {
          "base_uri": "https://localhost:8080/"
        },
        "id": "yfw08MW2sYTw",
        "outputId": "a750c2c2-1e62-475a-fb88-a0f07f06f8ba"
      },
      "id": "yfw08MW2sYTw",
      "execution_count": 51,
      "outputs": [
        {
          "output_type": "execute_result",
          "data": {
            "text/plain": [
              "(9535, 9538)"
            ]
          },
          "metadata": {},
          "execution_count": 51
        }
      ]
    },
    {
      "cell_type": "code",
      "source": [
        "train_labels = np.asarray(list(df_train_got_some_ground_truths.concatenated_one_hot))\n",
        "test_labels = np.asarray(list(df_val.concatenated_one_hot))"
      ],
      "metadata": {
        "id": "0upX622wfjVv"
      },
      "id": "0upX622wfjVv",
      "execution_count": 52,
      "outputs": []
    },
    {
      "cell_type": "code",
      "source": [
        "train_examples = np.asarray(list(df_train_got_some_ground_truths.text))\n",
        "test_examples = np.asarray(list(df_val.text))"
      ],
      "metadata": {
        "id": "YDlX78f5cz_F"
      },
      "id": "YDlX78f5cz_F",
      "execution_count": 53,
      "outputs": []
    },
    {
      "cell_type": "code",
      "source": [
        "print(\"Training entries: {}, test entries: {}\".format(len(train_examples), len(test_examples)))"
      ],
      "metadata": {
        "colab": {
          "base_uri": "https://localhost:8080/"
        },
        "id": "LFDvdJe_fjYD",
        "outputId": "e7215836-40be-417c-e793-8920e5383755"
      },
      "id": "LFDvdJe_fjYD",
      "execution_count": 54,
      "outputs": [
        {
          "output_type": "stream",
          "name": "stdout",
          "text": [
            "Training entries: 9535, test entries: 1085\n"
          ]
        }
      ]
    },
    {
      "cell_type": "code",
      "source": [
        "train_labels[:10]"
      ],
      "metadata": {
        "colab": {
          "base_uri": "https://localhost:8080/"
        },
        "id": "NPk1jhPOfjcH",
        "outputId": "eb438cb2-bd3c-435a-ad10-6dc9d1cad102"
      },
      "id": "NPk1jhPOfjcH",
      "execution_count": 55,
      "outputs": [
        {
          "output_type": "execute_result",
          "data": {
            "text/plain": [
              "array([[0, 0, 0, 0, 0, 0, 1, 0, 0, 1, 0, 0, 0, 0, 0, 0, 1, 0, 0, 0, 0],\n",
              "       [0, 0, 0, 0, 0, 0, 1, 0, 1, 0, 0, 0, 0, 0, 0, 0, 0, 0, 1, 0, 0],\n",
              "       [0, 0, 0, 0, 1, 0, 0, 0, 1, 0, 0, 0, 0, 0, 1, 0, 0, 0, 0, 0, 0],\n",
              "       [0, 0, 0, 0, 1, 0, 0, 0, 1, 0, 0, 0, 0, 0, 0, 1, 0, 0, 0, 0, 0],\n",
              "       [0, 0, 0, 0, 0, 0, 1, 0, 1, 0, 0, 0, 0, 0, 1, 0, 0, 0, 0, 0, 0],\n",
              "       [0, 0, 0, 0, 0, 0, 0, 1, 0, 1, 0, 0, 0, 0, 0, 0, 0, 1, 0, 0, 0],\n",
              "       [0, 0, 0, 0, 1, 0, 0, 0, 1, 0, 0, 0, 0, 0, 1, 0, 0, 0, 0, 0, 0],\n",
              "       [0, 0, 0, 0, 0, 0, 1, 0, 1, 0, 0, 0, 0, 0, 0, 1, 0, 0, 0, 0, 0],\n",
              "       [0, 0, 0, 0, 0, 0, 1, 0, 1, 0, 0, 0, 0, 0, 0, 1, 0, 0, 0, 0, 0],\n",
              "       [0, 0, 0, 0, 0, 0, 1, 0, 1, 0, 0, 0, 0, 0, 0, 0, 0, 1, 0, 0, 0]])"
            ]
          },
          "metadata": {},
          "execution_count": 55
        }
      ]
    },
    {
      "cell_type": "code",
      "source": [
        "model = \"https://tfhub.dev/google/nnlm-en-dim50/2\"\n",
        "hub_layer = hub.KerasLayer(model, input_shape=[], dtype=tf.string, trainable=True)\n",
        "hub_layer(train_examples[:3])"
      ],
      "metadata": {
        "colab": {
          "base_uri": "https://localhost:8080/"
        },
        "id": "Ju7TNdElgQ-P",
        "outputId": "f3789460-4088-4971-fd59-4da06329fa72"
      },
      "id": "Ju7TNdElgQ-P",
      "execution_count": 56,
      "outputs": [
        {
          "output_type": "execute_result",
          "data": {
            "text/plain": [
              "<tf.Tensor: shape=(3, 50), dtype=float32, numpy=\n",
              "array([[ 2.25559   , -0.04003555,  0.93899107,  0.2506811 ,  0.84559846,\n",
              "        -0.998915  , -1.1229645 ,  1.0880628 , -0.3572988 ,  0.24719179,\n",
              "        -0.8556173 , -0.44134468,  0.5519561 , -1.7939239 ,  0.66371584,\n",
              "        -0.8935602 ,  1.8869379 , -0.84141505,  0.69978   ,  1.0125706 ,\n",
              "         0.08160346,  1.1788766 ,  1.5604182 , -0.34575224,  0.2779351 ,\n",
              "        -1.3876771 ,  0.16311622,  1.9580957 , -1.0933205 , -1.0580326 ,\n",
              "         0.37967965,  1.156498  , -0.72321945, -0.772455  ,  0.73082954,\n",
              "        -0.9501583 ,  1.0493797 , -0.55693537, -0.37929386,  0.17795539,\n",
              "        -0.31323153, -0.7816628 , -0.04035624,  1.1845489 ,  0.09255461,\n",
              "        -0.6382013 ,  0.33023688, -0.7802934 , -0.03285996,  1.088984  ],\n",
              "       [ 2.731097  , -0.18215285,  0.9739955 ,  0.586558  ,  0.60148025,\n",
              "        -0.990663  , -0.7144665 ,  0.47427112, -0.06968777, -0.07448192,\n",
              "        -0.7558011 ,  0.10947579,  0.10275193, -1.1342437 ,  0.38744602,\n",
              "        -0.50763524,  1.5641029 , -0.31741625,  0.0359352 ,  0.5377715 ,\n",
              "        -0.06797756, -0.04631888,  0.6529147 ,  0.4494843 , -0.02220607,\n",
              "        -0.92648315,  0.05569491,  1.2933536 , -0.98819685, -0.6491972 ,\n",
              "         0.27619264,  1.088039  , -0.43497664, -1.0455433 ,  0.23724169,\n",
              "        -0.7524495 ,  0.7667709 , -0.21065734, -0.42801633,  0.40313464,\n",
              "         0.26086715, -0.29644766, -0.52313393,  0.9811465 ,  0.2767862 ,\n",
              "        -0.3021194 , -0.11111609,  0.17843132, -0.06487798,  1.0419159 ],\n",
              "       [ 1.5993927 , -0.5197563 ,  1.4270151 , -0.02424326,  0.66646475,\n",
              "        -1.1968917 , -0.64398575,  1.4333013 , -0.83490443, -0.53040344,\n",
              "        -0.88788724, -0.15950488,  1.1025413 , -2.6452134 , -0.0493395 ,\n",
              "        -1.400407  ,  2.8102806 , -0.9500489 ,  0.74772155,  0.98417366,\n",
              "         0.495352  ,  0.79880553,  1.5502701 , -0.170685  ,  0.23786466,\n",
              "        -1.2409445 , -0.1008264 ,  3.5367322 , -0.89503455, -1.231581  ,\n",
              "         0.6332018 ,  1.235789  ,  0.22374023, -0.69297415,  0.5686009 ,\n",
              "        -0.8107976 ,  1.4895896 , -0.81259716,  0.12828544, -0.50187004,\n",
              "        -0.03430385, -1.229768  ,  0.17670332,  1.3994156 ,  0.7868397 ,\n",
              "        -0.9145234 ,  0.1391817 , -1.3974673 ,  0.5922207 ,  0.47408032]],\n",
              "      dtype=float32)>"
            ]
          },
          "metadata": {},
          "execution_count": 56
        }
      ]
    },
    {
      "cell_type": "code",
      "source": [
        "model = tf.keras.Sequential()\n",
        "model.add(hub_layer)\n",
        "model.add(tf.keras.layers.Dense(16, activation='relu'))\n",
        "model.add(tf.keras.layers.Dense(num_classes, activation='sigmoid'))\n",
        "\n",
        "model.summary()"
      ],
      "metadata": {
        "colab": {
          "base_uri": "https://localhost:8080/"
        },
        "id": "XVwvmzuQgRAQ",
        "outputId": "de594b01-69cf-4bab-b5ff-c81f845821dd"
      },
      "id": "XVwvmzuQgRAQ",
      "execution_count": 57,
      "outputs": [
        {
          "output_type": "stream",
          "name": "stdout",
          "text": [
            "Model: \"sequential\"\n",
            "_________________________________________________________________\n",
            " Layer (type)                Output Shape              Param #   \n",
            "=================================================================\n",
            " keras_layer (KerasLayer)    (None, 50)                48190600  \n",
            "                                                                 \n",
            " dense (Dense)               (None, 16)                816       \n",
            "                                                                 \n",
            " dense_1 (Dense)             (None, 21)                357       \n",
            "                                                                 \n",
            "=================================================================\n",
            "Total params: 48,191,773\n",
            "Trainable params: 48,191,773\n",
            "Non-trainable params: 0\n",
            "_________________________________________________________________\n"
          ]
        }
      ]
    },
    {
      "cell_type": "code",
      "source": [
        "model.compile(optimizer='adam',\n",
        "              loss=tf.losses.BinaryCrossentropy(),\n",
        "              metrics=[tf.metrics.BinaryAccuracy(name='accuracy'), tf.metrics.AUC(name='auc')],\n",
        "              run_eagerly=True)"
      ],
      "metadata": {
        "id": "4grRdQTWgRCY"
      },
      "id": "4grRdQTWgRCY",
      "execution_count": 58,
      "outputs": []
    },
    {
      "cell_type": "code",
      "source": [
        "# x_val = train_examples[:10000]\n",
        "# partial_x_train = train_examples[10000:]\n",
        "\n",
        "# y_val = train_labels[:10000]\n",
        "# partial_y_train = train_labels[10000:]\n",
        "\n",
        "partial_x_train = train_examples\n",
        "x_val = test_examples\n",
        "\n",
        "partial_y_train = train_labels\n",
        "y_val = test_labels"
      ],
      "metadata": {
        "id": "--LLz2FYgREf"
      },
      "id": "--LLz2FYgREf",
      "execution_count": 59,
      "outputs": []
    },
    {
      "cell_type": "code",
      "source": [
        "history = model.fit(partial_x_train,\n",
        "                    partial_y_train,\n",
        "                    epochs=100,\n",
        "                    batch_size=512,\n",
        "                    validation_data=(x_val, y_val),\n",
        "                    verbose=1)"
      ],
      "metadata": {
        "colab": {
          "base_uri": "https://localhost:8080/"
        },
        "id": "zEMElK4ygRGg",
        "outputId": "d3c18c99-cc2e-4a5e-fd84-eabcef8493ef"
      },
      "id": "zEMElK4ygRGg",
      "execution_count": 119,
      "outputs": [
        {
          "output_type": "stream",
          "name": "stdout",
          "text": [
            "Epoch 1/100\n",
            "19/19 [==============================] - 2s 101ms/step - loss: 0.1108 - accuracy: 0.9644 - auc: 0.9850 - val_loss: 0.3721 - val_accuracy: 0.8743 - val_auc: 0.8126\n",
            "Epoch 2/100\n",
            "19/19 [==============================] - 2s 99ms/step - loss: 0.1071 - accuracy: 0.9659 - auc: 0.9861 - val_loss: 0.3775 - val_accuracy: 0.8746 - val_auc: 0.8108\n",
            "Epoch 3/100\n",
            "19/19 [==============================] - 2s 101ms/step - loss: 0.1035 - accuracy: 0.9677 - auc: 0.9872 - val_loss: 0.3825 - val_accuracy: 0.8741 - val_auc: 0.8100\n",
            "Epoch 4/100\n",
            "19/19 [==============================] - 2s 100ms/step - loss: 0.1001 - accuracy: 0.9691 - auc: 0.9881 - val_loss: 0.3880 - val_accuracy: 0.8735 - val_auc: 0.8080\n",
            "Epoch 5/100\n",
            "19/19 [==============================] - 2s 101ms/step - loss: 0.0968 - accuracy: 0.9705 - auc: 0.9889 - val_loss: 0.3928 - val_accuracy: 0.8736 - val_auc: 0.8075\n",
            "Epoch 6/100\n",
            "19/19 [==============================] - 2s 100ms/step - loss: 0.0933 - accuracy: 0.9718 - auc: 0.9898 - val_loss: 0.3983 - val_accuracy: 0.8731 - val_auc: 0.8053\n",
            "Epoch 7/100\n",
            "19/19 [==============================] - 2s 100ms/step - loss: 0.0900 - accuracy: 0.9734 - auc: 0.9906 - val_loss: 0.4050 - val_accuracy: 0.8727 - val_auc: 0.8035\n",
            "Epoch 8/100\n",
            "19/19 [==============================] - 2s 100ms/step - loss: 0.0869 - accuracy: 0.9744 - auc: 0.9912 - val_loss: 0.4108 - val_accuracy: 0.8723 - val_auc: 0.8012\n",
            "Epoch 9/100\n",
            "19/19 [==============================] - 2s 99ms/step - loss: 0.0838 - accuracy: 0.9757 - auc: 0.9920 - val_loss: 0.4175 - val_accuracy: 0.8720 - val_auc: 0.7985\n",
            "Epoch 10/100\n",
            "19/19 [==============================] - 2s 100ms/step - loss: 0.0808 - accuracy: 0.9769 - auc: 0.9926 - val_loss: 0.4228 - val_accuracy: 0.8713 - val_auc: 0.7965\n",
            "Epoch 11/100\n",
            "19/19 [==============================] - 2s 100ms/step - loss: 0.0779 - accuracy: 0.9783 - auc: 0.9932 - val_loss: 0.4280 - val_accuracy: 0.8711 - val_auc: 0.7954\n",
            "Epoch 12/100\n",
            "19/19 [==============================] - 2s 100ms/step - loss: 0.0752 - accuracy: 0.9791 - auc: 0.9937 - val_loss: 0.4359 - val_accuracy: 0.8710 - val_auc: 0.7941\n",
            "Epoch 13/100\n",
            "19/19 [==============================] - 2s 100ms/step - loss: 0.0726 - accuracy: 0.9804 - auc: 0.9942 - val_loss: 0.4393 - val_accuracy: 0.8697 - val_auc: 0.7928\n",
            "Epoch 14/100\n",
            "19/19 [==============================] - 2s 100ms/step - loss: 0.0699 - accuracy: 0.9813 - auc: 0.9947 - val_loss: 0.4468 - val_accuracy: 0.8700 - val_auc: 0.7915\n",
            "Epoch 15/100\n",
            "19/19 [==============================] - 2s 100ms/step - loss: 0.0674 - accuracy: 0.9823 - auc: 0.9950 - val_loss: 0.4537 - val_accuracy: 0.8698 - val_auc: 0.7896\n",
            "Epoch 16/100\n",
            "19/19 [==============================] - 2s 100ms/step - loss: 0.0650 - accuracy: 0.9831 - auc: 0.9955 - val_loss: 0.4592 - val_accuracy: 0.8692 - val_auc: 0.7885\n",
            "Epoch 17/100\n",
            "19/19 [==============================] - 2s 100ms/step - loss: 0.0626 - accuracy: 0.9840 - auc: 0.9958 - val_loss: 0.4666 - val_accuracy: 0.8694 - val_auc: 0.7860\n",
            "Epoch 18/100\n",
            "19/19 [==============================] - 2s 100ms/step - loss: 0.0603 - accuracy: 0.9852 - auc: 0.9961 - val_loss: 0.4737 - val_accuracy: 0.8695 - val_auc: 0.7861\n",
            "Epoch 19/100\n",
            "19/19 [==============================] - 2s 100ms/step - loss: 0.0581 - accuracy: 0.9857 - auc: 0.9964 - val_loss: 0.4787 - val_accuracy: 0.8686 - val_auc: 0.7842\n",
            "Epoch 20/100\n",
            "19/19 [==============================] - 2s 100ms/step - loss: 0.0560 - accuracy: 0.9865 - auc: 0.9967 - val_loss: 0.4854 - val_accuracy: 0.8690 - val_auc: 0.7833\n",
            "Epoch 21/100\n",
            "19/19 [==============================] - 2s 102ms/step - loss: 0.0540 - accuracy: 0.9873 - auc: 0.9970 - val_loss: 0.4919 - val_accuracy: 0.8682 - val_auc: 0.7835\n",
            "Epoch 22/100\n",
            "19/19 [==============================] - 2s 101ms/step - loss: 0.0520 - accuracy: 0.9879 - auc: 0.9972 - val_loss: 0.4991 - val_accuracy: 0.8678 - val_auc: 0.7805\n",
            "Epoch 23/100\n",
            "19/19 [==============================] - 2s 100ms/step - loss: 0.0501 - accuracy: 0.9887 - auc: 0.9974 - val_loss: 0.5077 - val_accuracy: 0.8680 - val_auc: 0.7794\n",
            "Epoch 24/100\n",
            "19/19 [==============================] - 2s 100ms/step - loss: 0.0483 - accuracy: 0.9894 - auc: 0.9976 - val_loss: 0.5133 - val_accuracy: 0.8679 - val_auc: 0.7782\n",
            "Epoch 25/100\n",
            "19/19 [==============================] - 2s 100ms/step - loss: 0.0465 - accuracy: 0.9899 - auc: 0.9978 - val_loss: 0.5201 - val_accuracy: 0.8682 - val_auc: 0.7768\n",
            "Epoch 26/100\n",
            "19/19 [==============================] - 2s 101ms/step - loss: 0.0449 - accuracy: 0.9906 - auc: 0.9980 - val_loss: 0.5273 - val_accuracy: 0.8681 - val_auc: 0.7758\n",
            "Epoch 27/100\n",
            "19/19 [==============================] - 2s 99ms/step - loss: 0.0433 - accuracy: 0.9910 - auc: 0.9981 - val_loss: 0.5335 - val_accuracy: 0.8676 - val_auc: 0.7747\n",
            "Epoch 28/100\n",
            "19/19 [==============================] - 2s 99ms/step - loss: 0.0417 - accuracy: 0.9916 - auc: 0.9983 - val_loss: 0.5415 - val_accuracy: 0.8671 - val_auc: 0.7725\n",
            "Epoch 29/100\n",
            "19/19 [==============================] - 2s 101ms/step - loss: 0.0402 - accuracy: 0.9921 - auc: 0.9984 - val_loss: 0.5455 - val_accuracy: 0.8666 - val_auc: 0.7726\n",
            "Epoch 30/100\n",
            "19/19 [==============================] - 2s 99ms/step - loss: 0.0387 - accuracy: 0.9926 - auc: 0.9984 - val_loss: 0.5534 - val_accuracy: 0.8665 - val_auc: 0.7715\n",
            "Epoch 31/100\n",
            "19/19 [==============================] - 2s 99ms/step - loss: 0.0375 - accuracy: 0.9929 - auc: 0.9986 - val_loss: 0.5593 - val_accuracy: 0.8662 - val_auc: 0.7703\n",
            "Epoch 32/100\n",
            "19/19 [==============================] - 2s 99ms/step - loss: 0.0360 - accuracy: 0.9934 - auc: 0.9987 - val_loss: 0.5676 - val_accuracy: 0.8664 - val_auc: 0.7692\n",
            "Epoch 33/100\n",
            "19/19 [==============================] - 2s 100ms/step - loss: 0.0347 - accuracy: 0.9937 - auc: 0.9988 - val_loss: 0.5747 - val_accuracy: 0.8667 - val_auc: 0.7684\n",
            "Epoch 34/100\n",
            "19/19 [==============================] - 2s 100ms/step - loss: 0.0336 - accuracy: 0.9940 - auc: 0.9988 - val_loss: 0.5803 - val_accuracy: 0.8665 - val_auc: 0.7666\n",
            "Epoch 35/100\n",
            "19/19 [==============================] - 2s 99ms/step - loss: 0.0324 - accuracy: 0.9943 - auc: 0.9989 - val_loss: 0.5870 - val_accuracy: 0.8662 - val_auc: 0.7657\n",
            "Epoch 36/100\n",
            "19/19 [==============================] - 2s 99ms/step - loss: 0.0313 - accuracy: 0.9945 - auc: 0.9990 - val_loss: 0.5956 - val_accuracy: 0.8665 - val_auc: 0.7643\n",
            "Epoch 37/100\n",
            "19/19 [==============================] - 2s 101ms/step - loss: 0.0303 - accuracy: 0.9947 - auc: 0.9991 - val_loss: 0.6015 - val_accuracy: 0.8661 - val_auc: 0.7636\n",
            "Epoch 38/100\n",
            "19/19 [==============================] - 2s 100ms/step - loss: 0.0293 - accuracy: 0.9951 - auc: 0.9991 - val_loss: 0.6080 - val_accuracy: 0.8655 - val_auc: 0.7635\n",
            "Epoch 39/100\n",
            "19/19 [==============================] - 2s 99ms/step - loss: 0.0282 - accuracy: 0.9953 - auc: 0.9992 - val_loss: 0.6147 - val_accuracy: 0.8659 - val_auc: 0.7631\n",
            "Epoch 40/100\n",
            "19/19 [==============================] - 2s 99ms/step - loss: 0.0273 - accuracy: 0.9955 - auc: 0.9992 - val_loss: 0.6219 - val_accuracy: 0.8663 - val_auc: 0.7616\n",
            "Epoch 41/100\n",
            "19/19 [==============================] - 2s 99ms/step - loss: 0.0264 - accuracy: 0.9956 - auc: 0.9993 - val_loss: 0.6284 - val_accuracy: 0.8658 - val_auc: 0.7617\n",
            "Epoch 42/100\n",
            "19/19 [==============================] - 2s 100ms/step - loss: 0.0256 - accuracy: 0.9958 - auc: 0.9993 - val_loss: 0.6358 - val_accuracy: 0.8665 - val_auc: 0.7595\n",
            "Epoch 43/100\n",
            "19/19 [==============================] - 2s 99ms/step - loss: 0.0248 - accuracy: 0.9959 - auc: 0.9993 - val_loss: 0.6417 - val_accuracy: 0.8652 - val_auc: 0.7598\n",
            "Epoch 44/100\n",
            "19/19 [==============================] - 2s 100ms/step - loss: 0.0240 - accuracy: 0.9961 - auc: 0.9994 - val_loss: 0.6484 - val_accuracy: 0.8659 - val_auc: 0.7586\n",
            "Epoch 45/100\n",
            "19/19 [==============================] - 2s 100ms/step - loss: 0.0232 - accuracy: 0.9962 - auc: 0.9994 - val_loss: 0.6557 - val_accuracy: 0.8661 - val_auc: 0.7577\n",
            "Epoch 46/100\n",
            "19/19 [==============================] - 2s 99ms/step - loss: 0.0225 - accuracy: 0.9963 - auc: 0.9994 - val_loss: 0.6635 - val_accuracy: 0.8660 - val_auc: 0.7564\n",
            "Epoch 47/100\n",
            "19/19 [==============================] - 2s 101ms/step - loss: 0.0217 - accuracy: 0.9964 - auc: 0.9995 - val_loss: 0.6678 - val_accuracy: 0.8656 - val_auc: 0.7556\n",
            "Epoch 48/100\n",
            "19/19 [==============================] - 2s 99ms/step - loss: 0.0210 - accuracy: 0.9966 - auc: 0.9995 - val_loss: 0.6744 - val_accuracy: 0.8651 - val_auc: 0.7560\n",
            "Epoch 49/100\n",
            "19/19 [==============================] - 2s 99ms/step - loss: 0.0204 - accuracy: 0.9967 - auc: 0.9995 - val_loss: 0.6818 - val_accuracy: 0.8656 - val_auc: 0.7539\n",
            "Epoch 50/100\n",
            "19/19 [==============================] - 2s 101ms/step - loss: 0.0198 - accuracy: 0.9968 - auc: 0.9995 - val_loss: 0.6894 - val_accuracy: 0.8655 - val_auc: 0.7516\n",
            "Epoch 51/100\n",
            "19/19 [==============================] - 2s 100ms/step - loss: 0.0192 - accuracy: 0.9970 - auc: 0.9996 - val_loss: 0.6947 - val_accuracy: 0.8649 - val_auc: 0.7520\n",
            "Epoch 52/100\n",
            "19/19 [==============================] - 2s 100ms/step - loss: 0.0187 - accuracy: 0.9970 - auc: 0.9996 - val_loss: 0.6999 - val_accuracy: 0.8650 - val_auc: 0.7505\n",
            "Epoch 53/100\n",
            "19/19 [==============================] - 2s 100ms/step - loss: 0.0181 - accuracy: 0.9971 - auc: 0.9996 - val_loss: 0.7074 - val_accuracy: 0.8646 - val_auc: 0.7499\n",
            "Epoch 54/100\n",
            "19/19 [==============================] - 2s 100ms/step - loss: 0.0176 - accuracy: 0.9973 - auc: 0.9996 - val_loss: 0.7127 - val_accuracy: 0.8645 - val_auc: 0.7495\n",
            "Epoch 55/100\n",
            "19/19 [==============================] - 2s 99ms/step - loss: 0.0171 - accuracy: 0.9974 - auc: 0.9997 - val_loss: 0.7207 - val_accuracy: 0.8646 - val_auc: 0.7494\n",
            "Epoch 56/100\n",
            "19/19 [==============================] - 2s 99ms/step - loss: 0.0166 - accuracy: 0.9974 - auc: 0.9997 - val_loss: 0.7252 - val_accuracy: 0.8641 - val_auc: 0.7481\n",
            "Epoch 57/100\n",
            "19/19 [==============================] - 2s 99ms/step - loss: 0.0161 - accuracy: 0.9974 - auc: 0.9997 - val_loss: 0.7324 - val_accuracy: 0.8644 - val_auc: 0.7471\n",
            "Epoch 58/100\n",
            "19/19 [==============================] - 2s 100ms/step - loss: 0.0156 - accuracy: 0.9976 - auc: 0.9997 - val_loss: 0.7394 - val_accuracy: 0.8644 - val_auc: 0.7471\n",
            "Epoch 59/100\n",
            "19/19 [==============================] - 2s 100ms/step - loss: 0.0152 - accuracy: 0.9976 - auc: 0.9997 - val_loss: 0.7442 - val_accuracy: 0.8641 - val_auc: 0.7459\n",
            "Epoch 60/100\n",
            "19/19 [==============================] - 2s 100ms/step - loss: 0.0149 - accuracy: 0.9977 - auc: 0.9997 - val_loss: 0.7512 - val_accuracy: 0.8640 - val_auc: 0.7447\n",
            "Epoch 61/100\n",
            "19/19 [==============================] - 2s 98ms/step - loss: 0.0143 - accuracy: 0.9977 - auc: 0.9997 - val_loss: 0.7561 - val_accuracy: 0.8643 - val_auc: 0.7440\n",
            "Epoch 62/100\n",
            "19/19 [==============================] - 2s 99ms/step - loss: 0.0140 - accuracy: 0.9977 - auc: 0.9997 - val_loss: 0.7627 - val_accuracy: 0.8638 - val_auc: 0.7428\n",
            "Epoch 63/100\n",
            "19/19 [==============================] - 2s 100ms/step - loss: 0.0137 - accuracy: 0.9978 - auc: 0.9997 - val_loss: 0.7693 - val_accuracy: 0.8634 - val_auc: 0.7430\n",
            "Epoch 64/100\n",
            "19/19 [==============================] - 2s 99ms/step - loss: 0.0132 - accuracy: 0.9979 - auc: 0.9998 - val_loss: 0.7740 - val_accuracy: 0.8637 - val_auc: 0.7438\n",
            "Epoch 65/100\n",
            "19/19 [==============================] - 2s 99ms/step - loss: 0.0129 - accuracy: 0.9980 - auc: 0.9997 - val_loss: 0.7809 - val_accuracy: 0.8642 - val_auc: 0.7423\n",
            "Epoch 66/100\n",
            "19/19 [==============================] - 2s 101ms/step - loss: 0.0125 - accuracy: 0.9981 - auc: 0.9998 - val_loss: 0.7858 - val_accuracy: 0.8637 - val_auc: 0.7432\n",
            "Epoch 67/100\n",
            "19/19 [==============================] - 2s 99ms/step - loss: 0.0123 - accuracy: 0.9981 - auc: 0.9998 - val_loss: 0.7920 - val_accuracy: 0.8636 - val_auc: 0.7410\n",
            "Epoch 68/100\n",
            "19/19 [==============================] - 2s 100ms/step - loss: 0.0119 - accuracy: 0.9983 - auc: 0.9998 - val_loss: 0.7987 - val_accuracy: 0.8640 - val_auc: 0.7424\n",
            "Epoch 69/100\n",
            "19/19 [==============================] - 2s 99ms/step - loss: 0.0116 - accuracy: 0.9982 - auc: 0.9998 - val_loss: 0.8046 - val_accuracy: 0.8640 - val_auc: 0.7409\n",
            "Epoch 70/100\n",
            "19/19 [==============================] - 2s 101ms/step - loss: 0.0112 - accuracy: 0.9983 - auc: 0.9998 - val_loss: 0.8098 - val_accuracy: 0.8634 - val_auc: 0.7407\n",
            "Epoch 71/100\n",
            "19/19 [==============================] - 2s 100ms/step - loss: 0.0110 - accuracy: 0.9984 - auc: 0.9998 - val_loss: 0.8141 - val_accuracy: 0.8647 - val_auc: 0.7406\n",
            "Epoch 72/100\n",
            "19/19 [==============================] - 2s 103ms/step - loss: 0.0107 - accuracy: 0.9984 - auc: 0.9998 - val_loss: 0.8205 - val_accuracy: 0.8633 - val_auc: 0.7393\n",
            "Epoch 73/100\n",
            "19/19 [==============================] - 2s 99ms/step - loss: 0.0103 - accuracy: 0.9985 - auc: 0.9998 - val_loss: 0.8264 - val_accuracy: 0.8635 - val_auc: 0.7388\n",
            "Epoch 74/100\n",
            "19/19 [==============================] - 2s 100ms/step - loss: 0.0101 - accuracy: 0.9986 - auc: 0.9998 - val_loss: 0.8330 - val_accuracy: 0.8638 - val_auc: 0.7378\n",
            "Epoch 75/100\n",
            "19/19 [==============================] - 2s 100ms/step - loss: 0.0098 - accuracy: 0.9986 - auc: 0.9999 - val_loss: 0.8384 - val_accuracy: 0.8637 - val_auc: 0.7393\n",
            "Epoch 76/100\n",
            "19/19 [==============================] - 2s 101ms/step - loss: 0.0096 - accuracy: 0.9986 - auc: 0.9998 - val_loss: 0.8421 - val_accuracy: 0.8632 - val_auc: 0.7376\n",
            "Epoch 77/100\n",
            "19/19 [==============================] - 2s 100ms/step - loss: 0.0093 - accuracy: 0.9987 - auc: 0.9999 - val_loss: 0.8485 - val_accuracy: 0.8634 - val_auc: 0.7378\n",
            "Epoch 78/100\n",
            "19/19 [==============================] - 2s 101ms/step - loss: 0.0091 - accuracy: 0.9987 - auc: 0.9999 - val_loss: 0.8528 - val_accuracy: 0.8632 - val_auc: 0.7375\n",
            "Epoch 79/100\n",
            "19/19 [==============================] - 2s 100ms/step - loss: 0.0089 - accuracy: 0.9987 - auc: 0.9999 - val_loss: 0.8584 - val_accuracy: 0.8638 - val_auc: 0.7371\n",
            "Epoch 80/100\n",
            "19/19 [==============================] - 2s 100ms/step - loss: 0.0088 - accuracy: 0.9988 - auc: 0.9999 - val_loss: 0.8637 - val_accuracy: 0.8637 - val_auc: 0.7362\n",
            "Epoch 81/100\n",
            "19/19 [==============================] - 2s 100ms/step - loss: 0.0085 - accuracy: 0.9987 - auc: 0.9999 - val_loss: 0.8702 - val_accuracy: 0.8641 - val_auc: 0.7359\n",
            "Epoch 82/100\n",
            "19/19 [==============================] - 2s 100ms/step - loss: 0.0084 - accuracy: 0.9988 - auc: 0.9999 - val_loss: 0.8724 - val_accuracy: 0.8636 - val_auc: 0.7350\n",
            "Epoch 83/100\n",
            "19/19 [==============================] - 2s 100ms/step - loss: 0.0082 - accuracy: 0.9988 - auc: 0.9999 - val_loss: 0.8795 - val_accuracy: 0.8637 - val_auc: 0.7348\n",
            "Epoch 84/100\n",
            "19/19 [==============================] - 2s 100ms/step - loss: 0.0080 - accuracy: 0.9989 - auc: 0.9999 - val_loss: 0.8845 - val_accuracy: 0.8642 - val_auc: 0.7364\n",
            "Epoch 85/100\n",
            "19/19 [==============================] - 2s 102ms/step - loss: 0.0078 - accuracy: 0.9989 - auc: 0.9999 - val_loss: 0.8891 - val_accuracy: 0.8637 - val_auc: 0.7337\n",
            "Epoch 86/100\n",
            "19/19 [==============================] - 2s 102ms/step - loss: 0.0076 - accuracy: 0.9990 - auc: 0.9999 - val_loss: 0.8959 - val_accuracy: 0.8633 - val_auc: 0.7325\n",
            "Epoch 87/100\n",
            "19/19 [==============================] - 2s 100ms/step - loss: 0.0074 - accuracy: 0.9990 - auc: 0.9999 - val_loss: 0.8976 - val_accuracy: 0.8632 - val_auc: 0.7329\n",
            "Epoch 88/100\n",
            "19/19 [==============================] - 2s 100ms/step - loss: 0.0072 - accuracy: 0.9990 - auc: 0.9999 - val_loss: 0.9051 - val_accuracy: 0.8637 - val_auc: 0.7320\n",
            "Epoch 89/100\n",
            "19/19 [==============================] - 2s 100ms/step - loss: 0.0070 - accuracy: 0.9990 - auc: 0.9999 - val_loss: 0.9099 - val_accuracy: 0.8631 - val_auc: 0.7303\n",
            "Epoch 90/100\n",
            "19/19 [==============================] - 2s 100ms/step - loss: 0.0069 - accuracy: 0.9991 - auc: 0.9999 - val_loss: 0.9144 - val_accuracy: 0.8641 - val_auc: 0.7308\n",
            "Epoch 91/100\n",
            "19/19 [==============================] - 2s 100ms/step - loss: 0.0067 - accuracy: 0.9991 - auc: 0.9999 - val_loss: 0.9184 - val_accuracy: 0.8634 - val_auc: 0.7297\n",
            "Epoch 92/100\n",
            "19/19 [==============================] - 2s 99ms/step - loss: 0.0065 - accuracy: 0.9991 - auc: 0.9999 - val_loss: 0.9249 - val_accuracy: 0.8631 - val_auc: 0.7292\n",
            "Epoch 93/100\n",
            "19/19 [==============================] - 2s 99ms/step - loss: 0.0064 - accuracy: 0.9991 - auc: 0.9999 - val_loss: 0.9303 - val_accuracy: 0.8633 - val_auc: 0.7282\n",
            "Epoch 94/100\n",
            "19/19 [==============================] - 2s 100ms/step - loss: 0.0062 - accuracy: 0.9991 - auc: 0.9999 - val_loss: 0.9342 - val_accuracy: 0.8631 - val_auc: 0.7285\n",
            "Epoch 95/100\n",
            "19/19 [==============================] - 2s 99ms/step - loss: 0.0061 - accuracy: 0.9992 - auc: 1.0000 - val_loss: 0.9383 - val_accuracy: 0.8636 - val_auc: 0.7294\n",
            "Epoch 96/100\n",
            "19/19 [==============================] - 2s 100ms/step - loss: 0.0060 - accuracy: 0.9991 - auc: 0.9999 - val_loss: 0.9439 - val_accuracy: 0.8643 - val_auc: 0.7294\n",
            "Epoch 97/100\n",
            "19/19 [==============================] - 2s 100ms/step - loss: 0.0058 - accuracy: 0.9991 - auc: 1.0000 - val_loss: 0.9459 - val_accuracy: 0.8635 - val_auc: 0.7280\n",
            "Epoch 98/100\n",
            "19/19 [==============================] - 2s 99ms/step - loss: 0.0058 - accuracy: 0.9992 - auc: 0.9999 - val_loss: 0.9523 - val_accuracy: 0.8636 - val_auc: 0.7285\n",
            "Epoch 99/100\n",
            "19/19 [==============================] - 2s 101ms/step - loss: 0.0057 - accuracy: 0.9991 - auc: 0.9999 - val_loss: 0.9560 - val_accuracy: 0.8635 - val_auc: 0.7283\n",
            "Epoch 100/100\n",
            "19/19 [==============================] - 2s 99ms/step - loss: 0.0055 - accuracy: 0.9992 - auc: 0.9999 - val_loss: 0.9623 - val_accuracy: 0.8638 - val_auc: 0.7282\n"
          ]
        }
      ]
    },
    {
      "cell_type": "code",
      "source": [
        "model.save('phase_arm_num_subjects_model_02_keras.keras')"
      ],
      "metadata": {
        "id": "5DLaUL_7gRIy"
      },
      "id": "5DLaUL_7gRIy",
      "execution_count": 120,
      "outputs": []
    },
    {
      "cell_type": "code",
      "source": [
        "from google.colab import drive\n",
        "drive.mount('/content/drive')\n",
        "model.save(\"phase_arm_num_subjects_model_02_keras.keras\")"
      ],
      "metadata": {
        "colab": {
          "base_uri": "https://localhost:8080/"
        },
        "id": "lYKFZVGigRKg",
        "outputId": "053640e6-c634-412e-fe5c-a5eea132d59e"
      },
      "id": "lYKFZVGigRKg",
      "execution_count": 121,
      "outputs": [
        {
          "output_type": "stream",
          "name": "stdout",
          "text": [
            "Drive already mounted at /content/drive; to attempt to forcibly remount, call drive.mount(\"/content/drive\", force_remount=True).\n"
          ]
        }
      ]
    },
    {
      "cell_type": "code",
      "source": [
        "results = model.evaluate(test_examples, test_labels)\n",
        "\n",
        "print(results)"
      ],
      "metadata": {
        "colab": {
          "base_uri": "https://localhost:8080/"
        },
        "id": "x6i0VsDEgdgm",
        "outputId": "f43d3de5-1f32-49f1-fa78-b0397f49b3e1"
      },
      "id": "x6i0VsDEgdgm",
      "execution_count": 122,
      "outputs": [
        {
          "output_type": "stream",
          "name": "stdout",
          "text": [
            "34/34 [==============================] - 1s 19ms/step - loss: 0.9623 - accuracy: 0.8638 - auc: 0.7282\n",
            "[0.9623322486877441, 0.8638139367103577, 0.7282100319862366]\n"
          ]
        }
      ]
    },
    {
      "cell_type": "code",
      "source": [
        "history_dict = history.history\n",
        "history_dict.keys()"
      ],
      "metadata": {
        "colab": {
          "base_uri": "https://localhost:8080/"
        },
        "id": "6rg2XlFpgdi4",
        "outputId": "e4dacd0f-8bbb-4fde-9978-87d0af64f6d5"
      },
      "id": "6rg2XlFpgdi4",
      "execution_count": 123,
      "outputs": [
        {
          "output_type": "execute_result",
          "data": {
            "text/plain": [
              "dict_keys(['loss', 'accuracy', 'auc', 'val_loss', 'val_accuracy', 'val_auc'])"
            ]
          },
          "metadata": {},
          "execution_count": 123
        }
      ]
    },
    {
      "cell_type": "code",
      "source": [
        "acc = history_dict['accuracy']\n",
        "val_acc = history_dict['val_accuracy']\n",
        "loss = history_dict['loss']\n",
        "val_loss = history_dict['val_loss']\n",
        "\n",
        "epochs = range(1, len(acc) + 1)\n",
        "\n",
        "# \"bo\" is for \"blue dot\"\n",
        "plt.plot(epochs, loss, 'bo', label='Training loss')\n",
        "# b is for \"solid blue line\"\n",
        "plt.plot(epochs, val_loss, 'b', label='Validation loss')\n",
        "plt.title('Training and validation loss')\n",
        "plt.xlabel('Epochs')\n",
        "plt.ylabel('Loss')\n",
        "plt.legend()\n",
        "\n",
        "plt.show()"
      ],
      "metadata": {
        "colab": {
          "base_uri": "https://localhost:8080/",
          "height": 295
        },
        "id": "6wjt4B0IgdlS",
        "outputId": "aaf0b21d-848c-44a5-c6c8-92d07b66de3a"
      },
      "id": "6wjt4B0IgdlS",
      "execution_count": 124,
      "outputs": [
        {
          "output_type": "display_data",
          "data": {
            "text/plain": [
              "<Figure size 432x288 with 1 Axes>"
            ],
            "image/png": "[encoded data removed]"
          },
          "metadata": {
            "needs_background": "light"
          }
        }
      ]
    },
    {
      "cell_type": "code",
      "source": [
        "plt.clf()   # clear figure\n",
        "\n",
        "plt.plot(epochs, acc, 'bo', label='Training acc')\n",
        "plt.plot(epochs, val_acc, 'b', label='Validation acc')\n",
        "plt.title('Training and validation accuracy')\n",
        "plt.xlabel('Epochs')\n",
        "plt.ylabel('Accuracy')\n",
        "plt.legend()\n",
        "\n",
        "plt.show()"
      ],
      "metadata": {
        "colab": {
          "base_uri": "https://localhost:8080/",
          "height": 295
        },
        "id": "1p5i_Iiegdnj",
        "outputId": "89f642f4-fe48-4be9-c721-1d209feb2b9d"
      },
      "id": "1p5i_Iiegdnj",
      "execution_count": 125,
      "outputs": [
        {
          "output_type": "display_data",
          "data": {
            "text/plain": [
              "<Figure size 432x288 with 1 Axes>"
            ],
            "image/png": "[encoded data removed]"
          },
          "metadata": {
            "needs_background": "light"
          }
        }
      ]
    },
    {
      "cell_type": "code",
      "source": [],
      "metadata": {
        "id": "DrpUa4NdgkI2"
      },
      "id": "DrpUa4NdgkI2",
      "execution_count": 125,
      "outputs": []
    },
    {
      "cell_type": "code",
      "source": [
        "input_texts= np.asarray(df_val.text)"
      ],
      "metadata": {
        "id": "iAx8Wx3IgkLL"
      },
      "id": "iAx8Wx3IgkLL",
      "execution_count": 126,
      "outputs": []
    },
    {
      "cell_type": "code",
      "source": [
        "pred_proba = model.predict(input_texts)"
      ],
      "metadata": {
        "colab": {
          "base_uri": "https://localhost:8080/"
        },
        "id": "weo-BkHPgkNI",
        "outputId": "71f14987-99e3-4093-9e48-ba98fb21ba5a"
      },
      "id": "weo-BkHPgkNI",
      "execution_count": 127,
      "outputs": [
        {
          "output_type": "stream",
          "name": "stdout",
          "text": [
            "34/34 [==============================] - 0s 8ms/step\n"
          ]
        }
      ]
    },
    {
      "cell_type": "code",
      "source": [
        "y_pred_phase = []\n",
        "y_pred_num_arms = []\n",
        "y_pred_num_subjects = []\n",
        "for idx in range(len(pred_proba)):\n",
        "  probas_this_instance = pred_proba[idx]\n",
        "  probas_phase = probas_this_instance[:len(phase_lookup)]\n",
        "  y_pred_phase.append(phase_lookup[int(np.argmax(probas_phase))])\n",
        "  probas_arms = probas_this_instance[len(phase_lookup):len(phase_lookup)+5]\n",
        "  y_pred_num_arms.append(1 + int(np.argmax(probas_arms)))\n",
        "  probas_subjects = probas_this_instance[len(phase_lookup)+5:]\n",
        "  y_pred_num_subjects.append(num_subjects_lookup[int(np.argmax(probas_subjects))])\n",
        "\n",
        "df_val[\"y_pred_phase\"] = y_pred_phase\n",
        "df_val[\"y_pred_num_arms\"] = y_pred_num_arms\n",
        "df_val[\"y_pred_num_subjects\"] = y_pred_num_subjects"
      ],
      "metadata": {
        "colab": {
          "base_uri": "https://localhost:8080/"
        },
        "id": "wia77Kufub2v",
        "outputId": "62811c11-67c0-428a-ba29-9d061a633971"
      },
      "id": "wia77Kufub2v",
      "execution_count": 128,
      "outputs": [
        {
          "output_type": "stream",
          "name": "stderr",
          "text": [
            "/usr/local/lib/python3.7/dist-packages/ipykernel_launcher.py:13: SettingWithCopyWarning: \n",
            "A value is trying to be set on a copy of a slice from a DataFrame.\n",
            "Try using .loc[row_indexer,col_indexer] = value instead\n",
            "\n",
            "See the caveats in the documentation: https://pandas.pydata.org/pandas-docs/stable/user_guide/indexing.html#returning-a-view-versus-a-copy\n",
            "  del sys.path[0]\n",
            "/usr/local/lib/python3.7/dist-packages/ipykernel_launcher.py:14: SettingWithCopyWarning: \n",
            "A value is trying to be set on a copy of a slice from a DataFrame.\n",
            "Try using .loc[row_indexer,col_indexer] = value instead\n",
            "\n",
            "See the caveats in the documentation: https://pandas.pydata.org/pandas-docs/stable/user_guide/indexing.html#returning-a-view-versus-a-copy\n",
            "  \n",
            "/usr/local/lib/python3.7/dist-packages/ipykernel_launcher.py:15: SettingWithCopyWarning: \n",
            "A value is trying to be set on a copy of a slice from a DataFrame.\n",
            "Try using .loc[row_indexer,col_indexer] = value instead\n",
            "\n",
            "See the caveats in the documentation: https://pandas.pydata.org/pandas-docs/stable/user_guide/indexing.html#returning-a-view-versus-a-copy\n",
            "  from ipykernel import kernelapp as app\n"
          ]
        }
      ]
    },
    {
      "cell_type": "code",
      "source": [],
      "metadata": {
        "id": "DbBjX9-agkVH"
      },
      "id": "DbBjX9-agkVH",
      "execution_count": 128,
      "outputs": []
    },
    {
      "cell_type": "markdown",
      "source": [
        "## Phase"
      ],
      "metadata": {
        "id": "ZNUbeGPw5KWg"
      },
      "id": "ZNUbeGPw5KWg"
    },
    {
      "cell_type": "code",
      "source": [
        "acc = accuracy_score(df_val.phase_clean.apply(str), df_val[\"y_pred_phase\"])\n",
        "print (f\"Phase accuracy {acc}\")"
      ],
      "metadata": {
        "colab": {
          "base_uri": "https://localhost:8080/"
        },
        "id": "sznpf_e24NvP",
        "outputId": "6fc1208a-8721-4c0f-8b0a-8bf515c29f8b"
      },
      "id": "sznpf_e24NvP",
      "execution_count": 129,
      "outputs": [
        {
          "output_type": "stream",
          "name": "stdout",
          "text": [
            "Phase accuracy 0.5410138248847927\n"
          ]
        }
      ]
    },
    {
      "cell_type": "code",
      "source": [
        "ConfusionMatrixDisplay.from_predictions(df_val.phase_clean.apply(str), df_val[\"y_pred_phase\"])\n",
        "plt.xticks(rotation=90)\n",
        ";"
      ],
      "metadata": {
        "colab": {
          "base_uri": "https://localhost:8080/",
          "height": 314
        },
        "id": "zLJ_MQih4T9n",
        "outputId": "e87fa795-377e-4a51-b725-5ca4fd102f19"
      },
      "id": "zLJ_MQih4T9n",
      "execution_count": 130,
      "outputs": [
        {
          "output_type": "execute_result",
          "data": {
            "text/plain": [
              "''"
            ],
            "application/vnd.google.colaboratory.intrinsic+json": {
              "type": "string"
            }
          },
          "metadata": {},
          "execution_count": 130
        },
        {
          "output_type": "display_data",
          "data": {
            "text/plain": [
              "<Figure size 432x288 with 2 Axes>"
            ],
            "image/png": "[encoded data removed]"
          },
          "metadata": {
            "needs_background": "light"
          }
        }
      ]
    },
    {
      "cell_type": "markdown",
      "source": [
        "# Number of arms"
      ],
      "metadata": {
        "id": "Fz_EyOrB5PXa"
      },
      "id": "Fz_EyOrB5PXa"
    },
    {
      "cell_type": "code",
      "source": [
        "acc = accuracy_score(df_val.num_arms_clean.apply(float).apply(str), df_val[\"y_pred_num_arms\"].apply(float).apply(str))\n",
        "print (f\"Num arms accuracy {acc}\")"
      ],
      "metadata": {
        "colab": {
          "base_uri": "https://localhost:8080/"
        },
        "id": "X8IsVDo34YTg",
        "outputId": "83342d13-9d8a-40d4-8bfb-7bf5910da7df"
      },
      "id": "X8IsVDo34YTg",
      "execution_count": 131,
      "outputs": [
        {
          "output_type": "stream",
          "name": "stdout",
          "text": [
            "Num arms accuracy 0.5483870967741935\n"
          ]
        }
      ]
    },
    {
      "cell_type": "code",
      "source": [
        "ConfusionMatrixDisplay.from_predictions(df_val.num_arms_clean.apply(float).apply(str), df_val[\"y_pred_num_arms\"].apply(float).apply(str))\n",
        "plt.xticks(rotation=90)\n",
        ";"
      ],
      "metadata": {
        "colab": {
          "base_uri": "https://localhost:8080/",
          "height": 307
        },
        "id": "idb1W6VE4kIp",
        "outputId": "4c32cab3-f3c4-4319-8aff-be73ac9c5a09"
      },
      "id": "idb1W6VE4kIp",
      "execution_count": 132,
      "outputs": [
        {
          "output_type": "execute_result",
          "data": {
            "text/plain": [
              "''"
            ],
            "application/vnd.google.colaboratory.intrinsic+json": {
              "type": "string"
            }
          },
          "metadata": {},
          "execution_count": 132
        },
        {
          "output_type": "display_data",
          "data": {
            "text/plain": [
              "<Figure size 432x288 with 2 Axes>"
            ],
            "image/png": "[encoded data removed]"
          },
          "metadata": {
            "needs_background": "light"
          }
        }
      ]
    },
    {
      "cell_type": "markdown",
      "source": [
        "## Subjects"
      ],
      "metadata": {
        "id": "lLWC7P1k5NSX"
      },
      "id": "lLWC7P1k5NSX"
    },
    {
      "cell_type": "code",
      "source": [
        "acc = accuracy_score(df_val.num_subjects_clean, df_val[\"y_pred_num_subjects\"])\n",
        "print (f\"Subjects accuracy {acc}\")"
      ],
      "metadata": {
        "id": "rYhLhDmnNuAl",
        "outputId": "cd1f7d2c-99cb-40b0-ee51-34890b4b9ae7",
        "colab": {
          "base_uri": "https://localhost:8080/"
        }
      },
      "id": "rYhLhDmnNuAl",
      "execution_count": 133,
      "outputs": [
        {
          "output_type": "stream",
          "name": "stdout",
          "text": [
            "Subjects accuracy 0.29400921658986173\n"
          ]
        }
      ]
    },
    {
      "cell_type": "code",
      "source": [
        "ConfusionMatrixDisplay.from_predictions(df_val.num_subjects_clean, df_val[\"y_pred_num_subjects\"], labels=num_subjects_list)\n",
        "plt.xticks(rotation=90)\n",
        ";"
      ],
      "metadata": {
        "id": "XOiQVXB0NuHC",
        "outputId": "58a5ccf5-f878-4998-a7f5-cf8327c70a40",
        "colab": {
          "base_uri": "https://localhost:8080/",
          "height": 328
        }
      },
      "id": "XOiQVXB0NuHC",
      "execution_count": 134,
      "outputs": [
        {
          "output_type": "execute_result",
          "data": {
            "text/plain": [
              "''"
            ],
            "application/vnd.google.colaboratory.intrinsic+json": {
              "type": "string"
            }
          },
          "metadata": {},
          "execution_count": 134
        },
        {
          "output_type": "display_data",
          "data": {
            "text/plain": [
              "<Figure size 432x288 with 2 Axes>"
            ],
            "image/png": "[encoded data removed]"
          },
          "metadata": {
            "needs_background": "light"
          }
        }
      ]
    },
    {
      "cell_type": "code",
      "source": [
        "num_correct = 0\n",
        "for idx in range(len(df_val)):\n",
        "  gt = num_subjects_clean_map[df_val[\"num_subjects_clean\"].iloc[idx]]\n",
        "  pred = num_subjects_clean_map[df_val[\"y_pred_num_subjects\"].iloc[idx]]\n",
        "  is_correct = int(np.abs(gt - pred) <= 1)\n",
        "  num_correct += is_correct\n",
        "print (\"Accuracy including adjacent groups\", num_correct/len(df_val))"
      ],
      "metadata": {
        "colab": {
          "base_uri": "https://localhost:8080/"
        },
        "id": "VzFHDCRtmBA6",
        "outputId": "26636150-4839-4dac-ab66-63a222455f36"
      },
      "id": "VzFHDCRtmBA6",
      "execution_count": 135,
      "outputs": [
        {
          "output_type": "stream",
          "name": "stdout",
          "text": [
            "Accuracy including adjacent groups 0.6608294930875576\n"
          ]
        }
      ]
    },
    {
      "cell_type": "code",
      "source": [],
      "metadata": {
        "id": "1MU1NT4T_DLO"
      },
      "id": "1MU1NT4T_DLO",
      "execution_count": null,
      "outputs": []
    }
  ],
  "metadata": {
    "colab": {
      "provenance": [],
      "collapsed_sections": [],
      "machine_shape": "hm",
      "include_colab_link": true
    },
    "kernelspec": {
      "display_name": "conda_tensorflow_p36",
      "language": "python",
      "name": "conda_tensorflow_p36"
    },
    "language_info": {
      "codemirror_mode": {
        "name": "ipython",
        "version": 3
      },
      "file_extension": ".py",
      "mimetype": "text/x-python",
      "name": "python",
      "nbconvert_exporter": "python",
      "pygments_lexer": "ipython3",
      "version": "3.6.13"
    },
    "accelerator": "GPU",
    "gpuClass": "premium"
  },
  "nbformat": 4,
  "nbformat_minor": 5
}