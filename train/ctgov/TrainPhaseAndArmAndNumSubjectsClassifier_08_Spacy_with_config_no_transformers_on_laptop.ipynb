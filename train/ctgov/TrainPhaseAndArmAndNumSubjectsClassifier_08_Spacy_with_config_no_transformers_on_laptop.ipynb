{
 "cells": [
  {
   "cell_type": "markdown",
   "id": "489109ad",
   "metadata": {
    "colab_type": "text",
    "id": "view-in-github"
   },
   "source": [
    "<a href=\"https://colab.research.google.com/github/fastdatascience/clinical_trial_risk/blob/fixes_nov_2022/train/ctgov/TrainPhaseAndArmAndNumSubjectsClassifier_07_Spacy_with_config_no_transformers.ipynb\" target=\"_parent\"><img src=\"https://colab.research.google.com/assets/colab-badge.svg\" alt=\"Open In Colab\"/></a>"
   ]
  },
  {
   "cell_type": "markdown",
   "id": "QFH0LayX5B9I",
   "metadata": {
    "id": "QFH0LayX5B9I"
   },
   "source": [
    "TODO: make config without transformers\n",
    "\n",
    "1.   List item\n",
    "2.   List item\n",
    "\n"
   ]
  },
  {
   "cell_type": "code",
   "execution_count": null,
   "id": "EpG7zWxUgCKW",
   "metadata": {
    "id": "EpG7zWxUgCKW"
   },
   "outputs": [],
   "source": [
    "#!pip install spacy-transformers"
   ]
  },
  {
   "cell_type": "code",
   "execution_count": 1,
   "id": "3t_pIMzNf0jN",
   "metadata": {
    "colab": {
     "base_uri": "https://localhost:8080/"
    },
    "id": "3t_pIMzNf0jN",
    "outputId": "268a26b2-5662-4088-b919-35e1d9f1e437"
   },
   "outputs": [
    {
     "name": "stdout",
     "output_type": "stream",
     "text": [
      "2022-11-14 20:58:27.862751: I tensorflow/core/util/util.cc:169] oneDNN custom operations are on. You may see slightly different numerical results due to floating-point round-off errors from different computation orders. To turn them off, set the environment variable `TF_ENABLE_ONEDNN_OPTS=0`.\n",
      "\u001b[38;5;2m✔ Auto-filled config with all values\u001b[0m\n",
      "\u001b[38;5;2m✔ Saved config\u001b[0m\n",
      "spacy_textcat_07.cfg\n",
      "You can now add your data and train your pipeline:\n",
      "python -m spacy train spacy_textcat_07.cfg --paths.train ./train.spacy --paths.dev ./dev.spacy\n"
     ]
    }
   ],
   "source": [
    "# !python -m spacy init fill-config base_config.cfg spacy_textcat_08.cfg"
   ]
  },
  {
   "cell_type": "code",
   "execution_count": 8,
   "id": "ad812236",
   "metadata": {
    "id": "ad812236"
   },
   "outputs": [],
   "source": [
    "import pandas as pd\n",
    "import re\n",
    "import os\n",
    "import sys\n",
    "import pickle as pkl\n",
    "from sklearn.metrics import accuracy_score, confusion_matrix\n",
    "from sklearn.metrics import ConfusionMatrixDisplay\n",
    "from sklearn.metrics import mean_absolute_error, mean_squared_error\n",
    "from sklearn.metrics import roc_auc_score\n",
    "from sklearn.metrics import roc_curve, auc\n",
    "from IPython.display import display\n",
    "import matplotlib.pyplot as plt\n",
    "import numpy as np\n",
    "import json\n",
    "\n",
    "# df_annotations = pd.read_csv(\"all_annotations.csv\")\n"
   ]
  },
  {
   "cell_type": "markdown",
   "id": "e7ea7d33",
   "metadata": {
    "id": "e7ea7d33"
   },
   "source": [
    "# Get data"
   ]
  },
  {
   "cell_type": "code",
   "execution_count": 9,
   "id": "xCe1anFkGSrt",
   "metadata": {
    "colab": {
     "base_uri": "https://localhost:8080/"
    },
    "id": "xCe1anFkGSrt",
    "outputId": "8e8f75ac-3305-4b83-85d8-ccec83fa08b3"
   },
   "outputs": [
    {
     "ename": "ModuleNotFoundError",
     "evalue": "No module named 'google.colab'",
     "output_type": "error",
     "traceback": [
      "\u001b[0;31m---------------------------------------------------------------------------\u001b[0m",
      "\u001b[0;31mModuleNotFoundError\u001b[0m                       Traceback (most recent call last)",
      "Input \u001b[0;32mIn [9]\u001b[0m, in \u001b[0;36m<cell line: 1>\u001b[0;34m()\u001b[0m\n\u001b[0;32m----> 1\u001b[0m \u001b[38;5;28;01mfrom\u001b[39;00m \u001b[38;5;21;01mgoogle\u001b[39;00m\u001b[38;5;21;01m.\u001b[39;00m\u001b[38;5;21;01mcolab\u001b[39;00m \u001b[38;5;28;01mimport\u001b[39;00m drive\n\u001b[1;32m      2\u001b[0m drive\u001b[38;5;241m.\u001b[39mmount(\u001b[38;5;124m'\u001b[39m\u001b[38;5;124m/content/drive\u001b[39m\u001b[38;5;124m'\u001b[39m)\n",
      "\u001b[0;31mModuleNotFoundError\u001b[0m: No module named 'google.colab'"
     ]
    }
   ],
   "source": [
    "# from google.colab import drive\n",
    "# drive.mount('/content/drive')"
   ]
  },
  {
   "cell_type": "code",
   "execution_count": 3,
   "id": "FdcTHlHsGWnk",
   "metadata": {
    "id": "FdcTHlHsGWnk"
   },
   "outputs": [],
   "source": [
    "# df_annotations= pd.read_csv(\"/content/drive/MyDrive/data/filtered_for_phase_arms_subjects_02.csv.bz2\")"
   ]
  },
  {
   "cell_type": "code",
   "execution_count": 10,
   "id": "4048908c",
   "metadata": {
    "id": "4048908c"
   },
   "outputs": [],
   "source": [
    "# df_annotations= pd.read_csv(\"filtered_for_phase_arms_subjects_02.csv.bz2\")\n",
    "df_annotations= pd.read_csv(\"/home/thomas/Downloads/filtered_for_phase_arms_subjects.csv.bz2\")"
   ]
  },
  {
   "cell_type": "code",
   "execution_count": 5,
   "id": "wGilqqbTi76N",
   "metadata": {
    "id": "wGilqqbTi76N"
   },
   "outputs": [],
   "source": [
    "#df_annotations.text = df_annotations.text.apply(lambda t : t[:10000] if len(t) > 10000 else t)"
   ]
  },
  {
   "cell_type": "code",
   "execution_count": 11,
   "id": "mZ82V337HouW",
   "metadata": {
    "id": "mZ82V337HouW"
   },
   "outputs": [],
   "source": [
    "def get_num_subjects_clean(num):\n",
    "    if pd.isna(num):\n",
    "        return None\n",
    "    if num >= 10000:\n",
    "        return \"10000+\"\n",
    "    if num >= 1000:\n",
    "        return \"1000+\"\n",
    "    if num >= 500:\n",
    "        return \"500+\"\n",
    "    if num >= 200:\n",
    "        return \"200+\"\n",
    "    if num >= 100:\n",
    "        return \"100+\"\n",
    "    if num >= 50:\n",
    "        return \"50+\"\n",
    "    if num >= 25:\n",
    "        return \"25+\"\n",
    "    return \"1-24\"\n",
    "df_annotations[\"num_subjects_clean\"] = df_annotations[\"num_subjects\"].apply(get_num_subjects_clean)"
   ]
  },
  {
   "cell_type": "code",
   "execution_count": 12,
   "id": "cKMRrJjQIF7U",
   "metadata": {
    "colab": {
     "base_uri": "https://localhost:8080/"
    },
    "id": "cKMRrJjQIF7U",
    "outputId": "0c87d784-b569-453a-d46d-b594dd915ebd"
   },
   "outputs": [
    {
     "data": {
      "text/plain": [
       "25+       80\n",
       "100+      79\n",
       "50+       74\n",
       "200+      73\n",
       "1-24      55\n",
       "500+      26\n",
       "1000+     22\n",
       "10000+     9\n",
       "Name: num_subjects_clean, dtype: int64"
      ]
     },
     "execution_count": 12,
     "metadata": {},
     "output_type": "execute_result"
    }
   ],
   "source": [
    "df_annotations[\"num_subjects_clean\"].value_counts()"
   ]
  },
  {
   "cell_type": "code",
   "execution_count": 13,
   "id": "89e1c4f0",
   "metadata": {
    "id": "89e1c4f0"
   },
   "outputs": [],
   "source": [
    "# df_annotations = pd.read_csv(\"filtered_for_phase.csv.bz2\")"
   ]
  },
  {
   "cell_type": "code",
   "execution_count": 14,
   "id": "a12043ac",
   "metadata": {
    "id": "a12043ac"
   },
   "outputs": [],
   "source": [
    "# del file_to_pages"
   ]
  },
  {
   "cell_type": "code",
   "execution_count": 15,
   "id": "bbe0ba77",
   "metadata": {
    "id": "bbe0ba77"
   },
   "outputs": [],
   "source": [
    "phase_map = {\"Phase 2\":\"2\",\n",
    "\"Phase 3\":\"3\",\n",
    "\"Phase 4\":\"4\",\n",
    "\"Phase 1\":\"1\",\n",
    "\"Phase 1/Phase 2\":\"1.5\",\n",
    "\"Not Applicable\":\"0\",\n",
    "\"Phase 2/Phase 3\":\"2.5\",\n",
    "\"Early Phase 1\":\"0.5\"}\n",
    "df_annotations[\"phase_clean\"] = df_annotations[\"phase\"].apply(lambda x : phase_map.get(x, None))"
   ]
  },
  {
   "cell_type": "code",
   "execution_count": 16,
   "id": "DNjQhXOVrQxj",
   "metadata": {
    "colab": {
     "base_uri": "https://localhost:8080/"
    },
    "id": "DNjQhXOVrQxj",
    "outputId": "c19e2cdb-db81-442f-82dc-9387e1af33d3"
   },
   "outputs": [
    {
     "data": {
      "text/plain": [
       "['0', '0.5', '1', '1.5', '2', '2.5', '3', '4']"
      ]
     },
     "execution_count": 16,
     "metadata": {},
     "output_type": "execute_result"
    }
   ],
   "source": [
    "phase_clean_map = {}\n",
    "for idx, val in enumerate(sorted(set(phase_map.values()), key = lambda x : float(x))):\n",
    "  phase_clean_map[val] = idx\n",
    "# invert the dictionary\n",
    "phase_lookup = {v: k for k, v in phase_clean_map.items()}\n",
    "\n",
    "phase_list = [phase_lookup[x] for x in sorted(phase_lookup)]\n",
    "phase_list"
   ]
  },
  {
   "cell_type": "code",
   "execution_count": 17,
   "id": "f99e999b",
   "metadata": {
    "id": "f99e999b"
   },
   "outputs": [],
   "source": [
    "def get_num_arms_clean(num):\n",
    "    if pd.isna(num):\n",
    "        return None\n",
    "    if num >= 5:\n",
    "        num = 5\n",
    "    return num\n",
    "df_annotations[\"num_arms_clean\"] = df_annotations[\"num_arms\"].apply(get_num_arms_clean)"
   ]
  },
  {
   "cell_type": "markdown",
   "id": "Tq8Iseh1e_uQ",
   "metadata": {
    "id": "Tq8Iseh1e_uQ"
   },
   "source": [
    "# Begin Spacy"
   ]
  },
  {
   "cell_type": "code",
   "execution_count": 18,
   "id": "0HHgTj8Qfub9",
   "metadata": {
    "id": "0HHgTj8Qfub9"
   },
   "outputs": [],
   "source": [
    "num_subjects_clean_map = {}\n",
    "for idx, val in enumerate(sorted(set(df_annotations[~df_annotations.num_subjects_clean.isna()].num_subjects_clean), key = lambda x : int(re.sub(r'\\D.*$', '', x)))):\n",
    "  num_subjects_clean_map[val] = idx"
   ]
  },
  {
   "cell_type": "code",
   "execution_count": 19,
   "id": "6jQQHMvxkC2l",
   "metadata": {
    "id": "6jQQHMvxkC2l"
   },
   "outputs": [],
   "source": [
    "# invert the dictionary\n",
    "num_subjects_lookup = {v: k for k, v in num_subjects_clean_map.items()}"
   ]
  },
  {
   "cell_type": "code",
   "execution_count": 20,
   "id": "C6fm756mlUSk",
   "metadata": {
    "colab": {
     "base_uri": "https://localhost:8080/"
    },
    "id": "C6fm756mlUSk",
    "outputId": "d5cf12bd-8b3a-4d33-b5c8-669603812168"
   },
   "outputs": [
    {
     "data": {
      "text/plain": [
       "['1-24', '25+', '50+', '100+', '200+', '500+', '1000+', '10000+']"
      ]
     },
     "execution_count": 20,
     "metadata": {},
     "output_type": "execute_result"
    }
   ],
   "source": [
    "num_subjects_list = [num_subjects_lookup[x] for x in sorted(num_subjects_lookup)]\n",
    "num_subjects_list"
   ]
  },
  {
   "cell_type": "code",
   "execution_count": 21,
   "id": "sDIKJA57hR-K",
   "metadata": {
    "colab": {
     "base_uri": "https://localhost:8080/"
    },
    "id": "sDIKJA57hR-K",
    "outputId": "9b8ecb25-52ff-463f-89d8-51f6cc0f7f48"
   },
   "outputs": [
    {
     "data": {
      "text/plain": [
       "{'1-24': 0,\n",
       " '25+': 1,\n",
       " '50+': 2,\n",
       " '100+': 3,\n",
       " '200+': 4,\n",
       " '500+': 5,\n",
       " '1000+': 6,\n",
       " '10000+': 7}"
      ]
     },
     "execution_count": 21,
     "metadata": {},
     "output_type": "execute_result"
    }
   ],
   "source": [
    "num_subjects_clean_map"
   ]
  },
  {
   "cell_type": "code",
   "execution_count": 22,
   "id": "EFTomf_xfjTS",
   "metadata": {
    "id": "EFTomf_xfjTS"
   },
   "outputs": [],
   "source": [
    "def get_one_hot_num_subjects(x):\n",
    "  a = [0] * len(num_subjects_clean_map)\n",
    "  if x is None:\n",
    "    return a\n",
    "  a[num_subjects_clean_map[x]] = 1\n",
    "  return a"
   ]
  },
  {
   "cell_type": "code",
   "execution_count": 23,
   "id": "GCf8jZQZiBbC",
   "metadata": {
    "id": "GCf8jZQZiBbC"
   },
   "outputs": [],
   "source": [
    "df_annotations[\"num_subjects_one_hot\"] = df_annotations[\"num_subjects_clean\"].apply(get_one_hot_num_subjects)"
   ]
  },
  {
   "cell_type": "code",
   "execution_count": 24,
   "id": "RoXplcZ6q3N3",
   "metadata": {
    "id": "RoXplcZ6q3N3"
   },
   "outputs": [],
   "source": [
    "df_annotations[\"num_subjects_one_hot\"] = df_annotations[\"num_subjects_clean\"].apply(get_one_hot_num_subjects)"
   ]
  },
  {
   "cell_type": "code",
   "execution_count": 25,
   "id": "bGkQ4LeYq3QR",
   "metadata": {
    "id": "bGkQ4LeYq3QR"
   },
   "outputs": [],
   "source": [
    "def get_one_hot_num_arms(x):\n",
    "  a = [0] * 5\n",
    "  if x is not None and not pd.isna(x):\n",
    "    a[int(x - 1)] = 1\n",
    "  return a\n",
    "df_annotations[\"num_arms_one_hot\"] = df_annotations[\"num_arms_clean\"].apply(get_one_hot_num_arms)"
   ]
  },
  {
   "cell_type": "code",
   "execution_count": 26,
   "id": "POLLhzW_rFvz",
   "metadata": {
    "id": "POLLhzW_rFvz"
   },
   "outputs": [],
   "source": [
    "def get_one_hot_phase(x):\n",
    "  a = [0] * len(phase_clean_map)\n",
    "  if x is None:\n",
    "    return a\n",
    "  a[phase_clean_map[x]] = 1\n",
    "  return a\n",
    "df_annotations[\"phase_one_hot\"] = df_annotations[\"phase_clean\"].apply(get_one_hot_phase)"
   ]
  },
  {
   "cell_type": "markdown",
   "id": "ondugbdEsLJ7",
   "metadata": {
    "id": "ondugbdEsLJ7"
   },
   "source": [
    "Concatenate the three bits of one-hot data into one column"
   ]
  },
  {
   "cell_type": "code",
   "execution_count": 27,
   "id": "eykeDEeFr56g",
   "metadata": {
    "id": "eykeDEeFr56g"
   },
   "outputs": [],
   "source": [
    "concatenated_one_hot = []\n",
    "for i in range(len(df_annotations)):\n",
    "  concatenated = list(df_annotations.phase_one_hot.iloc[i]) + \\\n",
    "  list(df_annotations.num_arms_one_hot.iloc[i]) + \\\n",
    "  list(df_annotations.num_subjects_one_hot.iloc[i]) + [df_annotations.has_sap.iloc[i]]\n",
    "  concatenated_one_hot.append(concatenated)\n",
    "df_annotations[\"concatenated_one_hot\"] = concatenated_one_hot"
   ]
  },
  {
   "cell_type": "code",
   "execution_count": 28,
   "id": "eFM7jbfutXfu",
   "metadata": {
    "colab": {
     "base_uri": "https://localhost:8080/"
    },
    "id": "eFM7jbfutXfu",
    "outputId": "daea0ec7-f858-472a-fa61-2406c84553eb"
   },
   "outputs": [
    {
     "data": {
      "text/plain": [
       "2.4634350888963437"
      ]
     },
     "execution_count": 28,
     "metadata": {},
     "output_type": "execute_result"
    }
   ],
   "source": [
    "np.sum(np.asarray([np.asarray(x) for x in df_annotations[\"concatenated_one_hot\"]]), axis=1).mean()"
   ]
  },
  {
   "cell_type": "code",
   "execution_count": 29,
   "id": "YmCgmZh3tmkn",
   "metadata": {
    "colab": {
     "base_uri": "https://localhost:8080/"
    },
    "id": "YmCgmZh3tmkn",
    "outputId": "1c56c6b6-9af3-4c10-c8a2-2b8c6a2634d2"
   },
   "outputs": [
    {
     "data": {
      "text/plain": [
       "array([ 519,  135, 1154,  983, 4317,  297, 2725, 1461, 3086, 5228, 1456,\n",
       "        908,  913,   55,   80,   74,   79,   73,   26,   22,    9, 5774])"
      ]
     },
     "execution_count": 29,
     "metadata": {},
     "output_type": "execute_result"
    }
   ],
   "source": [
    "np.sum(np.asarray([np.asarray(x) for x in df_annotations[\"concatenated_one_hot\"]]), axis=0)"
   ]
  },
  {
   "cell_type": "code",
   "execution_count": 30,
   "id": "yuUe_QwxsQRE",
   "metadata": {
    "colab": {
     "base_uri": "https://localhost:8080/"
    },
    "id": "yuUe_QwxsQRE",
    "outputId": "8f878e67-4a87-49cb-d8c8-d4018e841388"
   },
   "outputs": [
    {
     "name": "stdout",
     "output_type": "stream",
     "text": [
      "There are 22 classes in this multi-label classifier\n"
     ]
    }
   ],
   "source": [
    "num_classes = len(concatenated)\n",
    "print (f\"There are {num_classes} classes in this multi-label classifier\")"
   ]
  },
  {
   "cell_type": "code",
   "execution_count": 31,
   "id": "F_VhjeihirIu",
   "metadata": {
    "id": "F_VhjeihirIu"
   },
   "outputs": [],
   "source": [
    "df_train = df_annotations[df_annotations.train_val == \"train\"]\n",
    "df_val = df_annotations[df_annotations.train_val == \"val\"]"
   ]
  },
  {
   "cell_type": "code",
   "execution_count": 32,
   "id": "pIWANTOGqDkg",
   "metadata": {
    "id": "pIWANTOGqDkg"
   },
   "outputs": [],
   "source": [
    "df_train_got_some_ground_truths = df_train[~df_train.num_subjects_clean.isna() | ~df_train.num_arms_clean.isna() | ~df_train.phase_clean.isna()]"
   ]
  },
  {
   "cell_type": "code",
   "execution_count": 33,
   "id": "yfw08MW2sYTw",
   "metadata": {
    "colab": {
     "base_uri": "https://localhost:8080/"
    },
    "id": "yfw08MW2sYTw",
    "outputId": "8df9e329-e912-4f6c-e232-8011e55759a5"
   },
   "outputs": [
    {
     "data": {
      "text/plain": [
       "(9313, 9538)"
      ]
     },
     "execution_count": 33,
     "metadata": {},
     "output_type": "execute_result"
    }
   ],
   "source": [
    "len(df_train_got_some_ground_truths), len(df_train)"
   ]
  },
  {
   "cell_type": "markdown",
   "id": "e6da254a",
   "metadata": {
    "id": "e6da254a"
   },
   "source": [
    "# Begin Spacy"
   ]
  },
  {
   "cell_type": "code",
   "execution_count": null,
   "id": "eb7993bd",
   "metadata": {
    "id": "eb7993bd"
   },
   "outputs": [],
   "source": [
    "# TRAINING_DATA = [\n",
    "#     [\"My little kitty is so special\", {\"KAT0\": True}],\n",
    "#     [\"Dude, Totally, Yeah, Video Games\", {\"KAT1\": True}],\n",
    "#     [\"Should I pay $1,000 for the iPhone X?\", {\"KAT1\": True}],\n",
    "#     [\"The iPhone 8 reviews are here\", {\"KAT1\": True}],\n",
    "#     [\"Noa is a great cat name.\", {\"KAT0\": True}],\n",
    "#     [\"We got a new kitten!\", {\"KAT0\": True}]\n",
    "# ]\n",
    "\n",
    "# TRAINING_DATA = []\n",
    "# for idx in range(len(df_train)):\n",
    "#     cats = {}\n",
    "#     for a in range(num_classes):\n",
    "#         cats[str(a)] = df_annotations[\"concatenated_one_hot\"].iloc[idx][a]\n",
    "\n",
    "#     text = df_train.text.iloc[idx]\n",
    "#     if len(text) > 1000000:\n",
    "#         text = text[:1000000]\n",
    "    \n",
    "#     TRAINING_DATA.append([text , cats])"
   ]
  },
  {
   "cell_type": "markdown",
   "id": "vJX8GSp2k1jB",
   "metadata": {
    "id": "vJX8GSp2k1jB"
   },
   "source": [
    "## Preprocess everything into two DocBins so that we can train from the command line with spaCy"
   ]
  },
  {
   "cell_type": "code",
   "execution_count": null,
   "id": "zKHF4luDhdK1",
   "metadata": {
    "colab": {
     "base_uri": "https://localhost:8080/"
    },
    "id": "zKHF4luDhdK1",
    "outputId": "06972baa-d1da-4f88-8633-b1ddec8d0fc0"
   },
   "outputs": [
    {
     "name": "stdout",
     "output_type": "stream",
     "text": [
      "0 11926\n",
      "100 11926\n",
      "200 11926\n",
      "300 11926\n",
      "400 11926\n",
      "500 11926\n",
      "600 11926\n",
      "700 11926\n",
      "800 11926\n",
      "900 11926\n",
      "1000 11926\n",
      "1100 11926\n",
      "1200 11926\n",
      "1300 11926\n",
      "1400 11926\n",
      "1500 11926\n",
      "1600 11926\n",
      "1700 11926\n",
      "1800 11926\n",
      "1900 11926\n",
      "2000 11926\n",
      "2100 11926\n",
      "2200 11926\n",
      "2300 11926\n",
      "2400 11926\n",
      "2500 11926\n",
      "2600 11926\n",
      "2700 11926\n",
      "2800 11926\n",
      "2900 11926\n",
      "3000 11926\n",
      "3100 11926\n",
      "3200 11926\n",
      "3300 11926\n",
      "3400 11926\n",
      "3500 11926\n",
      "3600 11926\n",
      "3700 11926\n",
      "3800 11926\n",
      "3900 11926\n",
      "4000 11926\n",
      "4100 11926\n",
      "4200 11926\n",
      "4300 11926\n",
      "4400 11926\n",
      "4500 11926\n",
      "4600 11926\n",
      "4700 11926\n",
      "4800 11926\n",
      "4900 11926\n",
      "5000 11926\n",
      "5100 11926\n",
      "5200 11926\n",
      "5300 11926\n",
      "5400 11926\n",
      "5500 11926\n",
      "5600 11926\n",
      "5700 11926\n",
      "5800 11926\n",
      "5900 11926\n",
      "6000 11926\n",
      "6100 11926\n",
      "6200 11926\n",
      "6300 11926\n",
      "6400 11926\n",
      "6500 11926\n",
      "6600 11926\n",
      "6700 11926\n",
      "6800 11926\n",
      "6900 11926\n",
      "7000 11926\n",
      "7100 11926\n",
      "7200 11926\n",
      "7300 11926\n",
      "7400 11926\n",
      "7500 11926\n",
      "7600 11926\n",
      "7700 11926\n",
      "7800 11926\n",
      "7900 11926\n",
      "8000 11926\n",
      "8100 11926\n",
      "8200 11926\n",
      "8300 11926\n",
      "8400 11926\n",
      "8500 11926\n",
      "8600 11926\n",
      "8700 11926\n",
      "8800 11926\n",
      "8900 11926\n",
      "9000 11926\n",
      "9100 11926\n",
      "9200 11926\n",
      "9300 11926\n",
      "9400 11926\n",
      "9500 11926\n",
      "9600 11926\n",
      "9700 11926\n",
      "9800 11926\n",
      "9900 11926\n",
      "10000 11926\n",
      "10100 11926\n",
      "10200 11926\n",
      "10300 11926\n",
      "10400 11926\n",
      "10500 11926\n",
      "10600 11926\n",
      "10700 11926\n",
      "10800 11926\n",
      "10900 11926\n",
      "11000 11926\n",
      "11100 11926\n",
      "11200 11926\n",
      "11300 11926\n",
      "11400 11926\n",
      "11500 11926\n",
      "11600 11926\n",
      "11700 11926\n",
      "11800 11926\n",
      "11900 11926\n"
     ]
    }
   ],
   "source": [
    "import spacy\n",
    "\n",
    "nlp = spacy.blank(\"en\")\n",
    "from spacy.tokens import DocBin\n",
    "\n",
    "docs_train = []\n",
    "for i in range(10):\n",
    "  docs_train.append(DocBin())\n",
    "docs_val = DocBin()\n",
    "\n",
    "for idx in range(len(df_annotations)):\n",
    "  if idx % 100 == 0:\n",
    "    print (idx, len(df_annotations))\n",
    "  if df_annotations.train_val.iloc[idx] == \"train\":\n",
    "    docs_list = docs_train[idx % 10]\n",
    "  else:\n",
    "    docs_list = docs_val\n",
    "  text = str(df_annotations.text.iloc[idx])\n",
    "  if len(text) > 100000:\n",
    "      text = text[:100000]\n",
    "  doc = nlp(text)\n",
    "\n",
    "  cats = {}\n",
    "  for a in range(num_classes):\n",
    "        cats[str(a)] = df_annotations[\"concatenated_one_hot\"].iloc[idx][a]\n",
    "  doc.cats = cats\n",
    "\n",
    "  docs_list.add(doc)"
   ]
  },
  {
   "cell_type": "code",
   "execution_count": null,
   "id": "7LLBAyjkisjm",
   "metadata": {
    "id": "7LLBAyjkisjm"
   },
   "outputs": [],
   "source": [
    "# docs_train.to_disk(\"train.spacy\")\n",
    "docs_val.to_disk(\"dev.spacy\")"
   ]
  },
  {
   "cell_type": "code",
   "execution_count": null,
   "id": "uhVOW2-Sp70P",
   "metadata": {
    "id": "uhVOW2-Sp70P"
   },
   "outputs": [],
   "source": [
    "docs_val.to_disk(\"/content/drive/MyDrive/data/dev.spacy\")"
   ]
  },
  {
   "cell_type": "code",
   "execution_count": null,
   "id": "bbV7xnZip2Wj",
   "metadata": {
    "colab": {
     "base_uri": "https://localhost:8080/"
    },
    "id": "bbV7xnZip2Wj",
    "outputId": "c77d8feb-7132-4105-b334-0630bdadba88"
   },
   "outputs": [
    {
     "name": "stdout",
     "output_type": "stream",
     "text": [
      "mkdir: cannot create directory ‘/content/drive/MyDrive/data/train.spacy’: File exists\n"
     ]
    }
   ],
   "source": [
    "# !mkdir train.spacy\n",
    "# !mkdir /content/drive/MyDrive/data/train.spacy\n"
   ]
  },
  {
   "cell_type": "code",
   "execution_count": null,
   "id": "k3qf7_xEo_Dx",
   "metadata": {
    "id": "k3qf7_xEo_Dx"
   },
   "outputs": [],
   "source": [
    "for idx, doc_bin_train in enumerate(docs_train):\n",
    "  doc_bin_train.to_disk(f\"train.spacy/train_doc_bin{idx}.spacy\")\n",
    "  doc_bin_train.to_disk(f\"/content/drive/MyDrive/data/train.spacy/train_doc_bin{idx}.spacy\")"
   ]
  },
  {
   "cell_type": "markdown",
   "id": "h14ok40dsYqT",
   "metadata": {
    "id": "h14ok40dsYqT"
   },
   "source": [
    "# Begin training using spaCy CLI"
   ]
  },
  {
   "cell_type": "code",
   "execution_count": null,
   "id": "PghYHYDVgktY",
   "metadata": {
    "colab": {
     "base_uri": "https://localhost:8080/"
    },
    "id": "PghYHYDVgktY",
    "outputId": "89c24a19-94fb-4ac5-bb52-71b4b1ce5cf1"
   },
   "outputs": [
    {
     "name": "stdout",
     "output_type": "stream",
     "text": [
      "2022-11-14 21:18:44.156906: I tensorflow/core/platform/cpu_feature_guard.cc:193] This TensorFlow binary is optimized with oneAPI Deep Neural Network Library (oneDNN) to use the following CPU instructions in performance-critical operations:  AVX2 FMA\n",
      "To enable them in other operations, rebuild TensorFlow with the appropriate compiler flags.\n",
      "2022-11-14 21:18:44.291071: W tensorflow/stream_executor/platform/default/dso_loader.cc:64] Could not load dynamic library 'libcudart.so.11.0'; dlerror: libcudart.so.11.0: cannot open shared object file: No such file or directory\n",
      "2022-11-14 21:18:44.291097: I tensorflow/stream_executor/cuda/cudart_stub.cc:29] Ignore above cudart dlerror if you do not have a GPU set up on your machine.\n",
      "2022-11-14 21:18:44.316201: E tensorflow/stream_executor/cuda/cuda_blas.cc:2981] Unable to register cuBLAS factory: Attempting to register factory for plugin cuBLAS when one has already been registered\n",
      "2022-11-14 21:18:44.822589: W tensorflow/stream_executor/platform/default/dso_loader.cc:64] Could not load dynamic library 'libnvinfer.so.7'; dlerror: libnvinfer.so.7: cannot open shared object file: No such file or directory\n",
      "2022-11-14 21:18:44.822680: W tensorflow/stream_executor/platform/default/dso_loader.cc:64] Could not load dynamic library 'libnvinfer_plugin.so.7'; dlerror: libnvinfer_plugin.so.7: cannot open shared object file: No such file or directory\n",
      "2022-11-14 21:18:44.822693: W tensorflow/compiler/tf2tensorrt/utils/py_utils.cc:38] TF-TRT Warning: Cannot dlopen some TensorRT libraries. If you would like to use Nvidia GPU with TensorRT, please make sure the missing libraries mentioned above are installed properly.\n",
      "2022-11-14 21:18:45.813173: I tensorflow/stream_executor/cuda/cuda_gpu_executor.cc:980] successful NUMA node read from SysFS had negative value (-1), but there must be at least one NUMA node, so returning NUMA node zero\n",
      "2022-11-14 21:18:45.813554: W tensorflow/stream_executor/platform/default/dso_loader.cc:64] Could not load dynamic library 'libcudart.so.11.0'; dlerror: libcudart.so.11.0: cannot open shared object file: No such file or directory\n",
      "2022-11-14 21:18:45.813630: W tensorflow/stream_executor/platform/default/dso_loader.cc:64] Could not load dynamic library 'libcublas.so.11'; dlerror: libcublas.so.11: cannot open shared object file: No such file or directory\n",
      "2022-11-14 21:18:45.813683: W tensorflow/stream_executor/platform/default/dso_loader.cc:64] Could not load dynamic library 'libcublasLt.so.11'; dlerror: libcublasLt.so.11: cannot open shared object file: No such file or directory\n",
      "2022-11-14 21:18:45.813734: W tensorflow/stream_executor/platform/default/dso_loader.cc:64] Could not load dynamic library 'libcufft.so.10'; dlerror: libcufft.so.10: cannot open shared object file: No such file or directory\n",
      "2022-11-14 21:18:45.813786: W tensorflow/stream_executor/platform/default/dso_loader.cc:64] Could not load dynamic library 'libcurand.so.10'; dlerror: libcurand.so.10: cannot open shared object file: No such file or directory\n",
      "2022-11-14 21:18:45.813838: W tensorflow/stream_executor/platform/default/dso_loader.cc:64] Could not load dynamic library 'libcusolver.so.11'; dlerror: libcusolver.so.11: cannot open shared object file: No such file or directory\n",
      "2022-11-14 21:18:45.813889: W tensorflow/stream_executor/platform/default/dso_loader.cc:64] Could not load dynamic library 'libcusparse.so.11'; dlerror: libcusparse.so.11: cannot open shared object file: No such file or directory\n",
      "2022-11-14 21:18:45.813941: W tensorflow/stream_executor/platform/default/dso_loader.cc:64] Could not load dynamic library 'libcudnn.so.8'; dlerror: libcudnn.so.8: cannot open shared object file: No such file or directory\n",
      "2022-11-14 21:18:45.813951: W tensorflow/core/common_runtime/gpu/gpu_device.cc:1934] Cannot dlopen some GPU libraries. Please make sure the missing libraries mentioned above are installed properly if you would like to use GPU. Follow the guide at https://www.tensorflow.org/install/gpu for how to download and setup the required libraries for your platform.\n",
      "Skipping registering GPU devices...\n",
      "\u001b[38;5;2m✔ Created output directory: output_textcat_08\u001b[0m\n",
      "\u001b[38;5;4mℹ Saving to output directory: output_textcat_08\u001b[0m\n",
      "\u001b[38;5;4mℹ Using CPU\u001b[0m\n",
      "\u001b[1m\n",
      "=========================== Initializing pipeline ===========================\u001b[0m\n",
      "[2022-11-14 21:18:48,028] [INFO] Set up nlp object from config\n",
      "[2022-11-14 21:18:48,039] [INFO] Pipeline: ['textcat_multilabel']\n",
      "[2022-11-14 21:18:48,041] [INFO] Created vocabulary\n",
      "[2022-11-14 21:18:48,042] [INFO] Finished initializing nlp object\n"
     ]
    }
   ],
   "source": [
    "!python -m spacy train ./spacy_textcat_08.cfg --output output_textcat_08 --paths.train train.spacy --paths.dev dev.spacy "
   ]
  },
  {
   "cell_type": "code",
   "execution_count": null,
   "id": "mDLgJUS-jCCd",
   "metadata": {
    "id": "mDLgJUS-jCCd"
   },
   "outputs": [],
   "source": [
    "nlp = spacy.load(\"/content/drive/MyDrive/data/output_textcat_08\")"
   ]
  },
  {
   "cell_type": "code",
   "execution_count": null,
   "id": "89103b7c",
   "metadata": {
    "id": "89103b7c"
   },
   "outputs": [],
   "source": [
    "predictions = []\n",
    "for idx in range(len(df_val)):\n",
    "    doc = nlp(df_val.text.apply(str).iloc[idx])\n",
    "    predictions.append(doc.cats)"
   ]
  },
  {
   "cell_type": "code",
   "execution_count": null,
   "id": "4832e5ba",
   "metadata": {
    "id": "4832e5ba"
   },
   "outputs": [],
   "source": [
    "pred_proba = []\n",
    "for idx in range(len(df_val)):\n",
    "    pred_proba.append([predictions[idx][a] for a in range(num_classes)])"
   ]
  },
  {
   "cell_type": "code",
   "execution_count": null,
   "id": "wia77Kufub2v",
   "metadata": {
    "id": "wia77Kufub2v"
   },
   "outputs": [],
   "source": [
    "y_pred_phase = []\n",
    "y_pred_num_arms = []\n",
    "y_pred_num_subjects = []\n",
    "y_pred_sap = []\n",
    "for idx in range(len(pred_proba)):\n",
    "  probas_this_instance = pred_proba[idx]\n",
    "  probas_phase = probas_this_instance[:len(phase_lookup)]\n",
    "  y_pred_phase.append(phase_lookup[int(np.argmax(probas_phase))])\n",
    "  probas_arms = probas_this_instance[len(phase_lookup):len(phase_lookup)+5]\n",
    "  y_pred_num_arms.append(1 + int(np.argmax(probas_arms)))\n",
    "  probas_subjects = probas_this_instance[len(phase_lookup)+5:-1]\n",
    "  y_pred_num_subjects.append(num_subjects_lookup[int(np.argmax(probas_subjects))])\n",
    "  probas_sap = probas_this_instance[-1:]\n",
    "  y_pred_sap.append(probas_sap[0] > 0.5)\n",
    "\n",
    "df_val[\"y_pred_phase\"] = y_pred_phase\n",
    "df_val[\"y_pred_num_arms\"] = y_pred_num_arms\n",
    "df_val[\"y_pred_num_subjects\"] = y_pred_num_subjects\n",
    "df_val[\"y_pred_sap\"] = y_pred_sap"
   ]
  },
  {
   "cell_type": "code",
   "execution_count": null,
   "id": "DbBjX9-agkVH",
   "metadata": {
    "id": "DbBjX9-agkVH"
   },
   "outputs": [],
   "source": []
  },
  {
   "cell_type": "markdown",
   "id": "ZNUbeGPw5KWg",
   "metadata": {
    "id": "ZNUbeGPw5KWg"
   },
   "source": [
    "## Phase"
   ]
  },
  {
   "cell_type": "code",
   "execution_count": null,
   "id": "sznpf_e24NvP",
   "metadata": {
    "id": "sznpf_e24NvP"
   },
   "outputs": [],
   "source": [
    "acc = accuracy_score(df_val.phase_clean.apply(str), df_val[\"y_pred_phase\"])\n",
    "print (f\"Phase accuracy {acc}\")"
   ]
  },
  {
   "cell_type": "code",
   "execution_count": null,
   "id": "zLJ_MQih4T9n",
   "metadata": {
    "id": "zLJ_MQih4T9n"
   },
   "outputs": [],
   "source": [
    "ConfusionMatrixDisplay.from_predictions(df_val.phase_clean.apply(str), df_val[\"y_pred_phase\"])\n",
    "plt.xticks(rotation=90)\n",
    ";"
   ]
  },
  {
   "cell_type": "markdown",
   "id": "Fz_EyOrB5PXa",
   "metadata": {
    "id": "Fz_EyOrB5PXa"
   },
   "source": [
    "# Number of arms"
   ]
  },
  {
   "cell_type": "code",
   "execution_count": null,
   "id": "X8IsVDo34YTg",
   "metadata": {
    "id": "X8IsVDo34YTg"
   },
   "outputs": [],
   "source": [
    "acc = accuracy_score(df_val.num_arms_clean.apply(float).apply(str), df_val[\"y_pred_num_arms\"].apply(float).apply(str))\n",
    "print (f\"Num arms accuracy {acc}\")"
   ]
  },
  {
   "cell_type": "code",
   "execution_count": null,
   "id": "idb1W6VE4kIp",
   "metadata": {
    "id": "idb1W6VE4kIp"
   },
   "outputs": [],
   "source": [
    "ConfusionMatrixDisplay.from_predictions(df_val.num_arms_clean.apply(float).apply(str), df_val[\"y_pred_num_arms\"].apply(float).apply(str))\n",
    "plt.xticks(rotation=90)\n",
    ";"
   ]
  },
  {
   "cell_type": "markdown",
   "id": "lLWC7P1k5NSX",
   "metadata": {
    "id": "lLWC7P1k5NSX"
   },
   "source": [
    "## Subjects"
   ]
  },
  {
   "cell_type": "code",
   "execution_count": null,
   "id": "rYhLhDmnNuAl",
   "metadata": {
    "id": "rYhLhDmnNuAl"
   },
   "outputs": [],
   "source": [
    "acc = accuracy_score(df_val.num_subjects_clean, df_val[\"y_pred_num_subjects\"])\n",
    "print (f\"Subjects accuracy {acc}\")"
   ]
  },
  {
   "cell_type": "code",
   "execution_count": null,
   "id": "XOiQVXB0NuHC",
   "metadata": {
    "id": "XOiQVXB0NuHC"
   },
   "outputs": [],
   "source": [
    "ConfusionMatrixDisplay.from_predictions(df_val.num_subjects_clean, df_val[\"y_pred_num_subjects\"], labels=num_subjects_list)\n",
    "plt.xticks(rotation=90)\n",
    ";"
   ]
  },
  {
   "cell_type": "code",
   "execution_count": null,
   "id": "VzFHDCRtmBA6",
   "metadata": {
    "id": "VzFHDCRtmBA6"
   },
   "outputs": [],
   "source": [
    "num_correct = 0\n",
    "for idx in range(len(df_val)):\n",
    "  gt = num_subjects_clean_map[df_val[\"num_subjects_clean\"].iloc[idx]]\n",
    "  pred = num_subjects_clean_map[df_val[\"y_pred_num_subjects\"].iloc[idx]]\n",
    "  is_correct = int(np.abs(gt - pred) <= 1)\n",
    "  num_correct += is_correct\n",
    "print (\"Accuracy including adjacent groups\", num_correct/len(df_val))"
   ]
  },
  {
   "cell_type": "code",
   "execution_count": null,
   "id": "1MU1NT4T_DLO",
   "metadata": {
    "id": "1MU1NT4T_DLO"
   },
   "outputs": [],
   "source": []
  },
  {
   "cell_type": "markdown",
   "id": "tNsHUs9VBl4u",
   "metadata": {
    "id": "tNsHUs9VBl4u"
   },
   "source": [
    "## SAP"
   ]
  },
  {
   "cell_type": "code",
   "execution_count": null,
   "id": "w9KjSCypBmgs",
   "metadata": {
    "id": "w9KjSCypBmgs"
   },
   "outputs": [],
   "source": [
    "acc = accuracy_score(df_val.has_sap, df_val[\"y_pred_sap\"])\n",
    "print (f\"SAP accuracy {acc}\")"
   ]
  },
  {
   "cell_type": "code",
   "execution_count": null,
   "id": "Yt36Zw4wB4P9",
   "metadata": {
    "id": "Yt36Zw4wB4P9"
   },
   "outputs": [],
   "source": [
    "ConfusionMatrixDisplay.from_predictions(df_val.has_sap, df_val[\"y_pred_sap\"])\n",
    "plt.xticks(rotation=90)\n",
    ";"
   ]
  },
  {
   "cell_type": "code",
   "execution_count": null,
   "id": "f5f4a3b1",
   "metadata": {
    "id": "f5f4a3b1"
   },
   "outputs": [],
   "source": []
  },
  {
   "cell_type": "code",
   "execution_count": null,
   "id": "96d94c76",
   "metadata": {
    "id": "96d94c76"
   },
   "outputs": [],
   "source": []
  },
  {
   "cell_type": "code",
   "execution_count": 34,
   "id": "dd10b723",
   "metadata": {
    "id": "dd10b723"
   },
   "outputs": [],
   "source": []
  }
 ],
 "metadata": {
  "colab": {
   "collapsed_sections": [],
   "include_colab_link": true,
   "machine_shape": "hm",
   "provenance": []
  },
  "gpuClass": "premium",
  "kernelspec": {
   "display_name": "Python [conda env:py310] *",
   "language": "python",
   "name": "conda-env-py310-py"
  },
  "language_info": {
   "codemirror_mode": {
    "name": "ipython",
    "version": 3
   },
   "file_extension": ".py",
   "mimetype": "text/x-python",
   "name": "python",
   "nbconvert_exporter": "python",
   "pygments_lexer": "ipython3",
   "version": "3.10.4"
  }
 },
 "nbformat": 4,
 "nbformat_minor": 5
}
