{
 "cells": [
  {
   "cell_type": "markdown",
   "id": "view-in-github",
   "metadata": {
    "id": "view-in-github"
   },
   "source": [
    "<a href=\"https://colab.research.google.com/github/fastdatascience/clinical_trial_risk/blob/fixes_nov_2022/train/ctgov/TrainPhaseAndArmAndNumSubjectsClassifier_02_Keras.ipynb\" target=\"_parent\"><img src=\"https://colab.research.google.com/assets/colab-badge.svg\" alt=\"Open In Colab\"/></a>"
   ]
  },
  {
   "cell_type": "code",
   "execution_count": 1,
   "id": "ad812236",
   "metadata": {
    "id": "ad812236"
   },
   "outputs": [],
   "source": [
    "import pandas as pd\n",
    "import re\n",
    "import os\n",
    "import sys\n",
    "import pickle as pkl\n",
    "from sklearn.metrics import accuracy_score, confusion_matrix\n",
    "from sklearn.metrics import ConfusionMatrixDisplay\n",
    "from sklearn.metrics import mean_absolute_error, mean_squared_error\n",
    "from sklearn.metrics import roc_auc_score\n",
    "from sklearn.metrics import roc_curve, auc\n",
    "from IPython.display import display\n",
    "import matplotlib.pyplot as plt\n",
    "import numpy as np\n",
    "import json\n",
    "\n",
    "# df_annotations = pd.read_csv(\"all_annotations.csv\")\n"
   ]
  },
  {
   "cell_type": "code",
   "execution_count": null,
   "id": "2NNBbnc0JzF2",
   "metadata": {
    "id": "2NNBbnc0JzF2"
   },
   "outputs": [],
   "source": []
  },
  {
   "cell_type": "markdown",
   "id": "e7ea7d33",
   "metadata": {
    "id": "e7ea7d33"
   },
   "source": [
    "# Get data"
   ]
  },
  {
   "cell_type": "code",
   "execution_count": 8,
   "id": "xCe1anFkGSrt",
   "metadata": {
    "colab": {
     "base_uri": "https://localhost:8080/"
    },
    "id": "xCe1anFkGSrt",
    "outputId": "875a72fb-8920-4334-b7a5-add549b8d85a"
   },
   "outputs": [],
   "source": [
    "# from google.colab import drive\n",
    "# drive.mount('/content/drive')"
   ]
  },
  {
   "cell_type": "code",
   "execution_count": null,
   "id": "FdcTHlHsGWnk",
   "metadata": {
    "id": "FdcTHlHsGWnk"
   },
   "outputs": [],
   "source": [
    "# df_annotations= pd.read_csv(\"/content/drive/MyDrive/data/filtered_for_phase_arms_subjects_02.csv.bz2\")"
   ]
  },
  {
   "cell_type": "code",
   "execution_count": 9,
   "id": "73bb609f",
   "metadata": {},
   "outputs": [],
   "source": [
    "#df_annotations= pd.read_csv(\"filtered_for_phase_arms_subjects_02.csv.bz2\")\n",
    "df_annotations= pd.read_csv(\"/home/thomas/Downloads/filtered_for_phase_arms_subjects.csv.bz2\")"
   ]
  },
  {
   "cell_type": "code",
   "execution_count": null,
   "id": "wGilqqbTi76N",
   "metadata": {
    "id": "wGilqqbTi76N"
   },
   "outputs": [],
   "source": [
    "#df_annotations.text = df_annotations.text.apply(lambda t : t[:10000] if len(t) > 10000 else t)"
   ]
  },
  {
   "cell_type": "code",
   "execution_count": 10,
   "id": "mZ82V337HouW",
   "metadata": {
    "id": "mZ82V337HouW"
   },
   "outputs": [],
   "source": [
    "def get_num_subjects_clean(num):\n",
    "    if pd.isna(num):\n",
    "        return None\n",
    "    if num >= 10000:\n",
    "        return \"10000+\"\n",
    "    if num >= 1000:\n",
    "        return \"1000+\"\n",
    "    if num >= 500:\n",
    "        return \"500+\"\n",
    "    if num >= 200:\n",
    "        return \"200+\"\n",
    "    if num >= 100:\n",
    "        return \"100+\"\n",
    "    if num >= 50:\n",
    "        return \"50+\"\n",
    "    if num >= 25:\n",
    "        return \"25+\"\n",
    "    return \"1-24\"\n",
    "df_annotations[\"num_subjects_clean\"] = df_annotations[\"num_subjects\"].apply(get_num_subjects_clean)"
   ]
  },
  {
   "cell_type": "code",
   "execution_count": 11,
   "id": "cKMRrJjQIF7U",
   "metadata": {
    "colab": {
     "base_uri": "https://localhost:8080/"
    },
    "id": "cKMRrJjQIF7U",
    "outputId": "0d60cc69-4de4-4562-c364-691c1d8542c7"
   },
   "outputs": [
    {
     "data": {
      "text/plain": [
       "25+       80\n",
       "100+      79\n",
       "50+       74\n",
       "200+      73\n",
       "1-24      55\n",
       "500+      26\n",
       "1000+     22\n",
       "10000+     9\n",
       "Name: num_subjects_clean, dtype: int64"
      ]
     },
     "execution_count": 11,
     "metadata": {},
     "output_type": "execute_result"
    }
   ],
   "source": [
    "df_annotations[\"num_subjects_clean\"].value_counts()"
   ]
  },
  {
   "cell_type": "code",
   "execution_count": 12,
   "id": "89e1c4f0",
   "metadata": {
    "id": "89e1c4f0"
   },
   "outputs": [],
   "source": [
    "# df_annotations = pd.read_csv(\"filtered_for_phase.csv.bz2\")"
   ]
  },
  {
   "cell_type": "code",
   "execution_count": 13,
   "id": "a12043ac",
   "metadata": {
    "id": "a12043ac"
   },
   "outputs": [],
   "source": [
    "# del file_to_pages"
   ]
  },
  {
   "cell_type": "code",
   "execution_count": 14,
   "id": "bbe0ba77",
   "metadata": {
    "id": "bbe0ba77"
   },
   "outputs": [],
   "source": [
    "phase_map = {\"Phase 2\":\"2\",\n",
    "\"Phase 3\":\"3\",\n",
    "\"Phase 4\":\"4\",\n",
    "\"Phase 1\":\"1\",\n",
    "\"Phase 1/Phase 2\":\"1.5\",\n",
    "\"Not Applicable\":\"0\",\n",
    "\"Phase 2/Phase 3\":\"2.5\",\n",
    "\"Early Phase 1\":\"0.5\"}\n",
    "df_annotations[\"phase_clean\"] = df_annotations[\"phase\"].apply(lambda x : phase_map.get(x, None))"
   ]
  },
  {
   "cell_type": "code",
   "execution_count": 15,
   "id": "DNjQhXOVrQxj",
   "metadata": {
    "colab": {
     "base_uri": "https://localhost:8080/"
    },
    "id": "DNjQhXOVrQxj",
    "outputId": "c39bf399-9d21-44b9-9020-8b1a2e2ba8f4"
   },
   "outputs": [
    {
     "data": {
      "text/plain": [
       "['0', '0.5', '1', '1.5', '2', '2.5', '3', '4']"
      ]
     },
     "execution_count": 15,
     "metadata": {},
     "output_type": "execute_result"
    }
   ],
   "source": [
    "phase_clean_map = {}\n",
    "for idx, val in enumerate(sorted(set(phase_map.values()), key = lambda x : float(x))):\n",
    "  phase_clean_map[val] = idx\n",
    "# invert the dictionary\n",
    "phase_lookup = {v: k for k, v in phase_clean_map.items()}\n",
    "\n",
    "phase_list = [phase_lookup[x] for x in sorted(phase_lookup)]\n",
    "phase_list"
   ]
  },
  {
   "cell_type": "code",
   "execution_count": 16,
   "id": "f99e999b",
   "metadata": {
    "id": "f99e999b"
   },
   "outputs": [],
   "source": [
    "def get_num_arms_clean(num):\n",
    "    if pd.isna(num):\n",
    "        return None\n",
    "    if num >= 5:\n",
    "        num = 5\n",
    "    return num\n",
    "df_annotations[\"num_arms_clean\"] = df_annotations[\"num_arms\"].apply(get_num_arms_clean)"
   ]
  },
  {
   "cell_type": "markdown",
   "id": "Tq8Iseh1e_uQ",
   "metadata": {
    "id": "Tq8Iseh1e_uQ"
   },
   "source": [
    "# Begin Spacy"
   ]
  },
  {
   "cell_type": "code",
   "execution_count": 17,
   "id": "0HHgTj8Qfub9",
   "metadata": {
    "id": "0HHgTj8Qfub9"
   },
   "outputs": [],
   "source": [
    "num_subjects_clean_map = {}\n",
    "for idx, val in enumerate(sorted(set(df_annotations[~df_annotations.num_subjects_clean.isna()].num_subjects_clean), key = lambda x : int(re.sub(r'\\D.*$', '', x)))):\n",
    "  num_subjects_clean_map[val] = idx"
   ]
  },
  {
   "cell_type": "code",
   "execution_count": 18,
   "id": "6jQQHMvxkC2l",
   "metadata": {
    "id": "6jQQHMvxkC2l"
   },
   "outputs": [],
   "source": [
    "# invert the dictionary\n",
    "num_subjects_lookup = {v: k for k, v in num_subjects_clean_map.items()}"
   ]
  },
  {
   "cell_type": "code",
   "execution_count": 19,
   "id": "C6fm756mlUSk",
   "metadata": {
    "colab": {
     "base_uri": "https://localhost:8080/"
    },
    "id": "C6fm756mlUSk",
    "outputId": "5f75a2c2-0ef7-4746-d248-03f42b6734e6"
   },
   "outputs": [
    {
     "data": {
      "text/plain": [
       "['1-24', '25+', '50+', '100+', '200+', '500+', '1000+', '10000+']"
      ]
     },
     "execution_count": 19,
     "metadata": {},
     "output_type": "execute_result"
    }
   ],
   "source": [
    "num_subjects_list = [num_subjects_lookup[x] for x in sorted(num_subjects_lookup)]\n",
    "num_subjects_list"
   ]
  },
  {
   "cell_type": "code",
   "execution_count": 20,
   "id": "sDIKJA57hR-K",
   "metadata": {
    "colab": {
     "base_uri": "https://localhost:8080/"
    },
    "id": "sDIKJA57hR-K",
    "outputId": "ac07b9e7-b500-44f3-9f80-e8399696590a"
   },
   "outputs": [
    {
     "data": {
      "text/plain": [
       "{'1-24': 0,\n",
       " '25+': 1,\n",
       " '50+': 2,\n",
       " '100+': 3,\n",
       " '200+': 4,\n",
       " '500+': 5,\n",
       " '1000+': 6,\n",
       " '10000+': 7}"
      ]
     },
     "execution_count": 20,
     "metadata": {},
     "output_type": "execute_result"
    }
   ],
   "source": [
    "num_subjects_clean_map"
   ]
  },
  {
   "cell_type": "code",
   "execution_count": 21,
   "id": "EFTomf_xfjTS",
   "metadata": {
    "id": "EFTomf_xfjTS"
   },
   "outputs": [],
   "source": [
    "def get_one_hot_num_subjects(x):\n",
    "  a = [0] * len(num_subjects_clean_map)\n",
    "  if x is None:\n",
    "    return a\n",
    "  a[num_subjects_clean_map[x]] = 1\n",
    "  return a"
   ]
  },
  {
   "cell_type": "code",
   "execution_count": 22,
   "id": "GCf8jZQZiBbC",
   "metadata": {
    "id": "GCf8jZQZiBbC"
   },
   "outputs": [],
   "source": [
    "df_annotations[\"num_subjects_one_hot\"] = df_annotations[\"num_subjects_clean\"].apply(get_one_hot_num_subjects)"
   ]
  },
  {
   "cell_type": "code",
   "execution_count": 23,
   "id": "RoXplcZ6q3N3",
   "metadata": {
    "id": "RoXplcZ6q3N3"
   },
   "outputs": [],
   "source": [
    "df_annotations[\"num_subjects_one_hot\"] = df_annotations[\"num_subjects_clean\"].apply(get_one_hot_num_subjects)"
   ]
  },
  {
   "cell_type": "code",
   "execution_count": 24,
   "id": "bGkQ4LeYq3QR",
   "metadata": {
    "id": "bGkQ4LeYq3QR"
   },
   "outputs": [],
   "source": [
    "def get_one_hot_num_arms(x):\n",
    "  a = [0] * 5\n",
    "  if x is not None and not pd.isna(x):\n",
    "    a[int(x - 1)] = 1\n",
    "  return a\n",
    "df_annotations[\"num_arms_one_hot\"] = df_annotations[\"num_arms_clean\"].apply(get_one_hot_num_arms)"
   ]
  },
  {
   "cell_type": "code",
   "execution_count": 25,
   "id": "POLLhzW_rFvz",
   "metadata": {
    "id": "POLLhzW_rFvz"
   },
   "outputs": [],
   "source": [
    "def get_one_hot_phase(x):\n",
    "  a = [0] * len(phase_clean_map)\n",
    "  if x is None:\n",
    "    return a\n",
    "  a[phase_clean_map[x]] = 1\n",
    "  return a\n",
    "df_annotations[\"phase_one_hot\"] = df_annotations[\"phase_clean\"].apply(get_one_hot_phase)"
   ]
  },
  {
   "cell_type": "markdown",
   "id": "ondugbdEsLJ7",
   "metadata": {
    "id": "ondugbdEsLJ7"
   },
   "source": [
    "Concatenate the three bits of one-hot data into one column"
   ]
  },
  {
   "cell_type": "code",
   "execution_count": 26,
   "id": "eykeDEeFr56g",
   "metadata": {
    "id": "eykeDEeFr56g"
   },
   "outputs": [],
   "source": [
    "concatenated_one_hot = []\n",
    "for i in range(len(df_annotations)):\n",
    "  concatenated = list(df_annotations.phase_one_hot.iloc[i]) + \\\n",
    "  list(df_annotations.num_arms_one_hot.iloc[i]) + \\\n",
    "  list(df_annotations.num_subjects_one_hot.iloc[i]) + [df_annotations.has_sap.iloc[i]]\n",
    "  concatenated_one_hot.append(concatenated)\n",
    "df_annotations[\"concatenated_one_hot\"] = concatenated_one_hot"
   ]
  },
  {
   "cell_type": "code",
   "execution_count": 27,
   "id": "eFM7jbfutXfu",
   "metadata": {
    "colab": {
     "base_uri": "https://localhost:8080/"
    },
    "id": "eFM7jbfutXfu",
    "outputId": "37243eed-b0f0-4413-9e63-43cd5ec69bb3"
   },
   "outputs": [
    {
     "data": {
      "text/plain": [
       "2.4634350888963437"
      ]
     },
     "execution_count": 27,
     "metadata": {},
     "output_type": "execute_result"
    }
   ],
   "source": [
    "np.sum(np.asarray([np.asarray(x) for x in df_annotations[\"concatenated_one_hot\"]]), axis=1).mean()"
   ]
  },
  {
   "cell_type": "code",
   "execution_count": 28,
   "id": "YmCgmZh3tmkn",
   "metadata": {
    "colab": {
     "base_uri": "https://localhost:8080/"
    },
    "id": "YmCgmZh3tmkn",
    "outputId": "54ba9b4d-20a2-4757-8cdd-0f1f69b72255"
   },
   "outputs": [
    {
     "data": {
      "text/plain": [
       "array([ 519,  135, 1154,  983, 4317,  297, 2725, 1461, 3086, 5228, 1456,\n",
       "        908,  913,   55,   80,   74,   79,   73,   26,   22,    9, 5774])"
      ]
     },
     "execution_count": 28,
     "metadata": {},
     "output_type": "execute_result"
    }
   ],
   "source": [
    "np.sum(np.asarray([np.asarray(x) for x in df_annotations[\"concatenated_one_hot\"]]), axis=0)"
   ]
  },
  {
   "cell_type": "code",
   "execution_count": 29,
   "id": "yuUe_QwxsQRE",
   "metadata": {
    "colab": {
     "base_uri": "https://localhost:8080/"
    },
    "id": "yuUe_QwxsQRE",
    "outputId": "84f250a4-24b1-48bc-a615-0b1ff0d0876a"
   },
   "outputs": [
    {
     "name": "stdout",
     "output_type": "stream",
     "text": [
      "There are 22 classes in this multi-label classifier\n"
     ]
    }
   ],
   "source": [
    "num_classes = len(concatenated)\n",
    "print (f\"There are {num_classes} classes in this multi-label classifier\")"
   ]
  },
  {
   "cell_type": "code",
   "execution_count": 30,
   "id": "F_VhjeihirIu",
   "metadata": {
    "id": "F_VhjeihirIu"
   },
   "outputs": [],
   "source": [
    "df_train = df_annotations[df_annotations.train_val == \"train\"]\n",
    "df_val = df_annotations[df_annotations.train_val == \"val\"]"
   ]
  },
  {
   "cell_type": "code",
   "execution_count": 31,
   "id": "pIWANTOGqDkg",
   "metadata": {
    "id": "pIWANTOGqDkg"
   },
   "outputs": [],
   "source": [
    "df_train_got_some_ground_truths = df_train[~df_train.num_subjects_clean.isna() | ~df_train.num_arms_clean.isna() | ~df_train.phase_clean.isna()]"
   ]
  },
  {
   "cell_type": "code",
   "execution_count": 32,
   "id": "yfw08MW2sYTw",
   "metadata": {
    "colab": {
     "base_uri": "https://localhost:8080/"
    },
    "id": "yfw08MW2sYTw",
    "outputId": "a750c2c2-1e62-475a-fb88-a0f07f06f8ba"
   },
   "outputs": [
    {
     "data": {
      "text/plain": [
       "(9313, 9538)"
      ]
     },
     "execution_count": 32,
     "metadata": {},
     "output_type": "execute_result"
    }
   ],
   "source": [
    "len(df_train_got_some_ground_truths), len(df_train)"
   ]
  },
  {
   "cell_type": "markdown",
   "id": "b8d40c74",
   "metadata": {},
   "source": [
    "# Begin Spacy"
   ]
  },
  {
   "cell_type": "code",
   "execution_count": 34,
   "id": "f357c9a0",
   "metadata": {},
   "outputs": [],
   "source": [
    "# TRAINING_DATA = [\n",
    "#     [\"My little kitty is so special\", {\"KAT0\": True}],\n",
    "#     [\"Dude, Totally, Yeah, Video Games\", {\"KAT1\": True}],\n",
    "#     [\"Should I pay $1,000 for the iPhone X?\", {\"KAT1\": True}],\n",
    "#     [\"The iPhone 8 reviews are here\", {\"KAT1\": True}],\n",
    "#     [\"Noa is a great cat name.\", {\"KAT0\": True}],\n",
    "#     [\"We got a new kitten!\", {\"KAT0\": True}]\n",
    "# ]\n",
    "\n",
    "TRAINING_DATA = []\n",
    "for idx in range(len(df_train)):\n",
    "    cats = {}\n",
    "    for a in range(num_classes):\n",
    "        cats[str(a)] = df_annotations[\"concatenated_one_hot\"].iloc[idx][a]\n",
    "\n",
    "    text = df_train.text.iloc[idx]\n",
    "    if len(text) > 1000000:\n",
    "        text = text[:1000000]\n",
    "    \n",
    "    TRAINING_DATA.append([text , cats])"
   ]
  },
  {
   "cell_type": "code",
   "execution_count": null,
   "id": "1f2b3f38",
   "metadata": {},
   "outputs": [],
   "source": [
    "import spacy\n",
    "# Add imports for example, as well as textcat config...\n",
    "from spacy.training import Example\n",
    "from spacy.pipeline.textcat_multilabel import multi_label_default_config\n",
    "from thinc.api import Config\n",
    "import random\n",
    "\n",
    "# labels should be one-hot encoded\n",
    "\n",
    "\n",
    "\n",
    "# bow\n",
    "# config = Config().from_str(single_label_bow_config)\n",
    "\n",
    "# textensemble with attention\n",
    "config = Config().from_str(multi_label_default_config)\n",
    "\n",
    "nlp = spacy.blank(\"en\")\n",
    "# now uses `add_pipe` instead\n",
    "category = nlp.add_pipe(\"textcat_multilabel\", last=True, config=config)\n",
    "for a in range(num_classes):\n",
    "    category.add_label(str(a))\n",
    "# Start the training\n",
    "nlp.begin_training()\n",
    "\n",
    "# Loop for 10 iterations\n",
    "for itn in range(100):\n",
    "    # Shuffle the training data\n",
    "    random.shuffle(TRAINING_DATA)\n",
    "    losses = {}\n",
    "\n",
    "    # Batch the examples and iterate over them\n",
    "    for batch in spacy.util.minibatch(TRAINING_DATA, size=4):\n",
    "        texts = [nlp.make_doc(text) for text, entities in batch]\n",
    "        annotations = [{\"cats\": entities} for text, entities in batch]\n",
    "\n",
    "        # uses an example object rather than text/annotation tuple\n",
    "        examples = [Example.from_dict(doc, annotation) for doc, annotation in zip(\n",
    "            texts, annotations\n",
    "        )]\n",
    "        nlp.update(examples, losses=losses)\n",
    "    if itn % 20 == 0:\n",
    "        print(losses)\n"
   ]
  },
  {
   "cell_type": "code",
   "execution_count": null,
   "id": "0975b820",
   "metadata": {},
   "outputs": [],
   "source": [
    "predictions = []\n",
    "for idx in range(len(df_val)):\n",
    "    doc = nlp(df_val.text.apply(str).iloc[idx])\n",
    "    predictions.append(doc.cats)"
   ]
  },
  {
   "cell_type": "code",
   "execution_count": null,
   "id": "497b852f",
   "metadata": {},
   "outputs": [],
   "source": [
    "pred_proba = []\n",
    "for idx in range(len(df_val)):\n",
    "    pred_proba.append([predictions[idx][a] for a in range(len(num_classes))])"
   ]
  },
  {
   "cell_type": "code",
   "execution_count": null,
   "id": "wia77Kufub2v",
   "metadata": {
    "colab": {
     "base_uri": "https://localhost:8080/"
    },
    "id": "wia77Kufub2v",
    "outputId": "62811c11-67c0-428a-ba29-9d061a633971"
   },
   "outputs": [],
   "source": [
    "y_pred_phase = []\n",
    "y_pred_num_arms = []\n",
    "y_pred_num_subjects = []\n",
    "y_pred_sap = []\n",
    "for idx in range(len(pred_proba)):\n",
    "  probas_this_instance = pred_proba[idx]\n",
    "  probas_phase = probas_this_instance[:len(phase_lookup)]\n",
    "  y_pred_phase.append(phase_lookup[int(np.argmax(probas_phase))])\n",
    "  probas_arms = probas_this_instance[len(phase_lookup):len(phase_lookup)+5]\n",
    "  y_pred_num_arms.append(1 + int(np.argmax(probas_arms)))\n",
    "  probas_subjects = probas_this_instance[len(phase_lookup)+5:-1]\n",
    "  y_pred_num_subjects.append(num_subjects_lookup[int(np.argmax(probas_subjects))])\n",
    "  probas_sap = probas_this_instance[-1:]\n",
    "  y_pred_sap.append(probas_sap[0] > 0.5)\n",
    "\n",
    "df_val[\"y_pred_phase\"] = y_pred_phase\n",
    "df_val[\"y_pred_num_arms\"] = y_pred_num_arms\n",
    "df_val[\"y_pred_num_subjects\"] = y_pred_num_subjects\n",
    "df_val[\"y_pred_sap\"] = y_pred_sap"
   ]
  },
  {
   "cell_type": "code",
   "execution_count": null,
   "id": "DbBjX9-agkVH",
   "metadata": {
    "id": "DbBjX9-agkVH"
   },
   "outputs": [],
   "source": []
  },
  {
   "cell_type": "markdown",
   "id": "ZNUbeGPw5KWg",
   "metadata": {
    "id": "ZNUbeGPw5KWg"
   },
   "source": [
    "## Phase"
   ]
  },
  {
   "cell_type": "code",
   "execution_count": null,
   "id": "sznpf_e24NvP",
   "metadata": {
    "colab": {
     "base_uri": "https://localhost:8080/"
    },
    "id": "sznpf_e24NvP",
    "outputId": "6fc1208a-8721-4c0f-8b0a-8bf515c29f8b"
   },
   "outputs": [],
   "source": [
    "acc = accuracy_score(df_val.phase_clean.apply(str), df_val[\"y_pred_phase\"])\n",
    "print (f\"Phase accuracy {acc}\")"
   ]
  },
  {
   "cell_type": "code",
   "execution_count": null,
   "id": "zLJ_MQih4T9n",
   "metadata": {
    "colab": {
     "base_uri": "https://localhost:8080/",
     "height": 314
    },
    "id": "zLJ_MQih4T9n",
    "outputId": "e87fa795-377e-4a51-b725-5ca4fd102f19"
   },
   "outputs": [],
   "source": [
    "ConfusionMatrixDisplay.from_predictions(df_val.phase_clean.apply(str), df_val[\"y_pred_phase\"])\n",
    "plt.xticks(rotation=90)\n",
    ";"
   ]
  },
  {
   "cell_type": "markdown",
   "id": "Fz_EyOrB5PXa",
   "metadata": {
    "id": "Fz_EyOrB5PXa"
   },
   "source": [
    "# Number of arms"
   ]
  },
  {
   "cell_type": "code",
   "execution_count": null,
   "id": "X8IsVDo34YTg",
   "metadata": {
    "colab": {
     "base_uri": "https://localhost:8080/"
    },
    "id": "X8IsVDo34YTg",
    "outputId": "83342d13-9d8a-40d4-8bfb-7bf5910da7df"
   },
   "outputs": [],
   "source": [
    "acc = accuracy_score(df_val.num_arms_clean.apply(float).apply(str), df_val[\"y_pred_num_arms\"].apply(float).apply(str))\n",
    "print (f\"Num arms accuracy {acc}\")"
   ]
  },
  {
   "cell_type": "code",
   "execution_count": null,
   "id": "idb1W6VE4kIp",
   "metadata": {
    "colab": {
     "base_uri": "https://localhost:8080/",
     "height": 307
    },
    "id": "idb1W6VE4kIp",
    "outputId": "4c32cab3-f3c4-4319-8aff-be73ac9c5a09"
   },
   "outputs": [],
   "source": [
    "ConfusionMatrixDisplay.from_predictions(df_val.num_arms_clean.apply(float).apply(str), df_val[\"y_pred_num_arms\"].apply(float).apply(str))\n",
    "plt.xticks(rotation=90)\n",
    ";"
   ]
  },
  {
   "cell_type": "markdown",
   "id": "lLWC7P1k5NSX",
   "metadata": {
    "id": "lLWC7P1k5NSX"
   },
   "source": [
    "## Subjects"
   ]
  },
  {
   "cell_type": "code",
   "execution_count": null,
   "id": "rYhLhDmnNuAl",
   "metadata": {
    "colab": {
     "base_uri": "https://localhost:8080/"
    },
    "id": "rYhLhDmnNuAl",
    "outputId": "cd1f7d2c-99cb-40b0-ee51-34890b4b9ae7"
   },
   "outputs": [],
   "source": [
    "acc = accuracy_score(df_val.num_subjects_clean, df_val[\"y_pred_num_subjects\"])\n",
    "print (f\"Subjects accuracy {acc}\")"
   ]
  },
  {
   "cell_type": "code",
   "execution_count": null,
   "id": "XOiQVXB0NuHC",
   "metadata": {
    "colab": {
     "base_uri": "https://localhost:8080/",
     "height": 328
    },
    "id": "XOiQVXB0NuHC",
    "outputId": "58a5ccf5-f878-4998-a7f5-cf8327c70a40"
   },
   "outputs": [],
   "source": [
    "ConfusionMatrixDisplay.from_predictions(df_val.num_subjects_clean, df_val[\"y_pred_num_subjects\"], labels=num_subjects_list)\n",
    "plt.xticks(rotation=90)\n",
    ";"
   ]
  },
  {
   "cell_type": "code",
   "execution_count": null,
   "id": "VzFHDCRtmBA6",
   "metadata": {
    "colab": {
     "base_uri": "https://localhost:8080/"
    },
    "id": "VzFHDCRtmBA6",
    "outputId": "26636150-4839-4dac-ab66-63a222455f36"
   },
   "outputs": [],
   "source": [
    "num_correct = 0\n",
    "for idx in range(len(df_val)):\n",
    "  gt = num_subjects_clean_map[df_val[\"num_subjects_clean\"].iloc[idx]]\n",
    "  pred = num_subjects_clean_map[df_val[\"y_pred_num_subjects\"].iloc[idx]]\n",
    "  is_correct = int(np.abs(gt - pred) <= 1)\n",
    "  num_correct += is_correct\n",
    "print (\"Accuracy including adjacent groups\", num_correct/len(df_val))"
   ]
  },
  {
   "cell_type": "code",
   "execution_count": null,
   "id": "1MU1NT4T_DLO",
   "metadata": {
    "id": "1MU1NT4T_DLO"
   },
   "outputs": [],
   "source": []
  },
  {
   "cell_type": "markdown",
   "id": "tNsHUs9VBl4u",
   "metadata": {
    "id": "tNsHUs9VBl4u"
   },
   "source": [
    "## SAP"
   ]
  },
  {
   "cell_type": "code",
   "execution_count": null,
   "id": "w9KjSCypBmgs",
   "metadata": {
    "id": "w9KjSCypBmgs"
   },
   "outputs": [],
   "source": [
    "acc = accuracy_score(df_val.has_sap, df_val[\"y_pred_sap\"])\n",
    "print (f\"SAP accuracy {acc}\")"
   ]
  },
  {
   "cell_type": "code",
   "execution_count": null,
   "id": "Yt36Zw4wB4P9",
   "metadata": {
    "id": "Yt36Zw4wB4P9"
   },
   "outputs": [],
   "source": [
    "ConfusionMatrixDisplay.from_predictions(df_val.has_sap, df_val[\"y_pred_sap\"])\n",
    "plt.xticks(rotation=90)\n",
    ";"
   ]
  },
  {
   "cell_type": "code",
   "execution_count": null,
   "id": "9c458231",
   "metadata": {},
   "outputs": [],
   "source": []
  },
  {
   "cell_type": "code",
   "execution_count": null,
   "id": "162d1445",
   "metadata": {},
   "outputs": [],
   "source": []
  },
  {
   "cell_type": "code",
   "execution_count": null,
   "id": "48c9749b",
   "metadata": {},
   "outputs": [],
   "source": []
  }
 ],
 "metadata": {
  "accelerator": "GPU",
  "colab": {
   "collapsed_sections": [],
   "machine_shape": "hm",
   "provenance": []
  },
  "gpuClass": "premium",
  "kernelspec": {
   "display_name": "Python [conda env:py310] *",
   "language": "python",
   "name": "conda-env-py310-py"
  },
  "language_info": {
   "codemirror_mode": {
    "name": "ipython",
    "version": 3
   },
   "file_extension": ".py",
   "mimetype": "text/x-python",
   "name": "python",
   "nbconvert_exporter": "python",
   "pygments_lexer": "ipython3",
   "version": "3.10.4"
  }
 },
 "nbformat": 4,
 "nbformat_minor": 5
}
