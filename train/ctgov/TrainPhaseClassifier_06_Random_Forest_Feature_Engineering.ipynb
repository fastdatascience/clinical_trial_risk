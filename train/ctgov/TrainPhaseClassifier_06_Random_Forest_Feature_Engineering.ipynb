{
  "nbformat": 4,
  "nbformat_minor": 0,
  "metadata": {
    "colab": {
      "provenance": [],
      "authorship_tag": "ABX9TyOHhAXtvPn8gXCHKdbYgSGJ",
      "include_colab_link": true
    },
    "kernelspec": {
      "name": "python3",
      "display_name": "Python 3"
    },
    "language_info": {
      "name": "python"
    }
  },
  "cells": [
    {
      "cell_type": "markdown",
      "metadata": {
        "id": "view-in-github",
        "colab_type": "text"
      },
      "source": [
        "<a href=\"https://colab.research.google.com/github/fastdatascience/clinical_trial_risk/blob/fixes_nov_2022/train/ctgov/TrainPhaseClassifier_06_Random_Forest_Feature_Engineering.ipynb\" target=\"_parent\"><img src=\"https://colab.research.google.com/assets/colab-badge.svg\" alt=\"Open In Colab\"/></a>"
      ]
    },
    {
      "cell_type": "code",
      "execution_count": 1,
      "metadata": {
        "id": "z4I039MmWh3-"
      },
      "outputs": [],
      "source": [
        "import pandas as pd\n",
        "import re\n",
        "import os\n",
        "import sys\n",
        "import pickle as pkl\n",
        "import seaborn as sns\n",
        "from sklearn.metrics import accuracy_score, confusion_matrix\n",
        "from sklearn.metrics import ConfusionMatrixDisplay\n",
        "from sklearn.metrics import mean_absolute_error, mean_squared_error\n",
        "from sklearn.metrics import roc_auc_score\n",
        "from sklearn.metrics import roc_curve, auc\n",
        "from IPython.display import display\n",
        "import matplotlib.pyplot as plt\n",
        "import numpy as np\n",
        "import json\n",
        "\n"
      ]
    },
    {
      "cell_type": "code",
      "source": [
        "from google.colab import drive\n",
        "drive.mount('/content/drive')"
      ],
      "metadata": {
        "colab": {
          "base_uri": "https://localhost:8080/"
        },
        "id": "man4OQnwWjmy",
        "outputId": "ebb97660-0944-492d-cf95-381436f9a16c"
      },
      "execution_count": 2,
      "outputs": [
        {
          "output_type": "stream",
          "name": "stdout",
          "text": [
            "Mounted at /content/drive\n"
          ]
        }
      ]
    },
    {
      "cell_type": "code",
      "source": [
        "df_annotations = pd.read_csv(\"/content/drive/MyDrive/data/all_annotations.csv\")\n"
      ],
      "metadata": {
        "id": "KNeHWQoxWke6"
      },
      "execution_count": 3,
      "outputs": []
    },
    {
      "cell_type": "code",
      "source": [
        "with open(\"/content/drive/MyDrive/data/protocols.pkl.gz\", \"rb\") as f:\n",
        "    file_to_pages = pkl.load(f)"
      ],
      "metadata": {
        "id": "-mGZr2VcWq32"
      },
      "execution_count": 4,
      "outputs": []
    },
    {
      "cell_type": "code",
      "source": [
        "from nltk.tokenize import RegexpTokenizer\n",
        "\n",
        "# Words and fractions and percentages\n",
        "tok = RegexpTokenizer(r'\\d+[\\.,]\\d+%?|[\\w%]+|=|≤|≥|<|>')\n",
        "\n",
        "\n",
        "def tokenise_text(page: str) -> list:\n",
        "    \"\"\"\n",
        "    Tokenise the content of a single page\n",
        "    :param page:\n",
        "    \"\"\"\n",
        "    for word in tok.tokenize(page):\n",
        "        yield word\n",
        "\n",
        "def tokenise_text_and_lowercase(page: str) -> list:\n",
        "    \"\"\"\n",
        "    Tokenise the content of a single page and return the lowercase of each token\n",
        "    :param page:\n",
        "    \"\"\"\n",
        "    for word in tok.tokenize(page):\n",
        "        yield word.lower()\n",
        "\n",
        "def tokenise_pages(pages):\n",
        "    \"\"\"\n",
        "    Tokenises the lists of pages and returns a list of lists.\n",
        "    This is a custom tokeniser as nunbers and percentages should not be split (e.g. 5.5%).\n",
        "\n",
        "    :param pages: List of strings which each correspond to the content of a single page.\n",
        "    :return: List of lists of tokens.\n",
        "    \"\"\"\n",
        "    tokenised_pages = []\n",
        "\n",
        "    for page in pages:\n",
        "        tokens = []\n",
        "        for word in tokenise_text(page):\n",
        "            tokens.append(word)\n",
        "        tokenised_pages.append(tokens)\n",
        "    return tokenised_pages\n",
        "\n",
        "\n",
        "\n",
        "def iterate_tokens(tokenised_pages):\n",
        "    for page_no, tokens in enumerate(tokenised_pages):\n",
        "        for token_no, token in enumerate(tokens):\n",
        "            yield page_no, token_no, token"
      ],
      "metadata": {
        "id": "kmufphAXWryG"
      },
      "execution_count": 5,
      "outputs": []
    },
    {
      "cell_type": "code",
      "source": [
        "import spacy\n",
        "from spacy.matcher import PhraseMatcher\n",
        "\n",
        "import spacy\n",
        "\n",
        "#nlp = spacy.load('en_core_web_sm', disable=['ner', 'tagger', 'parser', 'lemmatizer'])\n",
        "nlp = spacy.blank(\"en\")\n",
        "\n",
        "\n",
        "phase_synonyms = {0: ['phase 0', 'pilot study'],\n",
        "                  0.5: ['early phase i', 'early phase 1', 'early phase 1.0', 'phase 0.5'],\n",
        "                  1: ['phase i', 'phase 1 b', 'phase 1', 'phase 1.0'],\n",
        "                  1.5: ['phase i ii', 'phase 1 2', 'phase 1 2 a'],\n",
        "                  2: ['phase ii', 'phase 2 b', 'phase 2', 'phase 2.0'],\n",
        "                  2.5: ['phase 2.5', 'phase ii iii'],\n",
        "                  3: ['phase iii', 'phase 3', 'phase 3.0'],\n",
        "                  4: ['phase iv', 'phase 4', 'phase 4.0', 'phase 4 a', 'phase 4 b'],\n",
        "                  }\n",
        "\n",
        "phrase_matcher = PhraseMatcher(nlp.vocab)\n",
        "\n",
        "for phase_number, synonyms in phase_synonyms.items():\n",
        "    phases = [nlp.make_doc(text) for text in synonyms]\n",
        "\n",
        "    phrase_matcher.add(f\"Phase {phase_number}\", None, *phases)\n",
        "\n",
        "\n",
        "class PhaseExtractor:\n",
        "\n",
        "    def process(self, tokenised_pages: list) -> tuple:\n",
        "        \"\"\"\n",
        "        Identify the trial phase.\n",
        "        :param tokenised_pages: List of lists of tokens of each page.\n",
        "        :return: The prediction (str) and a map from phase to the pages it's mentioned in.\n",
        "        \"\"\"\n",
        "\n",
        "        tokenised_pages = [[string.lower() for string in sublist] for sublist in tokenised_pages]\n",
        "\n",
        "        phase_to_pages = {}\n",
        "\n",
        "        for page_number, page_tokens in enumerate(tokenised_pages):\n",
        "            doc = spacy.tokens.doc.Doc(\n",
        "                nlp.vocab, words=page_tokens)\n",
        "            phrase_matches = phrase_matcher(doc)\n",
        "            for word, start, end in phrase_matches:\n",
        "                phase_number = nlp.vocab.strings[word]\n",
        "                if phase_number not in phase_to_pages:\n",
        "                    phase_to_pages[phase_number] = []\n",
        "                phase_to_pages[phase_number].append(page_number)\n",
        "\n",
        "        phase_to_pages = sorted(phase_to_pages.items(), key=lambda v: len(v[1]), reverse=True)\n",
        "\n",
        "        prediction = 0\n",
        "        if len(phase_to_pages) > 0:\n",
        "            prediction = float(phase_to_pages[0][0].split(\" \")[1])\n",
        "\n",
        "        return {\"prediction\": prediction, \"pages\": dict(phase_to_pages)}\n",
        "\n",
        "        # return {\"prediction\": prediction, \"pages\": []}\n"
      ],
      "metadata": {
        "id": "GTzB2FnuW0vS"
      },
      "execution_count": 19,
      "outputs": []
    },
    {
      "cell_type": "code",
      "source": [
        "df_train = df_annotations[df_annotations.train_val == \"train\"]"
      ],
      "metadata": {
        "id": "vY1OIs65W-Bc"
      },
      "execution_count": 20,
      "outputs": []
    },
    {
      "cell_type": "code",
      "source": [
        "phase_map = {'Early Phase 1':0.5,\n",
        " 'Not Applicable':0,\n",
        " 'Phase 1':1,\n",
        " 'Phase 1/Phase 2':1.5,\n",
        " 'Phase 2':2,\n",
        " 'Phase 2/Phase 3':2.5,\n",
        " 'Phase 3':3,\n",
        " 'Phase 4':4}"
      ],
      "metadata": {
        "id": "buT8yYa7Xrd8"
      },
      "execution_count": 28,
      "outputs": []
    },
    {
      "cell_type": "code",
      "source": [
        "df_annotations_small = df_annotations.sample(1000)"
      ],
      "metadata": {
        "id": "18ueRguqcJKs"
      },
      "execution_count": 78,
      "outputs": []
    },
    {
      "cell_type": "code",
      "source": [
        "X_train = []\n",
        "y_train = [] \n",
        "X_val = []\n",
        "y_val = []\n",
        "\n",
        "for idx in range(len(df_annotations_small)):\n",
        "  file_name = df_annotations_small.file.iloc[idx]\n",
        "  if pd.isna(file_name):\n",
        "    continue\n",
        "    \n",
        "  pages= file_to_pages[file_name]\n",
        "\n",
        "  tokenised_pages = tokenise_pages(pages)\n",
        "  gt = df_annotations_small.phase.iloc[idx]\n",
        "\n",
        "  if pd.isna(gt):\n",
        "    continue\n",
        "\n",
        "  gt_float = float(phase_map[gt])\n",
        "  \n",
        "  \n",
        "  tokenised_pages = [[string.lower() for string in sublist] for sublist in tokenised_pages]\n",
        "\n",
        "  phase_to_pages = {}\n",
        "\n",
        "  for page_number, page_tokens in enumerate(tokenised_pages):\n",
        "      doc = spacy.tokens.doc.Doc(\n",
        "          nlp.vocab, words=page_tokens)\n",
        "      phrase_matches = phrase_matcher(doc)\n",
        "      for word, start, end in phrase_matches:\n",
        "          phase_number = nlp.vocab.strings[word]\n",
        "          if phase_number not in phase_to_pages:\n",
        "              phase_to_pages[phase_number] = []\n",
        "          phase_to_pages[phase_number].append(page_number)\n",
        "\n",
        "  phase_to_pages = sorted(phase_to_pages.items(), key=lambda v: len(v[1]), reverse=True)\n",
        "\n",
        "  for idx, (phase, pages) in enumerate(phase_to_pages):\n",
        "    phase_float = float(re.sub(r'\\D', '', phase))\n",
        "    feat_vect = [len(pages), min(pages), max(pages), idx]\n",
        "    y = int(phase_float == gt_float)\n",
        "\n",
        "    if df_annotations_small.train_val.iloc[idx] == \"train\":\n",
        "      X_train.append(feat_vect)\n",
        "      y_train.append(y)\n",
        "    else:\n",
        "      X_val.append(feat_vect)\n",
        "      y_val.append(y)\n",
        "\n",
        "  # if len(X_train) > 10000:\n",
        "  #   break"
      ],
      "metadata": {
        "id": "5-ObCXwPXLic"
      },
      "execution_count": 79,
      "outputs": []
    },
    {
      "cell_type": "code",
      "source": [
        "X_train = np.asarray(X_train)\n",
        "y_train = np.asarray(y_train)\n",
        "X_val = np.asarray(X_train)\n",
        "y_val = np.asarray(y_train)"
      ],
      "metadata": {
        "id": "7vHXDkNWXaY3"
      },
      "execution_count": 80,
      "outputs": []
    },
    {
      "cell_type": "code",
      "source": [
        "from sklearn.linear_model import LogisticRegression"
      ],
      "metadata": {
        "id": "ijfllgP2XpsF"
      },
      "execution_count": 81,
      "outputs": []
    },
    {
      "cell_type": "code",
      "source": [
        "m = LogisticRegression()"
      ],
      "metadata": {
        "id": "hym8MQAVXi5q"
      },
      "execution_count": 82,
      "outputs": []
    },
    {
      "cell_type": "code",
      "source": [
        "m.fit(X_train, y_train)"
      ],
      "metadata": {
        "colab": {
          "base_uri": "https://localhost:8080/"
        },
        "id": "0G063YSvYbmQ",
        "outputId": "1cc270aa-4d67-4670-c3df-1134ff40f07a"
      },
      "execution_count": 83,
      "outputs": [
        {
          "output_type": "execute_result",
          "data": {
            "text/plain": [
              "LogisticRegression()"
            ]
          },
          "metadata": {},
          "execution_count": 83
        }
      ]
    },
    {
      "cell_type": "code",
      "source": [
        "m.coef_"
      ],
      "metadata": {
        "colab": {
          "base_uri": "https://localhost:8080/"
        },
        "id": "IhLtHMe0Z_Ld",
        "outputId": "57398ba7-6943-4d88-eb65-e2f8c953ea98"
      },
      "execution_count": 84,
      "outputs": [
        {
          "output_type": "execute_result",
          "data": {
            "text/plain": [
              "array([[-0.00954524, -0.05893146,  0.00188415, -1.37675775]])"
            ]
          },
          "metadata": {},
          "execution_count": 84
        }
      ]
    },
    {
      "cell_type": "code",
      "source": [
        "y_train"
      ],
      "metadata": {
        "colab": {
          "base_uri": "https://localhost:8080/"
        },
        "id": "UviFrQrza0B-",
        "outputId": "4d388cd8-57d6-42e7-86d6-1959c9d35b61"
      },
      "execution_count": 85,
      "outputs": [
        {
          "output_type": "execute_result",
          "data": {
            "text/plain": [
              "array([1, 0, 1, ..., 1, 0, 0])"
            ]
          },
          "metadata": {},
          "execution_count": 85
        }
      ]
    },
    {
      "cell_type": "code",
      "source": [
        "y_pred = m.predict(X_val)"
      ],
      "metadata": {
        "id": "EuJrHBpabXSJ"
      },
      "execution_count": 85,
      "outputs": []
    },
    {
      "cell_type": "code",
      "source": [
        "from sklearn.metrics import accuracy_score"
      ],
      "metadata": {
        "id": "Vzo1pjXQcXzP"
      },
      "execution_count": 87,
      "outputs": []
    },
    {
      "cell_type": "code",
      "source": [
        "accuracy_score(y_val, y_pred)"
      ],
      "metadata": {
        "colab": {
          "base_uri": "https://localhost:8080/"
        },
        "id": "p5yPqqLYcan4",
        "outputId": "b3bbb4e1-7aa0-4d47-f8dd-798ee3a0be81"
      },
      "execution_count": 88,
      "outputs": [
        {
          "output_type": "execute_result",
          "data": {
            "text/plain": [
              "0.8016643550624133"
            ]
          },
          "metadata": {},
          "execution_count": 88
        }
      ]
    },
    {
      "cell_type": "code",
      "source": [
        "y_pred_proba = m.predict_proba(X_val)"
      ],
      "metadata": {
        "id": "ohSpuvoGcb6T"
      },
      "execution_count": 89,
      "outputs": []
    },
    {
      "cell_type": "code",
      "source": [
        "from sklearn.ensemble import RandomForestClassifier"
      ],
      "metadata": {
        "id": "oUb9uv_Hcuil"
      },
      "execution_count": 91,
      "outputs": []
    },
    {
      "cell_type": "code",
      "source": [
        "m = RandomForestClassifier()"
      ],
      "metadata": {
        "id": "yh-6iQDXczGw"
      },
      "execution_count": 92,
      "outputs": []
    },
    {
      "cell_type": "code",
      "source": [
        "m.fit(X_train, y_train)"
      ],
      "metadata": {
        "colab": {
          "base_uri": "https://localhost:8080/"
        },
        "id": "MiLCkHj6c12v",
        "outputId": "569345b7-96a3-4bf4-8b4f-6c39b28ddd64"
      },
      "execution_count": 93,
      "outputs": [
        {
          "output_type": "execute_result",
          "data": {
            "text/plain": [
              "RandomForestClassifier()"
            ]
          },
          "metadata": {},
          "execution_count": 93
        }
      ]
    },
    {
      "cell_type": "code",
      "source": [
        "y_pred = m.predict(X_val)"
      ],
      "metadata": {
        "id": "Q1siJlCwc57d"
      },
      "execution_count": 94,
      "outputs": []
    },
    {
      "cell_type": "code",
      "source": [
        "accuracy_score(y_val, y_pred)"
      ],
      "metadata": {
        "colab": {
          "base_uri": "https://localhost:8080/"
        },
        "id": "pNHz-o0Tc6ps",
        "outputId": "cba549c4-e09f-452c-eaa5-1416d5a57da8"
      },
      "execution_count": 95,
      "outputs": [
        {
          "output_type": "execute_result",
          "data": {
            "text/plain": [
              "0.9754969949144706"
            ]
          },
          "metadata": {},
          "execution_count": 95
        }
      ]
    },
    {
      "cell_type": "code",
      "source": [
        "y_pred_proba = m.predict_proba(X_val)"
      ],
      "metadata": {
        "id": "00afdeo8c8OZ"
      },
      "execution_count": 96,
      "outputs": []
    },
    {
      "cell_type": "code",
      "source": [
        "import bz2\n",
        "with bz2.open(\"phase_rf_classifier\", \"wb\") as f:\n",
        "    pkl.dump(m, f)"
      ],
      "metadata": {
        "id": "nGoD_IfUdaUn"
      },
      "execution_count": 98,
      "outputs": []
    },
    {
      "cell_type": "code",
      "source": [
        "import matplotlib.pyplot as plt\n",
        "\n",
        "plt.figure()\n",
        "lw = 2\n",
        "    \n",
        "fpr, tpr, _ = roc_curve(y_val, y_pred_proba[:,1])\n",
        "roc_auc = auc(fpr, tpr)\n",
        "plt.plot(\n",
        "    fpr,\n",
        "    tpr,\n",
        "    # color=\"darkorange\",\n",
        "    lw=lw,\n",
        "    label=f\"ROC curve subjects (area = {roc_auc:0.2f})\"\n",
        ")\n",
        "plt.plot([0, 1], [0, 1], color=\"gray\", alpha=0.5, lw=lw, linestyle=\"--\")\n",
        "plt.xlim([0.0, 1.0])\n",
        "plt.ylim([0.0, 1.05])\n",
        "plt.xlabel(\"False Positive Rate\")t\n",
        "plt.ylabel(\"True Positive Rate\")\n",
        "plt.title(\"Receiver operating characteristic example\")\n",
        "plt.legend(loc=\"lower right\")\n",
        "plt.show()"
      ],
      "metadata": {
        "colab": {
          "base_uri": "https://localhost:8080/",
          "height": 295
        },
        "id": "zD3aC7uYceea",
        "outputId": "0e240a04-7944-42fa-9754-2101f76864db"
      },
      "execution_count": 97,
      "outputs": [
        {
          "output_type": "display_data",
          "data": {
            "text/plain": [
              "<Figure size 432x288 with 1 Axes>"
            ],
            "image/png": "[encoded data removed]"
          },
          "metadata": {
            "needs_background": "light"
          }
        }
      ]
    },
    {
      "cell_type": "code",
      "source": [],
      "metadata": {
        "id": "Yhr3kGwZcsNc"
      },
      "execution_count": null,
      "outputs": []
    }
  ]
}