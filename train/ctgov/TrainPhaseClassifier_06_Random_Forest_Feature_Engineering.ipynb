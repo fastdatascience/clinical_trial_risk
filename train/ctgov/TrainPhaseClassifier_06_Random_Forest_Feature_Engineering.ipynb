{
  "nbformat": 4,
  "nbformat_minor": 0,
  "metadata": {
    "colab": {
      "provenance": [],
      "authorship_tag": "ABX9TyM9Ek/lRsj7ZpkzcRiczTaE",
      "include_colab_link": true
    },
    "kernelspec": {
      "name": "python3",
      "display_name": "Python 3"
    },
    "language_info": {
      "name": "python"
    }
  },
  "cells": [
    {
      "cell_type": "markdown",
      "metadata": {
        "id": "view-in-github",
        "colab_type": "text"
      },
      "source": [
        "<a href=\"https://colab.research.google.com/github/fastdatascience/clinical_trial_risk/blob/fixes_nov_2022/train/ctgov/TrainPhaseClassifier_06_Random_Forest_Feature_Engineering.ipynb\" target=\"_parent\"><img src=\"https://colab.research.google.com/assets/colab-badge.svg\" alt=\"Open In Colab\"/></a>"
      ]
    },
    {
      "cell_type": "code",
      "execution_count": 1,
      "metadata": {
        "id": "z4I039MmWh3-"
      },
      "outputs": [],
      "source": [
        "import pandas as pd\n",
        "import re\n",
        "import os\n",
        "import sys\n",
        "import pickle as pkl\n",
        "import seaborn as sns\n",
        "from sklearn.metrics import accuracy_score, confusion_matrix\n",
        "from sklearn.metrics import ConfusionMatrixDisplay\n",
        "from sklearn.metrics import mean_absolute_error, mean_squared_error\n",
        "from sklearn.metrics import roc_auc_score\n",
        "from sklearn.metrics import roc_curve, auc\n",
        "from IPython.display import display\n",
        "import matplotlib.pyplot as plt\n",
        "import numpy as np\n",
        "import json\n",
        "\n"
      ]
    },
    {
      "cell_type": "code",
      "source": [
        "from google.colab import drive\n",
        "drive.mount('/content/drive')"
      ],
      "metadata": {
        "colab": {
          "base_uri": "https://localhost:8080/"
        },
        "id": "man4OQnwWjmy",
        "outputId": "ebb97660-0944-492d-cf95-381436f9a16c"
      },
      "execution_count": 2,
      "outputs": [
        {
          "output_type": "stream",
          "name": "stdout",
          "text": [
            "Mounted at /content/drive\n"
          ]
        }
      ]
    },
    {
      "cell_type": "code",
      "source": [
        "df_annotations = pd.read_csv(\"/content/drive/MyDrive/data/all_annotations.csv\")\n"
      ],
      "metadata": {
        "id": "KNeHWQoxWke6"
      },
      "execution_count": 3,
      "outputs": []
    },
    {
      "cell_type": "code",
      "source": [
        "with open(\"/content/drive/MyDrive/data/protocols.pkl.gz\", \"rb\") as f:\n",
        "    file_to_pages = pkl.load(f)"
      ],
      "metadata": {
        "id": "-mGZr2VcWq32"
      },
      "execution_count": 4,
      "outputs": []
    },
    {
      "cell_type": "code",
      "source": [
        "from nltk.tokenize import RegexpTokenizer\n",
        "\n",
        "# Words and fractions and percentages\n",
        "tok = RegexpTokenizer(r'\\d+[\\.,]\\d+%?|[\\w%]+|=|≤|≥|<|>')\n",
        "\n",
        "\n",
        "def tokenise_text(page: str) -> list:\n",
        "    \"\"\"\n",
        "    Tokenise the content of a single page\n",
        "    :param page:\n",
        "    \"\"\"\n",
        "    for word in tok.tokenize(page):\n",
        "        yield word\n",
        "\n",
        "def tokenise_text_and_lowercase(page: str) -> list:\n",
        "    \"\"\"\n",
        "    Tokenise the content of a single page and return the lowercase of each token\n",
        "    :param page:\n",
        "    \"\"\"\n",
        "    for word in tok.tokenize(page):\n",
        "        yield word.lower()\n",
        "\n",
        "def tokenise_pages(pages):\n",
        "    \"\"\"\n",
        "    Tokenises the lists of pages and returns a list of lists.\n",
        "    This is a custom tokeniser as nunbers and percentages should not be split (e.g. 5.5%).\n",
        "\n",
        "    :param pages: List of strings which each correspond to the content of a single page.\n",
        "    :return: List of lists of tokens.\n",
        "    \"\"\"\n",
        "    tokenised_pages = []\n",
        "\n",
        "    for page in pages:\n",
        "        tokens = []\n",
        "        for word in tokenise_text(page):\n",
        "            tokens.append(word)\n",
        "        tokenised_pages.append(tokens)\n",
        "    return tokenised_pages\n",
        "\n",
        "\n",
        "\n",
        "def iterate_tokens(tokenised_pages):\n",
        "    for page_no, tokens in enumerate(tokenised_pages):\n",
        "        for token_no, token in enumerate(tokens):\n",
        "            yield page_no, token_no, token"
      ],
      "metadata": {
        "id": "kmufphAXWryG"
      },
      "execution_count": 5,
      "outputs": []
    },
    {
      "cell_type": "code",
      "source": [
        "import spacy\n",
        "from spacy.matcher import PhraseMatcher\n",
        "\n",
        "import spacy\n",
        "\n",
        "#nlp = spacy.load('en_core_web_sm', disable=['ner', 'tagger', 'parser', 'lemmatizer'])\n",
        "nlp = spacy.blank(\"en\")\n",
        "\n",
        "\n",
        "phase_synonyms = {0: ['phase 0', 'pilot study'],\n",
        "                  0.5: ['early phase i', 'early phase 1', 'early phase 1.0', 'phase 0.5'],\n",
        "                  1: ['phase i', 'phase 1 b', 'phase 1', 'phase 1.0'],\n",
        "                  1.5: ['phase i ii', 'phase 1 2', 'phase 1 2 a'],\n",
        "                  2: ['phase ii', 'phase 2 b', 'phase 2', 'phase 2.0'],\n",
        "                  2.5: ['phase 2.5', 'phase ii iii'],\n",
        "                  3: ['phase iii', 'phase 3', 'phase 3.0'],\n",
        "                  4: ['phase iv', 'phase 4', 'phase 4.0', 'phase 4 a', 'phase 4 b'],\n",
        "                  }\n",
        "\n",
        "phrase_matcher = PhraseMatcher(nlp.vocab)\n",
        "\n",
        "for phase_number, synonyms in phase_synonyms.items():\n",
        "    phases = [nlp.make_doc(text) for text in synonyms]\n",
        "\n",
        "    phrase_matcher.add(f\"Phase {phase_number}\", None, *phases)\n",
        "\n",
        "\n",
        "class PhaseExtractor:\n",
        "\n",
        "    def process(self, tokenised_pages: list) -> tuple:\n",
        "        \"\"\"\n",
        "        Identify the trial phase.\n",
        "        :param tokenised_pages: List of lists of tokens of each page.\n",
        "        :return: The prediction (str) and a map from phase to the pages it's mentioned in.\n",
        "        \"\"\"\n",
        "\n",
        "        tokenised_pages = [[string.lower() for string in sublist] for sublist in tokenised_pages]\n",
        "\n",
        "        phase_to_pages = {}\n",
        "\n",
        "        for page_number, page_tokens in enumerate(tokenised_pages):\n",
        "            doc = spacy.tokens.doc.Doc(\n",
        "                nlp.vocab, words=page_tokens)\n",
        "            phrase_matches = phrase_matcher(doc)\n",
        "            for word, start, end in phrase_matches:\n",
        "                phase_number = nlp.vocab.strings[word]\n",
        "                if phase_number not in phase_to_pages:\n",
        "                    phase_to_pages[phase_number] = []\n",
        "                phase_to_pages[phase_number].append(page_number)\n",
        "\n",
        "        phase_to_pages = sorted(phase_to_pages.items(), key=lambda v: len(v[1]), reverse=True)\n",
        "\n",
        "        prediction = 0\n",
        "        if len(phase_to_pages) > 0:\n",
        "            prediction = float(phase_to_pages[0][0].split(\" \")[1])\n",
        "\n",
        "        return {\"prediction\": prediction, \"pages\": dict(phase_to_pages)}\n",
        "\n",
        "        # return {\"prediction\": prediction, \"pages\": []}\n"
      ],
      "metadata": {
        "id": "GTzB2FnuW0vS"
      },
      "execution_count": 19,
      "outputs": []
    },
    {
      "cell_type": "code",
      "source": [
        "df_train = df_annotations[df_annotations.train_val == \"train\"]"
      ],
      "metadata": {
        "id": "vY1OIs65W-Bc"
      },
      "execution_count": 20,
      "outputs": []
    },
    {
      "cell_type": "code",
      "source": [
        "phase_map = {'Early Phase 1':0.5,\n",
        " 'Not Applicable':0,\n",
        " 'Phase 1':1,\n",
        " 'Phase 1/Phase 2':1.5,\n",
        " 'Phase 2':2,\n",
        " 'Phase 2/Phase 3':2.5,\n",
        " 'Phase 3':3,\n",
        " 'Phase 4':4}"
      ],
      "metadata": {
        "id": "buT8yYa7Xrd8"
      },
      "execution_count": 28,
      "outputs": []
    },
    {
      "cell_type": "code",
      "source": [
        "df_annotations_small = df_annotations.sample(10000)"
      ],
      "metadata": {
        "id": "18ueRguqcJKs"
      },
      "execution_count": 163,
      "outputs": []
    },
    {
      "cell_type": "code",
      "source": [
        "X_train = []\n",
        "y_train = [] \n",
        "X_val = []\n",
        "y_val = []\n",
        "\n",
        "for idx in range(len(df_annotations_small)):\n",
        "  file_name = df_annotations_small.file.iloc[idx]\n",
        "  if pd.isna(file_name):\n",
        "    continue\n",
        "    \n",
        "  pages= file_to_pages[file_name]\n",
        "\n",
        "  tokenised_pages = tokenise_pages(pages)\n",
        "  gt = df_annotations_small.phase.iloc[idx]\n",
        "\n",
        "  if pd.isna(gt):\n",
        "    continue\n",
        "\n",
        "  gt_float = float(phase_map[gt])\n",
        "  \n",
        "  \n",
        "  tokenised_pages = [[string.lower() for string in sublist] for sublist in tokenised_pages]\n",
        "\n",
        "  phase_to_pages = {}\n",
        "\n",
        "  for page_number, page_tokens in enumerate(tokenised_pages):\n",
        "      doc = spacy.tokens.doc.Doc(\n",
        "          nlp.vocab, words=page_tokens)\n",
        "      phrase_matches = phrase_matcher(doc)\n",
        "      for word, start, end in phrase_matches:\n",
        "          phase_number = nlp.vocab.strings[word]\n",
        "          if phase_number not in phase_to_pages:\n",
        "              phase_to_pages[phase_number] = []\n",
        "          phase_to_pages[phase_number].append(page_number)\n",
        "\n",
        "  phase_to_pages = sorted(phase_to_pages.items(), key=lambda v: len(v[1]), reverse=True)\n",
        "\n",
        "  for idx, (phase, pages) in enumerate(phase_to_pages):\n",
        "    phase_float = float(re.sub(r'\\D', '', phase))\n",
        "    feat_vect = [phase_float, len(pages), min(pages), max(pages), idx]\n",
        "    y = int(phase_float == gt_float)\n",
        "\n",
        "    if df_annotations_small.train_val.iloc[idx] == \"train\":\n",
        "      X_train.append(feat_vect)\n",
        "      y_train.append(y)\n",
        "    else:\n",
        "      X_val.append(feat_vect)\n",
        "      y_val.append(y)\n",
        "\n",
        "  # if len(X_train) > 10000:\n",
        "  #   break"
      ],
      "metadata": {
        "id": "5-ObCXwPXLic"
      },
      "execution_count": 166,
      "outputs": []
    },
    {
      "cell_type": "code",
      "source": [
        "X_train = np.asarray(X_train)\n",
        "y_train = np.asarray(y_train)\n",
        "X_val = np.asarray(X_train)\n",
        "y_val = np.asarray(y_train)"
      ],
      "metadata": {
        "id": "7vHXDkNWXaY3"
      },
      "execution_count": 167,
      "outputs": []
    },
    {
      "cell_type": "code",
      "source": [
        "from sklearn.linear_model import LogisticRegression"
      ],
      "metadata": {
        "id": "ijfllgP2XpsF"
      },
      "execution_count": 168,
      "outputs": []
    },
    {
      "cell_type": "code",
      "source": [
        "m = LogisticRegression()"
      ],
      "metadata": {
        "id": "hym8MQAVXi5q"
      },
      "execution_count": 169,
      "outputs": []
    },
    {
      "cell_type": "code",
      "source": [
        "m.fit(X_train, y_train)"
      ],
      "metadata": {
        "colab": {
          "base_uri": "https://localhost:8080/"
        },
        "id": "0G063YSvYbmQ",
        "outputId": "d2bdd947-acc1-4f29-d78c-95464df76c7f"
      },
      "execution_count": 170,
      "outputs": [
        {
          "output_type": "execute_result",
          "data": {
            "text/plain": [
              "LogisticRegression()"
            ]
          },
          "metadata": {},
          "execution_count": 170
        }
      ]
    },
    {
      "cell_type": "code",
      "source": [
        "m.coef_"
      ],
      "metadata": {
        "colab": {
          "base_uri": "https://localhost:8080/"
        },
        "id": "IhLtHMe0Z_Ld",
        "outputId": "3c992f86-c8bb-47f9-8309-c187522ba985"
      },
      "execution_count": 171,
      "outputs": [
        {
          "output_type": "execute_result",
          "data": {
            "text/plain": [
              "array([[-0.10728961, -0.02841911, -0.05716272,  0.0023544 , -0.6897593 ]])"
            ]
          },
          "metadata": {},
          "execution_count": 171
        }
      ]
    },
    {
      "cell_type": "code",
      "source": [
        "y_train"
      ],
      "metadata": {
        "colab": {
          "base_uri": "https://localhost:8080/"
        },
        "id": "UviFrQrza0B-",
        "outputId": "65848ef3-b7ad-4bda-c072-97b408a9a2dc"
      },
      "execution_count": 172,
      "outputs": [
        {
          "output_type": "execute_result",
          "data": {
            "text/plain": [
              "array([0, 1, 0, ..., 0, 0, 0])"
            ]
          },
          "metadata": {},
          "execution_count": 172
        }
      ]
    },
    {
      "cell_type": "code",
      "source": [
        "y_pred = m.predict(X_val)"
      ],
      "metadata": {
        "id": "EuJrHBpabXSJ"
      },
      "execution_count": 173,
      "outputs": []
    },
    {
      "cell_type": "code",
      "source": [
        "import bz2\n",
        "with bz2.open(\"phase_logistic\", \"wb\") as f:\n",
        "    pkl.dump(m, f)"
      ],
      "metadata": {
        "id": "5BdvhUOri3Je"
      },
      "execution_count": 174,
      "outputs": []
    },
    {
      "cell_type": "code",
      "source": [
        "from sklearn.metrics import accuracy_score"
      ],
      "metadata": {
        "id": "Vzo1pjXQcXzP"
      },
      "execution_count": 175,
      "outputs": []
    },
    {
      "cell_type": "code",
      "source": [
        "accuracy_score(y_val, y_pred)"
      ],
      "metadata": {
        "colab": {
          "base_uri": "https://localhost:8080/"
        },
        "id": "p5yPqqLYcan4",
        "outputId": "2f39bf26-6dbb-4b79-dc81-ad0f7c94f084"
      },
      "execution_count": 176,
      "outputs": [
        {
          "output_type": "execute_result",
          "data": {
            "text/plain": [
              "0.885067444979096"
            ]
          },
          "metadata": {},
          "execution_count": 176
        }
      ]
    },
    {
      "cell_type": "code",
      "source": [
        "y_pred_proba = m.predict_proba(X_val)"
      ],
      "metadata": {
        "id": "ohSpuvoGcb6T"
      },
      "execution_count": 177,
      "outputs": []
    },
    {
      "cell_type": "code",
      "source": [
        "from sklearn.ensemble import RandomForestClassifier"
      ],
      "metadata": {
        "id": "oUb9uv_Hcuil"
      },
      "execution_count": 178,
      "outputs": []
    },
    {
      "cell_type": "code",
      "source": [
        "m = RandomForestClassifier()"
      ],
      "metadata": {
        "id": "yh-6iQDXczGw"
      },
      "execution_count": 179,
      "outputs": []
    },
    {
      "cell_type": "code",
      "source": [
        "m.fit(X_train, y_train)"
      ],
      "metadata": {
        "colab": {
          "base_uri": "https://localhost:8080/"
        },
        "id": "MiLCkHj6c12v",
        "outputId": "ca58416d-b15a-4225-83db-f94efa1e4e05"
      },
      "execution_count": 180,
      "outputs": [
        {
          "output_type": "execute_result",
          "data": {
            "text/plain": [
              "RandomForestClassifier()"
            ]
          },
          "metadata": {},
          "execution_count": 180
        }
      ]
    },
    {
      "cell_type": "code",
      "source": [
        "y_pred = m.predict(X_val)"
      ],
      "metadata": {
        "id": "Q1siJlCwc57d"
      },
      "execution_count": 181,
      "outputs": []
    },
    {
      "cell_type": "code",
      "source": [
        "accuracy_score(y_val, y_pred)"
      ],
      "metadata": {
        "colab": {
          "base_uri": "https://localhost:8080/"
        },
        "id": "pNHz-o0Tc6ps",
        "outputId": "80e9710d-3450-4664-f5bc-0d61e4c4b7c5"
      },
      "execution_count": 182,
      "outputs": [
        {
          "output_type": "execute_result",
          "data": {
            "text/plain": [
              "0.9795692987299834"
            ]
          },
          "metadata": {},
          "execution_count": 182
        }
      ]
    },
    {
      "cell_type": "code",
      "source": [
        "y_pred_proba = m.predict_proba(X_val)"
      ],
      "metadata": {
        "id": "00afdeo8c8OZ"
      },
      "execution_count": 183,
      "outputs": []
    },
    {
      "cell_type": "code",
      "source": [
        "import bz2\n",
        "with bz2.open(\"phase_rf_classifier\", \"wb\") as f:\n",
        "    pkl.dump(m, f)"
      ],
      "metadata": {
        "id": "nGoD_IfUdaUn"
      },
      "execution_count": 218,
      "outputs": []
    },
    {
      "cell_type": "code",
      "source": [
        "import matplotlib.pyplot as plt\n",
        "\n",
        "plt.figure()\n",
        "lw = 2\n",
        "    \n",
        "fpr, tpr, _ = roc_curve(y_val, y_pred_proba[:,1])\n",
        "roc_auc = auc(fpr, tpr)\n",
        "plt.plot(\n",
        "    fpr,\n",
        "    tpr,\n",
        "    # color=\"darkorange\",\n",
        "    lw=lw,\n",
        "    label=f\"ROC curve subjects (area = {roc_auc:0.2f})\"\n",
        ")\n",
        "plt.plot([0, 1], [0, 1], color=\"gray\", alpha=0.5, lw=lw, linestyle=\"--\")\n",
        "plt.xlim([0.0, 1.0])\n",
        "plt.ylim([0.0, 1.05])\n",
        "plt.xlabel(\"False Positive Rate\")\n",
        "plt.ylabel(\"True Positive Rate\")\n",
        "plt.title(\"Receiver operating characteristic example\")\n",
        "plt.legend(loc=\"lower right\")\n",
        "plt.show()"
      ],
      "metadata": {
        "colab": {
          "base_uri": "https://localhost:8080/",
          "height": 295
        },
        "id": "zD3aC7uYceea",
        "outputId": "613657da-3719-4956-caab-8ab3120941fa"
      },
      "execution_count": 185,
      "outputs": [
        {
          "output_type": "display_data",
          "data": {
            "text/plain": [
              "<Figure size 432x288 with 1 Axes>"
            ],
            "image/png": "[encoded data removed]"
          },
          "metadata": {
            "needs_background": "light"
          }
        }
      ]
    },
    {
      "cell_type": "markdown",
      "source": [
        "# Test the Phase Extractor"
      ],
      "metadata": {
        "id": "9CqXY8klf3ka"
      }
    },
    {
      "cell_type": "code",
      "source": [
        "from os.path import exists\n",
        "\n",
        "import spacy\n",
        "from spacy.matcher import PhraseMatcher\n",
        "import numpy as np\n",
        "import bz2\n",
        "import pickle as pkl\n",
        "phase_synonyms = {0: ['phase 0', 'pilot study'],\n",
        "                  0.5: ['early phase i', 'early phase 1', 'early phase 1.0', 'phase 0.5'],\n",
        "                  1: ['phase i', 'phase 1 b', 'phase 1', 'phase 1.0'],\n",
        "                  1.5: ['phase i ii', 'phase 1 2', 'phase 1 2 a'],\n",
        "                  2: ['phase ii', 'phase 2 b', 'phase 2', 'phase 2.0'],\n",
        "                  2.5: ['phase 2.5', 'phase ii iii'],\n",
        "                  3: ['phase iii', 'phase 3', 'phase 3.0'],\n",
        "                  4: ['phase iv', 'phase 4', 'phase 4.0', 'phase 4 a', 'phase 4 b'],\n",
        "                  }\n",
        "\n",
        "phrase_matcher = PhraseMatcher(nlp.vocab)\n",
        "\n",
        "for phase_number, synonyms in phase_synonyms.items():\n",
        "    phases = [nlp.make_doc(text) for text in synonyms]\n",
        "\n",
        "    phrase_matcher.add(f\"Phase {phase_number}\", None, *phases)\n",
        "\n",
        "\n",
        "class PhaseExtractor:\n",
        "\n",
        "\n",
        "    def __init__(self, path_to_classifier):\n",
        "        print(\"Initialising Phase Random Forest classifier\", path_to_classifier)\n",
        "        if not exists(path_to_classifier):\n",
        "            print(\n",
        "                f\"WARNING! UNABLE TO LOAD PHASE RANDOM FOREST CLASSIFIER {path_to_classifier}. You need to run the training script.\")\n",
        "            self.model = None\n",
        "            return\n",
        "        with bz2.open(path_to_classifier, \"rb\") as f:\n",
        "            self.model = pkl.load(f)\n",
        "\n",
        "    def process(self, tokenised_pages: list) -> tuple:\n",
        "        \"\"\"\n",
        "        Identify the trial phase.\n",
        "        :param tokenised_pages: List of lists of tokens of each page.\n",
        "        :return: The prediction (str) and a map from phase to the pages it's mentioned in.\n",
        "        \"\"\"\n",
        "\n",
        "        tokenised_pages = [[string.lower() for string in sublist] for sublist in tokenised_pages]\n",
        "\n",
        "        phase_to_pages = {}\n",
        "\n",
        "        for page_number, page_tokens in enumerate(tokenised_pages):\n",
        "            doc = spacy.tokens.doc.Doc(\n",
        "                nlp.vocab, words=page_tokens)\n",
        "            phrase_matches = phrase_matcher(doc)\n",
        "            for word, start, end in phrase_matches:\n",
        "                phase_number = nlp.vocab.strings[word]\n",
        "                if phase_number not in phase_to_pages:\n",
        "                    phase_to_pages[phase_number] = []\n",
        "                phase_to_pages[phase_number].append(page_number)\n",
        "\n",
        "        phase_to_pages = sorted(phase_to_pages.items(), key=lambda v: len(v[1]), reverse=True)\n",
        "\n",
        "        X = []\n",
        "        for idx, (phase, pages) in enumerate(phase_to_pages):\n",
        "            phase_float = float(re.sub(r'\\D', '', phase))\n",
        "            feat_vect = np.asarray([phase_float, len(pages), min(pages), max(pages), idx])\n",
        "\n",
        "            X.append(feat_vect)\n",
        "\n",
        "        X = np.asarray(X)\n",
        "\n",
        "        if len(X) > 0:\n",
        "\n",
        "          probas = self.model.predict_proba(X)[:,1]\n",
        "\n",
        "          scores = {}\n",
        "          for (phase, pages), score in zip(phase_to_pages, probas):\n",
        "              scores[phase] = score\n",
        "\n",
        "          prediction = max(scores, key=scores.get)\n",
        "        else:\n",
        "          prediction = \"Phase 0\"\n",
        "          scores = {}\n",
        "\n",
        "        prediction = 0\n",
        "        if len(phase_to_pages) > 0:\n",
        "            prediction = float(phase_to_pages[0][0].split(\" \")[1])\n",
        "\n",
        "\n",
        "        return {\"prediction\": prediction, \"pages\": dict(phase_to_pages), \"scores\":scores}\n"
      ],
      "metadata": {
        "id": "Yhr3kGwZcsNc"
      },
      "execution_count": 202,
      "outputs": []
    },
    {
      "cell_type": "code",
      "source": [
        "pe = PhaseExtractor(\"phase_rf_classifier\")"
      ],
      "metadata": {
        "colab": {
          "base_uri": "https://localhost:8080/"
        },
        "id": "XW-KIY_Tf5Ki",
        "outputId": "c7ede0d8-0543-447b-8f50-9f12d0b0dd16"
      },
      "execution_count": 203,
      "outputs": [
        {
          "output_type": "stream",
          "name": "stdout",
          "text": [
            "Initialising Phase Random Forest classifier phase_rf_classifier\n"
          ]
        }
      ]
    },
    {
      "cell_type": "code",
      "source": [
        "df_val = df_annotations[(df_annotations.train_val == \"val\") & (~df_annotations.file.isna())& (~df_annotations.phase.isna())].sample(100)"
      ],
      "metadata": {
        "id": "PwjGR_0Pf9Ix"
      },
      "execution_count": 204,
      "outputs": []
    },
    {
      "cell_type": "code",
      "source": [
        "y_pred  = []\n",
        "for idx in range(len(df_val)):\n",
        "  file_name = df_annotations_small.file.iloc[idx]\n",
        "    \n",
        "  pages= file_to_pages[file_name]\n",
        "\n",
        "  tokenised_pages = tokenise_pages(pages)\n",
        "\n",
        "  result = pe.process(tokenised_pages)\n",
        "\n",
        "  y_pred.append(result[\"prediction\"])"
      ],
      "metadata": {
        "id": "HMd_UdjIgCqr"
      },
      "execution_count": 205,
      "outputs": []
    },
    {
      "cell_type": "code",
      "source": [
        "gts = df_val.phase.map(phase_map).apply(float).apply(str)"
      ],
      "metadata": {
        "id": "faS6SWCLh8gA"
      },
      "execution_count": 206,
      "outputs": []
    },
    {
      "cell_type": "code",
      "source": [
        "preds= [str(float(re.sub(r'\\D.*', '', str(x)))) for x in y_pred]"
      ],
      "metadata": {
        "id": "8WhkTqzsiEq_"
      },
      "execution_count": 213,
      "outputs": []
    },
    {
      "cell_type": "code",
      "source": [
        "set(df_val.phase), set(y_pred)"
      ],
      "metadata": {
        "colab": {
          "base_uri": "https://localhost:8080/"
        },
        "id": "IOHLsiYnhLX9",
        "outputId": "0a43e485-b286-4e40-ffdc-fa1d7b760936"
      },
      "execution_count": 214,
      "outputs": [
        {
          "output_type": "execute_result",
          "data": {
            "text/plain": [
              "({'Early Phase 1',\n",
              "  'Not Applicable',\n",
              "  'Phase 1',\n",
              "  'Phase 1/Phase 2',\n",
              "  'Phase 2',\n",
              "  'Phase 2/Phase 3',\n",
              "  'Phase 3',\n",
              "  'Phase 4'},\n",
              " {0.0, 1.0, 2.0, 3.0, 4.0})"
            ]
          },
          "metadata": {},
          "execution_count": 214
        }
      ]
    },
    {
      "cell_type": "code",
      "source": [
        "accuracy_score(gts, preds)"
      ],
      "metadata": {
        "colab": {
          "base_uri": "https://localhost:8080/"
        },
        "id": "cWi5S3HZgdXv",
        "outputId": "ae8950b9-00eb-45e3-90a0-a3c88447cc8d"
      },
      "execution_count": 215,
      "outputs": [
        {
          "output_type": "execute_result",
          "data": {
            "text/plain": [
              "0.22"
            ]
          },
          "metadata": {},
          "execution_count": 215
        }
      ]
    },
    {
      "cell_type": "code",
      "source": [
        "df_val[\"ground_truth\"] = gts\n",
        "df_val[\"pred\"] = preds"
      ],
      "metadata": {
        "id": "_ApWO0PBhGkZ"
      },
      "execution_count": 216,
      "outputs": []
    },
    {
      "cell_type": "code",
      "source": [
        "df_val"
      ],
      "metadata": {
        "colab": {
          "base_uri": "https://localhost:8080/",
          "height": 424
        },
        "id": "8MxHqxh-iqdX",
        "outputId": "d7da9726-6600-4e8e-fdda-5449ae23a04b"
      },
      "execution_count": 217,
      "outputs": [
        {
          "output_type": "execute_result",
          "data": {
            "text/plain": [
              "                                  file       nct_id train_val  num_arms  \\\n",
              "2503       20_NCT03886220_Prot_000.pdf  NCT03886220       val       2.0   \n",
              "9585       80_NCT02849080_Prot_000.pdf  NCT02849080       val       2.0   \n",
              "9584   80_NCT02841280_Prot_SAP_000.pdf  NCT02841280       val       2.0   \n",
              "3494       29_NCT02853929_Prot_000.pdf  NCT02853929       val       2.0   \n",
              "5598   47_NCT01880047_Prot_SAP_000.pdf  NCT01880047       val       2.0   \n",
              "...                                ...          ...       ...       ...   \n",
              "10290      86_NCT02806986_Prot_000.pdf  NCT02806986       val       1.0   \n",
              "1614   13_NCT02848313_Prot_SAP_000.pdf  NCT02848313       val       2.0   \n",
              "9539   80_NCT01832480_Prot_SAP_000.pdf  NCT01832480       val       2.0   \n",
              "10845  91_NCT01823991_Prot_SAP_000.pdf  NCT01823991       val       2.0   \n",
              "1552       12_NCT03832712_Prot_000.pdf  NCT03832712       val       2.0   \n",
              "\n",
              "       num_subjects           phase intervention_type  \\\n",
              "2503           82.0         Phase 4              Drug   \n",
              "9585          504.0         Phase 3              Drug   \n",
              "9584          160.0         Phase 2              Drug   \n",
              "3494          551.0         Phase 4        Biological   \n",
              "5598           35.0         Phase 2              Drug   \n",
              "...             ...             ...               ...   \n",
              "10290          61.0         Phase 3        Biological   \n",
              "1614           40.0         Phase 1              Drug   \n",
              "9539          623.0         Phase 3              Drug   \n",
              "10845          36.0   Early Phase 1              Drug   \n",
              "1552          100.0  Not Applicable              Drug   \n",
              "\n",
              "                             country  has_sap  \\\n",
              "2503                     US,PR,HU,PL        0   \n",
              "9585   US,AR,AT,BE,BR,EG,KR,NO,CH,TR        0   \n",
              "9584                              US        1   \n",
              "3494            AU,CA,CZ,FI,IT,ES,CZ        0   \n",
              "5598                              US        1   \n",
              "...                              ...      ...   \n",
              "10290  AU,CZ,FR,DE,HU,PL,ES,SE,GB,CZ        0   \n",
              "1614                              US        1   \n",
              "9539                              US        1   \n",
              "10845                             US        1   \n",
              "1552                              SE        0   \n",
              "\n",
              "                                                    text ground_truth pred  \n",
              "2503   \\nNCT03886220\\n\\n \\nSTUDY M16-824  |  Version ...          4.0  0.0  \n",
              "9585   \\nCover Page for Protocol \\n \\n\\nSponsor name:...          3.0  3.0  \n",
              "9584   \\n1 | F i n a l  P r o t o c o l\\n\\nNCT number...          2.0  2.0  \n",
              "3494   \\nCONFIDENTIAL\\n\\n12-DEC-2016 1\\n\\nClinical St...          4.0  0.0  \n",
              "5598   \\n  IRB #1207012741 \\n\\n  NCT01880047 \\n\\nDocu...          2.0  3.0  \n",
              "...                                                  ...          ...  ...  \n",
              "10290  \\n \\n\\nOfficial Title: A Multi-Center, Open-La...          3.0  2.0  \n",
              "1614   \\nElamipretide (MTP-131) SPIAM-101 Clinical Pr...          1.0  1.0  \n",
              "9539   \\n \\n\\nVersion: 11.0 \\nVersion date: 1/2/17 \\n...          3.0  2.0  \n",
              "10845  \\n \\n\\n \\n\\nPilot Trial of COGNUTRIN in Breast...          0.5  0.0  \n",
              "1552   \\n1 \\n \\n\\n \\n \\n \\n \\n\\nResearch/trial progra...          0.0  0.0  \n",
              "\n",
              "[100 rows x 12 columns]"
            ],
            "text/html": [
              "\n",
              "  <div id=\"df-c5cab76f-7958-4f0f-8d82-6f562d0b2c8f\">\n",
              "    <div class=\"colab-df-container\">\n",
              "      <div>\n",
              "<style scoped>\n",
              "    .dataframe tbody tr th:only-of-type {\n",
              "        vertical-align: middle;\n",
              "    }\n",
              "\n",
              "    .dataframe tbody tr th {\n",
              "        vertical-align: top;\n",
              "    }\n",
              "\n",
              "    .dataframe thead th {\n",
              "        text-align: right;\n",
              "    }\n",
              "</style>\n",
              "<table border=\"1\" class=\"dataframe\">\n",
              "  <thead>\n",
              "    <tr style=\"text-align: right;\">\n",
              "      <th></th>\n",
              "      <th>file</th>\n",
              "      <th>nct_id</th>\n",
              "      <th>train_val</th>\n",
              "      <th>num_arms</th>\n",
              "      <th>num_subjects</th>\n",
              "      <th>phase</th>\n",
              "      <th>intervention_type</th>\n",
              "      <th>country</th>\n",
              "      <th>has_sap</th>\n",
              "      <th>text</th>\n",
              "      <th>ground_truth</th>\n",
              "      <th>pred</th>\n",
              "    </tr>\n",
              "  </thead>\n",
              "  <tbody>\n",
              "    <tr>\n",
              "      <th>2503</th>\n",
              "      <td>20_NCT03886220_Prot_000.pdf</td>\n",
              "      <td>NCT03886220</td>\n",
              "      <td>val</td>\n",
              "      <td>2.0</td>\n",
              "      <td>82.0</td>\n",
              "      <td>Phase 4</td>\n",
              "      <td>Drug</td>\n",
              "      <td>US,PR,HU,PL</td>\n",
              "      <td>0</td>\n",
              "      <td>\\nNCT03886220\\n\\n \\nSTUDY M16-824  |  Version ...</td>\n",
              "      <td>4.0</td>\n",
              "      <td>0.0</td>\n",
              "    </tr>\n",
              "    <tr>\n",
              "      <th>9585</th>\n",
              "      <td>80_NCT02849080_Prot_000.pdf</td>\n",
              "      <td>NCT02849080</td>\n",
              "      <td>val</td>\n",
              "      <td>2.0</td>\n",
              "      <td>504.0</td>\n",
              "      <td>Phase 3</td>\n",
              "      <td>Drug</td>\n",
              "      <td>US,AR,AT,BE,BR,EG,KR,NO,CH,TR</td>\n",
              "      <td>0</td>\n",
              "      <td>\\nCover Page for Protocol \\n \\n\\nSponsor name:...</td>\n",
              "      <td>3.0</td>\n",
              "      <td>3.0</td>\n",
              "    </tr>\n",
              "    <tr>\n",
              "      <th>9584</th>\n",
              "      <td>80_NCT02841280_Prot_SAP_000.pdf</td>\n",
              "      <td>NCT02841280</td>\n",
              "      <td>val</td>\n",
              "      <td>2.0</td>\n",
              "      <td>160.0</td>\n",
              "      <td>Phase 2</td>\n",
              "      <td>Drug</td>\n",
              "      <td>US</td>\n",
              "      <td>1</td>\n",
              "      <td>\\n1 | F i n a l  P r o t o c o l\\n\\nNCT number...</td>\n",
              "      <td>2.0</td>\n",
              "      <td>2.0</td>\n",
              "    </tr>\n",
              "    <tr>\n",
              "      <th>3494</th>\n",
              "      <td>29_NCT02853929_Prot_000.pdf</td>\n",
              "      <td>NCT02853929</td>\n",
              "      <td>val</td>\n",
              "      <td>2.0</td>\n",
              "      <td>551.0</td>\n",
              "      <td>Phase 4</td>\n",
              "      <td>Biological</td>\n",
              "      <td>AU,CA,CZ,FI,IT,ES,CZ</td>\n",
              "      <td>0</td>\n",
              "      <td>\\nCONFIDENTIAL\\n\\n12-DEC-2016 1\\n\\nClinical St...</td>\n",
              "      <td>4.0</td>\n",
              "      <td>0.0</td>\n",
              "    </tr>\n",
              "    <tr>\n",
              "      <th>5598</th>\n",
              "      <td>47_NCT01880047_Prot_SAP_000.pdf</td>\n",
              "      <td>NCT01880047</td>\n",
              "      <td>val</td>\n",
              "      <td>2.0</td>\n",
              "      <td>35.0</td>\n",
              "      <td>Phase 2</td>\n",
              "      <td>Drug</td>\n",
              "      <td>US</td>\n",
              "      <td>1</td>\n",
              "      <td>\\n  IRB #1207012741 \\n\\n  NCT01880047 \\n\\nDocu...</td>\n",
              "      <td>2.0</td>\n",
              "      <td>3.0</td>\n",
              "    </tr>\n",
              "    <tr>\n",
              "      <th>...</th>\n",
              "      <td>...</td>\n",
              "      <td>...</td>\n",
              "      <td>...</td>\n",
              "      <td>...</td>\n",
              "      <td>...</td>\n",
              "      <td>...</td>\n",
              "      <td>...</td>\n",
              "      <td>...</td>\n",
              "      <td>...</td>\n",
              "      <td>...</td>\n",
              "      <td>...</td>\n",
              "      <td>...</td>\n",
              "    </tr>\n",
              "    <tr>\n",
              "      <th>10290</th>\n",
              "      <td>86_NCT02806986_Prot_000.pdf</td>\n",
              "      <td>NCT02806986</td>\n",
              "      <td>val</td>\n",
              "      <td>1.0</td>\n",
              "      <td>61.0</td>\n",
              "      <td>Phase 3</td>\n",
              "      <td>Biological</td>\n",
              "      <td>AU,CZ,FR,DE,HU,PL,ES,SE,GB,CZ</td>\n",
              "      <td>0</td>\n",
              "      <td>\\n \\n\\nOfficial Title: A Multi-Center, Open-La...</td>\n",
              "      <td>3.0</td>\n",
              "      <td>2.0</td>\n",
              "    </tr>\n",
              "    <tr>\n",
              "      <th>1614</th>\n",
              "      <td>13_NCT02848313_Prot_SAP_000.pdf</td>\n",
              "      <td>NCT02848313</td>\n",
              "      <td>val</td>\n",
              "      <td>2.0</td>\n",
              "      <td>40.0</td>\n",
              "      <td>Phase 1</td>\n",
              "      <td>Drug</td>\n",
              "      <td>US</td>\n",
              "      <td>1</td>\n",
              "      <td>\\nElamipretide (MTP-131) SPIAM-101 Clinical Pr...</td>\n",
              "      <td>1.0</td>\n",
              "      <td>1.0</td>\n",
              "    </tr>\n",
              "    <tr>\n",
              "      <th>9539</th>\n",
              "      <td>80_NCT01832480_Prot_SAP_000.pdf</td>\n",
              "      <td>NCT01832480</td>\n",
              "      <td>val</td>\n",
              "      <td>2.0</td>\n",
              "      <td>623.0</td>\n",
              "      <td>Phase 3</td>\n",
              "      <td>Drug</td>\n",
              "      <td>US</td>\n",
              "      <td>1</td>\n",
              "      <td>\\n \\n\\nVersion: 11.0 \\nVersion date: 1/2/17 \\n...</td>\n",
              "      <td>3.0</td>\n",
              "      <td>2.0</td>\n",
              "    </tr>\n",
              "    <tr>\n",
              "      <th>10845</th>\n",
              "      <td>91_NCT01823991_Prot_SAP_000.pdf</td>\n",
              "      <td>NCT01823991</td>\n",
              "      <td>val</td>\n",
              "      <td>2.0</td>\n",
              "      <td>36.0</td>\n",
              "      <td>Early Phase 1</td>\n",
              "      <td>Drug</td>\n",
              "      <td>US</td>\n",
              "      <td>1</td>\n",
              "      <td>\\n \\n\\n \\n\\nPilot Trial of COGNUTRIN in Breast...</td>\n",
              "      <td>0.5</td>\n",
              "      <td>0.0</td>\n",
              "    </tr>\n",
              "    <tr>\n",
              "      <th>1552</th>\n",
              "      <td>12_NCT03832712_Prot_000.pdf</td>\n",
              "      <td>NCT03832712</td>\n",
              "      <td>val</td>\n",
              "      <td>2.0</td>\n",
              "      <td>100.0</td>\n",
              "      <td>Not Applicable</td>\n",
              "      <td>Drug</td>\n",
              "      <td>SE</td>\n",
              "      <td>0</td>\n",
              "      <td>\\n1 \\n \\n\\n \\n \\n \\n \\n\\nResearch/trial progra...</td>\n",
              "      <td>0.0</td>\n",
              "      <td>0.0</td>\n",
              "    </tr>\n",
              "  </tbody>\n",
              "</table>\n",
              "<p>100 rows × 12 columns</p>\n",
              "</div>\n",
              "      <button class=\"colab-df-convert\" onclick=\"convertToInteractive('df-c5cab76f-7958-4f0f-8d82-6f562d0b2c8f')\"\n",
              "              title=\"Convert this dataframe to an interactive table.\"\n",
              "              style=\"display:none;\">\n",
              "        \n",
              "  <svg xmlns=\"http://www.w3.org/2000/svg\" height=\"24px\"viewBox=\"0 0 24 24\"\n",
              "       width=\"24px\">\n",
              "    <path d=\"M0 0h24v24H0V0z\" fill=\"none\"/>\n",
              "    <path d=\"M18.56 5.44l.94 2.06.94-2.06 2.06-.94-2.06-.94-.94-2.06-.94 2.06-2.06.94zm-11 1L8.5 8.5l.94-2.06 2.06-.94-2.06-.94L8.5 2.5l-.94 2.06-2.06.94zm10 10l.94 2.06.94-2.06 2.06-.94-2.06-.94-.94-2.06-.94 2.06-2.06.94z\"/><path d=\"M17.41 7.96l-1.37-1.37c-.4-.4-.92-.59-1.43-.59-.52 0-1.04.2-1.43.59L10.3 9.45l-7.72 7.72c-.78.78-.78 2.05 0 2.83L4 21.41c.39.39.9.59 1.41.59.51 0 1.02-.2 1.41-.59l7.78-7.78 2.81-2.81c.8-.78.8-2.07 0-2.86zM5.41 20L4 18.59l7.72-7.72 1.47 1.35L5.41 20z\"/>\n",
              "  </svg>\n",
              "      </button>\n",
              "      \n",
              "  <style>\n",
              "    .colab-df-container {\n",
              "      display:flex;\n",
              "      flex-wrap:wrap;\n",
              "      gap: 12px;\n",
              "    }\n",
              "\n",
              "    .colab-df-convert {\n",
              "      background-color: #E8F0FE;\n",
              "      border: none;\n",
              "      border-radius: 50%;\n",
              "      cursor: pointer;\n",
              "      display: none;\n",
              "      fill: #1967D2;\n",
              "      height: 32px;\n",
              "      padding: 0 0 0 0;\n",
              "      width: 32px;\n",
              "    }\n",
              "\n",
              "    .colab-df-convert:hover {\n",
              "      background-color: #E2EBFA;\n",
              "      box-shadow: 0px 1px 2px rgba(60, 64, 67, 0.3), 0px 1px 3px 1px rgba(60, 64, 67, 0.15);\n",
              "      fill: #174EA6;\n",
              "    }\n",
              "\n",
              "    [theme=dark] .colab-df-convert {\n",
              "      background-color: #3B4455;\n",
              "      fill: #D2E3FC;\n",
              "    }\n",
              "\n",
              "    [theme=dark] .colab-df-convert:hover {\n",
              "      background-color: #434B5C;\n",
              "      box-shadow: 0px 1px 3px 1px rgba(0, 0, 0, 0.15);\n",
              "      filter: drop-shadow(0px 1px 2px rgba(0, 0, 0, 0.3));\n",
              "      fill: #FFFFFF;\n",
              "    }\n",
              "  </style>\n",
              "\n",
              "      <script>\n",
              "        const buttonEl =\n",
              "          document.querySelector('#df-c5cab76f-7958-4f0f-8d82-6f562d0b2c8f button.colab-df-convert');\n",
              "        buttonEl.style.display =\n",
              "          google.colab.kernel.accessAllowed ? 'block' : 'none';\n",
              "\n",
              "        async function convertToInteractive(key) {\n",
              "          const element = document.querySelector('#df-c5cab76f-7958-4f0f-8d82-6f562d0b2c8f');\n",
              "          const dataTable =\n",
              "            await google.colab.kernel.invokeFunction('convertToInteractive',\n",
              "                                                     [key], {});\n",
              "          if (!dataTable) return;\n",
              "\n",
              "          const docLinkHtml = 'Like what you see? Visit the ' +\n",
              "            '<a target=\"_blank\" href=https://colab.research.google.com/notebooks/data_table.ipynb>data table notebook</a>'\n",
              "            + ' to learn more about interactive tables.';\n",
              "          element.innerHTML = '';\n",
              "          dataTable['output_type'] = 'display_data';\n",
              "          await google.colab.output.renderOutput(dataTable, element);\n",
              "          const docLink = document.createElement('div');\n",
              "          docLink.innerHTML = docLinkHtml;\n",
              "          element.appendChild(docLink);\n",
              "        }\n",
              "      </script>\n",
              "    </div>\n",
              "  </div>\n",
              "  "
            ]
          },
          "metadata": {},
          "execution_count": 217
        }
      ]
    },
    {
      "cell_type": "code",
      "source": [],
      "metadata": {
        "id": "KmKM7TUAi8Kt"
      },
      "execution_count": 217,
      "outputs": []
    }
  ]
}