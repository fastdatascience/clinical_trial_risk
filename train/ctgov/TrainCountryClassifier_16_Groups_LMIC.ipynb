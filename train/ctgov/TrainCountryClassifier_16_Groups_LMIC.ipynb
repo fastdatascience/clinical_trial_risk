{
  "cells": [
    {
      "cell_type": "markdown",
      "metadata": {
        "id": "view-in-github",
        "colab_type": "text"
      },
      "source": [
        "<a href=\"https://colab.research.google.com/github/fastdatascience/clinical_trial_risk/blob/fixes_nov_2022/train/ctgov/TrainCountryClassifier_16_Groups_LMIC.ipynb\" target=\"_parent\"><img src=\"https://colab.research.google.com/assets/colab-badge.svg\" alt=\"Open In Colab\"/></a>"
      ]
    },
    {
      "cell_type": "code",
      "execution_count": 5,
      "id": "0557d6c8",
      "metadata": {
        "id": "0557d6c8"
      },
      "outputs": [],
      "source": [
        "import spacy\n",
        "import pandas as pd\n",
        "import re\n",
        "import os\n",
        "import sys\n",
        "import pickle as pkl\n",
        "import seaborn as sns\n",
        "from sklearn.metrics import accuracy_score, confusion_matrix\n",
        "from sklearn.metrics import ConfusionMatrixDisplay\n",
        "from sklearn.metrics import mean_absolute_error, mean_squared_error\n",
        "from sklearn.metrics import roc_auc_score\n",
        "from sklearn.metrics import roc_curve, auc\n",
        "from IPython.display import display\n",
        "import matplotlib.pyplot as plt\n",
        "import numpy as np\n",
        "import json\n",
        "\n"
      ]
    },
    {
      "cell_type": "code",
      "source": [
        "!ls /content/drive/MyDrive/data"
      ],
      "metadata": {
        "colab": {
          "base_uri": "https://localhost:8080/"
        },
        "id": "Zi8qgEjYEeFy",
        "outputId": "5e9ece24-870a-41fd-f8ba-fcd3c931798e"
      },
      "id": "Zi8qgEjYEeFy",
      "execution_count": 8,
      "outputs": [
        {
          "output_type": "stream",
          "name": "stdout",
          "text": [
            "all_annotations.csv\n",
            "arms_18_dev.spacy\n",
            "arms_18_train.spacy\n",
            "arms_20_dev.spacy\n",
            "arms_20_train.spacy\n",
            "countries_contexts.pkl.gz\n",
            "country_16_train.spacy\n",
            "country_model_01_keras.keras\n",
            "dev_is_international_15.spacy\n",
            "dev_is_international.spacy\n",
            "dev_phase_04.spacy\n",
            "dev.spacy\n",
            "filtered_for_phase_arms_subjects_02.csv.bz2\n",
            "filtered_for_phase_arms_subjects.csv.bz2\n",
            "is_international_classifier.pkl.bz2\n",
            "num_subjects_contexts.pkl.gz\n",
            "num_subjects_model_05_keras.keras\n",
            "num_subjects_model_06_keras.keras\n",
            "num_subjects_model_10_keras.keras\n",
            "num_subjects_positive_examples.pkl.gz\n",
            "output_arms_18\n",
            "output_arms_20\n",
            "output_sap_01\n",
            "output_subjects_11\n",
            "output_subjects_12\n",
            "output_subjects_13\n",
            "output_textcat_05\n",
            "output_textcat_06\n",
            "output_textcat_07\n",
            "output_textcat_is_international_11\n",
            "output_textcat_is_international_15\n",
            "output_textcat_phase_04\n",
            "phase_arm_num_subjects_model_10_keras.keras\n",
            "phase_arm_num_subjects_model_11_keras.keras\n",
            "phase_model_05.keras\n",
            "protocols.pkl.gz\n",
            "protocols_small_test.pkl.gz\n",
            "raw_protocols.zip\n",
            "sap_01_dev.spacy\n",
            "sap_01_train.spacy\n",
            "subjects_11_dev.spacy\n",
            "subjects_11_train.spacy\n",
            "subjects_12_dev.spacy\n",
            "subjects_12_train.spacy\n",
            "subjects_13_dev.spacy\n",
            "subjects_13_train.spacy\n",
            "textcat_numarms_17.spacy\n",
            "train_is_international_15.spacy\n",
            "train_is_international.spacy\n",
            "train_phase_04.spacy\n",
            "train.spacy\n",
            "www_data_small.xlsx\n"
          ]
        }
      ]
    },
    {
      "cell_type": "code",
      "source": [
        "from google.colab import drive\n",
        "drive.mount('/content/drive')"
      ],
      "metadata": {
        "colab": {
          "base_uri": "https://localhost:8080/"
        },
        "id": "mG8gR8O6QXgX",
        "outputId": "55f07b8f-6b11-4eba-b7b3-99b6113a072d"
      },
      "id": "mG8gR8O6QXgX",
      "execution_count": 4,
      "outputs": [
        {
          "output_type": "stream",
          "name": "stdout",
          "text": [
            "Mounted at /content/drive\n"
          ]
        }
      ]
    },
    {
      "cell_type": "code",
      "source": [
        "lmics = {'AF',\n",
        "                     'AL',\n",
        "                     'AM',\n",
        "                     'AO',\n",
        "                     'AR',\n",
        "                     'AS',\n",
        "                     'AZ',\n",
        "                     'BA',\n",
        "                     'BD',\n",
        "                     'BF',\n",
        "                     'BG',\n",
        "                     'BI',\n",
        "                     'BJ',\n",
        "                     'BO',\n",
        "                     'BR',\n",
        "                     'BT',\n",
        "                     'BW',\n",
        "                     'BY',\n",
        "                     'BZ',\n",
        "                     'CF',\n",
        "                     'CI',\n",
        "                     'CM',\n",
        "                     'CN',\n",
        "                     'CO',\n",
        "                     'CR',\n",
        "                     'CU',\n",
        "                     'CV',\n",
        "                     'DJ',\n",
        "                     'DM',\n",
        "                     'DO',\n",
        "                     'DZ',\n",
        "                     'EC',\n",
        "                     'ER',\n",
        "                     'ET',\n",
        "                     'FJ',\n",
        "                     'GA',\n",
        "                     'GD',\n",
        "                     'GE',\n",
        "                     'GH',\n",
        "                     'GN',\n",
        "                     'GQ',\n",
        "                     'GT',\n",
        "                     'GW',\n",
        "                     'GY',\n",
        "                     'HN',\n",
        "                     'HT',\n",
        "                     'ID',\n",
        "                     'IN',\n",
        "                     'IQ',\n",
        "                     'JM',\n",
        "                     'JO',\n",
        "                     'KE',\n",
        "                     'KH',\n",
        "                     'KI',\n",
        "                     'KM',\n",
        "                     'KZ',\n",
        "                     'LB',\n",
        "                     'LK',\n",
        "                     'LR',\n",
        "                     'LS',\n",
        "                     'LY',\n",
        "                     'MA',\n",
        "                     'MD',\n",
        "                     'ME',\n",
        "                     'MG',\n",
        "                     'MH',\n",
        "                     'MK',\n",
        "                     'ML',\n",
        "                     'MM',\n",
        "                     'MN',\n",
        "                     'MR',\n",
        "                     'MU',\n",
        "                     'MV',\n",
        "                     'MW',\n",
        "                     'MX',\n",
        "                     'MY',\n",
        "                     'MZ',\n",
        "                     'NA',\n",
        "                     'NE',\n",
        "                     'NG',\n",
        "                     'NI',\n",
        "                     'NP',\n",
        "                     'PA',\n",
        "                     'PE',\n",
        "                     'PG',\n",
        "                     'PH',\n",
        "                     'PK',\n",
        "                     'PY',\n",
        "                     'RO',\n",
        "                     'RS',\n",
        "                     'RU',\n",
        "                     'RW',\n",
        "                     'SB',\n",
        "                     'SD',\n",
        "                     'SL',\n",
        "                     'SN',\n",
        "                     'SO',\n",
        "                     'SR',\n",
        "                     'SS',\n",
        "                     'ST',\n",
        "                     'SV',\n",
        "                     'SY',\n",
        "                     'SZ',\n",
        "                     'TD',\n",
        "                     'TG',\n",
        "                     'TH',\n",
        "                     'TJ',\n",
        "                     'TL',\n",
        "                     'TM',\n",
        "                     'TN',\n",
        "                     'TO',\n",
        "                     'TR',\n",
        "                     'TV',\n",
        "                     'TZ',\n",
        "                     'UA',\n",
        "                     'UG',\n",
        "                     'UZ',\n",
        "                     'VN',\n",
        "                     'VU',\n",
        "                     'WS',\n",
        "                     'ZA',\n",
        "                     'ZM',\n",
        "                     'ZW'}\n"
      ],
      "metadata": {
        "id": "SRCYrg64sNFg"
      },
      "id": "SRCYrg64sNFg",
      "execution_count": null,
      "outputs": []
    },
    {
      "cell_type": "code",
      "source": [
        "df_annotations = pd.read_csv(\"/content/drive/MyDrive/data/all_annotations.csv\")\n"
      ],
      "metadata": {
        "id": "HyXyGuD_P6s7"
      },
      "id": "HyXyGuD_P6s7",
      "execution_count": null,
      "outputs": []
    },
    {
      "cell_type": "code",
      "source": [
        "df_annotations"
      ],
      "metadata": {
        "colab": {
          "base_uri": "https://localhost:8080/",
          "height": 424
        },
        "id": "yg7VKwIgqmTY",
        "outputId": "6ac3ada4-4f2d-4ac8-df04-42403c70a50f"
      },
      "id": "yg7VKwIgqmTY",
      "execution_count": null,
      "outputs": [
        {
          "output_type": "execute_result",
          "data": {
            "text/plain": [
              "                                  file       nct_id train_val  num_arms  \\\n",
              "0      00_NCT00006400_Prot_SAP_000.pdf  NCT00006400     train       2.0   \n",
              "1          00_NCT00150800_Prot_000.pdf  NCT00150800     train       1.0   \n",
              "2      00_NCT00553800_Prot_SAP_000.pdf  NCT00553800     train       1.0   \n",
              "3      00_NCT00943800_Prot_SAP_000.pdf  NCT00943800      test       3.0   \n",
              "4      00_NCT01030900_Prot_SAP_000.pdf  NCT01030900     train       1.0   \n",
              "...                                ...          ...       ...       ...   \n",
              "11919  99_NCT04405999_Prot_SAP_000.pdf  NCT04405999     train       2.0   \n",
              "11920  99_NCT04490499_Prot_SAP_000.pdf  NCT04490499     train       1.0   \n",
              "11921      99_NCT04529499_Prot_000.pdf  NCT04529499     train       2.0   \n",
              "11922      99_NCT04945499_Prot_000.pdf  NCT04945499      test       1.0   \n",
              "11923  99_NCT05283499_Prot_SAP_000.pdf  NCT05283499     train       2.0   \n",
              "\n",
              "       num_subjects           phase intervention_type            country  \\\n",
              "0             193.0         Phase 3              Drug                 US   \n",
              "1             668.0         Phase 3              Drug  US,AU,BR,CA,IN,MX   \n",
              "2              32.0         Phase 2              Drug                 US   \n",
              "3              87.0  Not Applicable              Drug                 US   \n",
              "4              50.0         Phase 2    BiologicalDrug                 US   \n",
              "...             ...             ...               ...                ...   \n",
              "11919          50.0         Phase 4              Drug                 RU   \n",
              "11920         207.0         Phase 3        Biological                 FI   \n",
              "11921         353.0         Phase 3              Drug                 KW   \n",
              "11922         100.0   Early Phase 1              Drug                 CN   \n",
              "11923          53.0         Phase 3              Drug                 US   \n",
              "\n",
              "       has_sap  \n",
              "0            1  \n",
              "1            0  \n",
              "2            1  \n",
              "3            1  \n",
              "4            1  \n",
              "...        ...  \n",
              "11919        1  \n",
              "11920        1  \n",
              "11921        0  \n",
              "11922        0  \n",
              "11923        1  \n",
              "\n",
              "[11924 rows x 9 columns]"
            ],
            "text/html": [
              "\n",
              "  <div id=\"df-815940ae-6a04-4644-aca4-4ea8a76b254d\">\n",
              "    <div class=\"colab-df-container\">\n",
              "      <div>\n",
              "<style scoped>\n",
              "    .dataframe tbody tr th:only-of-type {\n",
              "        vertical-align: middle;\n",
              "    }\n",
              "\n",
              "    .dataframe tbody tr th {\n",
              "        vertical-align: top;\n",
              "    }\n",
              "\n",
              "    .dataframe thead th {\n",
              "        text-align: right;\n",
              "    }\n",
              "</style>\n",
              "<table border=\"1\" class=\"dataframe\">\n",
              "  <thead>\n",
              "    <tr style=\"text-align: right;\">\n",
              "      <th></th>\n",
              "      <th>file</th>\n",
              "      <th>nct_id</th>\n",
              "      <th>train_val</th>\n",
              "      <th>num_arms</th>\n",
              "      <th>num_subjects</th>\n",
              "      <th>phase</th>\n",
              "      <th>intervention_type</th>\n",
              "      <th>country</th>\n",
              "      <th>has_sap</th>\n",
              "    </tr>\n",
              "  </thead>\n",
              "  <tbody>\n",
              "    <tr>\n",
              "      <th>0</th>\n",
              "      <td>00_NCT00006400_Prot_SAP_000.pdf</td>\n",
              "      <td>NCT00006400</td>\n",
              "      <td>train</td>\n",
              "      <td>2.0</td>\n",
              "      <td>193.0</td>\n",
              "      <td>Phase 3</td>\n",
              "      <td>Drug</td>\n",
              "      <td>US</td>\n",
              "      <td>1</td>\n",
              "    </tr>\n",
              "    <tr>\n",
              "      <th>1</th>\n",
              "      <td>00_NCT00150800_Prot_000.pdf</td>\n",
              "      <td>NCT00150800</td>\n",
              "      <td>train</td>\n",
              "      <td>1.0</td>\n",
              "      <td>668.0</td>\n",
              "      <td>Phase 3</td>\n",
              "      <td>Drug</td>\n",
              "      <td>US,AU,BR,CA,IN,MX</td>\n",
              "      <td>0</td>\n",
              "    </tr>\n",
              "    <tr>\n",
              "      <th>2</th>\n",
              "      <td>00_NCT00553800_Prot_SAP_000.pdf</td>\n",
              "      <td>NCT00553800</td>\n",
              "      <td>train</td>\n",
              "      <td>1.0</td>\n",
              "      <td>32.0</td>\n",
              "      <td>Phase 2</td>\n",
              "      <td>Drug</td>\n",
              "      <td>US</td>\n",
              "      <td>1</td>\n",
              "    </tr>\n",
              "    <tr>\n",
              "      <th>3</th>\n",
              "      <td>00_NCT00943800_Prot_SAP_000.pdf</td>\n",
              "      <td>NCT00943800</td>\n",
              "      <td>test</td>\n",
              "      <td>3.0</td>\n",
              "      <td>87.0</td>\n",
              "      <td>Not Applicable</td>\n",
              "      <td>Drug</td>\n",
              "      <td>US</td>\n",
              "      <td>1</td>\n",
              "    </tr>\n",
              "    <tr>\n",
              "      <th>4</th>\n",
              "      <td>00_NCT01030900_Prot_SAP_000.pdf</td>\n",
              "      <td>NCT01030900</td>\n",
              "      <td>train</td>\n",
              "      <td>1.0</td>\n",
              "      <td>50.0</td>\n",
              "      <td>Phase 2</td>\n",
              "      <td>BiologicalDrug</td>\n",
              "      <td>US</td>\n",
              "      <td>1</td>\n",
              "    </tr>\n",
              "    <tr>\n",
              "      <th>...</th>\n",
              "      <td>...</td>\n",
              "      <td>...</td>\n",
              "      <td>...</td>\n",
              "      <td>...</td>\n",
              "      <td>...</td>\n",
              "      <td>...</td>\n",
              "      <td>...</td>\n",
              "      <td>...</td>\n",
              "      <td>...</td>\n",
              "    </tr>\n",
              "    <tr>\n",
              "      <th>11919</th>\n",
              "      <td>99_NCT04405999_Prot_SAP_000.pdf</td>\n",
              "      <td>NCT04405999</td>\n",
              "      <td>train</td>\n",
              "      <td>2.0</td>\n",
              "      <td>50.0</td>\n",
              "      <td>Phase 4</td>\n",
              "      <td>Drug</td>\n",
              "      <td>RU</td>\n",
              "      <td>1</td>\n",
              "    </tr>\n",
              "    <tr>\n",
              "      <th>11920</th>\n",
              "      <td>99_NCT04490499_Prot_SAP_000.pdf</td>\n",
              "      <td>NCT04490499</td>\n",
              "      <td>train</td>\n",
              "      <td>1.0</td>\n",
              "      <td>207.0</td>\n",
              "      <td>Phase 3</td>\n",
              "      <td>Biological</td>\n",
              "      <td>FI</td>\n",
              "      <td>1</td>\n",
              "    </tr>\n",
              "    <tr>\n",
              "      <th>11921</th>\n",
              "      <td>99_NCT04529499_Prot_000.pdf</td>\n",
              "      <td>NCT04529499</td>\n",
              "      <td>train</td>\n",
              "      <td>2.0</td>\n",
              "      <td>353.0</td>\n",
              "      <td>Phase 3</td>\n",
              "      <td>Drug</td>\n",
              "      <td>KW</td>\n",
              "      <td>0</td>\n",
              "    </tr>\n",
              "    <tr>\n",
              "      <th>11922</th>\n",
              "      <td>99_NCT04945499_Prot_000.pdf</td>\n",
              "      <td>NCT04945499</td>\n",
              "      <td>test</td>\n",
              "      <td>1.0</td>\n",
              "      <td>100.0</td>\n",
              "      <td>Early Phase 1</td>\n",
              "      <td>Drug</td>\n",
              "      <td>CN</td>\n",
              "      <td>0</td>\n",
              "    </tr>\n",
              "    <tr>\n",
              "      <th>11923</th>\n",
              "      <td>99_NCT05283499_Prot_SAP_000.pdf</td>\n",
              "      <td>NCT05283499</td>\n",
              "      <td>train</td>\n",
              "      <td>2.0</td>\n",
              "      <td>53.0</td>\n",
              "      <td>Phase 3</td>\n",
              "      <td>Drug</td>\n",
              "      <td>US</td>\n",
              "      <td>1</td>\n",
              "    </tr>\n",
              "  </tbody>\n",
              "</table>\n",
              "<p>11924 rows × 9 columns</p>\n",
              "</div>\n",
              "      <button class=\"colab-df-convert\" onclick=\"convertToInteractive('df-815940ae-6a04-4644-aca4-4ea8a76b254d')\"\n",
              "              title=\"Convert this dataframe to an interactive table.\"\n",
              "              style=\"display:none;\">\n",
              "        \n",
              "  <svg xmlns=\"http://www.w3.org/2000/svg\" height=\"24px\"viewBox=\"0 0 24 24\"\n",
              "       width=\"24px\">\n",
              "    <path d=\"M0 0h24v24H0V0z\" fill=\"none\"/>\n",
              "    <path d=\"M18.56 5.44l.94 2.06.94-2.06 2.06-.94-2.06-.94-.94-2.06-.94 2.06-2.06.94zm-11 1L8.5 8.5l.94-2.06 2.06-.94-2.06-.94L8.5 2.5l-.94 2.06-2.06.94zm10 10l.94 2.06.94-2.06 2.06-.94-2.06-.94-.94-2.06-.94 2.06-2.06.94z\"/><path d=\"M17.41 7.96l-1.37-1.37c-.4-.4-.92-.59-1.43-.59-.52 0-1.04.2-1.43.59L10.3 9.45l-7.72 7.72c-.78.78-.78 2.05 0 2.83L4 21.41c.39.39.9.59 1.41.59.51 0 1.02-.2 1.41-.59l7.78-7.78 2.81-2.81c.8-.78.8-2.07 0-2.86zM5.41 20L4 18.59l7.72-7.72 1.47 1.35L5.41 20z\"/>\n",
              "  </svg>\n",
              "      </button>\n",
              "      \n",
              "  <style>\n",
              "    .colab-df-container {\n",
              "      display:flex;\n",
              "      flex-wrap:wrap;\n",
              "      gap: 12px;\n",
              "    }\n",
              "\n",
              "    .colab-df-convert {\n",
              "      background-color: #E8F0FE;\n",
              "      border: none;\n",
              "      border-radius: 50%;\n",
              "      cursor: pointer;\n",
              "      display: none;\n",
              "      fill: #1967D2;\n",
              "      height: 32px;\n",
              "      padding: 0 0 0 0;\n",
              "      width: 32px;\n",
              "    }\n",
              "\n",
              "    .colab-df-convert:hover {\n",
              "      background-color: #E2EBFA;\n",
              "      box-shadow: 0px 1px 2px rgba(60, 64, 67, 0.3), 0px 1px 3px 1px rgba(60, 64, 67, 0.15);\n",
              "      fill: #174EA6;\n",
              "    }\n",
              "\n",
              "    [theme=dark] .colab-df-convert {\n",
              "      background-color: #3B4455;\n",
              "      fill: #D2E3FC;\n",
              "    }\n",
              "\n",
              "    [theme=dark] .colab-df-convert:hover {\n",
              "      background-color: #434B5C;\n",
              "      box-shadow: 0px 1px 3px 1px rgba(0, 0, 0, 0.15);\n",
              "      filter: drop-shadow(0px 1px 2px rgba(0, 0, 0, 0.3));\n",
              "      fill: #FFFFFF;\n",
              "    }\n",
              "  </style>\n",
              "\n",
              "      <script>\n",
              "        const buttonEl =\n",
              "          document.querySelector('#df-815940ae-6a04-4644-aca4-4ea8a76b254d button.colab-df-convert');\n",
              "        buttonEl.style.display =\n",
              "          google.colab.kernel.accessAllowed ? 'block' : 'none';\n",
              "\n",
              "        async function convertToInteractive(key) {\n",
              "          const element = document.querySelector('#df-815940ae-6a04-4644-aca4-4ea8a76b254d');\n",
              "          const dataTable =\n",
              "            await google.colab.kernel.invokeFunction('convertToInteractive',\n",
              "                                                     [key], {});\n",
              "          if (!dataTable) return;\n",
              "\n",
              "          const docLinkHtml = 'Like what you see? Visit the ' +\n",
              "            '<a target=\"_blank\" href=https://colab.research.google.com/notebooks/data_table.ipynb>data table notebook</a>'\n",
              "            + ' to learn more about interactive tables.';\n",
              "          element.innerHTML = '';\n",
              "          dataTable['output_type'] = 'display_data';\n",
              "          await google.colab.output.renderOutput(dataTable, element);\n",
              "          const docLink = document.createElement('div');\n",
              "          docLink.innerHTML = docLinkHtml;\n",
              "          element.appendChild(docLink);\n",
              "        }\n",
              "      </script>\n",
              "    </div>\n",
              "  </div>\n",
              "  "
            ]
          },
          "metadata": {},
          "execution_count": 56
        }
      ]
    },
    {
      "cell_type": "code",
      "source": [
        "df_annotations.country.value_counts().reset_index().iloc[:10]"
      ],
      "metadata": {
        "colab": {
          "base_uri": "https://localhost:8080/",
          "height": 363
        },
        "id": "tyWrHfYVq8FZ",
        "outputId": "bbac9359-d877-4523-a7d3-16356d26b57b"
      },
      "id": "tyWrHfYVq8FZ",
      "execution_count": null,
      "outputs": [
        {
          "output_type": "execute_result",
          "data": {
            "text/plain": [
              "   index  country\n",
              "0     US     6222\n",
              "1     JP      267\n",
              "2  US,CA      239\n",
              "3     GB      196\n",
              "4     CN      163\n",
              "5     DE      111\n",
              "6     CA      110\n",
              "7  US,PR       71\n",
              "8     RU       56\n",
              "9     IT       53"
            ],
            "text/html": [
              "\n",
              "  <div id=\"df-514a0a53-f4d9-4ec9-a472-cb7a78d4f2b6\">\n",
              "    <div class=\"colab-df-container\">\n",
              "      <div>\n",
              "<style scoped>\n",
              "    .dataframe tbody tr th:only-of-type {\n",
              "        vertical-align: middle;\n",
              "    }\n",
              "\n",
              "    .dataframe tbody tr th {\n",
              "        vertical-align: top;\n",
              "    }\n",
              "\n",
              "    .dataframe thead th {\n",
              "        text-align: right;\n",
              "    }\n",
              "</style>\n",
              "<table border=\"1\" class=\"dataframe\">\n",
              "  <thead>\n",
              "    <tr style=\"text-align: right;\">\n",
              "      <th></th>\n",
              "      <th>index</th>\n",
              "      <th>country</th>\n",
              "    </tr>\n",
              "  </thead>\n",
              "  <tbody>\n",
              "    <tr>\n",
              "      <th>0</th>\n",
              "      <td>US</td>\n",
              "      <td>6222</td>\n",
              "    </tr>\n",
              "    <tr>\n",
              "      <th>1</th>\n",
              "      <td>JP</td>\n",
              "      <td>267</td>\n",
              "    </tr>\n",
              "    <tr>\n",
              "      <th>2</th>\n",
              "      <td>US,CA</td>\n",
              "      <td>239</td>\n",
              "    </tr>\n",
              "    <tr>\n",
              "      <th>3</th>\n",
              "      <td>GB</td>\n",
              "      <td>196</td>\n",
              "    </tr>\n",
              "    <tr>\n",
              "      <th>4</th>\n",
              "      <td>CN</td>\n",
              "      <td>163</td>\n",
              "    </tr>\n",
              "    <tr>\n",
              "      <th>5</th>\n",
              "      <td>DE</td>\n",
              "      <td>111</td>\n",
              "    </tr>\n",
              "    <tr>\n",
              "      <th>6</th>\n",
              "      <td>CA</td>\n",
              "      <td>110</td>\n",
              "    </tr>\n",
              "    <tr>\n",
              "      <th>7</th>\n",
              "      <td>US,PR</td>\n",
              "      <td>71</td>\n",
              "    </tr>\n",
              "    <tr>\n",
              "      <th>8</th>\n",
              "      <td>RU</td>\n",
              "      <td>56</td>\n",
              "    </tr>\n",
              "    <tr>\n",
              "      <th>9</th>\n",
              "      <td>IT</td>\n",
              "      <td>53</td>\n",
              "    </tr>\n",
              "  </tbody>\n",
              "</table>\n",
              "</div>\n",
              "      <button class=\"colab-df-convert\" onclick=\"convertToInteractive('df-514a0a53-f4d9-4ec9-a472-cb7a78d4f2b6')\"\n",
              "              title=\"Convert this dataframe to an interactive table.\"\n",
              "              style=\"display:none;\">\n",
              "        \n",
              "  <svg xmlns=\"http://www.w3.org/2000/svg\" height=\"24px\"viewBox=\"0 0 24 24\"\n",
              "       width=\"24px\">\n",
              "    <path d=\"M0 0h24v24H0V0z\" fill=\"none\"/>\n",
              "    <path d=\"M18.56 5.44l.94 2.06.94-2.06 2.06-.94-2.06-.94-.94-2.06-.94 2.06-2.06.94zm-11 1L8.5 8.5l.94-2.06 2.06-.94-2.06-.94L8.5 2.5l-.94 2.06-2.06.94zm10 10l.94 2.06.94-2.06 2.06-.94-2.06-.94-.94-2.06-.94 2.06-2.06.94z\"/><path d=\"M17.41 7.96l-1.37-1.37c-.4-.4-.92-.59-1.43-.59-.52 0-1.04.2-1.43.59L10.3 9.45l-7.72 7.72c-.78.78-.78 2.05 0 2.83L4 21.41c.39.39.9.59 1.41.59.51 0 1.02-.2 1.41-.59l7.78-7.78 2.81-2.81c.8-.78.8-2.07 0-2.86zM5.41 20L4 18.59l7.72-7.72 1.47 1.35L5.41 20z\"/>\n",
              "  </svg>\n",
              "      </button>\n",
              "      \n",
              "  <style>\n",
              "    .colab-df-container {\n",
              "      display:flex;\n",
              "      flex-wrap:wrap;\n",
              "      gap: 12px;\n",
              "    }\n",
              "\n",
              "    .colab-df-convert {\n",
              "      background-color: #E8F0FE;\n",
              "      border: none;\n",
              "      border-radius: 50%;\n",
              "      cursor: pointer;\n",
              "      display: none;\n",
              "      fill: #1967D2;\n",
              "      height: 32px;\n",
              "      padding: 0 0 0 0;\n",
              "      width: 32px;\n",
              "    }\n",
              "\n",
              "    .colab-df-convert:hover {\n",
              "      background-color: #E2EBFA;\n",
              "      box-shadow: 0px 1px 2px rgba(60, 64, 67, 0.3), 0px 1px 3px 1px rgba(60, 64, 67, 0.15);\n",
              "      fill: #174EA6;\n",
              "    }\n",
              "\n",
              "    [theme=dark] .colab-df-convert {\n",
              "      background-color: #3B4455;\n",
              "      fill: #D2E3FC;\n",
              "    }\n",
              "\n",
              "    [theme=dark] .colab-df-convert:hover {\n",
              "      background-color: #434B5C;\n",
              "      box-shadow: 0px 1px 3px 1px rgba(0, 0, 0, 0.15);\n",
              "      filter: drop-shadow(0px 1px 2px rgba(0, 0, 0, 0.3));\n",
              "      fill: #FFFFFF;\n",
              "    }\n",
              "  </style>\n",
              "\n",
              "      <script>\n",
              "        const buttonEl =\n",
              "          document.querySelector('#df-514a0a53-f4d9-4ec9-a472-cb7a78d4f2b6 button.colab-df-convert');\n",
              "        buttonEl.style.display =\n",
              "          google.colab.kernel.accessAllowed ? 'block' : 'none';\n",
              "\n",
              "        async function convertToInteractive(key) {\n",
              "          const element = document.querySelector('#df-514a0a53-f4d9-4ec9-a472-cb7a78d4f2b6');\n",
              "          const dataTable =\n",
              "            await google.colab.kernel.invokeFunction('convertToInteractive',\n",
              "                                                     [key], {});\n",
              "          if (!dataTable) return;\n",
              "\n",
              "          const docLinkHtml = 'Like what you see? Visit the ' +\n",
              "            '<a target=\"_blank\" href=https://colab.research.google.com/notebooks/data_table.ipynb>data table notebook</a>'\n",
              "            + ' to learn more about interactive tables.';\n",
              "          element.innerHTML = '';\n",
              "          dataTable['output_type'] = 'display_data';\n",
              "          await google.colab.output.renderOutput(dataTable, element);\n",
              "          const docLink = document.createElement('div');\n",
              "          docLink.innerHTML = docLinkHtml;\n",
              "          element.appendChild(docLink);\n",
              "        }\n",
              "      </script>\n",
              "    </div>\n",
              "  </div>\n",
              "  "
            ]
          },
          "metadata": {},
          "execution_count": 57
        }
      ]
    },
    {
      "cell_type": "code",
      "source": [
        "def group_countries(countries):\n",
        "  if pd.isna(countries):\n",
        "    return None\n",
        "  countries = set(countries.split(\",\"))\n",
        "  is_all_lmic = True\n",
        "  is_some_lmic = False\n",
        "  is_all_us_canada = True\n",
        "  for country in countries:\n",
        "    if country not in lmics:\n",
        "      is_all_lmic = False\n",
        "    if country in lmics:\n",
        "      is_some_lmic = True\n",
        "    if country not in {\"US\", \"CA\"}:\n",
        "      is_all_us_canada = False\n",
        "  if is_some_lmic:\n",
        "    return \"LMIC\"\n",
        "  if is_all_us_canada:\n",
        "    return \"USCA\"\n",
        "  return \"HIGH_INCOME\""
      ],
      "metadata": {
        "id": "2sbQYxE9sP-F"
      },
      "id": "2sbQYxE9sP-F",
      "execution_count": null,
      "outputs": []
    },
    {
      "cell_type": "code",
      "source": [
        "df_annotations[\"clean_country\"] = df_annotations.country.apply(group_countries)"
      ],
      "metadata": {
        "id": "hUr8x7Vdsz0Q"
      },
      "id": "hUr8x7Vdsz0Q",
      "execution_count": null,
      "outputs": []
    },
    {
      "cell_type": "code",
      "source": [
        "df_annotations[\"clean_country\"].value_counts()"
      ],
      "metadata": {
        "colab": {
          "base_uri": "https://localhost:8080/"
        },
        "id": "WzWV8tLGtiQz",
        "outputId": "7df4a397-98a9-49ac-ed23-df4cf138d296"
      },
      "id": "WzWV8tLGtiQz",
      "execution_count": null,
      "outputs": [
        {
          "output_type": "execute_result",
          "data": {
            "text/plain": [
              "USCA           6573\n",
              "HIGH_INCOME    2713\n",
              "LMIC           2490\n",
              "Name: clean_country, dtype: int64"
            ]
          },
          "metadata": {},
          "execution_count": 60
        }
      ]
    },
    {
      "cell_type": "markdown",
      "id": "4b2e7a73",
      "metadata": {
        "id": "4b2e7a73"
      },
      "source": [
        "# Get data"
      ]
    },
    {
      "cell_type": "code",
      "execution_count": null,
      "id": "c8ebd7a5",
      "metadata": {
        "id": "c8ebd7a5"
      },
      "outputs": [],
      "source": [
        "with open(\"/content/drive/MyDrive/data/protocols.pkl.gz\", \"rb\") as f:\n",
        "    file_to_pages = pkl.load(f)"
      ]
    },
    {
      "cell_type": "code",
      "execution_count": null,
      "id": "6148cb3b",
      "metadata": {
        "id": "6148cb3b"
      },
      "outputs": [],
      "source": [
        "\n",
        "texts = []\n",
        "\n",
        "for i in range(len(df_annotations)):\n",
        "    file_name = df_annotations.file.iloc[i]\n",
        "    \n",
        "    pages= file_to_pages[file_name]\n",
        "    # Limit to first 3 pages because of memory constraints\n",
        "    if len(pages) > 10:\n",
        "      pages = pages[:10]\n",
        "\n",
        "    texts.append(\" \".join(pages))\n",
        "df_annotations[\"text\"] = texts"
      ]
    },
    {
      "cell_type": "code",
      "execution_count": null,
      "id": "9fbe5bf0",
      "metadata": {
        "id": "9fbe5bf0",
        "scrolled": true
      },
      "outputs": [],
      "source": [
        "df_annotations = df_annotations[~df_annotations.clean_country.isna()]"
      ]
    },
    {
      "cell_type": "code",
      "source": [
        "labels = list(sorted(set(df_annotations[\"clean_country\"])))"
      ],
      "metadata": {
        "id": "E1SzPGFeszWV"
      },
      "id": "E1SzPGFeszWV",
      "execution_count": null,
      "outputs": []
    },
    {
      "cell_type": "code",
      "execution_count": null,
      "id": "cfac2830",
      "metadata": {
        "id": "cfac2830",
        "colab": {
          "base_uri": "https://localhost:8080/"
        },
        "outputId": "ebea74b4-10bd-4f55-dde5-187fd6021929"
      },
      "outputs": [
        {
          "output_type": "execute_result",
          "data": {
            "text/plain": [
              "USCA           6573\n",
              "HIGH_INCOME    2713\n",
              "LMIC           2490\n",
              "Name: clean_country, dtype: int64"
            ]
          },
          "metadata": {},
          "execution_count": 65
        }
      ],
      "source": [
        "df_annotations[\"clean_country\"].value_counts()"
      ]
    },
    {
      "cell_type": "code",
      "source": [
        "import spacy\n",
        "nlp = spacy.blank(\"en\")\n",
        "from spacy.tokens import DocBin\n",
        "\n",
        "docs_train = []\n",
        "for i in range(10):\n",
        "  docs_train.append(DocBin())\n",
        "docs_val = DocBin()\n",
        "\n",
        "for idx in range(len(df_annotations)):\n",
        "  if idx % 100 == 0:\n",
        "    print (idx, len(df_annotations))\n",
        "  if df_annotations.train_val.iloc[idx] == \"train\":\n",
        "    docs_list = docs_train[idx % 10]\n",
        "  else:\n",
        "    docs_list = docs_val\n",
        "  text = str(df_annotations.text.iloc[idx])\n",
        "  if len(text) > 100000:\n",
        "      text = text[:100000]\n",
        "  doc = nlp(text)\n",
        "\n",
        "  cats = {}\n",
        "  for a in labels:\n",
        "      cats[a] = 0\n",
        "  if pd.isna(df_annotations.clean_country.iloc[idx]):\n",
        "    continue\n",
        "  cats[df_annotations.clean_country.iloc[idx]] = 1\n",
        "  doc.cats = cats\n",
        "\n",
        "  docs_list.add(doc)"
      ],
      "metadata": {
        "colab": {
          "base_uri": "https://localhost:8080/"
        },
        "id": "8YqH-b1AHVRy",
        "outputId": "5e87fc40-609c-484e-aa9c-9f20767a4cbb"
      },
      "id": "8YqH-b1AHVRy",
      "execution_count": null,
      "outputs": [
        {
          "output_type": "stream",
          "name": "stdout",
          "text": [
            "0 11776\n",
            "100 11776\n",
            "200 11776\n",
            "300 11776\n",
            "400 11776\n",
            "500 11776\n",
            "600 11776\n",
            "700 11776\n",
            "800 11776\n",
            "900 11776\n",
            "1000 11776\n",
            "1100 11776\n",
            "1200 11776\n",
            "1300 11776\n",
            "1400 11776\n",
            "1500 11776\n",
            "1600 11776\n",
            "1700 11776\n",
            "1800 11776\n",
            "1900 11776\n",
            "2000 11776\n",
            "2100 11776\n",
            "2200 11776\n",
            "2300 11776\n",
            "2400 11776\n",
            "2500 11776\n",
            "2600 11776\n",
            "2700 11776\n",
            "2800 11776\n",
            "2900 11776\n",
            "3000 11776\n",
            "3100 11776\n",
            "3200 11776\n",
            "3300 11776\n",
            "3400 11776\n",
            "3500 11776\n",
            "3600 11776\n",
            "3700 11776\n",
            "3800 11776\n",
            "3900 11776\n",
            "4000 11776\n",
            "4100 11776\n",
            "4200 11776\n",
            "4300 11776\n",
            "4400 11776\n",
            "4500 11776\n",
            "4600 11776\n",
            "4700 11776\n",
            "4800 11776\n",
            "4900 11776\n",
            "5000 11776\n",
            "5100 11776\n",
            "5200 11776\n",
            "5300 11776\n",
            "5400 11776\n",
            "5500 11776\n",
            "5600 11776\n",
            "5700 11776\n",
            "5800 11776\n",
            "5900 11776\n",
            "6000 11776\n",
            "6100 11776\n",
            "6200 11776\n",
            "6300 11776\n",
            "6400 11776\n",
            "6500 11776\n",
            "6600 11776\n",
            "6700 11776\n",
            "6800 11776\n",
            "6900 11776\n",
            "7000 11776\n",
            "7100 11776\n",
            "7200 11776\n",
            "7300 11776\n",
            "7400 11776\n",
            "7500 11776\n",
            "7600 11776\n",
            "7700 11776\n",
            "7800 11776\n",
            "7900 11776\n",
            "8000 11776\n",
            "8100 11776\n",
            "8200 11776\n",
            "8300 11776\n",
            "8400 11776\n",
            "8500 11776\n",
            "8600 11776\n",
            "8700 11776\n",
            "8800 11776\n",
            "8900 11776\n",
            "9000 11776\n",
            "9100 11776\n",
            "9200 11776\n",
            "9300 11776\n",
            "9400 11776\n",
            "9500 11776\n",
            "9600 11776\n",
            "9700 11776\n",
            "9800 11776\n",
            "9900 11776\n",
            "10000 11776\n",
            "10100 11776\n",
            "10200 11776\n",
            "10300 11776\n",
            "10400 11776\n",
            "10500 11776\n",
            "10600 11776\n",
            "10700 11776\n",
            "10800 11776\n",
            "10900 11776\n",
            "11000 11776\n",
            "11100 11776\n",
            "11200 11776\n",
            "11300 11776\n",
            "11400 11776\n",
            "11500 11776\n",
            "11600 11776\n",
            "11700 11776\n"
          ]
        }
      ]
    },
    {
      "cell_type": "code",
      "source": [
        "!mkdir train.spacy\n",
        "!mkdir /content/drive/MyDrive/data/country_16_train.spacy\n"
      ],
      "metadata": {
        "id": "9gLDu1qFTxls"
      },
      "id": "9gLDu1qFTxls",
      "execution_count": null,
      "outputs": []
    },
    {
      "cell_type": "code",
      "source": [
        "for idx, doc_bin_train in enumerate(docs_train):\n",
        "  doc_bin_train.to_disk(f\"train.spacy/train_doc_bin{idx}.spacy\")\n",
        "  doc_bin_train.to_disk(f\"/content/drive/MyDrive/data/country_16_train.spacy/train_doc_bin{idx}.spacy\")"
      ],
      "metadata": {
        "id": "EhS_f_Z3TsRG"
      },
      "id": "EhS_f_Z3TsRG",
      "execution_count": null,
      "outputs": []
    },
    {
      "cell_type": "code",
      "source": [
        "!ls /content/drive/MyDrive/data/country_16_train.spacy"
      ],
      "metadata": {
        "id": "L6llzX4NVxT6"
      },
      "id": "L6llzX4NVxT6",
      "execution_count": null,
      "outputs": []
    },
    {
      "cell_type": "code",
      "source": [
        "docs_val.to_disk(\"dev.spacy\")"
      ],
      "metadata": {
        "id": "Ld9Qv0nuQ_V1"
      },
      "id": "Ld9Qv0nuQ_V1",
      "execution_count": null,
      "outputs": []
    },
    {
      "cell_type": "code",
      "source": [
        "docs_val.to_disk(\"/content/drive/MyDrive/data/country_16_dev.spacy\")"
      ],
      "metadata": {
        "id": "YkMG6YPeRB2i"
      },
      "id": "YkMG6YPeRB2i",
      "execution_count": null,
      "outputs": []
    },
    {
      "cell_type": "code",
      "source": [
        "note to self: running below line in TrainNumSubjectsClassifier_13_Spacy_Textcat_First10Pages_fewer_bins.ipynb"
      ],
      "metadata": {
        "id": "d0ngq99Fwyto"
      },
      "id": "d0ngq99Fwyto",
      "execution_count": null,
      "outputs": []
    },
    {
      "cell_type": "code",
      "source": [],
      "metadata": {
        "colab": {
          "base_uri": "https://localhost:8080/"
        },
        "id": "kqVlaPpAEKmV",
        "outputId": "f96ec805-a4b8-4c2c-caa4-164629a404ee"
      },
      "id": "kqVlaPpAEKmV",
      "execution_count": 7,
      "outputs": [
        {
          "output_type": "stream",
          "name": "stdout",
          "text": [
            "all_annotations.csv\n",
            "arms_18_dev.spacy\n",
            "arms_18_train.spacy\n",
            "arms_20_dev.spacy\n",
            "arms_20_train.spacy\n",
            "countries_contexts.pkl.gz\n",
            "country_16_train.spacy\n",
            "country_model_01_keras.keras\n",
            "dev_is_international_15.spacy\n",
            "dev_is_international.spacy\n",
            "dev_phase_04.spacy\n",
            "dev.spacy\n",
            "filtered_for_phase_arms_subjects_02.csv.bz2\n",
            "filtered_for_phase_arms_subjects.csv.bz2\n",
            "is_international_classifier.pkl.bz2\n",
            "num_subjects_contexts.pkl.gz\n",
            "num_subjects_model_05_keras.keras\n",
            "num_subjects_model_06_keras.keras\n",
            "num_subjects_model_10_keras.keras\n",
            "num_subjects_positive_examples.pkl.gz\n",
            "output_arms_18\n",
            "output_arms_20\n",
            "output_sap_01\n",
            "output_subjects_11\n",
            "output_subjects_12\n",
            "output_subjects_13\n",
            "output_textcat_05\n",
            "output_textcat_06\n",
            "output_textcat_07\n",
            "output_textcat_is_international_11\n",
            "output_textcat_is_international_15\n",
            "output_textcat_phase_04\n",
            "phase_arm_num_subjects_model_10_keras.keras\n",
            "phase_arm_num_subjects_model_11_keras.keras\n",
            "phase_model_05.keras\n",
            "protocols.pkl.gz\n",
            "protocols_small_test.pkl.gz\n",
            "raw_protocols.zip\n",
            "sap_01_dev.spacy\n",
            "sap_01_train.spacy\n",
            "subjects_11_dev.spacy\n",
            "subjects_11_train.spacy\n",
            "subjects_12_dev.spacy\n",
            "subjects_12_train.spacy\n",
            "subjects_13_dev.spacy\n",
            "subjects_13_train.spacy\n",
            "textcat_numarms_17.spacy\n",
            "train_is_international_15.spacy\n",
            "train_is_international.spacy\n",
            "train_phase_04.spacy\n",
            "train.spacy\n",
            "www_data_small.xlsx\n"
          ]
        }
      ]
    },
    {
      "cell_type": "code",
      "execution_count": null,
      "id": "6b88f1c9",
      "metadata": {
        "id": "6b88f1c9",
        "colab": {
          "base_uri": "https://localhost:8080/"
        },
        "outputId": "3a3c86a6-af12-41de-c6e0-592b3f75802c"
      },
      "outputs": [
        {
          "output_type": "stream",
          "name": "stdout",
          "text": [
            "\u001b[38;5;2m✔ Created output directory:\n",
            "/content/drive/MyDrive/data/output_sap_01\u001b[0m\n",
            "\u001b[38;5;4mℹ Saving to output directory:\n",
            "/content/drive/MyDrive/data/output_sap_01\u001b[0m\n",
            "\u001b[38;5;4mℹ Using GPU: 0\u001b[0m\n",
            "\u001b[1m\n",
            "=========================== Initializing pipeline ===========================\u001b[0m\n",
            "[2022-11-18 11:40:25,886] [INFO] Set up nlp object from config\n",
            "INFO:spacy:Set up nlp object from config\n",
            "[2022-11-18 11:40:25,897] [INFO] Pipeline: ['textcat']\n",
            "INFO:spacy:Pipeline: ['textcat']\n",
            "[2022-11-18 11:40:25,901] [INFO] Created vocabulary\n",
            "INFO:spacy:Created vocabulary\n",
            "[2022-11-18 11:40:25,901] [INFO] Finished initializing nlp object\n",
            "INFO:spacy:Finished initializing nlp object\n",
            "tcmalloc: large alloc 1073750016 bytes == 0xb8c14000 @  0x7f59593452a4 0x58ead6 0x441ff3 0x5d1f81 0x5d2306 0x58f62c 0x5105e2 0x58fd37 0x50ca37 0x58fd37 0x50ca37 0x4d01b4 0x50cb8d 0x4d01b4 0x50cb8d 0x4d01b4 0x7f57edcea7c6 0x4ba72b 0x7f57edce8ce3 0x58f6e4 0x50ff13 0x5b575e 0x4bad0a 0x4d3249 0x591e56 0x50e18c 0x5b575e 0x58ff2e 0x50d482 0x5b575e 0x58ff2e\n",
            "[2022-11-18 11:54:02,555] [INFO] Initialized pipeline components: ['textcat']\n",
            "INFO:spacy:Initialized pipeline components: ['textcat']\n",
            "\u001b[38;5;2m✔ Initialized pipeline\u001b[0m\n",
            "\u001b[1m\n",
            "============================= Training pipeline =============================\u001b[0m\n",
            "\u001b[38;5;4mℹ Pipeline: ['textcat']\u001b[0m\n",
            "\u001b[38;5;4mℹ Initial learn rate: 0.0\u001b[0m\n",
            "E    #       LOSS TEXTCAT  CATS_SCORE  SCORE \n",
            "---  ------  ------------  ----------  ------\n",
            "tcmalloc: large alloc 2147491840 bytes == 0x7f522970c000 @  0x7f59593452a4 0x58ead6 0x441ff3 0x5d1f81 0x5d2306 0x58f62c 0x5105e2 0x58fd37 0x50ca37 0x58fd37 0x50ca37 0x4d01b4 0x50cb8d 0x4d01b4 0x50cb8d 0x4d01b4 0x5a04c4 0x5a2ed4 0x5909f6 0x510280 0x5b575e 0x58ff2e 0x50ca37 0x5b575e 0x58ff2e 0x50c4fc 0x4d01b4 0x50cb8d 0x5b575e 0x58ff2e 0x50d482\n",
            "tcmalloc: large alloc 1561247744 bytes == 0x7f52a970e000 @  0x7f59593441e7 0x4b2590 0x5ad01c 0x7f594037e05a 0x7f5940382387 0x7f594038372d 0x512654 0x5b4ee6 0x58ff2e 0x50d482 0x5b4ee6 0x58ff2e 0x510325 0x58fd37 0x50ca37 0x58fd37 0x50ca37 0x4d01b4 0x50cb8d 0x4d01b4 0x50cb8d 0x4d01b4 0x5a04c4 0x5a2ed4 0x5909f6 0x510280 0x5b575e 0x58ff2e 0x50ca37 0x5b575e 0x58ff2e\n",
            "  0       0          0.25       33.94    0.34\n",
            "tcmalloc: large alloc 2147491840 bytes == 0x7f4ff03ee000 @  0x7f59593452a4 0x58ead6 0x441ff3 0x5d1f81 0x5d2306 0x58f62c 0x5105e2 0x58fd37 0x50ca37 0x58fd37 0x50ca37 0x4d01b4 0x50cb8d 0x4d01b4 0x50cb8d 0x4d01b4 0x5a04c4 0x5a2ed4 0x5909f6 0x510280 0x5b575e 0x58ff2e 0x50ca37 0x5b575e 0x58ff2e 0x50c4fc 0x4d00fb 0x50cb8d 0x5b575e 0x58ff2e 0x50d482\n"
          ]
        }
      ],
      "source": [
        "!python -m spacy train ./spacy_textcat_is_international_11.cfg --output /content/drive/MyDrive/data/output_country_16 --paths.train /content/drive/MyDrive/data/country_16_train.spacy --paths.dev  /content/drive/MyDrive/data/country_16_dev.spacy --gpu-id 0"
      ]
    },
    {
      "cell_type": "code",
      "source": [
        "import spacy\n",
        "nlp = spacy.load(\"/content/drive/MyDrive/data/output_country_16/model-best\")"
      ],
      "metadata": {
        "id": "RA18XmbkRge_"
      },
      "id": "RA18XmbkRge_",
      "execution_count": null,
      "outputs": []
    },
    {
      "cell_type": "code",
      "source": [
        "df_val = df_annotations[df_annotations.train_val==\"val\"]\n",
        "\n",
        "predictions = []\n",
        "for idx in range(len(df_val)):\n",
        "    doc = nlp(df_val.text.apply(str).iloc[idx])\n",
        "    predictions.append(doc.cats)"
      ],
      "metadata": {
        "id": "i6kKqURLRmk4"
      },
      "id": "i6kKqURLRmk4",
      "execution_count": null,
      "outputs": []
    },
    {
      "cell_type": "code",
      "source": [
        "# pred_proba = []\n",
        "# for idx in range(len(df_val)):\n",
        "#     pred_proba.append([predictions[idx][a] for a in range(num_classes)])"
      ],
      "metadata": {
        "id": "sh2k1WwZRqqn"
      },
      "id": "sh2k1WwZRqqn",
      "execution_count": null,
      "outputs": []
    },
    {
      "cell_type": "code",
      "source": [
        "predictions = []\n",
        "for idx in range(len(df_val)):\n",
        "    doc = nlp(df_val.text.apply(str).iloc[idx])\n",
        "    predictions.append(doc.cats)"
      ],
      "metadata": {
        "id": "WzVdvY9tR84X"
      },
      "id": "WzVdvY9tR84X",
      "execution_count": null,
      "outputs": []
    },
    {
      "cell_type": "code",
      "execution_count": null,
      "id": "68ebd9f0",
      "metadata": {
        "id": "68ebd9f0",
        "scrolled": true
      },
      "outputs": [],
      "source": [
        "df_val[\"y_pred\"] = [max(p, key=p.get) for p in predictions]"
      ]
    },
    {
      "cell_type": "code",
      "execution_count": null,
      "id": "118aef49",
      "metadata": {
        "id": "118aef49"
      },
      "outputs": [],
      "source": [
        "country_ground_truths = df_val.clean_country\n",
        "pred_country = df_val[\"y_pred\"]"
      ]
    },
    {
      "cell_type": "code",
      "execution_count": null,
      "id": "73495a5c",
      "metadata": {
        "id": "73495a5c"
      },
      "outputs": [],
      "source": [
        "acc = accuracy_score(country_ground_truths, pred_country)\n",
        "print (f\"Country accuracy {acc}\")"
      ]
    },
    {
      "cell_type": "code",
      "execution_count": null,
      "id": "775ae91e",
      "metadata": {
        "id": "775ae91e"
      },
      "outputs": [],
      "source": [
        "ConfusionMatrixDisplay.from_predictions(country_ground_truths, pred_country, labels=labels)\n",
        "plt.xticks(rotation=90)\n",
        ";"
      ]
    },
    {
      "cell_type": "code",
      "execution_count": null,
      "id": "16527f52",
      "metadata": {
        "id": "16527f52"
      },
      "outputs": [],
      "source": [
        "all_aucs = []\n",
        "from sklearn.metrics import roc_auc_score\n",
        "for i in labels:\n",
        "  roc_auc = roc_auc_score(country_ground_truths == i, [p[i] for p in predictions])\n",
        "  print (f\"SAP ROC AUC {roc_auc} for {i} countries\")\n",
        "  all_aucs.append(roc_auc)\n",
        "print (\"Average\", np.mean(all_aucs))"
      ]
    },
    {
      "cell_type": "code",
      "source": [
        "plt.figure()\n",
        "lw = 2\n",
        "    \n",
        "for i in labels:\n",
        "    fpr, tpr, _ = roc_curve(country_ground_truths == i, [p[i] for p in predictions])\n",
        "    roc_auc = auc(fpr, tpr)\n",
        "    plt.plot(\n",
        "        fpr,\n",
        "        tpr,\n",
        "        # color=\"darkorange\",\n",
        "        lw=lw,\n",
        "        label=f\"ROC curve {i} Country (area = {roc_auc:0.2f})\"\n",
        "    )\n",
        "    plt.plot([0, 1], [0, 1], color=\"gray\", alpha=0.5, lw=lw, linestyle=\"--\")\n",
        "plt.xlim([0.0, 1.0])\n",
        "plt.ylim([0.0, 1.05])\n",
        "plt.xlabel(\"False Positive Rate\")\n",
        "plt.ylabel(\"True Positive Rate\")\n",
        "plt.title(\"Receiver operating characteristic example\")\n",
        "plt.legend(loc=\"lower right\")\n",
        "plt.show()"
      ],
      "metadata": {
        "id": "bvS_8GcTMgCl"
      },
      "id": "bvS_8GcTMgCl",
      "execution_count": null,
      "outputs": []
    },
    {
      "cell_type": "code",
      "source": [],
      "metadata": {
        "id": "W7qDw2rgSHKj"
      },
      "id": "W7qDw2rgSHKj",
      "execution_count": null,
      "outputs": []
    }
  ],
  "metadata": {
    "colab": {
      "provenance": [],
      "include_colab_link": true
    },
    "kernelspec": {
      "display_name": "Python [conda env:py310] *",
      "language": "python",
      "name": "conda-env-py310-py"
    },
    "language_info": {
      "codemirror_mode": {
        "name": "ipython",
        "version": 3
      },
      "file_extension": ".py",
      "mimetype": "text/x-python",
      "name": "python",
      "nbconvert_exporter": "python",
      "pygments_lexer": "ipython3",
      "version": "3.10.4"
    },
    "gpuClass": "standard"
  },
  "nbformat": 4,
  "nbformat_minor": 5
}