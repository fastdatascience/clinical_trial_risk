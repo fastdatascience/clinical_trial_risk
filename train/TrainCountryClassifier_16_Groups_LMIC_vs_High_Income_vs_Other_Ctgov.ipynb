{
  "cells": [
    {
      "cell_type": "markdown",
      "metadata": {
        "id": "view-in-github",
        "colab_type": "text"
      },
      "source": [
        "<a href=\"https://colab.research.google.com/github/fastdatascience/clinical_trial_risk/blob/fixes_nov_2022/train/ctgov/TrainCountryClassifier_16_Groups_LMIC.ipynb\" target=\"_parent\"><img src=\"https://colab.research.google.com/assets/colab-badge.svg\" alt=\"Open In Colab\"/></a>"
      ]
    },
    {
      "cell_type": "code",
      "execution_count": null,
      "id": "0557d6c8",
      "metadata": {
        "id": "0557d6c8"
      },
      "outputs": [],
      "source": [
        "import spacy\n",
        "import pandas as pd\n",
        "import re\n",
        "import os\n",
        "import sys\n",
        "import pickle as pkl\n",
        "import seaborn as sns\n",
        "from sklearn.metrics import accuracy_score, confusion_matrix\n",
        "from sklearn.metrics import ConfusionMatrixDisplay\n",
        "from sklearn.metrics import mean_absolute_error, mean_squared_error\n",
        "from sklearn.metrics import roc_auc_score\n",
        "from sklearn.metrics import roc_curve, auc\n",
        "from IPython.display import display\n",
        "import matplotlib.pyplot as plt\n",
        "import numpy as np\n",
        "import json\n",
        "\n"
      ]
    },
    {
      "cell_type": "code",
      "source": [
        "!ls /content/drive/MyDrive/data"
      ],
      "metadata": {
        "colab": {
          "base_uri": "https://localhost:8080/"
        },
        "id": "Zi8qgEjYEeFy",
        "outputId": "9ddd2544-ff42-4501-83d9-b175b42a691a"
      },
      "id": "Zi8qgEjYEeFy",
      "execution_count": null,
      "outputs": [
        {
          "output_type": "stream",
          "name": "stdout",
          "text": [
            "ls: cannot access '/content/drive/MyDrive/data': No such file or directory\n"
          ]
        }
      ]
    },
    {
      "cell_type": "code",
      "source": [
        "from google.colab import drive\n",
        "drive.mount('/content/drive')"
      ],
      "metadata": {
        "colab": {
          "base_uri": "https://localhost:8080/"
        },
        "id": "mG8gR8O6QXgX",
        "outputId": "f101bf35-b4d9-4434-b4b2-943723226b8f"
      },
      "id": "mG8gR8O6QXgX",
      "execution_count": null,
      "outputs": [
        {
          "output_type": "stream",
          "name": "stdout",
          "text": [
            "Mounted at /content/drive\n"
          ]
        }
      ]
    },
    {
      "cell_type": "code",
      "source": [
        "lmics = {'AF',\n",
        "                     'AL',\n",
        "                     'AM',\n",
        "                     'AO',\n",
        "                     'AR',\n",
        "                     'AS',\n",
        "                     'AZ',\n",
        "                     'BA',\n",
        "                     'BD',\n",
        "                     'BF',\n",
        "                     'BG',\n",
        "                     'BI',\n",
        "                     'BJ',\n",
        "                     'BO',\n",
        "                     'BR',\n",
        "                     'BT',\n",
        "                     'BW',\n",
        "                     'BY',\n",
        "                     'BZ',\n",
        "                     'CF',\n",
        "                     'CI',\n",
        "                     'CM',\n",
        "                     'CN',\n",
        "                     'CO',\n",
        "                     'CR',\n",
        "                     'CU',\n",
        "                     'CV',\n",
        "                     'DJ',\n",
        "                     'DM',\n",
        "                     'DO',\n",
        "                     'DZ',\n",
        "                     'EC',\n",
        "                     'ER',\n",
        "                     'ET',\n",
        "                     'FJ',\n",
        "                     'GA',\n",
        "                     'GD',\n",
        "                     'GE',\n",
        "                     'GH',\n",
        "                     'GN',\n",
        "                     'GQ',\n",
        "                     'GT',\n",
        "                     'GW',\n",
        "                     'GY',\n",
        "                     'HN',\n",
        "                     'HT',\n",
        "                     'ID',\n",
        "                     'IN',\n",
        "                     'IQ',\n",
        "                     'JM',\n",
        "                     'JO',\n",
        "                     'KE',\n",
        "                     'KH',\n",
        "                     'KI',\n",
        "                     'KM',\n",
        "                     'KZ',\n",
        "                     'LB',\n",
        "                     'LK',\n",
        "                     'LR',\n",
        "                     'LS',\n",
        "                     'LY',\n",
        "                     'MA',\n",
        "                     'MD',\n",
        "                     'ME',\n",
        "                     'MG',\n",
        "                     'MH',\n",
        "                     'MK',\n",
        "                     'ML',\n",
        "                     'MM',\n",
        "                     'MN',\n",
        "                     'MR',\n",
        "                     'MU',\n",
        "                     'MV',\n",
        "                     'MW',\n",
        "                     'MX',\n",
        "                     'MY',\n",
        "                     'MZ',\n",
        "                     'NA',\n",
        "                     'NE',\n",
        "                     'NG',\n",
        "                     'NI',\n",
        "                     'NP',\n",
        "                     'PA',\n",
        "                     'PE',\n",
        "                     'PG',\n",
        "                     'PH',\n",
        "                     'PK',\n",
        "                     'PY',\n",
        "                     'RO',\n",
        "                     'RS',\n",
        "                     'RU',\n",
        "                     'RW',\n",
        "                     'SB',\n",
        "                     'SD',\n",
        "                     'SL',\n",
        "                     'SN',\n",
        "                     'SO',\n",
        "                     'SR',\n",
        "                     'SS',\n",
        "                     'ST',\n",
        "                     'SV',\n",
        "                     'SY',\n",
        "                     'SZ',\n",
        "                     'TD',\n",
        "                     'TG',\n",
        "                     'TH',\n",
        "                     'TJ',\n",
        "                     'TL',\n",
        "                     'TM',\n",
        "                     'TN',\n",
        "                     'TO',\n",
        "                     'TR',\n",
        "                     'TV',\n",
        "                     'TZ',\n",
        "                     'UA',\n",
        "                     'UG',\n",
        "                     'UZ',\n",
        "                     'VN',\n",
        "                     'VU',\n",
        "                     'WS',\n",
        "                     'ZA',\n",
        "                     'ZM',\n",
        "                     'ZW'}\n"
      ],
      "metadata": {
        "id": "SRCYrg64sNFg"
      },
      "id": "SRCYrg64sNFg",
      "execution_count": null,
      "outputs": []
    },
    {
      "cell_type": "code",
      "source": [
        "df_annotations = pd.read_csv(\"/content/drive/MyDrive/data/all_annotations.csv\")\n"
      ],
      "metadata": {
        "id": "HyXyGuD_P6s7"
      },
      "id": "HyXyGuD_P6s7",
      "execution_count": null,
      "outputs": []
    },
    {
      "cell_type": "code",
      "source": [
        "df_annotations = df_annotations[~df_annotations.country.isna()]"
      ],
      "metadata": {
        "id": "yg7VKwIgqmTY"
      },
      "id": "yg7VKwIgqmTY",
      "execution_count": null,
      "outputs": []
    },
    {
      "cell_type": "code",
      "source": [
        "df_annotations.country.value_counts().reset_index().iloc[:10]"
      ],
      "metadata": {
        "colab": {
          "base_uri": "https://localhost:8080/",
          "height": 363
        },
        "id": "tyWrHfYVq8FZ",
        "outputId": "6389cd90-60bc-457a-91e7-025c8fc35ecc"
      },
      "id": "tyWrHfYVq8FZ",
      "execution_count": null,
      "outputs": [
        {
          "output_type": "execute_result",
          "data": {
            "text/plain": [
              "   index  country\n",
              "0     US     6222\n",
              "1     JP      267\n",
              "2  US,CA      239\n",
              "3     GB      196\n",
              "4     CN      163\n",
              "5     DE      111\n",
              "6     CA      110\n",
              "7  US,PR       71\n",
              "8     RU       56\n",
              "9     IT       53"
            ],
            "text/html": [
              "\n",
              "  <div id=\"df-c9a5c8db-4b01-4ae8-9ed5-8fef667396da\">\n",
              "    <div class=\"colab-df-container\">\n",
              "      <div>\n",
              "<style scoped>\n",
              "    .dataframe tbody tr th:only-of-type {\n",
              "        vertical-align: middle;\n",
              "    }\n",
              "\n",
              "    .dataframe tbody tr th {\n",
              "        vertical-align: top;\n",
              "    }\n",
              "\n",
              "    .dataframe thead th {\n",
              "        text-align: right;\n",
              "    }\n",
              "</style>\n",
              "<table border=\"1\" class=\"dataframe\">\n",
              "  <thead>\n",
              "    <tr style=\"text-align: right;\">\n",
              "      <th></th>\n",
              "      <th>index</th>\n",
              "      <th>country</th>\n",
              "    </tr>\n",
              "  </thead>\n",
              "  <tbody>\n",
              "    <tr>\n",
              "      <th>0</th>\n",
              "      <td>US</td>\n",
              "      <td>6222</td>\n",
              "    </tr>\n",
              "    <tr>\n",
              "      <th>1</th>\n",
              "      <td>JP</td>\n",
              "      <td>267</td>\n",
              "    </tr>\n",
              "    <tr>\n",
              "      <th>2</th>\n",
              "      <td>US,CA</td>\n",
              "      <td>239</td>\n",
              "    </tr>\n",
              "    <tr>\n",
              "      <th>3</th>\n",
              "      <td>GB</td>\n",
              "      <td>196</td>\n",
              "    </tr>\n",
              "    <tr>\n",
              "      <th>4</th>\n",
              "      <td>CN</td>\n",
              "      <td>163</td>\n",
              "    </tr>\n",
              "    <tr>\n",
              "      <th>5</th>\n",
              "      <td>DE</td>\n",
              "      <td>111</td>\n",
              "    </tr>\n",
              "    <tr>\n",
              "      <th>6</th>\n",
              "      <td>CA</td>\n",
              "      <td>110</td>\n",
              "    </tr>\n",
              "    <tr>\n",
              "      <th>7</th>\n",
              "      <td>US,PR</td>\n",
              "      <td>71</td>\n",
              "    </tr>\n",
              "    <tr>\n",
              "      <th>8</th>\n",
              "      <td>RU</td>\n",
              "      <td>56</td>\n",
              "    </tr>\n",
              "    <tr>\n",
              "      <th>9</th>\n",
              "      <td>IT</td>\n",
              "      <td>53</td>\n",
              "    </tr>\n",
              "  </tbody>\n",
              "</table>\n",
              "</div>\n",
              "      <button class=\"colab-df-convert\" onclick=\"convertToInteractive('df-c9a5c8db-4b01-4ae8-9ed5-8fef667396da')\"\n",
              "              title=\"Convert this dataframe to an interactive table.\"\n",
              "              style=\"display:none;\">\n",
              "        \n",
              "  <svg xmlns=\"http://www.w3.org/2000/svg\" height=\"24px\"viewBox=\"0 0 24 24\"\n",
              "       width=\"24px\">\n",
              "    <path d=\"M0 0h24v24H0V0z\" fill=\"none\"/>\n",
              "    <path d=\"M18.56 5.44l.94 2.06.94-2.06 2.06-.94-2.06-.94-.94-2.06-.94 2.06-2.06.94zm-11 1L8.5 8.5l.94-2.06 2.06-.94-2.06-.94L8.5 2.5l-.94 2.06-2.06.94zm10 10l.94 2.06.94-2.06 2.06-.94-2.06-.94-.94-2.06-.94 2.06-2.06.94z\"/><path d=\"M17.41 7.96l-1.37-1.37c-.4-.4-.92-.59-1.43-.59-.52 0-1.04.2-1.43.59L10.3 9.45l-7.72 7.72c-.78.78-.78 2.05 0 2.83L4 21.41c.39.39.9.59 1.41.59.51 0 1.02-.2 1.41-.59l7.78-7.78 2.81-2.81c.8-.78.8-2.07 0-2.86zM5.41 20L4 18.59l7.72-7.72 1.47 1.35L5.41 20z\"/>\n",
              "  </svg>\n",
              "      </button>\n",
              "      \n",
              "  <style>\n",
              "    .colab-df-container {\n",
              "      display:flex;\n",
              "      flex-wrap:wrap;\n",
              "      gap: 12px;\n",
              "    }\n",
              "\n",
              "    .colab-df-convert {\n",
              "      background-color: #E8F0FE;\n",
              "      border: none;\n",
              "      border-radius: 50%;\n",
              "      cursor: pointer;\n",
              "      display: none;\n",
              "      fill: #1967D2;\n",
              "      height: 32px;\n",
              "      padding: 0 0 0 0;\n",
              "      width: 32px;\n",
              "    }\n",
              "\n",
              "    .colab-df-convert:hover {\n",
              "      background-color: #E2EBFA;\n",
              "      box-shadow: 0px 1px 2px rgba(60, 64, 67, 0.3), 0px 1px 3px 1px rgba(60, 64, 67, 0.15);\n",
              "      fill: #174EA6;\n",
              "    }\n",
              "\n",
              "    [theme=dark] .colab-df-convert {\n",
              "      background-color: #3B4455;\n",
              "      fill: #D2E3FC;\n",
              "    }\n",
              "\n",
              "    [theme=dark] .colab-df-convert:hover {\n",
              "      background-color: #434B5C;\n",
              "      box-shadow: 0px 1px 3px 1px rgba(0, 0, 0, 0.15);\n",
              "      filter: drop-shadow(0px 1px 2px rgba(0, 0, 0, 0.3));\n",
              "      fill: #FFFFFF;\n",
              "    }\n",
              "  </style>\n",
              "\n",
              "      <script>\n",
              "        const buttonEl =\n",
              "          document.querySelector('#df-c9a5c8db-4b01-4ae8-9ed5-8fef667396da button.colab-df-convert');\n",
              "        buttonEl.style.display =\n",
              "          google.colab.kernel.accessAllowed ? 'block' : 'none';\n",
              "\n",
              "        async function convertToInteractive(key) {\n",
              "          const element = document.querySelector('#df-c9a5c8db-4b01-4ae8-9ed5-8fef667396da');\n",
              "          const dataTable =\n",
              "            await google.colab.kernel.invokeFunction('convertToInteractive',\n",
              "                                                     [key], {});\n",
              "          if (!dataTable) return;\n",
              "\n",
              "          const docLinkHtml = 'Like what you see? Visit the ' +\n",
              "            '<a target=\"_blank\" href=https://colab.research.google.com/notebooks/data_table.ipynb>data table notebook</a>'\n",
              "            + ' to learn more about interactive tables.';\n",
              "          element.innerHTML = '';\n",
              "          dataTable['output_type'] = 'display_data';\n",
              "          await google.colab.output.renderOutput(dataTable, element);\n",
              "          const docLink = document.createElement('div');\n",
              "          docLink.innerHTML = docLinkHtml;\n",
              "          element.appendChild(docLink);\n",
              "        }\n",
              "      </script>\n",
              "    </div>\n",
              "  </div>\n",
              "  "
            ]
          },
          "metadata": {},
          "execution_count": 7
        }
      ]
    },
    {
      "cell_type": "code",
      "source": [
        "def group_countries(countries):\n",
        "  if pd.isna(countries):\n",
        "    return None\n",
        "  countries = set(countries.split(\",\"))\n",
        "  is_all_lmic = True\n",
        "  is_some_lmic = False\n",
        "  is_all_us_canada = True\n",
        "  for country in countries:\n",
        "    if country not in lmics:\n",
        "      is_all_lmic = False\n",
        "    if country in lmics:\n",
        "      is_some_lmic = True\n",
        "    if country not in {\"US\", \"CA\"}:\n",
        "      is_all_us_canada = False\n",
        "  if is_some_lmic:\n",
        "    return \"LMIC\"\n",
        "  if is_all_us_canada:\n",
        "    return \"USCA\"\n",
        "  return \"HIGH_INCOME\""
      ],
      "metadata": {
        "id": "2sbQYxE9sP-F"
      },
      "id": "2sbQYxE9sP-F",
      "execution_count": null,
      "outputs": []
    },
    {
      "cell_type": "code",
      "source": [
        "df_annotations[\"clean_country\"] = df_annotations.country.apply(group_countries)"
      ],
      "metadata": {
        "id": "hUr8x7Vdsz0Q"
      },
      "id": "hUr8x7Vdsz0Q",
      "execution_count": null,
      "outputs": []
    },
    {
      "cell_type": "code",
      "source": [
        "df_annotations[\"clean_country\"].value_counts()"
      ],
      "metadata": {
        "colab": {
          "base_uri": "https://localhost:8080/"
        },
        "id": "WzWV8tLGtiQz",
        "outputId": "ee84aacd-5027-45c7-a7a8-b7a747ef8c40"
      },
      "id": "WzWV8tLGtiQz",
      "execution_count": null,
      "outputs": [
        {
          "output_type": "execute_result",
          "data": {
            "text/plain": [
              "USCA           6573\n",
              "HIGH_INCOME    2713\n",
              "LMIC           2490\n",
              "Name: clean_country, dtype: int64"
            ]
          },
          "metadata": {},
          "execution_count": 10
        }
      ]
    },
    {
      "cell_type": "markdown",
      "id": "4b2e7a73",
      "metadata": {
        "id": "4b2e7a73"
      },
      "source": [
        "# Get data"
      ]
    },
    {
      "cell_type": "code",
      "execution_count": null,
      "id": "c8ebd7a5",
      "metadata": {
        "id": "c8ebd7a5"
      },
      "outputs": [],
      "source": [
        "with open(\"/content/drive/MyDrive/data/protocols.pkl.gz\", \"rb\") as f:\n",
        "    file_to_pages = pkl.load(f)"
      ]
    },
    {
      "cell_type": "code",
      "execution_count": null,
      "id": "6148cb3b",
      "metadata": {
        "id": "6148cb3b"
      },
      "outputs": [],
      "source": [
        "\n",
        "texts = []\n",
        "\n",
        "for i in range(len(df_annotations)):\n",
        "    file_name = df_annotations.file.iloc[i]\n",
        "    \n",
        "    pages= file_to_pages[file_name]\n",
        "    # Limit to first 3 pages because of memory constraints\n",
        "    if len(pages) > 10:\n",
        "      pages = pages[:10]\n",
        "\n",
        "    texts.append(\" \".join(pages))\n",
        "df_annotations[\"text\"] = texts"
      ]
    },
    {
      "cell_type": "code",
      "execution_count": null,
      "id": "9fbe5bf0",
      "metadata": {
        "id": "9fbe5bf0",
        "scrolled": true
      },
      "outputs": [],
      "source": [
        "df_annotations = df_annotations[~df_annotations.clean_country.isna()]"
      ]
    },
    {
      "cell_type": "code",
      "source": [
        "labels = list(sorted(set(df_annotations[\"clean_country\"])))"
      ],
      "metadata": {
        "id": "E1SzPGFeszWV"
      },
      "id": "E1SzPGFeszWV",
      "execution_count": null,
      "outputs": []
    },
    {
      "cell_type": "code",
      "execution_count": null,
      "id": "cfac2830",
      "metadata": {
        "id": "cfac2830",
        "colab": {
          "base_uri": "https://localhost:8080/"
        },
        "outputId": "440d115a-0d60-4c3f-b87e-580f84dafd59"
      },
      "outputs": [
        {
          "output_type": "execute_result",
          "data": {
            "text/plain": [
              "USCA           6573\n",
              "HIGH_INCOME    2713\n",
              "LMIC           2490\n",
              "Name: clean_country, dtype: int64"
            ]
          },
          "metadata": {},
          "execution_count": 15
        }
      ],
      "source": [
        "df_annotations[\"clean_country\"].value_counts()"
      ]
    },
    {
      "cell_type": "code",
      "source": [
        "import spacy\n",
        "nlp = spacy.blank(\"en\")\n",
        "from spacy.tokens import DocBin\n",
        "\n",
        "docs_train = []\n",
        "for i in range(10):\n",
        "  docs_train.append(DocBin())\n",
        "docs_val = DocBin()\n",
        "\n",
        "for idx in range(len(df_annotations)):\n",
        "  if idx % 100 == 0:\n",
        "    print (idx, len(df_annotations))\n",
        "  if df_annotations.train_val.iloc[idx] == \"train\":\n",
        "    docs_list = docs_train[idx % 10]\n",
        "  else:\n",
        "    docs_list = docs_val\n",
        "  text = str(df_annotations.text.iloc[idx])\n",
        "  if len(text) > 100000:\n",
        "      text = text[:100000]\n",
        "  doc = nlp(text)\n",
        "\n",
        "  cats = {}\n",
        "  for a in labels:\n",
        "      cats[a] = 0\n",
        "  if pd.isna(df_annotations.clean_country.iloc[idx]):\n",
        "    continue\n",
        "  cat = df_annotations.clean_country.iloc[idx]\n",
        "  cats[cat] = 1\n",
        "\n",
        "  doc.cats = cats\n",
        "\n",
        "  docs_list.add(doc)\n",
        "  # upsample\n",
        "  if cat != \"USCA\":\n",
        "    docs_list.add(doc)"
      ],
      "metadata": {
        "colab": {
          "base_uri": "https://localhost:8080/"
        },
        "id": "8YqH-b1AHVRy",
        "outputId": "e821fe9a-7747-48a2-bece-e3736ed91e5b"
      },
      "id": "8YqH-b1AHVRy",
      "execution_count": null,
      "outputs": [
        {
          "output_type": "stream",
          "name": "stdout",
          "text": [
            "0 11776\n",
            "100 11776\n",
            "200 11776\n",
            "300 11776\n",
            "400 11776\n",
            "500 11776\n",
            "600 11776\n",
            "700 11776\n",
            "800 11776\n",
            "900 11776\n",
            "1000 11776\n",
            "1100 11776\n",
            "1200 11776\n",
            "1300 11776\n",
            "1400 11776\n",
            "1500 11776\n",
            "1600 11776\n",
            "1700 11776\n",
            "1800 11776\n",
            "1900 11776\n",
            "2000 11776\n",
            "2100 11776\n",
            "2200 11776\n",
            "2300 11776\n",
            "2400 11776\n",
            "2500 11776\n",
            "2600 11776\n",
            "2700 11776\n",
            "2800 11776\n",
            "2900 11776\n",
            "3000 11776\n",
            "3100 11776\n",
            "3200 11776\n",
            "3300 11776\n",
            "3400 11776\n",
            "3500 11776\n",
            "3600 11776\n",
            "3700 11776\n",
            "3800 11776\n",
            "3900 11776\n",
            "4000 11776\n",
            "4100 11776\n",
            "4200 11776\n",
            "4300 11776\n",
            "4400 11776\n",
            "4500 11776\n",
            "4600 11776\n",
            "4700 11776\n",
            "4800 11776\n",
            "4900 11776\n",
            "5000 11776\n",
            "5100 11776\n",
            "5200 11776\n",
            "5300 11776\n",
            "5400 11776\n",
            "5500 11776\n",
            "5600 11776\n",
            "5700 11776\n",
            "5800 11776\n",
            "5900 11776\n",
            "6000 11776\n",
            "6100 11776\n",
            "6200 11776\n",
            "6300 11776\n",
            "6400 11776\n",
            "6500 11776\n",
            "6600 11776\n",
            "6700 11776\n",
            "6800 11776\n",
            "6900 11776\n",
            "7000 11776\n",
            "7100 11776\n",
            "7200 11776\n",
            "7300 11776\n",
            "7400 11776\n",
            "7500 11776\n",
            "7600 11776\n",
            "7700 11776\n",
            "7800 11776\n",
            "7900 11776\n",
            "8000 11776\n",
            "8100 11776\n",
            "8200 11776\n",
            "8300 11776\n",
            "8400 11776\n",
            "8500 11776\n",
            "8600 11776\n",
            "8700 11776\n",
            "8800 11776\n",
            "8900 11776\n",
            "9000 11776\n",
            "9100 11776\n",
            "9200 11776\n",
            "9300 11776\n",
            "9400 11776\n",
            "9500 11776\n",
            "9600 11776\n",
            "9700 11776\n",
            "9800 11776\n",
            "9900 11776\n",
            "10000 11776\n",
            "10100 11776\n",
            "10200 11776\n",
            "10300 11776\n",
            "10400 11776\n",
            "10500 11776\n",
            "10600 11776\n",
            "10700 11776\n",
            "10800 11776\n",
            "10900 11776\n",
            "11000 11776\n",
            "11100 11776\n",
            "11200 11776\n",
            "11300 11776\n",
            "11400 11776\n",
            "11500 11776\n",
            "11600 11776\n",
            "11700 11776\n"
          ]
        }
      ]
    },
    {
      "cell_type": "code",
      "source": [
        "!mkdir train.spacy\n",
        "!mkdir /content/drive/MyDrive/data/country_16_train.spacy\n"
      ],
      "metadata": {
        "id": "9gLDu1qFTxls",
        "colab": {
          "base_uri": "https://localhost:8080/"
        },
        "outputId": "2b5a866a-e412-4781-fa61-50d52cafa570"
      },
      "id": "9gLDu1qFTxls",
      "execution_count": null,
      "outputs": [
        {
          "output_type": "stream",
          "name": "stdout",
          "text": [
            "mkdir: cannot create directory ‘/content/drive/MyDrive/data/country_16_train.spacy’: File exists\n"
          ]
        }
      ]
    },
    {
      "cell_type": "code",
      "source": [
        "for idx, doc_bin_train in enumerate(docs_train):\n",
        "  doc_bin_train.to_disk(f\"train.spacy/train_doc_bin{idx}.spacy\")\n",
        "  doc_bin_train.to_disk(f\"/content/drive/MyDrive/data/country_16_train.spacy/train_doc_bin{idx}.spacy\")"
      ],
      "metadata": {
        "id": "EhS_f_Z3TsRG"
      },
      "id": "EhS_f_Z3TsRG",
      "execution_count": null,
      "outputs": []
    },
    {
      "cell_type": "code",
      "source": [
        "!ls /content/drive/MyDrive/data/country_16_train.spacy"
      ],
      "metadata": {
        "id": "L6llzX4NVxT6",
        "colab": {
          "base_uri": "https://localhost:8080/"
        },
        "outputId": "5758476e-461a-44ad-a22c-0898fee4e53e"
      },
      "id": "L6llzX4NVxT6",
      "execution_count": null,
      "outputs": [
        {
          "output_type": "stream",
          "name": "stdout",
          "text": [
            "train_doc_bin0.spacy  train_doc_bin4.spacy  train_doc_bin8.spacy\n",
            "train_doc_bin1.spacy  train_doc_bin5.spacy  train_doc_bin9.spacy\n",
            "train_doc_bin2.spacy  train_doc_bin6.spacy\n",
            "train_doc_bin3.spacy  train_doc_bin7.spacy\n"
          ]
        }
      ]
    },
    {
      "cell_type": "code",
      "source": [
        "docs_val.to_disk(\"dev.spacy\")"
      ],
      "metadata": {
        "id": "Ld9Qv0nuQ_V1"
      },
      "id": "Ld9Qv0nuQ_V1",
      "execution_count": null,
      "outputs": []
    },
    {
      "cell_type": "code",
      "source": [
        "docs_val.to_disk(\"/content/drive/MyDrive/data/country_16_dev.spacy\")"
      ],
      "metadata": {
        "id": "YkMG6YPeRB2i"
      },
      "id": "YkMG6YPeRB2i",
      "execution_count": null,
      "outputs": []
    },
    {
      "cell_type": "code",
      "source": [
        "from google.colab import runtime\n",
        "runtime.unassign()"
      ],
      "metadata": {
        "id": "kqVlaPpAEKmV"
      },
      "id": "kqVlaPpAEKmV",
      "execution_count": null,
      "outputs": []
    },
    {
      "cell_type": "code",
      "source": [
        "!python -m spacy train /content/drive/MyDrive/data/spacy_textcat_is_international_11.cfg --output /content/drive/MyDrive/data/output_country_16 --paths.train /content/drive/MyDrive/data/country_16_train.spacy --paths.dev  /content/drive/MyDrive/data/country_16_dev.spacy --gpu-id 0"
      ],
      "metadata": {
        "id": "5irKQX8wFmev"
      },
      "id": "5irKQX8wFmev",
      "execution_count": null,
      "outputs": []
    },
    {
      "cell_type": "code",
      "source": [
        "import spacy\n",
        "nlp = spacy.load(\"/content/drive/MyDrive/data/output_country_16/model-best\")"
      ],
      "metadata": {
        "id": "RA18XmbkRge_"
      },
      "id": "RA18XmbkRge_",
      "execution_count": null,
      "outputs": []
    },
    {
      "cell_type": "code",
      "source": [
        "df_val = df_annotations[df_annotations.train_val==\"val\"]\n",
        "\n",
        "predictions = []\n",
        "for idx in range(len(df_val)):\n",
        "    doc = nlp(df_val.text.apply(str).iloc[idx])\n",
        "    predictions.append(doc.cats)"
      ],
      "metadata": {
        "id": "i6kKqURLRmk4"
      },
      "id": "i6kKqURLRmk4",
      "execution_count": null,
      "outputs": []
    },
    {
      "cell_type": "code",
      "source": [
        "# pred_proba = []\n",
        "# for idx in range(len(df_val)):\n",
        "#     pred_proba.append([predictions[idx][a] for a in range(num_classes)])"
      ],
      "metadata": {
        "id": "sh2k1WwZRqqn"
      },
      "id": "sh2k1WwZRqqn",
      "execution_count": null,
      "outputs": []
    },
    {
      "cell_type": "code",
      "source": [
        "predictions = []\n",
        "for idx in range(len(df_val)):\n",
        "    doc = nlp(df_val.text.apply(str).iloc[idx])\n",
        "    predictions.append(doc.cats)"
      ],
      "metadata": {
        "id": "WzVdvY9tR84X"
      },
      "id": "WzVdvY9tR84X",
      "execution_count": null,
      "outputs": []
    },
    {
      "cell_type": "code",
      "execution_count": null,
      "id": "68ebd9f0",
      "metadata": {
        "id": "68ebd9f0",
        "scrolled": true,
        "colab": {
          "base_uri": "https://localhost:8080/"
        },
        "outputId": "51a61b18-9056-48b6-809a-4eb61c68fb10"
      },
      "outputs": [
        {
          "output_type": "stream",
          "name": "stderr",
          "text": [
            "/usr/local/lib/python3.7/dist-packages/ipykernel_launcher.py:1: SettingWithCopyWarning: \n",
            "A value is trying to be set on a copy of a slice from a DataFrame.\n",
            "Try using .loc[row_indexer,col_indexer] = value instead\n",
            "\n",
            "See the caveats in the documentation: https://pandas.pydata.org/pandas-docs/stable/user_guide/indexing.html#returning-a-view-versus-a-copy\n",
            "  \"\"\"Entry point for launching an IPython kernel.\n"
          ]
        }
      ],
      "source": [
        "df_val[\"y_pred\"] = [max(p, key=p.get) for p in predictions]"
      ]
    },
    {
      "cell_type": "code",
      "execution_count": null,
      "id": "118aef49",
      "metadata": {
        "id": "118aef49"
      },
      "outputs": [],
      "source": [
        "country_ground_truths = df_val.clean_country\n",
        "pred_country = df_val[\"y_pred\"]"
      ]
    },
    {
      "cell_type": "code",
      "execution_count": null,
      "id": "73495a5c",
      "metadata": {
        "id": "73495a5c",
        "colab": {
          "base_uri": "https://localhost:8080/"
        },
        "outputId": "15e2fa4f-7604-4ac5-8df4-14f364e87163"
      },
      "outputs": [
        {
          "output_type": "stream",
          "name": "stdout",
          "text": [
            "Country accuracy 0.6520112254443405\n"
          ]
        }
      ],
      "source": [
        "acc = accuracy_score(country_ground_truths, pred_country)\n",
        "print (f\"Country accuracy {acc}\")"
      ]
    },
    {
      "cell_type": "code",
      "execution_count": null,
      "id": "775ae91e",
      "metadata": {
        "id": "775ae91e",
        "colab": {
          "base_uri": "https://localhost:8080/",
          "height": 358
        },
        "outputId": "159cdb29-0038-4761-a183-1dbfeb4c81d6"
      },
      "outputs": [
        {
          "output_type": "execute_result",
          "data": {
            "text/plain": [
              "''"
            ],
            "application/vnd.google.colaboratory.intrinsic+json": {
              "type": "string"
            }
          },
          "metadata": {},
          "execution_count": 23
        },
        {
          "output_type": "display_data",
          "data": {
            "text/plain": [
              "<Figure size 432x288 with 2 Axes>"
            ],
            "image/png": "[encoded data removed]"
          },
          "metadata": {
            "needs_background": "light"
          }
        }
      ],
      "source": [
        "ConfusionMatrixDisplay.from_predictions(country_ground_truths, pred_country, labels=labels)\n",
        "plt.xticks(rotation=90)\n",
        ";"
      ]
    },
    {
      "cell_type": "code",
      "execution_count": null,
      "id": "16527f52",
      "metadata": {
        "id": "16527f52",
        "colab": {
          "base_uri": "https://localhost:8080/"
        },
        "outputId": "53bb384d-becb-49a2-b0d9-0405368e220c"
      },
      "outputs": [
        {
          "output_type": "stream",
          "name": "stdout",
          "text": [
            "SAP ROC AUC 0.7377986584622207 for HIGH_INCOME countries\n",
            "SAP ROC AUC 0.7551206071948431 for LMIC countries\n",
            "SAP ROC AUC 0.8431988285063456 for USCA countries\n",
            "Average 0.7787060313878031\n"
          ]
        }
      ],
      "source": [
        "all_aucs = []\n",
        "from sklearn.metrics import roc_auc_score\n",
        "for i in labels:\n",
        "  roc_auc = roc_auc_score(country_ground_truths == i, [p[i] for p in predictions])\n",
        "  print (f\"SAP ROC AUC {roc_auc} for {i} countries\")\n",
        "  all_aucs.append(roc_auc)\n",
        "print (\"Average\", np.mean(all_aucs))"
      ]
    },
    {
      "cell_type": "code",
      "source": [
        "plt.figure()\n",
        "lw = 2\n",
        "    \n",
        "for i in labels:\n",
        "    fpr, tpr, _ = roc_curve(country_ground_truths == i, [p[i] for p in predictions])\n",
        "    roc_auc = auc(fpr, tpr)\n",
        "    plt.plot(\n",
        "        fpr,\n",
        "        tpr,\n",
        "        # color=\"darkorange\",\n",
        "        lw=lw,\n",
        "        label=f\"ROC curve {i} Country (area = {roc_auc:0.2f})\"\n",
        "    )\n",
        "    plt.plot([0, 1], [0, 1], color=\"gray\", alpha=0.5, lw=lw, linestyle=\"--\")\n",
        "plt.xlim([0.0, 1.0])\n",
        "plt.ylim([0.0, 1.05])\n",
        "plt.xlabel(\"False Positive Rate\")\n",
        "plt.ylabel(\"True Positive Rate\")\n",
        "plt.title(\"Receiver operating characteristic example\")\n",
        "plt.legend(loc=\"lower right\")\n",
        "plt.show()"
      ],
      "metadata": {
        "id": "bvS_8GcTMgCl",
        "colab": {
          "base_uri": "https://localhost:8080/",
          "height": 295
        },
        "outputId": "2253d762-28f7-4423-a248-aca36a77aa7f"
      },
      "id": "bvS_8GcTMgCl",
      "execution_count": null,
      "outputs": [
        {
          "output_type": "display_data",
          "data": {
            "text/plain": [
              "<Figure size 432x288 with 1 Axes>"
            ],
            "image/png": "[encoded data removed]"
          },
          "metadata": {
            "needs_background": "light"
          }
        }
      ]
    },
    {
      "cell_type": "code",
      "source": [],
      "metadata": {
        "id": "W7qDw2rgSHKj"
      },
      "id": "W7qDw2rgSHKj",
      "execution_count": null,
      "outputs": []
    }
  ],
  "metadata": {
    "colab": {
      "provenance": [],
      "machine_shape": "hm",
      "include_colab_link": true
    },
    "kernelspec": {
      "display_name": "Python [conda env:py310] *",
      "language": "python",
      "name": "conda-env-py310-py"
    },
    "language_info": {
      "codemirror_mode": {
        "name": "ipython",
        "version": 3
      },
      "file_extension": ".py",
      "mimetype": "text/x-python",
      "name": "python",
      "nbconvert_exporter": "python",
      "pygments_lexer": "ipython3",
      "version": "3.10.4"
    },
    "gpuClass": "standard"
  },
  "nbformat": 4,
  "nbformat_minor": 5
}