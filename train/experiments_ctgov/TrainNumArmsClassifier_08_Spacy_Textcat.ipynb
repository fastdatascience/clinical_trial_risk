{
 "cells": [
  {
   "cell_type": "code",
   "execution_count": 1,
   "id": "0557d6c8",
   "metadata": {},
   "outputs": [],
   "source": [
    "import pandas as pd\n",
    "import re\n",
    "import os\n",
    "import sys\n",
    "import pickle as pkl\n",
    "import seaborn as sns\n",
    "from sklearn.metrics import accuracy_score, confusion_matrix\n",
    "from sklearn.metrics import ConfusionMatrixDisplay\n",
    "from sklearn.metrics import mean_absolute_error, mean_squared_error\n",
    "from sklearn.metrics import roc_auc_score\n",
    "from sklearn.metrics import roc_curve, auc\n",
    "from IPython.display import display\n",
    "import matplotlib.pyplot as plt\n",
    "import numpy as np\n",
    "import json\n",
    "\n",
    "df_annotations = pd.read_csv(\"../../data/ctgov/annotations/all_annotations.csv\")\n"
   ]
  },
  {
   "cell_type": "markdown",
   "id": "4b2e7a73",
   "metadata": {},
   "source": [
    "# Get data"
   ]
  },
  {
   "cell_type": "code",
   "execution_count": 2,
   "id": "c8ebd7a5",
   "metadata": {},
   "outputs": [],
   "source": [
    "with open(\"../../data/ctgov/protocols.pkl.gz\", \"rb\") as f:\n",
    "    file_to_pages = pkl.load(f)"
   ]
  },
  {
   "cell_type": "code",
   "execution_count": 3,
   "id": "9fbe5bf0",
   "metadata": {},
   "outputs": [],
   "source": [
    "texts = []\n",
    "\n",
    "for i in range(len(df_annotations)):\n",
    "    file_name = df_annotations.file.iloc[i]\n",
    "    \n",
    "    pages= file_to_pages[file_name]\n",
    "\n",
    "    texts.append(\" \".join(pages))\n",
    "df_annotations[\"text\"] = texts"
   ]
  },
  {
   "cell_type": "code",
   "execution_count": 4,
   "id": "93361b2c",
   "metadata": {},
   "outputs": [],
   "source": [
    "del file_to_pages"
   ]
  },
  {
   "cell_type": "code",
   "execution_count": 5,
   "id": "f3322e30",
   "metadata": {},
   "outputs": [],
   "source": [
    "df_annotations_num_arms_known = df_annotations[~df_annotations.num_arms.isna()]"
   ]
  },
  {
   "cell_type": "code",
   "execution_count": 6,
   "id": "26b24be0",
   "metadata": {},
   "outputs": [],
   "source": [
    "df_annotations_num_arms_known = df_annotations_num_arms_known.sample(1000)"
   ]
  },
  {
   "cell_type": "code",
   "execution_count": 7,
   "id": "df0ea588",
   "metadata": {},
   "outputs": [],
   "source": [
    "def get_num_arms_clean(num):\n",
    "    if num >= 5:\n",
    "        num = 5\n",
    "    return num\n",
    "df_annotations_num_arms_known[\"num_arms_clean\"] = df_annotations_num_arms_known[\"num_arms\"].apply(get_num_arms_clean)"
   ]
  },
  {
   "cell_type": "code",
   "execution_count": 8,
   "id": "df49af99",
   "metadata": {},
   "outputs": [],
   "source": [
    "df_train = df_annotations_num_arms_known[df_annotations_num_arms_known.train_val == \"train\"]"
   ]
  },
  {
   "cell_type": "code",
   "execution_count": 11,
   "id": "6add3d7d",
   "metadata": {},
   "outputs": [],
   "source": [
    "# TRAINING_DATA = [\n",
    "#     [\"My little kitty is so special\", {\"KAT0\": True}],\n",
    "#     [\"Dude, Totally, Yeah, Video Games\", {\"KAT1\": True}],\n",
    "#     [\"Should I pay $1,000 for the iPhone X?\", {\"KAT1\": True}],\n",
    "#     [\"The iPhone 8 reviews are here\", {\"KAT1\": True}],\n",
    "#     [\"Noa is a great cat name.\", {\"KAT0\": True}],\n",
    "#     [\"We got a new kitten!\", {\"KAT0\": True}]\n",
    "# ]\n",
    "\n",
    "TRAINING_DATA = []\n",
    "for idx in range(len(df_train)):\n",
    "    cats = {}\n",
    "    for a in range(1, 6):\n",
    "        cats[str(a)] = 0\n",
    "    cats[str(int(df_train.num_arms.iloc[idx]))] = 1\n",
    "    text = df_train.text.iloc[idx]\n",
    "    if len(text) > 1000000:\n",
    "        text = text[:1000000]\n",
    "    \n",
    "    TRAINING_DATA.append([text , cats])"
   ]
  },
  {
   "cell_type": "code",
   "execution_count": 12,
   "id": "6b88f1c9",
   "metadata": {},
   "outputs": [
    {
     "name": "stdout",
     "output_type": "stream",
     "text": [
      "{'textcat': 26.78331284970045}\n",
      "{'textcat': 4.527130445936465}\n",
      "{'textcat': 7.580678211299988}\n"
     ]
    },
    {
     "ename": "KeyboardInterrupt",
     "evalue": "",
     "output_type": "error",
     "traceback": [
      "\u001b[0;31m---------------------------------------------------------------------------\u001b[0m",
      "\u001b[0;31mKeyboardInterrupt\u001b[0m                         Traceback (most recent call last)",
      "Input \u001b[0;32mIn [12]\u001b[0m, in \u001b[0;36m<cell line: 29>\u001b[0;34m()\u001b[0m\n\u001b[1;32m     39\u001b[0m     \u001b[38;5;66;03m# uses an example object rather than text/annotation tuple\u001b[39;00m\n\u001b[1;32m     40\u001b[0m     examples \u001b[38;5;241m=\u001b[39m [Example\u001b[38;5;241m.\u001b[39mfrom_dict(doc, annotation) \u001b[38;5;28;01mfor\u001b[39;00m doc, annotation \u001b[38;5;129;01min\u001b[39;00m \u001b[38;5;28mzip\u001b[39m(\n\u001b[1;32m     41\u001b[0m         texts, annotations\n\u001b[1;32m     42\u001b[0m     )]\n\u001b[0;32m---> 43\u001b[0m     \u001b[43mnlp\u001b[49m\u001b[38;5;241;43m.\u001b[39;49m\u001b[43mupdate\u001b[49m\u001b[43m(\u001b[49m\u001b[43mexamples\u001b[49m\u001b[43m,\u001b[49m\u001b[43m \u001b[49m\u001b[43mlosses\u001b[49m\u001b[38;5;241;43m=\u001b[39;49m\u001b[43mlosses\u001b[49m\u001b[43m)\u001b[49m\n\u001b[1;32m     44\u001b[0m \u001b[38;5;28;01mif\u001b[39;00m itn \u001b[38;5;241m%\u001b[39m \u001b[38;5;241m20\u001b[39m \u001b[38;5;241m==\u001b[39m \u001b[38;5;241m0\u001b[39m:\n\u001b[1;32m     45\u001b[0m     \u001b[38;5;28mprint\u001b[39m(losses)\n",
      "File \u001b[0;32m/media/thomas/642d0db5-2c98-4156-b591-1a3572c5868c/anaconda3/envs/py310/lib/python3.10/site-packages/spacy/language.py:1164\u001b[0m, in \u001b[0;36mLanguage.update\u001b[0;34m(self, examples, _, drop, sgd, losses, component_cfg, exclude, annotates)\u001b[0m\n\u001b[1;32m   1161\u001b[0m \u001b[38;5;28;01mfor\u001b[39;00m name, proc \u001b[38;5;129;01min\u001b[39;00m \u001b[38;5;28mself\u001b[39m\u001b[38;5;241m.\u001b[39mpipeline:\n\u001b[1;32m   1162\u001b[0m     \u001b[38;5;66;03m# ignore statements are used here because mypy ignores hasattr\u001b[39;00m\n\u001b[1;32m   1163\u001b[0m     \u001b[38;5;28;01mif\u001b[39;00m name \u001b[38;5;129;01mnot\u001b[39;00m \u001b[38;5;129;01min\u001b[39;00m exclude \u001b[38;5;129;01mand\u001b[39;00m \u001b[38;5;28mhasattr\u001b[39m(proc, \u001b[38;5;124m\"\u001b[39m\u001b[38;5;124mupdate\u001b[39m\u001b[38;5;124m\"\u001b[39m):\n\u001b[0;32m-> 1164\u001b[0m         \u001b[43mproc\u001b[49m\u001b[38;5;241;43m.\u001b[39;49m\u001b[43mupdate\u001b[49m\u001b[43m(\u001b[49m\u001b[43mexamples\u001b[49m\u001b[43m,\u001b[49m\u001b[43m \u001b[49m\u001b[43msgd\u001b[49m\u001b[38;5;241;43m=\u001b[39;49m\u001b[38;5;28;43;01mNone\u001b[39;49;00m\u001b[43m,\u001b[49m\u001b[43m \u001b[49m\u001b[43mlosses\u001b[49m\u001b[38;5;241;43m=\u001b[39;49m\u001b[43mlosses\u001b[49m\u001b[43m,\u001b[49m\u001b[43m \u001b[49m\u001b[38;5;241;43m*\u001b[39;49m\u001b[38;5;241;43m*\u001b[39;49m\u001b[43mcomponent_cfg\u001b[49m\u001b[43m[\u001b[49m\u001b[43mname\u001b[49m\u001b[43m]\u001b[49m\u001b[43m)\u001b[49m  \u001b[38;5;66;03m# type: ignore\u001b[39;00m\n\u001b[1;32m   1165\u001b[0m     \u001b[38;5;28;01mif\u001b[39;00m sgd \u001b[38;5;129;01mnot\u001b[39;00m \u001b[38;5;129;01min\u001b[39;00m (\u001b[38;5;28;01mNone\u001b[39;00m, \u001b[38;5;28;01mFalse\u001b[39;00m):\n\u001b[1;32m   1166\u001b[0m         \u001b[38;5;28;01mif\u001b[39;00m (\n\u001b[1;32m   1167\u001b[0m             name \u001b[38;5;129;01mnot\u001b[39;00m \u001b[38;5;129;01min\u001b[39;00m exclude\n\u001b[1;32m   1168\u001b[0m             \u001b[38;5;129;01mand\u001b[39;00m \u001b[38;5;28misinstance\u001b[39m(proc, ty\u001b[38;5;241m.\u001b[39mTrainableComponent)\n\u001b[1;32m   1169\u001b[0m             \u001b[38;5;129;01mand\u001b[39;00m proc\u001b[38;5;241m.\u001b[39mis_trainable\n\u001b[1;32m   1170\u001b[0m             \u001b[38;5;129;01mand\u001b[39;00m proc\u001b[38;5;241m.\u001b[39mmodel \u001b[38;5;129;01mnot\u001b[39;00m \u001b[38;5;129;01min\u001b[39;00m (\u001b[38;5;28;01mTrue\u001b[39;00m, \u001b[38;5;28;01mFalse\u001b[39;00m, \u001b[38;5;28;01mNone\u001b[39;00m)\n\u001b[1;32m   1171\u001b[0m         ):\n",
      "File \u001b[0;32m/media/thomas/642d0db5-2c98-4156-b591-1a3572c5868c/anaconda3/envs/py310/lib/python3.10/site-packages/spacy/pipeline/textcat.py:245\u001b[0m, in \u001b[0;36mTextCategorizer.update\u001b[0;34m(self, examples, drop, sgd, losses)\u001b[0m\n\u001b[1;32m    243\u001b[0m scores, bp_scores \u001b[38;5;241m=\u001b[39m \u001b[38;5;28mself\u001b[39m\u001b[38;5;241m.\u001b[39mmodel\u001b[38;5;241m.\u001b[39mbegin_update([eg\u001b[38;5;241m.\u001b[39mpredicted \u001b[38;5;28;01mfor\u001b[39;00m eg \u001b[38;5;129;01min\u001b[39;00m examples])\n\u001b[1;32m    244\u001b[0m loss, d_scores \u001b[38;5;241m=\u001b[39m \u001b[38;5;28mself\u001b[39m\u001b[38;5;241m.\u001b[39mget_loss(examples, scores)\n\u001b[0;32m--> 245\u001b[0m \u001b[43mbp_scores\u001b[49m\u001b[43m(\u001b[49m\u001b[43md_scores\u001b[49m\u001b[43m)\u001b[49m\n\u001b[1;32m    246\u001b[0m \u001b[38;5;28;01mif\u001b[39;00m sgd \u001b[38;5;129;01mis\u001b[39;00m \u001b[38;5;129;01mnot\u001b[39;00m \u001b[38;5;28;01mNone\u001b[39;00m:\n\u001b[1;32m    247\u001b[0m     \u001b[38;5;28mself\u001b[39m\u001b[38;5;241m.\u001b[39mfinish_update(sgd)\n",
      "File \u001b[0;32m/media/thomas/642d0db5-2c98-4156-b591-1a3572c5868c/anaconda3/envs/py310/lib/python3.10/site-packages/thinc/layers/chain.py:61\u001b[0m, in \u001b[0;36mforward.<locals>.backprop\u001b[0;34m(dY)\u001b[0m\n\u001b[1;32m     59\u001b[0m \u001b[38;5;28;01mdef\u001b[39;00m \u001b[38;5;21mbackprop\u001b[39m(dY: OutT) \u001b[38;5;241m-\u001b[39m\u001b[38;5;241m>\u001b[39m InT:\n\u001b[1;32m     60\u001b[0m     \u001b[38;5;28;01mfor\u001b[39;00m callback \u001b[38;5;129;01min\u001b[39;00m \u001b[38;5;28mreversed\u001b[39m(callbacks):\n\u001b[0;32m---> 61\u001b[0m         dX \u001b[38;5;241m=\u001b[39m \u001b[43mcallback\u001b[49m\u001b[43m(\u001b[49m\u001b[43mdY\u001b[49m\u001b[43m)\u001b[49m\n\u001b[1;32m     62\u001b[0m         dY \u001b[38;5;241m=\u001b[39m dX\n\u001b[1;32m     63\u001b[0m     \u001b[38;5;28;01mreturn\u001b[39;00m dX\n",
      "File \u001b[0;32m/media/thomas/642d0db5-2c98-4156-b591-1a3572c5868c/anaconda3/envs/py310/lib/python3.10/site-packages/thinc/layers/concatenate.py:72\u001b[0m, in \u001b[0;36m_array_forward.<locals>.backprop\u001b[0;34m(d_output)\u001b[0m\n\u001b[1;32m     70\u001b[0m \u001b[38;5;28;01mfor\u001b[39;00m bwd, width \u001b[38;5;129;01min\u001b[39;00m \u001b[38;5;28mzip\u001b[39m(callbacks[\u001b[38;5;241m1\u001b[39m:], widths[\u001b[38;5;241m1\u001b[39m:]):\n\u001b[1;32m     71\u001b[0m     dY \u001b[38;5;241m=\u001b[39m model\u001b[38;5;241m.\u001b[39mops\u001b[38;5;241m.\u001b[39mas_contig(d_output[:, start : start \u001b[38;5;241m+\u001b[39m width])\n\u001b[0;32m---> 72\u001b[0m     gradient \u001b[38;5;241m=\u001b[39m \u001b[43mbwd\u001b[49m\u001b[43m(\u001b[49m\u001b[43mdY\u001b[49m\u001b[43m)\u001b[49m\n\u001b[1;32m     73\u001b[0m     \u001b[38;5;28;01mif\u001b[39;00m add_gradients:\n\u001b[1;32m     74\u001b[0m         dX \u001b[38;5;241m+\u001b[39m\u001b[38;5;241m=\u001b[39m gradient\n",
      "File \u001b[0;32m/media/thomas/642d0db5-2c98-4156-b591-1a3572c5868c/anaconda3/envs/py310/lib/python3.10/site-packages/thinc/layers/chain.py:61\u001b[0m, in \u001b[0;36mforward.<locals>.backprop\u001b[0;34m(dY)\u001b[0m\n\u001b[1;32m     59\u001b[0m \u001b[38;5;28;01mdef\u001b[39;00m \u001b[38;5;21mbackprop\u001b[39m(dY: OutT) \u001b[38;5;241m-\u001b[39m\u001b[38;5;241m>\u001b[39m InT:\n\u001b[1;32m     60\u001b[0m     \u001b[38;5;28;01mfor\u001b[39;00m callback \u001b[38;5;129;01min\u001b[39;00m \u001b[38;5;28mreversed\u001b[39m(callbacks):\n\u001b[0;32m---> 61\u001b[0m         dX \u001b[38;5;241m=\u001b[39m \u001b[43mcallback\u001b[49m\u001b[43m(\u001b[49m\u001b[43mdY\u001b[49m\u001b[43m)\u001b[49m\n\u001b[1;32m     62\u001b[0m         dY \u001b[38;5;241m=\u001b[39m dX\n\u001b[1;32m     63\u001b[0m     \u001b[38;5;28;01mreturn\u001b[39;00m dX\n",
      "File \u001b[0;32m/media/thomas/642d0db5-2c98-4156-b591-1a3572c5868c/anaconda3/envs/py310/lib/python3.10/site-packages/thinc/layers/chain.py:61\u001b[0m, in \u001b[0;36mforward.<locals>.backprop\u001b[0;34m(dY)\u001b[0m\n\u001b[1;32m     59\u001b[0m \u001b[38;5;28;01mdef\u001b[39;00m \u001b[38;5;21mbackprop\u001b[39m(dY: OutT) \u001b[38;5;241m-\u001b[39m\u001b[38;5;241m>\u001b[39m InT:\n\u001b[1;32m     60\u001b[0m     \u001b[38;5;28;01mfor\u001b[39;00m callback \u001b[38;5;129;01min\u001b[39;00m \u001b[38;5;28mreversed\u001b[39m(callbacks):\n\u001b[0;32m---> 61\u001b[0m         dX \u001b[38;5;241m=\u001b[39m \u001b[43mcallback\u001b[49m\u001b[43m(\u001b[49m\u001b[43mdY\u001b[49m\u001b[43m)\u001b[49m\n\u001b[1;32m     62\u001b[0m         dY \u001b[38;5;241m=\u001b[39m dX\n\u001b[1;32m     63\u001b[0m     \u001b[38;5;28;01mreturn\u001b[39;00m dX\n",
      "    \u001b[0;31m[... skipping similar frames: forward.<locals>.backprop at line 61 (3 times)]\u001b[0m\n",
      "File \u001b[0;32m/media/thomas/642d0db5-2c98-4156-b591-1a3572c5868c/anaconda3/envs/py310/lib/python3.10/site-packages/thinc/layers/chain.py:61\u001b[0m, in \u001b[0;36mforward.<locals>.backprop\u001b[0;34m(dY)\u001b[0m\n\u001b[1;32m     59\u001b[0m \u001b[38;5;28;01mdef\u001b[39;00m \u001b[38;5;21mbackprop\u001b[39m(dY: OutT) \u001b[38;5;241m-\u001b[39m\u001b[38;5;241m>\u001b[39m InT:\n\u001b[1;32m     60\u001b[0m     \u001b[38;5;28;01mfor\u001b[39;00m callback \u001b[38;5;129;01min\u001b[39;00m \u001b[38;5;28mreversed\u001b[39m(callbacks):\n\u001b[0;32m---> 61\u001b[0m         dX \u001b[38;5;241m=\u001b[39m \u001b[43mcallback\u001b[49m\u001b[43m(\u001b[49m\u001b[43mdY\u001b[49m\u001b[43m)\u001b[49m\n\u001b[1;32m     62\u001b[0m         dY \u001b[38;5;241m=\u001b[39m dX\n\u001b[1;32m     63\u001b[0m     \u001b[38;5;28;01mreturn\u001b[39;00m dX\n",
      "File \u001b[0;32m/media/thomas/642d0db5-2c98-4156-b591-1a3572c5868c/anaconda3/envs/py310/lib/python3.10/site-packages/thinc/layers/with_array.py:90\u001b[0m, in \u001b[0;36m_ragged_forward.<locals>.backprop\u001b[0;34m(dYr)\u001b[0m\n\u001b[1;32m     89\u001b[0m \u001b[38;5;28;01mdef\u001b[39;00m \u001b[38;5;21mbackprop\u001b[39m(dYr: Ragged) \u001b[38;5;241m-\u001b[39m\u001b[38;5;241m>\u001b[39m Ragged:\n\u001b[0;32m---> 90\u001b[0m     \u001b[38;5;28;01mreturn\u001b[39;00m Ragged(\u001b[43mget_dX\u001b[49m\u001b[43m(\u001b[49m\u001b[43mdYr\u001b[49m\u001b[38;5;241;43m.\u001b[39;49m\u001b[43mdataXd\u001b[49m\u001b[43m)\u001b[49m, dYr\u001b[38;5;241m.\u001b[39mlengths)\n",
      "File \u001b[0;32m/media/thomas/642d0db5-2c98-4156-b591-1a3572c5868c/anaconda3/envs/py310/lib/python3.10/site-packages/thinc/layers/chain.py:61\u001b[0m, in \u001b[0;36mforward.<locals>.backprop\u001b[0;34m(dY)\u001b[0m\n\u001b[1;32m     59\u001b[0m \u001b[38;5;28;01mdef\u001b[39;00m \u001b[38;5;21mbackprop\u001b[39m(dY: OutT) \u001b[38;5;241m-\u001b[39m\u001b[38;5;241m>\u001b[39m InT:\n\u001b[1;32m     60\u001b[0m     \u001b[38;5;28;01mfor\u001b[39;00m callback \u001b[38;5;129;01min\u001b[39;00m \u001b[38;5;28mreversed\u001b[39m(callbacks):\n\u001b[0;32m---> 61\u001b[0m         dX \u001b[38;5;241m=\u001b[39m \u001b[43mcallback\u001b[49m\u001b[43m(\u001b[49m\u001b[43mdY\u001b[49m\u001b[43m)\u001b[49m\n\u001b[1;32m     62\u001b[0m         dY \u001b[38;5;241m=\u001b[39m dX\n\u001b[1;32m     63\u001b[0m     \u001b[38;5;28;01mreturn\u001b[39;00m dX\n",
      "File \u001b[0;32m/media/thomas/642d0db5-2c98-4156-b591-1a3572c5868c/anaconda3/envs/py310/lib/python3.10/site-packages/thinc/layers/chain.py:61\u001b[0m, in \u001b[0;36mforward.<locals>.backprop\u001b[0;34m(dY)\u001b[0m\n\u001b[1;32m     59\u001b[0m \u001b[38;5;28;01mdef\u001b[39;00m \u001b[38;5;21mbackprop\u001b[39m(dY: OutT) \u001b[38;5;241m-\u001b[39m\u001b[38;5;241m>\u001b[39m InT:\n\u001b[1;32m     60\u001b[0m     \u001b[38;5;28;01mfor\u001b[39;00m callback \u001b[38;5;129;01min\u001b[39;00m \u001b[38;5;28mreversed\u001b[39m(callbacks):\n\u001b[0;32m---> 61\u001b[0m         dX \u001b[38;5;241m=\u001b[39m \u001b[43mcallback\u001b[49m\u001b[43m(\u001b[49m\u001b[43mdY\u001b[49m\u001b[43m)\u001b[49m\n\u001b[1;32m     62\u001b[0m         dY \u001b[38;5;241m=\u001b[39m dX\n\u001b[1;32m     63\u001b[0m     \u001b[38;5;28;01mreturn\u001b[39;00m dX\n",
      "\u001b[0;31mKeyboardInterrupt\u001b[0m: "
     ]
    }
   ],
   "source": [
    "import spacy\n",
    "# Add imports for example, as well as textcat config...\n",
    "from spacy.training import Example\n",
    "from spacy.pipeline.textcat import single_label_bow_config, single_label_default_config\n",
    "from thinc.api import Config\n",
    "import random\n",
    "\n",
    "# labels should be one-hot encoded\n",
    "\n",
    "\n",
    "\n",
    "# bow\n",
    "# config = Config().from_str(single_label_bow_config)\n",
    "\n",
    "# textensemble with attention\n",
    "config = Config().from_str(single_label_default_config)\n",
    "\n",
    "nlp = spacy.blank(\"en\")\n",
    "# now uses `add_pipe` instead\n",
    "category = nlp.add_pipe(\"textcat\", last=True, config=config)\n",
    "for a in range(1, 6):\n",
    "    category.add_label(str(a))\n",
    "\n",
    "\n",
    "# Start the training\n",
    "nlp.begin_training()\n",
    "\n",
    "# Loop for 10 iterations\n",
    "for itn in range(100):\n",
    "    # Shuffle the training data\n",
    "    random.shuffle(TRAINING_DATA)\n",
    "    losses = {}\n",
    "\n",
    "    # Batch the examples and iterate over them\n",
    "    for batch in spacy.util.minibatch(TRAINING_DATA, size=4):\n",
    "        texts = [nlp.make_doc(text) for text, entities in batch]\n",
    "        annotations = [{\"cats\": entities} for text, entities in batch]\n",
    "\n",
    "        # uses an example object rather than text/annotation tuple\n",
    "        examples = [Example.from_dict(doc, annotation) for doc, annotation in zip(\n",
    "            texts, annotations\n",
    "        )]\n",
    "        nlp.update(examples, losses=losses)\n",
    "    if itn % 20 == 0:\n",
    "        print(losses)"
   ]
  },
  {
   "cell_type": "code",
   "execution_count": 13,
   "id": "5f720fbf",
   "metadata": {},
   "outputs": [],
   "source": [
    "df_val = df_annotations_num_arms_known[df_annotations_num_arms_known.train_val == \"val\"]"
   ]
  },
  {
   "cell_type": "code",
   "execution_count": 15,
   "id": "d9a331d5",
   "metadata": {},
   "outputs": [],
   "source": [
    "predictions = []\n",
    "for idx in range(len(df_val)):\n",
    "    doc = nlp(df_val.text.iloc[idx])\n",
    "    predictions.append(doc.cats)"
   ]
  },
  {
   "cell_type": "code",
   "execution_count": 20,
   "id": "68ebd9f0",
   "metadata": {},
   "outputs": [
    {
     "name": "stderr",
     "output_type": "stream",
     "text": [
      "/tmp/ipykernel_10914/2576098593.py:1: SettingWithCopyWarning: \n",
      "A value is trying to be set on a copy of a slice from a DataFrame.\n",
      "Try using .loc[row_indexer,col_indexer] = value instead\n",
      "\n",
      "See the caveats in the documentation: https://pandas.pydata.org/pandas-docs/stable/user_guide/indexing.html#returning-a-view-versus-a-copy\n",
      "  df_val[\"y_pred\"] = [int(max(p, key=p.get)) for p in predictions]\n"
     ]
    }
   ],
   "source": [
    "df_val[\"y_pred\"] = [int(max(p, key=p.get)) for p in predictions]"
   ]
  },
  {
   "cell_type": "code",
   "execution_count": 22,
   "id": "118aef49",
   "metadata": {},
   "outputs": [],
   "source": [
    "num_arms_ground_truths = df_val.num_arms_clean\n",
    "pred_num_arms = df_val[\"y_pred\"]"
   ]
  },
  {
   "cell_type": "code",
   "execution_count": 23,
   "id": "73495a5c",
   "metadata": {},
   "outputs": [
    {
     "name": "stdout",
     "output_type": "stream",
     "text": [
      "Num arms accuracy 0.4105263157894737\n"
     ]
    }
   ],
   "source": [
    "acc = accuracy_score(num_arms_ground_truths, pred_num_arms)\n",
    "print (f\"Num arms accuracy {acc}\")"
   ]
  },
  {
   "cell_type": "code",
   "execution_count": 24,
   "id": "775ae91e",
   "metadata": {},
   "outputs": [
    {
     "data": {
      "text/plain": [
       "''"
      ]
     },
     "execution_count": 24,
     "metadata": {},
     "output_type": "execute_result"
    },
    {
     "data": {
      "image/png": "[encoded data removed]",
      "text/plain": [
       "<Figure size 640x480 with 2 Axes>"
      ]
     },
     "metadata": {},
     "output_type": "display_data"
    }
   ],
   "source": [
    "ConfusionMatrixDisplay.from_predictions(num_arms_ground_truths, pred_num_arms)\n",
    "plt.xticks(rotation=90)\n",
    ";"
   ]
  }
 ],
 "metadata": {
  "kernelspec": {
   "display_name": "Python [conda env:py310] *",
   "language": "python",
   "name": "conda-env-py310-py"
  },
  "language_info": {
   "codemirror_mode": {
    "name": "ipython",
    "version": 3
   },
   "file_extension": ".py",
   "mimetype": "text/x-python",
   "name": "python",
   "nbconvert_exporter": "python",
   "pygments_lexer": "ipython3",
   "version": "3.10.4"
  }
 },
 "nbformat": 4,
 "nbformat_minor": 5
}
