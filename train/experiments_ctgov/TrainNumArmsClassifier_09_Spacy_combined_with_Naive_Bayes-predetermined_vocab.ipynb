{
 "cells": [
  {
   "cell_type": "code",
   "execution_count": 1,
   "id": "0557d6c8",
   "metadata": {},
   "outputs": [],
   "source": [
    "import pandas as pd\n",
    "import re\n",
    "import os\n",
    "import sys\n",
    "import pickle as pkl\n",
    "import seaborn as sns\n",
    "from sklearn.metrics import accuracy_score, confusion_matrix\n",
    "from sklearn.metrics import ConfusionMatrixDisplay\n",
    "from sklearn.metrics import mean_absolute_error, mean_squared_error\n",
    "from sklearn.metrics import roc_auc_score\n",
    "from sklearn.metrics import roc_curve, auc\n",
    "from IPython.display import display\n",
    "import matplotlib.pyplot as plt\n",
    "import numpy as np\n",
    "import json\n",
    "\n",
    "df_annotations = pd.read_csv(\"../../data/ctgov/annotations/all_annotations.csv\")\n"
   ]
  },
  {
   "cell_type": "markdown",
   "id": "4b2e7a73",
   "metadata": {},
   "source": [
    "# Get data"
   ]
  },
  {
   "cell_type": "code",
   "execution_count": 2,
   "id": "c8ebd7a5",
   "metadata": {},
   "outputs": [],
   "source": [
    "with open(\"../../data/ctgov/protocols.pkl.gz\", \"rb\") as f:\n",
    "    file_to_pages = pkl.load(f)"
   ]
  },
  {
   "cell_type": "code",
   "execution_count": 3,
   "id": "9fbe5bf0",
   "metadata": {},
   "outputs": [],
   "source": [
    "texts = []\n",
    "\n",
    "for i in range(len(df_annotations)):\n",
    "    file_name = df_annotations.file.iloc[i]\n",
    "    \n",
    "    pages= file_to_pages[file_name]\n",
    "\n",
    "    texts.append(\" \".join(pages))\n",
    "df_annotations[\"text\"] = texts"
   ]
  },
  {
   "cell_type": "code",
   "execution_count": 4,
   "id": "77cd2264",
   "metadata": {},
   "outputs": [],
   "source": [
    "del file_to_pages"
   ]
  },
  {
   "cell_type": "code",
   "execution_count": 5,
   "id": "f3322e30",
   "metadata": {},
   "outputs": [],
   "source": [
    "df_annotations_num_arms_known = df_annotations[~df_annotations.num_arms.isna()]"
   ]
  },
  {
   "cell_type": "code",
   "execution_count": 6,
   "id": "26b24be0",
   "metadata": {},
   "outputs": [],
   "source": [
    "df_annotations_num_arms_known = df_annotations_num_arms_known.sample(1000)"
   ]
  },
  {
   "cell_type": "code",
   "execution_count": 7,
   "id": "df0ea588",
   "metadata": {},
   "outputs": [],
   "source": [
    "def get_num_arms_clean(num):\n",
    "    if num >= 5:\n",
    "        num = 5\n",
    "    return num\n",
    "df_annotations_num_arms_known[\"num_arms_clean\"] = df_annotations_num_arms_known[\"num_arms\"].apply(get_num_arms_clean)"
   ]
  },
  {
   "cell_type": "markdown",
   "id": "a2e91853",
   "metadata": {},
   "source": [
    "# Train and evaluate the number of arms extractor"
   ]
  },
  {
   "cell_type": "code",
   "execution_count": 8,
   "id": "2f49752a",
   "metadata": {},
   "outputs": [],
   "source": [
    "sys.path.append(\"../../front_end\")\n",
    "from util.page_tokeniser import tokenise_pages, tokenise_text, tokenise_text_and_lowercase"
   ]
  },
  {
   "cell_type": "code",
   "execution_count": 9,
   "id": "7f807e06",
   "metadata": {},
   "outputs": [],
   "source": [
    "import spacy\n",
    "from spacy.matcher import Matcher\n",
    "import spacy\n",
    "\n",
    "nlp = spacy.load('en_core_web_sm', disable=['ner', 'tagger', 'parser', 'lemmatizer'])\n",
    "\n"
   ]
  },
  {
   "cell_type": "code",
   "execution_count": 10,
   "id": "6b2646ff",
   "metadata": {},
   "outputs": [],
   "source": [
    "word2num = {'one': 1,\n",
    " 'two': 2,\n",
    " 'three': 3,\n",
    " 'four': 4,\n",
    " 'five': 5,\n",
    " 'six': 6,\n",
    " 'seven': 7,\n",
    " 'eight': 8,\n",
    " 'nine': 9,\n",
    " 'ten': 10,\n",
    " 'eleven': 11,\n",
    " 'twelve': 12,\n",
    " 'thirteen': 13,\n",
    " 'fourteen': 14,\n",
    " 'fifteen': 15,\n",
    " 'sixteen': 16,\n",
    " 'seventeen': 17,\n",
    " 'eighteen': 18,\n",
    " 'nineteen': 19,\n",
    " 'both': 2,\n",
    " 'single': 2}"
   ]
  },
  {
   "cell_type": "code",
   "execution_count": 11,
   "id": "b204d6b3",
   "metadata": {},
   "outputs": [],
   "source": [
    "number_words = list(word2num)"
   ]
  },
  {
   "cell_type": "code",
   "execution_count": 12,
   "id": "04d187ff",
   "metadata": {},
   "outputs": [],
   "source": [
    "for n in range(1, 20):\n",
    "    word2num[str(n)]= n"
   ]
  },
  {
   "cell_type": "code",
   "execution_count": 13,
   "id": "3dc8a7e4",
   "metadata": {},
   "outputs": [],
   "source": [
    "numbers_above_3 = list([w for w in word2num if word2num[w] >= 3])"
   ]
  },
  {
   "cell_type": "code",
   "execution_count": 14,
   "id": "e4071f05",
   "metadata": {},
   "outputs": [],
   "source": [
    "matcher = Matcher(nlp.vocab)\n",
    "patterns = [ #[{\"LIKE_NUM\":True},  {\"LOWER\": {\"IN\": [\"treatment\", \"study\", \"dose\"]}, \"OP\":\"?\"}, {\"LOWER\": {\"IN\": [\"arm\", \"arms\", \"group\", \"groups\", \"subgroup\", \"subgroups\", \"cohort\", \"cohorts\"]}}],\n",
    "           [{\"LOWER\":{\"IN\":number_words}},  {\"LOWER\": {\"IN\": [\"treatment\", \"study\", \"dose\"]}}, {\"LOWER\": {\"IN\": [\"arm\", \"arms\", \"group\", \"groups\", \"subgroup\", \"subgroups\", \"cohort\", \"cohorts\"]}}],\n",
    "#            [{\"LOWER\":{\"IN\":number_words}},  {\"LOWER\": {\"IN\": [\"group\", \"groups\", \"subgroup\", \"subgroups\", \"cohort\", \"cohorts\"]}}],\n",
    "             [{\"LOWER\":{\"IN\":list(word2num)}},{\"LOWER\":\"-\", \"OP\":\"?\"}, {\"LOWER\": {\"IN\": [ \"armed\"]}}]\n",
    "]\n",
    "matcher.add(\"arms\", patterns)"
   ]
  },
  {
   "cell_type": "code",
   "execution_count": 15,
   "id": "da7c3630",
   "metadata": {},
   "outputs": [
    {
     "data": {
      "text/plain": [
       "[]"
      ]
     },
     "execution_count": 15,
     "metadata": {},
     "output_type": "execute_result"
    }
   ],
   "source": [
    "doc = spacy.tokens.doc.Doc(\n",
    "            nlp.vocab, words=[\"5\", \"arms\"])\n",
    "matcher(doc)"
   ]
  },
  {
   "cell_type": "code",
   "execution_count": 16,
   "id": "2346b732",
   "metadata": {},
   "outputs": [],
   "source": [
    "#tokenised_pages = [[\"5\", \"arms\"]]\n",
    "# if True:\n",
    "def process(self, tokenised_pages: list) -> tuple:\n",
    "    \"\"\"\n",
    "    Identify the trial phase.\n",
    "    :param tokenised_pages: List of lists of tokens of each page.\n",
    "    :return: The prediction (str) and a map from phase to the pages it's mentioned in.\n",
    "    \"\"\"\n",
    "\n",
    "    tokenised_pages = [[string.lower() for string in sublist] for sublist in tokenised_pages]\n",
    "\n",
    "    phase_to_pages = {}\n",
    "\n",
    "    for page_number, page_tokens in enumerate(tokenised_pages):\n",
    "        doc = spacy.tokens.doc.Doc(\n",
    "            nlp.vocab, words=page_tokens)\n",
    "        matches = matcher(doc)\n",
    "        for word, start, end in matches:\n",
    "            phase_number = doc[start:end]\n",
    "            if phase_number not in phase_to_pages:\n",
    "                phase_to_pages[phase_number] = []\n",
    "            phase_to_pages[phase_number].append(page_number)\n",
    "\n",
    "    phase_to_pages = sorted(phase_to_pages.items(), key=lambda v: len(v[1]), reverse=True)\n",
    "\n",
    "    prediction = 0\n",
    "    if len(phase_to_pages) == 1:\n",
    "        for word in phase_to_pages[0][0]:\n",
    "            if word.text in word2num:\n",
    "                prediction = word2num[word.text]\n",
    "                break\n",
    "    if prediction > 5:\n",
    "        prediction = 5\n",
    "                \n",
    "    phase_to_pages = [(phrase.text, value) for phrase, value in phase_to_pages]\n",
    "\n",
    "    return {\"prediction\": prediction, \"pages\": dict(phase_to_pages)}"
   ]
  },
  {
   "cell_type": "code",
   "execution_count": 17,
   "id": "b8ac14ec",
   "metadata": {},
   "outputs": [],
   "source": [
    "df_val = df_annotations_num_arms_known[df_annotations_num_arms_known.train_val == \"val\"]"
   ]
  },
  {
   "cell_type": "code",
   "execution_count": null,
   "id": "481e7a78",
   "metadata": {},
   "outputs": [],
   "source": []
  },
  {
   "cell_type": "code",
   "execution_count": 18,
   "id": "1ab67890",
   "metadata": {},
   "outputs": [],
   "source": [
    "df_train = df_annotations_num_arms_known[df_annotations_num_arms_known.train_val == \"train\"]"
   ]
  },
  {
   "cell_type": "code",
   "execution_count": 19,
   "id": "19fb604a",
   "metadata": {},
   "outputs": [],
   "source": [
    "from nltk.corpus import stopwords\n",
    "from nltk.tokenize import RegexpTokenizer\n",
    "\n",
    "from sklearn.ensemble import RandomForestClassifier\n",
    "from sklearn.feature_extraction.text import CountVectorizer, TfidfTransformer\n",
    "from sklearn.metrics import accuracy_score, auc, roc_curve\n",
    "from sklearn.model_selection import cross_validate\n",
    "from sklearn.naive_bayes import MultinomialNB, ComplementNB\n",
    "from sklearn.pipeline import make_pipeline"
   ]
  },
  {
   "cell_type": "code",
   "execution_count": 20,
   "id": "52774314",
   "metadata": {},
   "outputs": [],
   "source": [
    "NUM_FEATURES = 1500\n",
    "\n",
    "stops = set(stopwords.words('english')).union(set(stopwords.words('french')))\n",
    "stops.remove(\"both\")\n",
    "stops.remove(\"all\")\n",
    "\n",
    "# Specially engineered regex to include 95%, 95%ci, etc\n",
    "vectoriser = CountVectorizer(lowercase=True,\n",
    "                             token_pattern=r'[a-z][a-z]+', \n",
    "                            \n",
    "                            vocabulary={\n",
    "                                \"arm\", \"group\", \"subgroup\", \"cohort\", \"arms\", \"groups\", \"subgroups\", \"cohorts\",\n",
    "                    \"randomise\", \"randomize\", \"randomisation\", \"randomization\", \"randomised\", \"randomized\",\n",
    "                    \"placebo\", \"unblinded\", \"unblinding\", \"blinded\", \"blinding\", \"blind\", \"compare\", \"double\",\n",
    "                    \"controlled\", \"control\", \"differences\", \"vs\", \"outcomes\", \"hypothesis\", \"experimental\", \"compared\",\n",
    "                    \"effects\", \"variables\", \"variables\", \"ratio\", \"versus\", \"outcome\", \"monotherapy\", \"polytherapy\", \"proprietary\",\n",
    "                    \"criterion\", \"healthy\", \"remission\", \"separately\", \"separate\", \"separated\", \"assay\", \"dosing\", \"dose\", \"doses\",\n",
    "                    \"treatment\", \"treatments\", \"study\", \"studies\", \"either\", \"both\"}\n",
    "                            )\n",
    "transformer = TfidfTransformer()\n",
    "\n",
    "nb = MultinomialNB()\n",
    "nb = ComplementNB()\n",
    "model = make_pipeline(vectoriser, transformer, nb)"
   ]
  },
  {
   "cell_type": "code",
   "execution_count": 21,
   "id": "d3146265",
   "metadata": {},
   "outputs": [
    {
     "data": {
      "text/plain": [
       "2.0    333\n",
       "1.0    225\n",
       "3.0    109\n",
       "4.0     83\n",
       "5.0     51\n",
       "Name: num_arms_clean, dtype: int64"
      ]
     },
     "execution_count": 21,
     "metadata": {},
     "output_type": "execute_result"
    }
   ],
   "source": [
    "df_train.num_arms_clean.value_counts()"
   ]
  },
  {
   "cell_type": "code",
   "execution_count": 22,
   "id": "78f1a8b1",
   "metadata": {},
   "outputs": [
    {
     "data": {
      "text/html": [
       "<style>#sk-container-id-1 {color: black;background-color: white;}#sk-container-id-1 pre{padding: 0;}#sk-container-id-1 div.sk-toggleable {background-color: white;}#sk-container-id-1 label.sk-toggleable__label {cursor: pointer;display: block;width: 100%;margin-bottom: 0;padding: 0.3em;box-sizing: border-box;text-align: center;}#sk-container-id-1 label.sk-toggleable__label-arrow:before {content: \"▸\";float: left;margin-right: 0.25em;color: #696969;}#sk-container-id-1 label.sk-toggleable__label-arrow:hover:before {color: black;}#sk-container-id-1 div.sk-estimator:hover label.sk-toggleable__label-arrow:before {color: black;}#sk-container-id-1 div.sk-toggleable__content {max-height: 0;max-width: 0;overflow: hidden;text-align: left;background-color: #f0f8ff;}#sk-container-id-1 div.sk-toggleable__content pre {margin: 0.2em;color: black;border-radius: 0.25em;background-color: #f0f8ff;}#sk-container-id-1 input.sk-toggleable__control:checked~div.sk-toggleable__content {max-height: 200px;max-width: 100%;overflow: auto;}#sk-container-id-1 input.sk-toggleable__control:checked~label.sk-toggleable__label-arrow:before {content: \"▾\";}#sk-container-id-1 div.sk-estimator input.sk-toggleable__control:checked~label.sk-toggleable__label {background-color: #d4ebff;}#sk-container-id-1 div.sk-label input.sk-toggleable__control:checked~label.sk-toggleable__label {background-color: #d4ebff;}#sk-container-id-1 input.sk-hidden--visually {border: 0;clip: rect(1px 1px 1px 1px);clip: rect(1px, 1px, 1px, 1px);height: 1px;margin: -1px;overflow: hidden;padding: 0;position: absolute;width: 1px;}#sk-container-id-1 div.sk-estimator {font-family: monospace;background-color: #f0f8ff;border: 1px dotted black;border-radius: 0.25em;box-sizing: border-box;margin-bottom: 0.5em;}#sk-container-id-1 div.sk-estimator:hover {background-color: #d4ebff;}#sk-container-id-1 div.sk-parallel-item::after {content: \"\";width: 100%;border-bottom: 1px solid gray;flex-grow: 1;}#sk-container-id-1 div.sk-label:hover label.sk-toggleable__label {background-color: #d4ebff;}#sk-container-id-1 div.sk-serial::before {content: \"\";position: absolute;border-left: 1px solid gray;box-sizing: border-box;top: 0;bottom: 0;left: 50%;z-index: 0;}#sk-container-id-1 div.sk-serial {display: flex;flex-direction: column;align-items: center;background-color: white;padding-right: 0.2em;padding-left: 0.2em;position: relative;}#sk-container-id-1 div.sk-item {position: relative;z-index: 1;}#sk-container-id-1 div.sk-parallel {display: flex;align-items: stretch;justify-content: center;background-color: white;position: relative;}#sk-container-id-1 div.sk-item::before, #sk-container-id-1 div.sk-parallel-item::before {content: \"\";position: absolute;border-left: 1px solid gray;box-sizing: border-box;top: 0;bottom: 0;left: 50%;z-index: -1;}#sk-container-id-1 div.sk-parallel-item {display: flex;flex-direction: column;z-index: 1;position: relative;background-color: white;}#sk-container-id-1 div.sk-parallel-item:first-child::after {align-self: flex-end;width: 50%;}#sk-container-id-1 div.sk-parallel-item:last-child::after {align-self: flex-start;width: 50%;}#sk-container-id-1 div.sk-parallel-item:only-child::after {width: 0;}#sk-container-id-1 div.sk-dashed-wrapped {border: 1px dashed gray;margin: 0 0.4em 0.5em 0.4em;box-sizing: border-box;padding-bottom: 0.4em;background-color: white;}#sk-container-id-1 div.sk-label label {font-family: monospace;font-weight: bold;display: inline-block;line-height: 1.2em;}#sk-container-id-1 div.sk-label-container {text-align: center;}#sk-container-id-1 div.sk-container {/* jupyter's `normalize.less` sets `[hidden] { display: none; }` but bootstrap.min.css set `[hidden] { display: none !important; }` so we also need the `!important` here to be able to override the default hidden behavior on the sphinx rendered scikit-learn.org. See: https://github.com/scikit-learn/scikit-learn/issues/21755 */display: inline-block !important;position: relative;}#sk-container-id-1 div.sk-text-repr-fallback {display: none;}</style><div id=\"sk-container-id-1\" class=\"sk-top-container\"><div class=\"sk-text-repr-fallback\"><pre>Pipeline(steps=[(&#x27;countvectorizer&#x27;,\n",
       "                 CountVectorizer(token_pattern=&#x27;[a-z][a-z]+&#x27;,\n",
       "                                 vocabulary={&#x27;arm&#x27;, &#x27;arms&#x27;, &#x27;assay&#x27;, &#x27;blind&#x27;,\n",
       "                                             &#x27;blinded&#x27;, &#x27;blinding&#x27;, &#x27;both&#x27;,\n",
       "                                             &#x27;cohort&#x27;, &#x27;cohorts&#x27;, &#x27;compare&#x27;,\n",
       "                                             &#x27;compared&#x27;, &#x27;control&#x27;,\n",
       "                                             &#x27;controlled&#x27;, &#x27;criterion&#x27;,\n",
       "                                             &#x27;differences&#x27;, &#x27;dose&#x27;, &#x27;doses&#x27;,\n",
       "                                             &#x27;dosing&#x27;, &#x27;double&#x27;, &#x27;effects&#x27;,\n",
       "                                             &#x27;either&#x27;, &#x27;experimental&#x27;, &#x27;group&#x27;,\n",
       "                                             &#x27;groups&#x27;, &#x27;healthy&#x27;, &#x27;hypothesis&#x27;,\n",
       "                                             &#x27;monotherapy&#x27;, &#x27;outcome&#x27;,\n",
       "                                             &#x27;outcomes&#x27;, &#x27;placebo&#x27;, ...})),\n",
       "                (&#x27;tfidftransformer&#x27;, TfidfTransformer()),\n",
       "                (&#x27;complementnb&#x27;, ComplementNB())])</pre><b>In a Jupyter environment, please rerun this cell to show the HTML representation or trust the notebook. <br />On GitHub, the HTML representation is unable to render, please try loading this page with nbviewer.org.</b></div><div class=\"sk-container\" hidden><div class=\"sk-item sk-dashed-wrapped\"><div class=\"sk-label-container\"><div class=\"sk-label sk-toggleable\"><input class=\"sk-toggleable__control sk-hidden--visually\" id=\"sk-estimator-id-1\" type=\"checkbox\" ><label for=\"sk-estimator-id-1\" class=\"sk-toggleable__label sk-toggleable__label-arrow\">Pipeline</label><div class=\"sk-toggleable__content\"><pre>Pipeline(steps=[(&#x27;countvectorizer&#x27;,\n",
       "                 CountVectorizer(token_pattern=&#x27;[a-z][a-z]+&#x27;,\n",
       "                                 vocabulary={&#x27;arm&#x27;, &#x27;arms&#x27;, &#x27;assay&#x27;, &#x27;blind&#x27;,\n",
       "                                             &#x27;blinded&#x27;, &#x27;blinding&#x27;, &#x27;both&#x27;,\n",
       "                                             &#x27;cohort&#x27;, &#x27;cohorts&#x27;, &#x27;compare&#x27;,\n",
       "                                             &#x27;compared&#x27;, &#x27;control&#x27;,\n",
       "                                             &#x27;controlled&#x27;, &#x27;criterion&#x27;,\n",
       "                                             &#x27;differences&#x27;, &#x27;dose&#x27;, &#x27;doses&#x27;,\n",
       "                                             &#x27;dosing&#x27;, &#x27;double&#x27;, &#x27;effects&#x27;,\n",
       "                                             &#x27;either&#x27;, &#x27;experimental&#x27;, &#x27;group&#x27;,\n",
       "                                             &#x27;groups&#x27;, &#x27;healthy&#x27;, &#x27;hypothesis&#x27;,\n",
       "                                             &#x27;monotherapy&#x27;, &#x27;outcome&#x27;,\n",
       "                                             &#x27;outcomes&#x27;, &#x27;placebo&#x27;, ...})),\n",
       "                (&#x27;tfidftransformer&#x27;, TfidfTransformer()),\n",
       "                (&#x27;complementnb&#x27;, ComplementNB())])</pre></div></div></div><div class=\"sk-serial\"><div class=\"sk-item\"><div class=\"sk-estimator sk-toggleable\"><input class=\"sk-toggleable__control sk-hidden--visually\" id=\"sk-estimator-id-2\" type=\"checkbox\" ><label for=\"sk-estimator-id-2\" class=\"sk-toggleable__label sk-toggleable__label-arrow\">CountVectorizer</label><div class=\"sk-toggleable__content\"><pre>CountVectorizer(token_pattern=&#x27;[a-z][a-z]+&#x27;,\n",
       "                vocabulary={&#x27;arm&#x27;, &#x27;arms&#x27;, &#x27;assay&#x27;, &#x27;blind&#x27;, &#x27;blinded&#x27;,\n",
       "                            &#x27;blinding&#x27;, &#x27;both&#x27;, &#x27;cohort&#x27;, &#x27;cohorts&#x27;, &#x27;compare&#x27;,\n",
       "                            &#x27;compared&#x27;, &#x27;control&#x27;, &#x27;controlled&#x27;, &#x27;criterion&#x27;,\n",
       "                            &#x27;differences&#x27;, &#x27;dose&#x27;, &#x27;doses&#x27;, &#x27;dosing&#x27;, &#x27;double&#x27;,\n",
       "                            &#x27;effects&#x27;, &#x27;either&#x27;, &#x27;experimental&#x27;, &#x27;group&#x27;,\n",
       "                            &#x27;groups&#x27;, &#x27;healthy&#x27;, &#x27;hypothesis&#x27;, &#x27;monotherapy&#x27;,\n",
       "                            &#x27;outcome&#x27;, &#x27;outcomes&#x27;, &#x27;placebo&#x27;, ...})</pre></div></div></div><div class=\"sk-item\"><div class=\"sk-estimator sk-toggleable\"><input class=\"sk-toggleable__control sk-hidden--visually\" id=\"sk-estimator-id-3\" type=\"checkbox\" ><label for=\"sk-estimator-id-3\" class=\"sk-toggleable__label sk-toggleable__label-arrow\">TfidfTransformer</label><div class=\"sk-toggleable__content\"><pre>TfidfTransformer()</pre></div></div></div><div class=\"sk-item\"><div class=\"sk-estimator sk-toggleable\"><input class=\"sk-toggleable__control sk-hidden--visually\" id=\"sk-estimator-id-4\" type=\"checkbox\" ><label for=\"sk-estimator-id-4\" class=\"sk-toggleable__label sk-toggleable__label-arrow\">ComplementNB</label><div class=\"sk-toggleable__content\"><pre>ComplementNB()</pre></div></div></div></div></div></div></div>"
      ],
      "text/plain": [
       "Pipeline(steps=[('countvectorizer',\n",
       "                 CountVectorizer(token_pattern='[a-z][a-z]+',\n",
       "                                 vocabulary={'arm', 'arms', 'assay', 'blind',\n",
       "                                             'blinded', 'blinding', 'both',\n",
       "                                             'cohort', 'cohorts', 'compare',\n",
       "                                             'compared', 'control',\n",
       "                                             'controlled', 'criterion',\n",
       "                                             'differences', 'dose', 'doses',\n",
       "                                             'dosing', 'double', 'effects',\n",
       "                                             'either', 'experimental', 'group',\n",
       "                                             'groups', 'healthy', 'hypothesis',\n",
       "                                             'monotherapy', 'outcome',\n",
       "                                             'outcomes', 'placebo', ...})),\n",
       "                ('tfidftransformer', TfidfTransformer()),\n",
       "                ('complementnb', ComplementNB())])"
      ]
     },
     "execution_count": 22,
     "metadata": {},
     "output_type": "execute_result"
    }
   ],
   "source": [
    "model.fit(df_train.text, df_train.num_arms_clean)"
   ]
  },
  {
   "cell_type": "code",
   "execution_count": 23,
   "id": "f3fe7085",
   "metadata": {},
   "outputs": [
    {
     "name": "stderr",
     "output_type": "stream",
     "text": [
      "/tmp/ipykernel_9409/2554258759.py:1: SettingWithCopyWarning: \n",
      "A value is trying to be set on a copy of a slice from a DataFrame.\n",
      "Try using .loc[row_indexer,col_indexer] = value instead\n",
      "\n",
      "See the caveats in the documentation: https://pandas.pydata.org/pandas-docs/stable/user_guide/indexing.html#returning-a-view-versus-a-copy\n",
      "  df_val[\"pred_num_arms_nb\"]  = model.predict(df_val.text)\n"
     ]
    }
   ],
   "source": [
    "df_val[\"pred_num_arms_nb\"]  = model.predict(df_val.text)"
   ]
  },
  {
   "cell_type": "code",
   "execution_count": 24,
   "id": "ace3024b",
   "metadata": {},
   "outputs": [
    {
     "data": {
      "text/plain": [
       "2.0    42\n",
       "1.0    40\n",
       "4.0     1\n",
       "Name: pred_num_arms_nb, dtype: int64"
      ]
     },
     "execution_count": 24,
     "metadata": {},
     "output_type": "execute_result"
    }
   ],
   "source": [
    "df_val.pred_num_arms_nb.value_counts()"
   ]
  },
  {
   "cell_type": "code",
   "execution_count": null,
   "id": "32da3572",
   "metadata": {},
   "outputs": [],
   "source": []
  },
  {
   "cell_type": "code",
   "execution_count": 25,
   "id": "502c8475",
   "metadata": {},
   "outputs": [],
   "source": [
    "def get_num_arms(text):\n",
    "    toks = tokenise_text_and_lowercase(text)\n",
    "    result = process(None, [toks])\n",
    "    return result[\"prediction\"]"
   ]
  },
  {
   "cell_type": "code",
   "execution_count": 26,
   "id": "f50d45ff",
   "metadata": {},
   "outputs": [],
   "source": [
    "def get_pages(text):\n",
    "    toks = tokenise_text_and_lowercase(text)\n",
    "    result = process(None, [toks])\n",
    "    return result[\"pages\"]"
   ]
  },
  {
   "cell_type": "code",
   "execution_count": 27,
   "id": "0a66fe16",
   "metadata": {
    "scrolled": true
   },
   "outputs": [
    {
     "name": "stderr",
     "output_type": "stream",
     "text": [
      "/tmp/ipykernel_9409/3003238752.py:1: SettingWithCopyWarning: \n",
      "A value is trying to be set on a copy of a slice from a DataFrame.\n",
      "Try using .loc[row_indexer,col_indexer] = value instead\n",
      "\n",
      "See the caveats in the documentation: https://pandas.pydata.org/pandas-docs/stable/user_guide/indexing.html#returning-a-view-versus-a-copy\n",
      "  df_val[\"pred_num_arms_spacy\"] = df_val.text.apply(get_num_arms)\n"
     ]
    }
   ],
   "source": [
    "df_val[\"pred_num_arms_spacy\"] = df_val.text.apply(get_num_arms)"
   ]
  },
  {
   "cell_type": "code",
   "execution_count": 28,
   "id": "20d9d9ff",
   "metadata": {},
   "outputs": [
    {
     "data": {
      "text/plain": [
       "0    70\n",
       "2    10\n",
       "3     2\n",
       "1     1\n",
       "Name: pred_num_arms_spacy, dtype: int64"
      ]
     },
     "execution_count": 28,
     "metadata": {},
     "output_type": "execute_result"
    }
   ],
   "source": [
    "df_val[\"pred_num_arms_spacy\"].value_counts()"
   ]
  },
  {
   "cell_type": "code",
   "execution_count": 29,
   "id": "6f6158e0",
   "metadata": {},
   "outputs": [
    {
     "name": "stderr",
     "output_type": "stream",
     "text": [
      "/tmp/ipykernel_9409/521656970.py:8: SettingWithCopyWarning: \n",
      "A value is trying to be set on a copy of a slice from a DataFrame.\n",
      "Try using .loc[row_indexer,col_indexer] = value instead\n",
      "\n",
      "See the caveats in the documentation: https://pandas.pydata.org/pandas-docs/stable/user_guide/indexing.html#returning-a-view-versus-a-copy\n",
      "  df_val[\"pred_num_arms\"] = pred_num_arms\n"
     ]
    }
   ],
   "source": [
    "pred_num_arms = []\n",
    "for i in range(len(df_val)):\n",
    "    if df_val.pred_num_arms_spacy.iloc[i] > 0:\n",
    "        pred = df_val.pred_num_arms_spacy.iloc[i]\n",
    "    else:\n",
    "        pred = df_val.pred_num_arms_nb.iloc[i]\n",
    "    pred_num_arms.append(pred)\n",
    "df_val[\"pred_num_arms\"] = pred_num_arms\n",
    "pred_num_arms= df_val[\"pred_num_arms\"]"
   ]
  },
  {
   "cell_type": "code",
   "execution_count": 30,
   "id": "b6384bf1",
   "metadata": {},
   "outputs": [
    {
     "name": "stderr",
     "output_type": "stream",
     "text": [
      "/tmp/ipykernel_9409/1874208678.py:1: SettingWithCopyWarning: \n",
      "A value is trying to be set on a copy of a slice from a DataFrame.\n",
      "Try using .loc[row_indexer,col_indexer] = value instead\n",
      "\n",
      "See the caveats in the documentation: https://pandas.pydata.org/pandas-docs/stable/user_guide/indexing.html#returning-a-view-versus-a-copy\n",
      "  df_val[\"pages\"] = df_val.text.apply(get_pages)\n"
     ]
    }
   ],
   "source": [
    "df_val[\"pages\"] = df_val.text.apply(get_pages)"
   ]
  },
  {
   "cell_type": "code",
   "execution_count": 31,
   "id": "3f1e7efa",
   "metadata": {},
   "outputs": [
    {
     "data": {
      "text/plain": [
       "2907     1.0\n",
       "11393    1.0\n",
       "8242     1.0\n",
       "7572     2.0\n",
       "5234     2.0\n",
       "        ... \n",
       "4323     2.0\n",
       "8597     1.0\n",
       "8598     2.0\n",
       "3888     1.0\n",
       "2327     2.0\n",
       "Name: pred_num_arms, Length: 83, dtype: float64"
      ]
     },
     "execution_count": 31,
     "metadata": {},
     "output_type": "execute_result"
    }
   ],
   "source": [
    "pred_num_arms"
   ]
  },
  {
   "cell_type": "code",
   "execution_count": 32,
   "id": "077e3eab",
   "metadata": {},
   "outputs": [
    {
     "data": {
      "text/plain": [
       "2.0    43\n",
       "1.0    37\n",
       "3.0     2\n",
       "4.0     1\n",
       "Name: pred_num_arms, dtype: int64"
      ]
     },
     "execution_count": 32,
     "metadata": {},
     "output_type": "execute_result"
    }
   ],
   "source": [
    "pred_num_arms.value_counts()"
   ]
  },
  {
   "cell_type": "code",
   "execution_count": 33,
   "id": "48d636fa",
   "metadata": {},
   "outputs": [],
   "source": [
    "num_arms_ground_truths = df_val.num_arms_clean"
   ]
  },
  {
   "cell_type": "code",
   "execution_count": 34,
   "id": "bf5f8d23",
   "metadata": {},
   "outputs": [
    {
     "name": "stdout",
     "output_type": "stream",
     "text": [
      "Num arms accuracy 0.5421686746987951\n"
     ]
    }
   ],
   "source": [
    "acc = accuracy_score(num_arms_ground_truths, pred_num_arms)\n",
    "print (f\"Num arms accuracy {acc}\")"
   ]
  },
  {
   "cell_type": "code",
   "execution_count": 35,
   "id": "27c5d1be",
   "metadata": {
    "scrolled": false
   },
   "outputs": [
    {
     "data": {
      "text/plain": [
       "''"
      ]
     },
     "execution_count": 35,
     "metadata": {},
     "output_type": "execute_result"
    },
    {
     "data": {
      "image/png": "[encoded data removed]",
      "text/plain": [
       "<Figure size 640x480 with 2 Axes>"
      ]
     },
     "metadata": {},
     "output_type": "display_data"
    }
   ],
   "source": [
    "ConfusionMatrixDisplay.from_predictions(num_arms_ground_truths, pred_num_arms)\n",
    "plt.xticks(rotation=90)\n",
    ";"
   ]
  },
  {
   "cell_type": "code",
   "execution_count": 36,
   "id": "91311d34",
   "metadata": {},
   "outputs": [
    {
     "data": {
      "text/plain": [
       "0.5421686746987951"
      ]
     },
     "execution_count": 36,
     "metadata": {},
     "output_type": "execute_result"
    }
   ],
   "source": [
    "accuracy_score(num_arms_ground_truths[pred_num_arms > 0], pred_num_arms[pred_num_arms > 0])"
   ]
  },
  {
   "cell_type": "code",
   "execution_count": 37,
   "id": "71f602d1",
   "metadata": {},
   "outputs": [
    {
     "data": {
      "text/html": [
       "<div>\n",
       "<style scoped>\n",
       "    .dataframe tbody tr th:only-of-type {\n",
       "        vertical-align: middle;\n",
       "    }\n",
       "\n",
       "    .dataframe tbody tr th {\n",
       "        vertical-align: top;\n",
       "    }\n",
       "\n",
       "    .dataframe thead th {\n",
       "        text-align: right;\n",
       "    }\n",
       "</style>\n",
       "<table border=\"1\" class=\"dataframe\">\n",
       "  <thead>\n",
       "    <tr style=\"text-align: right;\">\n",
       "      <th></th>\n",
       "      <th>file</th>\n",
       "      <th>nct_id</th>\n",
       "      <th>train_val</th>\n",
       "      <th>num_arms</th>\n",
       "      <th>num_subjects</th>\n",
       "      <th>phase</th>\n",
       "      <th>intervention_type</th>\n",
       "      <th>country</th>\n",
       "      <th>has_sap</th>\n",
       "      <th>text</th>\n",
       "      <th>num_arms_clean</th>\n",
       "      <th>pred_num_arms_nb</th>\n",
       "      <th>pred_num_arms_spacy</th>\n",
       "      <th>pred_num_arms</th>\n",
       "      <th>pages</th>\n",
       "    </tr>\n",
       "  </thead>\n",
       "  <tbody>\n",
       "    <tr>\n",
       "      <th>2907</th>\n",
       "      <td>24_NCT02886624_Prot_SAP_000.pdf</td>\n",
       "      <td>NCT02886624</td>\n",
       "      <td>val</td>\n",
       "      <td>1.0</td>\n",
       "      <td>NaN</td>\n",
       "      <td>Phase 2</td>\n",
       "      <td>Drug</td>\n",
       "      <td>FR</td>\n",
       "      <td>1</td>\n",
       "      <td>\\nDocument:  Protocol \\n\\nDocument title: \\n\\n...</td>\n",
       "      <td>1.0</td>\n",
       "      <td>1.0</td>\n",
       "      <td>0</td>\n",
       "      <td>1.0</td>\n",
       "      <td>{}</td>\n",
       "    </tr>\n",
       "    <tr>\n",
       "      <th>11393</th>\n",
       "      <td>95_NCT02869295_Prot_000.pdf</td>\n",
       "      <td>NCT02869295</td>\n",
       "      <td>val</td>\n",
       "      <td>1.0</td>\n",
       "      <td>NaN</td>\n",
       "      <td>Phase 1/Phase 2</td>\n",
       "      <td>Drug</td>\n",
       "      <td>US</td>\n",
       "      <td>0</td>\n",
       "      <td>\\nProtocol No. 15-214-01 Amendment 4.0 NKTR-21...</td>\n",
       "      <td>1.0</td>\n",
       "      <td>1.0</td>\n",
       "      <td>0</td>\n",
       "      <td>1.0</td>\n",
       "      <td>{}</td>\n",
       "    </tr>\n",
       "    <tr>\n",
       "      <th>8242</th>\n",
       "      <td>69_NCT01896869_Prot_SAP_000.pdf</td>\n",
       "      <td>NCT01896869</td>\n",
       "      <td>val</td>\n",
       "      <td>2.0</td>\n",
       "      <td>NaN</td>\n",
       "      <td>Phase 2</td>\n",
       "      <td>DrugBiological</td>\n",
       "      <td>US</td>\n",
       "      <td>1</td>\n",
       "      <td>\\ni \\n \\n\\nOfficial Title: A Phase 2, Multicen...</td>\n",
       "      <td>2.0</td>\n",
       "      <td>1.0</td>\n",
       "      <td>0</td>\n",
       "      <td>1.0</td>\n",
       "      <td>{'both treatment arms': [0], 'two treatment ar...</td>\n",
       "    </tr>\n",
       "    <tr>\n",
       "      <th>7572</th>\n",
       "      <td>63_NCT02804763_Prot_000.pdf</td>\n",
       "      <td>NCT02804763</td>\n",
       "      <td>val</td>\n",
       "      <td>4.0</td>\n",
       "      <td>NaN</td>\n",
       "      <td>Phase 2</td>\n",
       "      <td>Drug</td>\n",
       "      <td>US,BG,CL,CO,DE,HU,MX,PE,PL,RO,RU,ES,UA</td>\n",
       "      <td>0</td>\n",
       "      <td>\\nUCB 14 Dec 2016\\nClinical Study Protocol Dap...</td>\n",
       "      <td>4.0</td>\n",
       "      <td>2.0</td>\n",
       "      <td>0</td>\n",
       "      <td>2.0</td>\n",
       "      <td>{}</td>\n",
       "    </tr>\n",
       "    <tr>\n",
       "      <th>5234</th>\n",
       "      <td>44_NCT00824044_Prot_000.pdf</td>\n",
       "      <td>NCT00824044</td>\n",
       "      <td>val</td>\n",
       "      <td>2.0</td>\n",
       "      <td>NaN</td>\n",
       "      <td>Phase 4</td>\n",
       "      <td>Drug</td>\n",
       "      <td>US</td>\n",
       "      <td>0</td>\n",
       "      <td>\\nVersion Date: 11/30/09 1 \\n\\nQEEG Predictors...</td>\n",
       "      <td>2.0</td>\n",
       "      <td>2.0</td>\n",
       "      <td>0</td>\n",
       "      <td>2.0</td>\n",
       "      <td>{}</td>\n",
       "    </tr>\n",
       "    <tr>\n",
       "      <th>...</th>\n",
       "      <td>...</td>\n",
       "      <td>...</td>\n",
       "      <td>...</td>\n",
       "      <td>...</td>\n",
       "      <td>...</td>\n",
       "      <td>...</td>\n",
       "      <td>...</td>\n",
       "      <td>...</td>\n",
       "      <td>...</td>\n",
       "      <td>...</td>\n",
       "      <td>...</td>\n",
       "      <td>...</td>\n",
       "      <td>...</td>\n",
       "      <td>...</td>\n",
       "      <td>...</td>\n",
       "    </tr>\n",
       "    <tr>\n",
       "      <th>4323</th>\n",
       "      <td>36_NCT02873936_Prot_000.pdf</td>\n",
       "      <td>NCT02873936</td>\n",
       "      <td>val</td>\n",
       "      <td>3.0</td>\n",
       "      <td>NaN</td>\n",
       "      <td>Phase 3</td>\n",
       "      <td>Drug</td>\n",
       "      <td>US,AR,AU,BE,FR,DE,HU,IL,JP,KR,MX,PL,ES,CH,GB,I...</td>\n",
       "      <td>0</td>\n",
       "      <td>\\n    \\nCLINICAL STUDY PROTOCOL\\n\\nStudy Title...</td>\n",
       "      <td>3.0</td>\n",
       "      <td>2.0</td>\n",
       "      <td>0</td>\n",
       "      <td>2.0</td>\n",
       "      <td>{}</td>\n",
       "    </tr>\n",
       "    <tr>\n",
       "      <th>8597</th>\n",
       "      <td>72_NCT02870972_Prot_000.pdf</td>\n",
       "      <td>NCT02870972</td>\n",
       "      <td>val</td>\n",
       "      <td>5.0</td>\n",
       "      <td>NaN</td>\n",
       "      <td>Phase 2</td>\n",
       "      <td>Drug</td>\n",
       "      <td>AU,AT,CA,DK,DE,HU,IT,MK,ES,CH,GB,MK</td>\n",
       "      <td>0</td>\n",
       "      <td>\\nProtocol BCX7353-203 BioCryst Pharmaceutical...</td>\n",
       "      <td>5.0</td>\n",
       "      <td>1.0</td>\n",
       "      <td>0</td>\n",
       "      <td>1.0</td>\n",
       "      <td>{}</td>\n",
       "    </tr>\n",
       "    <tr>\n",
       "      <th>8598</th>\n",
       "      <td>72_NCT02876172_Prot_000.pdf</td>\n",
       "      <td>NCT02876172</td>\n",
       "      <td>val</td>\n",
       "      <td>1.0</td>\n",
       "      <td>NaN</td>\n",
       "      <td>Phase 1/Phase 2</td>\n",
       "      <td>Drug</td>\n",
       "      <td>US</td>\n",
       "      <td>0</td>\n",
       "      <td>\\nStudy Synopsis \\n \\n\\nA Phase 1/2 Open-Label...</td>\n",
       "      <td>1.0</td>\n",
       "      <td>2.0</td>\n",
       "      <td>0</td>\n",
       "      <td>2.0</td>\n",
       "      <td>{}</td>\n",
       "    </tr>\n",
       "    <tr>\n",
       "      <th>3888</th>\n",
       "      <td>32_NCT03843632_Prot_SAP_000.pdf</td>\n",
       "      <td>NCT03843632</td>\n",
       "      <td>val</td>\n",
       "      <td>1.0</td>\n",
       "      <td>NaN</td>\n",
       "      <td>Phase 3</td>\n",
       "      <td>Biological</td>\n",
       "      <td>RU</td>\n",
       "      <td>1</td>\n",
       "      <td>\\nOfficial Protocol Title: \\n\\nNCT number: \\nD...</td>\n",
       "      <td>1.0</td>\n",
       "      <td>1.0</td>\n",
       "      <td>0</td>\n",
       "      <td>1.0</td>\n",
       "      <td>{}</td>\n",
       "    </tr>\n",
       "    <tr>\n",
       "      <th>2327</th>\n",
       "      <td>19_NCT02863419_Prot_000.pdf</td>\n",
       "      <td>NCT02863419</td>\n",
       "      <td>val</td>\n",
       "      <td>3.0</td>\n",
       "      <td>NaN</td>\n",
       "      <td>Phase 3</td>\n",
       "      <td>Drug</td>\n",
       "      <td>US,HR,CZ,DE,HU,JP,LV,PL,PR,SK,ZA,UA,AE,CZ</td>\n",
       "      <td>0</td>\n",
       "      <td>\\nCover Page for Protocol \\n \\n\\nSponsor name:...</td>\n",
       "      <td>3.0</td>\n",
       "      <td>2.0</td>\n",
       "      <td>0</td>\n",
       "      <td>2.0</td>\n",
       "      <td>{'3 armed': [0], 'three treatment arms': [0]}</td>\n",
       "    </tr>\n",
       "  </tbody>\n",
       "</table>\n",
       "<p>83 rows × 15 columns</p>\n",
       "</div>"
      ],
      "text/plain": [
       "                                  file       nct_id train_val  num_arms  \\\n",
       "2907   24_NCT02886624_Prot_SAP_000.pdf  NCT02886624       val       1.0   \n",
       "11393      95_NCT02869295_Prot_000.pdf  NCT02869295       val       1.0   \n",
       "8242   69_NCT01896869_Prot_SAP_000.pdf  NCT01896869       val       2.0   \n",
       "7572       63_NCT02804763_Prot_000.pdf  NCT02804763       val       4.0   \n",
       "5234       44_NCT00824044_Prot_000.pdf  NCT00824044       val       2.0   \n",
       "...                                ...          ...       ...       ...   \n",
       "4323       36_NCT02873936_Prot_000.pdf  NCT02873936       val       3.0   \n",
       "8597       72_NCT02870972_Prot_000.pdf  NCT02870972       val       5.0   \n",
       "8598       72_NCT02876172_Prot_000.pdf  NCT02876172       val       1.0   \n",
       "3888   32_NCT03843632_Prot_SAP_000.pdf  NCT03843632       val       1.0   \n",
       "2327       19_NCT02863419_Prot_000.pdf  NCT02863419       val       3.0   \n",
       "\n",
       "       num_subjects            phase intervention_type  \\\n",
       "2907            NaN          Phase 2              Drug   \n",
       "11393           NaN  Phase 1/Phase 2              Drug   \n",
       "8242            NaN          Phase 2    DrugBiological   \n",
       "7572            NaN          Phase 2              Drug   \n",
       "5234            NaN          Phase 4              Drug   \n",
       "...             ...              ...               ...   \n",
       "4323            NaN          Phase 3              Drug   \n",
       "8597            NaN          Phase 2              Drug   \n",
       "8598            NaN  Phase 1/Phase 2              Drug   \n",
       "3888            NaN          Phase 3        Biological   \n",
       "2327            NaN          Phase 3              Drug   \n",
       "\n",
       "                                                 country  has_sap  \\\n",
       "2907                                                  FR        1   \n",
       "11393                                                 US        0   \n",
       "8242                                                  US        1   \n",
       "7572              US,BG,CL,CO,DE,HU,MX,PE,PL,RO,RU,ES,UA        0   \n",
       "5234                                                  US        0   \n",
       "...                                                  ...      ...   \n",
       "4323   US,AR,AU,BE,FR,DE,HU,IL,JP,KR,MX,PL,ES,CH,GB,I...        0   \n",
       "8597                 AU,AT,CA,DK,DE,HU,IT,MK,ES,CH,GB,MK        0   \n",
       "8598                                                  US        0   \n",
       "3888                                                  RU        1   \n",
       "2327           US,HR,CZ,DE,HU,JP,LV,PL,PR,SK,ZA,UA,AE,CZ        0   \n",
       "\n",
       "                                                    text  num_arms_clean  \\\n",
       "2907   \\nDocument:  Protocol \\n\\nDocument title: \\n\\n...             1.0   \n",
       "11393  \\nProtocol No. 15-214-01 Amendment 4.0 NKTR-21...             1.0   \n",
       "8242   \\ni \\n \\n\\nOfficial Title: A Phase 2, Multicen...             2.0   \n",
       "7572   \\nUCB 14 Dec 2016\\nClinical Study Protocol Dap...             4.0   \n",
       "5234   \\nVersion Date: 11/30/09 1 \\n\\nQEEG Predictors...             2.0   \n",
       "...                                                  ...             ...   \n",
       "4323   \\n    \\nCLINICAL STUDY PROTOCOL\\n\\nStudy Title...             3.0   \n",
       "8597   \\nProtocol BCX7353-203 BioCryst Pharmaceutical...             5.0   \n",
       "8598   \\nStudy Synopsis \\n \\n\\nA Phase 1/2 Open-Label...             1.0   \n",
       "3888   \\nOfficial Protocol Title: \\n\\nNCT number: \\nD...             1.0   \n",
       "2327   \\nCover Page for Protocol \\n \\n\\nSponsor name:...             3.0   \n",
       "\n",
       "       pred_num_arms_nb  pred_num_arms_spacy  pred_num_arms  \\\n",
       "2907                1.0                    0            1.0   \n",
       "11393               1.0                    0            1.0   \n",
       "8242                1.0                    0            1.0   \n",
       "7572                2.0                    0            2.0   \n",
       "5234                2.0                    0            2.0   \n",
       "...                 ...                  ...            ...   \n",
       "4323                2.0                    0            2.0   \n",
       "8597                1.0                    0            1.0   \n",
       "8598                2.0                    0            2.0   \n",
       "3888                1.0                    0            1.0   \n",
       "2327                2.0                    0            2.0   \n",
       "\n",
       "                                                   pages  \n",
       "2907                                                  {}  \n",
       "11393                                                 {}  \n",
       "8242   {'both treatment arms': [0], 'two treatment ar...  \n",
       "7572                                                  {}  \n",
       "5234                                                  {}  \n",
       "...                                                  ...  \n",
       "4323                                                  {}  \n",
       "8597                                                  {}  \n",
       "8598                                                  {}  \n",
       "3888                                                  {}  \n",
       "2327       {'3 armed': [0], 'three treatment arms': [0]}  \n",
       "\n",
       "[83 rows x 15 columns]"
      ]
     },
     "execution_count": 37,
     "metadata": {},
     "output_type": "execute_result"
    }
   ],
   "source": [
    "df_val"
   ]
  },
  {
   "cell_type": "code",
   "execution_count": null,
   "id": "84b0d6cd",
   "metadata": {},
   "outputs": [],
   "source": []
  },
  {
   "cell_type": "code",
   "execution_count": 38,
   "id": "cd8e7415",
   "metadata": {
    "scrolled": false
   },
   "outputs": [
    {
     "name": "stdout",
     "output_type": "stream",
     "text": [
      "Strongest predictors for class 0\n",
      "\n",
      "0\tremission\n",
      "1\tdose\n",
      "2\tseparated\n",
      "3\tstudies\n",
      "4\tdoses\n",
      "5\tdosing\n",
      "6\tcohort\n",
      "7\tassay\n",
      "8\ttreatment\n",
      "9\tproprietary\n",
      "10\tstudy\n",
      "11\teither\n",
      "12\tversus\n",
      "13\tboth\n",
      "14\toutcome\n",
      "15\tsubgroups\n",
      "16\tmonotherapy\n",
      "17\ttreatments\n",
      "18\teffects\n",
      "19\thypothesis\n",
      "20\tseparately\n",
      "21\toutcomes\n",
      "22\tseparate\n",
      "23\tcriterion\n",
      "24\tcontrol\n",
      "25\tcompared\n",
      "26\tratio\n",
      "27\texperimental\n",
      "28\tcohorts\n",
      "29\thealthy\n",
      "30\tcontrolled\n",
      "31\tgroup\n",
      "32\tdifferences\n",
      "33\tarm\n",
      "34\tvariables\n",
      "35\tgroups\n",
      "36\tvs\n",
      "37\tdouble\n",
      "38\trandomized\n",
      "39\tcompare\n",
      "40\tblinding\n",
      "41\tblinded\n",
      "42\tsubgroup\n",
      "43\tplacebo\n",
      "44\tblind\n",
      "45\trandomised\n",
      "46\tarms\n",
      "47\trandomization\n",
      "48\tpolytherapy\n",
      "49\tunblinding\n",
      "50\trandomise\n",
      "51\tunblinded\n",
      "52\trandomize\n",
      "53\trandomisation\n",
      "Strongest predictors for class 1\n",
      "\n",
      "0\trandomisation\n",
      "1\trandomization\n",
      "2\tcompare\n",
      "3\tsubgroup\n",
      "4\trandomize\n",
      "5\tunblinding\n",
      "6\trandomized\n",
      "7\tblinded\n",
      "8\tplacebo\n",
      "9\tvs\n",
      "10\tarms\n",
      "11\tblind\n",
      "12\trandomised\n",
      "13\tblinding\n",
      "14\tunblinded\n",
      "15\tvariables\n",
      "16\texperimental\n",
      "17\toutcomes\n",
      "18\tdouble\n",
      "19\tratio\n",
      "20\tcompared\n",
      "21\tcontrolled\n",
      "22\thypothesis\n",
      "23\tgroup\n",
      "24\tarm\n",
      "25\teffects\n",
      "26\tgroups\n",
      "27\tdifferences\n",
      "28\toutcome\n",
      "29\tcontrol\n",
      "30\tboth\n",
      "31\tversus\n",
      "32\tstudies\n",
      "33\teither\n",
      "34\ttreatment\n",
      "35\tstudy\n",
      "36\ttreatments\n",
      "37\thealthy\n",
      "38\tseparate\n",
      "39\tdoses\n",
      "40\tdosing\n",
      "41\tsubgroups\n",
      "42\tseparately\n",
      "43\tassay\n",
      "44\tdose\n",
      "45\tcriterion\n",
      "46\tseparated\n",
      "47\tmonotherapy\n",
      "48\tproprietary\n",
      "49\tcohort\n",
      "50\tremission\n",
      "51\tcohorts\n",
      "52\trandomise\n",
      "53\tpolytherapy\n",
      "Strongest predictors for class 2\n",
      "\n",
      "0\tpolytherapy\n",
      "1\trandomise\n",
      "2\tmonotherapy\n",
      "3\trandomisation\n",
      "4\tarm\n",
      "5\tproprietary\n",
      "6\tarms\n",
      "7\tgroups\n",
      "8\trandomize\n",
      "9\tseparately\n",
      "10\ttreatments\n",
      "11\tseparate\n",
      "12\tvariables\n",
      "13\tcriterion\n",
      "14\tunblinding\n",
      "15\tblinded\n",
      "16\tgroup\n",
      "17\tplacebo\n",
      "18\tassay\n",
      "19\tblind\n",
      "20\tcohort\n",
      "21\tvs\n",
      "22\texperimental\n",
      "23\tdouble\n",
      "24\trandomised\n",
      "25\tcontrolled\n",
      "26\ttreatment\n",
      "27\tunblinded\n",
      "28\tcontrol\n",
      "29\tstudy\n",
      "30\tcohorts\n",
      "31\teither\n",
      "32\trandomized\n",
      "33\tdoses\n",
      "34\tratio\n",
      "35\tboth\n",
      "36\tblinding\n",
      "37\tversus\n",
      "38\tdose\n",
      "39\tdosing\n",
      "40\tcompared\n",
      "41\toutcome\n",
      "42\tsubgroups\n",
      "43\tstudies\n",
      "44\tdifferences\n",
      "45\thypothesis\n",
      "46\trandomization\n",
      "47\teffects\n",
      "48\thealthy\n",
      "49\toutcomes\n",
      "50\tcompare\n",
      "51\tseparated\n",
      "52\tsubgroup\n",
      "53\tremission\n",
      "Strongest predictors for class 3\n",
      "\n",
      "0\tpolytherapy\n",
      "1\trandomise\n",
      "2\tcohorts\n",
      "3\tproprietary\n",
      "4\trandomised\n",
      "5\trandomize\n",
      "6\thealthy\n",
      "7\tblind\n",
      "8\tdifferences\n",
      "9\tunblinded\n",
      "10\tcohort\n",
      "11\tcriterion\n",
      "12\tdouble\n",
      "13\tplacebo\n",
      "14\tblinding\n",
      "15\tvs\n",
      "16\tdosing\n",
      "17\tblinded\n",
      "18\tsubgroup\n",
      "19\tseparately\n",
      "20\tcontrolled\n",
      "21\tmonotherapy\n",
      "22\tunblinding\n",
      "23\tseparate\n",
      "24\tgroups\n",
      "25\tsubgroups\n",
      "26\tseparated\n",
      "27\tdoses\n",
      "28\tarms\n",
      "29\tremission\n",
      "30\tassay\n",
      "31\trandomized\n",
      "32\teffects\n",
      "33\tdose\n",
      "34\tgroup\n",
      "35\tstudy\n",
      "36\ttreatments\n",
      "37\teither\n",
      "38\tcontrol\n",
      "39\trandomization\n",
      "40\tcompared\n",
      "41\tversus\n",
      "42\ttreatment\n",
      "43\tstudies\n",
      "44\thypothesis\n",
      "45\tarm\n",
      "46\tcompare\n",
      "47\tboth\n",
      "48\toutcome\n",
      "49\tratio\n",
      "50\texperimental\n",
      "51\toutcomes\n",
      "52\tvariables\n",
      "53\trandomisation\n",
      "Strongest predictors for class 4\n",
      "\n",
      "0\tpolytherapy\n",
      "1\trandomise\n",
      "2\tcohorts\n",
      "3\tcohort\n",
      "4\tunblinded\n",
      "5\tseparated\n",
      "6\tsubgroups\n",
      "7\thealthy\n",
      "8\tproprietary\n",
      "9\tcriterion\n",
      "10\tseparately\n",
      "11\tsubgroup\n",
      "12\tarms\n",
      "13\tassay\n",
      "14\tunblinding\n",
      "15\trandomize\n",
      "16\tblinding\n",
      "17\tseparate\n",
      "18\tdoses\n",
      "19\tdosing\n",
      "20\trandomisation\n",
      "21\tdose\n",
      "22\tgroups\n",
      "23\tgroup\n",
      "24\teither\n",
      "25\trandomised\n",
      "26\tmonotherapy\n",
      "27\tstudy\n",
      "28\tratio\n",
      "29\tarm\n",
      "30\ttreatments\n",
      "31\tremission\n",
      "32\tblinded\n",
      "33\tdifferences\n",
      "34\tblind\n",
      "35\tversus\n",
      "36\tcompare\n",
      "37\tcontrol\n",
      "38\tplacebo\n",
      "39\ttreatment\n",
      "40\tdouble\n",
      "41\tboth\n",
      "42\tvariables\n",
      "43\tcontrolled\n",
      "44\toutcome\n",
      "45\tstudies\n",
      "46\tcompared\n",
      "47\thypothesis\n",
      "48\trandomized\n",
      "49\trandomization\n",
      "50\toutcomes\n",
      "51\teffects\n",
      "52\texperimental\n",
      "53\tvs\n"
     ]
    }
   ],
   "source": [
    "fake_document = \" \".join(vectoriser.vocabulary_)\n",
    "vectorised_document = vectoriser.transform([fake_document])\n",
    "transformed_document = transformer.transform(vectorised_document)\n",
    "probas = np.zeros((transformed_document.shape[1]))\n",
    "\n",
    "for prediction_idx in range(5):\n",
    "    print(f\"Strongest predictors for class {prediction_idx}\\n\")\n",
    "    for i in range(transformed_document.shape[1]):\n",
    "        zeros = np.zeros(transformed_document.shape)\n",
    "        zeros[0, i] = transformed_document[0, i]\n",
    "        proba = nb.predict_log_proba(zeros)\n",
    "        probas[i] = proba[0, prediction_idx]\n",
    "\n",
    "    for ctr, j in enumerate(np.argsort(-probas)):\n",
    "        for w, i in vectoriser.vocabulary_.items():\n",
    "            if i == j:\n",
    "                print(f\"{ctr}\\t{w}\")"
   ]
  },
  {
   "cell_type": "code",
   "execution_count": null,
   "id": "6add3d7d",
   "metadata": {},
   "outputs": [],
   "source": []
  },
  {
   "cell_type": "code",
   "execution_count": null,
   "id": "b84e4ad5",
   "metadata": {},
   "outputs": [],
   "source": []
  }
 ],
 "metadata": {
  "kernelspec": {
   "display_name": "Python [conda env:py310] *",
   "language": "python",
   "name": "conda-env-py310-py"
  },
  "language_info": {
   "codemirror_mode": {
    "name": "ipython",
    "version": 3
   },
   "file_extension": ".py",
   "mimetype": "text/x-python",
   "name": "python",
   "nbconvert_exporter": "python",
   "pygments_lexer": "ipython3",
   "version": "3.10.4"
  }
 },
 "nbformat": 4,
 "nbformat_minor": 5
}
