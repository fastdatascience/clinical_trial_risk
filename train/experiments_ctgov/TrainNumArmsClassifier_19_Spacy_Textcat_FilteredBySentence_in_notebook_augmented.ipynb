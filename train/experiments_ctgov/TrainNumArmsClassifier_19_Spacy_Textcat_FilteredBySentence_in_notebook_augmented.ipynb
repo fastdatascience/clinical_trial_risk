{
  "cells": [
    {
      "cell_type": "markdown",
      "metadata": {
        "id": "view-in-github",
        "colab_type": "text"
      },
      "source": [
        "<a href=\"https://colab.research.google.com/github/fastdatascience/clinical_trial_risk/blob/fixes_nov_2022/train/ctgov/TrainNumArmsClassifier_19_Spacy_Textcat_FilteredBySentence_in_notebook_augmented.ipynb\" target=\"_parent\"><img src=\"https://colab.research.google.com/assets/colab-badge.svg\" alt=\"Open In Colab\"/></a>"
      ]
    },
    {
      "cell_type": "code",
      "execution_count": null,
      "id": "0557d6c8",
      "metadata": {
        "id": "0557d6c8"
      },
      "outputs": [],
      "source": [
        "import pandas as pd\n",
        "import re\n",
        "import os\n",
        "import sys\n",
        "import pickle as pkl\n",
        "import seaborn as sns\n",
        "from sklearn.metrics import accuracy_score, confusion_matrix\n",
        "from sklearn.metrics import ConfusionMatrixDisplay\n",
        "from sklearn.metrics import mean_absolute_error, mean_squared_error\n",
        "from sklearn.metrics import roc_auc_score\n",
        "from sklearn.metrics import roc_curve, auc\n",
        "from IPython.display import display\n",
        "import matplotlib.pyplot as plt\n",
        "import numpy as np\n",
        "import json\n",
        "\n",
        "#df_annotations = pd.read_csv(\"../../data/ctgov/annotations/all_annotations.csv\")\n"
      ]
    },
    {
      "cell_type": "markdown",
      "id": "4b2e7a73",
      "metadata": {
        "id": "4b2e7a73"
      },
      "source": [
        "# Get data"
      ]
    },
    {
      "cell_type": "code",
      "execution_count": null,
      "id": "c8ebd7a5",
      "metadata": {
        "id": "c8ebd7a5"
      },
      "outputs": [],
      "source": [
        "# with open(\"../../data/ctgov/protocols.pkl.gz\", \"rb\") as f:\n",
        "#     file_to_pages = pkl.load(f)"
      ]
    },
    {
      "cell_type": "code",
      "execution_count": null,
      "id": "6148cb3b",
      "metadata": {
        "id": "6148cb3b"
      },
      "outputs": [],
      "source": [
        "# import spacy\n",
        "# nlp = spacy.blank(\"en\")"
      ]
    },
    {
      "cell_type": "code",
      "execution_count": null,
      "id": "9fbe5bf0",
      "metadata": {
        "id": "9fbe5bf0",
        "scrolled": true
      },
      "outputs": [],
      "source": [
        "# texts = []\n",
        "\n",
        "# for i in range(len(df_annotations)):\n",
        "#     file_name = df_annotations.file.iloc[i]\n",
        "    \n",
        "#     pages= file_to_pages[file_name]\n",
        "    \n",
        "#     text = \"\"\n",
        "#     for page in pages:\n",
        "#         doc = nlp(page)\n",
        "        \n",
        "#         is_include = [False] * len(doc)\n",
        "#         for tok in doc:\n",
        "#             if tok.text.lower() in {\"arm\", \"arms\", \"armed\", \"cohort\", \"cohorts\", \"group\", \"groups\"}:\n",
        "#                 for token_index in range(tok.i - 20, tok.i + 20):\n",
        "#                     if token_index >= 0 and token_index < len(doc):\n",
        "#                         is_include[token_index] = True\n",
        "        \n",
        "#         for token_index in range(len(doc)):\n",
        "#             if is_include[token_index]:\n",
        "#                 text += doc[token_index].text + doc[token_index].whitespace_\n",
        "                \n",
        "#     if text == \"\":\n",
        "#         print (\"nothing found\", file_name, df_annotations.num_arms.iloc[i])\n",
        "#     else:\n",
        "#         print (\"found\", file_name, df_annotations.num_arms.iloc[i])\n",
        "\n",
        "#     texts.append(text)\n",
        "# df_annotations[\"text\"] = texts"
      ]
    },
    {
      "cell_type": "code",
      "execution_count": null,
      "id": "cfac2830",
      "metadata": {
        "id": "cfac2830"
      },
      "outputs": [],
      "source": [
        "# df_annotations.to_pickle(\"filtered_for_arm.pkl\")"
      ]
    },
    {
      "cell_type": "code",
      "source": [
        "from google.colab import drive\n",
        "drive.mount('/content/drive')"
      ],
      "metadata": {
        "colab": {
          "base_uri": "https://localhost:8080/"
        },
        "id": "EhFnhl7tNHeb",
        "outputId": "408757b9-c8b4-4773-d0a4-c52aeda50d45"
      },
      "id": "EhFnhl7tNHeb",
      "execution_count": null,
      "outputs": [
        {
          "output_type": "stream",
          "name": "stdout",
          "text": [
            "Mounted at /content/drive\n"
          ]
        }
      ]
    },
    {
      "cell_type": "code",
      "execution_count": null,
      "id": "068abf18",
      "metadata": {
        "id": "068abf18"
      },
      "outputs": [],
      "source": [
        "df_annotations = pd.read_csv(\"/content/drive/MyDrive/data/filtered_for_phase_arms_subjects.csv.bz2\")"
      ]
    },
    {
      "cell_type": "code",
      "execution_count": null,
      "id": "93361b2c",
      "metadata": {
        "id": "93361b2c"
      },
      "outputs": [],
      "source": [
        "# del file_to_pages"
      ]
    },
    {
      "cell_type": "code",
      "execution_count": null,
      "id": "f3322e30",
      "metadata": {
        "id": "f3322e30"
      },
      "outputs": [],
      "source": [
        "df_annotations_num_arms_known = df_annotations[~df_annotations.num_arms.isna() & ~df_annotations.text.isna()]"
      ]
    },
    {
      "cell_type": "code",
      "execution_count": null,
      "id": "26b24be0",
      "metadata": {
        "id": "26b24be0"
      },
      "outputs": [],
      "source": [
        "#df_annotations_num_arms_known = df_annotations_num_arms_known.sample(1000)"
      ]
    },
    {
      "cell_type": "code",
      "execution_count": null,
      "id": "df0ea588",
      "metadata": {
        "colab": {
          "base_uri": "https://localhost:8080/"
        },
        "id": "df0ea588",
        "outputId": "b7200628-32b3-4cc7-c029-f29562b6453f"
      },
      "outputs": [
        {
          "output_type": "stream",
          "name": "stderr",
          "text": [
            "/usr/local/lib/python3.7/dist-packages/ipykernel_launcher.py:5: SettingWithCopyWarning: \n",
            "A value is trying to be set on a copy of a slice from a DataFrame.\n",
            "Try using .loc[row_indexer,col_indexer] = value instead\n",
            "\n",
            "See the caveats in the documentation: https://pandas.pydata.org/pandas-docs/stable/user_guide/indexing.html#returning-a-view-versus-a-copy\n",
            "  \"\"\"\n"
          ]
        }
      ],
      "source": [
        "def get_num_arms_clean(num):\n",
        "    if num >= 5:\n",
        "        num = 5\n",
        "    return num\n",
        "df_annotations_num_arms_known[\"num_arms_clean\"] = df_annotations_num_arms_known[\"num_arms\"].apply(get_num_arms_clean)"
      ]
    },
    {
      "cell_type": "code",
      "execution_count": null,
      "id": "df49af99",
      "metadata": {
        "id": "df49af99"
      },
      "outputs": [],
      "source": [
        "df_train = df_annotations_num_arms_known[df_annotations_num_arms_known.train_val == \"train\"]"
      ]
    },
    {
      "cell_type": "code",
      "source": [
        "df_train.num_arms_clean.value_counts()"
      ],
      "metadata": {
        "colab": {
          "base_uri": "https://localhost:8080/"
        },
        "id": "SAuLkTlXdLc1",
        "outputId": "9e9934b9-9507-4324-e756-f850da1c1de5"
      },
      "id": "SAuLkTlXdLc1",
      "execution_count": null,
      "outputs": [
        {
          "output_type": "execute_result",
          "data": {
            "text/plain": [
              "2.0    4173\n",
              "1.0    2474\n",
              "3.0    1175\n",
              "4.0     739\n",
              "5.0     712\n",
              "Name: num_arms_clean, dtype: int64"
            ]
          },
          "metadata": {},
          "execution_count": 44
        }
      ]
    },
    {
      "cell_type": "code",
      "execution_count": null,
      "id": "6add3d7d",
      "metadata": {
        "id": "6add3d7d"
      },
      "outputs": [],
      "source": [
        "# TRAINING_DATA = [\n",
        "#     [\"My little kitty is so special\", {\"KAT0\": True}],\n",
        "#     [\"Dude, Totally, Yeah, Video Games\", {\"KAT1\": True}],\n",
        "#     [\"Should I pay $1,000 for the iPhone X?\", {\"KAT1\": True}],\n",
        "#     [\"The iPhone 8 reviews are here\", {\"KAT1\": True}],\n",
        "#     [\"Noa is a great cat name.\", {\"KAT0\": True}],\n",
        "#     [\"We got a new kitten!\", {\"KAT0\": True}]\n",
        "# ]\n",
        "\n",
        "TRAINING_DATA = []\n",
        "for idx in range(len(df_train)):\n",
        "    cats = {}\n",
        "    for a in range(1, 6):\n",
        "        cats[str(a)] = 0\n",
        "    cats[str(int(df_train.num_arms_clean.iloc[idx]))] = 1\n",
        "    text = df_train.text.iloc[idx]\n",
        "    if len(text) > 1000000:\n",
        "        text = text[:1000000]\n",
        "    \n",
        "    aug = 1\n",
        "    if df_train.num_arms_clean.iloc[idx] == 3:\n",
        "      aug = 2\n",
        "    elif df_train.num_arms_clean.iloc[idx] in [4,5]:\n",
        "      aug = 3\n",
        "    for i in range(aug):\n",
        "      TRAINING_DATA.append([text , cats])"
      ]
    },
    {
      "cell_type": "code",
      "execution_count": 46,
      "id": "6b88f1c9",
      "metadata": {
        "id": "6b88f1c9",
        "colab": {
          "base_uri": "https://localhost:8080/",
          "height": 380
        },
        "outputId": "2e026103-77fa-4713-d156-50672121b273"
      },
      "outputs": [
        {
          "output_type": "error",
          "ename": "KeyboardInterrupt",
          "evalue": "ignored",
          "traceback": [
            "\u001b[0;31m---------------------------------------------------------------------------\u001b[0m",
            "\u001b[0;31mKeyboardInterrupt\u001b[0m                         Traceback (most recent call last)",
            "\u001b[0;32m<ipython-input-46-f6e1ba2acd04>\u001b[0m in \u001b[0;36m<module>\u001b[0;34m\u001b[0m\n\u001b[1;32m     34\u001b[0m     \u001b[0;31m# Batch the examples and iterate over them\u001b[0m\u001b[0;34m\u001b[0m\u001b[0;34m\u001b[0m\u001b[0;34m\u001b[0m\u001b[0m\n\u001b[1;32m     35\u001b[0m     \u001b[0;32mfor\u001b[0m \u001b[0mbatch\u001b[0m \u001b[0;32min\u001b[0m \u001b[0mspacy\u001b[0m\u001b[0;34m.\u001b[0m\u001b[0mutil\u001b[0m\u001b[0;34m.\u001b[0m\u001b[0mminibatch\u001b[0m\u001b[0;34m(\u001b[0m\u001b[0mTRAINING_DATA\u001b[0m\u001b[0;34m,\u001b[0m \u001b[0msize\u001b[0m\u001b[0;34m=\u001b[0m\u001b[0;36m4\u001b[0m\u001b[0;34m)\u001b[0m\u001b[0;34m:\u001b[0m\u001b[0;34m\u001b[0m\u001b[0;34m\u001b[0m\u001b[0m\n\u001b[0;32m---> 36\u001b[0;31m         \u001b[0mtexts\u001b[0m \u001b[0;34m=\u001b[0m \u001b[0;34m[\u001b[0m\u001b[0mnlp\u001b[0m\u001b[0;34m.\u001b[0m\u001b[0mmake_doc\u001b[0m\u001b[0;34m(\u001b[0m\u001b[0mtext\u001b[0m\u001b[0;34m)\u001b[0m \u001b[0;32mfor\u001b[0m \u001b[0mtext\u001b[0m\u001b[0;34m,\u001b[0m \u001b[0mentities\u001b[0m \u001b[0;32min\u001b[0m \u001b[0mbatch\u001b[0m\u001b[0;34m]\u001b[0m\u001b[0;34m\u001b[0m\u001b[0;34m\u001b[0m\u001b[0m\n\u001b[0m\u001b[1;32m     37\u001b[0m         \u001b[0mannotations\u001b[0m \u001b[0;34m=\u001b[0m \u001b[0;34m[\u001b[0m\u001b[0;34m{\u001b[0m\u001b[0;34m\"cats\"\u001b[0m\u001b[0;34m:\u001b[0m \u001b[0mentities\u001b[0m\u001b[0;34m}\u001b[0m \u001b[0;32mfor\u001b[0m \u001b[0mtext\u001b[0m\u001b[0;34m,\u001b[0m \u001b[0mentities\u001b[0m \u001b[0;32min\u001b[0m \u001b[0mbatch\u001b[0m\u001b[0;34m]\u001b[0m\u001b[0;34m\u001b[0m\u001b[0;34m\u001b[0m\u001b[0m\n\u001b[1;32m     38\u001b[0m \u001b[0;34m\u001b[0m\u001b[0m\n",
            "\u001b[0;32m<ipython-input-46-f6e1ba2acd04>\u001b[0m in \u001b[0;36m<listcomp>\u001b[0;34m(.0)\u001b[0m\n\u001b[1;32m     34\u001b[0m     \u001b[0;31m# Batch the examples and iterate over them\u001b[0m\u001b[0;34m\u001b[0m\u001b[0;34m\u001b[0m\u001b[0;34m\u001b[0m\u001b[0m\n\u001b[1;32m     35\u001b[0m     \u001b[0;32mfor\u001b[0m \u001b[0mbatch\u001b[0m \u001b[0;32min\u001b[0m \u001b[0mspacy\u001b[0m\u001b[0;34m.\u001b[0m\u001b[0mutil\u001b[0m\u001b[0;34m.\u001b[0m\u001b[0mminibatch\u001b[0m\u001b[0;34m(\u001b[0m\u001b[0mTRAINING_DATA\u001b[0m\u001b[0;34m,\u001b[0m \u001b[0msize\u001b[0m\u001b[0;34m=\u001b[0m\u001b[0;36m4\u001b[0m\u001b[0;34m)\u001b[0m\u001b[0;34m:\u001b[0m\u001b[0;34m\u001b[0m\u001b[0;34m\u001b[0m\u001b[0m\n\u001b[0;32m---> 36\u001b[0;31m         \u001b[0mtexts\u001b[0m \u001b[0;34m=\u001b[0m \u001b[0;34m[\u001b[0m\u001b[0mnlp\u001b[0m\u001b[0;34m.\u001b[0m\u001b[0mmake_doc\u001b[0m\u001b[0;34m(\u001b[0m\u001b[0mtext\u001b[0m\u001b[0;34m)\u001b[0m \u001b[0;32mfor\u001b[0m \u001b[0mtext\u001b[0m\u001b[0;34m,\u001b[0m \u001b[0mentities\u001b[0m \u001b[0;32min\u001b[0m \u001b[0mbatch\u001b[0m\u001b[0;34m]\u001b[0m\u001b[0;34m\u001b[0m\u001b[0;34m\u001b[0m\u001b[0m\n\u001b[0m\u001b[1;32m     37\u001b[0m         \u001b[0mannotations\u001b[0m \u001b[0;34m=\u001b[0m \u001b[0;34m[\u001b[0m\u001b[0;34m{\u001b[0m\u001b[0;34m\"cats\"\u001b[0m\u001b[0;34m:\u001b[0m \u001b[0mentities\u001b[0m\u001b[0;34m}\u001b[0m \u001b[0;32mfor\u001b[0m \u001b[0mtext\u001b[0m\u001b[0;34m,\u001b[0m \u001b[0mentities\u001b[0m \u001b[0;32min\u001b[0m \u001b[0mbatch\u001b[0m\u001b[0;34m]\u001b[0m\u001b[0;34m\u001b[0m\u001b[0;34m\u001b[0m\u001b[0m\n\u001b[1;32m     38\u001b[0m \u001b[0;34m\u001b[0m\u001b[0m\n",
            "\u001b[0;32m/usr/local/lib/python3.7/dist-packages/spacy/language.py\u001b[0m in \u001b[0;36mmake_doc\u001b[0;34m(self, text)\u001b[0m\n\u001b[1;32m   1095\u001b[0m                 \u001b[0mErrors\u001b[0m\u001b[0;34m.\u001b[0m\u001b[0mE088\u001b[0m\u001b[0;34m.\u001b[0m\u001b[0mformat\u001b[0m\u001b[0;34m(\u001b[0m\u001b[0mlength\u001b[0m\u001b[0;34m=\u001b[0m\u001b[0mlen\u001b[0m\u001b[0;34m(\u001b[0m\u001b[0mtext\u001b[0m\u001b[0;34m)\u001b[0m\u001b[0;34m,\u001b[0m \u001b[0mmax_length\u001b[0m\u001b[0;34m=\u001b[0m\u001b[0mself\u001b[0m\u001b[0;34m.\u001b[0m\u001b[0mmax_length\u001b[0m\u001b[0;34m)\u001b[0m\u001b[0;34m\u001b[0m\u001b[0;34m\u001b[0m\u001b[0m\n\u001b[1;32m   1096\u001b[0m             )\n\u001b[0;32m-> 1097\u001b[0;31m         \u001b[0;32mreturn\u001b[0m \u001b[0mself\u001b[0m\u001b[0;34m.\u001b[0m\u001b[0mtokenizer\u001b[0m\u001b[0;34m(\u001b[0m\u001b[0mtext\u001b[0m\u001b[0;34m)\u001b[0m\u001b[0;34m\u001b[0m\u001b[0;34m\u001b[0m\u001b[0m\n\u001b[0m\u001b[1;32m   1098\u001b[0m \u001b[0;34m\u001b[0m\u001b[0m\n\u001b[1;32m   1099\u001b[0m     \u001b[0;32mdef\u001b[0m \u001b[0m_ensure_doc\u001b[0m\u001b[0;34m(\u001b[0m\u001b[0mself\u001b[0m\u001b[0;34m,\u001b[0m \u001b[0mdoc_like\u001b[0m\u001b[0;34m:\u001b[0m \u001b[0mUnion\u001b[0m\u001b[0;34m[\u001b[0m\u001b[0mstr\u001b[0m\u001b[0;34m,\u001b[0m \u001b[0mDoc\u001b[0m\u001b[0;34m,\u001b[0m \u001b[0mbytes\u001b[0m\u001b[0;34m]\u001b[0m\u001b[0;34m)\u001b[0m \u001b[0;34m->\u001b[0m \u001b[0mDoc\u001b[0m\u001b[0;34m:\u001b[0m\u001b[0;34m\u001b[0m\u001b[0;34m\u001b[0m\u001b[0m\n",
            "\u001b[0;32m/usr/local/lib/python3.7/dist-packages/spacy/tokenizer.pyx\u001b[0m in \u001b[0;36mspacy.tokenizer.Tokenizer.__call__\u001b[0;34m()\u001b[0m\n",
            "\u001b[0;32m/usr/local/lib/python3.7/dist-packages/spacy/tokenizer.pyx\u001b[0m in \u001b[0;36mspacy.tokenizer.Tokenizer._apply_special_cases\u001b[0;34m()\u001b[0m\n",
            "\u001b[0;32m/usr/local/lib/python3.7/dist-packages/spacy/tokenizer.pyx\u001b[0m in \u001b[0;36mspacy.tokenizer.Tokenizer._prepare_special_spans\u001b[0;34m()\u001b[0m\n",
            "\u001b[0;32m/usr/local/lib/python3.7/dist-packages/spacy/tokens/doc.pyx\u001b[0m in \u001b[0;36mspacy.tokens.doc.Doc.__getitem__\u001b[0;34m()\u001b[0m\n",
            "\u001b[0;32m/usr/local/lib/python3.7/dist-packages/spacy/util.py\u001b[0m in \u001b[0;36mnormalize_slice\u001b[0;34m(length, start, stop, step)\u001b[0m\n\u001b[1;32m   1242\u001b[0m \u001b[0;34m\u001b[0m\u001b[0m\n\u001b[1;32m   1243\u001b[0m \u001b[0;34m\u001b[0m\u001b[0m\n\u001b[0;32m-> 1244\u001b[0;31m def normalize_slice(\n\u001b[0m\u001b[1;32m   1245\u001b[0m     \u001b[0mlength\u001b[0m\u001b[0;34m:\u001b[0m \u001b[0mint\u001b[0m\u001b[0;34m,\u001b[0m \u001b[0mstart\u001b[0m\u001b[0;34m:\u001b[0m \u001b[0mint\u001b[0m\u001b[0;34m,\u001b[0m \u001b[0mstop\u001b[0m\u001b[0;34m:\u001b[0m \u001b[0mint\u001b[0m\u001b[0;34m,\u001b[0m \u001b[0mstep\u001b[0m\u001b[0;34m:\u001b[0m \u001b[0mOptional\u001b[0m\u001b[0;34m[\u001b[0m\u001b[0mint\u001b[0m\u001b[0;34m]\u001b[0m \u001b[0;34m=\u001b[0m \u001b[0;32mNone\u001b[0m\u001b[0;34m\u001b[0m\u001b[0;34m\u001b[0m\u001b[0m\n\u001b[1;32m   1246\u001b[0m ) -> Tuple[int, int]:\n",
            "\u001b[0;31mKeyboardInterrupt\u001b[0m: "
          ]
        }
      ],
      "source": [
        "import spacy\n",
        "# Add imports for example, as well as textcat config...\n",
        "from spacy.training import Example\n",
        "from spacy.pipeline.textcat import single_label_bow_config, single_label_default_config\n",
        "from thinc.api import Config\n",
        "import random\n",
        "\n",
        "# labels should be one-hot encoded\n",
        "\n",
        "\n",
        "\n",
        "# bow\n",
        "# config = Config().from_str(single_label_bow_config)\n",
        "\n",
        "# textensemble with attention\n",
        "config = Config().from_str(single_label_default_config)\n",
        "\n",
        "nlp = spacy.blank(\"en\")\n",
        "# now uses `add_pipe` instead\n",
        "category = nlp.add_pipe(\"textcat\", last=True, config=config)\n",
        "for a in range(1, 6):\n",
        "    category.add_label(str(a))\n",
        "\n",
        "\n",
        "# Start the training\n",
        "nlp.begin_training()\n",
        "\n",
        "# Loop for 10 iterations\n",
        "for itn in range(100):\n",
        "    # Shuffle the training data\n",
        "    random.shuffle(TRAINING_DATA)\n",
        "    losses = {}\n",
        "\n",
        "    # Batch the examples and iterate over them\n",
        "    for batch in spacy.util.minibatch(TRAINING_DATA, size=4):\n",
        "        texts = [nlp.make_doc(text) for text, entities in batch]\n",
        "        annotations = [{\"cats\": entities} for text, entities in batch]\n",
        "\n",
        "        # uses an example object rather than text/annotation tuple\n",
        "        examples = [Example.from_dict(doc, annotation) for doc, annotation in zip(\n",
        "            texts, annotations\n",
        "        )]\n",
        "        nlp.update(examples, losses=losses)\n",
        "    if itn % 20 == 0:\n",
        "        print(losses)\n",
        "        break"
      ]
    },
    {
      "cell_type": "code",
      "source": [
        "itn"
      ],
      "metadata": {
        "colab": {
          "base_uri": "https://localhost:8080/"
        },
        "id": "NG6mW6TIqKqZ",
        "outputId": "82e93880-944a-4e2b-b2b5-5129c2010663"
      },
      "id": "NG6mW6TIqKqZ",
      "execution_count": 48,
      "outputs": [
        {
          "output_type": "execute_result",
          "data": {
            "text/plain": [
              "0"
            ]
          },
          "metadata": {},
          "execution_count": 48
        }
      ]
    },
    {
      "cell_type": "code",
      "source": [
        "1"
      ],
      "metadata": {
        "colab": {
          "base_uri": "https://localhost:8080/"
        },
        "id": "oLHIqw_bqCDX",
        "outputId": "61ac4d7f-013d-4b5a-e2d4-8cf55249cd27"
      },
      "id": "oLHIqw_bqCDX",
      "execution_count": 47,
      "outputs": [
        {
          "output_type": "execute_result",
          "data": {
            "text/plain": [
              "1"
            ]
          },
          "metadata": {},
          "execution_count": 47
        }
      ]
    },
    {
      "cell_type": "code",
      "execution_count": 49,
      "id": "9b23d914",
      "metadata": {
        "id": "9b23d914"
      },
      "outputs": [],
      "source": [
        "df_annotations_num_arms_known = df_annotations[~df_annotations.num_arms.isna()]"
      ]
    },
    {
      "cell_type": "code",
      "execution_count": 50,
      "id": "f2679198",
      "metadata": {
        "id": "f2679198",
        "colab": {
          "base_uri": "https://localhost:8080/"
        },
        "outputId": "e7219882-e8c2-48af-a366-fa00f45e2b40"
      },
      "outputs": [
        {
          "output_type": "stream",
          "name": "stderr",
          "text": [
            "/usr/local/lib/python3.7/dist-packages/ipykernel_launcher.py:1: SettingWithCopyWarning: \n",
            "A value is trying to be set on a copy of a slice from a DataFrame.\n",
            "Try using .loc[row_indexer,col_indexer] = value instead\n",
            "\n",
            "See the caveats in the documentation: https://pandas.pydata.org/pandas-docs/stable/user_guide/indexing.html#returning-a-view-versus-a-copy\n",
            "  \"\"\"Entry point for launching an IPython kernel.\n"
          ]
        }
      ],
      "source": [
        "df_annotations_num_arms_known[\"num_arms_clean\"] = df_annotations_num_arms_known[\"num_arms\"].apply(get_num_arms_clean)"
      ]
    },
    {
      "cell_type": "code",
      "execution_count": 51,
      "id": "5f720fbf",
      "metadata": {
        "id": "5f720fbf"
      },
      "outputs": [],
      "source": [
        "df_val = df_annotations_num_arms_known[df_annotations_num_arms_known.train_val == \"val\"]"
      ]
    },
    {
      "cell_type": "code",
      "execution_count": null,
      "id": "d9a331d5",
      "metadata": {
        "id": "d9a331d5"
      },
      "outputs": [],
      "source": [
        "predictions = []\n",
        "for idx in range(len(df_val)):\n",
        "    doc = nlp(df_val.text.apply(str).iloc[idx])\n",
        "    predictions.append(doc.cats)"
      ]
    },
    {
      "cell_type": "code",
      "execution_count": null,
      "id": "68ebd9f0",
      "metadata": {
        "id": "68ebd9f0",
        "scrolled": true
      },
      "outputs": [],
      "source": [
        "df_val[\"y_pred\"] = [int(max(p, key=p.get)) for p in predictions]"
      ]
    },
    {
      "cell_type": "code",
      "source": [
        "y_pred_proba = np.asarray([np.asarray([p.get(str(i)) for i in range(1,6)]) for p in predictions])"
      ],
      "metadata": {
        "id": "4WfdxUgkMlvo"
      },
      "id": "4WfdxUgkMlvo",
      "execution_count": null,
      "outputs": []
    },
    {
      "cell_type": "code",
      "execution_count": null,
      "id": "118aef49",
      "metadata": {
        "id": "118aef49"
      },
      "outputs": [],
      "source": [
        "num_arms_ground_truths = df_val.num_arms_clean\n",
        "pred_num_arms = df_val[\"y_pred\"]"
      ]
    },
    {
      "cell_type": "code",
      "execution_count": null,
      "id": "73495a5c",
      "metadata": {
        "id": "73495a5c"
      },
      "outputs": [],
      "source": [
        "acc = accuracy_score(num_arms_ground_truths, pred_num_arms)\n",
        "print (f\"Num arms accuracy {acc}\")"
      ]
    },
    {
      "cell_type": "code",
      "execution_count": null,
      "id": "775ae91e",
      "metadata": {
        "id": "775ae91e"
      },
      "outputs": [],
      "source": [
        "ConfusionMatrixDisplay.from_predictions(num_arms_ground_truths, pred_num_arms)\n",
        "plt.xticks(rotation=90)\n",
        ";"
      ]
    },
    {
      "cell_type": "code",
      "execution_count": null,
      "id": "62319c37",
      "metadata": {
        "id": "62319c37"
      },
      "outputs": [],
      "source": [
        "# nlp.to_disk(\"/content/drive/MyDrive/data/textcat_numarms_19.spacy\")\n"
      ]
    },
    {
      "cell_type": "code",
      "source": [
        "pred_num_arms_proba= y_pred_proba"
      ],
      "metadata": {
        "id": "wRdsyi-8bWLb"
      },
      "id": "wRdsyi-8bWLb",
      "execution_count": null,
      "outputs": []
    },
    {
      "cell_type": "code",
      "execution_count": null,
      "id": "16527f52",
      "metadata": {
        "id": "16527f52"
      },
      "outputs": [],
      "source": [
        "all_aucs = []\n",
        "from sklearn.metrics import roc_auc_score\n",
        "for i in range(1,5+1):\n",
        "  roc_auc = roc_auc_score(num_arms_ground_truths == i, pred_num_arms_proba[:, i - 1])\n",
        "  print (f\"Num arms ROC AUC {roc_auc} for {i} arm(s)\")\n",
        "  all_aucs.append(roc_auc)\n",
        "print (\"Average\", np.mean(all_aucs))"
      ]
    },
    {
      "cell_type": "code",
      "source": [
        "plt.figure()\n",
        "lw = 2\n",
        "    \n",
        "for i in range(1,6):\n",
        "    fpr, tpr, _ = roc_curve(num_arms_ground_truths == i, pred_num_arms_proba[:, i - 1])\n",
        "    roc_auc = auc(fpr, tpr)\n",
        "    plt.plot(\n",
        "        fpr,\n",
        "        tpr,\n",
        "        # color=\"darkorange\",\n",
        "        lw=lw,\n",
        "        label=f\"ROC curve {i} arms (area = {roc_auc:0.2f})\"\n",
        "    )\n",
        "    plt.plot([0, 1], [0, 1], color=\"gray\", alpha=0.5, lw=lw, linestyle=\"--\")\n",
        "plt.xlim([0.0, 1.0])\n",
        "plt.ylim([0.0, 1.05])\n",
        "plt.xlabel(\"False Positive Rate\")\n",
        "plt.ylabel(\"True Positive Rate\")\n",
        "plt.title(\"Receiver operating characteristic example\")\n",
        "plt.legend(loc=\"lower right\")\n",
        "plt.show()"
      ],
      "metadata": {
        "id": "bvS_8GcTMgCl"
      },
      "id": "bvS_8GcTMgCl",
      "execution_count": null,
      "outputs": []
    },
    {
      "cell_type": "code",
      "source": [],
      "metadata": {
        "id": "X4nPdCHsbt8H"
      },
      "id": "X4nPdCHsbt8H",
      "execution_count": null,
      "outputs": []
    }
  ],
  "metadata": {
    "colab": {
      "provenance": [],
      "machine_shape": "hm",
      "include_colab_link": true
    },
    "kernelspec": {
      "display_name": "Python [conda env:py310] *",
      "language": "python",
      "name": "conda-env-py310-py"
    },
    "language_info": {
      "codemirror_mode": {
        "name": "ipython",
        "version": 3
      },
      "file_extension": ".py",
      "mimetype": "text/x-python",
      "name": "python",
      "nbconvert_exporter": "python",
      "pygments_lexer": "ipython3",
      "version": "3.10.4"
    },
    "gpuClass": "standard"
  },
  "nbformat": 4,
  "nbformat_minor": 5
}