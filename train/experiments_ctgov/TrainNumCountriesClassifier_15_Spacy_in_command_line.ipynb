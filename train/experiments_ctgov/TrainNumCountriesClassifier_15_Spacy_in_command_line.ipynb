{
  "cells": [
    {
      "cell_type": "markdown",
      "metadata": {
        "id": "view-in-github",
        "colab_type": "text"
      },
      "source": [
        "<a href=\"https://colab.research.google.com/github/fastdatascience/clinical_trial_risk/blob/fixes_nov_2022/train/ctgov/TrainNumCountriesClassifier_15_Spacy_in_command_line.ipynb\" target=\"_parent\"><img src=\"https://colab.research.google.com/assets/colab-badge.svg\" alt=\"Open In Colab\"/></a>"
      ]
    },
    {
      "cell_type": "code",
      "execution_count": 11,
      "metadata": {
        "id": "0557d6c8"
      },
      "outputs": [],
      "source": [
        "import pandas as pd\n",
        "import re\n",
        "import os\n",
        "import sys\n",
        "import pickle as pkl\n",
        "import seaborn as sns\n",
        "from sklearn.metrics import accuracy_score, confusion_matrix\n",
        "from sklearn.metrics import ConfusionMatrixDisplay\n",
        "from sklearn.metrics import mean_absolute_error, mean_squared_error\n",
        "from sklearn.metrics import roc_auc_score\n",
        "from sklearn.metrics import roc_curve, auc\n",
        "from IPython.display import display\n",
        "import matplotlib.pyplot as plt\n",
        "import numpy as np\n",
        "import json\n",
        "\n"
      ],
      "id": "0557d6c8"
    },
    {
      "cell_type": "code",
      "execution_count": 12,
      "metadata": {
        "colab": {
          "base_uri": "https://localhost:8080/"
        },
        "id": "3cTsWWseCCMc",
        "outputId": "45fe613a-a881-43bc-804a-3ce89c7a2b46"
      },
      "outputs": [
        {
          "output_type": "stream",
          "name": "stdout",
          "text": [
            "Drive already mounted at /content/drive; to attempt to forcibly remount, call drive.mount(\"/content/drive\", force_remount=True).\n"
          ]
        }
      ],
      "source": [
        "from google.colab import drive\n",
        "drive.mount('/content/drive')"
      ],
      "id": "3cTsWWseCCMc"
    },
    {
      "cell_type": "code",
      "execution_count": 13,
      "metadata": {
        "id": "92CbJN_cCFul"
      },
      "outputs": [],
      "source": [
        "df_annotations = pd.read_csv(\"/content/drive/MyDrive/data/all_annotations.csv\")\n"
      ],
      "id": "92CbJN_cCFul"
    },
    {
      "cell_type": "markdown",
      "metadata": {
        "id": "4b2e7a73"
      },
      "source": [
        "# Get data"
      ],
      "id": "4b2e7a73"
    },
    {
      "cell_type": "code",
      "execution_count": 14,
      "metadata": {
        "id": "c8ebd7a5"
      },
      "outputs": [],
      "source": [
        "with open(\"/content/drive/MyDrive/data/protocols.pkl.gz\", \"rb\") as f:\n",
        "    file_to_pages = pkl.load(f)"
      ],
      "id": "c8ebd7a5"
    },
    {
      "cell_type": "code",
      "execution_count": 15,
      "metadata": {
        "id": "9fbe5bf0"
      },
      "outputs": [],
      "source": [
        "texts = []\n",
        "\n",
        "for i in range(len(df_annotations)):\n",
        "    file_name = df_annotations.file.iloc[i]\n",
        "    \n",
        "    pages= file_to_pages[file_name]\n",
        "    # Limit to first 3 pages because of memory constraints\n",
        "    if len(pages) > 3:\n",
        "      pages = pages[:3]\n",
        "\n",
        "    texts.append(\" \".join(pages))\n",
        "df_annotations[\"text\"] = texts"
      ],
      "id": "9fbe5bf0"
    },
    {
      "cell_type": "code",
      "source": [
        "def get_num_countries(x):\n",
        "  if x is not None and type(x) is str:\n",
        "    return len(x.split(\",\"))\n",
        "  return None"
      ],
      "metadata": {
        "id": "JniZD4eZDqjn"
      },
      "id": "JniZD4eZDqjn",
      "execution_count": 16,
      "outputs": []
    },
    {
      "cell_type": "code",
      "execution_count": 17,
      "metadata": {
        "id": "f3322e30"
      },
      "outputs": [],
      "source": [
        "df_annotations[\"num_countries\"] = df_annotations.country.apply(get_num_countries)"
      ],
      "id": "f3322e30"
    },
    {
      "cell_type": "code",
      "source": [
        "df_annotations[\"num_countries\"].value_counts()"
      ],
      "metadata": {
        "colab": {
          "base_uri": "https://localhost:8080/"
        },
        "id": "nZgEgMEKD4XR",
        "outputId": "23c0c2cd-6377-4f96-ed7a-991abf6386ec"
      },
      "id": "nZgEgMEKD4XR",
      "execution_count": 18,
      "outputs": [
        {
          "output_type": "execute_result",
          "data": {
            "text/plain": [
              "1.0     7998\n",
              "2.0      726\n",
              "3.0      341\n",
              "4.0      263\n",
              "5.0      230\n",
              "6.0      225\n",
              "7.0      193\n",
              "8.0      176\n",
              "10.0     155\n",
              "9.0      137\n",
              "11.0     135\n",
              "12.0     116\n",
              "13.0     109\n",
              "14.0      92\n",
              "15.0      90\n",
              "17.0      78\n",
              "18.0      68\n",
              "16.0      65\n",
              "21.0      57\n",
              "20.0      56\n",
              "19.0      54\n",
              "23.0      47\n",
              "22.0      44\n",
              "24.0      35\n",
              "25.0      31\n",
              "26.0      27\n",
              "29.0      22\n",
              "30.0      21\n",
              "27.0      20\n",
              "31.0      19\n",
              "28.0      18\n",
              "32.0      17\n",
              "33.0      14\n",
              "41.0      11\n",
              "34.0      11\n",
              "38.0       8\n",
              "39.0       8\n",
              "37.0       7\n",
              "43.0       7\n",
              "36.0       6\n",
              "35.0       6\n",
              "44.0       6\n",
              "40.0       6\n",
              "48.0       6\n",
              "47.0       3\n",
              "42.0       2\n",
              "49.0       2\n",
              "50.0       2\n",
              "45.0       1\n",
              "58.0       1\n",
              "46.0       1\n",
              "62.0       1\n",
              "51.0       1\n",
              "54.0       1\n",
              "Name: num_countries, dtype: int64"
            ]
          },
          "metadata": {},
          "execution_count": 18
        }
      ]
    },
    {
      "cell_type": "code",
      "execution_count": 19,
      "metadata": {
        "id": "df0ea588"
      },
      "outputs": [],
      "source": [
        "def get_is_international(num):\n",
        "    if num is None or pd.isna(num):\n",
        "      return None\n",
        "    if num >= 10:\n",
        "      return 2\n",
        "    if num >= 2:\n",
        "      return 1\n",
        "    return 0\n",
        "df_annotations[\"is_international\"] = df_annotations[\"num_countries\"].apply(get_is_international)"
      ],
      "id": "df0ea588"
    },
    {
      "cell_type": "code",
      "source": [
        "df_annotations[\"is_international\"].value_counts()"
      ],
      "metadata": {
        "colab": {
          "base_uri": "https://localhost:8080/"
        },
        "id": "dMes2ySpmDep",
        "outputId": "08cae3bd-ded5-41c2-d599-feed0ca531ad"
      },
      "id": "dMes2ySpmDep",
      "execution_count": 20,
      "outputs": [
        {
          "output_type": "execute_result",
          "data": {
            "text/plain": [
              "0.0    7998\n",
              "1.0    2291\n",
              "2.0    1487\n",
              "Name: is_international, dtype: int64"
            ]
          },
          "metadata": {},
          "execution_count": 20
        }
      ]
    },
    {
      "cell_type": "markdown",
      "metadata": {
        "id": "a2e91853"
      },
      "source": [
        "# Train and evaluate the number of countries extractor"
      ],
      "id": "a2e91853"
    },
    {
      "cell_type": "code",
      "execution_count": 21,
      "metadata": {
        "id": "471252e4"
      },
      "outputs": [],
      "source": [
        "df_train = df_annotations[(df_annotations.train_val == \"train\") & (~df_annotations.is_international.isna())]"
      ],
      "id": "471252e4"
    },
    {
      "cell_type": "code",
      "source": [
        "df_train_to_augment = df_train[df_train.is_international == 1]\n",
        "df_train_to_augment2 = df_train[df_train.is_international == 2]"
      ],
      "metadata": {
        "id": "OoHXMePdlfqc"
      },
      "id": "OoHXMePdlfqc",
      "execution_count": 22,
      "outputs": []
    },
    {
      "cell_type": "code",
      "source": [
        "df_train_augmented = pd.concat([df_train, df_train_to_augment, df_train_to_augment2, df_train_to_augment2])"
      ],
      "metadata": {
        "id": "WM1BHqRamTcd"
      },
      "id": "WM1BHqRamTcd",
      "execution_count": 24,
      "outputs": []
    },
    {
      "cell_type": "code",
      "source": [
        "df_train_augmented[\"is_international\"].value_counts()"
      ],
      "metadata": {
        "colab": {
          "base_uri": "https://localhost:8080/"
        },
        "id": "wYMXvtjHmcBI",
        "outputId": "c2a60304-d697-4cb7-a174-90ee1c49f2cc"
      },
      "id": "wYMXvtjHmcBI",
      "execution_count": 25,
      "outputs": [
        {
          "output_type": "execute_result",
          "data": {
            "text/plain": [
              "0.0    6375\n",
              "1.0    3686\n",
              "2.0    3627\n",
              "Name: is_international, dtype: int64"
            ]
          },
          "metadata": {},
          "execution_count": 25
        }
      ]
    },
    {
      "cell_type": "code",
      "execution_count": 26,
      "metadata": {
        "id": "b8ac14ec"
      },
      "outputs": [],
      "source": [
        "df_val = df_annotations[df_annotations.train_val == \"val\"]"
      ],
      "id": "b8ac14ec"
    },
    {
      "cell_type": "markdown",
      "source": [
        "# Begin Spacy"
      ],
      "metadata": {
        "id": "SfBgW4gfxcij"
      },
      "id": "SfBgW4gfxcij"
    },
    {
      "cell_type": "code",
      "source": [
        "import spacy\n",
        "\n",
        "nlp = spacy.blank(\"en\")\n",
        "from spacy.tokens import DocBin\n",
        "\n",
        "docs_train = DocBin()\n",
        "docs_val = DocBin()\n",
        "\n",
        "for idx in range(len(df_annotations)):\n",
        "  if idx % 100 == 0:\n",
        "    print (idx, len(df_annotations))\n",
        "  if df_annotations.train_val.iloc[idx] == \"train\":\n",
        "    docs_list = docs_train\n",
        "  else:\n",
        "    docs_list = docs_val\n",
        "  text = str(df_annotations.text.iloc[idx])\n",
        "  if len(text) > 100000:\n",
        "      text = text[:100000]\n",
        "  doc = nlp(text)\n",
        "\n",
        "  cats = {\"0\":0,\"1\":0, \"2\":0}\n",
        "  is_international = df_annotations.is_international.iloc[idx]\n",
        "  if pd.isna(is_international):\n",
        "    continue\n",
        "  cats[str(int(is_international))] = 1\n",
        "  doc.cats = cats\n",
        "  docs_list.add(doc)\n",
        "  # data augmenting\n",
        "  if is_international >= 1:\n",
        "    docs_list.add(doc)\n",
        "  if is_international == 2:\n",
        "    docs_list.add(doc)\n",
        "  "
      ],
      "metadata": {
        "colab": {
          "base_uri": "https://localhost:8080/"
        },
        "id": "KvW8o14rzkOh",
        "outputId": "cbf59fa5-fb3e-4135-e74c-aa86a99862bc"
      },
      "id": "KvW8o14rzkOh",
      "execution_count": 27,
      "outputs": [
        {
          "output_type": "stream",
          "name": "stdout",
          "text": [
            "0 11924\n",
            "100 11924\n",
            "200 11924\n",
            "300 11924\n",
            "400 11924\n",
            "500 11924\n",
            "600 11924\n",
            "700 11924\n",
            "800 11924\n",
            "900 11924\n",
            "1000 11924\n",
            "1100 11924\n",
            "1200 11924\n",
            "1300 11924\n",
            "1400 11924\n",
            "1500 11924\n",
            "1600 11924\n",
            "1700 11924\n",
            "1800 11924\n",
            "1900 11924\n",
            "2000 11924\n",
            "2100 11924\n",
            "2200 11924\n",
            "2300 11924\n",
            "2400 11924\n",
            "2500 11924\n",
            "2600 11924\n",
            "2700 11924\n",
            "2800 11924\n",
            "2900 11924\n",
            "3000 11924\n",
            "3100 11924\n",
            "3200 11924\n",
            "3300 11924\n",
            "3400 11924\n",
            "3500 11924\n",
            "3600 11924\n",
            "3700 11924\n",
            "3800 11924\n",
            "3900 11924\n",
            "4000 11924\n",
            "4100 11924\n",
            "4200 11924\n",
            "4300 11924\n",
            "4400 11924\n",
            "4500 11924\n",
            "4600 11924\n",
            "4700 11924\n",
            "4800 11924\n",
            "4900 11924\n",
            "5000 11924\n",
            "5100 11924\n",
            "5200 11924\n",
            "5300 11924\n",
            "5400 11924\n",
            "5500 11924\n",
            "5600 11924\n",
            "5700 11924\n",
            "5800 11924\n",
            "5900 11924\n",
            "6000 11924\n",
            "6100 11924\n",
            "6200 11924\n",
            "6300 11924\n",
            "6400 11924\n",
            "6500 11924\n",
            "6600 11924\n",
            "6700 11924\n",
            "6800 11924\n",
            "6900 11924\n",
            "7000 11924\n",
            "7100 11924\n",
            "7200 11924\n",
            "7300 11924\n",
            "7400 11924\n",
            "7500 11924\n",
            "7600 11924\n",
            "7700 11924\n",
            "7800 11924\n",
            "7900 11924\n",
            "8000 11924\n",
            "8100 11924\n",
            "8200 11924\n",
            "8300 11924\n",
            "8400 11924\n",
            "8500 11924\n",
            "8600 11924\n",
            "8700 11924\n",
            "8800 11924\n",
            "8900 11924\n",
            "9000 11924\n",
            "9100 11924\n",
            "9200 11924\n",
            "9300 11924\n",
            "9400 11924\n",
            "9500 11924\n",
            "9600 11924\n",
            "9700 11924\n",
            "9800 11924\n",
            "9900 11924\n",
            "10000 11924\n",
            "10100 11924\n",
            "10200 11924\n",
            "10300 11924\n",
            "10400 11924\n",
            "10500 11924\n",
            "10600 11924\n",
            "10700 11924\n",
            "10800 11924\n",
            "10900 11924\n",
            "11000 11924\n",
            "11100 11924\n",
            "11200 11924\n",
            "11300 11924\n",
            "11400 11924\n",
            "11500 11924\n",
            "11600 11924\n",
            "11700 11924\n",
            "11800 11924\n",
            "11900 11924\n"
          ]
        }
      ]
    },
    {
      "cell_type": "code",
      "source": [
        "docs_val.to_disk(\"/content/drive/MyDrive/data/dev_is_international_15.spacy\")\n",
        "docs_train.to_disk(\"/content/drive/MyDrive/data/train_is_international_15.spacy\")\n",
        "\n",
        "# for idx, doc_bin_train in enumerate(docs_train):\n",
        "#   doc_bin_train.to_disk(f\"/content/drive/MyDrive/data/train_is_international.spacy/train_doc_bin{idx}.spacy\")"
      ],
      "metadata": {
        "id": "FCwDsuzoz-VF"
      },
      "id": "FCwDsuzoz-VF",
      "execution_count": 28,
      "outputs": []
    },
    {
      "cell_type": "code",
      "source": [
        "# !python -m spacy init fill-config base_config.cfg spacy_textcat_is_international_11.cfg"
      ],
      "metadata": {
        "id": "4W_3MT1S1HB2"
      },
      "id": "4W_3MT1S1HB2",
      "execution_count": 29,
      "outputs": []
    },
    {
      "cell_type": "code",
      "source": [
        "!python -m spacy train ./spacy_textcat_is_international_11.cfg --output /content/drive/MyDrive/data/output_textcat_is_international_15 --paths.train /content/drive/MyDrive/data/train_is_international_15.spacy --paths.dev /content/drive/MyDrive/data/dev_is_international_15.spacy --gpu-id 0"
      ],
      "metadata": {
        "colab": {
          "base_uri": "https://localhost:8080/"
        },
        "id": "sUWoDWS90p2B",
        "outputId": "28b24d8f-bfd4-4d2b-ec48-0981dfc21879"
      },
      "id": "sUWoDWS90p2B",
      "execution_count": 30,
      "outputs": [
        {
          "output_type": "stream",
          "name": "stdout",
          "text": [
            "\u001b[38;5;2m✔ Created output directory:\n",
            "/content/drive/MyDrive/data/output_textcat_is_international_15\u001b[0m\n",
            "\u001b[38;5;4mℹ Saving to output directory:\n",
            "/content/drive/MyDrive/data/output_textcat_is_international_15\u001b[0m\n",
            "\u001b[38;5;4mℹ Using GPU: 0\u001b[0m\n",
            "\u001b[1m\n",
            "=========================== Initializing pipeline ===========================\u001b[0m\n",
            "[2022-11-17 12:38:58,699] [INFO] Set up nlp object from config\n",
            "INFO:spacy:Set up nlp object from config\n",
            "[2022-11-17 12:38:58,709] [INFO] Pipeline: ['textcat']\n",
            "INFO:spacy:Pipeline: ['textcat']\n",
            "[2022-11-17 12:38:58,712] [INFO] Created vocabulary\n",
            "INFO:spacy:Created vocabulary\n",
            "[2022-11-17 12:38:58,713] [INFO] Finished initializing nlp object\n",
            "INFO:spacy:Finished initializing nlp object\n",
            "tcmalloc: large alloc 1073750016 bytes == 0xbbd78000 @  0x7fdc787462a4 0x58ead6 0x441ff3 0x5d1f81 0x5d2306 0x58f62c 0x5105e2 0x58fd37 0x50ca37 0x58fd37 0x50ca37 0x4d01b4 0x50cb8d 0x4d01b4 0x50cb8d 0x4d01b4 0x7fdb2310c7c6 0x4ba72b 0x7fdb2310ace3 0x58f6e4 0x50ff13 0x5b575e 0x4bad0a 0x4d3249 0x591e56 0x50e18c 0x5b575e 0x58ff2e 0x50d482 0x5b575e 0x58ff2e\n",
            "tcmalloc: large alloc 2147491840 bytes == 0xfbd7a000 @  0x7fdc787462a4 0x58ead6 0x441ff3 0x5d1f81 0x5d2306 0x58f62c 0x5105e2 0x58fd37 0x50ca37 0x58fd37 0x50ca37 0x4d01b4 0x50cb8d 0x4d01b4 0x50cb8d 0x4d01b4 0x7fdb2310c7c6 0x4ba72b 0x7fdb2310ace3 0x58f6e4 0x50ff13 0x5b575e 0x4bad0a 0x4d3249 0x591e56 0x50e18c 0x5b575e 0x58ff2e 0x50d482 0x5b575e 0x58ff2e\n",
            "tcmalloc: large alloc 2147491840 bytes == 0x17c5f8000 @  0x7fdc787462a4 0x58ead6 0x441ff3 0x5d1f81 0x5d2306 0x58f62c 0x5105e2 0x58fd37 0x50ca37 0x58fd37 0x50ca37 0x4d01b4 0x50cb8d 0x4d01b4 0x50cb8d 0x4d01b4 0x50cb8d 0x58fd37 0x50ca37 0x5b575e 0x4bad0a 0x4d3249 0x591e56 0x50e18c 0x5b575e 0x58ff2e 0x50d482 0x5b575e 0x58ff2e 0x50d482 0x5b575e\n",
            "tcmalloc: large alloc 2147491840 bytes == 0xc2d34000 @  0x7fdc787462a4 0x58ead6 0x441ff3 0x5d1f81 0x5d2306 0x58f62c 0x5105e2 0x58fd37 0x50ca37 0x58fd37 0x50ca37 0x4d01b4 0x50cb8d 0x4d01b4 0x50cb8d 0x4d01b4 0x50cb8d 0x5b575e 0x4bad0a 0x4d3249 0x591e56 0x50e18c 0x5b575e 0x58ff2e 0x50d482 0x5b575e 0x58ff2e 0x50d482 0x5b575e 0x58ff2e 0x50d482\n",
            "tcmalloc: large alloc 2147491840 bytes == 0xc2d34000 @  0x7fdc787462a4 0x58ead6 0x441ff3 0x5d1f81 0x5d2306 0x58f62c 0x5105e2 0x58fd37 0x50ca37 0x58fd37 0x50ca37 0x4d01b4 0x50cb8d 0x4d01b4 0x50cb8d 0x4d01b4 0x4dd836 0x5a04c4 0x5a2ed4 0x5909f6 0x510280 0x5b575e 0x4bad0a 0x4d3249 0x591e56 0x50e18c 0x5b575e 0x58ff2e 0x50d482 0x5b575e 0x58ff2e\n",
            "[2022-11-17 12:42:17,184] [INFO] Initialized pipeline components: ['textcat']\n",
            "INFO:spacy:Initialized pipeline components: ['textcat']\n",
            "\u001b[38;5;2m✔ Initialized pipeline\u001b[0m\n",
            "\u001b[1m\n",
            "============================= Training pipeline =============================\u001b[0m\n",
            "\u001b[38;5;4mℹ Pipeline: ['textcat']\u001b[0m\n",
            "\u001b[38;5;4mℹ Initial learn rate: 0.0\u001b[0m\n",
            "E    #       LOSS TEXTCAT  CATS_SCORE  SCORE \n",
            "---  ------  ------------  ----------  ------\n",
            "tcmalloc: large alloc 2147491840 bytes == 0xc2d34000 @  0x7fdc787462a4 0x58ead6 0x441ff3 0x5d1f81 0x5d2306 0x58f62c 0x5105e2 0x58fd37 0x50ca37 0x58fd37 0x50ca37 0x4d01b4 0x50cb8d 0x4d01b4 0x50cb8d 0x4d01b4 0x5a04c4 0x5a2ed4 0x5909f6 0x510280 0x4d01b4 0x4d0b64 0x50cb8d 0x4d01b4 0x50cb8d 0x5b575e 0x58ff2e 0x50d482 0x5b575e 0x58ff2e 0x50d482\n",
            "  0       0          0.22        0.00    0.00\n",
            "  0     200         54.09       22.40    0.22\n",
            "  0     400         65.44       30.87    0.31\n",
            "  0     600         43.81       39.10    0.39\n",
            "  0     800         54.74       40.05    0.40\n",
            "  0    1000         45.22       44.83    0.45\n",
            "  0    1200         48.60       46.69    0.47\n",
            "  0    1400         50.67       44.65    0.45\n",
            "  0    1600         40.31       50.13    0.50\n",
            "  0    1800         51.20       52.02    0.52\n",
            "  0    2000         40.08       49.63    0.50\n",
            "  0    2200         40.49       51.79    0.52\n",
            "  0    2400         50.40       54.36    0.54\n",
            "  0    2600         33.51       49.07    0.49\n",
            "  0    2800         48.31       56.20    0.56\n",
            "  0    3000         35.39       54.57    0.55\n",
            "  0    3200         50.70       53.25    0.53\n",
            "  0    3400         43.70       53.71    0.54\n",
            "  0    3600         32.83       54.64    0.55\n",
            "  0    3800         43.56       56.29    0.56\n",
            "  0    4000         31.24       54.20    0.54\n",
            "  0    4200         45.58       56.47    0.56\n",
            "  0    4400         32.08       55.53    0.56\n",
            "  0    4600         40.92       59.11    0.59\n",
            "  0    4800         33.29       60.73    0.61\n",
            "  0    5000         39.70       60.43    0.60\n",
            "  0    5200         41.52       60.60    0.61\n",
            "  0    5400         30.67       60.51    0.61\n",
            "  0    5600         38.83       58.46    0.58\n",
            "  0    5800         31.47       58.48    0.58\n",
            "  0    6000         39.08       58.83    0.59\n",
            "  0    6200         29.59       59.23    0.59\n",
            "  0    6400         34.44       59.07    0.59\n",
            "\u001b[38;5;2m✔ Saved pipeline to output directory\u001b[0m\n",
            "/content/drive/MyDrive/data/output_textcat_is_international_15/model-last\n"
          ]
        }
      ]
    },
    {
      "cell_type": "code",
      "source": [
        "import spacy\n",
        "nlp = spacy.load(\"/content/drive/MyDrive/data/output_textcat_is_international_15/model-best\")"
      ],
      "metadata": {
        "id": "beqb5ctemjgM"
      },
      "id": "beqb5ctemjgM",
      "execution_count": 31,
      "outputs": []
    },
    {
      "cell_type": "code",
      "execution_count": 32,
      "metadata": {
        "id": "3d106a6e"
      },
      "outputs": [],
      "source": [
        "predictions = []\n",
        "for idx in range(len(df_val)):\n",
        "    doc = nlp(df_val.text.apply(str).iloc[idx])\n",
        "    predictions.append(doc.cats)"
      ],
      "id": "3d106a6e"
    },
    {
      "cell_type": "code",
      "execution_count": 33,
      "metadata": {
        "id": "fcff782f",
        "colab": {
          "base_uri": "https://localhost:8080/"
        },
        "outputId": "21d04aca-9152-4f3a-c134-7305dcbb4ce9"
      },
      "outputs": [
        {
          "output_type": "stream",
          "name": "stderr",
          "text": [
            "/usr/local/lib/python3.7/dist-packages/ipykernel_launcher.py:1: SettingWithCopyWarning: \n",
            "A value is trying to be set on a copy of a slice from a DataFrame.\n",
            "Try using .loc[row_indexer,col_indexer] = value instead\n",
            "\n",
            "See the caveats in the documentation: https://pandas.pydata.org/pandas-docs/stable/user_guide/indexing.html#returning-a-view-versus-a-copy\n",
            "  \"\"\"Entry point for launching an IPython kernel.\n"
          ]
        }
      ],
      "source": [
        "df_val[\"pred_international\"] = [str(int(max(p, key=p.get))) for p in predictions]"
      ],
      "id": "fcff782f"
    },
    {
      "cell_type": "code",
      "source": [
        "pred_international = df_val[\"pred_international\"]"
      ],
      "metadata": {
        "id": "ZlUaqG_6FqEs"
      },
      "id": "ZlUaqG_6FqEs",
      "execution_count": 34,
      "outputs": []
    },
    {
      "cell_type": "code",
      "execution_count": 35,
      "metadata": {
        "id": "48d636fa"
      },
      "outputs": [],
      "source": [
        "is_international_ground_truths = df_val.is_international.apply(str).apply(lambda x : re.sub(r'\\.0', '', x))"
      ],
      "id": "48d636fa"
    },
    {
      "cell_type": "code",
      "execution_count": 36,
      "metadata": {
        "id": "bf5f8d23",
        "colab": {
          "base_uri": "https://localhost:8080/"
        },
        "outputId": "73656de1-4b4c-4293-f4ea-a57164e693a1"
      },
      "outputs": [
        {
          "output_type": "stream",
          "name": "stdout",
          "text": [
            "Num countries accuracy 0.7069124423963133\n"
          ]
        }
      ],
      "source": [
        "acc = accuracy_score(is_international_ground_truths.apply(str), pred_international.apply(str))\n",
        "print (f\"Num countries accuracy {acc}\")"
      ],
      "id": "bf5f8d23"
    },
    {
      "cell_type": "code",
      "execution_count": 37,
      "metadata": {
        "id": "27c5d1be",
        "colab": {
          "base_uri": "https://localhost:8080/",
          "height": 306
        },
        "outputId": "f654f226-5566-418e-f4d1-26e1201b8560"
      },
      "outputs": [
        {
          "output_type": "execute_result",
          "data": {
            "text/plain": [
              "''"
            ],
            "application/vnd.google.colaboratory.intrinsic+json": {
              "type": "string"
            }
          },
          "metadata": {},
          "execution_count": 37
        },
        {
          "output_type": "display_data",
          "data": {
            "text/plain": [
              "<Figure size 432x288 with 2 Axes>"
            ],
            "image/png": "[encoded data removed]"
          },
          "metadata": {
            "needs_background": "light"
          }
        }
      ],
      "source": [
        "ConfusionMatrixDisplay.from_predictions(is_international_ground_truths.apply(str), pred_international.apply(str))\n",
        "plt.xticks(rotation=90)\n",
        ";"
      ],
      "id": "27c5d1be"
    },
    {
      "cell_type": "code",
      "source": [
        "def make_binary(x):\n",
        "  if x is None or pd.isna(x):\n",
        "    return str(x)\n",
        "  if str(x) == \"nan\":\n",
        "    return str(x)\n",
        "  return str(min([1,int(x)]))"
      ],
      "metadata": {
        "id": "tVHkoZpw1z8y"
      },
      "id": "tVHkoZpw1z8y",
      "execution_count": 53,
      "outputs": []
    },
    {
      "cell_type": "code",
      "execution_count": 54,
      "metadata": {
        "id": "91311d34",
        "colab": {
          "base_uri": "https://localhost:8080/",
          "height": 306
        },
        "outputId": "6116c553-2e50-47a5-aaa8-0b70f0718f24"
      },
      "outputs": [
        {
          "output_type": "execute_result",
          "data": {
            "text/plain": [
              "''"
            ],
            "application/vnd.google.colaboratory.intrinsic+json": {
              "type": "string"
            }
          },
          "metadata": {},
          "execution_count": 54
        },
        {
          "output_type": "display_data",
          "data": {
            "text/plain": [
              "<Figure size 432x288 with 2 Axes>"
            ],
            "image/png": "[encoded data removed]"
          },
          "metadata": {
            "needs_background": "light"
          }
        }
      ],
      "source": [
        "ConfusionMatrixDisplay.from_predictions(is_international_ground_truths.apply(make_binary), pred_international.apply(make_binary))\n",
        "plt.xticks(rotation=90)\n",
        ";"
      ],
      "id": "91311d34"
    },
    {
      "cell_type": "code",
      "execution_count": 55,
      "metadata": {
        "id": "b620ed04",
        "colab": {
          "base_uri": "https://localhost:8080/"
        },
        "outputId": "56e927df-3cd0-4b95-b27b-8b92b6db6a20"
      },
      "outputs": [
        {
          "output_type": "stream",
          "name": "stdout",
          "text": [
            "Num countries accuracy 0.776036866359447\n"
          ]
        }
      ],
      "source": [
        "acc = accuracy_score(is_international_ground_truths.apply(make_binary), pred_international.apply(make_binary))\n",
        "print (f\"Num countries accuracy {acc}\")"
      ],
      "id": "b620ed04"
    },
    {
      "cell_type": "code",
      "execution_count": 37,
      "metadata": {
        "id": "84b0d6cd"
      },
      "outputs": [],
      "source": [],
      "id": "84b0d6cd"
    }
  ],
  "metadata": {
    "colab": {
      "provenance": [],
      "machine_shape": "hm",
      "include_colab_link": true
    },
    "kernelspec": {
      "display_name": "Python [conda env:py310] *",
      "language": "python",
      "name": "conda-env-py310-py"
    },
    "language_info": {
      "codemirror_mode": {
        "name": "ipython",
        "version": 3
      },
      "file_extension": ".py",
      "mimetype": "text/x-python",
      "name": "python",
      "nbconvert_exporter": "python",
      "pygments_lexer": "ipython3",
      "version": "3.10.4"
    },
    "gpuClass": "premium",
    "accelerator": "GPU"
  },
  "nbformat": 4,
  "nbformat_minor": 5
}