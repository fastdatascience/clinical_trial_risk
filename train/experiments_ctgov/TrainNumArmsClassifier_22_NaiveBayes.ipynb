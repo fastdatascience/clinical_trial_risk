{
  "cells": [
    {
      "cell_type": "markdown",
      "metadata": {
        "id": "view-in-github",
        "colab_type": "text"
      },
      "source": [
        "<a href=\"https://colab.research.google.com/github/fastdatascience/clinical_trial_risk/blob/fixes_nov_2022/train/ctgov/TrainNumArmsClassifier_22_NaiveBayes.ipynb\" target=\"_parent\"><img src=\"https://colab.research.google.com/assets/colab-badge.svg\" alt=\"Open In Colab\"/></a>"
      ]
    },
    {
      "cell_type": "code",
      "execution_count": 1,
      "metadata": {
        "id": "0557d6c8"
      },
      "outputs": [],
      "source": [
        "import spacy\n",
        "import pandas as pd\n",
        "import re\n",
        "import os\n",
        "import sys\n",
        "import pickle as pkl\n",
        "import seaborn as sns\n",
        "from sklearn.metrics import accuracy_score, confusion_matrix\n",
        "from sklearn.metrics import ConfusionMatrixDisplay\n",
        "from sklearn.metrics import mean_absolute_error, mean_squared_error\n",
        "from sklearn.metrics import roc_auc_score\n",
        "from sklearn.metrics import roc_curve, auc\n",
        "from IPython.display import display\n",
        "import matplotlib.pyplot as plt\n",
        "import numpy as np\n",
        "import json\n",
        "\n",
        "from nltk.corpus import stopwords\n",
        "from nltk.tokenize import RegexpTokenizer\n",
        "from sklearn.ensemble import RandomForestClassifier\n",
        "from sklearn.feature_extraction.text import CountVectorizer, TfidfTransformer\n",
        "from sklearn.metrics import accuracy_score, auc, roc_curve\n",
        "from sklearn.model_selection import cross_validate\n",
        "from sklearn.naive_bayes import MultinomialNB\n",
        "from sklearn.pipeline import make_pipeline"
      ],
      "id": "0557d6c8"
    },
    {
      "cell_type": "code",
      "execution_count": 2,
      "metadata": {
        "colab": {
          "base_uri": "https://localhost:8080/"
        },
        "id": "mG8gR8O6QXgX",
        "outputId": "80446ade-9889-4f2e-eb0a-e6179f10c8a3"
      },
      "outputs": [
        {
          "output_type": "stream",
          "name": "stdout",
          "text": [
            "Mounted at /content/drive\n"
          ]
        }
      ],
      "source": [
        "from google.colab import drive\n",
        "drive.mount('/content/drive')"
      ],
      "id": "mG8gR8O6QXgX"
    },
    {
      "cell_type": "code",
      "execution_count": 3,
      "metadata": {
        "id": "HyXyGuD_P6s7"
      },
      "outputs": [],
      "source": [
        "df_annotations = pd.read_csv(\"/content/drive/MyDrive/data/all_annotations.csv\")\n"
      ],
      "id": "HyXyGuD_P6s7"
    },
    {
      "cell_type": "markdown",
      "metadata": {
        "id": "4b2e7a73"
      },
      "source": [
        "# Get data"
      ],
      "id": "4b2e7a73"
    },
    {
      "cell_type": "code",
      "execution_count": 4,
      "metadata": {
        "id": "pdjdb4_wYeyG"
      },
      "outputs": [],
      "source": [
        "stats_stopwords = set(\"\"\"A&H\n",
        "Abbott\n",
        "Actelion\n",
        "Aesica pharmaceuticals\n",
        "Air Products\n",
        "Alcon\n",
        "ALK-Abello\n",
        "Allergan\n",
        "Alpharma\n",
        "Almus Pharmaceuticals\n",
        "Altana\n",
        "Amgen\n",
        "APS\n",
        "Assertio\n",
        "AstraZeneca\n",
        "Aventis Pharma\n",
        "Bausch & Lomb\n",
        "Baxter\n",
        "Baxter BioScience\n",
        "Bayer\n",
        "Becton Dickinson\n",
        "Beiersdorf\n",
        "Berk\n",
        "Biogen\n",
        "Boehringer Ingelheim\n",
        "Boots\n",
        "BPL\n",
        "Braun\n",
        "Bristol-Myers Squibb\n",
        "Celltech\n",
        "Cephalon\n",
        "Chemidex\n",
        "Chugai\n",
        "Colgate-Palmolive\n",
        "Coloplast\n",
        "ConvaTec\n",
        "Cow & Gate\n",
        "CP\n",
        "Crookes\n",
        "Dentsply\n",
        "Dista\n",
        "DuPont\n",
        "Eisai\n",
        "Ethicon\n",
        "Fabre\n",
        "Ferring\n",
        "Florizel\n",
        "Fresenius SE\n",
        "Galderma\n",
        "Galpharm Healthcare\n",
        "Garnier\n",
        "GE Healthcare\n",
        "Gilead\n",
        "GlaxoSmithKline\n",
        "Grünenthal\n",
        "Grifols\n",
        "GSK\n",
        "GSK Consumer Healthcare\n",
        "Heinz\n",
        "Hillcross\n",
        "Hoechst Marion Roussel\n",
        "Invicta\n",
        "Ipsen\n",
        "ITH Pharma Ltd\n",
        "IVAX\n",
        "J&J\n",
        "J&J Medical\n",
        "J&J MSD\n",
        "Janssen-Cilag\n",
        "King\n",
        "Kyowa Hakko\n",
        "Lederie\n",
        "LEO\n",
        "LifeScan\n",
        "Lilly\n",
        "Lundbeck\n",
        "Martindale Pharma\n",
        "Mölnlycke\n",
        "Mayne\n",
        "McNeil\n",
        "Meda\n",
        "Medac\n",
        "MediSense\n",
        "Menarini\n",
        "Menarini Diagnostics\n",
        "Merck\n",
        "Merck Consumer Health\n",
        "Merck & Co.\n",
        "Milupa\n",
        "MSD\n",
        "Nestlé\n",
        "Nestlè Clinical\n",
        "Neutrogena\n",
        "Novartis\n",
        "Novartis Consumer Health\n",
        "Novo Nordisk\n",
        "Nycomed\n",
        "Octapharma\n",
        "Orion\n",
        "Otsuka\n",
        "Parke-Davis\n",
        "Pfizer\n",
        "Pharmacia\n",
        "Procter & Gamble\n",
        "Procter & Gamble Pharm.\n",
        "Reckitt Benckiser\n",
        "Rhône-Poulenc\n",
        "Roche\n",
        "Roche Consumer Health\n",
        "Roche Diagnostics\n",
        "Rosemont\n",
        "Rybar\n",
        "Salts\n",
        "Sandoz\n",
        "Sankyo\n",
        "Sanofi-Aventis\n",
        "Sanofi Oasteur\n",
        "Sanofi-Synthélabo\n",
        "Schering-Plough\n",
        "Schwarz\n",
        "Searle\n",
        "Serono\n",
        "Servier\n",
        "Shire\n",
        "SHS\n",
        "Sigma\n",
        "SMA Nutrition\n",
        "SNBTS\n",
        "Solvay\n",
        "Squibb\n",
        "SSL\n",
        "Stiefel\n",
        "Takeda\n",
        "Taro\n",
        "Teva\n",
        "Thornton & Ross\n",
        "Trinity-Chiesi\n",
        "Tyco\n",
        "Univar\n",
        "Valeant\n",
        "Viatris\n",
        "W-L\n",
        "Warner Lambert\n",
        "Wockhardt\n",
        "Wyeth\n",
        "Yamanouchi\n",
        "title\n",
        "study\n",
        "protocol\n",
        "participant\n",
        "participants\n",
        "irb\n",
        "africa\n",
        "trial\n",
        "patient\n",
        "patients\n",
        "treatment\n",
        "short\n",
        "trial\n",
        "gov\n",
        "sponsor\n",
        "university\n",
        "delivery\n",
        "co\n",
        "usa\n",
        "phone\n",
        "edu\n",
        "principal\n",
        "investigators\n",
        "laboratory\n",
        "department\n",
        "us\n",
        "email\n",
        "institute\n",
        "centre\n",
        "com\n",
        "confidentiality\n",
        "confidential\n",
        "information\n",
        "must\n",
        "investigator\n",
        "team\n",
        "relevant\n",
        "ethics\n",
        "regulatory\n",
        "contents\n",
        "research\n",
        "non\n",
        "summary\n",
        "background\n",
        "rationale\n",
        "primary\n",
        "sites\n",
        "population\n",
        "interventions\n",
        "pubmed\n",
        "January\n",
        "February\n",
        "March\n",
        "April\n",
        "May\n",
        "June\n",
        "July\n",
        "August\n",
        "September\n",
        "October\n",
        "November\n",
        "December\n",
        "Jan\n",
        "Feb\n",
        "Mar\n",
        "Apr\n",
        "May\n",
        "Jun\n",
        "Jul\n",
        "Aug\n",
        "Sep\n",
        "Oct\n",
        "Nov\n",
        "Dec\n",
        "Monday\n",
        "Tuesday\n",
        "Wednesday\n",
        "Thursday\n",
        "Friday\n",
        "Saturday\n",
        "Sunday\n",
        "Mon\n",
        "Tue\n",
        "Wed\n",
        "Thu\n",
        "Fri\n",
        "Sat\n",
        "Sun\n",
        "recommendations\n",
        "length\n",
        "experienced\n",
        "making\n",
        "contain\n",
        "girls\n",
        "youth\n",
        "sms\n",
        "mobile\n",
        "economic\n",
        "uptake\n",
        "vac\n",
        "rotavirus\n",
        "vivax\n",
        "azithromycin\n",
        "parasite\n",
        "stool\n",
        "placental\n",
        "village\n",
        "malaria\n",
        "ya\n",
        "plasmodium\n",
        "png\n",
        "toc\n",
        "path\n",
        "iron\n",
        "measles\n",
        "anaemia\n",
        "vitamin\n",
        "ultrasound\n",
        "chloroquine\n",
        "aerosol\n",
        "supplementation\n",
        "gestation\n",
        "dp\n",
        "cq\n",
        "transfusion\n",
        "gestational\n",
        "skip\n",
        "pr\n",
        "iga\n",
        "ia\n",
        "vials\n",
        "relapse\n",
        "br\n",
        "pp\n",
        "growth\n",
        "tropical\n",
        "parents\n",
        "vi\n",
        "mass\n",
        "triple\n",
        "fetal\n",
        "anemia\n",
        "endemic\n",
        "postnatal\n",
        "diarrhea\n",
        "feeding\n",
        "antenatal\n",
        "water\n",
        "food\n",
        "swabs\n",
        "pcr\n",
        "nurse\n",
        "specify\n",
        "titers\n",
        "cmc\n",
        "workers\n",
        "hvtn\n",
        "taf\n",
        "chc\n",
        "impaact\n",
        "rpv\n",
        "cab\n",
        "mab\n",
        "hptn\n",
        "ral\n",
        "itraconazole\n",
        "dtg\n",
        "linkage\n",
        "amphotericin\n",
        "ip\n",
        "alvac\n",
        "nichd\n",
        "ftc\n",
        "wrair\n",
        "mva\n",
        "ts\n",
        "hiv\n",
        "antepartum\n",
        "tdf\n",
        "aidsvax\n",
        "vrc\n",
        "efv\n",
        "ring\n",
        "crs\n",
        "infusion\n",
        "env\n",
        "daids\n",
        "subtype\n",
        "hbv\n",
        "psrt\n",
        "cq\n",
        "rv\n",
        "viral\n",
        "vaginal\n",
        "arv\n",
        "bivalent\n",
        "arvs\n",
        "zdv\n",
        "sc\n",
        "meningitis\n",
        "sti\n",
        "mcg\n",
        "virologic\n",
        "suppression\n",
        "antiretroviral\n",
        "combinations\n",
        "ucsf\n",
        "neutralizing\n",
        "counseling\n",
        "bid\n",
        "niaid\n",
        "tenofovir\n",
        "abc\n",
        "aeras\n",
        "dar\n",
        "qft\n",
        "bedaquiline\n",
        "stream\n",
        "bdq\n",
        "mtb\n",
        "bcg\n",
        "abidjan\n",
        "sputum\n",
        "mdr\n",
        "tb\n",
        "anrs\n",
        "alliance\n",
        "qtcf\n",
        "moxifloxacin\n",
        "xpert\n",
        "att\n",
        "cld\n",
        "inh\n",
        "ppd\n",
        "igra\n",
        "ics\n",
        "tuberculosis\n",
        "ltbi\n",
        "iris\n",
        "pyrazinamide\n",
        "biologicals\n",
        "prednisone\n",
        "mrc\n",
        "qt\n",
        "rct\n",
        "pa\n",
        "atp\n",
        "genexpert\n",
        "proprietary\n",
        "hair\n",
        "dst\n",
        "imp\n",
        "rif\n",
        "quantiferon\n",
        "ifn\n",
        "si\n",
        "idmc\n",
        "ctu\n",
        "smc\n",
        "reproduction\n",
        "injection\n",
        "shells\n",
        "multidrug\n",
        "isoniazid\n",
        "pulmonary\n",
        "corticosteroids\n",
        "focused\n",
        "mycobacterium\n",
        "unfavourable\n",
        "reserved\n",
        "ds\n",
        "tubes\n",
        "lp\n",
        "vaccinated\n",
        "cytokine\n",
        "copyright\n",
        "qtc\n",
        "suspicion\n",
        "allowable\n",
        "vaccination\n",
        "ipt\n",
        "favourable\n",
        "stimulation\n",
        "coordination\n",
        "rifampicin\n",
        "ray\n",
        "tnf\n",
        "pbmcs\n",
        "cultures\n",
        "immunology\n",
        "csf\n",
        "uln\n",
        "revaccination\n",
        "profiling\n",
        "iec\n",
        "ap\n",
        "baby\n",
        "al\n",
        "tel\n",
        "org\n",
        "community\n",
        "mailto\n",
        "md\n",
        "doi\n",
        "pk\n",
        "fax\n",
        "ac\n",
        "medicine\n",
        "communities\n",
        "uk\n",
        "pmid\n",
        "srl\n",
        "survey\n",
        "epub\n",
        "appendix\n",
        "plasma\n",
        "prevention\n",
        "srvge\n",
        "rawres\n",
        "rvge\n",
        "pt\n",
        "wise\n",
        "dehydration\n",
        "serotype\n",
        "fifth\n",
        "cut\n",
        "reactogenicity\n",
        "whose\n",
        "stools\n",
        "vomiting\n",
        "immunity\n",
        "immunogenicity\n",
        "expressing\n",
        "characteristics\n",
        "exact\n",
        "circumference\n",
        "preferred\n",
        "intussusception\n",
        "postpartum\n",
        "episodes\n",
        "added\n",
        "missing\n",
        "across\n",
        "yes\n",
        "prenatal\n",
        "difference\n",
        "symptom\n",
        "markers\n",
        "end\n",
        "gastroenteritis\n",
        "third\n",
        "maternal\n",
        "age\n",
        "second\n",
        "enrolment\n",
        "objective\n",
        "code\n",
        "month\n",
        "last\n",
        "overall\n",
        "included\n",
        "populations\n",
        "excluded\n",
        "case\n",
        "blinded\n",
        "year\n",
        "term\n",
        "severity\n",
        "done\n",
        "start\n",
        "group\n",
        "lead\n",
        "subjects\n",
        "definition\n",
        "subject\n",
        "definitions\n",
        "unsolicited\n",
        "cases\n",
        "cohort\n",
        "cohorts\n",
        "least\n",
        "days\n",
        "post\n",
        "month\n",
        "months\n",
        "level\n",
        "levels\n",
        "among\n",
        "per\n",
        "size\n",
        "sizes\n",
        "figure\n",
        "figures\n",
        "comparisons\n",
        "date\n",
        "dates\n",
        "birth\n",
        "births\n",
        "hospitalization\n",
        "hospitalizations\n",
        "hospitalisation\n",
        "hospitalisations\n",
        "hospital\n",
        "hospitals\n",
        "woman\n",
        "women\n",
        "time\n",
        "times\n",
        "considered\n",
        "weight\n",
        "weights\n",
        "never\n",
        "number\n",
        "dated\n",
        "listing\n",
        "breastfeeding\n",
        "introduction\n",
        "arm\n",
        "arms\n",
        "data\n",
        "using\n",
        "use\n",
        "score\n",
        "source\n",
        "use\n",
        "used\n",
        "uses\n",
        "protocol\n",
        "protocols\n",
        "subject\n",
        "subjects\n",
        "trial\n",
        "trials\n",
        "doctor\n",
        "doctors\n",
        "eg\n",
        "get\n",
        "getting\n",
        "got\n",
        "gotten\n",
        "rx\n",
        "dapivirine\"\"\".split(\"\\n\"))"
      ],
      "id": "pdjdb4_wYeyG"
    },
    {
      "cell_type": "code",
      "source": [
        "import nltk\n",
        "nltk.download('stopwords')"
      ],
      "metadata": {
        "colab": {
          "base_uri": "https://localhost:8080/"
        },
        "id": "B_ujycyl5_ig",
        "outputId": "180b0df6-e9e9-41a4-c259-fc8b6375aeb6"
      },
      "id": "B_ujycyl5_ig",
      "execution_count": 5,
      "outputs": [
        {
          "output_type": "stream",
          "name": "stderr",
          "text": [
            "[nltk_data] Downloading package stopwords to /root/nltk_data...\n",
            "[nltk_data]   Unzipping corpora/stopwords.zip.\n"
          ]
        },
        {
          "output_type": "execute_result",
          "data": {
            "text/plain": [
              "True"
            ]
          },
          "metadata": {},
          "execution_count": 5
        }
      ]
    },
    {
      "cell_type": "code",
      "source": [
        "!pip install pycountry"
      ],
      "metadata": {
        "colab": {
          "base_uri": "https://localhost:8080/"
        },
        "id": "gfVUtvYkd1nl",
        "outputId": "c24eaa73-4e5c-4fa7-88ac-91047d8ed01b"
      },
      "id": "gfVUtvYkd1nl",
      "execution_count": 6,
      "outputs": [
        {
          "output_type": "stream",
          "name": "stdout",
          "text": [
            "Looking in indexes: https://pypi.org/simple, https://us-python.pkg.dev/colab-wheels/public/simple/\n",
            "Collecting pycountry\n",
            "  Downloading pycountry-22.3.5.tar.gz (10.1 MB)\n",
            "\u001b[K     |████████████████████████████████| 10.1 MB 21.6 MB/s \n",
            "\u001b[?25h  Installing build dependencies ... \u001b[?25l\u001b[?25hdone\n",
            "  Getting requirements to build wheel ... \u001b[?25l\u001b[?25hdone\n",
            "    Preparing wheel metadata ... \u001b[?25l\u001b[?25hdone\n",
            "Requirement already satisfied: setuptools in /usr/local/lib/python3.7/dist-packages (from pycountry) (57.4.0)\n",
            "Building wheels for collected packages: pycountry\n",
            "  Building wheel for pycountry (PEP 517) ... \u001b[?25l\u001b[?25hdone\n",
            "  Created wheel for pycountry: filename=pycountry-22.3.5-py2.py3-none-any.whl size=10681845 sha256=38bfb059c884994c42f956e5aa8e7aa2e032a9403712ee5bca65796401a6d9ef\n",
            "  Stored in directory: /root/.cache/pip/wheels/0e/06/e8/7ee176e95ea9a8a8c3b3afcb1869f20adbd42413d4611c6eb4\n",
            "Successfully built pycountry\n",
            "Installing collected packages: pycountry\n",
            "Successfully installed pycountry-22.3.5\n"
          ]
        }
      ]
    },
    {
      "cell_type": "code",
      "source": [
        "import pycountry\n"
      ],
      "metadata": {
        "id": "sykDXYk6LRYz"
      },
      "id": "sykDXYk6LRYz",
      "execution_count": 7,
      "outputs": []
    },
    {
      "cell_type": "code",
      "source": [
        "tok = RegexpTokenizer(r'[a-zA-Z]+')\n",
        "\n",
        "stops = set(stopwords.words('english')).union(set(stopwords.words('french'))).union(stats_stopwords)\n",
        "\n",
        "for c in pycountry.countries:\n",
        "    for t in tok.tokenize(c.name.lower()):\n",
        "        if t not in (\"monte\", \"carlo\"):\n",
        "            stops.add(t)"
      ],
      "metadata": {
        "id": "ydsW23R4LSh4"
      },
      "id": "ydsW23R4LSh4",
      "execution_count": 8,
      "outputs": []
    },
    {
      "cell_type": "code",
      "execution_count": 9,
      "metadata": {
        "id": "c8ebd7a5"
      },
      "outputs": [],
      "source": [
        "with open(\"/content/drive/MyDrive/data/protocols.pkl.gz\", \"rb\") as f:\n",
        "    file_to_pages = pkl.load(f)"
      ],
      "id": "c8ebd7a5"
    },
    {
      "cell_type": "code",
      "source": [
        "import operator\n",
        "texts = []\n",
        "\n",
        "for i in range(len(df_annotations)):\n",
        "    file_name = df_annotations.file.iloc[i]\n",
        "    \n",
        "    pages= file_to_pages[file_name]\n",
        "\n",
        "    texts.append(\" \".join(pages))\n",
        "df_annotations[\"text\"] = texts"
      ],
      "metadata": {
        "id": "qftiTgt7JGwL"
      },
      "id": "qftiTgt7JGwL",
      "execution_count": 10,
      "outputs": []
    },
    {
      "cell_type": "code",
      "execution_count": 11,
      "metadata": {
        "id": "93361b2c"
      },
      "outputs": [],
      "source": [
        " del file_to_pages"
      ],
      "id": "93361b2c"
    },
    {
      "cell_type": "code",
      "execution_count": 12,
      "metadata": {
        "id": "9fbe5bf0",
        "scrolled": true
      },
      "outputs": [],
      "source": [
        "df_annotations = df_annotations[~df_annotations.num_arms.isna()]"
      ],
      "id": "9fbe5bf0"
    },
    {
      "cell_type": "code",
      "source": [
        "def get_num_arms_clean(num):\n",
        "    if pd.isna(num):\n",
        "        return None\n",
        "    if num >= 3:\n",
        "        return \"3+\"\n",
        "    return str(int(num))\n",
        "df_annotations[\"num_arms_clean\"] = df_annotations[\"num_arms\"].apply(get_num_arms_clean)"
      ],
      "metadata": {
        "colab": {
          "base_uri": "https://localhost:8080/"
        },
        "id": "dDY3uTsbLe4K",
        "outputId": "4fed5f20-31a8-4982-f568-35ec7d0b7ab5"
      },
      "id": "dDY3uTsbLe4K",
      "execution_count": 13,
      "outputs": [
        {
          "output_type": "stream",
          "name": "stderr",
          "text": [
            "/usr/local/lib/python3.7/dist-packages/ipykernel_launcher.py:7: SettingWithCopyWarning: \n",
            "A value is trying to be set on a copy of a slice from a DataFrame.\n",
            "Try using .loc[row_indexer,col_indexer] = value instead\n",
            "\n",
            "See the caveats in the documentation: https://pandas.pydata.org/pandas-docs/stable/user_guide/indexing.html#returning-a-view-versus-a-copy\n",
            "  import sys\n"
          ]
        }
      ]
    },
    {
      "cell_type": "code",
      "execution_count": 14,
      "metadata": {
        "colab": {
          "base_uri": "https://localhost:8080/"
        },
        "id": "cfac2830",
        "outputId": "d532ea3a-5722-424e-be94-8ad4c59b6960"
      },
      "outputs": [
        {
          "output_type": "execute_result",
          "data": {
            "text/plain": [
              "2     5228\n",
              "3+    3277\n",
              "1     3086\n",
              "Name: num_arms_clean, dtype: int64"
            ]
          },
          "metadata": {},
          "execution_count": 14
        }
      ],
      "source": [
        "df_annotations[\"num_arms_clean\"].value_counts()"
      ],
      "id": "cfac2830"
    },
    {
      "cell_type": "code",
      "source": [
        "labels = list(sorted(set(df_annotations[\"num_arms_clean\"])))"
      ],
      "metadata": {
        "id": "D3iMJQHVMYdB"
      },
      "id": "D3iMJQHVMYdB",
      "execution_count": 15,
      "outputs": []
    },
    {
      "cell_type": "code",
      "source": [
        "df_train = df_annotations[df_annotations.train_val == \"train\"]\n",
        "df_val = df_annotations[df_annotations.train_val == \"val\"]"
      ],
      "metadata": {
        "id": "uiS_TD8H6mPs"
      },
      "id": "uiS_TD8H6mPs",
      "execution_count": 16,
      "outputs": []
    },
    {
      "cell_type": "code",
      "execution_count": 17,
      "metadata": {
        "id": "tg_Q5ZLIGknP"
      },
      "outputs": [],
      "source": [
        "\n",
        "# Specially engineered regex to include 95%, 95%ci, etc\n",
        "vectoriser = CountVectorizer(lowercase=True, stop_words = stops, min_df=5,\n",
        "                            token_pattern=r'\\w+', ngram_range=[1,2], max_features=5000)\n",
        "\n",
        "transformer = TfidfTransformer()\n",
        "\n",
        "nb = MultinomialNB()\n",
        "model = make_pipeline(vectoriser, transformer, nb)"
      ],
      "id": "tg_Q5ZLIGknP"
    },
    {
      "cell_type": "code",
      "source": [
        "# df_train_small = df_train.sample(1000)"
      ],
      "metadata": {
        "id": "mJ8L9rLG_31x"
      },
      "id": "mJ8L9rLG_31x",
      "execution_count": 18,
      "outputs": []
    },
    {
      "cell_type": "code",
      "execution_count": 19,
      "metadata": {
        "id": "8YqH-b1AHVRy",
        "colab": {
          "base_uri": "https://localhost:8080/"
        },
        "outputId": "fea2ea59-4f39-44dd-b1a7-64a11b37509e"
      },
      "outputs": [
        {
          "output_type": "stream",
          "name": "stderr",
          "text": [
            "/usr/local/lib/python3.7/dist-packages/sklearn/feature_extraction/text.py:401: UserWarning: Your stop_words may be inconsistent with your preprocessing. Tokenizing the stop words generated tokens ['abbott', 'abello', 'actelion', 'aesica', 'air', 'alcon', 'alk', 'allergan', 'almus', 'alpharma', 'altana', 'amgen', 'apr', 'april', 'aps', 'assertio', 'astrazeneca', 'aug', 'august', 'aventis', 'bausch', 'baxter', 'bayer', 'becton', 'beiersdorf', 'benckiser', 'berk', 'biogen', 'bioscience', 'boehringer', 'boots', 'bpl', 'braun', 'bristol', 'celltech', 'cephalon', 'chemidex', 'chiesi', 'chugai', 'cilag', 'clinical', 'colgate', 'coloplast', 'consumer', 'convatec', 'cow', 'cp', 'crookes', 'davis', 'dec', 'december', 'dentsply', 'diagnostics', 'dickinson', 'dista', 'dupont', 'eisai', 'ethicon', 'fabre', 'feb', 'february', 'ferring', 'florizel', 'fresenius', 'fri', 'friday', 'galderma', 'galpharm', 'gamble', 'garnier', 'gate', 'ge', 'gilead', 'glaxosmithkline', 'grifols', 'grünenthal', 'gsk', 'h', 'hakko', 'health', 'healthcare', 'heinz', 'hillcross', 'hoechst', 'ingelheim', 'invicta', 'ipsen', 'ith', 'ivax', 'janssen', 'january', 'jul', 'july', 'jun', 'june', 'king', 'kyowa', 'lambert', 'lederie', 'leo', 'lifescan', 'lilly', 'lomb', 'ltd', 'lundbeck', 'mar', 'march', 'marion', 'martindale', 'may', 'mayne', 'mcneil', 'meda', 'medac', 'medical', 'medisense', 'menarini', 'merck', 'milupa', 'monday', 'msd', 'myers', 'mölnlycke', 'nestlè', 'nestlé', 'neutrogena', 'nordisk', 'nov', 'novartis', 'november', 'novo', 'nutrition', 'nycomed', 'oasteur', 'oct', 'octapharma', 'october', 'orion', 'otsuka', 'palmolive', 'parke', 'pfizer', 'pharm', 'pharma', 'pharmaceuticals', 'pharmacia', 'plough', 'poulenc', 'procter', 'products', 'reckitt', 'rhône', 'roche', 'rosemont', 'ross', 'roussel', 'rybar', 'salts', 'sandoz', 'sankyo', 'sanofi', 'sat', 'saturday', 'schering', 'schwarz', 'searle', 'sep', 'september', 'serono', 'servier', 'shire', 'shs', 'sigma', 'sma', 'snbts', 'solvay', 'squibb', 'ssl', 'stiefel', 'sun', 'sunday', 'synthélabo', 'takeda', 'taro', 'teva', 'thornton', 'thu', 'thursday', 'trinity', 'tue', 'tuesday', 'tyco', 'univar', 'valeant', 'viatris', 'w', 'warner', 'wed', 'wednesday', 'wockhardt', 'wyeth', 'yamanouchi'] not in stop_words.\n",
            "  % sorted(inconsistent)\n"
          ]
        },
        {
          "output_type": "execute_result",
          "data": {
            "text/plain": [
              "Pipeline(steps=[('countvectorizer',\n",
              "                 CountVectorizer(max_features=5000, min_df=5,\n",
              "                                 ngram_range=[1, 2],\n",
              "                                 stop_words={'A&H', 'ALK-Abello', 'APS',\n",
              "                                             'Abbott', 'Actelion',\n",
              "                                             'Aesica pharmaceuticals',\n",
              "                                             'Air Products', 'Alcon',\n",
              "                                             'Allergan',\n",
              "                                             'Almus Pharmaceuticals',\n",
              "                                             'Alpharma', 'Altana', 'Amgen',\n",
              "                                             'Apr', 'April', 'Assertio',\n",
              "                                             'AstraZeneca', 'Aug', 'August',\n",
              "                                             'Aventis Pharma', 'BPL',\n",
              "                                             'Bausch & Lomb', 'Baxter',\n",
              "                                             'Baxter BioScience', 'Bayer',\n",
              "                                             'Becton Dickinson', 'Beiersdorf',\n",
              "                                             'Berk', 'Biogen',\n",
              "                                             'Boehringer Ingelheim', ...},\n",
              "                                 token_pattern='\\\\w+')),\n",
              "                ('tfidftransformer', TfidfTransformer()),\n",
              "                ('multinomialnb', MultinomialNB())])"
            ]
          },
          "metadata": {},
          "execution_count": 19
        }
      ],
      "source": [
        "model.fit(df_train.text, df_train.num_arms_clean)"
      ],
      "id": "8YqH-b1AHVRy"
    },
    {
      "cell_type": "code",
      "execution_count": 20,
      "metadata": {
        "id": "i6kKqURLRmk4",
        "colab": {
          "base_uri": "https://localhost:8080/"
        },
        "outputId": "602b21ea-1159-44f6-c922-1b95260d7769"
      },
      "outputs": [
        {
          "output_type": "stream",
          "name": "stderr",
          "text": [
            "/usr/local/lib/python3.7/dist-packages/ipykernel_launcher.py:1: SettingWithCopyWarning: \n",
            "A value is trying to be set on a copy of a slice from a DataFrame.\n",
            "Try using .loc[row_indexer,col_indexer] = value instead\n",
            "\n",
            "See the caveats in the documentation: https://pandas.pydata.org/pandas-docs/stable/user_guide/indexing.html#returning-a-view-versus-a-copy\n",
            "  \"\"\"Entry point for launching an IPython kernel.\n"
          ]
        }
      ],
      "source": [
        "df_val[\"y_pred\"] = model.predict(df_val.text)"
      ],
      "id": "i6kKqURLRmk4"
    },
    {
      "cell_type": "code",
      "source": [
        "df_val[\"y_pred\"]"
      ],
      "metadata": {
        "colab": {
          "base_uri": "https://localhost:8080/"
        },
        "id": "dfh6cdJFMwQc",
        "outputId": "950516da-e408-4519-d99c-30653b366745"
      },
      "id": "dfh6cdJFMwQc",
      "execution_count": 21,
      "outputs": [
        {
          "output_type": "execute_result",
          "data": {
            "text/plain": [
              "12        2\n",
              "49        1\n",
              "50        2\n",
              "51        2\n",
              "52        2\n",
              "         ..\n",
              "11902     1\n",
              "11903    3+\n",
              "11904     2\n",
              "11906     1\n",
              "11907     2\n",
              "Name: y_pred, Length: 1056, dtype: object"
            ]
          },
          "metadata": {},
          "execution_count": 21
        }
      ]
    },
    {
      "cell_type": "code",
      "execution_count": 22,
      "metadata": {
        "id": "68ebd9f0",
        "scrolled": true
      },
      "outputs": [],
      "source": [
        "y_pred_proba = model.predict_proba(df_val.text)"
      ],
      "id": "68ebd9f0"
    },
    {
      "cell_type": "code",
      "source": [
        "y_pred_proba"
      ],
      "metadata": {
        "colab": {
          "base_uri": "https://localhost:8080/"
        },
        "id": "X9ZcGYhRNfSa",
        "outputId": "10b08cd2-d9b5-432a-a5b7-4aafa1fd83e0"
      },
      "id": "X9ZcGYhRNfSa",
      "execution_count": 23,
      "outputs": [
        {
          "output_type": "execute_result",
          "data": {
            "text/plain": [
              "array([[0.06417946, 0.56616794, 0.3696526 ],\n",
              "       [0.55343891, 0.30101909, 0.145542  ],\n",
              "       [0.09480645, 0.73743173, 0.16776181],\n",
              "       ...,\n",
              "       [0.06998998, 0.62234534, 0.30766469],\n",
              "       [0.82542909, 0.13682928, 0.03774163],\n",
              "       [0.13158072, 0.44038001, 0.42803927]])"
            ]
          },
          "metadata": {},
          "execution_count": 23
        }
      ]
    },
    {
      "cell_type": "code",
      "source": [
        "\n",
        "ground_truths = df_val.num_arms_clean\n",
        "pred = df_val.y_pred"
      ],
      "metadata": {
        "id": "_kQxAehK698Y"
      },
      "id": "_kQxAehK698Y",
      "execution_count": 24,
      "outputs": []
    },
    {
      "cell_type": "code",
      "source": [
        "pred"
      ],
      "metadata": {
        "colab": {
          "base_uri": "https://localhost:8080/"
        },
        "id": "4QJ3CVAFMyh0",
        "outputId": "f391134b-e0ef-42ff-add5-036315c07679"
      },
      "id": "4QJ3CVAFMyh0",
      "execution_count": 25,
      "outputs": [
        {
          "output_type": "execute_result",
          "data": {
            "text/plain": [
              "12        2\n",
              "49        1\n",
              "50        2\n",
              "51        2\n",
              "52        2\n",
              "         ..\n",
              "11902     1\n",
              "11903    3+\n",
              "11904     2\n",
              "11906     1\n",
              "11907     2\n",
              "Name: y_pred, Length: 1056, dtype: object"
            ]
          },
          "metadata": {},
          "execution_count": 25
        }
      ]
    },
    {
      "cell_type": "code",
      "execution_count": 26,
      "metadata": {
        "colab": {
          "base_uri": "https://localhost:8080/"
        },
        "id": "73495a5c",
        "outputId": "ea89f52e-f632-4eb2-b15e-c1a7d58e9365"
      },
      "outputs": [
        {
          "output_type": "stream",
          "name": "stdout",
          "text": [
            "accuracy 0.5359848484848485\n"
          ]
        }
      ],
      "source": [
        "acc = accuracy_score(ground_truths, pred)\n",
        "print (f\"accuracy {acc}\")"
      ],
      "id": "73495a5c"
    },
    {
      "cell_type": "code",
      "source": [
        "pred"
      ],
      "metadata": {
        "colab": {
          "base_uri": "https://localhost:8080/"
        },
        "id": "aUvXu0dkMj_z",
        "outputId": "06194a29-5d62-4d33-e0ed-412205034c40"
      },
      "id": "aUvXu0dkMj_z",
      "execution_count": 27,
      "outputs": [
        {
          "output_type": "execute_result",
          "data": {
            "text/plain": [
              "12        2\n",
              "49        1\n",
              "50        2\n",
              "51        2\n",
              "52        2\n",
              "         ..\n",
              "11902     1\n",
              "11903    3+\n",
              "11904     2\n",
              "11906     1\n",
              "11907     2\n",
              "Name: y_pred, Length: 1056, dtype: object"
            ]
          },
          "metadata": {},
          "execution_count": 27
        }
      ]
    },
    {
      "cell_type": "code",
      "execution_count": 28,
      "metadata": {
        "id": "775ae91e",
        "colab": {
          "base_uri": "https://localhost:8080/",
          "height": 303
        },
        "outputId": "b9a813d5-c45f-4e0d-f5da-ac0f3bb7b2e2"
      },
      "outputs": [
        {
          "output_type": "execute_result",
          "data": {
            "text/plain": [
              "''"
            ],
            "application/vnd.google.colaboratory.intrinsic+json": {
              "type": "string"
            }
          },
          "metadata": {},
          "execution_count": 28
        },
        {
          "output_type": "display_data",
          "data": {
            "text/plain": [
              "<Figure size 432x288 with 2 Axes>"
            ],
            "image/png": "[encoded data removed]"
          },
          "metadata": {
            "needs_background": "light"
          }
        }
      ],
      "source": [
        "ConfusionMatrixDisplay.from_predictions(ground_truths, pred)\n",
        "plt.xticks(rotation=90)\n",
        ";"
      ],
      "id": "775ae91e"
    },
    {
      "cell_type": "code",
      "execution_count": 29,
      "metadata": {
        "colab": {
          "base_uri": "https://localhost:8080/"
        },
        "id": "16527f52",
        "outputId": "42c9ab7f-b7cb-455a-8390-6932432e7627"
      },
      "outputs": [
        {
          "output_type": "stream",
          "name": "stdout",
          "text": [
            "ROC AUC 0.7809575293205161\n",
            "ROC AUC 0.6829244604316546\n",
            "ROC AUC 0.6848385555328008\n",
            "0.7162401817616572\n"
          ]
        }
      ],
      "source": [
        "all_aucs = []\n",
        "from sklearn.metrics import roc_auc_score\n",
        "for i, label in enumerate(list(nb.classes_)):\n",
        "  roc_auc = roc_auc_score(ground_truths==label, y_pred_proba[:,i])\n",
        "  print (f\"ROC AUC {roc_auc}\")\n",
        "  all_aucs.append(roc_auc)\n",
        "print (np.mean(all_aucs))"
      ],
      "id": "16527f52"
    },
    {
      "cell_type": "code",
      "execution_count": 30,
      "metadata": {
        "colab": {
          "base_uri": "https://localhost:8080/",
          "height": 295
        },
        "id": "bvS_8GcTMgCl",
        "outputId": "bde6dff1-a3fa-4864-8512-cd5a7c232008"
      },
      "outputs": [
        {
          "output_type": "display_data",
          "data": {
            "text/plain": [
              "<Figure size 432x288 with 1 Axes>"
            ],
            "image/png": "[encoded data removed]"
          },
          "metadata": {
            "needs_background": "light"
          }
        }
      ],
      "source": [
        "plt.figure()\n",
        "lw = 2\n",
        "    \n",
        "for i, label in enumerate(list(nb.classes_)):\n",
        "    fpr, tpr, _ = roc_curve(ground_truths==label, y_pred_proba[:,i])\n",
        "    roc_auc = auc(fpr, tpr)\n",
        "    plt.plot(\n",
        "        fpr,\n",
        "        tpr,\n",
        "        # color=\"darkorange\",\n",
        "        lw=lw,\n",
        "        label=f\"ROC curve arms = {label} (area = {roc_auc:0.2f})\"\n",
        "    )\n",
        "    plt.plot([0, 1], [0, 1], color=\"gray\", alpha=0.5, lw=lw, linestyle=\"--\")\n",
        "plt.xlim([0.0, 1.0])\n",
        "plt.ylim([0.0, 1.05])\n",
        "plt.xlabel(\"False Positive Rate\")\n",
        "plt.ylabel(\"True Positive Rate\")\n",
        "plt.title(\"Receiver operating characteristic example\")\n",
        "plt.legend(loc=\"lower right\")\n",
        "plt.show()"
      ],
      "id": "bvS_8GcTMgCl"
    },
    {
      "cell_type": "code",
      "source": [
        "fake_document = \" \".join(vectoriser.vocabulary_)\n",
        "vectorised_document = vectoriser.transform([fake_document])\n",
        "transformed_document = transformer.transform(vectorised_document)\n",
        "probas = np.zeros((transformed_document.shape[1]))\n"
      ],
      "metadata": {
        "id": "8rtQ_j8W3Dna"
      },
      "id": "8rtQ_j8W3Dna",
      "execution_count": 36,
      "outputs": []
    },
    {
      "cell_type": "code",
      "source": [
        "vocab_lookup = {i:w for w, i in vectoriser.vocabulary_.items()}\n",
        "with open(\"num_arms_diagnostics.txt\", \"w\", encoding=\"utf-8\") as f:\n",
        "  for prediction_idx in [0, 1, 2]:\n",
        "        f.write(f\"Strongest predictors for class {nb.classes_[prediction_idx]}\\n\")\n",
        "        for i in range(transformed_document.shape[1]):\n",
        "            zeros = np.zeros(transformed_document.shape)\n",
        "            zeros[0, i] = transformed_document[0, i]\n",
        "            proba = nb.predict_log_proba(zeros)\n",
        "            probas[i] = proba[0, prediction_idx]\n",
        "\n",
        "\n",
        "        for ctr, j in enumerate(np.argsort(-probas)):\n",
        "          f.write(f\"{ctr}\\t{vocab_lookup[j]}\\n\")"
      ],
      "metadata": {
        "id": "_DYlmhvKSeTG"
      },
      "id": "_DYlmhvKSeTG",
      "execution_count": 37,
      "outputs": []
    },
    {
      "cell_type": "code",
      "source": [
        "import bz2\n",
        "with bz2.open(\"arms_classifier_document_level.pkl.bz2\", \"wb\") as f:\n",
        "    pkl.dump(model, f)"
      ],
      "metadata": {
        "id": "xOuD5cp3mVop"
      },
      "id": "xOuD5cp3mVop",
      "execution_count": null,
      "outputs": []
    },
    {
      "cell_type": "code",
      "source": [
        "from google.colab import runtime\n",
        "runtime.unassign()"
      ],
      "metadata": {
        "id": "0dmqIeN1ApTU"
      },
      "id": "0dmqIeN1ApTU",
      "execution_count": null,
      "outputs": []
    },
    {
      "cell_type": "code",
      "source": [],
      "metadata": {
        "id": "NKnHC0ZHPq08"
      },
      "id": "NKnHC0ZHPq08",
      "execution_count": null,
      "outputs": []
    }
  ],
  "metadata": {
    "colab": {
      "provenance": [],
      "machine_shape": "hm",
      "include_colab_link": true
    },
    "gpuClass": "standard",
    "kernelspec": {
      "display_name": "Python [conda env:py310] *",
      "language": "python",
      "name": "conda-env-py310-py"
    },
    "language_info": {
      "codemirror_mode": {
        "name": "ipython",
        "version": 3
      },
      "file_extension": ".py",
      "mimetype": "text/x-python",
      "name": "python",
      "nbconvert_exporter": "python",
      "pygments_lexer": "ipython3",
      "version": "3.10.4"
    }
  },
  "nbformat": 4,
  "nbformat_minor": 5
}