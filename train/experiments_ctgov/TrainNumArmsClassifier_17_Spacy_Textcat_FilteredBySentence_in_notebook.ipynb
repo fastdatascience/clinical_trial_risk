{
  "cells": [
    {
      "cell_type": "markdown",
      "metadata": {
        "id": "view-in-github",
        "colab_type": "text"
      },
      "source": [
        "<a href=\"https://colab.research.google.com/github/fastdatascience/clinical_trial_risk/blob/fixes_nov_2022/train/ctgov/TrainNumArmsClassifier_17_Spacy_Textcat_FilteredBySentence_in_notebook.ipynb\" target=\"_parent\"><img src=\"https://colab.research.google.com/assets/colab-badge.svg\" alt=\"Open In Colab\"/></a>"
      ]
    },
    {
      "cell_type": "code",
      "execution_count": 1,
      "id": "0557d6c8",
      "metadata": {
        "id": "0557d6c8"
      },
      "outputs": [],
      "source": [
        "import pandas as pd\n",
        "import re\n",
        "import os\n",
        "import sys\n",
        "import pickle as pkl\n",
        "import seaborn as sns\n",
        "from sklearn.metrics import accuracy_score, confusion_matrix\n",
        "from sklearn.metrics import ConfusionMatrixDisplay\n",
        "from sklearn.metrics import mean_absolute_error, mean_squared_error\n",
        "from sklearn.metrics import roc_auc_score\n",
        "from sklearn.metrics import roc_curve, auc\n",
        "from IPython.display import display\n",
        "import matplotlib.pyplot as plt\n",
        "import numpy as np\n",
        "import json\n",
        "\n",
        "#df_annotations = pd.read_csv(\"../../data/ctgov/annotations/all_annotations.csv\")\n"
      ]
    },
    {
      "cell_type": "markdown",
      "id": "4b2e7a73",
      "metadata": {
        "id": "4b2e7a73"
      },
      "source": [
        "# Get data"
      ]
    },
    {
      "cell_type": "code",
      "execution_count": 2,
      "id": "c8ebd7a5",
      "metadata": {
        "id": "c8ebd7a5"
      },
      "outputs": [],
      "source": [
        "# with open(\"../../data/ctgov/protocols.pkl.gz\", \"rb\") as f:\n",
        "#     file_to_pages = pkl.load(f)"
      ]
    },
    {
      "cell_type": "code",
      "execution_count": 3,
      "id": "6148cb3b",
      "metadata": {
        "id": "6148cb3b"
      },
      "outputs": [],
      "source": [
        "# import spacy\n",
        "# nlp = spacy.blank(\"en\")"
      ]
    },
    {
      "cell_type": "code",
      "execution_count": 4,
      "id": "9fbe5bf0",
      "metadata": {
        "id": "9fbe5bf0",
        "scrolled": true
      },
      "outputs": [],
      "source": [
        "# texts = []\n",
        "\n",
        "# for i in range(len(df_annotations)):\n",
        "#     file_name = df_annotations.file.iloc[i]\n",
        "    \n",
        "#     pages= file_to_pages[file_name]\n",
        "    \n",
        "#     text = \"\"\n",
        "#     for page in pages:\n",
        "#         doc = nlp(page)\n",
        "        \n",
        "#         is_include = [False] * len(doc)\n",
        "#         for tok in doc:\n",
        "#             if tok.text.lower() in {\"arm\", \"arms\", \"armed\", \"cohort\", \"cohorts\", \"group\", \"groups\"}:\n",
        "#                 for token_index in range(tok.i - 20, tok.i + 20):\n",
        "#                     if token_index >= 0 and token_index < len(doc):\n",
        "#                         is_include[token_index] = True\n",
        "        \n",
        "#         for token_index in range(len(doc)):\n",
        "#             if is_include[token_index]:\n",
        "#                 text += doc[token_index].text + doc[token_index].whitespace_\n",
        "                \n",
        "#     if text == \"\":\n",
        "#         print (\"nothing found\", file_name, df_annotations.num_arms.iloc[i])\n",
        "#     else:\n",
        "#         print (\"found\", file_name, df_annotations.num_arms.iloc[i])\n",
        "\n",
        "#     texts.append(text)\n",
        "# df_annotations[\"text\"] = texts"
      ]
    },
    {
      "cell_type": "code",
      "execution_count": 5,
      "id": "cfac2830",
      "metadata": {
        "id": "cfac2830"
      },
      "outputs": [],
      "source": [
        "# df_annotations.to_pickle(\"filtered_for_arm.pkl\")"
      ]
    },
    {
      "cell_type": "code",
      "source": [
        "from google.colab import drive\n",
        "drive.mount('/content/drive')"
      ],
      "metadata": {
        "colab": {
          "base_uri": "https://localhost:8080/"
        },
        "id": "EhFnhl7tNHeb",
        "outputId": "408757b9-c8b4-4773-d0a4-c52aeda50d45"
      },
      "id": "EhFnhl7tNHeb",
      "execution_count": 6,
      "outputs": [
        {
          "output_type": "stream",
          "name": "stdout",
          "text": [
            "Mounted at /content/drive\n"
          ]
        }
      ]
    },
    {
      "cell_type": "code",
      "execution_count": 7,
      "id": "068abf18",
      "metadata": {
        "id": "068abf18"
      },
      "outputs": [],
      "source": [
        "df_annotations = pd.read_csv(\"/content/drive/MyDrive/data/filtered_for_phase_arms_subjects.csv.bz2\")"
      ]
    },
    {
      "cell_type": "code",
      "execution_count": 8,
      "id": "93361b2c",
      "metadata": {
        "id": "93361b2c"
      },
      "outputs": [],
      "source": [
        "# del file_to_pages"
      ]
    },
    {
      "cell_type": "code",
      "execution_count": 9,
      "id": "f3322e30",
      "metadata": {
        "id": "f3322e30"
      },
      "outputs": [],
      "source": [
        "df_annotations_num_arms_known = df_annotations[~df_annotations.num_arms.isna() & ~df_annotations.text.isna()]"
      ]
    },
    {
      "cell_type": "code",
      "execution_count": 10,
      "id": "26b24be0",
      "metadata": {
        "id": "26b24be0"
      },
      "outputs": [],
      "source": [
        "#df_annotations_num_arms_known = df_annotations_num_arms_known.sample(1000)"
      ]
    },
    {
      "cell_type": "code",
      "execution_count": 11,
      "id": "df0ea588",
      "metadata": {
        "colab": {
          "base_uri": "https://localhost:8080/"
        },
        "id": "df0ea588",
        "outputId": "b7200628-32b3-4cc7-c029-f29562b6453f"
      },
      "outputs": [
        {
          "output_type": "stream",
          "name": "stderr",
          "text": [
            "/usr/local/lib/python3.7/dist-packages/ipykernel_launcher.py:5: SettingWithCopyWarning: \n",
            "A value is trying to be set on a copy of a slice from a DataFrame.\n",
            "Try using .loc[row_indexer,col_indexer] = value instead\n",
            "\n",
            "See the caveats in the documentation: https://pandas.pydata.org/pandas-docs/stable/user_guide/indexing.html#returning-a-view-versus-a-copy\n",
            "  \"\"\"\n"
          ]
        }
      ],
      "source": [
        "def get_num_arms_clean(num):\n",
        "    if num >= 5:\n",
        "        num = 5\n",
        "    return num\n",
        "df_annotations_num_arms_known[\"num_arms_clean\"] = df_annotations_num_arms_known[\"num_arms\"].apply(get_num_arms_clean)"
      ]
    },
    {
      "cell_type": "code",
      "execution_count": 12,
      "id": "df49af99",
      "metadata": {
        "id": "df49af99"
      },
      "outputs": [],
      "source": [
        "df_train = df_annotations_num_arms_known[df_annotations_num_arms_known.train_val == \"train\"]"
      ]
    },
    {
      "cell_type": "code",
      "execution_count": 13,
      "id": "6add3d7d",
      "metadata": {
        "id": "6add3d7d"
      },
      "outputs": [],
      "source": [
        "# TRAINING_DATA = [\n",
        "#     [\"My little kitty is so special\", {\"KAT0\": True}],\n",
        "#     [\"Dude, Totally, Yeah, Video Games\", {\"KAT1\": True}],\n",
        "#     [\"Should I pay $1,000 for the iPhone X?\", {\"KAT1\": True}],\n",
        "#     [\"The iPhone 8 reviews are here\", {\"KAT1\": True}],\n",
        "#     [\"Noa is a great cat name.\", {\"KAT0\": True}],\n",
        "#     [\"We got a new kitten!\", {\"KAT0\": True}]\n",
        "# ]\n",
        "\n",
        "TRAINING_DATA = []\n",
        "for idx in range(len(df_train)):\n",
        "    cats = {}\n",
        "    for a in range(1, 6):\n",
        "        cats[str(a)] = 0\n",
        "    cats[str(int(df_train.num_arms.iloc[idx]))] = 1\n",
        "    text = df_train.text.iloc[idx]\n",
        "    if len(text) > 1000000:\n",
        "        text = text[:1000000]\n",
        "    \n",
        "    TRAINING_DATA.append([text , cats])"
      ]
    },
    {
      "cell_type": "code",
      "execution_count": 14,
      "id": "6b88f1c9",
      "metadata": {
        "colab": {
          "base_uri": "https://localhost:8080/"
        },
        "id": "6b88f1c9",
        "outputId": "cc3013f8-7aa6-47d6-9411-c7fb7416b233"
      },
      "outputs": [
        {
          "output_type": "stream",
          "name": "stdout",
          "text": [
            "{'textcat': 258.47722362424247}\n"
          ]
        }
      ],
      "source": [
        "import spacy\n",
        "# Add imports for example, as well as textcat config...\n",
        "from spacy.training import Example\n",
        "from spacy.pipeline.textcat import single_label_bow_config, single_label_default_config\n",
        "from thinc.api import Config\n",
        "import random\n",
        "\n",
        "# labels should be one-hot encoded\n",
        "\n",
        "\n",
        "\n",
        "# bow\n",
        "# config = Config().from_str(single_label_bow_config)\n",
        "\n",
        "# textensemble with attention\n",
        "config = Config().from_str(single_label_default_config)\n",
        "\n",
        "nlp = spacy.blank(\"en\")\n",
        "# now uses `add_pipe` instead\n",
        "category = nlp.add_pipe(\"textcat\", last=True, config=config)\n",
        "for a in range(1, 6):\n",
        "    category.add_label(str(a))\n",
        "\n",
        "\n",
        "# Start the training\n",
        "nlp.begin_training()\n",
        "\n",
        "# Loop for 10 iterations\n",
        "for itn in range(100):\n",
        "    # Shuffle the training data\n",
        "    random.shuffle(TRAINING_DATA)\n",
        "    losses = {}\n",
        "\n",
        "    # Batch the examples and iterate over them\n",
        "    for batch in spacy.util.minibatch(TRAINING_DATA, size=4):\n",
        "        texts = [nlp.make_doc(text) for text, entities in batch]\n",
        "        annotations = [{\"cats\": entities} for text, entities in batch]\n",
        "\n",
        "        # uses an example object rather than text/annotation tuple\n",
        "        examples = [Example.from_dict(doc, annotation) for doc, annotation in zip(\n",
        "            texts, annotations\n",
        "        )]\n",
        "        nlp.update(examples, losses=losses)\n",
        "    if itn % 20 == 0:\n",
        "        print(losses)\n",
        "        break"
      ]
    },
    {
      "cell_type": "code",
      "execution_count": 15,
      "id": "9b23d914",
      "metadata": {
        "id": "9b23d914"
      },
      "outputs": [],
      "source": [
        "df_annotations_num_arms_known = df_annotations[~df_annotations.num_arms.isna()]"
      ]
    },
    {
      "cell_type": "code",
      "execution_count": 16,
      "id": "f2679198",
      "metadata": {
        "colab": {
          "base_uri": "https://localhost:8080/"
        },
        "id": "f2679198",
        "outputId": "257a51c4-282d-4863-fabd-c5e6428685b3"
      },
      "outputs": [
        {
          "output_type": "stream",
          "name": "stderr",
          "text": [
            "/usr/local/lib/python3.7/dist-packages/ipykernel_launcher.py:1: SettingWithCopyWarning: \n",
            "A value is trying to be set on a copy of a slice from a DataFrame.\n",
            "Try using .loc[row_indexer,col_indexer] = value instead\n",
            "\n",
            "See the caveats in the documentation: https://pandas.pydata.org/pandas-docs/stable/user_guide/indexing.html#returning-a-view-versus-a-copy\n",
            "  \"\"\"Entry point for launching an IPython kernel.\n"
          ]
        }
      ],
      "source": [
        "df_annotations_num_arms_known[\"num_arms_clean\"] = df_annotations_num_arms_known[\"num_arms\"].apply(get_num_arms_clean)"
      ]
    },
    {
      "cell_type": "code",
      "execution_count": 17,
      "id": "5f720fbf",
      "metadata": {
        "id": "5f720fbf"
      },
      "outputs": [],
      "source": [
        "df_val = df_annotations_num_arms_known[df_annotations_num_arms_known.train_val == \"val\"]"
      ]
    },
    {
      "cell_type": "code",
      "execution_count": 18,
      "id": "d9a331d5",
      "metadata": {
        "id": "d9a331d5"
      },
      "outputs": [],
      "source": [
        "predictions = []\n",
        "for idx in range(len(df_val)):\n",
        "    doc = nlp(df_val.text.apply(str).iloc[idx])\n",
        "    predictions.append(doc.cats)"
      ]
    },
    {
      "cell_type": "code",
      "execution_count": 19,
      "id": "68ebd9f0",
      "metadata": {
        "id": "68ebd9f0",
        "scrolled": true,
        "colab": {
          "base_uri": "https://localhost:8080/"
        },
        "outputId": "48d1fdfb-c31c-49e8-e8f4-65bbbbed258a"
      },
      "outputs": [
        {
          "output_type": "stream",
          "name": "stderr",
          "text": [
            "/usr/local/lib/python3.7/dist-packages/ipykernel_launcher.py:1: SettingWithCopyWarning: \n",
            "A value is trying to be set on a copy of a slice from a DataFrame.\n",
            "Try using .loc[row_indexer,col_indexer] = value instead\n",
            "\n",
            "See the caveats in the documentation: https://pandas.pydata.org/pandas-docs/stable/user_guide/indexing.html#returning-a-view-versus-a-copy\n",
            "  \"\"\"Entry point for launching an IPython kernel.\n"
          ]
        }
      ],
      "source": [
        "df_val[\"y_pred\"] = [int(max(p, key=p.get)) for p in predictions]"
      ]
    },
    {
      "cell_type": "code",
      "source": [
        "y_pred_proba = np.asarray([np.asarray([p.get(str(i)) for i in range(1,6)]) for p in predictions])"
      ],
      "metadata": {
        "id": "4WfdxUgkMlvo"
      },
      "id": "4WfdxUgkMlvo",
      "execution_count": 33,
      "outputs": []
    },
    {
      "cell_type": "code",
      "execution_count": 34,
      "id": "118aef49",
      "metadata": {
        "id": "118aef49"
      },
      "outputs": [],
      "source": [
        "num_arms_ground_truths = df_val.num_arms_clean\n",
        "pred_num_arms = df_val[\"y_pred\"]"
      ]
    },
    {
      "cell_type": "code",
      "execution_count": 35,
      "id": "73495a5c",
      "metadata": {
        "id": "73495a5c",
        "colab": {
          "base_uri": "https://localhost:8080/"
        },
        "outputId": "fce2c8bb-1d64-4c2d-e5cb-84641cfad91a"
      },
      "outputs": [
        {
          "output_type": "stream",
          "name": "stdout",
          "text": [
            "Num arms accuracy 0.5662878787878788\n"
          ]
        }
      ],
      "source": [
        "acc = accuracy_score(num_arms_ground_truths, pred_num_arms)\n",
        "print (f\"Num arms accuracy {acc}\")"
      ]
    },
    {
      "cell_type": "code",
      "execution_count": 36,
      "id": "775ae91e",
      "metadata": {
        "id": "775ae91e",
        "colab": {
          "base_uri": "https://localhost:8080/",
          "height": 304
        },
        "outputId": "1f152e00-64e7-4756-a2b2-5f627af911c8"
      },
      "outputs": [
        {
          "output_type": "execute_result",
          "data": {
            "text/plain": [
              "''"
            ],
            "application/vnd.google.colaboratory.intrinsic+json": {
              "type": "string"
            }
          },
          "metadata": {},
          "execution_count": 36
        },
        {
          "output_type": "display_data",
          "data": {
            "text/plain": [
              "<Figure size 432x288 with 2 Axes>"
            ],
            "image/png": "[encoded data removed]"
          },
          "metadata": {
            "needs_background": "light"
          }
        }
      ],
      "source": [
        "ConfusionMatrixDisplay.from_predictions(num_arms_ground_truths, pred_num_arms)\n",
        "plt.xticks(rotation=90)\n",
        ";"
      ]
    },
    {
      "cell_type": "code",
      "execution_count": 37,
      "id": "62319c37",
      "metadata": {
        "id": "62319c37"
      },
      "outputs": [],
      "source": [
        "# nlp.to_disk(\"textcat_numarms.spacy\")\n"
      ]
    },
    {
      "cell_type": "code",
      "source": [
        "pred_num_arms_proba= y_pred_proba"
      ],
      "metadata": {
        "id": "wRdsyi-8bWLb"
      },
      "id": "wRdsyi-8bWLb",
      "execution_count": 38,
      "outputs": []
    },
    {
      "cell_type": "code",
      "execution_count": 39,
      "id": "16527f52",
      "metadata": {
        "colab": {
          "base_uri": "https://localhost:8080/"
        },
        "id": "16527f52",
        "outputId": "77008792-d77b-445a-fa68-7e307546d1d7"
      },
      "outputs": [
        {
          "output_type": "stream",
          "name": "stdout",
          "text": [
            "Num arms ROC AUC 0.8701859120502032 for 1 arm(s)\n",
            "Num arms ROC AUC 0.800525179856115 for 2 arm(s)\n",
            "Num arms ROC AUC 0.7679665242165242 for 3 arm(s)\n",
            "Num arms ROC AUC 0.735324940636483 for 4 arm(s)\n",
            "Num arms ROC AUC 0.7950201915852741 for 5 arm(s)\n",
            "Average 0.7938045496689199\n"
          ]
        }
      ],
      "source": [
        "all_aucs = []\n",
        "from sklearn.metrics import roc_auc_score\n",
        "for i in range(1,5+1):\n",
        "  roc_auc = roc_auc_score(num_arms_ground_truths == i, pred_num_arms_proba[:, i - 1])\n",
        "  print (f\"Num arms ROC AUC {roc_auc} for {i} arm(s)\")\n",
        "  all_aucs.append(roc_auc)\n",
        "print (\"Average\", np.mean(all_aucs))"
      ]
    },
    {
      "cell_type": "code",
      "source": [
        "plt.figure()\n",
        "lw = 2\n",
        "    \n",
        "for i in range(1,6):\n",
        "    fpr, tpr, _ = roc_curve(num_arms_ground_truths == i, pred_num_arms_proba[:, i - 1])\n",
        "    roc_auc = auc(fpr, tpr)\n",
        "    plt.plot(\n",
        "        fpr,\n",
        "        tpr,\n",
        "        # color=\"darkorange\",\n",
        "        lw=lw,\n",
        "        label=f\"ROC curve {i} arms (area = {roc_auc:0.2f})\"\n",
        "    )\n",
        "    plt.plot([0, 1], [0, 1], color=\"gray\", alpha=0.5, lw=lw, linestyle=\"--\")\n",
        "plt.xlim([0.0, 1.0])\n",
        "plt.ylim([0.0, 1.05])\n",
        "plt.xlabel(\"False Positive Rate\")\n",
        "plt.ylabel(\"True Positive Rate\")\n",
        "plt.title(\"Receiver operating characteristic example\")\n",
        "plt.legend(loc=\"lower right\")\n",
        "plt.show()"
      ],
      "metadata": {
        "colab": {
          "base_uri": "https://localhost:8080/",
          "height": 295
        },
        "id": "bvS_8GcTMgCl",
        "outputId": "8876b020-4729-4964-fbd2-8f76640b81af"
      },
      "id": "bvS_8GcTMgCl",
      "execution_count": 40,
      "outputs": [
        {
          "output_type": "display_data",
          "data": {
            "text/plain": [
              "<Figure size 432x288 with 1 Axes>"
            ],
            "image/png": "[encoded data removed]"
          },
          "metadata": {
            "needs_background": "light"
          }
        }
      ]
    },
    {
      "cell_type": "code",
      "source": [],
      "metadata": {
        "id": "X4nPdCHsbt8H"
      },
      "id": "X4nPdCHsbt8H",
      "execution_count": 40,
      "outputs": []
    }
  ],
  "metadata": {
    "colab": {
      "provenance": [],
      "machine_shape": "hm",
      "include_colab_link": true
    },
    "kernelspec": {
      "display_name": "Python [conda env:py310] *",
      "language": "python",
      "name": "conda-env-py310-py"
    },
    "language_info": {
      "codemirror_mode": {
        "name": "ipython",
        "version": 3
      },
      "file_extension": ".py",
      "mimetype": "text/x-python",
      "name": "python",
      "nbconvert_exporter": "python",
      "pygments_lexer": "ipython3",
      "version": "3.10.4"
    },
    "gpuClass": "standard"
  },
  "nbformat": 4,
  "nbformat_minor": 5
}