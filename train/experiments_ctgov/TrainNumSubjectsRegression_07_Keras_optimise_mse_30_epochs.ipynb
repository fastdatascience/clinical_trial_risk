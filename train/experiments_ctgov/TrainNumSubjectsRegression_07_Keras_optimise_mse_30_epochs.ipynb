{
  "cells": [
    {
      "cell_type": "markdown",
      "metadata": {
        "id": "view-in-github",
        "colab_type": "text"
      },
      "source": [
        "<a href=\"https://colab.research.google.com/github/fastdatascience/clinical_trial_risk/blob/fixes_nov_2022/train/ctgov/TrainNumSubjectsRegression_07_Keras_optimise_mse_30_epochs.ipynb\" target=\"_parent\"><img src=\"https://colab.research.google.com/assets/colab-badge.svg\" alt=\"Open In Colab\"/></a>"
      ]
    },
    {
      "cell_type": "code",
      "execution_count": 2,
      "id": "ad812236",
      "metadata": {
        "id": "ad812236"
      },
      "outputs": [],
      "source": [
        "import pandas as pd\n",
        "import re\n",
        "import os\n",
        "import sys\n",
        "import pickle as pkl\n",
        "import seaborn as sns\n",
        "from sklearn.metrics import accuracy_score, confusion_matrix\n",
        "from sklearn.metrics import ConfusionMatrixDisplay\n",
        "from sklearn.metrics import mean_absolute_error, mean_squared_error\n",
        "from sklearn.metrics import roc_auc_score\n",
        "from sklearn.metrics import roc_curve, auc\n",
        "from IPython.display import display\n",
        "import matplotlib.pyplot as plt\n",
        "import numpy as np\n",
        "import json\n",
        "\n",
        "# df_annotations = pd.read_csv(\"all_annotations.csv\")\n"
      ]
    },
    {
      "cell_type": "markdown",
      "id": "e7ea7d33",
      "metadata": {
        "id": "e7ea7d33"
      },
      "source": [
        "# Get data"
      ]
    },
    {
      "cell_type": "code",
      "execution_count": 3,
      "id": "284b9a07",
      "metadata": {
        "id": "284b9a07"
      },
      "outputs": [],
      "source": [
        "# with open(\"protocols.pkl.gz\", \"rb\") as f:\n",
        "#     file_to_pages = pkl.load(f)"
      ]
    },
    {
      "cell_type": "code",
      "execution_count": 4,
      "id": "91013de0",
      "metadata": {
        "id": "91013de0"
      },
      "outputs": [],
      "source": [
        "# import spacy\n",
        "# nlp = spacy.blank(\"en\")"
      ]
    },
    {
      "cell_type": "code",
      "execution_count": 5,
      "id": "65956b92",
      "metadata": {
        "id": "65956b92",
        "scrolled": true
      },
      "outputs": [],
      "source": [
        "# texts = []\n",
        "\n",
        "# for i in range(len(df_annotations)):\n",
        "#     file_name = df_annotations.file.iloc[i]\n",
        "    \n",
        "#     pages= file_to_pages[file_name]\n",
        "    \n",
        "#     text = \"\"\n",
        "#     for page in pages:\n",
        "#         doc = nlp(page)\n",
        "        \n",
        "#         is_include = [False] * len(doc)\n",
        "#         for tok in doc:\n",
        "#             if tok.text.lower() in {\"phase\"}:\n",
        "#                 for token_index in range(tok.i - 20, tok.i + 20):\n",
        "#                     if token_index >= 0 and token_index < len(doc):\n",
        "#                         is_include[token_index] = True\n",
        "        \n",
        "#         for token_index in range(len(doc)):\n",
        "#             if is_include[token_index]:\n",
        "#                 text += doc[token_index].text + doc[token_index].whitespace_\n",
        "                \n",
        "                \n",
        "#     if text == \"\":\n",
        "#         print (\"nothing found\", file_name, df_annotations.phase.iloc[i])\n",
        "#         text = \" \".join(pages)\n",
        "#         if len(text) > 100000:\n",
        "#             text = text[:100000]\n",
        "#     else:\n",
        "#         print (\"found\", file_name, df_annotations.phase.iloc[i])\n",
        "\n",
        "#     texts.append(text)\n",
        "# df_annotations[\"text\"] = texts"
      ]
    },
    {
      "cell_type": "code",
      "execution_count": 6,
      "id": "76a39c5b",
      "metadata": {
        "id": "76a39c5b"
      },
      "outputs": [],
      "source": [
        "# df_annotations.to_csv(\"filtered_for_phase.csv.bz2\")"
      ]
    },
    {
      "cell_type": "code",
      "source": [
        "from google.colab import drive\n",
        "drive.mount('/content/drive')"
      ],
      "metadata": {
        "colab": {
          "base_uri": "https://localhost:8080/"
        },
        "id": "xCe1anFkGSrt",
        "outputId": "4f322feb-d05e-49ea-b0c5-46f966800091"
      },
      "id": "xCe1anFkGSrt",
      "execution_count": 7,
      "outputs": [
        {
          "output_type": "stream",
          "name": "stdout",
          "text": [
            "Mounted at /content/drive\n"
          ]
        }
      ]
    },
    {
      "cell_type": "code",
      "source": [
        "df_annotations= pd.read_csv(\"/content/drive/MyDrive/data/filtered_for_phase_arms_subjects_02.csv.bz2\")"
      ],
      "metadata": {
        "id": "FdcTHlHsGWnk"
      },
      "id": "FdcTHlHsGWnk",
      "execution_count": 8,
      "outputs": []
    },
    {
      "cell_type": "code",
      "source": [
        "#df_annotations.text = df_annotations.text.apply(lambda t : t[:10000] if len(t) > 10000 else t)"
      ],
      "metadata": {
        "id": "wGilqqbTi76N"
      },
      "id": "wGilqqbTi76N",
      "execution_count": 9,
      "outputs": []
    },
    {
      "cell_type": "code",
      "source": [
        "def get_num_subjects_clean(num):\n",
        "    if pd.isna(num):\n",
        "        return None\n",
        "    if num >= 10000:\n",
        "        return \"10000+\"\n",
        "    if num >= 1000:\n",
        "        return \"1000+\"\n",
        "    if num >= 500:\n",
        "        return \"500+\"\n",
        "    if num >= 200:\n",
        "        return \"200+\"\n",
        "    if num >= 100:\n",
        "        return \"100+\"\n",
        "    if num >= 50:\n",
        "        return \"50+\"\n",
        "    if num >= 25:\n",
        "        return \"25+\"\n",
        "    return \"1-24\"\n",
        "df_annotations[\"num_subjects_clean\"] = df_annotations[\"num_subjects\"].apply(get_num_subjects_clean)"
      ],
      "metadata": {
        "id": "mZ82V337HouW"
      },
      "id": "mZ82V337HouW",
      "execution_count": 10,
      "outputs": []
    },
    {
      "cell_type": "code",
      "source": [
        "df_annotations[\"num_subjects_clean\"].value_counts()"
      ],
      "metadata": {
        "colab": {
          "base_uri": "https://localhost:8080/"
        },
        "id": "cKMRrJjQIF7U",
        "outputId": "66955776-9832-4a85-a61a-38e183ceeafc"
      },
      "id": "cKMRrJjQIF7U",
      "execution_count": 11,
      "outputs": [
        {
          "output_type": "execute_result",
          "data": {
            "text/plain": [
              "1-24      2980\n",
              "25+       2119\n",
              "50+       2016\n",
              "100+      1674\n",
              "200+      1656\n",
              "500+       816\n",
              "1000+      547\n",
              "10000+     112\n",
              "Name: num_subjects_clean, dtype: int64"
            ]
          },
          "metadata": {},
          "execution_count": 11
        }
      ]
    },
    {
      "cell_type": "code",
      "execution_count": 12,
      "id": "89e1c4f0",
      "metadata": {
        "id": "89e1c4f0"
      },
      "outputs": [],
      "source": [
        "# df_annotations = pd.read_csv(\"filtered_for_phase.csv.bz2\")"
      ]
    },
    {
      "cell_type": "code",
      "execution_count": 13,
      "id": "a12043ac",
      "metadata": {
        "id": "a12043ac"
      },
      "outputs": [],
      "source": [
        "# del file_to_pages"
      ]
    },
    {
      "cell_type": "code",
      "execution_count": 14,
      "id": "bbe0ba77",
      "metadata": {
        "id": "bbe0ba77"
      },
      "outputs": [],
      "source": [
        "phase_map = {\"Phase 2\":\"2\",\n",
        "\"Phase 3\":\"3\",\n",
        "\"Phase 4\":\"4\",\n",
        "\"Phase 1\":\"1\",\n",
        "\"Phase 1/Phase 2\":\"1.5\",\n",
        "\"Not Applicable\":\"0\",\n",
        "\"Phase 2/Phase 3\":\"2.5\",\n",
        "\"Early Phase 1\":\"0.5\"}\n",
        "df_annotations[\"phase_clean\"] = df_annotations[\"phase\"].apply(lambda x : phase_map.get(x, None))"
      ]
    },
    {
      "cell_type": "code",
      "source": [
        "phase_clean_map = {}\n",
        "for idx, val in enumerate(sorted(set(phase_map.values()), key = lambda x : float(x))):\n",
        "  phase_clean_map[val] = idx\n",
        "# invert the dictionary\n",
        "phase_lookup = {v: k for k, v in phase_clean_map.items()}\n",
        "\n",
        "phase_list = [phase_lookup[x] for x in sorted(phase_lookup)]\n",
        "phase_list"
      ],
      "metadata": {
        "colab": {
          "base_uri": "https://localhost:8080/"
        },
        "id": "DNjQhXOVrQxj",
        "outputId": "37fe36a2-5f46-4475-e8fd-7b01e71fdd84"
      },
      "id": "DNjQhXOVrQxj",
      "execution_count": 15,
      "outputs": [
        {
          "output_type": "execute_result",
          "data": {
            "text/plain": [
              "['0', '0.5', '1', '1.5', '2', '2.5', '3', '4']"
            ]
          },
          "metadata": {},
          "execution_count": 15
        }
      ]
    },
    {
      "cell_type": "code",
      "execution_count": 16,
      "id": "f99e999b",
      "metadata": {
        "id": "f99e999b"
      },
      "outputs": [],
      "source": [
        "def get_num_arms_clean(num):\n",
        "    if pd.isna(num):\n",
        "        return None\n",
        "    if num >= 5:\n",
        "        num = 5\n",
        "    return num\n",
        "df_annotations[\"num_arms_clean\"] = df_annotations[\"num_arms\"].apply(get_num_arms_clean)"
      ]
    },
    {
      "cell_type": "markdown",
      "source": [
        "# Begin Keras/TF"
      ],
      "metadata": {
        "id": "Tq8Iseh1e_uQ"
      },
      "id": "Tq8Iseh1e_uQ"
    },
    {
      "cell_type": "code",
      "source": [
        "import numpy as np\n",
        "\n",
        "import tensorflow as tf\n",
        "import tensorflow_hub as hub\n",
        "import tensorflow_datasets as tfds\n",
        "\n",
        "import matplotlib.pyplot as plt\n",
        "\n",
        "print(\"Version: \", tf.__version__)\n",
        "print(\"Eager mode: \", tf.executing_eagerly())\n",
        "print(\"Hub version: \", hub.__version__)\n",
        "print(\"GPU is\", \"available\" if tf.config.list_physical_devices('GPU') else \"NOT AVAILABLE\")"
      ],
      "metadata": {
        "id": "eE1-7kc4ceQP",
        "colab": {
          "base_uri": "https://localhost:8080/"
        },
        "outputId": "cec26694-3769-41cc-819d-0bc396fbd5ec"
      },
      "id": "eE1-7kc4ceQP",
      "execution_count": 17,
      "outputs": [
        {
          "output_type": "stream",
          "name": "stdout",
          "text": [
            "Version:  2.9.2\n",
            "Eager mode:  True\n",
            "Hub version:  0.12.0\n",
            "GPU is available\n"
          ]
        }
      ]
    },
    {
      "cell_type": "code",
      "source": [
        "num_subjects_clean_map = {}\n",
        "for idx, val in enumerate(sorted(set(df_annotations[~df_annotations.num_subjects_clean.isna()].num_subjects_clean), key = lambda x : int(re.sub(r'\\D.*$', '', x)))):\n",
        "  num_subjects_clean_map[val] = idx"
      ],
      "metadata": {
        "id": "0HHgTj8Qfub9"
      },
      "id": "0HHgTj8Qfub9",
      "execution_count": 18,
      "outputs": []
    },
    {
      "cell_type": "code",
      "source": [
        "# invert the dictionary\n",
        "num_subjects_lookup = {v: k for k, v in num_subjects_clean_map.items()}"
      ],
      "metadata": {
        "id": "6jQQHMvxkC2l"
      },
      "id": "6jQQHMvxkC2l",
      "execution_count": 19,
      "outputs": []
    },
    {
      "cell_type": "code",
      "source": [
        "num_subjects_list = [num_subjects_lookup[x] for x in sorted(num_subjects_lookup)]\n",
        "num_subjects_list"
      ],
      "metadata": {
        "colab": {
          "base_uri": "https://localhost:8080/"
        },
        "id": "C6fm756mlUSk",
        "outputId": "f3d2ea73-398b-40ef-ec60-fb728cc68736"
      },
      "id": "C6fm756mlUSk",
      "execution_count": 20,
      "outputs": [
        {
          "output_type": "execute_result",
          "data": {
            "text/plain": [
              "['1-24', '25+', '50+', '100+', '200+', '500+', '1000+', '10000+']"
            ]
          },
          "metadata": {},
          "execution_count": 20
        }
      ]
    },
    {
      "cell_type": "code",
      "source": [
        "num_subjects_clean_map"
      ],
      "metadata": {
        "colab": {
          "base_uri": "https://localhost:8080/"
        },
        "id": "sDIKJA57hR-K",
        "outputId": "bd928c5e-e549-483d-fcc6-6ba2ee67df23"
      },
      "id": "sDIKJA57hR-K",
      "execution_count": 21,
      "outputs": [
        {
          "output_type": "execute_result",
          "data": {
            "text/plain": [
              "{'1-24': 0,\n",
              " '25+': 1,\n",
              " '50+': 2,\n",
              " '100+': 3,\n",
              " '200+': 4,\n",
              " '500+': 5,\n",
              " '1000+': 6,\n",
              " '10000+': 7}"
            ]
          },
          "metadata": {},
          "execution_count": 21
        }
      ]
    },
    {
      "cell_type": "code",
      "source": [
        "def get_one_hot_num_subjects(x):\n",
        "  a = [0] * len(num_subjects_clean_map)\n",
        "  if x is None:\n",
        "    return a\n",
        "  a[num_subjects_clean_map[x]] = 1\n",
        "  return a"
      ],
      "metadata": {
        "id": "EFTomf_xfjTS"
      },
      "id": "EFTomf_xfjTS",
      "execution_count": 22,
      "outputs": []
    },
    {
      "cell_type": "code",
      "source": [
        "df_annotations[\"num_subjects_one_hot\"] = df_annotations[\"num_subjects_clean\"].apply(get_one_hot_num_subjects)"
      ],
      "metadata": {
        "id": "GCf8jZQZiBbC"
      },
      "id": "GCf8jZQZiBbC",
      "execution_count": 23,
      "outputs": []
    },
    {
      "cell_type": "code",
      "source": [
        "df_annotations[\"num_subjects_one_hot\"] = df_annotations[\"num_subjects_clean\"].apply(get_one_hot_num_subjects)"
      ],
      "metadata": {
        "id": "RoXplcZ6q3N3"
      },
      "id": "RoXplcZ6q3N3",
      "execution_count": 24,
      "outputs": []
    },
    {
      "cell_type": "code",
      "source": [
        "def get_one_hot_num_arms(x):\n",
        "  a = [0] * 5\n",
        "  if x is not None and not pd.isna(x):\n",
        "    a[int(x - 1)] = 1\n",
        "  return a\n",
        "df_annotations[\"num_arms_one_hot\"] = df_annotations[\"num_arms_clean\"].apply(get_one_hot_num_arms)"
      ],
      "metadata": {
        "id": "bGkQ4LeYq3QR"
      },
      "id": "bGkQ4LeYq3QR",
      "execution_count": 25,
      "outputs": []
    },
    {
      "cell_type": "code",
      "source": [
        "def get_one_hot_phase(x):\n",
        "  a = [0] * len(phase_clean_map)\n",
        "  if x is None:\n",
        "    return a\n",
        "  a[phase_clean_map[x]] = 1\n",
        "  return a\n",
        "df_annotations[\"phase_one_hot\"] = df_annotations[\"phase_clean\"].apply(get_one_hot_phase)"
      ],
      "metadata": {
        "id": "POLLhzW_rFvz"
      },
      "id": "POLLhzW_rFvz",
      "execution_count": 26,
      "outputs": []
    },
    {
      "cell_type": "markdown",
      "source": [
        "Concatenate the three bits of one-hot data into one column"
      ],
      "metadata": {
        "id": "ondugbdEsLJ7"
      },
      "id": "ondugbdEsLJ7"
    },
    {
      "cell_type": "code",
      "source": [
        "concatenated_one_hot = []\n",
        "for i in range(len(df_annotations)):\n",
        "  concatenated = list(df_annotations.phase_one_hot.iloc[i]) + \\\n",
        "  list(df_annotations.num_arms_one_hot.iloc[i]) + \\\n",
        "  list(df_annotations.num_subjects_one_hot.iloc[i]) + [df_annotations.has_sap.iloc[i]]\n",
        "  concatenated_one_hot.append(concatenated)\n",
        "df_annotations[\"concatenated_one_hot\"] = concatenated_one_hot"
      ],
      "metadata": {
        "id": "eykeDEeFr56g"
      },
      "id": "eykeDEeFr56g",
      "execution_count": 27,
      "outputs": []
    },
    {
      "cell_type": "code",
      "source": [
        "np.sum(np.asarray([np.asarray(x) for x in df_annotations[\"concatenated_one_hot\"]]), axis=1).mean()"
      ],
      "metadata": {
        "colab": {
          "base_uri": "https://localhost:8080/"
        },
        "id": "eFM7jbfutXfu",
        "outputId": "31536633-804d-4807-a627-50db01a0104c"
      },
      "id": "eFM7jbfutXfu",
      "execution_count": 28,
      "outputs": [
        {
          "output_type": "execute_result",
          "data": {
            "text/plain": [
              "nan"
            ]
          },
          "metadata": {},
          "execution_count": 28
        }
      ]
    },
    {
      "cell_type": "code",
      "source": [
        "np.sum(np.asarray([np.asarray(x) for x in df_annotations[\"concatenated_one_hot\"]]), axis=0)"
      ],
      "metadata": {
        "colab": {
          "base_uri": "https://localhost:8080/"
        },
        "id": "YmCgmZh3tmkn",
        "outputId": "5a5adbb9-2a41-4402-9998-4ed2214c99ba"
      },
      "id": "YmCgmZh3tmkn",
      "execution_count": 29,
      "outputs": [
        {
          "output_type": "execute_result",
          "data": {
            "text/plain": [
              "array([ 519.,  135., 1154.,  983., 4317.,  297., 2725., 1461., 3086.,\n",
              "       5228., 1456.,  908.,  913., 2980., 2119., 2016., 1674., 1656.,\n",
              "        816.,  547.,  112.,   nan])"
            ]
          },
          "metadata": {},
          "execution_count": 29
        }
      ]
    },
    {
      "cell_type": "code",
      "source": [
        "num_classes = len(concatenated)\n",
        "print (f\"There are {num_classes} classes in this multi-label classifier\")"
      ],
      "metadata": {
        "colab": {
          "base_uri": "https://localhost:8080/"
        },
        "id": "yuUe_QwxsQRE",
        "outputId": "18ede553-85bf-4885-bc1d-fd74b8fa3ba6"
      },
      "id": "yuUe_QwxsQRE",
      "execution_count": 30,
      "outputs": [
        {
          "output_type": "stream",
          "name": "stdout",
          "text": [
            "There are 22 classes in this multi-label classifier\n"
          ]
        }
      ]
    },
    {
      "cell_type": "code",
      "source": [
        "df_train = df_annotations[df_annotations.train_val == \"train\"]\n",
        "df_val = df_annotations[df_annotations.train_val == \"val\"]"
      ],
      "metadata": {
        "id": "F_VhjeihirIu"
      },
      "id": "F_VhjeihirIu",
      "execution_count": 31,
      "outputs": []
    },
    {
      "cell_type": "code",
      "source": [
        "df_train_got_some_ground_truths = df_train[~df_train.num_subjects.isna()]"
      ],
      "metadata": {
        "id": "pIWANTOGqDkg"
      },
      "id": "pIWANTOGqDkg",
      "execution_count": 32,
      "outputs": []
    },
    {
      "cell_type": "code",
      "source": [
        "len(df_train_got_some_ground_truths), len(df_train)"
      ],
      "metadata": {
        "colab": {
          "base_uri": "https://localhost:8080/"
        },
        "id": "yfw08MW2sYTw",
        "outputId": "29b3626c-a9ab-4348-a9f2-052499f87440"
      },
      "id": "yfw08MW2sYTw",
      "execution_count": 33,
      "outputs": [
        {
          "output_type": "execute_result",
          "data": {
            "text/plain": [
              "(9535, 9538)"
            ]
          },
          "metadata": {},
          "execution_count": 33
        }
      ]
    },
    {
      "cell_type": "code",
      "source": [
        "train_labels = np.asarray(list(df_train_got_some_ground_truths.num_subjects))\n",
        "test_labels = np.asarray(list(df_val.num_subjects))"
      ],
      "metadata": {
        "id": "0upX622wfjVv"
      },
      "id": "0upX622wfjVv",
      "execution_count": 34,
      "outputs": []
    },
    {
      "cell_type": "code",
      "source": [
        "train_examples = np.asarray(list(df_train_got_some_ground_truths.text))\n",
        "test_examples = np.asarray(list(df_val.text))"
      ],
      "metadata": {
        "id": "YDlX78f5cz_F"
      },
      "id": "YDlX78f5cz_F",
      "execution_count": 35,
      "outputs": []
    },
    {
      "cell_type": "code",
      "source": [
        "print(\"Training entries: {}, test entries: {}\".format(len(train_examples), len(test_examples)))"
      ],
      "metadata": {
        "colab": {
          "base_uri": "https://localhost:8080/"
        },
        "id": "LFDvdJe_fjYD",
        "outputId": "35087cb9-a785-4918-b710-f5243a5c99f6"
      },
      "id": "LFDvdJe_fjYD",
      "execution_count": 36,
      "outputs": [
        {
          "output_type": "stream",
          "name": "stdout",
          "text": [
            "Training entries: 9535, test entries: 1085\n"
          ]
        }
      ]
    },
    {
      "cell_type": "code",
      "source": [
        "train_labels[:10]"
      ],
      "metadata": {
        "colab": {
          "base_uri": "https://localhost:8080/"
        },
        "id": "NPk1jhPOfjcH",
        "outputId": "246544a1-1c75-402a-82f9-1ac255911aef"
      },
      "id": "NPk1jhPOfjcH",
      "execution_count": 37,
      "outputs": [
        {
          "output_type": "execute_result",
          "data": {
            "text/plain": [
              "array([193., 668.,  32.,  50.,  25., 230.,  28.,  94.,  68., 217.])"
            ]
          },
          "metadata": {},
          "execution_count": 37
        }
      ]
    },
    {
      "cell_type": "code",
      "source": [
        "model = \"https://tfhub.dev/google/nnlm-en-dim50/2\"\n",
        "hub_layer = hub.KerasLayer(model, input_shape=[], dtype=tf.string, trainable=True)\n",
        "hub_layer(train_examples[:3])"
      ],
      "metadata": {
        "colab": {
          "base_uri": "https://localhost:8080/"
        },
        "id": "Ju7TNdElgQ-P",
        "outputId": "3d1b9632-7fd5-4657-8f90-f729349a4234"
      },
      "id": "Ju7TNdElgQ-P",
      "execution_count": 38,
      "outputs": [
        {
          "output_type": "execute_result",
          "data": {
            "text/plain": [
              "<tf.Tensor: shape=(3, 50), dtype=float32, numpy=\n",
              "array([[ 3.8062613e+00, -8.5627154e-02,  2.1885273e+00,  1.2064425e+00,\n",
              "         1.1741788e+00, -1.6362848e+00, -1.6544684e+00,  1.9301386e+00,\n",
              "        -7.3246288e-01, -2.0803753e-01, -1.8835599e+00, -8.1751305e-01,\n",
              "         1.3482304e+00, -4.1169381e+00,  1.1123058e+00, -2.7861402e+00,\n",
              "         3.6909611e+00, -2.2455294e+00,  1.1222224e+00,  1.9886566e+00,\n",
              "        -1.0249604e-01,  2.6178288e+00,  3.5085483e+00, -7.0547515e-01,\n",
              "         1.2558808e+00, -1.6434602e+00, -1.1090916e+00,  4.3890409e+00,\n",
              "        -1.7149318e+00, -2.8435621e+00,  1.0796951e+00,  2.6536503e+00,\n",
              "        -3.8684306e-01, -3.1688907e+00,  1.0274379e-01, -2.0242805e+00,\n",
              "         2.3353672e+00, -1.7880658e+00,  5.3773862e-01, -1.0440906e+00,\n",
              "        -9.3668759e-01, -1.6973139e+00, -1.4264782e-01,  2.6114061e+00,\n",
              "         5.0076956e-01, -1.2994319e+00,  9.0301037e-01, -1.4811747e+00,\n",
              "         8.1332225e-01,  2.3800061e+00],\n",
              "       [ 2.5299299e+00,  6.9842733e-02,  1.2200273e+00,  8.4425837e-01,\n",
              "         5.9937924e-01, -1.0244265e+00, -9.2848974e-01,  1.2883713e+00,\n",
              "        -5.4952449e-01, -1.3766880e-01, -1.3184690e+00, -3.8536155e-01,\n",
              "         3.2475236e-01, -2.4055672e+00,  7.8073001e-01, -1.3195676e+00,\n",
              "         1.4582082e+00, -1.1922650e+00,  6.4574677e-01,  1.1451379e+00,\n",
              "        -3.6335005e-03,  8.1105644e-01,  1.6614536e+00,  7.0692167e-02,\n",
              "         1.5279856e-01, -9.9357730e-01, -5.5831790e-01,  1.4943976e+00,\n",
              "        -9.0663010e-01, -1.4006202e+00,  1.9310248e-01,  1.0247235e+00,\n",
              "        -6.5576650e-02, -1.7880753e+00, -4.0788367e-01, -1.2515424e+00,\n",
              "         8.9619911e-01, -1.0979604e+00, -9.6578687e-02, -5.5380207e-01,\n",
              "        -1.7643718e-01,  1.7039146e-02, -3.2528803e-01,  1.9876856e+00,\n",
              "         5.2700825e-02, -1.2491058e+00,  1.1346469e-01, -4.4258308e-01,\n",
              "         5.7714480e-01,  1.6421361e+00],\n",
              "       [ 3.1315677e+00, -1.4949707e+00,  1.7751954e+00,  3.2980654e-01,\n",
              "         1.0419462e+00, -2.3750334e+00, -1.1761595e+00,  2.2303872e+00,\n",
              "        -1.2242346e+00, -2.9328495e-01, -1.5865028e+00, -2.7982643e-01,\n",
              "         1.7525562e+00, -4.0603199e+00, -2.5970027e-01, -2.3546319e+00,\n",
              "         4.7730613e+00, -1.0558661e+00,  1.3674231e+00,  1.4121630e+00,\n",
              "         6.2468117e-01,  1.8053319e+00,  2.6160557e+00,  2.6594770e-01,\n",
              "         7.6969761e-01, -1.9515115e+00,  1.3513342e-01,  5.1477046e+00,\n",
              "        -1.9099628e+00, -2.3477449e+00,  8.9626384e-01,  1.9337162e+00,\n",
              "         2.7819487e-01, -1.4370100e+00,  1.1726424e+00, -1.0679307e+00,\n",
              "         2.5728991e+00, -1.7260441e+00,  4.2059946e-01, -9.4905460e-01,\n",
              "        -2.4920563e-01, -1.6811064e+00,  1.4859284e-01,  2.0329008e+00,\n",
              "         6.2556720e-01, -1.3739069e+00,  3.1094185e-01, -1.5155188e+00,\n",
              "         1.5543662e+00,  1.2640179e+00]], dtype=float32)>"
            ]
          },
          "metadata": {},
          "execution_count": 38
        }
      ]
    },
    {
      "cell_type": "code",
      "source": [
        "model = tf.keras.Sequential()\n",
        "model.add(hub_layer)\n",
        "model.add(tf.keras.layers.Dense(16, activation='relu'))\n",
        "model.add(tf.keras.layers.Dense(1))\n",
        "\n",
        "model.summary()"
      ],
      "metadata": {
        "colab": {
          "base_uri": "https://localhost:8080/"
        },
        "id": "XVwvmzuQgRAQ",
        "outputId": "bc81b6dc-7805-4204-bda2-ebb4b3ccec1a"
      },
      "id": "XVwvmzuQgRAQ",
      "execution_count": 39,
      "outputs": [
        {
          "output_type": "stream",
          "name": "stdout",
          "text": [
            "Model: \"sequential\"\n",
            "_________________________________________________________________\n",
            " Layer (type)                Output Shape              Param #   \n",
            "=================================================================\n",
            " keras_layer (KerasLayer)    (None, 50)                48190600  \n",
            "                                                                 \n",
            " dense (Dense)               (None, 16)                816       \n",
            "                                                                 \n",
            " dense_1 (Dense)             (None, 1)                 17        \n",
            "                                                                 \n",
            "=================================================================\n",
            "Total params: 48,191,433\n",
            "Trainable params: 48,191,433\n",
            "Non-trainable params: 0\n",
            "_________________________________________________________________\n"
          ]
        }
      ]
    },
    {
      "cell_type": "code",
      "source": [
        "model.compile(optimizer='adam',\n",
        "              loss=tf.losses.MeanSquaredError(),\n",
        "              metrics=[tf.metrics.MeanAbsolutePercentageError(name='mape'), tf.metrics.MeanAbsoluteError(name='mae'), tf.metrics.RootMeanSquaredError(name='rmse')],\n",
        "              run_eagerly=True)"
      ],
      "metadata": {
        "id": "4grRdQTWgRCY"
      },
      "id": "4grRdQTWgRCY",
      "execution_count": 41,
      "outputs": []
    },
    {
      "cell_type": "code",
      "source": [
        "# x_val = train_examples[:10000]\n",
        "# partial_x_train = train_examples[10000:]\n",
        "\n",
        "# y_val = train_labels[:10000]\n",
        "# partial_y_train = train_labels[10000:]\n",
        "\n",
        "partial_x_train = train_examples\n",
        "x_val = test_examples\n",
        "\n",
        "partial_y_train = train_labels\n",
        "y_val = test_labels"
      ],
      "metadata": {
        "id": "--LLz2FYgREf"
      },
      "id": "--LLz2FYgREf",
      "execution_count": 42,
      "outputs": []
    },
    {
      "cell_type": "code",
      "source": [
        "history = model.fit(partial_x_train,\n",
        "                    partial_y_train,\n",
        "                    epochs=30,\n",
        "                    batch_size=512,\n",
        "                    validation_data=(x_val, y_val),\n",
        "                    verbose=1)"
      ],
      "metadata": {
        "colab": {
          "base_uri": "https://localhost:8080/"
        },
        "id": "zEMElK4ygRGg",
        "outputId": "d6804b1c-5752-4d20-d371-3d517dd6eb17"
      },
      "id": "zEMElK4ygRGg",
      "execution_count": 43,
      "outputs": [
        {
          "output_type": "stream",
          "name": "stdout",
          "text": [
            "Epoch 1/30\n",
            "19/19 [==============================] - 9s 276ms/step - loss: 195555280.0000 - mape: 2685350.5000 - mae: 918.5573 - rmse: 13984.1074 - val_loss: 943353600.0000 - val_mape: 6402355.5000 - val_mae: 1467.2103 - val_rmse: 30714.0605\n",
            "Epoch 2/30\n",
            "19/19 [==============================] - 5s 257ms/step - loss: 195540704.0000 - mape: 7636568.0000 - mae: 910.6647 - rmse: 13983.5869 - val_loss: 943340224.0000 - val_mape: 13975548.0000 - val_mae: 1459.5302 - val_rmse: 30713.8438\n",
            "Epoch 3/30\n",
            "19/19 [==============================] - 5s 254ms/step - loss: 195523184.0000 - mape: 15497542.0000 - mae: 903.2548 - rmse: 13982.9600 - val_loss: 943321344.0000 - val_mape: 24929892.0000 - val_mae: 1452.2344 - val_rmse: 30713.5352\n",
            "Epoch 4/30\n",
            "19/19 [==============================] - 5s 253ms/step - loss: 195494848.0000 - mape: 27718126.0000 - mae: 896.9689 - rmse: 13981.9473 - val_loss: 943295488.0000 - val_mape: 40536680.0000 - val_mae: 1447.3038 - val_rmse: 30713.1152\n",
            "Epoch 5/30\n",
            "19/19 [==============================] - 5s 254ms/step - loss: 195458560.0000 - mape: 49582320.0000 - mae: 893.9889 - rmse: 13980.6494 - val_loss: 943256000.0000 - val_mape: 65213364.0000 - val_mae: 1446.4785 - val_rmse: 30712.4727\n",
            "Epoch 6/30\n",
            "19/19 [==============================] - 5s 257ms/step - loss: 195407904.0000 - mape: 75938016.0000 - mae: 897.8674 - rmse: 13978.8369 - val_loss: 943206336.0000 - val_mape: 98381920.0000 - val_mae: 1453.2269 - val_rmse: 30711.6641\n",
            "Epoch 7/30\n",
            "19/19 [==============================] - 5s 258ms/step - loss: 195342048.0000 - mape: 114345392.0000 - mae: 911.8502 - rmse: 13976.4814 - val_loss: 943150272.0000 - val_mape: 138862768.0000 - val_mae: 1470.7502 - val_rmse: 30710.7500\n",
            "Epoch 8/30\n",
            "19/19 [==============================] - 5s 255ms/step - loss: 195269696.0000 - mape: 152997808.0000 - mae: 936.1666 - rmse: 13973.8926 - val_loss: 943093440.0000 - val_mape: 183581248.0000 - val_mae: 1498.7284 - val_rmse: 30709.8262\n",
            "Epoch 9/30\n",
            "19/19 [==============================] - 5s 257ms/step - loss: 195188640.0000 - mape: 205800208.0000 - mae: 967.3538 - rmse: 13970.9922 - val_loss: 943038464.0000 - val_mape: 231235552.0000 - val_mae: 1533.7690 - val_rmse: 30708.9297\n",
            "Epoch 10/30\n",
            "19/19 [==============================] - 5s 256ms/step - loss: 195112448.0000 - mape: 246653936.0000 - mae: 1005.7482 - rmse: 13968.2656 - val_loss: 942990464.0000 - val_mape: 275591872.0000 - val_mae: 1569.4287 - val_rmse: 30708.1484\n",
            "Epoch 11/30\n",
            "19/19 [==============================] - 5s 254ms/step - loss: 195036080.0000 - mape: 282179488.0000 - mae: 1042.1382 - rmse: 13965.5312 - val_loss: 942948992.0000 - val_mape: 315799456.0000 - val_mae: 1604.2843 - val_rmse: 30707.4746\n",
            "Epoch 12/30\n",
            "19/19 [==============================] - 5s 255ms/step - loss: 194964448.0000 - mape: 332670464.0000 - mae: 1078.9525 - rmse: 13962.9668 - val_loss: 942909952.0000 - val_mape: 354070816.0000 - val_mae: 1639.5580 - val_rmse: 30706.8379\n",
            "Epoch 13/30\n",
            "19/19 [==============================] - 5s 255ms/step - loss: 194888976.0000 - mape: 366917248.0000 - mae: 1110.3372 - rmse: 13960.2646 - val_loss: 942876928.0000 - val_mape: 380257248.0000 - val_mae: 1664.4104 - val_rmse: 30706.3008\n",
            "Epoch 14/30\n",
            "19/19 [==============================] - 5s 256ms/step - loss: 194827184.0000 - mape: 394324864.0000 - mae: 1139.4419 - rmse: 13958.0508 - val_loss: 942843648.0000 - val_mape: 403046816.0000 - val_mae: 1686.5850 - val_rmse: 30705.7578\n",
            "Epoch 15/30\n",
            "19/19 [==============================] - 5s 254ms/step - loss: 194737616.0000 - mape: 403804768.0000 - mae: 1143.6136 - rmse: 13954.8418 - val_loss: 942814464.0000 - val_mape: 405671424.0000 - val_mae: 1688.6361 - val_rmse: 30705.2832\n",
            "Epoch 16/30\n",
            "19/19 [==============================] - 5s 258ms/step - loss: 194661248.0000 - mape: 418030976.0000 - mae: 1151.4497 - rmse: 13952.1055 - val_loss: 942780544.0000 - val_mape: 415720992.0000 - val_mae: 1698.6283 - val_rmse: 30704.7305\n",
            "Epoch 17/30\n",
            "19/19 [==============================] - 5s 256ms/step - loss: 194565632.0000 - mape: 431887456.0000 - mae: 1161.0873 - rmse: 13948.6787 - val_loss: 942744320.0000 - val_mape: 427984160.0000 - val_mae: 1710.2635 - val_rmse: 30704.1406\n",
            "Epoch 18/30\n",
            "19/19 [==============================] - 5s 254ms/step - loss: 194470544.0000 - mape: 446949888.0000 - mae: 1172.2046 - rmse: 13945.2695 - val_loss: 942702400.0000 - val_mape: 442449120.0000 - val_mae: 1724.7831 - val_rmse: 30703.4590\n",
            "Epoch 19/30\n",
            "19/19 [==============================] - 5s 257ms/step - loss: 194361344.0000 - mape: 470588320.0000 - mae: 1187.6545 - rmse: 13941.3535 - val_loss: 942656704.0000 - val_mape: 448999232.0000 - val_mae: 1731.0571 - val_rmse: 30702.7148\n",
            "Epoch 20/30\n",
            "19/19 [==============================] - 5s 257ms/step - loss: 194235952.0000 - mape: 477464704.0000 - mae: 1183.7280 - rmse: 13936.8555 - val_loss: 942608448.0000 - val_mape: 445357632.0000 - val_mae: 1727.2117 - val_rmse: 30701.9277\n",
            "Epoch 21/30\n",
            "19/19 [==============================] - 5s 258ms/step - loss: 194108320.0000 - mape: 493114336.0000 - mae: 1187.1017 - rmse: 13932.2764 - val_loss: 942552960.0000 - val_mape: 453259072.0000 - val_mae: 1734.7274 - val_rmse: 30701.0254\n",
            "Epoch 22/30\n",
            "19/19 [==============================] - 5s 258ms/step - loss: 193959776.0000 - mape: 497211264.0000 - mae: 1182.5031 - rmse: 13926.9443 - val_loss: 942494528.0000 - val_mape: 447023168.0000 - val_mae: 1728.1519 - val_rmse: 30700.0723\n",
            "Epoch 23/30\n",
            "19/19 [==============================] - 5s 256ms/step - loss: 193804448.0000 - mape: 507926080.0000 - mae: 1181.8062 - rmse: 13921.3662 - val_loss: 942430144.0000 - val_mape: 453147264.0000 - val_mae: 1734.0657 - val_rmse: 30699.0234\n",
            "Epoch 24/30\n",
            "19/19 [==============================] - 5s 250ms/step - loss: 193621600.0000 - mape: 511151328.0000 - mae: 1173.6018 - rmse: 13914.7979 - val_loss: 942361408.0000 - val_mape: 440514464.0000 - val_mae: 1721.7139 - val_rmse: 30697.9043\n",
            "Epoch 25/30\n",
            "19/19 [==============================] - 5s 257ms/step - loss: 193431744.0000 - mape: 517079328.0000 - mae: 1164.8350 - rmse: 13907.9736 - val_loss: 942288000.0000 - val_mape: 431403136.0000 - val_mae: 1712.6464 - val_rmse: 30696.7090\n",
            "Epoch 26/30\n",
            "19/19 [==============================] - 5s 254ms/step - loss: 193225200.0000 - mape: 533765056.0000 - mae: 1165.6118 - rmse: 13900.5469 - val_loss: 942198336.0000 - val_mape: 436662624.0000 - val_mae: 1720.0883 - val_rmse: 30695.2480\n",
            "Epoch 27/30\n",
            "19/19 [==============================] - 5s 258ms/step - loss: 192974960.0000 - mape: 545437504.0000 - mae: 1161.4736 - rmse: 13891.5420 - val_loss: 942114304.0000 - val_mape: 430012576.0000 - val_mae: 1714.8671 - val_rmse: 30693.8789\n",
            "Epoch 28/30\n",
            "19/19 [==============================] - 5s 254ms/step - loss: 192762944.0000 - mape: 571062592.0000 - mae: 1169.7859 - rmse: 13883.9092 - val_loss: 942006336.0000 - val_mape: 432101568.0000 - val_mae: 1720.2606 - val_rmse: 30692.1211\n",
            "Epoch 29/30\n",
            "19/19 [==============================] - 5s 255ms/step - loss: 192446496.0000 - mape: 575580928.0000 - mae: 1155.0837 - rmse: 13872.5088 - val_loss: 941909056.0000 - val_mape: 410887008.0000 - val_mae: 1703.3042 - val_rmse: 30690.5352\n",
            "Epoch 30/30\n",
            "19/19 [==============================] - 5s 254ms/step - loss: 192168736.0000 - mape: 565201152.0000 - mae: 1124.1665 - rmse: 13862.4941 - val_loss: 941804160.0000 - val_mape: 387577184.0000 - val_mae: 1688.6732 - val_rmse: 30688.8262\n"
          ]
        }
      ]
    },
    {
      "cell_type": "code",
      "source": [
        "# model.save('num_subjects_model_06_keras.keras')"
      ],
      "metadata": {
        "id": "5DLaUL_7gRIy"
      },
      "id": "5DLaUL_7gRIy",
      "execution_count": 44,
      "outputs": []
    },
    {
      "cell_type": "code",
      "source": [
        "# model.save(\"/content/drive/MyDrive/data/num_subjects_model_06_keras.keras\")"
      ],
      "metadata": {
        "id": "lYKFZVGigRKg"
      },
      "id": "lYKFZVGigRKg",
      "execution_count": 45,
      "outputs": []
    },
    {
      "cell_type": "code",
      "source": [
        "results = model.evaluate(test_examples, test_labels)\n",
        "\n",
        "print(results)"
      ],
      "metadata": {
        "colab": {
          "base_uri": "https://localhost:8080/"
        },
        "id": "x6i0VsDEgdgm",
        "outputId": "4e37fe63-4e2f-4c59-f4a2-43d567610c28"
      },
      "id": "x6i0VsDEgdgm",
      "execution_count": 46,
      "outputs": [
        {
          "output_type": "stream",
          "name": "stdout",
          "text": [
            "34/34 [==============================] - 1s 25ms/step - loss: 941804224.0000 - mape: 387577184.0000 - mae: 1688.6732 - rmse: 30688.8262\n",
            "[941804224.0, 387577184.0, 1688.6732177734375, 30688.826171875]\n"
          ]
        }
      ]
    },
    {
      "cell_type": "code",
      "source": [
        "history_dict = history.history\n",
        "history_dict.keys()"
      ],
      "metadata": {
        "colab": {
          "base_uri": "https://localhost:8080/"
        },
        "id": "6rg2XlFpgdi4",
        "outputId": "e72f8904-ed63-44b4-9ff7-51bc660f226f"
      },
      "id": "6rg2XlFpgdi4",
      "execution_count": 47,
      "outputs": [
        {
          "output_type": "execute_result",
          "data": {
            "text/plain": [
              "dict_keys(['loss', 'mape', 'mae', 'rmse', 'val_loss', 'val_mape', 'val_mae', 'val_rmse'])"
            ]
          },
          "metadata": {},
          "execution_count": 47
        }
      ]
    },
    {
      "cell_type": "code",
      "source": [
        "acc = history_dict['mape']\n",
        "val_acc = history_dict['val_mape']\n",
        "loss = history_dict['loss']\n",
        "val_loss = history_dict['val_loss']\n",
        "\n",
        "epochs = range(1, len(acc) + 1)\n",
        "\n",
        "# \"bo\" is for \"blue dot\"\n",
        "plt.plot(epochs, loss, 'bo', label='Training loss')\n",
        "# b is for \"solid blue line\"\n",
        "plt.plot(epochs, val_loss, 'b', label='Validation loss')\n",
        "plt.title('Training and validation loss')\n",
        "plt.xlabel('Epochs')\n",
        "plt.ylabel('Loss')\n",
        "plt.legend()\n",
        "\n",
        "plt.show()"
      ],
      "metadata": {
        "colab": {
          "base_uri": "https://localhost:8080/",
          "height": 295
        },
        "id": "6wjt4B0IgdlS",
        "outputId": "aa78ab5e-4c1b-4e09-f03d-6cee0cfc2bba"
      },
      "id": "6wjt4B0IgdlS",
      "execution_count": 48,
      "outputs": [
        {
          "output_type": "display_data",
          "data": {
            "text/plain": [
              "<Figure size 432x288 with 1 Axes>"
            ],
            "image/png": "[encoded data removed]"
          },
          "metadata": {
            "needs_background": "light"
          }
        }
      ]
    },
    {
      "cell_type": "code",
      "source": [
        "plt.clf()   # clear figure\n",
        "\n",
        "plt.plot(epochs, acc, 'bo', label='Training MAPE')\n",
        "plt.plot(epochs, val_acc, 'b', label='Validation MAPE')\n",
        "plt.title('Training and validation MAPE')\n",
        "plt.xlabel('Epochs')\n",
        "plt.ylabel('Accuracy')\n",
        "plt.legend()\n",
        "\n",
        "plt.show()"
      ],
      "metadata": {
        "colab": {
          "base_uri": "https://localhost:8080/",
          "height": 295
        },
        "id": "1p5i_Iiegdnj",
        "outputId": "c640101e-1f29-4819-f5d6-945a1aaab9bb"
      },
      "id": "1p5i_Iiegdnj",
      "execution_count": 49,
      "outputs": [
        {
          "output_type": "display_data",
          "data": {
            "text/plain": [
              "<Figure size 432x288 with 1 Axes>"
            ],
            "image/png": "[encoded data removed]"
          },
          "metadata": {
            "needs_background": "light"
          }
        }
      ]
    },
    {
      "cell_type": "code",
      "source": [],
      "metadata": {
        "id": "DrpUa4NdgkI2"
      },
      "id": "DrpUa4NdgkI2",
      "execution_count": 49,
      "outputs": []
    },
    {
      "cell_type": "code",
      "source": [
        "input_texts= np.asarray(df_val.text)"
      ],
      "metadata": {
        "id": "iAx8Wx3IgkLL"
      },
      "id": "iAx8Wx3IgkLL",
      "execution_count": 50,
      "outputs": []
    },
    {
      "cell_type": "code",
      "source": [
        "pred_proba = model.predict(input_texts)"
      ],
      "metadata": {
        "colab": {
          "base_uri": "https://localhost:8080/"
        },
        "id": "weo-BkHPgkNI",
        "outputId": "8ecd4808-36d7-4401-d33f-aa0476ab4947"
      },
      "id": "weo-BkHPgkNI",
      "execution_count": 51,
      "outputs": [
        {
          "output_type": "stream",
          "name": "stdout",
          "text": [
            "34/34 [==============================] - 1s 16ms/step\n"
          ]
        }
      ]
    },
    {
      "cell_type": "code",
      "source": [],
      "metadata": {
        "id": "d7OoRswbRsYz"
      },
      "id": "d7OoRswbRsYz",
      "execution_count": 51,
      "outputs": []
    },
    {
      "cell_type": "code",
      "source": [
        "from sklearn.metrics import mean_absolute_error\n",
        "mean_absolute_error(df_val.num_subjects, pred_proba)"
      ],
      "metadata": {
        "colab": {
          "base_uri": "https://localhost:8080/"
        },
        "id": "WfgNdMjlRsbJ",
        "outputId": "c537418e-1a62-415a-98d1-be46899cc32f"
      },
      "id": "WfgNdMjlRsbJ",
      "execution_count": 52,
      "outputs": [
        {
          "output_type": "execute_result",
          "data": {
            "text/plain": [
              "1688.6731960397713"
            ]
          },
          "metadata": {},
          "execution_count": 52
        }
      ]
    },
    {
      "cell_type": "code",
      "source": [],
      "metadata": {
        "id": "6dYBotjkRsdO"
      },
      "id": "6dYBotjkRsdO",
      "execution_count": 52,
      "outputs": []
    },
    {
      "cell_type": "code",
      "source": [
        "df_val[\"y_pred_num_subjects\"] = [get_num_subjects_clean(x[0]) for x in  pred_proba]"
      ],
      "metadata": {
        "colab": {
          "base_uri": "https://localhost:8080/"
        },
        "id": "lKk_zrR1RW7j",
        "outputId": "adb4a249-0875-46ba-9248-5fb730faa0cb"
      },
      "id": "lKk_zrR1RW7j",
      "execution_count": 53,
      "outputs": [
        {
          "output_type": "stream",
          "name": "stderr",
          "text": [
            "/usr/local/lib/python3.7/dist-packages/ipykernel_launcher.py:1: SettingWithCopyWarning: \n",
            "A value is trying to be set on a copy of a slice from a DataFrame.\n",
            "Try using .loc[row_indexer,col_indexer] = value instead\n",
            "\n",
            "See the caveats in the documentation: https://pandas.pydata.org/pandas-docs/stable/user_guide/indexing.html#returning-a-view-versus-a-copy\n",
            "  \"\"\"Entry point for launching an IPython kernel.\n"
          ]
        }
      ]
    },
    {
      "cell_type": "code",
      "source": [
        "plt.hist(df_val.num_subjects, range=(0,1000),bins=100, alpha=0.5 )\n",
        "plt.hist(pred_proba, range=(0,1000),bins=100, alpha=0.5 )"
      ],
      "metadata": {
        "id": "DbBjX9-agkVH",
        "colab": {
          "base_uri": "https://localhost:8080/",
          "height": 629
        },
        "outputId": "2b2425d9-3954-4169-9eb3-a7228ab748af"
      },
      "id": "DbBjX9-agkVH",
      "execution_count": 54,
      "outputs": [
        {
          "output_type": "execute_result",
          "data": {
            "text/plain": [
              "(array([ 1.,  3.,  4.,  5.,  4.,  6.,  5.,  4.,  5.,  8.,  4.,  3.,  4.,\n",
              "         7.,  4.,  8.,  8., 10., 13., 10.,  8., 10., 16.,  4., 11., 16.,\n",
              "        10., 12., 13., 11., 13., 10., 10., 13., 16., 22., 14., 16., 15.,\n",
              "        13., 12., 13., 10., 12., 15., 19., 13., 22.,  9., 16., 11., 17.,\n",
              "        15., 16., 11., 10., 11., 13., 12., 10., 13., 11., 14.,  7.,  6.,\n",
              "        11.,  9.,  9., 14., 13., 12., 13., 10.,  4., 16.,  5., 15.,  8.,\n",
              "         9.,  6.,  9.,  8., 10., 10.,  4.,  8.,  2.,  9.,  3.,  9.,  4.,\n",
              "         6.,  1.,  4., 11.,  0.,  3.,  5.,  1.,  3.]),\n",
              " array([   0.,   10.,   20.,   30.,   40.,   50.,   60.,   70.,   80.,\n",
              "          90.,  100.,  110.,  120.,  130.,  140.,  150.,  160.,  170.,\n",
              "         180.,  190.,  200.,  210.,  220.,  230.,  240.,  250.,  260.,\n",
              "         270.,  280.,  290.,  300.,  310.,  320.,  330.,  340.,  350.,\n",
              "         360.,  370.,  380.,  390.,  400.,  410.,  420.,  430.,  440.,\n",
              "         450.,  460.,  470.,  480.,  490.,  500.,  510.,  520.,  530.,\n",
              "         540.,  550.,  560.,  570.,  580.,  590.,  600.,  610.,  620.,\n",
              "         630.,  640.,  650.,  660.,  670.,  680.,  690.,  700.,  710.,\n",
              "         720.,  730.,  740.,  750.,  760.,  770.,  780.,  790.,  800.,\n",
              "         810.,  820.,  830.,  840.,  850.,  860.,  870.,  880.,  890.,\n",
              "         900.,  910.,  920.,  930.,  940.,  950.,  960.,  970.,  980.,\n",
              "         990., 1000.], dtype=float32),\n",
              " <a list of 100 Patch objects>)"
            ]
          },
          "metadata": {},
          "execution_count": 54
        },
        {
          "output_type": "display_data",
          "data": {
            "text/plain": [
              "<Figure size 432x288 with 1 Axes>"
            ],
            "image/png": "[encoded data removed]"
          },
          "metadata": {
            "needs_background": "light"
          }
        }
      ]
    },
    {
      "cell_type": "markdown",
      "source": [
        "## Subjects"
      ],
      "metadata": {
        "id": "lLWC7P1k5NSX"
      },
      "id": "lLWC7P1k5NSX"
    },
    {
      "cell_type": "code",
      "source": [
        "acc = accuracy_score(df_val.num_subjects_clean, df_val[\"y_pred_num_subjects\"])\n",
        "print (f\"Subjects accuracy {acc}\")"
      ],
      "metadata": {
        "id": "rYhLhDmnNuAl",
        "outputId": "e8c4cedb-c9ea-41ad-aa52-6e91ea70bb1c",
        "colab": {
          "base_uri": "https://localhost:8080/"
        }
      },
      "id": "rYhLhDmnNuAl",
      "execution_count": 55,
      "outputs": [
        {
          "output_type": "stream",
          "name": "stdout",
          "text": [
            "Subjects accuracy 0.1032258064516129\n"
          ]
        }
      ]
    },
    {
      "cell_type": "code",
      "source": [
        "ConfusionMatrixDisplay.from_predictions(df_val.num_subjects_clean, df_val[\"y_pred_num_subjects\"], labels=num_subjects_list)\n",
        "plt.xticks(rotation=90)\n",
        ";"
      ],
      "metadata": {
        "id": "XOiQVXB0NuHC",
        "outputId": "364f08d5-5af8-472e-970f-1ffde07d11e9",
        "colab": {
          "base_uri": "https://localhost:8080/",
          "height": 328
        }
      },
      "id": "XOiQVXB0NuHC",
      "execution_count": 56,
      "outputs": [
        {
          "output_type": "execute_result",
          "data": {
            "text/plain": [
              "''"
            ],
            "application/vnd.google.colaboratory.intrinsic+json": {
              "type": "string"
            }
          },
          "metadata": {},
          "execution_count": 56
        },
        {
          "output_type": "display_data",
          "data": {
            "text/plain": [
              "<Figure size 432x288 with 2 Axes>"
            ],
            "image/png": "[encoded data removed]"
          },
          "metadata": {
            "needs_background": "light"
          }
        }
      ]
    },
    {
      "cell_type": "code",
      "source": [
        "num_correct = 0\n",
        "for idx in range(len(df_val)):\n",
        "  gt = num_subjects_clean_map[df_val[\"num_subjects_clean\"].iloc[idx]]\n",
        "  pred = num_subjects_clean_map[df_val[\"y_pred_num_subjects\"].iloc[idx]]\n",
        "  is_correct = int(np.abs(gt - pred) <= 1)\n",
        "  num_correct += is_correct\n",
        "print (\"Accuracy including adjacent groups\", num_correct/len(df_val))"
      ],
      "metadata": {
        "colab": {
          "base_uri": "https://localhost:8080/"
        },
        "id": "VzFHDCRtmBA6",
        "outputId": "294603bc-16f0-4b01-eaeb-aa37504f5dd8"
      },
      "id": "VzFHDCRtmBA6",
      "execution_count": 57,
      "outputs": [
        {
          "output_type": "stream",
          "name": "stdout",
          "text": [
            "Accuracy including adjacent groups 0.3096774193548387\n"
          ]
        }
      ]
    },
    {
      "cell_type": "code",
      "source": [],
      "metadata": {
        "id": "1MU1NT4T_DLO"
      },
      "id": "1MU1NT4T_DLO",
      "execution_count": 57,
      "outputs": []
    }
  ],
  "metadata": {
    "colab": {
      "provenance": [],
      "machine_shape": "hm",
      "include_colab_link": true
    },
    "kernelspec": {
      "display_name": "conda_tensorflow_p36",
      "language": "python",
      "name": "conda_tensorflow_p36"
    },
    "language_info": {
      "codemirror_mode": {
        "name": "ipython",
        "version": 3
      },
      "file_extension": ".py",
      "mimetype": "text/x-python",
      "name": "python",
      "nbconvert_exporter": "python",
      "pygments_lexer": "ipython3",
      "version": "3.6.13"
    },
    "accelerator": "GPU",
    "gpuClass": "premium"
  },
  "nbformat": 4,
  "nbformat_minor": 5
}