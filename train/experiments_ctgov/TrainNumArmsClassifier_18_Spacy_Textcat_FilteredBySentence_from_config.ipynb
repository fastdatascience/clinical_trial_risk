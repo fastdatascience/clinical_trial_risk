{
  "cells": [
    {
      "cell_type": "markdown",
      "metadata": {
        "id": "view-in-github",
        "colab_type": "text"
      },
      "source": [
        "<a href=\"https://colab.research.google.com/github/fastdatascience/clinical_trial_risk/blob/fixes_nov_2022/train/ctgov/TrainNumArmsClassifier_18_Spacy_Textcat_FilteredBySentence_from_config.ipynb\" target=\"_parent\"><img src=\"https://colab.research.google.com/assets/colab-badge.svg\" alt=\"Open In Colab\"/></a>"
      ]
    },
    {
      "cell_type": "code",
      "execution_count": 1,
      "id": "0557d6c8",
      "metadata": {
        "id": "0557d6c8"
      },
      "outputs": [],
      "source": [
        "import pandas as pd\n",
        "import re\n",
        "import os\n",
        "import sys\n",
        "import pickle as pkl\n",
        "import seaborn as sns\n",
        "from sklearn.metrics import accuracy_score, confusion_matrix\n",
        "from sklearn.metrics import ConfusionMatrixDisplay\n",
        "from sklearn.metrics import mean_absolute_error, mean_squared_error\n",
        "from sklearn.metrics import roc_auc_score\n",
        "from sklearn.metrics import roc_curve, auc\n",
        "from IPython.display import display\n",
        "import matplotlib.pyplot as plt\n",
        "import numpy as np\n",
        "import json\n",
        "\n",
        "#df_annotations = pd.read_csv(\"../../data/ctgov/annotations/all_annotations.csv\")\n"
      ]
    },
    {
      "cell_type": "code",
      "source": [
        "# !pip install spacy-transformers"
      ],
      "metadata": {
        "id": "mG8gR8O6QXgX"
      },
      "id": "mG8gR8O6QXgX",
      "execution_count": 2,
      "outputs": []
    },
    {
      "cell_type": "code",
      "source": [
        "# !python -m spacy init fill-config base_config.cfg num_arms_classifier_18.cfg"
      ],
      "metadata": {
        "id": "HyXyGuD_P6s7"
      },
      "id": "HyXyGuD_P6s7",
      "execution_count": 3,
      "outputs": []
    },
    {
      "cell_type": "markdown",
      "id": "4b2e7a73",
      "metadata": {
        "id": "4b2e7a73"
      },
      "source": [
        "# Get data"
      ]
    },
    {
      "cell_type": "code",
      "execution_count": null,
      "id": "c8ebd7a5",
      "metadata": {
        "id": "c8ebd7a5"
      },
      "outputs": [],
      "source": [
        "# with open(\"../../data/ctgov/protocols.pkl.gz\", \"rb\") as f:\n",
        "#     file_to_pages = pkl.load(f)"
      ]
    },
    {
      "cell_type": "code",
      "execution_count": null,
      "id": "6148cb3b",
      "metadata": {
        "id": "6148cb3b"
      },
      "outputs": [],
      "source": [
        "# import spacy\n",
        "# nlp = spacy.blank(\"en\")"
      ]
    },
    {
      "cell_type": "code",
      "execution_count": null,
      "id": "9fbe5bf0",
      "metadata": {
        "id": "9fbe5bf0",
        "scrolled": true
      },
      "outputs": [],
      "source": [
        "# texts = []\n",
        "\n",
        "# for i in range(len(df_annotations)):\n",
        "#     file_name = df_annotations.file.iloc[i]\n",
        "    \n",
        "#     pages= file_to_pages[file_name]\n",
        "    \n",
        "#     text = \"\"\n",
        "#     for page in pages:\n",
        "#         doc = nlp(page)\n",
        "        \n",
        "#         is_include = [False] * len(doc)\n",
        "#         for tok in doc:\n",
        "#             if tok.text.lower() in {\"arm\", \"arms\", \"armed\", \"cohort\", \"cohorts\", \"group\", \"groups\"}:\n",
        "#                 for token_index in range(tok.i - 20, tok.i + 20):\n",
        "#                     if token_index >= 0 and token_index < len(doc):\n",
        "#                         is_include[token_index] = True\n",
        "        \n",
        "#         for token_index in range(len(doc)):\n",
        "#             if is_include[token_index]:\n",
        "#                 text += doc[token_index].text + doc[token_index].whitespace_\n",
        "                \n",
        "#     if text == \"\":\n",
        "#         print (\"nothing found\", file_name, df_annotations.num_arms.iloc[i])\n",
        "#     else:\n",
        "#         print (\"found\", file_name, df_annotations.num_arms.iloc[i])\n",
        "\n",
        "#     texts.append(text)\n",
        "# df_annotations[\"text\"] = texts"
      ]
    },
    {
      "cell_type": "code",
      "execution_count": null,
      "id": "cfac2830",
      "metadata": {
        "id": "cfac2830"
      },
      "outputs": [],
      "source": [
        "# df_annotations.to_pickle(\"filtered_for_arm.pkl\")"
      ]
    },
    {
      "cell_type": "code",
      "source": [
        "from google.colab import drive\n",
        "drive.mount('/content/drive')"
      ],
      "metadata": {
        "id": "EhFnhl7tNHeb",
        "colab": {
          "base_uri": "https://localhost:8080/"
        },
        "outputId": "a358d8d7-21e3-4d0c-bb4c-ee67f1347df9"
      },
      "id": "EhFnhl7tNHeb",
      "execution_count": 4,
      "outputs": [
        {
          "output_type": "stream",
          "name": "stdout",
          "text": [
            "Mounted at /content/drive\n"
          ]
        }
      ]
    },
    {
      "cell_type": "code",
      "execution_count": 5,
      "id": "068abf18",
      "metadata": {
        "id": "068abf18"
      },
      "outputs": [],
      "source": [
        "df_annotations = pd.read_csv(\"/content/drive/MyDrive/data/filtered_for_phase_arms_subjects.csv.bz2\")"
      ]
    },
    {
      "cell_type": "code",
      "execution_count": 6,
      "id": "93361b2c",
      "metadata": {
        "id": "93361b2c"
      },
      "outputs": [],
      "source": [
        "# del file_to_pages"
      ]
    },
    {
      "cell_type": "code",
      "execution_count": 7,
      "id": "f3322e30",
      "metadata": {
        "id": "f3322e30"
      },
      "outputs": [],
      "source": [
        "df_annotations_num_arms_known = df_annotations[~df_annotations.num_arms.isna() & ~df_annotations.text.isna()]"
      ]
    },
    {
      "cell_type": "code",
      "execution_count": 8,
      "id": "26b24be0",
      "metadata": {
        "id": "26b24be0"
      },
      "outputs": [],
      "source": [
        "#df_annotations_num_arms_known = df_annotations_num_arms_known.sample(1000)"
      ]
    },
    {
      "cell_type": "code",
      "execution_count": 9,
      "id": "df0ea588",
      "metadata": {
        "id": "df0ea588",
        "colab": {
          "base_uri": "https://localhost:8080/"
        },
        "outputId": "3bbc9993-59c8-4f26-8506-69c84fc6de18"
      },
      "outputs": [
        {
          "output_type": "stream",
          "name": "stderr",
          "text": [
            "/usr/local/lib/python3.7/dist-packages/ipykernel_launcher.py:7: SettingWithCopyWarning: \n",
            "A value is trying to be set on a copy of a slice from a DataFrame.\n",
            "Try using .loc[row_indexer,col_indexer] = value instead\n",
            "\n",
            "See the caveats in the documentation: https://pandas.pydata.org/pandas-docs/stable/user_guide/indexing.html#returning-a-view-versus-a-copy\n",
            "  import sys\n"
          ]
        }
      ],
      "source": [
        "def get_num_arms_clean(num):\n",
        "    if pd.isna(num):\n",
        "      return None\n",
        "    if num >= 5:\n",
        "        num = 5\n",
        "    return num\n",
        "df_annotations_num_arms_known[\"num_arms_clean\"] = df_annotations_num_arms_known[\"num_arms\"].apply(get_num_arms_clean)"
      ]
    },
    {
      "cell_type": "code",
      "source": [
        "df_annotations[\"num_arms_clean\"] = df_annotations[\"num_arms\"].apply(get_num_arms_clean)"
      ],
      "metadata": {
        "id": "-OoMmH5TeCdB"
      },
      "id": "-OoMmH5TeCdB",
      "execution_count": 10,
      "outputs": []
    },
    {
      "cell_type": "code",
      "execution_count": 11,
      "id": "df49af99",
      "metadata": {
        "id": "df49af99"
      },
      "outputs": [],
      "source": [
        "df_train = df_annotations_num_arms_known[df_annotations_num_arms_known.train_val == \"train\"]"
      ]
    },
    {
      "cell_type": "code",
      "execution_count": 11,
      "id": "6add3d7d",
      "metadata": {
        "id": "6add3d7d"
      },
      "outputs": [],
      "source": [
        "# TRAINING_DATA = [\n",
        "#     [\"My little kitty is so special\", {\"KAT0\": True}],\n",
        "#     [\"Dude, Totally, Yeah, Video Games\", {\"KAT1\": True}],\n",
        "#     [\"Should I pay $1,000 for the iPhone X?\", {\"KAT1\": True}],\n",
        "#     [\"The iPhone 8 reviews are here\", {\"KAT1\": True}],\n",
        "#     [\"Noa is a great cat name.\", {\"KAT0\": True}],\n",
        "#     [\"We got a new kitten!\", {\"KAT0\": True}]\n",
        "# ]\n",
        "\n",
        "# TRAINING_DATA = []\n",
        "# for idx in range(len(df_train)):\n",
        "#     cats = {}\n",
        "#     for a in range(1, 6):\n",
        "#         cats[str(a)] = 0\n",
        "#     cats[str(int(df_train.num_arms.iloc[idx]))] = 1\n",
        "#     text = df_train.text.iloc[idx]\n",
        "#     if len(text) > 1000000:\n",
        "#         text = text[:1000000]\n",
        "    \n",
        "#     TRAINING_DATA.append([text , cats])"
      ]
    },
    {
      "cell_type": "code",
      "source": [
        "import spacy\n",
        "\n",
        "nlp = spacy.blank(\"en\")\n",
        "from spacy.tokens import DocBin\n",
        "\n",
        "docs_train = []\n",
        "for i in range(10):\n",
        "  docs_train.append(DocBin())\n",
        "docs_val = DocBin()\n",
        "\n",
        "for idx in range(len(df_annotations)):\n",
        "  if idx % 100 == 0:\n",
        "    print (idx, len(df_annotations))\n",
        "  if df_annotations.train_val.iloc[idx] == \"train\":\n",
        "    docs_list = docs_train[idx % 10]\n",
        "  else:\n",
        "    docs_list = docs_val\n",
        "  text = str(df_annotations.text.iloc[idx])\n",
        "  if len(text) > 100000:\n",
        "      text = text[:100000]\n",
        "  doc = nlp(text)\n",
        "\n",
        "  cats = {}\n",
        "  for a in range(1, 6):\n",
        "      cats[str(a)] = 0\n",
        "  if pd.isna(df_annotations.num_arms_clean.iloc[idx]) and df_annotations.train_val.iloc[idx] == \"train\":\n",
        "    continue\n",
        "  if not pd.isna(df_annotations.num_arms_clean.iloc[idx]):\n",
        "    cats[str(int(df_annotations.num_arms_clean.iloc[idx]))] = 1\n",
        "  doc.cats = cats\n",
        "\n",
        "  docs_list.add(doc)"
      ],
      "metadata": {
        "colab": {
          "base_uri": "https://localhost:8080/"
        },
        "id": "OhdznL6FQmP6",
        "outputId": "477189e9-a68d-43ec-9667-5a1339bab55a"
      },
      "id": "OhdznL6FQmP6",
      "execution_count": 37,
      "outputs": [
        {
          "output_type": "stream",
          "name": "stdout",
          "text": [
            "0 11924\n",
            "100 11924\n",
            "200 11924\n",
            "300 11924\n",
            "400 11924\n",
            "500 11924\n",
            "600 11924\n",
            "700 11924\n",
            "800 11924\n",
            "900 11924\n",
            "1000 11924\n",
            "1100 11924\n",
            "1200 11924\n",
            "1300 11924\n",
            "1400 11924\n",
            "1500 11924\n",
            "1600 11924\n",
            "1700 11924\n",
            "1800 11924\n",
            "1900 11924\n",
            "2000 11924\n",
            "2100 11924\n",
            "2200 11924\n",
            "2300 11924\n",
            "2400 11924\n",
            "2500 11924\n",
            "2600 11924\n",
            "2700 11924\n",
            "2800 11924\n",
            "2900 11924\n",
            "3000 11924\n",
            "3100 11924\n",
            "3200 11924\n",
            "3300 11924\n",
            "3400 11924\n",
            "3500 11924\n",
            "3600 11924\n",
            "3700 11924\n",
            "3800 11924\n",
            "3900 11924\n",
            "4000 11924\n",
            "4100 11924\n",
            "4200 11924\n",
            "4300 11924\n",
            "4400 11924\n",
            "4500 11924\n",
            "4600 11924\n",
            "4700 11924\n",
            "4800 11924\n",
            "4900 11924\n",
            "5000 11924\n",
            "5100 11924\n",
            "5200 11924\n",
            "5300 11924\n",
            "5400 11924\n",
            "5500 11924\n",
            "5600 11924\n",
            "5700 11924\n",
            "5800 11924\n",
            "5900 11924\n",
            "6000 11924\n",
            "6100 11924\n",
            "6200 11924\n",
            "6300 11924\n",
            "6400 11924\n",
            "6500 11924\n",
            "6600 11924\n",
            "6700 11924\n",
            "6800 11924\n",
            "6900 11924\n",
            "7000 11924\n",
            "7100 11924\n",
            "7200 11924\n",
            "7300 11924\n",
            "7400 11924\n",
            "7500 11924\n",
            "7600 11924\n",
            "7700 11924\n",
            "7800 11924\n",
            "7900 11924\n",
            "8000 11924\n",
            "8100 11924\n",
            "8200 11924\n",
            "8300 11924\n",
            "8400 11924\n",
            "8500 11924\n",
            "8600 11924\n",
            "8700 11924\n",
            "8800 11924\n",
            "8900 11924\n",
            "9000 11924\n",
            "9100 11924\n",
            "9200 11924\n",
            "9300 11924\n",
            "9400 11924\n",
            "9500 11924\n",
            "9600 11924\n",
            "9700 11924\n",
            "9800 11924\n",
            "9900 11924\n",
            "10000 11924\n",
            "10100 11924\n",
            "10200 11924\n",
            "10300 11924\n",
            "10400 11924\n",
            "10500 11924\n",
            "10600 11924\n",
            "10700 11924\n",
            "10800 11924\n",
            "10900 11924\n",
            "11000 11924\n",
            "11100 11924\n",
            "11200 11924\n",
            "11300 11924\n",
            "11400 11924\n",
            "11500 11924\n",
            "11600 11924\n",
            "11700 11924\n",
            "11800 11924\n",
            "11900 11924\n"
          ]
        }
      ]
    },
    {
      "cell_type": "code",
      "source": [
        "!mkdir train.spacy\n",
        "!mkdir /content/drive/MyDrive/data/arms_18_train.spacy\n"
      ],
      "metadata": {
        "colab": {
          "base_uri": "https://localhost:8080/"
        },
        "id": "9gLDu1qFTxls",
        "outputId": "14e7d0e4-ecff-4bf2-df1a-c26305616d5e"
      },
      "id": "9gLDu1qFTxls",
      "execution_count": 28,
      "outputs": [
        {
          "output_type": "stream",
          "name": "stdout",
          "text": [
            "mkdir: cannot create directory ‘train.spacy’: File exists\n",
            "mkdir: cannot create directory ‘/content/drive/MyDrive/data/arms_18_train.spacy’: File exists\n"
          ]
        }
      ]
    },
    {
      "cell_type": "code",
      "source": [
        "for idx, doc_bin_train in enumerate(docs_train):\n",
        "  doc_bin_train.to_disk(f\"train.spacy/train_doc_bin{idx}.spacy\")\n",
        "  doc_bin_train.to_disk(f\"/content/drive/MyDrive/data/arms_18_train.spacy/train_doc_bin{idx}.spacy\")"
      ],
      "metadata": {
        "id": "EhS_f_Z3TsRG"
      },
      "id": "EhS_f_Z3TsRG",
      "execution_count": 38,
      "outputs": []
    },
    {
      "cell_type": "code",
      "source": [
        "docs_val.to_disk(\"dev.spacy\")"
      ],
      "metadata": {
        "id": "Ld9Qv0nuQ_V1"
      },
      "id": "Ld9Qv0nuQ_V1",
      "execution_count": 39,
      "outputs": []
    },
    {
      "cell_type": "code",
      "source": [
        "docs_val.to_disk(\"/content/drive/MyDrive/data/arms_18_dev.spacy\")"
      ],
      "metadata": {
        "id": "YkMG6YPeRB2i"
      },
      "id": "YkMG6YPeRB2i",
      "execution_count": 40,
      "outputs": []
    },
    {
      "cell_type": "code",
      "execution_count": 43,
      "id": "6b88f1c9",
      "metadata": {
        "id": "6b88f1c9",
        "colab": {
          "base_uri": "https://localhost:8080/"
        },
        "outputId": "f35511eb-5dfc-467d-faa1-a15bf9edba3d"
      },
      "outputs": [
        {
          "output_type": "stream",
          "name": "stdout",
          "text": [
            "\u001b[38;5;4mℹ Saving to output directory:\n",
            "/content/drive/MyDrive/data/output_arms_18\u001b[0m\n",
            "\u001b[38;5;4mℹ Using GPU: 0\u001b[0m\n",
            "\u001b[1m\n",
            "=========================== Initializing pipeline ===========================\u001b[0m\n",
            "[2022-11-17 12:38:19,156] [INFO] Set up nlp object from config\n",
            "INFO:spacy:Set up nlp object from config\n",
            "[2022-11-17 12:38:19,167] [INFO] Pipeline: ['textcat']\n",
            "INFO:spacy:Pipeline: ['textcat']\n",
            "[2022-11-17 12:38:19,170] [INFO] Created vocabulary\n",
            "INFO:spacy:Created vocabulary\n",
            "[2022-11-17 12:38:19,171] [INFO] Finished initializing nlp object\n",
            "INFO:spacy:Finished initializing nlp object\n",
            "tcmalloc: large alloc 1073750016 bytes == 0xdc798000 @  0x7f1736fa52a4 0x58ead6 0x441ff3 0x5d1f81 0x5d2306 0x58f62c 0x5105e2 0x58fd37 0x50ca37 0x58fd37 0x50ca37 0x4d00fb 0x50cb8d 0x4d00fb 0x50cb8d 0x4d00fb 0x7f15cb9637c6 0x4ba72b 0x7f15cb961ce3 0x58f6e4 0x50ff13 0x5b575e 0x4bad0a 0x4d3249 0x591e56 0x50e18c 0x5b575e 0x58ff2e 0x50d482 0x5b575e 0x58ff2e\n",
            "[2022-11-17 12:47:42,241] [INFO] Initialized pipeline components: ['textcat']\n",
            "INFO:spacy:Initialized pipeline components: ['textcat']\n",
            "\u001b[38;5;2m✔ Initialized pipeline\u001b[0m\n",
            "\u001b[1m\n",
            "============================= Training pipeline =============================\u001b[0m\n",
            "\u001b[38;5;4mℹ Pipeline: ['textcat']\u001b[0m\n",
            "\u001b[38;5;4mℹ Initial learn rate: 0.0\u001b[0m\n",
            "E    #       LOSS TEXTCAT  CATS_SCORE  SCORE \n",
            "---  ------  ------------  ----------  ------\n",
            "tcmalloc: large alloc 2147491840 bytes == 0x7f1162b66000 @  0x7f1736fa52a4 0x58ead6 0x441ff3 0x5d1f81 0x5d2306 0x58f62c 0x5105e2 0x58fd37 0x50ca37 0x58fd37 0x50ca37 0x4d01b4 0x50cb8d 0x4d01b4 0x50cb8d 0x4d01b4 0x5a04c4 0x5a2ed4 0x5909f6 0x510280 0x5b575e 0x58ff2e 0x50ca37 0x5b575e 0x58ff2e 0x50c4fc 0x4d01b4 0x50cb8d 0x5b575e 0x58ff2e 0x50d482\n",
            "  0       0          0.16        0.00    0.00\n",
            "tcmalloc: large alloc 2147491840 bytes == 0x7f0f6c5b4000 @  0x7f1736fa52a4 0x58ead6 0x441ff3 0x5d1f81 0x5d2306 0x58f62c 0x5105e2 0x58fd37 0x50ca37 0x58fd37 0x50ca37 0x4d01b4 0x50cb8d 0x4d01b4 0x50cb8d 0x4d01b4 0x5a04c4 0x5a2ed4 0x5909f6 0x510280 0x5b575e 0x58ff2e 0x50ca37 0x5b575e 0x58ff2e 0x50c4fc 0x4d00fb 0x50cb8d 0x5b575e 0x58ff2e 0x50d482\n",
            "  0     200         34.21       16.44    0.16\n",
            "tcmalloc: large alloc 2147491840 bytes == 0x7f0fdcaf8000 @  0x7f1736fa52a4 0x58ead6 0x441ff3 0x5d1f81 0x5d2306 0x58f62c 0x5105e2 0x58fd37 0x50ca37 0x58fd37 0x50ca37 0x4d01b4 0x50cb8d 0x4d01b4 0x50cb8d 0x4d01b4 0x5a04c4 0x5a2ed4 0x5909f6 0x510280 0x5b575e 0x58ff2e 0x50ca37 0x5b575e 0x58ff2e 0x50c4fc 0x4d00fb 0x50cb8d 0x5b575e 0x58ff2e 0x50d482\n",
            "  0     400         29.64       22.59    0.23\n",
            "tcmalloc: large alloc 2147491840 bytes == 0x7f0eebd32000 @  0x7f1736fa52a4 0x58ead6 0x441ff3 0x5d1f81 0x5d2306 0x58f62c 0x5105e2 0x58fd37 0x50ca37 0x58fd37 0x50ca37 0x4d01b4 0x50cb8d 0x4d01b4 0x50cb8d 0x4d01b4 0x5a04c4 0x5a2ed4 0x5909f6 0x510280 0x5b575e 0x58ff2e 0x50ca37 0x5b575e 0x58ff2e 0x50c4fc 0x4d00fb 0x50cb8d 0x5b575e 0x58ff2e 0x50d482\n",
            "  0     600         25.55       23.86    0.24\n",
            "tcmalloc: large alloc 2147491840 bytes == 0x7f0f6c5b4000 @  0x7f1736fa52a4 0x58ead6 0x441ff3 0x5d1f81 0x5d2306 0x58f62c 0x5105e2 0x58fd37 0x50ca37 0x58fd37 0x50ca37 0x4d01b4 0x50cb8d 0x4d01b4 0x50cb8d 0x4d01b4 0x5a04c4 0x5a2ed4 0x5909f6 0x510280 0x5b575e 0x58ff2e 0x50ca37 0x5b575e 0x58ff2e 0x50c4fc 0x4d00fb 0x50cb8d 0x5b575e 0x58ff2e 0x50d482\n",
            "  0     800         21.98       24.01    0.24\n",
            "  0    1000         23.28       22.79    0.23\n",
            "  0    1200         24.38       24.77    0.25\n",
            "  0    1400         25.57       24.01    0.24\n",
            "  0    1600         23.96       24.49    0.24\n",
            "  0    1800         26.37       24.37    0.24\n",
            "  0    2000         23.67       25.06    0.25\n",
            "  1    2200         20.45       25.17    0.25\n",
            "  1    2400         16.37       25.15    0.25\n",
            "  1    2600         18.69       26.43    0.26\n",
            "  1    2800         20.29       25.10    0.25\n",
            "  1    3000         17.15       25.70    0.26\n",
            "  1    3200         18.95       26.46    0.26\n",
            "  1    3400         19.19       26.35    0.26\n",
            "  1    3600         17.29       26.27    0.26\n",
            "  1    3800         21.75       26.23    0.26\n",
            "  1    4000         19.86       25.79    0.26\n",
            "  2    4200         17.99       27.45    0.27\n",
            "  2    4400         13.80       26.99    0.27\n",
            "  2    4600         13.66       25.99    0.26\n",
            "  2    4800         16.79       26.45    0.26\n",
            "  2    5000         14.23       27.05    0.27\n",
            "  2    5200         15.53       26.55    0.27\n",
            "  2    5400         16.21       26.74    0.27\n",
            "  2    5600         13.24       26.53    0.27\n",
            "  2    5800         16.63       26.69    0.27\n",
            "\u001b[38;5;2m✔ Saved pipeline to output directory\u001b[0m\n",
            "/content/drive/MyDrive/data/output_arms_18/model-last\n"
          ]
        }
      ],
      "source": [
        "!python -m spacy train ./spacy_textcat_is_international_11.cfg --output /content/drive/MyDrive/data/output_arms_18 --paths.train train.spacy --paths.dev  dev.spacy --gpu-id 0"
      ]
    },
    {
      "cell_type": "code",
      "source": [],
      "metadata": {
        "id": "28ZR0NqamAD0"
      },
      "id": "28ZR0NqamAD0",
      "execution_count": 43,
      "outputs": []
    },
    {
      "cell_type": "code",
      "source": [
        "import spacy\n",
        "nlp = spacy.load(\"/content/drive/MyDrive/data/output_arms_18/model-best\")"
      ],
      "metadata": {
        "id": "RA18XmbkRge_"
      },
      "id": "RA18XmbkRge_",
      "execution_count": 12,
      "outputs": []
    },
    {
      "cell_type": "code",
      "source": [
        "# pred_proba = []\n",
        "# for idx in range(len(df_val)):\n",
        "#     pred_proba.append([predictions[idx][a] for a in range(num_classes)])"
      ],
      "metadata": {
        "id": "sh2k1WwZRqqn"
      },
      "id": "sh2k1WwZRqqn",
      "execution_count": 14,
      "outputs": []
    },
    {
      "cell_type": "code",
      "execution_count": 15,
      "id": "9b23d914",
      "metadata": {
        "id": "9b23d914"
      },
      "outputs": [],
      "source": [
        "df_annotations_num_arms_known = df_annotations[~df_annotations.num_arms.isna()]"
      ]
    },
    {
      "cell_type": "code",
      "execution_count": 16,
      "id": "f2679198",
      "metadata": {
        "id": "f2679198",
        "colab": {
          "base_uri": "https://localhost:8080/"
        },
        "outputId": "4936a0fa-85db-4b91-e6c8-18a012e7852c"
      },
      "outputs": [
        {
          "output_type": "stream",
          "name": "stderr",
          "text": [
            "/usr/local/lib/python3.7/dist-packages/ipykernel_launcher.py:1: SettingWithCopyWarning: \n",
            "A value is trying to be set on a copy of a slice from a DataFrame.\n",
            "Try using .loc[row_indexer,col_indexer] = value instead\n",
            "\n",
            "See the caveats in the documentation: https://pandas.pydata.org/pandas-docs/stable/user_guide/indexing.html#returning-a-view-versus-a-copy\n",
            "  \"\"\"Entry point for launching an IPython kernel.\n"
          ]
        }
      ],
      "source": [
        "df_annotations_num_arms_known[\"num_arms_clean\"] = df_annotations_num_arms_known[\"num_arms\"].apply(get_num_arms_clean)"
      ]
    },
    {
      "cell_type": "code",
      "execution_count": 17,
      "id": "5f720fbf",
      "metadata": {
        "id": "5f720fbf"
      },
      "outputs": [],
      "source": [
        "df_val = df_annotations_num_arms_known[df_annotations_num_arms_known.train_val == \"val\"]"
      ]
    },
    {
      "cell_type": "code",
      "source": [
        "predictions = []\n",
        "for idx in range(len(df_val)):\n",
        "    doc = nlp(df_val.text.apply(str).iloc[idx])\n",
        "    predictions.append(doc.cats)"
      ],
      "metadata": {
        "id": "i6kKqURLRmk4"
      },
      "id": "i6kKqURLRmk4",
      "execution_count": 18,
      "outputs": []
    },
    {
      "cell_type": "code",
      "source": [
        "predictions = []\n",
        "for idx in range(len(df_val)):\n",
        "    doc = nlp(df_val.text.apply(str).iloc[idx])\n",
        "    predictions.append(doc.cats)"
      ],
      "metadata": {
        "id": "WzVdvY9tR84X"
      },
      "id": "WzVdvY9tR84X",
      "execution_count": 19,
      "outputs": []
    },
    {
      "cell_type": "code",
      "source": [],
      "metadata": {
        "id": "jbidF3-NQz9J"
      },
      "id": "jbidF3-NQz9J",
      "execution_count": null,
      "outputs": []
    },
    {
      "cell_type": "code",
      "execution_count": 21,
      "id": "d9a331d5",
      "metadata": {
        "id": "d9a331d5"
      },
      "outputs": [],
      "source": [
        "pred_proba = []\n",
        "for idx in range(len(df_val)):\n",
        "    pred_proba.append([predictions[idx][str(a)] for a in range(1, 6)])"
      ]
    },
    {
      "cell_type": "code",
      "execution_count": 22,
      "id": "68ebd9f0",
      "metadata": {
        "id": "68ebd9f0",
        "scrolled": true,
        "colab": {
          "base_uri": "https://localhost:8080/"
        },
        "outputId": "46d022ac-dcf1-4e41-958c-8edb4c06dad4"
      },
      "outputs": [
        {
          "output_type": "stream",
          "name": "stderr",
          "text": [
            "/usr/local/lib/python3.7/dist-packages/ipykernel_launcher.py:1: SettingWithCopyWarning: \n",
            "A value is trying to be set on a copy of a slice from a DataFrame.\n",
            "Try using .loc[row_indexer,col_indexer] = value instead\n",
            "\n",
            "See the caveats in the documentation: https://pandas.pydata.org/pandas-docs/stable/user_guide/indexing.html#returning-a-view-versus-a-copy\n",
            "  \"\"\"Entry point for launching an IPython kernel.\n"
          ]
        }
      ],
      "source": [
        "df_val[\"y_pred\"] = [int(max(p, key=p.get)) for p in predictions]"
      ]
    },
    {
      "cell_type": "code",
      "source": [
        "y_pred_proba = np.asarray([np.asarray([p.get(str(i)) for i in range(1,6)]) for p in predictions])"
      ],
      "metadata": {
        "id": "4WfdxUgkMlvo"
      },
      "id": "4WfdxUgkMlvo",
      "execution_count": 25,
      "outputs": []
    },
    {
      "cell_type": "code",
      "source": [
        "y_pred_proba"
      ],
      "metadata": {
        "colab": {
          "base_uri": "https://localhost:8080/"
        },
        "id": "EimEszz9RNdg",
        "outputId": "45862a4a-7a71-4330-ba4f-c63f59cc09f9"
      },
      "id": "EimEszz9RNdg",
      "execution_count": 33,
      "outputs": [
        {
          "output_type": "execute_result",
          "data": {
            "text/plain": [
              "array([[1.76120764e-07, 9.99877453e-01, 1.22442827e-04, 3.65733034e-11,\n",
              "        5.35698165e-24],\n",
              "       [9.99986768e-01, 1.13141250e-05, 1.94335962e-06, 1.19309824e-08,\n",
              "        4.17147845e-15],\n",
              "       [1.54102338e-03, 9.73477662e-01, 2.35695522e-02, 1.41001656e-03,\n",
              "        1.90735477e-06],\n",
              "       ...,\n",
              "       [2.19189823e-02, 9.23369288e-01, 5.43797612e-02, 3.31936782e-04,\n",
              "        2.43033274e-08],\n",
              "       [9.49563920e-01, 3.66539881e-02, 1.26392981e-02, 1.13473216e-03,\n",
              "        8.08552159e-06],\n",
              "       [3.96992229e-02, 2.86746502e-01, 6.72869384e-01, 6.84966566e-04,\n",
              "        8.52396820e-10]])"
            ]
          },
          "metadata": {},
          "execution_count": 33
        }
      ]
    },
    {
      "cell_type": "code",
      "execution_count": 26,
      "id": "118aef49",
      "metadata": {
        "id": "118aef49"
      },
      "outputs": [],
      "source": [
        "num_arms_ground_truths = df_val.num_arms_clean\n",
        "pred_num_arms = df_val[\"y_pred\"]"
      ]
    },
    {
      "cell_type": "code",
      "execution_count": 27,
      "id": "73495a5c",
      "metadata": {
        "id": "73495a5c",
        "colab": {
          "base_uri": "https://localhost:8080/"
        },
        "outputId": "6ac4e29b-08c1-4910-f635-6ef43bba2b16"
      },
      "outputs": [
        {
          "output_type": "stream",
          "name": "stdout",
          "text": [
            "Num arms accuracy 0.5984848484848485\n"
          ]
        }
      ],
      "source": [
        "acc = accuracy_score(num_arms_ground_truths, pred_num_arms)\n",
        "print (f\"Num arms accuracy {acc}\")"
      ]
    },
    {
      "cell_type": "code",
      "execution_count": 28,
      "id": "775ae91e",
      "metadata": {
        "id": "775ae91e",
        "colab": {
          "base_uri": "https://localhost:8080/",
          "height": 303
        },
        "outputId": "153d42c8-9b01-4989-f6be-d9313edda1bd"
      },
      "outputs": [
        {
          "output_type": "execute_result",
          "data": {
            "text/plain": [
              "''"
            ],
            "application/vnd.google.colaboratory.intrinsic+json": {
              "type": "string"
            }
          },
          "metadata": {},
          "execution_count": 28
        },
        {
          "output_type": "display_data",
          "data": {
            "text/plain": [
              "<Figure size 432x288 with 2 Axes>"
            ],
            "image/png": "[encoded data removed]"
          },
          "metadata": {
            "needs_background": "light"
          }
        }
      ],
      "source": [
        "ConfusionMatrixDisplay.from_predictions(num_arms_ground_truths, pred_num_arms)\n",
        "plt.xticks(rotation=90)\n",
        ";"
      ]
    },
    {
      "cell_type": "code",
      "execution_count": 31,
      "id": "16527f52",
      "metadata": {
        "id": "16527f52",
        "colab": {
          "base_uri": "https://localhost:8080/"
        },
        "outputId": "b5484f95-0238-486f-c98d-de6a4673d778"
      },
      "outputs": [
        {
          "output_type": "stream",
          "name": "stdout",
          "text": [
            "Num arms ROC AUC 0.8412555526829153 for 1 arm(s)\n",
            "Num arms ROC AUC 0.7136456834532374 for 2 arm(s)\n",
            "Num arms ROC AUC 0.5777510683760684 for 3 arm(s)\n",
            "Num arms ROC AUC 0.4633471737659684 for 4 arm(s)\n",
            "Num arms ROC AUC 0.28752465251690457 for 5 arm(s)\n",
            "Average 0.5767048261590187\n"
          ]
        }
      ],
      "source": [
        "all_aucs = []\n",
        "from sklearn.metrics import roc_auc_score\n",
        "for i in range(1,5+1):\n",
        "  roc_auc = roc_auc_score(num_arms_ground_truths == i, y_pred_proba[:, i - 1])\n",
        "  print (f\"Num arms ROC AUC {roc_auc} for {i} arm(s)\")\n",
        "  all_aucs.append(roc_auc)\n",
        "print (\"Average\", np.mean(all_aucs))"
      ]
    },
    {
      "cell_type": "code",
      "source": [
        "plt.figure()\n",
        "lw = 2\n",
        "    \n",
        "for i in range(1,6):\n",
        "    fpr, tpr, _ = roc_curve(num_arms_ground_truths == i, y_pred_proba[:, i - 1])\n",
        "    roc_auc = auc(fpr, tpr)\n",
        "    plt.plot(\n",
        "        fpr,\n",
        "        tpr,\n",
        "        # color=\"darkorange\",\n",
        "        lw=lw,\n",
        "        label=f\"ROC curve {i} arms (area = {roc_auc:0.2f})\"\n",
        "    )\n",
        "    plt.plot([0, 1], [0, 1], color=\"gray\", alpha=0.5, lw=lw, linestyle=\"--\")\n",
        "plt.xlim([0.0, 1.0])\n",
        "plt.ylim([0.0, 1.05])\n",
        "plt.xlabel(\"False Positive Rate\")\n",
        "plt.ylabel(\"True Positive Rate\")\n",
        "plt.title(\"Receiver operating characteristic example\")\n",
        "plt.legend(loc=\"lower right\")\n",
        "plt.show()"
      ],
      "metadata": {
        "id": "bvS_8GcTMgCl",
        "colab": {
          "base_uri": "https://localhost:8080/",
          "height": 295
        },
        "outputId": "d6bf4050-0863-4b95-c65e-4d74aadd01c0"
      },
      "id": "bvS_8GcTMgCl",
      "execution_count": 32,
      "outputs": [
        {
          "output_type": "display_data",
          "data": {
            "text/plain": [
              "<Figure size 432x288 with 1 Axes>"
            ],
            "image/png": "[encoded data removed]"
          },
          "metadata": {
            "needs_background": "light"
          }
        }
      ]
    },
    {
      "cell_type": "code",
      "source": [],
      "metadata": {
        "id": "W7qDw2rgSHKj"
      },
      "id": "W7qDw2rgSHKj",
      "execution_count": null,
      "outputs": []
    }
  ],
  "metadata": {
    "colab": {
      "provenance": [],
      "machine_shape": "hm",
      "include_colab_link": true
    },
    "kernelspec": {
      "display_name": "Python [conda env:py310] *",
      "language": "python",
      "name": "conda-env-py310-py"
    },
    "language_info": {
      "codemirror_mode": {
        "name": "ipython",
        "version": 3
      },
      "file_extension": ".py",
      "mimetype": "text/x-python",
      "name": "python",
      "nbconvert_exporter": "python",
      "pygments_lexer": "ipython3",
      "version": "3.10.4"
    },
    "gpuClass": "standard"
  },
  "nbformat": 4,
  "nbformat_minor": 5
}