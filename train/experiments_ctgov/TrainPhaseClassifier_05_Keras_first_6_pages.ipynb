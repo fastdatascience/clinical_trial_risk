{
  "cells": [
    {
      "cell_type": "markdown",
      "metadata": {
        "id": "view-in-github",
        "colab_type": "text"
      },
      "source": [
        "<a href=\"https://colab.research.google.com/github/fastdatascience/clinical_trial_risk/blob/fixes_nov_2022/train/ctgov/TrainPhaseClassifier_05_Keras_first_6_pages.ipynb\" target=\"_parent\"><img src=\"https://colab.research.google.com/assets/colab-badge.svg\" alt=\"Open In Colab\"/></a>"
      ]
    },
    {
      "cell_type": "code",
      "execution_count": 30,
      "metadata": {
        "id": "0557d6c8"
      },
      "outputs": [],
      "source": [
        "import pandas as pd\n",
        "import re\n",
        "import os\n",
        "import sys\n",
        "import pickle as pkl\n",
        "import seaborn as sns\n",
        "from sklearn.metrics import accuracy_score, confusion_matrix\n",
        "from sklearn.metrics import ConfusionMatrixDisplay\n",
        "from sklearn.metrics import mean_absolute_error, mean_squared_error\n",
        "from sklearn.metrics import roc_auc_score\n",
        "from sklearn.metrics import roc_curve, auc\n",
        "from IPython.display import display\n",
        "import matplotlib.pyplot as plt\n",
        "import numpy as np\n",
        "import json\n",
        "\n"
      ],
      "id": "0557d6c8"
    },
    {
      "cell_type": "code",
      "execution_count": 31,
      "metadata": {
        "colab": {
          "base_uri": "https://localhost:8080/"
        },
        "id": "3cTsWWseCCMc",
        "outputId": "93a625d0-97f3-4b81-a043-a4f98bde9930"
      },
      "outputs": [
        {
          "output_type": "stream",
          "name": "stdout",
          "text": [
            "Drive already mounted at /content/drive; to attempt to forcibly remount, call drive.mount(\"/content/drive\", force_remount=True).\n"
          ]
        }
      ],
      "source": [
        "from google.colab import drive\n",
        "drive.mount('/content/drive')"
      ],
      "id": "3cTsWWseCCMc"
    },
    {
      "cell_type": "code",
      "execution_count": 32,
      "metadata": {
        "id": "92CbJN_cCFul"
      },
      "outputs": [],
      "source": [
        "df_annotations = pd.read_csv(\"/content/drive/MyDrive/data/all_annotations.csv\")\n"
      ],
      "id": "92CbJN_cCFul"
    },
    {
      "cell_type": "markdown",
      "metadata": {
        "id": "4b2e7a73"
      },
      "source": [
        "# Get data"
      ],
      "id": "4b2e7a73"
    },
    {
      "cell_type": "code",
      "execution_count": 33,
      "metadata": {
        "id": "c8ebd7a5"
      },
      "outputs": [],
      "source": [
        "with open(\"/content/drive/MyDrive/data/protocols.pkl.gz\", \"rb\") as f:\n",
        "    file_to_pages = pkl.load(f)"
      ],
      "id": "c8ebd7a5"
    },
    {
      "cell_type": "code",
      "execution_count": 34,
      "metadata": {
        "id": "9fbe5bf0"
      },
      "outputs": [],
      "source": [
        "texts = []\n",
        "\n",
        "for i in range(len(df_annotations)):\n",
        "    file_name = df_annotations.file.iloc[i]\n",
        "    \n",
        "    pages= file_to_pages[file_name]\n",
        "    # Limit to first 6 pages because of memory constraints\n",
        "    if len(pages) > 6:\n",
        "      pages = pages[:6]\n",
        "\n",
        "    texts.append(\" \".join(pages))\n",
        "df_annotations[\"text\"] = texts"
      ],
      "id": "9fbe5bf0"
    },
    {
      "cell_type": "code",
      "execution_count": 35,
      "metadata": {
        "id": "f3322e30"
      },
      "outputs": [],
      "source": [
        "df_annotations = df_annotations[~df_annotations.phase.isna()]"
      ],
      "id": "f3322e30"
    },
    {
      "cell_type": "code",
      "source": [
        "df_annotations[\"phase\"].value_counts()"
      ],
      "metadata": {
        "colab": {
          "base_uri": "https://localhost:8080/"
        },
        "id": "nZgEgMEKD4XR",
        "outputId": "3cdf5b54-c617-49e3-9457-5ab973b46b18"
      },
      "id": "nZgEgMEKD4XR",
      "execution_count": 36,
      "outputs": [
        {
          "output_type": "execute_result",
          "data": {
            "text/plain": [
              "Phase 2            4317\n",
              "Phase 3            2725\n",
              "Phase 4            1461\n",
              "Phase 1            1154\n",
              "Phase 1/Phase 2     983\n",
              "Not Applicable      519\n",
              "Phase 2/Phase 3     297\n",
              "Early Phase 1       135\n",
              "Name: phase, dtype: int64"
            ]
          },
          "metadata": {},
          "execution_count": 36
        }
      ]
    },
    {
      "cell_type": "code",
      "source": [
        "df_annotations[\"phase\"].value_counts().max() / df_annotations[\"phase\"].value_counts()"
      ],
      "metadata": {
        "colab": {
          "base_uri": "https://localhost:8080/"
        },
        "id": "jTr12CTU37nQ",
        "outputId": "0a234d45-3439-40b3-be92-86b971ed8b87"
      },
      "id": "jTr12CTU37nQ",
      "execution_count": 37,
      "outputs": [
        {
          "output_type": "execute_result",
          "data": {
            "text/plain": [
              "Phase 2             1.000000\n",
              "Phase 3             1.584220\n",
              "Phase 4             2.954825\n",
              "Phase 1             3.740901\n",
              "Phase 1/Phase 2     4.391658\n",
              "Not Applicable      8.317919\n",
              "Phase 2/Phase 3    14.535354\n",
              "Early Phase 1      31.977778\n",
              "Name: phase, dtype: float64"
            ]
          },
          "metadata": {},
          "execution_count": 37
        }
      ]
    },
    {
      "cell_type": "code",
      "source": [
        "labels = sorted(set(df_annotations[\"phase\"]))"
      ],
      "metadata": {
        "id": "-dJssyKancgv"
      },
      "id": "-dJssyKancgv",
      "execution_count": 58,
      "outputs": []
    },
    {
      "cell_type": "code",
      "source": [
        "labels"
      ],
      "metadata": {
        "colab": {
          "base_uri": "https://localhost:8080/"
        },
        "id": "gGCvM-UveDxL",
        "outputId": "1c96c248-afec-49b2-f1a2-75d3806757c3"
      },
      "id": "gGCvM-UveDxL",
      "execution_count": 68,
      "outputs": [
        {
          "output_type": "execute_result",
          "data": {
            "text/plain": [
              "['Early Phase 1',\n",
              " 'Not Applicable',\n",
              " 'Phase 1',\n",
              " 'Phase 1/Phase 2',\n",
              " 'Phase 2',\n",
              " 'Phase 2/Phase 3',\n",
              " 'Phase 3',\n",
              " 'Phase 4']"
            ]
          },
          "metadata": {},
          "execution_count": 68
        }
      ]
    },
    {
      "cell_type": "code",
      "source": [
        "num_classes = len(labels)"
      ],
      "metadata": {
        "id": "AIeUvNG4cU9O"
      },
      "id": "AIeUvNG4cU9O",
      "execution_count": 59,
      "outputs": []
    },
    {
      "cell_type": "code",
      "source": [
        "label_to_idx = {}\n",
        "for idx, label in enumerate(labels):\n",
        "  label_to_idx[label] = idx"
      ],
      "metadata": {
        "id": "ASgzThwhb0Kv"
      },
      "id": "ASgzThwhb0Kv",
      "execution_count": 60,
      "outputs": []
    },
    {
      "cell_type": "code",
      "source": [
        "def to_one_hot(phase):\n",
        "  a = [0] * len(labels)\n",
        "  a[label_to_idx[phase]] = 1\n",
        "  return np.asarray(a)"
      ],
      "metadata": {
        "id": "q-4fJiPVbvCK"
      },
      "id": "q-4fJiPVbvCK",
      "execution_count": 61,
      "outputs": []
    },
    {
      "cell_type": "code",
      "source": [
        "phase"
      ],
      "metadata": {
        "colab": {
          "base_uri": "https://localhost:8080/",
          "height": 35
        },
        "id": "2YJDPuoUdemK",
        "outputId": "7aa44ec3-8862-4e5d-b5dc-d38782f6825d"
      },
      "id": "2YJDPuoUdemK",
      "execution_count": 62,
      "outputs": [
        {
          "output_type": "execute_result",
          "data": {
            "text/plain": [
              "'Phase 3'"
            ],
            "application/vnd.google.colaboratory.intrinsic+json": {
              "type": "string"
            }
          },
          "metadata": {},
          "execution_count": 62
        }
      ]
    },
    {
      "cell_type": "code",
      "source": [
        "train_labels = []\n",
        "train_examples = []\n",
        "test_labels = []\n",
        "test_examples = []\n",
        "\n",
        "for idx in range(len(df_annotations)):\n",
        "  \n",
        "  if df_annotations.train_val.iloc[idx] == \"train\":\n",
        "    these_labels = train_labels\n",
        "    examples = train_examples\n",
        "  else:\n",
        "    these_labels = test_labels\n",
        "    examples = test_examples\n",
        "  \n",
        "  text = str(df_annotations.text.iloc[idx])\n",
        "  if len(text) > 100000:\n",
        "      text = text[:100000]\n",
        "\n",
        "  phase = df_annotations.phase.iloc[idx]\n",
        "\n",
        "  # data augmenting\n",
        "  aug = 1\n",
        "  if  df_annotations.train_val.iloc[idx] == \"train\" and phase not in (\"Phase 2\", \"Phase 3\", \"Phase 4\",  ):\n",
        "    aug = 2\n",
        "  for i in range(aug):\n",
        "    these_labels.append(to_one_hot(phase))\n",
        "    examples.append(text)"
      ],
      "metadata": {
        "id": "MYOZGKg5cq-S"
      },
      "id": "MYOZGKg5cq-S",
      "execution_count": 63,
      "outputs": []
    },
    {
      "cell_type": "code",
      "source": [
        "c = np.asarray(train_labels)\n",
        "test_labels = np.asarray(test_labels)"
      ],
      "metadata": {
        "id": "za2I6ADZcB73"
      },
      "id": "za2I6ADZcB73",
      "execution_count": 64,
      "outputs": []
    },
    {
      "cell_type": "code",
      "source": [
        "train_examples = np.asarray(train_examples)\n",
        "test_examples = np.asarray(test_examples)"
      ],
      "metadata": {
        "id": "1PIRCAYzcLLz"
      },
      "id": "1PIRCAYzcLLz",
      "execution_count": 65,
      "outputs": []
    },
    {
      "cell_type": "markdown",
      "source": [
        "# Begin Keras"
      ],
      "metadata": {
        "id": "SfBgW4gfxcij"
      },
      "id": "SfBgW4gfxcij"
    },
    {
      "cell_type": "code",
      "source": [
        "import numpy as np\n",
        "\n",
        "import tensorflow as tf\n",
        "import tensorflow_hub as hub\n",
        "import tensorflow_datasets as tfds\n",
        "\n",
        "import matplotlib.pyplot as plt\n",
        "\n",
        "print(\"Version: \", tf.__version__)\n",
        "print(\"Eager mode: \", tf.executing_eagerly())\n",
        "print(\"Hub version: \", hub.__version__)\n",
        "print(\"GPU is\", \"available\" if tf.config.list_physical_devices('GPU') else \"NOT AVAILABLE\")"
      ],
      "metadata": {
        "colab": {
          "base_uri": "https://localhost:8080/"
        },
        "id": "fxnqRBd6blu9",
        "outputId": "4ed5c72d-0cda-4a86-b0b0-3c8626295cc5"
      },
      "id": "fxnqRBd6blu9",
      "execution_count": 69,
      "outputs": [
        {
          "output_type": "stream",
          "name": "stdout",
          "text": [
            "Version:  2.9.2\n",
            "Eager mode:  True\n",
            "Hub version:  0.12.0\n",
            "GPU is available\n"
          ]
        }
      ]
    },
    {
      "cell_type": "code",
      "source": [
        "model = \"https://tfhub.dev/google/nnlm-en-dim50/2\"\n",
        "hub_layer = hub.KerasLayer(model, input_shape=[], dtype=tf.string, trainable=True)\n",
        "hub_layer(train_examples[:3])\n"
      ],
      "metadata": {
        "colab": {
          "base_uri": "https://localhost:8080/"
        },
        "id": "UPVj8qiKbppA",
        "outputId": "4973ba51-fcac-4ebc-fb45-2f4a998744d9"
      },
      "id": "UPVj8qiKbppA",
      "execution_count": 70,
      "outputs": [
        {
          "output_type": "execute_result",
          "data": {
            "text/plain": [
              "<tf.Tensor: shape=(3, 50), dtype=float32, numpy=\n",
              "array([[ 1.4520766 ,  0.14392681,  1.0241674 ,  0.2082952 ,  1.7013401 ,\n",
              "        -1.8502012 , -1.7247353 ,  0.59570205,  0.12547296, -0.09221198,\n",
              "         0.25371724, -0.75667506, -0.18044491, -1.1822199 ,  1.0065392 ,\n",
              "         0.66017145,  3.0587838 , -1.6261206 ,  0.06929344,  1.8323723 ,\n",
              "         0.4978937 ,  0.3285482 ,  0.7654918 , -1.2233241 , -0.1807414 ,\n",
              "        -3.205798  ,  1.552178  ,  1.9313946 , -0.8581004 , -0.4258135 ,\n",
              "         0.7067108 ,  1.2935582 , -2.8316429 ,  0.088562  ,  1.8663073 ,\n",
              "        -1.5251645 ,  1.226979  , -0.10428789, -0.72332424,  1.1969528 ,\n",
              "        -0.07133699, -0.6894014 ,  0.47003335,  0.02840734, -0.8264981 ,\n",
              "         0.49195358, -0.271986  ,  0.6488113 , -0.72584236,  1.3634989 ],\n",
              "       [ 3.7083087 , -0.241776  ,  0.6364168 ,  0.7943938 ,  1.9948822 ,\n",
              "        -1.3595589 , -1.6440583 ,  1.0520076 , -0.08786397,  0.7368886 ,\n",
              "        -0.59569865, -0.2995656 ,  0.12506673, -0.9447105 ,  1.0842537 ,\n",
              "         0.60747427,  1.9476084 , -0.282334  ,  0.12380899,  1.257891  ,\n",
              "        -0.2956614 ,  0.47125882,  0.6345389 , -0.11222646, -0.12582682,\n",
              "        -2.5563772 ,  0.79195875,  0.6844494 , -1.513977  , -0.4846434 ,\n",
              "         0.33631527,  1.8798324 , -2.145737  ,  0.01531919,  1.0419772 ,\n",
              "        -1.5229921 ,  1.0460979 , -0.09653275, -0.9206283 ,  1.0895798 ,\n",
              "         0.2755851 , -0.14782485, -0.5777486 ,  0.4966249 , -0.23886831,\n",
              "        -0.0914682 , -0.19020483,  0.13900918, -0.40761584,  1.6291293 ],\n",
              "       [ 1.8451102 , -0.0279499 ,  0.8077623 ,  0.05288283,  1.4932585 ,\n",
              "        -1.5795394 , -1.1506783 ,  0.36119238, -0.07001243,  0.14614303,\n",
              "         0.03515758, -0.5155011 ,  0.28632328, -1.2679551 ,  0.7501037 ,\n",
              "         0.9623035 ,  2.675766  , -0.8878396 ,  0.40703055,  1.6257529 ,\n",
              "         0.5985839 ,  0.40141264,  0.5913761 , -0.51433647,  0.04033589,\n",
              "        -2.3892276 ,  1.1985556 ,  1.520232  , -1.2147688 , -0.3245865 ,\n",
              "         0.93431264,  1.273837  , -2.0402498 ,  0.37213972,  2.4088006 ,\n",
              "        -1.2654272 ,  0.8389083 , -0.3477595 , -0.9704074 ,  1.3880876 ,\n",
              "        -0.05270253, -0.46473503,  0.43896273,  0.34274128, -0.63659763,\n",
              "         0.5916028 , -0.2854947 ,  0.13229956, -0.53270155,  1.0794492 ]],\n",
              "      dtype=float32)>"
            ]
          },
          "metadata": {},
          "execution_count": 70
        }
      ]
    },
    {
      "cell_type": "code",
      "source": [
        "model = tf.keras.Sequential()\n",
        "model.add(hub_layer)\n",
        "model.add(tf.keras.layers.Dense(16, activation='relu'))\n",
        "model.add(tf.keras.layers.Dense(num_classes, activation='softmax'))\n",
        "\n",
        "model.summary()"
      ],
      "metadata": {
        "colab": {
          "base_uri": "https://localhost:8080/"
        },
        "id": "H4Bldm31cSRu",
        "outputId": "376a7701-3fa1-43b1-e24e-53cdbe3f9bc4"
      },
      "id": "H4Bldm31cSRu",
      "execution_count": 71,
      "outputs": [
        {
          "output_type": "stream",
          "name": "stdout",
          "text": [
            "Model: \"sequential_1\"\n",
            "_________________________________________________________________\n",
            " Layer (type)                Output Shape              Param #   \n",
            "=================================================================\n",
            " keras_layer_1 (KerasLayer)  (None, 50)                48190600  \n",
            "                                                                 \n",
            " dense_2 (Dense)             (None, 16)                816       \n",
            "                                                                 \n",
            " dense_3 (Dense)             (None, 8)                 136       \n",
            "                                                                 \n",
            "=================================================================\n",
            "Total params: 48,191,552\n",
            "Trainable params: 48,191,552\n",
            "Non-trainable params: 0\n",
            "_________________________________________________________________\n"
          ]
        }
      ]
    },
    {
      "cell_type": "code",
      "source": [
        "model.compile(optimizer='adam',\n",
        "              loss=tf.losses.CategoricalCrossentropy(),\n",
        "              metrics=[tf.metrics.CategoricalCrossentropy(name='accuracy'), tf.metrics.AUC(name='auc')],\n",
        "              run_eagerly=True)\n"
      ],
      "metadata": {
        "id": "kDnFRDHccYGv"
      },
      "id": "kDnFRDHccYGv",
      "execution_count": 72,
      "outputs": []
    },
    {
      "cell_type": "code",
      "source": [
        "partial_x_train = train_examples\n",
        "x_val = test_examples\n",
        "\n",
        "partial_y_train = train_labels\n",
        "y_val = test_labels"
      ],
      "metadata": {
        "id": "7qm5F_NAeRHf"
      },
      "id": "7qm5F_NAeRHf",
      "execution_count": 74,
      "outputs": []
    },
    {
      "cell_type": "code",
      "source": [
        "history = model.fit(partial_x_train,\n",
        "                    partial_y_train,\n",
        "                    epochs=20,\n",
        "                    batch_size=512,\n",
        "                    validation_data=(x_val, y_val),\n",
        "                    verbose=1)"
      ],
      "metadata": {
        "colab": {
          "base_uri": "https://localhost:8080/"
        },
        "id": "KvW8o14rzkOh",
        "outputId": "f6eed8a8-ae6d-4e54-b770-fd766caa08f9"
      },
      "id": "KvW8o14rzkOh",
      "execution_count": 75,
      "outputs": [
        {
          "output_type": "stream",
          "name": "stdout",
          "text": [
            "Epoch 1/20\n",
            "23/23 [==============================] - 5s 152ms/step - loss: 2.0870 - accuracy: 2.0870 - auc: 0.6224 - val_loss: 1.8105 - val_accuracy: 1.8105 - val_auc: 0.7445\n",
            "Epoch 2/20\n",
            "23/23 [==============================] - 3s 149ms/step - loss: 1.8079 - accuracy: 1.8079 - auc: 0.7418 - val_loss: 1.6685 - val_accuracy: 1.6685 - val_auc: 0.7981\n",
            "Epoch 3/20\n",
            "23/23 [==============================] - 3s 152ms/step - loss: 1.6629 - accuracy: 1.6629 - auc: 0.7959 - val_loss: 1.6042 - val_accuracy: 1.6042 - val_auc: 0.8158\n",
            "Epoch 4/20\n",
            "23/23 [==============================] - 3s 147ms/step - loss: 1.5334 - accuracy: 1.5334 - auc: 0.8337 - val_loss: 1.5351 - val_accuracy: 1.5351 - val_auc: 0.8317\n",
            "Epoch 5/20\n",
            "23/23 [==============================] - 3s 147ms/step - loss: 1.4048 - accuracy: 1.4048 - auc: 0.8656 - val_loss: 1.4786 - val_accuracy: 1.4786 - val_auc: 0.8428\n",
            "Epoch 6/20\n",
            "23/23 [==============================] - 3s 149ms/step - loss: 1.2756 - accuracy: 1.2756 - auc: 0.8917 - val_loss: 1.4308 - val_accuracy: 1.4308 - val_auc: 0.8529\n",
            "Epoch 7/20\n",
            "23/23 [==============================] - 3s 147ms/step - loss: 1.1461 - accuracy: 1.1461 - auc: 0.9153 - val_loss: 1.3982 - val_accuracy: 1.3982 - val_auc: 0.8593\n",
            "Epoch 8/20\n",
            "23/23 [==============================] - 3s 148ms/step - loss: 1.0203 - accuracy: 1.0203 - auc: 0.9354 - val_loss: 1.3588 - val_accuracy: 1.3588 - val_auc: 0.8663\n",
            "Epoch 9/20\n",
            "23/23 [==============================] - 3s 143ms/step - loss: 0.9006 - accuracy: 0.9006 - auc: 0.9519 - val_loss: 1.3390 - val_accuracy: 1.3390 - val_auc: 0.8702\n",
            "Epoch 10/20\n",
            "23/23 [==============================] - 3s 147ms/step - loss: 0.7874 - accuracy: 0.7874 - auc: 0.9642 - val_loss: 1.3319 - val_accuracy: 1.3319 - val_auc: 0.8714\n",
            "Epoch 11/20\n",
            "23/23 [==============================] - 3s 145ms/step - loss: 0.6846 - accuracy: 0.6846 - auc: 0.9753 - val_loss: 1.3302 - val_accuracy: 1.3302 - val_auc: 0.8720\n",
            "Epoch 12/20\n",
            "23/23 [==============================] - 3s 143ms/step - loss: 0.5897 - accuracy: 0.5897 - auc: 0.9827 - val_loss: 1.3429 - val_accuracy: 1.3429 - val_auc: 0.8702\n",
            "Epoch 13/20\n",
            "23/23 [==============================] - 3s 145ms/step - loss: 0.5060 - accuracy: 0.5060 - auc: 0.9886 - val_loss: 1.3560 - val_accuracy: 1.3560 - val_auc: 0.8695\n",
            "Epoch 14/20\n",
            "23/23 [==============================] - 3s 145ms/step - loss: 0.4320 - accuracy: 0.4320 - auc: 0.9926 - val_loss: 1.3712 - val_accuracy: 1.3712 - val_auc: 0.8685\n",
            "Epoch 15/20\n",
            "23/23 [==============================] - 3s 144ms/step - loss: 0.3707 - accuracy: 0.3707 - auc: 0.9952 - val_loss: 1.3943 - val_accuracy: 1.3943 - val_auc: 0.8671\n",
            "Epoch 16/20\n",
            "23/23 [==============================] - 3s 153ms/step - loss: 0.3148 - accuracy: 0.3148 - auc: 0.9969 - val_loss: 1.4209 - val_accuracy: 1.4209 - val_auc: 0.8651\n",
            "Epoch 17/20\n",
            "23/23 [==============================] - 3s 148ms/step - loss: 0.2684 - accuracy: 0.2684 - auc: 0.9981 - val_loss: 1.4497 - val_accuracy: 1.4497 - val_auc: 0.8647\n",
            "Epoch 18/20\n",
            "23/23 [==============================] - 3s 153ms/step - loss: 0.2307 - accuracy: 0.2307 - auc: 0.9987 - val_loss: 1.4793 - val_accuracy: 1.4793 - val_auc: 0.8622\n",
            "Epoch 19/20\n",
            "23/23 [==============================] - 3s 149ms/step - loss: 0.1978 - accuracy: 0.1978 - auc: 0.9992 - val_loss: 1.5083 - val_accuracy: 1.5083 - val_auc: 0.8617\n",
            "Epoch 20/20\n",
            "23/23 [==============================] - 3s 144ms/step - loss: 0.1696 - accuracy: 0.1696 - auc: 0.9995 - val_loss: 1.5402 - val_accuracy: 1.5402 - val_auc: 0.8602\n"
          ]
        }
      ]
    },
    {
      "cell_type": "code",
      "source": [
        "model.save('/content/drive/MyDrive/data/phase_model_05.keras')"
      ],
      "metadata": {
        "id": "FCwDsuzoz-VF"
      },
      "id": "FCwDsuzoz-VF",
      "execution_count": 76,
      "outputs": []
    },
    {
      "cell_type": "code",
      "source": [
        "results = model.evaluate(test_examples, test_labels)\n",
        "\n",
        "print(results)"
      ],
      "metadata": {
        "id": "4W_3MT1S1HB2",
        "colab": {
          "base_uri": "https://localhost:8080/"
        },
        "outputId": "57b03f02-a200-4e5a-842d-a7537b876aae"
      },
      "id": "4W_3MT1S1HB2",
      "execution_count": 77,
      "outputs": [
        {
          "output_type": "stream",
          "name": "stdout",
          "text": [
            "73/73 [==============================] - 2s 21ms/step - loss: 1.5402 - accuracy: 1.5402 - auc: 0.8602\n",
            "[1.5401532649993896, 1.5401532649993896, 0.8601692318916321]\n"
          ]
        }
      ]
    },
    {
      "cell_type": "code",
      "source": [
        "history_dict = history.history\n",
        "history_dict.keys()"
      ],
      "metadata": {
        "colab": {
          "base_uri": "https://localhost:8080/"
        },
        "id": "sUWoDWS90p2B",
        "outputId": "93cfb8a6-2a4b-4d7f-854e-bcf0d49c1f9a"
      },
      "id": "sUWoDWS90p2B",
      "execution_count": 78,
      "outputs": [
        {
          "output_type": "execute_result",
          "data": {
            "text/plain": [
              "dict_keys(['loss', 'accuracy', 'auc', 'val_loss', 'val_accuracy', 'val_auc'])"
            ]
          },
          "metadata": {},
          "execution_count": 78
        }
      ]
    },
    {
      "cell_type": "code",
      "source": [
        "acc = history_dict['accuracy']\n",
        "val_acc = history_dict['val_accuracy']\n",
        "loss = history_dict['loss']\n",
        "val_loss = history_dict['val_loss']\n",
        "\n",
        "epochs = range(1, len(acc) + 1)\n",
        "\n",
        "# \"bo\" is for \"blue dot\"\n",
        "plt.plot(epochs, loss, 'bo', label='Training loss')\n",
        "# b is for \"solid blue line\"\n",
        "plt.plot(epochs, val_loss, 'b', label='Validation loss')\n",
        "plt.title('Training and validation loss')\n",
        "plt.xlabel('Epochs')\n",
        "plt.ylabel('Loss')\n",
        "plt.legend()\n",
        "\n",
        "plt.show()"
      ],
      "metadata": {
        "id": "beqb5ctemjgM",
        "colab": {
          "base_uri": "https://localhost:8080/",
          "height": 295
        },
        "outputId": "893e5f36-bcb3-4b4f-e0ba-89b5325d7e0b"
      },
      "id": "beqb5ctemjgM",
      "execution_count": 79,
      "outputs": [
        {
          "output_type": "display_data",
          "data": {
            "text/plain": [
              "<Figure size 432x288 with 1 Axes>"
            ],
            "image/png": "[encoded data removed]"
          },
          "metadata": {
            "needs_background": "light"
          }
        }
      ]
    },
    {
      "cell_type": "code",
      "source": [
        "plt.clf()   # clear figure\n",
        "\n",
        "plt.plot(epochs, acc, 'bo', label='Training acc')\n",
        "plt.plot(epochs, val_acc, 'b', label='Validation acc')\n",
        "plt.title('Training and validation accuracy')\n",
        "plt.xlabel('Epochs')\n",
        "plt.ylabel('Accuracy')\n",
        "plt.legend()\n",
        "\n",
        "plt.show()"
      ],
      "metadata": {
        "colab": {
          "base_uri": "https://localhost:8080/",
          "height": 295
        },
        "id": "vWTmP_yEJL87",
        "outputId": "cf20c254-7525-4660-e8c9-eaf08da4ac82"
      },
      "id": "vWTmP_yEJL87",
      "execution_count": 80,
      "outputs": [
        {
          "output_type": "display_data",
          "data": {
            "text/plain": [
              "<Figure size 432x288 with 1 Axes>"
            ],
            "image/png": "[encoded data removed]"
          },
          "metadata": {
            "needs_background": "light"
          }
        }
      ]
    },
    {
      "cell_type": "code",
      "execution_count": 81,
      "metadata": {
        "id": "3d106a6e"
      },
      "outputs": [],
      "source": [
        "df_val = df_annotations[df_annotations.train_val==\"val\"]\n",
        "input_texts= np.asarray(df_val.text)"
      ],
      "id": "3d106a6e"
    },
    {
      "cell_type": "code",
      "source": [
        "y_pred_proba = model.predict(input_texts)"
      ],
      "metadata": {
        "colab": {
          "base_uri": "https://localhost:8080/"
        },
        "id": "KFXrxVkXetHB",
        "outputId": "14628638-2d29-402e-9457-2a3efe214ae3"
      },
      "id": "KFXrxVkXetHB",
      "execution_count": 84,
      "outputs": [
        {
          "output_type": "stream",
          "name": "stdout",
          "text": [
            "34/34 [==============================] - 0s 8ms/step\n"
          ]
        }
      ]
    },
    {
      "cell_type": "code",
      "source": [
        "y_pred_proba"
      ],
      "metadata": {
        "colab": {
          "base_uri": "https://localhost:8080/"
        },
        "id": "3KCmsS5Aeukg",
        "outputId": "bbbd8cbf-3f29-4a3d-aee4-60a1fbddd1cf"
      },
      "id": "3KCmsS5Aeukg",
      "execution_count": 85,
      "outputs": [
        {
          "output_type": "execute_result",
          "data": {
            "text/plain": [
              "array([[4.9108558e-04, 2.4206705e-04, 8.1899787e-05, ..., 6.5262377e-04,\n",
              "        6.3902909e-01, 6.9443677e-03],\n",
              "       [1.4934693e-03, 2.7765112e-04, 7.3560677e-02, ..., 6.7549967e-03,\n",
              "        1.1171228e-01, 2.7269730e-02],\n",
              "       [2.4850950e-02, 2.1409929e-02, 9.0969112e-03, ..., 3.8018811e-02,\n",
              "        1.4255507e-01, 9.0467587e-02],\n",
              "       ...,\n",
              "       [1.0136728e-02, 3.7712145e-01, 3.8929011e-05, ..., 3.1596683e-02,\n",
              "        5.6994777e-02, 5.2029073e-01],\n",
              "       [2.6122993e-03, 7.3664455e-04, 3.8163183e-04, ..., 7.6937996e-04,\n",
              "        5.9300015e-04, 3.9909116e-04],\n",
              "       [1.3331895e-03, 8.1891278e-03, 7.8212857e-01, ..., 7.5160027e-02,\n",
              "        2.5188923e-02, 2.5522897e-02]], dtype=float32)"
            ]
          },
          "metadata": {},
          "execution_count": 85
        }
      ]
    },
    {
      "cell_type": "code",
      "execution_count": 88,
      "metadata": {
        "id": "fcff782f",
        "colab": {
          "base_uri": "https://localhost:8080/"
        },
        "outputId": "c6c5546a-416d-499c-9411-6c3b5ec208ee"
      },
      "outputs": [
        {
          "output_type": "stream",
          "name": "stderr",
          "text": [
            "/usr/local/lib/python3.7/dist-packages/ipykernel_launcher.py:1: SettingWithCopyWarning: \n",
            "A value is trying to be set on a copy of a slice from a DataFrame.\n",
            "Try using .loc[row_indexer,col_indexer] = value instead\n",
            "\n",
            "See the caveats in the documentation: https://pandas.pydata.org/pandas-docs/stable/user_guide/indexing.html#returning-a-view-versus-a-copy\n",
            "  \"\"\"Entry point for launching an IPython kernel.\n"
          ]
        }
      ],
      "source": [
        "df_val[\"y_pred_phase\"] = [labels[int(np.argmax(x))] for x in y_pred_proba]"
      ],
      "id": "fcff782f"
    },
    {
      "cell_type": "code",
      "source": [
        "df_val[\"y_pred_phase\"]"
      ],
      "metadata": {
        "colab": {
          "base_uri": "https://localhost:8080/"
        },
        "id": "1GHBXaCEey_V",
        "outputId": "bfed8cef-0af8-4cc7-ae1e-913109d62d71"
      },
      "id": "1GHBXaCEey_V",
      "execution_count": 89,
      "outputs": [
        {
          "output_type": "execute_result",
          "data": {
            "text/plain": [
              "12               Phase 3\n",
              "49               Phase 2\n",
              "50               Phase 2\n",
              "51               Phase 3\n",
              "52               Phase 2\n",
              "              ...       \n",
              "11903            Phase 2\n",
              "11904    Phase 2/Phase 3\n",
              "11905            Phase 4\n",
              "11906            Phase 2\n",
              "11907            Phase 1\n",
              "Name: y_pred_phase, Length: 1057, dtype: object"
            ]
          },
          "metadata": {},
          "execution_count": 89
        }
      ]
    },
    {
      "cell_type": "code",
      "source": [
        "pred_phase = df_val[\"y_pred_phase\"]"
      ],
      "metadata": {
        "id": "ZlUaqG_6FqEs"
      },
      "id": "ZlUaqG_6FqEs",
      "execution_count": 90,
      "outputs": []
    },
    {
      "cell_type": "code",
      "execution_count": 91,
      "metadata": {
        "id": "91311d34",
        "colab": {
          "base_uri": "https://localhost:8080/"
        },
        "outputId": "2e54ae72-ad63-4dd0-aae1-a74fe7faed38"
      },
      "outputs": [
        {
          "output_type": "stream",
          "name": "stdout",
          "text": [
            "Phase accuracy 0.533585619678335\n"
          ]
        }
      ],
      "source": [
        "acc = accuracy_score(df_val.phase, df_val[\"y_pred_phase\"])\n",
        "print (f\"Phase accuracy {acc}\")"
      ],
      "id": "91311d34"
    },
    {
      "cell_type": "code",
      "execution_count": 92,
      "metadata": {
        "id": "b620ed04",
        "colab": {
          "base_uri": "https://localhost:8080/",
          "height": 369
        },
        "outputId": "82cdea29-e55d-4a4b-d6e2-a89daed50e6c"
      },
      "outputs": [
        {
          "output_type": "execute_result",
          "data": {
            "text/plain": [
              "''"
            ],
            "application/vnd.google.colaboratory.intrinsic+json": {
              "type": "string"
            }
          },
          "metadata": {},
          "execution_count": 92
        },
        {
          "output_type": "display_data",
          "data": {
            "text/plain": [
              "<Figure size 432x288 with 2 Axes>"
            ],
            "image/png": "[encoded data removed]"
          },
          "metadata": {
            "needs_background": "light"
          }
        }
      ],
      "source": [
        "ConfusionMatrixDisplay.from_predictions(df_val.phase, df_val[\"y_pred_phase\"])\n",
        "plt.xticks(rotation=90)\n",
        ";"
      ],
      "id": "b620ed04"
    },
    {
      "cell_type": "code",
      "execution_count": 28,
      "metadata": {
        "id": "84b0d6cd",
        "colab": {
          "base_uri": "https://localhost:8080/"
        },
        "outputId": "b63041e9-3714-434f-9cf6-91df6b17f43f"
      },
      "outputs": [
        {
          "output_type": "stream",
          "name": "stdout",
          "text": [
            "Phase ROC AUC 0.6317418213969939 for Early Phase 1\n",
            "Phase ROC AUC 0.7959833139809918 for Not Applicable\n",
            "Phase ROC AUC 0.8760439839206962 for Phase 1\n",
            "Phase ROC AUC 0.7666624106230848 for Phase 1/Phase 2\n",
            "Phase ROC AUC 0.7668323836475582 for Phase 2\n",
            "Phase ROC AUC 0.700685405269446 for Phase 2/Phase 3\n",
            "Phase ROC AUC 0.8337558153405703 for Phase 3\n",
            "Phase ROC AUC 0.8360186179735053 for Phase 4\n",
            "Average 0.7759654690191058\n"
          ]
        }
      ],
      "source": [
        "all_aucs = []\n",
        "from sklearn.metrics import roc_auc_score\n",
        "for phase in labels:\n",
        "  roc_auc = roc_auc_score(df_val.phase == phase, [p[phase] for p in predictions])\n",
        "  print (f\"Phase ROC AUC {roc_auc} for {phase}\")\n",
        "  all_aucs.append(roc_auc)\n",
        "print (\"Average\", np.mean(all_aucs))"
      ],
      "id": "84b0d6cd"
    },
    {
      "cell_type": "code",
      "source": [
        "plt.figure()\n",
        "lw = 2\n",
        "    \n",
        "for phase in labels:\n",
        "    fpr, tpr, _ = roc_curve(df_val.phase == phase, [p[phase] for p in predictions])\n",
        "    roc_auc = auc(fpr, tpr)\n",
        "    plt.plot(\n",
        "        fpr,\n",
        "        tpr,\n",
        "        # color=\"darkorange\",\n",
        "        lw=lw,\n",
        "        label=f\"ROC curve {phase} (area = {roc_auc:0.2f})\"\n",
        "    )\n",
        "    plt.plot([0, 1], [0, 1], color=\"gray\", alpha=0.5, lw=lw, linestyle=\"--\")\n",
        "plt.xlim([0.0, 1.0])\n",
        "plt.ylim([0.0, 1.05])\n",
        "plt.xlabel(\"False Positive Rate\")\n",
        "plt.ylabel(\"True Positive Rate\")\n",
        "plt.title(\"Receiver operating characteristic example\")\n",
        "plt.legend(loc=\"lower right\")\n",
        "plt.show()"
      ],
      "metadata": {
        "id": "MMUw1gpToQxh",
        "colab": {
          "base_uri": "https://localhost:8080/",
          "height": 295
        },
        "outputId": "7bbc7b18-83b1-4f66-fa76-c282228dca21"
      },
      "id": "MMUw1gpToQxh",
      "execution_count": 29,
      "outputs": [
        {
          "output_type": "display_data",
          "data": {
            "text/plain": [
              "<Figure size 432x288 with 1 Axes>"
            ],
            "image/png": "[encoded data removed]"
          },
          "metadata": {
            "needs_background": "light"
          }
        }
      ]
    },
    {
      "cell_type": "code",
      "source": [],
      "metadata": {
        "id": "EcelKkER4cjk"
      },
      "id": "EcelKkER4cjk",
      "execution_count": null,
      "outputs": []
    }
  ],
  "metadata": {
    "colab": {
      "provenance": [],
      "machine_shape": "hm",
      "include_colab_link": true
    },
    "kernelspec": {
      "display_name": "Python [conda env:py310] *",
      "language": "python",
      "name": "conda-env-py310-py"
    },
    "language_info": {
      "codemirror_mode": {
        "name": "ipython",
        "version": 3
      },
      "file_extension": ".py",
      "mimetype": "text/x-python",
      "name": "python",
      "nbconvert_exporter": "python",
      "pygments_lexer": "ipython3",
      "version": "3.10.4"
    },
    "gpuClass": "premium",
    "accelerator": "GPU"
  },
  "nbformat": 4,
  "nbformat_minor": 5
}