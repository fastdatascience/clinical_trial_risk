{
  "cells": [
    {
      "cell_type": "markdown",
      "metadata": {
        "id": "view-in-github",
        "colab_type": "text"
      },
      "source": [
        "<a href=\"https://colab.research.google.com/github/fastdatascience/clinical_trial_risk/blob/fixes_nov_2022/train/ctgov/TrainPhaseAndArmAndNumSubjectsClassifier_03_Keras.ipynb\" target=\"_parent\"><img src=\"https://colab.research.google.com/assets/colab-badge.svg\" alt=\"Open In Colab\"/></a>"
      ]
    },
    {
      "cell_type": "code",
      "execution_count": 1,
      "id": "ad812236",
      "metadata": {
        "id": "ad812236"
      },
      "outputs": [],
      "source": [
        "import pandas as pd\n",
        "import re\n",
        "import os\n",
        "import sys\n",
        "import pickle as pkl\n",
        "import seaborn as sns\n",
        "from sklearn.metrics import accuracy_score, confusion_matrix\n",
        "from sklearn.metrics import ConfusionMatrixDisplay\n",
        "from sklearn.metrics import mean_absolute_error, mean_squared_error\n",
        "from sklearn.metrics import roc_auc_score\n",
        "from sklearn.metrics import roc_curve, auc\n",
        "from IPython.display import display\n",
        "import matplotlib.pyplot as plt\n",
        "import numpy as np\n",
        "import json\n",
        "\n",
        "# df_annotations = pd.read_csv(\"all_annotations.csv\")\n"
      ]
    },
    {
      "cell_type": "code",
      "source": [
        "import time\n",
        "time.sleep(60*20)"
      ],
      "metadata": {
        "id": "2NNBbnc0JzF2"
      },
      "id": "2NNBbnc0JzF2",
      "execution_count": 2,
      "outputs": []
    },
    {
      "cell_type": "markdown",
      "id": "e7ea7d33",
      "metadata": {
        "id": "e7ea7d33"
      },
      "source": [
        "# Get data"
      ]
    },
    {
      "cell_type": "code",
      "execution_count": 3,
      "id": "284b9a07",
      "metadata": {
        "id": "284b9a07"
      },
      "outputs": [],
      "source": [
        "# with open(\"protocols.pkl.gz\", \"rb\") as f:\n",
        "#     file_to_pages = pkl.load(f)"
      ]
    },
    {
      "cell_type": "code",
      "execution_count": 4,
      "id": "91013de0",
      "metadata": {
        "id": "91013de0"
      },
      "outputs": [],
      "source": [
        "# import spacy\n",
        "# nlp = spacy.blank(\"en\")"
      ]
    },
    {
      "cell_type": "code",
      "execution_count": 5,
      "id": "65956b92",
      "metadata": {
        "id": "65956b92",
        "scrolled": true
      },
      "outputs": [],
      "source": [
        "# texts = []\n",
        "\n",
        "# for i in range(len(df_annotations)):\n",
        "#     file_name = df_annotations.file.iloc[i]\n",
        "    \n",
        "#     pages= file_to_pages[file_name]\n",
        "    \n",
        "#     text = \"\"\n",
        "#     for page in pages:\n",
        "#         doc = nlp(page)\n",
        "        \n",
        "#         is_include = [False] * len(doc)\n",
        "#         for tok in doc:\n",
        "#             if tok.text.lower() in {\"phase\"}:\n",
        "#                 for token_index in range(tok.i - 20, tok.i + 20):\n",
        "#                     if token_index >= 0 and token_index < len(doc):\n",
        "#                         is_include[token_index] = True\n",
        "        \n",
        "#         for token_index in range(len(doc)):\n",
        "#             if is_include[token_index]:\n",
        "#                 text += doc[token_index].text + doc[token_index].whitespace_\n",
        "                \n",
        "                \n",
        "#     if text == \"\":\n",
        "#         print (\"nothing found\", file_name, df_annotations.phase.iloc[i])\n",
        "#         text = \" \".join(pages)\n",
        "#         if len(text) > 100000:\n",
        "#             text = text[:100000]\n",
        "#     else:\n",
        "#         print (\"found\", file_name, df_annotations.phase.iloc[i])\n",
        "\n",
        "#     texts.append(text)\n",
        "# df_annotations[\"text\"] = texts"
      ]
    },
    {
      "cell_type": "code",
      "execution_count": 6,
      "id": "76a39c5b",
      "metadata": {
        "id": "76a39c5b"
      },
      "outputs": [],
      "source": [
        "# df_annotations.to_csv(\"filtered_for_phase.csv.bz2\")"
      ]
    },
    {
      "cell_type": "code",
      "source": [
        "from google.colab import drive\n",
        "drive.mount('/content/drive')"
      ],
      "metadata": {
        "colab": {
          "base_uri": "https://localhost:8080/"
        },
        "id": "xCe1anFkGSrt",
        "outputId": "427c551e-98ee-4d39-b833-baaef11f09f5"
      },
      "id": "xCe1anFkGSrt",
      "execution_count": 8,
      "outputs": [
        {
          "output_type": "stream",
          "name": "stdout",
          "text": [
            "Mounted at /content/drive\n"
          ]
        }
      ]
    },
    {
      "cell_type": "code",
      "source": [
        "df_annotations= pd.read_csv(\"/content/drive/MyDrive/data/filtered_for_phase_arms_subjects_02.csv.bz2\")"
      ],
      "metadata": {
        "id": "FdcTHlHsGWnk"
      },
      "id": "FdcTHlHsGWnk",
      "execution_count": 9,
      "outputs": []
    },
    {
      "cell_type": "code",
      "source": [
        "#df_annotations.text = df_annotations.text.apply(lambda t : t[:10000] if len(t) > 10000 else t)"
      ],
      "metadata": {
        "id": "wGilqqbTi76N"
      },
      "id": "wGilqqbTi76N",
      "execution_count": 10,
      "outputs": []
    },
    {
      "cell_type": "code",
      "source": [
        "def get_num_subjects_clean(num):\n",
        "    if pd.isna(num):\n",
        "        return None\n",
        "    if num >= 10000:\n",
        "        return \"10000+\"\n",
        "    if num >= 1000:\n",
        "        return \"1000+\"\n",
        "    if num >= 500:\n",
        "        return \"500+\"\n",
        "    if num >= 200:\n",
        "        return \"200+\"\n",
        "    if num >= 100:\n",
        "        return \"100+\"\n",
        "    if num >= 50:\n",
        "        return \"50+\"\n",
        "    if num >= 25:\n",
        "        return \"25+\"\n",
        "    return \"1-24\"\n",
        "df_annotations[\"num_subjects_clean\"] = df_annotations[\"num_subjects\"].apply(get_num_subjects_clean)"
      ],
      "metadata": {
        "id": "mZ82V337HouW"
      },
      "id": "mZ82V337HouW",
      "execution_count": 11,
      "outputs": []
    },
    {
      "cell_type": "code",
      "source": [
        "df_annotations[\"num_subjects_clean\"].value_counts()"
      ],
      "metadata": {
        "colab": {
          "base_uri": "https://localhost:8080/"
        },
        "id": "cKMRrJjQIF7U",
        "outputId": "554e91d1-63ac-4784-db4e-1c7d24b5bb82"
      },
      "id": "cKMRrJjQIF7U",
      "execution_count": 12,
      "outputs": [
        {
          "output_type": "execute_result",
          "data": {
            "text/plain": [
              "1-24      2980\n",
              "25+       2119\n",
              "50+       2016\n",
              "100+      1674\n",
              "200+      1656\n",
              "500+       816\n",
              "1000+      547\n",
              "10000+     112\n",
              "Name: num_subjects_clean, dtype: int64"
            ]
          },
          "metadata": {},
          "execution_count": 12
        }
      ]
    },
    {
      "cell_type": "code",
      "execution_count": 13,
      "id": "89e1c4f0",
      "metadata": {
        "id": "89e1c4f0"
      },
      "outputs": [],
      "source": [
        "# df_annotations = pd.read_csv(\"filtered_for_phase.csv.bz2\")"
      ]
    },
    {
      "cell_type": "code",
      "execution_count": 14,
      "id": "a12043ac",
      "metadata": {
        "id": "a12043ac"
      },
      "outputs": [],
      "source": [
        "# del file_to_pages"
      ]
    },
    {
      "cell_type": "code",
      "execution_count": 15,
      "id": "bbe0ba77",
      "metadata": {
        "id": "bbe0ba77"
      },
      "outputs": [],
      "source": [
        "phase_map = {\"Phase 2\":\"2\",\n",
        "\"Phase 3\":\"3\",\n",
        "\"Phase 4\":\"4\",\n",
        "\"Phase 1\":\"1\",\n",
        "\"Phase 1/Phase 2\":\"1.5\",\n",
        "\"Not Applicable\":\"0\",\n",
        "\"Phase 2/Phase 3\":\"2.5\",\n",
        "\"Early Phase 1\":\"0.5\"}\n",
        "df_annotations[\"phase_clean\"] = df_annotations[\"phase\"].apply(lambda x : phase_map.get(x, None))"
      ]
    },
    {
      "cell_type": "code",
      "source": [
        "phase_clean_map = {}\n",
        "for idx, val in enumerate(sorted(set(phase_map.values()), key = lambda x : float(x))):\n",
        "  phase_clean_map[val] = idx\n",
        "# invert the dictionary\n",
        "phase_lookup = {v: k for k, v in phase_clean_map.items()}\n",
        "\n",
        "phase_list = [phase_lookup[x] for x in sorted(phase_lookup)]\n",
        "phase_list"
      ],
      "metadata": {
        "colab": {
          "base_uri": "https://localhost:8080/"
        },
        "id": "DNjQhXOVrQxj",
        "outputId": "a97cd524-8ce9-4138-8abc-8939f9a8a87a"
      },
      "id": "DNjQhXOVrQxj",
      "execution_count": 16,
      "outputs": [
        {
          "output_type": "execute_result",
          "data": {
            "text/plain": [
              "['0', '0.5', '1', '1.5', '2', '2.5', '3', '4']"
            ]
          },
          "metadata": {},
          "execution_count": 16
        }
      ]
    },
    {
      "cell_type": "code",
      "execution_count": 17,
      "id": "f99e999b",
      "metadata": {
        "id": "f99e999b"
      },
      "outputs": [],
      "source": [
        "def get_num_arms_clean(num):\n",
        "    if pd.isna(num):\n",
        "        return None\n",
        "    if num >= 5:\n",
        "        num = 5\n",
        "    return num\n",
        "df_annotations[\"num_arms_clean\"] = df_annotations[\"num_arms\"].apply(get_num_arms_clean)"
      ]
    },
    {
      "cell_type": "markdown",
      "source": [
        "# Begin Keras/TF"
      ],
      "metadata": {
        "id": "Tq8Iseh1e_uQ"
      },
      "id": "Tq8Iseh1e_uQ"
    },
    {
      "cell_type": "code",
      "source": [
        "import numpy as np\n",
        "\n",
        "import tensorflow as tf\n",
        "import tensorflow_hub as hub\n",
        "import tensorflow_datasets as tfds\n",
        "\n",
        "import matplotlib.pyplot as plt\n",
        "\n",
        "print(\"Version: \", tf.__version__)\n",
        "print(\"Eager mode: \", tf.executing_eagerly())\n",
        "print(\"Hub version: \", hub.__version__)\n",
        "print(\"GPU is\", \"available\" if tf.config.list_physical_devices('GPU') else \"NOT AVAILABLE\")"
      ],
      "metadata": {
        "id": "eE1-7kc4ceQP",
        "colab": {
          "base_uri": "https://localhost:8080/"
        },
        "outputId": "8b429de0-6eeb-48f3-9532-1300dd8da9fc"
      },
      "id": "eE1-7kc4ceQP",
      "execution_count": 18,
      "outputs": [
        {
          "output_type": "stream",
          "name": "stdout",
          "text": [
            "Version:  2.9.2\n",
            "Eager mode:  True\n",
            "Hub version:  0.12.0\n",
            "GPU is available\n"
          ]
        }
      ]
    },
    {
      "cell_type": "code",
      "source": [
        "num_subjects_clean_map = {}\n",
        "for idx, val in enumerate(sorted(set(df_annotations[~df_annotations.num_subjects_clean.isna()].num_subjects_clean), key = lambda x : int(re.sub(r'\\D.*$', '', x)))):\n",
        "  num_subjects_clean_map[val] = idx"
      ],
      "metadata": {
        "id": "0HHgTj8Qfub9"
      },
      "id": "0HHgTj8Qfub9",
      "execution_count": 19,
      "outputs": []
    },
    {
      "cell_type": "code",
      "source": [
        "# invert the dictionary\n",
        "num_subjects_lookup = {v: k for k, v in num_subjects_clean_map.items()}"
      ],
      "metadata": {
        "id": "6jQQHMvxkC2l"
      },
      "id": "6jQQHMvxkC2l",
      "execution_count": 20,
      "outputs": []
    },
    {
      "cell_type": "code",
      "source": [
        "num_subjects_list = [num_subjects_lookup[x] for x in sorted(num_subjects_lookup)]\n",
        "num_subjects_list"
      ],
      "metadata": {
        "colab": {
          "base_uri": "https://localhost:8080/"
        },
        "id": "C6fm756mlUSk",
        "outputId": "e6eced53-04dd-46e2-a7e0-2f09a93fa19c"
      },
      "id": "C6fm756mlUSk",
      "execution_count": 21,
      "outputs": [
        {
          "output_type": "execute_result",
          "data": {
            "text/plain": [
              "['1-24', '25+', '50+', '100+', '200+', '500+', '1000+', '10000+']"
            ]
          },
          "metadata": {},
          "execution_count": 21
        }
      ]
    },
    {
      "cell_type": "code",
      "source": [
        "num_subjects_clean_map"
      ],
      "metadata": {
        "colab": {
          "base_uri": "https://localhost:8080/"
        },
        "id": "sDIKJA57hR-K",
        "outputId": "f424b04c-c8b9-42b6-d2ee-f31a3f4cb3e5"
      },
      "id": "sDIKJA57hR-K",
      "execution_count": 22,
      "outputs": [
        {
          "output_type": "execute_result",
          "data": {
            "text/plain": [
              "{'1-24': 0,\n",
              " '25+': 1,\n",
              " '50+': 2,\n",
              " '100+': 3,\n",
              " '200+': 4,\n",
              " '500+': 5,\n",
              " '1000+': 6,\n",
              " '10000+': 7}"
            ]
          },
          "metadata": {},
          "execution_count": 22
        }
      ]
    },
    {
      "cell_type": "code",
      "source": [
        "def get_one_hot_num_subjects(x):\n",
        "  a = [0] * len(num_subjects_clean_map)\n",
        "  if x is None:\n",
        "    return a\n",
        "  a[num_subjects_clean_map[x]] = 1\n",
        "  return a"
      ],
      "metadata": {
        "id": "EFTomf_xfjTS"
      },
      "id": "EFTomf_xfjTS",
      "execution_count": 23,
      "outputs": []
    },
    {
      "cell_type": "code",
      "source": [
        "df_annotations[\"num_subjects_one_hot\"] = df_annotations[\"num_subjects_clean\"].apply(get_one_hot_num_subjects)"
      ],
      "metadata": {
        "id": "GCf8jZQZiBbC"
      },
      "id": "GCf8jZQZiBbC",
      "execution_count": 24,
      "outputs": []
    },
    {
      "cell_type": "code",
      "source": [
        "df_annotations[\"num_subjects_one_hot\"] = df_annotations[\"num_subjects_clean\"].apply(get_one_hot_num_subjects)"
      ],
      "metadata": {
        "id": "RoXplcZ6q3N3"
      },
      "id": "RoXplcZ6q3N3",
      "execution_count": 25,
      "outputs": []
    },
    {
      "cell_type": "code",
      "source": [
        "def get_one_hot_num_arms(x):\n",
        "  a = [0] * 5\n",
        "  if x is not None and not pd.isna(x):\n",
        "    a[int(x - 1)] = 1\n",
        "  return a\n",
        "df_annotations[\"num_arms_one_hot\"] = df_annotations[\"num_arms_clean\"].apply(get_one_hot_num_arms)"
      ],
      "metadata": {
        "id": "bGkQ4LeYq3QR"
      },
      "id": "bGkQ4LeYq3QR",
      "execution_count": 26,
      "outputs": []
    },
    {
      "cell_type": "code",
      "source": [
        "def get_one_hot_phase(x):\n",
        "  a = [0] * len(phase_clean_map)\n",
        "  if x is None:\n",
        "    return a\n",
        "  a[phase_clean_map[x]] = 1\n",
        "  return a\n",
        "df_annotations[\"phase_one_hot\"] = df_annotations[\"phase_clean\"].apply(get_one_hot_phase)"
      ],
      "metadata": {
        "id": "POLLhzW_rFvz"
      },
      "id": "POLLhzW_rFvz",
      "execution_count": 27,
      "outputs": []
    },
    {
      "cell_type": "markdown",
      "source": [
        "Concatenate the three bits of one-hot data into one column"
      ],
      "metadata": {
        "id": "ondugbdEsLJ7"
      },
      "id": "ondugbdEsLJ7"
    },
    {
      "cell_type": "code",
      "source": [
        "concatenated_one_hot = []\n",
        "for i in range(len(df_annotations)):\n",
        "  concatenated = list(df_annotations.phase_one_hot.iloc[i]) + \\\n",
        "  list(df_annotations.num_arms_one_hot.iloc[i]) + \\\n",
        "  list(df_annotations.num_subjects_one_hot.iloc[i]) + [df_annotations.has_sap.iloc[i]]\n",
        "  concatenated_one_hot.append(concatenated)\n",
        "df_annotations[\"concatenated_one_hot\"] = concatenated_one_hot"
      ],
      "metadata": {
        "id": "eykeDEeFr56g"
      },
      "id": "eykeDEeFr56g",
      "execution_count": 28,
      "outputs": []
    },
    {
      "cell_type": "code",
      "source": [
        "np.sum(np.asarray([np.asarray(x) for x in df_annotations[\"concatenated_one_hot\"]]), axis=1).mean()"
      ],
      "metadata": {
        "colab": {
          "base_uri": "https://localhost:8080/"
        },
        "id": "eFM7jbfutXfu",
        "outputId": "e55a4b8f-f74f-455b-fc22-a98e9a2d70cc"
      },
      "id": "eFM7jbfutXfu",
      "execution_count": 29,
      "outputs": [
        {
          "output_type": "execute_result",
          "data": {
            "text/plain": [
              "nan"
            ]
          },
          "metadata": {},
          "execution_count": 29
        }
      ]
    },
    {
      "cell_type": "code",
      "source": [
        "np.sum(np.asarray([np.asarray(x) for x in df_annotations[\"concatenated_one_hot\"]]), axis=0)"
      ],
      "metadata": {
        "colab": {
          "base_uri": "https://localhost:8080/"
        },
        "id": "YmCgmZh3tmkn",
        "outputId": "582605bd-1fad-4f21-8844-75f61cd7f247"
      },
      "id": "YmCgmZh3tmkn",
      "execution_count": 30,
      "outputs": [
        {
          "output_type": "execute_result",
          "data": {
            "text/plain": [
              "array([ 519.,  135., 1154.,  983., 4317.,  297., 2725., 1461., 3086.,\n",
              "       5228., 1456.,  908.,  913., 2980., 2119., 2016., 1674., 1656.,\n",
              "        816.,  547.,  112.,   nan])"
            ]
          },
          "metadata": {},
          "execution_count": 30
        }
      ]
    },
    {
      "cell_type": "code",
      "source": [
        "num_classes = len(concatenated)\n",
        "print (f\"There are {num_classes} classes in this multi-label classifier\")"
      ],
      "metadata": {
        "colab": {
          "base_uri": "https://localhost:8080/"
        },
        "id": "yuUe_QwxsQRE",
        "outputId": "ce79508a-977f-4225-cd0c-977a33f3ded8"
      },
      "id": "yuUe_QwxsQRE",
      "execution_count": 31,
      "outputs": [
        {
          "output_type": "stream",
          "name": "stdout",
          "text": [
            "There are 22 classes in this multi-label classifier\n"
          ]
        }
      ]
    },
    {
      "cell_type": "code",
      "source": [
        "df_train = df_annotations[df_annotations.train_val == \"train\"]\n",
        "df_val = df_annotations[df_annotations.train_val == \"val\"]"
      ],
      "metadata": {
        "id": "F_VhjeihirIu"
      },
      "id": "F_VhjeihirIu",
      "execution_count": 32,
      "outputs": []
    },
    {
      "cell_type": "code",
      "source": [
        "df_train_got_some_ground_truths = df_train[~df_train.num_subjects_clean.isna() | ~df_train.num_arms_clean.isna() | ~df_train.phase_clean.isna()]"
      ],
      "metadata": {
        "id": "pIWANTOGqDkg"
      },
      "id": "pIWANTOGqDkg",
      "execution_count": 33,
      "outputs": []
    },
    {
      "cell_type": "code",
      "source": [
        "len(df_train_got_some_ground_truths), len(df_train)"
      ],
      "metadata": {
        "colab": {
          "base_uri": "https://localhost:8080/"
        },
        "id": "yfw08MW2sYTw",
        "outputId": "25adf094-46e2-4e38-d785-7cc318440f68"
      },
      "id": "yfw08MW2sYTw",
      "execution_count": 34,
      "outputs": [
        {
          "output_type": "execute_result",
          "data": {
            "text/plain": [
              "(9535, 9538)"
            ]
          },
          "metadata": {},
          "execution_count": 34
        }
      ]
    },
    {
      "cell_type": "code",
      "source": [
        "train_labels = np.asarray(list(df_train_got_some_ground_truths.concatenated_one_hot))\n",
        "test_labels = np.asarray(list(df_val.concatenated_one_hot))"
      ],
      "metadata": {
        "id": "0upX622wfjVv"
      },
      "id": "0upX622wfjVv",
      "execution_count": 35,
      "outputs": []
    },
    {
      "cell_type": "code",
      "source": [
        "train_examples = np.asarray(list(df_train_got_some_ground_truths.text))\n",
        "test_examples = np.asarray(list(df_val.text))"
      ],
      "metadata": {
        "id": "YDlX78f5cz_F"
      },
      "id": "YDlX78f5cz_F",
      "execution_count": 36,
      "outputs": []
    },
    {
      "cell_type": "code",
      "source": [
        "print(\"Training entries: {}, test entries: {}\".format(len(train_examples), len(test_examples)))"
      ],
      "metadata": {
        "colab": {
          "base_uri": "https://localhost:8080/"
        },
        "id": "LFDvdJe_fjYD",
        "outputId": "dfe06117-26d6-43fa-9551-fc5eb2f090f7"
      },
      "id": "LFDvdJe_fjYD",
      "execution_count": 37,
      "outputs": [
        {
          "output_type": "stream",
          "name": "stdout",
          "text": [
            "Training entries: 9535, test entries: 1085\n"
          ]
        }
      ]
    },
    {
      "cell_type": "code",
      "source": [
        "train_labels[:10]"
      ],
      "metadata": {
        "colab": {
          "base_uri": "https://localhost:8080/"
        },
        "id": "NPk1jhPOfjcH",
        "outputId": "6715d7a6-068d-4d43-94e4-21307e559489"
      },
      "id": "NPk1jhPOfjcH",
      "execution_count": 38,
      "outputs": [
        {
          "output_type": "execute_result",
          "data": {
            "text/plain": [
              "array([[0., 0., 0., 0., 0., 0., 1., 0., 0., 1., 0., 0., 0., 0., 0., 0.,\n",
              "        1., 0., 0., 0., 0., 1.],\n",
              "       [0., 0., 0., 0., 0., 0., 1., 0., 1., 0., 0., 0., 0., 0., 0., 0.,\n",
              "        0., 0., 1., 0., 0., 0.],\n",
              "       [0., 0., 0., 0., 1., 0., 0., 0., 1., 0., 0., 0., 0., 0., 1., 0.,\n",
              "        0., 0., 0., 0., 0., 1.],\n",
              "       [0., 0., 0., 0., 1., 0., 0., 0., 1., 0., 0., 0., 0., 0., 0., 1.,\n",
              "        0., 0., 0., 0., 0., 1.],\n",
              "       [0., 0., 0., 0., 0., 0., 1., 0., 1., 0., 0., 0., 0., 0., 1., 0.,\n",
              "        0., 0., 0., 0., 0., 0.],\n",
              "       [0., 0., 0., 0., 0., 0., 0., 1., 0., 1., 0., 0., 0., 0., 0., 0.,\n",
              "        0., 1., 0., 0., 0., 1.],\n",
              "       [0., 0., 0., 0., 1., 0., 0., 0., 1., 0., 0., 0., 0., 0., 1., 0.,\n",
              "        0., 0., 0., 0., 0., 1.],\n",
              "       [0., 0., 0., 0., 0., 0., 1., 0., 1., 0., 0., 0., 0., 0., 0., 1.,\n",
              "        0., 0., 0., 0., 0., 0.],\n",
              "       [0., 0., 0., 0., 0., 0., 1., 0., 1., 0., 0., 0., 0., 0., 0., 1.,\n",
              "        0., 0., 0., 0., 0., 0.],\n",
              "       [0., 0., 0., 0., 0., 0., 1., 0., 1., 0., 0., 0., 0., 0., 0., 0.,\n",
              "        0., 1., 0., 0., 0., 0.]])"
            ]
          },
          "metadata": {},
          "execution_count": 38
        }
      ]
    },
    {
      "cell_type": "code",
      "source": [
        "model = \"https://tfhub.dev/google/nnlm-en-dim50/2\"\n",
        "hub_layer = hub.KerasLayer(model, input_shape=[], dtype=tf.string, trainable=True)\n",
        "hub_layer(train_examples[:3])"
      ],
      "metadata": {
        "colab": {
          "base_uri": "https://localhost:8080/"
        },
        "id": "Ju7TNdElgQ-P",
        "outputId": "95c30841-acbe-4037-b462-0ee3a0c9001b"
      },
      "id": "Ju7TNdElgQ-P",
      "execution_count": 39,
      "outputs": [
        {
          "output_type": "execute_result",
          "data": {
            "text/plain": [
              "<tf.Tensor: shape=(3, 50), dtype=float32, numpy=\n",
              "array([[ 3.8062613e+00, -8.5627154e-02,  2.1885273e+00,  1.2064425e+00,\n",
              "         1.1741788e+00, -1.6362848e+00, -1.6544684e+00,  1.9301386e+00,\n",
              "        -7.3246288e-01, -2.0803753e-01, -1.8835599e+00, -8.1751305e-01,\n",
              "         1.3482304e+00, -4.1169381e+00,  1.1123058e+00, -2.7861402e+00,\n",
              "         3.6909611e+00, -2.2455294e+00,  1.1222224e+00,  1.9886566e+00,\n",
              "        -1.0249604e-01,  2.6178288e+00,  3.5085483e+00, -7.0547515e-01,\n",
              "         1.2558808e+00, -1.6434602e+00, -1.1090916e+00,  4.3890409e+00,\n",
              "        -1.7149318e+00, -2.8435621e+00,  1.0796951e+00,  2.6536503e+00,\n",
              "        -3.8684306e-01, -3.1688907e+00,  1.0274379e-01, -2.0242805e+00,\n",
              "         2.3353672e+00, -1.7880658e+00,  5.3773862e-01, -1.0440906e+00,\n",
              "        -9.3668759e-01, -1.6973139e+00, -1.4264782e-01,  2.6114061e+00,\n",
              "         5.0076956e-01, -1.2994319e+00,  9.0301037e-01, -1.4811747e+00,\n",
              "         8.1332225e-01,  2.3800061e+00],\n",
              "       [ 2.5299299e+00,  6.9842733e-02,  1.2200273e+00,  8.4425837e-01,\n",
              "         5.9937924e-01, -1.0244265e+00, -9.2848974e-01,  1.2883713e+00,\n",
              "        -5.4952449e-01, -1.3766880e-01, -1.3184690e+00, -3.8536155e-01,\n",
              "         3.2475236e-01, -2.4055672e+00,  7.8073001e-01, -1.3195676e+00,\n",
              "         1.4582082e+00, -1.1922650e+00,  6.4574677e-01,  1.1451379e+00,\n",
              "        -3.6335005e-03,  8.1105644e-01,  1.6614536e+00,  7.0692167e-02,\n",
              "         1.5279856e-01, -9.9357730e-01, -5.5831790e-01,  1.4943976e+00,\n",
              "        -9.0663010e-01, -1.4006202e+00,  1.9310248e-01,  1.0247235e+00,\n",
              "        -6.5576650e-02, -1.7880753e+00, -4.0788367e-01, -1.2515424e+00,\n",
              "         8.9619911e-01, -1.0979604e+00, -9.6578687e-02, -5.5380207e-01,\n",
              "        -1.7643718e-01,  1.7039146e-02, -3.2528803e-01,  1.9876856e+00,\n",
              "         5.2700825e-02, -1.2491058e+00,  1.1346469e-01, -4.4258308e-01,\n",
              "         5.7714480e-01,  1.6421361e+00],\n",
              "       [ 3.1315677e+00, -1.4949707e+00,  1.7751954e+00,  3.2980654e-01,\n",
              "         1.0419462e+00, -2.3750334e+00, -1.1761595e+00,  2.2303872e+00,\n",
              "        -1.2242346e+00, -2.9328495e-01, -1.5865028e+00, -2.7982643e-01,\n",
              "         1.7525562e+00, -4.0603199e+00, -2.5970027e-01, -2.3546319e+00,\n",
              "         4.7730613e+00, -1.0558661e+00,  1.3674231e+00,  1.4121630e+00,\n",
              "         6.2468117e-01,  1.8053319e+00,  2.6160557e+00,  2.6594770e-01,\n",
              "         7.6969761e-01, -1.9515115e+00,  1.3513342e-01,  5.1477046e+00,\n",
              "        -1.9099628e+00, -2.3477449e+00,  8.9626384e-01,  1.9337162e+00,\n",
              "         2.7819487e-01, -1.4370100e+00,  1.1726424e+00, -1.0679307e+00,\n",
              "         2.5728991e+00, -1.7260441e+00,  4.2059946e-01, -9.4905460e-01,\n",
              "        -2.4920563e-01, -1.6811064e+00,  1.4859284e-01,  2.0329008e+00,\n",
              "         6.2556720e-01, -1.3739069e+00,  3.1094185e-01, -1.5155188e+00,\n",
              "         1.5543662e+00,  1.2640179e+00]], dtype=float32)>"
            ]
          },
          "metadata": {},
          "execution_count": 39
        }
      ]
    },
    {
      "cell_type": "code",
      "source": [
        "model = tf.keras.Sequential()\n",
        "model.add(hub_layer)\n",
        "model.add(tf.keras.layers.Dense(16, activation='relu'))\n",
        "model.add(tf.keras.layers.Dense(num_classes, activation='sigmoid'))\n",
        "\n",
        "model.summary()"
      ],
      "metadata": {
        "colab": {
          "base_uri": "https://localhost:8080/"
        },
        "id": "XVwvmzuQgRAQ",
        "outputId": "247a11ec-94dc-4978-d200-f94a4beea1ea"
      },
      "id": "XVwvmzuQgRAQ",
      "execution_count": 40,
      "outputs": [
        {
          "output_type": "stream",
          "name": "stdout",
          "text": [
            "Model: \"sequential\"\n",
            "_________________________________________________________________\n",
            " Layer (type)                Output Shape              Param #   \n",
            "=================================================================\n",
            " keras_layer (KerasLayer)    (None, 50)                48190600  \n",
            "                                                                 \n",
            " dense (Dense)               (None, 16)                816       \n",
            "                                                                 \n",
            " dense_1 (Dense)             (None, 22)                374       \n",
            "                                                                 \n",
            "=================================================================\n",
            "Total params: 48,191,790\n",
            "Trainable params: 48,191,790\n",
            "Non-trainable params: 0\n",
            "_________________________________________________________________\n"
          ]
        }
      ]
    },
    {
      "cell_type": "code",
      "source": [
        "model.compile(optimizer='adam',\n",
        "              loss=tf.losses.BinaryCrossentropy(),\n",
        "              metrics=[tf.metrics.BinaryAccuracy(name='accuracy'), tf.metrics.AUC(name='auc')],\n",
        "              run_eagerly=True)"
      ],
      "metadata": {
        "id": "4grRdQTWgRCY"
      },
      "id": "4grRdQTWgRCY",
      "execution_count": 41,
      "outputs": []
    },
    {
      "cell_type": "code",
      "source": [
        "# x_val = train_examples[:10000]\n",
        "# partial_x_train = train_examples[10000:]\n",
        "\n",
        "# y_val = train_labels[:10000]\n",
        "# partial_y_train = train_labels[10000:]\n",
        "\n",
        "partial_x_train = train_examples\n",
        "x_val = test_examples\n",
        "\n",
        "partial_y_train = train_labels\n",
        "y_val = test_labels"
      ],
      "metadata": {
        "id": "--LLz2FYgREf"
      },
      "id": "--LLz2FYgREf",
      "execution_count": 42,
      "outputs": []
    },
    {
      "cell_type": "code",
      "source": [
        "history = model.fit(partial_x_train,\n",
        "                    partial_y_train,\n",
        "                    epochs=100,\n",
        "                    batch_size=512,\n",
        "                    validation_data=(x_val, y_val),\n",
        "                    verbose=1)"
      ],
      "metadata": {
        "colab": {
          "base_uri": "https://localhost:8080/"
        },
        "id": "zEMElK4ygRGg",
        "outputId": "77ec0929-1321-4650-cfdd-404a2331cb81"
      },
      "id": "zEMElK4ygRGg",
      "execution_count": 43,
      "outputs": [
        {
          "output_type": "stream",
          "name": "stdout",
          "text": [
            "Epoch 1/100\n",
            "19/19 [==============================] - 10s 289ms/step - loss: 0.6142 - accuracy: 0.6818 - auc: 0.5442 - val_loss: 0.5309 - val_accuracy: 0.7451 - val_auc: 0.6099\n",
            "Epoch 2/100\n",
            "19/19 [==============================] - 5s 265ms/step - loss: 0.4916 - accuracy: 0.7819 - auc: 0.6279 - val_loss: 0.4486 - val_accuracy: 0.8269 - val_auc: 0.6636\n",
            "Epoch 3/100\n",
            "19/19 [==============================] - 5s 265ms/step - loss: 0.4249 - accuracy: 0.8395 - auc: 0.6909 - val_loss: 0.4048 - val_accuracy: 0.8481 - val_auc: 0.7207\n",
            "Epoch 4/100\n",
            "19/19 [==============================] - 5s 263ms/step - loss: 0.3933 - accuracy: 0.8551 - auc: 0.7368 - val_loss: 0.3872 - val_accuracy: 0.8573 - val_auc: 0.7472\n",
            "Epoch 5/100\n",
            "19/19 [==============================] - 5s 266ms/step - loss: 0.3780 - accuracy: 0.8609 - auc: 0.7611 - val_loss: 0.3774 - val_accuracy: 0.8620 - val_auc: 0.7620\n",
            "Epoch 6/100\n",
            "19/19 [==============================] - 5s 269ms/step - loss: 0.3678 - accuracy: 0.8648 - auc: 0.7759 - val_loss: 0.3705 - val_accuracy: 0.8649 - val_auc: 0.7717\n",
            "Epoch 7/100\n",
            "19/19 [==============================] - 5s 267ms/step - loss: 0.3595 - accuracy: 0.8682 - auc: 0.7878 - val_loss: 0.3645 - val_accuracy: 0.8673 - val_auc: 0.7790\n",
            "Epoch 8/100\n",
            "19/19 [==============================] - 5s 266ms/step - loss: 0.3516 - accuracy: 0.8708 - auc: 0.7977 - val_loss: 0.3585 - val_accuracy: 0.8689 - val_auc: 0.7873\n",
            "Epoch 9/100\n",
            "19/19 [==============================] - 5s 261ms/step - loss: 0.3442 - accuracy: 0.8734 - auc: 0.8077 - val_loss: 0.3531 - val_accuracy: 0.8714 - val_auc: 0.7932\n",
            "Epoch 10/100\n",
            "19/19 [==============================] - 5s 269ms/step - loss: 0.3370 - accuracy: 0.8755 - auc: 0.8165 - val_loss: 0.3480 - val_accuracy: 0.8726 - val_auc: 0.8001\n",
            "Epoch 11/100\n",
            "19/19 [==============================] - 5s 266ms/step - loss: 0.3301 - accuracy: 0.8774 - auc: 0.8254 - val_loss: 0.3436 - val_accuracy: 0.8731 - val_auc: 0.8058\n",
            "Epoch 12/100\n",
            "19/19 [==============================] - 5s 264ms/step - loss: 0.3233 - accuracy: 0.8791 - auc: 0.8342 - val_loss: 0.3392 - val_accuracy: 0.8742 - val_auc: 0.8114\n",
            "Epoch 13/100\n",
            "19/19 [==============================] - 5s 267ms/step - loss: 0.3168 - accuracy: 0.8809 - auc: 0.8423 - val_loss: 0.3352 - val_accuracy: 0.8755 - val_auc: 0.8167\n",
            "Epoch 14/100\n",
            "19/19 [==============================] - 5s 269ms/step - loss: 0.3106 - accuracy: 0.8829 - auc: 0.8499 - val_loss: 0.3319 - val_accuracy: 0.8758 - val_auc: 0.8214\n",
            "Epoch 15/100\n",
            "19/19 [==============================] - 5s 265ms/step - loss: 0.3045 - accuracy: 0.8848 - auc: 0.8570 - val_loss: 0.3284 - val_accuracy: 0.8770 - val_auc: 0.8258\n",
            "Epoch 16/100\n",
            "19/19 [==============================] - 5s 268ms/step - loss: 0.2987 - accuracy: 0.8873 - auc: 0.8637 - val_loss: 0.3255 - val_accuracy: 0.8773 - val_auc: 0.8297\n",
            "Epoch 17/100\n",
            "19/19 [==============================] - 5s 264ms/step - loss: 0.2930 - accuracy: 0.8892 - auc: 0.8696 - val_loss: 0.3232 - val_accuracy: 0.8777 - val_auc: 0.8326\n",
            "Epoch 18/100\n",
            "19/19 [==============================] - 5s 260ms/step - loss: 0.2873 - accuracy: 0.8911 - auc: 0.8758 - val_loss: 0.3211 - val_accuracy: 0.8781 - val_auc: 0.8349\n",
            "Epoch 19/100\n",
            "19/19 [==============================] - 5s 267ms/step - loss: 0.2818 - accuracy: 0.8934 - auc: 0.8813 - val_loss: 0.3190 - val_accuracy: 0.8784 - val_auc: 0.8375\n",
            "Epoch 20/100\n",
            "19/19 [==============================] - 5s 265ms/step - loss: 0.2766 - accuracy: 0.8954 - auc: 0.8863 - val_loss: 0.3171 - val_accuracy: 0.8787 - val_auc: 0.8399\n",
            "Epoch 21/100\n",
            "19/19 [==============================] - 5s 266ms/step - loss: 0.2713 - accuracy: 0.8975 - auc: 0.8916 - val_loss: 0.3156 - val_accuracy: 0.8790 - val_auc: 0.8417\n",
            "Epoch 22/100\n",
            "19/19 [==============================] - 5s 266ms/step - loss: 0.2662 - accuracy: 0.8997 - auc: 0.8960 - val_loss: 0.3141 - val_accuracy: 0.8792 - val_auc: 0.8442\n",
            "Epoch 23/100\n",
            "19/19 [==============================] - 5s 265ms/step - loss: 0.2608 - accuracy: 0.9016 - auc: 0.9011 - val_loss: 0.3133 - val_accuracy: 0.8790 - val_auc: 0.8450\n",
            "Epoch 24/100\n",
            "19/19 [==============================] - 5s 268ms/step - loss: 0.2560 - accuracy: 0.9035 - auc: 0.9054 - val_loss: 0.3123 - val_accuracy: 0.8790 - val_auc: 0.8468\n",
            "Epoch 25/100\n",
            "19/19 [==============================] - 5s 263ms/step - loss: 0.2508 - accuracy: 0.9056 - auc: 0.9098 - val_loss: 0.3117 - val_accuracy: 0.8789 - val_auc: 0.8473\n",
            "Epoch 26/100\n",
            "19/19 [==============================] - 5s 264ms/step - loss: 0.2456 - accuracy: 0.9079 - auc: 0.9144 - val_loss: 0.3110 - val_accuracy: 0.8788 - val_auc: 0.8485\n",
            "Epoch 27/100\n",
            "19/19 [==============================] - 5s 262ms/step - loss: 0.2408 - accuracy: 0.9099 - auc: 0.9181 - val_loss: 0.3108 - val_accuracy: 0.8792 - val_auc: 0.8492\n",
            "Epoch 28/100\n",
            "19/19 [==============================] - 5s 264ms/step - loss: 0.2358 - accuracy: 0.9120 - auc: 0.9220 - val_loss: 0.3109 - val_accuracy: 0.8794 - val_auc: 0.8497\n",
            "Epoch 29/100\n",
            "19/19 [==============================] - 5s 268ms/step - loss: 0.2309 - accuracy: 0.9138 - auc: 0.9258 - val_loss: 0.3108 - val_accuracy: 0.8787 - val_auc: 0.8504\n",
            "Epoch 30/100\n",
            "19/19 [==============================] - 5s 266ms/step - loss: 0.2262 - accuracy: 0.9159 - auc: 0.9293 - val_loss: 0.3110 - val_accuracy: 0.8785 - val_auc: 0.8504\n",
            "Epoch 31/100\n",
            "19/19 [==============================] - 5s 267ms/step - loss: 0.2212 - accuracy: 0.9179 - auc: 0.9328 - val_loss: 0.3115 - val_accuracy: 0.8793 - val_auc: 0.8503\n",
            "Epoch 32/100\n",
            "19/19 [==============================] - 5s 266ms/step - loss: 0.2163 - accuracy: 0.9197 - auc: 0.9364 - val_loss: 0.3122 - val_accuracy: 0.8787 - val_auc: 0.8505\n",
            "Epoch 33/100\n",
            "19/19 [==============================] - 5s 266ms/step - loss: 0.2116 - accuracy: 0.9215 - auc: 0.9395 - val_loss: 0.3127 - val_accuracy: 0.8781 - val_auc: 0.8512\n",
            "Epoch 34/100\n",
            "19/19 [==============================] - 5s 266ms/step - loss: 0.2068 - accuracy: 0.9234 - auc: 0.9425 - val_loss: 0.3133 - val_accuracy: 0.8781 - val_auc: 0.8510\n",
            "Epoch 35/100\n",
            "19/19 [==============================] - 5s 266ms/step - loss: 0.2021 - accuracy: 0.9256 - auc: 0.9458 - val_loss: 0.3148 - val_accuracy: 0.8785 - val_auc: 0.8504\n",
            "Epoch 36/100\n",
            "19/19 [==============================] - 5s 267ms/step - loss: 0.1975 - accuracy: 0.9274 - auc: 0.9484 - val_loss: 0.3158 - val_accuracy: 0.8777 - val_auc: 0.8506\n",
            "Epoch 37/100\n",
            "19/19 [==============================] - 5s 262ms/step - loss: 0.1927 - accuracy: 0.9292 - auc: 0.9513 - val_loss: 0.3167 - val_accuracy: 0.8770 - val_auc: 0.8507\n",
            "Epoch 38/100\n",
            "19/19 [==============================] - 5s 268ms/step - loss: 0.1883 - accuracy: 0.9312 - auc: 0.9539 - val_loss: 0.3189 - val_accuracy: 0.8770 - val_auc: 0.8498\n",
            "Epoch 39/100\n",
            "19/19 [==============================] - 5s 265ms/step - loss: 0.1837 - accuracy: 0.9331 - auc: 0.9565 - val_loss: 0.3197 - val_accuracy: 0.8765 - val_auc: 0.8505\n",
            "Epoch 40/100\n",
            "19/19 [==============================] - 5s 268ms/step - loss: 0.1791 - accuracy: 0.9350 - auc: 0.9589 - val_loss: 0.3221 - val_accuracy: 0.8770 - val_auc: 0.8490\n",
            "Epoch 41/100\n",
            "19/19 [==============================] - 5s 266ms/step - loss: 0.1748 - accuracy: 0.9368 - auc: 0.9613 - val_loss: 0.3238 - val_accuracy: 0.8765 - val_auc: 0.8490\n",
            "Epoch 42/100\n",
            "19/19 [==============================] - 5s 267ms/step - loss: 0.1700 - accuracy: 0.9388 - auc: 0.9635 - val_loss: 0.3257 - val_accuracy: 0.8764 - val_auc: 0.8489\n",
            "Epoch 43/100\n",
            "19/19 [==============================] - 5s 267ms/step - loss: 0.1655 - accuracy: 0.9409 - auc: 0.9657 - val_loss: 0.3285 - val_accuracy: 0.8765 - val_auc: 0.8490\n",
            "Epoch 44/100\n",
            "19/19 [==============================] - 5s 266ms/step - loss: 0.1609 - accuracy: 0.9427 - auc: 0.9676 - val_loss: 0.3311 - val_accuracy: 0.8764 - val_auc: 0.8474\n",
            "Epoch 45/100\n",
            "19/19 [==============================] - 5s 268ms/step - loss: 0.1565 - accuracy: 0.9452 - auc: 0.9697 - val_loss: 0.3342 - val_accuracy: 0.8751 - val_auc: 0.8470\n",
            "Epoch 46/100\n",
            "19/19 [==============================] - 5s 264ms/step - loss: 0.1522 - accuracy: 0.9470 - auc: 0.9715 - val_loss: 0.3374 - val_accuracy: 0.8755 - val_auc: 0.8452\n",
            "Epoch 47/100\n",
            "19/19 [==============================] - 5s 262ms/step - loss: 0.1477 - accuracy: 0.9489 - auc: 0.9736 - val_loss: 0.3403 - val_accuracy: 0.8754 - val_auc: 0.8452\n",
            "Epoch 48/100\n",
            "19/19 [==============================] - 5s 268ms/step - loss: 0.1436 - accuracy: 0.9506 - auc: 0.9750 - val_loss: 0.3443 - val_accuracy: 0.8750 - val_auc: 0.8445\n",
            "Epoch 49/100\n",
            "19/19 [==============================] - 5s 265ms/step - loss: 0.1394 - accuracy: 0.9528 - auc: 0.9767 - val_loss: 0.3467 - val_accuracy: 0.8743 - val_auc: 0.8425\n",
            "Epoch 50/100\n",
            "19/19 [==============================] - 5s 264ms/step - loss: 0.1354 - accuracy: 0.9545 - auc: 0.9784 - val_loss: 0.3506 - val_accuracy: 0.8742 - val_auc: 0.8434\n",
            "Epoch 51/100\n",
            "19/19 [==============================] - 5s 269ms/step - loss: 0.1314 - accuracy: 0.9563 - auc: 0.9797 - val_loss: 0.3542 - val_accuracy: 0.8739 - val_auc: 0.8416\n",
            "Epoch 52/100\n",
            "19/19 [==============================] - 5s 268ms/step - loss: 0.1275 - accuracy: 0.9577 - auc: 0.9812 - val_loss: 0.3588 - val_accuracy: 0.8734 - val_auc: 0.8405\n",
            "Epoch 53/100\n",
            "19/19 [==============================] - 5s 265ms/step - loss: 0.1235 - accuracy: 0.9596 - auc: 0.9823 - val_loss: 0.3620 - val_accuracy: 0.8727 - val_auc: 0.8399\n",
            "Epoch 54/100\n",
            "19/19 [==============================] - 5s 270ms/step - loss: 0.1199 - accuracy: 0.9610 - auc: 0.9836 - val_loss: 0.3664 - val_accuracy: 0.8732 - val_auc: 0.8400\n",
            "Epoch 55/100\n",
            "19/19 [==============================] - 5s 266ms/step - loss: 0.1162 - accuracy: 0.9627 - auc: 0.9847 - val_loss: 0.3714 - val_accuracy: 0.8729 - val_auc: 0.8379\n",
            "Epoch 56/100\n",
            "19/19 [==============================] - 5s 264ms/step - loss: 0.1127 - accuracy: 0.9641 - auc: 0.9857 - val_loss: 0.3754 - val_accuracy: 0.8715 - val_auc: 0.8359\n",
            "Epoch 57/100\n",
            "19/19 [==============================] - 5s 264ms/step - loss: 0.1094 - accuracy: 0.9657 - auc: 0.9867 - val_loss: 0.3792 - val_accuracy: 0.8717 - val_auc: 0.8365\n",
            "Epoch 58/100\n",
            "19/19 [==============================] - 5s 269ms/step - loss: 0.1060 - accuracy: 0.9672 - auc: 0.9876 - val_loss: 0.3845 - val_accuracy: 0.8713 - val_auc: 0.8354\n",
            "Epoch 59/100\n",
            "19/19 [==============================] - 5s 268ms/step - loss: 0.1027 - accuracy: 0.9685 - auc: 0.9886 - val_loss: 0.3894 - val_accuracy: 0.8711 - val_auc: 0.8346\n",
            "Epoch 60/100\n",
            "19/19 [==============================] - 5s 269ms/step - loss: 0.0994 - accuracy: 0.9700 - auc: 0.9893 - val_loss: 0.3945 - val_accuracy: 0.8710 - val_auc: 0.8341\n",
            "Epoch 61/100\n",
            "19/19 [==============================] - 5s 267ms/step - loss: 0.0964 - accuracy: 0.9712 - auc: 0.9900 - val_loss: 0.3989 - val_accuracy: 0.8708 - val_auc: 0.8326\n",
            "Epoch 62/100\n",
            "19/19 [==============================] - 5s 267ms/step - loss: 0.0935 - accuracy: 0.9722 - auc: 0.9908 - val_loss: 0.4041 - val_accuracy: 0.8700 - val_auc: 0.8317\n",
            "Epoch 63/100\n",
            "19/19 [==============================] - 5s 268ms/step - loss: 0.0908 - accuracy: 0.9734 - auc: 0.9914 - val_loss: 0.4086 - val_accuracy: 0.8694 - val_auc: 0.8310\n",
            "Epoch 64/100\n",
            "19/19 [==============================] - 5s 265ms/step - loss: 0.0879 - accuracy: 0.9747 - auc: 0.9920 - val_loss: 0.4142 - val_accuracy: 0.8688 - val_auc: 0.8304\n",
            "Epoch 65/100\n",
            "19/19 [==============================] - 5s 264ms/step - loss: 0.0851 - accuracy: 0.9758 - auc: 0.9926 - val_loss: 0.4199 - val_accuracy: 0.8686 - val_auc: 0.8282\n",
            "Epoch 66/100\n",
            "19/19 [==============================] - 5s 263ms/step - loss: 0.0824 - accuracy: 0.9770 - auc: 0.9932 - val_loss: 0.4253 - val_accuracy: 0.8684 - val_auc: 0.8265\n",
            "Epoch 67/100\n",
            "19/19 [==============================] - 5s 267ms/step - loss: 0.0798 - accuracy: 0.9781 - auc: 0.9936 - val_loss: 0.4324 - val_accuracy: 0.8687 - val_auc: 0.8236\n",
            "Epoch 68/100\n",
            "19/19 [==============================] - 5s 267ms/step - loss: 0.0773 - accuracy: 0.9789 - auc: 0.9941 - val_loss: 0.4376 - val_accuracy: 0.8679 - val_auc: 0.8230\n",
            "Epoch 69/100\n",
            "19/19 [==============================] - 5s 265ms/step - loss: 0.0748 - accuracy: 0.9801 - auc: 0.9945 - val_loss: 0.4423 - val_accuracy: 0.8671 - val_auc: 0.8219\n",
            "Epoch 70/100\n",
            "19/19 [==============================] - 5s 267ms/step - loss: 0.0724 - accuracy: 0.9809 - auc: 0.9950 - val_loss: 0.4476 - val_accuracy: 0.8668 - val_auc: 0.8221\n",
            "Epoch 71/100\n",
            "19/19 [==============================] - 5s 269ms/step - loss: 0.0702 - accuracy: 0.9816 - auc: 0.9953 - val_loss: 0.4521 - val_accuracy: 0.8662 - val_auc: 0.8213\n",
            "Epoch 72/100\n",
            "19/19 [==============================] - 5s 269ms/step - loss: 0.0678 - accuracy: 0.9824 - auc: 0.9956 - val_loss: 0.4593 - val_accuracy: 0.8671 - val_auc: 0.8201\n",
            "Epoch 73/100\n",
            "19/19 [==============================] - 5s 266ms/step - loss: 0.0657 - accuracy: 0.9832 - auc: 0.9960 - val_loss: 0.4648 - val_accuracy: 0.8663 - val_auc: 0.8191\n",
            "Epoch 74/100\n",
            "19/19 [==============================] - 5s 264ms/step - loss: 0.0636 - accuracy: 0.9838 - auc: 0.9963 - val_loss: 0.4710 - val_accuracy: 0.8666 - val_auc: 0.8189\n",
            "Epoch 75/100\n",
            "19/19 [==============================] - 5s 265ms/step - loss: 0.0615 - accuracy: 0.9846 - auc: 0.9966 - val_loss: 0.4767 - val_accuracy: 0.8656 - val_auc: 0.8178\n",
            "Epoch 76/100\n",
            "19/19 [==============================] - 5s 261ms/step - loss: 0.0595 - accuracy: 0.9853 - auc: 0.9968 - val_loss: 0.4828 - val_accuracy: 0.8661 - val_auc: 0.8174\n",
            "Epoch 77/100\n",
            "19/19 [==============================] - 5s 268ms/step - loss: 0.0575 - accuracy: 0.9861 - auc: 0.9971 - val_loss: 0.4893 - val_accuracy: 0.8654 - val_auc: 0.8152\n",
            "Epoch 78/100\n",
            "19/19 [==============================] - 5s 267ms/step - loss: 0.0556 - accuracy: 0.9868 - auc: 0.9973 - val_loss: 0.4954 - val_accuracy: 0.8648 - val_auc: 0.8143\n",
            "Epoch 79/100\n",
            "19/19 [==============================] - 5s 266ms/step - loss: 0.0539 - accuracy: 0.9873 - auc: 0.9975 - val_loss: 0.5008 - val_accuracy: 0.8651 - val_auc: 0.8158\n",
            "Epoch 80/100\n",
            "19/19 [==============================] - 5s 268ms/step - loss: 0.0522 - accuracy: 0.9879 - auc: 0.9977 - val_loss: 0.5086 - val_accuracy: 0.8648 - val_auc: 0.8116\n",
            "Epoch 81/100\n",
            "19/19 [==============================] - 5s 267ms/step - loss: 0.0504 - accuracy: 0.9884 - auc: 0.9979 - val_loss: 0.5138 - val_accuracy: 0.8644 - val_auc: 0.8118\n",
            "Epoch 82/100\n",
            "19/19 [==============================] - 5s 269ms/step - loss: 0.0488 - accuracy: 0.9891 - auc: 0.9980 - val_loss: 0.5209 - val_accuracy: 0.8637 - val_auc: 0.8112\n",
            "Epoch 83/100\n",
            "19/19 [==============================] - 5s 269ms/step - loss: 0.0473 - accuracy: 0.9897 - auc: 0.9981 - val_loss: 0.5261 - val_accuracy: 0.8637 - val_auc: 0.8097\n",
            "Epoch 84/100\n",
            "19/19 [==============================] - 5s 265ms/step - loss: 0.0456 - accuracy: 0.9902 - auc: 0.9983 - val_loss: 0.5337 - val_accuracy: 0.8640 - val_auc: 0.8082\n",
            "Epoch 85/100\n",
            "19/19 [==============================] - 5s 267ms/step - loss: 0.0440 - accuracy: 0.9906 - auc: 0.9985 - val_loss: 0.5392 - val_accuracy: 0.8642 - val_auc: 0.8085\n",
            "Epoch 86/100\n",
            "19/19 [==============================] - 5s 269ms/step - loss: 0.0427 - accuracy: 0.9910 - auc: 0.9985 - val_loss: 0.5459 - val_accuracy: 0.8637 - val_auc: 0.8061\n",
            "Epoch 87/100\n",
            "19/19 [==============================] - 5s 268ms/step - loss: 0.0412 - accuracy: 0.9916 - auc: 0.9987 - val_loss: 0.5533 - val_accuracy: 0.8639 - val_auc: 0.8065\n",
            "Epoch 88/100\n",
            "19/19 [==============================] - 5s 267ms/step - loss: 0.0399 - accuracy: 0.9919 - auc: 0.9988 - val_loss: 0.5569 - val_accuracy: 0.8630 - val_auc: 0.8061\n",
            "Epoch 89/100\n",
            "19/19 [==============================] - 5s 269ms/step - loss: 0.0385 - accuracy: 0.9923 - auc: 0.9989 - val_loss: 0.5651 - val_accuracy: 0.8632 - val_auc: 0.8059\n",
            "Epoch 90/100\n",
            "19/19 [==============================] - 5s 266ms/step - loss: 0.0372 - accuracy: 0.9926 - auc: 0.9990 - val_loss: 0.5718 - val_accuracy: 0.8631 - val_auc: 0.8040\n",
            "Epoch 91/100\n",
            "19/19 [==============================] - 5s 267ms/step - loss: 0.0362 - accuracy: 0.9930 - auc: 0.9990 - val_loss: 0.5790 - val_accuracy: 0.8641 - val_auc: 0.8032\n",
            "Epoch 92/100\n",
            "19/19 [==============================] - 5s 268ms/step - loss: 0.0349 - accuracy: 0.9934 - auc: 0.9991 - val_loss: 0.5853 - val_accuracy: 0.8637 - val_auc: 0.8013\n",
            "Epoch 93/100\n",
            "19/19 [==============================] - 5s 266ms/step - loss: 0.0338 - accuracy: 0.9938 - auc: 0.9992 - val_loss: 0.5893 - val_accuracy: 0.8630 - val_auc: 0.8017\n",
            "Epoch 94/100\n",
            "19/19 [==============================] - 5s 262ms/step - loss: 0.0326 - accuracy: 0.9940 - auc: 0.9992 - val_loss: 0.5984 - val_accuracy: 0.8632 - val_auc: 0.7998\n",
            "Epoch 95/100\n",
            "19/19 [==============================] - 5s 264ms/step - loss: 0.0314 - accuracy: 0.9944 - auc: 0.9993 - val_loss: 0.6047 - val_accuracy: 0.8627 - val_auc: 0.7984\n",
            "Epoch 96/100\n",
            "19/19 [==============================] - 5s 263ms/step - loss: 0.0304 - accuracy: 0.9946 - auc: 0.9993 - val_loss: 0.6102 - val_accuracy: 0.8630 - val_auc: 0.7987\n",
            "Epoch 97/100\n",
            "19/19 [==============================] - 5s 269ms/step - loss: 0.0295 - accuracy: 0.9950 - auc: 0.9994 - val_loss: 0.6166 - val_accuracy: 0.8632 - val_auc: 0.7971\n",
            "Epoch 98/100\n",
            "19/19 [==============================] - 5s 269ms/step - loss: 0.0285 - accuracy: 0.9952 - auc: 0.9994 - val_loss: 0.6230 - val_accuracy: 0.8628 - val_auc: 0.7977\n",
            "Epoch 99/100\n",
            "19/19 [==============================] - 5s 268ms/step - loss: 0.0275 - accuracy: 0.9955 - auc: 0.9995 - val_loss: 0.6292 - val_accuracy: 0.8626 - val_auc: 0.7957\n",
            "Epoch 100/100\n",
            "19/19 [==============================] - 5s 268ms/step - loss: 0.0266 - accuracy: 0.9957 - auc: 0.9995 - val_loss: 0.6370 - val_accuracy: 0.8623 - val_auc: 0.7943\n"
          ]
        }
      ]
    },
    {
      "cell_type": "code",
      "source": [
        "model.save('phase_arm_num_subjects_model_03_keras.keras')"
      ],
      "metadata": {
        "id": "5DLaUL_7gRIy"
      },
      "id": "5DLaUL_7gRIy",
      "execution_count": 44,
      "outputs": []
    },
    {
      "cell_type": "code",
      "source": [
        "from google.colab import drive\n",
        "drive.mount('/content/drive')\n",
        "model.save(\"phase_arm_num_subjects_model_03_keras.keras\")"
      ],
      "metadata": {
        "colab": {
          "base_uri": "https://localhost:8080/"
        },
        "id": "lYKFZVGigRKg",
        "outputId": "59aad023-da8d-4b6e-f7e5-1840fc177907"
      },
      "id": "lYKFZVGigRKg",
      "execution_count": 45,
      "outputs": [
        {
          "output_type": "stream",
          "name": "stdout",
          "text": [
            "Drive already mounted at /content/drive; to attempt to forcibly remount, call drive.mount(\"/content/drive\", force_remount=True).\n"
          ]
        }
      ]
    },
    {
      "cell_type": "code",
      "source": [
        "results = model.evaluate(test_examples, test_labels)\n",
        "\n",
        "print(results)"
      ],
      "metadata": {
        "colab": {
          "base_uri": "https://localhost:8080/"
        },
        "id": "x6i0VsDEgdgm",
        "outputId": "011acc20-cbf5-4645-fb63-1097ef4a4482"
      },
      "id": "x6i0VsDEgdgm",
      "execution_count": 46,
      "outputs": [
        {
          "output_type": "stream",
          "name": "stdout",
          "text": [
            "34/34 [==============================] - 1s 30ms/step - loss: 0.6370 - accuracy: 0.8623 - auc: 0.7943\n",
            "[0.6369608044624329, 0.8622957468032837, 0.7943004965782166]\n"
          ]
        }
      ]
    },
    {
      "cell_type": "code",
      "source": [
        "history_dict = history.history\n",
        "history_dict.keys()"
      ],
      "metadata": {
        "colab": {
          "base_uri": "https://localhost:8080/"
        },
        "id": "6rg2XlFpgdi4",
        "outputId": "4a1b85aa-a507-4a3b-b65c-493d0646688e"
      },
      "id": "6rg2XlFpgdi4",
      "execution_count": 47,
      "outputs": [
        {
          "output_type": "execute_result",
          "data": {
            "text/plain": [
              "dict_keys(['loss', 'accuracy', 'auc', 'val_loss', 'val_accuracy', 'val_auc'])"
            ]
          },
          "metadata": {},
          "execution_count": 47
        }
      ]
    },
    {
      "cell_type": "code",
      "source": [
        "acc = history_dict['accuracy']\n",
        "val_acc = history_dict['val_accuracy']\n",
        "loss = history_dict['loss']\n",
        "val_loss = history_dict['val_loss']\n",
        "\n",
        "epochs = range(1, len(acc) + 1)\n",
        "\n",
        "# \"bo\" is for \"blue dot\"\n",
        "plt.plot(epochs, loss, 'bo', label='Training loss')\n",
        "# b is for \"solid blue line\"\n",
        "plt.plot(epochs, val_loss, 'b', label='Validation loss')\n",
        "plt.title('Training and validation loss')\n",
        "plt.xlabel('Epochs')\n",
        "plt.ylabel('Loss')\n",
        "plt.legend()\n",
        "\n",
        "plt.show()"
      ],
      "metadata": {
        "colab": {
          "base_uri": "https://localhost:8080/",
          "height": 295
        },
        "id": "6wjt4B0IgdlS",
        "outputId": "4688ab57-fde5-4d96-d345-b27366ad29a2"
      },
      "id": "6wjt4B0IgdlS",
      "execution_count": 48,
      "outputs": [
        {
          "output_type": "display_data",
          "data": {
            "text/plain": [
              "<Figure size 432x288 with 1 Axes>"
            ],
            "image/png": "[encoded data removed]"
          },
          "metadata": {
            "needs_background": "light"
          }
        }
      ]
    },
    {
      "cell_type": "code",
      "source": [
        "plt.clf()   # clear figure\n",
        "\n",
        "plt.plot(epochs, acc, 'bo', label='Training acc')\n",
        "plt.plot(epochs, val_acc, 'b', label='Validation acc')\n",
        "plt.title('Training and validation accuracy')\n",
        "plt.xlabel('Epochs')\n",
        "plt.ylabel('Accuracy')\n",
        "plt.legend()\n",
        "\n",
        "plt.show()"
      ],
      "metadata": {
        "colab": {
          "base_uri": "https://localhost:8080/",
          "height": 295
        },
        "id": "1p5i_Iiegdnj",
        "outputId": "90561c1d-4e1d-4b3c-e7ca-50a39638b3cc"
      },
      "id": "1p5i_Iiegdnj",
      "execution_count": 49,
      "outputs": [
        {
          "output_type": "display_data",
          "data": {
            "text/plain": [
              "<Figure size 432x288 with 1 Axes>"
            ],
            "image/png": "[encoded data removed]"
          },
          "metadata": {
            "needs_background": "light"
          }
        }
      ]
    },
    {
      "cell_type": "code",
      "source": [],
      "metadata": {
        "id": "DrpUa4NdgkI2"
      },
      "id": "DrpUa4NdgkI2",
      "execution_count": 49,
      "outputs": []
    },
    {
      "cell_type": "code",
      "source": [
        "input_texts= np.asarray(df_val.text)"
      ],
      "metadata": {
        "id": "iAx8Wx3IgkLL"
      },
      "id": "iAx8Wx3IgkLL",
      "execution_count": 50,
      "outputs": []
    },
    {
      "cell_type": "code",
      "source": [
        "pred_proba = model.predict(input_texts)"
      ],
      "metadata": {
        "colab": {
          "base_uri": "https://localhost:8080/"
        },
        "id": "weo-BkHPgkNI",
        "outputId": "5d709e84-3f43-4f62-fe3c-9e402b117bec"
      },
      "id": "weo-BkHPgkNI",
      "execution_count": 51,
      "outputs": [
        {
          "output_type": "stream",
          "name": "stdout",
          "text": [
            "34/34 [==============================] - 1s 17ms/step\n"
          ]
        }
      ]
    },
    {
      "cell_type": "code",
      "source": [
        "y_pred_phase = []\n",
        "y_pred_num_arms = []\n",
        "y_pred_num_subjects = []\n",
        "y_pred_sap = []\n",
        "for idx in range(len(pred_proba)):\n",
        "  probas_this_instance = pred_proba[idx]\n",
        "  probas_phase = probas_this_instance[:len(phase_lookup)]\n",
        "  y_pred_phase.append(phase_lookup[int(np.argmax(probas_phase))])\n",
        "  probas_arms = probas_this_instance[len(phase_lookup):len(phase_lookup)+5]\n",
        "  y_pred_num_arms.append(1 + int(np.argmax(probas_arms)))\n",
        "  probas_subjects = probas_this_instance[len(phase_lookup)+5:-1]\n",
        "  y_pred_num_subjects.append(num_subjects_lookup[int(np.argmax(probas_subjects))])\n",
        "  probas_sap = probas_this_instance[-1:]\n",
        "  y_pred_sap.append(probas_sap[0] > 0.5)\n",
        "\n",
        "df_val[\"y_pred_phase\"] = y_pred_phase\n",
        "df_val[\"y_pred_num_arms\"] = y_pred_num_arms\n",
        "df_val[\"y_pred_num_subjects\"] = y_pred_num_subjects\n",
        "df_val[\"y_pred_sap\"] = y_pred_sap"
      ],
      "metadata": {
        "colab": {
          "base_uri": "https://localhost:8080/"
        },
        "id": "wia77Kufub2v",
        "outputId": "e999b2cb-c2fd-4a51-f552-d0be4be559a2"
      },
      "id": "wia77Kufub2v",
      "execution_count": 52,
      "outputs": [
        {
          "output_type": "stream",
          "name": "stderr",
          "text": [
            "/usr/local/lib/python3.7/dist-packages/ipykernel_launcher.py:16: SettingWithCopyWarning: \n",
            "A value is trying to be set on a copy of a slice from a DataFrame.\n",
            "Try using .loc[row_indexer,col_indexer] = value instead\n",
            "\n",
            "See the caveats in the documentation: https://pandas.pydata.org/pandas-docs/stable/user_guide/indexing.html#returning-a-view-versus-a-copy\n",
            "  app.launch_new_instance()\n",
            "/usr/local/lib/python3.7/dist-packages/ipykernel_launcher.py:17: SettingWithCopyWarning: \n",
            "A value is trying to be set on a copy of a slice from a DataFrame.\n",
            "Try using .loc[row_indexer,col_indexer] = value instead\n",
            "\n",
            "See the caveats in the documentation: https://pandas.pydata.org/pandas-docs/stable/user_guide/indexing.html#returning-a-view-versus-a-copy\n",
            "/usr/local/lib/python3.7/dist-packages/ipykernel_launcher.py:18: SettingWithCopyWarning: \n",
            "A value is trying to be set on a copy of a slice from a DataFrame.\n",
            "Try using .loc[row_indexer,col_indexer] = value instead\n",
            "\n",
            "See the caveats in the documentation: https://pandas.pydata.org/pandas-docs/stable/user_guide/indexing.html#returning-a-view-versus-a-copy\n",
            "/usr/local/lib/python3.7/dist-packages/ipykernel_launcher.py:19: SettingWithCopyWarning: \n",
            "A value is trying to be set on a copy of a slice from a DataFrame.\n",
            "Try using .loc[row_indexer,col_indexer] = value instead\n",
            "\n",
            "See the caveats in the documentation: https://pandas.pydata.org/pandas-docs/stable/user_guide/indexing.html#returning-a-view-versus-a-copy\n"
          ]
        }
      ]
    },
    {
      "cell_type": "code",
      "source": [],
      "metadata": {
        "id": "DbBjX9-agkVH"
      },
      "id": "DbBjX9-agkVH",
      "execution_count": 52,
      "outputs": []
    },
    {
      "cell_type": "markdown",
      "source": [
        "## Phase"
      ],
      "metadata": {
        "id": "ZNUbeGPw5KWg"
      },
      "id": "ZNUbeGPw5KWg"
    },
    {
      "cell_type": "code",
      "source": [
        "acc = accuracy_score(df_val.phase_clean.apply(str), df_val[\"y_pred_phase\"])\n",
        "print (f\"Phase accuracy {acc}\")"
      ],
      "metadata": {
        "colab": {
          "base_uri": "https://localhost:8080/"
        },
        "id": "sznpf_e24NvP",
        "outputId": "fe42a7a0-0864-430d-a71b-77df974d8321"
      },
      "id": "sznpf_e24NvP",
      "execution_count": 53,
      "outputs": [
        {
          "output_type": "stream",
          "name": "stdout",
          "text": [
            "Phase accuracy 0.567741935483871\n"
          ]
        }
      ]
    },
    {
      "cell_type": "code",
      "source": [
        "ConfusionMatrixDisplay.from_predictions(df_val.phase_clean.apply(str), df_val[\"y_pred_phase\"])\n",
        "plt.xticks(rotation=90)\n",
        ";"
      ],
      "metadata": {
        "colab": {
          "base_uri": "https://localhost:8080/",
          "height": 314
        },
        "id": "zLJ_MQih4T9n",
        "outputId": "ccc68cc2-40af-4131-9c85-257b817489e8"
      },
      "id": "zLJ_MQih4T9n",
      "execution_count": 54,
      "outputs": [
        {
          "output_type": "execute_result",
          "data": {
            "text/plain": [
              "''"
            ],
            "application/vnd.google.colaboratory.intrinsic+json": {
              "type": "string"
            }
          },
          "metadata": {},
          "execution_count": 54
        },
        {
          "output_type": "display_data",
          "data": {
            "text/plain": [
              "<Figure size 432x288 with 2 Axes>"
            ],
            "image/png": "[encoded data removed]"
          },
          "metadata": {
            "needs_background": "light"
          }
        }
      ]
    },
    {
      "cell_type": "markdown",
      "source": [
        "# Number of arms"
      ],
      "metadata": {
        "id": "Fz_EyOrB5PXa"
      },
      "id": "Fz_EyOrB5PXa"
    },
    {
      "cell_type": "code",
      "source": [
        "acc = accuracy_score(df_val.num_arms_clean.apply(float).apply(str), df_val[\"y_pred_num_arms\"].apply(float).apply(str))\n",
        "print (f\"Num arms accuracy {acc}\")"
      ],
      "metadata": {
        "colab": {
          "base_uri": "https://localhost:8080/"
        },
        "id": "X8IsVDo34YTg",
        "outputId": "8fedee92-38e7-4b2f-ecfa-cb1b2e12ab9d"
      },
      "id": "X8IsVDo34YTg",
      "execution_count": 55,
      "outputs": [
        {
          "output_type": "stream",
          "name": "stdout",
          "text": [
            "Num arms accuracy 0.5585253456221199\n"
          ]
        }
      ]
    },
    {
      "cell_type": "code",
      "source": [
        "ConfusionMatrixDisplay.from_predictions(df_val.num_arms_clean.apply(float).apply(str), df_val[\"y_pred_num_arms\"].apply(float).apply(str))\n",
        "plt.xticks(rotation=90)\n",
        ";"
      ],
      "metadata": {
        "colab": {
          "base_uri": "https://localhost:8080/",
          "height": 311
        },
        "id": "idb1W6VE4kIp",
        "outputId": "5233b954-9ec2-46b1-eb27-ff394916181f"
      },
      "id": "idb1W6VE4kIp",
      "execution_count": 56,
      "outputs": [
        {
          "output_type": "execute_result",
          "data": {
            "text/plain": [
              "''"
            ],
            "application/vnd.google.colaboratory.intrinsic+json": {
              "type": "string"
            }
          },
          "metadata": {},
          "execution_count": 56
        },
        {
          "output_type": "display_data",
          "data": {
            "text/plain": [
              "<Figure size 432x288 with 2 Axes>"
            ],
            "image/png": "[encoded data removed]"
          },
          "metadata": {
            "needs_background": "light"
          }
        }
      ]
    },
    {
      "cell_type": "markdown",
      "source": [
        "## Subjects"
      ],
      "metadata": {
        "id": "lLWC7P1k5NSX"
      },
      "id": "lLWC7P1k5NSX"
    },
    {
      "cell_type": "code",
      "source": [
        "acc = accuracy_score(df_val.num_subjects_clean, df_val[\"y_pred_num_subjects\"])\n",
        "print (f\"Subjects accuracy {acc}\")"
      ],
      "metadata": {
        "id": "rYhLhDmnNuAl",
        "outputId": "ebfbd70b-c16c-4a3f-f596-e05a528c06d0",
        "colab": {
          "base_uri": "https://localhost:8080/"
        }
      },
      "id": "rYhLhDmnNuAl",
      "execution_count": 57,
      "outputs": [
        {
          "output_type": "stream",
          "name": "stdout",
          "text": [
            "Subjects accuracy 0.295852534562212\n"
          ]
        }
      ]
    },
    {
      "cell_type": "code",
      "source": [
        "ConfusionMatrixDisplay.from_predictions(df_val.num_subjects_clean, df_val[\"y_pred_num_subjects\"], labels=num_subjects_list)\n",
        "plt.xticks(rotation=90)\n",
        ";"
      ],
      "metadata": {
        "id": "XOiQVXB0NuHC",
        "outputId": "d49cdde5-15e7-4e88-94b4-ebeb4c6ae070",
        "colab": {
          "base_uri": "https://localhost:8080/",
          "height": 328
        }
      },
      "id": "XOiQVXB0NuHC",
      "execution_count": 58,
      "outputs": [
        {
          "output_type": "execute_result",
          "data": {
            "text/plain": [
              "''"
            ],
            "application/vnd.google.colaboratory.intrinsic+json": {
              "type": "string"
            }
          },
          "metadata": {},
          "execution_count": 58
        },
        {
          "output_type": "display_data",
          "data": {
            "text/plain": [
              "<Figure size 432x288 with 2 Axes>"
            ],
            "image/png": "[encoded data removed]"
          },
          "metadata": {
            "needs_background": "light"
          }
        }
      ]
    },
    {
      "cell_type": "code",
      "source": [
        "num_correct = 0\n",
        "for idx in range(len(df_val)):\n",
        "  gt = num_subjects_clean_map[df_val[\"num_subjects_clean\"].iloc[idx]]\n",
        "  pred = num_subjects_clean_map[df_val[\"y_pred_num_subjects\"].iloc[idx]]\n",
        "  is_correct = int(np.abs(gt - pred) <= 1)\n",
        "  num_correct += is_correct\n",
        "print (\"Accuracy including adjacent groups\", num_correct/len(df_val))"
      ],
      "metadata": {
        "colab": {
          "base_uri": "https://localhost:8080/"
        },
        "id": "VzFHDCRtmBA6",
        "outputId": "ebfeb8c7-ff20-49c9-98c9-affbf5aa0985"
      },
      "id": "VzFHDCRtmBA6",
      "execution_count": 59,
      "outputs": [
        {
          "output_type": "stream",
          "name": "stdout",
          "text": [
            "Accuracy including adjacent groups 0.6691244239631337\n"
          ]
        }
      ]
    },
    {
      "cell_type": "code",
      "source": [],
      "metadata": {
        "id": "1MU1NT4T_DLO"
      },
      "id": "1MU1NT4T_DLO",
      "execution_count": 59,
      "outputs": []
    },
    {
      "cell_type": "markdown",
      "source": [
        "## SAP"
      ],
      "metadata": {
        "id": "tNsHUs9VBl4u"
      },
      "id": "tNsHUs9VBl4u"
    },
    {
      "cell_type": "code",
      "source": [
        "acc = accuracy_score(df_val.has_sap, df_val[\"y_pred_sap\"])\n",
        "print (f\"SAP accuracy {acc}\")"
      ],
      "metadata": {
        "id": "w9KjSCypBmgs",
        "colab": {
          "base_uri": "https://localhost:8080/"
        },
        "outputId": "306521f9-473b-4af9-ef45-5ef654249aa6"
      },
      "id": "w9KjSCypBmgs",
      "execution_count": 60,
      "outputs": [
        {
          "output_type": "stream",
          "name": "stdout",
          "text": [
            "SAP accuracy 0.8258064516129032\n"
          ]
        }
      ]
    },
    {
      "cell_type": "code",
      "source": [
        "ConfusionMatrixDisplay.from_predictions(df_val.has_sap, df_val[\"y_pred_sap\"])\n",
        "plt.xticks(rotation=90)\n",
        ";"
      ],
      "metadata": {
        "id": "Yt36Zw4wB4P9",
        "colab": {
          "base_uri": "https://localhost:8080/",
          "height": 304
        },
        "outputId": "5edc33e5-9443-45c2-b625-20be8287a0ea"
      },
      "id": "Yt36Zw4wB4P9",
      "execution_count": 61,
      "outputs": [
        {
          "output_type": "execute_result",
          "data": {
            "text/plain": [
              "''"
            ],
            "application/vnd.google.colaboratory.intrinsic+json": {
              "type": "string"
            }
          },
          "metadata": {},
          "execution_count": 61
        },
        {
          "output_type": "display_data",
          "data": {
            "text/plain": [
              "<Figure size 432x288 with 2 Axes>"
            ],
            "image/png": "[encoded data removed]"
          },
          "metadata": {
            "needs_background": "light"
          }
        }
      ]
    }
  ],
  "metadata": {
    "colab": {
      "provenance": [],
      "collapsed_sections": [],
      "machine_shape": "hm",
      "include_colab_link": true
    },
    "kernelspec": {
      "display_name": "conda_tensorflow_p36",
      "language": "python",
      "name": "conda_tensorflow_p36"
    },
    "language_info": {
      "codemirror_mode": {
        "name": "ipython",
        "version": 3
      },
      "file_extension": ".py",
      "mimetype": "text/x-python",
      "name": "python",
      "nbconvert_exporter": "python",
      "pygments_lexer": "ipython3",
      "version": "3.6.13"
    },
    "accelerator": "GPU",
    "gpuClass": "premium"
  },
  "nbformat": 4,
  "nbformat_minor": 5
}