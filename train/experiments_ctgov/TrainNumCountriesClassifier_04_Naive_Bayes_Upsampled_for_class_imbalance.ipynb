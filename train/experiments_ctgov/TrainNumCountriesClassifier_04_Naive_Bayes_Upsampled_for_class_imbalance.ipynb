{
  "cells": [
    {
      "cell_type": "markdown",
      "metadata": {
        "id": "view-in-github",
        "colab_type": "text"
      },
      "source": [
        "<a href=\"https://colab.research.google.com/github/fastdatascience/clinical_trial_risk/blob/fixes_nov_2022/train/ctgov/TrainNumCountriesClassifier_04_Naive_Bayes_Upsampled_for_class_imbalance.ipynb\" target=\"_parent\"><img src=\"https://colab.research.google.com/assets/colab-badge.svg\" alt=\"Open In Colab\"/></a>"
      ]
    },
    {
      "cell_type": "code",
      "execution_count": 1,
      "metadata": {
        "id": "0557d6c8"
      },
      "outputs": [],
      "source": [
        "import pandas as pd\n",
        "import re\n",
        "import os\n",
        "import sys\n",
        "import pickle as pkl\n",
        "import seaborn as sns\n",
        "from sklearn.metrics import accuracy_score, confusion_matrix\n",
        "from sklearn.metrics import ConfusionMatrixDisplay\n",
        "from sklearn.metrics import mean_absolute_error, mean_squared_error\n",
        "from sklearn.metrics import roc_auc_score\n",
        "from sklearn.metrics import roc_curve, auc\n",
        "from IPython.display import display\n",
        "import matplotlib.pyplot as plt\n",
        "import numpy as np\n",
        "import json\n",
        "\n"
      ],
      "id": "0557d6c8"
    },
    {
      "cell_type": "code",
      "execution_count": 2,
      "metadata": {
        "colab": {
          "base_uri": "https://localhost:8080/"
        },
        "id": "3cTsWWseCCMc",
        "outputId": "d4d36a51-656d-45b5-fccc-9818fc7006d1"
      },
      "outputs": [
        {
          "output_type": "stream",
          "name": "stdout",
          "text": [
            "Mounted at /content/drive\n"
          ]
        }
      ],
      "source": [
        "from google.colab import drive\n",
        "drive.mount('/content/drive')"
      ],
      "id": "3cTsWWseCCMc"
    },
    {
      "cell_type": "code",
      "execution_count": 3,
      "metadata": {
        "id": "92CbJN_cCFul"
      },
      "outputs": [],
      "source": [
        "df_annotations = pd.read_csv(\"/content/drive/MyDrive/data/all_annotations.csv\")\n"
      ],
      "id": "92CbJN_cCFul"
    },
    {
      "cell_type": "markdown",
      "metadata": {
        "id": "4b2e7a73"
      },
      "source": [
        "# Get data"
      ],
      "id": "4b2e7a73"
    },
    {
      "cell_type": "code",
      "execution_count": 4,
      "metadata": {
        "id": "c8ebd7a5"
      },
      "outputs": [],
      "source": [
        "with open(\"/content/drive/MyDrive/data/protocols.pkl.gz\", \"rb\") as f:\n",
        "    file_to_pages = pkl.load(f)"
      ],
      "id": "c8ebd7a5"
    },
    {
      "cell_type": "code",
      "execution_count": 5,
      "metadata": {
        "id": "9fbe5bf0"
      },
      "outputs": [],
      "source": [
        "texts = []\n",
        "\n",
        "for i in range(len(df_annotations)):\n",
        "    file_name = df_annotations.file.iloc[i]\n",
        "    \n",
        "    pages= file_to_pages[file_name]\n",
        "\n",
        "    texts.append(\" \".join(pages))\n",
        "df_annotations[\"text\"] = texts"
      ],
      "id": "9fbe5bf0"
    },
    {
      "cell_type": "code",
      "source": [
        "def get_num_countries(x):\n",
        "  if x is not None and type(x) is str:\n",
        "    return len(x.split(\",\"))\n",
        "  return None"
      ],
      "metadata": {
        "id": "JniZD4eZDqjn"
      },
      "id": "JniZD4eZDqjn",
      "execution_count": 6,
      "outputs": []
    },
    {
      "cell_type": "code",
      "execution_count": 7,
      "metadata": {
        "id": "f3322e30"
      },
      "outputs": [],
      "source": [
        "df_annotations[\"num_countries\"] = df_annotations.country.apply(get_num_countries)"
      ],
      "id": "f3322e30"
    },
    {
      "cell_type": "code",
      "source": [
        "df_annotations[\"num_countries\"].value_counts()"
      ],
      "metadata": {
        "colab": {
          "base_uri": "https://localhost:8080/"
        },
        "id": "nZgEgMEKD4XR",
        "outputId": "abbfd041-4b98-4d37-b0a4-d60e80aeb348"
      },
      "id": "nZgEgMEKD4XR",
      "execution_count": 8,
      "outputs": [
        {
          "output_type": "execute_result",
          "data": {
            "text/plain": [
              "1.0     7998\n",
              "2.0      726\n",
              "3.0      341\n",
              "4.0      263\n",
              "5.0      230\n",
              "6.0      225\n",
              "7.0      193\n",
              "8.0      176\n",
              "10.0     155\n",
              "9.0      137\n",
              "11.0     135\n",
              "12.0     116\n",
              "13.0     109\n",
              "14.0      92\n",
              "15.0      90\n",
              "17.0      78\n",
              "18.0      68\n",
              "16.0      65\n",
              "21.0      57\n",
              "20.0      56\n",
              "19.0      54\n",
              "23.0      47\n",
              "22.0      44\n",
              "24.0      35\n",
              "25.0      31\n",
              "26.0      27\n",
              "29.0      22\n",
              "30.0      21\n",
              "27.0      20\n",
              "31.0      19\n",
              "28.0      18\n",
              "32.0      17\n",
              "33.0      14\n",
              "41.0      11\n",
              "34.0      11\n",
              "38.0       8\n",
              "39.0       8\n",
              "37.0       7\n",
              "43.0       7\n",
              "36.0       6\n",
              "35.0       6\n",
              "44.0       6\n",
              "40.0       6\n",
              "48.0       6\n",
              "47.0       3\n",
              "42.0       2\n",
              "49.0       2\n",
              "50.0       2\n",
              "45.0       1\n",
              "58.0       1\n",
              "46.0       1\n",
              "62.0       1\n",
              "51.0       1\n",
              "54.0       1\n",
              "Name: num_countries, dtype: int64"
            ]
          },
          "metadata": {},
          "execution_count": 8
        }
      ]
    },
    {
      "cell_type": "code",
      "execution_count": 11,
      "metadata": {
        "id": "df0ea588"
      },
      "outputs": [],
      "source": [
        "def get_is_international(num):\n",
        "    if num is None or pd.isna(num):\n",
        "      return None\n",
        "    if num >= 2:\n",
        "      return 1\n",
        "    return 0\n",
        "df_annotations[\"is_international\"] = df_annotations[\"num_countries\"].apply(get_is_international)"
      ],
      "id": "df0ea588"
    },
    {
      "cell_type": "code",
      "source": [
        "df_annotations[\"is_international\"].value_counts()"
      ],
      "metadata": {
        "id": "dMes2ySpmDep",
        "outputId": "89d02634-b014-4cfd-c53b-7002ff4b6dfc",
        "colab": {
          "base_uri": "https://localhost:8080/"
        }
      },
      "id": "dMes2ySpmDep",
      "execution_count": 12,
      "outputs": [
        {
          "output_type": "execute_result",
          "data": {
            "text/plain": [
              "0.0    7998\n",
              "1.0    3778\n",
              "Name: is_international, dtype: int64"
            ]
          },
          "metadata": {},
          "execution_count": 12
        }
      ]
    },
    {
      "cell_type": "markdown",
      "metadata": {
        "id": "a2e91853"
      },
      "source": [
        "# Train and evaluate the number of countries extractor"
      ],
      "id": "a2e91853"
    },
    {
      "cell_type": "code",
      "execution_count": 14,
      "metadata": {
        "id": "471252e4"
      },
      "outputs": [],
      "source": [
        "df_train = df_annotations[(df_annotations.train_val == \"train\") & (~df_annotations.is_international.isna())]"
      ],
      "id": "471252e4"
    },
    {
      "cell_type": "code",
      "source": [
        "df_train_to_augment = df_train[df_train.is_international == 1]"
      ],
      "metadata": {
        "id": "OoHXMePdlfqc"
      },
      "id": "OoHXMePdlfqc",
      "execution_count": 15,
      "outputs": []
    },
    {
      "cell_type": "code",
      "source": [
        "df_train_augmented = pd.concat([df_train, df_train_to_augment])"
      ],
      "metadata": {
        "id": "WM1BHqRamTcd"
      },
      "id": "WM1BHqRamTcd",
      "execution_count": 16,
      "outputs": []
    },
    {
      "cell_type": "code",
      "source": [
        "df_train_augmented[\"is_international\"].value_counts()"
      ],
      "metadata": {
        "id": "wYMXvtjHmcBI",
        "outputId": "9a805b48-50c2-48e7-91bb-81ba3e698d19",
        "colab": {
          "base_uri": "https://localhost:8080/"
        }
      },
      "id": "wYMXvtjHmcBI",
      "execution_count": 18,
      "outputs": [
        {
          "output_type": "execute_result",
          "data": {
            "text/plain": [
              "0.0    6375\n",
              "1.0    6104\n",
              "Name: is_international, dtype: int64"
            ]
          },
          "metadata": {},
          "execution_count": 18
        }
      ]
    },
    {
      "cell_type": "code",
      "execution_count": 19,
      "metadata": {
        "id": "b8ac14ec"
      },
      "outputs": [],
      "source": [
        "df_val = df_annotations[df_annotations.train_val == \"val\"]"
      ],
      "id": "b8ac14ec"
    },
    {
      "cell_type": "code",
      "execution_count": 20,
      "metadata": {
        "id": "0a66fe16"
      },
      "outputs": [],
      "source": [
        "from nltk.corpus import stopwords\n",
        "from nltk.tokenize import RegexpTokenizer\n",
        "\n",
        "from sklearn.ensemble import RandomForestClassifier\n",
        "from sklearn.feature_extraction.text import CountVectorizer, TfidfTransformer\n",
        "from sklearn.metrics import accuracy_score, auc, roc_curve\n",
        "from sklearn.model_selection import cross_validate\n",
        "from sklearn.naive_bayes import BernoulliNB\n",
        "from sklearn.pipeline import make_pipeline"
      ],
      "id": "0a66fe16"
    },
    {
      "cell_type": "code",
      "source": [
        "import nltk\n",
        "nltk.download('stopwords')"
      ],
      "metadata": {
        "id": "beqb5ctemjgM",
        "outputId": "a4fa78dc-4eb7-40c2-a215-6c571b6d281a",
        "colab": {
          "base_uri": "https://localhost:8080/"
        }
      },
      "id": "beqb5ctemjgM",
      "execution_count": 22,
      "outputs": [
        {
          "output_type": "stream",
          "name": "stderr",
          "text": [
            "[nltk_data] Downloading package stopwords to /root/nltk_data...\n",
            "[nltk_data]   Unzipping corpora/stopwords.zip.\n"
          ]
        },
        {
          "output_type": "execute_result",
          "data": {
            "text/plain": [
              "True"
            ]
          },
          "metadata": {},
          "execution_count": 22
        }
      ]
    },
    {
      "cell_type": "code",
      "execution_count": 23,
      "metadata": {
        "id": "4dadf531"
      },
      "outputs": [],
      "source": [
        "NUM_FEATURES = 1500\n",
        "\n",
        "stops = set(stopwords.words('english')).union(set(stopwords.words('french')))\n",
        "stops.remove(\"both\")\n",
        "stops.remove(\"all\")\n",
        "\n",
        "# Specially engineered regex to include 95%, 95%ci, etc\n",
        "vectoriser = CountVectorizer(lowercase=True, stop_words=stops, min_df=5, max_features=NUM_FEATURES,\n",
        "                             token_pattern=r'[59][05]%?(?:ci)?|[a-z][a-z]+')\n",
        "transformer = TfidfTransformer()\n",
        "\n",
        "nb = BernoulliNB()\n",
        "model = make_pipeline(vectoriser, transformer, nb)"
      ],
      "id": "4dadf531"
    },
    {
      "cell_type": "code",
      "execution_count": 25,
      "metadata": {
        "id": "3d106a6e",
        "outputId": "38ed1c16-6147-4e6e-e71e-ee1b059a9132",
        "colab": {
          "base_uri": "https://localhost:8080/"
        }
      },
      "outputs": [
        {
          "output_type": "stream",
          "name": "stderr",
          "text": [
            "/usr/local/lib/python3.7/dist-packages/sklearn/feature_extraction/text.py:401: UserWarning: Your stop_words may be inconsistent with your preprocessing. Tokenizing the stop words generated tokens ['taient', 'tais', 'tait', 'tant', 'tante', 'tantes', 'tants', 'tiez', 'tions'] not in stop_words.\n",
            "  % sorted(inconsistent)\n"
          ]
        },
        {
          "output_type": "execute_result",
          "data": {
            "text/plain": [
              "Pipeline(steps=[('countvectorizer',\n",
              "                 CountVectorizer(max_features=1500, min_df=5,\n",
              "                                 stop_words={'a', 'about', 'above', 'after',\n",
              "                                             'again', 'against', 'ai', 'aie',\n",
              "                                             'aient', 'aies', 'ain', 'ait',\n",
              "                                             'am', 'an', 'and', 'any', 'are',\n",
              "                                             'aren', \"aren't\", 'as', 'at', 'au',\n",
              "                                             'aura', 'aurai', 'auraient',\n",
              "                                             'aurais', 'aurait', 'auras',\n",
              "                                             'aurez', 'auriez', ...},\n",
              "                                 token_pattern='[59][05]%?(?:ci)?|[a-z][a-z]+')),\n",
              "                ('tfidftransformer', TfidfTransformer()),\n",
              "                ('bernoullinb', BernoulliNB())])"
            ]
          },
          "metadata": {},
          "execution_count": 25
        }
      ],
      "source": [
        "model.fit(df_train_augmented.text, df_train_augmented.is_international)"
      ],
      "id": "3d106a6e"
    },
    {
      "cell_type": "code",
      "execution_count": 29,
      "metadata": {
        "id": "fcff782f",
        "colab": {
          "base_uri": "https://localhost:8080/"
        },
        "outputId": "d6abca50-24d6-4f03-b68c-bba559e91d3c"
      },
      "outputs": [
        {
          "output_type": "stream",
          "name": "stderr",
          "text": [
            "/usr/local/lib/python3.7/dist-packages/ipykernel_launcher.py:1: SettingWithCopyWarning: \n",
            "A value is trying to be set on a copy of a slice from a DataFrame.\n",
            "Try using .loc[row_indexer,col_indexer] = value instead\n",
            "\n",
            "See the caveats in the documentation: https://pandas.pydata.org/pandas-docs/stable/user_guide/indexing.html#returning-a-view-versus-a-copy\n",
            "  \"\"\"Entry point for launching an IPython kernel.\n"
          ]
        }
      ],
      "source": [
        "df_val[\"pred_international\"] = model.predict(df_val.text)"
      ],
      "id": "fcff782f"
    },
    {
      "cell_type": "code",
      "source": [
        "pred_international = df_val[\"pred_international\"]"
      ],
      "metadata": {
        "id": "ZlUaqG_6FqEs"
      },
      "id": "ZlUaqG_6FqEs",
      "execution_count": 30,
      "outputs": []
    },
    {
      "cell_type": "code",
      "execution_count": 31,
      "metadata": {
        "id": "48d636fa"
      },
      "outputs": [],
      "source": [
        "is_international_ground_truths = df_val.is_international"
      ],
      "id": "48d636fa"
    },
    {
      "cell_type": "code",
      "execution_count": 32,
      "metadata": {
        "id": "bf5f8d23",
        "outputId": "f082b46f-571e-47fa-80dc-1de94d1597ed",
        "colab": {
          "base_uri": "https://localhost:8080/"
        }
      },
      "outputs": [
        {
          "output_type": "stream",
          "name": "stdout",
          "text": [
            "Num countries accuracy 0.6276497695852534\n"
          ]
        }
      ],
      "source": [
        "acc = accuracy_score(is_international_ground_truths.apply(str), pred_international.apply(str))\n",
        "print (f\"Num countries accuracy {acc}\")"
      ],
      "id": "bf5f8d23"
    },
    {
      "cell_type": "code",
      "execution_count": 33,
      "metadata": {
        "id": "27c5d1be",
        "outputId": "6658ab15-7266-4e5f-eb8a-a707bf8c1809",
        "colab": {
          "base_uri": "https://localhost:8080/",
          "height": 310
        }
      },
      "outputs": [
        {
          "output_type": "execute_result",
          "data": {
            "text/plain": [
              "''"
            ],
            "application/vnd.google.colaboratory.intrinsic+json": {
              "type": "string"
            }
          },
          "metadata": {},
          "execution_count": 33
        },
        {
          "output_type": "display_data",
          "data": {
            "text/plain": [
              "<Figure size 432x288 with 2 Axes>"
            ],
            "image/png": "[encoded data removed]"
          },
          "metadata": {
            "needs_background": "light"
          }
        }
      ],
      "source": [
        "ConfusionMatrixDisplay.from_predictions(is_international_ground_truths.apply(str), pred_international.apply(str))\n",
        "plt.xticks(rotation=90)\n",
        ";"
      ],
      "id": "27c5d1be"
    },
    {
      "cell_type": "code",
      "source": [],
      "metadata": {
        "id": "VqJXvimap__j"
      },
      "id": "VqJXvimap__j",
      "execution_count": null,
      "outputs": []
    },
    {
      "cell_type": "code",
      "execution_count": 46,
      "metadata": {
        "id": "ccce60e8",
        "outputId": "c44a3d6b-b4aa-4882-b301-0f424453315c",
        "scrolled": true,
        "colab": {
          "base_uri": "https://localhost:8080/"
        }
      },
      "outputs": [
        {
          "output_type": "stream",
          "name": "stdout",
          "text": [
            "Strongest predictors for class 0\n",
            "\n",
            "0\t50\n",
            "1\tpf\n",
            "2\tpet\n",
            "3\tpersonnel\n",
            "4\tpersonal\n",
            "5\tperson\n",
            "6\tpersistent\n",
            "7\tpermitted\n",
            "8\tpermanently\n",
            "9\tperipheral\n",
            "10\tperiods\n",
            "11\tperiod\n",
            "12\tperformed\n",
            "13\tperformance\n",
            "14\tperform\n",
            "15\tpercutaneous\n",
            "16\tpercentage\n",
            "17\tpercent\n",
            "18\tper\n",
            "19\tpembrolizumab\n",
            "20\tpfizer\n",
            "21\tpediatric\n",
            "22\tpfs\n",
            "23\tpharmaceuticals\n",
            "24\tplease\n",
            "25\tplatelet\n",
            "26\tplasma\n",
            "Strongest predictors for class 1\n",
            "\n",
            "0\teudract\n",
            "1\tcountry\n",
            "2\tethics\n",
            "3\txte\n",
            "4\tcountries\n",
            "5\ttables\n",
            "6\tlist\n",
            "7\tauthorities\n",
            "8\teq\n",
            "9\tich\n",
            "10\tabbreviations\n",
            "11\tpreferred\n",
            "12\tmanual\n",
            "13\tdetails\n",
            "14\tamendment\n",
            "15\tbrochure\n",
            "16\tiec\n",
            "17\tconcomitant\n",
            "18\trefer\n",
            "19\treo\n",
            "20\tagreement\n",
            "21\tspecified\n",
            "22\tcontents\n",
            "23\tecrf\n",
            "24\teuropean\n",
            "25\tregulatory\n",
            "26\thandling\n"
          ]
        }
      ],
      "source": [
        "fake_document = \" \".join(vectoriser.vocabulary_)\n",
        "vectorised_document = vectoriser.transform([fake_document])\n",
        "transformed_document = transformer.transform(vectorised_document)\n",
        "probas = np.zeros((transformed_document.shape[1]))\n",
        "\n",
        "for prediction_idx in range(2):\n",
        "    print(f\"Strongest predictors for class {prediction_idx}\\n\")\n",
        "    for i in range(transformed_document.shape[1]):\n",
        "        zeros = np.zeros(transformed_document.shape)\n",
        "        zeros[0, i] = transformed_document[0, i]\n",
        "        proba = nb.predict_log_proba(zeros)\n",
        "        probas[i] = proba[0, prediction_idx]\n",
        "\n",
        "    for ctr, j in enumerate(np.argsort(-probas)):\n",
        "        for w, i in vectoriser.vocabulary_.items():\n",
        "            if i == j:\n",
        "                print(f\"{ctr}\\t{w}\")\n",
        "        if ctr > 25:\n",
        "          break"
      ],
      "id": "ccce60e8"
    },
    {
      "cell_type": "code",
      "execution_count": null,
      "metadata": {
        "id": "91311d34"
      },
      "outputs": [],
      "source": [],
      "id": "91311d34"
    },
    {
      "cell_type": "code",
      "execution_count": null,
      "metadata": {
        "id": "b620ed04"
      },
      "outputs": [],
      "source": [],
      "id": "b620ed04"
    },
    {
      "cell_type": "code",
      "execution_count": null,
      "metadata": {
        "id": "84b0d6cd"
      },
      "outputs": [],
      "source": [],
      "id": "84b0d6cd"
    }
  ],
  "metadata": {
    "colab": {
      "collapsed_sections": [],
      "provenance": [],
      "include_colab_link": true
    },
    "kernelspec": {
      "display_name": "Python [conda env:py310] *",
      "language": "python",
      "name": "conda-env-py310-py"
    },
    "language_info": {
      "codemirror_mode": {
        "name": "ipython",
        "version": 3
      },
      "file_extension": ".py",
      "mimetype": "text/x-python",
      "name": "python",
      "nbconvert_exporter": "python",
      "pygments_lexer": "ipython3",
      "version": "3.10.4"
    }
  },
  "nbformat": 4,
  "nbformat_minor": 5
}