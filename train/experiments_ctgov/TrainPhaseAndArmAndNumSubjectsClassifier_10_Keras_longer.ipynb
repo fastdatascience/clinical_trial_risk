{
  "cells": [
    {
      "cell_type": "markdown",
      "metadata": {
        "id": "view-in-github",
        "colab_type": "text"
      },
      "source": [
        "<a href=\"https://colab.research.google.com/github/fastdatascience/clinical_trial_risk/blob/fixes_nov_2022/train/ctgov/TrainPhaseAndArmAndNumSubjectsClassifier_10_Keras_longer.ipynb\" target=\"_parent\"><img src=\"https://colab.research.google.com/assets/colab-badge.svg\" alt=\"Open In Colab\"/></a>"
      ]
    },
    {
      "cell_type": "code",
      "execution_count": 1,
      "id": "ad812236",
      "metadata": {
        "id": "ad812236"
      },
      "outputs": [],
      "source": [
        "import pandas as pd\n",
        "import re\n",
        "import os\n",
        "import sys\n",
        "import pickle as pkl\n",
        "import seaborn as sns\n",
        "from sklearn.metrics import accuracy_score, confusion_matrix\n",
        "from sklearn.metrics import ConfusionMatrixDisplay\n",
        "from sklearn.metrics import mean_absolute_error, mean_squared_error\n",
        "from sklearn.metrics import roc_auc_score\n",
        "from sklearn.metrics import roc_curve, auc\n",
        "from IPython.display import display\n",
        "import matplotlib.pyplot as plt\n",
        "import numpy as np\n",
        "import json\n",
        "\n",
        "# df_annotations = pd.read_csv(\"all_annotations.csv\")\n"
      ]
    },
    {
      "cell_type": "markdown",
      "id": "e7ea7d33",
      "metadata": {
        "id": "e7ea7d33"
      },
      "source": [
        "# Get data"
      ]
    },
    {
      "cell_type": "code",
      "execution_count": 2,
      "id": "284b9a07",
      "metadata": {
        "id": "284b9a07"
      },
      "outputs": [],
      "source": [
        "# with open(\"protocols.pkl.gz\", \"rb\") as f:\n",
        "#     file_to_pages = pkl.load(f)"
      ]
    },
    {
      "cell_type": "code",
      "execution_count": 3,
      "id": "91013de0",
      "metadata": {
        "id": "91013de0"
      },
      "outputs": [],
      "source": [
        "# import spacy\n",
        "# nlp = spacy.blank(\"en\")"
      ]
    },
    {
      "cell_type": "code",
      "execution_count": 4,
      "id": "65956b92",
      "metadata": {
        "id": "65956b92",
        "scrolled": true
      },
      "outputs": [],
      "source": [
        "# texts = []\n",
        "\n",
        "# for i in range(len(df_annotations)):\n",
        "#     file_name = df_annotations.file.iloc[i]\n",
        "    \n",
        "#     pages= file_to_pages[file_name]\n",
        "    \n",
        "#     text = \"\"\n",
        "#     for page in pages:\n",
        "#         doc = nlp(page)\n",
        "        \n",
        "#         is_include = [False] * len(doc)\n",
        "#         for tok in doc:\n",
        "#             if tok.text.lower() in {\"phase\"}:\n",
        "#                 for token_index in range(tok.i - 20, tok.i + 20):\n",
        "#                     if token_index >= 0 and token_index < len(doc):\n",
        "#                         is_include[token_index] = True\n",
        "        \n",
        "#         for token_index in range(len(doc)):\n",
        "#             if is_include[token_index]:\n",
        "#                 text += doc[token_index].text + doc[token_index].whitespace_\n",
        "                \n",
        "                \n",
        "#     if text == \"\":\n",
        "#         print (\"nothing found\", file_name, df_annotations.phase.iloc[i])\n",
        "#         text = \" \".join(pages)\n",
        "#         if len(text) > 100000:\n",
        "#             text = text[:100000]\n",
        "#     else:\n",
        "#         print (\"found\", file_name, df_annotations.phase.iloc[i])\n",
        "\n",
        "#     texts.append(text)\n",
        "# df_annotations[\"text\"] = texts"
      ]
    },
    {
      "cell_type": "code",
      "execution_count": 5,
      "id": "76a39c5b",
      "metadata": {
        "id": "76a39c5b"
      },
      "outputs": [],
      "source": [
        "# df_annotations.to_csv(\"filtered_for_phase.csv.bz2\")"
      ]
    },
    {
      "cell_type": "code",
      "source": [
        "from google.colab import drive\n",
        "drive.mount('/content/drive')"
      ],
      "metadata": {
        "colab": {
          "base_uri": "https://localhost:8080/"
        },
        "id": "xCe1anFkGSrt",
        "outputId": "36f784a4-de40-4121-df9c-cb577356d179"
      },
      "id": "xCe1anFkGSrt",
      "execution_count": 6,
      "outputs": [
        {
          "output_type": "stream",
          "name": "stdout",
          "text": [
            "Drive already mounted at /content/drive; to attempt to forcibly remount, call drive.mount(\"/content/drive\", force_remount=True).\n"
          ]
        }
      ]
    },
    {
      "cell_type": "code",
      "source": [
        "df_annotations= pd.read_csv(\"/content/drive/MyDrive/data/filtered_for_phase_arms_subjects_02.csv.bz2\")"
      ],
      "metadata": {
        "id": "FdcTHlHsGWnk"
      },
      "id": "FdcTHlHsGWnk",
      "execution_count": 7,
      "outputs": []
    },
    {
      "cell_type": "code",
      "source": [
        "#df_annotations.text = df_annotations.text.apply(lambda t : t[:10000] if len(t) > 10000 else t)"
      ],
      "metadata": {
        "id": "wGilqqbTi76N"
      },
      "id": "wGilqqbTi76N",
      "execution_count": 8,
      "outputs": []
    },
    {
      "cell_type": "code",
      "source": [
        "def get_num_subjects_clean(num):\n",
        "    if pd.isna(num):\n",
        "        return None\n",
        "    if num >= 10000:\n",
        "        return \"10000+\"\n",
        "    if num >= 1000:\n",
        "        return \"1000+\"\n",
        "    if num >= 500:\n",
        "        return \"500+\"\n",
        "    if num >= 200:\n",
        "        return \"200+\"\n",
        "    if num >= 100:\n",
        "        return \"100+\"\n",
        "    if num >= 50:\n",
        "        return \"50+\"\n",
        "    if num >= 25:\n",
        "        return \"25+\"\n",
        "    return \"1-24\"\n",
        "df_annotations[\"num_subjects_clean\"] = df_annotations[\"num_subjects\"].apply(get_num_subjects_clean)"
      ],
      "metadata": {
        "id": "mZ82V337HouW"
      },
      "id": "mZ82V337HouW",
      "execution_count": 9,
      "outputs": []
    },
    {
      "cell_type": "code",
      "source": [
        "df_annotations[\"num_subjects_clean\"].value_counts()"
      ],
      "metadata": {
        "colab": {
          "base_uri": "https://localhost:8080/"
        },
        "id": "cKMRrJjQIF7U",
        "outputId": "daddf625-2982-4e6f-c143-c19d5d97519b"
      },
      "id": "cKMRrJjQIF7U",
      "execution_count": 10,
      "outputs": [
        {
          "output_type": "execute_result",
          "data": {
            "text/plain": [
              "1-24      2980\n",
              "25+       2119\n",
              "50+       2016\n",
              "100+      1674\n",
              "200+      1656\n",
              "500+       816\n",
              "1000+      547\n",
              "10000+     112\n",
              "Name: num_subjects_clean, dtype: int64"
            ]
          },
          "metadata": {},
          "execution_count": 10
        }
      ]
    },
    {
      "cell_type": "code",
      "execution_count": 11,
      "id": "89e1c4f0",
      "metadata": {
        "id": "89e1c4f0"
      },
      "outputs": [],
      "source": [
        "# df_annotations = pd.read_csv(\"filtered_for_phase.csv.bz2\")"
      ]
    },
    {
      "cell_type": "code",
      "execution_count": 12,
      "id": "a12043ac",
      "metadata": {
        "id": "a12043ac"
      },
      "outputs": [],
      "source": [
        "# del file_to_pages"
      ]
    },
    {
      "cell_type": "code",
      "execution_count": 13,
      "id": "bbe0ba77",
      "metadata": {
        "id": "bbe0ba77"
      },
      "outputs": [],
      "source": [
        "phase_map = {\"Phase 2\":\"2\",\n",
        "\"Phase 3\":\"3\",\n",
        "\"Phase 4\":\"4\",\n",
        "\"Phase 1\":\"1\",\n",
        "\"Phase 1/Phase 2\":\"1.5\",\n",
        "\"Not Applicable\":\"0\",\n",
        "\"Phase 2/Phase 3\":\"2.5\",\n",
        "\"Early Phase 1\":\"0.5\"}\n",
        "df_annotations[\"phase_clean\"] = df_annotations[\"phase\"].apply(lambda x : phase_map.get(x, None))"
      ]
    },
    {
      "cell_type": "code",
      "source": [
        "phase_clean_map = {}\n",
        "for idx, val in enumerate(sorted(set(phase_map.values()), key = lambda x : float(x))):\n",
        "  phase_clean_map[val] = idx\n",
        "# invert the dictionary\n",
        "phase_lookup = {v: k for k, v in phase_clean_map.items()}\n",
        "\n",
        "phase_list = [phase_lookup[x] for x in sorted(phase_lookup)]\n",
        "phase_list"
      ],
      "metadata": {
        "colab": {
          "base_uri": "https://localhost:8080/"
        },
        "id": "DNjQhXOVrQxj",
        "outputId": "df1739b8-c62d-4d1a-d990-d7a0fca35587"
      },
      "id": "DNjQhXOVrQxj",
      "execution_count": 14,
      "outputs": [
        {
          "output_type": "execute_result",
          "data": {
            "text/plain": [
              "['0', '0.5', '1', '1.5', '2', '2.5', '3', '4']"
            ]
          },
          "metadata": {},
          "execution_count": 14
        }
      ]
    },
    {
      "cell_type": "code",
      "execution_count": 15,
      "id": "f99e999b",
      "metadata": {
        "id": "f99e999b"
      },
      "outputs": [],
      "source": [
        "def get_num_arms_clean(num):\n",
        "    if pd.isna(num):\n",
        "        return None\n",
        "    if num >= 5:\n",
        "        num = 5\n",
        "    return num\n",
        "df_annotations[\"num_arms_clean\"] = df_annotations[\"num_arms\"].apply(get_num_arms_clean)"
      ]
    },
    {
      "cell_type": "markdown",
      "source": [
        "# Begin Keras/TF"
      ],
      "metadata": {
        "id": "Tq8Iseh1e_uQ"
      },
      "id": "Tq8Iseh1e_uQ"
    },
    {
      "cell_type": "code",
      "source": [
        "import numpy as np\n",
        "\n",
        "import tensorflow as tf\n",
        "import tensorflow_hub as hub\n",
        "import tensorflow_datasets as tfds\n",
        "\n",
        "import matplotlib.pyplot as plt\n",
        "\n",
        "print(\"Version: \", tf.__version__)\n",
        "print(\"Eager mode: \", tf.executing_eagerly())\n",
        "print(\"Hub version: \", hub.__version__)\n",
        "print(\"GPU is\", \"available\" if tf.config.list_physical_devices('GPU') else \"NOT AVAILABLE\")"
      ],
      "metadata": {
        "id": "eE1-7kc4ceQP",
        "colab": {
          "base_uri": "https://localhost:8080/"
        },
        "outputId": "0f03d4a3-aef3-406d-aa82-c654d9e3be16"
      },
      "id": "eE1-7kc4ceQP",
      "execution_count": 16,
      "outputs": [
        {
          "output_type": "stream",
          "name": "stdout",
          "text": [
            "Version:  2.9.2\n",
            "Eager mode:  True\n",
            "Hub version:  0.12.0\n",
            "GPU is available\n"
          ]
        }
      ]
    },
    {
      "cell_type": "code",
      "source": [
        "num_subjects_clean_map = {}\n",
        "for idx, val in enumerate(sorted(set(df_annotations[~df_annotations.num_subjects_clean.isna()].num_subjects_clean), key = lambda x : int(re.sub(r'\\D.*$', '', x)))):\n",
        "  num_subjects_clean_map[val] = idx"
      ],
      "metadata": {
        "id": "0HHgTj8Qfub9"
      },
      "id": "0HHgTj8Qfub9",
      "execution_count": 17,
      "outputs": []
    },
    {
      "cell_type": "code",
      "source": [
        "# invert the dictionary\n",
        "num_subjects_lookup = {v: k for k, v in num_subjects_clean_map.items()}"
      ],
      "metadata": {
        "id": "6jQQHMvxkC2l"
      },
      "id": "6jQQHMvxkC2l",
      "execution_count": 18,
      "outputs": []
    },
    {
      "cell_type": "code",
      "source": [
        "num_subjects_list = [num_subjects_lookup[x] for x in sorted(num_subjects_lookup)]\n",
        "num_subjects_list"
      ],
      "metadata": {
        "colab": {
          "base_uri": "https://localhost:8080/"
        },
        "id": "C6fm756mlUSk",
        "outputId": "1b57cdd9-a61a-4d50-8cdb-04faa1090d8f"
      },
      "id": "C6fm756mlUSk",
      "execution_count": 19,
      "outputs": [
        {
          "output_type": "execute_result",
          "data": {
            "text/plain": [
              "['1-24', '25+', '50+', '100+', '200+', '500+', '1000+', '10000+']"
            ]
          },
          "metadata": {},
          "execution_count": 19
        }
      ]
    },
    {
      "cell_type": "code",
      "source": [
        "num_subjects_clean_map"
      ],
      "metadata": {
        "colab": {
          "base_uri": "https://localhost:8080/"
        },
        "id": "sDIKJA57hR-K",
        "outputId": "a16dd030-31f5-4187-f5f9-54b838776b35"
      },
      "id": "sDIKJA57hR-K",
      "execution_count": 20,
      "outputs": [
        {
          "output_type": "execute_result",
          "data": {
            "text/plain": [
              "{'1-24': 0,\n",
              " '25+': 1,\n",
              " '50+': 2,\n",
              " '100+': 3,\n",
              " '200+': 4,\n",
              " '500+': 5,\n",
              " '1000+': 6,\n",
              " '10000+': 7}"
            ]
          },
          "metadata": {},
          "execution_count": 20
        }
      ]
    },
    {
      "cell_type": "code",
      "source": [
        "def get_one_hot_num_subjects(x):\n",
        "  a = [0] * len(num_subjects_clean_map)\n",
        "  if x is None:\n",
        "    return a\n",
        "  a[num_subjects_clean_map[x]] = 1\n",
        "  return a"
      ],
      "metadata": {
        "id": "EFTomf_xfjTS"
      },
      "id": "EFTomf_xfjTS",
      "execution_count": 21,
      "outputs": []
    },
    {
      "cell_type": "code",
      "source": [
        "df_annotations[\"num_subjects_one_hot\"] = df_annotations[\"num_subjects_clean\"].apply(get_one_hot_num_subjects)"
      ],
      "metadata": {
        "id": "GCf8jZQZiBbC"
      },
      "id": "GCf8jZQZiBbC",
      "execution_count": 22,
      "outputs": []
    },
    {
      "cell_type": "code",
      "source": [
        "def get_one_hot_num_arms(x):\n",
        "  a = [0] * 5\n",
        "  if x is not None and not pd.isna(x):\n",
        "    a[int(x - 1)] = 1\n",
        "  return a\n",
        "df_annotations[\"num_arms_one_hot\"] = df_annotations[\"num_arms_clean\"].apply(get_one_hot_num_arms)"
      ],
      "metadata": {
        "id": "bGkQ4LeYq3QR"
      },
      "id": "bGkQ4LeYq3QR",
      "execution_count": 24,
      "outputs": []
    },
    {
      "cell_type": "code",
      "source": [
        "def get_one_hot_phase(x):\n",
        "  a = [0] * len(phase_clean_map)\n",
        "  if x is None:\n",
        "    return a\n",
        "  a[phase_clean_map[x]] = 1\n",
        "  return a\n",
        "df_annotations[\"phase_one_hot\"] = df_annotations[\"phase_clean\"].apply(get_one_hot_phase)"
      ],
      "metadata": {
        "id": "POLLhzW_rFvz"
      },
      "id": "POLLhzW_rFvz",
      "execution_count": 25,
      "outputs": []
    },
    {
      "cell_type": "markdown",
      "source": [
        "Concatenate the three bits of one-hot data into one column"
      ],
      "metadata": {
        "id": "ondugbdEsLJ7"
      },
      "id": "ondugbdEsLJ7"
    },
    {
      "cell_type": "code",
      "source": [
        "concatenated_one_hot = []\n",
        "for i in range(len(df_annotations)):\n",
        "  concatenated = list(df_annotations.phase_one_hot.iloc[i]) + \\\n",
        "  list(df_annotations.num_arms_one_hot.iloc[i]) + \\\n",
        "  list(df_annotations.num_subjects_one_hot.iloc[i]) + [df_annotations.has_sap.iloc[i]]\n",
        "  concatenated_one_hot.append(concatenated)\n",
        "df_annotations[\"concatenated_one_hot\"] = concatenated_one_hot"
      ],
      "metadata": {
        "id": "eykeDEeFr56g"
      },
      "id": "eykeDEeFr56g",
      "execution_count": 26,
      "outputs": []
    },
    {
      "cell_type": "code",
      "source": [
        "np.sum(np.asarray([np.asarray(x) for x in df_annotations[\"concatenated_one_hot\"]]), axis=1).mean()"
      ],
      "metadata": {
        "colab": {
          "base_uri": "https://localhost:8080/"
        },
        "id": "eFM7jbfutXfu",
        "outputId": "d4d96ceb-82f5-4721-d9be-676f30237b03"
      },
      "id": "eFM7jbfutXfu",
      "execution_count": 27,
      "outputs": [
        {
          "output_type": "execute_result",
          "data": {
            "text/plain": [
              "nan"
            ]
          },
          "metadata": {},
          "execution_count": 27
        }
      ]
    },
    {
      "cell_type": "code",
      "source": [
        "np.sum(np.asarray([np.asarray(x) for x in df_annotations[\"concatenated_one_hot\"]]), axis=0)"
      ],
      "metadata": {
        "colab": {
          "base_uri": "https://localhost:8080/"
        },
        "id": "YmCgmZh3tmkn",
        "outputId": "86e85243-ab86-4f3b-a5cc-9c26126bf94d"
      },
      "id": "YmCgmZh3tmkn",
      "execution_count": 28,
      "outputs": [
        {
          "output_type": "execute_result",
          "data": {
            "text/plain": [
              "array([ 519.,  135., 1154.,  983., 4317.,  297., 2725., 1461., 3086.,\n",
              "       5228., 1456.,  908.,  913., 2980., 2119., 2016., 1674., 1656.,\n",
              "        816.,  547.,  112.,   nan])"
            ]
          },
          "metadata": {},
          "execution_count": 28
        }
      ]
    },
    {
      "cell_type": "code",
      "source": [
        "num_classes = len(concatenated)\n",
        "print (f\"There are {num_classes} classes in this multi-label classifier\")"
      ],
      "metadata": {
        "colab": {
          "base_uri": "https://localhost:8080/"
        },
        "id": "yuUe_QwxsQRE",
        "outputId": "274a8733-10ae-4971-c732-ba346e51d8c5"
      },
      "id": "yuUe_QwxsQRE",
      "execution_count": 29,
      "outputs": [
        {
          "output_type": "stream",
          "name": "stdout",
          "text": [
            "There are 22 classes in this multi-label classifier\n"
          ]
        }
      ]
    },
    {
      "cell_type": "code",
      "source": [
        "df_train = df_annotations[df_annotations.train_val == \"train\"]\n",
        "df_val = df_annotations[df_annotations.train_val == \"val\"]"
      ],
      "metadata": {
        "id": "F_VhjeihirIu"
      },
      "id": "F_VhjeihirIu",
      "execution_count": 30,
      "outputs": []
    },
    {
      "cell_type": "code",
      "source": [
        "df_train_got_some_ground_truths = df_train[~df_train.num_subjects_clean.isna() | ~df_train.num_arms_clean.isna() | ~df_train.phase_clean.isna()]"
      ],
      "metadata": {
        "id": "pIWANTOGqDkg"
      },
      "id": "pIWANTOGqDkg",
      "execution_count": 31,
      "outputs": []
    },
    {
      "cell_type": "code",
      "source": [
        "len(df_train_got_some_ground_truths), len(df_train)"
      ],
      "metadata": {
        "colab": {
          "base_uri": "https://localhost:8080/"
        },
        "id": "yfw08MW2sYTw",
        "outputId": "47884e5a-24fa-4633-89e3-99d699992a09"
      },
      "id": "yfw08MW2sYTw",
      "execution_count": 32,
      "outputs": [
        {
          "output_type": "execute_result",
          "data": {
            "text/plain": [
              "(9535, 9538)"
            ]
          },
          "metadata": {},
          "execution_count": 32
        }
      ]
    },
    {
      "cell_type": "code",
      "source": [
        "train_labels = np.asarray(list(df_train_got_some_ground_truths.concatenated_one_hot))\n",
        "test_labels = np.asarray(list(df_val.concatenated_one_hot))"
      ],
      "metadata": {
        "id": "0upX622wfjVv"
      },
      "id": "0upX622wfjVv",
      "execution_count": 33,
      "outputs": []
    },
    {
      "cell_type": "code",
      "source": [
        "train_examples = np.asarray(list(df_train_got_some_ground_truths.text))\n",
        "test_examples = np.asarray(list(df_val.text))"
      ],
      "metadata": {
        "id": "YDlX78f5cz_F"
      },
      "id": "YDlX78f5cz_F",
      "execution_count": 34,
      "outputs": []
    },
    {
      "cell_type": "code",
      "source": [
        "print(\"Training entries: {}, test entries: {}\".format(len(train_examples), len(test_examples)))"
      ],
      "metadata": {
        "colab": {
          "base_uri": "https://localhost:8080/"
        },
        "id": "LFDvdJe_fjYD",
        "outputId": "1ed25cc3-8bb9-4361-d23f-0f6721fd76f2"
      },
      "id": "LFDvdJe_fjYD",
      "execution_count": 35,
      "outputs": [
        {
          "output_type": "stream",
          "name": "stdout",
          "text": [
            "Training entries: 9535, test entries: 1085\n"
          ]
        }
      ]
    },
    {
      "cell_type": "code",
      "source": [
        "train_labels[:10]"
      ],
      "metadata": {
        "colab": {
          "base_uri": "https://localhost:8080/"
        },
        "id": "NPk1jhPOfjcH",
        "outputId": "348eab15-ac5c-4893-c914-ce48f4959656"
      },
      "id": "NPk1jhPOfjcH",
      "execution_count": 36,
      "outputs": [
        {
          "output_type": "execute_result",
          "data": {
            "text/plain": [
              "array([[0., 0., 0., 0., 0., 0., 1., 0., 0., 1., 0., 0., 0., 0., 0., 0.,\n",
              "        1., 0., 0., 0., 0., 1.],\n",
              "       [0., 0., 0., 0., 0., 0., 1., 0., 1., 0., 0., 0., 0., 0., 0., 0.,\n",
              "        0., 0., 1., 0., 0., 0.],\n",
              "       [0., 0., 0., 0., 1., 0., 0., 0., 1., 0., 0., 0., 0., 0., 1., 0.,\n",
              "        0., 0., 0., 0., 0., 1.],\n",
              "       [0., 0., 0., 0., 1., 0., 0., 0., 1., 0., 0., 0., 0., 0., 0., 1.,\n",
              "        0., 0., 0., 0., 0., 1.],\n",
              "       [0., 0., 0., 0., 0., 0., 1., 0., 1., 0., 0., 0., 0., 0., 1., 0.,\n",
              "        0., 0., 0., 0., 0., 0.],\n",
              "       [0., 0., 0., 0., 0., 0., 0., 1., 0., 1., 0., 0., 0., 0., 0., 0.,\n",
              "        0., 1., 0., 0., 0., 1.],\n",
              "       [0., 0., 0., 0., 1., 0., 0., 0., 1., 0., 0., 0., 0., 0., 1., 0.,\n",
              "        0., 0., 0., 0., 0., 1.],\n",
              "       [0., 0., 0., 0., 0., 0., 1., 0., 1., 0., 0., 0., 0., 0., 0., 1.,\n",
              "        0., 0., 0., 0., 0., 0.],\n",
              "       [0., 0., 0., 0., 0., 0., 1., 0., 1., 0., 0., 0., 0., 0., 0., 1.,\n",
              "        0., 0., 0., 0., 0., 0.],\n",
              "       [0., 0., 0., 0., 0., 0., 1., 0., 1., 0., 0., 0., 0., 0., 0., 0.,\n",
              "        0., 1., 0., 0., 0., 0.]])"
            ]
          },
          "metadata": {},
          "execution_count": 36
        }
      ]
    },
    {
      "cell_type": "code",
      "source": [
        "model = \"https://tfhub.dev/google/nnlm-en-dim50/2\"\n",
        "hub_layer = hub.KerasLayer(model, input_shape=[], dtype=tf.string, trainable=True)\n",
        "hub_layer(train_examples[:3])"
      ],
      "metadata": {
        "colab": {
          "base_uri": "https://localhost:8080/"
        },
        "id": "Ju7TNdElgQ-P",
        "outputId": "2e252c81-60d7-4e7a-a19c-7055b7491024"
      },
      "id": "Ju7TNdElgQ-P",
      "execution_count": 43,
      "outputs": [
        {
          "output_type": "execute_result",
          "data": {
            "text/plain": [
              "<tf.Tensor: shape=(3, 50), dtype=float32, numpy=\n",
              "array([[ 3.8062613e+00, -8.5627154e-02,  2.1885273e+00,  1.2064425e+00,\n",
              "         1.1741788e+00, -1.6362848e+00, -1.6544684e+00,  1.9301386e+00,\n",
              "        -7.3246288e-01, -2.0803753e-01, -1.8835599e+00, -8.1751305e-01,\n",
              "         1.3482304e+00, -4.1169381e+00,  1.1123058e+00, -2.7861402e+00,\n",
              "         3.6909611e+00, -2.2455294e+00,  1.1222224e+00,  1.9886566e+00,\n",
              "        -1.0249604e-01,  2.6178288e+00,  3.5085483e+00, -7.0547515e-01,\n",
              "         1.2558808e+00, -1.6434602e+00, -1.1090916e+00,  4.3890409e+00,\n",
              "        -1.7149318e+00, -2.8435621e+00,  1.0796951e+00,  2.6536503e+00,\n",
              "        -3.8684306e-01, -3.1688907e+00,  1.0274379e-01, -2.0242805e+00,\n",
              "         2.3353672e+00, -1.7880658e+00,  5.3773862e-01, -1.0440906e+00,\n",
              "        -9.3668759e-01, -1.6973139e+00, -1.4264782e-01,  2.6114061e+00,\n",
              "         5.0076956e-01, -1.2994319e+00,  9.0301037e-01, -1.4811747e+00,\n",
              "         8.1332225e-01,  2.3800061e+00],\n",
              "       [ 2.5299299e+00,  6.9842733e-02,  1.2200273e+00,  8.4425837e-01,\n",
              "         5.9937924e-01, -1.0244265e+00, -9.2848974e-01,  1.2883713e+00,\n",
              "        -5.4952449e-01, -1.3766880e-01, -1.3184690e+00, -3.8536155e-01,\n",
              "         3.2475236e-01, -2.4055672e+00,  7.8073001e-01, -1.3195676e+00,\n",
              "         1.4582082e+00, -1.1922650e+00,  6.4574677e-01,  1.1451379e+00,\n",
              "        -3.6335005e-03,  8.1105644e-01,  1.6614536e+00,  7.0692167e-02,\n",
              "         1.5279856e-01, -9.9357730e-01, -5.5831790e-01,  1.4943976e+00,\n",
              "        -9.0663010e-01, -1.4006202e+00,  1.9310248e-01,  1.0247235e+00,\n",
              "        -6.5576650e-02, -1.7880753e+00, -4.0788367e-01, -1.2515424e+00,\n",
              "         8.9619911e-01, -1.0979604e+00, -9.6578687e-02, -5.5380207e-01,\n",
              "        -1.7643718e-01,  1.7039146e-02, -3.2528803e-01,  1.9876856e+00,\n",
              "         5.2700825e-02, -1.2491058e+00,  1.1346469e-01, -4.4258308e-01,\n",
              "         5.7714480e-01,  1.6421361e+00],\n",
              "       [ 3.1315677e+00, -1.4949707e+00,  1.7751954e+00,  3.2980654e-01,\n",
              "         1.0419462e+00, -2.3750334e+00, -1.1761595e+00,  2.2303872e+00,\n",
              "        -1.2242346e+00, -2.9328495e-01, -1.5865028e+00, -2.7982643e-01,\n",
              "         1.7525562e+00, -4.0603199e+00, -2.5970027e-01, -2.3546319e+00,\n",
              "         4.7730613e+00, -1.0558661e+00,  1.3674231e+00,  1.4121630e+00,\n",
              "         6.2468117e-01,  1.8053319e+00,  2.6160557e+00,  2.6594770e-01,\n",
              "         7.6969761e-01, -1.9515115e+00,  1.3513342e-01,  5.1477046e+00,\n",
              "        -1.9099628e+00, -2.3477449e+00,  8.9626384e-01,  1.9337162e+00,\n",
              "         2.7819487e-01, -1.4370100e+00,  1.1726424e+00, -1.0679307e+00,\n",
              "         2.5728991e+00, -1.7260441e+00,  4.2059946e-01, -9.4905460e-01,\n",
              "        -2.4920563e-01, -1.6811064e+00,  1.4859284e-01,  2.0329008e+00,\n",
              "         6.2556720e-01, -1.3739069e+00,  3.1094185e-01, -1.5155188e+00,\n",
              "         1.5543662e+00,  1.2640179e+00]], dtype=float32)>"
            ]
          },
          "metadata": {},
          "execution_count": 43
        }
      ]
    },
    {
      "cell_type": "code",
      "source": [
        "model = tf.keras.Sequential()\n",
        "model.add(hub_layer)\n",
        "model.add(tf.keras.layers.Dense(16, activation='relu'))\n",
        "model.add(tf.keras.layers.Dense(num_classes, activation='sigmoid'))\n",
        "\n",
        "model.summary()"
      ],
      "metadata": {
        "colab": {
          "base_uri": "https://localhost:8080/"
        },
        "id": "XVwvmzuQgRAQ",
        "outputId": "d7a306d0-7c19-4c14-d07e-86dca7429700"
      },
      "id": "XVwvmzuQgRAQ",
      "execution_count": 44,
      "outputs": [
        {
          "output_type": "stream",
          "name": "stdout",
          "text": [
            "Model: \"sequential_1\"\n",
            "_________________________________________________________________\n",
            " Layer (type)                Output Shape              Param #   \n",
            "=================================================================\n",
            " keras_layer_1 (KerasLayer)  (None, 50)                48190600  \n",
            "                                                                 \n",
            " dense_2 (Dense)             (None, 16)                816       \n",
            "                                                                 \n",
            " dense_3 (Dense)             (None, 22)                374       \n",
            "                                                                 \n",
            "=================================================================\n",
            "Total params: 48,191,790\n",
            "Trainable params: 48,191,790\n",
            "Non-trainable params: 0\n",
            "_________________________________________________________________\n"
          ]
        }
      ]
    },
    {
      "cell_type": "code",
      "source": [
        "model.compile(optimizer='adam',\n",
        "              loss=tf.losses.BinaryCrossentropy(),\n",
        "              metrics=[tf.metrics.BinaryAccuracy(name='accuracy'), tf.metrics.AUC(name='auc')],\n",
        "              run_eagerly=True)"
      ],
      "metadata": {
        "id": "4grRdQTWgRCY"
      },
      "id": "4grRdQTWgRCY",
      "execution_count": 45,
      "outputs": []
    },
    {
      "cell_type": "code",
      "source": [
        "# x_val = train_examples[:10000]\n",
        "# partial_x_train = train_examples[10000:]\n",
        "\n",
        "# y_val = train_labels[:10000]\n",
        "# partial_y_train = train_labels[10000:]\n",
        "\n",
        "partial_x_train = train_examples\n",
        "x_val = test_examples\n",
        "\n",
        "partial_y_train = train_labels\n",
        "y_val = test_labels"
      ],
      "metadata": {
        "id": "--LLz2FYgREf"
      },
      "id": "--LLz2FYgREf",
      "execution_count": 46,
      "outputs": []
    },
    {
      "cell_type": "code",
      "source": [
        "history = model.fit(partial_x_train,\n",
        "                    partial_y_train,\n",
        "                    epochs=100,\n",
        "                    batch_size=512,\n",
        "                    validation_data=(x_val, y_val),\n",
        "                    verbose=1)"
      ],
      "metadata": {
        "colab": {
          "base_uri": "https://localhost:8080/"
        },
        "id": "zEMElK4ygRGg",
        "outputId": "6da57992-4b0e-4d1b-f161-06fece3f8ad0"
      },
      "id": "zEMElK4ygRGg",
      "execution_count": 42,
      "outputs": [
        {
          "output_type": "stream",
          "name": "stdout",
          "text": [
            "Epoch 1/100\n",
            "19/19 [==============================] - 5s 280ms/step - loss: 0.6225 - accuracy: 0.6755 - auc: 0.5407 - val_loss: 0.5476 - val_accuracy: 0.7465 - val_auc: 0.5439\n",
            "Epoch 2/100\n",
            "19/19 [==============================] - 5s 262ms/step - loss: 0.5071 - accuracy: 0.7918 - auc: 0.5723 - val_loss: 0.4671 - val_accuracy: 0.8307 - val_auc: 0.6227\n",
            "Epoch 3/100\n",
            "19/19 [==============================] - 5s 264ms/step - loss: 0.4421 - accuracy: 0.8434 - auc: 0.6544 - val_loss: 0.4190 - val_accuracy: 0.8486 - val_auc: 0.6890\n",
            "Epoch 4/100\n",
            "19/19 [==============================] - 5s 263ms/step - loss: 0.4055 - accuracy: 0.8529 - auc: 0.7148 - val_loss: 0.3960 - val_accuracy: 0.8543 - val_auc: 0.7304\n",
            "Epoch 5/100\n",
            "19/19 [==============================] - 5s 263ms/step - loss: 0.3883 - accuracy: 0.8564 - auc: 0.7422 - val_loss: 0.3854 - val_accuracy: 0.8561 - val_auc: 0.7453\n",
            "Epoch 6/100\n",
            "19/19 [==============================] - 5s 262ms/step - loss: 0.3783 - accuracy: 0.8579 - auc: 0.7565 - val_loss: 0.3790 - val_accuracy: 0.8568 - val_auc: 0.7532\n",
            "Epoch 7/100\n",
            "19/19 [==============================] - 5s 259ms/step - loss: 0.3708 - accuracy: 0.8595 - auc: 0.7672 - val_loss: 0.3741 - val_accuracy: 0.8577 - val_auc: 0.7603\n",
            "Epoch 8/100\n",
            "19/19 [==============================] - 5s 262ms/step - loss: 0.3642 - accuracy: 0.8604 - auc: 0.7775 - val_loss: 0.3692 - val_accuracy: 0.8583 - val_auc: 0.7677\n",
            "Epoch 9/100\n",
            "19/19 [==============================] - 5s 262ms/step - loss: 0.3574 - accuracy: 0.8620 - auc: 0.7872 - val_loss: 0.3638 - val_accuracy: 0.8589 - val_auc: 0.7745\n",
            "Epoch 10/100\n",
            "19/19 [==============================] - 5s 263ms/step - loss: 0.3499 - accuracy: 0.8632 - auc: 0.7978 - val_loss: 0.3585 - val_accuracy: 0.8597 - val_auc: 0.7828\n",
            "Epoch 11/100\n",
            "19/19 [==============================] - 5s 264ms/step - loss: 0.3423 - accuracy: 0.8656 - auc: 0.8087 - val_loss: 0.3530 - val_accuracy: 0.8610 - val_auc: 0.7904\n",
            "Epoch 12/100\n",
            "19/19 [==============================] - 5s 260ms/step - loss: 0.3348 - accuracy: 0.8685 - auc: 0.8194 - val_loss: 0.3477 - val_accuracy: 0.8641 - val_auc: 0.7978\n",
            "Epoch 13/100\n",
            "19/19 [==============================] - 5s 262ms/step - loss: 0.3274 - accuracy: 0.8716 - auc: 0.8292 - val_loss: 0.3426 - val_accuracy: 0.8664 - val_auc: 0.8057\n",
            "Epoch 14/100\n",
            "19/19 [==============================] - 5s 264ms/step - loss: 0.3198 - accuracy: 0.8751 - auc: 0.8395 - val_loss: 0.3377 - val_accuracy: 0.8682 - val_auc: 0.8125\n",
            "Epoch 15/100\n",
            "19/19 [==============================] - 5s 264ms/step - loss: 0.3123 - accuracy: 0.8778 - auc: 0.8489 - val_loss: 0.3332 - val_accuracy: 0.8709 - val_auc: 0.8187\n",
            "Epoch 16/100\n",
            "19/19 [==============================] - 5s 265ms/step - loss: 0.3049 - accuracy: 0.8804 - auc: 0.8584 - val_loss: 0.3293 - val_accuracy: 0.8721 - val_auc: 0.8240\n",
            "Epoch 17/100\n",
            "19/19 [==============================] - 5s 264ms/step - loss: 0.2976 - accuracy: 0.8832 - auc: 0.8664 - val_loss: 0.3253 - val_accuracy: 0.8734 - val_auc: 0.8295\n",
            "Epoch 18/100\n",
            "19/19 [==============================] - 5s 262ms/step - loss: 0.2905 - accuracy: 0.8857 - auc: 0.8746 - val_loss: 0.3214 - val_accuracy: 0.8753 - val_auc: 0.8341\n",
            "Epoch 19/100\n",
            "19/19 [==============================] - 5s 262ms/step - loss: 0.2833 - accuracy: 0.8887 - auc: 0.8821 - val_loss: 0.3190 - val_accuracy: 0.8755 - val_auc: 0.8371\n",
            "Epoch 20/100\n",
            "19/19 [==============================] - 5s 261ms/step - loss: 0.2767 - accuracy: 0.8914 - auc: 0.8886 - val_loss: 0.3154 - val_accuracy: 0.8771 - val_auc: 0.8419\n",
            "Epoch 21/100\n",
            "19/19 [==============================] - 5s 259ms/step - loss: 0.2701 - accuracy: 0.8941 - auc: 0.8951 - val_loss: 0.3130 - val_accuracy: 0.8772 - val_auc: 0.8445\n",
            "Epoch 22/100\n",
            "19/19 [==============================] - 5s 266ms/step - loss: 0.2636 - accuracy: 0.8968 - auc: 0.9008 - val_loss: 0.3112 - val_accuracy: 0.8775 - val_auc: 0.8470\n",
            "Epoch 23/100\n",
            "19/19 [==============================] - 5s 263ms/step - loss: 0.2574 - accuracy: 0.8990 - auc: 0.9064 - val_loss: 0.3093 - val_accuracy: 0.8778 - val_auc: 0.8496\n",
            "Epoch 24/100\n",
            "19/19 [==============================] - 5s 259ms/step - loss: 0.2512 - accuracy: 0.9019 - auc: 0.9118 - val_loss: 0.3080 - val_accuracy: 0.8786 - val_auc: 0.8509\n",
            "Epoch 25/100\n",
            "19/19 [==============================] - 5s 260ms/step - loss: 0.2455 - accuracy: 0.9041 - auc: 0.9165 - val_loss: 0.3065 - val_accuracy: 0.8801 - val_auc: 0.8530\n",
            "Epoch 26/100\n",
            "19/19 [==============================] - 5s 265ms/step - loss: 0.2393 - accuracy: 0.9069 - auc: 0.9211 - val_loss: 0.3051 - val_accuracy: 0.8791 - val_auc: 0.8552\n",
            "Epoch 27/100\n",
            "19/19 [==============================] - 5s 262ms/step - loss: 0.2334 - accuracy: 0.9094 - auc: 0.9259 - val_loss: 0.3049 - val_accuracy: 0.8792 - val_auc: 0.8556\n",
            "Epoch 28/100\n",
            "19/19 [==============================] - 5s 263ms/step - loss: 0.2277 - accuracy: 0.9119 - auc: 0.9300 - val_loss: 0.3051 - val_accuracy: 0.8790 - val_auc: 0.8561\n",
            "Epoch 29/100\n",
            "19/19 [==============================] - 5s 262ms/step - loss: 0.2225 - accuracy: 0.9140 - auc: 0.9338 - val_loss: 0.3043 - val_accuracy: 0.8796 - val_auc: 0.8574\n",
            "Epoch 30/100\n",
            "19/19 [==============================] - 5s 264ms/step - loss: 0.2169 - accuracy: 0.9167 - auc: 0.9377 - val_loss: 0.3041 - val_accuracy: 0.8806 - val_auc: 0.8585\n",
            "Epoch 31/100\n",
            "19/19 [==============================] - 5s 266ms/step - loss: 0.2115 - accuracy: 0.9190 - auc: 0.9413 - val_loss: 0.3044 - val_accuracy: 0.8803 - val_auc: 0.8588\n",
            "Epoch 32/100\n",
            "19/19 [==============================] - 5s 262ms/step - loss: 0.2060 - accuracy: 0.9217 - auc: 0.9448 - val_loss: 0.3049 - val_accuracy: 0.8803 - val_auc: 0.8590\n",
            "Epoch 33/100\n",
            "19/19 [==============================] - 5s 265ms/step - loss: 0.2009 - accuracy: 0.9239 - auc: 0.9479 - val_loss: 0.3057 - val_accuracy: 0.8799 - val_auc: 0.8587\n",
            "Epoch 34/100\n",
            "19/19 [==============================] - 5s 262ms/step - loss: 0.1958 - accuracy: 0.9262 - auc: 0.9509 - val_loss: 0.3068 - val_accuracy: 0.8801 - val_auc: 0.8589\n",
            "Epoch 35/100\n",
            "19/19 [==============================] - 5s 265ms/step - loss: 0.1905 - accuracy: 0.9288 - auc: 0.9539 - val_loss: 0.3076 - val_accuracy: 0.8797 - val_auc: 0.8589\n",
            "Epoch 36/100\n",
            "19/19 [==============================] - 5s 260ms/step - loss: 0.1855 - accuracy: 0.9312 - auc: 0.9568 - val_loss: 0.3092 - val_accuracy: 0.8792 - val_auc: 0.8585\n",
            "Epoch 37/100\n",
            "19/19 [==============================] - 5s 263ms/step - loss: 0.1805 - accuracy: 0.9333 - auc: 0.9594 - val_loss: 0.3106 - val_accuracy: 0.8792 - val_auc: 0.8580\n",
            "Epoch 38/100\n",
            "19/19 [==============================] - 5s 265ms/step - loss: 0.1756 - accuracy: 0.9355 - auc: 0.9618 - val_loss: 0.3121 - val_accuracy: 0.8789 - val_auc: 0.8581\n",
            "Epoch 39/100\n",
            "19/19 [==============================] - 5s 261ms/step - loss: 0.1709 - accuracy: 0.9376 - auc: 0.9642 - val_loss: 0.3134 - val_accuracy: 0.8782 - val_auc: 0.8578\n",
            "Epoch 40/100\n",
            "19/19 [==============================] - 5s 261ms/step - loss: 0.1665 - accuracy: 0.9395 - auc: 0.9662 - val_loss: 0.3162 - val_accuracy: 0.8780 - val_auc: 0.8561\n",
            "Epoch 41/100\n",
            "19/19 [==============================] - 5s 260ms/step - loss: 0.1618 - accuracy: 0.9419 - auc: 0.9685 - val_loss: 0.3182 - val_accuracy: 0.8794 - val_auc: 0.8567\n",
            "Epoch 42/100\n",
            "19/19 [==============================] - 5s 264ms/step - loss: 0.1574 - accuracy: 0.9438 - auc: 0.9704 - val_loss: 0.3200 - val_accuracy: 0.8772 - val_auc: 0.8564\n",
            "Epoch 43/100\n",
            "19/19 [==============================] - 5s 262ms/step - loss: 0.1531 - accuracy: 0.9457 - auc: 0.9720 - val_loss: 0.3239 - val_accuracy: 0.8782 - val_auc: 0.8543\n",
            "Epoch 44/100\n",
            "19/19 [==============================] - 5s 263ms/step - loss: 0.1488 - accuracy: 0.9477 - auc: 0.9738 - val_loss: 0.3254 - val_accuracy: 0.8779 - val_auc: 0.8541\n",
            "Epoch 45/100\n",
            "19/19 [==============================] - 5s 265ms/step - loss: 0.1445 - accuracy: 0.9499 - auc: 0.9756 - val_loss: 0.3287 - val_accuracy: 0.8777 - val_auc: 0.8535\n",
            "Epoch 46/100\n",
            "19/19 [==============================] - 5s 264ms/step - loss: 0.1404 - accuracy: 0.9518 - auc: 0.9771 - val_loss: 0.3323 - val_accuracy: 0.8767 - val_auc: 0.8531\n",
            "Epoch 47/100\n",
            "19/19 [==============================] - 5s 262ms/step - loss: 0.1366 - accuracy: 0.9535 - auc: 0.9783 - val_loss: 0.3358 - val_accuracy: 0.8767 - val_auc: 0.8511\n",
            "Epoch 48/100\n",
            "19/19 [==============================] - 5s 261ms/step - loss: 0.1327 - accuracy: 0.9555 - auc: 0.9799 - val_loss: 0.3393 - val_accuracy: 0.8765 - val_auc: 0.8503\n",
            "Epoch 49/100\n",
            "19/19 [==============================] - 5s 263ms/step - loss: 0.1291 - accuracy: 0.9571 - auc: 0.9810 - val_loss: 0.3429 - val_accuracy: 0.8758 - val_auc: 0.8498\n",
            "Epoch 50/100\n",
            "19/19 [==============================] - 5s 260ms/step - loss: 0.1253 - accuracy: 0.9586 - auc: 0.9822 - val_loss: 0.3470 - val_accuracy: 0.8757 - val_auc: 0.8488\n",
            "Epoch 51/100\n",
            "19/19 [==============================] - 5s 261ms/step - loss: 0.1222 - accuracy: 0.9601 - auc: 0.9831 - val_loss: 0.3493 - val_accuracy: 0.8748 - val_auc: 0.8486\n",
            "Epoch 52/100\n",
            "19/19 [==============================] - 5s 265ms/step - loss: 0.1188 - accuracy: 0.9616 - auc: 0.9843 - val_loss: 0.3548 - val_accuracy: 0.8748 - val_auc: 0.8466\n",
            "Epoch 53/100\n",
            "19/19 [==============================] - 5s 263ms/step - loss: 0.1153 - accuracy: 0.9632 - auc: 0.9852 - val_loss: 0.3570 - val_accuracy: 0.8743 - val_auc: 0.8475\n",
            "Epoch 54/100\n",
            "19/19 [==============================] - 5s 263ms/step - loss: 0.1120 - accuracy: 0.9645 - auc: 0.9862 - val_loss: 0.3629 - val_accuracy: 0.8746 - val_auc: 0.8450\n",
            "Epoch 55/100\n",
            "19/19 [==============================] - 5s 263ms/step - loss: 0.1090 - accuracy: 0.9658 - auc: 0.9870 - val_loss: 0.3669 - val_accuracy: 0.8733 - val_auc: 0.8435\n",
            "Epoch 56/100\n",
            "19/19 [==============================] - 5s 262ms/step - loss: 0.1058 - accuracy: 0.9671 - auc: 0.9878 - val_loss: 0.3716 - val_accuracy: 0.8734 - val_auc: 0.8436\n",
            "Epoch 57/100\n",
            "19/19 [==============================] - 5s 262ms/step - loss: 0.1027 - accuracy: 0.9687 - auc: 0.9886 - val_loss: 0.3749 - val_accuracy: 0.8731 - val_auc: 0.8422\n",
            "Epoch 58/100\n",
            "19/19 [==============================] - 5s 264ms/step - loss: 0.0999 - accuracy: 0.9697 - auc: 0.9893 - val_loss: 0.3775 - val_accuracy: 0.8713 - val_auc: 0.8424\n",
            "Epoch 59/100\n",
            "19/19 [==============================] - 5s 265ms/step - loss: 0.0971 - accuracy: 0.9711 - auc: 0.9899 - val_loss: 0.3839 - val_accuracy: 0.8717 - val_auc: 0.8398\n",
            "Epoch 60/100\n",
            "19/19 [==============================] - 5s 264ms/step - loss: 0.0942 - accuracy: 0.9722 - auc: 0.9906 - val_loss: 0.3881 - val_accuracy: 0.8724 - val_auc: 0.8394\n",
            "Epoch 61/100\n",
            "19/19 [==============================] - 5s 262ms/step - loss: 0.0916 - accuracy: 0.9735 - auc: 0.9911 - val_loss: 0.3938 - val_accuracy: 0.8716 - val_auc: 0.8386\n",
            "Epoch 62/100\n",
            "19/19 [==============================] - 5s 263ms/step - loss: 0.0890 - accuracy: 0.9744 - auc: 0.9917 - val_loss: 0.3993 - val_accuracy: 0.8724 - val_auc: 0.8371\n",
            "Epoch 63/100\n",
            "19/19 [==============================] - 5s 263ms/step - loss: 0.0865 - accuracy: 0.9755 - auc: 0.9922 - val_loss: 0.4029 - val_accuracy: 0.8713 - val_auc: 0.8360\n",
            "Epoch 64/100\n",
            "19/19 [==============================] - 5s 262ms/step - loss: 0.0841 - accuracy: 0.9764 - auc: 0.9926 - val_loss: 0.4081 - val_accuracy: 0.8707 - val_auc: 0.8357\n",
            "Epoch 65/100\n",
            "19/19 [==============================] - 5s 265ms/step - loss: 0.0817 - accuracy: 0.9774 - auc: 0.9931 - val_loss: 0.4127 - val_accuracy: 0.8705 - val_auc: 0.8345\n",
            "Epoch 66/100\n",
            "19/19 [==============================] - 5s 261ms/step - loss: 0.0791 - accuracy: 0.9785 - auc: 0.9936 - val_loss: 0.4186 - val_accuracy: 0.8707 - val_auc: 0.8333\n",
            "Epoch 67/100\n",
            "19/19 [==============================] - 5s 262ms/step - loss: 0.0769 - accuracy: 0.9794 - auc: 0.9940 - val_loss: 0.4225 - val_accuracy: 0.8697 - val_auc: 0.8337\n",
            "Epoch 68/100\n",
            "19/19 [==============================] - 5s 261ms/step - loss: 0.0747 - accuracy: 0.9801 - auc: 0.9944 - val_loss: 0.4274 - val_accuracy: 0.8701 - val_auc: 0.8321\n",
            "Epoch 69/100\n",
            "19/19 [==============================] - 5s 261ms/step - loss: 0.0725 - accuracy: 0.9811 - auc: 0.9948 - val_loss: 0.4323 - val_accuracy: 0.8691 - val_auc: 0.8315\n",
            "Epoch 70/100\n",
            "19/19 [==============================] - 5s 260ms/step - loss: 0.0702 - accuracy: 0.9821 - auc: 0.9951 - val_loss: 0.4376 - val_accuracy: 0.8691 - val_auc: 0.8296\n",
            "Epoch 71/100\n",
            "19/19 [==============================] - 5s 265ms/step - loss: 0.0682 - accuracy: 0.9828 - auc: 0.9955 - val_loss: 0.4442 - val_accuracy: 0.8695 - val_auc: 0.8281\n",
            "Epoch 72/100\n",
            "19/19 [==============================] - 5s 262ms/step - loss: 0.0662 - accuracy: 0.9834 - auc: 0.9958 - val_loss: 0.4481 - val_accuracy: 0.8693 - val_auc: 0.8294\n",
            "Epoch 73/100\n",
            "19/19 [==============================] - 5s 262ms/step - loss: 0.0642 - accuracy: 0.9843 - auc: 0.9960 - val_loss: 0.4549 - val_accuracy: 0.8692 - val_auc: 0.8260\n",
            "Epoch 74/100\n",
            "19/19 [==============================] - 5s 260ms/step - loss: 0.0622 - accuracy: 0.9849 - auc: 0.9963 - val_loss: 0.4605 - val_accuracy: 0.8683 - val_auc: 0.8255\n",
            "Epoch 75/100\n",
            "19/19 [==============================] - 5s 263ms/step - loss: 0.0603 - accuracy: 0.9856 - auc: 0.9965 - val_loss: 0.4658 - val_accuracy: 0.8687 - val_auc: 0.8246\n",
            "Epoch 76/100\n",
            "19/19 [==============================] - 5s 264ms/step - loss: 0.0587 - accuracy: 0.9861 - auc: 0.9968 - val_loss: 0.4717 - val_accuracy: 0.8691 - val_auc: 0.8247\n",
            "Epoch 77/100\n",
            "19/19 [==============================] - 5s 260ms/step - loss: 0.0568 - accuracy: 0.9868 - auc: 0.9970 - val_loss: 0.4780 - val_accuracy: 0.8687 - val_auc: 0.8223\n",
            "Epoch 78/100\n",
            "19/19 [==============================] - 5s 263ms/step - loss: 0.0550 - accuracy: 0.9872 - auc: 0.9972 - val_loss: 0.4831 - val_accuracy: 0.8680 - val_auc: 0.8222\n",
            "Epoch 79/100\n",
            "19/19 [==============================] - 5s 262ms/step - loss: 0.0532 - accuracy: 0.9877 - auc: 0.9974 - val_loss: 0.4878 - val_accuracy: 0.8677 - val_auc: 0.8221\n",
            "Epoch 80/100\n",
            "19/19 [==============================] - 5s 262ms/step - loss: 0.0516 - accuracy: 0.9882 - auc: 0.9976 - val_loss: 0.4960 - val_accuracy: 0.8681 - val_auc: 0.8205\n",
            "Epoch 81/100\n",
            "19/19 [==============================] - 5s 263ms/step - loss: 0.0501 - accuracy: 0.9886 - auc: 0.9977 - val_loss: 0.5001 - val_accuracy: 0.8680 - val_auc: 0.8199\n",
            "Epoch 82/100\n",
            "19/19 [==============================] - 5s 263ms/step - loss: 0.0485 - accuracy: 0.9891 - auc: 0.9979 - val_loss: 0.5069 - val_accuracy: 0.8683 - val_auc: 0.8196\n",
            "Epoch 83/100\n",
            "19/19 [==============================] - 5s 260ms/step - loss: 0.0470 - accuracy: 0.9896 - auc: 0.9981 - val_loss: 0.5120 - val_accuracy: 0.8677 - val_auc: 0.8173\n",
            "Epoch 84/100\n",
            "19/19 [==============================] - 5s 262ms/step - loss: 0.0455 - accuracy: 0.9900 - auc: 0.9982 - val_loss: 0.5206 - val_accuracy: 0.8684 - val_auc: 0.8173\n",
            "Epoch 85/100\n",
            "19/19 [==============================] - 5s 260ms/step - loss: 0.0441 - accuracy: 0.9905 - auc: 0.9983 - val_loss: 0.5257 - val_accuracy: 0.8675 - val_auc: 0.8158\n",
            "Epoch 86/100\n",
            "19/19 [==============================] - 5s 264ms/step - loss: 0.0426 - accuracy: 0.9911 - auc: 0.9984 - val_loss: 0.5312 - val_accuracy: 0.8681 - val_auc: 0.8159\n",
            "Epoch 87/100\n",
            "19/19 [==============================] - 5s 260ms/step - loss: 0.0410 - accuracy: 0.9915 - auc: 0.9986 - val_loss: 0.5379 - val_accuracy: 0.8674 - val_auc: 0.8151\n",
            "Epoch 88/100\n",
            "19/19 [==============================] - 5s 264ms/step - loss: 0.0397 - accuracy: 0.9919 - auc: 0.9986 - val_loss: 0.5450 - val_accuracy: 0.8677 - val_auc: 0.8145\n",
            "Epoch 89/100\n",
            "19/19 [==============================] - 5s 261ms/step - loss: 0.0384 - accuracy: 0.9922 - auc: 0.9987 - val_loss: 0.5499 - val_accuracy: 0.8667 - val_auc: 0.8132\n",
            "Epoch 90/100\n",
            "19/19 [==============================] - 5s 264ms/step - loss: 0.0370 - accuracy: 0.9928 - auc: 0.9988 - val_loss: 0.5560 - val_accuracy: 0.8677 - val_auc: 0.8138\n",
            "Epoch 91/100\n",
            "19/19 [==============================] - 5s 262ms/step - loss: 0.0358 - accuracy: 0.9930 - auc: 0.9989 - val_loss: 0.5616 - val_accuracy: 0.8676 - val_auc: 0.8126\n",
            "Epoch 92/100\n",
            "19/19 [==============================] - 5s 263ms/step - loss: 0.0345 - accuracy: 0.9934 - auc: 0.9990 - val_loss: 0.5687 - val_accuracy: 0.8674 - val_auc: 0.8115\n",
            "Epoch 93/100\n",
            "19/19 [==============================] - 5s 263ms/step - loss: 0.0335 - accuracy: 0.9936 - auc: 0.9990 - val_loss: 0.5738 - val_accuracy: 0.8675 - val_auc: 0.8109\n",
            "Epoch 94/100\n",
            "19/19 [==============================] - 5s 261ms/step - loss: 0.0324 - accuracy: 0.9940 - auc: 0.9991 - val_loss: 0.5802 - val_accuracy: 0.8673 - val_auc: 0.8104\n",
            "Epoch 95/100\n",
            "19/19 [==============================] - 5s 267ms/step - loss: 0.0314 - accuracy: 0.9943 - auc: 0.9991 - val_loss: 0.5878 - val_accuracy: 0.8674 - val_auc: 0.8089\n",
            "Epoch 96/100\n",
            "19/19 [==============================] - 5s 265ms/step - loss: 0.0302 - accuracy: 0.9946 - auc: 0.9992 - val_loss: 0.5955 - val_accuracy: 0.8672 - val_auc: 0.8077\n",
            "Epoch 97/100\n",
            "19/19 [==============================] - 5s 263ms/step - loss: 0.0290 - accuracy: 0.9948 - auc: 0.9993 - val_loss: 0.5997 - val_accuracy: 0.8675 - val_auc: 0.8080\n",
            "Epoch 98/100\n",
            "19/19 [==============================] - 5s 261ms/step - loss: 0.0279 - accuracy: 0.9953 - auc: 0.9994 - val_loss: 0.6079 - val_accuracy: 0.8669 - val_auc: 0.8063\n",
            "Epoch 99/100\n",
            "19/19 [==============================] - 5s 263ms/step - loss: 0.0271 - accuracy: 0.9954 - auc: 0.9994 - val_loss: 0.6135 - val_accuracy: 0.8676 - val_auc: 0.8061\n",
            "Epoch 100/100\n",
            "19/19 [==============================] - 5s 262ms/step - loss: 0.0263 - accuracy: 0.9957 - auc: 0.9994 - val_loss: 0.6183 - val_accuracy: 0.8668 - val_auc: 0.8057\n"
          ]
        }
      ]
    },
    {
      "cell_type": "code",
      "source": [
        "model.save('phase_arm_num_subjects_model_10_keras.keras')"
      ],
      "metadata": {
        "id": "5DLaUL_7gRIy"
      },
      "id": "5DLaUL_7gRIy",
      "execution_count": 47,
      "outputs": []
    },
    {
      "cell_type": "code",
      "source": [
        "model.save(\"/content/drive/MyDrive/data/phase_arm_num_subjects_model_10_keras.keras\")"
      ],
      "metadata": {
        "id": "lYKFZVGigRKg"
      },
      "id": "lYKFZVGigRKg",
      "execution_count": 48,
      "outputs": []
    },
    {
      "cell_type": "code",
      "source": [
        "results = model.evaluate(test_examples, test_labels)\n",
        "\n",
        "print(results)"
      ],
      "metadata": {
        "colab": {
          "base_uri": "https://localhost:8080/"
        },
        "id": "x6i0VsDEgdgm",
        "outputId": "2adcf8d6-597e-48b9-93ac-fed79e248223"
      },
      "id": "x6i0VsDEgdgm",
      "execution_count": 49,
      "outputs": [
        {
          "output_type": "stream",
          "name": "stdout",
          "text": [
            "34/34 [==============================] - 1s 29ms/step - loss: 0.8922 - accuracy: 0.4183 - auc: 0.4214\n",
            "[0.892178475856781, 0.41826561093330383, 0.42143940925598145]\n"
          ]
        }
      ]
    },
    {
      "cell_type": "code",
      "source": [
        "history_dict = history.history\n",
        "history_dict.keys()"
      ],
      "metadata": {
        "colab": {
          "base_uri": "https://localhost:8080/"
        },
        "id": "6rg2XlFpgdi4",
        "outputId": "a3367017-e33d-4ad0-9de9-e42d430a08f0"
      },
      "id": "6rg2XlFpgdi4",
      "execution_count": 50,
      "outputs": [
        {
          "output_type": "execute_result",
          "data": {
            "text/plain": [
              "dict_keys(['loss', 'accuracy', 'auc', 'val_loss', 'val_accuracy', 'val_auc'])"
            ]
          },
          "metadata": {},
          "execution_count": 50
        }
      ]
    },
    {
      "cell_type": "code",
      "source": [
        "acc = history_dict['accuracy']\n",
        "val_acc = history_dict['val_accuracy']\n",
        "loss = history_dict['loss']\n",
        "val_loss = history_dict['val_loss']\n",
        "\n",
        "epochs = range(1, len(acc) + 1)\n",
        "\n",
        "# \"bo\" is for \"blue dot\"\n",
        "plt.plot(epochs, loss, 'bo', label='Training loss')\n",
        "# b is for \"solid blue line\"\n",
        "plt.plot(epochs, val_loss, 'b', label='Validation loss')\n",
        "plt.title('Training and validation loss')\n",
        "plt.xlabel('Epochs')\n",
        "plt.ylabel('Loss')\n",
        "plt.legend()\n",
        "\n",
        "plt.show()"
      ],
      "metadata": {
        "colab": {
          "base_uri": "https://localhost:8080/",
          "height": 295
        },
        "id": "6wjt4B0IgdlS",
        "outputId": "f6a0dbaf-700d-4cd2-edb4-44e2a382a246"
      },
      "id": "6wjt4B0IgdlS",
      "execution_count": 51,
      "outputs": [
        {
          "output_type": "display_data",
          "data": {
            "text/plain": [
              "<Figure size 432x288 with 1 Axes>"
            ],
            "image/png": "[encoded data removed]"
          },
          "metadata": {
            "needs_background": "light"
          }
        }
      ]
    },
    {
      "cell_type": "code",
      "source": [
        "plt.clf()   # clear figure\n",
        "\n",
        "plt.plot(epochs, acc, 'bo', label='Training acc')\n",
        "plt.plot(epochs, val_acc, 'b', label='Validation acc')\n",
        "plt.title('Training and validation accuracy')\n",
        "plt.xlabel('Epochs')\n",
        "plt.ylabel('Accuracy')\n",
        "plt.legend()\n",
        "\n",
        "plt.show()"
      ],
      "metadata": {
        "colab": {
          "base_uri": "https://localhost:8080/",
          "height": 295
        },
        "id": "1p5i_Iiegdnj",
        "outputId": "c756119c-98ed-4a26-edc4-ad788d287114"
      },
      "id": "1p5i_Iiegdnj",
      "execution_count": 52,
      "outputs": [
        {
          "output_type": "display_data",
          "data": {
            "text/plain": [
              "<Figure size 432x288 with 1 Axes>"
            ],
            "image/png": "[encoded data removed]"
          },
          "metadata": {
            "needs_background": "light"
          }
        }
      ]
    },
    {
      "cell_type": "code",
      "source": [],
      "metadata": {
        "id": "DrpUa4NdgkI2"
      },
      "id": "DrpUa4NdgkI2",
      "execution_count": 52,
      "outputs": []
    },
    {
      "cell_type": "code",
      "source": [
        "input_texts= np.asarray(df_val.text)"
      ],
      "metadata": {
        "id": "iAx8Wx3IgkLL"
      },
      "id": "iAx8Wx3IgkLL",
      "execution_count": 53,
      "outputs": []
    },
    {
      "cell_type": "code",
      "source": [
        "pred_proba = model.predict(input_texts)"
      ],
      "metadata": {
        "colab": {
          "base_uri": "https://localhost:8080/"
        },
        "id": "weo-BkHPgkNI",
        "outputId": "9dfe2cd3-bcc8-4e98-8d53-9e6da700f4b8"
      },
      "id": "weo-BkHPgkNI",
      "execution_count": 54,
      "outputs": [
        {
          "output_type": "stream",
          "name": "stdout",
          "text": [
            "34/34 [==============================] - 1s 17ms/step\n"
          ]
        }
      ]
    },
    {
      "cell_type": "code",
      "source": [
        "y_pred_phase = []\n",
        "y_pred_num_arms = []\n",
        "y_pred_num_subjects = []\n",
        "y_pred_sap = []\n",
        "for idx in range(len(pred_proba)):\n",
        "  probas_this_instance = pred_proba[idx]\n",
        "  probas_phase = probas_this_instance[:len(phase_lookup)]\n",
        "  y_pred_phase.append(phase_lookup[int(np.argmax(probas_phase))])\n",
        "  probas_arms = probas_this_instance[len(phase_lookup):len(phase_lookup)+5]\n",
        "  y_pred_num_arms.append(1 + int(np.argmax(probas_arms)))\n",
        "  probas_subjects = probas_this_instance[len(phase_lookup)+5:-1]\n",
        "  y_pred_num_subjects.append(num_subjects_lookup[int(np.argmax(probas_subjects))])\n",
        "  probas_sap = probas_this_instance[-1:]\n",
        "  y_pred_sap.append(probas_sap[0] > 0.5)\n",
        "\n",
        "df_val[\"y_pred_phase\"] = y_pred_phase\n",
        "df_val[\"y_pred_num_arms\"] = y_pred_num_arms\n",
        "df_val[\"y_pred_num_subjects\"] = y_pred_num_subjects\n",
        "df_val[\"y_pred_sap\"] = y_pred_sap"
      ],
      "metadata": {
        "colab": {
          "base_uri": "https://localhost:8080/"
        },
        "id": "wia77Kufub2v",
        "outputId": "01320e51-2601-44e1-a922-b0009f10acbb"
      },
      "id": "wia77Kufub2v",
      "execution_count": 55,
      "outputs": [
        {
          "output_type": "stream",
          "name": "stderr",
          "text": [
            "/usr/local/lib/python3.7/dist-packages/ipykernel_launcher.py:16: SettingWithCopyWarning: \n",
            "A value is trying to be set on a copy of a slice from a DataFrame.\n",
            "Try using .loc[row_indexer,col_indexer] = value instead\n",
            "\n",
            "See the caveats in the documentation: https://pandas.pydata.org/pandas-docs/stable/user_guide/indexing.html#returning-a-view-versus-a-copy\n",
            "  app.launch_new_instance()\n",
            "/usr/local/lib/python3.7/dist-packages/ipykernel_launcher.py:17: SettingWithCopyWarning: \n",
            "A value is trying to be set on a copy of a slice from a DataFrame.\n",
            "Try using .loc[row_indexer,col_indexer] = value instead\n",
            "\n",
            "See the caveats in the documentation: https://pandas.pydata.org/pandas-docs/stable/user_guide/indexing.html#returning-a-view-versus-a-copy\n",
            "/usr/local/lib/python3.7/dist-packages/ipykernel_launcher.py:18: SettingWithCopyWarning: \n",
            "A value is trying to be set on a copy of a slice from a DataFrame.\n",
            "Try using .loc[row_indexer,col_indexer] = value instead\n",
            "\n",
            "See the caveats in the documentation: https://pandas.pydata.org/pandas-docs/stable/user_guide/indexing.html#returning-a-view-versus-a-copy\n",
            "/usr/local/lib/python3.7/dist-packages/ipykernel_launcher.py:19: SettingWithCopyWarning: \n",
            "A value is trying to be set on a copy of a slice from a DataFrame.\n",
            "Try using .loc[row_indexer,col_indexer] = value instead\n",
            "\n",
            "See the caveats in the documentation: https://pandas.pydata.org/pandas-docs/stable/user_guide/indexing.html#returning-a-view-versus-a-copy\n"
          ]
        }
      ]
    },
    {
      "cell_type": "code",
      "source": [],
      "metadata": {
        "id": "DbBjX9-agkVH"
      },
      "id": "DbBjX9-agkVH",
      "execution_count": 55,
      "outputs": []
    },
    {
      "cell_type": "markdown",
      "source": [
        "## Phase"
      ],
      "metadata": {
        "id": "ZNUbeGPw5KWg"
      },
      "id": "ZNUbeGPw5KWg"
    },
    {
      "cell_type": "code",
      "source": [
        "acc = accuracy_score(df_val.phase_clean.apply(str), df_val[\"y_pred_phase\"])\n",
        "print (f\"Phase accuracy {acc}\")"
      ],
      "metadata": {
        "colab": {
          "base_uri": "https://localhost:8080/"
        },
        "id": "sznpf_e24NvP",
        "outputId": "962d686c-18c9-4d92-ab70-ee671c209755"
      },
      "id": "sznpf_e24NvP",
      "execution_count": 56,
      "outputs": [
        {
          "output_type": "stream",
          "name": "stdout",
          "text": [
            "Phase accuracy 0.10783410138248847\n"
          ]
        }
      ]
    },
    {
      "cell_type": "code",
      "source": [
        "ConfusionMatrixDisplay.from_predictions(df_val.phase_clean.apply(str), df_val[\"y_pred_phase\"])\n",
        "plt.xticks(rotation=90)\n",
        ";"
      ],
      "metadata": {
        "colab": {
          "base_uri": "https://localhost:8080/",
          "height": 314
        },
        "id": "zLJ_MQih4T9n",
        "outputId": "dc3bc9fb-b73c-43a5-f3f8-65aa355dcb32"
      },
      "id": "zLJ_MQih4T9n",
      "execution_count": 57,
      "outputs": [
        {
          "output_type": "execute_result",
          "data": {
            "text/plain": [
              "''"
            ],
            "application/vnd.google.colaboratory.intrinsic+json": {
              "type": "string"
            }
          },
          "metadata": {},
          "execution_count": 57
        },
        {
          "output_type": "display_data",
          "data": {
            "text/plain": [
              "<Figure size 432x288 with 2 Axes>"
            ],
            "image/png": "[encoded data removed]"
          },
          "metadata": {
            "needs_background": "light"
          }
        }
      ]
    },
    {
      "cell_type": "markdown",
      "source": [
        "# Number of arms"
      ],
      "metadata": {
        "id": "Fz_EyOrB5PXa"
      },
      "id": "Fz_EyOrB5PXa"
    },
    {
      "cell_type": "code",
      "source": [
        "acc = accuracy_score(df_val.num_arms_clean.apply(float).apply(str), df_val[\"y_pred_num_arms\"].apply(float).apply(str))\n",
        "print (f\"Num arms accuracy {acc}\")"
      ],
      "metadata": {
        "colab": {
          "base_uri": "https://localhost:8080/"
        },
        "id": "X8IsVDo34YTg",
        "outputId": "5061c48a-518d-49fc-fbf1-43ae1e915815"
      },
      "id": "X8IsVDo34YTg",
      "execution_count": 58,
      "outputs": [
        {
          "output_type": "stream",
          "name": "stdout",
          "text": [
            "Num arms accuracy 0.10599078341013825\n"
          ]
        }
      ]
    },
    {
      "cell_type": "code",
      "source": [
        "ConfusionMatrixDisplay.from_predictions(df_val.num_arms_clean.apply(float).apply(str), df_val[\"y_pred_num_arms\"].apply(float).apply(str))\n",
        "plt.xticks(rotation=90)\n",
        ";"
      ],
      "metadata": {
        "colab": {
          "base_uri": "https://localhost:8080/",
          "height": 307
        },
        "id": "idb1W6VE4kIp",
        "outputId": "503d66d8-fbe4-4b06-b25a-bfeeaa242c07"
      },
      "id": "idb1W6VE4kIp",
      "execution_count": 59,
      "outputs": [
        {
          "output_type": "execute_result",
          "data": {
            "text/plain": [
              "''"
            ],
            "application/vnd.google.colaboratory.intrinsic+json": {
              "type": "string"
            }
          },
          "metadata": {},
          "execution_count": 59
        },
        {
          "output_type": "display_data",
          "data": {
            "text/plain": [
              "<Figure size 432x288 with 2 Axes>"
            ],
            "image/png": "[encoded data removed]"
          },
          "metadata": {
            "needs_background": "light"
          }
        }
      ]
    },
    {
      "cell_type": "markdown",
      "source": [
        "## Subjects"
      ],
      "metadata": {
        "id": "lLWC7P1k5NSX"
      },
      "id": "lLWC7P1k5NSX"
    },
    {
      "cell_type": "code",
      "source": [
        "acc = accuracy_score(df_val.num_subjects_clean, df_val[\"y_pred_num_subjects\"])\n",
        "print (f\"Subjects accuracy {acc}\")"
      ],
      "metadata": {
        "id": "rYhLhDmnNuAl",
        "outputId": "1d9b33e4-9e41-4e6b-b34c-9951239d639b",
        "colab": {
          "base_uri": "https://localhost:8080/"
        }
      },
      "id": "rYhLhDmnNuAl",
      "execution_count": 60,
      "outputs": [
        {
          "output_type": "stream",
          "name": "stdout",
          "text": [
            "Subjects accuracy 0.055299539170506916\n"
          ]
        }
      ]
    },
    {
      "cell_type": "code",
      "source": [
        "ConfusionMatrixDisplay.from_predictions(df_val.num_subjects_clean, df_val[\"y_pred_num_subjects\"], labels=num_subjects_list)\n",
        "plt.xticks(rotation=90)\n",
        ";"
      ],
      "metadata": {
        "id": "XOiQVXB0NuHC",
        "outputId": "1b970359-7136-44e9-c5f2-d501fc54f6e4",
        "colab": {
          "base_uri": "https://localhost:8080/",
          "height": 328
        }
      },
      "id": "XOiQVXB0NuHC",
      "execution_count": 61,
      "outputs": [
        {
          "output_type": "execute_result",
          "data": {
            "text/plain": [
              "''"
            ],
            "application/vnd.google.colaboratory.intrinsic+json": {
              "type": "string"
            }
          },
          "metadata": {},
          "execution_count": 61
        },
        {
          "output_type": "display_data",
          "data": {
            "text/plain": [
              "<Figure size 432x288 with 2 Axes>"
            ],
            "image/png": "[encoded data removed]"
          },
          "metadata": {
            "needs_background": "light"
          }
        }
      ]
    },
    {
      "cell_type": "code",
      "source": [
        "num_correct = 0\n",
        "for idx in range(len(df_val)):\n",
        "  gt = num_subjects_clean_map[df_val[\"num_subjects_clean\"].iloc[idx]]\n",
        "  pred = num_subjects_clean_map[df_val[\"y_pred_num_subjects\"].iloc[idx]]\n",
        "  is_correct = int(np.abs(gt - pred) <= 1)\n",
        "  num_correct += is_correct\n",
        "print (\"Accuracy including adjacent groups\", num_correct/len(df_val))"
      ],
      "metadata": {
        "colab": {
          "base_uri": "https://localhost:8080/"
        },
        "id": "VzFHDCRtmBA6",
        "outputId": "fc8c757d-71a3-4579-aa8f-ef1a65dca0b0"
      },
      "id": "VzFHDCRtmBA6",
      "execution_count": 62,
      "outputs": [
        {
          "output_type": "stream",
          "name": "stdout",
          "text": [
            "Accuracy including adjacent groups 0.20276497695852536\n"
          ]
        }
      ]
    },
    {
      "cell_type": "code",
      "source": [],
      "metadata": {
        "id": "1MU1NT4T_DLO"
      },
      "id": "1MU1NT4T_DLO",
      "execution_count": 62,
      "outputs": []
    },
    {
      "cell_type": "markdown",
      "source": [
        "## SAP"
      ],
      "metadata": {
        "id": "tNsHUs9VBl4u"
      },
      "id": "tNsHUs9VBl4u"
    },
    {
      "cell_type": "code",
      "source": [
        "acc = accuracy_score(df_val.has_sap, df_val[\"y_pred_sap\"])\n",
        "print (f\"SAP accuracy {acc}\")"
      ],
      "metadata": {
        "id": "w9KjSCypBmgs",
        "colab": {
          "base_uri": "https://localhost:8080/"
        },
        "outputId": "93f6f345-e6c7-4b9e-d8f4-efe268cfc799"
      },
      "id": "w9KjSCypBmgs",
      "execution_count": 63,
      "outputs": [
        {
          "output_type": "stream",
          "name": "stdout",
          "text": [
            "SAP accuracy 0.4967741935483871\n"
          ]
        }
      ]
    },
    {
      "cell_type": "code",
      "source": [
        "ConfusionMatrixDisplay.from_predictions(df_val.has_sap, df_val[\"y_pred_sap\"])\n",
        "plt.xticks(rotation=90)\n",
        ";"
      ],
      "metadata": {
        "id": "Yt36Zw4wB4P9",
        "colab": {
          "base_uri": "https://localhost:8080/",
          "height": 304
        },
        "outputId": "900caead-3ecd-482f-b817-a744fa34f8ef"
      },
      "id": "Yt36Zw4wB4P9",
      "execution_count": 64,
      "outputs": [
        {
          "output_type": "execute_result",
          "data": {
            "text/plain": [
              "''"
            ],
            "application/vnd.google.colaboratory.intrinsic+json": {
              "type": "string"
            }
          },
          "metadata": {},
          "execution_count": 64
        },
        {
          "output_type": "display_data",
          "data": {
            "text/plain": [
              "<Figure size 432x288 with 2 Axes>"
            ],
            "image/png": "[encoded data removed]"
          },
          "metadata": {
            "needs_background": "light"
          }
        }
      ]
    }
  ],
  "metadata": {
    "colab": {
      "provenance": [],
      "machine_shape": "hm",
      "include_colab_link": true
    },
    "kernelspec": {
      "display_name": "conda_tensorflow_p36",
      "language": "python",
      "name": "conda_tensorflow_p36"
    },
    "language_info": {
      "codemirror_mode": {
        "name": "ipython",
        "version": 3
      },
      "file_extension": ".py",
      "mimetype": "text/x-python",
      "name": "python",
      "nbconvert_exporter": "python",
      "pygments_lexer": "ipython3",
      "version": "3.6.13"
    },
    "accelerator": "GPU",
    "gpuClass": "premium"
  },
  "nbformat": 4,
  "nbformat_minor": 5
}