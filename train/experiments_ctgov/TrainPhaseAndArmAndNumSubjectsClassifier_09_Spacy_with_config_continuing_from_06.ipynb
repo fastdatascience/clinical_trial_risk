{
  "cells": [
    {
      "cell_type": "markdown",
      "metadata": {
        "id": "view-in-github",
        "colab_type": "text"
      },
      "source": [
        "<a href=\"https://colab.research.google.com/github/fastdatascience/clinical_trial_risk/blob/fixes_nov_2022/train/ctgov/TrainPhaseAndArmAndNumSubjectsClassifier_09_Spacy_with_config_continuing_from_06.ipynb\" target=\"_parent\"><img src=\"https://colab.research.google.com/assets/colab-badge.svg\" alt=\"Open In Colab\"/></a>"
      ]
    },
    {
      "cell_type": "markdown",
      "metadata": {
        "id": "QFH0LayX5B9I"
      },
      "source": [
        "TODO: make config without transformers\n",
        "\n",
        "1.   List item\n",
        "2.   List item\n",
        "\n"
      ],
      "id": "QFH0LayX5B9I"
    },
    {
      "cell_type": "code",
      "execution_count": null,
      "metadata": {
        "id": "EpG7zWxUgCKW"
      },
      "outputs": [],
      "source": [
        "#!pip install spacy-transformers"
      ],
      "id": "EpG7zWxUgCKW"
    },
    {
      "cell_type": "code",
      "execution_count": null,
      "metadata": {
        "id": "3t_pIMzNf0jN"
      },
      "outputs": [],
      "source": [
        "# !python -m spacy init fill-config base_config.cfg spacy_textcat_06.cfg"
      ],
      "id": "3t_pIMzNf0jN"
    },
    {
      "cell_type": "code",
      "execution_count": null,
      "metadata": {
        "id": "ad812236"
      },
      "outputs": [],
      "source": [
        "import pandas as pd\n",
        "import re\n",
        "import os\n",
        "import sys\n",
        "import pickle as pkl\n",
        "from sklearn.metrics import accuracy_score, confusion_matrix\n",
        "from sklearn.metrics import ConfusionMatrixDisplay\n",
        "from sklearn.metrics import mean_absolute_error, mean_squared_error\n",
        "from sklearn.metrics import roc_auc_score\n",
        "from sklearn.metrics import roc_curve, auc\n",
        "from IPython.display import display\n",
        "import matplotlib.pyplot as plt\n",
        "import numpy as np\n",
        "import json\n",
        "\n",
        "# df_annotations = pd.read_csv(\"all_annotations.csv\")\n"
      ],
      "id": "ad812236"
    },
    {
      "cell_type": "markdown",
      "metadata": {
        "id": "e7ea7d33"
      },
      "source": [
        "# Get data"
      ],
      "id": "e7ea7d33"
    },
    {
      "cell_type": "code",
      "execution_count": null,
      "metadata": {
        "colab": {
          "base_uri": "https://localhost:8080/"
        },
        "id": "xCe1anFkGSrt",
        "outputId": "4c86cce7-70e9-431f-aec4-30e5077e5c1a"
      },
      "outputs": [
        {
          "name": "stdout",
          "output_type": "stream",
          "text": [
            "Mounted at /content/drive\n"
          ]
        }
      ],
      "source": [
        "from google.colab import drive\n",
        "drive.mount('/content/drive')"
      ],
      "id": "xCe1anFkGSrt"
    },
    {
      "cell_type": "code",
      "execution_count": null,
      "metadata": {
        "id": "FdcTHlHsGWnk"
      },
      "outputs": [],
      "source": [
        "df_annotations= pd.read_csv(\"/content/drive/MyDrive/data/filtered_for_phase_arms_subjects_02.csv.bz2\")"
      ],
      "id": "FdcTHlHsGWnk"
    },
    {
      "cell_type": "code",
      "execution_count": null,
      "metadata": {
        "id": "4048908c"
      },
      "outputs": [],
      "source": [
        "#df_annotations= pd.read_csv(\"filtered_for_phase_arms_subjects_02.csv.bz2\")\n",
        "# df_annotations= pd.read_csv(\"/home/thomas/Downloads/filtered_for_phase_arms_subjects.csv.bz2\")"
      ],
      "id": "4048908c"
    },
    {
      "cell_type": "code",
      "execution_count": null,
      "metadata": {
        "id": "wGilqqbTi76N"
      },
      "outputs": [],
      "source": [
        "#df_annotations.text = df_annotations.text.apply(lambda t : t[:10000] if len(t) > 10000 else t)"
      ],
      "id": "wGilqqbTi76N"
    },
    {
      "cell_type": "code",
      "execution_count": null,
      "metadata": {
        "id": "mZ82V337HouW"
      },
      "outputs": [],
      "source": [
        "def get_num_subjects_clean(num):\n",
        "    if pd.isna(num):\n",
        "        return None\n",
        "    if num >= 10000:\n",
        "        return \"10000+\"\n",
        "    if num >= 1000:\n",
        "        return \"1000+\"\n",
        "    if num >= 500:\n",
        "        return \"500+\"\n",
        "    if num >= 200:\n",
        "        return \"200+\"\n",
        "    if num >= 100:\n",
        "        return \"100+\"\n",
        "    if num >= 50:\n",
        "        return \"50+\"\n",
        "    if num >= 25:\n",
        "        return \"25+\"\n",
        "    return \"1-24\"\n",
        "df_annotations[\"num_subjects_clean\"] = df_annotations[\"num_subjects\"].apply(get_num_subjects_clean)"
      ],
      "id": "mZ82V337HouW"
    },
    {
      "cell_type": "code",
      "execution_count": null,
      "metadata": {
        "colab": {
          "base_uri": "https://localhost:8080/"
        },
        "id": "cKMRrJjQIF7U",
        "outputId": "bc2342d8-72ce-423d-a6d2-f09512e29af9"
      },
      "outputs": [
        {
          "data": {
            "text/plain": [
              "1-24      2980\n",
              "25+       2119\n",
              "50+       2016\n",
              "100+      1674\n",
              "200+      1656\n",
              "500+       816\n",
              "1000+      547\n",
              "10000+     112\n",
              "Name: num_subjects_clean, dtype: int64"
            ]
          },
          "execution_count": 9,
          "metadata": {},
          "output_type": "execute_result"
        }
      ],
      "source": [
        "df_annotations[\"num_subjects_clean\"].value_counts()"
      ],
      "id": "cKMRrJjQIF7U"
    },
    {
      "cell_type": "code",
      "execution_count": null,
      "metadata": {
        "id": "89e1c4f0"
      },
      "outputs": [],
      "source": [
        "# df_annotations = pd.read_csv(\"filtered_for_phase.csv.bz2\")"
      ],
      "id": "89e1c4f0"
    },
    {
      "cell_type": "code",
      "execution_count": null,
      "metadata": {
        "id": "a12043ac"
      },
      "outputs": [],
      "source": [
        "# del file_to_pages"
      ],
      "id": "a12043ac"
    },
    {
      "cell_type": "code",
      "execution_count": null,
      "metadata": {
        "id": "bbe0ba77"
      },
      "outputs": [],
      "source": [
        "phase_map = {\"Phase 2\":\"2\",\n",
        "\"Phase 3\":\"3\",\n",
        "\"Phase 4\":\"4\",\n",
        "\"Phase 1\":\"1\",\n",
        "\"Phase 1/Phase 2\":\"1.5\",\n",
        "\"Not Applicable\":\"0\",\n",
        "\"Phase 2/Phase 3\":\"2.5\",\n",
        "\"Early Phase 1\":\"0.5\"}\n",
        "df_annotations[\"phase_clean\"] = df_annotations[\"phase\"].apply(lambda x : phase_map.get(x, None))"
      ],
      "id": "bbe0ba77"
    },
    {
      "cell_type": "code",
      "execution_count": null,
      "metadata": {
        "colab": {
          "base_uri": "https://localhost:8080/"
        },
        "id": "DNjQhXOVrQxj",
        "outputId": "1dd216d7-a269-44ce-b71b-5530be1c859e"
      },
      "outputs": [
        {
          "data": {
            "text/plain": [
              "['0', '0.5', '1', '1.5', '2', '2.5', '3', '4']"
            ]
          },
          "execution_count": 13,
          "metadata": {},
          "output_type": "execute_result"
        }
      ],
      "source": [
        "phase_clean_map = {}\n",
        "for idx, val in enumerate(sorted(set(phase_map.values()), key = lambda x : float(x))):\n",
        "  phase_clean_map[val] = idx\n",
        "# invert the dictionary\n",
        "phase_lookup = {v: k for k, v in phase_clean_map.items()}\n",
        "\n",
        "phase_list = [phase_lookup[x] for x in sorted(phase_lookup)]\n",
        "phase_list"
      ],
      "id": "DNjQhXOVrQxj"
    },
    {
      "cell_type": "code",
      "execution_count": null,
      "metadata": {
        "id": "f99e999b"
      },
      "outputs": [],
      "source": [
        "def get_num_arms_clean(num):\n",
        "    if pd.isna(num):\n",
        "        return None\n",
        "    if num >= 5:\n",
        "        num = 5\n",
        "    return num\n",
        "df_annotations[\"num_arms_clean\"] = df_annotations[\"num_arms\"].apply(get_num_arms_clean)"
      ],
      "id": "f99e999b"
    },
    {
      "cell_type": "markdown",
      "metadata": {
        "id": "Tq8Iseh1e_uQ"
      },
      "source": [
        "# Begin Spacy"
      ],
      "id": "Tq8Iseh1e_uQ"
    },
    {
      "cell_type": "code",
      "execution_count": null,
      "metadata": {
        "id": "0HHgTj8Qfub9"
      },
      "outputs": [],
      "source": [
        "num_subjects_clean_map = {}\n",
        "for idx, val in enumerate(sorted(set(df_annotations[~df_annotations.num_subjects_clean.isna()].num_subjects_clean), key = lambda x : int(re.sub(r'\\D.*$', '', x)))):\n",
        "  num_subjects_clean_map[val] = idx"
      ],
      "id": "0HHgTj8Qfub9"
    },
    {
      "cell_type": "code",
      "execution_count": null,
      "metadata": {
        "id": "6jQQHMvxkC2l"
      },
      "outputs": [],
      "source": [
        "# invert the dictionary\n",
        "num_subjects_lookup = {v: k for k, v in num_subjects_clean_map.items()}"
      ],
      "id": "6jQQHMvxkC2l"
    },
    {
      "cell_type": "code",
      "execution_count": null,
      "metadata": {
        "colab": {
          "base_uri": "https://localhost:8080/"
        },
        "id": "C6fm756mlUSk",
        "outputId": "5c0e4f08-c356-45ff-b9b7-2e579a5d91d5"
      },
      "outputs": [
        {
          "data": {
            "text/plain": [
              "['1-24', '25+', '50+', '100+', '200+', '500+', '1000+', '10000+']"
            ]
          },
          "execution_count": 17,
          "metadata": {},
          "output_type": "execute_result"
        }
      ],
      "source": [
        "num_subjects_list = [num_subjects_lookup[x] for x in sorted(num_subjects_lookup)]\n",
        "num_subjects_list"
      ],
      "id": "C6fm756mlUSk"
    },
    {
      "cell_type": "code",
      "execution_count": null,
      "metadata": {
        "colab": {
          "base_uri": "https://localhost:8080/"
        },
        "id": "sDIKJA57hR-K",
        "outputId": "affb819a-1090-48ea-d686-68c4e388afea"
      },
      "outputs": [
        {
          "data": {
            "text/plain": [
              "{'1-24': 0,\n",
              " '25+': 1,\n",
              " '50+': 2,\n",
              " '100+': 3,\n",
              " '200+': 4,\n",
              " '500+': 5,\n",
              " '1000+': 6,\n",
              " '10000+': 7}"
            ]
          },
          "execution_count": 18,
          "metadata": {},
          "output_type": "execute_result"
        }
      ],
      "source": [
        "num_subjects_clean_map"
      ],
      "id": "sDIKJA57hR-K"
    },
    {
      "cell_type": "code",
      "execution_count": null,
      "metadata": {
        "id": "EFTomf_xfjTS"
      },
      "outputs": [],
      "source": [
        "def get_one_hot_num_subjects(x):\n",
        "  a = [0] * len(num_subjects_clean_map)\n",
        "  if x is None:\n",
        "    return a\n",
        "  a[num_subjects_clean_map[x]] = 1\n",
        "  return a"
      ],
      "id": "EFTomf_xfjTS"
    },
    {
      "cell_type": "code",
      "execution_count": null,
      "metadata": {
        "id": "GCf8jZQZiBbC"
      },
      "outputs": [],
      "source": [
        "df_annotations[\"num_subjects_one_hot\"] = df_annotations[\"num_subjects_clean\"].apply(get_one_hot_num_subjects)"
      ],
      "id": "GCf8jZQZiBbC"
    },
    {
      "cell_type": "code",
      "execution_count": null,
      "metadata": {
        "id": "RoXplcZ6q3N3"
      },
      "outputs": [],
      "source": [
        "df_annotations[\"num_subjects_one_hot\"] = df_annotations[\"num_subjects_clean\"].apply(get_one_hot_num_subjects)"
      ],
      "id": "RoXplcZ6q3N3"
    },
    {
      "cell_type": "code",
      "execution_count": null,
      "metadata": {
        "id": "bGkQ4LeYq3QR"
      },
      "outputs": [],
      "source": [
        "def get_one_hot_num_arms(x):\n",
        "  a = [0] * 5\n",
        "  if x is not None and not pd.isna(x):\n",
        "    a[int(x - 1)] = 1\n",
        "  return a\n",
        "df_annotations[\"num_arms_one_hot\"] = df_annotations[\"num_arms_clean\"].apply(get_one_hot_num_arms)"
      ],
      "id": "bGkQ4LeYq3QR"
    },
    {
      "cell_type": "code",
      "execution_count": null,
      "metadata": {
        "id": "POLLhzW_rFvz"
      },
      "outputs": [],
      "source": [
        "def get_one_hot_phase(x):\n",
        "  a = [0] * len(phase_clean_map)\n",
        "  if x is None:\n",
        "    return a\n",
        "  a[phase_clean_map[x]] = 1\n",
        "  return a\n",
        "df_annotations[\"phase_one_hot\"] = df_annotations[\"phase_clean\"].apply(get_one_hot_phase)"
      ],
      "id": "POLLhzW_rFvz"
    },
    {
      "cell_type": "markdown",
      "metadata": {
        "id": "ondugbdEsLJ7"
      },
      "source": [
        "Concatenate the three bits of one-hot data into one column"
      ],
      "id": "ondugbdEsLJ7"
    },
    {
      "cell_type": "code",
      "execution_count": null,
      "metadata": {
        "id": "eykeDEeFr56g"
      },
      "outputs": [],
      "source": [
        "concatenated_one_hot = []\n",
        "for i in range(len(df_annotations)):\n",
        "  concatenated = list(df_annotations.phase_one_hot.iloc[i]) + \\\n",
        "  list(df_annotations.num_arms_one_hot.iloc[i]) + \\\n",
        "  list(df_annotations.num_subjects_one_hot.iloc[i]) + [df_annotations.has_sap.iloc[i]]\n",
        "  concatenated_one_hot.append(concatenated)\n",
        "df_annotations[\"concatenated_one_hot\"] = concatenated_one_hot"
      ],
      "id": "eykeDEeFr56g"
    },
    {
      "cell_type": "code",
      "execution_count": null,
      "metadata": {
        "colab": {
          "base_uri": "https://localhost:8080/"
        },
        "id": "eFM7jbfutXfu",
        "outputId": "b7ebbfb2-56f2-49f0-ba64-2c66cb8510b0"
      },
      "outputs": [
        {
          "data": {
            "text/plain": [
              "nan"
            ]
          },
          "execution_count": 25,
          "metadata": {},
          "output_type": "execute_result"
        }
      ],
      "source": [
        "np.sum(np.asarray([np.asarray(x) for x in df_annotations[\"concatenated_one_hot\"]]), axis=1).mean()"
      ],
      "id": "eFM7jbfutXfu"
    },
    {
      "cell_type": "code",
      "execution_count": null,
      "metadata": {
        "colab": {
          "base_uri": "https://localhost:8080/"
        },
        "id": "YmCgmZh3tmkn",
        "outputId": "c28c9343-784e-4286-d452-4ddbd11ecc51"
      },
      "outputs": [
        {
          "data": {
            "text/plain": [
              "array([ 519.,  135., 1154.,  983., 4317.,  297., 2725., 1461., 3086.,\n",
              "       5228., 1456.,  908.,  913., 2980., 2119., 2016., 1674., 1656.,\n",
              "        816.,  547.,  112.,   nan])"
            ]
          },
          "execution_count": 29,
          "metadata": {},
          "output_type": "execute_result"
        }
      ],
      "source": [
        "np.sum(np.asarray([np.asarray(x) for x in df_annotations[\"concatenated_one_hot\"]]), axis=0)"
      ],
      "id": "YmCgmZh3tmkn"
    },
    {
      "cell_type": "code",
      "execution_count": null,
      "metadata": {
        "colab": {
          "base_uri": "https://localhost:8080/"
        },
        "id": "yuUe_QwxsQRE",
        "outputId": "3226a50a-c28b-45f4-8177-78daefe526ee"
      },
      "outputs": [
        {
          "name": "stdout",
          "output_type": "stream",
          "text": [
            "There are 22 classes in this multi-label classifier\n"
          ]
        }
      ],
      "source": [
        "num_classes = len(concatenated)\n",
        "print (f\"There are {num_classes} classes in this multi-label classifier\")"
      ],
      "id": "yuUe_QwxsQRE"
    },
    {
      "cell_type": "code",
      "execution_count": null,
      "metadata": {
        "id": "F_VhjeihirIu"
      },
      "outputs": [],
      "source": [
        "df_train = df_annotations[df_annotations.train_val == \"train\"]\n",
        "df_val = df_annotations[df_annotations.train_val == \"val\"]"
      ],
      "id": "F_VhjeihirIu"
    },
    {
      "cell_type": "code",
      "execution_count": null,
      "metadata": {
        "id": "pIWANTOGqDkg"
      },
      "outputs": [],
      "source": [
        "df_train_got_some_ground_truths = df_train[~df_train.num_subjects_clean.isna() | ~df_train.num_arms_clean.isna() | ~df_train.phase_clean.isna()]"
      ],
      "id": "pIWANTOGqDkg"
    },
    {
      "cell_type": "code",
      "execution_count": null,
      "metadata": {
        "colab": {
          "base_uri": "https://localhost:8080/"
        },
        "id": "yfw08MW2sYTw",
        "outputId": "f3b4e6d5-7a21-4780-b4c1-a62c7259d6e3"
      },
      "outputs": [
        {
          "data": {
            "text/plain": [
              "(9535, 9538)"
            ]
          },
          "execution_count": 33,
          "metadata": {},
          "output_type": "execute_result"
        }
      ],
      "source": [
        "len(df_train_got_some_ground_truths), len(df_train)"
      ],
      "id": "yfw08MW2sYTw"
    },
    {
      "cell_type": "markdown",
      "metadata": {
        "id": "e6da254a"
      },
      "source": [
        "# Begin Spacy"
      ],
      "id": "e6da254a"
    },
    {
      "cell_type": "code",
      "execution_count": null,
      "metadata": {
        "id": "eb7993bd"
      },
      "outputs": [],
      "source": [
        "# TRAINING_DATA = [\n",
        "#     [\"My little kitty is so special\", {\"KAT0\": True}],\n",
        "#     [\"Dude, Totally, Yeah, Video Games\", {\"KAT1\": True}],\n",
        "#     [\"Should I pay $1,000 for the iPhone X?\", {\"KAT1\": True}],\n",
        "#     [\"The iPhone 8 reviews are here\", {\"KAT1\": True}],\n",
        "#     [\"Noa is a great cat name.\", {\"KAT0\": True}],\n",
        "#     [\"We got a new kitten!\", {\"KAT0\": True}]\n",
        "# ]\n",
        "\n",
        "# TRAINING_DATA = []\n",
        "# for idx in range(len(df_train)):\n",
        "#     cats = {}\n",
        "#     for a in range(num_classes):\n",
        "#         cats[str(a)] = df_annotations[\"concatenated_one_hot\"].iloc[idx][a]\n",
        "\n",
        "#     text = df_train.text.iloc[idx]\n",
        "#     if len(text) > 1000000:\n",
        "#         text = text[:1000000]\n",
        "    \n",
        "#     TRAINING_DATA.append([text , cats])"
      ],
      "id": "eb7993bd"
    },
    {
      "cell_type": "markdown",
      "metadata": {
        "id": "vJX8GSp2k1jB"
      },
      "source": [
        "## Preprocess everything into two DocBins so that we can train from the command line with spaCy"
      ],
      "id": "vJX8GSp2k1jB"
    },
    {
      "cell_type": "code",
      "execution_count": null,
      "metadata": {
        "colab": {
          "base_uri": "https://localhost:8080/"
        },
        "id": "zKHF4luDhdK1",
        "outputId": "06972baa-d1da-4f88-8633-b1ddec8d0fc0"
      },
      "outputs": [
        {
          "name": "stdout",
          "output_type": "stream",
          "text": [
            "0 11926\n",
            "100 11926\n",
            "200 11926\n",
            "300 11926\n",
            "400 11926\n",
            "500 11926\n",
            "600 11926\n",
            "700 11926\n",
            "800 11926\n",
            "900 11926\n",
            "1000 11926\n",
            "1100 11926\n",
            "1200 11926\n",
            "1300 11926\n",
            "1400 11926\n",
            "1500 11926\n",
            "1600 11926\n",
            "1700 11926\n",
            "1800 11926\n",
            "1900 11926\n",
            "2000 11926\n",
            "2100 11926\n",
            "2200 11926\n",
            "2300 11926\n",
            "2400 11926\n",
            "2500 11926\n",
            "2600 11926\n",
            "2700 11926\n",
            "2800 11926\n",
            "2900 11926\n",
            "3000 11926\n",
            "3100 11926\n",
            "3200 11926\n",
            "3300 11926\n",
            "3400 11926\n",
            "3500 11926\n",
            "3600 11926\n",
            "3700 11926\n",
            "3800 11926\n",
            "3900 11926\n",
            "4000 11926\n",
            "4100 11926\n",
            "4200 11926\n",
            "4300 11926\n",
            "4400 11926\n",
            "4500 11926\n",
            "4600 11926\n",
            "4700 11926\n",
            "4800 11926\n",
            "4900 11926\n",
            "5000 11926\n",
            "5100 11926\n",
            "5200 11926\n",
            "5300 11926\n",
            "5400 11926\n",
            "5500 11926\n",
            "5600 11926\n",
            "5700 11926\n",
            "5800 11926\n",
            "5900 11926\n",
            "6000 11926\n",
            "6100 11926\n",
            "6200 11926\n",
            "6300 11926\n",
            "6400 11926\n",
            "6500 11926\n",
            "6600 11926\n",
            "6700 11926\n",
            "6800 11926\n",
            "6900 11926\n",
            "7000 11926\n",
            "7100 11926\n",
            "7200 11926\n",
            "7300 11926\n",
            "7400 11926\n",
            "7500 11926\n",
            "7600 11926\n",
            "7700 11926\n",
            "7800 11926\n",
            "7900 11926\n",
            "8000 11926\n",
            "8100 11926\n",
            "8200 11926\n",
            "8300 11926\n",
            "8400 11926\n",
            "8500 11926\n",
            "8600 11926\n",
            "8700 11926\n",
            "8800 11926\n",
            "8900 11926\n",
            "9000 11926\n",
            "9100 11926\n",
            "9200 11926\n",
            "9300 11926\n",
            "9400 11926\n",
            "9500 11926\n",
            "9600 11926\n",
            "9700 11926\n",
            "9800 11926\n",
            "9900 11926\n",
            "10000 11926\n",
            "10100 11926\n",
            "10200 11926\n",
            "10300 11926\n",
            "10400 11926\n",
            "10500 11926\n",
            "10600 11926\n",
            "10700 11926\n",
            "10800 11926\n",
            "10900 11926\n",
            "11000 11926\n",
            "11100 11926\n",
            "11200 11926\n",
            "11300 11926\n",
            "11400 11926\n",
            "11500 11926\n",
            "11600 11926\n",
            "11700 11926\n",
            "11800 11926\n",
            "11900 11926\n"
          ]
        }
      ],
      "source": [
        "import spacy\n",
        "\n",
        "nlp = spacy.blank(\"en\")\n",
        "from spacy.tokens import DocBin\n",
        "\n",
        "docs_train = []\n",
        "for i in range(10):\n",
        "  docs_train.append(DocBin())\n",
        "docs_val = DocBin()\n",
        "\n",
        "for idx in range(len(df_annotations)):\n",
        "  if idx % 100 == 0:\n",
        "    print (idx, len(df_annotations))\n",
        "  if df_annotations.train_val.iloc[idx] == \"train\":\n",
        "    docs_list = docs_train[idx % 10]\n",
        "  else:\n",
        "    docs_list = docs_val\n",
        "  text = str(df_annotations.text.iloc[idx])\n",
        "  if len(text) > 100000:\n",
        "      text = text[:100000]\n",
        "  doc = nlp(text)\n",
        "\n",
        "  cats = {}\n",
        "  for a in range(num_classes):\n",
        "        cats[str(a)] = df_annotations[\"concatenated_one_hot\"].iloc[idx][a]\n",
        "  doc.cats = cats\n",
        "\n",
        "  docs_list.add(doc)"
      ],
      "id": "zKHF4luDhdK1"
    },
    {
      "cell_type": "code",
      "execution_count": null,
      "metadata": {
        "id": "7LLBAyjkisjm"
      },
      "outputs": [],
      "source": [
        "# docs_train.to_disk(\"train.spacy\")\n",
        "docs_val.to_disk(\"dev.spacy\")"
      ],
      "id": "7LLBAyjkisjm"
    },
    {
      "cell_type": "code",
      "execution_count": null,
      "metadata": {
        "id": "uhVOW2-Sp70P"
      },
      "outputs": [],
      "source": [
        "docs_val.to_disk(\"/content/drive/MyDrive/data/dev.spacy\")"
      ],
      "id": "uhVOW2-Sp70P"
    },
    {
      "cell_type": "code",
      "execution_count": null,
      "metadata": {
        "colab": {
          "base_uri": "https://localhost:8080/"
        },
        "id": "bbV7xnZip2Wj",
        "outputId": "c77d8feb-7132-4105-b334-0630bdadba88"
      },
      "outputs": [
        {
          "name": "stdout",
          "output_type": "stream",
          "text": [
            "mkdir: cannot create directory ‘/content/drive/MyDrive/data/train.spacy’: File exists\n"
          ]
        }
      ],
      "source": [
        "# !mkdir train.spacy\n",
        "# !mkdir /content/drive/MyDrive/data/train.spacy\n"
      ],
      "id": "bbV7xnZip2Wj"
    },
    {
      "cell_type": "code",
      "execution_count": null,
      "metadata": {
        "id": "k3qf7_xEo_Dx"
      },
      "outputs": [],
      "source": [
        "for idx, doc_bin_train in enumerate(docs_train):\n",
        "  doc_bin_train.to_disk(f\"train.spacy/train_doc_bin{idx}.spacy\")\n",
        "  doc_bin_train.to_disk(f\"/content/drive/MyDrive/data/train.spacy/train_doc_bin{idx}.spacy\")"
      ],
      "id": "k3qf7_xEo_Dx"
    },
    {
      "cell_type": "markdown",
      "metadata": {
        "id": "h14ok40dsYqT"
      },
      "source": [
        "# Begin training using spaCy CLI"
      ],
      "id": "h14ok40dsYqT"
    },
    {
      "cell_type": "code",
      "execution_count": 48,
      "metadata": {
        "colab": {
          "base_uri": "https://localhost:8080/"
        },
        "id": "PghYHYDVgktY",
        "outputId": "6fbae3fa-c5b4-40a1-ed6b-60486c9adf14"
      },
      "outputs": [
        {
          "output_type": "stream",
          "name": "stdout",
          "text": [
            "\u001b[38;5;4mℹ Saving to output directory:\n",
            "/content/drive/MyDrive/data/output_textcat_06\u001b[0m\n",
            "\u001b[38;5;4mℹ Using GPU: 0\u001b[0m\n",
            "\u001b[1m\n",
            "=========================== Initializing pipeline ===========================\u001b[0m\n",
            "[2022-11-15 07:01:52,122] [INFO] Set up nlp object from config\n",
            "INFO:spacy:Set up nlp object from config\n",
            "[2022-11-15 07:01:52,134] [INFO] Pipeline: ['textcat_multilabel']\n",
            "INFO:spacy:Pipeline: ['textcat_multilabel']\n",
            "[2022-11-15 07:01:52,138] [INFO] Created vocabulary\n",
            "INFO:spacy:Created vocabulary\n",
            "[2022-11-15 07:01:52,139] [INFO] Finished initializing nlp object\n",
            "INFO:spacy:Finished initializing nlp object\n",
            "tcmalloc: large alloc 1073750016 bytes == 0x129ae2000 @  0x7f9a992e02a4 0x58ead6 0x441ff3 0x5d1f81 0x5d2306 0x58f62c 0x5105e2 0x58fd37 0x50ca37 0x58fd37 0x50ca37 0x4d00fb 0x50cb8d 0x4d00fb 0x50cb8d 0x4d00fb 0x7f9911c9c7c6 0x4ba72b 0x7f9911c9ace3 0x58f6e4 0x50ff13 0x5b575e 0x4bad0a 0x4d3249 0x591e56 0x50e18c 0x5b575e 0x58ff2e 0x50d482 0x5b575e 0x58ff2e\n",
            "[2022-11-15 07:09:58,151] [INFO] Initialized pipeline components: ['textcat_multilabel']\n",
            "INFO:spacy:Initialized pipeline components: ['textcat_multilabel']\n",
            "\u001b[38;5;2m✔ Initialized pipeline\u001b[0m\n",
            "\u001b[1m\n",
            "============================= Training pipeline =============================\u001b[0m\n",
            "\u001b[38;5;4mℹ Pipeline: ['textcat_multilabel']\u001b[0m\n",
            "\u001b[38;5;4mℹ Initial learn rate: 0.0\u001b[0m\n",
            "E    #       LOSS TEXTC...  CATS_SCORE  SCORE \n",
            "---  ------  -------------  ----------  ------\n",
            "tcmalloc: large alloc 2147491840 bytes == 0x7f946441a000 @  0x7f9a992e02a4 0x58ead6 0x441ff3 0x5d1f81 0x5d2306 0x58f62c 0x5105e2 0x58fd37 0x50ca37 0x58fd37 0x50ca37 0x4d01b4 0x50cb8d 0x4d01b4 0x50cb8d 0x4d01b4 0x5a04c4 0x5a2ed4 0x5909f6 0x510280 0x5b575e 0x58ff2e 0x50ca37 0x5b575e 0x58ff2e 0x50c4fc 0x4d01b4 0x50cb8d 0x5b575e 0x58ff2e 0x50d482\n",
            "  0       0           0.25       47.73    0.48\n",
            "tcmalloc: large alloc 2147491840 bytes == 0x7f927dde0000 @  0x7f9a992e02a4 0x58ead6 0x441ff3 0x5d1f81 0x5d2306 0x58f62c 0x5105e2 0x58fd37 0x50ca37 0x58fd37 0x50ca37 0x4d01b4 0x50cb8d 0x4d01b4 0x50cb8d 0x4d01b4 0x5a04c4 0x5a2ed4 0x5909f6 0x510280 0x5b575e 0x58ff2e 0x50ca37 0x5b575e 0x58ff2e 0x50c4fc 0x4d00fb 0x50cb8d 0x5b575e 0x58ff2e 0x50d482\n",
            "  0     200          38.83       48.89    0.49\n",
            "tcmalloc: large alloc 2147491840 bytes == 0x7f91fd5de000 @  0x7f9a992e02a4 0x58ead6 0x441ff3 0x5d1f81 0x5d2306 0x58f62c 0x5105e2 0x58fd37 0x50ca37 0x58fd37 0x50ca37 0x4d01b4 0x50cb8d 0x4d01b4 0x50cb8d 0x4d01b4 0x5a04c4 0x5a2ed4 0x5909f6 0x510280 0x5b575e 0x58ff2e 0x50ca37 0x5b575e 0x58ff2e 0x50c4fc 0x4d00fb 0x50cb8d 0x5b575e 0x58ff2e 0x50d482\n",
            "  0     400          27.47       50.69    0.51\n",
            "tcmalloc: large alloc 2147491840 bytes == 0x7f927e668000 @  0x7f9a992e02a4 0x58ead6 0x441ff3 0x5d1f81 0x5d2306 0x58f62c 0x5105e2 0x58fd37 0x50ca37 0x58fd37 0x50ca37 0x4d01b4 0x50cb8d 0x4d01b4 0x50cb8d 0x4d01b4 0x5a04c4 0x5a2ed4 0x5909f6 0x510280 0x5b575e 0x58ff2e 0x50ca37 0x5b575e 0x58ff2e 0x50c4fc 0x4d00fb 0x50cb8d 0x5b575e 0x58ff2e 0x50d482\n",
            "  0     600          26.41       51.25    0.51\n",
            "tcmalloc: large alloc 2147491840 bytes == 0x7f927e668000 @  0x7f9a992e02a4 0x58ead6 0x441ff3 0x5d1f81 0x5d2306 0x58f62c 0x5105e2 0x58fd37 0x50ca37 0x58fd37 0x50ca37 0x4d01b4 0x50cb8d 0x4d01b4 0x50cb8d 0x4d01b4 0x5a04c4 0x5a2ed4 0x5909f6 0x510280 0x5b575e 0x58ff2e 0x50ca37 0x5b575e 0x58ff2e 0x50c4fc 0x4d00fb 0x50cb8d 0x5b575e 0x58ff2e 0x50d482\n",
            "  0     800          23.61       52.02    0.52\n",
            "  0    1000          25.39       52.72    0.53\n",
            "  0    1200          24.87       53.18    0.53\n",
            "  0    1400          25.58       53.03    0.53\n",
            "  0    1600          24.68       53.29    0.53\n",
            "  1    1800          23.85       53.65    0.54\n",
            "  1    2000          20.89       53.85    0.54\n",
            "  1    2200          22.10       54.37    0.54\n",
            "  1    2400          20.91       54.22    0.54\n",
            "  1    2600          21.23       54.69    0.55\n",
            "  1    2800          22.83       54.63    0.55\n",
            "  1    3000          20.36       54.45    0.54\n",
            "  1    3200          20.11       54.90    0.55\n",
            "  1    3400          19.49       54.57    0.55\n",
            "  2    3600          18.18       55.03    0.55\n",
            "  2    3800          18.08       54.96    0.55\n",
            "  2    4000          17.69       55.25    0.55\n",
            "  2    4200          17.67       55.42    0.55\n",
            "  2    4400          19.33       55.27    0.55\n",
            "  2    4600          19.05       55.10    0.55\n",
            "  2    4800          17.62       55.21    0.55\n",
            "  2    5000          17.74       55.33    0.55\n",
            "  3    5200          17.57       55.19    0.55\n",
            "  3    5400          14.78       55.50    0.56\n",
            "  3    5600          15.10       55.57    0.56\n",
            "  3    5800          15.25       55.94    0.56\n",
            "  3    6000          15.91       55.80    0.56\n",
            "  3    6200          15.38       55.79    0.56\n",
            "  3    6400          15.22       55.84    0.56\n",
            "  3    6600          18.60       55.58    0.56\n",
            "  3    6800          17.01       55.68    0.56\n",
            "  4    7000          14.41       55.91    0.56\n",
            "  4    7200          14.10       55.65    0.56\n",
            "  4    7400          14.77       55.87    0.56\n",
            "\u001b[38;5;2m✔ Saved pipeline to output directory\u001b[0m\n",
            "/content/drive/MyDrive/data/output_textcat_06/model-last\n"
          ]
        }
      ],
      "source": [
        "!python -m spacy train ./spacy_textcat_09.cfg --output /content/drive/MyDrive/data/output_textcat_06 --paths.train /content/drive/MyDrive/data/train.spacy --paths.dev /content/drive/MyDrive/data/dev.spacy --gpu-id 0"
      ],
      "id": "PghYHYDVgktY"
    },
    {
      "cell_type": "code",
      "source": [
        "1"
      ],
      "metadata": {
        "id": "3bZZ0G2l30s0"
      },
      "id": "3bZZ0G2l30s0",
      "execution_count": null,
      "outputs": []
    },
    {
      "cell_type": "code",
      "execution_count": 62,
      "metadata": {
        "id": "mDLgJUS-jCCd"
      },
      "outputs": [],
      "source": [
        "import spacy\n",
        "nlp = spacy.load(\"/content/drive/MyDrive/data/output_textcat_06/model-best\")"
      ],
      "id": "mDLgJUS-jCCd"
    },
    {
      "cell_type": "code",
      "execution_count": 63,
      "metadata": {
        "id": "89103b7c"
      },
      "outputs": [],
      "source": [
        "predictions = []\n",
        "for idx in range(len(df_val)):\n",
        "    doc = nlp(df_val.text.apply(str).iloc[idx])\n",
        "    predictions.append(doc.cats)"
      ],
      "id": "89103b7c"
    },
    {
      "cell_type": "code",
      "execution_count": 64,
      "metadata": {
        "id": "4832e5ba"
      },
      "outputs": [],
      "source": [
        "pred_proba = []\n",
        "for idx in range(len(df_val)):\n",
        "    pred_proba.append([predictions[idx][str(a)] for a in range(num_classes)])"
      ],
      "id": "4832e5ba"
    },
    {
      "cell_type": "code",
      "execution_count": 65,
      "metadata": {
        "id": "wia77Kufub2v",
        "colab": {
          "base_uri": "https://localhost:8080/"
        },
        "outputId": "85922236-8c35-4cb6-82b2-57267ea628ee"
      },
      "outputs": [
        {
          "output_type": "stream",
          "name": "stderr",
          "text": [
            "/usr/local/lib/python3.7/dist-packages/ipykernel_launcher.py:16: SettingWithCopyWarning: \n",
            "A value is trying to be set on a copy of a slice from a DataFrame.\n",
            "Try using .loc[row_indexer,col_indexer] = value instead\n",
            "\n",
            "See the caveats in the documentation: https://pandas.pydata.org/pandas-docs/stable/user_guide/indexing.html#returning-a-view-versus-a-copy\n",
            "  app.launch_new_instance()\n",
            "/usr/local/lib/python3.7/dist-packages/ipykernel_launcher.py:17: SettingWithCopyWarning: \n",
            "A value is trying to be set on a copy of a slice from a DataFrame.\n",
            "Try using .loc[row_indexer,col_indexer] = value instead\n",
            "\n",
            "See the caveats in the documentation: https://pandas.pydata.org/pandas-docs/stable/user_guide/indexing.html#returning-a-view-versus-a-copy\n",
            "/usr/local/lib/python3.7/dist-packages/ipykernel_launcher.py:18: SettingWithCopyWarning: \n",
            "A value is trying to be set on a copy of a slice from a DataFrame.\n",
            "Try using .loc[row_indexer,col_indexer] = value instead\n",
            "\n",
            "See the caveats in the documentation: https://pandas.pydata.org/pandas-docs/stable/user_guide/indexing.html#returning-a-view-versus-a-copy\n",
            "/usr/local/lib/python3.7/dist-packages/ipykernel_launcher.py:19: SettingWithCopyWarning: \n",
            "A value is trying to be set on a copy of a slice from a DataFrame.\n",
            "Try using .loc[row_indexer,col_indexer] = value instead\n",
            "\n",
            "See the caveats in the documentation: https://pandas.pydata.org/pandas-docs/stable/user_guide/indexing.html#returning-a-view-versus-a-copy\n"
          ]
        }
      ],
      "source": [
        "y_pred_phase = []\n",
        "y_pred_num_arms = []\n",
        "y_pred_num_subjects = []\n",
        "y_pred_sap = []\n",
        "for idx in range(len(pred_proba)):\n",
        "  probas_this_instance = pred_proba[idx]\n",
        "  probas_phase = probas_this_instance[:len(phase_lookup)]\n",
        "  y_pred_phase.append(phase_lookup[int(np.argmax(probas_phase))])\n",
        "  probas_arms = probas_this_instance[len(phase_lookup):len(phase_lookup)+5]\n",
        "  y_pred_num_arms.append(1 + int(np.argmax(probas_arms)))\n",
        "  probas_subjects = probas_this_instance[len(phase_lookup)+5:-1]\n",
        "  y_pred_num_subjects.append(num_subjects_lookup[int(np.argmax(probas_subjects))])\n",
        "  probas_sap = probas_this_instance[-1:]\n",
        "  y_pred_sap.append(probas_sap[0] > 0.5)\n",
        "\n",
        "df_val[\"y_pred_phase\"] = y_pred_phase\n",
        "df_val[\"y_pred_num_arms\"] = y_pred_num_arms\n",
        "df_val[\"y_pred_num_subjects\"] = y_pred_num_subjects\n",
        "df_val[\"y_pred_sap\"] = y_pred_sap"
      ],
      "id": "wia77Kufub2v"
    },
    {
      "cell_type": "code",
      "execution_count": 65,
      "metadata": {
        "id": "DbBjX9-agkVH"
      },
      "outputs": [],
      "source": [],
      "id": "DbBjX9-agkVH"
    },
    {
      "cell_type": "markdown",
      "metadata": {
        "id": "ZNUbeGPw5KWg"
      },
      "source": [
        "## Phase"
      ],
      "id": "ZNUbeGPw5KWg"
    },
    {
      "cell_type": "code",
      "execution_count": 66,
      "metadata": {
        "id": "sznpf_e24NvP",
        "colab": {
          "base_uri": "https://localhost:8080/"
        },
        "outputId": "2dadcb9c-db58-4e22-e4a1-6b69b19c4d0b"
      },
      "outputs": [
        {
          "output_type": "stream",
          "name": "stdout",
          "text": [
            "Phase accuracy 0.44423963133640554\n"
          ]
        }
      ],
      "source": [
        "acc = accuracy_score(df_val.phase_clean.apply(str), df_val[\"y_pred_phase\"])\n",
        "print (f\"Phase accuracy {acc}\")"
      ],
      "id": "sznpf_e24NvP"
    },
    {
      "cell_type": "code",
      "execution_count": 67,
      "metadata": {
        "id": "zLJ_MQih4T9n",
        "colab": {
          "base_uri": "https://localhost:8080/",
          "height": 314
        },
        "outputId": "18256f4d-8092-4394-e187-947926f4adfe"
      },
      "outputs": [
        {
          "output_type": "execute_result",
          "data": {
            "text/plain": [
              "''"
            ],
            "application/vnd.google.colaboratory.intrinsic+json": {
              "type": "string"
            }
          },
          "metadata": {},
          "execution_count": 67
        },
        {
          "output_type": "display_data",
          "data": {
            "text/plain": [
              "<Figure size 432x288 with 2 Axes>"
            ],
            "image/png": "[encoded data removed]"
          },
          "metadata": {
            "needs_background": "light"
          }
        }
      ],
      "source": [
        "ConfusionMatrixDisplay.from_predictions(df_val.phase_clean.apply(str), df_val[\"y_pred_phase\"])\n",
        "plt.xticks(rotation=90)\n",
        ";"
      ],
      "id": "zLJ_MQih4T9n"
    },
    {
      "cell_type": "markdown",
      "metadata": {
        "id": "Fz_EyOrB5PXa"
      },
      "source": [
        "# Number of arms"
      ],
      "id": "Fz_EyOrB5PXa"
    },
    {
      "cell_type": "code",
      "execution_count": 68,
      "metadata": {
        "id": "X8IsVDo34YTg",
        "colab": {
          "base_uri": "https://localhost:8080/"
        },
        "outputId": "f50ccd4f-9af2-4fee-9bb6-85bf57cff9a1"
      },
      "outputs": [
        {
          "output_type": "stream",
          "name": "stdout",
          "text": [
            "Num arms accuracy 0.576036866359447\n"
          ]
        }
      ],
      "source": [
        "acc = accuracy_score(df_val.num_arms_clean.apply(float).apply(str), df_val[\"y_pred_num_arms\"].apply(float).apply(str))\n",
        "print (f\"Num arms accuracy {acc}\")"
      ],
      "id": "X8IsVDo34YTg"
    },
    {
      "cell_type": "code",
      "execution_count": 69,
      "metadata": {
        "id": "idb1W6VE4kIp",
        "colab": {
          "base_uri": "https://localhost:8080/",
          "height": 307
        },
        "outputId": "d1527d04-9de4-4356-eeac-2013fc5e1778"
      },
      "outputs": [
        {
          "output_type": "execute_result",
          "data": {
            "text/plain": [
              "''"
            ],
            "application/vnd.google.colaboratory.intrinsic+json": {
              "type": "string"
            }
          },
          "metadata": {},
          "execution_count": 69
        },
        {
          "output_type": "display_data",
          "data": {
            "text/plain": [
              "<Figure size 432x288 with 2 Axes>"
            ],
            "image/png": "[encoded data removed]"
          },
          "metadata": {
            "needs_background": "light"
          }
        }
      ],
      "source": [
        "ConfusionMatrixDisplay.from_predictions(df_val.num_arms_clean.apply(float).apply(str), df_val[\"y_pred_num_arms\"].apply(float).apply(str))\n",
        "plt.xticks(rotation=90)\n",
        ";"
      ],
      "id": "idb1W6VE4kIp"
    },
    {
      "cell_type": "markdown",
      "metadata": {
        "id": "lLWC7P1k5NSX"
      },
      "source": [
        "## Subjects"
      ],
      "id": "lLWC7P1k5NSX"
    },
    {
      "cell_type": "code",
      "execution_count": 70,
      "metadata": {
        "id": "rYhLhDmnNuAl",
        "colab": {
          "base_uri": "https://localhost:8080/"
        },
        "outputId": "06ae8b5a-e885-4766-91d5-005d9e348716"
      },
      "outputs": [
        {
          "output_type": "stream",
          "name": "stdout",
          "text": [
            "Subjects accuracy 0.2709677419354839\n"
          ]
        }
      ],
      "source": [
        "acc = accuracy_score(df_val.num_subjects_clean, df_val[\"y_pred_num_subjects\"])\n",
        "print (f\"Subjects accuracy {acc}\")"
      ],
      "id": "rYhLhDmnNuAl"
    },
    {
      "cell_type": "code",
      "execution_count": 71,
      "metadata": {
        "id": "XOiQVXB0NuHC",
        "colab": {
          "base_uri": "https://localhost:8080/",
          "height": 328
        },
        "outputId": "e085b1de-f17f-4e2b-a9c3-2600df08289c"
      },
      "outputs": [
        {
          "output_type": "execute_result",
          "data": {
            "text/plain": [
              "''"
            ],
            "application/vnd.google.colaboratory.intrinsic+json": {
              "type": "string"
            }
          },
          "metadata": {},
          "execution_count": 71
        },
        {
          "output_type": "display_data",
          "data": {
            "text/plain": [
              "<Figure size 432x288 with 2 Axes>"
            ],
            "image/png": "[encoded data removed]"
          },
          "metadata": {
            "needs_background": "light"
          }
        }
      ],
      "source": [
        "ConfusionMatrixDisplay.from_predictions(df_val.num_subjects_clean, df_val[\"y_pred_num_subjects\"], labels=num_subjects_list)\n",
        "plt.xticks(rotation=90)\n",
        ";"
      ],
      "id": "XOiQVXB0NuHC"
    },
    {
      "cell_type": "code",
      "execution_count": 72,
      "metadata": {
        "id": "VzFHDCRtmBA6",
        "colab": {
          "base_uri": "https://localhost:8080/"
        },
        "outputId": "9cea5b00-ff11-4289-fae2-2181b3b20222"
      },
      "outputs": [
        {
          "output_type": "stream",
          "name": "stdout",
          "text": [
            "Accuracy including adjacent groups 0.5253456221198156\n"
          ]
        }
      ],
      "source": [
        "num_correct = 0\n",
        "for idx in range(len(df_val)):\n",
        "  gt = num_subjects_clean_map[df_val[\"num_subjects_clean\"].iloc[idx]]\n",
        "  pred = num_subjects_clean_map[df_val[\"y_pred_num_subjects\"].iloc[idx]]\n",
        "  is_correct = int(np.abs(gt - pred) <= 1)\n",
        "  num_correct += is_correct\n",
        "print (\"Accuracy including adjacent groups\", num_correct/len(df_val))"
      ],
      "id": "VzFHDCRtmBA6"
    },
    {
      "cell_type": "code",
      "execution_count": 72,
      "metadata": {
        "id": "1MU1NT4T_DLO"
      },
      "outputs": [],
      "source": [],
      "id": "1MU1NT4T_DLO"
    },
    {
      "cell_type": "markdown",
      "metadata": {
        "id": "tNsHUs9VBl4u"
      },
      "source": [
        "## SAP"
      ],
      "id": "tNsHUs9VBl4u"
    },
    {
      "cell_type": "code",
      "execution_count": 73,
      "metadata": {
        "id": "w9KjSCypBmgs",
        "colab": {
          "base_uri": "https://localhost:8080/"
        },
        "outputId": "5563bd52-e17e-4ddf-d157-7e6b41a4b5da"
      },
      "outputs": [
        {
          "output_type": "stream",
          "name": "stdout",
          "text": [
            "SAP accuracy 0.8055299539170507\n"
          ]
        }
      ],
      "source": [
        "acc = accuracy_score(df_val.has_sap, df_val[\"y_pred_sap\"])\n",
        "print (f\"SAP accuracy {acc}\")"
      ],
      "id": "w9KjSCypBmgs"
    },
    {
      "cell_type": "code",
      "execution_count": 74,
      "metadata": {
        "id": "Yt36Zw4wB4P9",
        "colab": {
          "base_uri": "https://localhost:8080/",
          "height": 304
        },
        "outputId": "2e2315e0-72f1-4f12-bb93-3f5cbf385a10"
      },
      "outputs": [
        {
          "output_type": "execute_result",
          "data": {
            "text/plain": [
              "''"
            ],
            "application/vnd.google.colaboratory.intrinsic+json": {
              "type": "string"
            }
          },
          "metadata": {},
          "execution_count": 74
        },
        {
          "output_type": "display_data",
          "data": {
            "text/plain": [
              "<Figure size 432x288 with 2 Axes>"
            ],
            "image/png": "[encoded data removed]"
          },
          "metadata": {
            "needs_background": "light"
          }
        }
      ],
      "source": [
        "ConfusionMatrixDisplay.from_predictions(df_val.has_sap, df_val[\"y_pred_sap\"])\n",
        "plt.xticks(rotation=90)\n",
        ";"
      ],
      "id": "Yt36Zw4wB4P9"
    },
    {
      "cell_type": "code",
      "execution_count": 74,
      "metadata": {
        "id": "f5f4a3b1"
      },
      "outputs": [],
      "source": [],
      "id": "f5f4a3b1"
    },
    {
      "cell_type": "code",
      "execution_count": 74,
      "metadata": {
        "id": "96d94c76"
      },
      "outputs": [],
      "source": [],
      "id": "96d94c76"
    },
    {
      "cell_type": "code",
      "execution_count": 61,
      "metadata": {
        "id": "dd10b723"
      },
      "outputs": [],
      "source": [],
      "id": "dd10b723"
    }
  ],
  "metadata": {
    "accelerator": "GPU",
    "colab": {
      "collapsed_sections": [],
      "machine_shape": "hm",
      "provenance": [],
      "include_colab_link": true
    },
    "gpuClass": "premium",
    "kernelspec": {
      "display_name": "Python [conda env:py310] *",
      "language": "python",
      "name": "conda-env-py310-py"
    },
    "language_info": {
      "codemirror_mode": {
        "name": "ipython",
        "version": 3
      },
      "file_extension": ".py",
      "mimetype": "text/x-python",
      "name": "python",
      "nbconvert_exporter": "python",
      "pygments_lexer": "ipython3",
      "version": "3.10.4"
    }
  },
  "nbformat": 4,
  "nbformat_minor": 5
}