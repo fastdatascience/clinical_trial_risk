{
  "cells": [
    {
      "cell_type": "markdown",
      "metadata": {
        "id": "view-in-github",
        "colab_type": "text"
      },
      "source": [
        "<a href=\"https://colab.research.google.com/github/fastdatascience/clinical_trial_risk/blob/fixes_nov_2022/train/ctgov/TrainNumCountriesClassifier_11_Spacy_in_command_line.ipynb\" target=\"_parent\"><img src=\"https://colab.research.google.com/assets/colab-badge.svg\" alt=\"Open In Colab\"/></a>"
      ]
    },
    {
      "cell_type": "code",
      "execution_count": 1,
      "metadata": {
        "id": "0557d6c8"
      },
      "outputs": [],
      "source": [
        "import pandas as pd\n",
        "import re\n",
        "import os\n",
        "import sys\n",
        "import pickle as pkl\n",
        "import seaborn as sns\n",
        "from sklearn.metrics import accuracy_score, confusion_matrix\n",
        "from sklearn.metrics import ConfusionMatrixDisplay\n",
        "from sklearn.metrics import mean_absolute_error, mean_squared_error\n",
        "from sklearn.metrics import roc_auc_score\n",
        "from sklearn.metrics import roc_curve, auc\n",
        "from IPython.display import display\n",
        "import matplotlib.pyplot as plt\n",
        "import numpy as np\n",
        "import json\n",
        "\n"
      ],
      "id": "0557d6c8"
    },
    {
      "cell_type": "code",
      "execution_count": 2,
      "metadata": {
        "colab": {
          "base_uri": "https://localhost:8080/"
        },
        "id": "3cTsWWseCCMc",
        "outputId": "c1b9ed20-1152-4894-89dc-44d2e3790be9"
      },
      "outputs": [
        {
          "output_type": "stream",
          "name": "stdout",
          "text": [
            "Mounted at /content/drive\n"
          ]
        }
      ],
      "source": [
        "from google.colab import drive\n",
        "drive.mount('/content/drive')"
      ],
      "id": "3cTsWWseCCMc"
    },
    {
      "cell_type": "code",
      "execution_count": 3,
      "metadata": {
        "id": "92CbJN_cCFul"
      },
      "outputs": [],
      "source": [
        "df_annotations = pd.read_csv(\"/content/drive/MyDrive/data/all_annotations.csv\")\n"
      ],
      "id": "92CbJN_cCFul"
    },
    {
      "cell_type": "markdown",
      "metadata": {
        "id": "4b2e7a73"
      },
      "source": [
        "# Get data"
      ],
      "id": "4b2e7a73"
    },
    {
      "cell_type": "code",
      "execution_count": 4,
      "metadata": {
        "id": "c8ebd7a5"
      },
      "outputs": [],
      "source": [
        "with open(\"/content/drive/MyDrive/data/protocols.pkl.gz\", \"rb\") as f:\n",
        "    file_to_pages = pkl.load(f)"
      ],
      "id": "c8ebd7a5"
    },
    {
      "cell_type": "code",
      "execution_count": 5,
      "metadata": {
        "id": "9fbe5bf0"
      },
      "outputs": [],
      "source": [
        "texts = []\n",
        "\n",
        "for i in range(len(df_annotations)):\n",
        "    file_name = df_annotations.file.iloc[i]\n",
        "    \n",
        "    pages= file_to_pages[file_name]\n",
        "    # Limit to first 3 pages because of memory constraints\n",
        "    if len(pages) > 3:\n",
        "      pages = pages[:3]\n",
        "\n",
        "    texts.append(\" \".join(pages))\n",
        "df_annotations[\"text\"] = texts"
      ],
      "id": "9fbe5bf0"
    },
    {
      "cell_type": "code",
      "source": [
        "def get_num_countries(x):\n",
        "  if x is not None and type(x) is str:\n",
        "    return len(x.split(\",\"))\n",
        "  return None"
      ],
      "metadata": {
        "id": "JniZD4eZDqjn"
      },
      "id": "JniZD4eZDqjn",
      "execution_count": 6,
      "outputs": []
    },
    {
      "cell_type": "code",
      "execution_count": 7,
      "metadata": {
        "id": "f3322e30"
      },
      "outputs": [],
      "source": [
        "df_annotations[\"num_countries\"] = df_annotations.country.apply(get_num_countries)"
      ],
      "id": "f3322e30"
    },
    {
      "cell_type": "code",
      "source": [
        "df_annotations[\"num_countries\"].value_counts()"
      ],
      "metadata": {
        "colab": {
          "base_uri": "https://localhost:8080/"
        },
        "id": "nZgEgMEKD4XR",
        "outputId": "86f93271-38e8-41d3-e516-6c3ea6958621"
      },
      "id": "nZgEgMEKD4XR",
      "execution_count": 8,
      "outputs": [
        {
          "output_type": "execute_result",
          "data": {
            "text/plain": [
              "1.0     7998\n",
              "2.0      726\n",
              "3.0      341\n",
              "4.0      263\n",
              "5.0      230\n",
              "6.0      225\n",
              "7.0      193\n",
              "8.0      176\n",
              "10.0     155\n",
              "9.0      137\n",
              "11.0     135\n",
              "12.0     116\n",
              "13.0     109\n",
              "14.0      92\n",
              "15.0      90\n",
              "17.0      78\n",
              "18.0      68\n",
              "16.0      65\n",
              "21.0      57\n",
              "20.0      56\n",
              "19.0      54\n",
              "23.0      47\n",
              "22.0      44\n",
              "24.0      35\n",
              "25.0      31\n",
              "26.0      27\n",
              "29.0      22\n",
              "30.0      21\n",
              "27.0      20\n",
              "31.0      19\n",
              "28.0      18\n",
              "32.0      17\n",
              "33.0      14\n",
              "41.0      11\n",
              "34.0      11\n",
              "38.0       8\n",
              "39.0       8\n",
              "37.0       7\n",
              "43.0       7\n",
              "36.0       6\n",
              "35.0       6\n",
              "44.0       6\n",
              "40.0       6\n",
              "48.0       6\n",
              "47.0       3\n",
              "42.0       2\n",
              "49.0       2\n",
              "50.0       2\n",
              "45.0       1\n",
              "58.0       1\n",
              "46.0       1\n",
              "62.0       1\n",
              "51.0       1\n",
              "54.0       1\n",
              "Name: num_countries, dtype: int64"
            ]
          },
          "metadata": {},
          "execution_count": 8
        }
      ]
    },
    {
      "cell_type": "code",
      "execution_count": 9,
      "metadata": {
        "id": "df0ea588"
      },
      "outputs": [],
      "source": [
        "def get_is_international(num):\n",
        "    if num is None or pd.isna(num):\n",
        "      return None\n",
        "    if num >= 2:\n",
        "      return 1\n",
        "    return 0\n",
        "df_annotations[\"is_international\"] = df_annotations[\"num_countries\"].apply(get_is_international)"
      ],
      "id": "df0ea588"
    },
    {
      "cell_type": "code",
      "source": [
        "df_annotations[\"is_international\"].value_counts()"
      ],
      "metadata": {
        "colab": {
          "base_uri": "https://localhost:8080/"
        },
        "id": "dMes2ySpmDep",
        "outputId": "c3545fbf-1396-4e29-85c7-f6a3a69b8495"
      },
      "id": "dMes2ySpmDep",
      "execution_count": 10,
      "outputs": [
        {
          "output_type": "execute_result",
          "data": {
            "text/plain": [
              "0.0    7998\n",
              "1.0    3778\n",
              "Name: is_international, dtype: int64"
            ]
          },
          "metadata": {},
          "execution_count": 10
        }
      ]
    },
    {
      "cell_type": "markdown",
      "metadata": {
        "id": "a2e91853"
      },
      "source": [
        "# Train and evaluate the number of countries extractor"
      ],
      "id": "a2e91853"
    },
    {
      "cell_type": "code",
      "execution_count": 11,
      "metadata": {
        "id": "471252e4"
      },
      "outputs": [],
      "source": [
        "df_train = df_annotations[(df_annotations.train_val == \"train\") & (~df_annotations.is_international.isna())]"
      ],
      "id": "471252e4"
    },
    {
      "cell_type": "code",
      "source": [
        "df_train_to_augment = df_train[df_train.is_international == 1]"
      ],
      "metadata": {
        "id": "OoHXMePdlfqc"
      },
      "id": "OoHXMePdlfqc",
      "execution_count": 12,
      "outputs": []
    },
    {
      "cell_type": "code",
      "source": [
        "df_train_augmented = df_train # pd.concat([df_train, df_train_to_augment])"
      ],
      "metadata": {
        "id": "WM1BHqRamTcd"
      },
      "id": "WM1BHqRamTcd",
      "execution_count": 13,
      "outputs": []
    },
    {
      "cell_type": "code",
      "source": [
        "df_train_augmented[\"is_international\"].value_counts()"
      ],
      "metadata": {
        "colab": {
          "base_uri": "https://localhost:8080/"
        },
        "id": "wYMXvtjHmcBI",
        "outputId": "4de8f8b0-506e-47a9-eeac-9d60d55eb474"
      },
      "id": "wYMXvtjHmcBI",
      "execution_count": 14,
      "outputs": [
        {
          "output_type": "execute_result",
          "data": {
            "text/plain": [
              "0.0    6375\n",
              "1.0    3052\n",
              "Name: is_international, dtype: int64"
            ]
          },
          "metadata": {},
          "execution_count": 14
        }
      ]
    },
    {
      "cell_type": "code",
      "execution_count": 15,
      "metadata": {
        "id": "b8ac14ec"
      },
      "outputs": [],
      "source": [
        "df_val = df_annotations[df_annotations.train_val == \"val\"]"
      ],
      "id": "b8ac14ec"
    },
    {
      "cell_type": "markdown",
      "source": [
        "# Begin Spacy"
      ],
      "metadata": {
        "id": "SfBgW4gfxcij"
      },
      "id": "SfBgW4gfxcij"
    },
    {
      "cell_type": "code",
      "source": [
        "import spacy\n",
        "\n",
        "nlp = spacy.blank(\"en\")\n",
        "from spacy.tokens import DocBin\n",
        "\n",
        "docs_train = DocBin()\n",
        "docs_val = DocBin()\n",
        "\n",
        "for idx in range(len(df_annotations)):\n",
        "  if idx % 100 == 0:\n",
        "    print (idx, len(df_annotations))\n",
        "  if df_annotations.train_val.iloc[idx] == \"train\":\n",
        "    docs_list = docs_train\n",
        "  else:\n",
        "    docs_list = docs_val\n",
        "  text = str(df_annotations.text.iloc[idx])\n",
        "  if len(text) > 100000:\n",
        "      text = text[:100000]\n",
        "  doc = nlp(text)\n",
        "\n",
        "  cats = {\"0\":0,\"1\":0}\n",
        "  is_international = df_annotations.is_international.iloc[idx]\n",
        "  if pd.isna(is_international):\n",
        "    is_international = 0\n",
        "  cats[str(int(is_international))] = 1\n",
        "  doc.cats = cats\n",
        "\n",
        "  docs_list.add(doc)"
      ],
      "metadata": {
        "colab": {
          "base_uri": "https://localhost:8080/"
        },
        "id": "KvW8o14rzkOh",
        "outputId": "4aa62734-8c5b-4f1c-9492-1d69c7681323"
      },
      "id": "KvW8o14rzkOh",
      "execution_count": 19,
      "outputs": [
        {
          "output_type": "stream",
          "name": "stdout",
          "text": [
            "0 11924\n",
            "100 11924\n",
            "200 11924\n",
            "300 11924\n",
            "400 11924\n",
            "500 11924\n",
            "600 11924\n",
            "700 11924\n",
            "800 11924\n",
            "900 11924\n",
            "1000 11924\n",
            "1100 11924\n",
            "1200 11924\n",
            "1300 11924\n",
            "1400 11924\n",
            "1500 11924\n",
            "1600 11924\n",
            "1700 11924\n",
            "1800 11924\n",
            "1900 11924\n",
            "2000 11924\n",
            "2100 11924\n",
            "2200 11924\n",
            "2300 11924\n",
            "2400 11924\n",
            "2500 11924\n",
            "2600 11924\n",
            "2700 11924\n",
            "2800 11924\n",
            "2900 11924\n",
            "3000 11924\n",
            "3100 11924\n",
            "3200 11924\n",
            "3300 11924\n",
            "3400 11924\n",
            "3500 11924\n",
            "3600 11924\n",
            "3700 11924\n",
            "3800 11924\n",
            "3900 11924\n",
            "4000 11924\n",
            "4100 11924\n",
            "4200 11924\n",
            "4300 11924\n",
            "4400 11924\n",
            "4500 11924\n",
            "4600 11924\n",
            "4700 11924\n",
            "4800 11924\n",
            "4900 11924\n",
            "5000 11924\n",
            "5100 11924\n",
            "5200 11924\n",
            "5300 11924\n",
            "5400 11924\n",
            "5500 11924\n",
            "5600 11924\n",
            "5700 11924\n",
            "5800 11924\n",
            "5900 11924\n",
            "6000 11924\n",
            "6100 11924\n",
            "6200 11924\n",
            "6300 11924\n",
            "6400 11924\n",
            "6500 11924\n",
            "6600 11924\n",
            "6700 11924\n",
            "6800 11924\n",
            "6900 11924\n",
            "7000 11924\n",
            "7100 11924\n",
            "7200 11924\n",
            "7300 11924\n",
            "7400 11924\n",
            "7500 11924\n",
            "7600 11924\n",
            "7700 11924\n",
            "7800 11924\n",
            "7900 11924\n",
            "8000 11924\n",
            "8100 11924\n",
            "8200 11924\n",
            "8300 11924\n",
            "8400 11924\n",
            "8500 11924\n",
            "8600 11924\n",
            "8700 11924\n",
            "8800 11924\n",
            "8900 11924\n",
            "9000 11924\n",
            "9100 11924\n",
            "9200 11924\n",
            "9300 11924\n",
            "9400 11924\n",
            "9500 11924\n",
            "9600 11924\n",
            "9700 11924\n",
            "9800 11924\n",
            "9900 11924\n",
            "10000 11924\n",
            "10100 11924\n",
            "10200 11924\n",
            "10300 11924\n",
            "10400 11924\n",
            "10500 11924\n",
            "10600 11924\n",
            "10700 11924\n",
            "10800 11924\n",
            "10900 11924\n",
            "11000 11924\n",
            "11100 11924\n",
            "11200 11924\n",
            "11300 11924\n",
            "11400 11924\n",
            "11500 11924\n",
            "11600 11924\n",
            "11700 11924\n",
            "11800 11924\n",
            "11900 11924\n"
          ]
        }
      ]
    },
    {
      "cell_type": "code",
      "source": [
        "docs_val.to_disk(\"/content/drive/MyDrive/data/dev_is_international.spacy\")\n",
        "docs_train.to_disk(\"/content/drive/MyDrive/data/train_is_international.spacy\")\n",
        "\n",
        "# for idx, doc_bin_train in enumerate(docs_train):\n",
        "#   doc_bin_train.to_disk(f\"/content/drive/MyDrive/data/train_is_international.spacy/train_doc_bin{idx}.spacy\")"
      ],
      "metadata": {
        "id": "FCwDsuzoz-VF"
      },
      "id": "FCwDsuzoz-VF",
      "execution_count": 20,
      "outputs": []
    },
    {
      "cell_type": "code",
      "source": [
        "# !python -m spacy init fill-config base_config.cfg spacy_textcat_is_international_11.cfg"
      ],
      "metadata": {
        "colab": {
          "base_uri": "https://localhost:8080/"
        },
        "id": "4W_3MT1S1HB2",
        "outputId": "72499a3b-c7be-473b-a97d-0888644f1583"
      },
      "id": "4W_3MT1S1HB2",
      "execution_count": 21,
      "outputs": [
        {
          "output_type": "stream",
          "name": "stdout",
          "text": [
            "\u001b[38;5;2m✔ Auto-filled config with all values\u001b[0m\n",
            "\u001b[38;5;2m✔ Saved config\u001b[0m\n",
            "spacy_textcat_is_international_11.cfg\n",
            "You can now add your data and train your pipeline:\n",
            "python -m spacy train spacy_textcat_is_international_11.cfg --paths.train ./train.spacy --paths.dev ./dev.spacy\n"
          ]
        }
      ]
    },
    {
      "cell_type": "code",
      "source": [
        "!python -m spacy train ./spacy_textcat_is_international_11.cfg --output /content/drive/MyDrive/data/output_textcat_is_international_11 --paths.train /content/drive/MyDrive/data/train_is_international.spacy --paths.dev /content/drive/MyDrive/data/dev_is_international.spacy --gpu-id 0"
      ],
      "metadata": {
        "colab": {
          "base_uri": "https://localhost:8080/"
        },
        "id": "sUWoDWS90p2B",
        "outputId": "95b09c58-92cb-4e11-b3cc-a2a16b1913b8"
      },
      "id": "sUWoDWS90p2B",
      "execution_count": 22,
      "outputs": [
        {
          "output_type": "stream",
          "name": "stdout",
          "text": [
            "\u001b[38;5;2m✔ Created output directory:\n",
            "/content/drive/MyDrive/data/output_textcat_is_international_11\u001b[0m\n",
            "\u001b[38;5;4mℹ Saving to output directory:\n",
            "/content/drive/MyDrive/data/output_textcat_is_international_11\u001b[0m\n",
            "\u001b[38;5;4mℹ Using GPU: 0\u001b[0m\n",
            "\u001b[1m\n",
            "=========================== Initializing pipeline ===========================\u001b[0m\n",
            "[2022-11-15 10:28:43,267] [INFO] Set up nlp object from config\n",
            "INFO:spacy:Set up nlp object from config\n",
            "[2022-11-15 10:28:43,278] [INFO] Pipeline: ['textcat']\n",
            "INFO:spacy:Pipeline: ['textcat']\n",
            "[2022-11-15 10:28:43,282] [INFO] Created vocabulary\n",
            "INFO:spacy:Created vocabulary\n",
            "[2022-11-15 10:28:43,283] [INFO] Finished initializing nlp object\n",
            "INFO:spacy:Finished initializing nlp object\n",
            "tcmalloc: large alloc 1073750016 bytes == 0xbc95a000 @  0x7f6a929102a4 0x58ead6 0x441ff3 0x5d1f81 0x5d2306 0x58f62c 0x5105e2 0x58fd37 0x50ca37 0x58fd37 0x50ca37 0x4d01b4 0x50cb8d 0x4d01b4 0x50cb8d 0x4d01b4 0x7f69352cf7c6 0x4ba72b 0x7f69352cdce3 0x58f6e4 0x50ff13 0x5b575e 0x4bad0a 0x4d3249 0x591e56 0x50e18c 0x5b575e 0x58ff2e 0x50d482 0x5b575e 0x58ff2e\n",
            "[2022-11-15 10:31:14,873] [INFO] Initialized pipeline components: ['textcat']\n",
            "INFO:spacy:Initialized pipeline components: ['textcat']\n",
            "\u001b[38;5;2m✔ Initialized pipeline\u001b[0m\n",
            "\u001b[1m\n",
            "============================= Training pipeline =============================\u001b[0m\n",
            "\u001b[38;5;4mℹ Pipeline: ['textcat']\u001b[0m\n",
            "\u001b[38;5;4mℹ Initial learn rate: 0.0\u001b[0m\n",
            "E    #       LOSS TEXTCAT  CATS_SCORE  SCORE \n",
            "---  ------  ------------  ----------  ------\n",
            "  0       0          0.25       41.03    0.41\n",
            "  0     200         58.60       41.03    0.41\n",
            "  0     400         75.45       54.65    0.55\n",
            "  0     600         48.21       69.54    0.70\n",
            "  0     800         53.29       63.22    0.63\n",
            "  0    1000         45.73       74.18    0.74\n",
            "  0    1200         56.06       70.63    0.71\n",
            "  0    1400         42.48       71.66    0.72\n",
            "  0    1600         42.15       76.67    0.77\n",
            "  0    1800         40.33       76.10    0.76\n",
            "  0    2000         35.40       77.06    0.77\n",
            "  0    2200         49.36       76.74    0.77\n",
            "  0    2400         32.34       77.94    0.78\n",
            "  0    2600         39.98       77.78    0.78\n",
            "  0    2800         32.38       76.86    0.77\n",
            "  0    3000         43.69       78.21    0.78\n",
            "  0    3200         36.50       78.83    0.79\n",
            "  0    3400         43.53       78.37    0.78\n",
            "  0    3600         39.83       78.73    0.79\n",
            "  0    3800         38.41       78.91    0.79\n",
            "  0    4000         41.65       78.51    0.79\n",
            "  0    4200         26.38       79.23    0.79\n",
            "  0    4400         44.52       79.78    0.80\n",
            "  0    4600         30.40       79.40    0.79\n",
            "  0    4800         44.14       79.29    0.79\n",
            "  1    5000         34.09       79.86    0.80\n",
            "  1    5200         30.83       79.83    0.80\n",
            "  1    5400         25.74       79.98    0.80\n",
            "  1    5600         36.75       79.94    0.80\n",
            "  1    5800         26.16       80.39    0.80\n",
            "  1    6000         34.04       79.39    0.79\n",
            "  1    6200         23.77       80.10    0.80\n",
            "  1    6400         36.11       80.35    0.80\n",
            "  1    6600         25.71       79.26    0.79\n",
            "  1    6800         37.86       80.23    0.80\n",
            "  1    7000         24.05       80.62    0.81\n",
            "  1    7200         26.80       80.89    0.81\n",
            "  1    7400         38.43       80.87    0.81\n",
            "  1    7600         25.35       80.79    0.81\n",
            "  1    7800         28.61       80.65    0.81\n",
            "  1    8000         33.57       80.61    0.81\n",
            "  1    8200         34.77       80.87    0.81\n",
            "  1    8400         18.14       80.91    0.81\n",
            "  1    8600         38.24       80.93    0.81\n",
            "  1    8800         23.63       81.08    0.81\n",
            "  1    9000         37.81       81.16    0.81\n",
            "  1    9200         24.82       80.87    0.81\n",
            "  1    9400         30.61       80.99    0.81\n",
            "  1    9600         30.98       80.24    0.80\n",
            "  2    9800         23.45       80.80    0.81\n",
            "  2   10000         22.77       80.82    0.81\n",
            "  2   10200         27.68       80.75    0.81\n",
            "  2   10400         25.62       80.32    0.80\n",
            "  2   10600         18.09       80.37    0.80\n",
            "\u001b[38;5;2m✔ Saved pipeline to output directory\u001b[0m\n",
            "/content/drive/MyDrive/data/output_textcat_is_international_11/model-last\n"
          ]
        }
      ]
    },
    {
      "cell_type": "code",
      "source": [
        "import spacy\n",
        "nlp = spacy.load(\"/content/drive/MyDrive/data/output_textcat_is_international_11/model-best\")"
      ],
      "metadata": {
        "id": "beqb5ctemjgM"
      },
      "id": "beqb5ctemjgM",
      "execution_count": 31,
      "outputs": []
    },
    {
      "cell_type": "code",
      "execution_count": 40,
      "metadata": {
        "id": "3d106a6e"
      },
      "outputs": [],
      "source": [
        "predictions = []\n",
        "for idx in range(len(df_val)):\n",
        "    doc = nlp(df_val.text.apply(str).iloc[idx])\n",
        "    predictions.append(doc.cats)"
      ],
      "id": "3d106a6e"
    },
    {
      "cell_type": "code",
      "execution_count": 42,
      "metadata": {
        "id": "fcff782f",
        "colab": {
          "base_uri": "https://localhost:8080/"
        },
        "outputId": "08fe7ad6-90d6-4e8f-85fe-196100f011a7"
      },
      "outputs": [
        {
          "output_type": "stream",
          "name": "stderr",
          "text": [
            "/usr/local/lib/python3.7/dist-packages/ipykernel_launcher.py:1: SettingWithCopyWarning: \n",
            "A value is trying to be set on a copy of a slice from a DataFrame.\n",
            "Try using .loc[row_indexer,col_indexer] = value instead\n",
            "\n",
            "See the caveats in the documentation: https://pandas.pydata.org/pandas-docs/stable/user_guide/indexing.html#returning-a-view-versus-a-copy\n",
            "  \"\"\"Entry point for launching an IPython kernel.\n"
          ]
        }
      ],
      "source": [
        "df_val[\"pred_international\"] = [str(int(max(p, key=p.get))) for p in predictions]"
      ],
      "id": "fcff782f"
    },
    {
      "cell_type": "code",
      "source": [
        "pred_international = df_val[\"pred_international\"]"
      ],
      "metadata": {
        "id": "ZlUaqG_6FqEs"
      },
      "id": "ZlUaqG_6FqEs",
      "execution_count": 43,
      "outputs": []
    },
    {
      "cell_type": "code",
      "execution_count": 48,
      "metadata": {
        "id": "48d636fa"
      },
      "outputs": [],
      "source": [
        "is_international_ground_truths = df_val.is_international.apply(str).apply(lambda x : re.sub(r'\\.0', '', x))"
      ],
      "id": "48d636fa"
    },
    {
      "cell_type": "code",
      "execution_count": 49,
      "metadata": {
        "id": "bf5f8d23",
        "colab": {
          "base_uri": "https://localhost:8080/"
        },
        "outputId": "13aee63b-e87e-4548-e48f-f79fdc957b61"
      },
      "outputs": [
        {
          "output_type": "stream",
          "name": "stdout",
          "text": [
            "Num countries accuracy 0.8175115207373271\n"
          ]
        }
      ],
      "source": [
        "acc = accuracy_score(is_international_ground_truths.apply(str), pred_international.apply(str))\n",
        "print (f\"Num countries accuracy {acc}\")"
      ],
      "id": "bf5f8d23"
    },
    {
      "cell_type": "code",
      "execution_count": 50,
      "metadata": {
        "id": "27c5d1be",
        "colab": {
          "base_uri": "https://localhost:8080/",
          "height": 307
        },
        "outputId": "28ba75a4-ec4c-4645-cc7d-a801d2ef25d5"
      },
      "outputs": [
        {
          "output_type": "execute_result",
          "data": {
            "text/plain": [
              "''"
            ],
            "application/vnd.google.colaboratory.intrinsic+json": {
              "type": "string"
            }
          },
          "metadata": {},
          "execution_count": 50
        },
        {
          "output_type": "display_data",
          "data": {
            "text/plain": [
              "<Figure size 432x288 with 2 Axes>"
            ],
            "image/png": "[encoded data removed]"
          },
          "metadata": {
            "needs_background": "light"
          }
        }
      ],
      "source": [
        "ConfusionMatrixDisplay.from_predictions(is_international_ground_truths.apply(str), pred_international.apply(str))\n",
        "plt.xticks(rotation=90)\n",
        ";"
      ],
      "id": "27c5d1be"
    },
    {
      "cell_type": "code",
      "execution_count": null,
      "metadata": {
        "id": "91311d34"
      },
      "outputs": [],
      "source": [],
      "id": "91311d34"
    },
    {
      "cell_type": "code",
      "execution_count": null,
      "metadata": {
        "id": "b620ed04"
      },
      "outputs": [],
      "source": [],
      "id": "b620ed04"
    },
    {
      "cell_type": "code",
      "execution_count": null,
      "metadata": {
        "id": "84b0d6cd"
      },
      "outputs": [],
      "source": [],
      "id": "84b0d6cd"
    }
  ],
  "metadata": {
    "colab": {
      "collapsed_sections": [],
      "provenance": [],
      "machine_shape": "hm",
      "include_colab_link": true
    },
    "kernelspec": {
      "display_name": "Python [conda env:py310] *",
      "language": "python",
      "name": "conda-env-py310-py"
    },
    "language_info": {
      "codemirror_mode": {
        "name": "ipython",
        "version": 3
      },
      "file_extension": ".py",
      "mimetype": "text/x-python",
      "name": "python",
      "nbconvert_exporter": "python",
      "pygments_lexer": "ipython3",
      "version": "3.10.4"
    },
    "gpuClass": "premium",
    "accelerator": "GPU"
  },
  "nbformat": 4,
  "nbformat_minor": 5
}