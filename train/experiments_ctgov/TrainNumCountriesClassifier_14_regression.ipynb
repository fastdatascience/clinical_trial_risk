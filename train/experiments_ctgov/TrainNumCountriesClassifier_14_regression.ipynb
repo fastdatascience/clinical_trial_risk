{
  "cells": [
    {
      "cell_type": "markdown",
      "metadata": {
        "id": "view-in-github",
        "colab_type": "text"
      },
      "source": [
        "<a href=\"https://colab.research.google.com/github/fastdatascience/clinical_trial_risk/blob/fixes_nov_2022/train/ctgov/TrainNumCountriesClassifier_14_regression.ipynb\" target=\"_parent\"><img src=\"https://colab.research.google.com/assets/colab-badge.svg\" alt=\"Open In Colab\"/></a>"
      ]
    },
    {
      "cell_type": "code",
      "execution_count": 1,
      "metadata": {
        "id": "0557d6c8"
      },
      "outputs": [],
      "source": [
        "import pandas as pd\n",
        "import re\n",
        "import os\n",
        "import sys\n",
        "import pickle as pkl\n",
        "import seaborn as sns\n",
        "from sklearn.metrics import accuracy_score, confusion_matrix\n",
        "from sklearn.metrics import ConfusionMatrixDisplay\n",
        "from sklearn.metrics import mean_absolute_error, mean_squared_error\n",
        "from sklearn.metrics import roc_auc_score\n",
        "from sklearn.metrics import roc_curve, auc\n",
        "from IPython.display import display\n",
        "import matplotlib.pyplot as plt\n",
        "import numpy as np\n",
        "import json\n",
        "\n"
      ],
      "id": "0557d6c8"
    },
    {
      "cell_type": "code",
      "execution_count": 2,
      "metadata": {
        "colab": {
          "base_uri": "https://localhost:8080/"
        },
        "id": "3cTsWWseCCMc",
        "outputId": "19dbb06e-d549-455c-c3d0-8e6cf0f78f90"
      },
      "outputs": [
        {
          "output_type": "stream",
          "name": "stdout",
          "text": [
            "Mounted at /content/drive\n"
          ]
        }
      ],
      "source": [
        "from google.colab import drive\n",
        "drive.mount('/content/drive')"
      ],
      "id": "3cTsWWseCCMc"
    },
    {
      "cell_type": "code",
      "execution_count": 3,
      "metadata": {
        "id": "92CbJN_cCFul"
      },
      "outputs": [],
      "source": [
        "df_annotations = pd.read_csv(\"/content/drive/MyDrive/data/all_annotations.csv\")\n"
      ],
      "id": "92CbJN_cCFul"
    },
    {
      "cell_type": "markdown",
      "metadata": {
        "id": "4b2e7a73"
      },
      "source": [
        "# Get data"
      ],
      "id": "4b2e7a73"
    },
    {
      "cell_type": "code",
      "execution_count": 4,
      "metadata": {
        "id": "c8ebd7a5"
      },
      "outputs": [],
      "source": [
        "with open(\"/content/drive/MyDrive/data/protocols.pkl.gz\", \"rb\") as f:\n",
        "    file_to_pages = pkl.load(f)"
      ],
      "id": "c8ebd7a5"
    },
    {
      "cell_type": "code",
      "execution_count": 5,
      "metadata": {
        "id": "9fbe5bf0"
      },
      "outputs": [],
      "source": [
        "texts = []\n",
        "\n",
        "for i in range(len(df_annotations)):\n",
        "    file_name = df_annotations.file.iloc[i]\n",
        "    \n",
        "    pages= file_to_pages[file_name]\n",
        "    # Limit to first 3 pages because of memory constraints\n",
        "    if len(pages) > 3:\n",
        "      pages = pages[:3]\n",
        "\n",
        "    texts.append(\" \".join(pages))\n",
        "df_annotations[\"text\"] = texts"
      ],
      "id": "9fbe5bf0"
    },
    {
      "cell_type": "code",
      "source": [
        "def get_num_countries(x):\n",
        "  if x is not None and type(x) is str:\n",
        "    return len(x.split(\",\"))\n",
        "  return None"
      ],
      "metadata": {
        "id": "JniZD4eZDqjn"
      },
      "id": "JniZD4eZDqjn",
      "execution_count": 6,
      "outputs": []
    },
    {
      "cell_type": "code",
      "execution_count": 7,
      "metadata": {
        "id": "f3322e30"
      },
      "outputs": [],
      "source": [
        "df_annotations[\"num_countries\"] = df_annotations.country.apply(get_num_countries)"
      ],
      "id": "f3322e30"
    },
    {
      "cell_type": "code",
      "source": [
        "df_annotations[\"num_countries\"].value_counts()"
      ],
      "metadata": {
        "colab": {
          "base_uri": "https://localhost:8080/"
        },
        "id": "nZgEgMEKD4XR",
        "outputId": "f672b4a3-42c7-4a2d-de8d-ad88608f22aa"
      },
      "id": "nZgEgMEKD4XR",
      "execution_count": 8,
      "outputs": [
        {
          "output_type": "execute_result",
          "data": {
            "text/plain": [
              "1.0     7998\n",
              "2.0      726\n",
              "3.0      341\n",
              "4.0      263\n",
              "5.0      230\n",
              "6.0      225\n",
              "7.0      193\n",
              "8.0      176\n",
              "10.0     155\n",
              "9.0      137\n",
              "11.0     135\n",
              "12.0     116\n",
              "13.0     109\n",
              "14.0      92\n",
              "15.0      90\n",
              "17.0      78\n",
              "18.0      68\n",
              "16.0      65\n",
              "21.0      57\n",
              "20.0      56\n",
              "19.0      54\n",
              "23.0      47\n",
              "22.0      44\n",
              "24.0      35\n",
              "25.0      31\n",
              "26.0      27\n",
              "29.0      22\n",
              "30.0      21\n",
              "27.0      20\n",
              "31.0      19\n",
              "28.0      18\n",
              "32.0      17\n",
              "33.0      14\n",
              "41.0      11\n",
              "34.0      11\n",
              "38.0       8\n",
              "39.0       8\n",
              "37.0       7\n",
              "43.0       7\n",
              "36.0       6\n",
              "35.0       6\n",
              "44.0       6\n",
              "40.0       6\n",
              "48.0       6\n",
              "47.0       3\n",
              "42.0       2\n",
              "49.0       2\n",
              "50.0       2\n",
              "45.0       1\n",
              "58.0       1\n",
              "46.0       1\n",
              "62.0       1\n",
              "51.0       1\n",
              "54.0       1\n",
              "Name: num_countries, dtype: int64"
            ]
          },
          "metadata": {},
          "execution_count": 8
        }
      ]
    },
    {
      "cell_type": "code",
      "execution_count": 9,
      "metadata": {
        "id": "df0ea588"
      },
      "outputs": [],
      "source": [
        "def get_is_international(num):\n",
        "    if num is None or pd.isna(num):\n",
        "      return None\n",
        "    if num >= 2:\n",
        "      return 1\n",
        "    return 0\n",
        "df_annotations[\"is_international\"] = df_annotations[\"num_countries\"].apply(get_is_international)"
      ],
      "id": "df0ea588"
    },
    {
      "cell_type": "code",
      "source": [
        "df_annotations[\"is_international\"].value_counts()"
      ],
      "metadata": {
        "colab": {
          "base_uri": "https://localhost:8080/"
        },
        "id": "dMes2ySpmDep",
        "outputId": "3cb63ba8-b9be-4d77-c6b5-d5ea8dd26fbb"
      },
      "id": "dMes2ySpmDep",
      "execution_count": 10,
      "outputs": [
        {
          "output_type": "execute_result",
          "data": {
            "text/plain": [
              "0.0    7998\n",
              "1.0    3778\n",
              "Name: is_international, dtype: int64"
            ]
          },
          "metadata": {},
          "execution_count": 10
        }
      ]
    },
    {
      "cell_type": "markdown",
      "metadata": {
        "id": "a2e91853"
      },
      "source": [
        "# Train and evaluate the number of countries extractor"
      ],
      "id": "a2e91853"
    },
    {
      "cell_type": "code",
      "execution_count": 11,
      "metadata": {
        "id": "471252e4"
      },
      "outputs": [],
      "source": [
        "df_train = df_annotations[(df_annotations.train_val == \"train\") & (~df_annotations.is_international.isna())]"
      ],
      "id": "471252e4"
    },
    {
      "cell_type": "code",
      "source": [
        "df_train_to_augment = df_train[df_train.is_international == 1]"
      ],
      "metadata": {
        "id": "OoHXMePdlfqc"
      },
      "id": "OoHXMePdlfqc",
      "execution_count": 12,
      "outputs": []
    },
    {
      "cell_type": "code",
      "source": [
        "df_train_augmented = df_train # pd.concat([df_train, df_train_to_augment])"
      ],
      "metadata": {
        "id": "WM1BHqRamTcd"
      },
      "id": "WM1BHqRamTcd",
      "execution_count": 13,
      "outputs": []
    },
    {
      "cell_type": "code",
      "source": [
        "df_train_augmented[\"is_international\"].value_counts()"
      ],
      "metadata": {
        "colab": {
          "base_uri": "https://localhost:8080/"
        },
        "id": "wYMXvtjHmcBI",
        "outputId": "101f247f-2c05-4f96-e35f-e7b92e71c882"
      },
      "id": "wYMXvtjHmcBI",
      "execution_count": 14,
      "outputs": [
        {
          "output_type": "execute_result",
          "data": {
            "text/plain": [
              "0.0    6375\n",
              "1.0    3052\n",
              "Name: is_international, dtype: int64"
            ]
          },
          "metadata": {},
          "execution_count": 14
        }
      ]
    },
    {
      "cell_type": "code",
      "execution_count": 15,
      "metadata": {
        "id": "b8ac14ec"
      },
      "outputs": [],
      "source": [
        "df_val = df_annotations[df_annotations.train_val == \"val\"]"
      ],
      "id": "b8ac14ec"
    },
    {
      "cell_type": "markdown",
      "source": [
        "# Begin Keras"
      ],
      "metadata": {
        "id": "SfBgW4gfxcij"
      },
      "id": "SfBgW4gfxcij"
    },
    {
      "cell_type": "code",
      "source": [
        "import numpy as np\n",
        "\n",
        "import tensorflow as tf\n",
        "import tensorflow_hub as hub\n",
        "import tensorflow_datasets as tfds\n",
        "\n",
        "import matplotlib.pyplot as plt\n",
        "\n",
        "print(\"Version: \", tf.__version__)\n",
        "print(\"Eager mode: \", tf.executing_eagerly())\n",
        "print(\"Hub version: \", hub.__version__)\n",
        "print(\"GPU is\", \"available\" if tf.config.list_physical_devices('GPU') else \"NOT AVAILABLE\")"
      ],
      "metadata": {
        "colab": {
          "base_uri": "https://localhost:8080/"
        },
        "id": "oPxPFDQWftHp",
        "outputId": "b2e0dd30-6e45-48ce-f48e-f05efc1848f3"
      },
      "id": "oPxPFDQWftHp",
      "execution_count": 16,
      "outputs": [
        {
          "output_type": "stream",
          "name": "stdout",
          "text": [
            "Version:  2.9.2\n",
            "Eager mode:  True\n",
            "Hub version:  0.12.0\n",
            "GPU is available\n"
          ]
        }
      ]
    },
    {
      "cell_type": "code",
      "source": [
        "train_labels = np.asarray(list(df_train[~df_train.is_international.isna()].num_countries))\n",
        "test_labels = np.asarray(list(df_val.num_countries))"
      ],
      "metadata": {
        "id": "yskq-0vOf0jT"
      },
      "id": "yskq-0vOf0jT",
      "execution_count": 17,
      "outputs": []
    },
    {
      "cell_type": "code",
      "source": [
        "train_examples = np.asarray(list(df_train[~df_train.is_international.isna()].text))\n",
        "test_examples = np.asarray(list(df_val.text))"
      ],
      "metadata": {
        "id": "wTNPMYDWf1oo"
      },
      "id": "wTNPMYDWf1oo",
      "execution_count": 18,
      "outputs": []
    },
    {
      "cell_type": "code",
      "source": [
        "model = \"https://tfhub.dev/google/nnlm-en-dim50/2\"\n",
        "hub_layer = hub.KerasLayer(model, input_shape=[], dtype=tf.string, trainable=True)\n",
        "hub_layer(train_examples[:3])"
      ],
      "metadata": {
        "colab": {
          "base_uri": "https://localhost:8080/"
        },
        "id": "6ksWWcixftKO",
        "outputId": "28a36ea0-db4c-453b-c8d7-b91a0ef0975c"
      },
      "id": "6ksWWcixftKO",
      "execution_count": 19,
      "outputs": [
        {
          "output_type": "execute_result",
          "data": {
            "text/plain": [
              "<tf.Tensor: shape=(3, 50), dtype=float32, numpy=\n",
              "array([[ 1.3878716 ,  0.22550987,  0.7648921 , -0.08218446,  1.3620344 ,\n",
              "        -1.0987713 , -1.0985049 ,  0.20052177,  0.05066561,  0.04839747,\n",
              "         0.28400636, -0.42893174, -0.16622992, -0.59827983,  0.60503167,\n",
              "         0.23048669,  1.8119524 , -0.84469086, -0.19094974,  0.94411767,\n",
              "         0.3425336 ,  0.33559614,  0.5701396 , -0.7833848 , -0.12382686,\n",
              "        -1.7660372 ,  0.93029356,  1.142028  , -0.48254454, -0.482065  ,\n",
              "         0.6241091 ,  0.84202796, -1.6181043 ,  0.17544147,  1.1464902 ,\n",
              "        -0.80830246,  0.6926952 , -0.12133206, -0.30814207,  0.72136027,\n",
              "        -0.08131983, -0.43965235, -0.01713948, -0.00602878, -0.4521674 ,\n",
              "         0.19415072, -0.06903778,  0.3778937 , -0.5719413 ,  0.6060289 ],\n",
              "       [ 2.5179925 , -0.05013091,  0.48261794,  0.9314328 ,  1.1721319 ,\n",
              "        -0.17170158, -0.916963  ,  0.5768889 , -0.11765438,  0.5758045 ,\n",
              "        -0.8817778 ,  0.07264417,  0.09085304, -0.8050936 ,  0.6701702 ,\n",
              "        -0.00262675,  0.4652654 ,  0.11125848,  0.09293442,  0.41245666,\n",
              "        -0.42738128,  0.44711986,  0.556935  ,  0.3046578 , -0.1039964 ,\n",
              "        -0.6319538 , -0.1193415 , -0.07391939, -1.040449  , -0.41521797,\n",
              "        -0.1715265 ,  1.0901799 , -0.54444927, -0.6256481 , -0.0216459 ,\n",
              "        -0.6681199 ,  0.2232156 , -0.5961745 , -0.71159965,  0.1664734 ,\n",
              "         0.07410894,  0.0546071 , -0.5254775 ,  0.5690086 , -0.05944687,\n",
              "        -0.62306374, -0.15534066, -0.32707927, -0.11109038,  0.8270524 ],\n",
              "       [ 1.174834  , -0.11133473,  0.6803907 , -0.08939569,  1.2694755 ,\n",
              "        -0.89589417, -0.82891005,  0.16159703, -0.10884043,  0.05157974,\n",
              "        -0.15574647, -0.42839658,  0.33232355, -0.8397037 ,  0.5048529 ,\n",
              "         0.72788817,  2.1256435 , -0.76996493,  0.31402364,  1.4061667 ,\n",
              "         0.5534858 ,  0.35315883,  0.592991  , -0.44852987, -0.1012869 ,\n",
              "        -1.8527253 ,  0.9179215 ,  1.5651335 , -0.899532  , -0.20955949,\n",
              "         0.7048323 ,  1.231003  , -1.6103396 ,  0.19706978,  1.9643825 ,\n",
              "        -0.8570924 ,  0.6580545 , -0.08957448, -0.62457615,  0.9823304 ,\n",
              "        -0.00724382, -0.539721  ,  0.50524706,  0.23513512, -0.46404725,\n",
              "         0.561143  , -0.0469862 , -0.00767557, -0.5337601 ,  0.7096273 ]],\n",
              "      dtype=float32)>"
            ]
          },
          "metadata": {},
          "execution_count": 19
        }
      ]
    },
    {
      "cell_type": "code",
      "source": [
        "model = tf.keras.Sequential()\n",
        "model.add(hub_layer)\n",
        "model.add(tf.keras.layers.Dense(16, activation='relu'))\n",
        "model.add(tf.keras.layers.Dense(1))\n",
        "\n",
        "model.summary()"
      ],
      "metadata": {
        "colab": {
          "base_uri": "https://localhost:8080/"
        },
        "id": "KvW8o14rzkOh",
        "outputId": "a086b427-1fea-42a2-cbf6-0a9a4062a37a"
      },
      "id": "KvW8o14rzkOh",
      "execution_count": 20,
      "outputs": [
        {
          "output_type": "stream",
          "name": "stdout",
          "text": [
            "Model: \"sequential\"\n",
            "_________________________________________________________________\n",
            " Layer (type)                Output Shape              Param #   \n",
            "=================================================================\n",
            " keras_layer (KerasLayer)    (None, 50)                48190600  \n",
            "                                                                 \n",
            " dense (Dense)               (None, 16)                816       \n",
            "                                                                 \n",
            " dense_1 (Dense)             (None, 1)                 17        \n",
            "                                                                 \n",
            "=================================================================\n",
            "Total params: 48,191,433\n",
            "Trainable params: 48,191,433\n",
            "Non-trainable params: 0\n",
            "_________________________________________________________________\n"
          ]
        }
      ]
    },
    {
      "cell_type": "code",
      "source": [
        "model.compile(optimizer='adam',\n",
        "              loss=tf.losses.MeanSquaredError(),\n",
        "              metrics=[tf.metrics.RootMeanSquaredError(name='mse'), tf.metrics.MeanAbsoluteError(name='mae')],\n",
        "              run_eagerly=True)"
      ],
      "metadata": {
        "id": "VoOp9JbVgAJj"
      },
      "id": "VoOp9JbVgAJj",
      "execution_count": 21,
      "outputs": []
    },
    {
      "cell_type": "code",
      "source": [
        "# x_val = train_examples[:10000]\n",
        "# partial_x_train = train_examples[10000:]\n",
        "\n",
        "# y_val = train_labels[:10000]\n",
        "# partial_y_train = train_labels[10000:]\n",
        "\n",
        "partial_x_train = train_examples\n",
        "x_val = test_examples\n",
        "\n",
        "partial_y_train = train_labels\n",
        "y_val = test_labels"
      ],
      "metadata": {
        "id": "FCwDsuzoz-VF"
      },
      "id": "FCwDsuzoz-VF",
      "execution_count": 22,
      "outputs": []
    },
    {
      "cell_type": "code",
      "source": [
        "history = model.fit(partial_x_train,\n",
        "                    partial_y_train,\n",
        "                    epochs=100,\n",
        "                    batch_size=512,\n",
        "                    validation_data=(x_val, y_val),\n",
        "                    verbose=1)"
      ],
      "metadata": {
        "colab": {
          "base_uri": "https://localhost:8080/"
        },
        "id": "4W_3MT1S1HB2",
        "outputId": "3fc21539-f1e5-4389-862e-8e532fc9af0f"
      },
      "id": "4W_3MT1S1HB2",
      "execution_count": 23,
      "outputs": [
        {
          "output_type": "stream",
          "name": "stdout",
          "text": [
            "Epoch 1/100\n",
            "19/19 [==============================] - 4s 81ms/step - loss: 53.6079 - mse: 7.3217 - mae: 3.6253 - val_loss: nan - val_mse: nan - val_mae: nan\n",
            "Epoch 2/100\n",
            "19/19 [==============================] - 1s 76ms/step - loss: 44.0858 - mse: 6.6397 - mae: 4.0487 - val_loss: nan - val_mse: nan - val_mae: nan\n",
            "Epoch 3/100\n",
            "19/19 [==============================] - 1s 74ms/step - loss: 39.9636 - mse: 6.3217 - mae: 3.7318 - val_loss: nan - val_mse: nan - val_mae: nan\n",
            "Epoch 4/100\n",
            "19/19 [==============================] - 1s 75ms/step - loss: 36.2086 - mse: 6.0174 - mae: 3.4601 - val_loss: nan - val_mse: nan - val_mae: nan\n",
            "Epoch 5/100\n",
            "19/19 [==============================] - 1s 75ms/step - loss: 32.9485 - mse: 5.7401 - mae: 3.2796 - val_loss: nan - val_mse: nan - val_mae: nan\n",
            "Epoch 6/100\n",
            "19/19 [==============================] - 1s 76ms/step - loss: 30.2477 - mse: 5.4998 - mae: 3.1561 - val_loss: nan - val_mse: nan - val_mae: nan\n",
            "Epoch 7/100\n",
            "19/19 [==============================] - 1s 76ms/step - loss: 27.6959 - mse: 5.2627 - mae: 2.9557 - val_loss: nan - val_mse: nan - val_mae: nan\n",
            "Epoch 8/100\n",
            "19/19 [==============================] - 1s 76ms/step - loss: 25.3288 - mse: 5.0328 - mae: 2.7972 - val_loss: nan - val_mse: nan - val_mae: nan\n",
            "Epoch 9/100\n",
            "19/19 [==============================] - 1s 75ms/step - loss: 23.1462 - mse: 4.8110 - mae: 2.6139 - val_loss: nan - val_mse: nan - val_mae: nan\n",
            "Epoch 10/100\n",
            "19/19 [==============================] - 1s 74ms/step - loss: 21.1187 - mse: 4.5955 - mae: 2.4606 - val_loss: nan - val_mse: nan - val_mae: nan\n",
            "Epoch 11/100\n",
            "19/19 [==============================] - 1s 74ms/step - loss: 19.1941 - mse: 4.3811 - mae: 2.3280 - val_loss: nan - val_mse: nan - val_mae: nan\n",
            "Epoch 12/100\n",
            "19/19 [==============================] - 1s 77ms/step - loss: 17.3888 - mse: 4.1700 - mae: 2.2096 - val_loss: nan - val_mse: nan - val_mae: nan\n",
            "Epoch 13/100\n",
            "19/19 [==============================] - 1s 77ms/step - loss: 15.7175 - mse: 3.9645 - mae: 2.1104 - val_loss: nan - val_mse: nan - val_mae: nan\n",
            "Epoch 14/100\n",
            "19/19 [==============================] - 1s 75ms/step - loss: 14.1108 - mse: 3.7564 - mae: 2.0050 - val_loss: nan - val_mse: nan - val_mae: nan\n",
            "Epoch 15/100\n",
            "19/19 [==============================] - 1s 76ms/step - loss: 12.6667 - mse: 3.5590 - mae: 1.9022 - val_loss: nan - val_mse: nan - val_mae: nan\n",
            "Epoch 16/100\n",
            "19/19 [==============================] - 1s 77ms/step - loss: 11.4291 - mse: 3.3807 - mae: 1.8192 - val_loss: nan - val_mse: nan - val_mae: nan\n",
            "Epoch 17/100\n",
            "19/19 [==============================] - 1s 79ms/step - loss: 10.2710 - mse: 3.2048 - mae: 1.7348 - val_loss: nan - val_mse: nan - val_mae: nan\n",
            "Epoch 18/100\n",
            "19/19 [==============================] - 1s 75ms/step - loss: 9.2088 - mse: 3.0346 - mae: 1.6468 - val_loss: nan - val_mse: nan - val_mae: nan\n",
            "Epoch 19/100\n",
            "19/19 [==============================] - 1s 75ms/step - loss: 8.3659 - mse: 2.8924 - mae: 1.5629 - val_loss: nan - val_mse: nan - val_mae: nan\n",
            "Epoch 20/100\n",
            "19/19 [==============================] - 1s 75ms/step - loss: 7.5798 - mse: 2.7531 - mae: 1.4911 - val_loss: nan - val_mse: nan - val_mae: nan\n",
            "Epoch 21/100\n",
            "19/19 [==============================] - 1s 75ms/step - loss: 6.8904 - mse: 2.6250 - mae: 1.4229 - val_loss: nan - val_mse: nan - val_mae: nan\n",
            "Epoch 22/100\n",
            "19/19 [==============================] - 1s 75ms/step - loss: 6.3196 - mse: 2.5139 - mae: 1.3571 - val_loss: nan - val_mse: nan - val_mae: nan\n",
            "Epoch 23/100\n",
            "19/19 [==============================] - 1s 75ms/step - loss: 5.7866 - mse: 2.4055 - mae: 1.2950 - val_loss: nan - val_mse: nan - val_mae: nan\n",
            "Epoch 24/100\n",
            "19/19 [==============================] - 1s 75ms/step - loss: 5.3061 - mse: 2.3035 - mae: 1.2383 - val_loss: nan - val_mse: nan - val_mae: nan\n",
            "Epoch 25/100\n",
            "19/19 [==============================] - 1s 75ms/step - loss: 4.9559 - mse: 2.2262 - mae: 1.1945 - val_loss: nan - val_mse: nan - val_mae: nan\n",
            "Epoch 26/100\n",
            "19/19 [==============================] - 1s 75ms/step - loss: 4.5614 - mse: 2.1357 - mae: 1.1401 - val_loss: nan - val_mse: nan - val_mae: nan\n",
            "Epoch 27/100\n",
            "19/19 [==============================] - 1s 75ms/step - loss: 4.2543 - mse: 2.0626 - mae: 1.0846 - val_loss: nan - val_mse: nan - val_mae: nan\n",
            "Epoch 28/100\n",
            "19/19 [==============================] - 1s 74ms/step - loss: 3.9545 - mse: 1.9886 - mae: 1.0328 - val_loss: nan - val_mse: nan - val_mae: nan\n",
            "Epoch 29/100\n",
            "19/19 [==============================] - 1s 75ms/step - loss: 3.6847 - mse: 1.9196 - mae: 0.9876 - val_loss: nan - val_mse: nan - val_mae: nan\n",
            "Epoch 30/100\n",
            "19/19 [==============================] - 1s 76ms/step - loss: 3.4466 - mse: 1.8565 - mae: 0.9489 - val_loss: nan - val_mse: nan - val_mae: nan\n",
            "Epoch 31/100\n",
            "19/19 [==============================] - 1s 75ms/step - loss: 3.2619 - mse: 1.8061 - mae: 0.9123 - val_loss: nan - val_mse: nan - val_mae: nan\n",
            "Epoch 32/100\n",
            "19/19 [==============================] - 1s 75ms/step - loss: 3.0988 - mse: 1.7603 - mae: 0.8887 - val_loss: nan - val_mse: nan - val_mae: nan\n",
            "Epoch 33/100\n",
            "19/19 [==============================] - 1s 75ms/step - loss: 2.8884 - mse: 1.6995 - mae: 0.8569 - val_loss: nan - val_mse: nan - val_mae: nan\n",
            "Epoch 34/100\n",
            "19/19 [==============================] - 1s 76ms/step - loss: 2.7125 - mse: 1.6470 - mae: 0.8224 - val_loss: nan - val_mse: nan - val_mae: nan\n",
            "Epoch 35/100\n",
            "19/19 [==============================] - 1s 75ms/step - loss: 2.5464 - mse: 1.5958 - mae: 0.7859 - val_loss: nan - val_mse: nan - val_mae: nan\n",
            "Epoch 36/100\n",
            "19/19 [==============================] - 1s 76ms/step - loss: 2.4005 - mse: 1.5494 - mae: 0.7542 - val_loss: nan - val_mse: nan - val_mae: nan\n",
            "Epoch 37/100\n",
            "19/19 [==============================] - 1s 77ms/step - loss: 2.2679 - mse: 1.5060 - mae: 0.7294 - val_loss: nan - val_mse: nan - val_mae: nan\n",
            "Epoch 38/100\n",
            "19/19 [==============================] - 1s 76ms/step - loss: 2.1495 - mse: 1.4661 - mae: 0.7035 - val_loss: nan - val_mse: nan - val_mae: nan\n",
            "Epoch 39/100\n",
            "19/19 [==============================] - 1s 75ms/step - loss: 2.0582 - mse: 1.4346 - mae: 0.6758 - val_loss: nan - val_mse: nan - val_mae: nan\n",
            "Epoch 40/100\n",
            "19/19 [==============================] - 1s 76ms/step - loss: 1.9648 - mse: 1.4017 - mae: 0.6609 - val_loss: nan - val_mse: nan - val_mae: nan\n",
            "Epoch 41/100\n",
            "19/19 [==============================] - 1s 76ms/step - loss: 1.8548 - mse: 1.3619 - mae: 0.6326 - val_loss: nan - val_mse: nan - val_mae: nan\n",
            "Epoch 42/100\n",
            "19/19 [==============================] - 1s 75ms/step - loss: 1.7893 - mse: 1.3376 - mae: 0.6150 - val_loss: nan - val_mse: nan - val_mae: nan\n",
            "Epoch 43/100\n",
            "19/19 [==============================] - 1s 75ms/step - loss: 1.7257 - mse: 1.3137 - mae: 0.5943 - val_loss: nan - val_mse: nan - val_mae: nan\n",
            "Epoch 44/100\n",
            "19/19 [==============================] - 1s 74ms/step - loss: 1.6533 - mse: 1.2858 - mae: 0.5809 - val_loss: nan - val_mse: nan - val_mae: nan\n",
            "Epoch 45/100\n",
            "19/19 [==============================] - 1s 75ms/step - loss: 1.5687 - mse: 1.2525 - mae: 0.5498 - val_loss: nan - val_mse: nan - val_mae: nan\n",
            "Epoch 46/100\n",
            "19/19 [==============================] - 1s 75ms/step - loss: 1.5101 - mse: 1.2289 - mae: 0.5350 - val_loss: nan - val_mse: nan - val_mae: nan\n",
            "Epoch 47/100\n",
            "19/19 [==============================] - 1s 74ms/step - loss: 1.4605 - mse: 1.2085 - mae: 0.5162 - val_loss: nan - val_mse: nan - val_mae: nan\n",
            "Epoch 48/100\n",
            "19/19 [==============================] - 1s 74ms/step - loss: 1.4157 - mse: 1.1898 - mae: 0.4977 - val_loss: nan - val_mse: nan - val_mae: nan\n",
            "Epoch 49/100\n",
            "19/19 [==============================] - 1s 74ms/step - loss: 1.3733 - mse: 1.1719 - mae: 0.4820 - val_loss: nan - val_mse: nan - val_mae: nan\n",
            "Epoch 50/100\n",
            "19/19 [==============================] - 1s 75ms/step - loss: 1.3432 - mse: 1.1589 - mae: 0.4744 - val_loss: nan - val_mse: nan - val_mae: nan\n",
            "Epoch 51/100\n",
            "19/19 [==============================] - 1s 76ms/step - loss: 1.3119 - mse: 1.1454 - mae: 0.4595 - val_loss: nan - val_mse: nan - val_mae: nan\n",
            "Epoch 52/100\n",
            "19/19 [==============================] - 1s 76ms/step - loss: 1.2554 - mse: 1.1205 - mae: 0.4406 - val_loss: nan - val_mse: nan - val_mae: nan\n",
            "Epoch 53/100\n",
            "19/19 [==============================] - 1s 76ms/step - loss: 1.2291 - mse: 1.1087 - mae: 0.4277 - val_loss: nan - val_mse: nan - val_mae: nan\n",
            "Epoch 54/100\n",
            "19/19 [==============================] - 1s 77ms/step - loss: 1.1986 - mse: 1.0948 - mae: 0.4133 - val_loss: nan - val_mse: nan - val_mae: nan\n",
            "Epoch 55/100\n",
            "19/19 [==============================] - 1s 76ms/step - loss: 1.1695 - mse: 1.0814 - mae: 0.4050 - val_loss: nan - val_mse: nan - val_mae: nan\n",
            "Epoch 56/100\n",
            "19/19 [==============================] - 1s 78ms/step - loss: 1.1434 - mse: 1.0693 - mae: 0.3903 - val_loss: nan - val_mse: nan - val_mae: nan\n",
            "Epoch 57/100\n",
            "19/19 [==============================] - 1s 77ms/step - loss: 1.1233 - mse: 1.0599 - mae: 0.3813 - val_loss: nan - val_mse: nan - val_mae: nan\n",
            "Epoch 58/100\n",
            "19/19 [==============================] - 1s 75ms/step - loss: 1.1093 - mse: 1.0533 - mae: 0.3694 - val_loss: nan - val_mse: nan - val_mae: nan\n",
            "Epoch 59/100\n",
            "19/19 [==============================] - 1s 74ms/step - loss: 1.0882 - mse: 1.0432 - mae: 0.3631 - val_loss: nan - val_mse: nan - val_mae: nan\n",
            "Epoch 60/100\n",
            "19/19 [==============================] - 1s 74ms/step - loss: 1.0651 - mse: 1.0320 - mae: 0.3534 - val_loss: nan - val_mse: nan - val_mae: nan\n",
            "Epoch 61/100\n",
            "19/19 [==============================] - 1s 76ms/step - loss: 1.0459 - mse: 1.0227 - mae: 0.3410 - val_loss: nan - val_mse: nan - val_mae: nan\n",
            "Epoch 62/100\n",
            "19/19 [==============================] - 1s 75ms/step - loss: 1.0352 - mse: 1.0175 - mae: 0.3330 - val_loss: nan - val_mse: nan - val_mae: nan\n",
            "Epoch 63/100\n",
            "19/19 [==============================] - 1s 75ms/step - loss: 1.0060 - mse: 1.0030 - mae: 0.3174 - val_loss: nan - val_mse: nan - val_mae: nan\n",
            "Epoch 64/100\n",
            "19/19 [==============================] - 1s 74ms/step - loss: 0.9927 - mse: 0.9964 - mae: 0.3121 - val_loss: nan - val_mse: nan - val_mae: nan\n",
            "Epoch 65/100\n",
            "19/19 [==============================] - 1s 75ms/step - loss: 0.9880 - mse: 0.9940 - mae: 0.3166 - val_loss: nan - val_mse: nan - val_mae: nan\n",
            "Epoch 66/100\n",
            "19/19 [==============================] - 1s 75ms/step - loss: 0.9912 - mse: 0.9956 - mae: 0.3203 - val_loss: nan - val_mse: nan - val_mae: nan\n",
            "Epoch 67/100\n",
            "19/19 [==============================] - 1s 74ms/step - loss: 0.9681 - mse: 0.9839 - mae: 0.3035 - val_loss: nan - val_mse: nan - val_mae: nan\n",
            "Epoch 68/100\n",
            "19/19 [==============================] - 1s 75ms/step - loss: 0.9504 - mse: 0.9749 - mae: 0.2939 - val_loss: nan - val_mse: nan - val_mae: nan\n",
            "Epoch 69/100\n",
            "19/19 [==============================] - 1s 74ms/step - loss: 0.9452 - mse: 0.9722 - mae: 0.2838 - val_loss: nan - val_mse: nan - val_mae: nan\n",
            "Epoch 70/100\n",
            "19/19 [==============================] - 1s 74ms/step - loss: 0.9243 - mse: 0.9614 - mae: 0.2755 - val_loss: nan - val_mse: nan - val_mae: nan\n",
            "Epoch 71/100\n",
            "19/19 [==============================] - 1s 75ms/step - loss: 0.9185 - mse: 0.9584 - mae: 0.2737 - val_loss: nan - val_mse: nan - val_mae: nan\n",
            "Epoch 72/100\n",
            "19/19 [==============================] - 1s 76ms/step - loss: 0.9097 - mse: 0.9538 - mae: 0.2631 - val_loss: nan - val_mse: nan - val_mae: nan\n",
            "Epoch 73/100\n",
            "19/19 [==============================] - 1s 74ms/step - loss: 0.9083 - mse: 0.9530 - mae: 0.2648 - val_loss: nan - val_mse: nan - val_mae: nan\n",
            "Epoch 74/100\n",
            "19/19 [==============================] - 1s 75ms/step - loss: 0.8885 - mse: 0.9426 - mae: 0.2493 - val_loss: nan - val_mse: nan - val_mae: nan\n",
            "Epoch 75/100\n",
            "19/19 [==============================] - 1s 74ms/step - loss: 0.8804 - mse: 0.9383 - mae: 0.2452 - val_loss: nan - val_mse: nan - val_mae: nan\n",
            "Epoch 76/100\n",
            "19/19 [==============================] - 1s 74ms/step - loss: 0.8786 - mse: 0.9373 - mae: 0.2538 - val_loss: nan - val_mse: nan - val_mae: nan\n",
            "Epoch 77/100\n",
            "19/19 [==============================] - 1s 74ms/step - loss: 0.8723 - mse: 0.9340 - mae: 0.2435 - val_loss: nan - val_mse: nan - val_mae: nan\n",
            "Epoch 78/100\n",
            "19/19 [==============================] - 1s 74ms/step - loss: 0.8613 - mse: 0.9281 - mae: 0.2350 - val_loss: nan - val_mse: nan - val_mae: nan\n",
            "Epoch 79/100\n",
            "19/19 [==============================] - 1s 75ms/step - loss: 0.8655 - mse: 0.9303 - mae: 0.2304 - val_loss: nan - val_mse: nan - val_mae: nan\n",
            "Epoch 80/100\n",
            "19/19 [==============================] - 1s 75ms/step - loss: 0.8810 - mse: 0.9386 - mae: 0.2642 - val_loss: nan - val_mse: nan - val_mae: nan\n",
            "Epoch 81/100\n",
            "19/19 [==============================] - 1s 74ms/step - loss: 0.8767 - mse: 0.9363 - mae: 0.2503 - val_loss: nan - val_mse: nan - val_mae: nan\n",
            "Epoch 82/100\n",
            "19/19 [==============================] - 1s 74ms/step - loss: 0.8510 - mse: 0.9225 - mae: 0.2390 - val_loss: nan - val_mse: nan - val_mae: nan\n",
            "Epoch 83/100\n",
            "19/19 [==============================] - 1s 76ms/step - loss: 0.8523 - mse: 0.9232 - mae: 0.2256 - val_loss: nan - val_mse: nan - val_mae: nan\n",
            "Epoch 84/100\n",
            "19/19 [==============================] - 1s 74ms/step - loss: 0.8353 - mse: 0.9139 - mae: 0.2246 - val_loss: nan - val_mse: nan - val_mae: nan\n",
            "Epoch 85/100\n",
            "19/19 [==============================] - 1s 75ms/step - loss: 0.8206 - mse: 0.9059 - mae: 0.2067 - val_loss: nan - val_mse: nan - val_mae: nan\n",
            "Epoch 86/100\n",
            "19/19 [==============================] - 1s 74ms/step - loss: 0.8221 - mse: 0.9067 - mae: 0.2019 - val_loss: nan - val_mse: nan - val_mae: nan\n",
            "Epoch 87/100\n",
            "19/19 [==============================] - 1s 75ms/step - loss: 0.8202 - mse: 0.9057 - mae: 0.2042 - val_loss: nan - val_mse: nan - val_mae: nan\n",
            "Epoch 88/100\n",
            "19/19 [==============================] - 1s 74ms/step - loss: 0.8122 - mse: 0.9012 - mae: 0.1973 - val_loss: nan - val_mse: nan - val_mae: nan\n",
            "Epoch 89/100\n",
            "19/19 [==============================] - 1s 76ms/step - loss: 0.8112 - mse: 0.9006 - mae: 0.1953 - val_loss: nan - val_mse: nan - val_mae: nan\n",
            "Epoch 90/100\n",
            "19/19 [==============================] - 1s 76ms/step - loss: 0.8010 - mse: 0.8950 - mae: 0.1957 - val_loss: nan - val_mse: nan - val_mae: nan\n",
            "Epoch 91/100\n",
            "19/19 [==============================] - 1s 76ms/step - loss: 0.7993 - mse: 0.8940 - mae: 0.1850 - val_loss: nan - val_mse: nan - val_mae: nan\n",
            "Epoch 92/100\n",
            "19/19 [==============================] - 1s 76ms/step - loss: 0.7983 - mse: 0.8935 - mae: 0.1805 - val_loss: nan - val_mse: nan - val_mae: nan\n",
            "Epoch 93/100\n",
            "19/19 [==============================] - 1s 79ms/step - loss: 0.7944 - mse: 0.8913 - mae: 0.1868 - val_loss: nan - val_mse: nan - val_mae: nan\n",
            "Epoch 94/100\n",
            "19/19 [==============================] - 1s 76ms/step - loss: 0.7932 - mse: 0.8906 - mae: 0.1823 - val_loss: nan - val_mse: nan - val_mae: nan\n",
            "Epoch 95/100\n",
            "19/19 [==============================] - 1s 77ms/step - loss: 0.7841 - mse: 0.8855 - mae: 0.1705 - val_loss: nan - val_mse: nan - val_mae: nan\n",
            "Epoch 96/100\n",
            "19/19 [==============================] - 1s 79ms/step - loss: 0.7813 - mse: 0.8839 - mae: 0.1689 - val_loss: nan - val_mse: nan - val_mae: nan\n",
            "Epoch 97/100\n",
            "19/19 [==============================] - 1s 79ms/step - loss: 0.7852 - mse: 0.8861 - mae: 0.1704 - val_loss: nan - val_mse: nan - val_mae: nan\n",
            "Epoch 98/100\n",
            "19/19 [==============================] - 1s 77ms/step - loss: 0.7854 - mse: 0.8862 - mae: 0.1803 - val_loss: nan - val_mse: nan - val_mae: nan\n",
            "Epoch 99/100\n",
            "19/19 [==============================] - 1s 76ms/step - loss: 0.7828 - mse: 0.8848 - mae: 0.1793 - val_loss: nan - val_mse: nan - val_mae: nan\n",
            "Epoch 100/100\n",
            "19/19 [==============================] - 1s 76ms/step - loss: 0.7773 - mse: 0.8816 - mae: 0.1697 - val_loss: nan - val_mse: nan - val_mae: nan\n"
          ]
        }
      ]
    },
    {
      "cell_type": "code",
      "source": [
        "model.save('num_countries_model_14_keras.keras')"
      ],
      "metadata": {
        "id": "sUWoDWS90p2B"
      },
      "id": "sUWoDWS90p2B",
      "execution_count": 24,
      "outputs": []
    },
    {
      "cell_type": "code",
      "source": [
        "model.save('/content/drive/MyDrive/data/num_countries_model_14_keras')"
      ],
      "metadata": {
        "id": "beqb5ctemjgM",
        "colab": {
          "base_uri": "https://localhost:8080/",
          "height": 135
        },
        "outputId": "2eaa82b2-caaf-4775-9eec-6122d947c014"
      },
      "id": "beqb5ctemjgM",
      "execution_count": 25,
      "outputs": [
        {
          "output_type": "error",
          "ename": "SyntaxError",
          "evalue": "ignored",
          "traceback": [
            "\u001b[0;36m  File \u001b[0;32m\"<ipython-input-25-1b70fb3c7cb9>\"\u001b[0;36m, line \u001b[0;32m1\u001b[0m\n\u001b[0;31m    model.save('/content/drive/MyDrive/data/num_countries_model_14_keras\")\u001b[0m\n\u001b[0m                                                                          ^\u001b[0m\n\u001b[0;31mSyntaxError\u001b[0m\u001b[0;31m:\u001b[0m EOL while scanning string literal\n"
          ]
        }
      ]
    },
    {
      "cell_type": "code",
      "execution_count": 26,
      "metadata": {
        "id": "3d106a6e",
        "colab": {
          "base_uri": "https://localhost:8080/"
        },
        "outputId": "f469dcb5-fc98-4c6a-b184-c4c424fc4801"
      },
      "outputs": [
        {
          "output_type": "stream",
          "name": "stdout",
          "text": [
            "34/34 [==============================] - 0s 12ms/step - loss: nan - mse: nan - mae: nan\n",
            "[nan, nan, nan]\n"
          ]
        }
      ],
      "source": [
        "results = model.evaluate(test_examples, test_labels)\n",
        "\n",
        "print(results)"
      ],
      "id": "3d106a6e"
    },
    {
      "cell_type": "code",
      "source": [
        "history_dict = history.history\n",
        "history_dict.keys()"
      ],
      "metadata": {
        "colab": {
          "base_uri": "https://localhost:8080/"
        },
        "id": "HZYF-YAOgZrp",
        "outputId": "172a94e3-097e-4d44-837c-3277f4d8acb4"
      },
      "id": "HZYF-YAOgZrp",
      "execution_count": 27,
      "outputs": [
        {
          "output_type": "execute_result",
          "data": {
            "text/plain": [
              "dict_keys(['loss', 'mse', 'mae', 'val_loss', 'val_mse', 'val_mae'])"
            ]
          },
          "metadata": {},
          "execution_count": 27
        }
      ]
    },
    {
      "cell_type": "code",
      "source": [
        "acc = history_dict['mae']\n",
        "val_acc = history_dict['val_mae']\n",
        "loss = history_dict['loss']\n",
        "val_loss = history_dict['val_loss']\n",
        "\n",
        "epochs = range(1, len(acc) + 1)\n",
        "\n",
        "# \"bo\" is for \"blue dot\"\n",
        "plt.plot(epochs, loss, 'bo', label='Training loss')\n",
        "# b is for \"solid blue line\"\n",
        "plt.plot(epochs, val_loss, 'b', label='Validation loss')\n",
        "plt.title('Training and validation loss')\n",
        "plt.xlabel('Epochs')\n",
        "plt.ylabel('Loss')\n",
        "plt.legend()\n",
        "\n",
        "plt.show()"
      ],
      "metadata": {
        "colab": {
          "base_uri": "https://localhost:8080/",
          "height": 295
        },
        "id": "Q7t1OALagZwV",
        "outputId": "38eff480-123b-4d5b-b642-45ff7558d96c"
      },
      "id": "Q7t1OALagZwV",
      "execution_count": 28,
      "outputs": [
        {
          "output_type": "display_data",
          "data": {
            "text/plain": [
              "<Figure size 432x288 with 1 Axes>"
            ],
            "image/png": "[encoded data removed]"
          },
          "metadata": {
            "needs_background": "light"
          }
        }
      ]
    },
    {
      "cell_type": "code",
      "source": [
        "plt.clf()   # clear figure\n",
        "\n",
        "plt.plot(epochs, acc, 'bo', label='Training mae')\n",
        "plt.plot(epochs, val_acc, 'b', label='Validation mae')\n",
        "plt.title('Training and validation mae')\n",
        "plt.xlabel('Epochs')\n",
        "plt.ylabel('MAE')\n",
        "plt.legend()\n",
        "\n",
        "plt.show()"
      ],
      "metadata": {
        "colab": {
          "base_uri": "https://localhost:8080/",
          "height": 295
        },
        "id": "ANdDtOtogb5x",
        "outputId": "215becca-4eee-436f-fb04-009658d9b711"
      },
      "id": "ANdDtOtogb5x",
      "execution_count": 29,
      "outputs": [
        {
          "output_type": "display_data",
          "data": {
            "text/plain": [
              "<Figure size 432x288 with 1 Axes>"
            ],
            "image/png": "[encoded data removed]"
          },
          "metadata": {
            "needs_background": "light"
          }
        }
      ]
    },
    {
      "cell_type": "code",
      "source": [
        "input_texts= np.asarray(df_val.text)"
      ],
      "metadata": {
        "id": "ETevjEpPgb7x"
      },
      "id": "ETevjEpPgb7x",
      "execution_count": 30,
      "outputs": []
    },
    {
      "cell_type": "code",
      "source": [
        "pred_proba = model.predict(input_texts)"
      ],
      "metadata": {
        "colab": {
          "base_uri": "https://localhost:8080/"
        },
        "id": "4zMbSxk6gb9v",
        "outputId": "a656c739-52e8-4a82-acef-cf8d3c9a1301"
      },
      "id": "4zMbSxk6gb9v",
      "execution_count": 31,
      "outputs": [
        {
          "output_type": "stream",
          "name": "stdout",
          "text": [
            "34/34 [==============================] - 0s 5ms/step\n"
          ]
        }
      ]
    },
    {
      "cell_type": "code",
      "source": [
        "df_val[\"pred_regression\"] = pred_proba"
      ],
      "metadata": {
        "colab": {
          "base_uri": "https://localhost:8080/"
        },
        "id": "yIVXIhHvglCm",
        "outputId": "f81fe4e6-f173-43b0-bff9-7fa52caa38de"
      },
      "id": "yIVXIhHvglCm",
      "execution_count": 32,
      "outputs": [
        {
          "output_type": "stream",
          "name": "stderr",
          "text": [
            "/usr/local/lib/python3.7/dist-packages/ipykernel_launcher.py:1: SettingWithCopyWarning: \n",
            "A value is trying to be set on a copy of a slice from a DataFrame.\n",
            "Try using .loc[row_indexer,col_indexer] = value instead\n",
            "\n",
            "See the caveats in the documentation: https://pandas.pydata.org/pandas-docs/stable/user_guide/indexing.html#returning-a-view-versus-a-copy\n",
            "  \"\"\"Entry point for launching an IPython kernel.\n"
          ]
        }
      ]
    },
    {
      "cell_type": "code",
      "execution_count": 33,
      "metadata": {
        "id": "fcff782f",
        "colab": {
          "base_uri": "https://localhost:8080/"
        },
        "outputId": "c9a16c37-0f59-442c-cd78-ce7ac8221552"
      },
      "outputs": [
        {
          "output_type": "stream",
          "name": "stderr",
          "text": [
            "/usr/local/lib/python3.7/dist-packages/ipykernel_launcher.py:1: SettingWithCopyWarning: \n",
            "A value is trying to be set on a copy of a slice from a DataFrame.\n",
            "Try using .loc[row_indexer,col_indexer] = value instead\n",
            "\n",
            "See the caveats in the documentation: https://pandas.pydata.org/pandas-docs/stable/user_guide/indexing.html#returning-a-view-versus-a-copy\n",
            "  \"\"\"Entry point for launching an IPython kernel.\n"
          ]
        }
      ],
      "source": [
        "df_val[\"pred_international\"] = df_val[\"pred_regression\"].apply(lambda x : str(int(x > 1.5)))"
      ],
      "id": "fcff782f"
    },
    {
      "cell_type": "code",
      "source": [
        "pred_international = df_val[\"pred_international\"]"
      ],
      "metadata": {
        "id": "ZlUaqG_6FqEs"
      },
      "id": "ZlUaqG_6FqEs",
      "execution_count": 34,
      "outputs": []
    },
    {
      "cell_type": "code",
      "execution_count": 35,
      "metadata": {
        "id": "48d636fa"
      },
      "outputs": [],
      "source": [
        "is_international_ground_truths = df_val.is_international.apply(str).apply(lambda x : re.sub(r'\\.0', '', x))"
      ],
      "id": "48d636fa"
    },
    {
      "cell_type": "code",
      "execution_count": 36,
      "metadata": {
        "id": "bf5f8d23",
        "colab": {
          "base_uri": "https://localhost:8080/"
        },
        "outputId": "0fd0c09b-d4a6-4c79-a03a-5fc1981021b6"
      },
      "outputs": [
        {
          "output_type": "stream",
          "name": "stdout",
          "text": [
            "Num countries accuracy 0.6092165898617512\n"
          ]
        }
      ],
      "source": [
        "acc = accuracy_score(is_international_ground_truths.apply(str), pred_international.apply(str))\n",
        "print (f\"Num countries accuracy {acc}\")"
      ],
      "id": "bf5f8d23"
    },
    {
      "cell_type": "code",
      "execution_count": 37,
      "metadata": {
        "id": "27c5d1be",
        "colab": {
          "base_uri": "https://localhost:8080/",
          "height": 307
        },
        "outputId": "332e6bab-340d-480d-fd61-232aab88f1b5"
      },
      "outputs": [
        {
          "output_type": "execute_result",
          "data": {
            "text/plain": [
              "''"
            ],
            "application/vnd.google.colaboratory.intrinsic+json": {
              "type": "string"
            }
          },
          "metadata": {},
          "execution_count": 37
        },
        {
          "output_type": "display_data",
          "data": {
            "text/plain": [
              "<Figure size 432x288 with 2 Axes>"
            ],
            "image/png": "[encoded data removed]"
          },
          "metadata": {
            "needs_background": "light"
          }
        }
      ],
      "source": [
        "ConfusionMatrixDisplay.from_predictions(is_international_ground_truths.apply(str), pred_international.apply(str))\n",
        "plt.xticks(rotation=90)\n",
        ";"
      ],
      "id": "27c5d1be"
    },
    {
      "cell_type": "code",
      "execution_count": 40,
      "metadata": {
        "id": "91311d34",
        "colab": {
          "base_uri": "https://localhost:8080/"
        },
        "outputId": "e6ab4386-6e29-4f87-aa9b-07da38fc7a89"
      },
      "outputs": [
        {
          "output_type": "execute_result",
          "data": {
            "text/plain": [
              "3.462836944507705"
            ]
          },
          "metadata": {},
          "execution_count": 40
        }
      ],
      "source": [
        "mean_absolute_error(df_val[~df_val.num_countries.isna()].num_countries, df_val[~df_val.num_countries.isna()][\"pred_regression\"])"
      ],
      "id": "91311d34"
    },
    {
      "cell_type": "code",
      "execution_count": 43,
      "metadata": {
        "id": "b620ed04",
        "colab": {
          "base_uri": "https://localhost:8080/"
        },
        "outputId": "b1ecc32b-434c-4a14-c1ee-56cf962c1626"
      },
      "outputs": [
        {
          "output_type": "execute_result",
          "data": {
            "text/plain": [
              "8.412106914587149"
            ]
          },
          "metadata": {},
          "execution_count": 43
        }
      ],
      "source": [
        "np.sqrt(mean_squared_error(df_val[~df_val.num_countries.isna()].num_countries, df_val[~df_val.num_countries.isna()][\"pred_regression\"]))"
      ],
      "id": "b620ed04"
    },
    {
      "cell_type": "code",
      "source": [
        "plt.scatter(df_val[~df_val.num_countries.isna()].num_countries, df_val[~df_val.num_countries.isna()][\"pred_regression\"])\n",
        "plt.xlim(0,20)\n",
        "plt.ylim(0,20)"
      ],
      "metadata": {
        "colab": {
          "base_uri": "https://localhost:8080/",
          "height": 287
        },
        "id": "P0KkaJPIjJEF",
        "outputId": "e5ae7b83-63f4-4999-bad7-9faf95ed77a5"
      },
      "id": "P0KkaJPIjJEF",
      "execution_count": 49,
      "outputs": [
        {
          "output_type": "execute_result",
          "data": {
            "text/plain": [
              "(0.0, 20.0)"
            ]
          },
          "metadata": {},
          "execution_count": 49
        },
        {
          "output_type": "display_data",
          "data": {
            "text/plain": [
              "<Figure size 432x288 with 1 Axes>"
            ],
            "image/png": "[encoded data removed]"
          },
          "metadata": {
            "needs_background": "light"
          }
        }
      ]
    },
    {
      "cell_type": "code",
      "source": [
        "from sklearn.metrics import r2_score"
      ],
      "metadata": {
        "id": "mBczQowWjkl0"
      },
      "id": "mBczQowWjkl0",
      "execution_count": 54,
      "outputs": []
    },
    {
      "cell_type": "code",
      "source": [
        "r2_score(df_val[~df_val.num_countries.isna()].num_countries, df_val[~df_val.num_countries.isna()][\"pred_regression\"])"
      ],
      "metadata": {
        "colab": {
          "base_uri": "https://localhost:8080/"
        },
        "id": "vdTwHqf4joG2",
        "outputId": "ba1ace10-4a94-42d3-c8d9-187375a5aecd"
      },
      "id": "vdTwHqf4joG2",
      "execution_count": 56,
      "outputs": [
        {
          "output_type": "execute_result",
          "data": {
            "text/plain": [
              "-0.6685765438762818"
            ]
          },
          "metadata": {},
          "execution_count": 56
        }
      ]
    },
    {
      "cell_type": "code",
      "source": [
        "plt.hist(df_val[~df_val.num_countries.isna()].num_countries, range=(1,20), bins=20)\n",
        "plt.hist(df_val[~df_val.num_countries.isna()].pred_regression, range=(1,20), bins=20, alpha=0.5)"
      ],
      "metadata": {
        "colab": {
          "base_uri": "https://localhost:8080/",
          "height": 375
        },
        "id": "aOPtsAr9jV6f",
        "outputId": "fd772f08-5feb-4247-96eb-cb192a0e5229"
      },
      "id": "aOPtsAr9jV6f",
      "execution_count": 53,
      "outputs": [
        {
          "output_type": "execute_result",
          "data": {
            "text/plain": [
              "(array([196., 159.,  67.,  46.,  30.,  20.,  19.,  17.,  26.,  22.,  21.,\n",
              "          9.,  16.,  18.,  17.,   4.,   5.,   6.,   4.,   6.]),\n",
              " array([ 1.  ,  1.95,  2.9 ,  3.85,  4.8 ,  5.75,  6.7 ,  7.65,  8.6 ,\n",
              "         9.55, 10.5 , 11.45, 12.4 , 13.35, 14.3 , 15.25, 16.2 , 17.15,\n",
              "        18.1 , 19.05, 20.  ], dtype=float32),\n",
              " <a list of 20 Patch objects>)"
            ]
          },
          "metadata": {},
          "execution_count": 53
        },
        {
          "output_type": "display_data",
          "data": {
            "text/plain": [
              "<Figure size 432x288 with 1 Axes>"
            ],
            "image/png": "[encoded data removed]"
          },
          "metadata": {
            "needs_background": "light"
          }
        }
      ]
    },
    {
      "cell_type": "code",
      "execution_count": 46,
      "metadata": {
        "id": "84b0d6cd",
        "colab": {
          "base_uri": "https://localhost:8080/"
        },
        "outputId": "51e6dc30-3155-4301-9943-61ae3af5149a"
      },
      "outputs": [
        {
          "output_type": "stream",
          "name": "stdout",
          "text": [
            "22.0 21.144125\n",
            "1.0 1.8796475\n",
            "1.0 4.223917\n",
            "6.0 15.239582\n",
            "1.0 10.874343\n",
            "1.0 -1.1959716\n",
            "1.0 4.5929613\n",
            "17.0 2.2989395\n",
            "1.0 0.6496595\n",
            "1.0 -0.74729455\n",
            "21.0 10.153323\n",
            "1.0 -0.0842831\n",
            "1.0 2.3313987\n",
            "1.0 -0.22967193\n",
            "1.0 0.99914694\n",
            "1.0 3.2761035\n",
            "1.0 0.40317482\n",
            "1.0 7.723652\n",
            "1.0 2.8521707\n",
            "1.0 -1.021039\n",
            "1.0 2.4925468\n",
            "2.0 5.457601\n",
            "1.0 1.4032584\n",
            "12.0 0.037156105\n",
            "6.0 1.289045\n",
            "1.0 0.60035133\n",
            "1.0 4.0504756\n",
            "6.0 3.0634935\n",
            "1.0 0.6418456\n",
            "1.0 10.998809\n",
            "1.0 6.8886\n",
            "1.0 4.704488\n",
            "1.0 1.1700401\n",
            "1.0 2.0907915\n",
            "1.0 1.566643\n",
            "11.0 9.43213\n",
            "1.0 1.1057999\n",
            "14.0 16.07409\n",
            "1.0 0.40246895\n",
            "1.0 2.4221933\n",
            "1.0 -0.011498421\n",
            "1.0 7.699995\n",
            "1.0 1.9557316\n",
            "7.0 10.459925\n",
            "1.0 1.4388117\n",
            "1.0 1.1575816\n",
            "1.0 -0.12041521\n",
            "1.0 14.658831\n",
            "1.0 2.6147068\n",
            "1.0 1.2152901\n",
            "1.0 -0.24174365\n",
            "1.0 1.8029948\n",
            "1.0 2.7188668\n",
            "1.0 1.5080478\n",
            "2.0 0.1302652\n",
            "21.0 18.729548\n",
            "6.0 1.4879895\n",
            "37.0 1.9562467\n",
            "1.0 1.8720186\n",
            "3.0 1.2661413\n",
            "1.0 -3.240828\n",
            "1.0 2.51846\n",
            "1.0 1.9674263\n",
            "1.0 9.333852\n",
            "3.0 5.1156034\n",
            "1.0 1.1880924\n",
            "1.0 3.587395\n",
            "1.0 1.5632093\n",
            "1.0 1.6532141\n",
            "14.0 18.212994\n",
            "1.0 2.6725814\n",
            "1.0 -0.9424679\n",
            "7.0 1.5221465\n",
            "1.0 1.6881604\n",
            "1.0 2.4235618\n",
            "1.0 -0.028401852\n",
            "1.0 -1.4562935\n",
            "1.0 4.740085\n",
            "1.0 1.7938865\n",
            "1.0 -1.9027741\n",
            "1.0 7.896923\n",
            "8.0 13.420624\n",
            "2.0 6.285121\n",
            "1.0 1.3003128\n",
            "1.0 -0.21943298\n",
            "1.0 0.9013951\n",
            "1.0 14.378697\n",
            "1.0 -1.6895182\n",
            "1.0 -0.42551622\n",
            "29.0 4.143598\n",
            "2.0 10.744603\n",
            "7.0 4.529376\n",
            "1.0 3.3623679\n",
            "1.0 0.816468\n",
            "6.0 5.6435566\n",
            "1.0 -2.0319102\n",
            "2.0 0.7607281\n",
            "1.0 1.4002862\n",
            "1.0 2.9455042\n",
            "1.0 -0.08610146\n",
            "1.0 1.4602633\n",
            "1.0 3.4953263\n",
            "1.0 0.31063822\n",
            "1.0 8.931628\n",
            "1.0 1.943885\n",
            "1.0 -0.46716467\n",
            "5.0 2.9546268\n",
            "1.0 1.2939359\n",
            "1.0 3.338955\n",
            "16.0 5.08448\n",
            "10.0 19.207487\n",
            "17.0 13.201646\n",
            "1.0 2.4822419\n",
            "1.0 0.7946737\n",
            "1.0 0.97923815\n",
            "1.0 0.41775715\n",
            "1.0 0.6479716\n",
            "1.0 0.33260322\n",
            "1.0 8.875777\n",
            "1.0 -0.081006765\n",
            "2.0 6.6780863\n",
            "7.0 1.4949508\n",
            "1.0 0.64460063\n",
            "1.0 1.8265022\n",
            "27.0 8.899796\n",
            "2.0 2.5286276\n",
            "1.0 -1.4188757\n",
            "1.0 1.2197539\n",
            "1.0 1.114325\n",
            "1.0 1.84845\n",
            "3.0 6.6860647\n",
            "1.0 5.922758\n",
            "1.0 0.58601147\n",
            "1.0 0.76600766\n",
            "1.0 -0.32512045\n",
            "1.0 1.0276814\n",
            "1.0 1.3729331\n",
            "1.0 -1.5946674\n",
            "1.0 0.0011833608\n",
            "1.0 3.0841599\n",
            "1.0 0.44642404\n",
            "10.0 26.621073\n",
            "1.0 2.5785217\n",
            "1.0 1.7300899\n",
            "21.0 10.1482725\n",
            "1.0 0.20732248\n",
            "1.0 1.7625893\n",
            "1.0 15.127127\n",
            "1.0 1.0569429\n",
            "1.0 -0.50974905\n",
            "5.0 4.269935\n",
            "1.0 2.4237685\n",
            "1.0 -0.041271344\n",
            "19.0 14.088989\n",
            "7.0 0.54408944\n",
            "1.0 -1.2425767\n",
            "6.0 11.6439295\n",
            "6.0 0.9949821\n",
            "33.0 15.876899\n",
            "2.0 2.7321985\n",
            "1.0 1.288625\n",
            "1.0 -3.2824457\n",
            "1.0 0.93311\n",
            "1.0 0.5561328\n",
            "1.0 3.2277188\n",
            "1.0 1.5026133\n",
            "1.0 30.024584\n",
            "1.0 3.303712\n",
            "1.0 1.2006507\n",
            "1.0 2.8065646\n",
            "1.0 3.7937205\n",
            "1.0 1.4297359\n",
            "19.0 10.064805\n",
            "1.0 -0.52910316\n",
            "3.0 2.2582102\n",
            "1.0 1.0797569\n",
            "30.0 15.11121\n",
            "1.0 0.7378813\n",
            "4.0 2.2925484\n",
            "1.0 1.0494175\n",
            "1.0 0.3709435\n",
            "1.0 0.68480027\n",
            "1.0 9.397423\n",
            "1.0 -0.56796527\n",
            "1.0 0.4475005\n",
            "1.0 0.5650598\n",
            "1.0 0.7505995\n",
            "1.0 0.569343\n",
            "1.0 0.50133693\n",
            "7.0 4.915573\n",
            "1.0 5.3940573\n",
            "1.0 -0.6992965\n",
            "1.0 5.24129\n",
            "25.0 22.388927\n",
            "1.0 2.394506\n",
            "26.0 3.3509674\n",
            "1.0 0.76865244\n",
            "1.0 2.7365324\n",
            "32.0 13.408511\n",
            "1.0 2.7789016\n",
            "1.0 5.6747794\n",
            "1.0 1.2843705\n",
            "1.0 0.64122087\n",
            "1.0 3.1207716\n",
            "2.0 1.1007781\n",
            "1.0 2.183377\n",
            "1.0 3.2799895\n",
            "18.0 2.3302338\n",
            "14.0 13.24644\n",
            "11.0 10.053817\n",
            "4.0 7.2309103\n",
            "5.0 12.320213\n",
            "1.0 8.957491\n",
            "1.0 1.5133407\n",
            "1.0 -0.14947912\n",
            "1.0 -0.08495429\n",
            "5.0 1.065655\n",
            "1.0 -0.4889013\n",
            "1.0 2.1666214\n",
            "3.0 19.402477\n",
            "1.0 4.710319\n",
            "1.0 1.7892703\n",
            "1.0 3.129754\n",
            "1.0 0.37949422\n",
            "4.0 11.441794\n",
            "1.0 2.4667048\n",
            "1.0 2.0428286\n",
            "7.0 1.7610773\n",
            "1.0 4.888504\n",
            "1.0 0.25095537\n",
            "1.0 2.3305798\n",
            "1.0 2.4497557\n",
            "1.0 2.193755\n",
            "8.0 3.7590587\n",
            "29.0 13.597933\n",
            "1.0 2.4933631\n",
            "13.0 3.1555777\n",
            "1.0 2.5686703\n",
            "1.0 2.715486\n",
            "1.0 0.62576663\n",
            "1.0 0.61625767\n",
            "1.0 2.658486\n",
            "2.0 12.689765\n",
            "3.0 2.8594449\n",
            "1.0 1.084396\n",
            "1.0 0.3262018\n",
            "4.0 14.020631\n",
            "1.0 0.90130126\n",
            "1.0 1.0780506\n",
            "1.0 2.4186022\n",
            "9.0 15.912883\n",
            "1.0 0.03900388\n",
            "1.0 1.9960301\n",
            "6.0 6.729217\n",
            "1.0 0.173899\n",
            "4.0 14.629909\n",
            "1.0 0.79264975\n",
            "1.0 2.794083\n",
            "1.0 1.3712659\n",
            "1.0 1.9582305\n",
            "1.0 4.710319\n",
            "1.0 7.222742\n",
            "12.0 12.428042\n",
            "1.0 -0.040988415\n",
            "1.0 -0.39085773\n",
            "24.0 6.975012\n",
            "1.0 1.8349249\n",
            "1.0 3.4039536\n",
            "1.0 -0.88081074\n",
            "1.0 1.1402566\n",
            "1.0 2.8225877\n",
            "6.0 5.5578976\n",
            "1.0 1.0008878\n",
            "1.0 0.65789306\n",
            "1.0 1.6214563\n",
            "5.0 1.7678114\n",
            "1.0 0.7008214\n",
            "1.0 1.4014834\n",
            "1.0 0.8891405\n",
            "1.0 2.5099514\n",
            "1.0 4.710319\n",
            "11.0 6.9571886\n",
            "1.0 2.0159566\n",
            "12.0 3.459802\n",
            "15.0 13.656362\n",
            "1.0 6.913184\n",
            "17.0 14.869479\n",
            "1.0 7.4213915\n",
            "1.0 1.6527605\n",
            "1.0 -0.18086696\n",
            "1.0 19.580933\n",
            "1.0 2.0480804\n",
            "1.0 11.249478\n",
            "2.0 11.064528\n",
            "1.0 1.2985029\n",
            "1.0 1.0719897\n",
            "1.0 0.43412304\n",
            "1.0 7.550723\n",
            "5.0 12.937526\n",
            "1.0 1.2833643\n",
            "1.0 5.755754\n",
            "9.0 7.7025075\n",
            "2.0 11.119419\n",
            "1.0 1.9790188\n",
            "1.0 1.7118816\n",
            "7.0 8.256465\n",
            "1.0 -1.6634861\n",
            "1.0 3.608081\n",
            "1.0 1.943068\n",
            "1.0 1.520809\n",
            "1.0 9.838117\n",
            "1.0 3.7948012\n",
            "12.0 12.960404\n",
            "4.0 1.7933345\n",
            "1.0 0.18452388\n",
            "32.0 9.336278\n",
            "1.0 2.8555913\n",
            "2.0 15.728429\n",
            "2.0 1.1642255\n",
            "5.0 1.8322041\n",
            "1.0 2.433296\n",
            "1.0 1.7456326\n",
            "1.0 2.0114322\n",
            "1.0 0.95817626\n",
            "1.0 -2.721936\n",
            "1.0 1.0576417\n",
            "1.0 1.8216144\n",
            "1.0 -0.620468\n",
            "4.0 0.34485042\n",
            "1.0 1.6685975\n",
            "7.0 -0.2816728\n",
            "1.0 0.81719756\n",
            "1.0 3.9852855\n",
            "1.0 0.51819927\n",
            "5.0 4.011635\n",
            "1.0 2.6205916\n",
            "1.0 0.3019881\n",
            "2.0 5.082558\n",
            "25.0 1.1883076\n",
            "1.0 0.4308361\n",
            "19.0 9.061133\n",
            "1.0 0.96487343\n",
            "1.0 1.5506796\n",
            "1.0 1.5172797\n",
            "17.0 12.451546\n",
            "7.0 2.3341372\n",
            "1.0 -0.54626834\n",
            "1.0 0.99187875\n",
            "1.0 3.6992676\n",
            "1.0 0.29663244\n",
            "1.0 -0.15070298\n",
            "1.0 1.934226\n",
            "1.0 1.7054594\n",
            "43.0 23.623434\n",
            "14.0 8.710064\n",
            "28.0 30.809715\n",
            "1.0 -0.35501245\n",
            "13.0 19.497551\n",
            "19.0 0.33667728\n",
            "1.0 0.53315246\n",
            "4.0 -0.06602211\n",
            "7.0 8.835158\n",
            "1.0 2.1343896\n",
            "1.0 0.577407\n",
            "2.0 7.7827044\n",
            "1.0 2.4889321\n",
            "1.0 1.0304587\n",
            "1.0 0.2808045\n",
            "2.0 0.8315489\n",
            "1.0 7.99367\n",
            "1.0 -1.4131206\n",
            "1.0 1.3481399\n",
            "1.0 -0.040921852\n",
            "1.0 0.2916336\n",
            "1.0 2.401127\n",
            "1.0 1.8823133\n",
            "8.0 7.0166903\n",
            "1.0 0.36720002\n",
            "1.0 1.1483088\n",
            "43.0 13.439475\n",
            "1.0 1.6696038\n",
            "1.0 3.6369188\n",
            "4.0 4.6744347\n",
            "17.0 17.91787\n",
            "1.0 2.4387777\n",
            "1.0 2.2971318\n",
            "1.0 2.2874737\n",
            "1.0 -0.1878894\n",
            "1.0 1.3392181\n",
            "1.0 1.9530802\n",
            "5.0 2.1788626\n",
            "2.0 0.7744181\n",
            "4.0 8.740274\n",
            "48.0 36.654545\n",
            "1.0 2.1627738\n",
            "1.0 4.6219497\n",
            "14.0 11.378775\n",
            "41.0 13.504611\n",
            "1.0 3.934086\n",
            "1.0 6.18152\n",
            "6.0 10.704768\n",
            "2.0 1.5391185\n",
            "1.0 -0.041856736\n",
            "19.0 18.909393\n",
            "1.0 0.6885141\n",
            "1.0 14.038777\n",
            "16.0 13.656692\n",
            "17.0 5.673233\n",
            "4.0 2.0929163\n",
            "1.0 -1.332895\n",
            "1.0 1.6842978\n",
            "1.0 -2.5059397\n",
            "1.0 2.272159\n",
            "1.0 0.71803\n",
            "1.0 -0.4534429\n",
            "1.0 0.20449123\n",
            "1.0 -0.014327049\n",
            "1.0 6.2294035\n",
            "1.0 6.018287\n",
            "11.0 4.7568016\n",
            "1.0 3.8582668\n",
            "14.0 16.900066\n",
            "1.0 0.7011925\n",
            "1.0 0.5568086\n",
            "1.0 2.3372295\n",
            "9.0 10.266775\n",
            "1.0 2.2881634\n",
            "2.0 0.7193835\n",
            "1.0 -0.28789744\n",
            "1.0 0.60375106\n",
            "3.0 14.375752\n",
            "1.0 -1.0347756\n",
            "1.0 2.5895875\n",
            "1.0 10.883276\n",
            "6.0 12.7174015\n",
            "1.0 15.070624\n",
            "2.0 1.9439183\n",
            "3.0 4.6354895\n",
            "1.0 -2.0857153\n",
            "1.0 -0.081006765\n",
            "1.0 0.59470916\n",
            "1.0 1.1338108\n",
            "1.0 0.79315794\n",
            "1.0 1.4191275\n",
            "1.0 8.993091\n",
            "2.0 2.5877473\n",
            "1.0 10.36078\n",
            "1.0 1.6952735\n",
            "1.0 0.37915608\n",
            "7.0 13.502823\n",
            "1.0 -0.15322086\n",
            "1.0 -1.1248684\n",
            "1.0 0.4070091\n",
            "1.0 -1.0156355\n",
            "1.0 2.7044725\n",
            "1.0 -0.17358392\n",
            "1.0 0.85528326\n",
            "1.0 5.4705825\n",
            "1.0 0.7247834\n",
            "1.0 1.6465526\n",
            "1.0 -0.3106978\n",
            "1.0 2.071924\n",
            "1.0 4.9602156\n",
            "2.0 2.418557\n",
            "1.0 -1.2727377\n",
            "1.0 3.2798946\n",
            "1.0 15.070609\n",
            "1.0 2.3182194\n",
            "1.0 1.7076719\n",
            "2.0 2.43433\n",
            "1.0 0.6846863\n",
            "8.0 19.331253\n",
            "1.0 1.3192438\n",
            "1.0 0.9220997\n",
            "1.0 2.3245628\n",
            "1.0 2.390938\n",
            "1.0 22.97794\n",
            "1.0 11.360457\n",
            "1.0 1.7637653\n",
            "1.0 0.46231666\n",
            "1.0 0.2942827\n",
            "4.0 9.85495\n",
            "1.0 0.62160826\n",
            "1.0 14.401015\n",
            "2.0 3.2093418\n",
            "1.0 0.49115297\n",
            "1.0 2.0253255\n",
            "1.0 2.8467054\n",
            "11.0 15.198572\n",
            "1.0 1.3379581\n",
            "1.0 -0.05256979\n",
            "1.0 0.9695163\n",
            "6.0 -0.25143424\n",
            "11.0 14.222981\n",
            "1.0 1.0208932\n",
            "15.0 9.04908\n",
            "11.0 10.552647\n",
            "13.0 1.2656852\n",
            "22.0 29.033005\n",
            "2.0 3.960211\n",
            "1.0 2.0557463\n",
            "1.0 0.15247457\n",
            "1.0 3.6071079\n",
            "11.0 14.31926\n",
            "1.0 1.1899648\n",
            "24.0 3.8876932\n",
            "13.0 15.052617\n",
            "1.0 16.516466\n",
            "1.0 1.9663165\n",
            "13.0 5.3452578\n",
            "1.0 2.4825253\n",
            "1.0 -0.66868687\n",
            "1.0 -1.0393599\n",
            "1.0 -0.072083786\n",
            "1.0 0.7268506\n",
            "10.0 3.2454617\n",
            "1.0 2.2621472\n",
            "1.0 1.1795925\n",
            "1.0 0.6785357\n",
            "1.0 -0.89016664\n",
            "1.0 2.4877875\n",
            "1.0 0.7106203\n",
            "1.0 1.8065916\n",
            "1.0 0.4060622\n",
            "1.0 0.586699\n",
            "1.0 3.7992508\n",
            "1.0 2.937917\n",
            "1.0 -0.11566448\n",
            "4.0 2.7255518\n",
            "1.0 3.0493996\n",
            "4.0 6.205497\n",
            "1.0 1.9851768\n",
            "1.0 1.545733\n",
            "1.0 0.15287586\n",
            "7.0 4.2587595\n",
            "1.0 16.501905\n",
            "1.0 0.18308042\n",
            "1.0 3.2919564\n",
            "1.0 3.4945436\n",
            "4.0 5.482898\n",
            "1.0 -0.14508349\n",
            "1.0 0.98325026\n",
            "1.0 -0.54943895\n",
            "1.0 6.5527873\n",
            "1.0 0.46028486\n",
            "18.0 25.713129\n",
            "1.0 12.527293\n",
            "1.0 4.710319\n",
            "31.0 2.2573493\n",
            "1.0 0.9122976\n",
            "5.0 2.8626983\n",
            "12.0 6.942093\n",
            "4.0 2.0304608\n",
            "1.0 1.1016955\n",
            "12.0 17.896235\n",
            "23.0 30.570282\n",
            "1.0 0.7078446\n",
            "1.0 2.1159742\n",
            "1.0 -1.6103798\n",
            "1.0 -0.33964524\n",
            "1.0 -2.1347656\n",
            "21.0 6.5405817\n",
            "1.0 3.9421756\n",
            "1.0 2.6641142\n",
            "1.0 1.6324184\n",
            "9.0 7.803843\n",
            "1.0 6.420966\n",
            "1.0 0.9313412\n",
            "1.0 2.1386719\n",
            "1.0 9.206169\n",
            "1.0 0.49038973\n",
            "2.0 3.0401165\n",
            "1.0 2.0456395\n",
            "1.0 2.0428991\n",
            "1.0 2.5835934\n",
            "1.0 0.59014475\n",
            "1.0 1.2114514\n",
            "1.0 4.835687\n",
            "1.0 -0.02496612\n",
            "1.0 -0.5742396\n",
            "3.0 2.8716958\n",
            "14.0 2.6694703\n",
            "1.0 0.81941044\n",
            "1.0 1.9014964\n",
            "7.0 17.886002\n",
            "1.0 2.4408996\n",
            "1.0 1.7459161\n",
            "2.0 1.838784\n",
            "1.0 3.1590009\n",
            "1.0 0.99001324\n",
            "1.0 -0.58338594\n",
            "1.0 1.1033165\n",
            "1.0 1.5094757\n",
            "1.0 1.2101059\n",
            "1.0 1.386611\n",
            "14.0 12.470609\n",
            "1.0 1.8798903\n",
            "1.0 -0.8844651\n",
            "1.0 1.5365082\n",
            "1.0 0.8895917\n",
            "11.0 3.8792117\n",
            "16.0 7.66192\n",
            "1.0 5.1995854\n",
            "1.0 1.5856717\n",
            "1.0 1.6884432\n",
            "1.0 18.324963\n",
            "1.0 2.2231867\n",
            "1.0 0.66071355\n",
            "1.0 -1.1461872\n",
            "7.0 10.468595\n",
            "2.0 -0.62428844\n",
            "1.0 -0.5863626\n",
            "2.0 1.8332529\n",
            "12.0 -0.3721417\n",
            "3.0 2.173583\n",
            "1.0 1.7134702\n",
            "1.0 10.806675\n",
            "1.0 -0.015830547\n",
            "2.0 0.25755757\n",
            "1.0 13.035284\n",
            "1.0 1.0203756\n",
            "1.0 -2.3654757\n",
            "4.0 2.1889663\n",
            "25.0 8.206655\n",
            "1.0 13.753948\n",
            "1.0 1.08492\n",
            "6.0 0.31746054\n",
            "1.0 8.701003\n",
            "1.0 2.5723593\n",
            "1.0 0.94179404\n",
            "1.0 0.25992793\n",
            "1.0 1.8553729\n",
            "4.0 7.9382606\n",
            "11.0 10.140775\n",
            "1.0 0.22461759\n",
            "4.0 3.4513931\n",
            "7.0 1.5621316\n",
            "3.0 0.015823692\n",
            "1.0 1.4901634\n",
            "1.0 12.526737\n",
            "1.0 1.1421442\n",
            "1.0 3.3493898\n",
            "1.0 1.9442999\n",
            "1.0 2.115737\n",
            "1.0 4.4305396\n",
            "1.0 0.6457168\n",
            "1.0 1.4893848\n",
            "13.0 9.247466\n",
            "1.0 2.519102\n",
            "2.0 1.0208901\n",
            "1.0 3.949952\n",
            "1.0 6.187702\n",
            "1.0 6.1268353\n",
            "1.0 3.4804432\n",
            "1.0 -0.2766413\n",
            "1.0 1.8188987\n",
            "10.0 7.7611055\n",
            "1.0 1.660492\n",
            "1.0 0.32218638\n",
            "1.0 1.2205155\n",
            "14.0 2.1792562\n",
            "4.0 0.99625504\n",
            "1.0 -0.5904542\n",
            "20.0 9.348796\n",
            "1.0 3.5086398\n",
            "1.0 2.2277048\n",
            "2.0 2.9960635\n",
            "1.0 3.7858906\n",
            "10.0 -0.39907864\n",
            "1.0 5.0836387\n",
            "1.0 1.2216792\n",
            "1.0 3.1618552\n",
            "8.0 0.38745242\n",
            "2.0 6.4249396\n",
            "2.0 1.3612666\n",
            "1.0 4.329789\n",
            "4.0 4.847205\n",
            "6.0 14.7985735\n",
            "1.0 0.6623374\n",
            "2.0 1.2709751\n",
            "1.0 2.9616318\n",
            "1.0 -0.65342903\n",
            "1.0 11.89728\n",
            "1.0 2.7141771\n",
            "1.0 -0.019784272\n",
            "13.0 5.711724\n",
            "1.0 1.8166028\n",
            "1.0 1.9018856\n",
            "1.0 2.17399\n",
            "15.0 0.62907755\n",
            "1.0 0.62396455\n",
            "38.0 17.588055\n",
            "5.0 3.4150894\n",
            "1.0 -0.18126306\n",
            "1.0 1.9290525\n",
            "1.0 0.6011827\n",
            "18.0 6.0940857\n",
            "17.0 13.170011\n",
            "1.0 0.03924176\n",
            "1.0 0.39913347\n",
            "1.0 -0.37964788\n",
            "1.0 2.4212794\n",
            "1.0 2.251219\n",
            "1.0 0.4645032\n",
            "1.0 0.55765367\n",
            "1.0 0.43020993\n",
            "1.0 2.2335367\n",
            "7.0 7.45807\n",
            "1.0 1.3129382\n",
            "1.0 -0.29187456\n",
            "1.0 1.2897161\n",
            "9.0 12.2736435\n",
            "1.0 1.7921692\n",
            "1.0 -0.7998793\n",
            "1.0 1.8833605\n",
            "1.0 0.6662917\n",
            "1.0 1.4523166\n",
            "19.0 17.059303\n",
            "1.0 2.6617563\n",
            "1.0 16.976921\n",
            "1.0 2.90669\n",
            "2.0 2.2847583\n",
            "1.0 197.35687\n",
            "2.0 -0.13303503\n",
            "1.0 2.0538616\n",
            "1.0 -0.5313308\n",
            "1.0 1.7289187\n",
            "15.0 2.4487185\n",
            "1.0 0.14422703\n",
            "2.0 0.3375329\n",
            "2.0 5.0517216\n",
            "1.0 1.212562\n",
            "1.0 2.1692328\n",
            "1.0 0.8654214\n",
            "7.0 9.372167\n",
            "3.0 1.5484542\n",
            "2.0 1.7718787\n",
            "1.0 2.330365\n",
            "1.0 0.51141536\n",
            "1.0 0.84002066\n",
            "1.0 10.472666\n",
            "1.0 10.032248\n",
            "1.0 0.2498385\n",
            "1.0 2.3495347\n",
            "1.0 -2.943136\n",
            "1.0 11.787549\n",
            "1.0 1.7011462\n",
            "1.0 10.773512\n",
            "1.0 -1.09243\n",
            "5.0 2.6999638\n",
            "1.0 2.6416857\n",
            "37.0 11.007289\n",
            "25.0 9.700149\n",
            "2.0 0.27819014\n",
            "1.0 0.90230036\n",
            "5.0 10.779295\n",
            "13.0 10.77521\n",
            "1.0 1.4646134\n",
            "2.0 3.135606\n",
            "1.0 1.7842993\n",
            "1.0 -0.2236915\n",
            "1.0 2.974133\n",
            "1.0 0.2317284\n",
            "4.0 0.7890121\n",
            "2.0 1.7518656\n",
            "2.0 9.856814\n",
            "1.0 -0.8773422\n",
            "1.0 3.772556\n",
            "11.0 10.498226\n",
            "2.0 5.004117\n",
            "3.0 1.972907\n",
            "1.0 1.9814365\n",
            "1.0 0.5678216\n",
            "12.0 8.522146\n",
            "1.0 2.2848923\n",
            "4.0 4.4191065\n",
            "1.0 2.0563176\n",
            "29.0 14.980233\n",
            "6.0 5.565748\n",
            "18.0 4.6914897\n",
            "4.0 2.8596504\n",
            "1.0 0.37431982\n",
            "1.0 1.0692307\n",
            "1.0 0.9074719\n",
            "1.0 0.9153203\n",
            "25.0 12.341666\n",
            "22.0 3.0497692\n",
            "2.0 9.1439085\n",
            "2.0 1.2767409\n",
            "1.0 2.3258657\n",
            "1.0 0.49668303\n",
            "4.0 5.1375804\n",
            "1.0 1.3117534\n",
            "2.0 10.022299\n",
            "1.0 2.867257\n",
            "1.0 -0.39501092\n",
            "1.0 0.633443\n",
            "1.0 3.4309459\n",
            "1.0 7.29021\n",
            "1.0 4.069816\n",
            "4.0 10.354714\n",
            "1.0 1.3498893\n",
            "6.0 7.5418797\n",
            "23.0 1.2418877\n",
            "15.0 8.640542\n",
            "1.0 17.421885\n",
            "1.0 0.17635056\n",
            "19.0 12.748598\n",
            "1.0 0.100440085\n",
            "1.0 1.1799066\n",
            "1.0 0.7403202\n",
            "15.0 4.071372\n",
            "2.0 2.6168463\n",
            "1.0 0.31375647\n",
            "1.0 -1.4205804\n",
            "1.0 1.6846607\n",
            "18.0 6.3066597\n",
            "1.0 2.5948808\n",
            "2.0 3.4765155\n",
            "1.0 -0.20549479\n",
            "12.0 11.183396\n",
            "31.0 21.449257\n",
            "1.0 -0.3117919\n",
            "1.0 0.4757372\n",
            "4.0 4.356728\n",
            "1.0 1.0123886\n",
            "1.0 -0.6549003\n",
            "1.0 0.77494717\n",
            "3.0 2.006625\n",
            "41.0 10.743397\n",
            "39.0 7.7884097\n",
            "1.0 -0.35968372\n",
            "1.0 2.695405\n",
            "2.0 2.7959733\n",
            "8.0 1.292095\n",
            "1.0 0.4269494\n",
            "1.0 2.2764997\n",
            "7.0 12.718913\n",
            "1.0 12.130208\n",
            "1.0 2.9317863\n",
            "1.0 10.518088\n",
            "1.0 0.35480544\n",
            "5.0 8.658896\n",
            "1.0 0.49368888\n",
            "1.0 3.1440213\n",
            "1.0 0.8229128\n",
            "1.0 1.0966513\n",
            "1.0 2.1464624\n",
            "7.0 5.6390533\n",
            "2.0 0.7789166\n",
            "1.0 1.8579928\n",
            "1.0 1.098126\n",
            "1.0 2.1436124\n",
            "2.0 1.5932093\n",
            "1.0 -0.01292178\n",
            "1.0 -0.14851522\n",
            "10.0 -1.286705\n",
            "1.0 0.40783116\n",
            "3.0 9.750949\n",
            "1.0 1.7155004\n",
            "1.0 0.6071502\n",
            "1.0 2.3037398\n",
            "2.0 1.8599503\n",
            "34.0 1.9108934\n",
            "1.0 0.7058283\n",
            "1.0 2.6429987\n",
            "1.0 0.9401548\n",
            "1.0 0.3587629\n",
            "1.0 4.710319\n",
            "10.0 1.1077359\n",
            "1.0 4.6922083\n",
            "9.0 6.0688205\n",
            "1.0 0.8787428\n",
            "11.0 2.5176542\n",
            "9.0 7.1816025\n",
            "1.0 2.6857717\n",
            "1.0 0.1836846\n",
            "1.0 6.247475\n",
            "1.0 0.6252799\n",
            "1.0 1.5275551\n",
            "1.0 0.5058023\n",
            "1.0 1.3689829\n",
            "1.0 -0.62358904\n",
            "2.0 1.8836763\n",
            "1.0 0.23607132\n",
            "1.0 1.1696882\n",
            "1.0 1.7481731\n",
            "1.0 2.2739487\n",
            "1.0 10.459745\n",
            "1.0 -0.3546612\n",
            "1.0 -0.48367545\n",
            "2.0 6.0630803\n",
            "1.0 0.4193542\n",
            "1.0 5.2160506\n",
            "1.0 13.416848\n",
            "4.0 14.970245\n",
            "10.0 0.67103744\n",
            "1.0 -1.2536646\n",
            "1.0 1.4588082\n",
            "1.0 3.9766648\n",
            "8.0 4.30386\n",
            "1.0 1.2053143\n",
            "3.0 1.6617165\n",
            "1.0 0.8122821\n",
            "1.0 -0.5706284\n",
            "2.0 2.3009813\n",
            "1.0 -2.1879325\n",
            "1.0 2.630349\n",
            "1.0 1.2133067\n",
            "1.0 0.7035564\n",
            "1.0 2.0992613\n",
            "1.0 2.5456295\n",
            "3.0 3.5745971\n",
            "1.0 0.83811665\n",
            "15.0 20.758186\n",
            "1.0 3.0515501\n",
            "1.0 8.577294\n",
            "7.0 5.0425067\n",
            "10.0 0.062292844\n",
            "1.0 -1.601243\n",
            "11.0 2.4607756\n",
            "3.0 0.38520005\n",
            "2.0 3.570542\n",
            "1.0 2.0426013\n",
            "1.0 -0.10454786\n",
            "1.0 -0.26727292\n",
            "1.0 1.3989886\n",
            "1.0 1.4635944\n",
            "1.0 0.5031538\n",
            "1.0 2.5627012\n",
            "1.0 0.0027739704\n",
            "1.0 2.6547163\n",
            "1.0 26.432873\n",
            "1.0 0.38763008\n",
            "1.0 0.9219068\n",
            "1.0 0.68725073\n",
            "1.0 0.8455504\n",
            "1.0 1.3478094\n",
            "1.0 1.2984555\n",
            "15.0 9.188861\n",
            "1.0 1.7841438\n",
            "1.0 3.1880229\n",
            "6.0 5.5481052\n",
            "1.0 1.5066743\n",
            "1.0 -0.51022184\n",
            "1.0 0.14453931\n",
            "1.0 2.4933283\n",
            "1.0 1.9808517\n",
            "1.0 3.8883228\n",
            "13.0 14.184644\n",
            "1.0 10.572615\n",
            "1.0 1.546874\n",
            "1.0 3.1133919\n",
            "1.0 1.1843481\n",
            "17.0 14.040289\n",
            "1.0 1.6533335\n",
            "1.0 1.3543137\n",
            "10.0 12.301306\n",
            "1.0 10.074241\n",
            "1.0 1.3318588\n",
            "1.0 0.12935536\n",
            "1.0 0.49544412\n",
            "1.0 3.91468\n",
            "2.0 8.856025\n",
            "5.0 3.3474224\n",
            "1.0 0.77174497\n",
            "1.0 -0.76654124\n",
            "1.0 -0.5112748\n",
            "1.0 3.7799952\n",
            "1.0 2.4987786\n",
            "7.0 13.505023\n",
            "13.0 5.729531\n",
            "8.0 1.2034798\n",
            "1.0 -2.383856\n",
            "9.0 17.600336\n",
            "1.0 0.5720705\n",
            "18.0 2.6603072\n",
            "1.0 -0.07538101\n",
            "1.0 0.9637779\n",
            "1.0 -0.36837968\n",
            "1.0 -0.34676805\n",
            "6.0 8.154302\n",
            "1.0 2.9616082\n",
            "1.0 0.77159524\n",
            "1.0 1.4287525\n",
            "1.0 -0.52273095\n",
            "12.0 7.4675546\n",
            "9.0 7.527346\n",
            "1.0 0.93179893\n",
            "1.0 23.4212\n",
            "1.0 1.3513293\n",
            "1.0 1.7228959\n",
            "4.0 1.6491365\n",
            "1.0 6.8677225\n",
            "8.0 7.0131016\n",
            "1.0 0.5862697\n",
            "1.0 0.81155336\n",
            "1.0 -1.5456533\n",
            "1.0 1.0166888\n",
            "1.0 -1.491723\n",
            "1.0 1.3808117\n",
            "1.0 4.3888\n",
            "20.0 14.082751\n",
            "1.0 2.520336\n",
            "1.0 4.710319\n",
            "1.0 1.6500869\n",
            "1.0 0.5478993\n",
            "8.0 13.192813\n",
            "1.0 4.779014\n",
            "1.0 0.9445832\n",
            "1.0 7.711484\n",
            "1.0 -0.7211288\n",
            "1.0 -0.75993156\n",
            "1.0 3.16533\n",
            "5.0 0.511966\n",
            "1.0 2.1578088\n",
            "1.0 -0.58659685\n",
            "1.0 0.88171613\n",
            "2.0 -0.4434813\n",
            "1.0 1.738803\n",
            "1.0 1.6498171\n",
            "1.0 -0.501021\n",
            "1.0 0.6785077\n",
            "1.0 3.521667\n",
            "1.0 2.2278411\n",
            "1.0 0.90436316\n",
            "1.0 2.156801\n",
            "1.0 0.14208663\n",
            "8.0 21.40149\n",
            "1.0 4.06039\n",
            "1.0 1.2935759\n",
            "3.0 11.796251\n",
            "1.0 2.110565\n",
            "13.0 4.0569696\n",
            "32.0 4.3872566\n",
            "1.0 1.9620545\n",
            "1.0 1.9565368\n",
            "1.0 0.5959643\n",
            "1.0 0.17468648\n",
            "7.0 20.816181\n",
            "1.0 2.3976347\n",
            "1.0 -0.18369576\n",
            "1.0 0.5052193\n",
            "1.0 -1.4335824\n",
            "1.0 1.2164974\n",
            "1.0 0.15468866\n",
            "1.0 19.64767\n",
            "1.0 0.07175586\n",
            "1.0 1.321418\n",
            "1.0 0.86645186\n",
            "15.0 9.558795\n",
            "1.0 0.34511435\n",
            "1.0 3.1935449\n",
            "1.0 0.69666946\n",
            "1.0 1.1701605\n",
            "2.0 2.6114125\n",
            "1.0 0.64099866\n",
            "1.0 0.39325014\n",
            "1.0 -0.0041069984\n",
            "1.0 3.5093386\n",
            "1.0 3.4893246\n",
            "1.0 2.9507391\n",
            "1.0 0.77159643\n",
            "21.0 0.59320974\n",
            "5.0 9.20821\n",
            "1.0 8.799798\n",
            "1.0 4.6444716\n",
            "1.0 2.7082946\n",
            "1.0 -0.059476674\n"
          ]
        }
      ],
      "source": [
        "for i in range(len(df_val[~df_val.num_countries.isna()])):\n",
        "  print (df_val[~df_val.num_countries.isna()].num_countries.iloc[i], df_val[~df_val.num_countries.isna()][\"pred_regression\"].iloc[i])"
      ],
      "id": "84b0d6cd"
    },
    {
      "cell_type": "code",
      "source": [],
      "metadata": {
        "id": "oni0jd2li9hf"
      },
      "id": "oni0jd2li9hf",
      "execution_count": null,
      "outputs": []
    }
  ],
  "metadata": {
    "colab": {
      "provenance": [],
      "machine_shape": "hm",
      "include_colab_link": true
    },
    "kernelspec": {
      "display_name": "Python [conda env:py310] *",
      "language": "python",
      "name": "conda-env-py310-py"
    },
    "language_info": {
      "codemirror_mode": {
        "name": "ipython",
        "version": 3
      },
      "file_extension": ".py",
      "mimetype": "text/x-python",
      "name": "python",
      "nbconvert_exporter": "python",
      "pygments_lexer": "ipython3",
      "version": "3.10.4"
    },
    "gpuClass": "premium",
    "accelerator": "GPU"
  },
  "nbformat": 4,
  "nbformat_minor": 5
}