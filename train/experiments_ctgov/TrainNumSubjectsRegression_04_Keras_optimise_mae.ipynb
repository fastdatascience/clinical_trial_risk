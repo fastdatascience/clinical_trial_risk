{
  "cells": [
    {
      "cell_type": "markdown",
      "metadata": {
        "id": "view-in-github",
        "colab_type": "text"
      },
      "source": [
        "<a href=\"https://colab.research.google.com/github/fastdatascience/clinical_trial_risk/blob/fixes_nov_2022/train/ctgov/TrainNumSubjectsRegression_04_Keras_optimise_mae.ipynb\" target=\"_parent\"><img src=\"https://colab.research.google.com/assets/colab-badge.svg\" alt=\"Open In Colab\"/></a>"
      ]
    },
    {
      "cell_type": "code",
      "execution_count": 1,
      "id": "ad812236",
      "metadata": {
        "id": "ad812236"
      },
      "outputs": [],
      "source": [
        "import pandas as pd\n",
        "import re\n",
        "import os\n",
        "import sys\n",
        "import pickle as pkl\n",
        "import seaborn as sns\n",
        "from sklearn.metrics import accuracy_score, confusion_matrix\n",
        "from sklearn.metrics import ConfusionMatrixDisplay\n",
        "from sklearn.metrics import mean_absolute_error, mean_squared_error\n",
        "from sklearn.metrics import roc_auc_score\n",
        "from sklearn.metrics import roc_curve, auc\n",
        "from IPython.display import display\n",
        "import matplotlib.pyplot as plt\n",
        "import numpy as np\n",
        "import json\n",
        "\n",
        "# df_annotations = pd.read_csv(\"all_annotations.csv\")\n"
      ]
    },
    {
      "cell_type": "markdown",
      "id": "e7ea7d33",
      "metadata": {
        "id": "e7ea7d33"
      },
      "source": [
        "# Get data"
      ]
    },
    {
      "cell_type": "code",
      "execution_count": 2,
      "id": "284b9a07",
      "metadata": {
        "id": "284b9a07"
      },
      "outputs": [],
      "source": [
        "# with open(\"protocols.pkl.gz\", \"rb\") as f:\n",
        "#     file_to_pages = pkl.load(f)"
      ]
    },
    {
      "cell_type": "code",
      "execution_count": 3,
      "id": "91013de0",
      "metadata": {
        "id": "91013de0"
      },
      "outputs": [],
      "source": [
        "# import spacy\n",
        "# nlp = spacy.blank(\"en\")"
      ]
    },
    {
      "cell_type": "code",
      "execution_count": 4,
      "id": "65956b92",
      "metadata": {
        "id": "65956b92",
        "scrolled": true
      },
      "outputs": [],
      "source": [
        "# texts = []\n",
        "\n",
        "# for i in range(len(df_annotations)):\n",
        "#     file_name = df_annotations.file.iloc[i]\n",
        "    \n",
        "#     pages= file_to_pages[file_name]\n",
        "    \n",
        "#     text = \"\"\n",
        "#     for page in pages:\n",
        "#         doc = nlp(page)\n",
        "        \n",
        "#         is_include = [False] * len(doc)\n",
        "#         for tok in doc:\n",
        "#             if tok.text.lower() in {\"phase\"}:\n",
        "#                 for token_index in range(tok.i - 20, tok.i + 20):\n",
        "#                     if token_index >= 0 and token_index < len(doc):\n",
        "#                         is_include[token_index] = True\n",
        "        \n",
        "#         for token_index in range(len(doc)):\n",
        "#             if is_include[token_index]:\n",
        "#                 text += doc[token_index].text + doc[token_index].whitespace_\n",
        "                \n",
        "                \n",
        "#     if text == \"\":\n",
        "#         print (\"nothing found\", file_name, df_annotations.phase.iloc[i])\n",
        "#         text = \" \".join(pages)\n",
        "#         if len(text) > 100000:\n",
        "#             text = text[:100000]\n",
        "#     else:\n",
        "#         print (\"found\", file_name, df_annotations.phase.iloc[i])\n",
        "\n",
        "#     texts.append(text)\n",
        "# df_annotations[\"text\"] = texts"
      ]
    },
    {
      "cell_type": "code",
      "execution_count": 5,
      "id": "76a39c5b",
      "metadata": {
        "id": "76a39c5b"
      },
      "outputs": [],
      "source": [
        "# df_annotations.to_csv(\"filtered_for_phase.csv.bz2\")"
      ]
    },
    {
      "cell_type": "code",
      "source": [
        "from google.colab import drive\n",
        "drive.mount('/content/drive')"
      ],
      "metadata": {
        "colab": {
          "base_uri": "https://localhost:8080/"
        },
        "id": "xCe1anFkGSrt",
        "outputId": "12dc42b9-b795-4fe1-a2a7-e02ade789c25"
      },
      "id": "xCe1anFkGSrt",
      "execution_count": 6,
      "outputs": [
        {
          "output_type": "stream",
          "name": "stdout",
          "text": [
            "Mounted at /content/drive\n"
          ]
        }
      ]
    },
    {
      "cell_type": "code",
      "source": [
        "df_annotations= pd.read_csv(\"/content/drive/MyDrive/data/filtered_for_phase_arms_subjects_02.csv.bz2\")"
      ],
      "metadata": {
        "id": "FdcTHlHsGWnk"
      },
      "id": "FdcTHlHsGWnk",
      "execution_count": 7,
      "outputs": []
    },
    {
      "cell_type": "code",
      "source": [
        "#df_annotations.text = df_annotations.text.apply(lambda t : t[:10000] if len(t) > 10000 else t)"
      ],
      "metadata": {
        "id": "wGilqqbTi76N"
      },
      "id": "wGilqqbTi76N",
      "execution_count": 8,
      "outputs": []
    },
    {
      "cell_type": "code",
      "source": [
        "def get_num_subjects_clean(num):\n",
        "    if pd.isna(num):\n",
        "        return None\n",
        "    if num >= 10000:\n",
        "        return \"10000+\"\n",
        "    if num >= 1000:\n",
        "        return \"1000+\"\n",
        "    if num >= 500:\n",
        "        return \"500+\"\n",
        "    if num >= 200:\n",
        "        return \"200+\"\n",
        "    if num >= 100:\n",
        "        return \"100+\"\n",
        "    if num >= 50:\n",
        "        return \"50+\"\n",
        "    if num >= 25:\n",
        "        return \"25+\"\n",
        "    return \"1-24\"\n",
        "df_annotations[\"num_subjects_clean\"] = df_annotations[\"num_subjects\"].apply(get_num_subjects_clean)"
      ],
      "metadata": {
        "id": "mZ82V337HouW"
      },
      "id": "mZ82V337HouW",
      "execution_count": 9,
      "outputs": []
    },
    {
      "cell_type": "code",
      "source": [
        "df_annotations[\"num_subjects_clean\"].value_counts()"
      ],
      "metadata": {
        "colab": {
          "base_uri": "https://localhost:8080/"
        },
        "id": "cKMRrJjQIF7U",
        "outputId": "fc4e7888-6872-4726-ff70-15b06f1875d2"
      },
      "id": "cKMRrJjQIF7U",
      "execution_count": 10,
      "outputs": [
        {
          "output_type": "execute_result",
          "data": {
            "text/plain": [
              "1-24      2980\n",
              "25+       2119\n",
              "50+       2016\n",
              "100+      1674\n",
              "200+      1656\n",
              "500+       816\n",
              "1000+      547\n",
              "10000+     112\n",
              "Name: num_subjects_clean, dtype: int64"
            ]
          },
          "metadata": {},
          "execution_count": 10
        }
      ]
    },
    {
      "cell_type": "code",
      "execution_count": 11,
      "id": "89e1c4f0",
      "metadata": {
        "id": "89e1c4f0"
      },
      "outputs": [],
      "source": [
        "# df_annotations = pd.read_csv(\"filtered_for_phase.csv.bz2\")"
      ]
    },
    {
      "cell_type": "code",
      "execution_count": 12,
      "id": "a12043ac",
      "metadata": {
        "id": "a12043ac"
      },
      "outputs": [],
      "source": [
        "# del file_to_pages"
      ]
    },
    {
      "cell_type": "code",
      "execution_count": 13,
      "id": "bbe0ba77",
      "metadata": {
        "id": "bbe0ba77"
      },
      "outputs": [],
      "source": [
        "phase_map = {\"Phase 2\":\"2\",\n",
        "\"Phase 3\":\"3\",\n",
        "\"Phase 4\":\"4\",\n",
        "\"Phase 1\":\"1\",\n",
        "\"Phase 1/Phase 2\":\"1.5\",\n",
        "\"Not Applicable\":\"0\",\n",
        "\"Phase 2/Phase 3\":\"2.5\",\n",
        "\"Early Phase 1\":\"0.5\"}\n",
        "df_annotations[\"phase_clean\"] = df_annotations[\"phase\"].apply(lambda x : phase_map.get(x, None))"
      ]
    },
    {
      "cell_type": "code",
      "source": [
        "phase_clean_map = {}\n",
        "for idx, val in enumerate(sorted(set(phase_map.values()), key = lambda x : float(x))):\n",
        "  phase_clean_map[val] = idx\n",
        "# invert the dictionary\n",
        "phase_lookup = {v: k for k, v in phase_clean_map.items()}\n",
        "\n",
        "phase_list = [phase_lookup[x] for x in sorted(phase_lookup)]\n",
        "phase_list"
      ],
      "metadata": {
        "colab": {
          "base_uri": "https://localhost:8080/"
        },
        "id": "DNjQhXOVrQxj",
        "outputId": "7da827ab-d621-44cd-dc07-9924a8358c41"
      },
      "id": "DNjQhXOVrQxj",
      "execution_count": 14,
      "outputs": [
        {
          "output_type": "execute_result",
          "data": {
            "text/plain": [
              "['0', '0.5', '1', '1.5', '2', '2.5', '3', '4']"
            ]
          },
          "metadata": {},
          "execution_count": 14
        }
      ]
    },
    {
      "cell_type": "code",
      "execution_count": 15,
      "id": "f99e999b",
      "metadata": {
        "id": "f99e999b"
      },
      "outputs": [],
      "source": [
        "def get_num_arms_clean(num):\n",
        "    if pd.isna(num):\n",
        "        return None\n",
        "    if num >= 5:\n",
        "        num = 5\n",
        "    return num\n",
        "df_annotations[\"num_arms_clean\"] = df_annotations[\"num_arms\"].apply(get_num_arms_clean)"
      ]
    },
    {
      "cell_type": "markdown",
      "source": [
        "# Begin Keras/TF"
      ],
      "metadata": {
        "id": "Tq8Iseh1e_uQ"
      },
      "id": "Tq8Iseh1e_uQ"
    },
    {
      "cell_type": "code",
      "source": [
        "import numpy as np\n",
        "\n",
        "import tensorflow as tf\n",
        "import tensorflow_hub as hub\n",
        "import tensorflow_datasets as tfds\n",
        "\n",
        "import matplotlib.pyplot as plt\n",
        "\n",
        "print(\"Version: \", tf.__version__)\n",
        "print(\"Eager mode: \", tf.executing_eagerly())\n",
        "print(\"Hub version: \", hub.__version__)\n",
        "print(\"GPU is\", \"available\" if tf.config.list_physical_devices('GPU') else \"NOT AVAILABLE\")"
      ],
      "metadata": {
        "id": "eE1-7kc4ceQP",
        "colab": {
          "base_uri": "https://localhost:8080/"
        },
        "outputId": "489c49e6-129f-421e-9019-4dbd870b6617"
      },
      "id": "eE1-7kc4ceQP",
      "execution_count": 16,
      "outputs": [
        {
          "output_type": "stream",
          "name": "stdout",
          "text": [
            "Version:  2.9.2\n",
            "Eager mode:  True\n",
            "Hub version:  0.12.0\n",
            "GPU is available\n"
          ]
        }
      ]
    },
    {
      "cell_type": "code",
      "source": [
        "num_subjects_clean_map = {}\n",
        "for idx, val in enumerate(sorted(set(df_annotations[~df_annotations.num_subjects_clean.isna()].num_subjects_clean), key = lambda x : int(re.sub(r'\\D.*$', '', x)))):\n",
        "  num_subjects_clean_map[val] = idx"
      ],
      "metadata": {
        "id": "0HHgTj8Qfub9"
      },
      "id": "0HHgTj8Qfub9",
      "execution_count": 17,
      "outputs": []
    },
    {
      "cell_type": "code",
      "source": [
        "# invert the dictionary\n",
        "num_subjects_lookup = {v: k for k, v in num_subjects_clean_map.items()}"
      ],
      "metadata": {
        "id": "6jQQHMvxkC2l"
      },
      "id": "6jQQHMvxkC2l",
      "execution_count": 18,
      "outputs": []
    },
    {
      "cell_type": "code",
      "source": [
        "num_subjects_list = [num_subjects_lookup[x] for x in sorted(num_subjects_lookup)]\n",
        "num_subjects_list"
      ],
      "metadata": {
        "colab": {
          "base_uri": "https://localhost:8080/"
        },
        "id": "C6fm756mlUSk",
        "outputId": "a1185a14-68ed-419a-fa93-23f1e036f924"
      },
      "id": "C6fm756mlUSk",
      "execution_count": 19,
      "outputs": [
        {
          "output_type": "execute_result",
          "data": {
            "text/plain": [
              "['1-24', '25+', '50+', '100+', '200+', '500+', '1000+', '10000+']"
            ]
          },
          "metadata": {},
          "execution_count": 19
        }
      ]
    },
    {
      "cell_type": "code",
      "source": [
        "num_subjects_clean_map"
      ],
      "metadata": {
        "colab": {
          "base_uri": "https://localhost:8080/"
        },
        "id": "sDIKJA57hR-K",
        "outputId": "215d83df-7a95-4db8-b5fb-ad3b343b13dc"
      },
      "id": "sDIKJA57hR-K",
      "execution_count": 20,
      "outputs": [
        {
          "output_type": "execute_result",
          "data": {
            "text/plain": [
              "{'1-24': 0,\n",
              " '25+': 1,\n",
              " '50+': 2,\n",
              " '100+': 3,\n",
              " '200+': 4,\n",
              " '500+': 5,\n",
              " '1000+': 6,\n",
              " '10000+': 7}"
            ]
          },
          "metadata": {},
          "execution_count": 20
        }
      ]
    },
    {
      "cell_type": "code",
      "source": [
        "def get_one_hot_num_subjects(x):\n",
        "  a = [0] * len(num_subjects_clean_map)\n",
        "  if x is None:\n",
        "    return a\n",
        "  a[num_subjects_clean_map[x]] = 1\n",
        "  return a"
      ],
      "metadata": {
        "id": "EFTomf_xfjTS"
      },
      "id": "EFTomf_xfjTS",
      "execution_count": 21,
      "outputs": []
    },
    {
      "cell_type": "code",
      "source": [
        "df_annotations[\"num_subjects_one_hot\"] = df_annotations[\"num_subjects_clean\"].apply(get_one_hot_num_subjects)"
      ],
      "metadata": {
        "id": "GCf8jZQZiBbC"
      },
      "id": "GCf8jZQZiBbC",
      "execution_count": 22,
      "outputs": []
    },
    {
      "cell_type": "code",
      "source": [
        "df_annotations[\"num_subjects_one_hot\"] = df_annotations[\"num_subjects_clean\"].apply(get_one_hot_num_subjects)"
      ],
      "metadata": {
        "id": "RoXplcZ6q3N3"
      },
      "id": "RoXplcZ6q3N3",
      "execution_count": 23,
      "outputs": []
    },
    {
      "cell_type": "code",
      "source": [
        "def get_one_hot_num_arms(x):\n",
        "  a = [0] * 5\n",
        "  if x is not None and not pd.isna(x):\n",
        "    a[int(x - 1)] = 1\n",
        "  return a\n",
        "df_annotations[\"num_arms_one_hot\"] = df_annotations[\"num_arms_clean\"].apply(get_one_hot_num_arms)"
      ],
      "metadata": {
        "id": "bGkQ4LeYq3QR"
      },
      "id": "bGkQ4LeYq3QR",
      "execution_count": 24,
      "outputs": []
    },
    {
      "cell_type": "code",
      "source": [
        "def get_one_hot_phase(x):\n",
        "  a = [0] * len(phase_clean_map)\n",
        "  if x is None:\n",
        "    return a\n",
        "  a[phase_clean_map[x]] = 1\n",
        "  return a\n",
        "df_annotations[\"phase_one_hot\"] = df_annotations[\"phase_clean\"].apply(get_one_hot_phase)"
      ],
      "metadata": {
        "id": "POLLhzW_rFvz"
      },
      "id": "POLLhzW_rFvz",
      "execution_count": 25,
      "outputs": []
    },
    {
      "cell_type": "markdown",
      "source": [
        "Concatenate the three bits of one-hot data into one column"
      ],
      "metadata": {
        "id": "ondugbdEsLJ7"
      },
      "id": "ondugbdEsLJ7"
    },
    {
      "cell_type": "code",
      "source": [
        "concatenated_one_hot = []\n",
        "for i in range(len(df_annotations)):\n",
        "  concatenated = list(df_annotations.phase_one_hot.iloc[i]) + \\\n",
        "  list(df_annotations.num_arms_one_hot.iloc[i]) + \\\n",
        "  list(df_annotations.num_subjects_one_hot.iloc[i]) + [df_annotations.has_sap.iloc[i]]\n",
        "  concatenated_one_hot.append(concatenated)\n",
        "df_annotations[\"concatenated_one_hot\"] = concatenated_one_hot"
      ],
      "metadata": {
        "id": "eykeDEeFr56g"
      },
      "id": "eykeDEeFr56g",
      "execution_count": 26,
      "outputs": []
    },
    {
      "cell_type": "code",
      "source": [
        "np.sum(np.asarray([np.asarray(x) for x in df_annotations[\"concatenated_one_hot\"]]), axis=1).mean()"
      ],
      "metadata": {
        "colab": {
          "base_uri": "https://localhost:8080/"
        },
        "id": "eFM7jbfutXfu",
        "outputId": "1189e8f3-3ee1-4117-c83a-52af714966ff"
      },
      "id": "eFM7jbfutXfu",
      "execution_count": 27,
      "outputs": [
        {
          "output_type": "execute_result",
          "data": {
            "text/plain": [
              "nan"
            ]
          },
          "metadata": {},
          "execution_count": 27
        }
      ]
    },
    {
      "cell_type": "code",
      "source": [
        "np.sum(np.asarray([np.asarray(x) for x in df_annotations[\"concatenated_one_hot\"]]), axis=0)"
      ],
      "metadata": {
        "colab": {
          "base_uri": "https://localhost:8080/"
        },
        "id": "YmCgmZh3tmkn",
        "outputId": "ea236bbf-9237-4850-d529-cbb46b6f5ee7"
      },
      "id": "YmCgmZh3tmkn",
      "execution_count": 28,
      "outputs": [
        {
          "output_type": "execute_result",
          "data": {
            "text/plain": [
              "array([ 519.,  135., 1154.,  983., 4317.,  297., 2725., 1461., 3086.,\n",
              "       5228., 1456.,  908.,  913., 2980., 2119., 2016., 1674., 1656.,\n",
              "        816.,  547.,  112.,   nan])"
            ]
          },
          "metadata": {},
          "execution_count": 28
        }
      ]
    },
    {
      "cell_type": "code",
      "source": [
        "num_classes = len(concatenated)\n",
        "print (f\"There are {num_classes} classes in this multi-label classifier\")"
      ],
      "metadata": {
        "colab": {
          "base_uri": "https://localhost:8080/"
        },
        "id": "yuUe_QwxsQRE",
        "outputId": "71698aaf-f719-49c1-a802-a899517d6d8f"
      },
      "id": "yuUe_QwxsQRE",
      "execution_count": 29,
      "outputs": [
        {
          "output_type": "stream",
          "name": "stdout",
          "text": [
            "There are 22 classes in this multi-label classifier\n"
          ]
        }
      ]
    },
    {
      "cell_type": "code",
      "source": [
        "df_train = df_annotations[df_annotations.train_val == \"train\"]\n",
        "df_val = df_annotations[df_annotations.train_val == \"val\"]"
      ],
      "metadata": {
        "id": "F_VhjeihirIu"
      },
      "id": "F_VhjeihirIu",
      "execution_count": 30,
      "outputs": []
    },
    {
      "cell_type": "code",
      "source": [
        "df_train_got_some_ground_truths = df_train[~df_train.num_subjects.isna()]"
      ],
      "metadata": {
        "id": "pIWANTOGqDkg"
      },
      "id": "pIWANTOGqDkg",
      "execution_count": 31,
      "outputs": []
    },
    {
      "cell_type": "code",
      "source": [
        "len(df_train_got_some_ground_truths), len(df_train)"
      ],
      "metadata": {
        "colab": {
          "base_uri": "https://localhost:8080/"
        },
        "id": "yfw08MW2sYTw",
        "outputId": "63062b64-60e4-4f6c-c03b-19048e7a4be3"
      },
      "id": "yfw08MW2sYTw",
      "execution_count": 32,
      "outputs": [
        {
          "output_type": "execute_result",
          "data": {
            "text/plain": [
              "(9535, 9538)"
            ]
          },
          "metadata": {},
          "execution_count": 32
        }
      ]
    },
    {
      "cell_type": "code",
      "source": [
        "train_labels = np.asarray(list(df_train_got_some_ground_truths.num_subjects))\n",
        "test_labels = np.asarray(list(df_val.num_subjects))"
      ],
      "metadata": {
        "id": "0upX622wfjVv"
      },
      "id": "0upX622wfjVv",
      "execution_count": 33,
      "outputs": []
    },
    {
      "cell_type": "code",
      "source": [
        "train_examples = np.asarray(list(df_train_got_some_ground_truths.text))\n",
        "test_examples = np.asarray(list(df_val.text))"
      ],
      "metadata": {
        "id": "YDlX78f5cz_F"
      },
      "id": "YDlX78f5cz_F",
      "execution_count": 34,
      "outputs": []
    },
    {
      "cell_type": "code",
      "source": [
        "print(\"Training entries: {}, test entries: {}\".format(len(train_examples), len(test_examples)))"
      ],
      "metadata": {
        "colab": {
          "base_uri": "https://localhost:8080/"
        },
        "id": "LFDvdJe_fjYD",
        "outputId": "3ee4b239-a6dc-4587-c906-6eafa8de8d7d"
      },
      "id": "LFDvdJe_fjYD",
      "execution_count": 35,
      "outputs": [
        {
          "output_type": "stream",
          "name": "stdout",
          "text": [
            "Training entries: 9535, test entries: 1085\n"
          ]
        }
      ]
    },
    {
      "cell_type": "code",
      "source": [
        "train_labels[:10]"
      ],
      "metadata": {
        "colab": {
          "base_uri": "https://localhost:8080/"
        },
        "id": "NPk1jhPOfjcH",
        "outputId": "42b1660f-cb9f-4313-c9c4-c38db5af2be1"
      },
      "id": "NPk1jhPOfjcH",
      "execution_count": 36,
      "outputs": [
        {
          "output_type": "execute_result",
          "data": {
            "text/plain": [
              "array([193., 668.,  32.,  50.,  25., 230.,  28.,  94.,  68., 217.])"
            ]
          },
          "metadata": {},
          "execution_count": 36
        }
      ]
    },
    {
      "cell_type": "code",
      "source": [
        "model = \"https://tfhub.dev/google/nnlm-en-dim50/2\"\n",
        "hub_layer = hub.KerasLayer(model, input_shape=[], dtype=tf.string, trainable=True)\n",
        "hub_layer(train_examples[:3])"
      ],
      "metadata": {
        "colab": {
          "base_uri": "https://localhost:8080/"
        },
        "id": "Ju7TNdElgQ-P",
        "outputId": "0a601ad2-480f-4df6-8a41-11a0c4f09ce5"
      },
      "id": "Ju7TNdElgQ-P",
      "execution_count": 37,
      "outputs": [
        {
          "output_type": "execute_result",
          "data": {
            "text/plain": [
              "<tf.Tensor: shape=(3, 50), dtype=float32, numpy=\n",
              "array([[ 3.8062613e+00, -8.5627154e-02,  2.1885273e+00,  1.2064425e+00,\n",
              "         1.1741788e+00, -1.6362848e+00, -1.6544684e+00,  1.9301386e+00,\n",
              "        -7.3246288e-01, -2.0803753e-01, -1.8835599e+00, -8.1751305e-01,\n",
              "         1.3482304e+00, -4.1169381e+00,  1.1123058e+00, -2.7861402e+00,\n",
              "         3.6909611e+00, -2.2455294e+00,  1.1222224e+00,  1.9886566e+00,\n",
              "        -1.0249604e-01,  2.6178288e+00,  3.5085483e+00, -7.0547515e-01,\n",
              "         1.2558808e+00, -1.6434602e+00, -1.1090916e+00,  4.3890409e+00,\n",
              "        -1.7149318e+00, -2.8435621e+00,  1.0796951e+00,  2.6536503e+00,\n",
              "        -3.8684306e-01, -3.1688907e+00,  1.0274379e-01, -2.0242805e+00,\n",
              "         2.3353672e+00, -1.7880658e+00,  5.3773862e-01, -1.0440906e+00,\n",
              "        -9.3668759e-01, -1.6973139e+00, -1.4264782e-01,  2.6114061e+00,\n",
              "         5.0076956e-01, -1.2994319e+00,  9.0301037e-01, -1.4811747e+00,\n",
              "         8.1332225e-01,  2.3800061e+00],\n",
              "       [ 2.5299299e+00,  6.9842733e-02,  1.2200273e+00,  8.4425837e-01,\n",
              "         5.9937924e-01, -1.0244265e+00, -9.2848974e-01,  1.2883713e+00,\n",
              "        -5.4952449e-01, -1.3766880e-01, -1.3184690e+00, -3.8536155e-01,\n",
              "         3.2475236e-01, -2.4055672e+00,  7.8073001e-01, -1.3195676e+00,\n",
              "         1.4582082e+00, -1.1922650e+00,  6.4574677e-01,  1.1451379e+00,\n",
              "        -3.6335005e-03,  8.1105644e-01,  1.6614536e+00,  7.0692167e-02,\n",
              "         1.5279856e-01, -9.9357730e-01, -5.5831790e-01,  1.4943976e+00,\n",
              "        -9.0663010e-01, -1.4006202e+00,  1.9310248e-01,  1.0247235e+00,\n",
              "        -6.5576650e-02, -1.7880753e+00, -4.0788367e-01, -1.2515424e+00,\n",
              "         8.9619911e-01, -1.0979604e+00, -9.6578687e-02, -5.5380207e-01,\n",
              "        -1.7643718e-01,  1.7039146e-02, -3.2528803e-01,  1.9876856e+00,\n",
              "         5.2700825e-02, -1.2491058e+00,  1.1346469e-01, -4.4258308e-01,\n",
              "         5.7714480e-01,  1.6421361e+00],\n",
              "       [ 3.1315677e+00, -1.4949707e+00,  1.7751954e+00,  3.2980654e-01,\n",
              "         1.0419462e+00, -2.3750334e+00, -1.1761595e+00,  2.2303872e+00,\n",
              "        -1.2242346e+00, -2.9328495e-01, -1.5865028e+00, -2.7982643e-01,\n",
              "         1.7525562e+00, -4.0603199e+00, -2.5970027e-01, -2.3546319e+00,\n",
              "         4.7730613e+00, -1.0558661e+00,  1.3674231e+00,  1.4121630e+00,\n",
              "         6.2468117e-01,  1.8053319e+00,  2.6160557e+00,  2.6594770e-01,\n",
              "         7.6969761e-01, -1.9515115e+00,  1.3513342e-01,  5.1477046e+00,\n",
              "        -1.9099628e+00, -2.3477449e+00,  8.9626384e-01,  1.9337162e+00,\n",
              "         2.7819487e-01, -1.4370100e+00,  1.1726424e+00, -1.0679307e+00,\n",
              "         2.5728991e+00, -1.7260441e+00,  4.2059946e-01, -9.4905460e-01,\n",
              "        -2.4920563e-01, -1.6811064e+00,  1.4859284e-01,  2.0329008e+00,\n",
              "         6.2556720e-01, -1.3739069e+00,  3.1094185e-01, -1.5155188e+00,\n",
              "         1.5543662e+00,  1.2640179e+00]], dtype=float32)>"
            ]
          },
          "metadata": {},
          "execution_count": 37
        }
      ]
    },
    {
      "cell_type": "code",
      "source": [
        "model = tf.keras.Sequential()\n",
        "model.add(hub_layer)\n",
        "model.add(tf.keras.layers.Dense(16, activation='relu'))\n",
        "model.add(tf.keras.layers.Dense(1))\n",
        "\n",
        "model.summary()"
      ],
      "metadata": {
        "colab": {
          "base_uri": "https://localhost:8080/"
        },
        "id": "XVwvmzuQgRAQ",
        "outputId": "c0706f6e-6bda-4bf6-be4f-d92582d55bdc"
      },
      "id": "XVwvmzuQgRAQ",
      "execution_count": 54,
      "outputs": [
        {
          "output_type": "stream",
          "name": "stdout",
          "text": [
            "Model: \"sequential_1\"\n",
            "_________________________________________________________________\n",
            " Layer (type)                Output Shape              Param #   \n",
            "=================================================================\n",
            " keras_layer (KerasLayer)    (None, 50)                48190600  \n",
            "                                                                 \n",
            " dense_2 (Dense)             (None, 16)                816       \n",
            "                                                                 \n",
            " dense_3 (Dense)             (None, 1)                 17        \n",
            "                                                                 \n",
            "=================================================================\n",
            "Total params: 48,191,433\n",
            "Trainable params: 48,191,433\n",
            "Non-trainable params: 0\n",
            "_________________________________________________________________\n"
          ]
        }
      ]
    },
    {
      "cell_type": "code",
      "source": [
        "model.compile(optimizer='adam',\n",
        "              loss=tf.losses.MeanAbsoluteError(),\n",
        "              metrics=[tf.metrics.MeanAbsolutePercentageError(name='mape'), tf.metrics.MeanAbsoluteError(name='mae'), tf.metrics.RootMeanSquaredError(name='rmse')],\n",
        "              run_eagerly=True)"
      ],
      "metadata": {
        "id": "4grRdQTWgRCY"
      },
      "id": "4grRdQTWgRCY",
      "execution_count": 55,
      "outputs": []
    },
    {
      "cell_type": "code",
      "source": [
        "# x_val = train_examples[:10000]\n",
        "# partial_x_train = train_examples[10000:]\n",
        "\n",
        "# y_val = train_labels[:10000]\n",
        "# partial_y_train = train_labels[10000:]\n",
        "\n",
        "partial_x_train = train_examples\n",
        "x_val = test_examples\n",
        "\n",
        "partial_y_train = train_labels\n",
        "y_val = test_labels"
      ],
      "metadata": {
        "id": "--LLz2FYgREf"
      },
      "id": "--LLz2FYgREf",
      "execution_count": 56,
      "outputs": []
    },
    {
      "cell_type": "code",
      "source": [
        "history = model.fit(partial_x_train,\n",
        "                    partial_y_train,\n",
        "                    epochs=20,\n",
        "                    batch_size=512,\n",
        "                    validation_data=(x_val, y_val),\n",
        "                    verbose=1)"
      ],
      "metadata": {
        "colab": {
          "base_uri": "https://localhost:8080/"
        },
        "id": "zEMElK4ygRGg",
        "outputId": "ba078b5c-533f-4904-9969-e602ceb413c4"
      },
      "id": "zEMElK4ygRGg",
      "execution_count": 57,
      "outputs": [
        {
          "output_type": "stream",
          "name": "stdout",
          "text": [
            "Epoch 1/20\n",
            "19/19 [==============================] - 5s 275ms/step - loss: 916.2540 - mape: 2748695.2500 - mae: 916.2540 - rmse: 13983.8135 - val_loss: 1463.3558 - val_mape: 10614383.0000 - val_mae: 1463.3558 - val_rmse: 30713.9570\n",
            "Epoch 2/20\n",
            "19/19 [==============================] - 5s 257ms/step - loss: 906.0054 - mape: 9718478.0000 - mae: 906.0054 - rmse: 13983.0479 - val_loss: 1454.3442 - val_mape: 21769590.0000 - val_mae: 1454.3442 - val_rmse: 30713.6270\n",
            "Epoch 3/20\n",
            "19/19 [==============================] - 5s 257ms/step - loss: 898.6007 - mape: 21292572.0000 - mae: 898.6007 - rmse: 13982.0342 - val_loss: 1448.7090 - val_mape: 34400292.0000 - val_mae: 1448.7090 - val_rmse: 30713.2715\n",
            "Epoch 4/20\n",
            "19/19 [==============================] - 5s 256ms/step - loss: 894.4014 - mape: 31552174.0000 - mae: 894.4014 - rmse: 13980.9863 - val_loss: 1446.2279 - val_mape: 45260676.0000 - val_mae: 1446.2279 - val_rmse: 30712.9629\n",
            "Epoch 5/20\n",
            "19/19 [==============================] - 5s 257ms/step - loss: 892.7848 - mape: 39252352.0000 - mae: 892.7848 - rmse: 13980.2646 - val_loss: 1445.2251 - val_mape: 50954752.0000 - val_mae: 1445.2251 - val_rmse: 30712.7910\n",
            "Epoch 6/20\n",
            "19/19 [==============================] - 5s 255ms/step - loss: 892.0090 - mape: 43627748.0000 - mae: 892.0090 - rmse: 13979.8096 - val_loss: 1444.4813 - val_mape: 53869116.0000 - val_mae: 1444.4813 - val_rmse: 30712.6875\n",
            "Epoch 7/20\n",
            "19/19 [==============================] - 5s 257ms/step - loss: 891.2235 - mape: 43779916.0000 - mae: 891.2235 - rmse: 13979.5684 - val_loss: 1443.8223 - val_mape: 53466756.0000 - val_mae: 1443.8221 - val_rmse: 30712.6699\n",
            "Epoch 8/20\n",
            "19/19 [==============================] - 5s 256ms/step - loss: 890.3934 - mape: 43807728.0000 - mae: 890.3934 - rmse: 13979.3711 - val_loss: 1443.0247 - val_mape: 53855360.0000 - val_mae: 1443.0247 - val_rmse: 30712.6270\n",
            "Epoch 9/20\n",
            "19/19 [==============================] - 5s 258ms/step - loss: 889.3073 - mape: 44129376.0000 - mae: 889.3073 - rmse: 13979.0293 - val_loss: 1441.8038 - val_mape: 56213036.0000 - val_mae: 1441.8040 - val_rmse: 30712.5293\n",
            "Epoch 10/20\n",
            "19/19 [==============================] - 5s 255ms/step - loss: 887.8638 - mape: 43039140.0000 - mae: 887.8638 - rmse: 13978.6553 - val_loss: 1440.3645 - val_mape: 56605288.0000 - val_mae: 1440.3645 - val_rmse: 30712.4590\n",
            "Epoch 11/20\n",
            "19/19 [==============================] - 5s 256ms/step - loss: 886.0016 - mape: 42728264.0000 - mae: 886.0016 - rmse: 13978.1387 - val_loss: 1438.5431 - val_mape: 56346408.0000 - val_mae: 1438.5431 - val_rmse: 30712.3730\n",
            "Epoch 12/20\n",
            "19/19 [==============================] - 5s 255ms/step - loss: 883.7083 - mape: 41051736.0000 - mae: 883.7083 - rmse: 13977.6348 - val_loss: 1436.3221 - val_mape: 56449524.0000 - val_mae: 1436.3221 - val_rmse: 30712.2500\n",
            "Epoch 13/20\n",
            "19/19 [==============================] - 5s 257ms/step - loss: 880.9673 - mape: 41965404.0000 - mae: 880.9673 - rmse: 13976.8096 - val_loss: 1433.6929 - val_mape: 56827100.0000 - val_mae: 1433.6929 - val_rmse: 30712.0762\n",
            "Epoch 14/20\n",
            "19/19 [==============================] - 5s 253ms/step - loss: 877.8677 - mape: 40676784.0000 - mae: 877.8677 - rmse: 13975.7021 - val_loss: 1430.6558 - val_mape: 57606276.0000 - val_mae: 1430.6558 - val_rmse: 30711.8340\n",
            "Epoch 15/20\n",
            "19/19 [==============================] - 5s 258ms/step - loss: 874.4045 - mape: 38436164.0000 - mae: 874.4045 - rmse: 13974.4072 - val_loss: 1427.2588 - val_mape: 57224988.0000 - val_mae: 1427.2588 - val_rmse: 30711.5527\n",
            "Epoch 16/20\n",
            "19/19 [==============================] - 5s 256ms/step - loss: 870.9695 - mape: 37171864.0000 - mae: 870.9695 - rmse: 13972.8701 - val_loss: 1424.2775 - val_mape: 52865372.0000 - val_mae: 1424.2775 - val_rmse: 30711.3516\n",
            "Epoch 17/20\n",
            "19/19 [==============================] - 5s 259ms/step - loss: 867.7476 - mape: 36381524.0000 - mae: 867.7476 - rmse: 13971.4004 - val_loss: 1421.8960 - val_mape: 45623296.0000 - val_mae: 1421.8960 - val_rmse: 30711.1543\n",
            "Epoch 18/20\n",
            "19/19 [==============================] - 5s 256ms/step - loss: 864.7957 - mape: 34121384.0000 - mae: 864.7957 - rmse: 13969.7549 - val_loss: 1419.1482 - val_mape: 44902864.0000 - val_mae: 1419.1482 - val_rmse: 30710.7754\n",
            "Epoch 19/20\n",
            "19/19 [==============================] - 5s 256ms/step - loss: 862.0483 - mape: 31921840.0000 - mae: 862.0483 - rmse: 13968.3516 - val_loss: 1417.2327 - val_mape: 38918228.0000 - val_mae: 1417.2327 - val_rmse: 30710.5117\n",
            "Epoch 20/20\n",
            "19/19 [==============================] - 5s 255ms/step - loss: 859.3465 - mape: 29476994.0000 - mae: 859.3465 - rmse: 13966.6328 - val_loss: 1415.4825 - val_mape: 34034328.0000 - val_mae: 1415.4825 - val_rmse: 30710.1973\n"
          ]
        }
      ]
    },
    {
      "cell_type": "code",
      "source": [
        "model.save('num_subjects_model_04_keras.keras')"
      ],
      "metadata": {
        "id": "5DLaUL_7gRIy"
      },
      "id": "5DLaUL_7gRIy",
      "execution_count": null,
      "outputs": []
    },
    {
      "cell_type": "code",
      "source": [
        "model.save(\"/content/drive/MyDrive/data/num_subjects_model_04_keras.keras\")"
      ],
      "metadata": {
        "id": "lYKFZVGigRKg"
      },
      "id": "lYKFZVGigRKg",
      "execution_count": null,
      "outputs": []
    },
    {
      "cell_type": "code",
      "source": [
        "results = model.evaluate(test_examples, test_labels)\n",
        "\n",
        "print(results)"
      ],
      "metadata": {
        "colab": {
          "base_uri": "https://localhost:8080/"
        },
        "id": "x6i0VsDEgdgm",
        "outputId": "31eb833f-0302-4d82-a801-9ed6bd16bde7"
      },
      "id": "x6i0VsDEgdgm",
      "execution_count": 58,
      "outputs": [
        {
          "output_type": "stream",
          "name": "stdout",
          "text": [
            "34/34 [==============================] - 1s 26ms/step - loss: 1415.4825 - mape: 34034320.0000 - mae: 1415.4825 - rmse: 30710.1973\n",
            "[1415.4825439453125, 34034320.0, 1415.4825439453125, 30710.197265625]\n"
          ]
        }
      ]
    },
    {
      "cell_type": "code",
      "source": [
        "history_dict = history.history\n",
        "history_dict.keys()"
      ],
      "metadata": {
        "colab": {
          "base_uri": "https://localhost:8080/"
        },
        "id": "6rg2XlFpgdi4",
        "outputId": "6d3fcddf-ed37-49b3-e3bd-87c686ece9c6"
      },
      "id": "6rg2XlFpgdi4",
      "execution_count": 59,
      "outputs": [
        {
          "output_type": "execute_result",
          "data": {
            "text/plain": [
              "dict_keys(['loss', 'mape', 'mae', 'rmse', 'val_loss', 'val_mape', 'val_mae', 'val_rmse'])"
            ]
          },
          "metadata": {},
          "execution_count": 59
        }
      ]
    },
    {
      "cell_type": "code",
      "source": [
        "acc = history_dict['mape']\n",
        "val_acc = history_dict['val_mape']\n",
        "loss = history_dict['loss']\n",
        "val_loss = history_dict['val_loss']\n",
        "\n",
        "epochs = range(1, len(acc) + 1)\n",
        "\n",
        "# \"bo\" is for \"blue dot\"\n",
        "plt.plot(epochs, loss, 'bo', label='Training loss')\n",
        "# b is for \"solid blue line\"\n",
        "plt.plot(epochs, val_loss, 'b', label='Validation loss')\n",
        "plt.title('Training and validation loss')\n",
        "plt.xlabel('Epochs')\n",
        "plt.ylabel('Loss')\n",
        "plt.legend()\n",
        "\n",
        "plt.show()"
      ],
      "metadata": {
        "colab": {
          "base_uri": "https://localhost:8080/",
          "height": 295
        },
        "id": "6wjt4B0IgdlS",
        "outputId": "61c8ae31-9371-4e1a-d5eb-696dedcb4662"
      },
      "id": "6wjt4B0IgdlS",
      "execution_count": 60,
      "outputs": [
        {
          "output_type": "display_data",
          "data": {
            "text/plain": [
              "<Figure size 432x288 with 1 Axes>"
            ],
            "image/png": "[encoded data removed]"
          },
          "metadata": {
            "needs_background": "light"
          }
        }
      ]
    },
    {
      "cell_type": "code",
      "source": [
        "plt.clf()   # clear figure\n",
        "\n",
        "plt.plot(epochs, acc, 'bo', label='Training MAPE')\n",
        "plt.plot(epochs, val_acc, 'b', label='Validation MAPE')\n",
        "plt.title('Training and validation MAPE')\n",
        "plt.xlabel('Epochs')\n",
        "plt.ylabel('Accuracy')\n",
        "plt.legend()\n",
        "\n",
        "plt.show()"
      ],
      "metadata": {
        "colab": {
          "base_uri": "https://localhost:8080/",
          "height": 295
        },
        "id": "1p5i_Iiegdnj",
        "outputId": "f9e995f9-8377-409e-f426-f79402ce278c"
      },
      "id": "1p5i_Iiegdnj",
      "execution_count": 61,
      "outputs": [
        {
          "output_type": "display_data",
          "data": {
            "text/plain": [
              "<Figure size 432x288 with 1 Axes>"
            ],
            "image/png": "[encoded data removed]"
          },
          "metadata": {
            "needs_background": "light"
          }
        }
      ]
    },
    {
      "cell_type": "code",
      "source": [],
      "metadata": {
        "id": "DrpUa4NdgkI2"
      },
      "id": "DrpUa4NdgkI2",
      "execution_count": 61,
      "outputs": []
    },
    {
      "cell_type": "code",
      "source": [
        "input_texts= np.asarray(df_val.text)"
      ],
      "metadata": {
        "id": "iAx8Wx3IgkLL"
      },
      "id": "iAx8Wx3IgkLL",
      "execution_count": 62,
      "outputs": []
    },
    {
      "cell_type": "code",
      "source": [
        "pred_proba = model.predict(input_texts)"
      ],
      "metadata": {
        "colab": {
          "base_uri": "https://localhost:8080/"
        },
        "id": "weo-BkHPgkNI",
        "outputId": "796d399a-a773-47fd-9dfe-27f3ee2ad6c7"
      },
      "id": "weo-BkHPgkNI",
      "execution_count": 63,
      "outputs": [
        {
          "output_type": "stream",
          "name": "stdout",
          "text": [
            "34/34 [==============================] - 1s 17ms/step\n"
          ]
        }
      ]
    },
    {
      "cell_type": "code",
      "source": [],
      "metadata": {
        "id": "d7OoRswbRsYz"
      },
      "id": "d7OoRswbRsYz",
      "execution_count": 63,
      "outputs": []
    },
    {
      "cell_type": "code",
      "source": [
        "from sklearn.metrics import mean_absolute_error\n",
        "mean_absolute_error(df_val.num_subjects, pred_proba)"
      ],
      "metadata": {
        "colab": {
          "base_uri": "https://localhost:8080/"
        },
        "id": "WfgNdMjlRsbJ",
        "outputId": "963ef28a-dbf7-49ec-adc3-11f9bc138716"
      },
      "id": "WfgNdMjlRsbJ",
      "execution_count": 64,
      "outputs": [
        {
          "output_type": "execute_result",
          "data": {
            "text/plain": [
              "1415.4824000788174"
            ]
          },
          "metadata": {},
          "execution_count": 64
        }
      ]
    },
    {
      "cell_type": "code",
      "source": [],
      "metadata": {
        "id": "6dYBotjkRsdO"
      },
      "id": "6dYBotjkRsdO",
      "execution_count": 64,
      "outputs": []
    },
    {
      "cell_type": "code",
      "source": [
        "df_val[\"y_pred_num_subjects\"] = [get_num_subjects_clean(x[0]) for x in  pred_proba]"
      ],
      "metadata": {
        "colab": {
          "base_uri": "https://localhost:8080/"
        },
        "id": "lKk_zrR1RW7j",
        "outputId": "840e1b96-13d3-476c-f812-b44e7de6d305"
      },
      "id": "lKk_zrR1RW7j",
      "execution_count": 65,
      "outputs": [
        {
          "output_type": "stream",
          "name": "stderr",
          "text": [
            "/usr/local/lib/python3.7/dist-packages/ipykernel_launcher.py:1: SettingWithCopyWarning: \n",
            "A value is trying to be set on a copy of a slice from a DataFrame.\n",
            "Try using .loc[row_indexer,col_indexer] = value instead\n",
            "\n",
            "See the caveats in the documentation: https://pandas.pydata.org/pandas-docs/stable/user_guide/indexing.html#returning-a-view-versus-a-copy\n",
            "  \"\"\"Entry point for launching an IPython kernel.\n"
          ]
        }
      ]
    },
    {
      "cell_type": "code",
      "source": [
        "plt.hist(df_val.num_subjects, range=(0,1000),bins=100, alpha=0.5 )\n",
        "plt.hist(pred_proba, range=(0,1000),bins=100, alpha=0.5 )"
      ],
      "metadata": {
        "id": "DbBjX9-agkVH",
        "colab": {
          "base_uri": "https://localhost:8080/",
          "height": 629
        },
        "outputId": "189cb1b0-2b93-4a26-d9fb-f408d973e40e"
      },
      "id": "DbBjX9-agkVH",
      "execution_count": 77,
      "outputs": [
        {
          "output_type": "execute_result",
          "data": {
            "text/plain": [
              "(array([37., 70., 77., 70., 63., 67., 71., 57., 57., 43., 39., 46., 32.,\n",
              "        27., 41., 24., 27., 28., 23., 20., 20., 11., 15.,  5., 12.,  8.,\n",
              "         7.,  6., 12.,  3.,  6.,  9.,  3.,  6.,  3.,  2.,  4.,  5.,  1.,\n",
              "         1.,  1.,  1.,  0.,  0.,  0.,  0.,  2.,  0.,  0.,  0.,  0.,  0.,\n",
              "         1.,  0.,  0.,  0.,  1.,  0.,  0.,  0.,  0.,  0.,  0.,  0.,  0.,\n",
              "         0.,  0.,  0.,  0.,  0.,  0.,  0.,  0.,  0.,  0.,  0.,  0.,  0.,\n",
              "         0.,  0.,  0.,  0.,  0.,  0.,  0.,  0.,  0.,  0.,  0.,  0.,  0.,\n",
              "         0.,  0.,  0.,  0.,  0.,  0.,  0.,  0.,  0.]),\n",
              " array([   0.,   10.,   20.,   30.,   40.,   50.,   60.,   70.,   80.,\n",
              "          90.,  100.,  110.,  120.,  130.,  140.,  150.,  160.,  170.,\n",
              "         180.,  190.,  200.,  210.,  220.,  230.,  240.,  250.,  260.,\n",
              "         270.,  280.,  290.,  300.,  310.,  320.,  330.,  340.,  350.,\n",
              "         360.,  370.,  380.,  390.,  400.,  410.,  420.,  430.,  440.,\n",
              "         450.,  460.,  470.,  480.,  490.,  500.,  510.,  520.,  530.,\n",
              "         540.,  550.,  560.,  570.,  580.,  590.,  600.,  610.,  620.,\n",
              "         630.,  640.,  650.,  660.,  670.,  680.,  690.,  700.,  710.,\n",
              "         720.,  730.,  740.,  750.,  760.,  770.,  780.,  790.,  800.,\n",
              "         810.,  820.,  830.,  840.,  850.,  860.,  870.,  880.,  890.,\n",
              "         900.,  910.,  920.,  930.,  940.,  950.,  960.,  970.,  980.,\n",
              "         990., 1000.], dtype=float32),\n",
              " <a list of 100 Patch objects>)"
            ]
          },
          "metadata": {},
          "execution_count": 77
        },
        {
          "output_type": "display_data",
          "data": {
            "text/plain": [
              "<Figure size 432x288 with 1 Axes>"
            ],
            "image/png": "[encoded data removed]"
          },
          "metadata": {
            "needs_background": "light"
          }
        }
      ]
    },
    {
      "cell_type": "markdown",
      "source": [
        "## Subjects"
      ],
      "metadata": {
        "id": "lLWC7P1k5NSX"
      },
      "id": "lLWC7P1k5NSX"
    },
    {
      "cell_type": "code",
      "source": [
        "acc = accuracy_score(df_val.num_subjects_clean, df_val[\"y_pred_num_subjects\"])\n",
        "print (f\"Subjects accuracy {acc}\")"
      ],
      "metadata": {
        "id": "rYhLhDmnNuAl",
        "outputId": "b811994b-82fc-45e8-9c20-81d258583a1e",
        "colab": {
          "base_uri": "https://localhost:8080/"
        }
      },
      "id": "rYhLhDmnNuAl",
      "execution_count": 67,
      "outputs": [
        {
          "output_type": "stream",
          "name": "stdout",
          "text": [
            "Subjects accuracy 0.3087557603686636\n"
          ]
        }
      ]
    },
    {
      "cell_type": "code",
      "source": [
        "ConfusionMatrixDisplay.from_predictions(df_val.num_subjects_clean, df_val[\"y_pred_num_subjects\"], labels=num_subjects_list)\n",
        "plt.xticks(rotation=90)\n",
        ";"
      ],
      "metadata": {
        "id": "XOiQVXB0NuHC",
        "outputId": "42b3d28d-3bd9-4800-fafc-ed4e69e18c19",
        "colab": {
          "base_uri": "https://localhost:8080/",
          "height": 332
        }
      },
      "id": "XOiQVXB0NuHC",
      "execution_count": 68,
      "outputs": [
        {
          "output_type": "execute_result",
          "data": {
            "text/plain": [
              "''"
            ],
            "application/vnd.google.colaboratory.intrinsic+json": {
              "type": "string"
            }
          },
          "metadata": {},
          "execution_count": 68
        },
        {
          "output_type": "display_data",
          "data": {
            "text/plain": [
              "<Figure size 432x288 with 2 Axes>"
            ],
            "image/png": "[encoded data removed]"
          },
          "metadata": {
            "needs_background": "light"
          }
        }
      ]
    },
    {
      "cell_type": "code",
      "source": [
        "num_correct = 0\n",
        "for idx in range(len(df_val)):\n",
        "  gt = num_subjects_clean_map[df_val[\"num_subjects_clean\"].iloc[idx]]\n",
        "  pred = num_subjects_clean_map[df_val[\"y_pred_num_subjects\"].iloc[idx]]\n",
        "  is_correct = int(np.abs(gt - pred) <= 1)\n",
        "  num_correct += is_correct\n",
        "print (\"Accuracy including adjacent groups\", num_correct/len(df_val))"
      ],
      "metadata": {
        "colab": {
          "base_uri": "https://localhost:8080/"
        },
        "id": "VzFHDCRtmBA6",
        "outputId": "30325b8f-790f-4587-e6ee-a8e1e3f7e58e"
      },
      "id": "VzFHDCRtmBA6",
      "execution_count": 69,
      "outputs": [
        {
          "output_type": "stream",
          "name": "stdout",
          "text": [
            "Accuracy including adjacent groups 0.7078341013824885\n"
          ]
        }
      ]
    },
    {
      "cell_type": "code",
      "source": [],
      "metadata": {
        "id": "1MU1NT4T_DLO"
      },
      "id": "1MU1NT4T_DLO",
      "execution_count": 69,
      "outputs": []
    }
  ],
  "metadata": {
    "colab": {
      "provenance": [],
      "machine_shape": "hm",
      "include_colab_link": true
    },
    "kernelspec": {
      "display_name": "conda_tensorflow_p36",
      "language": "python",
      "name": "conda_tensorflow_p36"
    },
    "language_info": {
      "codemirror_mode": {
        "name": "ipython",
        "version": 3
      },
      "file_extension": ".py",
      "mimetype": "text/x-python",
      "name": "python",
      "nbconvert_exporter": "python",
      "pygments_lexer": "ipython3",
      "version": "3.6.13"
    },
    "accelerator": "GPU",
    "gpuClass": "premium"
  },
  "nbformat": 4,
  "nbformat_minor": 5
}