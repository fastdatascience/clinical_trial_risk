{
  "cells": [
    {
      "cell_type": "markdown",
      "metadata": {
        "id": "view-in-github",
        "colab_type": "text"
      },
      "source": [
        "<a href=\"https://colab.research.google.com/github/fastdatascience/clinical_trial_risk/blob/fixes_nov_2022/train/ctgov/TrainNumSubjectsRegression_05_Keras_optimise_mae_longer_training.ipynb\" target=\"_parent\"><img src=\"https://colab.research.google.com/assets/colab-badge.svg\" alt=\"Open In Colab\"/></a>"
      ]
    },
    {
      "cell_type": "code",
      "execution_count": 1,
      "id": "ad812236",
      "metadata": {
        "id": "ad812236"
      },
      "outputs": [],
      "source": [
        "import pandas as pd\n",
        "import re\n",
        "import os\n",
        "import sys\n",
        "import pickle as pkl\n",
        "import seaborn as sns\n",
        "from sklearn.metrics import accuracy_score, confusion_matrix\n",
        "from sklearn.metrics import ConfusionMatrixDisplay\n",
        "from sklearn.metrics import mean_absolute_error, mean_squared_error\n",
        "from sklearn.metrics import roc_auc_score\n",
        "from sklearn.metrics import roc_curve, auc\n",
        "from IPython.display import display\n",
        "import matplotlib.pyplot as plt\n",
        "import numpy as np\n",
        "import json\n",
        "\n",
        "# df_annotations = pd.read_csv(\"all_annotations.csv\")\n"
      ]
    },
    {
      "cell_type": "markdown",
      "id": "e7ea7d33",
      "metadata": {
        "id": "e7ea7d33"
      },
      "source": [
        "# Get data"
      ]
    },
    {
      "cell_type": "code",
      "execution_count": 2,
      "id": "284b9a07",
      "metadata": {
        "id": "284b9a07"
      },
      "outputs": [],
      "source": [
        "# with open(\"protocols.pkl.gz\", \"rb\") as f:\n",
        "#     file_to_pages = pkl.load(f)"
      ]
    },
    {
      "cell_type": "code",
      "execution_count": 3,
      "id": "91013de0",
      "metadata": {
        "id": "91013de0"
      },
      "outputs": [],
      "source": [
        "# import spacy\n",
        "# nlp = spacy.blank(\"en\")"
      ]
    },
    {
      "cell_type": "code",
      "execution_count": 4,
      "id": "65956b92",
      "metadata": {
        "id": "65956b92",
        "scrolled": true
      },
      "outputs": [],
      "source": [
        "# texts = []\n",
        "\n",
        "# for i in range(len(df_annotations)):\n",
        "#     file_name = df_annotations.file.iloc[i]\n",
        "    \n",
        "#     pages= file_to_pages[file_name]\n",
        "    \n",
        "#     text = \"\"\n",
        "#     for page in pages:\n",
        "#         doc = nlp(page)\n",
        "        \n",
        "#         is_include = [False] * len(doc)\n",
        "#         for tok in doc:\n",
        "#             if tok.text.lower() in {\"phase\"}:\n",
        "#                 for token_index in range(tok.i - 20, tok.i + 20):\n",
        "#                     if token_index >= 0 and token_index < len(doc):\n",
        "#                         is_include[token_index] = True\n",
        "        \n",
        "#         for token_index in range(len(doc)):\n",
        "#             if is_include[token_index]:\n",
        "#                 text += doc[token_index].text + doc[token_index].whitespace_\n",
        "                \n",
        "                \n",
        "#     if text == \"\":\n",
        "#         print (\"nothing found\", file_name, df_annotations.phase.iloc[i])\n",
        "#         text = \" \".join(pages)\n",
        "#         if len(text) > 100000:\n",
        "#             text = text[:100000]\n",
        "#     else:\n",
        "#         print (\"found\", file_name, df_annotations.phase.iloc[i])\n",
        "\n",
        "#     texts.append(text)\n",
        "# df_annotations[\"text\"] = texts"
      ]
    },
    {
      "cell_type": "code",
      "execution_count": 5,
      "id": "76a39c5b",
      "metadata": {
        "id": "76a39c5b"
      },
      "outputs": [],
      "source": [
        "# df_annotations.to_csv(\"filtered_for_phase.csv.bz2\")"
      ]
    },
    {
      "cell_type": "code",
      "source": [
        "from google.colab import drive\n",
        "drive.mount('/content/drive')"
      ],
      "metadata": {
        "colab": {
          "base_uri": "https://localhost:8080/"
        },
        "id": "xCe1anFkGSrt",
        "outputId": "12dc42b9-b795-4fe1-a2a7-e02ade789c25"
      },
      "id": "xCe1anFkGSrt",
      "execution_count": 6,
      "outputs": [
        {
          "output_type": "stream",
          "name": "stdout",
          "text": [
            "Mounted at /content/drive\n"
          ]
        }
      ]
    },
    {
      "cell_type": "code",
      "source": [
        "df_annotations= pd.read_csv(\"/content/drive/MyDrive/data/filtered_for_phase_arms_subjects_02.csv.bz2\")"
      ],
      "metadata": {
        "id": "FdcTHlHsGWnk"
      },
      "id": "FdcTHlHsGWnk",
      "execution_count": 7,
      "outputs": []
    },
    {
      "cell_type": "code",
      "source": [
        "#df_annotations.text = df_annotations.text.apply(lambda t : t[:10000] if len(t) > 10000 else t)"
      ],
      "metadata": {
        "id": "wGilqqbTi76N"
      },
      "id": "wGilqqbTi76N",
      "execution_count": 8,
      "outputs": []
    },
    {
      "cell_type": "code",
      "source": [
        "def get_num_subjects_clean(num):\n",
        "    if pd.isna(num):\n",
        "        return None\n",
        "    if num >= 10000:\n",
        "        return \"10000+\"\n",
        "    if num >= 1000:\n",
        "        return \"1000+\"\n",
        "    if num >= 500:\n",
        "        return \"500+\"\n",
        "    if num >= 200:\n",
        "        return \"200+\"\n",
        "    if num >= 100:\n",
        "        return \"100+\"\n",
        "    if num >= 50:\n",
        "        return \"50+\"\n",
        "    if num >= 25:\n",
        "        return \"25+\"\n",
        "    return \"1-24\"\n",
        "df_annotations[\"num_subjects_clean\"] = df_annotations[\"num_subjects\"].apply(get_num_subjects_clean)"
      ],
      "metadata": {
        "id": "mZ82V337HouW"
      },
      "id": "mZ82V337HouW",
      "execution_count": 9,
      "outputs": []
    },
    {
      "cell_type": "code",
      "source": [
        "df_annotations[\"num_subjects_clean\"].value_counts()"
      ],
      "metadata": {
        "colab": {
          "base_uri": "https://localhost:8080/"
        },
        "id": "cKMRrJjQIF7U",
        "outputId": "fc4e7888-6872-4726-ff70-15b06f1875d2"
      },
      "id": "cKMRrJjQIF7U",
      "execution_count": 10,
      "outputs": [
        {
          "output_type": "execute_result",
          "data": {
            "text/plain": [
              "1-24      2980\n",
              "25+       2119\n",
              "50+       2016\n",
              "100+      1674\n",
              "200+      1656\n",
              "500+       816\n",
              "1000+      547\n",
              "10000+     112\n",
              "Name: num_subjects_clean, dtype: int64"
            ]
          },
          "metadata": {},
          "execution_count": 10
        }
      ]
    },
    {
      "cell_type": "code",
      "execution_count": 11,
      "id": "89e1c4f0",
      "metadata": {
        "id": "89e1c4f0"
      },
      "outputs": [],
      "source": [
        "# df_annotations = pd.read_csv(\"filtered_for_phase.csv.bz2\")"
      ]
    },
    {
      "cell_type": "code",
      "execution_count": 12,
      "id": "a12043ac",
      "metadata": {
        "id": "a12043ac"
      },
      "outputs": [],
      "source": [
        "# del file_to_pages"
      ]
    },
    {
      "cell_type": "code",
      "execution_count": 13,
      "id": "bbe0ba77",
      "metadata": {
        "id": "bbe0ba77"
      },
      "outputs": [],
      "source": [
        "phase_map = {\"Phase 2\":\"2\",\n",
        "\"Phase 3\":\"3\",\n",
        "\"Phase 4\":\"4\",\n",
        "\"Phase 1\":\"1\",\n",
        "\"Phase 1/Phase 2\":\"1.5\",\n",
        "\"Not Applicable\":\"0\",\n",
        "\"Phase 2/Phase 3\":\"2.5\",\n",
        "\"Early Phase 1\":\"0.5\"}\n",
        "df_annotations[\"phase_clean\"] = df_annotations[\"phase\"].apply(lambda x : phase_map.get(x, None))"
      ]
    },
    {
      "cell_type": "code",
      "source": [
        "phase_clean_map = {}\n",
        "for idx, val in enumerate(sorted(set(phase_map.values()), key = lambda x : float(x))):\n",
        "  phase_clean_map[val] = idx\n",
        "# invert the dictionary\n",
        "phase_lookup = {v: k for k, v in phase_clean_map.items()}\n",
        "\n",
        "phase_list = [phase_lookup[x] for x in sorted(phase_lookup)]\n",
        "phase_list"
      ],
      "metadata": {
        "colab": {
          "base_uri": "https://localhost:8080/"
        },
        "id": "DNjQhXOVrQxj",
        "outputId": "7da827ab-d621-44cd-dc07-9924a8358c41"
      },
      "id": "DNjQhXOVrQxj",
      "execution_count": 14,
      "outputs": [
        {
          "output_type": "execute_result",
          "data": {
            "text/plain": [
              "['0', '0.5', '1', '1.5', '2', '2.5', '3', '4']"
            ]
          },
          "metadata": {},
          "execution_count": 14
        }
      ]
    },
    {
      "cell_type": "code",
      "execution_count": 15,
      "id": "f99e999b",
      "metadata": {
        "id": "f99e999b"
      },
      "outputs": [],
      "source": [
        "def get_num_arms_clean(num):\n",
        "    if pd.isna(num):\n",
        "        return None\n",
        "    if num >= 5:\n",
        "        num = 5\n",
        "    return num\n",
        "df_annotations[\"num_arms_clean\"] = df_annotations[\"num_arms\"].apply(get_num_arms_clean)"
      ]
    },
    {
      "cell_type": "markdown",
      "source": [
        "# Begin Keras/TF"
      ],
      "metadata": {
        "id": "Tq8Iseh1e_uQ"
      },
      "id": "Tq8Iseh1e_uQ"
    },
    {
      "cell_type": "code",
      "source": [
        "import numpy as np\n",
        "\n",
        "import tensorflow as tf\n",
        "import tensorflow_hub as hub\n",
        "import tensorflow_datasets as tfds\n",
        "\n",
        "import matplotlib.pyplot as plt\n",
        "\n",
        "print(\"Version: \", tf.__version__)\n",
        "print(\"Eager mode: \", tf.executing_eagerly())\n",
        "print(\"Hub version: \", hub.__version__)\n",
        "print(\"GPU is\", \"available\" if tf.config.list_physical_devices('GPU') else \"NOT AVAILABLE\")"
      ],
      "metadata": {
        "id": "eE1-7kc4ceQP",
        "colab": {
          "base_uri": "https://localhost:8080/"
        },
        "outputId": "489c49e6-129f-421e-9019-4dbd870b6617"
      },
      "id": "eE1-7kc4ceQP",
      "execution_count": 16,
      "outputs": [
        {
          "output_type": "stream",
          "name": "stdout",
          "text": [
            "Version:  2.9.2\n",
            "Eager mode:  True\n",
            "Hub version:  0.12.0\n",
            "GPU is available\n"
          ]
        }
      ]
    },
    {
      "cell_type": "code",
      "source": [
        "num_subjects_clean_map = {}\n",
        "for idx, val in enumerate(sorted(set(df_annotations[~df_annotations.num_subjects_clean.isna()].num_subjects_clean), key = lambda x : int(re.sub(r'\\D.*$', '', x)))):\n",
        "  num_subjects_clean_map[val] = idx"
      ],
      "metadata": {
        "id": "0HHgTj8Qfub9"
      },
      "id": "0HHgTj8Qfub9",
      "execution_count": 17,
      "outputs": []
    },
    {
      "cell_type": "code",
      "source": [
        "# invert the dictionary\n",
        "num_subjects_lookup = {v: k for k, v in num_subjects_clean_map.items()}"
      ],
      "metadata": {
        "id": "6jQQHMvxkC2l"
      },
      "id": "6jQQHMvxkC2l",
      "execution_count": 18,
      "outputs": []
    },
    {
      "cell_type": "code",
      "source": [
        "num_subjects_list = [num_subjects_lookup[x] for x in sorted(num_subjects_lookup)]\n",
        "num_subjects_list"
      ],
      "metadata": {
        "colab": {
          "base_uri": "https://localhost:8080/"
        },
        "id": "C6fm756mlUSk",
        "outputId": "a1185a14-68ed-419a-fa93-23f1e036f924"
      },
      "id": "C6fm756mlUSk",
      "execution_count": 19,
      "outputs": [
        {
          "output_type": "execute_result",
          "data": {
            "text/plain": [
              "['1-24', '25+', '50+', '100+', '200+', '500+', '1000+', '10000+']"
            ]
          },
          "metadata": {},
          "execution_count": 19
        }
      ]
    },
    {
      "cell_type": "code",
      "source": [
        "num_subjects_clean_map"
      ],
      "metadata": {
        "colab": {
          "base_uri": "https://localhost:8080/"
        },
        "id": "sDIKJA57hR-K",
        "outputId": "215d83df-7a95-4db8-b5fb-ad3b343b13dc"
      },
      "id": "sDIKJA57hR-K",
      "execution_count": 20,
      "outputs": [
        {
          "output_type": "execute_result",
          "data": {
            "text/plain": [
              "{'1-24': 0,\n",
              " '25+': 1,\n",
              " '50+': 2,\n",
              " '100+': 3,\n",
              " '200+': 4,\n",
              " '500+': 5,\n",
              " '1000+': 6,\n",
              " '10000+': 7}"
            ]
          },
          "metadata": {},
          "execution_count": 20
        }
      ]
    },
    {
      "cell_type": "code",
      "source": [
        "def get_one_hot_num_subjects(x):\n",
        "  a = [0] * len(num_subjects_clean_map)\n",
        "  if x is None:\n",
        "    return a\n",
        "  a[num_subjects_clean_map[x]] = 1\n",
        "  return a"
      ],
      "metadata": {
        "id": "EFTomf_xfjTS"
      },
      "id": "EFTomf_xfjTS",
      "execution_count": 21,
      "outputs": []
    },
    {
      "cell_type": "code",
      "source": [
        "df_annotations[\"num_subjects_one_hot\"] = df_annotations[\"num_subjects_clean\"].apply(get_one_hot_num_subjects)"
      ],
      "metadata": {
        "id": "GCf8jZQZiBbC"
      },
      "id": "GCf8jZQZiBbC",
      "execution_count": 22,
      "outputs": []
    },
    {
      "cell_type": "code",
      "source": [
        "df_annotations[\"num_subjects_one_hot\"] = df_annotations[\"num_subjects_clean\"].apply(get_one_hot_num_subjects)"
      ],
      "metadata": {
        "id": "RoXplcZ6q3N3"
      },
      "id": "RoXplcZ6q3N3",
      "execution_count": 23,
      "outputs": []
    },
    {
      "cell_type": "code",
      "source": [
        "def get_one_hot_num_arms(x):\n",
        "  a = [0] * 5\n",
        "  if x is not None and not pd.isna(x):\n",
        "    a[int(x - 1)] = 1\n",
        "  return a\n",
        "df_annotations[\"num_arms_one_hot\"] = df_annotations[\"num_arms_clean\"].apply(get_one_hot_num_arms)"
      ],
      "metadata": {
        "id": "bGkQ4LeYq3QR"
      },
      "id": "bGkQ4LeYq3QR",
      "execution_count": 24,
      "outputs": []
    },
    {
      "cell_type": "code",
      "source": [
        "def get_one_hot_phase(x):\n",
        "  a = [0] * len(phase_clean_map)\n",
        "  if x is None:\n",
        "    return a\n",
        "  a[phase_clean_map[x]] = 1\n",
        "  return a\n",
        "df_annotations[\"phase_one_hot\"] = df_annotations[\"phase_clean\"].apply(get_one_hot_phase)"
      ],
      "metadata": {
        "id": "POLLhzW_rFvz"
      },
      "id": "POLLhzW_rFvz",
      "execution_count": 25,
      "outputs": []
    },
    {
      "cell_type": "markdown",
      "source": [
        "Concatenate the three bits of one-hot data into one column"
      ],
      "metadata": {
        "id": "ondugbdEsLJ7"
      },
      "id": "ondugbdEsLJ7"
    },
    {
      "cell_type": "code",
      "source": [
        "concatenated_one_hot = []\n",
        "for i in range(len(df_annotations)):\n",
        "  concatenated = list(df_annotations.phase_one_hot.iloc[i]) + \\\n",
        "  list(df_annotations.num_arms_one_hot.iloc[i]) + \\\n",
        "  list(df_annotations.num_subjects_one_hot.iloc[i]) + [df_annotations.has_sap.iloc[i]]\n",
        "  concatenated_one_hot.append(concatenated)\n",
        "df_annotations[\"concatenated_one_hot\"] = concatenated_one_hot"
      ],
      "metadata": {
        "id": "eykeDEeFr56g"
      },
      "id": "eykeDEeFr56g",
      "execution_count": 26,
      "outputs": []
    },
    {
      "cell_type": "code",
      "source": [
        "np.sum(np.asarray([np.asarray(x) for x in df_annotations[\"concatenated_one_hot\"]]), axis=1).mean()"
      ],
      "metadata": {
        "colab": {
          "base_uri": "https://localhost:8080/"
        },
        "id": "eFM7jbfutXfu",
        "outputId": "1189e8f3-3ee1-4117-c83a-52af714966ff"
      },
      "id": "eFM7jbfutXfu",
      "execution_count": 27,
      "outputs": [
        {
          "output_type": "execute_result",
          "data": {
            "text/plain": [
              "nan"
            ]
          },
          "metadata": {},
          "execution_count": 27
        }
      ]
    },
    {
      "cell_type": "code",
      "source": [
        "np.sum(np.asarray([np.asarray(x) for x in df_annotations[\"concatenated_one_hot\"]]), axis=0)"
      ],
      "metadata": {
        "colab": {
          "base_uri": "https://localhost:8080/"
        },
        "id": "YmCgmZh3tmkn",
        "outputId": "ea236bbf-9237-4850-d529-cbb46b6f5ee7"
      },
      "id": "YmCgmZh3tmkn",
      "execution_count": 28,
      "outputs": [
        {
          "output_type": "execute_result",
          "data": {
            "text/plain": [
              "array([ 519.,  135., 1154.,  983., 4317.,  297., 2725., 1461., 3086.,\n",
              "       5228., 1456.,  908.,  913., 2980., 2119., 2016., 1674., 1656.,\n",
              "        816.,  547.,  112.,   nan])"
            ]
          },
          "metadata": {},
          "execution_count": 28
        }
      ]
    },
    {
      "cell_type": "code",
      "source": [
        "num_classes = len(concatenated)\n",
        "print (f\"There are {num_classes} classes in this multi-label classifier\")"
      ],
      "metadata": {
        "colab": {
          "base_uri": "https://localhost:8080/"
        },
        "id": "yuUe_QwxsQRE",
        "outputId": "71698aaf-f719-49c1-a802-a899517d6d8f"
      },
      "id": "yuUe_QwxsQRE",
      "execution_count": 29,
      "outputs": [
        {
          "output_type": "stream",
          "name": "stdout",
          "text": [
            "There are 22 classes in this multi-label classifier\n"
          ]
        }
      ]
    },
    {
      "cell_type": "code",
      "source": [
        "df_train = df_annotations[df_annotations.train_val == \"train\"]\n",
        "df_val = df_annotations[df_annotations.train_val == \"val\"]"
      ],
      "metadata": {
        "id": "F_VhjeihirIu"
      },
      "id": "F_VhjeihirIu",
      "execution_count": 30,
      "outputs": []
    },
    {
      "cell_type": "code",
      "source": [
        "df_train_got_some_ground_truths = df_train[~df_train.num_subjects.isna()]"
      ],
      "metadata": {
        "id": "pIWANTOGqDkg"
      },
      "id": "pIWANTOGqDkg",
      "execution_count": 31,
      "outputs": []
    },
    {
      "cell_type": "code",
      "source": [
        "len(df_train_got_some_ground_truths), len(df_train)"
      ],
      "metadata": {
        "colab": {
          "base_uri": "https://localhost:8080/"
        },
        "id": "yfw08MW2sYTw",
        "outputId": "63062b64-60e4-4f6c-c03b-19048e7a4be3"
      },
      "id": "yfw08MW2sYTw",
      "execution_count": 32,
      "outputs": [
        {
          "output_type": "execute_result",
          "data": {
            "text/plain": [
              "(9535, 9538)"
            ]
          },
          "metadata": {},
          "execution_count": 32
        }
      ]
    },
    {
      "cell_type": "code",
      "source": [
        "train_labels = np.asarray(list(df_train_got_some_ground_truths.num_subjects))\n",
        "test_labels = np.asarray(list(df_val.num_subjects))"
      ],
      "metadata": {
        "id": "0upX622wfjVv"
      },
      "id": "0upX622wfjVv",
      "execution_count": 33,
      "outputs": []
    },
    {
      "cell_type": "code",
      "source": [
        "train_examples = np.asarray(list(df_train_got_some_ground_truths.text))\n",
        "test_examples = np.asarray(list(df_val.text))"
      ],
      "metadata": {
        "id": "YDlX78f5cz_F"
      },
      "id": "YDlX78f5cz_F",
      "execution_count": 34,
      "outputs": []
    },
    {
      "cell_type": "code",
      "source": [
        "print(\"Training entries: {}, test entries: {}\".format(len(train_examples), len(test_examples)))"
      ],
      "metadata": {
        "colab": {
          "base_uri": "https://localhost:8080/"
        },
        "id": "LFDvdJe_fjYD",
        "outputId": "3ee4b239-a6dc-4587-c906-6eafa8de8d7d"
      },
      "id": "LFDvdJe_fjYD",
      "execution_count": 35,
      "outputs": [
        {
          "output_type": "stream",
          "name": "stdout",
          "text": [
            "Training entries: 9535, test entries: 1085\n"
          ]
        }
      ]
    },
    {
      "cell_type": "code",
      "source": [
        "train_labels[:10]"
      ],
      "metadata": {
        "colab": {
          "base_uri": "https://localhost:8080/"
        },
        "id": "NPk1jhPOfjcH",
        "outputId": "42b1660f-cb9f-4313-c9c4-c38db5af2be1"
      },
      "id": "NPk1jhPOfjcH",
      "execution_count": 36,
      "outputs": [
        {
          "output_type": "execute_result",
          "data": {
            "text/plain": [
              "array([193., 668.,  32.,  50.,  25., 230.,  28.,  94.,  68., 217.])"
            ]
          },
          "metadata": {},
          "execution_count": 36
        }
      ]
    },
    {
      "cell_type": "code",
      "source": [
        "model = \"https://tfhub.dev/google/nnlm-en-dim50/2\"\n",
        "hub_layer = hub.KerasLayer(model, input_shape=[], dtype=tf.string, trainable=True)\n",
        "hub_layer(train_examples[:3])"
      ],
      "metadata": {
        "colab": {
          "base_uri": "https://localhost:8080/"
        },
        "id": "Ju7TNdElgQ-P",
        "outputId": "0a601ad2-480f-4df6-8a41-11a0c4f09ce5"
      },
      "id": "Ju7TNdElgQ-P",
      "execution_count": 37,
      "outputs": [
        {
          "output_type": "execute_result",
          "data": {
            "text/plain": [
              "<tf.Tensor: shape=(3, 50), dtype=float32, numpy=\n",
              "array([[ 3.8062613e+00, -8.5627154e-02,  2.1885273e+00,  1.2064425e+00,\n",
              "         1.1741788e+00, -1.6362848e+00, -1.6544684e+00,  1.9301386e+00,\n",
              "        -7.3246288e-01, -2.0803753e-01, -1.8835599e+00, -8.1751305e-01,\n",
              "         1.3482304e+00, -4.1169381e+00,  1.1123058e+00, -2.7861402e+00,\n",
              "         3.6909611e+00, -2.2455294e+00,  1.1222224e+00,  1.9886566e+00,\n",
              "        -1.0249604e-01,  2.6178288e+00,  3.5085483e+00, -7.0547515e-01,\n",
              "         1.2558808e+00, -1.6434602e+00, -1.1090916e+00,  4.3890409e+00,\n",
              "        -1.7149318e+00, -2.8435621e+00,  1.0796951e+00,  2.6536503e+00,\n",
              "        -3.8684306e-01, -3.1688907e+00,  1.0274379e-01, -2.0242805e+00,\n",
              "         2.3353672e+00, -1.7880658e+00,  5.3773862e-01, -1.0440906e+00,\n",
              "        -9.3668759e-01, -1.6973139e+00, -1.4264782e-01,  2.6114061e+00,\n",
              "         5.0076956e-01, -1.2994319e+00,  9.0301037e-01, -1.4811747e+00,\n",
              "         8.1332225e-01,  2.3800061e+00],\n",
              "       [ 2.5299299e+00,  6.9842733e-02,  1.2200273e+00,  8.4425837e-01,\n",
              "         5.9937924e-01, -1.0244265e+00, -9.2848974e-01,  1.2883713e+00,\n",
              "        -5.4952449e-01, -1.3766880e-01, -1.3184690e+00, -3.8536155e-01,\n",
              "         3.2475236e-01, -2.4055672e+00,  7.8073001e-01, -1.3195676e+00,\n",
              "         1.4582082e+00, -1.1922650e+00,  6.4574677e-01,  1.1451379e+00,\n",
              "        -3.6335005e-03,  8.1105644e-01,  1.6614536e+00,  7.0692167e-02,\n",
              "         1.5279856e-01, -9.9357730e-01, -5.5831790e-01,  1.4943976e+00,\n",
              "        -9.0663010e-01, -1.4006202e+00,  1.9310248e-01,  1.0247235e+00,\n",
              "        -6.5576650e-02, -1.7880753e+00, -4.0788367e-01, -1.2515424e+00,\n",
              "         8.9619911e-01, -1.0979604e+00, -9.6578687e-02, -5.5380207e-01,\n",
              "        -1.7643718e-01,  1.7039146e-02, -3.2528803e-01,  1.9876856e+00,\n",
              "         5.2700825e-02, -1.2491058e+00,  1.1346469e-01, -4.4258308e-01,\n",
              "         5.7714480e-01,  1.6421361e+00],\n",
              "       [ 3.1315677e+00, -1.4949707e+00,  1.7751954e+00,  3.2980654e-01,\n",
              "         1.0419462e+00, -2.3750334e+00, -1.1761595e+00,  2.2303872e+00,\n",
              "        -1.2242346e+00, -2.9328495e-01, -1.5865028e+00, -2.7982643e-01,\n",
              "         1.7525562e+00, -4.0603199e+00, -2.5970027e-01, -2.3546319e+00,\n",
              "         4.7730613e+00, -1.0558661e+00,  1.3674231e+00,  1.4121630e+00,\n",
              "         6.2468117e-01,  1.8053319e+00,  2.6160557e+00,  2.6594770e-01,\n",
              "         7.6969761e-01, -1.9515115e+00,  1.3513342e-01,  5.1477046e+00,\n",
              "        -1.9099628e+00, -2.3477449e+00,  8.9626384e-01,  1.9337162e+00,\n",
              "         2.7819487e-01, -1.4370100e+00,  1.1726424e+00, -1.0679307e+00,\n",
              "         2.5728991e+00, -1.7260441e+00,  4.2059946e-01, -9.4905460e-01,\n",
              "        -2.4920563e-01, -1.6811064e+00,  1.4859284e-01,  2.0329008e+00,\n",
              "         6.2556720e-01, -1.3739069e+00,  3.1094185e-01, -1.5155188e+00,\n",
              "         1.5543662e+00,  1.2640179e+00]], dtype=float32)>"
            ]
          },
          "metadata": {},
          "execution_count": 37
        }
      ]
    },
    {
      "cell_type": "code",
      "source": [
        "model = tf.keras.Sequential()\n",
        "model.add(hub_layer)\n",
        "model.add(tf.keras.layers.Dense(16, activation='relu'))\n",
        "model.add(tf.keras.layers.Dense(1))\n",
        "\n",
        "model.summary()"
      ],
      "metadata": {
        "colab": {
          "base_uri": "https://localhost:8080/"
        },
        "id": "XVwvmzuQgRAQ",
        "outputId": "c0706f6e-6bda-4bf6-be4f-d92582d55bdc"
      },
      "id": "XVwvmzuQgRAQ",
      "execution_count": 54,
      "outputs": [
        {
          "output_type": "stream",
          "name": "stdout",
          "text": [
            "Model: \"sequential_1\"\n",
            "_________________________________________________________________\n",
            " Layer (type)                Output Shape              Param #   \n",
            "=================================================================\n",
            " keras_layer (KerasLayer)    (None, 50)                48190600  \n",
            "                                                                 \n",
            " dense_2 (Dense)             (None, 16)                816       \n",
            "                                                                 \n",
            " dense_3 (Dense)             (None, 1)                 17        \n",
            "                                                                 \n",
            "=================================================================\n",
            "Total params: 48,191,433\n",
            "Trainable params: 48,191,433\n",
            "Non-trainable params: 0\n",
            "_________________________________________________________________\n"
          ]
        }
      ]
    },
    {
      "cell_type": "code",
      "source": [
        "model.compile(optimizer='adam',\n",
        "              loss=tf.losses.MeanAbsoluteError(),\n",
        "              metrics=[tf.metrics.MeanAbsolutePercentageError(name='mape'), tf.metrics.MeanAbsoluteError(name='mae'), tf.metrics.RootMeanSquaredError(name='rmse')],\n",
        "              run_eagerly=True)"
      ],
      "metadata": {
        "id": "4grRdQTWgRCY"
      },
      "id": "4grRdQTWgRCY",
      "execution_count": 55,
      "outputs": []
    },
    {
      "cell_type": "code",
      "source": [
        "# x_val = train_examples[:10000]\n",
        "# partial_x_train = train_examples[10000:]\n",
        "\n",
        "# y_val = train_labels[:10000]\n",
        "# partial_y_train = train_labels[10000:]\n",
        "\n",
        "partial_x_train = train_examples\n",
        "x_val = test_examples\n",
        "\n",
        "partial_y_train = train_labels\n",
        "y_val = test_labels"
      ],
      "metadata": {
        "id": "--LLz2FYgREf"
      },
      "id": "--LLz2FYgREf",
      "execution_count": 56,
      "outputs": []
    },
    {
      "cell_type": "code",
      "source": [
        "history = model.fit(partial_x_train,\n",
        "                    partial_y_train,\n",
        "                    epochs=80,\n",
        "                    batch_size=512,\n",
        "                    validation_data=(x_val, y_val),\n",
        "                    verbose=1)"
      ],
      "metadata": {
        "colab": {
          "base_uri": "https://localhost:8080/"
        },
        "id": "zEMElK4ygRGg",
        "outputId": "b3cb9819-6684-4b7d-c38e-5f1d49584629"
      },
      "id": "zEMElK4ygRGg",
      "execution_count": 78,
      "outputs": [
        {
          "output_type": "stream",
          "name": "stdout",
          "text": [
            "Epoch 1/80\n",
            "19/19 [==============================] - 5s 279ms/step - loss: 856.6340 - mape: 29058026.0000 - mae: 856.6340 - rmse: 13964.8721 - val_loss: 1413.5369 - val_mape: 30131098.0000 - val_mae: 1413.5369 - val_rmse: 30709.7480\n",
            "Epoch 2/80\n",
            "19/19 [==============================] - 5s 258ms/step - loss: 853.8766 - mape: 28757360.0000 - mae: 853.8766 - rmse: 13962.2861 - val_loss: 1411.9606 - val_mape: 26328654.0000 - val_mae: 1411.9606 - val_rmse: 30709.4512\n",
            "Epoch 3/80\n",
            "19/19 [==============================] - 5s 254ms/step - loss: 851.2431 - mape: 26086746.0000 - mae: 851.2431 - rmse: 13960.2197 - val_loss: 1410.5468 - val_mape: 24793230.0000 - val_mae: 1410.5468 - val_rmse: 30709.0977\n",
            "Epoch 4/80\n",
            "19/19 [==============================] - 5s 256ms/step - loss: 848.5825 - mape: 25617194.0000 - mae: 848.5825 - rmse: 13958.2393 - val_loss: 1409.2903 - val_mape: 19508052.0000 - val_mae: 1409.2903 - val_rmse: 30708.8281\n",
            "Epoch 5/80\n",
            "19/19 [==============================] - 5s 253ms/step - loss: 845.9339 - mape: 23192516.0000 - mae: 845.9339 - rmse: 13955.7861 - val_loss: 1407.9564 - val_mape: 18632110.0000 - val_mae: 1407.9564 - val_rmse: 30708.4609\n",
            "Epoch 6/80\n",
            "19/19 [==============================] - 5s 256ms/step - loss: 843.2824 - mape: 22041108.0000 - mae: 843.2824 - rmse: 13953.1846 - val_loss: 1406.6885 - val_mape: 18343816.0000 - val_mae: 1406.6885 - val_rmse: 30707.9609\n",
            "Epoch 7/80\n",
            "19/19 [==============================] - 5s 255ms/step - loss: 840.6552 - mape: 21361376.0000 - mae: 840.6552 - rmse: 13950.7490 - val_loss: 1405.5282 - val_mape: 14817885.0000 - val_mae: 1405.5281 - val_rmse: 30707.6621\n",
            "Epoch 8/80\n",
            "19/19 [==============================] - 5s 256ms/step - loss: 838.1281 - mape: 19464676.0000 - mae: 838.1281 - rmse: 13947.7520 - val_loss: 1404.4517 - val_mape: 12481041.0000 - val_mae: 1404.4517 - val_rmse: 30707.2930\n",
            "Epoch 9/80\n",
            "19/19 [==============================] - 5s 254ms/step - loss: 835.6299 - mape: 18506330.0000 - mae: 835.6299 - rmse: 13945.3760 - val_loss: 1403.7041 - val_mape: 11950774.0000 - val_mae: 1403.7042 - val_rmse: 30706.7949\n",
            "Epoch 10/80\n",
            "19/19 [==============================] - 5s 257ms/step - loss: 833.2288 - mape: 17905054.0000 - mae: 833.2288 - rmse: 13942.3955 - val_loss: 1403.2576 - val_mape: 11349949.0000 - val_mae: 1403.2576 - val_rmse: 30706.3613\n",
            "Epoch 11/80\n",
            "19/19 [==============================] - 5s 255ms/step - loss: 830.8708 - mape: 17649490.0000 - mae: 830.8708 - rmse: 13939.2725 - val_loss: 1402.0536 - val_mape: 4400885.5000 - val_mae: 1402.0536 - val_rmse: 30706.1113\n",
            "Epoch 12/80\n",
            "19/19 [==============================] - 5s 256ms/step - loss: 828.3528 - mape: 17567306.0000 - mae: 828.3528 - rmse: 13935.9863 - val_loss: 1401.4562 - val_mape: 4867700.5000 - val_mae: 1401.4562 - val_rmse: 30705.6074\n",
            "Epoch 13/80\n",
            "19/19 [==============================] - 5s 256ms/step - loss: 825.8827 - mape: 16671272.0000 - mae: 825.8827 - rmse: 13933.0850 - val_loss: 1400.8386 - val_mape: 155506.0469 - val_mae: 1400.8386 - val_rmse: 30705.2754\n",
            "Epoch 14/80\n",
            "19/19 [==============================] - 5s 256ms/step - loss: 823.5562 - mape: 15859444.0000 - mae: 823.5562 - rmse: 13930.0996 - val_loss: 1400.6302 - val_mape: 1406417.6250 - val_mae: 1400.6302 - val_rmse: 30704.7031\n",
            "Epoch 15/80\n",
            "19/19 [==============================] - 5s 253ms/step - loss: 821.2504 - mape: 14801959.0000 - mae: 821.2504 - rmse: 13926.2158 - val_loss: 1400.1769 - val_mape: 430947.4062 - val_mae: 1400.1769 - val_rmse: 30704.2910\n",
            "Epoch 16/80\n",
            "19/19 [==============================] - 5s 257ms/step - loss: 818.9083 - mape: 15974917.0000 - mae: 818.9083 - rmse: 13923.2607 - val_loss: 1399.7723 - val_mape: 3669253.0000 - val_mae: 1399.7723 - val_rmse: 30703.8242\n",
            "Epoch 17/80\n",
            "19/19 [==============================] - 5s 257ms/step - loss: 816.5543 - mape: 14370983.0000 - mae: 816.5543 - rmse: 13919.6123 - val_loss: 1399.4276 - val_mape: 5134723.0000 - val_mae: 1399.4276 - val_rmse: 30703.4004\n",
            "Epoch 18/80\n",
            "19/19 [==============================] - 5s 258ms/step - loss: 814.2627 - mape: 14035094.0000 - mae: 814.2627 - rmse: 13915.7012 - val_loss: 1399.0317 - val_mape: 8660662.0000 - val_mae: 1399.0317 - val_rmse: 30703.0547\n",
            "Epoch 19/80\n",
            "19/19 [==============================] - 5s 259ms/step - loss: 812.0906 - mape: 14523190.0000 - mae: 812.0906 - rmse: 13912.0713 - val_loss: 1398.8314 - val_mape: 9340505.0000 - val_mae: 1398.8314 - val_rmse: 30702.4805\n",
            "Epoch 20/80\n",
            "19/19 [==============================] - 5s 258ms/step - loss: 809.8002 - mape: 13071875.0000 - mae: 809.8002 - rmse: 13908.2549 - val_loss: 1398.6283 - val_mape: 11050678.0000 - val_mae: 1398.6283 - val_rmse: 30702.0527\n",
            "Epoch 21/80\n",
            "19/19 [==============================] - 5s 254ms/step - loss: 807.5270 - mape: 13350224.0000 - mae: 807.5270 - rmse: 13904.1123 - val_loss: 1398.0635 - val_mape: 14904722.0000 - val_mae: 1398.0635 - val_rmse: 30701.6309\n",
            "Epoch 22/80\n",
            "19/19 [==============================] - 5s 257ms/step - loss: 805.2362 - mape: 12661878.0000 - mae: 805.2362 - rmse: 13900.4199 - val_loss: 1398.0133 - val_mape: 14593623.0000 - val_mae: 1398.0133 - val_rmse: 30700.9961\n",
            "Epoch 23/80\n",
            "19/19 [==============================] - 5s 258ms/step - loss: 802.9500 - mape: 12641884.0000 - mae: 802.9500 - rmse: 13895.9307 - val_loss: 1397.9325 - val_mape: 14974061.0000 - val_mae: 1397.9325 - val_rmse: 30700.4688\n",
            "Epoch 24/80\n",
            "19/19 [==============================] - 5s 254ms/step - loss: 800.6973 - mape: 12487381.0000 - mae: 800.6973 - rmse: 13891.8164 - val_loss: 1397.6261 - val_mape: 18274620.0000 - val_mae: 1397.6260 - val_rmse: 30700.0645\n",
            "Epoch 25/80\n",
            "19/19 [==============================] - 5s 256ms/step - loss: 798.4742 - mape: 11406468.0000 - mae: 798.4742 - rmse: 13887.6152 - val_loss: 1397.4779 - val_mape: 18946850.0000 - val_mae: 1397.4780 - val_rmse: 30699.5059\n",
            "Epoch 26/80\n",
            "19/19 [==============================] - 5s 257ms/step - loss: 796.3643 - mape: 11084357.0000 - mae: 796.3643 - rmse: 13883.2363 - val_loss: 1397.5865 - val_mape: 20623284.0000 - val_mae: 1397.5865 - val_rmse: 30698.9512\n",
            "Epoch 27/80\n",
            "19/19 [==============================] - 5s 257ms/step - loss: 794.1755 - mape: 10879603.0000 - mae: 794.1755 - rmse: 13878.4355 - val_loss: 1396.7551 - val_mape: 24220088.0000 - val_mae: 1396.7551 - val_rmse: 30698.5176\n",
            "Epoch 28/80\n",
            "19/19 [==============================] - 5s 256ms/step - loss: 791.9749 - mape: 10528291.0000 - mae: 791.9749 - rmse: 13873.5879 - val_loss: 1396.8120 - val_mape: 24245670.0000 - val_mae: 1396.8120 - val_rmse: 30697.9121\n",
            "Epoch 29/80\n",
            "19/19 [==============================] - 5s 256ms/step - loss: 789.7379 - mape: 10835977.0000 - mae: 789.7379 - rmse: 13869.3877 - val_loss: 1396.7900 - val_mape: 24425912.0000 - val_mae: 1396.7900 - val_rmse: 30697.3965\n",
            "Epoch 30/80\n",
            "19/19 [==============================] - 5s 256ms/step - loss: 787.8123 - mape: 9711336.0000 - mae: 787.8123 - rmse: 13864.7891 - val_loss: 1396.1490 - val_mape: 27701814.0000 - val_mae: 1396.1490 - val_rmse: 30696.9727\n",
            "Epoch 31/80\n",
            "19/19 [==============================] - 5s 257ms/step - loss: 785.6639 - mape: 9651314.0000 - mae: 785.6639 - rmse: 13859.7637 - val_loss: 1396.0721 - val_mape: 25624308.0000 - val_mae: 1396.0721 - val_rmse: 30696.3574\n",
            "Epoch 32/80\n",
            "19/19 [==============================] - 5s 258ms/step - loss: 783.3518 - mape: 8460874.0000 - mae: 783.3518 - rmse: 13853.7471 - val_loss: 1395.9421 - val_mape: 26295060.0000 - val_mae: 1395.9421 - val_rmse: 30695.7031\n",
            "Epoch 33/80\n",
            "19/19 [==============================] - 5s 256ms/step - loss: 781.0895 - mape: 9449239.0000 - mae: 781.0895 - rmse: 13848.7236 - val_loss: 1395.0815 - val_mape: 31499226.0000 - val_mae: 1395.0815 - val_rmse: 30695.3086\n",
            "Epoch 34/80\n",
            "19/19 [==============================] - 5s 255ms/step - loss: 778.8320 - mape: 8917869.0000 - mae: 778.8320 - rmse: 13843.6680 - val_loss: 1394.9982 - val_mape: 29610210.0000 - val_mae: 1394.9982 - val_rmse: 30694.6348\n",
            "Epoch 35/80\n",
            "19/19 [==============================] - 5s 257ms/step - loss: 776.6360 - mape: 8636433.0000 - mae: 776.6360 - rmse: 13838.5088 - val_loss: 1394.8544 - val_mape: 33107504.0000 - val_mae: 1394.8542 - val_rmse: 30694.1074\n",
            "Epoch 36/80\n",
            "19/19 [==============================] - 5s 254ms/step - loss: 774.6342 - mape: 8513875.0000 - mae: 774.6342 - rmse: 13833.9238 - val_loss: 1394.7052 - val_mape: 33593528.0000 - val_mae: 1394.7052 - val_rmse: 30693.4883\n",
            "Epoch 37/80\n",
            "19/19 [==============================] - 5s 255ms/step - loss: 772.5897 - mape: 8327045.5000 - mae: 772.5897 - rmse: 13829.1475 - val_loss: 1394.4039 - val_mape: 35528196.0000 - val_mae: 1394.4039 - val_rmse: 30692.9277\n",
            "Epoch 38/80\n",
            "19/19 [==============================] - 5s 254ms/step - loss: 770.7314 - mape: 7615588.0000 - mae: 770.7314 - rmse: 13823.9287 - val_loss: 1394.1407 - val_mape: 38186308.0000 - val_mae: 1394.1407 - val_rmse: 30692.2773\n",
            "Epoch 39/80\n",
            "19/19 [==============================] - 5s 255ms/step - loss: 768.7314 - mape: 8178445.0000 - mae: 768.7314 - rmse: 13818.9404 - val_loss: 1394.0383 - val_mape: 39256200.0000 - val_mae: 1394.0383 - val_rmse: 30691.6211\n",
            "Epoch 40/80\n",
            "19/19 [==============================] - 5s 254ms/step - loss: 766.7195 - mape: 7720319.5000 - mae: 766.7195 - rmse: 13813.7090 - val_loss: 1393.4797 - val_mape: 41901864.0000 - val_mae: 1393.4797 - val_rmse: 30691.0645\n",
            "Epoch 41/80\n",
            "19/19 [==============================] - 5s 258ms/step - loss: 764.5900 - mape: 8425620.0000 - mae: 764.5900 - rmse: 13808.4111 - val_loss: 1393.4312 - val_mape: 43642528.0000 - val_mae: 1393.4312 - val_rmse: 30690.4961\n",
            "Epoch 42/80\n",
            "19/19 [==============================] - 5s 252ms/step - loss: 762.6679 - mape: 8761922.0000 - mae: 762.6679 - rmse: 13803.4355 - val_loss: 1393.3177 - val_mape: 44919524.0000 - val_mae: 1393.3176 - val_rmse: 30689.6895\n",
            "Epoch 43/80\n",
            "19/19 [==============================] - 5s 255ms/step - loss: 760.6500 - mape: 7868950.0000 - mae: 760.6500 - rmse: 13797.3887 - val_loss: 1393.3135 - val_mape: 48329436.0000 - val_mae: 1393.3134 - val_rmse: 30689.0664\n",
            "Epoch 44/80\n",
            "19/19 [==============================] - 5s 256ms/step - loss: 758.7780 - mape: 8270268.0000 - mae: 758.7780 - rmse: 13791.2871 - val_loss: 1392.9662 - val_mape: 50101592.0000 - val_mae: 1392.9662 - val_rmse: 30688.4512\n",
            "Epoch 45/80\n",
            "19/19 [==============================] - 5s 254ms/step - loss: 756.5978 - mape: 7837667.5000 - mae: 756.5978 - rmse: 13785.7002 - val_loss: 1392.8093 - val_mape: 53054224.0000 - val_mae: 1392.8093 - val_rmse: 30687.7637\n",
            "Epoch 46/80\n",
            "19/19 [==============================] - 5s 255ms/step - loss: 754.6480 - mape: 8386261.5000 - mae: 754.6480 - rmse: 13779.0205 - val_loss: 1392.6663 - val_mape: 55510252.0000 - val_mae: 1392.6663 - val_rmse: 30687.1191\n",
            "Epoch 47/80\n",
            "19/19 [==============================] - 5s 257ms/step - loss: 752.6086 - mape: 7953480.0000 - mae: 752.6086 - rmse: 13774.5186 - val_loss: 1393.0581 - val_mape: 55479668.0000 - val_mae: 1393.0582 - val_rmse: 30686.2012\n",
            "Epoch 48/80\n",
            "19/19 [==============================] - 5s 257ms/step - loss: 750.6522 - mape: 8048850.0000 - mae: 750.6522 - rmse: 13767.4336 - val_loss: 1392.5675 - val_mape: 57694084.0000 - val_mae: 1392.5675 - val_rmse: 30685.5293\n",
            "Epoch 49/80\n",
            "19/19 [==============================] - 5s 257ms/step - loss: 748.6402 - mape: 8041469.0000 - mae: 748.6402 - rmse: 13762.5039 - val_loss: 1391.9847 - val_mape: 60583460.0000 - val_mae: 1391.9847 - val_rmse: 30684.7871\n",
            "Epoch 50/80\n",
            "19/19 [==============================] - 5s 255ms/step - loss: 746.5737 - mape: 7795369.5000 - mae: 746.5737 - rmse: 13754.9375 - val_loss: 1391.9351 - val_mape: 62492624.0000 - val_mae: 1391.9349 - val_rmse: 30684.1621\n",
            "Epoch 51/80\n",
            "19/19 [==============================] - 5s 254ms/step - loss: 744.6362 - mape: 6730317.0000 - mae: 744.6362 - rmse: 13748.8467 - val_loss: 1392.2343 - val_mape: 61670888.0000 - val_mae: 1392.2344 - val_rmse: 30683.2539\n",
            "Epoch 52/80\n",
            "19/19 [==============================] - 5s 255ms/step - loss: 742.6339 - mape: 7409097.5000 - mae: 742.6339 - rmse: 13743.2920 - val_loss: 1391.9933 - val_mape: 62874328.0000 - val_mae: 1391.9933 - val_rmse: 30682.5039\n",
            "Epoch 53/80\n",
            "19/19 [==============================] - 5s 255ms/step - loss: 740.4747 - mape: 7567459.5000 - mae: 740.4747 - rmse: 13736.3535 - val_loss: 1392.4497 - val_mape: 63605964.0000 - val_mae: 1392.4497 - val_rmse: 30681.5254\n",
            "Epoch 54/80\n",
            "19/19 [==============================] - 5s 257ms/step - loss: 738.5078 - mape: 7182904.0000 - mae: 738.5078 - rmse: 13729.9678 - val_loss: 1392.2859 - val_mape: 65104240.0000 - val_mae: 1392.2860 - val_rmse: 30680.7305\n",
            "Epoch 55/80\n",
            "19/19 [==============================] - 5s 253ms/step - loss: 736.7972 - mape: 6787004.0000 - mae: 736.7972 - rmse: 13723.4707 - val_loss: 1391.7170 - val_mape: 66586040.0000 - val_mae: 1391.7170 - val_rmse: 30680.0547\n",
            "Epoch 56/80\n",
            "19/19 [==============================] - 5s 256ms/step - loss: 734.6036 - mape: 7449610.0000 - mae: 734.6036 - rmse: 13716.7334 - val_loss: 1391.4447 - val_mape: 66963528.0000 - val_mae: 1391.4447 - val_rmse: 30679.1797\n",
            "Epoch 57/80\n",
            "19/19 [==============================] - 5s 255ms/step - loss: 732.3676 - mape: 5984767.5000 - mae: 732.3676 - rmse: 13709.0078 - val_loss: 1392.2809 - val_mape: 66604252.0000 - val_mae: 1392.2809 - val_rmse: 30678.1875\n",
            "Epoch 58/80\n",
            "19/19 [==============================] - 5s 253ms/step - loss: 730.5720 - mape: 6212467.0000 - mae: 730.5720 - rmse: 13703.5713 - val_loss: 1391.8519 - val_mape: 67743192.0000 - val_mae: 1391.8519 - val_rmse: 30677.4473\n",
            "Epoch 59/80\n",
            "19/19 [==============================] - 5s 256ms/step - loss: 728.8571 - mape: 6576730.5000 - mae: 728.8571 - rmse: 13696.6357 - val_loss: 1392.1655 - val_mape: 67692424.0000 - val_mae: 1392.1654 - val_rmse: 30676.6367\n",
            "Epoch 60/80\n",
            "19/19 [==============================] - 5s 255ms/step - loss: 726.7682 - mape: 5843291.0000 - mae: 726.7682 - rmse: 13690.2178 - val_loss: 1391.5707 - val_mape: 68496840.0000 - val_mae: 1391.5707 - val_rmse: 30675.8262\n",
            "Epoch 61/80\n",
            "19/19 [==============================] - 5s 255ms/step - loss: 725.0323 - mape: 6407010.0000 - mae: 725.0323 - rmse: 13685.4004 - val_loss: 1391.6648 - val_mape: 68924208.0000 - val_mae: 1391.6648 - val_rmse: 30675.0996\n",
            "Epoch 62/80\n",
            "19/19 [==============================] - 5s 254ms/step - loss: 723.4940 - mape: 5812223.5000 - mae: 723.4940 - rmse: 13679.5674 - val_loss: 1391.6134 - val_mape: 69259296.0000 - val_mae: 1391.6134 - val_rmse: 30674.3438\n",
            "Epoch 63/80\n",
            "19/19 [==============================] - 5s 257ms/step - loss: 722.0020 - mape: 5897090.0000 - mae: 722.0020 - rmse: 13673.9473 - val_loss: 1391.5995 - val_mape: 69558664.0000 - val_mae: 1391.5995 - val_rmse: 30673.4395\n",
            "Epoch 64/80\n",
            "19/19 [==============================] - 5s 256ms/step - loss: 720.6960 - mape: 5742996.0000 - mae: 720.6960 - rmse: 13669.6611 - val_loss: 1391.2604 - val_mape: 70046368.0000 - val_mae: 1391.2604 - val_rmse: 30672.7812\n",
            "Epoch 65/80\n",
            "19/19 [==============================] - 5s 256ms/step - loss: 719.0851 - mape: 4950452.0000 - mae: 719.0851 - rmse: 13664.8281 - val_loss: 1391.0701 - val_mape: 70433216.0000 - val_mae: 1391.0699 - val_rmse: 30672.2090\n",
            "Epoch 66/80\n",
            "19/19 [==============================] - 5s 256ms/step - loss: 717.4971 - mape: 5245223.5000 - mae: 717.4971 - rmse: 13659.5127 - val_loss: 1391.2206 - val_mape: 70283936.0000 - val_mae: 1391.2206 - val_rmse: 30671.3887\n",
            "Epoch 67/80\n",
            "19/19 [==============================] - 5s 255ms/step - loss: 716.2988 - mape: 5408307.5000 - mae: 716.2988 - rmse: 13654.8564 - val_loss: 1390.6576 - val_mape: 70801184.0000 - val_mae: 1390.6576 - val_rmse: 30670.6699\n",
            "Epoch 68/80\n",
            "19/19 [==============================] - 5s 256ms/step - loss: 715.0258 - mape: 5567566.5000 - mae: 715.0258 - rmse: 13649.5518 - val_loss: 1391.1384 - val_mape: 70845728.0000 - val_mae: 1391.1384 - val_rmse: 30669.8594\n",
            "Epoch 69/80\n",
            "19/19 [==============================] - 5s 258ms/step - loss: 713.5938 - mape: 5758433.0000 - mae: 713.5938 - rmse: 13645.3242 - val_loss: 1390.8645 - val_mape: 70568224.0000 - val_mae: 1390.8645 - val_rmse: 30669.2461\n",
            "Epoch 70/80\n",
            "19/19 [==============================] - 5s 256ms/step - loss: 712.3610 - mape: 5739708.0000 - mae: 712.3610 - rmse: 13639.8574 - val_loss: 1390.1339 - val_mape: 71173560.0000 - val_mae: 1390.1339 - val_rmse: 30668.6641\n",
            "Epoch 71/80\n",
            "19/19 [==============================] - 5s 254ms/step - loss: 710.8200 - mape: 5726955.5000 - mae: 710.8200 - rmse: 13635.6377 - val_loss: 1390.6877 - val_mape: 70851176.0000 - val_mae: 1390.6877 - val_rmse: 30667.8965\n",
            "Epoch 72/80\n",
            "19/19 [==============================] - 5s 255ms/step - loss: 709.5275 - mape: 6061368.0000 - mae: 709.5275 - rmse: 13631.2725 - val_loss: 1390.2019 - val_mape: 71593848.0000 - val_mae: 1390.2019 - val_rmse: 30667.1816\n",
            "Epoch 73/80\n",
            "19/19 [==============================] - 5s 254ms/step - loss: 708.2802 - mape: 5361806.0000 - mae: 708.2802 - rmse: 13626.5596 - val_loss: 1389.7845 - val_mape: 71432920.0000 - val_mae: 1389.7845 - val_rmse: 30666.5293\n",
            "Epoch 74/80\n",
            "19/19 [==============================] - 5s 256ms/step - loss: 706.8870 - mape: 4698713.0000 - mae: 706.8870 - rmse: 13622.7676 - val_loss: 1389.5869 - val_mape: 70842032.0000 - val_mae: 1389.5869 - val_rmse: 30665.7383\n",
            "Epoch 75/80\n",
            "19/19 [==============================] - 5s 256ms/step - loss: 705.6341 - mape: 5105870.0000 - mae: 705.6341 - rmse: 13617.1553 - val_loss: 1389.7396 - val_mape: 71095928.0000 - val_mae: 1389.7396 - val_rmse: 30664.9707\n",
            "Epoch 76/80\n",
            "19/19 [==============================] - 5s 255ms/step - loss: 704.6851 - mape: 4526100.0000 - mae: 704.6851 - rmse: 13611.4590 - val_loss: 1389.0083 - val_mape: 71809008.0000 - val_mae: 1389.0084 - val_rmse: 30664.4141\n",
            "Epoch 77/80\n",
            "19/19 [==============================] - 5s 255ms/step - loss: 703.0411 - mape: 4566587.0000 - mae: 703.0411 - rmse: 13607.0781 - val_loss: 1389.1324 - val_mape: 71294328.0000 - val_mae: 1389.1324 - val_rmse: 30663.4707\n",
            "Epoch 78/80\n",
            "19/19 [==============================] - 5s 258ms/step - loss: 701.6516 - mape: 4227914.5000 - mae: 701.6516 - rmse: 13602.6045 - val_loss: 1388.7523 - val_mape: 71596416.0000 - val_mae: 1388.7523 - val_rmse: 30662.6406\n",
            "Epoch 79/80\n",
            "19/19 [==============================] - 5s 253ms/step - loss: 700.4636 - mape: 4096604.7500 - mae: 700.4636 - rmse: 13597.6328 - val_loss: 1388.6537 - val_mape: 70925944.0000 - val_mae: 1388.6537 - val_rmse: 30661.9238\n",
            "Epoch 80/80\n",
            "19/19 [==============================] - 5s 257ms/step - loss: 699.1246 - mape: 4620349.0000 - mae: 699.1246 - rmse: 13591.8867 - val_loss: 1388.1444 - val_mape: 71225400.0000 - val_mae: 1388.1444 - val_rmse: 30661.3613\n"
          ]
        }
      ]
    },
    {
      "cell_type": "code",
      "source": [
        "model.save('num_subjects_model_05_keras.keras')"
      ],
      "metadata": {
        "id": "5DLaUL_7gRIy"
      },
      "id": "5DLaUL_7gRIy",
      "execution_count": 91,
      "outputs": []
    },
    {
      "cell_type": "code",
      "source": [
        "model.save(\"/content/drive/MyDrive/data/num_subjects_model_05_keras.keras\")"
      ],
      "metadata": {
        "id": "lYKFZVGigRKg"
      },
      "id": "lYKFZVGigRKg",
      "execution_count": 92,
      "outputs": []
    },
    {
      "cell_type": "code",
      "source": [
        "results = model.evaluate(test_examples, test_labels)\n",
        "\n",
        "print(results)"
      ],
      "metadata": {
        "colab": {
          "base_uri": "https://localhost:8080/"
        },
        "id": "x6i0VsDEgdgm",
        "outputId": "da0ce424-35f6-4c10-83e6-14699d0425d6"
      },
      "id": "x6i0VsDEgdgm",
      "execution_count": 79,
      "outputs": [
        {
          "output_type": "stream",
          "name": "stdout",
          "text": [
            "34/34 [==============================] - 1s 25ms/step - loss: 1388.1444 - mape: 71225424.0000 - mae: 1388.1443 - rmse: 30661.3613\n",
            "[1388.1444091796875, 71225424.0, 1388.144287109375, 30661.361328125]\n"
          ]
        }
      ]
    },
    {
      "cell_type": "code",
      "source": [
        "history_dict = history.history\n",
        "history_dict.keys()"
      ],
      "metadata": {
        "colab": {
          "base_uri": "https://localhost:8080/"
        },
        "id": "6rg2XlFpgdi4",
        "outputId": "2b06f2c3-d7d8-40d0-897d-97d9ea94139a"
      },
      "id": "6rg2XlFpgdi4",
      "execution_count": 80,
      "outputs": [
        {
          "output_type": "execute_result",
          "data": {
            "text/plain": [
              "dict_keys(['loss', 'mape', 'mae', 'rmse', 'val_loss', 'val_mape', 'val_mae', 'val_rmse'])"
            ]
          },
          "metadata": {},
          "execution_count": 80
        }
      ]
    },
    {
      "cell_type": "code",
      "source": [
        "acc = history_dict['mape']\n",
        "val_acc = history_dict['val_mape']\n",
        "loss = history_dict['loss']\n",
        "val_loss = history_dict['val_loss']\n",
        "\n",
        "epochs = range(1, len(acc) + 1)\n",
        "\n",
        "# \"bo\" is for \"blue dot\"\n",
        "plt.plot(epochs, loss, 'bo', label='Training loss')\n",
        "# b is for \"solid blue line\"\n",
        "plt.plot(epochs, val_loss, 'b', label='Validation loss')\n",
        "plt.title('Training and validation loss')\n",
        "plt.xlabel('Epochs')\n",
        "plt.ylabel('Loss')\n",
        "plt.legend()\n",
        "\n",
        "plt.show()"
      ],
      "metadata": {
        "colab": {
          "base_uri": "https://localhost:8080/",
          "height": 295
        },
        "id": "6wjt4B0IgdlS",
        "outputId": "f320b55a-96c0-4425-9705-d589491f84ca"
      },
      "id": "6wjt4B0IgdlS",
      "execution_count": 81,
      "outputs": [
        {
          "output_type": "display_data",
          "data": {
            "text/plain": [
              "<Figure size 432x288 with 1 Axes>"
            ],
            "image/png": "[encoded data removed]"
          },
          "metadata": {
            "needs_background": "light"
          }
        }
      ]
    },
    {
      "cell_type": "code",
      "source": [
        "plt.clf()   # clear figure\n",
        "\n",
        "plt.plot(epochs, acc, 'bo', label='Training MAPE')\n",
        "plt.plot(epochs, val_acc, 'b', label='Validation MAPE')\n",
        "plt.title('Training and validation MAPE')\n",
        "plt.xlabel('Epochs')\n",
        "plt.ylabel('Accuracy')\n",
        "plt.legend()\n",
        "\n",
        "plt.show()"
      ],
      "metadata": {
        "colab": {
          "base_uri": "https://localhost:8080/",
          "height": 295
        },
        "id": "1p5i_Iiegdnj",
        "outputId": "6c3dd388-3b88-4f60-d32a-783156825438"
      },
      "id": "1p5i_Iiegdnj",
      "execution_count": 82,
      "outputs": [
        {
          "output_type": "display_data",
          "data": {
            "text/plain": [
              "<Figure size 432x288 with 1 Axes>"
            ],
            "image/png": "[encoded data removed]"
          },
          "metadata": {
            "needs_background": "light"
          }
        }
      ]
    },
    {
      "cell_type": "code",
      "source": [],
      "metadata": {
        "id": "DrpUa4NdgkI2"
      },
      "id": "DrpUa4NdgkI2",
      "execution_count": 82,
      "outputs": []
    },
    {
      "cell_type": "code",
      "source": [
        "input_texts= np.asarray(df_val.text)"
      ],
      "metadata": {
        "id": "iAx8Wx3IgkLL"
      },
      "id": "iAx8Wx3IgkLL",
      "execution_count": 83,
      "outputs": []
    },
    {
      "cell_type": "code",
      "source": [
        "pred_proba = model.predict(input_texts)"
      ],
      "metadata": {
        "colab": {
          "base_uri": "https://localhost:8080/"
        },
        "id": "weo-BkHPgkNI",
        "outputId": "33f7796c-81c2-45b6-e4fe-f250c80dbdd4"
      },
      "id": "weo-BkHPgkNI",
      "execution_count": 84,
      "outputs": [
        {
          "output_type": "stream",
          "name": "stdout",
          "text": [
            "34/34 [==============================] - 1s 16ms/step\n"
          ]
        }
      ]
    },
    {
      "cell_type": "code",
      "source": [],
      "metadata": {
        "id": "d7OoRswbRsYz"
      },
      "id": "d7OoRswbRsYz",
      "execution_count": 84,
      "outputs": []
    },
    {
      "cell_type": "code",
      "source": [
        "from sklearn.metrics import mean_absolute_error\n",
        "mean_absolute_error(df_val.num_subjects, pred_proba)"
      ],
      "metadata": {
        "colab": {
          "base_uri": "https://localhost:8080/"
        },
        "id": "WfgNdMjlRsbJ",
        "outputId": "d8f081cd-6fd3-488b-a1ed-eaa6cf4c637a"
      },
      "id": "WfgNdMjlRsbJ",
      "execution_count": 85,
      "outputs": [
        {
          "output_type": "execute_result",
          "data": {
            "text/plain": [
              "1388.1443481553536"
            ]
          },
          "metadata": {},
          "execution_count": 85
        }
      ]
    },
    {
      "cell_type": "code",
      "source": [],
      "metadata": {
        "id": "6dYBotjkRsdO"
      },
      "id": "6dYBotjkRsdO",
      "execution_count": 85,
      "outputs": []
    },
    {
      "cell_type": "code",
      "source": [
        "df_val[\"y_pred_num_subjects\"] = [get_num_subjects_clean(x[0]) for x in  pred_proba]"
      ],
      "metadata": {
        "colab": {
          "base_uri": "https://localhost:8080/"
        },
        "id": "lKk_zrR1RW7j",
        "outputId": "9b5bf3f7-95f8-44fc-f4ea-458a31b33890"
      },
      "id": "lKk_zrR1RW7j",
      "execution_count": 86,
      "outputs": [
        {
          "output_type": "stream",
          "name": "stderr",
          "text": [
            "/usr/local/lib/python3.7/dist-packages/ipykernel_launcher.py:1: SettingWithCopyWarning: \n",
            "A value is trying to be set on a copy of a slice from a DataFrame.\n",
            "Try using .loc[row_indexer,col_indexer] = value instead\n",
            "\n",
            "See the caveats in the documentation: https://pandas.pydata.org/pandas-docs/stable/user_guide/indexing.html#returning-a-view-versus-a-copy\n",
            "  \"\"\"Entry point for launching an IPython kernel.\n"
          ]
        }
      ]
    },
    {
      "cell_type": "code",
      "source": [
        "plt.hist(df_val.num_subjects, range=(0,1000),bins=100, alpha=0.5 )\n",
        "plt.hist(pred_proba, range=(0,1000),bins=100, alpha=0.5 )"
      ],
      "metadata": {
        "id": "DbBjX9-agkVH",
        "colab": {
          "base_uri": "https://localhost:8080/",
          "height": 629
        },
        "outputId": "3868905a-f639-4dab-c32f-c006c8abd1c3"
      },
      "id": "DbBjX9-agkVH",
      "execution_count": 87,
      "outputs": [
        {
          "output_type": "execute_result",
          "data": {
            "text/plain": [
              "(array([43., 53., 55., 58., 65., 63., 49., 52., 41., 30., 25., 37., 20.,\n",
              "        15., 18., 19., 13., 12.,  9.,  9., 12., 15., 10.,  8.,  7.,  9.,\n",
              "         9., 11.,  6.,  5.,  7.,  4.,  3.,  4.,  8.,  5.,  6.,  4.,  6.,\n",
              "         1.,  6.,  5.,  5.,  2.,  3.,  3.,  3.,  5.,  4.,  3.,  3.,  1.,\n",
              "         2.,  3.,  2.,  6.,  5.,  4.,  2.,  3.,  3.,  2.,  0.,  3.,  1.,\n",
              "         2.,  2.,  2.,  2.,  3.,  0.,  0.,  0.,  5.,  3.,  3.,  2.,  0.,\n",
              "         5.,  2.,  1.,  1.,  1.,  1.,  1.,  1.,  1.,  1.,  5.,  1.,  3.,\n",
              "         0.,  2.,  1.,  0.,  2.,  2.,  1.,  0.,  0.]),\n",
              " array([   0.,   10.,   20.,   30.,   40.,   50.,   60.,   70.,   80.,\n",
              "          90.,  100.,  110.,  120.,  130.,  140.,  150.,  160.,  170.,\n",
              "         180.,  190.,  200.,  210.,  220.,  230.,  240.,  250.,  260.,\n",
              "         270.,  280.,  290.,  300.,  310.,  320.,  330.,  340.,  350.,\n",
              "         360.,  370.,  380.,  390.,  400.,  410.,  420.,  430.,  440.,\n",
              "         450.,  460.,  470.,  480.,  490.,  500.,  510.,  520.,  530.,\n",
              "         540.,  550.,  560.,  570.,  580.,  590.,  600.,  610.,  620.,\n",
              "         630.,  640.,  650.,  660.,  670.,  680.,  690.,  700.,  710.,\n",
              "         720.,  730.,  740.,  750.,  760.,  770.,  780.,  790.,  800.,\n",
              "         810.,  820.,  830.,  840.,  850.,  860.,  870.,  880.,  890.,\n",
              "         900.,  910.,  920.,  930.,  940.,  950.,  960.,  970.,  980.,\n",
              "         990., 1000.], dtype=float32),\n",
              " <a list of 100 Patch objects>)"
            ]
          },
          "metadata": {},
          "execution_count": 87
        },
        {
          "output_type": "display_data",
          "data": {
            "text/plain": [
              "<Figure size 432x288 with 1 Axes>"
            ],
            "image/png": "[encoded data removed]"
          },
          "metadata": {
            "needs_background": "light"
          }
        }
      ]
    },
    {
      "cell_type": "markdown",
      "source": [
        "## Subjects"
      ],
      "metadata": {
        "id": "lLWC7P1k5NSX"
      },
      "id": "lLWC7P1k5NSX"
    },
    {
      "cell_type": "code",
      "source": [
        "acc = accuracy_score(df_val.num_subjects_clean, df_val[\"y_pred_num_subjects\"])\n",
        "print (f\"Subjects accuracy {acc}\")"
      ],
      "metadata": {
        "id": "rYhLhDmnNuAl",
        "outputId": "b7ec226e-933b-4faf-8827-d1dda517b13f",
        "colab": {
          "base_uri": "https://localhost:8080/"
        }
      },
      "id": "rYhLhDmnNuAl",
      "execution_count": 88,
      "outputs": [
        {
          "output_type": "stream",
          "name": "stdout",
          "text": [
            "Subjects accuracy 0.3032258064516129\n"
          ]
        }
      ]
    },
    {
      "cell_type": "code",
      "source": [
        "ConfusionMatrixDisplay.from_predictions(df_val.num_subjects_clean, df_val[\"y_pred_num_subjects\"], labels=num_subjects_list)\n",
        "plt.xticks(rotation=90)\n",
        ";"
      ],
      "metadata": {
        "id": "XOiQVXB0NuHC",
        "outputId": "4c6fd591-a77a-44a1-ece3-c31371748e72",
        "colab": {
          "base_uri": "https://localhost:8080/",
          "height": 328
        }
      },
      "id": "XOiQVXB0NuHC",
      "execution_count": 89,
      "outputs": [
        {
          "output_type": "execute_result",
          "data": {
            "text/plain": [
              "''"
            ],
            "application/vnd.google.colaboratory.intrinsic+json": {
              "type": "string"
            }
          },
          "metadata": {},
          "execution_count": 89
        },
        {
          "output_type": "display_data",
          "data": {
            "text/plain": [
              "<Figure size 432x288 with 2 Axes>"
            ],
            "image/png": "[encoded data removed]"
          },
          "metadata": {
            "needs_background": "light"
          }
        }
      ]
    },
    {
      "cell_type": "code",
      "source": [
        "num_correct = 0\n",
        "for idx in range(len(df_val)):\n",
        "  gt = num_subjects_clean_map[df_val[\"num_subjects_clean\"].iloc[idx]]\n",
        "  pred = num_subjects_clean_map[df_val[\"y_pred_num_subjects\"].iloc[idx]]\n",
        "  is_correct = int(np.abs(gt - pred) <= 1)\n",
        "  num_correct += is_correct\n",
        "print (\"Accuracy including adjacent groups\", num_correct/len(df_val))"
      ],
      "metadata": {
        "colab": {
          "base_uri": "https://localhost:8080/"
        },
        "id": "VzFHDCRtmBA6",
        "outputId": "8011b4ff-28f9-4dfb-e77d-87c04f64fb78"
      },
      "id": "VzFHDCRtmBA6",
      "execution_count": 90,
      "outputs": [
        {
          "output_type": "stream",
          "name": "stdout",
          "text": [
            "Accuracy including adjacent groups 0.6811059907834102\n"
          ]
        }
      ]
    },
    {
      "cell_type": "code",
      "source": [],
      "metadata": {
        "id": "1MU1NT4T_DLO"
      },
      "id": "1MU1NT4T_DLO",
      "execution_count": 90,
      "outputs": []
    }
  ],
  "metadata": {
    "colab": {
      "provenance": [],
      "machine_shape": "hm",
      "include_colab_link": true
    },
    "kernelspec": {
      "display_name": "conda_tensorflow_p36",
      "language": "python",
      "name": "conda_tensorflow_p36"
    },
    "language_info": {
      "codemirror_mode": {
        "name": "ipython",
        "version": 3
      },
      "file_extension": ".py",
      "mimetype": "text/x-python",
      "name": "python",
      "nbconvert_exporter": "python",
      "pygments_lexer": "ipython3",
      "version": "3.6.13"
    },
    "accelerator": "GPU",
    "gpuClass": "premium"
  },
  "nbformat": 4,
  "nbformat_minor": 5
}