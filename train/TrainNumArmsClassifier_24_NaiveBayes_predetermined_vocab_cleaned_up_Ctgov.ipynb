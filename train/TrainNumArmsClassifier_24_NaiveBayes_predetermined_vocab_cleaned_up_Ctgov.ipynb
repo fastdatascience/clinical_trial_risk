{
  "cells": [
    {
      "cell_type": "markdown",
      "metadata": {
        "id": "view-in-github",
        "colab_type": "text"
      },
      "source": [
        "<a href=\"https://colab.research.google.com/github/fastdatascience/clinical_trial_risk/blob/fixes_nov_2022/train/ctgov/TrainNumArmsClassifier_24_NaiveBayes_predetermined_vocab_cleaned_up.ipynb\" target=\"_parent\"><img src=\"https://colab.research.google.com/assets/colab-badge.svg\" alt=\"Open In Colab\"/></a>"
      ]
    },
    {
      "cell_type": "markdown",
      "metadata": {
        "id": "3fe820cd"
      },
      "source": [
        "<a href=\"https://colab.research.google.com/github/fastdatascience/clinical_trial_risk/blob/fixes_nov_2022/train/ctgov/TrainNumArmsClassifier_23_NaiveBayes_predetermined_vocab.ipynb\" target=\"_parent\"><img src=\"https://colab.research.google.com/assets/colab-badge.svg\" alt=\"Open In Colab\"/></a>"
      ],
      "id": "3fe820cd"
    },
    {
      "cell_type": "code",
      "execution_count": null,
      "metadata": {
        "id": "0557d6c8"
      },
      "outputs": [],
      "source": [
        "import spacy\n",
        "import pandas as pd\n",
        "import re\n",
        "import os\n",
        "import sys\n",
        "import pickle as pkl\n",
        "import seaborn as sns\n",
        "from sklearn.metrics import accuracy_score, confusion_matrix\n",
        "from sklearn.metrics import ConfusionMatrixDisplay\n",
        "from sklearn.metrics import mean_absolute_error, mean_squared_error\n",
        "from sklearn.metrics import roc_auc_score\n",
        "from sklearn.metrics import roc_curve, auc\n",
        "from IPython.display import display\n",
        "import matplotlib.pyplot as plt\n",
        "import numpy as np\n",
        "import json\n",
        "\n",
        "from nltk.corpus import stopwords\n",
        "from nltk.tokenize import RegexpTokenizer\n",
        "from sklearn.ensemble import RandomForestClassifier\n",
        "from sklearn.feature_extraction.text import CountVectorizer, TfidfTransformer\n",
        "from sklearn.metrics import accuracy_score, auc, roc_curve\n",
        "from sklearn.model_selection import cross_validate\n",
        "from sklearn.naive_bayes import MultinomialNB\n",
        "from sklearn.pipeline import make_pipeline"
      ],
      "id": "0557d6c8"
    },
    {
      "cell_type": "code",
      "execution_count": null,
      "metadata": {
        "colab": {
          "base_uri": "https://localhost:8080/"
        },
        "id": "mG8gR8O6QXgX",
        "outputId": "bd63d5ca-32ba-4056-8c21-c72dc0c4a629"
      },
      "outputs": [
        {
          "name": "stdout",
          "output_type": "stream",
          "text": [
            "Mounted at /content/drive\n"
          ]
        }
      ],
      "source": [
        "from google.colab import drive\n",
        "drive.mount('/content/drive')"
      ],
      "id": "mG8gR8O6QXgX"
    },
    {
      "cell_type": "code",
      "execution_count": null,
      "metadata": {
        "id": "HyXyGuD_P6s7"
      },
      "outputs": [],
      "source": [
        "df_annotations = pd.read_csv(\"/content/drive/MyDrive/data/all_annotations.csv\")\n"
      ],
      "id": "HyXyGuD_P6s7"
    },
    {
      "cell_type": "markdown",
      "metadata": {
        "id": "4b2e7a73"
      },
      "source": [
        "# Get data"
      ],
      "id": "4b2e7a73"
    },
    {
      "cell_type": "code",
      "execution_count": null,
      "metadata": {
        "id": "pdjdb4_wYeyG"
      },
      "outputs": [],
      "source": [
        "vocab = {\"cancer\",\"tumor\",\"ati\",\"carfilzomib\",\"hcc\",\"dose\",\"grade\",\"cell\",\"response\",\"df\",\"hcc\",\"trametinib\",\"tho\",\"riz\",\"pet\",\"ct\",\"relapsed\",\"cycle\",\"myeloma\",\"eisai\",\"reo\",\"lymphoma\",\"emtansine\",\"ctcae\",\"measurable\",\"trastuzumab\",\"gvhd\",\"stem\",\"ctep\",\"recist\",\"transplantation\",\"cell\",\"lung\",\"erlotinib\",\"everolimus\",\"gdc\",\"lenalidomide\",\"fludarabine\",\"fdg\",\"acalabrutinib\",\"bortezomib\",\"metastatic\",\"cytometry\",\"tumors\",\"cell\",\"lymphoma\",\"solid\",\"lesions\",\"lymph\",\"solid\",\"tumors\",\"mrd\",\"pazopanib\",\"oncol\",\"marrow\",\"bone\",\"marrow\",\"opy\",\"diameters\",\"cll\",\"refractory\",\"prostate\",\"cancer\",\"center\",\"cell\",\"transplantation\",\"relapsed\",\"refractory\",\"hodgkin\",\"advanced\",\"paclitaxel\",\"ark\",\"eti\",\"pli\",\"nci\",\"pembrolizumab\",\"nhl\",\"avelumab\",\"node\",\"multiple\",\"myeloma\",\"conditioning\",\"eti\",\"cooperative\",\"hpv\",\"toxicity\",\"sof\",\"ovarian\",\"donor\",\"ecog\",\"abt\",\"correlative\",\"neoadjuvant\",\"dlbcl\",\"ovarian\",\"cancer\",\"ucb\",\"carcinoma\",\"radiation\",\"adverse\",\"immune\",\"stem\",\"cell\",\"neutrophil\",\"autologous\",\"allogeneic\",\"oncology\",\"nodes\",\"capecitabine\",\"bevacizumab\",\"lymph\",\"nodes\",\"pd\",\"therapy\",\"rituximab\",\"gemcitabine\",\"leukemia\",\"limiting\",\"dose\",\"dose\",\"trastuzumab\",\"emtansine\",\"hla\",\"eisai\",\"final\",\"irinotecan\",\"progression\",\"hcv\",\"hct\",\"dsmc\",\"nab\",\"paclitaxel\",\"cmv\",\"monoclonal\",\"ipilimumab\",\"colorectal\",\"alfa\",\"progressive\",\"hematopoietic\",\"measurable\",\"lesions\",\"pd\",\"myeloid\",\"cells\",\"cyclophosphamide\",\"tyrosine\",\"cisplatin\",\"nab\",\"eastern\",\"her\",\"ctep\",\"cancer\",\"bmt\",\"aml\",\"spleen\",\"androgen\",\"stable\",\"disease\",\"measurable\",\"disease\",\"antitumor\",\"every\",\"grade\",\"survival\",\"locally\",\"advanced\",\"cu\",\"men\",\"phase\",\"progression\",\"free\",\"immune\",\"related\",\"eti\",\"partial\",\"response\",\"lesion\",\"osi\",\"nodal\",\"complete\",\"response\",\"flow\",\"cytometry\",\"rt\",\"alk\",\"target\",\"lesions\",\"tumor\",\"cells\",\"nsclc\",\"clin\",\"oncol\",\"aspirate\",\"small\",\"cell\",\"ctc\",\"permanently\",\"fdg\",\"pet\",\"melanoma\",\"stage\",\"pli\",\"ca\",\"bone\",\"unacceptable\",\"nk\",\"squamous\",\"consolidation\",\"alopecia\",\"radiation\",\"therapy\",\"prostate\",\"cancer\",\"cetuximab\",\"tumor\",\"response\",\"amgen\",\"metastases\",\"cit\",\"response\",\"cr\",\"mutations\",\"pneumonitis\",\"colorectal\",\"cancer\",\"ert\",\"progressive\",\"disease\",\"response\",\"criteria\",\"best\",\"response\",\"free\",\"survival\",\"staging\",\"ca\",\"tio\",\"sorafenib\",\"response\",\"rate\",\"radiotherapy\",\"transplant\",\"ion\",  \"longest\",\"metastasis\",\"ort\",\"tissue\",\"mds\",\"sum\",\"limiting\",\"toxicity\",\"anti\",\"pd\",\"unequivocal\",\"pn\",\"lung\",\"cancer\",\"imaging\",\"rt\",\"ny\",\"duration\",\"response\",\"ctcae\",\"grade\",\"anti\",\"tumor\",\"anc\",\"dose\",\"lung\",\"pd\",\"l\",\"ctsu\",\"dlts\",\"lymph\",\"node\",\"graft\",\"neutropenia\",\"breast\",\"nivolumab\",\"unacceptable\",\"toxicity\",\"response\",\"evaluation\",\"dose\",\"reductions\",\"anti\",\"cancer\",\"cytotoxic\",\"tremelimumab\",\"phase\",\"ii\",\"ct\",\"mri\",\"placebo\",\"randomized\",\"sars\",\"dapagliflozin\",\"nordisk\",\"blind\",\"visit\",\"icu\",\"diabetes\",\"analysis\",\"crit\",\"randomisation\",\"ncbi\",\"nlm\",\"ketamine\",\"postoperative\",\"mi\",\"randomization\",\"inferiority\",\"medical\",\"opioid\",\"hypoglycemia\",\"double\",\"matching\",\"prior\",\"randomization\",\"type\",\"crossover\",\"outcomes\",\"randomized\",\"controlled\",\"metformin\",\"matching\",\"placebo\",\"smoking\",\"atezolizumab\",\"antidepressant\",\"controlled\",\"intervention\",\"sided\",\"heart\",\"hospitalized\",\"related\",\"quality\",\"copd\",\"insulin\",\"randomized\",\"mellitus\",\"randomized\",\"placebo\",\"ancova\",\"stratified\",\"efficacy\",\"meta\",\"randomly\",\"ratio\",\"blind\",\"period\",\"discharge\",\"unblinding\",\"unblinded\",\"compared\",\"placebo\",\"analyses\",\"randomized\",\"double\",\"randomized\",\"receive\",\"standard\",\"care\",\"itt\",\"versus\",\"placebo\",\"diabetic\",\"dialysis\",\"blind\",\"placebo\",\"superiority\",\"medication\",\"side\",\"ci\",\"control\",\"compare\",\"random\",\"key\",\"secondary\",\"statistical\",\"randomised\",\"adverse\",\"systematic\",\"statistically\",\"standard\",\"allocated\",\"double\",\"blind\",\"morbidity\",\"placebo\",\"controlled\",\"block\",\"computer\",\"cox\",\"rank\",\"interim\",\"two\",\"scores\",\"procedures\",\"cf\",\"test\",\"hypothesis\",\"sample\",\"one\",\"affiliated\",\"endpoint\",\"monitoring\",\"board\",\"hipaa\",\"one\",\"two\",\"sided\",\"bias\",\"versus\",\"cv\",\"significance\",\"visit\",\"diabetes\",\"mellitus\",\"comparing\",\"recruited\",\"room\",\"surgery\",\"dysfunction\",\"qol\",\"outcome\",\"hb\",\"tr\",\"assumptions\",\"covariates\",\"coordinator\",\"comparator\",\"analysed\",\"prevalence\",\"endpoints\",\"events\",\"recruitment\",\"adverse\",\"effects\",\"statistician\",\"key\",\"feasibility\",\"parallel\",\"criteria\",\"measures\",\"sr\",\"benefit\",\"clinic\",\"effectiveness\",\"informed\",\"function\",\"regression\",\"secondary\",\"committee\",\"detect\",\"intent\",\"treat\",\"to\",\"blinding\",\"cross\",\"hazard\",\"ratio\",\"standard\",\"deviation\",\"hypotheses\",\"amendment\",\"final\",\"placebo\",\"visit\",\"redacted\",\"incorporating\",\"safety\",\"final\",\"triplicate\",\"randomisation\",\"stopping\",\"criteria\",\"schedule\",\"activities\",\"randomized\",\"amended\",\"version\",\"unblinded\",\"double\",\"analyses\",\"concentration\",\"curve\",\"tmax\",\"efficacy\",\"versus\",\"placebo\",\"dose\",\"escalation\",\"pharmacokinetic\",\"pharmacodynamic\",\"prior\",\"dosing\",\"adjudication\",\"randomization\",\"schedule\",\"procedures\",\"objectives\",\"endpoints\",\"strictly\",\"screening\",\"day\",\"samples\",\"may\",\"prior\",\"baseline\",\"social\",\"functional\",\"chemistry\",\"database\",\"lock\",\"exploratory\",\"termination\",\"visit\",\"dose\",\"administration\",\"exclusion\",\"criterion\",\"clinical\",\"tests\",\"follow\",\"assessments\",\"nonclinical\",\"adaptive\",\"randomly\",\"vendor\",\"emergent\",\"investigational\",\"products\",\"tolerability\",\"allocated\",\"bioavailability\",\"prior\",\"randomization\",\"clinical\",\"chemistry\",\"baseline\",\"value\",\"safety\",\"tolerability\",\"monotherapy\",\"starting\",\"dose\",\"reading\",\"interactive\",\"tables\",\"ideation\",\"schedule\",\"assessments\",\"blind\",\"placebo\",\"hypotheses\",\"follow\",\"visit\",\"randomized\",\"double\",\"secondary\",\"efficacy\",\"normalized\",\"ratio\",\"exploratory\",\"endpoints\",\"changes\",\"baseline\",\"efficacy\",\"endpoints\",\"crossover\",\"inferiority\",\"scheduled\",\"visits\",\"efficacy\",\"analysis\"}"
      ],
      "id": "pdjdb4_wYeyG"
    },
    {
      "cell_type": "code",
      "execution_count": null,
      "metadata": {
        "colab": {
          "base_uri": "https://localhost:8080/"
        },
        "id": "32b3f17b",
        "outputId": "64b4f48c-b82e-41ef-a92f-0eb355b4bfb6"
      },
      "outputs": [
        {
          "name": "stdout",
          "output_type": "stream",
          "text": [
            "hcc\n",
            "heart\n",
            "tremelimumab\n",
            "ci\n",
            "strictly\n",
            "final\n",
            "starting\n",
            "changes\n",
            "leukemia\n",
            "free\n",
            "visit\n",
            "recruited\n",
            "nivolumab\n",
            "capecitabine\n",
            "blind\n",
            "sr\n",
            "criterion\n",
            "ctep\n",
            "pharmacokinetic\n",
            "cytometry\n",
            "diameters\n",
            "donor\n",
            "informed\n",
            "cv\n",
            "alopecia\n",
            "placebo\n",
            "monotherapy\n",
            "neutropenia\n",
            "hipaa\n",
            "measurable\n",
            "metastatic\n",
            "paclitaxel\n",
            "intent\n",
            "morbidity\n",
            "analyses\n",
            "partial\n",
            "cox\n",
            "postoperative\n",
            "graft\n",
            "measures\n",
            "aspirate\n",
            "progressive\n",
            "atezolizumab\n",
            "tables\n",
            "metastasis\n",
            "ort\n",
            "ratio\n",
            "bevacizumab\n",
            "parallel\n",
            "randomly\n",
            "surgery\n",
            "amendment\n",
            "ancova\n",
            "ny\n",
            "randomisation\n",
            "every\n",
            "follow\n",
            "treat\n",
            "tr\n",
            "nsclc\n",
            "ncbi\n",
            "pharmacodynamic\n",
            "investigational\n",
            "allogeneic\n",
            "ctsu\n",
            "incorporating\n",
            "tumor\n",
            "marrow\n",
            "copd\n",
            "metformin\n",
            "screening\n",
            "nhl\n",
            "multiple\n",
            "lymph\n",
            "tio\n",
            "feasibility\n",
            "committee\n",
            "tests\n",
            "sided\n",
            "acalabrutinib\n",
            "pn\n",
            "limiting\n",
            "hla\n",
            "osi\n",
            "effectiveness\n",
            "dysfunction\n",
            "hcv\n",
            "lung\n",
            "cell\n",
            "nlm\n",
            "prostate\n",
            "relapsed\n",
            "hazard\n",
            "pazopanib\n",
            "target\n",
            "rank\n",
            "related\n",
            "melanoma\n",
            "administration\n",
            "cells\n",
            "center\n",
            "erlotinib\n",
            "events\n",
            "lenalidomide\n",
            "unequivocal\n",
            "endpoint\n",
            "gemcitabine\n",
            "benefit\n",
            "curve\n",
            "ovarian\n",
            "hospitalized\n",
            "test\n",
            "recruitment\n",
            "abt\n",
            "imaging\n",
            "ctc\n",
            "hypothesis\n",
            "neutrophil\n",
            "sample\n",
            "monoclonal\n",
            "key\n",
            "function\n",
            "adverse\n",
            "grade\n",
            "tumors\n",
            "randomized\n",
            "assumptions\n",
            "bortezomib\n",
            "unacceptable\n",
            "assessments\n",
            "cit\n",
            "version\n",
            "unblinded\n",
            "cisplatin\n",
            "medical\n",
            "schedule\n",
            "clinical\n",
            "redacted\n",
            "radiation\n",
            "medication\n",
            "objectives\n",
            "amended\n",
            "samples\n",
            "ct\n",
            "l\n",
            "cr\n",
            "chemistry\n",
            "hypotheses\n",
            "pneumonitis\n",
            "ark\n",
            "men\n",
            "mutations\n",
            "crit\n",
            "response\n",
            "opioid\n",
            "consolidation\n",
            "versus\n",
            "triplicate\n",
            "mellitus\n",
            "detect\n",
            "superiority\n",
            "exploratory\n",
            "comparing\n",
            "regression\n",
            "coordinator\n",
            "stratified\n",
            "solid\n",
            "outcome\n",
            "outcomes\n",
            "immune\n",
            "discharge\n",
            "oncol\n",
            "hypoglycemia\n",
            "effects\n",
            "stem\n",
            "allocated\n",
            "two\n",
            "eastern\n",
            "secondary\n",
            "small\n",
            "safety\n",
            "stopping\n",
            "recist\n",
            "cycle\n",
            "comparator\n",
            "functional\n",
            "her\n",
            "emergent\n",
            "interactive\n",
            "therapy\n",
            "dsmc\n",
            "prior\n",
            "eisai\n",
            "avelumab\n",
            "fdg\n",
            "gdc\n",
            "controlled\n",
            "control\n",
            "nab\n",
            "criteria\n",
            "crossover\n",
            "carcinoma\n",
            "emtansine\n",
            "adjudication\n",
            "hodgkin\n",
            "oncology\n",
            "may\n",
            "inferiority\n",
            "products\n",
            "statistical\n",
            "disease\n",
            "ii\n",
            "interim\n",
            "ketamine\n",
            "breast\n",
            "permanently\n",
            "care\n",
            "board\n",
            "baseline\n",
            "rt\n",
            "receive\n",
            "opy\n",
            "antitumor\n",
            "radiotherapy\n",
            "cmv\n",
            "rituximab\n",
            "nodes\n",
            "tho\n",
            "clin\n",
            "staging\n",
            "ipilimumab\n",
            "compare\n",
            "mds\n",
            "qol\n",
            "pembrolizumab\n",
            "sof\n",
            "ctcae\n",
            "trametinib\n",
            "ucb\n",
            "autologous\n",
            "complete\n",
            "clinic\n",
            "block\n",
            "adaptive\n",
            "toxicity\n",
            "day\n",
            "reading\n",
            "mi\n",
            "longest\n",
            "conditioning\n",
            "dlbcl\n",
            "unblinding\n",
            "dosing\n",
            "tmax\n",
            "lock\n",
            "standard\n",
            "hct\n",
            "value\n",
            "covariates\n",
            "best\n",
            "everolimus\n",
            "stable\n",
            "duration\n",
            "procedures\n",
            "pd\n",
            "riz\n",
            "survival\n",
            "bmt\n",
            "cross\n",
            "ecog\n",
            "metastases\n",
            "tissue\n",
            "efficacy\n",
            "room\n",
            "ideation\n",
            "cetuximab\n",
            "transplantation\n",
            "colorectal\n",
            "squamous\n",
            "mrd\n",
            "amgen\n",
            "compared\n",
            "anti\n",
            "lymphoma\n",
            "nodal\n",
            "ati\n",
            "neoadjuvant\n",
            "alfa\n",
            "bias\n",
            "pet\n",
            "side\n",
            "activities\n",
            "fludarabine\n",
            "concentration\n",
            "rate\n",
            "gvhd\n",
            "transplant\n",
            "correlative\n",
            "insulin\n",
            "hb\n",
            "blinding\n",
            "one\n",
            "cll\n",
            "scores\n",
            "cancer\n",
            "lesion\n",
            "exclusion\n",
            "eti\n",
            "refractory\n",
            "randomised\n",
            "type\n",
            "alk\n",
            "myeloid\n",
            "nordisk\n",
            "tolerability\n",
            "cu\n",
            "mri\n",
            "analysis\n",
            "sum\n",
            "analysed\n",
            "social\n",
            "cyclophosphamide\n",
            "ion\n",
            "diabetes\n",
            "database\n",
            "quality\n",
            "cooperative\n",
            "deviation\n",
            "statistician\n",
            "monitoring\n",
            "termination\n",
            "df\n",
            "randomization\n",
            "stage\n",
            "ert\n",
            "smoking\n",
            "vendor\n",
            "locally\n",
            "systematic\n",
            "endpoints\n",
            "affiliated\n",
            "bone\n",
            "hpv\n",
            "random\n",
            "node\n",
            "cytotoxic\n",
            "dapagliflozin\n",
            "phase\n",
            "flow\n",
            "dlts\n",
            "computer\n",
            "double\n",
            "to\n",
            "spleen\n",
            "bioavailability\n",
            "myeloma\n",
            "aml\n",
            "trastuzumab\n",
            "itt\n",
            "normalized\n",
            "reo\n",
            "dialysis\n",
            "irinotecan\n",
            "dose\n",
            "antidepressant\n",
            "evaluation\n",
            "statistically\n",
            "tyrosine\n",
            "sorafenib\n",
            "escalation\n",
            "period\n",
            "progression\n",
            "androgen\n",
            "anc\n",
            "prevalence\n",
            "sars\n",
            "hematopoietic\n",
            "nci\n",
            "intervention\n",
            "nk\n",
            "matching\n",
            "nonclinical\n",
            "lesions\n",
            "carfilzomib\n",
            "icu\n",
            "reductions\n",
            "visits\n",
            "significance\n",
            "scheduled\n",
            "pli\n",
            "advanced\n",
            "ca\n",
            "meta\n",
            "diabetic\n",
            "cf\n"
          ]
        }
      ],
      "source": [
        "for v in vocab:\n",
        "    print (v)"
      ],
      "id": "32b3f17b"
    },
    {
      "cell_type": "code",
      "execution_count": null,
      "metadata": {
        "id": "B_ujycyl5_ig"
      },
      "outputs": [],
      "source": [
        "# import nltk\n",
        "# nltk.download('stopwords')"
      ],
      "id": "B_ujycyl5_ig"
    },
    {
      "cell_type": "code",
      "execution_count": null,
      "metadata": {
        "id": "nAdPJr9a8QNM"
      },
      "outputs": [],
      "source": [
        "# vocab = set(stopwords.words('english')).union(vocab)"
      ],
      "id": "nAdPJr9a8QNM"
    },
    {
      "cell_type": "code",
      "execution_count": null,
      "metadata": {
        "id": "Dyj4wdIw8YZ3"
      },
      "outputs": [],
      "source": [
        "for w in \"arm\", \"group\", \"subgroup\", \"cohort\":\n",
        "  vocab.add(w)\n",
        "  vocab.add(w + \"s\")\n",
        "vocab.add(\"armed\")\n"
      ],
      "id": "Dyj4wdIw8YZ3"
    },
    {
      "cell_type": "code",
      "execution_count": null,
      "metadata": {
        "id": "KaXPDiVA8m_V"
      },
      "outputs": [],
      "source": [
        "for w in \"one\", \"two\", \"three\", \"four\", \"five\", \"six\", \"seven\", \"eight\", \"nine\", \"ten\", \"single\", \"double\":\n",
        "  vocab.add(w)"
      ],
      "id": "KaXPDiVA8m_V"
    },
    {
      "cell_type": "code",
      "execution_count": null,
      "metadata": {
        "id": "19i_VLHz8tws"
      },
      "outputs": [],
      "source": [
        "for w in range(1, 11):\n",
        "  vocab.add(str(w))"
      ],
      "id": "19i_VLHz8tws"
    },
    {
      "cell_type": "code",
      "execution_count": null,
      "metadata": {
        "id": "c8ebd7a5"
      },
      "outputs": [],
      "source": [
        "with open(\"/content/drive/MyDrive/data/protocols.pkl.gz\", \"rb\") as f:\n",
        "    file_to_pages = pkl.load(f)"
      ],
      "id": "c8ebd7a5"
    },
    {
      "cell_type": "code",
      "execution_count": null,
      "metadata": {
        "id": "qftiTgt7JGwL"
      },
      "outputs": [],
      "source": [
        "import operator\n",
        "texts = []\n",
        "\n",
        "for i in range(len(df_annotations)):\n",
        "    file_name = df_annotations.file.iloc[i]\n",
        "    \n",
        "    pages= file_to_pages[file_name]\n",
        "\n",
        "    texts.append(\" \".join(pages))\n",
        "df_annotations[\"text\"] = texts"
      ],
      "id": "qftiTgt7JGwL"
    },
    {
      "cell_type": "code",
      "execution_count": null,
      "metadata": {
        "id": "93361b2c"
      },
      "outputs": [],
      "source": [
        " del file_to_pages"
      ],
      "id": "93361b2c"
    },
    {
      "cell_type": "code",
      "execution_count": null,
      "metadata": {
        "id": "9fbe5bf0",
        "scrolled": true
      },
      "outputs": [],
      "source": [
        "df_annotations = df_annotations[~df_annotations.num_arms.isna()]"
      ],
      "id": "9fbe5bf0"
    },
    {
      "cell_type": "code",
      "execution_count": null,
      "metadata": {
        "colab": {
          "base_uri": "https://localhost:8080/"
        },
        "id": "dDY3uTsbLe4K",
        "outputId": "4f2d749d-224e-47f1-f6e8-25fb07b3cbc5"
      },
      "outputs": [
        {
          "name": "stderr",
          "output_type": "stream",
          "text": [
            "/usr/local/lib/python3.7/dist-packages/ipykernel_launcher.py:7: SettingWithCopyWarning: \n",
            "A value is trying to be set on a copy of a slice from a DataFrame.\n",
            "Try using .loc[row_indexer,col_indexer] = value instead\n",
            "\n",
            "See the caveats in the documentation: https://pandas.pydata.org/pandas-docs/stable/user_guide/indexing.html#returning-a-view-versus-a-copy\n",
            "  import sys\n"
          ]
        }
      ],
      "source": [
        "def get_num_arms_clean(num):\n",
        "    if pd.isna(num):\n",
        "        return None\n",
        "    if num >= 3:\n",
        "        return \"3+\"\n",
        "    return str(int(num))\n",
        "df_annotations[\"num_arms_clean\"] = df_annotations[\"num_arms\"].apply(get_num_arms_clean)"
      ],
      "id": "dDY3uTsbLe4K"
    },
    {
      "cell_type": "code",
      "execution_count": null,
      "metadata": {
        "colab": {
          "base_uri": "https://localhost:8080/"
        },
        "id": "cfac2830",
        "outputId": "ea0066e7-6169-4639-d23a-4650b77aa498"
      },
      "outputs": [
        {
          "data": {
            "text/plain": [
              "2     5228\n",
              "3+    3277\n",
              "1     3086\n",
              "Name: num_arms_clean, dtype: int64"
            ]
          },
          "execution_count": 16,
          "metadata": {},
          "output_type": "execute_result"
        }
      ],
      "source": [
        "df_annotations[\"num_arms_clean\"].value_counts()"
      ],
      "id": "cfac2830"
    },
    {
      "cell_type": "code",
      "execution_count": null,
      "metadata": {
        "id": "D3iMJQHVMYdB"
      },
      "outputs": [],
      "source": [
        "labels = list(sorted(set(df_annotations[\"num_arms_clean\"])))"
      ],
      "id": "D3iMJQHVMYdB"
    },
    {
      "cell_type": "code",
      "execution_count": null,
      "metadata": {
        "id": "uiS_TD8H6mPs"
      },
      "outputs": [],
      "source": [
        "df_train = df_annotations[df_annotations.train_val == \"train\"]\n",
        "df_val = df_annotations[df_annotations.train_val == \"val\"]"
      ],
      "id": "uiS_TD8H6mPs"
    },
    {
      "cell_type": "code",
      "execution_count": 37,
      "metadata": {
        "id": "tg_Q5ZLIGknP"
      },
      "outputs": [],
      "source": [
        "\n",
        "# Specially engineered regex to include 95%, 95%ci, etc\n",
        "vectoriser = CountVectorizer(lowercase=True, vocabulary = vocab, min_df=5,\n",
        "                            token_pattern=r'\\w+', ngram_range=[1,2])\n",
        "\n",
        "transformer = TfidfTransformer()\n",
        "\n",
        "nb = MultinomialNB()\n",
        "model = make_pipeline(vectoriser, transformer, nb)"
      ],
      "id": "tg_Q5ZLIGknP"
    },
    {
      "cell_type": "code",
      "execution_count": 38,
      "metadata": {
        "id": "mJ8L9rLG_31x"
      },
      "outputs": [],
      "source": [
        "# df_train_small = df_train.sample(1000)"
      ],
      "id": "mJ8L9rLG_31x"
    },
    {
      "cell_type": "code",
      "execution_count": 39,
      "metadata": {
        "colab": {
          "base_uri": "https://localhost:8080/"
        },
        "id": "8YqH-b1AHVRy",
        "outputId": "7e009b20-0cb2-4d41-cb11-ec97a39e5ebe"
      },
      "outputs": [
        {
          "output_type": "execute_result",
          "data": {
            "text/plain": [
              "Pipeline(steps=[('countvectorizer',\n",
              "                 CountVectorizer(min_df=5, ngram_range=[1, 2],\n",
              "                                 token_pattern='\\\\w+',\n",
              "                                 vocabulary={'1', '10', '2', '3', '4', '5', '6',\n",
              "                                             '7', '8', '9', 'abt',\n",
              "                                             'acalabrutinib', 'activities',\n",
              "                                             'adaptive', 'adjudication',\n",
              "                                             'administration', 'advanced',\n",
              "                                             'adverse', 'affiliated', 'alfa',\n",
              "                                             'alk', 'allocated', 'allogeneic',\n",
              "                                             'alopecia', 'amended', 'amendment',\n",
              "                                             'amgen', 'aml', 'analysed',\n",
              "                                             'analyses', ...})),\n",
              "                ('tfidftransformer', TfidfTransformer()),\n",
              "                ('multinomialnb', MultinomialNB())])"
            ]
          },
          "metadata": {},
          "execution_count": 39
        }
      ],
      "source": [
        "model.fit(df_train.text, df_train.num_arms_clean)"
      ],
      "id": "8YqH-b1AHVRy"
    },
    {
      "cell_type": "code",
      "execution_count": 40,
      "metadata": {
        "colab": {
          "base_uri": "https://localhost:8080/"
        },
        "id": "i6kKqURLRmk4",
        "outputId": "98312cc4-e240-4aa3-befb-d0b2acb0777b"
      },
      "outputs": [
        {
          "output_type": "stream",
          "name": "stderr",
          "text": [
            "/usr/local/lib/python3.7/dist-packages/ipykernel_launcher.py:1: SettingWithCopyWarning: \n",
            "A value is trying to be set on a copy of a slice from a DataFrame.\n",
            "Try using .loc[row_indexer,col_indexer] = value instead\n",
            "\n",
            "See the caveats in the documentation: https://pandas.pydata.org/pandas-docs/stable/user_guide/indexing.html#returning-a-view-versus-a-copy\n",
            "  \"\"\"Entry point for launching an IPython kernel.\n"
          ]
        }
      ],
      "source": [
        "df_val[\"y_pred\"] = model.predict(df_val.text)"
      ],
      "id": "i6kKqURLRmk4"
    },
    {
      "cell_type": "code",
      "execution_count": 41,
      "metadata": {
        "colab": {
          "base_uri": "https://localhost:8080/"
        },
        "id": "dfh6cdJFMwQc",
        "outputId": "edd15fe9-7dcf-4964-c620-c8e7d4f046b9"
      },
      "outputs": [
        {
          "output_type": "execute_result",
          "data": {
            "text/plain": [
              "12       2\n",
              "49       1\n",
              "50       2\n",
              "51       2\n",
              "52       2\n",
              "        ..\n",
              "11902    1\n",
              "11903    2\n",
              "11904    2\n",
              "11906    1\n",
              "11907    2\n",
              "Name: y_pred, Length: 1056, dtype: object"
            ]
          },
          "metadata": {},
          "execution_count": 41
        }
      ],
      "source": [
        "df_val[\"y_pred\"]"
      ],
      "id": "dfh6cdJFMwQc"
    },
    {
      "cell_type": "code",
      "execution_count": 42,
      "metadata": {
        "id": "68ebd9f0",
        "scrolled": true
      },
      "outputs": [],
      "source": [
        "y_pred_proba = model.predict_proba(df_val.text)"
      ],
      "id": "68ebd9f0"
    },
    {
      "cell_type": "code",
      "execution_count": 43,
      "metadata": {
        "colab": {
          "base_uri": "https://localhost:8080/"
        },
        "id": "X9ZcGYhRNfSa",
        "outputId": "0000b058-a930-4321-a151-37b2e76efd56"
      },
      "outputs": [
        {
          "output_type": "execute_result",
          "data": {
            "text/plain": [
              "array([[0.11428918, 0.55700656, 0.32870426],\n",
              "       [0.44153574, 0.32824576, 0.2302185 ],\n",
              "       [0.13380843, 0.57086799, 0.29532358],\n",
              "       ...,\n",
              "       [0.10153709, 0.61087439, 0.28758853],\n",
              "       [0.6981766 , 0.19935513, 0.10246827],\n",
              "       [0.18280905, 0.43189818, 0.38529276]])"
            ]
          },
          "metadata": {},
          "execution_count": 43
        }
      ],
      "source": [
        "y_pred_proba"
      ],
      "id": "X9ZcGYhRNfSa"
    },
    {
      "cell_type": "code",
      "execution_count": 44,
      "metadata": {
        "id": "_kQxAehK698Y"
      },
      "outputs": [],
      "source": [
        "\n",
        "ground_truths = df_val.num_arms_clean\n",
        "pred = df_val.y_pred"
      ],
      "id": "_kQxAehK698Y"
    },
    {
      "cell_type": "code",
      "execution_count": 45,
      "metadata": {
        "colab": {
          "base_uri": "https://localhost:8080/"
        },
        "id": "4QJ3CVAFMyh0",
        "outputId": "82fefe03-8784-4ad5-9281-3de2f4c7a52b"
      },
      "outputs": [
        {
          "output_type": "execute_result",
          "data": {
            "text/plain": [
              "12       2\n",
              "49       1\n",
              "50       2\n",
              "51       2\n",
              "52       2\n",
              "        ..\n",
              "11902    1\n",
              "11903    2\n",
              "11904    2\n",
              "11906    1\n",
              "11907    2\n",
              "Name: y_pred, Length: 1056, dtype: object"
            ]
          },
          "metadata": {},
          "execution_count": 45
        }
      ],
      "source": [
        "pred"
      ],
      "id": "4QJ3CVAFMyh0"
    },
    {
      "cell_type": "code",
      "execution_count": 46,
      "metadata": {
        "colab": {
          "base_uri": "https://localhost:8080/"
        },
        "id": "73495a5c",
        "outputId": "37f1dc72-3806-4f96-a670-391368185d65"
      },
      "outputs": [
        {
          "output_type": "stream",
          "name": "stdout",
          "text": [
            "accuracy 0.5445075757575758\n"
          ]
        }
      ],
      "source": [
        "acc = accuracy_score(ground_truths, pred)\n",
        "print (f\"accuracy {acc}\")"
      ],
      "id": "73495a5c"
    },
    {
      "cell_type": "code",
      "execution_count": 47,
      "metadata": {
        "colab": {
          "base_uri": "https://localhost:8080/"
        },
        "id": "aUvXu0dkMj_z",
        "outputId": "86b98629-7506-40bf-b59c-059b8d0b795b"
      },
      "outputs": [
        {
          "output_type": "execute_result",
          "data": {
            "text/plain": [
              "12       2\n",
              "49       1\n",
              "50       2\n",
              "51       2\n",
              "52       2\n",
              "        ..\n",
              "11902    1\n",
              "11903    2\n",
              "11904    2\n",
              "11906    1\n",
              "11907    2\n",
              "Name: y_pred, Length: 1056, dtype: object"
            ]
          },
          "metadata": {},
          "execution_count": 47
        }
      ],
      "source": [
        "pred"
      ],
      "id": "aUvXu0dkMj_z"
    },
    {
      "cell_type": "code",
      "execution_count": 48,
      "metadata": {
        "id": "775ae91e",
        "colab": {
          "base_uri": "https://localhost:8080/",
          "height": 302
        },
        "outputId": "18362c43-6006-4508-c8e9-0871efda3141"
      },
      "outputs": [
        {
          "output_type": "execute_result",
          "data": {
            "text/plain": [
              "''"
            ],
            "application/vnd.google.colaboratory.intrinsic+json": {
              "type": "string"
            }
          },
          "metadata": {},
          "execution_count": 48
        },
        {
          "output_type": "display_data",
          "data": {
            "text/plain": [
              "<Figure size 432x288 with 2 Axes>"
            ],
            "image/png": "[encoded data removed]"
          },
          "metadata": {
            "needs_background": "light"
          }
        }
      ],
      "source": [
        "ConfusionMatrixDisplay.from_predictions(ground_truths, pred)\n",
        "plt.xticks(rotation=90)\n",
        ";"
      ],
      "id": "775ae91e"
    },
    {
      "cell_type": "code",
      "execution_count": 49,
      "metadata": {
        "colab": {
          "base_uri": "https://localhost:8080/"
        },
        "id": "16527f52",
        "outputId": "a97500ac-a71a-4ea4-8704-ccb1e795d46c"
      },
      "outputs": [
        {
          "output_type": "stream",
          "name": "stdout",
          "text": [
            "ROC AUC 0.8068582978823419\n",
            "ROC AUC 0.70294964028777\n",
            "ROC AUC 0.688392836826177\n",
            "0.7327335916654296\n"
          ]
        }
      ],
      "source": [
        "all_aucs = []\n",
        "from sklearn.metrics import roc_auc_score\n",
        "for i, label in enumerate(list(nb.classes_)):\n",
        "  roc_auc = roc_auc_score(ground_truths==label, y_pred_proba[:,i])\n",
        "  print (f\"ROC AUC {roc_auc}\")\n",
        "  all_aucs.append(roc_auc)\n",
        "print (np.mean(all_aucs))"
      ],
      "id": "16527f52"
    },
    {
      "cell_type": "code",
      "execution_count": 50,
      "metadata": {
        "id": "bvS_8GcTMgCl",
        "colab": {
          "base_uri": "https://localhost:8080/",
          "height": 295
        },
        "outputId": "1d64c52e-68ec-40fe-bb0f-176a33ebcd4f"
      },
      "outputs": [
        {
          "output_type": "display_data",
          "data": {
            "text/plain": [
              "<Figure size 432x288 with 1 Axes>"
            ],
            "image/png": "[encoded data removed]"
          },
          "metadata": {
            "needs_background": "light"
          }
        }
      ],
      "source": [
        "plt.figure()\n",
        "lw = 2\n",
        "    \n",
        "for i, label in enumerate(list(nb.classes_)):\n",
        "    fpr, tpr, _ = roc_curve(ground_truths==label, y_pred_proba[:,i])\n",
        "    roc_auc = auc(fpr, tpr)\n",
        "    plt.plot(\n",
        "        fpr,\n",
        "        tpr,\n",
        "        # color=\"darkorange\",\n",
        "        lw=lw,\n",
        "        label=f\"ROC curve arms = {label} (area = {roc_auc:0.2f})\"\n",
        "    )\n",
        "    plt.plot([0, 1], [0, 1], color=\"gray\", alpha=0.5, lw=lw, linestyle=\"--\")\n",
        "plt.xlim([0.0, 1.0])\n",
        "plt.ylim([0.0, 1.05])\n",
        "plt.xlabel(\"False Positive Rate\")\n",
        "plt.ylabel(\"True Positive Rate\")\n",
        "plt.title(\"Receiver operating characteristic example\")\n",
        "plt.legend(loc=\"lower right\")\n",
        "plt.show()"
      ],
      "id": "bvS_8GcTMgCl"
    },
    {
      "cell_type": "code",
      "execution_count": 51,
      "metadata": {
        "id": "8rtQ_j8W3Dna"
      },
      "outputs": [],
      "source": [
        "fake_document = \" \".join(vectoriser.vocabulary_)\n",
        "vectorised_document = vectoriser.transform([fake_document])\n",
        "transformed_document = transformer.transform(vectorised_document)\n",
        "probas = np.zeros((transformed_document.shape[1]))"
      ],
      "id": "8rtQ_j8W3Dna"
    },
    {
      "cell_type": "code",
      "execution_count": 52,
      "metadata": {
        "id": "_DYlmhvKSeTG"
      },
      "outputs": [],
      "source": [
        "vocab_lookup = {i:w for w, i in vectoriser.vocabulary_.items()}\n",
        "with open(\"num_arms_diagnostics.txt\", \"w\", encoding=\"utf-8\") as f:\n",
        "  for prediction_idx in [0, 1, 2]:\n",
        "        f.write(f\"Strongest predictors for class {nb.classes_[prediction_idx]}\\n\")\n",
        "        for i in range(transformed_document.shape[1]):\n",
        "            zeros = np.zeros(transformed_document.shape)\n",
        "            zeros[0, i] = transformed_document[0, i]\n",
        "            proba = nb.predict_log_proba(zeros)\n",
        "            probas[i] = proba[0, prediction_idx]\n",
        "\n",
        "\n",
        "        for ctr, j in enumerate(np.argsort(-probas)):\n",
        "          f.write(f\"{ctr}\\t{vocab_lookup[j]}\\n\")"
      ],
      "id": "_DYlmhvKSeTG"
    },
    {
      "cell_type": "code",
      "execution_count": 53,
      "metadata": {
        "id": "xOuD5cp3mVop"
      },
      "outputs": [],
      "source": [
        "import bz2\n",
        "with bz2.open(\"arms_classifier_document_level.pkl.bz2\", \"wb\") as f:\n",
        "    pkl.dump(model, f)"
      ],
      "id": "xOuD5cp3mVop"
    },
    {
      "cell_type": "code",
      "execution_count": 54,
      "metadata": {
        "id": "0dmqIeN1ApTU"
      },
      "outputs": [],
      "source": [
        "# from google.colab import runtime\n",
        "# runtime.unassign()"
      ],
      "id": "0dmqIeN1ApTU"
    },
    {
      "cell_type": "code",
      "execution_count": 54,
      "metadata": {
        "id": "NKnHC0ZHPq08"
      },
      "outputs": [],
      "source": [],
      "id": "NKnHC0ZHPq08"
    }
  ],
  "metadata": {
    "colab": {
      "machine_shape": "hm",
      "provenance": [],
      "include_colab_link": true
    },
    "gpuClass": "standard",
    "kernelspec": {
      "display_name": "Python [conda env:py310]",
      "language": "python",
      "name": "conda-env-py310-py"
    },
    "language_info": {
      "codemirror_mode": {
        "name": "ipython",
        "version": 3
      },
      "file_extension": ".py",
      "mimetype": "text/x-python",
      "name": "python",
      "nbconvert_exporter": "python",
      "pygments_lexer": "ipython3",
      "version": "3.10.4"
    }
  },
  "nbformat": 4,
  "nbformat_minor": 5
}