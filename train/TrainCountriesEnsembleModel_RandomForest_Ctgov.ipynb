{
 "cells": [
  {
   "cell_type": "code",
   "execution_count": 39,
   "id": "9eed3f3c",
   "metadata": {},
   "outputs": [],
   "source": [
    "import pandas as pd\n",
    "import re\n",
    "import os\n",
    "import sys\n",
    "import pickle as pkl\n",
    "import seaborn as sns\n",
    "from sklearn.metrics import accuracy_score, confusion_matrix\n",
    "from sklearn.metrics import ConfusionMatrixDisplay\n",
    "from sklearn.metrics import mean_absolute_error, mean_squared_error\n",
    "from sklearn.metrics import roc_auc_score\n",
    "from sklearn.metrics import roc_curve, auc\n",
    "from IPython.display import display\n",
    "import matplotlib.pyplot as plt\n",
    "import numpy as np\n",
    "import json\n",
    "\n",
    "sys.path.append(\"../front_end\")\n",
    "\n",
    "df_annotations = pd.read_csv(\"../data/ctgov/annotations/all_annotations.csv\")\n"
   ]
  },
  {
   "cell_type": "code",
   "execution_count": 40,
   "id": "a526601d",
   "metadata": {},
   "outputs": [],
   "source": [
    "MODELS_DIR = '../front_end/models/'"
   ]
  },
  {
   "cell_type": "code",
   "execution_count": 41,
   "id": "8f2b933e",
   "metadata": {},
   "outputs": [],
   "source": [
    "from util.page_tokeniser import tokenise_pages"
   ]
  },
  {
   "cell_type": "code",
   "execution_count": 42,
   "id": "bbc754b4",
   "metadata": {},
   "outputs": [],
   "source": [
    "from processors.country_extractor import CountryExtractor, extract_features, LMIC_COUNTRIES"
   ]
  },
  {
   "cell_type": "code",
   "execution_count": 43,
   "id": "c18da48a",
   "metadata": {},
   "outputs": [],
   "source": [
    "from processors.country_ensemble_extractor import make_feature_vector, FEATURES"
   ]
  },
  {
   "cell_type": "code",
   "execution_count": 44,
   "id": "4bc7c815",
   "metadata": {},
   "outputs": [],
   "source": [
    "from processors.country_group_extractor import CountryGroupExtractor"
   ]
  },
  {
   "cell_type": "code",
   "execution_count": 45,
   "id": "37627553",
   "metadata": {},
   "outputs": [],
   "source": [
    "from processors.international_extractor_spacy import InternationalExtractorSpacy"
   ]
  },
  {
   "cell_type": "code",
   "execution_count": 46,
   "id": "3847742f",
   "metadata": {},
   "outputs": [],
   "source": [
    "from processors.international_extractor_naive_bayes import InternationalExtractorNaiveBayes"
   ]
  },
  {
   "cell_type": "code",
   "execution_count": 47,
   "id": "b5cd655a",
   "metadata": {},
   "outputs": [],
   "source": [
    "country_extractor = CountryExtractor()"
   ]
  },
  {
   "cell_type": "code",
   "execution_count": 48,
   "id": "5222c584",
   "metadata": {},
   "outputs": [
    {
     "name": "stderr",
     "output_type": "stream",
     "text": [
      "/media/thomas/642d0db5-2c98-4156-b591-1a3572c5868c/anaconda3/envs/protocols/lib/python3.10/site-packages/spacy/util.py:833: UserWarning: [W095] Model 'en_pipeline' (0.0.0) was trained with spaCy v3.4 and may not be 100% compatible with the current version (3.2.3). If you see errors or degraded performance, download a newer compatible model or retrain your custom model with the current spaCy version. For more details and available updates, run: python -m spacy validate\n",
      "  warnings.warn(warn_msg)\n"
     ]
    }
   ],
   "source": [
    "country_group_extractor = CountryGroupExtractor(MODELS_DIR + \"spacy-textcat-country-16-model-best\")"
   ]
  },
  {
   "cell_type": "code",
   "execution_count": 49,
   "id": "93a494a5",
   "metadata": {
    "scrolled": true
   },
   "outputs": [],
   "source": [
    "international_extractor_spacy = InternationalExtractorSpacy(MODELS_DIR + \"spacy-textcat-international-11-model-best\")"
   ]
  },
  {
   "cell_type": "code",
   "execution_count": 50,
   "id": "4cfcf71f",
   "metadata": {},
   "outputs": [
    {
     "name": "stdout",
     "output_type": "stream",
     "text": [
      "Initialising int classifier ../front_end/models/international_classifier.pkl.bz2\n"
     ]
    },
    {
     "name": "stderr",
     "output_type": "stream",
     "text": [
      "/media/thomas/642d0db5-2c98-4156-b591-1a3572c5868c/anaconda3/envs/protocols/lib/python3.10/site-packages/sklearn/base.py:329: UserWarning: Trying to unpickle estimator CountVectorizer from version 1.0.2 when using version 1.1.1. This might lead to breaking code or invalid results. Use at your own risk. For more info please refer to:\n",
      "https://scikit-learn.org/stable/model_persistence.html#security-maintainability-limitations\n",
      "  warnings.warn(\n",
      "/media/thomas/642d0db5-2c98-4156-b591-1a3572c5868c/anaconda3/envs/protocols/lib/python3.10/site-packages/sklearn/base.py:329: UserWarning: Trying to unpickle estimator TfidfTransformer from version 1.0.2 when using version 1.1.1. This might lead to breaking code or invalid results. Use at your own risk. For more info please refer to:\n",
      "https://scikit-learn.org/stable/model_persistence.html#security-maintainability-limitations\n",
      "  warnings.warn(\n",
      "/media/thomas/642d0db5-2c98-4156-b591-1a3572c5868c/anaconda3/envs/protocols/lib/python3.10/site-packages/sklearn/base.py:329: UserWarning: Trying to unpickle estimator BernoulliNB from version 1.0.2 when using version 1.1.1. This might lead to breaking code or invalid results. Use at your own risk. For more info please refer to:\n",
      "https://scikit-learn.org/stable/model_persistence.html#security-maintainability-limitations\n",
      "  warnings.warn(\n",
      "/media/thomas/642d0db5-2c98-4156-b591-1a3572c5868c/anaconda3/envs/protocols/lib/python3.10/site-packages/sklearn/base.py:329: UserWarning: Trying to unpickle estimator Pipeline from version 1.0.2 when using version 1.1.1. This might lead to breaking code or invalid results. Use at your own risk. For more info please refer to:\n",
      "https://scikit-learn.org/stable/model_persistence.html#security-maintainability-limitations\n",
      "  warnings.warn(\n"
     ]
    }
   ],
   "source": [
    "international_extractor_naive_bayes = InternationalExtractorNaiveBayes(MODELS_DIR + \"international_classifier.pkl.bz2\")"
   ]
  },
  {
   "cell_type": "code",
   "execution_count": 51,
   "id": "a53b1305",
   "metadata": {},
   "outputs": [],
   "source": [
    "df_small = df_annotations[(~df_annotations.country.isna())\n",
    "                         \n",
    "                         & (df_annotations.train_val == \"val\")]"
   ]
  },
  {
   "cell_type": "code",
   "execution_count": 52,
   "id": "5d290080",
   "metadata": {},
   "outputs": [],
   "source": [
    "#df_small = df_small.sample(100)"
   ]
  },
  {
   "cell_type": "code",
   "execution_count": 53,
   "id": "688b864d",
   "metadata": {},
   "outputs": [
    {
     "name": "stderr",
     "output_type": "stream",
     "text": [
      "/media/thomas/642d0db5-2c98-4156-b591-1a3572c5868c/anaconda3/envs/protocols/lib/python3.10/site-packages/pandas/core/frame.py:4906: SettingWithCopyWarning: \n",
      "A value is trying to be set on a copy of a slice from a DataFrame\n",
      "\n",
      "See the caveats in the documentation: https://pandas.pydata.org/pandas-docs/stable/user_guide/indexing.html#returning-a-view-versus-a-copy\n",
      "  return super().drop(\n"
     ]
    }
   ],
   "source": [
    "df_small.drop(columns=[\"num_arms\", \"num_subjects\", \"phase\", \"intervention_type\", \"has_sap\"], inplace=True)"
   ]
  },
  {
   "cell_type": "code",
   "execution_count": 54,
   "id": "20e38210",
   "metadata": {},
   "outputs": [],
   "source": [
    "from sklearn.model_selection import train_test_split\n",
    "ids_train, ids_val = train_test_split(list(range(len(df_small))))\n",
    "ids_train = set(ids_train)\n",
    "ids_val = set(ids_val)"
   ]
  },
  {
   "cell_type": "code",
   "execution_count": 55,
   "id": "b269486c",
   "metadata": {},
   "outputs": [
    {
     "name": "stderr",
     "output_type": "stream",
     "text": [
      "/tmp/ipykernel_174887/1050101567.py:7: SettingWithCopyWarning: \n",
      "A value is trying to be set on a copy of a slice from a DataFrame.\n",
      "Try using .loc[row_indexer,col_indexer] = value instead\n",
      "\n",
      "See the caveats in the documentation: https://pandas.pydata.org/pandas-docs/stable/user_guide/indexing.html#returning-a-view-versus-a-copy\n",
      "  df_small[\"train_val\"] = train_val\n"
     ]
    }
   ],
   "source": [
    "train_val = []\n",
    "for idx in range(len(df_small)):\n",
    "    if idx in ids_train:\n",
    "        train_val.append(\"train\")\n",
    "    else:\n",
    "        train_val.append(\"val\")\n",
    "df_small[\"train_val\"] = train_val"
   ]
  },
  {
   "cell_type": "code",
   "execution_count": 56,
   "id": "1f865654",
   "metadata": {},
   "outputs": [],
   "source": [
    "X = []\n",
    "y = []\n",
    "country_identities = []\n",
    "files = []\n",
    "train_val = []\n",
    "for idx in range(len(df_small)):\n",
    "    file_name = df_small.file.iloc[idx]\n",
    "    \n",
    "    with open(\"/media/thomas/642d0db5-2c98-4156-b591-1a3572c5868c/data_open/read_ctgov_data/json/\" + file_name + \".json\", \"r\", encoding=\"utf-8\") as f:\n",
    "        pages = json.load(f)\n",
    "\n",
    "    country_to_pages = country_extractor.process(pages)\n",
    "    \n",
    "    tokenised_pages = tokenise_pages(pages)\n",
    "    \n",
    "    country_group_to_pages = country_group_extractor.process(tokenised_pages)\n",
    "        \n",
    "    is_international_to_pages = international_extractor_spacy.process(tokenised_pages)\n",
    "            \n",
    "    is_international_nb_to_pages = international_extractor_naive_bayes.process(tokenised_pages)\n",
    "    \n",
    "    X_this_doc, country_identities_this_doc = make_feature_vector(country_to_pages[\"features\"],\n",
    "                                                        country_group_to_pages[\"probas\"],\n",
    "                                                        is_international_to_pages[\"probas\"],\n",
    "                                                        is_international_nb_to_pages[\"score\"])\n",
    "    \n",
    "    all_country_identities_found = set(country_identities_this_doc)\n",
    "    all_country_identities_gt = set(df_small.country.iloc[idx].split(\",\"))\n",
    "    \n",
    "    is_extra_gt_not_found = False\n",
    "    for c in all_country_identities_gt:\n",
    "        if c not in all_country_identities_found:\n",
    "            is_extra_gt_not_found = True\n",
    "    \n",
    "    for country_occurrence_idx in range(len(X_this_doc)):\n",
    "        \n",
    "        gt = int(country_identities_this_doc[country_occurrence_idx] in all_country_identities_gt)\n",
    "        \n",
    "        if country_identities_this_doc[country_occurrence_idx] == \"XX\" and is_extra_gt_not_found:\n",
    "            gt = True\n",
    "        \n",
    "        X.append(X_this_doc[country_occurrence_idx])\n",
    "        y.append(gt)\n",
    "        country_identities.append(country_identities_this_doc[country_occurrence_idx])\n",
    "        train_val.append(df_small.train_val.iloc[idx])\n",
    "        files.append(df_small.file.iloc[idx])"
   ]
  },
  {
   "cell_type": "code",
   "execution_count": 57,
   "id": "6181a380",
   "metadata": {},
   "outputs": [],
   "source": [
    "X_train = []\n",
    "y_train = []\n",
    "X_val = []\n",
    "y_val = []\n",
    "countries_train = []\n",
    "countries_val = []\n",
    "file_names_train = []\n",
    "file_names_val = []\n",
    "for idx in range(len(X)):\n",
    "    if train_val[idx] == \"train\":\n",
    "        X_train.append(X[idx])\n",
    "        y_train.append(y[idx])\n",
    "        countries_train.append(country_identities[idx])\n",
    "        file_names_train.append(files[idx])\n",
    "    else:\n",
    "        X_val.append(X[idx])\n",
    "        y_val.append(y[idx])\n",
    "        countries_val.append(country_identities[idx])\n",
    "        file_names_val.append(files[idx])\n",
    "        "
   ]
  },
  {
   "cell_type": "code",
   "execution_count": 58,
   "id": "65851d69",
   "metadata": {},
   "outputs": [],
   "source": [
    "X_train = np.asarray(X_train)\n",
    "y_train = np.asarray(y_train)"
   ]
  },
  {
   "cell_type": "code",
   "execution_count": 59,
   "id": "5f6a0d29",
   "metadata": {},
   "outputs": [],
   "source": [
    "X_val = np.asarray(X_val)\n",
    "y_val = np.asarray(y_val)"
   ]
  },
  {
   "cell_type": "code",
   "execution_count": 60,
   "id": "b7e31ba7",
   "metadata": {},
   "outputs": [],
   "source": [
    "from sklearn.linear_model import LogisticRegression"
   ]
  },
  {
   "cell_type": "code",
   "execution_count": 61,
   "id": "7d92b231",
   "metadata": {},
   "outputs": [
    {
     "name": "stderr",
     "output_type": "stream",
     "text": [
      "/media/thomas/642d0db5-2c98-4156-b591-1a3572c5868c/anaconda3/envs/protocols/lib/python3.10/site-packages/sklearn/linear_model/_logistic.py:444: ConvergenceWarning: lbfgs failed to converge (status=1):\n",
      "STOP: TOTAL NO. of ITERATIONS REACHED LIMIT.\n",
      "\n",
      "Increase the number of iterations (max_iter) or scale the data as shown in:\n",
      "    https://scikit-learn.org/stable/modules/preprocessing.html\n",
      "Please also refer to the documentation for alternative solver options:\n",
      "    https://scikit-learn.org/stable/modules/linear_model.html#logistic-regression\n",
      "  n_iter_i = _check_optimize_result(\n"
     ]
    },
    {
     "data": {
      "text/html": [
       "<style>#sk-container-id-3 {color: black;background-color: white;}#sk-container-id-3 pre{padding: 0;}#sk-container-id-3 div.sk-toggleable {background-color: white;}#sk-container-id-3 label.sk-toggleable__label {cursor: pointer;display: block;width: 100%;margin-bottom: 0;padding: 0.3em;box-sizing: border-box;text-align: center;}#sk-container-id-3 label.sk-toggleable__label-arrow:before {content: \"▸\";float: left;margin-right: 0.25em;color: #696969;}#sk-container-id-3 label.sk-toggleable__label-arrow:hover:before {color: black;}#sk-container-id-3 div.sk-estimator:hover label.sk-toggleable__label-arrow:before {color: black;}#sk-container-id-3 div.sk-toggleable__content {max-height: 0;max-width: 0;overflow: hidden;text-align: left;background-color: #f0f8ff;}#sk-container-id-3 div.sk-toggleable__content pre {margin: 0.2em;color: black;border-radius: 0.25em;background-color: #f0f8ff;}#sk-container-id-3 input.sk-toggleable__control:checked~div.sk-toggleable__content {max-height: 200px;max-width: 100%;overflow: auto;}#sk-container-id-3 input.sk-toggleable__control:checked~label.sk-toggleable__label-arrow:before {content: \"▾\";}#sk-container-id-3 div.sk-estimator input.sk-toggleable__control:checked~label.sk-toggleable__label {background-color: #d4ebff;}#sk-container-id-3 div.sk-label input.sk-toggleable__control:checked~label.sk-toggleable__label {background-color: #d4ebff;}#sk-container-id-3 input.sk-hidden--visually {border: 0;clip: rect(1px 1px 1px 1px);clip: rect(1px, 1px, 1px, 1px);height: 1px;margin: -1px;overflow: hidden;padding: 0;position: absolute;width: 1px;}#sk-container-id-3 div.sk-estimator {font-family: monospace;background-color: #f0f8ff;border: 1px dotted black;border-radius: 0.25em;box-sizing: border-box;margin-bottom: 0.5em;}#sk-container-id-3 div.sk-estimator:hover {background-color: #d4ebff;}#sk-container-id-3 div.sk-parallel-item::after {content: \"\";width: 100%;border-bottom: 1px solid gray;flex-grow: 1;}#sk-container-id-3 div.sk-label:hover label.sk-toggleable__label {background-color: #d4ebff;}#sk-container-id-3 div.sk-serial::before {content: \"\";position: absolute;border-left: 1px solid gray;box-sizing: border-box;top: 0;bottom: 0;left: 50%;z-index: 0;}#sk-container-id-3 div.sk-serial {display: flex;flex-direction: column;align-items: center;background-color: white;padding-right: 0.2em;padding-left: 0.2em;position: relative;}#sk-container-id-3 div.sk-item {position: relative;z-index: 1;}#sk-container-id-3 div.sk-parallel {display: flex;align-items: stretch;justify-content: center;background-color: white;position: relative;}#sk-container-id-3 div.sk-item::before, #sk-container-id-3 div.sk-parallel-item::before {content: \"\";position: absolute;border-left: 1px solid gray;box-sizing: border-box;top: 0;bottom: 0;left: 50%;z-index: -1;}#sk-container-id-3 div.sk-parallel-item {display: flex;flex-direction: column;z-index: 1;position: relative;background-color: white;}#sk-container-id-3 div.sk-parallel-item:first-child::after {align-self: flex-end;width: 50%;}#sk-container-id-3 div.sk-parallel-item:last-child::after {align-self: flex-start;width: 50%;}#sk-container-id-3 div.sk-parallel-item:only-child::after {width: 0;}#sk-container-id-3 div.sk-dashed-wrapped {border: 1px dashed gray;margin: 0 0.4em 0.5em 0.4em;box-sizing: border-box;padding-bottom: 0.4em;background-color: white;}#sk-container-id-3 div.sk-label label {font-family: monospace;font-weight: bold;display: inline-block;line-height: 1.2em;}#sk-container-id-3 div.sk-label-container {text-align: center;}#sk-container-id-3 div.sk-container {/* jupyter's `normalize.less` sets `[hidden] { display: none; }` but bootstrap.min.css set `[hidden] { display: none !important; }` so we also need the `!important` here to be able to override the default hidden behavior on the sphinx rendered scikit-learn.org. See: https://github.com/scikit-learn/scikit-learn/issues/21755 */display: inline-block !important;position: relative;}#sk-container-id-3 div.sk-text-repr-fallback {display: none;}</style><div id=\"sk-container-id-3\" class=\"sk-top-container\"><div class=\"sk-text-repr-fallback\"><pre>LogisticRegression()</pre><b>In a Jupyter environment, please rerun this cell to show the HTML representation or trust the notebook. <br />On GitHub, the HTML representation is unable to render, please try loading this page with nbviewer.org.</b></div><div class=\"sk-container\" hidden><div class=\"sk-item\"><div class=\"sk-estimator sk-toggleable\"><input class=\"sk-toggleable__control sk-hidden--visually\" id=\"sk-estimator-id-3\" type=\"checkbox\" checked><label for=\"sk-estimator-id-3\" class=\"sk-toggleable__label sk-toggleable__label-arrow\">LogisticRegression</label><div class=\"sk-toggleable__content\"><pre>LogisticRegression()</pre></div></div></div></div></div>"
      ],
      "text/plain": [
       "LogisticRegression()"
      ]
     },
     "execution_count": 61,
     "metadata": {},
     "output_type": "execute_result"
    }
   ],
   "source": [
    "m = LogisticRegression()\n",
    "m.fit(X_train, y_train)"
   ]
  },
  {
   "cell_type": "code",
   "execution_count": 62,
   "id": "d1c0c6d1",
   "metadata": {},
   "outputs": [
    {
     "data": {
      "text/plain": [
       "''"
      ]
     },
     "execution_count": 62,
     "metadata": {},
     "output_type": "execute_result"
    },
    {
     "data": {
      "image/png": "[encoded data removed]",
      "text/plain": [
       "<Figure size 432x288 with 1 Axes>"
      ]
     },
     "metadata": {
      "needs_background": "light"
     },
     "output_type": "display_data"
    }
   ],
   "source": [
    "import seaborn as sns\n",
    "sns.barplot(data=pd.DataFrame({\"x\":FEATURES, \"y\":m.coef_[0]}), x=\"x\", y=\"y\")\n",
    "plt.xticks(rotation=90)\n",
    ";"
   ]
  },
  {
   "cell_type": "code",
   "execution_count": 63,
   "id": "7fafd2f9",
   "metadata": {},
   "outputs": [],
   "source": [
    "from sklearn.ensemble import RandomForestClassifier"
   ]
  },
  {
   "cell_type": "code",
   "execution_count": 64,
   "id": "8ed04c9b",
   "metadata": {},
   "outputs": [],
   "source": [
    "m = RandomForestClassifier()"
   ]
  },
  {
   "cell_type": "code",
   "execution_count": 65,
   "id": "7f583577",
   "metadata": {},
   "outputs": [
    {
     "data": {
      "text/html": [
       "<style>#sk-container-id-4 {color: black;background-color: white;}#sk-container-id-4 pre{padding: 0;}#sk-container-id-4 div.sk-toggleable {background-color: white;}#sk-container-id-4 label.sk-toggleable__label {cursor: pointer;display: block;width: 100%;margin-bottom: 0;padding: 0.3em;box-sizing: border-box;text-align: center;}#sk-container-id-4 label.sk-toggleable__label-arrow:before {content: \"▸\";float: left;margin-right: 0.25em;color: #696969;}#sk-container-id-4 label.sk-toggleable__label-arrow:hover:before {color: black;}#sk-container-id-4 div.sk-estimator:hover label.sk-toggleable__label-arrow:before {color: black;}#sk-container-id-4 div.sk-toggleable__content {max-height: 0;max-width: 0;overflow: hidden;text-align: left;background-color: #f0f8ff;}#sk-container-id-4 div.sk-toggleable__content pre {margin: 0.2em;color: black;border-radius: 0.25em;background-color: #f0f8ff;}#sk-container-id-4 input.sk-toggleable__control:checked~div.sk-toggleable__content {max-height: 200px;max-width: 100%;overflow: auto;}#sk-container-id-4 input.sk-toggleable__control:checked~label.sk-toggleable__label-arrow:before {content: \"▾\";}#sk-container-id-4 div.sk-estimator input.sk-toggleable__control:checked~label.sk-toggleable__label {background-color: #d4ebff;}#sk-container-id-4 div.sk-label input.sk-toggleable__control:checked~label.sk-toggleable__label {background-color: #d4ebff;}#sk-container-id-4 input.sk-hidden--visually {border: 0;clip: rect(1px 1px 1px 1px);clip: rect(1px, 1px, 1px, 1px);height: 1px;margin: -1px;overflow: hidden;padding: 0;position: absolute;width: 1px;}#sk-container-id-4 div.sk-estimator {font-family: monospace;background-color: #f0f8ff;border: 1px dotted black;border-radius: 0.25em;box-sizing: border-box;margin-bottom: 0.5em;}#sk-container-id-4 div.sk-estimator:hover {background-color: #d4ebff;}#sk-container-id-4 div.sk-parallel-item::after {content: \"\";width: 100%;border-bottom: 1px solid gray;flex-grow: 1;}#sk-container-id-4 div.sk-label:hover label.sk-toggleable__label {background-color: #d4ebff;}#sk-container-id-4 div.sk-serial::before {content: \"\";position: absolute;border-left: 1px solid gray;box-sizing: border-box;top: 0;bottom: 0;left: 50%;z-index: 0;}#sk-container-id-4 div.sk-serial {display: flex;flex-direction: column;align-items: center;background-color: white;padding-right: 0.2em;padding-left: 0.2em;position: relative;}#sk-container-id-4 div.sk-item {position: relative;z-index: 1;}#sk-container-id-4 div.sk-parallel {display: flex;align-items: stretch;justify-content: center;background-color: white;position: relative;}#sk-container-id-4 div.sk-item::before, #sk-container-id-4 div.sk-parallel-item::before {content: \"\";position: absolute;border-left: 1px solid gray;box-sizing: border-box;top: 0;bottom: 0;left: 50%;z-index: -1;}#sk-container-id-4 div.sk-parallel-item {display: flex;flex-direction: column;z-index: 1;position: relative;background-color: white;}#sk-container-id-4 div.sk-parallel-item:first-child::after {align-self: flex-end;width: 50%;}#sk-container-id-4 div.sk-parallel-item:last-child::after {align-self: flex-start;width: 50%;}#sk-container-id-4 div.sk-parallel-item:only-child::after {width: 0;}#sk-container-id-4 div.sk-dashed-wrapped {border: 1px dashed gray;margin: 0 0.4em 0.5em 0.4em;box-sizing: border-box;padding-bottom: 0.4em;background-color: white;}#sk-container-id-4 div.sk-label label {font-family: monospace;font-weight: bold;display: inline-block;line-height: 1.2em;}#sk-container-id-4 div.sk-label-container {text-align: center;}#sk-container-id-4 div.sk-container {/* jupyter's `normalize.less` sets `[hidden] { display: none; }` but bootstrap.min.css set `[hidden] { display: none !important; }` so we also need the `!important` here to be able to override the default hidden behavior on the sphinx rendered scikit-learn.org. See: https://github.com/scikit-learn/scikit-learn/issues/21755 */display: inline-block !important;position: relative;}#sk-container-id-4 div.sk-text-repr-fallback {display: none;}</style><div id=\"sk-container-id-4\" class=\"sk-top-container\"><div class=\"sk-text-repr-fallback\"><pre>RandomForestClassifier()</pre><b>In a Jupyter environment, please rerun this cell to show the HTML representation or trust the notebook. <br />On GitHub, the HTML representation is unable to render, please try loading this page with nbviewer.org.</b></div><div class=\"sk-container\" hidden><div class=\"sk-item\"><div class=\"sk-estimator sk-toggleable\"><input class=\"sk-toggleable__control sk-hidden--visually\" id=\"sk-estimator-id-4\" type=\"checkbox\" checked><label for=\"sk-estimator-id-4\" class=\"sk-toggleable__label sk-toggleable__label-arrow\">RandomForestClassifier</label><div class=\"sk-toggleable__content\"><pre>RandomForestClassifier()</pre></div></div></div></div></div>"
      ],
      "text/plain": [
       "RandomForestClassifier()"
      ]
     },
     "execution_count": 65,
     "metadata": {},
     "output_type": "execute_result"
    }
   ],
   "source": [
    "m.fit(X_train, y_train)"
   ]
  },
  {
   "cell_type": "code",
   "execution_count": 66,
   "id": "c9eecdf6",
   "metadata": {},
   "outputs": [
    {
     "data": {
      "text/plain": [
       "''"
      ]
     },
     "execution_count": 66,
     "metadata": {},
     "output_type": "execute_result"
    },
    {
     "data": {
      "image/png": "[encoded data removed]",
      "text/plain": [
       "<Figure size 432x288 with 1 Axes>"
      ]
     },
     "metadata": {
      "needs_background": "light"
     },
     "output_type": "display_data"
    }
   ],
   "source": [
    "import seaborn as sns\n",
    "sns.barplot(data=pd.DataFrame({\"x\":FEATURES, \"y\":m.feature_importances_}), x=\"x\", y=\"y\")\n",
    "plt.xticks(rotation=90)\n",
    ";"
   ]
  },
  {
   "cell_type": "code",
   "execution_count": 67,
   "id": "3bfce790",
   "metadata": {},
   "outputs": [],
   "source": [
    "y_pred = m.predict(X_val)"
   ]
  },
  {
   "cell_type": "code",
   "execution_count": 68,
   "id": "82cee3a3",
   "metadata": {},
   "outputs": [
    {
     "data": {
      "text/plain": [
       "0.7883251500272777"
      ]
     },
     "execution_count": 68,
     "metadata": {},
     "output_type": "execute_result"
    }
   ],
   "source": [
    "accuracy_score(y_val, y_pred)"
   ]
  },
  {
   "cell_type": "code",
   "execution_count": 69,
   "id": "504f4c65",
   "metadata": {
    "scrolled": false
   },
   "outputs": [
    {
     "name": "stdout",
     "output_type": "stream",
     "text": [
      "1 0 XX https://clinicaltrials.gov/ProvidedDocs/00/NCT02895100/Prot_000.pdf\n",
      "1 0 XX https://clinicaltrials.gov/ProvidedDocs/00/NCT02895100/Prot_000.pdf\n",
      "1 0 AU https://clinicaltrials.gov/ProvidedDocs/00/NCT02895100/Prot_000.pdf\n",
      "1 0 XX https://clinicaltrials.gov/ProvidedDocs/00/NCT02895100/Prot_000.pdf\n",
      "1 0 XX https://clinicaltrials.gov/ProvidedDocs/00/NCT02895100/Prot_000.pdf\n",
      "1 0 XX https://clinicaltrials.gov/ProvidedDocs/00/NCT02895100/Prot_000.pdf\n",
      "0 1 CH https://clinicaltrials.gov/ProvidedDocs/00/NCT03823300/Prot_000.pdf\n",
      "1 0 XX https://clinicaltrials.gov/ProvidedDocs/00/NCT03823300/Prot_000.pdf\n",
      "1 0 XX https://clinicaltrials.gov/ProvidedDocs/00/NCT03823300/Prot_000.pdf\n",
      "0 1 CA https://clinicaltrials.gov/ProvidedDocs/00/NCT03823300/Prot_000.pdf\n",
      "1 0 XX https://clinicaltrials.gov/ProvidedDocs/00/NCT03823300/Prot_000.pdf\n",
      "1 0 FR https://clinicaltrials.gov/ProvidedDocs/00/NCT03823300/Prot_000.pdf\n",
      "1 0 XX https://clinicaltrials.gov/ProvidedDocs/00/NCT03823300/Prot_000.pdf\n",
      "1 0 XX https://clinicaltrials.gov/ProvidedDocs/00/NCT03823300/Prot_000.pdf\n",
      "1 0 XX https://clinicaltrials.gov/ProvidedDocs/00/NCT03823300/Prot_000.pdf\n",
      "1 0 IT https://clinicaltrials.gov/ProvidedDocs/00/NCT03823300/Prot_000.pdf\n",
      "1 0 XX https://clinicaltrials.gov/ProvidedDocs/00/NCT03823300/Prot_000.pdf\n",
      "1 0 XX https://clinicaltrials.gov/ProvidedDocs/00/NCT03823300/Prot_000.pdf\n",
      "1 0 XX https://clinicaltrials.gov/ProvidedDocs/00/NCT03823300/Prot_000.pdf\n",
      "1 0 XX https://clinicaltrials.gov/ProvidedDocs/00/NCT03823300/Prot_000.pdf\n",
      "0 1 JP https://clinicaltrials.gov/ProvidedDocs/00/NCT03823300/Prot_000.pdf\n",
      "1 0 XX https://clinicaltrials.gov/ProvidedDocs/00/NCT03823300/Prot_000.pdf\n",
      "1 0 US https://clinicaltrials.gov/ProvidedDocs/01/NCT02850601/Prot_SAP_001.pdf\n",
      "1 0 US https://clinicaltrials.gov/ProvidedDocs/02/NCT03899402/Prot_000.pdf\n",
      "1 0 US https://clinicaltrials.gov/ProvidedDocs/02/NCT03899402/Prot_000.pdf\n",
      "1 0 US https://clinicaltrials.gov/ProvidedDocs/02/NCT03899402/Prot_000.pdf\n",
      "1 0 US https://clinicaltrials.gov/ProvidedDocs/02/NCT04873102/Prot_SAP_000.pdf\n",
      "1 0 BE https://clinicaltrials.gov/ProvidedDocs/03/NCT02878603/Prot_000.pdf\n",
      "1 0 GB https://clinicaltrials.gov/ProvidedDocs/03/NCT02878603/Prot_000.pdf\n",
      "0 1 XX https://clinicaltrials.gov/ProvidedDocs/04/NCT01831804/Prot_000.pdf\n",
      "0 1 XX https://clinicaltrials.gov/ProvidedDocs/04/NCT01831804/Prot_000.pdf\n",
      "1 0 US https://clinicaltrials.gov/ProvidedDocs/08/NCT01842308/Prot_SAP_000.pdf\n",
      "0 1 US https://clinicaltrials.gov/ProvidedDocs/08/NCT03848208/Prot_000.pdf\n",
      "1 0 XX https://clinicaltrials.gov/ProvidedDocs/08/NCT03848208/Prot_000.pdf\n",
      "1 0 XX https://clinicaltrials.gov/ProvidedDocs/08/NCT03848208/Prot_000.pdf\n",
      "1 0 XX https://clinicaltrials.gov/ProvidedDocs/08/NCT03848208/Prot_000.pdf\n",
      "1 0 XX https://clinicaltrials.gov/ProvidedDocs/08/NCT03848208/Prot_000.pdf\n",
      "1 0 XX https://clinicaltrials.gov/ProvidedDocs/08/NCT03848208/Prot_000.pdf\n",
      "1 0 XX https://clinicaltrials.gov/ProvidedDocs/08/NCT03848208/Prot_000.pdf\n",
      "1 0 NL https://clinicaltrials.gov/ProvidedDocs/09/NCT01856309/Prot_000.pdf\n",
      "1 0 XX https://clinicaltrials.gov/ProvidedDocs/09/NCT02849509/Prot_001.pdf\n",
      "1 0 ID https://clinicaltrials.gov/ProvidedDocs/09/NCT02849509/Prot_001.pdf\n",
      "1 0 XX https://clinicaltrials.gov/ProvidedDocs/09/NCT02849509/Prot_001.pdf\n",
      "1 0 MY https://clinicaltrials.gov/ProvidedDocs/09/NCT02849509/Prot_001.pdf\n",
      "1 0 XX https://clinicaltrials.gov/ProvidedDocs/09/NCT02849509/Prot_001.pdf\n",
      "1 0 SG https://clinicaltrials.gov/ProvidedDocs/09/NCT02849509/Prot_001.pdf\n",
      "1 0 XX https://clinicaltrials.gov/ProvidedDocs/09/NCT02849509/Prot_001.pdf\n",
      "1 0 KR https://clinicaltrials.gov/ProvidedDocs/09/NCT02849509/Prot_001.pdf\n",
      "1 0 XX https://clinicaltrials.gov/ProvidedDocs/09/NCT02849509/Prot_001.pdf\n",
      "1 0 TH https://clinicaltrials.gov/ProvidedDocs/09/NCT02849509/Prot_001.pdf\n",
      "1 0 XX https://clinicaltrials.gov/ProvidedDocs/09/NCT02849509/Prot_001.pdf\n",
      "1 0 VN https://clinicaltrials.gov/ProvidedDocs/09/NCT02849509/Prot_001.pdf\n",
      "1 0 XX https://clinicaltrials.gov/ProvidedDocs/09/NCT02849509/Prot_001.pdf\n",
      "1 0 XX https://clinicaltrials.gov/ProvidedDocs/09/NCT02849509/Prot_001.pdf\n",
      "1 0 XX https://clinicaltrials.gov/ProvidedDocs/09/NCT03850509/Prot_000.pdf\n",
      "0 1 CA https://clinicaltrials.gov/ProvidedDocs/09/NCT03850509/Prot_000.pdf\n",
      "1 0 XX https://clinicaltrials.gov/ProvidedDocs/09/NCT03850509/Prot_000.pdf\n",
      "1 0 XX https://clinicaltrials.gov/ProvidedDocs/09/NCT03850509/Prot_000.pdf\n",
      "0 1 SG https://clinicaltrials.gov/ProvidedDocs/09/NCT03850509/Prot_000.pdf\n",
      "1 0 XX https://clinicaltrials.gov/ProvidedDocs/09/NCT03850509/Prot_000.pdf\n",
      "1 0 XX https://clinicaltrials.gov/ProvidedDocs/09/NCT03850509/Prot_000.pdf\n",
      "1 0 XX https://clinicaltrials.gov/ProvidedDocs/09/NCT03850509/Prot_000.pdf\n",
      "1 0 XX https://clinicaltrials.gov/ProvidedDocs/09/NCT03850509/Prot_000.pdf\n",
      "0 1 CA https://clinicaltrials.gov/ProvidedDocs/12/NCT02872012/Prot_000.pdf\n",
      "1 0 SE https://clinicaltrials.gov/ProvidedDocs/12/NCT03832712/Prot_000.pdf\n",
      "1 0 BE https://clinicaltrials.gov/ProvidedDocs/15/NCT02821715/Prot_001.pdf\n",
      "0 1 DK https://clinicaltrials.gov/ProvidedDocs/19/NCT02863419/Prot_000.pdf\n",
      "1 0 PL https://clinicaltrials.gov/ProvidedDocs/19/NCT02863419/Prot_000.pdf\n",
      "0 1 DE https://clinicaltrials.gov/ProvidedDocs/19/NCT03846219/Prot_SAP_000.pdf\n",
      "0 1 XX https://clinicaltrials.gov/ProvidedDocs/19/NCT03846219/Prot_SAP_000.pdf\n",
      "0 1 US https://clinicaltrials.gov/ProvidedDocs/19/NCT03846219/Prot_SAP_000.pdf\n",
      "0 1 XX https://clinicaltrials.gov/ProvidedDocs/19/NCT03846219/Prot_SAP_000.pdf\n",
      "0 1 XX https://clinicaltrials.gov/ProvidedDocs/19/NCT03846219/Prot_SAP_000.pdf\n",
      "0 1 XX https://clinicaltrials.gov/ProvidedDocs/19/NCT03846219/Prot_SAP_000.pdf\n",
      "0 1 XX https://clinicaltrials.gov/ProvidedDocs/19/NCT03846219/Prot_SAP_000.pdf\n",
      "0 1 XX https://clinicaltrials.gov/ProvidedDocs/19/NCT03846219/Prot_SAP_000.pdf\n",
      "0 1 HU https://clinicaltrials.gov/ProvidedDocs/19/NCT03846219/Prot_SAP_000.pdf\n",
      "0 1 XX https://clinicaltrials.gov/ProvidedDocs/19/NCT03846219/Prot_SAP_000.pdf\n",
      "0 1 HR https://clinicaltrials.gov/ProvidedDocs/19/NCT03846219/Prot_SAP_000.pdf\n",
      "0 1 XX https://clinicaltrials.gov/ProvidedDocs/19/NCT03846219/Prot_SAP_000.pdf\n",
      "0 1 XX https://clinicaltrials.gov/ProvidedDocs/19/NCT03846219/Prot_SAP_000.pdf\n",
      "0 1 XX https://clinicaltrials.gov/ProvidedDocs/19/NCT03846219/Prot_SAP_000.pdf\n",
      "0 1 XX https://clinicaltrials.gov/ProvidedDocs/19/NCT03846219/Prot_SAP_000.pdf\n",
      "0 1 XX https://clinicaltrials.gov/ProvidedDocs/19/NCT03846219/Prot_SAP_000.pdf\n",
      "0 1 XX https://clinicaltrials.gov/ProvidedDocs/19/NCT03846219/Prot_SAP_000.pdf\n",
      "0 1 ES https://clinicaltrials.gov/ProvidedDocs/24/NCT01850524/Prot_000.pdf\n",
      "1 0 RU https://clinicaltrials.gov/ProvidedDocs/24/NCT01850524/Prot_000.pdf\n",
      "1 0 NZ https://clinicaltrials.gov/ProvidedDocs/24/NCT01850524/Prot_000.pdf\n",
      "0 1 CA https://clinicaltrials.gov/ProvidedDocs/24/NCT02867124/Prot_SAP_000.pdf\n",
      "1 0 CA https://clinicaltrials.gov/ProvidedDocs/25/NCT03893825/Prot_000.pdf\n",
      "1 0 FR https://clinicaltrials.gov/ProvidedDocs/25/NCT03893825/Prot_000.pdf\n",
      "0 1 HU https://clinicaltrials.gov/ProvidedDocs/25/NCT03893825/Prot_000.pdf\n",
      "0 1 CA https://clinicaltrials.gov/ProvidedDocs/25/NCT04871425/Prot_SAP_002.pdf\n",
      "0 1 XX https://clinicaltrials.gov/ProvidedDocs/26/NCT02858726/Prot_000.pdf\n",
      "0 1 XX https://clinicaltrials.gov/ProvidedDocs/26/NCT02858726/Prot_000.pdf\n",
      "1 0 XX https://clinicaltrials.gov/ProvidedDocs/28/NCT01853228/Prot_SAP_000.pdf\n",
      "0 1 US https://clinicaltrials.gov/ProvidedDocs/28/NCT01853228/Prot_SAP_000.pdf\n",
      "1 0 XX https://clinicaltrials.gov/ProvidedDocs/28/NCT01853228/Prot_SAP_000.pdf\n",
      "1 0 XX https://clinicaltrials.gov/ProvidedDocs/28/NCT01853228/Prot_SAP_000.pdf\n",
      "1 0 FR https://clinicaltrials.gov/ProvidedDocs/28/NCT01853228/Prot_SAP_000.pdf\n",
      "1 0 XX https://clinicaltrials.gov/ProvidedDocs/28/NCT01853228/Prot_SAP_000.pdf\n",
      "1 0 BE https://clinicaltrials.gov/ProvidedDocs/28/NCT02817828/Prot_000.pdf\n",
      "0 1 RU https://clinicaltrials.gov/ProvidedDocs/28/NCT02817828/Prot_000.pdf\n",
      "0 1 US https://clinicaltrials.gov/ProvidedDocs/28/NCT02817828/Prot_000.pdf\n",
      "0 1 XX https://clinicaltrials.gov/ProvidedDocs/28/NCT02838628/Prot_000.pdf\n",
      "0 1 JE https://clinicaltrials.gov/ProvidedDocs/28/NCT02838628/Prot_000.pdf\n",
      "0 1 XX https://clinicaltrials.gov/ProvidedDocs/28/NCT02838628/Prot_000.pdf\n",
      "1 0 NZ https://clinicaltrials.gov/ProvidedDocs/28/NCT02886728/Prot_000.pdf\n",
      "1 0 HK https://clinicaltrials.gov/ProvidedDocs/28/NCT02886728/Prot_000.pdf\n",
      "1 0 ZA https://clinicaltrials.gov/ProvidedDocs/28/NCT02886728/Prot_000.pdf\n",
      "1 0 JP https://clinicaltrials.gov/ProvidedDocs/28/NCT02886728/Prot_000.pdf\n",
      "1 0 US https://clinicaltrials.gov/ProvidedDocs/29/NCT01834729/Prot_SAP_000.pdf\n",
      "0 1 XX https://clinicaltrials.gov/ProvidedDocs/29/NCT02808429/Prot_000.pdf\n",
      "0 1 XX https://clinicaltrials.gov/ProvidedDocs/29/NCT02808429/Prot_000.pdf\n",
      "0 1 XX https://clinicaltrials.gov/ProvidedDocs/29/NCT02808429/Prot_000.pdf\n",
      "0 1 AU https://clinicaltrials.gov/ProvidedDocs/29/NCT02808429/Prot_000.pdf\n",
      "0 1 XX https://clinicaltrials.gov/ProvidedDocs/29/NCT02808429/Prot_000.pdf\n",
      "0 1 XX https://clinicaltrials.gov/ProvidedDocs/29/NCT02808429/Prot_000.pdf\n",
      "0 1 XX https://clinicaltrials.gov/ProvidedDocs/29/NCT02808429/Prot_000.pdf\n",
      "0 1 XX https://clinicaltrials.gov/ProvidedDocs/29/NCT02808429/Prot_000.pdf\n",
      "0 1 CA https://clinicaltrials.gov/ProvidedDocs/29/NCT02837029/Prot_SAP_001.pdf\n",
      "0 1 BE https://clinicaltrials.gov/ProvidedDocs/29/NCT02853929/Prot_000.pdf\n",
      "1 0 AU https://clinicaltrials.gov/ProvidedDocs/29/NCT02853929/Prot_000.pdf\n",
      "1 0 FI https://clinicaltrials.gov/ProvidedDocs/29/NCT02853929/Prot_000.pdf\n",
      "0 1 GB https://clinicaltrials.gov/ProvidedDocs/29/NCT02853929/Prot_000.pdf\n",
      "0 1 NZ https://clinicaltrials.gov/ProvidedDocs/29/NCT02853929/Prot_000.pdf\n",
      "0 1 IL https://clinicaltrials.gov/ProvidedDocs/29/NCT02853929/Prot_000.pdf\n",
      "0 1 MX https://clinicaltrials.gov/ProvidedDocs/29/NCT02853929/Prot_000.pdf\n",
      "0 1 BR https://clinicaltrials.gov/ProvidedDocs/29/NCT02853929/Prot_000.pdf\n",
      "0 1 CO https://clinicaltrials.gov/ProvidedDocs/29/NCT02853929/Prot_000.pdf\n",
      "0 1 UY https://clinicaltrials.gov/ProvidedDocs/29/NCT02853929/Prot_000.pdf\n",
      "0 1 PA https://clinicaltrials.gov/ProvidedDocs/29/NCT02853929/Prot_000.pdf\n",
      "0 1 CR https://clinicaltrials.gov/ProvidedDocs/29/NCT02853929/Prot_000.pdf\n",
      "0 1 AR https://clinicaltrials.gov/ProvidedDocs/29/NCT02853929/Prot_000.pdf\n",
      "0 1 US https://clinicaltrials.gov/ProvidedDocs/29/NCT02853929/Prot_000.pdf\n",
      "0 1 DE https://clinicaltrials.gov/ProvidedDocs/29/NCT02853929/Prot_000.pdf\n",
      "0 1 CA https://clinicaltrials.gov/ProvidedDocs/29/NCT03887429/Prot_SAP_001.pdf\n",
      "1 0 XX https://clinicaltrials.gov/ProvidedDocs/33/NCT02848833/Prot_SAP_000.pdf\n",
      "0 1 US https://clinicaltrials.gov/ProvidedDocs/33/NCT03830333/Prot_SAP_000.pdf\n",
      "0 1 XX https://clinicaltrials.gov/ProvidedDocs/33/NCT03830333/Prot_SAP_000.pdf\n",
      "0 1 XX https://clinicaltrials.gov/ProvidedDocs/33/NCT03830333/Prot_SAP_000.pdf\n",
      "0 1 XX https://clinicaltrials.gov/ProvidedDocs/33/NCT03830333/Prot_SAP_000.pdf\n",
      "0 1 JP https://clinicaltrials.gov/ProvidedDocs/33/NCT03830333/Prot_SAP_000.pdf\n",
      "0 1 XX https://clinicaltrials.gov/ProvidedDocs/33/NCT03830333/Prot_SAP_000.pdf\n",
      "0 1 SE https://clinicaltrials.gov/ProvidedDocs/34/NCT02875834/Prot_001.pdf\n",
      "0 1 US https://clinicaltrials.gov/ProvidedDocs/34/NCT02875834/Prot_001.pdf\n",
      "0 1 US https://clinicaltrials.gov/ProvidedDocs/34/NCT02875834/Prot_001.pdf\n",
      "1 0 JP https://clinicaltrials.gov/ProvidedDocs/34/NCT02875834/Prot_001.pdf\n",
      "0 1 US https://clinicaltrials.gov/ProvidedDocs/34/NCT02875834/Prot_001.pdf\n",
      "0 1 IE https://clinicaltrials.gov/ProvidedDocs/34/NCT02877134/Prot_000.pdf\n",
      "0 1 BR https://clinicaltrials.gov/ProvidedDocs/34/NCT02877134/Prot_000.pdf\n",
      "0 1 CN https://clinicaltrials.gov/ProvidedDocs/34/NCT02877134/Prot_000.pdf\n",
      "0 1 IN https://clinicaltrials.gov/ProvidedDocs/34/NCT02877134/Prot_000.pdf\n",
      "0 1 ZA https://clinicaltrials.gov/ProvidedDocs/34/NCT02877134/Prot_000.pdf\n",
      "0 1 SK https://clinicaltrials.gov/ProvidedDocs/35/NCT02876835/Prot_000.pdf\n",
      "0 1 JP https://clinicaltrials.gov/ProvidedDocs/35/NCT02876835/Prot_000.pdf\n",
      "1 0 HK https://clinicaltrials.gov/ProvidedDocs/36/NCT03817736/Prot_002.pdf\n",
      "0 1 US https://clinicaltrials.gov/ProvidedDocs/36/NCT03817736/Prot_002.pdf\n",
      "0 1 CN https://clinicaltrials.gov/ProvidedDocs/37/NCT03852537/Prot_SAP_000.pdf\n",
      "1 0 US https://clinicaltrials.gov/ProvidedDocs/37/NCT03852537/Prot_SAP_000.pdf\n",
      "1 0 XX https://clinicaltrials.gov/ProvidedDocs/38/NCT02814838/Prot_001.pdf\n",
      "1 0 XX https://clinicaltrials.gov/ProvidedDocs/38/NCT02814838/Prot_001.pdf\n",
      "0 1 US https://clinicaltrials.gov/ProvidedDocs/38/NCT02814838/Prot_001.pdf\n",
      "1 0 XX https://clinicaltrials.gov/ProvidedDocs/38/NCT02814838/Prot_001.pdf\n",
      "1 0 XX https://clinicaltrials.gov/ProvidedDocs/38/NCT02814838/Prot_001.pdf\n",
      "0 1 XX https://clinicaltrials.gov/ProvidedDocs/43/NCT02814643/Prot_000.pdf\n",
      "0 1 XX https://clinicaltrials.gov/ProvidedDocs/43/NCT02814643/Prot_000.pdf\n",
      "1 0 US https://clinicaltrials.gov/ProvidedDocs/44/NCT01891344/Prot_000.pdf\n",
      "1 0 GB https://clinicaltrials.gov/ProvidedDocs/44/NCT01891344/Prot_000.pdf\n",
      "0 1 US https://clinicaltrials.gov/ProvidedDocs/44/NCT02892344/Prot_000.pdf\n",
      "1 0 JP https://clinicaltrials.gov/ProvidedDocs/44/NCT02892344/Prot_000.pdf\n",
      "1 0 GB https://clinicaltrials.gov/ProvidedDocs/45/NCT03807245/Prot_SAP_000.pdf\n",
      "0 1 US https://clinicaltrials.gov/ProvidedDocs/45/NCT03807245/Prot_SAP_000.pdf\n",
      "0 1 IE https://clinicaltrials.gov/ProvidedDocs/45/NCT03844945/Prot_000.pdf\n",
      "0 1 US https://clinicaltrials.gov/ProvidedDocs/45/NCT03844945/Prot_000.pdf\n",
      "0 1 US https://clinicaltrials.gov/ProvidedDocs/46/NCT03888846/Prot_SAP_000.pdf\n",
      "0 1 US https://clinicaltrials.gov/ProvidedDocs/48/NCT02870348/Prot_000.pdf\n",
      "0 1 GB https://clinicaltrials.gov/ProvidedDocs/49/NCT02803749/Prot_SAP_000.pdf\n",
      "0 1 XX https://clinicaltrials.gov/ProvidedDocs/49/NCT02897349/Prot_002.pdf\n",
      "0 1 US https://clinicaltrials.gov/ProvidedDocs/49/NCT02897349/Prot_002.pdf\n",
      "0 1 XX https://clinicaltrials.gov/ProvidedDocs/49/NCT02897349/Prot_002.pdf\n",
      "1 0 XX https://clinicaltrials.gov/ProvidedDocs/50/NCT02847650/Prot_000.pdf\n",
      "0 1 GB https://clinicaltrials.gov/ProvidedDocs/50/NCT02847650/Prot_000.pdf\n",
      "1 0 XX https://clinicaltrials.gov/ProvidedDocs/50/NCT02847650/Prot_000.pdf\n",
      "0 1 CA https://clinicaltrials.gov/ProvidedDocs/50/NCT03805750/Prot_SAP_002.pdf\n",
      "0 1 US https://clinicaltrials.gov/ProvidedDocs/51/NCT03853551/Prot_000.pdf\n",
      "0 1 CA https://clinicaltrials.gov/ProvidedDocs/51/NCT03853551/Prot_000.pdf\n",
      "0 1 US https://clinicaltrials.gov/ProvidedDocs/52/NCT02880852/Prot_000.pdf\n",
      "0 1 GB https://clinicaltrials.gov/ProvidedDocs/52/NCT02880852/Prot_000.pdf\n",
      "0 1 CH https://clinicaltrials.gov/ProvidedDocs/53/NCT03817853/Prot_000.pdf\n",
      "1 0 US https://clinicaltrials.gov/ProvidedDocs/54/NCT04838054/Prot_SAP_000.pdf\n",
      "0 1 XX https://clinicaltrials.gov/ProvidedDocs/55/NCT01877655/Prot_000.pdf\n",
      "1 0 AU https://clinicaltrials.gov/ProvidedDocs/55/NCT01877655/Prot_000.pdf\n",
      "0 1 XX https://clinicaltrials.gov/ProvidedDocs/55/NCT01877655/Prot_000.pdf\n",
      "1 0 BE https://clinicaltrials.gov/ProvidedDocs/55/NCT01877655/Prot_000.pdf\n",
      "0 1 XX https://clinicaltrials.gov/ProvidedDocs/55/NCT01877655/Prot_000.pdf\n",
      "1 0 CA https://clinicaltrials.gov/ProvidedDocs/55/NCT01877655/Prot_000.pdf\n",
      "0 1 XX https://clinicaltrials.gov/ProvidedDocs/55/NCT01877655/Prot_000.pdf\n",
      "1 0 FR https://clinicaltrials.gov/ProvidedDocs/55/NCT01877655/Prot_000.pdf\n",
      "0 1 XX https://clinicaltrials.gov/ProvidedDocs/55/NCT01877655/Prot_000.pdf\n",
      "1 0 DE https://clinicaltrials.gov/ProvidedDocs/55/NCT01877655/Prot_000.pdf\n",
      "0 1 XX https://clinicaltrials.gov/ProvidedDocs/55/NCT01877655/Prot_000.pdf\n",
      "1 0 KR https://clinicaltrials.gov/ProvidedDocs/55/NCT01877655/Prot_000.pdf\n",
      "0 1 XX https://clinicaltrials.gov/ProvidedDocs/55/NCT01877655/Prot_000.pdf\n",
      "1 0 ES https://clinicaltrials.gov/ProvidedDocs/55/NCT01877655/Prot_000.pdf\n",
      "0 1 XX https://clinicaltrials.gov/ProvidedDocs/55/NCT01877655/Prot_000.pdf\n",
      "1 0 SE https://clinicaltrials.gov/ProvidedDocs/55/NCT01877655/Prot_000.pdf\n",
      "0 1 XX https://clinicaltrials.gov/ProvidedDocs/55/NCT01877655/Prot_000.pdf\n",
      "1 0 TW https://clinicaltrials.gov/ProvidedDocs/55/NCT01877655/Prot_000.pdf\n",
      "0 1 XX https://clinicaltrials.gov/ProvidedDocs/55/NCT01877655/Prot_000.pdf\n",
      "0 1 XX https://clinicaltrials.gov/ProvidedDocs/55/NCT01877655/Prot_000.pdf\n",
      "0 1 XX https://clinicaltrials.gov/ProvidedDocs/55/NCT01877655/Prot_000.pdf\n",
      "1 0 XX https://clinicaltrials.gov/ProvidedDocs/56/NCT01831856/Prot_000.pdf\n",
      "1 0 XX https://clinicaltrials.gov/ProvidedDocs/56/NCT01831856/Prot_000.pdf\n",
      "1 0 XX https://clinicaltrials.gov/ProvidedDocs/56/NCT01831856/Prot_000.pdf\n",
      "0 1 BE https://clinicaltrials.gov/ProvidedDocs/56/NCT01831856/Prot_000.pdf\n",
      "1 0 XX https://clinicaltrials.gov/ProvidedDocs/56/NCT01831856/Prot_000.pdf\n",
      "1 0 XX https://clinicaltrials.gov/ProvidedDocs/56/NCT01831856/Prot_000.pdf\n",
      "1 0 XX https://clinicaltrials.gov/ProvidedDocs/56/NCT01831856/Prot_000.pdf\n",
      "1 0 XX https://clinicaltrials.gov/ProvidedDocs/56/NCT01831856/Prot_000.pdf\n",
      "1 0 XX https://clinicaltrials.gov/ProvidedDocs/56/NCT01831856/Prot_000.pdf\n",
      "1 0 HU https://clinicaltrials.gov/ProvidedDocs/56/NCT01831856/Prot_000.pdf\n",
      "1 0 XX https://clinicaltrials.gov/ProvidedDocs/56/NCT01831856/Prot_000.pdf\n",
      "1 0 CZ https://clinicaltrials.gov/ProvidedDocs/56/NCT01831856/Prot_000.pdf\n",
      "1 0 XX https://clinicaltrials.gov/ProvidedDocs/56/NCT01831856/Prot_000.pdf\n",
      "1 0 US https://clinicaltrials.gov/ProvidedDocs/56/NCT01874756/Prot_SAP_000.pdf\n",
      "1 0 CN https://clinicaltrials.gov/ProvidedDocs/57/NCT02805257/Prot_000.pdf\n",
      "1 0 XX https://clinicaltrials.gov/ProvidedDocs/57/NCT02805257/Prot_000.pdf\n",
      "1 0 XX https://clinicaltrials.gov/ProvidedDocs/57/NCT02805257/Prot_000.pdf\n",
      "1 0 US https://clinicaltrials.gov/ProvidedDocs/58/NCT01852058/Prot_001.pdf\n",
      "1 0 XX https://clinicaltrials.gov/ProvidedDocs/58/NCT01852058/Prot_001.pdf\n",
      "1 0 XX https://clinicaltrials.gov/ProvidedDocs/58/NCT01852058/Prot_001.pdf\n",
      "1 0 XX https://clinicaltrials.gov/ProvidedDocs/59/NCT01854359/Prot_SAP_000.pdf\n",
      "1 0 XX https://clinicaltrials.gov/ProvidedDocs/59/NCT01854359/Prot_SAP_000.pdf\n",
      "1 0 XX https://clinicaltrials.gov/ProvidedDocs/59/NCT01854359/Prot_SAP_000.pdf\n",
      "1 0 XX https://clinicaltrials.gov/ProvidedDocs/59/NCT01854359/Prot_SAP_000.pdf\n",
      "1 0 XX https://clinicaltrials.gov/ProvidedDocs/59/NCT01854359/Prot_SAP_000.pdf\n",
      "1 0 XX https://clinicaltrials.gov/ProvidedDocs/59/NCT01854359/Prot_SAP_000.pdf\n",
      "0 1 CA https://clinicaltrials.gov/ProvidedDocs/59/NCT01854359/Prot_SAP_000.pdf\n",
      "1 0 XX https://clinicaltrials.gov/ProvidedDocs/59/NCT01854359/Prot_SAP_000.pdf\n",
      "1 0 XX https://clinicaltrials.gov/ProvidedDocs/59/NCT01854359/Prot_SAP_000.pdf\n",
      "1 0 XX https://clinicaltrials.gov/ProvidedDocs/59/NCT01854359/Prot_SAP_000.pdf\n",
      "1 0 XX https://clinicaltrials.gov/ProvidedDocs/59/NCT01854359/Prot_SAP_000.pdf\n",
      "1 0 XX https://clinicaltrials.gov/ProvidedDocs/59/NCT01854359/Prot_SAP_000.pdf\n",
      "0 1 JP https://clinicaltrials.gov/ProvidedDocs/59/NCT02843659/Prot_000.pdf\n",
      "1 0 US https://clinicaltrials.gov/ProvidedDocs/59/NCT03852459/Prot_SAP_001.pdf\n",
      "0 1 CA https://clinicaltrials.gov/ProvidedDocs/59/NCT03881059/Prot_000.pdf\n",
      "0 1 JP https://clinicaltrials.gov/ProvidedDocs/59/NCT03881059/Prot_000.pdf\n",
      "0 1 XX https://clinicaltrials.gov/ProvidedDocs/60/NCT02895360/Prot_SAP_000.pdf\n",
      "0 1 XX https://clinicaltrials.gov/ProvidedDocs/60/NCT02895360/Prot_SAP_000.pdf\n",
      "0 1 XX https://clinicaltrials.gov/ProvidedDocs/60/NCT02895360/Prot_SAP_000.pdf\n",
      "0 1 XX https://clinicaltrials.gov/ProvidedDocs/62/NCT02899962/Prot_000.pdf\n",
      "1 0 CA https://clinicaltrials.gov/ProvidedDocs/62/NCT02899962/Prot_000.pdf\n",
      "0 1 XX https://clinicaltrials.gov/ProvidedDocs/62/NCT02899962/Prot_000.pdf\n",
      "1 0 FR https://clinicaltrials.gov/ProvidedDocs/62/NCT02899962/Prot_000.pdf\n",
      "0 1 XX https://clinicaltrials.gov/ProvidedDocs/62/NCT02899962/Prot_000.pdf\n",
      "0 1 XX https://clinicaltrials.gov/ProvidedDocs/62/NCT02899962/Prot_000.pdf\n",
      "0 1 XX https://clinicaltrials.gov/ProvidedDocs/62/NCT02899962/Prot_000.pdf\n",
      "0 1 XX https://clinicaltrials.gov/ProvidedDocs/62/NCT02899962/Prot_000.pdf\n",
      "0 1 DK https://clinicaltrials.gov/ProvidedDocs/62/NCT02899962/Prot_000.pdf\n",
      "0 1 XX https://clinicaltrials.gov/ProvidedDocs/62/NCT02899962/Prot_000.pdf\n",
      "0 1 IE https://clinicaltrials.gov/ProvidedDocs/62/NCT02899962/Prot_000.pdf\n",
      "0 1 XX https://clinicaltrials.gov/ProvidedDocs/62/NCT02899962/Prot_000.pdf\n",
      "0 1 IE https://clinicaltrials.gov/ProvidedDocs/66/NCT01804166/Prot_000.pdf\n",
      "0 1 XX https://clinicaltrials.gov/ProvidedDocs/66/NCT01804166/Prot_000.pdf\n",
      "0 1 XX https://clinicaltrials.gov/ProvidedDocs/66/NCT01804166/Prot_000.pdf\n",
      "0 1 XX https://clinicaltrials.gov/ProvidedDocs/66/NCT01804166/Prot_000.pdf\n",
      "0 1 US https://clinicaltrials.gov/ProvidedDocs/66/NCT02875366/Prot_000.pdf\n",
      "1 0 AU https://clinicaltrials.gov/ProvidedDocs/66/NCT02875366/Prot_000.pdf\n",
      "1 0 GB https://clinicaltrials.gov/ProvidedDocs/66/NCT02875366/Prot_000.pdf\n",
      "0 1 CA https://clinicaltrials.gov/ProvidedDocs/67/NCT00875667/Prot_000.pdf\n",
      "0 1 US https://clinicaltrials.gov/ProvidedDocs/67/NCT00875667/Prot_000.pdf\n",
      "1 0 BE https://clinicaltrials.gov/ProvidedDocs/67/NCT00875667/Prot_000.pdf\n",
      "1 0 IT https://clinicaltrials.gov/ProvidedDocs/67/NCT00875667/Prot_000.pdf\n",
      "1 0 RU https://clinicaltrials.gov/ProvidedDocs/67/NCT00875667/Prot_000.pdf\n",
      "1 0 US https://clinicaltrials.gov/ProvidedDocs/67/NCT02841267/Prot_001.pdf\n",
      "1 0 EG https://clinicaltrials.gov/ProvidedDocs/68/NCT03838068/Prot_SAP_000.pdf\n",
      "0 1 US https://clinicaltrials.gov/ProvidedDocs/68/NCT03838068/Prot_SAP_000.pdf\n",
      "0 1 CA https://clinicaltrials.gov/ProvidedDocs/69/NCT01847469/Prot_SAP_000.pdf\n",
      "1 0 US https://clinicaltrials.gov/ProvidedDocs/70/NCT02815670/Prot_000.pdf\n",
      "1 0 DE https://clinicaltrials.gov/ProvidedDocs/70/NCT02815670/Prot_000.pdf\n",
      "1 0 US https://clinicaltrials.gov/ProvidedDocs/70/NCT03882970/Prot_000.pdf\n",
      "1 0 XX https://clinicaltrials.gov/ProvidedDocs/70/NCT03882970/Prot_000.pdf\n",
      "1 0 XX https://clinicaltrials.gov/ProvidedDocs/70/NCT03882970/Prot_000.pdf\n",
      "1 0 US https://clinicaltrials.gov/ProvidedDocs/71/NCT01806571/Prot_SAP_000.pdf\n",
      "0 1 XX https://clinicaltrials.gov/ProvidedDocs/72/NCT01830972/Prot_000.pdf\n",
      "0 1 XX https://clinicaltrials.gov/ProvidedDocs/72/NCT01830972/Prot_000.pdf\n",
      "0 1 XX https://clinicaltrials.gov/ProvidedDocs/72/NCT01830972/Prot_000.pdf\n",
      "0 1 US https://clinicaltrials.gov/ProvidedDocs/72/NCT02870972/Prot_000.pdf\n",
      "1 0 XX https://clinicaltrials.gov/ProvidedDocs/72/NCT02870972/Prot_000.pdf\n",
      "1 0 XX https://clinicaltrials.gov/ProvidedDocs/72/NCT02870972/Prot_000.pdf\n",
      "1 0 XX https://clinicaltrials.gov/ProvidedDocs/72/NCT02870972/Prot_000.pdf\n",
      "1 0 XX https://clinicaltrials.gov/ProvidedDocs/72/NCT02870972/Prot_000.pdf\n",
      "1 0 XX https://clinicaltrials.gov/ProvidedDocs/72/NCT02870972/Prot_000.pdf\n",
      "1 0 XX https://clinicaltrials.gov/ProvidedDocs/72/NCT02870972/Prot_000.pdf\n",
      "0 1 NZ https://clinicaltrials.gov/ProvidedDocs/72/NCT02870972/Prot_000.pdf\n",
      "1 0 XX https://clinicaltrials.gov/ProvidedDocs/72/NCT02870972/Prot_000.pdf\n",
      "1 0 AU https://clinicaltrials.gov/ProvidedDocs/73/NCT02831673/Prot_000.pdf\n",
      "0 1 US https://clinicaltrials.gov/ProvidedDocs/74/NCT01862874/Prot_SAP_000.pdf\n",
      "1 0 XX https://clinicaltrials.gov/ProvidedDocs/74/NCT02823574/Prot_000.pdf\n",
      "1 0 US https://clinicaltrials.gov/ProvidedDocs/74/NCT02823574/Prot_000.pdf\n",
      "1 0 XX https://clinicaltrials.gov/ProvidedDocs/74/NCT02823574/Prot_000.pdf\n",
      "1 0 XX https://clinicaltrials.gov/ProvidedDocs/74/NCT02823574/Prot_000.pdf\n",
      "0 1 XX https://clinicaltrials.gov/ProvidedDocs/74/NCT04863274/Prot_000.pdf\n",
      "1 0 UG https://clinicaltrials.gov/ProvidedDocs/75/NCT01854775/Prot_000.pdf\n",
      "1 0 ZA https://clinicaltrials.gov/ProvidedDocs/75/NCT01854775/Prot_000.pdf\n",
      "0 1 US https://clinicaltrials.gov/ProvidedDocs/77/NCT02898077/Prot_000.pdf\n",
      "1 0 XX https://clinicaltrials.gov/ProvidedDocs/77/NCT02898077/Prot_000.pdf\n",
      "1 0 XX https://clinicaltrials.gov/ProvidedDocs/77/NCT02898077/Prot_000.pdf\n",
      "1 0 XX https://clinicaltrials.gov/ProvidedDocs/77/NCT02898077/Prot_000.pdf\n",
      "1 0 XX https://clinicaltrials.gov/ProvidedDocs/77/NCT02898077/Prot_000.pdf\n",
      "1 0 XX https://clinicaltrials.gov/ProvidedDocs/77/NCT02898077/Prot_000.pdf\n",
      "1 0 GB https://clinicaltrials.gov/ProvidedDocs/78/NCT03823378/Prot_000.pdf\n",
      "1 0 ES https://clinicaltrials.gov/ProvidedDocs/78/NCT03823378/Prot_000.pdf\n",
      "0 1 US https://clinicaltrials.gov/ProvidedDocs/78/NCT03823378/Prot_000.pdf\n",
      "1 0 US https://clinicaltrials.gov/ProvidedDocs/78/NCT03840278/Prot_SAP_000.pdf\n",
      "1 0 US https://clinicaltrials.gov/ProvidedDocs/78/NCT03840278/Prot_SAP_000.pdf\n",
      "0 1 CA https://clinicaltrials.gov/ProvidedDocs/80/NCT01853280/Prot_000.pdf\n",
      "0 1 US https://clinicaltrials.gov/ProvidedDocs/80/NCT03817580/Prot_SAP_000.pdf\n",
      "1 0 DE https://clinicaltrials.gov/ProvidedDocs/81/NCT00863681/Prot_000.pdf\n",
      "1 0 XX https://clinicaltrials.gov/ProvidedDocs/81/NCT00863681/Prot_000.pdf\n",
      "1 0 US https://clinicaltrials.gov/ProvidedDocs/81/NCT00863681/Prot_000.pdf\n",
      "0 1 XX https://clinicaltrials.gov/ProvidedDocs/81/NCT02856581/Prot_SAP_000.pdf\n",
      "0 1 CA https://clinicaltrials.gov/ProvidedDocs/81/NCT02868281/Prot_000.pdf\n",
      "1 0 XX https://clinicaltrials.gov/ProvidedDocs/82/NCT03875482/Prot_000.pdf\n",
      "0 1 XX https://clinicaltrials.gov/ProvidedDocs/83/NCT02887183/Prot_000.pdf\n",
      "0 1 XX https://clinicaltrials.gov/ProvidedDocs/85/NCT02872285/Prot_000.pdf\n",
      "0 1 ES https://clinicaltrials.gov/ProvidedDocs/85/NCT03869385/Prot_002.pdf\n",
      "0 1 CA https://clinicaltrials.gov/ProvidedDocs/86/NCT01818986/Prot_SAP_000.pdf\n",
      "0 1 CA https://clinicaltrials.gov/ProvidedDocs/86/NCT02806986/Prot_000.pdf\n",
      "1 0 FR https://clinicaltrials.gov/ProvidedDocs/86/NCT02860286/Prot_SAP_000.pdf\n",
      "1 0 GB https://clinicaltrials.gov/ProvidedDocs/86/NCT02860286/Prot_SAP_000.pdf\n",
      "0 1 CA https://clinicaltrials.gov/ProvidedDocs/86/NCT03844386/Prot_SAP_000.pdf\n",
      "0 1 US https://clinicaltrials.gov/ProvidedDocs/87/NCT01865487/Prot_000.pdf\n",
      "1 0 XX https://clinicaltrials.gov/ProvidedDocs/87/NCT02849587/Prot_SAP_001.pdf\n",
      "0 1 CA https://clinicaltrials.gov/ProvidedDocs/87/NCT02849587/Prot_SAP_001.pdf\n",
      "1 0 XX https://clinicaltrials.gov/ProvidedDocs/87/NCT02849587/Prot_SAP_001.pdf\n",
      "1 0 XX https://clinicaltrials.gov/ProvidedDocs/87/NCT02849587/Prot_SAP_001.pdf\n",
      "1 0 JP https://clinicaltrials.gov/ProvidedDocs/90/NCT01824290/Prot_000.pdf\n",
      "0 1 XX https://clinicaltrials.gov/ProvidedDocs/90/NCT03814590/Prot_000.pdf\n",
      "0 1 XX https://clinicaltrials.gov/ProvidedDocs/90/NCT03814590/Prot_000.pdf\n",
      "0 1 XX https://clinicaltrials.gov/ProvidedDocs/90/NCT03814590/Prot_000.pdf\n",
      "0 1 XX https://clinicaltrials.gov/ProvidedDocs/90/NCT03814590/Prot_000.pdf\n",
      "0 1 XX https://clinicaltrials.gov/ProvidedDocs/90/NCT03814590/Prot_000.pdf\n",
      "0 1 DE https://clinicaltrials.gov/ProvidedDocs/90/NCT03814590/Prot_000.pdf\n",
      "0 1 XX https://clinicaltrials.gov/ProvidedDocs/90/NCT03814590/Prot_000.pdf\n",
      "0 1 XX https://clinicaltrials.gov/ProvidedDocs/90/NCT03814590/Prot_000.pdf\n",
      "0 1 XX https://clinicaltrials.gov/ProvidedDocs/90/NCT03814590/Prot_000.pdf\n",
      "1 0 XX https://clinicaltrials.gov/ProvidedDocs/92/NCT01818492/Prot_001.pdf\n",
      "1 0 XX https://clinicaltrials.gov/ProvidedDocs/92/NCT01818492/Prot_001.pdf\n",
      "1 0 DE https://clinicaltrials.gov/ProvidedDocs/92/NCT01818492/Prot_001.pdf\n",
      "1 0 XX https://clinicaltrials.gov/ProvidedDocs/92/NCT01818492/Prot_001.pdf\n",
      "1 0 XX https://clinicaltrials.gov/ProvidedDocs/92/NCT01818492/Prot_001.pdf\n",
      "1 0 XX https://clinicaltrials.gov/ProvidedDocs/92/NCT01818492/Prot_001.pdf\n",
      "1 0 SE https://clinicaltrials.gov/ProvidedDocs/92/NCT01818492/Prot_001.pdf\n",
      "1 0 XX https://clinicaltrials.gov/ProvidedDocs/92/NCT01818492/Prot_001.pdf\n",
      "1 0 XX https://clinicaltrials.gov/ProvidedDocs/92/NCT01818492/Prot_001.pdf\n",
      "1 0 GB https://clinicaltrials.gov/ProvidedDocs/92/NCT01852292/Prot_001.pdf\n",
      "1 0 TW https://clinicaltrials.gov/ProvidedDocs/92/NCT01852292/Prot_001.pdf\n",
      "0 1 US https://clinicaltrials.gov/ProvidedDocs/92/NCT02858492/Prot_000.pdf\n",
      "0 1 CD https://clinicaltrials.gov/ProvidedDocs/92/NCT02858492/Prot_000.pdf\n",
      "0 1 CN https://clinicaltrials.gov/ProvidedDocs/92/NCT02858492/Prot_000.pdf\n",
      "1 0 JP https://clinicaltrials.gov/ProvidedDocs/93/NCT03808493/Prot_000.pdf\n",
      "0 1 AT https://clinicaltrials.gov/ProvidedDocs/94/NCT02813694/Prot_001.pdf\n",
      "0 1 US https://clinicaltrials.gov/ProvidedDocs/94/NCT02864394/Prot_SAP_000.pdf\n",
      "0 1 XX https://clinicaltrials.gov/ProvidedDocs/94/NCT02874794/Prot_000.pdf\n",
      "1 0 XX https://clinicaltrials.gov/ProvidedDocs/95/NCT02858895/Prot_002.pdf\n",
      "1 0 XX https://clinicaltrials.gov/ProvidedDocs/95/NCT02858895/Prot_002.pdf\n",
      "0 1 CA https://clinicaltrials.gov/ProvidedDocs/95/NCT02873195/Prot_SAP_000.pdf\n",
      "1 0 US https://clinicaltrials.gov/ProvidedDocs/96/NCT00890396/Prot_SAP_003.pdf\n",
      "1 0 CA https://clinicaltrials.gov/ProvidedDocs/96/NCT01897896/Prot_000.pdf\n",
      "1 0 AU https://clinicaltrials.gov/ProvidedDocs/96/NCT01897896/Prot_000.pdf\n",
      "0 1 XX https://clinicaltrials.gov/ProvidedDocs/96/NCT03847896/Prot_000.pdf\n",
      "0 1 XX https://clinicaltrials.gov/ProvidedDocs/96/NCT03847896/Prot_000.pdf\n",
      "1 0 RS https://clinicaltrials.gov/ProvidedDocs/96/NCT03847896/Prot_000.pdf\n",
      "0 1 XX https://clinicaltrials.gov/ProvidedDocs/96/NCT03847896/Prot_000.pdf\n",
      "0 1 XX https://clinicaltrials.gov/ProvidedDocs/96/NCT03847896/Prot_000.pdf\n",
      "1 0 UA https://clinicaltrials.gov/ProvidedDocs/96/NCT03847896/Prot_000.pdf\n",
      "0 1 XX https://clinicaltrials.gov/ProvidedDocs/96/NCT03847896/Prot_000.pdf\n",
      "0 1 XX https://clinicaltrials.gov/ProvidedDocs/96/NCT03847896/Prot_000.pdf\n",
      "0 1 XX https://clinicaltrials.gov/ProvidedDocs/96/NCT03847896/Prot_000.pdf\n",
      "0 1 TH https://clinicaltrials.gov/ProvidedDocs/96/NCT03856996/Prot_001.pdf\n",
      "1 0 US https://clinicaltrials.gov/ProvidedDocs/97/NCT01885897/Prot_SAP_000.pdf\n",
      "0 1 CA https://clinicaltrials.gov/ProvidedDocs/99/NCT00807599/Prot_SAP_000.pdf\n",
      "1 0 US https://clinicaltrials.gov/ProvidedDocs/99/NCT02899299/Prot_000.pdf\n",
      "1 0 XX https://clinicaltrials.gov/ProvidedDocs/99/NCT02899299/Prot_000.pdf\n",
      "1 0 BR https://clinicaltrials.gov/ProvidedDocs/99/NCT03870399/Prot_SAP_ICF_000.pdf\n",
      "0 1 US https://clinicaltrials.gov/ProvidedDocs/99/NCT03870399/Prot_SAP_ICF_000.pdf\n"
     ]
    }
   ],
   "source": [
    "for idx in range(len(y_val)):\n",
    "    if y_val[idx] != y_pred[idx]:\n",
    "        a, b, c = file_names_val[idx].split(\"_\", 2)\n",
    "        url = f\"https://clinicaltrials.gov/ProvidedDocs/{a}/{b}/{c}\"\n",
    "        print (y_val[idx], y_pred[idx], countries_val[idx], url)\n"
   ]
  },
  {
   "cell_type": "code",
   "execution_count": 70,
   "id": "2374e052",
   "metadata": {},
   "outputs": [
    {
     "data": {
      "text/plain": [
       "''"
      ]
     },
     "execution_count": 70,
     "metadata": {},
     "output_type": "execute_result"
    },
    {
     "data": {
      "image/png": "[encoded data removed]",
      "text/plain": [
       "<Figure size 432x288 with 2 Axes>"
      ]
     },
     "metadata": {
      "needs_background": "light"
     },
     "output_type": "display_data"
    }
   ],
   "source": [
    "ConfusionMatrixDisplay.from_predictions(y_val, y_pred)\n",
    "plt.xticks(rotation=90)\n",
    ";"
   ]
  },
  {
   "cell_type": "code",
   "execution_count": 71,
   "id": "0a7c0359",
   "metadata": {},
   "outputs": [],
   "source": [
    "y_pred_proba = m.predict_proba(X_val)[:,1]"
   ]
  },
  {
   "cell_type": "code",
   "execution_count": null,
   "id": "af7e716e",
   "metadata": {},
   "outputs": [],
   "source": []
  },
  {
   "cell_type": "code",
   "execution_count": 72,
   "id": "61a105b6",
   "metadata": {
    "scrolled": true
   },
   "outputs": [
    {
     "name": "stdout",
     "output_type": "stream",
     "text": [
      "Countries ROC AUC 0.8652508402838293 for ensemble model\n"
     ]
    }
   ],
   "source": [
    "from sklearn.metrics import roc_auc_score\n",
    "roc_auc = roc_auc_score(y_val, y_pred_proba)\n",
    "print (f\"Countries ROC AUC {roc_auc} for ensemble model\")\n"
   ]
  },
  {
   "cell_type": "code",
   "execution_count": 73,
   "id": "3fc44d1c",
   "metadata": {
    "scrolled": false
   },
   "outputs": [
    {
     "data": {
      "image/png": "[encoded data removed]",
      "text/plain": [
       "<Figure size 432x288 with 1 Axes>"
      ]
     },
     "metadata": {
      "needs_background": "light"
     },
     "output_type": "display_data"
    }
   ],
   "source": [
    "plt.figure()\n",
    "lw = 2\n",
    "    \n",
    "fpr, tpr, _ = roc_curve(y_val, y_pred_proba)\n",
    "roc_auc = auc(fpr, tpr)\n",
    "plt.plot(\n",
    "    fpr,\n",
    "    tpr,\n",
    "    # color=\"darkorange\",\n",
    "    lw=lw,\n",
    "    label=f\"ROC curve model for countries (area = {roc_auc:0.2f})\"\n",
    ")\n",
    "plt.plot([0, 1], [0, 1], color=\"gray\", alpha=0.5, lw=lw, linestyle=\"--\")\n",
    "plt.xlim([0.0, 1.0])\n",
    "plt.ylim([0.0, 1.05])\n",
    "plt.xlabel(\"False Positive Rate\")\n",
    "plt.ylabel(\"True Positive Rate\")\n",
    "plt.title(\"Country recognition ensemble model\")\n",
    "plt.legend(loc=\"lower right\")\n",
    "plt.show()"
   ]
  },
  {
   "cell_type": "code",
   "execution_count": 74,
   "id": "adc31c12",
   "metadata": {},
   "outputs": [],
   "source": [
    "import bz2, pickle as pkl\n",
    "with bz2.open(\"../front_end/models/country_ensemble_model.pkl.bz2\", \"wb\") as f:\n",
    "    pkl.dump(m, f)"
   ]
  },
  {
   "cell_type": "code",
   "execution_count": null,
   "id": "c21f57da",
   "metadata": {},
   "outputs": [],
   "source": []
  }
 ],
 "metadata": {
  "kernelspec": {
   "display_name": "Python [conda env:protocols]",
   "language": "python",
   "name": "conda-env-protocols-py"
  },
  "language_info": {
   "codemirror_mode": {
    "name": "ipython",
    "version": 3
   },
   "file_extension": ".py",
   "mimetype": "text/x-python",
   "name": "python",
   "nbconvert_exporter": "python",
   "pygments_lexer": "ipython3",
   "version": "3.10.6"
  }
 },
 "nbformat": 4,
 "nbformat_minor": 5
}
