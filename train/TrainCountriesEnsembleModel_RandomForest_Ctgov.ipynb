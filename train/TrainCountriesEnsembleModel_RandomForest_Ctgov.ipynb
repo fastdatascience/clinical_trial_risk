{
 "cells": [
  {
   "cell_type": "code",
   "execution_count": 39,
   "id": "9eed3f3c",
   "metadata": {},
   "outputs": [],
   "source": [
    "import pandas as pd\n",
    "import re\n",
    "import os\n",
    "import sys\n",
    "import pickle as pkl\n",
    "import seaborn as sns\n",
    "from sklearn.metrics import accuracy_score, confusion_matrix\n",
    "from sklearn.metrics import ConfusionMatrixDisplay\n",
    "from sklearn.metrics import mean_absolute_error, mean_squared_error\n",
    "from sklearn.metrics import roc_auc_score\n",
    "from sklearn.metrics import roc_curve, auc\n",
    "from IPython.display import display\n",
    "import matplotlib.pyplot as plt\n",
    "import numpy as np\n",
    "import json\n",
    "\n",
    "sys.path.append(\"../front_end\")\n",
    "\n",
    "df_annotations = pd.read_csv(\"../data/ctgov/annotations/all_annotations.csv\")\n"
   ]
  },
  {
   "cell_type": "code",
   "execution_count": 40,
   "id": "a526601d",
   "metadata": {},
   "outputs": [],
   "source": [
    "MODELS_DIR = '../front_end/models/'"
   ]
  },
  {
   "cell_type": "code",
   "execution_count": 41,
   "id": "8f2b933e",
   "metadata": {},
   "outputs": [],
   "source": [
    "from util.page_tokeniser import tokenise_pages"
   ]
  },
  {
   "cell_type": "code",
   "execution_count": 42,
   "id": "bbc754b4",
   "metadata": {},
   "outputs": [],
   "source": [
    "from processors.country_extractor import CountryExtractor, extract_features, LMIC_COUNTRIES"
   ]
  },
  {
   "cell_type": "code",
   "execution_count": 43,
   "id": "c18da48a",
   "metadata": {},
   "outputs": [],
   "source": [
    "from processors.country_ensemble_extractor import make_feature_vector, FEATURES"
   ]
  },
  {
   "cell_type": "code",
   "execution_count": 44,
   "id": "4bc7c815",
   "metadata": {},
   "outputs": [],
   "source": [
    "from processors.country_group_extractor import CountryGroupExtractor"
   ]
  },
  {
   "cell_type": "code",
   "execution_count": 45,
   "id": "37627553",
   "metadata": {},
   "outputs": [],
   "source": [
    "from processors.international_extractor_spacy import InternationalExtractorSpacy"
   ]
  },
  {
   "cell_type": "code",
   "execution_count": 46,
   "id": "3847742f",
   "metadata": {},
   "outputs": [],
   "source": [
    "from processors.international_extractor_naive_bayes import InternationalExtractorNaiveBayes"
   ]
  },
  {
   "cell_type": "code",
   "execution_count": 47,
   "id": "b5cd655a",
   "metadata": {},
   "outputs": [],
   "source": [
    "country_extractor = CountryExtractor()"
   ]
  },
  {
   "cell_type": "code",
   "execution_count": null,
   "id": "5222c584",
   "metadata": {},
   "outputs": [],
   "source": [
    "country_group_extractor = CountryGroupExtractor(MODELS_DIR + \"spacy-textcat-country-16-model-best\")"
   ]
  },
  {
   "cell_type": "code",
   "execution_count": null,
   "id": "93a494a5",
   "metadata": {
    "scrolled": true
   },
   "outputs": [],
   "source": [
    "international_extractor_spacy = InternationalExtractorSpacy(MODELS_DIR + \"spacy-textcat-international-11-model-best\")"
   ]
  },
  {
   "cell_type": "code",
   "execution_count": null,
   "id": "4cfcf71f",
   "metadata": {},
   "outputs": [],
   "source": [
    "international_extractor_naive_bayes = InternationalExtractorNaiveBayes(MODELS_DIR + \"international_classifier.pkl.bz2\")"
   ]
  },
  {
   "cell_type": "code",
   "execution_count": null,
   "id": "a53b1305",
   "metadata": {},
   "outputs": [],
   "source": [
    "df_small = df_annotations[(~df_annotations.country.isna())\n",
    "                         \n",
    "                         & (df_annotations.train_val == \"val\")]"
   ]
  },
  {
   "cell_type": "code",
   "execution_count": null,
   "id": "5d290080",
   "metadata": {},
   "outputs": [],
   "source": [
    "#df_small = df_small.sample(100)"
   ]
  },
  {
   "cell_type": "code",
   "execution_count": null,
   "id": "688b864d",
   "metadata": {},
   "outputs": [],
   "source": [
    "df_small.drop(columns=[\"num_arms\", \"num_subjects\", \"phase\", \"intervention_type\", \"has_sap\"], inplace=True)"
   ]
  },
  {
   "cell_type": "code",
   "execution_count": null,
   "id": "20e38210",
   "metadata": {},
   "outputs": [],
   "source": [
    "from sklearn.model_selection import train_test_split\n",
    "ids_train, ids_val = train_test_split(list(range(len(df_small))))\n",
    "ids_train = set(ids_train)\n",
    "ids_val = set(ids_val)"
   ]
  },
  {
   "cell_type": "code",
   "execution_count": null,
   "id": "b269486c",
   "metadata": {},
   "outputs": [],
   "source": [
    "train_val = []\n",
    "for idx in range(len(df_small)):\n",
    "    if idx in ids_train:\n",
    "        train_val.append(\"train\")\n",
    "    else:\n",
    "        train_val.append(\"val\")\n",
    "df_small[\"train_val\"] = train_val"
   ]
  },
  {
   "cell_type": "code",
   "execution_count": null,
   "id": "1f865654",
   "metadata": {},
   "outputs": [],
   "source": [
    "X = []\n",
    "y = []\n",
    "country_identities = []\n",
    "files = []\n",
    "train_val = []\n",
    "for idx in range(len(df_small)):\n",
    "    file_name = df_small.file.iloc[idx]\n",
    "    \n",
    "    with open(\"/media/thomas/642d0db5-2c98-4156-b591-1a3572c5868c/data_open/read_ctgov_data/json/\" + file_name + \".json\", \"r\", encoding=\"utf-8\") as f:\n",
    "        pages = json.load(f)\n",
    "\n",
    "    country_to_pages = country_extractor.process(pages)\n",
    "    \n",
    "    tokenised_pages = tokenise_pages(pages)\n",
    "    \n",
    "    country_group_to_pages = country_group_extractor.process(tokenised_pages)\n",
    "        \n",
    "    is_international_to_pages = international_extractor_spacy.process(tokenised_pages)\n",
    "            \n",
    "    is_international_nb_to_pages = international_extractor_naive_bayes.process(tokenised_pages)\n",
    "    \n",
    "    X_this_doc, country_identities_this_doc = make_feature_vector(country_to_pages[\"features\"],\n",
    "                                                        country_group_to_pages[\"probas\"],\n",
    "                                                        is_international_to_pages[\"probas\"],\n",
    "                                                        is_international_nb_to_pages[\"score\"])\n",
    "    \n",
    "    all_country_identities_found = set(country_identities_this_doc)\n",
    "    all_country_identities_gt = set(df_small.country.iloc[idx].split(\",\"))\n",
    "    \n",
    "    is_extra_gt_not_found = False\n",
    "    for c in all_country_identities_gt:\n",
    "        if c not in all_country_identities_found:\n",
    "            is_extra_gt_not_found = True\n",
    "    \n",
    "    for country_occurrence_idx in range(len(X_this_doc)):\n",
    "        \n",
    "        gt = int(country_identities_this_doc[country_occurrence_idx] in all_country_identities_gt)\n",
    "        \n",
    "        if country_identities_this_doc[country_occurrence_idx] == \"XX\" and is_extra_gt_not_found:\n",
    "            gt = True\n",
    "        \n",
    "        X.append(X_this_doc[country_occurrence_idx])\n",
    "        y.append(gt)\n",
    "        country_identities.append(country_identities_this_doc[country_occurrence_idx])\n",
    "        train_val.append(df_small.train_val.iloc[idx])\n",
    "        files.append(df_small.file.iloc[idx])"
   ]
  },
  {
   "cell_type": "code",
   "execution_count": null,
   "id": "6181a380",
   "metadata": {},
   "outputs": [],
   "source": [
    "X_train = []\n",
    "y_train = []\n",
    "X_val = []\n",
    "y_val = []\n",
    "countries_train = []\n",
    "countries_val = []\n",
    "file_names_train = []\n",
    "file_names_val = []\n",
    "for idx in range(len(X)):\n",
    "    if train_val[idx] == \"train\":\n",
    "        X_train.append(X[idx])\n",
    "        y_train.append(y[idx])\n",
    "        countries_train.append(country_identities[idx])\n",
    "        file_names_train.append(files[idx])\n",
    "    else:\n",
    "        X_val.append(X[idx])\n",
    "        y_val.append(y[idx])\n",
    "        countries_val.append(country_identities[idx])\n",
    "        file_names_val.append(files[idx])\n",
    "        "
   ]
  },
  {
   "cell_type": "code",
   "execution_count": null,
   "id": "65851d69",
   "metadata": {},
   "outputs": [],
   "source": [
    "X_train = np.asarray(X_train)\n",
    "y_train = np.asarray(y_train)"
   ]
  },
  {
   "cell_type": "code",
   "execution_count": null,
   "id": "5f6a0d29",
   "metadata": {},
   "outputs": [],
   "source": [
    "X_val = np.asarray(X_val)\n",
    "y_val = np.asarray(y_val)"
   ]
  },
  {
   "cell_type": "code",
   "execution_count": null,
   "id": "b7e31ba7",
   "metadata": {},
   "outputs": [],
   "source": [
    "from sklearn.linear_model import LogisticRegression"
   ]
  },
  {
   "cell_type": "code",
   "execution_count": null,
   "id": "7d92b231",
   "metadata": {},
   "outputs": [],
   "source": [
    "m = LogisticRegression()\n",
    "m.fit(X_train, y_train)"
   ]
  },
  {
   "cell_type": "code",
   "execution_count": null,
   "id": "d1c0c6d1",
   "metadata": {},
   "outputs": [],
   "source": [
    "import seaborn as sns\n",
    "sns.barplot(data=pd.DataFrame({\"x\":FEATURES, \"y\":m.coef_[0]}), x=\"x\", y=\"y\")\n",
    "plt.xticks(rotation=90)\n",
    ";"
   ]
  },
  {
   "cell_type": "code",
   "execution_count": null,
   "id": "7fafd2f9",
   "metadata": {},
   "outputs": [],
   "source": [
    "from sklearn.ensemble import RandomForestClassifier"
   ]
  },
  {
   "cell_type": "code",
   "execution_count": null,
   "id": "8ed04c9b",
   "metadata": {},
   "outputs": [],
   "source": [
    "m = RandomForestClassifier()"
   ]
  },
  {
   "cell_type": "code",
   "execution_count": null,
   "id": "7f583577",
   "metadata": {},
   "outputs": [],
   "source": [
    "m.fit(X_train, y_train)"
   ]
  },
  {
   "cell_type": "code",
   "execution_count": null,
   "id": "c9eecdf6",
   "metadata": {},
   "outputs": [],
   "source": [
    "import seaborn as sns\n",
    "sns.barplot(data=pd.DataFrame({\"x\":FEATURES, \"y\":m.feature_importances_}), x=\"x\", y=\"y\")\n",
    "plt.xticks(rotation=90)\n",
    ";"
   ]
  },
  {
   "cell_type": "code",
   "execution_count": null,
   "id": "3bfce790",
   "metadata": {},
   "outputs": [],
   "source": [
    "y_pred = m.predict(X_val)"
   ]
  },
  {
   "cell_type": "code",
   "execution_count": null,
   "id": "82cee3a3",
   "metadata": {},
   "outputs": [],
   "source": [
    "accuracy_score(y_val, y_pred)"
   ]
  },
  {
   "cell_type": "code",
   "execution_count": null,
   "id": "504f4c65",
   "metadata": {
    "scrolled": false
   },
   "outputs": [],
   "source": [
    "for idx in range(len(y_val)):\n",
    "    if y_val[idx] != y_pred[idx]:\n",
    "        a, b, c = file_names_val[idx].split(\"_\", 2)\n",
    "        url = f\"https://clinicaltrials.gov/ProvidedDocs/{a}/{b}/{c}\"\n",
    "        print (y_val[idx], y_pred[idx], countries_val[idx], url)\n"
   ]
  },
  {
   "cell_type": "code",
   "execution_count": null,
   "id": "2374e052",
   "metadata": {},
   "outputs": [],
   "source": [
    "ConfusionMatrixDisplay.from_predictions(y_val, y_pred)\n",
    "plt.xticks(rotation=90)\n",
    ";"
   ]
  },
  {
   "cell_type": "code",
   "execution_count": null,
   "id": "0a7c0359",
   "metadata": {},
   "outputs": [],
   "source": [
    "y_pred_proba = m.predict_proba(X_val)[:,1]"
   ]
  },
  {
   "cell_type": "code",
   "execution_count": null,
   "id": "af7e716e",
   "metadata": {},
   "outputs": [],
   "source": []
  },
  {
   "cell_type": "code",
   "execution_count": null,
   "id": "61a105b6",
   "metadata": {
    "scrolled": true
   },
   "outputs": [],
   "source": [
    "from sklearn.metrics import roc_auc_score\n",
    "roc_auc = roc_auc_score(y_val, y_pred_proba)\n",
    "print (f\"Countries ROC AUC {roc_auc} for ensemble model\")\n"
   ]
  },
  {
   "cell_type": "code",
   "execution_count": null,
   "id": "3fc44d1c",
   "metadata": {
    "scrolled": false
   },
   "outputs": [],
   "source": [
    "plt.figure()\n",
    "lw = 2\n",
    "    \n",
    "fpr, tpr, _ = roc_curve(y_val, y_pred_proba)\n",
    "roc_auc = auc(fpr, tpr)\n",
    "plt.plot(\n",
    "    fpr,\n",
    "    tpr,\n",
    "    # color=\"darkorange\",\n",
    "    lw=lw,\n",
    "    label=f\"ROC curve model for countries (area = {roc_auc:0.2f})\"\n",
    ")\n",
    "plt.plot([0, 1], [0, 1], color=\"gray\", alpha=0.5, lw=lw, linestyle=\"--\")\n",
    "plt.xlim([0.0, 1.0])\n",
    "plt.ylim([0.0, 1.05])\n",
    "plt.xlabel(\"False Positive Rate\")\n",
    "plt.ylabel(\"True Positive Rate\")\n",
    "plt.title(\"Country recognition ensemble model\")\n",
    "plt.legend(loc=\"lower right\")\n",
    "plt.show()"
   ]
  },
  {
   "cell_type": "code",
   "execution_count": null,
   "id": "adc31c12",
   "metadata": {},
   "outputs": [],
   "source": [
    "import bz2, pickle as pkl\n",
    "with bz2.open(\"../front_end/models/country_ensemble_model.pkl.bz2\", \"wb\") as f:\n",
    "    pkl.dump(m, f)"
   ]
  },
  {
   "cell_type": "code",
   "execution_count": null,
   "id": "6a0564b6",
   "metadata": {},
   "outputs": [],
   "source": []
  }
 ],
 "metadata": {
  "kernelspec": {
   "display_name": "Python [conda env:protocols]",
   "language": "python",
   "name": "conda-env-protocols-py"
  },
  "language_info": {
   "codemirror_mode": {
    "name": "ipython",
    "version": 3
   },
   "file_extension": ".py",
   "mimetype": "text/x-python",
   "name": "python",
   "nbconvert_exporter": "python",
   "pygments_lexer": "ipython3",
   "version": "3.10.6"
  }
 },
 "nbformat": 4,
 "nbformat_minor": 5
}
