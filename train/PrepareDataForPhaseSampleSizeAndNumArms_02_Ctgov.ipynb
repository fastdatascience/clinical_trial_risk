{
 "cells": [
  {
   "cell_type": "markdown",
   "id": "48415c38",
   "metadata": {},
   "source": [
    "# Filter ClinicalTrials.gov dataset for keywords\n",
    "\n",
    "This script is to filter the protocols for key terms relating to sample size, so that the whole protocol doesn't need to be passed to Spacy"
   ]
  },
  {
   "cell_type": "code",
   "execution_count": null,
   "id": "17002b6f",
   "metadata": {
    "id": "17002b6f"
   },
   "outputs": [],
   "source": [
    "import pandas as pd\n",
    "import re\n",
    "import os\n",
    "import sys\n",
    "import pickle as pkl\n",
    "import seaborn as sns\n",
    "from sklearn.metrics import accuracy_score, confusion_matrix\n",
    "from sklearn.metrics import ConfusionMatrixDisplay\n",
    "from sklearn.metrics import mean_absolute_error, mean_squared_error\n",
    "from sklearn.metrics import roc_auc_score\n",
    "from sklearn.metrics import roc_curve, auc\n",
    "from IPython.display import display\n",
    "import matplotlib.pyplot as plt\n",
    "import numpy as np\n",
    "import json"
   ]
  },
  {
   "cell_type": "code",
   "execution_count": null,
   "id": "9-CkqGIiCoYv",
   "metadata": {
    "id": "9-CkqGIiCoYv"
   },
   "outputs": [],
   "source": [
    "df_annotations = pd.read_csv(\"../data/ctgov/annotations/all_annotations.csv\")"
   ]
  },
  {
   "cell_type": "markdown",
   "id": "5e5cd5d2",
   "metadata": {
    "id": "5e5cd5d2"
   },
   "source": [
    "# Get data"
   ]
  },
  {
   "cell_type": "code",
   "execution_count": null,
   "id": "1e9982a1",
   "metadata": {
    "id": "1e9982a1"
   },
   "outputs": [],
   "source": [
    "with open(\"../data/ctgov/protocols.pkl.gz\", \"rb\") as f:\n",
    "    file_to_pages = pkl.load(f)"
   ]
  },
  {
   "cell_type": "code",
   "execution_count": null,
   "id": "ba2097ba",
   "metadata": {
    "id": "ba2097ba"
   },
   "outputs": [],
   "source": [
    "import spacy\n",
    "nlp = spacy.blank(\"en\")"
   ]
  },
  {
   "cell_type": "code",
   "execution_count": null,
   "id": "9XI88HDUCz3N",
   "metadata": {
    "colab": {
     "base_uri": "https://localhost:8080/"
    },
    "id": "9XI88HDUCz3N",
    "outputId": "da262e52-1cf5-4e15-d8dc-797608c88651"
   },
   "outputs": [],
   "source": [
    "import operator\n",
    "sorted(ctr.items(), key=operator.itemgetter(1))"
   ]
  },
  {
   "cell_type": "code",
   "execution_count": null,
   "id": "J-FltR37Fz3F",
   "metadata": {
    "id": "J-FltR37Fz3F"
   },
   "outputs": [],
   "source": [
    "word2num ={'one': 1,\n",
    " 'two': 2,\n",
    " 'three': 3,\n",
    " 'four': 4,\n",
    " 'five': 5,\n",
    " 'six': 6,\n",
    " 'seven': 7,\n",
    " 'eight': 8,\n",
    " 'nine': 9,\n",
    " 'ten': 10,\n",
    " 'eleven': 11,\n",
    " 'twelve': 12,\n",
    " 'thirteen': 13,\n",
    " 'fourteen': 14,\n",
    " 'fifteen': 15,\n",
    " 'sixteen': 16,\n",
    " 'seventeen': 17,\n",
    " 'eighteen': 18,\n",
    " 'nineteen': 19,\n",
    " 'both': 2,\n",
    " 'single': 2,\n",
    " 'twenty': 20,\n",
    " 'thirty': 30,\n",
    " 'forty': 40,\n",
    " 'fifty': 50,\n",
    " 'sixty': 60,\n",
    " 'seventy': 70,\n",
    " 'eighty': 80,\n",
    " 'ninety': 90,\n",
    " 'hundred': 100,\n",
    " 'thousand': 1000}"
   ]
  },
  {
   "cell_type": "code",
   "execution_count": null,
   "id": "2445ca47",
   "metadata": {
    "colab": {
     "background_save": true,
     "base_uri": "https://localhost:8080/"
    },
    "id": "2445ca47",
    "outputId": "c5df73a9-ac37-4002-eb5a-ecc1ad1980a9",
    "scrolled": true
   },
   "outputs": [],
   "source": [
    "from collections import Counter\n",
    "ctr = Counter()\n",
    "\n",
    "texts = []\n",
    "\n",
    "for i in range(len(df_annotations)):\n",
    "    file_name = df_annotations.file.iloc[i]\n",
    "    \n",
    "    pages= file_to_pages[file_name]\n",
    "    \n",
    "    text = \"\"\n",
    "    for page in pages:\n",
    "        doc = nlp(page)\n",
    "        \n",
    "        is_include = [False] * len(doc)\n",
    "        for tok in doc:\n",
    "            next_tok = None\n",
    "            if tok.i < len(doc) - 1:\n",
    "              next_tok = doc[tok.i + 1]\n",
    "            prev_tok = None\n",
    "            if tok.i > 0:\n",
    "              prev_tok = doc[tok.i - 1]\n",
    "            antepenultimate_tok = None\n",
    "            if tok.i > 1:\n",
    "              antepenultimate_tok = doc[tok.i - 2]\n",
    "\n",
    "            if tok.text.lower() in {\"phase\",\"phases\", \"arm\", \"arms\", \"armed\", \"cohort\", \"cohorts\", \"group\", \"groups\",\n",
    "                                   \"sample\",  \"sampling\", \"sampled\", \"samples\", \"enroll\", \"enrol\", \"enrols\", \"enrolled\", \"enrolling\", \"enrolment\",\n",
    "                                    \"recruit\", \"recruiting\", \"recruited\", \"recruits\", \"recruitment\",\n",
    "                                    \"target\", \"accrual\", \"accruing\", \"accrue\", \"accrued\",\n",
    "                                    \"power\", \"powered\", \"pts\",\n",
    "                                    \"simulate\", \"simulates\", \"simulated\", \"simulating\", \"simulation\", \"simulations\",\n",
    "                                    \"scenarios\",\n",
    "                                    \"n\",\n",
    "                                    \"overall\", \"total\", \n",
    "                                    \"participants\", \"subjects\", \"people\", \"persons\", \"healthy\", \"infected\",\n",
    "                                    \"pairs\", \"individuals\", \"women\", \"men\", \"patients\", \"males\", \"females\", \"male\", \"female\",\n",
    "                                    \"select\", \"selection\", \"approximately\", \"achieve\",\n",
    "                                    \"cases\"\n",
    "                                   }:\n",
    "                to_include = True\n",
    "                if tok.text.lower() == \"n\" and next_tok is not None and next_tok.text not in {\"=\", \">\", \"<\", \"≥\"}:\n",
    "                  to_include = False\n",
    "                if tok.i > 1 and tok.text.lower() in {\"participants\", \"subjects\", \"people\", \"persons\", \"healthy\", \"infected\",\n",
    "                                    \"pairs\", \"individuals\", \"women\", \"men\", \"patients\", \"males\", \"females\", \"male\", \"female\",\n",
    "                                    \"cases\", \"pts\"} and not (prev_tok.like_num or antepenultimate_tok.like_num or prev_tok.text.lower() in word2num or antepenultimate_tok.text.lower() in word2num):\n",
    "                  to_include = False\n",
    "                \n",
    "                if to_include:\n",
    "                  ctr[tok.text.lower()] += 1\n",
    "                  for token_index in range(tok.i - 15, tok.i + 15):\n",
    "                      if token_index >= 0 and token_index < len(doc):\n",
    "                          is_include[token_index] = True\n",
    "        \n",
    "        for token_index in range(len(doc)):\n",
    "            if is_include[token_index]:\n",
    "                text += doc[token_index].text + doc[token_index].whitespace_\n",
    "                \n",
    "    if text == \"\":\n",
    "        print (\"nothing found\", file_name, df_annotations.phase.iloc[i])\n",
    "        text = \" \".join(pages)\n",
    "        if len(text) > 100000:\n",
    "            text = text[:100000]\n",
    "    else:\n",
    "        print (\"found\", file_name, df_annotations.phase.iloc[i], len(text))\n",
    "\n",
    "    texts.append(text)\n",
    "df_annotations[\"text\"] = texts"
   ]
  },
  {
   "cell_type": "code",
   "execution_count": null,
   "id": "ae5995e0",
   "metadata": {
    "colab": {
     "background_save": true
    },
    "id": "ae5995e0"
   },
   "outputs": [],
   "source": [
    "df_annotations.to_csv(\"filtered_for_phase_arms_subjects_02.csv.bz2\")"
   ]
  }
 ],
 "metadata": {
  "colab": {
   "collapsed_sections": [],
   "include_colab_link": true,
   "machine_shape": "hm",
   "provenance": []
  },
  "gpuClass": "standard",
  "kernelspec": {
   "display_name": "conda_tensorflow_p36",
   "language": "python",
   "name": "conda_tensorflow_p36"
  },
  "language_info": {
   "codemirror_mode": {
    "name": "ipython",
    "version": 3
   },
   "file_extension": ".py",
   "mimetype": "text/x-python",
   "name": "python",
   "nbconvert_exporter": "python",
   "pygments_lexer": "ipython3",
   "version": "3.6.13"
  }
 },
 "nbformat": 4,
 "nbformat_minor": 5
}
