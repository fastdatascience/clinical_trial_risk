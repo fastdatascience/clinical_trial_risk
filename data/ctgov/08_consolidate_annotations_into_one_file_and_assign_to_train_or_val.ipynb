{
 "cells": [
  {
   "cell_type": "code",
   "execution_count": null,
   "metadata": {},
   "outputs": [],
   "source": [
    "import os, pandas as pd, re"
   ]
  },
  {
   "cell_type": "code",
   "execution_count": null,
   "metadata": {},
   "outputs": [],
   "source": [
    "INPUT_FOLDER = \"json\""
   ]
  },
  {
   "cell_type": "code",
   "execution_count": null,
   "metadata": {},
   "outputs": [],
   "source": [
    "all_pdfs = []\n",
    "for root, folder, files in os.walk(INPUT_FOLDER):\n",
    "    for file_name in files:\n",
    "        if not file_name.endswith(\"pdf.json\"):\n",
    "            continue\n",
    "        all_pdfs.append(re.sub(r'.json$', '', file_name))"
   ]
  },
  {
   "cell_type": "code",
   "execution_count": null,
   "metadata": {},
   "outputs": [],
   "source": [
    "df_annotated = pd.DataFrame({\"file\":all_pdfs})"
   ]
  },
  {
   "cell_type": "code",
   "execution_count": null,
   "metadata": {},
   "outputs": [],
   "source": [
    "re_nct = re.compile(r'NCT\\d+')\n",
    "def get_nct(filename):\n",
    "    return re_nct.findall(filename)[0]\n",
    "df_annotated[\"nct_id\"] = df_annotated[\"file\"].apply(get_nct)"
   ]
  },
  {
   "cell_type": "code",
   "execution_count": null,
   "metadata": {},
   "outputs": [],
   "source": [
    "def assign_to_dataset(nct_id):\n",
    "    if nct_id[5] == \"8\":\n",
    "        return \"val\"\n",
    "    if nct_id[5] == \"9\":\n",
    "        return \"test\"\n",
    "    return \"train\"\n",
    "df_annotated[\"train_val\"] = df_annotated.nct_id.apply(assign_to_dataset)"
   ]
  },
  {
   "cell_type": "code",
   "execution_count": null,
   "metadata": {},
   "outputs": [],
   "source": [
    "import numpy as np\n",
    "for item in \"num_arms\", \"num_subjects\", \"phase\", \"intervention_type\", \"country\":\n",
    "    df = pd.read_csv(\"annotations/\" + item + \".csv\")\n",
    "    \n",
    "    df_annotated[item] = df_annotated.nct_id.map(df.set_index(\"nct_id\")[item])"
   ]
  },
  {
   "cell_type": "code",
   "execution_count": null,
   "metadata": {},
   "outputs": [],
   "source": [
    "df_annotated = df_annotated[~pd.isna(df_annotated.intervention_type)]"
   ]
  },
  {
   "cell_type": "code",
   "execution_count": null,
   "metadata": {},
   "outputs": [],
   "source": [
    "df_annotated[\"has_sap\"] = df_annotated.file.str.contains(\"SAP\").apply(int)"
   ]
  },
  {
   "cell_type": "code",
   "execution_count": null,
   "metadata": {},
   "outputs": [],
   "source": [
    "df_annotated.sort_values(\"file\", inplace=True)"
   ]
  },
  {
   "cell_type": "code",
   "execution_count": null,
   "metadata": {},
   "outputs": [],
   "source": [
    "df_annotated.drop_duplicates(subset=\"nct_id\", keep='last', inplace=True)"
   ]
  },
  {
   "cell_type": "code",
   "execution_count": null,
   "metadata": {},
   "outputs": [],
   "source": [
    "df_annotated.to_csv(\"annotations/all_annotations.csv\", index=False)"
   ]
  },
  {
   "cell_type": "code",
   "execution_count": null,
   "metadata": {},
   "outputs": [],
   "source": [
    "df_annotated[df_annotated.train_val.isin({\"train\", \"val\"})].drop(columns=[\"intervention_type\",\"country\"]).to_csv(\"for_freelancer/annotations_train_val.csv\", index=False)"
   ]
  }
 ],
 "metadata": {
  "kernelspec": {
   "display_name": "Python 3 (ipykernel)",
   "language": "python",
   "name": "python3"
  },
  "language_info": {
   "codemirror_mode": {
    "name": "ipython",
    "version": 3
   },
   "file_extension": ".py",
   "mimetype": "text/x-python",
   "name": "python",
   "nbconvert_exporter": "python",
   "pygments_lexer": "ipython3",
   "version": "3.10.4"
  }
 },
 "nbformat": 4,
 "nbformat_minor": 2
}
