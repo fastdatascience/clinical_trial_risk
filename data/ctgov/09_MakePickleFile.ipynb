{
 "cells": [
  {
   "cell_type": "code",
   "execution_count": null,
   "id": "0557d6c8",
   "metadata": {},
   "outputs": [],
   "source": [
    "import pandas as pd\n",
    "import re\n",
    "import os\n",
    "import sys\n",
    "import pickle as pkl\n",
    "import seaborn as sns\n",
    "from sklearn.metrics import accuracy_score, confusion_matrix\n",
    "from sklearn.metrics import ConfusionMatrixDisplay\n",
    "from sklearn.metrics import mean_absolute_error, mean_squared_error\n",
    "from sklearn.metrics import roc_auc_score\n",
    "from sklearn.metrics import roc_curve, auc\n",
    "from IPython.display import display\n",
    "import matplotlib.pyplot as plt\n",
    "import numpy as np\n",
    "import json\n",
    "\n",
    "\n",
    "df_annotations = pd.read_csv(\"annotations/all_annotations.csv\")\n"
   ]
  },
  {
   "cell_type": "code",
   "execution_count": null,
   "id": "f26453bf",
   "metadata": {},
   "outputs": [],
   "source": [
    "file_to_pages = {}\n",
    "\n",
    "for i in range(len(df_annotations)):\n",
    "    file_name = df_annotations.file.iloc[i]\n",
    "\n",
    "    with open(\"json/\" + file_name + \".json\", \"r\", encoding=\"utf-8\") as f:\n",
    "        pages = json.load(f)\n",
    "\n",
    "    file_to_pages[file_name] = pages"
   ]
  },
  {
   "cell_type": "code",
   "execution_count": null,
   "id": "6ef9ac19",
   "metadata": {},
   "outputs": [],
   "source": [
    "with open(\"protocols.pkl.gz\", \"wb\") as f:\n",
    "    pkl.dump(file_to_pages, f)"
   ]
  }
 ],
 "metadata": {
  "kernelspec": {
   "display_name": "Python [conda env:py310] *",
   "language": "python",
   "name": "conda-env-py310-py"
  },
  "language_info": {
   "codemirror_mode": {
    "name": "ipython",
    "version": 3
   },
   "file_extension": ".py",
   "mimetype": "text/x-python",
   "name": "python",
   "nbconvert_exporter": "python",
   "pygments_lexer": "ipython3",
   "version": "3.10.4"
  }
 },
 "nbformat": 4,
 "nbformat_minor": 5
}
