{
 "cells": [
  {
   "cell_type": "code",
   "execution_count": null,
   "id": "81b4d9f9",
   "metadata": {},
   "outputs": [],
   "source": [
    "import base64\n",
    "import io\n",
    "\n",
    "from lxml import html\n",
    "from tika import parser\n",
    "\n",
    "\n",
    "def extract_text_from_pdf(file_path):\n",
    "    parsed = parser.from_file(file_path, xmlContent=True)\n",
    "    parsed_xml = parsed[\"content\"]\n",
    "\n",
    "    et = html.fromstring(parsed_xml)\n",
    "    pages = et.getchildren()[1].getchildren()\n",
    "\n",
    "    return [str(page.text_content()) for page in pages]"
   ]
  },
  {
   "cell_type": "code",
   "execution_count": null,
   "id": "1c93db92",
   "metadata": {},
   "outputs": [],
   "source": [
    "INPUT_FOLDER = \"raw\"\n",
    "OUTPUT_FOLDER = \"json\""
   ]
  },
  {
   "cell_type": "code",
   "execution_count": null,
   "id": "814e0c6f",
   "metadata": {},
   "outputs": [],
   "source": [
    "try:\n",
    "    os.stat(OUTPUT_FOLDER)\n",
    "except:\n",
    "    os.mkdir(OUTPUT_FOLDER)"
   ]
  },
  {
   "cell_type": "code",
   "execution_count": null,
   "id": "ae25cf7b",
   "metadata": {},
   "outputs": [],
   "source": [
    "import json, os, re"
   ]
  },
  {
   "cell_type": "code",
   "execution_count": null,
   "id": "3b9a4686",
   "metadata": {},
   "outputs": [],
   "source": [
    "already_done = set([re.sub(\".json$\", \"\", f) for f in os.listdir(OUTPUT_FOLDER)])"
   ]
  },
  {
   "cell_type": "code",
   "execution_count": null,
   "id": "c37c16f2",
   "metadata": {
    "scrolled": true
   },
   "outputs": [],
   "source": [
    "for root, folder, files in os.walk(INPUT_FOLDER):\n",
    "    for file_name in files:\n",
    "        if file_name in already_done:\n",
    "            continue\n",
    "        if not file_name.endswith(\"pdf\"):\n",
    "            continue\n",
    "        \n",
    "        full_file = root + \"/\" + file_name\n",
    "        print(full_file)\n",
    "\n",
    "        try:\n",
    "            texts = extract_text_from_pdf(full_file)\n",
    "        except:\n",
    "            #print (\"Error processing\", full_file, \". Skipping\")\n",
    "            continue\n",
    "            \n",
    "        if len(texts) < 10:\n",
    "            continue\n",
    "        if len(\" \".join(texts)) < 1000:\n",
    "            continue\n",
    "        \n",
    "        output_file = OUTPUT_FOLDER + \"/\" + file_name + \".json\"\n",
    "\n",
    "        with open(output_file, 'w', encoding=\"utf-8\") as fo:\n",
    "            fo.write(json.dumps(texts))"
   ]
  }
 ],
 "metadata": {
  "kernelspec": {
   "display_name": "Python [conda env:py310] *",
   "language": "python",
   "name": "conda-env-py310-py"
  },
  "language_info": {
   "codemirror_mode": {
    "name": "ipython",
    "version": 3
   },
   "file_extension": ".py",
   "mimetype": "text/x-python",
   "name": "python",
   "nbconvert_exporter": "python",
   "pygments_lexer": "ipython3",
   "version": "3.10.4"
  }
 },
 "nbformat": 4,
 "nbformat_minor": 5
}
