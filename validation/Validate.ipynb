{
 "cells": [
  {
   "cell_type": "markdown",
   "id": "99ea2b56",
   "metadata": {},
   "source": [
    "# Evaluate the entire processing of a set of ten protocols"
   ]
  },
  {
   "cell_type": "code",
   "execution_count": null,
   "id": "bd22924b",
   "metadata": {},
   "outputs": [],
   "source": [
    "import pandas as pd"
   ]
  },
  {
   "cell_type": "code",
   "execution_count": null,
   "id": "037d556c",
   "metadata": {},
   "outputs": [],
   "source": [
    "df_testing = pd.read_excel(\"dsm_string_testing_v01.xlsx\")"
   ]
  },
  {
   "cell_type": "code",
   "execution_count": null,
   "id": "68619cad",
   "metadata": {},
   "outputs": [],
   "source": [
    "df_annotations = pd.read_csv(\"../data/ctgov/annotations/all_annotations.csv\")"
   ]
  },
  {
   "cell_type": "code",
   "execution_count": null,
   "id": "04bd1bf3",
   "metadata": {},
   "outputs": [],
   "source": [
    "df_annotations.set_index(\"nct_id\", inplace=True)"
   ]
  },
  {
   "cell_type": "code",
   "execution_count": null,
   "id": "da81ea01",
   "metadata": {},
   "outputs": [],
   "source": [
    "import os\n",
    "cwd = os.getcwd()"
   ]
  },
  {
   "cell_type": "code",
   "execution_count": null,
   "id": "5e65fa41",
   "metadata": {},
   "outputs": [],
   "source": [
    "os.chdir('../front_end')"
   ]
  },
  {
   "cell_type": "code",
   "execution_count": null,
   "id": "71d87213",
   "metadata": {},
   "outputs": [],
   "source": [
    "from util.protocol_master_processor import MasterProcessor\n",
    "\n",
    "master_processor = MasterProcessor(\"models/condition_classifier.pkl.bz2\",\n",
    "                                   \"models/phase_rf_classifier.pkl.bz2\",\n",
    "                                   \"models/spacy-textcat-phase-04-model-best\",\n",
    "                                   \"models/sap_classifier_document_level.pkl.bz2\",\n",
    "                                   \"models/sap_classifier.pkl.bz2\",\n",
    "                                   \"models/effect_estimate_classifier.pkl.bz2\",\n",
    "                                   \"models/num_subjects_classifier.pkl.bz2\",\n",
    "                                   \"models/subjects_classifier_document_level.pkl.bz2\",\n",
    "                                   \"models/arms_classifier_document_level.pkl.bz2\",\n",
    "                                   \"models/spacy-textcat-arms-21-model-best\",\n",
    "                                   \"models/spacy-textcat-international-11-model-best\",\n",
    "                                   \"models/spacy-textcat-country-16-model-best\",\n",
    "                                   \"models/international_classifier.pkl.bz2\",\n",
    "                                   \"models/country_ensemble_model.pkl.bz2\",\n",
    "                                   \"models/simulation_classifier.pkl.bz2\")"
   ]
  },
  {
   "cell_type": "code",
   "execution_count": null,
   "id": "cc5a49a6",
   "metadata": {},
   "outputs": [],
   "source": [
    "ctgov_n = []\n",
    "ctgov_sap = []\n",
    "for idx in range(len(df_testing)):\n",
    "    nct = df_testing.Protocol.iloc[idx]\n",
    "    n = None\n",
    "    sap = None\n",
    "    if nct in df_annotations.index:\n",
    "        n = df_annotations.num_subjects[nct]\n",
    "        sap = df_annotations.has_sap[nct]\n",
    "    ctgov_n.append(n)\n",
    "    ctgov_sap.append(sap)\n",
    "df_testing[\"CTGov_N\"] = ctgov_n\n",
    "df_testing[\"CTGov_SAP\"] = ctgov_sap"
   ]
  },
  {
   "cell_type": "code",
   "execution_count": null,
   "id": "b26533cb",
   "metadata": {},
   "outputs": [],
   "source": [
    "file_to_page = {}\n",
    "import json\n",
    "texts = []\n",
    "for idx in range(len(df_testing)):\n",
    "    nct = df_testing.Protocol.iloc[idx]\n",
    "    file_name = None\n",
    "    if nct in df_annotations.index:\n",
    "        file_name = df_annotations.file[nct]\n",
    "    print (file_name)\n",
    "    with open(\"/media/thomas/642d0db5-2c98-4156-b591-1a3572c5868c/data_open/read_ctgov_data/json/\" + file_name + \".json\", \"r\", encoding=\"utf-8\") as f:\n",
    "        pages = json.load(f)\n",
    "    texts.append(pages)\n",
    "    file_to_page[file_name] = pages\n",
    "df_testing[\"pages\"] = texts"
   ]
  },
  {
   "cell_type": "code",
   "execution_count": null,
   "id": "d176b82c",
   "metadata": {},
   "outputs": [],
   "source": [
    "# import bz2, pickle as pkl\n",
    "# with bz2.open(\"demo_data/demo_protocols.pkl.bz2\", \"wb\") as f:\n",
    "#     pkl.dump(file_to_page, f)"
   ]
  },
  {
   "cell_type": "code",
   "execution_count": null,
   "id": "795f675f",
   "metadata": {
    "scrolled": false
   },
   "outputs": [],
   "source": [
    "pred_cond = []\n",
    "pred_phase = []\n",
    "pred_arms = []\n",
    "pred_sap = []\n",
    "pred_subjects = []\n",
    "pred_sim = []\n",
    "pred_effect = []\n",
    "pred_countries = []\n",
    "\n",
    "for idx in range(len(df_testing)):\n",
    "    tokenised_pages, condition_to_pages, phase_to_pages, sap_to_pages, \\\n",
    "               effect_estimate_to_pages, num_subjects_to_pages,\\\n",
    "    num_arms_to_pages, country_to_pages, simulation_to_pages = master_processor.process_protocol(df_testing[\"pages\"].iloc[idx])\n",
    "    pred_cond.append(condition_to_pages[\"prediction\"])\n",
    "    pred_phase.append(phase_to_pages[\"prediction\"])\n",
    "    pred_arms.append(num_arms_to_pages[\"prediction\"])\n",
    "    pred_sap.append(sap_to_pages[\"prediction\"])\n",
    "    pred_subjects.append(num_subjects_to_pages[\"prediction\"])    \n",
    "    pred_sim.append(simulation_to_pages[\"prediction\"])    \n",
    "    pred_effect.append(effect_estimate_to_pages[\"prediction\"])        \n",
    "    pred_countries.append(country_to_pages[\"prediction\"])        "
   ]
  },
  {
   "cell_type": "code",
   "execution_count": null,
   "id": "8655a45d",
   "metadata": {},
   "outputs": [],
   "source": [
    "df_testing[\"Indication\"]"
   ]
  },
  {
   "cell_type": "code",
   "execution_count": null,
   "id": "23cd0b33",
   "metadata": {},
   "outputs": [],
   "source": [
    "df_testing[\"new_ai_indication\"] = pred_cond\n",
    "df_testing[\"new_ai_phase\"] = pred_phase\n",
    "df_testing[\"new_ai_arms\"] = pred_arms\n",
    "df_testing[\"new_ai_sap\"] = pred_sap\n",
    "df_testing[\"new_ai_n\"] = pred_subjects\n",
    "df_testing[\"new_ai_effect\"] = pred_effect\n",
    "df_testing[\"new_ai_sim\"] = pred_sim\n",
    "df_testing[\"new_ai_countries\"] = pred_countries"
   ]
  },
  {
   "cell_type": "code",
   "execution_count": null,
   "id": "644d3086",
   "metadata": {},
   "outputs": [],
   "source": [
    "df_testing[[\"Protocol\", \"AI_phase\", \"Rev_phase\", \"new_ai_phase\"]]"
   ]
  },
  {
   "cell_type": "code",
   "execution_count": null,
   "id": "1cc16ff4",
   "metadata": {},
   "outputs": [],
   "source": [
    "from sklearn.metrics import accuracy_score"
   ]
  },
  {
   "cell_type": "code",
   "execution_count": null,
   "id": "920bf1df",
   "metadata": {},
   "outputs": [],
   "source": [
    "import re\n",
    "phase_map = {\"1/2\":\"0.5\"}\n",
    "accuracy_score(df_testing.Rev_phase.apply(str).apply(lambda x : phase_map.get(x, x)), df_testing.AI_phase.apply(str)), \\\n",
    "    accuracy_score(df_testing.Rev_phase.apply(str), df_testing.new_ai_phase.apply(str).apply(lambda x : re.sub(r'\\.0', '', x)))"
   ]
  },
  {
   "cell_type": "code",
   "execution_count": null,
   "id": "157860ef",
   "metadata": {},
   "outputs": [],
   "source": [
    "df_testing[[\"AI_effect\", \"Rev_effect\", \"new_ai_effect\"]]"
   ]
  },
  {
   "cell_type": "code",
   "execution_count": null,
   "id": "a3a83524",
   "metadata": {},
   "outputs": [],
   "source": [
    "accuracy_score(df_testing.Rev_effect.str.contains(\"yes\").apply(int), df_testing.AI_effect.str.contains(\"yes\").apply(int)), \\\n",
    "    accuracy_score(df_testing.Rev_effect.str.contains(\"yes\").apply(int), df_testing.new_ai_effect)"
   ]
  },
  {
   "cell_type": "code",
   "execution_count": null,
   "id": "3a7bd910",
   "metadata": {},
   "outputs": [],
   "source": [
    "clean_sap_gt = df_testing.Rev_SAP.apply(lambda x : int(float(re.sub(r'p.+', '', x)) > 1))"
   ]
  },
  {
   "cell_type": "code",
   "execution_count": null,
   "id": "69be5a01",
   "metadata": {},
   "outputs": [],
   "source": [
    "df_testing[[\"AI_SAP\", \"Rev_SAP\", \"new_ai_sap\"]]"
   ]
  },
  {
   "cell_type": "code",
   "execution_count": null,
   "id": "616cc0a6",
   "metadata": {},
   "outputs": [],
   "source": [
    "accuracy_score(clean_sap_gt, df_testing.AI_SAP.map({\"yes\":1,\"no\":0})), \\\n",
    "    accuracy_score(clean_sap_gt, df_testing.new_ai_sap)"
   ]
  },
  {
   "cell_type": "code",
   "execution_count": null,
   "id": "9bf8d1d4",
   "metadata": {},
   "outputs": [],
   "source": [
    "df_testing[[\"AI_N\", \"Rev_N\", \"new_ai_n\"]]"
   ]
  },
  {
   "cell_type": "code",
   "execution_count": null,
   "id": "a7945e84",
   "metadata": {},
   "outputs": [],
   "source": [
    "accuracy_score(df_testing.Rev_N, df_testing.AI_N), \\\n",
    "    accuracy_score(df_testing.Rev_N, df_testing.new_ai_n.apply(int))"
   ]
  },
  {
   "cell_type": "code",
   "execution_count": null,
   "id": "5ec77509",
   "metadata": {
    "scrolled": false
   },
   "outputs": [],
   "source": [
    "df_testing[[\"AI_sim\", \"Rev_sim\", \"new_ai_sim\"]]"
   ]
  },
  {
   "cell_type": "code",
   "execution_count": null,
   "id": "25e58bc8",
   "metadata": {},
   "outputs": [],
   "source": [
    "accuracy_score(df_testing.Arms_TW, df_testing.new_ai_arms)"
   ]
  },
  {
   "cell_type": "code",
   "execution_count": null,
   "id": "ddd22b63",
   "metadata": {},
   "outputs": [],
   "source": [
    "df_testing[[\"Arms_TW\", \"new_ai_arms\"]]"
   ]
  },
  {
   "cell_type": "code",
   "execution_count": null,
   "id": "17fdc80b",
   "metadata": {},
   "outputs": [],
   "source": [
    "df_testing[[\"Countries_TW\", \"new_ai_countries\"]]"
   ]
  },
  {
   "cell_type": "code",
   "execution_count": null,
   "id": "a27ccbe1",
   "metadata": {},
   "outputs": [],
   "source": [
    "accuracy_score(df_testing.Countries_TW.apply(lambda x : \",\".join(sorted(x.split(\",\")))), df_testing.new_ai_countries.apply(lambda x : \",\".join(sorted(x))))"
   ]
  },
  {
   "cell_type": "code",
   "execution_count": null,
   "id": "0e405a4a",
   "metadata": {},
   "outputs": [],
   "source": [
    "df_testing.to_excel(cwd + \"/output.xlsx\", index=False)"
   ]
  }
 ],
 "metadata": {
  "kernelspec": {
   "display_name": "Python [conda env:protocols]",
   "language": "python",
   "name": "conda-env-protocols-py"
  },
  "language_info": {
   "codemirror_mode": {
    "name": "ipython",
    "version": 3
   },
   "file_extension": ".py",
   "mimetype": "text/x-python",
   "name": "python",
   "nbconvert_exporter": "python",
   "pygments_lexer": "ipython3",
   "version": "3.10.6"
  }
 },
 "nbformat": 4,
 "nbformat_minor": 5
}
