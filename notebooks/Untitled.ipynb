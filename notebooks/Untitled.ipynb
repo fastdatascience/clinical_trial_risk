{
 "cells": [
  {
   "cell_type": "code",
   "execution_count": 1,
   "id": "00666997",
   "metadata": {},
   "outputs": [],
   "source": [
    "import pandas as pd\n",
    "import pickle as pkl\n",
    "import os\n",
    "import re\n"
   ]
  },
  {
   "cell_type": "code",
   "execution_count": 2,
   "id": "799842e1",
   "metadata": {},
   "outputs": [],
   "source": [
    "df = pd.read_excel(\"data/annotations/v4-characterized-HIV and TB protocol data.xlsx\")"
   ]
  },
  {
   "cell_type": "code",
   "execution_count": 3,
   "id": "9dc146f0",
   "metadata": {
    "scrolled": true
   },
   "outputs": [
    {
     "ename": "ModuleNotFoundError",
     "evalue": "No module named 'util'",
     "output_type": "error",
     "traceback": [
      "\u001b[0;31m---------------------------------------------------------------------------\u001b[0m",
      "\u001b[0;31mModuleNotFoundError\u001b[0m                       Traceback (most recent call last)",
      "\u001b[0;32m/tmp/ipykernel_94514/3318683811.py\u001b[0m in \u001b[0;36m<module>\u001b[0;34m\u001b[0m\n\u001b[0;32m----> 1\u001b[0;31m \u001b[0;32mfrom\u001b[0m \u001b[0mfront_end\u001b[0m\u001b[0;34m.\u001b[0m\u001b[0mprocessors\u001b[0m\u001b[0;34m.\u001b[0m\u001b[0mcountry_extractor\u001b[0m \u001b[0;32mimport\u001b[0m \u001b[0mCountryExtractor\u001b[0m\u001b[0;34m\u001b[0m\u001b[0;34m\u001b[0m\u001b[0m\n\u001b[0m\u001b[1;32m      2\u001b[0m \u001b[0;34m\u001b[0m\u001b[0m\n\u001b[1;32m      3\u001b[0m \u001b[0mcountry_extractor\u001b[0m \u001b[0;34m=\u001b[0m \u001b[0mCountryExtractor\u001b[0m\u001b[0;34m(\u001b[0m\u001b[0;34m)\u001b[0m\u001b[0;34m\u001b[0m\u001b[0;34m\u001b[0m\u001b[0m\n",
      "\u001b[0;32m/media/thomas/642d0db5-2c98-4156-b591-1a3572c5868c/projects_client/protocol_analysis_tool_2/front_end/processors/country_extractor.py\u001b[0m in \u001b[0;36m<module>\u001b[0;34m\u001b[0m\n\u001b[1;32m      2\u001b[0m \u001b[0;34m\u001b[0m\u001b[0m\n\u001b[1;32m      3\u001b[0m \u001b[0;32mfrom\u001b[0m \u001b[0mcountry_named_entity_recognition\u001b[0m\u001b[0;34m.\u001b[0m\u001b[0mcountry_finder\u001b[0m \u001b[0;32mimport\u001b[0m \u001b[0mfind_countries\u001b[0m\u001b[0;34m\u001b[0m\u001b[0;34m\u001b[0m\u001b[0m\n\u001b[0;32m----> 4\u001b[0;31m \u001b[0;32mfrom\u001b[0m \u001b[0mutil\u001b[0m\u001b[0;34m.\u001b[0m\u001b[0mdemonym_finder\u001b[0m \u001b[0;32mimport\u001b[0m \u001b[0mfind_demonyms\u001b[0m\u001b[0;34m\u001b[0m\u001b[0;34m\u001b[0m\u001b[0m\n\u001b[0m\u001b[1;32m      5\u001b[0m \u001b[0;34m\u001b[0m\u001b[0m\n\u001b[1;32m      6\u001b[0m \u001b[0;34m\u001b[0m\u001b[0m\n",
      "\u001b[0;31mModuleNotFoundError\u001b[0m: No module named 'util'"
     ]
    }
   ],
   "source": [
    "from front_end.processors.country_extractor import CountryExtractor\n",
    "\n",
    "country_extractor = CountryExtractor()"
   ]
  },
  {
   "cell_type": "code",
   "execution_count": null,
   "id": "a75c4b3e",
   "metadata": {},
   "outputs": [],
   "source": [
    "country_extractor.process([\"i am in Zimbabwe \"])"
   ]
  },
  {
   "cell_type": "code",
   "execution_count": null,
   "id": "396c2a85",
   "metadata": {},
   "outputs": [],
   "source": [
    "input_folder = \"data/preprocessed_tika/\"\n",
    "file_to_text = {}\n",
    "for root, folder, files in os.walk(input_folder):\n",
    "    for file_name in files:\n",
    "        if not file_name.endswith(\"pkl\"):\n",
    "            continue\n",
    "        pdf_file = re.sub(\".pkl\", \"\", file_name)\n",
    "\n",
    "        full_file = input_folder + \"/\" + file_name\n",
    "        #         print (full_file)\n",
    "        with open(full_file, 'rb') as f:\n",
    "            text = pkl.load(f)\n",
    "        file_to_text[pdf_file] = text"
   ]
  },
  {
   "cell_type": "code",
   "execution_count": null,
   "id": "39d29d7d",
   "metadata": {},
   "outputs": [],
   "source": [
    "file_to_prediction = {}"
   ]
  },
  {
   "cell_type": "code",
   "execution_count": null,
   "id": "f653cd94",
   "metadata": {
    "scrolled": true
   },
   "outputs": [],
   "source": [
    "for file, pages in file_to_text.items():\n",
    "    print (file)\n",
    "    country_to_pages = {}\n",
    "    \n",
    "    for page_no, page_text in enumerate(pages):\n",
    "        countries = find_countries(page_text)\n",
    "\n",
    "        demonyms = find_demonyms(page_text)\n",
    "#         if len(demonyms) > 0:\n",
    "#             print(\"DEMO\", demonyms)\n",
    "        countries.extend(demonyms)\n",
    "\n",
    "        for country, match in countries:\n",
    "            if country.alpha_2 in allowed_countries:\n",
    "                if country.alpha_2 not in country_to_pages:\n",
    "                    country_to_pages[country.alpha_2] = []\n",
    "                country_to_pages[country.alpha_2].append(page_no)\n",
    "                \n",
    "                \n",
    "    prediction = set()\n",
    "\n",
    "    if len(country_to_pages) > 0:\n",
    "        earliest_page = sorted([min(p) for p in country_to_pages.values()])[0]\n",
    "        for candidate, pages in country_to_pages.items():\n",
    "            # Any country mentioned on 30+ pages is an investigation country\n",
    "            unique_pages = set(pages)\n",
    "            if len(unique_pages) > 30:\n",
    "                prediction.add(candidate)\n",
    "            # Any country mentioned on the first contentful page is also a candidate\n",
    "            if 0 in unique_pages or earliest_page in unique_pages:\n",
    "                prediction.add(candidate)\n",
    "\n",
    "        first_mentioned_countries = sorted(country_to_pages.items(), key=lambda a: min(a[1]))\n",
    "        prediction.add(first_mentioned_countries[0][0])\n",
    "        \n",
    "    file_to_prediction[file] = prediction"
   ]
  },
  {
   "cell_type": "code",
   "execution_count": null,
   "id": "20055556",
   "metadata": {},
   "outputs": [],
   "source": [
    "df[\"predicted\"] = df[\"File Name\"].map(file_to_prediction)"
   ]
  },
  {
   "cell_type": "code",
   "execution_count": null,
   "id": "bab6d629",
   "metadata": {},
   "outputs": [],
   "source": [
    "# df[\"predicted\"] = df[\"File Name\"].map(file_to_prediction).fillna((df['NCT #'] + \".pdf\").map(file_to_prediction))"
   ]
  },
  {
   "cell_type": "code",
   "execution_count": null,
   "id": "4d43ab9f",
   "metadata": {},
   "outputs": [],
   "source": [
    "df[\"ground_truth\"] = df[\"Country/ Countries\"].apply(find_countries).apply(lambda c : [x[0].alpha_2 for x in c])"
   ]
  },
  {
   "cell_type": "code",
   "execution_count": null,
   "id": "e14a84c0",
   "metadata": {},
   "outputs": [],
   "source": [
    "df[[\"NCT #\", \"File Name\", \"Country/ Countries\", \"ground_truth\", \"predicted\"]]"
   ]
  },
  {
   "cell_type": "code",
   "execution_count": null,
   "id": "37d07f87",
   "metadata": {},
   "outputs": [],
   "source": []
  }
 ],
 "metadata": {
  "kernelspec": {
   "display_name": "Python 3 (ipykernel)",
   "language": "python",
   "name": "python3"
  },
  "language_info": {
   "codemirror_mode": {
    "name": "ipython",
    "version": 3
   },
   "file_extension": ".py",
   "mimetype": "text/x-python",
   "name": "python",
   "nbconvert_exporter": "python",
   "pygments_lexer": "ipython3",
   "version": "3.9.7"
  }
 },
 "nbformat": 4,
 "nbformat_minor": 5
}
