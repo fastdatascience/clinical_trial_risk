{
 "cells": [
  {
   "cell_type": "code",
   "execution_count": 1,
   "id": "0557d6c8",
   "metadata": {},
   "outputs": [],
   "source": [
    "import pandas as pd\n",
    "import re\n",
    "import os\n",
    "import sys\n",
    "import pickle as pkl\n",
    "import seaborn as sns\n",
    "from sklearn.metrics import accuracy_score, confusion_matrix\n",
    "from sklearn.metrics import ConfusionMatrixDisplay\n",
    "from sklearn.metrics import mean_absolute_error, mean_squared_error\n",
    "from sklearn.metrics import roc_auc_score\n",
    "from sklearn.metrics import roc_curve, auc\n",
    "from IPython.display import display\n",
    "import matplotlib.pyplot as plt\n",
    "import numpy as np\n",
    "\n",
    "sys.path.append(\"../front_end\")\n",
    "os.chdir('../front_end/')"
   ]
  },
  {
   "cell_type": "code",
   "execution_count": 2,
   "id": "2ef1f1c5",
   "metadata": {},
   "outputs": [],
   "source": [
    "accuracy_scores = {}\n",
    "auc_scores = {}"
   ]
  },
  {
   "cell_type": "code",
   "execution_count": 3,
   "id": "970d3bc6",
   "metadata": {},
   "outputs": [],
   "source": [
    "df = pd.read_excel(\"../data/annotations/v4-characterized-HIV and TB protocol data.xlsx\")"
   ]
  },
  {
   "cell_type": "code",
   "execution_count": 4,
   "id": "29097ef7",
   "metadata": {},
   "outputs": [
    {
     "name": "stderr",
     "output_type": "stream",
     "text": [
      "2022-06-24 13:54:19.360189: W tensorflow/stream_executor/platform/default/dso_loader.cc:64] Could not load dynamic library 'libcudart.so.11.0'; dlerror: libcudart.so.11.0: cannot open shared object file: No such file or directory\n",
      "2022-06-24 13:54:19.360232: I tensorflow/stream_executor/cuda/cudart_stub.cc:29] Ignore above cudart dlerror if you do not have a GPU set up on your machine.\n"
     ]
    }
   ],
   "source": [
    "from util.protocol_master_processor import MasterProcessor"
   ]
  },
  {
   "cell_type": "code",
   "execution_count": 5,
   "id": "55de6250",
   "metadata": {},
   "outputs": [],
   "source": [
    "master_processor = MasterProcessor(\"models/condition_classifier.pkl.bz2\", \"models/sap_classifier.pkl.bz2\",\n",
    "                                   \"models/effect_estimate_classifier.pkl.bz2\",\n",
    "                                   \"models/num_subjects_classifier.pkl.bz2\",\n",
    "                                   \"models/simulation_classifier.pkl.bz2\")"
   ]
  },
  {
   "cell_type": "code",
   "execution_count": 6,
   "id": "26cad61a",
   "metadata": {},
   "outputs": [],
   "source": [
    "input_folder = \"../data/preprocessed_tika/\"\n",
    "\n",
    "file_to_text = {}\n",
    "dataset_selector_style = None\n",
    "for root, folder, files in os.walk(input_folder):\n",
    "    for file_name in files:\n",
    "        if not file_name.endswith(\"pkl\"):\n",
    "            continue\n",
    "        pdf_file = re.sub(\".pkl\", \"\", file_name)\n",
    "\n",
    "        full_file = input_folder + \"/\" + file_name\n",
    "        #         print (full_file)\n",
    "        with open(full_file, 'rb') as f:\n",
    "            text = pkl.load(f)\n",
    "        file_to_text[pdf_file] = text"
   ]
  },
  {
   "cell_type": "markdown",
   "id": "10a64cb7",
   "metadata": {},
   "source": [
    "# Get predictions"
   ]
  },
  {
   "cell_type": "code",
   "execution_count": 7,
   "id": "c761ed77",
   "metadata": {
    "scrolled": false
   },
   "outputs": [
    {
     "name": "stdout",
     "output_type": "stream",
     "text": [
      "TB-TB-2018-DAR-PIA.pdf\n"
     ]
    },
    {
     "name": "stderr",
     "output_type": "stream",
     "text": [
      "/home/thomas/anaconda3/lib/python3.9/site-packages/pandas/util/_decorators.py:311: SettingWithCopyWarning: \n",
      "A value is trying to be set on a copy of a slice from a DataFrame\n",
      "\n",
      "See the caveats in the documentation: https://pandas.pydata.org/pandas-docs/stable/user_guide/indexing.html#returning-a-view-versus-a-copy\n",
      "  return func(*args, **kwargs)\n"
     ]
    },
    {
     "name": "stdout",
     "output_type": "stream",
     "text": [
      "TB-TB-2018-M-P-A.pdf\n"
     ]
    },
    {
     "name": "stderr",
     "output_type": "stream",
     "text": [
      "/home/thomas/anaconda3/lib/python3.9/site-packages/pandas/util/_decorators.py:311: SettingWithCopyWarning: \n",
      "A value is trying to be set on a copy of a slice from a DataFrame\n",
      "\n",
      "See the caveats in the documentation: https://pandas.pydata.org/pandas-docs/stable/user_guide/indexing.html#returning-a-view-versus-a-copy\n",
      "  return func(*args, **kwargs)\n"
     ]
    },
    {
     "name": "stdout",
     "output_type": "stream",
     "text": [
      "HIV-HIV-2016-Ayles-A Study of the HIV prevention Trials Network.pdf\n"
     ]
    },
    {
     "name": "stderr",
     "output_type": "stream",
     "text": [
      "/home/thomas/anaconda3/lib/python3.9/site-packages/pandas/util/_decorators.py:311: SettingWithCopyWarning: \n",
      "A value is trying to be set on a copy of a slice from a DataFrame\n",
      "\n",
      "See the caveats in the documentation: https://pandas.pydata.org/pandas-docs/stable/user_guide/indexing.html#returning-a-view-versus-a-copy\n",
      "  return func(*args, **kwargs)\n"
     ]
    },
    {
     "name": "stdout",
     "output_type": "stream",
     "text": [
      "TB-TB-2019-T-A-b.pdf\n",
      "HIV-HIV-2016-Laufer-Trimethoprim-Sulfamethoxazole-Chloroquine.pdf\n"
     ]
    },
    {
     "name": "stderr",
     "output_type": "stream",
     "text": [
      "/home/thomas/anaconda3/lib/python3.9/site-packages/pandas/util/_decorators.py:311: SettingWithCopyWarning: \n",
      "A value is trying to be set on a copy of a slice from a DataFrame\n",
      "\n",
      "See the caveats in the documentation: https://pandas.pydata.org/pandas-docs/stable/user_guide/indexing.html#returning-a-view-versus-a-copy\n",
      "  return func(*args, **kwargs)\n"
     ]
    },
    {
     "name": "stdout",
     "output_type": "stream",
     "text": [
      "NTD-Filariasis-2019-Weil-DOLF IDA Papua New Guinea.pdf\n"
     ]
    },
    {
     "name": "stderr",
     "output_type": "stream",
     "text": [
      "/home/thomas/anaconda3/lib/python3.9/site-packages/pandas/util/_decorators.py:311: SettingWithCopyWarning: \n",
      "A value is trying to be set on a copy of a slice from a DataFrame\n",
      "\n",
      "See the caveats in the documentation: https://pandas.pydata.org/pandas-docs/stable/user_guide/indexing.html#returning-a-view-versus-a-copy\n",
      "  return func(*args, **kwargs)\n"
     ]
    },
    {
     "name": "stdout",
     "output_type": "stream",
     "text": [
      "HIV-HIV-2017-Abrams-IMPAACT P1101.pdf\n",
      "NUT-A-2019-M-T.pdf\n"
     ]
    },
    {
     "name": "stderr",
     "output_type": "stream",
     "text": [
      "/home/thomas/anaconda3/lib/python3.9/site-packages/pandas/util/_decorators.py:311: SettingWithCopyWarning: \n",
      "A value is trying to be set on a copy of a slice from a DataFrame\n",
      "\n",
      "See the caveats in the documentation: https://pandas.pydata.org/pandas-docs/stable/user_guide/indexing.html#returning-a-view-versus-a-copy\n",
      "  return func(*args, **kwargs)\n"
     ]
    },
    {
     "name": "stdout",
     "output_type": "stream",
     "text": [
      "HIV-HIV-2018-IMPAACT-P1112.pdf\n",
      "EDD-rotavirus-2017-Isanaka-ROSE.pdf\n"
     ]
    },
    {
     "name": "stderr",
     "output_type": "stream",
     "text": [
      "/home/thomas/anaconda3/lib/python3.9/site-packages/pandas/util/_decorators.py:311: SettingWithCopyWarning: \n",
      "A value is trying to be set on a copy of a slice from a DataFrame\n",
      "\n",
      "See the caveats in the documentation: https://pandas.pydata.org/pandas-docs/stable/user_guide/indexing.html#returning-a-view-versus-a-copy\n",
      "  return func(*args, **kwargs)\n"
     ]
    },
    {
     "name": "stdout",
     "output_type": "stream",
     "text": [
      "NTD-Y-2019-M-Y.pdf\n",
      "NTD-Chagas-2015-Morillo-BENEFIT.pdf\n"
     ]
    },
    {
     "name": "stderr",
     "output_type": "stream",
     "text": [
      "/home/thomas/anaconda3/lib/python3.9/site-packages/pandas/util/_decorators.py:311: SettingWithCopyWarning: \n",
      "A value is trying to be set on a copy of a slice from a DataFrame\n",
      "\n",
      "See the caveats in the documentation: https://pandas.pydata.org/pandas-docs/stable/user_guide/indexing.html#returning-a-view-versus-a-copy\n",
      "  return func(*args, **kwargs)\n"
     ]
    },
    {
     "name": "stdout",
     "output_type": "stream",
     "text": [
      "MAT-V-2018-R-M.pdf\n"
     ]
    },
    {
     "name": "stderr",
     "output_type": "stream",
     "text": [
      "/home/thomas/anaconda3/lib/python3.9/site-packages/pandas/util/_decorators.py:311: SettingWithCopyWarning: \n",
      "A value is trying to be set on a copy of a slice from a DataFrame\n",
      "\n",
      "See the caveats in the documentation: https://pandas.pydata.org/pandas-docs/stable/user_guide/indexing.html#returning-a-view-versus-a-copy\n",
      "  return func(*args, **kwargs)\n"
     ]
    },
    {
     "name": "stdout",
     "output_type": "stream",
     "text": [
      "HIV-HIV-2018-GSK1265744.pdf\n",
      "POL-P-2018-O-A-L.pdf\n",
      "MAT-Hypothermia-2018-Hansen-Electricity-free Infant Warmer.pdf\n"
     ]
    },
    {
     "name": "stderr",
     "output_type": "stream",
     "text": [
      "/home/thomas/anaconda3/lib/python3.9/site-packages/pandas/util/_decorators.py:311: SettingWithCopyWarning: \n",
      "A value is trying to be set on a copy of a slice from a DataFrame\n",
      "\n",
      "See the caveats in the documentation: https://pandas.pydata.org/pandas-docs/stable/user_guide/indexing.html#returning-a-view-versus-a-copy\n",
      "  return func(*args, **kwargs)\n"
     ]
    },
    {
     "name": "stdout",
     "output_type": "stream",
     "text": [
      "EDD-T-2019-S-T.pdf\n",
      "NTD-Hookwork-2018-Keiser-Efficacy and safety of a single.pdf\n"
     ]
    },
    {
     "name": "stderr",
     "output_type": "stream",
     "text": [
      "/home/thomas/anaconda3/lib/python3.9/site-packages/pandas/util/_decorators.py:311: SettingWithCopyWarning: \n",
      "A value is trying to be set on a copy of a slice from a DataFrame\n",
      "\n",
      "See the caveats in the documentation: https://pandas.pydata.org/pandas-docs/stable/user_guide/indexing.html#returning-a-view-versus-a-copy\n",
      "  return func(*args, **kwargs)\n"
     ]
    },
    {
     "name": "stdout",
     "output_type": "stream",
     "text": [
      "TB-TB-2018-Piazza-A Phase 1b, Randomized, Double-blind.pdf\n",
      "MAL-Malaria-2019-Llanos-Cuentas-Tafenoquine vs. Primaquine to.pdf\n"
     ]
    },
    {
     "name": "stderr",
     "output_type": "stream",
     "text": [
      "/home/thomas/anaconda3/lib/python3.9/site-packages/pandas/util/_decorators.py:311: SettingWithCopyWarning: \n",
      "A value is trying to be set on a copy of a slice from a DataFrame\n",
      "\n",
      "See the caveats in the documentation: https://pandas.pydata.org/pandas-docs/stable/user_guide/indexing.html#returning-a-view-versus-a-copy\n",
      "  return func(*args, **kwargs)\n"
     ]
    },
    {
     "name": "stdout",
     "output_type": "stream",
     "text": [
      "HIV-HIV-2017-Corey-HVTN703-HPTN081.pdf\n"
     ]
    },
    {
     "name": "stderr",
     "output_type": "stream",
     "text": [
      "/home/thomas/anaconda3/lib/python3.9/site-packages/pandas/util/_decorators.py:311: SettingWithCopyWarning: \n",
      "A value is trying to be set on a copy of a slice from a DataFrame\n",
      "\n",
      "See the caveats in the documentation: https://pandas.pydata.org/pandas-docs/stable/user_guide/indexing.html#returning-a-view-versus-a-copy\n",
      "  return func(*args, **kwargs)\n"
     ]
    },
    {
     "name": "stdout",
     "output_type": "stream",
     "text": [
      "MAL-M-2019-A-S.pdf\n"
     ]
    },
    {
     "name": "stderr",
     "output_type": "stream",
     "text": [
      "/home/thomas/anaconda3/lib/python3.9/site-packages/pandas/util/_decorators.py:311: SettingWithCopyWarning: \n",
      "A value is trying to be set on a copy of a slice from a DataFrame\n",
      "\n",
      "See the caveats in the documentation: https://pandas.pydata.org/pandas-docs/stable/user_guide/indexing.html#returning-a-view-versus-a-copy\n",
      "  return func(*args, **kwargs)\n"
     ]
    },
    {
     "name": "stdout",
     "output_type": "stream",
     "text": [
      "NTD-E-2017-A-A.pdf\n"
     ]
    },
    {
     "name": "stderr",
     "output_type": "stream",
     "text": [
      "/home/thomas/anaconda3/lib/python3.9/site-packages/pandas/util/_decorators.py:311: SettingWithCopyWarning: \n",
      "A value is trying to be set on a copy of a slice from a DataFrame\n",
      "\n",
      "See the caveats in the documentation: https://pandas.pydata.org/pandas-docs/stable/user_guide/indexing.html#returning-a-view-versus-a-copy\n",
      "  return func(*args, **kwargs)\n"
     ]
    },
    {
     "name": "stdout",
     "output_type": "stream",
     "text": [
      "HIV-HIV-2017-Bekker-HVTN100.pdf\n"
     ]
    },
    {
     "name": "stderr",
     "output_type": "stream",
     "text": [
      "/home/thomas/anaconda3/lib/python3.9/site-packages/pandas/util/_decorators.py:311: SettingWithCopyWarning: \n",
      "A value is trying to be set on a copy of a slice from a DataFrame\n",
      "\n",
      "See the caveats in the documentation: https://pandas.pydata.org/pandas-docs/stable/user_guide/indexing.html#returning-a-view-versus-a-copy\n",
      "  return func(*args, **kwargs)\n"
     ]
    },
    {
     "name": "stdout",
     "output_type": "stream",
     "text": [
      "MAL-Malaria-2019-Tinto-Extension to study MALARIA-055 PRI.pdf\n"
     ]
    },
    {
     "name": "stderr",
     "output_type": "stream",
     "text": [
      "/home/thomas/anaconda3/lib/python3.9/site-packages/pandas/util/_decorators.py:311: SettingWithCopyWarning: \n",
      "A value is trying to be set on a copy of a slice from a DataFrame\n",
      "\n",
      "See the caveats in the documentation: https://pandas.pydata.org/pandas-docs/stable/user_guide/indexing.html#returning-a-view-versus-a-copy\n",
      "  return func(*args, **kwargs)\n"
     ]
    },
    {
     "name": "stdout",
     "output_type": "stream",
     "text": [
      "NUT-NUT-2019-A-I.pdf\n",
      "HIV-HIV-2018-M-A.pdf\n",
      "HIV-HIV-2017-L-I.pdf\n"
     ]
    },
    {
     "name": "stderr",
     "output_type": "stream",
     "text": [
      "/home/thomas/anaconda3/lib/python3.9/site-packages/pandas/util/_decorators.py:311: SettingWithCopyWarning: \n",
      "A value is trying to be set on a copy of a slice from a DataFrame\n",
      "\n",
      "See the caveats in the documentation: https://pandas.pydata.org/pandas-docs/stable/user_guide/indexing.html#returning-a-view-versus-a-copy\n",
      "  return func(*args, **kwargs)\n"
     ]
    },
    {
     "name": "stdout",
     "output_type": "stream",
     "text": [
      "TB-TB-2019-M-A.pdf\n"
     ]
    },
    {
     "name": "stderr",
     "output_type": "stream",
     "text": [
      "/home/thomas/anaconda3/lib/python3.9/site-packages/pandas/util/_decorators.py:311: SettingWithCopyWarning: \n",
      "A value is trying to be set on a copy of a slice from a DataFrame\n",
      "\n",
      "See the caveats in the documentation: https://pandas.pydata.org/pandas-docs/stable/user_guide/indexing.html#returning-a-view-versus-a-copy\n",
      "  return func(*args, **kwargs)\n"
     ]
    },
    {
     "name": "stdout",
     "output_type": "stream",
     "text": [
      "VAC-G-2016-VAC-G-2016-V.pdf\n"
     ]
    },
    {
     "name": "stderr",
     "output_type": "stream",
     "text": [
      "/home/thomas/anaconda3/lib/python3.9/site-packages/pandas/util/_decorators.py:311: SettingWithCopyWarning: \n",
      "A value is trying to be set on a copy of a slice from a DataFrame\n",
      "\n",
      "See the caveats in the documentation: https://pandas.pydata.org/pandas-docs/stable/user_guide/indexing.html#returning-a-view-versus-a-copy\n",
      "  return func(*args, **kwargs)\n"
     ]
    },
    {
     "name": "stdout",
     "output_type": "stream",
     "text": [
      "HIV-HIV-2016-N-S.pdf\n"
     ]
    },
    {
     "name": "stderr",
     "output_type": "stream",
     "text": [
      "/home/thomas/anaconda3/lib/python3.9/site-packages/pandas/util/_decorators.py:311: SettingWithCopyWarning: \n",
      "A value is trying to be set on a copy of a slice from a DataFrame\n",
      "\n",
      "See the caveats in the documentation: https://pandas.pydata.org/pandas-docs/stable/user_guide/indexing.html#returning-a-view-versus-a-copy\n",
      "  return func(*args, **kwargs)\n"
     ]
    },
    {
     "name": "stdout",
     "output_type": "stream",
     "text": [
      "VAC-Shigellosis-2019-Raqib-Shigella WRSS1 Vaccine trial in Bangladesh.pdf\n",
      "HIV-HIV-2017-Evolocumab-AMG145.pdf\n",
      "TB-TB-2015-D-A.pdf\n",
      "POL-P-2016-G-T.pdf\n"
     ]
    },
    {
     "name": "stderr",
     "output_type": "stream",
     "text": [
      "/home/thomas/anaconda3/lib/python3.9/site-packages/pandas/util/_decorators.py:311: SettingWithCopyWarning: \n",
      "A value is trying to be set on a copy of a slice from a DataFrame\n",
      "\n",
      "See the caveats in the documentation: https://pandas.pydata.org/pandas-docs/stable/user_guide/indexing.html#returning-a-view-versus-a-copy\n",
      "  return func(*args, **kwargs)\n"
     ]
    },
    {
     "name": "stdout",
     "output_type": "stream",
     "text": [
      "TB-TB-2019-Suliman-A Phase I_IIa Double-Blind.pdf\n",
      "MAT-Anemia-2015-Etheredge-Prenatal Iron Supplements Safety and.pdf\n"
     ]
    },
    {
     "name": "stderr",
     "output_type": "stream",
     "text": [
      "/home/thomas/anaconda3/lib/python3.9/site-packages/pandas/util/_decorators.py:311: SettingWithCopyWarning: \n",
      "A value is trying to be set on a copy of a slice from a DataFrame\n",
      "\n",
      "See the caveats in the documentation: https://pandas.pydata.org/pandas-docs/stable/user_guide/indexing.html#returning-a-view-versus-a-copy\n",
      "  return func(*args, **kwargs)\n"
     ]
    },
    {
     "name": "stdout",
     "output_type": "stream",
     "text": [
      "HIV-HIV-2016-R-E.pdf\n"
     ]
    },
    {
     "name": "stderr",
     "output_type": "stream",
     "text": [
      "/home/thomas/anaconda3/lib/python3.9/site-packages/pandas/util/_decorators.py:311: SettingWithCopyWarning: \n",
      "A value is trying to be set on a copy of a slice from a DataFrame\n",
      "\n",
      "See the caveats in the documentation: https://pandas.pydata.org/pandas-docs/stable/user_guide/indexing.html#returning-a-view-versus-a-copy\n",
      "  return func(*args, **kwargs)\n"
     ]
    },
    {
     "name": "stdout",
     "output_type": "stream",
     "text": [
      "HIV-HIV-2019-H-S.pdf\n"
     ]
    },
    {
     "name": "stderr",
     "output_type": "stream",
     "text": [
      "/home/thomas/anaconda3/lib/python3.9/site-packages/pandas/util/_decorators.py:311: SettingWithCopyWarning: \n",
      "A value is trying to be set on a copy of a slice from a DataFrame\n",
      "\n",
      "See the caveats in the documentation: https://pandas.pydata.org/pandas-docs/stable/user_guide/indexing.html#returning-a-view-versus-a-copy\n",
      "  return func(*args, **kwargs)\n"
     ]
    },
    {
     "name": "stdout",
     "output_type": "stream",
     "text": [
      "NTD-Filariasis-2019-Weil-DOLF IDA Haiti.pdf\n"
     ]
    },
    {
     "name": "stderr",
     "output_type": "stream",
     "text": [
      "/home/thomas/anaconda3/lib/python3.9/site-packages/pandas/util/_decorators.py:311: SettingWithCopyWarning: \n",
      "A value is trying to be set on a copy of a slice from a DataFrame\n",
      "\n",
      "See the caveats in the documentation: https://pandas.pydata.org/pandas-docs/stable/user_guide/indexing.html#returning-a-view-versus-a-copy\n",
      "  return func(*args, **kwargs)\n"
     ]
    },
    {
     "name": "stdout",
     "output_type": "stream",
     "text": [
      "MAT-MAT-2018-G-F.pdf\n"
     ]
    },
    {
     "name": "stderr",
     "output_type": "stream",
     "text": [
      "/home/thomas/anaconda3/lib/python3.9/site-packages/pandas/util/_decorators.py:311: SettingWithCopyWarning: \n",
      "A value is trying to be set on a copy of a slice from a DataFrame\n",
      "\n",
      "See the caveats in the documentation: https://pandas.pydata.org/pandas-docs/stable/user_guide/indexing.html#returning-a-view-versus-a-copy\n",
      "  return func(*args, **kwargs)\n"
     ]
    },
    {
     "name": "stdout",
     "output_type": "stream",
     "text": [
      "EDD-R-2017-G-V.pdf\n"
     ]
    },
    {
     "name": "stderr",
     "output_type": "stream",
     "text": [
      "/home/thomas/anaconda3/lib/python3.9/site-packages/pandas/util/_decorators.py:311: SettingWithCopyWarning: \n",
      "A value is trying to be set on a copy of a slice from a DataFrame\n",
      "\n",
      "See the caveats in the documentation: https://pandas.pydata.org/pandas-docs/stable/user_guide/indexing.html#returning-a-view-versus-a-copy\n",
      "  return func(*args, **kwargs)\n"
     ]
    },
    {
     "name": "stdout",
     "output_type": "stream",
     "text": [
      "MAT-HIV-2016-Fowler-PROMISE.pdf\n"
     ]
    },
    {
     "name": "stderr",
     "output_type": "stream",
     "text": [
      "/home/thomas/anaconda3/lib/python3.9/site-packages/pandas/util/_decorators.py:311: SettingWithCopyWarning: \n",
      "A value is trying to be set on a copy of a slice from a DataFrame\n",
      "\n",
      "See the caveats in the documentation: https://pandas.pydata.org/pandas-docs/stable/user_guide/indexing.html#returning-a-view-versus-a-copy\n",
      "  return func(*args, **kwargs)\n"
     ]
    },
    {
     "name": "stdout",
     "output_type": "stream",
     "text": [
      "TB-TB-2018-H-A.pdf\n"
     ]
    },
    {
     "name": "stderr",
     "output_type": "stream",
     "text": [
      "/home/thomas/anaconda3/lib/python3.9/site-packages/pandas/util/_decorators.py:311: SettingWithCopyWarning: \n",
      "A value is trying to be set on a copy of a slice from a DataFrame\n",
      "\n",
      "See the caveats in the documentation: https://pandas.pydata.org/pandas-docs/stable/user_guide/indexing.html#returning-a-view-versus-a-copy\n",
      "  return func(*args, **kwargs)\n"
     ]
    },
    {
     "name": "stdout",
     "output_type": "stream",
     "text": [
      "HIV-HIV-2016-HVTN114.pdf\n"
     ]
    },
    {
     "name": "stderr",
     "output_type": "stream",
     "text": [
      "/home/thomas/anaconda3/lib/python3.9/site-packages/pandas/util/_decorators.py:311: SettingWithCopyWarning: \n",
      "A value is trying to be set on a copy of a slice from a DataFrame\n",
      "\n",
      "See the caveats in the documentation: https://pandas.pydata.org/pandas-docs/stable/user_guide/indexing.html#returning-a-view-versus-a-copy\n",
      "  return func(*args, **kwargs)\n"
     ]
    },
    {
     "name": "stdout",
     "output_type": "stream",
     "text": [
      "HIV-HIV-2018-Long-acting Cabotegravir Plus Long-acting Rilpivirine.pdf\n"
     ]
    },
    {
     "name": "stderr",
     "output_type": "stream",
     "text": [
      "/home/thomas/anaconda3/lib/python3.9/site-packages/pandas/util/_decorators.py:311: SettingWithCopyWarning: \n",
      "A value is trying to be set on a copy of a slice from a DataFrame\n",
      "\n",
      "See the caveats in the documentation: https://pandas.pydata.org/pandas-docs/stable/user_guide/indexing.html#returning-a-view-versus-a-copy\n",
      "  return func(*args, **kwargs)\n"
     ]
    },
    {
     "name": "stdout",
     "output_type": "stream",
     "text": [
      "NUT-S-2018-R-S.pdf\n"
     ]
    },
    {
     "name": "stderr",
     "output_type": "stream",
     "text": [
      "/home/thomas/anaconda3/lib/python3.9/site-packages/pandas/util/_decorators.py:311: SettingWithCopyWarning: \n",
      "A value is trying to be set on a copy of a slice from a DataFrame\n",
      "\n",
      "See the caveats in the documentation: https://pandas.pydata.org/pandas-docs/stable/user_guide/indexing.html#returning-a-view-versus-a-copy\n",
      "  return func(*args, **kwargs)\n"
     ]
    },
    {
     "name": "stdout",
     "output_type": "stream",
     "text": [
      "VAC-Tdap-2019-Sancovski-A Post-marketing, Observational, Retrospective.pdf\n"
     ]
    },
    {
     "name": "stderr",
     "output_type": "stream",
     "text": [
      "/home/thomas/anaconda3/lib/python3.9/site-packages/pandas/util/_decorators.py:311: SettingWithCopyWarning: \n",
      "A value is trying to be set on a copy of a slice from a DataFrame\n",
      "\n",
      "See the caveats in the documentation: https://pandas.pydata.org/pandas-docs/stable/user_guide/indexing.html#returning-a-view-versus-a-copy\n",
      "  return func(*args, **kwargs)\n"
     ]
    },
    {
     "name": "stdout",
     "output_type": "stream",
     "text": [
      "NTD-t-2017-M-E.pdf\n"
     ]
    },
    {
     "name": "stderr",
     "output_type": "stream",
     "text": [
      "/home/thomas/anaconda3/lib/python3.9/site-packages/pandas/util/_decorators.py:311: SettingWithCopyWarning: \n",
      "A value is trying to be set on a copy of a slice from a DataFrame\n",
      "\n",
      "See the caveats in the documentation: https://pandas.pydata.org/pandas-docs/stable/user_guide/indexing.html#returning-a-view-versus-a-copy\n",
      "  return func(*args, **kwargs)\n"
     ]
    },
    {
     "name": "stdout",
     "output_type": "stream",
     "text": [
      "HIV-HIV-2018-Lockman-Dolutegravir-Containing versus Efavirenz-Containing Antiretroviral Therapy.pdf\n"
     ]
    },
    {
     "name": "stderr",
     "output_type": "stream",
     "text": [
      "/home/thomas/anaconda3/lib/python3.9/site-packages/pandas/util/_decorators.py:311: SettingWithCopyWarning: \n",
      "A value is trying to be set on a copy of a slice from a DataFrame\n",
      "\n",
      "See the caveats in the documentation: https://pandas.pydata.org/pandas-docs/stable/user_guide/indexing.html#returning-a-view-versus-a-copy\n",
      "  return func(*args, **kwargs)\n"
     ]
    },
    {
     "name": "stdout",
     "output_type": "stream",
     "text": [
      "MAL-M-2018-D-C.pdf\n"
     ]
    },
    {
     "name": "stderr",
     "output_type": "stream",
     "text": [
      "/home/thomas/anaconda3/lib/python3.9/site-packages/pandas/util/_decorators.py:311: SettingWithCopyWarning: \n",
      "A value is trying to be set on a copy of a slice from a DataFrame\n",
      "\n",
      "See the caveats in the documentation: https://pandas.pydata.org/pandas-docs/stable/user_guide/indexing.html#returning-a-view-versus-a-copy\n",
      "  return func(*args, **kwargs)\n"
     ]
    },
    {
     "name": "stdout",
     "output_type": "stream",
     "text": [
      "NTD-D-2017-S-P.pdf\n",
      "HIV-HIV-2016-Garrett-HVTN108.pdf\n"
     ]
    },
    {
     "name": "stderr",
     "output_type": "stream",
     "text": [
      "/home/thomas/anaconda3/lib/python3.9/site-packages/pandas/util/_decorators.py:311: SettingWithCopyWarning: \n",
      "A value is trying to be set on a copy of a slice from a DataFrame\n",
      "\n",
      "See the caveats in the documentation: https://pandas.pydata.org/pandas-docs/stable/user_guide/indexing.html#returning-a-view-versus-a-copy\n",
      "  return func(*args, **kwargs)\n"
     ]
    },
    {
     "name": "stdout",
     "output_type": "stream",
     "text": [
      "HIV-HIV-2018-Labhardt-CASCADE.pdf\n"
     ]
    },
    {
     "name": "stderr",
     "output_type": "stream",
     "text": [
      "/home/thomas/anaconda3/lib/python3.9/site-packages/pandas/util/_decorators.py:311: SettingWithCopyWarning: \n",
      "A value is trying to be set on a copy of a slice from a DataFrame\n",
      "\n",
      "See the caveats in the documentation: https://pandas.pydata.org/pandas-docs/stable/user_guide/indexing.html#returning-a-view-versus-a-copy\n",
      "  return func(*args, **kwargs)\n"
     ]
    },
    {
     "name": "stdout",
     "output_type": "stream",
     "text": [
      "TB-TB-2019-Dawson-A Phase 2 Open‐Label Partially .pdf\n"
     ]
    },
    {
     "name": "stderr",
     "output_type": "stream",
     "text": [
      "/home/thomas/anaconda3/lib/python3.9/site-packages/pandas/util/_decorators.py:311: SettingWithCopyWarning: \n",
      "A value is trying to be set on a copy of a slice from a DataFrame\n",
      "\n",
      "See the caveats in the documentation: https://pandas.pydata.org/pandas-docs/stable/user_guide/indexing.html#returning-a-view-versus-a-copy\n",
      "  return func(*args, **kwargs)\n"
     ]
    },
    {
     "name": "stdout",
     "output_type": "stream",
     "text": [
      "MAL-MAL-2018-Dorsey-PROMOTE Birth Cohort 1.pdf\n"
     ]
    },
    {
     "name": "stderr",
     "output_type": "stream",
     "text": [
      "/home/thomas/anaconda3/lib/python3.9/site-packages/pandas/util/_decorators.py:311: SettingWithCopyWarning: \n",
      "A value is trying to be set on a copy of a slice from a DataFrame\n",
      "\n",
      "See the caveats in the documentation: https://pandas.pydata.org/pandas-docs/stable/user_guide/indexing.html#returning-a-view-versus-a-copy\n",
      "  return func(*args, **kwargs)\n"
     ]
    },
    {
     "name": "stdout",
     "output_type": "stream",
     "text": [
      "PNE-P-2019-C-P.pdf\n"
     ]
    },
    {
     "name": "stderr",
     "output_type": "stream",
     "text": [
      "/home/thomas/anaconda3/lib/python3.9/site-packages/pandas/util/_decorators.py:311: SettingWithCopyWarning: \n",
      "A value is trying to be set on a copy of a slice from a DataFrame\n",
      "\n",
      "See the caveats in the documentation: https://pandas.pydata.org/pandas-docs/stable/user_guide/indexing.html#returning-a-view-versus-a-copy\n",
      "  return func(*args, **kwargs)\n"
     ]
    },
    {
     "name": "stdout",
     "output_type": "stream",
     "text": [
      "HIV-HIV-2019-Venter-ADVANCE.pdf\n"
     ]
    },
    {
     "name": "stderr",
     "output_type": "stream",
     "text": [
      "/home/thomas/anaconda3/lib/python3.9/site-packages/pandas/util/_decorators.py:311: SettingWithCopyWarning: \n",
      "A value is trying to be set on a copy of a slice from a DataFrame\n",
      "\n",
      "See the caveats in the documentation: https://pandas.pydata.org/pandas-docs/stable/user_guide/indexing.html#returning-a-view-versus-a-copy\n",
      "  return func(*args, **kwargs)\n"
     ]
    },
    {
     "name": "stdout",
     "output_type": "stream",
     "text": [
      "HIV-HIV-2019-K-C.pdf\n"
     ]
    },
    {
     "name": "stderr",
     "output_type": "stream",
     "text": [
      "/home/thomas/anaconda3/lib/python3.9/site-packages/pandas/util/_decorators.py:311: SettingWithCopyWarning: \n",
      "A value is trying to be set on a copy of a slice from a DataFrame\n",
      "\n",
      "See the caveats in the documentation: https://pandas.pydata.org/pandas-docs/stable/user_guide/indexing.html#returning-a-view-versus-a-copy\n",
      "  return func(*args, **kwargs)\n"
     ]
    },
    {
     "name": "stdout",
     "output_type": "stream",
     "text": [
      "PNE-Pneumonia-2019-Alexander-LEAP2.pdf\n"
     ]
    },
    {
     "name": "stderr",
     "output_type": "stream",
     "text": [
      "/home/thomas/anaconda3/lib/python3.9/site-packages/pandas/util/_decorators.py:311: SettingWithCopyWarning: \n",
      "A value is trying to be set on a copy of a slice from a DataFrame\n",
      "\n",
      "See the caveats in the documentation: https://pandas.pydata.org/pandas-docs/stable/user_guide/indexing.html#returning-a-view-versus-a-copy\n",
      "  return func(*args, **kwargs)\n"
     ]
    },
    {
     "name": "stdout",
     "output_type": "stream",
     "text": [
      "MAT-Cervical Disease-2019-Greene-LEEP.pdf\n",
      "TB-TB-2018-Churchyard-Bedaquiline-Delamanid.pdf\n"
     ]
    },
    {
     "name": "stderr",
     "output_type": "stream",
     "text": [
      "/home/thomas/anaconda3/lib/python3.9/site-packages/pandas/util/_decorators.py:311: SettingWithCopyWarning: \n",
      "A value is trying to be set on a copy of a slice from a DataFrame\n",
      "\n",
      "See the caveats in the documentation: https://pandas.pydata.org/pandas-docs/stable/user_guide/indexing.html#returning-a-view-versus-a-copy\n",
      "  return func(*args, **kwargs)\n"
     ]
    },
    {
     "name": "stdout",
     "output_type": "stream",
     "text": [
      "MAL-Malaria-2019-Foy-RIMDAMAL.pdf\n"
     ]
    },
    {
     "name": "stderr",
     "output_type": "stream",
     "text": [
      "/home/thomas/anaconda3/lib/python3.9/site-packages/pandas/util/_decorators.py:311: SettingWithCopyWarning: \n",
      "A value is trying to be set on a copy of a slice from a DataFrame\n",
      "\n",
      "See the caveats in the documentation: https://pandas.pydata.org/pandas-docs/stable/user_guide/indexing.html#returning-a-view-versus-a-copy\n",
      "  return func(*args, **kwargs)\n"
     ]
    },
    {
     "name": "stdout",
     "output_type": "stream",
     "text": [
      "TB-TB-2019-N-S.pdf\n"
     ]
    },
    {
     "name": "stderr",
     "output_type": "stream",
     "text": [
      "/home/thomas/anaconda3/lib/python3.9/site-packages/pandas/util/_decorators.py:311: SettingWithCopyWarning: \n",
      "A value is trying to be set on a copy of a slice from a DataFrame\n",
      "\n",
      "See the caveats in the documentation: https://pandas.pydata.org/pandas-docs/stable/user_guide/indexing.html#returning-a-view-versus-a-copy\n",
      "  return func(*args, **kwargs)\n"
     ]
    },
    {
     "name": "stdout",
     "output_type": "stream",
     "text": [
      "NUT-Stunting-2019-Humphrey-SHINE.pdf\n"
     ]
    },
    {
     "name": "stderr",
     "output_type": "stream",
     "text": [
      "/home/thomas/anaconda3/lib/python3.9/site-packages/pandas/util/_decorators.py:311: SettingWithCopyWarning: \n",
      "A value is trying to be set on a copy of a slice from a DataFrame\n",
      "\n",
      "See the caveats in the documentation: https://pandas.pydata.org/pandas-docs/stable/user_guide/indexing.html#returning-a-view-versus-a-copy\n",
      "  return func(*args, **kwargs)\n"
     ]
    },
    {
     "name": "stdout",
     "output_type": "stream",
     "text": [
      "PNE-Pneumonia-2018-Keenan-Mortality Reduction After Oral Azithromycin.pdf\n"
     ]
    },
    {
     "name": "stderr",
     "output_type": "stream",
     "text": [
      "/home/thomas/anaconda3/lib/python3.9/site-packages/pandas/util/_decorators.py:311: SettingWithCopyWarning: \n",
      "A value is trying to be set on a copy of a slice from a DataFrame\n",
      "\n",
      "See the caveats in the documentation: https://pandas.pydata.org/pandas-docs/stable/user_guide/indexing.html#returning-a-view-versus-a-copy\n",
      "  return func(*args, **kwargs)\n"
     ]
    },
    {
     "name": "stdout",
     "output_type": "stream",
     "text": [
      "EDD-Cholera-2016-Qadri-Shanchol.pdf\n"
     ]
    },
    {
     "name": "stderr",
     "output_type": "stream",
     "text": [
      "/home/thomas/anaconda3/lib/python3.9/site-packages/pandas/util/_decorators.py:311: SettingWithCopyWarning: \n",
      "A value is trying to be set on a copy of a slice from a DataFrame\n",
      "\n",
      "See the caveats in the documentation: https://pandas.pydata.org/pandas-docs/stable/user_guide/indexing.html#returning-a-view-versus-a-copy\n",
      "  return func(*args, **kwargs)\n"
     ]
    },
    {
     "name": "stdout",
     "output_type": "stream",
     "text": [
      "TB-TB-2020-John-Stewart-iTIPS.pdf\n"
     ]
    },
    {
     "name": "stderr",
     "output_type": "stream",
     "text": [
      "/home/thomas/anaconda3/lib/python3.9/site-packages/pandas/util/_decorators.py:311: SettingWithCopyWarning: \n",
      "A value is trying to be set on a copy of a slice from a DataFrame\n",
      "\n",
      "See the caveats in the documentation: https://pandas.pydata.org/pandas-docs/stable/user_guide/indexing.html#returning-a-view-versus-a-copy\n",
      "  return func(*args, **kwargs)\n"
     ]
    },
    {
     "name": "stdout",
     "output_type": "stream",
     "text": [
      "VAC-Ecoli-2019-Qadri-ETVAX.pdf\n"
     ]
    },
    {
     "name": "stderr",
     "output_type": "stream",
     "text": [
      "/home/thomas/anaconda3/lib/python3.9/site-packages/pandas/util/_decorators.py:311: SettingWithCopyWarning: \n",
      "A value is trying to be set on a copy of a slice from a DataFrame\n",
      "\n",
      "See the caveats in the documentation: https://pandas.pydata.org/pandas-docs/stable/user_guide/indexing.html#returning-a-view-versus-a-copy\n",
      "  return func(*args, **kwargs)\n"
     ]
    },
    {
     "name": "stdout",
     "output_type": "stream",
     "text": [
      "HIV-HIV-2018-Havlir-SEARCH.pdf\n"
     ]
    },
    {
     "name": "stderr",
     "output_type": "stream",
     "text": [
      "/home/thomas/anaconda3/lib/python3.9/site-packages/pandas/util/_decorators.py:311: SettingWithCopyWarning: \n",
      "A value is trying to be set on a copy of a slice from a DataFrame\n",
      "\n",
      "See the caveats in the documentation: https://pandas.pydata.org/pandas-docs/stable/user_guide/indexing.html#returning-a-view-versus-a-copy\n",
      "  return func(*args, **kwargs)\n"
     ]
    },
    {
     "name": "stdout",
     "output_type": "stream",
     "text": [
      "HIV-HIV-2016-Kurth-High-yield HIV testing, facilitated linkage to care.pdf\n"
     ]
    },
    {
     "name": "stderr",
     "output_type": "stream",
     "text": [
      "/home/thomas/anaconda3/lib/python3.9/site-packages/pandas/util/_decorators.py:311: SettingWithCopyWarning: \n",
      "A value is trying to be set on a copy of a slice from a DataFrame\n",
      "\n",
      "See the caveats in the documentation: https://pandas.pydata.org/pandas-docs/stable/user_guide/indexing.html#returning-a-view-versus-a-copy\n",
      "  return func(*args, **kwargs)\n"
     ]
    },
    {
     "name": "stdout",
     "output_type": "stream",
     "text": [
      "HIV-HIV-2017-Corey-HVTN704-HPTN085.pdf\n"
     ]
    },
    {
     "name": "stderr",
     "output_type": "stream",
     "text": [
      "/home/thomas/anaconda3/lib/python3.9/site-packages/pandas/util/_decorators.py:311: SettingWithCopyWarning: \n",
      "A value is trying to be set on a copy of a slice from a DataFrame\n",
      "\n",
      "See the caveats in the documentation: https://pandas.pydata.org/pandas-docs/stable/user_guide/indexing.html#returning-a-view-versus-a-copy\n",
      "  return func(*args, **kwargs)\n"
     ]
    },
    {
     "name": "stdout",
     "output_type": "stream",
     "text": [
      "HIV-HIV-2016_Tebas-A5354.pdf\n"
     ]
    },
    {
     "name": "stderr",
     "output_type": "stream",
     "text": [
      "/home/thomas/anaconda3/lib/python3.9/site-packages/pandas/util/_decorators.py:311: SettingWithCopyWarning: \n",
      "A value is trying to be set on a copy of a slice from a DataFrame\n",
      "\n",
      "See the caveats in the documentation: https://pandas.pydata.org/pandas-docs/stable/user_guide/indexing.html#returning-a-view-versus-a-copy\n",
      "  return func(*args, **kwargs)\n"
     ]
    },
    {
     "name": "stdout",
     "output_type": "stream",
     "text": [
      "HIV-HIV-2016-Weinberg-NICHP1091.pdf\n"
     ]
    },
    {
     "name": "stderr",
     "output_type": "stream",
     "text": [
      "/home/thomas/anaconda3/lib/python3.9/site-packages/pandas/util/_decorators.py:311: SettingWithCopyWarning: \n",
      "A value is trying to be set on a copy of a slice from a DataFrame\n",
      "\n",
      "See the caveats in the documentation: https://pandas.pydata.org/pandas-docs/stable/user_guide/indexing.html#returning-a-view-versus-a-copy\n",
      "  return func(*args, **kwargs)\n"
     ]
    },
    {
     "name": "stdout",
     "output_type": "stream",
     "text": [
      "MAL-Malaria-2016-Valencia-Phase 1 and 2a Clinical.pdf\n",
      "NTD-Filariasis-2019-Weil-DOLF IDA Indonesia.pdf\n"
     ]
    },
    {
     "name": "stderr",
     "output_type": "stream",
     "text": [
      "/home/thomas/anaconda3/lib/python3.9/site-packages/pandas/util/_decorators.py:311: SettingWithCopyWarning: \n",
      "A value is trying to be set on a copy of a slice from a DataFrame\n",
      "\n",
      "See the caveats in the documentation: https://pandas.pydata.org/pandas-docs/stable/user_guide/indexing.html#returning-a-view-versus-a-copy\n",
      "  return func(*args, **kwargs)\n"
     ]
    },
    {
     "name": "stdout",
     "output_type": "stream",
     "text": [
      "VAC-M-2015-L-W.pdf\n"
     ]
    }
   ],
   "source": [
    "with open(\"log_output.txt\", \"w\", encoding=\"utf-8\") as f:\n",
    "    def log(l):\n",
    "        f.write(l)\n",
    "    file_to_results = {}\n",
    "    for file, pages in file_to_text.items():\n",
    "        print (file)\n",
    "        results = master_processor.process_protocol(\n",
    "            pages, log, disable=[#\"phase\",\n",
    "#                 \"sap\", \"effect_estimate\", \"num_subjects\", \"country\", \"simulation\"\n",
    "            ])\n",
    "    #     print (\"RESULTS\", results)\n",
    "\n",
    "        file_to_results[file] = results[1:]"
   ]
  },
  {
   "cell_type": "markdown",
   "id": "589a0770",
   "metadata": {},
   "source": [
    "# Evaluate the condition classifier"
   ]
  },
  {
   "cell_type": "code",
   "execution_count": 8,
   "id": "59a111f9",
   "metadata": {},
   "outputs": [],
   "source": [
    "classes =[\"Other\", \"HIV\", \"TB\"]\n",
    "ground_truths = []\n",
    "ground_truths_numeric = []\n",
    "predictions = []\n",
    "probas = []\n",
    "for file_name, pages in file_to_text.items():\n",
    "    prediction = file_to_results[file_name][0]['prediction']\n",
    "    proba = file_to_results[file_name][0]['probas']\n",
    "    \n",
    "    gt = 'Other'\n",
    "    gt_numeric = 0\n",
    "    if \"HIV\" in file_name:\n",
    "        gt = 'HIV'\n",
    "        gt_numeric = 1\n",
    "    elif \"TB\" in file_name:\n",
    "        gt = 'TB'\n",
    "        gt_numeric = 2\n",
    "    ground_truths.append(gt)\n",
    "    ground_truths_numeric.append(gt_numeric)\n",
    "    predictions.append(prediction)\n",
    "    probas.append(proba)"
   ]
  },
  {
   "cell_type": "code",
   "execution_count": null,
   "id": "783bede5",
   "metadata": {},
   "outputs": [],
   "source": []
  },
  {
   "cell_type": "code",
   "execution_count": 9,
   "id": "dd7d48ec",
   "metadata": {},
   "outputs": [],
   "source": [
    "probas = np.asarray(probas)"
   ]
  },
  {
   "cell_type": "code",
   "execution_count": 10,
   "id": "ee464c39",
   "metadata": {},
   "outputs": [
    {
     "data": {
      "image/png": "[encoded data removed]",
      "text/plain": [
       "<Figure size 432x288 with 1 Axes>"
      ]
     },
     "metadata": {
      "needs_background": "light"
     },
     "output_type": "display_data"
    }
   ],
   "source": [
    "for c in 0, 1,2:\n",
    "    fpr, tpr, _ = roc_curve([y==c for y in ground_truths_numeric], probas[:,c])\n",
    "    roc_auc = auc(fpr, tpr)\n",
    "    plt.plot(\n",
    "        fpr,\n",
    "        tpr,\n",
    "        lw=2,\n",
    "        label=f\"{classes[c]} ROC curve: area = {roc_auc:0.2f}\",\n",
    "    )\n",
    "    plt.plot([0, 1], [0, 1], color=\"navy\", lw=2, linestyle=\"--\")\n",
    "    plt.xlim([0.0, 1.0])\n",
    "    plt.ylim([0.0, 1.05])\n",
    "    plt.xlabel(\"False Positive Rate\")\n",
    "    plt.ylabel(\"True Positive Rate\")\n",
    "    plt.title(\"Receiver operating characteristic example\")\n",
    "    plt.legend(loc=\"lower right\")\n",
    "#     plt.show()"
   ]
  },
  {
   "cell_type": "code",
   "execution_count": 11,
   "id": "7233fc9a",
   "metadata": {},
   "outputs": [
    {
     "name": "stdout",
     "output_type": "stream",
     "text": [
      "Condition classifier AUC 1.0 based on 77 samples\n"
     ]
    }
   ],
   "source": [
    "this_auc = roc_auc_score(ground_truths_numeric, probas, multi_class='ovr')\n",
    "print (f\"Condition classifier AUC {this_auc} based on {len(ground_truths)} samples\")\n",
    "auc_scores[\"Condition classifier\"] = this_auc"
   ]
  },
  {
   "cell_type": "code",
   "execution_count": 12,
   "id": "cc5c62b7",
   "metadata": {},
   "outputs": [
    {
     "name": "stdout",
     "output_type": "stream",
     "text": [
      "Condition classifier accuracy 0.961038961038961 based on 77 samples\n"
     ]
    }
   ],
   "source": [
    "acc = accuracy_score(ground_truths, predictions)\n",
    "print (f\"Condition classifier accuracy {acc} based on {len(ground_truths)} samples\")\n",
    "accuracy_scores[\"Condition classifier\"] = acc"
   ]
  },
  {
   "cell_type": "code",
   "execution_count": 13,
   "id": "cae2c8c2",
   "metadata": {
    "scrolled": true
   },
   "outputs": [
    {
     "data": {
      "text/plain": [
       "<sklearn.metrics._plot.confusion_matrix.ConfusionMatrixDisplay at 0x7f76f3f39370>"
      ]
     },
     "execution_count": 13,
     "metadata": {},
     "output_type": "execute_result"
    },
    {
     "data": {
      "image/png": "[encoded data removed]",
      "text/plain": [
       "<Figure size 432x288 with 2 Axes>"
      ]
     },
     "metadata": {
      "needs_background": "light"
     },
     "output_type": "display_data"
    }
   ],
   "source": [
    "ConfusionMatrixDisplay.from_predictions(ground_truths, predictions)"
   ]
  },
  {
   "cell_type": "markdown",
   "id": "ad6d9eef",
   "metadata": {},
   "source": [
    "# Evaluate the phase extractor"
   ]
  },
  {
   "cell_type": "code",
   "execution_count": 14,
   "id": "f13dda61",
   "metadata": {},
   "outputs": [
    {
     "name": "stdout",
     "output_type": "stream",
     "text": [
      "0\n",
      "1\n",
      "2\n",
      "3\n",
      "4\n",
      "5\n",
      "6\n",
      "7\n",
      "8\n",
      "9\n",
      "10\n",
      "11\n",
      "12\n",
      "13\n",
      "14\n",
      "15\n",
      "16\n",
      "17\n",
      "18\n",
      "19\n",
      "20\n"
     ]
    }
   ],
   "source": [
    "ground_truths = []\n",
    "predictions = []\n",
    "for idx in range(len(df)):\n",
    "    print (idx)\n",
    "    file_name = df[\"File Name\"].iloc[idx]\n",
    "    if file_name not in file_to_results:\n",
    "        continue\n",
    "    prediction = str(file_to_results[file_name][1]['prediction'])\n",
    "    \n",
    "    ground_truth = str(df[\"Phase\"].iloc[idx])\n",
    "    \n",
    "    ground_truth = re.sub(\"(a|b)$\", \"\", ground_truth)\n",
    "    \n",
    "    if ground_truth == \"1/ 2\" or ground_truth == \"0.5\" or ground_truth==\"1/2\":\n",
    "        ground_truth = \"1.5\"\n",
    "    elif ground_truth == \"1\":\n",
    "        ground_truth = \"1.0\"\n",
    "    elif ground_truth == \"2\":\n",
    "        ground_truth = \"2.0\"\n",
    "    elif ground_truth == \"3\":\n",
    "        ground_truth = \"3.0\"\n",
    "    elif \"2022\" in ground_truth:\n",
    "        ground_truth = \"1.5\"\n",
    "    \n",
    "    ground_truths.append(ground_truth)\n",
    "    predictions.append(prediction)\n",
    "\n",
    "df[\"phase_ground_truth\"] = ground_truths\n",
    "df[\"phase_predicted\"] = predictions"
   ]
  },
  {
   "cell_type": "code",
   "execution_count": 15,
   "id": "86eba640",
   "metadata": {},
   "outputs": [
    {
     "data": {
      "text/html": [
       "<div>\n",
       "<style scoped>\n",
       "    .dataframe tbody tr th:only-of-type {\n",
       "        vertical-align: middle;\n",
       "    }\n",
       "\n",
       "    .dataframe tbody tr th {\n",
       "        vertical-align: top;\n",
       "    }\n",
       "\n",
       "    .dataframe thead th {\n",
       "        text-align: right;\n",
       "    }\n",
       "</style>\n",
       "<table border=\"1\" class=\"dataframe\">\n",
       "  <thead>\n",
       "    <tr style=\"text-align: right;\">\n",
       "      <th></th>\n",
       "      <th>File Name</th>\n",
       "      <th>phase_ground_truth</th>\n",
       "      <th>phase_predicted</th>\n",
       "    </tr>\n",
       "  </thead>\n",
       "  <tbody>\n",
       "    <tr>\n",
       "      <th>0</th>\n",
       "      <td>HIV-HIV-2017-Bekker-HVTN100.pdf</td>\n",
       "      <td>1.5</td>\n",
       "      <td>1.0</td>\n",
       "    </tr>\n",
       "    <tr>\n",
       "      <th>1</th>\n",
       "      <td>HIV-HIV-2016-Kurth-High-yield HIV testing, fac...</td>\n",
       "      <td>Not reported</td>\n",
       "      <td>0</td>\n",
       "    </tr>\n",
       "    <tr>\n",
       "      <th>2</th>\n",
       "      <td>HIV-HIV-2018-Lockman-Dolutegravir-Containing v...</td>\n",
       "      <td>3.0</td>\n",
       "      <td>3.0</td>\n",
       "    </tr>\n",
       "    <tr>\n",
       "      <th>3</th>\n",
       "      <td>HIV-HIV-2018-Long-acting Cabotegravir Plus Lon...</td>\n",
       "      <td>3.0</td>\n",
       "      <td>3.0</td>\n",
       "    </tr>\n",
       "    <tr>\n",
       "      <th>4</th>\n",
       "      <td>HIV-HIV-2017-Abrams-IMPAACT P1101.pdf</td>\n",
       "      <td>1.5</td>\n",
       "      <td>1.0</td>\n",
       "    </tr>\n",
       "    <tr>\n",
       "      <th>5</th>\n",
       "      <td>HIV-HIV-2017-Corey-HVTN703-HPTN081.pdf</td>\n",
       "      <td>2.0</td>\n",
       "      <td>1.0</td>\n",
       "    </tr>\n",
       "    <tr>\n",
       "      <th>6</th>\n",
       "      <td>HIV-HIV-2017-Corey-HVTN704-HPTN085.pdf</td>\n",
       "      <td>2.0</td>\n",
       "      <td>1.0</td>\n",
       "    </tr>\n",
       "    <tr>\n",
       "      <th>7</th>\n",
       "      <td>HIV-HIV-2016-Garrett-HVTN108.pdf</td>\n",
       "      <td>1.5</td>\n",
       "      <td>1.0</td>\n",
       "    </tr>\n",
       "    <tr>\n",
       "      <th>8</th>\n",
       "      <td>HIV-HIV-2018-GSK1265744.pdf</td>\n",
       "      <td>1.0</td>\n",
       "      <td>1.0</td>\n",
       "    </tr>\n",
       "    <tr>\n",
       "      <th>9</th>\n",
       "      <td>HIV-HIV-2018-Labhardt-CASCADE.pdf</td>\n",
       "      <td>Not reported</td>\n",
       "      <td>0</td>\n",
       "    </tr>\n",
       "    <tr>\n",
       "      <th>10</th>\n",
       "      <td>HIV-HIV-2016-Weinberg-NICHP1091.pdf</td>\n",
       "      <td>2.0</td>\n",
       "      <td>2.0</td>\n",
       "    </tr>\n",
       "    <tr>\n",
       "      <th>11</th>\n",
       "      <td>HIV-HIV-2019-Venter-ADVANCE.pdf</td>\n",
       "      <td>3.0</td>\n",
       "      <td>3.0</td>\n",
       "    </tr>\n",
       "    <tr>\n",
       "      <th>12</th>\n",
       "      <td>HIV-HIV-2017-Evolocumab-AMG145.pdf</td>\n",
       "      <td>3.0</td>\n",
       "      <td>3.0</td>\n",
       "    </tr>\n",
       "    <tr>\n",
       "      <th>13</th>\n",
       "      <td>HIV-HIV-2018-Havlir-SEARCH.pdf</td>\n",
       "      <td>1.5</td>\n",
       "      <td>1.0</td>\n",
       "    </tr>\n",
       "    <tr>\n",
       "      <th>14</th>\n",
       "      <td>HIV-HIV-2018-IMPAACT-P1112.pdf</td>\n",
       "      <td>1.0</td>\n",
       "      <td>1.0</td>\n",
       "    </tr>\n",
       "    <tr>\n",
       "      <th>15</th>\n",
       "      <td>HIV-HIV-2016_Tebas-A5354.pdf</td>\n",
       "      <td>2.0</td>\n",
       "      <td>2.0</td>\n",
       "    </tr>\n",
       "    <tr>\n",
       "      <th>16</th>\n",
       "      <td>HIV-HIV-2016-HVTN114.pdf</td>\n",
       "      <td>1.0</td>\n",
       "      <td>1.0</td>\n",
       "    </tr>\n",
       "    <tr>\n",
       "      <th>17</th>\n",
       "      <td>HIV-HIV-2016-Laufer-Trimethoprim-Sulfamethoxaz...</td>\n",
       "      <td>3.0</td>\n",
       "      <td>3.0</td>\n",
       "    </tr>\n",
       "    <tr>\n",
       "      <th>18</th>\n",
       "      <td>TB-TB-2020-John-Stewart-iTIPS.pdf</td>\n",
       "      <td>2.0</td>\n",
       "      <td>2.0</td>\n",
       "    </tr>\n",
       "    <tr>\n",
       "      <th>19</th>\n",
       "      <td>TB-TB-2018-DAR-PIA.pdf</td>\n",
       "      <td>2.0</td>\n",
       "      <td>2.0</td>\n",
       "    </tr>\n",
       "    <tr>\n",
       "      <th>20</th>\n",
       "      <td>TB-TB-2018-Churchyard-Bedaquiline-Delamanid.pdf</td>\n",
       "      <td>2.0</td>\n",
       "      <td>2.0</td>\n",
       "    </tr>\n",
       "  </tbody>\n",
       "</table>\n",
       "</div>"
      ],
      "text/plain": [
       "                                            File Name phase_ground_truth  \\\n",
       "0                     HIV-HIV-2017-Bekker-HVTN100.pdf                1.5   \n",
       "1   HIV-HIV-2016-Kurth-High-yield HIV testing, fac...       Not reported   \n",
       "2   HIV-HIV-2018-Lockman-Dolutegravir-Containing v...                3.0   \n",
       "3   HIV-HIV-2018-Long-acting Cabotegravir Plus Lon...                3.0   \n",
       "4               HIV-HIV-2017-Abrams-IMPAACT P1101.pdf                1.5   \n",
       "5              HIV-HIV-2017-Corey-HVTN703-HPTN081.pdf                2.0   \n",
       "6              HIV-HIV-2017-Corey-HVTN704-HPTN085.pdf                2.0   \n",
       "7                    HIV-HIV-2016-Garrett-HVTN108.pdf                1.5   \n",
       "8                         HIV-HIV-2018-GSK1265744.pdf                1.0   \n",
       "9                   HIV-HIV-2018-Labhardt-CASCADE.pdf       Not reported   \n",
       "10                HIV-HIV-2016-Weinberg-NICHP1091.pdf                2.0   \n",
       "11                    HIV-HIV-2019-Venter-ADVANCE.pdf                3.0   \n",
       "12                 HIV-HIV-2017-Evolocumab-AMG145.pdf                3.0   \n",
       "13                     HIV-HIV-2018-Havlir-SEARCH.pdf                1.5   \n",
       "14                     HIV-HIV-2018-IMPAACT-P1112.pdf                1.0   \n",
       "15                       HIV-HIV-2016_Tebas-A5354.pdf                2.0   \n",
       "16                           HIV-HIV-2016-HVTN114.pdf                1.0   \n",
       "17  HIV-HIV-2016-Laufer-Trimethoprim-Sulfamethoxaz...                3.0   \n",
       "18                  TB-TB-2020-John-Stewart-iTIPS.pdf                2.0   \n",
       "19                             TB-TB-2018-DAR-PIA.pdf                2.0   \n",
       "20    TB-TB-2018-Churchyard-Bedaquiline-Delamanid.pdf                2.0   \n",
       "\n",
       "   phase_predicted  \n",
       "0              1.0  \n",
       "1                0  \n",
       "2              3.0  \n",
       "3              3.0  \n",
       "4              1.0  \n",
       "5              1.0  \n",
       "6              1.0  \n",
       "7              1.0  \n",
       "8              1.0  \n",
       "9                0  \n",
       "10             2.0  \n",
       "11             3.0  \n",
       "12             3.0  \n",
       "13             1.0  \n",
       "14             1.0  \n",
       "15             2.0  \n",
       "16             1.0  \n",
       "17             3.0  \n",
       "18             2.0  \n",
       "19             2.0  \n",
       "20             2.0  "
      ]
     },
     "execution_count": 15,
     "metadata": {},
     "output_type": "execute_result"
    }
   ],
   "source": [
    "df[[\"File Name\", \"phase_ground_truth\", \"phase_predicted\"]]"
   ]
  },
  {
   "cell_type": "code",
   "execution_count": null,
   "id": "c146d388",
   "metadata": {},
   "outputs": [],
   "source": []
  },
  {
   "cell_type": "code",
   "execution_count": 16,
   "id": "b8b3aa64",
   "metadata": {},
   "outputs": [],
   "source": [
    "df_subset_with_phase = df[df.phase_ground_truth != \"Not reported\"]"
   ]
  },
  {
   "cell_type": "code",
   "execution_count": 17,
   "id": "d6ace61d",
   "metadata": {},
   "outputs": [
    {
     "name": "stdout",
     "output_type": "stream",
     "text": [
      "Phase accuracy 0.6842105263157895\n"
     ]
    }
   ],
   "source": [
    "acc = accuracy_score(df_subset_with_phase.phase_ground_truth, df_subset_with_phase.phase_predicted)\n",
    "print (f\"Phase accuracy {acc}\")\n",
    "accuracy_scores[\"Phase\"] = acc"
   ]
  },
  {
   "cell_type": "markdown",
   "id": "ef8650eb",
   "metadata": {},
   "source": [
    "# Evaluate the country finder"
   ]
  },
  {
   "cell_type": "code",
   "execution_count": 18,
   "id": "8b5a258d",
   "metadata": {},
   "outputs": [],
   "source": [
    "from country_named_entity_recognition import find_countries"
   ]
  },
  {
   "cell_type": "code",
   "execution_count": 19,
   "id": "4e46d951",
   "metadata": {},
   "outputs": [],
   "source": [
    "ground_truths = []\n",
    "predictions = []\n",
    "for idx in range(len(df)):\n",
    "    file_name = df[\"File Name\"].iloc[idx]\n",
    "    prediction = file_to_results[file_name][5]['prediction']\n",
    "    ground_truth = [c.alpha_2 for c, m in find_countries(df[\"Country/ Countries\"].iloc[idx])]\n",
    "    ground_truths.append(\" \".join(sorted(ground_truth)))\n",
    "    predictions.append(\" \".join(sorted(prediction)))\n",
    "\n",
    "df[\"country_ground_truth\"] = ground_truths\n",
    "df[\"country_predicted\"] = predictions"
   ]
  },
  {
   "cell_type": "code",
   "execution_count": null,
   "id": "2af32fa8",
   "metadata": {},
   "outputs": [],
   "source": []
  },
  {
   "cell_type": "code",
   "execution_count": 20,
   "id": "94ce98e0",
   "metadata": {},
   "outputs": [
    {
     "data": {
      "text/plain": [
       "0.47619047619047616"
      ]
     },
     "execution_count": 20,
     "metadata": {},
     "output_type": "execute_result"
    }
   ],
   "source": [
    "accuracy_score(ground_truths, predictions)"
   ]
  },
  {
   "cell_type": "code",
   "execution_count": 21,
   "id": "087a01b2",
   "metadata": {},
   "outputs": [
    {
     "data": {
      "text/plain": [
       "['ZA',\n",
       " 'KE',\n",
       " 'BR BW HT IN MW TH TZ UG US ZA ZW',\n",
       " 'AR AU CA DE ES FR IT KR MX RU SE US ZA',\n",
       " 'ZA',\n",
       " '',\n",
       " 'CH',\n",
       " 'US',\n",
       " 'CN',\n",
       " 'LS',\n",
       " 'BR',\n",
       " 'ZA',\n",
       " '',\n",
       " 'KE UG',\n",
       " 'US',\n",
       " '',\n",
       " '',\n",
       " 'MW',\n",
       " 'KE',\n",
       " 'TZ',\n",
       " '']"
      ]
     },
     "execution_count": 21,
     "metadata": {},
     "output_type": "execute_result"
    }
   ],
   "source": [
    "ground_truths"
   ]
  },
  {
   "cell_type": "code",
   "execution_count": 22,
   "id": "eaee0c05",
   "metadata": {},
   "outputs": [
    {
     "data": {
      "text/plain": [
       "['ZA',\n",
       " 'KE',\n",
       " 'MW',\n",
       " 'AR MX RU ZA',\n",
       " 'CN',\n",
       " 'ZA',\n",
       " 'ZA',\n",
       " 'ZA',\n",
       " 'CN',\n",
       " 'LS',\n",
       " 'BR',\n",
       " 'ZA',\n",
       " '',\n",
       " 'KE UG',\n",
       " 'ZW',\n",
       " 'PE',\n",
       " 'PE',\n",
       " 'MW',\n",
       " 'KE',\n",
       " 'TZ ZM',\n",
       " 'ZA']"
      ]
     },
     "execution_count": 22,
     "metadata": {},
     "output_type": "execute_result"
    }
   ],
   "source": [
    "predictions"
   ]
  },
  {
   "cell_type": "code",
   "execution_count": 23,
   "id": "9f8d7224",
   "metadata": {},
   "outputs": [
    {
     "data": {
      "text/plain": [
       "<sklearn.metrics._plot.confusion_matrix.ConfusionMatrixDisplay at 0x7f76f054e190>"
      ]
     },
     "execution_count": 23,
     "metadata": {},
     "output_type": "execute_result"
    },
    {
     "data": {
      "image/png": "[encoded data removed]",
      "text/plain": [
       "<Figure size 432x288 with 2 Axes>"
      ]
     },
     "metadata": {
      "needs_background": "light"
     },
     "output_type": "display_data"
    }
   ],
   "source": [
    "ConfusionMatrixDisplay.from_predictions(ground_truths, predictions)"
   ]
  },
  {
   "cell_type": "code",
   "execution_count": 24,
   "id": "297da395",
   "metadata": {},
   "outputs": [],
   "source": [
    "df[\"is_international_gt\"] = df.country_ground_truth.str.contains(\" \")\n",
    "df[\"is_international_pred\"] = df.country_predicted.str.contains(\" \")"
   ]
  },
  {
   "cell_type": "code",
   "execution_count": 25,
   "id": "6d98b3f0",
   "metadata": {},
   "outputs": [
    {
     "name": "stdout",
     "output_type": "stream",
     "text": [
      "International vs not international accuracy 0.9047619047619048\n"
     ]
    }
   ],
   "source": [
    "acc = accuracy_score(df[\"is_international_gt\"], df[\"is_international_pred\"])\n",
    "print (f\"International vs not international accuracy {acc}\")\n",
    "accuracy_scores[\"International trial\"] = acc"
   ]
  },
  {
   "cell_type": "code",
   "execution_count": 26,
   "id": "08aabb05",
   "metadata": {},
   "outputs": [
    {
     "data": {
      "text/plain": [
       "<sklearn.metrics._plot.confusion_matrix.ConfusionMatrixDisplay at 0x7f76f33ff700>"
      ]
     },
     "execution_count": 26,
     "metadata": {},
     "output_type": "execute_result"
    },
    {
     "data": {
      "image/png": "[encoded data removed]",
      "text/plain": [
       "<Figure size 432x288 with 2 Axes>"
      ]
     },
     "metadata": {
      "needs_background": "light"
     },
     "output_type": "display_data"
    }
   ],
   "source": [
    "ConfusionMatrixDisplay.from_predictions(df[\"is_international_gt\"], df[\"is_international_pred\"])"
   ]
  },
  {
   "cell_type": "markdown",
   "id": "5bfedede",
   "metadata": {},
   "source": [
    "# Evaluate the effect estimate extractor"
   ]
  },
  {
   "cell_type": "code",
   "execution_count": 27,
   "id": "a3bfdb5b",
   "metadata": {},
   "outputs": [],
   "source": [
    "documents_containing_effect_estimate_hardcoded = [\n",
    "    # \"Ahmed\" not sure, think not there\n",
    "    \"Corey\",\n",
    "    \"HIV-2016-HVTN114\",\n",
    "    \"2019-Havlir\",\n",
    "    \"MAT-Anemia-2015-Etheredge\",\n",
    "    \"MAT-HIV-2016-Fowler-PROMISE\",\n",
    "    \"NTD-Filariasis-2019-Weil\",\n",
    "    \"NUT-NUT-2019-Ara-Impact of nutrition intervention\",\n",
    "    \"NUT-Stunting-2018-Ruel-Strengthening and Evaluating\",\n",
    "    \"PNE-Pneumonia-2018-Keenan-Mortality Reduction After Oral\",\n",
    "    \"POL-Polio-2016-Grassly-Treatment of enteric inf\",\n",
    "]"
   ]
  },
  {
   "cell_type": "code",
   "execution_count": 28,
   "id": "7406b5ad",
   "metadata": {},
   "outputs": [
    {
     "name": "stdout",
     "output_type": "stream",
     "text": [
      "Found effect estimate for TB-TB-2018-DAR-PIA.pdf\n",
      "Found effect estimate for TB-TB-2018-M-P-A.pdf\n",
      "Found effect estimate for HIV-HIV-2016-Ayles-A Study of the HIV prevention Trials Network.pdf\n",
      "Found effect estimate for HIV-HIV-2016-Laufer-Trimethoprim-Sulfamethoxazole-Chloroquine.pdf\n",
      "Found effect estimate for NTD-Filariasis-2019-Weil-DOLF IDA Papua New Guinea.pdf\n",
      "Found effect estimate for NUT-A-2019-M-T.pdf\n",
      "Found effect estimate for EDD-rotavirus-2017-Isanaka-ROSE.pdf\n",
      "Found effect estimate for NTD-Chagas-2015-Morillo-BENEFIT.pdf\n",
      "Found effect estimate for MAT-V-2018-R-M.pdf\n",
      "Found effect estimate for MAT-Hypothermia-2018-Hansen-Electricity-free Infant Warmer.pdf\n",
      "Found effect estimate for NTD-Hookwork-2018-Keiser-Efficacy and safety of a single.pdf\n",
      "Found effect estimate for MAL-Malaria-2019-Llanos-Cuentas-Tafenoquine vs. Primaquine to.pdf\n",
      "Found effect estimate for HIV-HIV-2017-Corey-HVTN703-HPTN081.pdf\n",
      "Found effect estimate for MAL-M-2019-A-S.pdf\n",
      "Found effect estimate for NTD-E-2017-A-A.pdf\n",
      "Found effect estimate for HIV-HIV-2017-Bekker-HVTN100.pdf\n",
      "Found effect estimate for MAL-Malaria-2019-Tinto-Extension to study MALARIA-055 PRI.pdf\n",
      "Found effect estimate for HIV-HIV-2017-L-I.pdf\n",
      "Found effect estimate for TB-TB-2019-M-A.pdf\n",
      "Found effect estimate for VAC-G-2016-VAC-G-2016-V.pdf\n",
      "Found effect estimate for HIV-HIV-2016-N-S.pdf\n",
      "Found effect estimate for POL-P-2016-G-T.pdf\n",
      "Found effect estimate for MAT-Anemia-2015-Etheredge-Prenatal Iron Supplements Safety and.pdf\n",
      "Found effect estimate for HIV-HIV-2016-R-E.pdf\n",
      "Found effect estimate for HIV-HIV-2019-H-S.pdf\n",
      "Found effect estimate for NTD-Filariasis-2019-Weil-DOLF IDA Haiti.pdf\n",
      "Found effect estimate for MAT-MAT-2018-G-F.pdf\n",
      "Found effect estimate for EDD-R-2017-G-V.pdf\n",
      "Found effect estimate for MAT-HIV-2016-Fowler-PROMISE.pdf\n",
      "Found effect estimate for TB-TB-2018-H-A.pdf\n",
      "Found effect estimate for HIV-HIV-2016-HVTN114.pdf\n",
      "Found effect estimate for HIV-HIV-2018-Long-acting Cabotegravir Plus Long-acting Rilpivirine.pdf\n",
      "Found effect estimate for NUT-S-2018-R-S.pdf\n",
      "Found effect estimate for VAC-Tdap-2019-Sancovski-A Post-marketing, Observational, Retrospective.pdf\n",
      "Found effect estimate for NTD-t-2017-M-E.pdf\n",
      "Found effect estimate for HIV-HIV-2018-Lockman-Dolutegravir-Containing versus Efavirenz-Containing Antiretroviral Therapy.pdf\n",
      "Found effect estimate for MAL-M-2018-D-C.pdf\n",
      "Found effect estimate for HIV-HIV-2016-Garrett-HVTN108.pdf\n",
      "Found effect estimate for HIV-HIV-2018-Labhardt-CASCADE.pdf\n",
      "Found effect estimate for TB-TB-2019-Dawson-A Phase 2 Open‐Label Partially .pdf\n",
      "Found effect estimate for MAL-MAL-2018-Dorsey-PROMOTE Birth Cohort 1.pdf\n",
      "Found effect estimate for PNE-P-2019-C-P.pdf\n",
      "Found effect estimate for HIV-HIV-2019-Venter-ADVANCE.pdf\n",
      "Found effect estimate for HIV-HIV-2019-K-C.pdf\n",
      "Found effect estimate for PNE-Pneumonia-2019-Alexander-LEAP2.pdf\n",
      "Found effect estimate for TB-TB-2018-Churchyard-Bedaquiline-Delamanid.pdf\n",
      "Found effect estimate for MAL-Malaria-2019-Foy-RIMDAMAL.pdf\n",
      "Found effect estimate for TB-TB-2019-N-S.pdf\n",
      "Found effect estimate for NUT-Stunting-2019-Humphrey-SHINE.pdf\n",
      "Found effect estimate for PNE-Pneumonia-2018-Keenan-Mortality Reduction After Oral Azithromycin.pdf\n",
      "Found effect estimate for EDD-Cholera-2016-Qadri-Shanchol.pdf\n",
      "Found effect estimate for TB-TB-2020-John-Stewart-iTIPS.pdf\n",
      "Found effect estimate for VAC-Ecoli-2019-Qadri-ETVAX.pdf\n",
      "Found effect estimate for HIV-HIV-2018-Havlir-SEARCH.pdf\n",
      "Found effect estimate for HIV-HIV-2016-Kurth-High-yield HIV testing, facilitated linkage to care.pdf\n",
      "Found effect estimate for HIV-HIV-2017-Corey-HVTN704-HPTN085.pdf\n",
      "Found effect estimate for HIV-HIV-2016_Tebas-A5354.pdf\n",
      "Found effect estimate for HIV-HIV-2016-Weinberg-NICHP1091.pdf\n",
      "Found effect estimate for NTD-Filariasis-2019-Weil-DOLF IDA Indonesia.pdf\n"
     ]
    }
   ],
   "source": [
    "files = []\n",
    "ground_truths = []\n",
    "predictions = []\n",
    "for file_name, pages in file_to_text.items():\n",
    "    prediction = file_to_results[file_name][3]['prediction']\n",
    "    \n",
    "    gt = 0\n",
    "    for d in documents_containing_effect_estimate_hardcoded:\n",
    "        if d in file_name:\n",
    "            gt = 1\n",
    "    \n",
    "    files.append(file_name)    \n",
    "    ground_truths.append(gt)\n",
    "    predictions.append(prediction)\n",
    "    \n",
    "    if prediction:\n",
    "        print (\"Found effect estimate for\", file_name)\n",
    "        \n",
    "df_effect_estimates = pd.DataFrame(\n",
    "    {\"file\":files,\n",
    "    \"effect_estimate_ground_truth\":ground_truths,\n",
    "    \"effect_estimate_prediction\":predictions}\n",
    ")"
   ]
  },
  {
   "cell_type": "code",
   "execution_count": 29,
   "id": "339da289",
   "metadata": {},
   "outputs": [
    {
     "data": {
      "text/html": [
       "<div>\n",
       "<style scoped>\n",
       "    .dataframe tbody tr th:only-of-type {\n",
       "        vertical-align: middle;\n",
       "    }\n",
       "\n",
       "    .dataframe tbody tr th {\n",
       "        vertical-align: top;\n",
       "    }\n",
       "\n",
       "    .dataframe thead th {\n",
       "        text-align: right;\n",
       "    }\n",
       "</style>\n",
       "<table border=\"1\" class=\"dataframe\">\n",
       "  <thead>\n",
       "    <tr style=\"text-align: right;\">\n",
       "      <th></th>\n",
       "      <th>file</th>\n",
       "      <th>effect_estimate_ground_truth</th>\n",
       "      <th>effect_estimate_prediction</th>\n",
       "    </tr>\n",
       "  </thead>\n",
       "  <tbody>\n",
       "    <tr>\n",
       "      <th>0</th>\n",
       "      <td>TB-TB-2018-DAR-PIA.pdf</td>\n",
       "      <td>0</td>\n",
       "      <td>1</td>\n",
       "    </tr>\n",
       "    <tr>\n",
       "      <th>1</th>\n",
       "      <td>TB-TB-2018-M-P-A.pdf</td>\n",
       "      <td>0</td>\n",
       "      <td>1</td>\n",
       "    </tr>\n",
       "    <tr>\n",
       "      <th>2</th>\n",
       "      <td>HIV-HIV-2016-Ayles-A Study of the HIV preventi...</td>\n",
       "      <td>0</td>\n",
       "      <td>1</td>\n",
       "    </tr>\n",
       "    <tr>\n",
       "      <th>3</th>\n",
       "      <td>TB-TB-2019-T-A-b.pdf</td>\n",
       "      <td>0</td>\n",
       "      <td>0</td>\n",
       "    </tr>\n",
       "    <tr>\n",
       "      <th>4</th>\n",
       "      <td>HIV-HIV-2016-Laufer-Trimethoprim-Sulfamethoxaz...</td>\n",
       "      <td>0</td>\n",
       "      <td>1</td>\n",
       "    </tr>\n",
       "    <tr>\n",
       "      <th>...</th>\n",
       "      <td>...</td>\n",
       "      <td>...</td>\n",
       "      <td>...</td>\n",
       "    </tr>\n",
       "    <tr>\n",
       "      <th>72</th>\n",
       "      <td>HIV-HIV-2016_Tebas-A5354.pdf</td>\n",
       "      <td>0</td>\n",
       "      <td>1</td>\n",
       "    </tr>\n",
       "    <tr>\n",
       "      <th>73</th>\n",
       "      <td>HIV-HIV-2016-Weinberg-NICHP1091.pdf</td>\n",
       "      <td>0</td>\n",
       "      <td>1</td>\n",
       "    </tr>\n",
       "    <tr>\n",
       "      <th>74</th>\n",
       "      <td>MAL-Malaria-2016-Valencia-Phase 1 and 2a Clini...</td>\n",
       "      <td>0</td>\n",
       "      <td>0</td>\n",
       "    </tr>\n",
       "    <tr>\n",
       "      <th>75</th>\n",
       "      <td>NTD-Filariasis-2019-Weil-DOLF IDA Indonesia.pdf</td>\n",
       "      <td>1</td>\n",
       "      <td>1</td>\n",
       "    </tr>\n",
       "    <tr>\n",
       "      <th>76</th>\n",
       "      <td>VAC-Measles-2015-Low-WHO MEASLES AEROSOL PROJE...</td>\n",
       "      <td>0</td>\n",
       "      <td>0</td>\n",
       "    </tr>\n",
       "  </tbody>\n",
       "</table>\n",
       "<p>77 rows × 3 columns</p>\n",
       "</div>"
      ],
      "text/plain": [
       "                                                 file  \\\n",
       "0                              TB-TB-2018-DAR-PIA.pdf   \n",
       "1              TB-TB-2018-M-P-A.pdf   \n",
       "2   HIV-HIV-2016-Ayles-A Study of the HIV preventi...   \n",
       "3       TB-TB-2019-T-A-b.pdf   \n",
       "4   HIV-HIV-2016-Laufer-Trimethoprim-Sulfamethoxaz...   \n",
       "..                                                ...   \n",
       "72                       HIV-HIV-2016_Tebas-A5354.pdf   \n",
       "73                HIV-HIV-2016-Weinberg-NICHP1091.pdf   \n",
       "74  MAL-Malaria-2016-Valencia-Phase 1 and 2a Clini...   \n",
       "75    NTD-Filariasis-2019-Weil-DOLF IDA Indonesia.pdf   \n",
       "76  VAC-Measles-2015-Low-WHO MEASLES AEROSOL PROJE...   \n",
       "\n",
       "    effect_estimate_ground_truth  effect_estimate_prediction  \n",
       "0                              0                           1  \n",
       "1                              0                           1  \n",
       "2                              0                           1  \n",
       "3                              0                           0  \n",
       "4                              0                           1  \n",
       "..                           ...                         ...  \n",
       "72                             0                           1  \n",
       "73                             0                           1  \n",
       "74                             0                           0  \n",
       "75                             1                           1  \n",
       "76                             0                           0  \n",
       "\n",
       "[77 rows x 3 columns]"
      ]
     },
     "execution_count": 29,
     "metadata": {},
     "output_type": "execute_result"
    }
   ],
   "source": [
    "df_effect_estimates"
   ]
  },
  {
   "cell_type": "code",
   "execution_count": 30,
   "id": "f3f09e9e",
   "metadata": {},
   "outputs": [
    {
     "data": {
      "text/html": [
       "<div>\n",
       "<style scoped>\n",
       "    .dataframe tbody tr th:only-of-type {\n",
       "        vertical-align: middle;\n",
       "    }\n",
       "\n",
       "    .dataframe tbody tr th {\n",
       "        vertical-align: top;\n",
       "    }\n",
       "\n",
       "    .dataframe thead th {\n",
       "        text-align: right;\n",
       "    }\n",
       "</style>\n",
       "<table border=\"1\" class=\"dataframe\">\n",
       "  <thead>\n",
       "    <tr style=\"text-align: right;\">\n",
       "      <th></th>\n",
       "      <th>file</th>\n",
       "      <th>effect_estimate_ground_truth</th>\n",
       "      <th>effect_estimate_prediction</th>\n",
       "    </tr>\n",
       "  </thead>\n",
       "  <tbody>\n",
       "    <tr>\n",
       "      <th>0</th>\n",
       "      <td>TB-TB-2018-DAR-PIA.pdf</td>\n",
       "      <td>0</td>\n",
       "      <td>1</td>\n",
       "    </tr>\n",
       "    <tr>\n",
       "      <th>1</th>\n",
       "      <td>TB-TB-2018-M-P-A.pdf</td>\n",
       "      <td>0</td>\n",
       "      <td>1</td>\n",
       "    </tr>\n",
       "    <tr>\n",
       "      <th>2</th>\n",
       "      <td>HIV-HIV-2016-Ayles-A Study of the HIV preventi...</td>\n",
       "      <td>0</td>\n",
       "      <td>1</td>\n",
       "    </tr>\n",
       "    <tr>\n",
       "      <th>4</th>\n",
       "      <td>HIV-HIV-2016-Laufer-Trimethoprim-Sulfamethoxaz...</td>\n",
       "      <td>0</td>\n",
       "      <td>1</td>\n",
       "    </tr>\n",
       "    <tr>\n",
       "      <th>7</th>\n",
       "      <td>NUT-A-2019-M-T.pdf</td>\n",
       "      <td>0</td>\n",
       "      <td>1</td>\n",
       "    </tr>\n",
       "    <tr>\n",
       "      <th>9</th>\n",
       "      <td>EDD-rotavirus-2017-Isanaka-ROSE.pdf</td>\n",
       "      <td>0</td>\n",
       "      <td>1</td>\n",
       "    </tr>\n",
       "    <tr>\n",
       "      <th>11</th>\n",
       "      <td>NTD-Chagas-2015-Morillo-BENEFIT.pdf</td>\n",
       "      <td>0</td>\n",
       "      <td>1</td>\n",
       "    </tr>\n",
       "    <tr>\n",
       "      <th>12</th>\n",
       "      <td>MAT-V-2018-R-M.pdf</td>\n",
       "      <td>0</td>\n",
       "      <td>1</td>\n",
       "    </tr>\n",
       "    <tr>\n",
       "      <th>15</th>\n",
       "      <td>MAT-Hypothermia-2018-Hansen-Electricity-free I...</td>\n",
       "      <td>0</td>\n",
       "      <td>1</td>\n",
       "    </tr>\n",
       "    <tr>\n",
       "      <th>17</th>\n",
       "      <td>NTD-Hookwork-2018-Keiser-Efficacy and safety o...</td>\n",
       "      <td>0</td>\n",
       "      <td>1</td>\n",
       "    </tr>\n",
       "    <tr>\n",
       "      <th>19</th>\n",
       "      <td>MAL-Malaria-2019-Llanos-Cuentas-Tafenoquine vs...</td>\n",
       "      <td>0</td>\n",
       "      <td>1</td>\n",
       "    </tr>\n",
       "    <tr>\n",
       "      <th>21</th>\n",
       "      <td>MAL-M-2019-A-S.pdf</td>\n",
       "      <td>0</td>\n",
       "      <td>1</td>\n",
       "    </tr>\n",
       "    <tr>\n",
       "      <th>22</th>\n",
       "      <td>NTD-Envenoming-2017-Alirol-A randomized, doubl...</td>\n",
       "      <td>0</td>\n",
       "      <td>1</td>\n",
       "    </tr>\n",
       "    <tr>\n",
       "      <th>23</th>\n",
       "      <td>HIV-HIV-2017-Bekker-HVTN100.pdf</td>\n",
       "      <td>0</td>\n",
       "      <td>1</td>\n",
       "    </tr>\n",
       "    <tr>\n",
       "      <th>24</th>\n",
       "      <td>MAL-Malaria-2019-Tinto-Extension to study MALA...</td>\n",
       "      <td>0</td>\n",
       "      <td>1</td>\n",
       "    </tr>\n",
       "    <tr>\n",
       "      <th>25</th>\n",
       "      <td>NUT-NUT-2019-Ara-Impact of nutrition intervent...</td>\n",
       "      <td>1</td>\n",
       "      <td>0</td>\n",
       "    </tr>\n",
       "    <tr>\n",
       "      <th>27</th>\n",
       "      <td>HIV-HIV-2017-Le-Itraconazole versus Amphoteric...</td>\n",
       "      <td>0</td>\n",
       "      <td>1</td>\n",
       "    </tr>\n",
       "    <tr>\n",
       "      <th>28</th>\n",
       "      <td>TB-TB-2019-M-A.pdf</td>\n",
       "      <td>0</td>\n",
       "      <td>1</td>\n",
       "    </tr>\n",
       "    <tr>\n",
       "      <th>29</th>\n",
       "      <td>VAC-G-2016-VAC-G-2016-V.pdf</td>\n",
       "      <td>0</td>\n",
       "      <td>1</td>\n",
       "    </tr>\n",
       "    <tr>\n",
       "      <th>30</th>\n",
       "      <td>HIV-HIV-2016-N-S.pdf</td>\n",
       "      <td>0</td>\n",
       "      <td>1</td>\n",
       "    </tr>\n",
       "    <tr>\n",
       "      <th>37</th>\n",
       "      <td>HIV-HIV-2016-R-E.pdf</td>\n",
       "      <td>0</td>\n",
       "      <td>1</td>\n",
       "    </tr>\n",
       "    <tr>\n",
       "      <th>40</th>\n",
       "      <td>MAT-MAT-2018-G-F.pdf</td>\n",
       "      <td>0</td>\n",
       "      <td>1</td>\n",
       "    </tr>\n",
       "    <tr>\n",
       "      <th>41</th>\n",
       "      <td>EDD-R-2017-G-V.pdf</td>\n",
       "      <td>0</td>\n",
       "      <td>1</td>\n",
       "    </tr>\n",
       "    <tr>\n",
       "      <th>43</th>\n",
       "      <td>TB-TB-2018-Hatherill-A Randomized, Placebo Con...</td>\n",
       "      <td>0</td>\n",
       "      <td>1</td>\n",
       "    </tr>\n",
       "    <tr>\n",
       "      <th>45</th>\n",
       "      <td>HIV-HIV-2018-Long-acting Cabotegravir Plus Lon...</td>\n",
       "      <td>0</td>\n",
       "      <td>1</td>\n",
       "    </tr>\n",
       "    <tr>\n",
       "      <th>47</th>\n",
       "      <td>VAC-Tdap-2019-Sancovski-A Post-marketing, Obse...</td>\n",
       "      <td>0</td>\n",
       "      <td>1</td>\n",
       "    </tr>\n",
       "    <tr>\n",
       "      <th>48</th>\n",
       "      <td>NTD-trypanosomiasis-2017-Mesu-Efficacy and Saf...</td>\n",
       "      <td>0</td>\n",
       "      <td>1</td>\n",
       "    </tr>\n",
       "    <tr>\n",
       "      <th>49</th>\n",
       "      <td>HIV-HIV-2018-Lockman-Dolutegravir-Containing v...</td>\n",
       "      <td>0</td>\n",
       "      <td>1</td>\n",
       "    </tr>\n",
       "    <tr>\n",
       "      <th>50</th>\n",
       "      <td>MAL-Malaria-2018-Divala-CQ For Malaria in Preg...</td>\n",
       "      <td>0</td>\n",
       "      <td>1</td>\n",
       "    </tr>\n",
       "    <tr>\n",
       "      <th>52</th>\n",
       "      <td>HIV-HIV-2016-Garrett-HVTN108.pdf</td>\n",
       "      <td>0</td>\n",
       "      <td>1</td>\n",
       "    </tr>\n",
       "    <tr>\n",
       "      <th>53</th>\n",
       "      <td>HIV-HIV-2018-Labhardt-CASCADE.pdf</td>\n",
       "      <td>0</td>\n",
       "      <td>1</td>\n",
       "    </tr>\n",
       "    <tr>\n",
       "      <th>54</th>\n",
       "      <td>TB-TB-2019-Dawson-A Phase 2 Open‐Label Partial...</td>\n",
       "      <td>0</td>\n",
       "      <td>1</td>\n",
       "    </tr>\n",
       "    <tr>\n",
       "      <th>55</th>\n",
       "      <td>MAL-MAL-2018-Dorsey-PROMOTE Birth Cohort 1.pdf</td>\n",
       "      <td>0</td>\n",
       "      <td>1</td>\n",
       "    </tr>\n",
       "    <tr>\n",
       "      <th>56</th>\n",
       "      <td>PNE-P-2019-C-P.pdf</td>\n",
       "      <td>0</td>\n",
       "      <td>1</td>\n",
       "    </tr>\n",
       "    <tr>\n",
       "      <th>57</th>\n",
       "      <td>HIV-HIV-2019-Venter-ADVANCE.pdf</td>\n",
       "      <td>0</td>\n",
       "      <td>1</td>\n",
       "    </tr>\n",
       "    <tr>\n",
       "      <th>58</th>\n",
       "      <td>HIV-HIV-2019-K-C.pdf</td>\n",
       "      <td>0</td>\n",
       "      <td>1</td>\n",
       "    </tr>\n",
       "    <tr>\n",
       "      <th>59</th>\n",
       "      <td>PNE-Pneumonia-2019-Alexander-LEAP2.pdf</td>\n",
       "      <td>0</td>\n",
       "      <td>1</td>\n",
       "    </tr>\n",
       "    <tr>\n",
       "      <th>61</th>\n",
       "      <td>TB-TB-2018-Churchyard-Bedaquiline-Delamanid.pdf</td>\n",
       "      <td>0</td>\n",
       "      <td>1</td>\n",
       "    </tr>\n",
       "    <tr>\n",
       "      <th>62</th>\n",
       "      <td>MAL-Malaria-2019-Foy-RIMDAMAL.pdf</td>\n",
       "      <td>0</td>\n",
       "      <td>1</td>\n",
       "    </tr>\n",
       "    <tr>\n",
       "      <th>63</th>\n",
       "      <td>TB-TB-2019-N-S.pdf</td>\n",
       "      <td>0</td>\n",
       "      <td>1</td>\n",
       "    </tr>\n",
       "    <tr>\n",
       "      <th>64</th>\n",
       "      <td>NUT-Stunting-2019-Humphrey-SHINE.pdf</td>\n",
       "      <td>0</td>\n",
       "      <td>1</td>\n",
       "    </tr>\n",
       "    <tr>\n",
       "      <th>66</th>\n",
       "      <td>EDD-Cholera-2016-Qadri-Shanchol.pdf</td>\n",
       "      <td>0</td>\n",
       "      <td>1</td>\n",
       "    </tr>\n",
       "    <tr>\n",
       "      <th>67</th>\n",
       "      <td>TB-TB-2020-John-Stewart-iTIPS.pdf</td>\n",
       "      <td>0</td>\n",
       "      <td>1</td>\n",
       "    </tr>\n",
       "    <tr>\n",
       "      <th>68</th>\n",
       "      <td>VAC-Ecoli-2019-Qadri-ETVAX.pdf</td>\n",
       "      <td>0</td>\n",
       "      <td>1</td>\n",
       "    </tr>\n",
       "    <tr>\n",
       "      <th>69</th>\n",
       "      <td>HIV-HIV-2018-Havlir-SEARCH.pdf</td>\n",
       "      <td>0</td>\n",
       "      <td>1</td>\n",
       "    </tr>\n",
       "    <tr>\n",
       "      <th>70</th>\n",
       "      <td>HIV-HIV-2016-Kurth-High-yield HIV testing, fac...</td>\n",
       "      <td>0</td>\n",
       "      <td>1</td>\n",
       "    </tr>\n",
       "    <tr>\n",
       "      <th>72</th>\n",
       "      <td>HIV-HIV-2016_Tebas-A5354.pdf</td>\n",
       "      <td>0</td>\n",
       "      <td>1</td>\n",
       "    </tr>\n",
       "    <tr>\n",
       "      <th>73</th>\n",
       "      <td>HIV-HIV-2016-Weinberg-NICHP1091.pdf</td>\n",
       "      <td>0</td>\n",
       "      <td>1</td>\n",
       "    </tr>\n",
       "  </tbody>\n",
       "</table>\n",
       "</div>"
      ],
      "text/plain": [
       "                                                 file  \\\n",
       "0                              TB-TB-2018-DAR-PIA.pdf   \n",
       "1              TB-TB-2018-M-P-A.pdf   \n",
       "2   HIV-HIV-2016-Ayles-A Study of the HIV preventi...   \n",
       "4   HIV-HIV-2016-Laufer-Trimethoprim-Sulfamethoxaz...   \n",
       "7                  NUT-A-2019-M-T.pdf   \n",
       "9                 EDD-rotavirus-2017-Isanaka-ROSE.pdf   \n",
       "11                NTD-Chagas-2015-Morillo-BENEFIT.pdf   \n",
       "12          MAT-V-2018-R-M.pdf   \n",
       "15  MAT-Hypothermia-2018-Hansen-Electricity-free I...   \n",
       "17  NTD-Hookwork-2018-Keiser-Efficacy and safety o...   \n",
       "19  MAL-Malaria-2019-Llanos-Cuentas-Tafenoquine vs...   \n",
       "21       MAL-M-2019-A-S.pdf   \n",
       "22  NTD-Envenoming-2017-Alirol-A randomized, doubl...   \n",
       "23                    HIV-HIV-2017-Bekker-HVTN100.pdf   \n",
       "24  MAL-Malaria-2019-Tinto-Extension to study MALA...   \n",
       "25  NUT-NUT-2019-Ara-Impact of nutrition intervent...   \n",
       "27  HIV-HIV-2017-Le-Itraconazole versus Amphoteric...   \n",
       "28                         TB-TB-2019-M-A.pdf   \n",
       "29       VAC-G-2016-VAC-G-2016-V.pdf   \n",
       "30      HIV-HIV-2016-N-S.pdf   \n",
       "37                         HIV-HIV-2016-R-E.pdf   \n",
       "40             MAT-MAT-2018-G-F.pdf   \n",
       "41              EDD-R-2017-G-V.pdf   \n",
       "43  TB-TB-2018-Hatherill-A Randomized, Placebo Con...   \n",
       "45  HIV-HIV-2018-Long-acting Cabotegravir Plus Lon...   \n",
       "47  VAC-Tdap-2019-Sancovski-A Post-marketing, Obse...   \n",
       "48  NTD-trypanosomiasis-2017-Mesu-Efficacy and Saf...   \n",
       "49  HIV-HIV-2018-Lockman-Dolutegravir-Containing v...   \n",
       "50  MAL-Malaria-2018-Divala-CQ For Malaria in Preg...   \n",
       "52                   HIV-HIV-2016-Garrett-HVTN108.pdf   \n",
       "53                  HIV-HIV-2018-Labhardt-CASCADE.pdf   \n",
       "54  TB-TB-2019-Dawson-A Phase 2 Open‐Label Partial...   \n",
       "55     MAL-MAL-2018-Dorsey-PROMOTE Birth Cohort 1.pdf   \n",
       "56            PNE-P-2019-C-P.pdf   \n",
       "57                    HIV-HIV-2019-Venter-ADVANCE.pdf   \n",
       "58                  HIV-HIV-2019-K-C.pdf   \n",
       "59             PNE-Pneumonia-2019-Alexander-LEAP2.pdf   \n",
       "61    TB-TB-2018-Churchyard-Bedaquiline-Delamanid.pdf   \n",
       "62                  MAL-Malaria-2019-Foy-RIMDAMAL.pdf   \n",
       "63                         TB-TB-2019-N-S.pdf   \n",
       "64               NUT-Stunting-2019-Humphrey-SHINE.pdf   \n",
       "66                EDD-Cholera-2016-Qadri-Shanchol.pdf   \n",
       "67                  TB-TB-2020-John-Stewart-iTIPS.pdf   \n",
       "68                     VAC-Ecoli-2019-Qadri-ETVAX.pdf   \n",
       "69                     HIV-HIV-2018-Havlir-SEARCH.pdf   \n",
       "70  HIV-HIV-2016-Kurth-High-yield HIV testing, fac...   \n",
       "72                       HIV-HIV-2016_Tebas-A5354.pdf   \n",
       "73                HIV-HIV-2016-Weinberg-NICHP1091.pdf   \n",
       "\n",
       "    effect_estimate_ground_truth  effect_estimate_prediction  \n",
       "0                              0                           1  \n",
       "1                              0                           1  \n",
       "2                              0                           1  \n",
       "4                              0                           1  \n",
       "7                              0                           1  \n",
       "9                              0                           1  \n",
       "11                             0                           1  \n",
       "12                             0                           1  \n",
       "15                             0                           1  \n",
       "17                             0                           1  \n",
       "19                             0                           1  \n",
       "21                             0                           1  \n",
       "22                             0                           1  \n",
       "23                             0                           1  \n",
       "24                             0                           1  \n",
       "25                             1                           0  \n",
       "27                             0                           1  \n",
       "28                             0                           1  \n",
       "29                             0                           1  \n",
       "30                             0                           1  \n",
       "37                             0                           1  \n",
       "40                             0                           1  \n",
       "41                             0                           1  \n",
       "43                             0                           1  \n",
       "45                             0                           1  \n",
       "47                             0                           1  \n",
       "48                             0                           1  \n",
       "49                             0                           1  \n",
       "50                             0                           1  \n",
       "52                             0                           1  \n",
       "53                             0                           1  \n",
       "54                             0                           1  \n",
       "55                             0                           1  \n",
       "56                             0                           1  \n",
       "57                             0                           1  \n",
       "58                             0                           1  \n",
       "59                             0                           1  \n",
       "61                             0                           1  \n",
       "62                             0                           1  \n",
       "63                             0                           1  \n",
       "64                             0                           1  \n",
       "66                             0                           1  \n",
       "67                             0                           1  \n",
       "68                             0                           1  \n",
       "69                             0                           1  \n",
       "70                             0                           1  \n",
       "72                             0                           1  \n",
       "73                             0                           1  "
      ]
     },
     "execution_count": 30,
     "metadata": {},
     "output_type": "execute_result"
    }
   ],
   "source": [
    "df_effect_estimates[df_effect_estimates.effect_estimate_ground_truth != df_effect_estimates.effect_estimate_prediction]"
   ]
  },
  {
   "cell_type": "code",
   "execution_count": 31,
   "id": "09ff62d4",
   "metadata": {},
   "outputs": [
    {
     "name": "stdout",
     "output_type": "stream",
     "text": [
      "Effect estimate 0.37662337662337664\n"
     ]
    }
   ],
   "source": [
    "acc = accuracy_score(df_effect_estimates[\"effect_estimate_ground_truth\"], df_effect_estimates[\"effect_estimate_prediction\"])\n",
    "print (f\"Effect estimate {acc}\")\n",
    "accuracy_scores[\"Effect estimate\"] = acc"
   ]
  },
  {
   "cell_type": "code",
   "execution_count": 32,
   "id": "a8162bb2",
   "metadata": {},
   "outputs": [
    {
     "data": {
      "text/plain": [
       "<sklearn.metrics._plot.confusion_matrix.ConfusionMatrixDisplay at 0x7f76f6136100>"
      ]
     },
     "execution_count": 32,
     "metadata": {},
     "output_type": "execute_result"
    },
    {
     "data": {
      "image/png": "[encoded data removed]",
      "text/plain": [
       "<Figure size 432x288 with 2 Axes>"
      ]
     },
     "metadata": {
      "needs_background": "light"
     },
     "output_type": "display_data"
    }
   ],
   "source": [
    "ConfusionMatrixDisplay.from_predictions(df_effect_estimates[\"effect_estimate_ground_truth\"], df_effect_estimates[\"effect_estimate_prediction\"])"
   ]
  },
  {
   "cell_type": "markdown",
   "id": "6f37c971",
   "metadata": {},
   "source": [
    "# Evaluate the number of subjects extractor"
   ]
  },
  {
   "cell_type": "code",
   "execution_count": 33,
   "id": "08d17f85",
   "metadata": {},
   "outputs": [],
   "source": [
    "ground_truths = []\n",
    "predictions = []\n",
    "for idx in range(len(df)):\n",
    "    file_name = df[\"File Name\"].iloc[idx]\n",
    "    prediction = file_to_results[file_name][4]['prediction']\n",
    "    ground_truth = re.sub(r'\\s+.*', '', str(df[\"Sample size\"].iloc[idx]))\n",
    "    ground_truths.append(ground_truth)\n",
    "    predictions.append(str(prediction))\n",
    "\n",
    "df[\"num_subjects_ground_truths\"] = ground_truths\n",
    "df[\"num_subjects_predicted\"] = predictions"
   ]
  },
  {
   "cell_type": "code",
   "execution_count": 34,
   "id": "1c56e103",
   "metadata": {},
   "outputs": [
    {
     "name": "stdout",
     "output_type": "stream",
     "text": [
      "Number of subjects accuracy 0.9523809523809523\n"
     ]
    }
   ],
   "source": [
    "acc = accuracy_score(df[\"num_subjects_ground_truths\"], df[\"num_subjects_predicted\"])\n",
    "print (f\"Number of subjects accuracy {acc}\")\n",
    "accuracy_scores[\"Number of subjects\"] = acc"
   ]
  },
  {
   "cell_type": "code",
   "execution_count": 35,
   "id": "97474a98",
   "metadata": {},
   "outputs": [
    {
     "data": {
      "text/plain": [
       "<sklearn.metrics._plot.confusion_matrix.ConfusionMatrixDisplay at 0x7f76f36ed1c0>"
      ]
     },
     "execution_count": 35,
     "metadata": {},
     "output_type": "execute_result"
    },
    {
     "data": {
      "image/png": "[encoded data removed]",
      "text/plain": [
       "<Figure size 432x288 with 2 Axes>"
      ]
     },
     "metadata": {
      "needs_background": "light"
     },
     "output_type": "display_data"
    }
   ],
   "source": [
    "ConfusionMatrixDisplay.from_predictions(df[\"num_subjects_ground_truths\"], df[\"num_subjects_predicted\"])"
   ]
  },
  {
   "cell_type": "code",
   "execution_count": 36,
   "id": "82e6eaf4",
   "metadata": {},
   "outputs": [
    {
     "data": {
      "text/plain": [
       "2.380952380952381"
      ]
     },
     "execution_count": 36,
     "metadata": {},
     "output_type": "execute_result"
    }
   ],
   "source": [
    "mean_absolute_error(df[\"num_subjects_ground_truths\"].apply(int), df[\"num_subjects_predicted\"].apply(int))"
   ]
  },
  {
   "cell_type": "code",
   "execution_count": 37,
   "id": "72742941",
   "metadata": {},
   "outputs": [],
   "source": [
    "import numpy as np"
   ]
  },
  {
   "cell_type": "code",
   "execution_count": 38,
   "id": "62efe3ac",
   "metadata": {},
   "outputs": [
    {
     "data": {
      "text/plain": [
       "10.910894511799619"
      ]
     },
     "execution_count": 38,
     "metadata": {},
     "output_type": "execute_result"
    }
   ],
   "source": [
    "np.sqrt(mean_squared_error(df[\"num_subjects_ground_truths\"].apply(int), df[\"num_subjects_predicted\"].apply(int)))"
   ]
  },
  {
   "cell_type": "markdown",
   "id": "e8173584",
   "metadata": {},
   "source": [
    "# Evaluate the SAP extractor"
   ]
  },
  {
   "cell_type": "code",
   "execution_count": 39,
   "id": "4f783cfa",
   "metadata": {},
   "outputs": [],
   "source": [
    "documents_containing_sap_hardcoded = [\n",
    "    \"2019-Tait\",\n",
    "    \"Anemia-2019-Maitland\",\n",
    "    \"NTD-Yaws-2019-Mitja-Yaws\",\n",
    "    \"MAT-Vitamin deficiency-2018\",\n",
    "    \"EDD-Typhoid-2019-Shakya\",\n",
    "    \"Ahmed\",\n",
    "    \"HIV-2016-Nel\",\n",
    "    \"Fowler\",\n",
    "    \"Hatherill\",\n",
    " \"Venter\",\n",
    "    \"Pneumonia-2019-Alexander\",\n",
    "    \"Nunn-STREAM\",\n",
    "    \"Pneumonia-2018-Keenan\",\n",
    "    \"Measles-2015-Low\"\n",
    "]"
   ]
  },
  {
   "cell_type": "code",
   "execution_count": 40,
   "id": "d1c6526b",
   "metadata": {},
   "outputs": [
    {
     "name": "stdout",
     "output_type": "stream",
     "text": [
      "Found SAP for TB-TB-2018-M-P-A.pdf\n",
      "Found SAP for TB-TB-2019-T-A-b.pdf\n",
      "Found SAP for NUT-A-2019-M-T.pdf\n",
      "Found SAP for EDD-rotavirus-2017-Isanaka-ROSE.pdf\n",
      "Found SAP for NTD-Chagas-2015-Morillo-BENEFIT.pdf\n",
      "Found SAP for MAT-V-2018-R-M.pdf\n",
      "Found SAP for POL-P-2018-O-A-L.pdf\n",
      "Found SAP for EDD-T-2019-S-T.pdf\n",
      "Found SAP for MAL-Malaria-2019-Llanos-Cuentas-Tafenoquine vs. Primaquine to.pdf\n",
      "Found SAP for HIV-HIV-2017-Corey-HVTN703-HPTN081.pdf\n",
      "Found SAP for MAL-M-2019-A-S.pdf\n",
      "Found SAP for NUT-NUT-2019-A-I.pdf\n",
      "Found SAP for HIV-HIV-2018-M-A.pdf\n",
      "Found SAP for HIV-HIV-2017-L-I.pdf\n",
      "Found SAP for VAC-G-2016-VAC-G-2016-V.pdf\n",
      "Found SAP for HIV-HIV-2016-N-S.pdf\n",
      "Found SAP for TB-TB-2015-D-A.pdf\n",
      "Found SAP for HIV-HIV-2016-R-E.pdf\n",
      "Found SAP for HIV-HIV-2019-H-S.pdf\n",
      "Found SAP for EDD-R-2017-G-V.pdf\n",
      "Found SAP for MAT-HIV-2016-Fowler-PROMISE.pdf\n",
      "Found SAP for TB-TB-2018-H-A.pdf\n",
      "Found SAP for HIV-HIV-2018-Long-acting Cabotegravir Plus Long-acting Rilpivirine.pdf\n",
      "Found SAP for VAC-Tdap-2019-Sancovski-A Post-marketing, Observational, Retrospective.pdf\n",
      "Found SAP for NTD-t-2017-M-E.pdf\n",
      "Found SAP for HIV-HIV-2019-Venter-ADVANCE.pdf\n",
      "Found SAP for HIV-HIV-2019-K-C.pdf\n",
      "Found SAP for PNE-Pneumonia-2019-Alexander-LEAP2.pdf\n",
      "Found SAP for TB-TB-2019-N-S.pdf\n",
      "Found SAP for PNE-Pneumonia-2018-Keenan-Mortality Reduction After Oral Azithromycin.pdf\n",
      "Found SAP for EDD-Cholera-2016-Qadri-Shanchol.pdf\n",
      "Found SAP for HIV-HIV-2017-Corey-HVTN704-HPTN085.pdf\n",
      "Found SAP for VAC-M-2015-L-W.pdf\n"
     ]
    }
   ],
   "source": [
    "files = []\n",
    "ground_truths = []\n",
    "predictions = []\n",
    "for file_name, pages in file_to_text.items():\n",
    "    prediction = file_to_results[file_name][2]['prediction']\n",
    "    \n",
    "    gt = 0\n",
    "    for d in documents_containing_sap_hardcoded:\n",
    "        if d in file_name:\n",
    "            gt = 1\n",
    "    \n",
    "    files.append(file_name)    \n",
    "    ground_truths.append(gt)\n",
    "    predictions.append(prediction)\n",
    "    \n",
    "    if prediction:\n",
    "        print (\"Found SAP for\", file_name)\n",
    "        \n",
    "df_sap = pd.DataFrame(\n",
    "    {\"file\":files,\n",
    "    \"sap_ground_truth\":ground_truths,\n",
    "    \"sap_prediction\":predictions}\n",
    ")"
   ]
  },
  {
   "cell_type": "code",
   "execution_count": 41,
   "id": "05947d7d",
   "metadata": {},
   "outputs": [
    {
     "data": {
      "text/html": [
       "<div>\n",
       "<style scoped>\n",
       "    .dataframe tbody tr th:only-of-type {\n",
       "        vertical-align: middle;\n",
       "    }\n",
       "\n",
       "    .dataframe tbody tr th {\n",
       "        vertical-align: top;\n",
       "    }\n",
       "\n",
       "    .dataframe thead th {\n",
       "        text-align: right;\n",
       "    }\n",
       "</style>\n",
       "<table border=\"1\" class=\"dataframe\">\n",
       "  <thead>\n",
       "    <tr style=\"text-align: right;\">\n",
       "      <th></th>\n",
       "      <th>file</th>\n",
       "      <th>sap_ground_truth</th>\n",
       "      <th>sap_prediction</th>\n",
       "    </tr>\n",
       "  </thead>\n",
       "  <tbody>\n",
       "    <tr>\n",
       "      <th>0</th>\n",
       "      <td>TB-TB-2018-DAR-PIA.pdf</td>\n",
       "      <td>0</td>\n",
       "      <td>0</td>\n",
       "    </tr>\n",
       "    <tr>\n",
       "      <th>1</th>\n",
       "      <td>TB-TB-2018-M-P-A.pdf</td>\n",
       "      <td>0</td>\n",
       "      <td>1</td>\n",
       "    </tr>\n",
       "    <tr>\n",
       "      <th>2</th>\n",
       "      <td>HIV-HIV-2016-Ayles-A Study of the HIV preventi...</td>\n",
       "      <td>0</td>\n",
       "      <td>0</td>\n",
       "    </tr>\n",
       "    <tr>\n",
       "      <th>3</th>\n",
       "      <td>TB-TB-2019-T-A-b.pdf</td>\n",
       "      <td>1</td>\n",
       "      <td>1</td>\n",
       "    </tr>\n",
       "    <tr>\n",
       "      <th>4</th>\n",
       "      <td>HIV-HIV-2016-Laufer-Trimethoprim-Sulfamethoxaz...</td>\n",
       "      <td>0</td>\n",
       "      <td>0</td>\n",
       "    </tr>\n",
       "    <tr>\n",
       "      <th>...</th>\n",
       "      <td>...</td>\n",
       "      <td>...</td>\n",
       "      <td>...</td>\n",
       "    </tr>\n",
       "    <tr>\n",
       "      <th>72</th>\n",
       "      <td>HIV-HIV-2016_Tebas-A5354.pdf</td>\n",
       "      <td>0</td>\n",
       "      <td>0</td>\n",
       "    </tr>\n",
       "    <tr>\n",
       "      <th>73</th>\n",
       "      <td>HIV-HIV-2016-Weinberg-NICHP1091.pdf</td>\n",
       "      <td>0</td>\n",
       "      <td>0</td>\n",
       "    </tr>\n",
       "    <tr>\n",
       "      <th>74</th>\n",
       "      <td>MAL-Malaria-2016-Valencia-Phase 1 and 2a Clini...</td>\n",
       "      <td>0</td>\n",
       "      <td>0</td>\n",
       "    </tr>\n",
       "    <tr>\n",
       "      <th>75</th>\n",
       "      <td>NTD-Filariasis-2019-Weil-DOLF IDA Indonesia.pdf</td>\n",
       "      <td>0</td>\n",
       "      <td>0</td>\n",
       "    </tr>\n",
       "    <tr>\n",
       "      <th>76</th>\n",
       "      <td>VAC-Measles-2015-Low-WHO MEASLES AEROSOL PROJE...</td>\n",
       "      <td>1</td>\n",
       "      <td>1</td>\n",
       "    </tr>\n",
       "  </tbody>\n",
       "</table>\n",
       "<p>77 rows × 3 columns</p>\n",
       "</div>"
      ],
      "text/plain": [
       "                                                 file  sap_ground_truth  \\\n",
       "0                              TB-TB-2018-DAR-PIA.pdf                 0   \n",
       "1              TB-TB-2018-M-P-A.pdf                 0   \n",
       "2   HIV-HIV-2016-Ayles-A Study of the HIV preventi...                 0   \n",
       "3       TB-TB-2019-T-A-b.pdf                 1   \n",
       "4   HIV-HIV-2016-Laufer-Trimethoprim-Sulfamethoxaz...                 0   \n",
       "..                                                ...               ...   \n",
       "72                       HIV-HIV-2016_Tebas-A5354.pdf                 0   \n",
       "73                HIV-HIV-2016-Weinberg-NICHP1091.pdf                 0   \n",
       "74  MAL-Malaria-2016-Valencia-Phase 1 and 2a Clini...                 0   \n",
       "75    NTD-Filariasis-2019-Weil-DOLF IDA Indonesia.pdf                 0   \n",
       "76  VAC-Measles-2015-Low-WHO MEASLES AEROSOL PROJE...                 1   \n",
       "\n",
       "    sap_prediction  \n",
       "0                0  \n",
       "1                1  \n",
       "2                0  \n",
       "3                1  \n",
       "4                0  \n",
       "..             ...  \n",
       "72               0  \n",
       "73               0  \n",
       "74               0  \n",
       "75               0  \n",
       "76               1  \n",
       "\n",
       "[77 rows x 3 columns]"
      ]
     },
     "execution_count": 41,
     "metadata": {},
     "output_type": "execute_result"
    }
   ],
   "source": [
    "df_sap"
   ]
  },
  {
   "cell_type": "code",
   "execution_count": 42,
   "id": "50e77070",
   "metadata": {},
   "outputs": [
    {
     "name": "stdout",
     "output_type": "stream",
     "text": [
      "SAP accuracy 0.7272727272727273\n"
     ]
    }
   ],
   "source": [
    "acc = accuracy_score(df_sap[\"sap_ground_truth\"], df_sap[\"sap_prediction\"])\n",
    "print (f\"SAP accuracy {acc}\")\n",
    "accuracy_scores[\"SAP\"] = acc"
   ]
  },
  {
   "cell_type": "markdown",
   "id": "1bc1bc0a",
   "metadata": {},
   "source": [
    "# Evaluate the simulation extractor"
   ]
  },
  {
   "cell_type": "code",
   "execution_count": 43,
   "id": "52817be3",
   "metadata": {},
   "outputs": [],
   "source": [
    "documents_containing_simulation_hardcoded = [\n",
    "\"EDD-Cholera-2016-Qadri-Shanchol\",\n",
    "\"HIV-HIV-2016-Garrett-HVTN108\",\n",
    "\"HIV-HIV-2016-HVTN114\",\n",
    "\"HIV-HIV-2017-Bekker-HVTN100\",\n",
    "\"HIV-HIV-2017-Corey-HVTN703-HPTN081\",\n",
    "\"HIV-HIV-2017-Corey-HVTN704-HPTN085\",\n",
    "\"HIV-HIV-2018-GSK1265744\",\n",
    "\"HIV-HIV-2018-Havlir-SEARCH\",\n",
    "\"HIV-HIV-2018-IMPAACT-P1112\",\n",
    "\"HIV-HIV-2018-Long-acting Cabotegravir Plus Long-acting Rilpivirine\",\n",
    "\"HIV-HIV-2019-Havlir-SEARCH\",\n",
    "\"MAL-Malaria-2019-Ahmed-STOPMIP Indonesia\",\n",
    "\"MAT-HIV-2016-Fowler-PROMISE\",\n",
    "\"NTD-trypanosomiasis-2017-Mesu-Efficacy and Safety of Fexinidazole\",\n",
    "\"PNE-Pneumonia-2018-Keenan-Mortality Reduction After Oral Azithromycin\",\n",
    "\"PNE-Pneumonia-2019-Alexander-LEAP2\",\n",
    "\"TB-TB-2018-Hatherill-A Randomized, Placebo Controlled, Partially\",\n",
    "\"TB-TB-2019-Tait-A phase IIb, double-blind\",\n",
    "\"HIV-HIV-2017-Corey-HVTN703-HPTN081\",\n",
    "\"HIV-HIV-2017-Corey-HVTN704-HPTN085\",\n",
    "\"HIV-HIV-2018-GSK1265744\",\n",
    "\"HIV-HIV-2018-Long-acting Cabotegravir Plus Long-acting Rilpivirine\",\n",
    "\"HIV-HIV-2019-Havlir-SEARCH\",\n",
    "\"MAT-HIV-2016-Fowler-PROMISE\",\n",
    "\"PNE-Pneumonia-2019-Alexander-LEAP2\",\n",
    "\n",
    "]"
   ]
  },
  {
   "cell_type": "code",
   "execution_count": 44,
   "id": "d4e29b20",
   "metadata": {},
   "outputs": [
    {
     "name": "stdout",
     "output_type": "stream",
     "text": [
      "Found simulation for HIV-HIV-2016-Ayles-A Study of the HIV prevention Trials Network.pdf\n",
      "Found simulation for HIV-HIV-2017-Corey-HVTN703-HPTN081.pdf\n",
      "Found simulation for MAL-M-2019-A-S.pdf\n",
      "Found simulation for HIV-HIV-2017-Bekker-HVTN100.pdf\n",
      "Found simulation for HIV-HIV-2019-H-S.pdf\n",
      "Found simulation for MAT-HIV-2016-Fowler-PROMISE.pdf\n",
      "Found simulation for TB-TB-2018-H-A.pdf\n",
      "Found simulation for HIV-HIV-2016-HVTN114.pdf\n",
      "Found simulation for NUT-S-2018-R-S.pdf\n",
      "Found simulation for HIV-HIV-2018-Lockman-Dolutegravir-Containing versus Efavirenz-Containing Antiretroviral Therapy.pdf\n",
      "Found simulation for HIV-HIV-2016-Garrett-HVTN108.pdf\n",
      "Found simulation for TB-TB-2018-Churchyard-Bedaquiline-Delamanid.pdf\n",
      "Found simulation for TB-TB-2019-N-S.pdf\n",
      "Found simulation for HIV-HIV-2018-Havlir-SEARCH.pdf\n",
      "Found simulation for HIV-HIV-2017-Corey-HVTN704-HPTN085.pdf\n",
      "Found simulation for VAC-M-2015-L-W.pdf\n"
     ]
    }
   ],
   "source": [
    "files = []\n",
    "ground_truths = []\n",
    "predictions = []\n",
    "for file_name, pages in file_to_text.items():\n",
    "    prediction = file_to_results[file_name][6]['prediction']\n",
    "    \n",
    "    gt = 0\n",
    "    for d in documents_containing_simulation_hardcoded:\n",
    "        if d in file_name:\n",
    "            gt = 1\n",
    "    \n",
    "    files.append(file_name)    \n",
    "    ground_truths.append(gt)\n",
    "    predictions.append(prediction)\n",
    "    \n",
    "    if prediction:\n",
    "        print (\"Found simulation for\", file_name)\n",
    "        \n",
    "df_simulation = pd.DataFrame(\n",
    "    {\"file\":files,\n",
    "    \"simulation_ground_truth\":ground_truths,\n",
    "    \"simulation_prediction\":predictions}\n",
    ")"
   ]
  },
  {
   "cell_type": "code",
   "execution_count": 45,
   "id": "8859499a",
   "metadata": {},
   "outputs": [
    {
     "name": "stdout",
     "output_type": "stream",
     "text": [
      "Simulation accuracy 0.8181818181818182\n"
     ]
    }
   ],
   "source": [
    "acc = accuracy_score(df_simulation[\"simulation_ground_truth\"], df_simulation[\"simulation_prediction\"])\n",
    "print (f\"Simulation accuracy {acc}\")\n",
    "accuracy_scores[\"Simulation\"] = acc"
   ]
  },
  {
   "cell_type": "code",
   "execution_count": 46,
   "id": "64eb819b",
   "metadata": {},
   "outputs": [
    {
     "data": {
      "text/html": [
       "<div>\n",
       "<style scoped>\n",
       "    .dataframe tbody tr th:only-of-type {\n",
       "        vertical-align: middle;\n",
       "    }\n",
       "\n",
       "    .dataframe tbody tr th {\n",
       "        vertical-align: top;\n",
       "    }\n",
       "\n",
       "    .dataframe thead th {\n",
       "        text-align: right;\n",
       "    }\n",
       "</style>\n",
       "<table border=\"1\" class=\"dataframe\">\n",
       "  <thead>\n",
       "    <tr style=\"text-align: right;\">\n",
       "      <th></th>\n",
       "      <th>file</th>\n",
       "      <th>simulation_ground_truth</th>\n",
       "      <th>simulation_prediction</th>\n",
       "    </tr>\n",
       "  </thead>\n",
       "  <tbody>\n",
       "    <tr>\n",
       "      <th>2</th>\n",
       "      <td>HIV-HIV-2016-Ayles-A Study of the HIV preventi...</td>\n",
       "      <td>0</td>\n",
       "      <td>1</td>\n",
       "    </tr>\n",
       "    <tr>\n",
       "      <th>3</th>\n",
       "      <td>TB-TB-2019-T-A-b.pdf</td>\n",
       "      <td>1</td>\n",
       "      <td>0</td>\n",
       "    </tr>\n",
       "    <tr>\n",
       "      <th>8</th>\n",
       "      <td>HIV-HIV-2018-IMPAACT-P1112.pdf</td>\n",
       "      <td>1</td>\n",
       "      <td>0</td>\n",
       "    </tr>\n",
       "    <tr>\n",
       "      <th>13</th>\n",
       "      <td>HIV-HIV-2018-GSK1265744.pdf</td>\n",
       "      <td>1</td>\n",
       "      <td>0</td>\n",
       "    </tr>\n",
       "    <tr>\n",
       "      <th>45</th>\n",
       "      <td>HIV-HIV-2018-Long-acting Cabotegravir Plus Lon...</td>\n",
       "      <td>1</td>\n",
       "      <td>0</td>\n",
       "    </tr>\n",
       "    <tr>\n",
       "      <th>46</th>\n",
       "      <td>NUT-Stunting-2018-Ruel-Strengthening and Evalu...</td>\n",
       "      <td>0</td>\n",
       "      <td>1</td>\n",
       "    </tr>\n",
       "    <tr>\n",
       "      <th>48</th>\n",
       "      <td>NTD-trypanosomiasis-2017-Mesu-Efficacy and Saf...</td>\n",
       "      <td>1</td>\n",
       "      <td>0</td>\n",
       "    </tr>\n",
       "    <tr>\n",
       "      <th>49</th>\n",
       "      <td>HIV-HIV-2018-Lockman-Dolutegravir-Containing v...</td>\n",
       "      <td>0</td>\n",
       "      <td>1</td>\n",
       "    </tr>\n",
       "    <tr>\n",
       "      <th>59</th>\n",
       "      <td>PNE-Pneumonia-2019-Alexander-LEAP2.pdf</td>\n",
       "      <td>1</td>\n",
       "      <td>0</td>\n",
       "    </tr>\n",
       "    <tr>\n",
       "      <th>61</th>\n",
       "      <td>TB-TB-2018-Churchyard-Bedaquiline-Delamanid.pdf</td>\n",
       "      <td>0</td>\n",
       "      <td>1</td>\n",
       "    </tr>\n",
       "    <tr>\n",
       "      <th>63</th>\n",
       "      <td>TB-TB-2019-N-S.pdf</td>\n",
       "      <td>0</td>\n",
       "      <td>1</td>\n",
       "    </tr>\n",
       "    <tr>\n",
       "      <th>65</th>\n",
       "      <td>PNE-Pneumonia-2018-Keenan-Mortality Reduction ...</td>\n",
       "      <td>1</td>\n",
       "      <td>0</td>\n",
       "    </tr>\n",
       "    <tr>\n",
       "      <th>66</th>\n",
       "      <td>EDD-Cholera-2016-Qadri-Shanchol.pdf</td>\n",
       "      <td>1</td>\n",
       "      <td>0</td>\n",
       "    </tr>\n",
       "    <tr>\n",
       "      <th>76</th>\n",
       "      <td>VAC-Measles-2015-Low-WHO MEASLES AEROSOL PROJE...</td>\n",
       "      <td>0</td>\n",
       "      <td>1</td>\n",
       "    </tr>\n",
       "  </tbody>\n",
       "</table>\n",
       "</div>"
      ],
      "text/plain": [
       "                                                 file  \\\n",
       "2   HIV-HIV-2016-Ayles-A Study of the HIV preventi...   \n",
       "3       TB-TB-2019-T-A-b.pdf   \n",
       "8                      HIV-HIV-2018-IMPAACT-P1112.pdf   \n",
       "13                        HIV-HIV-2018-GSK1265744.pdf   \n",
       "45  HIV-HIV-2018-Long-acting Cabotegravir Plus Lon...   \n",
       "46  NUT-Stunting-2018-Ruel-Strengthening and Evalu...   \n",
       "48  NTD-trypanosomiasis-2017-Mesu-Efficacy and Saf...   \n",
       "49  HIV-HIV-2018-Lockman-Dolutegravir-Containing v...   \n",
       "59             PNE-Pneumonia-2019-Alexander-LEAP2.pdf   \n",
       "61    TB-TB-2018-Churchyard-Bedaquiline-Delamanid.pdf   \n",
       "63                         TB-TB-2019-N-S.pdf   \n",
       "65  PNE-Pneumonia-2018-Keenan-Mortality Reduction ...   \n",
       "66                EDD-Cholera-2016-Qadri-Shanchol.pdf   \n",
       "76  VAC-Measles-2015-Low-WHO MEASLES AEROSOL PROJE...   \n",
       "\n",
       "    simulation_ground_truth  simulation_prediction  \n",
       "2                         0                      1  \n",
       "3                         1                      0  \n",
       "8                         1                      0  \n",
       "13                        1                      0  \n",
       "45                        1                      0  \n",
       "46                        0                      1  \n",
       "48                        1                      0  \n",
       "49                        0                      1  \n",
       "59                        1                      0  \n",
       "61                        0                      1  \n",
       "63                        0                      1  \n",
       "65                        1                      0  \n",
       "66                        1                      0  \n",
       "76                        0                      1  "
      ]
     },
     "execution_count": 46,
     "metadata": {},
     "output_type": "execute_result"
    }
   ],
   "source": [
    "df_simulation[df_simulation.simulation_ground_truth != df_simulation.simulation_prediction]"
   ]
  },
  {
   "cell_type": "code",
   "execution_count": 47,
   "id": "f7a097c8",
   "metadata": {},
   "outputs": [
    {
     "data": {
      "text/plain": [
       "<sklearn.metrics._plot.confusion_matrix.ConfusionMatrixDisplay at 0x7f76f02120d0>"
      ]
     },
     "execution_count": 47,
     "metadata": {},
     "output_type": "execute_result"
    },
    {
     "data": {
      "image/png": "[encoded data removed]",
      "text/plain": [
       "<Figure size 432x288 with 2 Axes>"
      ]
     },
     "metadata": {
      "needs_background": "light"
     },
     "output_type": "display_data"
    }
   ],
   "source": [
    "ConfusionMatrixDisplay.from_predictions(df_simulation[\"simulation_ground_truth\"], df_simulation[\"simulation_prediction\"])"
   ]
  },
  {
   "cell_type": "markdown",
   "id": "e5a262be",
   "metadata": {},
   "source": [
    "# Summarise the accuracy scores"
   ]
  },
  {
   "cell_type": "code",
   "execution_count": 48,
   "id": "fa675172",
   "metadata": {},
   "outputs": [
    {
     "name": "stdout",
     "output_type": "stream",
     "text": [
      "Condition classifier\t0.961038961038961\n",
      "Phase\t0.6842105263157895\n",
      "International trial\t0.9047619047619048\n",
      "Effect estimate\t0.37662337662337664\n",
      "Number of subjects\t0.9523809523809523\n",
      "SAP\t0.7272727272727273\n",
      "Simulation\t0.8181818181818182\n"
     ]
    }
   ],
   "source": [
    "for desc, val in accuracy_scores.items():\n",
    "    print (f\"{desc}\\t{val}\")"
   ]
  },
  {
   "cell_type": "markdown",
   "id": "898b0250",
   "metadata": {},
   "source": [
    "# Get the complexity of all trials"
   ]
  },
  {
   "cell_type": "code",
   "execution_count": 49,
   "id": "db5f9d32",
   "metadata": {},
   "outputs": [],
   "source": [
    "from util.risk_assessor import calculate_risk_level\n",
    "from util.constants import SCORE_LOWER_TERTILE, SCORE_UPPER_TERTILE"
   ]
  },
  {
   "cell_type": "code",
   "execution_count": 50,
   "id": "8c500f2a",
   "metadata": {},
   "outputs": [],
   "source": [
    "from util.get_phase_tertiles import get_tertile\n",
    "from util.tertile_provider import DefaultSampleSizeTertileProvider\n",
    "tertile_provider = DefaultSampleSizeTertileProvider(\"sample_size_tertiles.csv\")\n"
   ]
  },
  {
   "cell_type": "code",
   "execution_count": 51,
   "id": "c73a410f",
   "metadata": {
    "scrolled": true
   },
   "outputs": [
    {
     "data": {
      "text/html": [
       "<div>\n",
       "<style scoped>\n",
       "    .dataframe tbody tr th:only-of-type {\n",
       "        vertical-align: middle;\n",
       "    }\n",
       "\n",
       "    .dataframe tbody tr th {\n",
       "        vertical-align: top;\n",
       "    }\n",
       "\n",
       "    .dataframe thead th {\n",
       "        text-align: right;\n",
       "    }\n",
       "</style>\n",
       "<table border=\"1\" class=\"dataframe\">\n",
       "  <thead>\n",
       "    <tr style=\"text-align: right;\">\n",
       "      <th></th>\n",
       "      <th>Parameter</th>\n",
       "      <th>Value</th>\n",
       "      <th>Weight</th>\n",
       "      <th>Score</th>\n",
       "      <th>Excel Formula</th>\n",
       "    </tr>\n",
       "  </thead>\n",
       "  <tbody>\n",
       "    <tr>\n",
       "      <th>0</th>\n",
       "      <td>TB-TB-2018-DAR-PIA.pdf</td>\n",
       "      <td>None</td>\n",
       "      <td>NaN</td>\n",
       "      <td>NaN</td>\n",
       "      <td>None</td>\n",
       "    </tr>\n",
       "    <tr>\n",
       "      <th>1</th>\n",
       "      <td>Trial is for condition</td>\n",
       "      <td>TB</td>\n",
       "      <td>NaN</td>\n",
       "      <td>NaN</td>\n",
       "      <td>None</td>\n",
       "    </tr>\n",
       "    <tr>\n",
       "      <th>2</th>\n",
       "      <td>Number of subjects</td>\n",
       "      <td>650</td>\n",
       "      <td>NaN</td>\n",
       "      <td>NaN</td>\n",
       "      <td>None</td>\n",
       "    </tr>\n",
       "    <tr>\n",
       "      <th>3</th>\n",
       "      <td>Lower tertile number of subjects for phase and...</td>\n",
       "      <td>50.0</td>\n",
       "      <td>NaN</td>\n",
       "      <td>NaN</td>\n",
       "      <td>None</td>\n",
       "    </tr>\n",
       "    <tr>\n",
       "      <th>4</th>\n",
       "      <td>Upper tertile number of subjects for phase and...</td>\n",
       "      <td>100.0</td>\n",
       "      <td>NaN</td>\n",
       "      <td>NaN</td>\n",
       "      <td>None</td>\n",
       "    </tr>\n",
       "    <tr>\n",
       "      <th>5</th>\n",
       "      <td>Trial phase</td>\n",
       "      <td>2.0</td>\n",
       "      <td>5.0</td>\n",
       "      <td>10.0</td>\n",
       "      <td>=B7*C7</td>\n",
       "    </tr>\n",
       "    <tr>\n",
       "      <th>6</th>\n",
       "      <td>SAP completed?</td>\n",
       "      <td>0</td>\n",
       "      <td>30.0</td>\n",
       "      <td>0.0</td>\n",
       "      <td>=B8*C8</td>\n",
       "    </tr>\n",
       "    <tr>\n",
       "      <th>7</th>\n",
       "      <td>Effect Estimate disclosed?</td>\n",
       "      <td>1</td>\n",
       "      <td>20.0</td>\n",
       "      <td>20.0</td>\n",
       "      <td>=B9*C9</td>\n",
       "    </tr>\n",
       "    <tr>\n",
       "      <th>8</th>\n",
       "      <td>Number of subjects low/medium/high</td>\n",
       "      <td>2</td>\n",
       "      <td>10.0</td>\n",
       "      <td>20.0</td>\n",
       "      <td>=B10*C10</td>\n",
       "    </tr>\n",
       "    <tr>\n",
       "      <th>9</th>\n",
       "      <td>International?</td>\n",
       "      <td>True</td>\n",
       "      <td>10.0</td>\n",
       "      <td>10.0</td>\n",
       "      <td>=B11*C11</td>\n",
       "    </tr>\n",
       "    <tr>\n",
       "      <th>10</th>\n",
       "      <td>Simulation?</td>\n",
       "      <td>0</td>\n",
       "      <td>10.0</td>\n",
       "      <td>0.0</td>\n",
       "      <td>=B12*C12</td>\n",
       "    </tr>\n",
       "    <tr>\n",
       "      <th>11</th>\n",
       "      <td>Constant</td>\n",
       "      <td>1</td>\n",
       "      <td>-5.0</td>\n",
       "      <td>-5.0</td>\n",
       "      <td>=B13*C13</td>\n",
       "    </tr>\n",
       "    <tr>\n",
       "      <th>0</th>\n",
       "      <td>Total score (50-100=low risk, 0-40=high risk)</td>\n",
       "      <td>NaN</td>\n",
       "      <td>NaN</td>\n",
       "      <td>55</td>\n",
       "      <td>=MIN(100,SUM(D7:D13))</td>\n",
       "    </tr>\n",
       "    <tr>\n",
       "      <th>0</th>\n",
       "      <td>Risk level</td>\n",
       "      <td>NaN</td>\n",
       "      <td>NaN</td>\n",
       "      <td>LOW</td>\n",
       "      <td>=IF(D14&gt;=50,\"LOW\",IF(D14&gt;=40,\"MEDIUM\",\"HIGH\"))</td>\n",
       "    </tr>\n",
       "  </tbody>\n",
       "</table>\n",
       "</div>"
      ],
      "text/plain": [
       "                                            Parameter  Value  Weight Score  \\\n",
       "0                              TB-TB-2018-DAR-PIA.pdf   None     NaN   NaN   \n",
       "1                              Trial is for condition     TB     NaN   NaN   \n",
       "2                                  Number of subjects    650     NaN   NaN   \n",
       "3   Lower tertile number of subjects for phase and...   50.0     NaN   NaN   \n",
       "4   Upper tertile number of subjects for phase and...  100.0     NaN   NaN   \n",
       "5                                         Trial phase    2.0     5.0  10.0   \n",
       "6                                      SAP completed?      0    30.0   0.0   \n",
       "7                          Effect Estimate disclosed?      1    20.0  20.0   \n",
       "8                  Number of subjects low/medium/high      2    10.0  20.0   \n",
       "9                                      International?   True    10.0  10.0   \n",
       "10                                        Simulation?      0    10.0   0.0   \n",
       "11                                           Constant      1    -5.0  -5.0   \n",
       "0       Total score (50-100=low risk, 0-40=high risk)    NaN     NaN    55   \n",
       "0                                          Risk level    NaN     NaN   LOW   \n",
       "\n",
       "                                     Excel Formula  \n",
       "0                                             None  \n",
       "1                                             None  \n",
       "2                                             None  \n",
       "3                                             None  \n",
       "4                                             None  \n",
       "5                                           =B7*C7  \n",
       "6                                           =B8*C8  \n",
       "7                                           =B9*C9  \n",
       "8                                         =B10*C10  \n",
       "9                                         =B11*C11  \n",
       "10                                        =B12*C12  \n",
       "11                                        =B13*C13  \n",
       "0                            =MIN(100,SUM(D7:D13))  \n",
       "0   =IF(D14>=50,\"LOW\",IF(D14>=40,\"MEDIUM\",\"HIGH\"))  "
      ]
     },
     "metadata": {},
     "output_type": "display_data"
    },
    {
     "data": {
      "text/html": [
       "<div>\n",
       "<style scoped>\n",
       "    .dataframe tbody tr th:only-of-type {\n",
       "        vertical-align: middle;\n",
       "    }\n",
       "\n",
       "    .dataframe tbody tr th {\n",
       "        vertical-align: top;\n",
       "    }\n",
       "\n",
       "    .dataframe thead th {\n",
       "        text-align: right;\n",
       "    }\n",
       "</style>\n",
       "<table border=\"1\" class=\"dataframe\">\n",
       "  <thead>\n",
       "    <tr style=\"text-align: right;\">\n",
       "      <th></th>\n",
       "      <th>Parameter</th>\n",
       "      <th>Value</th>\n",
       "      <th>Weight</th>\n",
       "      <th>Score</th>\n",
       "      <th>Excel Formula</th>\n",
       "    </tr>\n",
       "  </thead>\n",
       "  <tbody>\n",
       "    <tr>\n",
       "      <th>0</th>\n",
       "      <td>TB-TB-2018-M-P-A.pdf</td>\n",
       "      <td>None</td>\n",
       "      <td>NaN</td>\n",
       "      <td>NaN</td>\n",
       "      <td>None</td>\n",
       "    </tr>\n",
       "    <tr>\n",
       "      <th>1</th>\n",
       "      <td>Trial is for condition</td>\n",
       "      <td>TB</td>\n",
       "      <td>NaN</td>\n",
       "      <td>NaN</td>\n",
       "      <td>None</td>\n",
       "    </tr>\n",
       "    <tr>\n",
       "      <th>2</th>\n",
       "      <td>Number of subjects</td>\n",
       "      <td>240</td>\n",
       "      <td>NaN</td>\n",
       "      <td>NaN</td>\n",
       "      <td>None</td>\n",
       "    </tr>\n",
       "    <tr>\n",
       "      <th>3</th>\n",
       "      <td>Lower tertile number of subjects for phase and...</td>\n",
       "      <td>500.0</td>\n",
       "      <td>NaN</td>\n",
       "      <td>NaN</td>\n",
       "      <td>None</td>\n",
       "    </tr>\n",
       "    <tr>\n",
       "      <th>4</th>\n",
       "      <td>Upper tertile number of subjects for phase and...</td>\n",
       "      <td>1500.0</td>\n",
       "      <td>NaN</td>\n",
       "      <td>NaN</td>\n",
       "      <td>None</td>\n",
       "    </tr>\n",
       "    <tr>\n",
       "      <th>5</th>\n",
       "      <td>Trial phase</td>\n",
       "      <td>3.0</td>\n",
       "      <td>5.0</td>\n",
       "      <td>15.0</td>\n",
       "      <td>=B7*C7</td>\n",
       "    </tr>\n",
       "    <tr>\n",
       "      <th>6</th>\n",
       "      <td>SAP completed?</td>\n",
       "      <td>1</td>\n",
       "      <td>30.0</td>\n",
       "      <td>30.0</td>\n",
       "      <td>=B8*C8</td>\n",
       "    </tr>\n",
       "    <tr>\n",
       "      <th>7</th>\n",
       "      <td>Effect Estimate disclosed?</td>\n",
       "      <td>1</td>\n",
       "      <td>20.0</td>\n",
       "      <td>20.0</td>\n",
       "      <td>=B9*C9</td>\n",
       "    </tr>\n",
       "    <tr>\n",
       "      <th>8</th>\n",
       "      <td>Number of subjects low/medium/high</td>\n",
       "      <td>0</td>\n",
       "      <td>10.0</td>\n",
       "      <td>0.0</td>\n",
       "      <td>=B10*C10</td>\n",
       "    </tr>\n",
       "    <tr>\n",
       "      <th>9</th>\n",
       "      <td>International?</td>\n",
       "      <td>False</td>\n",
       "      <td>10.0</td>\n",
       "      <td>0.0</td>\n",
       "      <td>=B11*C11</td>\n",
       "    </tr>\n",
       "    <tr>\n",
       "      <th>10</th>\n",
       "      <td>Simulation?</td>\n",
       "      <td>0</td>\n",
       "      <td>10.0</td>\n",
       "      <td>0.0</td>\n",
       "      <td>=B12*C12</td>\n",
       "    </tr>\n",
       "    <tr>\n",
       "      <th>11</th>\n",
       "      <td>Constant</td>\n",
       "      <td>1</td>\n",
       "      <td>-5.0</td>\n",
       "      <td>-5.0</td>\n",
       "      <td>=B13*C13</td>\n",
       "    </tr>\n",
       "    <tr>\n",
       "      <th>0</th>\n",
       "      <td>Total score (50-100=low risk, 0-40=high risk)</td>\n",
       "      <td>NaN</td>\n",
       "      <td>NaN</td>\n",
       "      <td>60</td>\n",
       "      <td>=MIN(100,SUM(D7:D13))</td>\n",
       "    </tr>\n",
       "    <tr>\n",
       "      <th>0</th>\n",
       "      <td>Risk level</td>\n",
       "      <td>NaN</td>\n",
       "      <td>NaN</td>\n",
       "      <td>LOW</td>\n",
       "      <td>=IF(D14&gt;=50,\"LOW\",IF(D14&gt;=40,\"MEDIUM\",\"HIGH\"))</td>\n",
       "    </tr>\n",
       "  </tbody>\n",
       "</table>\n",
       "</div>"
      ],
      "text/plain": [
       "                                            Parameter   Value  Weight Score  \\\n",
       "0              TB-TB-2018-M-P-A.pdf    None     NaN   NaN   \n",
       "1                              Trial is for condition      TB     NaN   NaN   \n",
       "2                                  Number of subjects     240     NaN   NaN   \n",
       "3   Lower tertile number of subjects for phase and...   500.0     NaN   NaN   \n",
       "4   Upper tertile number of subjects for phase and...  1500.0     NaN   NaN   \n",
       "5                                         Trial phase     3.0     5.0  15.0   \n",
       "6                                      SAP completed?       1    30.0  30.0   \n",
       "7                          Effect Estimate disclosed?       1    20.0  20.0   \n",
       "8                  Number of subjects low/medium/high       0    10.0   0.0   \n",
       "9                                      International?   False    10.0   0.0   \n",
       "10                                        Simulation?       0    10.0   0.0   \n",
       "11                                           Constant       1    -5.0  -5.0   \n",
       "0       Total score (50-100=low risk, 0-40=high risk)     NaN     NaN    60   \n",
       "0                                          Risk level     NaN     NaN   LOW   \n",
       "\n",
       "                                     Excel Formula  \n",
       "0                                             None  \n",
       "1                                             None  \n",
       "2                                             None  \n",
       "3                                             None  \n",
       "4                                             None  \n",
       "5                                           =B7*C7  \n",
       "6                                           =B8*C8  \n",
       "7                                           =B9*C9  \n",
       "8                                         =B10*C10  \n",
       "9                                         =B11*C11  \n",
       "10                                        =B12*C12  \n",
       "11                                        =B13*C13  \n",
       "0                            =MIN(100,SUM(D7:D13))  \n",
       "0   =IF(D14>=50,\"LOW\",IF(D14>=40,\"MEDIUM\",\"HIGH\"))  "
      ]
     },
     "metadata": {},
     "output_type": "display_data"
    },
    {
     "data": {
      "text/html": [
       "<div>\n",
       "<style scoped>\n",
       "    .dataframe tbody tr th:only-of-type {\n",
       "        vertical-align: middle;\n",
       "    }\n",
       "\n",
       "    .dataframe tbody tr th {\n",
       "        vertical-align: top;\n",
       "    }\n",
       "\n",
       "    .dataframe thead th {\n",
       "        text-align: right;\n",
       "    }\n",
       "</style>\n",
       "<table border=\"1\" class=\"dataframe\">\n",
       "  <thead>\n",
       "    <tr style=\"text-align: right;\">\n",
       "      <th></th>\n",
       "      <th>Parameter</th>\n",
       "      <th>Value</th>\n",
       "      <th>Weight</th>\n",
       "      <th>Score</th>\n",
       "      <th>Excel Formula</th>\n",
       "    </tr>\n",
       "  </thead>\n",
       "  <tbody>\n",
       "    <tr>\n",
       "      <th>0</th>\n",
       "      <td>HIV-HIV-2016-Ayles-A Study of the HIV preventi...</td>\n",
       "      <td>None</td>\n",
       "      <td>NaN</td>\n",
       "      <td>NaN</td>\n",
       "      <td>None</td>\n",
       "    </tr>\n",
       "    <tr>\n",
       "      <th>1</th>\n",
       "      <td>Trial is for condition</td>\n",
       "      <td>HIV</td>\n",
       "      <td>NaN</td>\n",
       "      <td>NaN</td>\n",
       "      <td>None</td>\n",
       "    </tr>\n",
       "    <tr>\n",
       "      <th>2</th>\n",
       "      <td>Number of subjects</td>\n",
       "      <td>2500</td>\n",
       "      <td>NaN</td>\n",
       "      <td>NaN</td>\n",
       "      <td>None</td>\n",
       "    </tr>\n",
       "    <tr>\n",
       "      <th>3</th>\n",
       "      <td>Lower tertile number of subjects for phase and...</td>\n",
       "      <td>1000.0</td>\n",
       "      <td>NaN</td>\n",
       "      <td>NaN</td>\n",
       "      <td>None</td>\n",
       "    </tr>\n",
       "    <tr>\n",
       "      <th>4</th>\n",
       "      <td>Upper tertile number of subjects for phase and...</td>\n",
       "      <td>2000.0</td>\n",
       "      <td>NaN</td>\n",
       "      <td>NaN</td>\n",
       "      <td>None</td>\n",
       "    </tr>\n",
       "    <tr>\n",
       "      <th>5</th>\n",
       "      <td>Trial phase</td>\n",
       "      <td>3.0</td>\n",
       "      <td>5.0</td>\n",
       "      <td>15.0</td>\n",
       "      <td>=B7*C7</td>\n",
       "    </tr>\n",
       "    <tr>\n",
       "      <th>6</th>\n",
       "      <td>SAP completed?</td>\n",
       "      <td>0</td>\n",
       "      <td>30.0</td>\n",
       "      <td>0.0</td>\n",
       "      <td>=B8*C8</td>\n",
       "    </tr>\n",
       "    <tr>\n",
       "      <th>7</th>\n",
       "      <td>Effect Estimate disclosed?</td>\n",
       "      <td>1</td>\n",
       "      <td>20.0</td>\n",
       "      <td>20.0</td>\n",
       "      <td>=B9*C9</td>\n",
       "    </tr>\n",
       "    <tr>\n",
       "      <th>8</th>\n",
       "      <td>Number of subjects low/medium/high</td>\n",
       "      <td>2</td>\n",
       "      <td>10.0</td>\n",
       "      <td>20.0</td>\n",
       "      <td>=B10*C10</td>\n",
       "    </tr>\n",
       "    <tr>\n",
       "      <th>9</th>\n",
       "      <td>International?</td>\n",
       "      <td>True</td>\n",
       "      <td>10.0</td>\n",
       "      <td>10.0</td>\n",
       "      <td>=B11*C11</td>\n",
       "    </tr>\n",
       "    <tr>\n",
       "      <th>10</th>\n",
       "      <td>Simulation?</td>\n",
       "      <td>1</td>\n",
       "      <td>10.0</td>\n",
       "      <td>10.0</td>\n",
       "      <td>=B12*C12</td>\n",
       "    </tr>\n",
       "    <tr>\n",
       "      <th>11</th>\n",
       "      <td>Constant</td>\n",
       "      <td>1</td>\n",
       "      <td>-5.0</td>\n",
       "      <td>-5.0</td>\n",
       "      <td>=B13*C13</td>\n",
       "    </tr>\n",
       "    <tr>\n",
       "      <th>0</th>\n",
       "      <td>Total score (50-100=low risk, 0-40=high risk)</td>\n",
       "      <td>NaN</td>\n",
       "      <td>NaN</td>\n",
       "      <td>70</td>\n",
       "      <td>=MIN(100,SUM(D7:D13))</td>\n",
       "    </tr>\n",
       "    <tr>\n",
       "      <th>0</th>\n",
       "      <td>Risk level</td>\n",
       "      <td>NaN</td>\n",
       "      <td>NaN</td>\n",
       "      <td>LOW</td>\n",
       "      <td>=IF(D14&gt;=50,\"LOW\",IF(D14&gt;=40,\"MEDIUM\",\"HIGH\"))</td>\n",
       "    </tr>\n",
       "  </tbody>\n",
       "</table>\n",
       "</div>"
      ],
      "text/plain": [
       "                                            Parameter   Value  Weight Score  \\\n",
       "0   HIV-HIV-2016-Ayles-A Study of the HIV preventi...    None     NaN   NaN   \n",
       "1                              Trial is for condition     HIV     NaN   NaN   \n",
       "2                                  Number of subjects    2500     NaN   NaN   \n",
       "3   Lower tertile number of subjects for phase and...  1000.0     NaN   NaN   \n",
       "4   Upper tertile number of subjects for phase and...  2000.0     NaN   NaN   \n",
       "5                                         Trial phase     3.0     5.0  15.0   \n",
       "6                                      SAP completed?       0    30.0   0.0   \n",
       "7                          Effect Estimate disclosed?       1    20.0  20.0   \n",
       "8                  Number of subjects low/medium/high       2    10.0  20.0   \n",
       "9                                      International?    True    10.0  10.0   \n",
       "10                                        Simulation?       1    10.0  10.0   \n",
       "11                                           Constant       1    -5.0  -5.0   \n",
       "0       Total score (50-100=low risk, 0-40=high risk)     NaN     NaN    70   \n",
       "0                                          Risk level     NaN     NaN   LOW   \n",
       "\n",
       "                                     Excel Formula  \n",
       "0                                             None  \n",
       "1                                             None  \n",
       "2                                             None  \n",
       "3                                             None  \n",
       "4                                             None  \n",
       "5                                           =B7*C7  \n",
       "6                                           =B8*C8  \n",
       "7                                           =B9*C9  \n",
       "8                                         =B10*C10  \n",
       "9                                         =B11*C11  \n",
       "10                                        =B12*C12  \n",
       "11                                        =B13*C13  \n",
       "0                            =MIN(100,SUM(D7:D13))  \n",
       "0   =IF(D14>=50,\"LOW\",IF(D14>=40,\"MEDIUM\",\"HIGH\"))  "
      ]
     },
     "metadata": {},
     "output_type": "display_data"
    },
    {
     "data": {
      "text/html": [
       "<div>\n",
       "<style scoped>\n",
       "    .dataframe tbody tr th:only-of-type {\n",
       "        vertical-align: middle;\n",
       "    }\n",
       "\n",
       "    .dataframe tbody tr th {\n",
       "        vertical-align: top;\n",
       "    }\n",
       "\n",
       "    .dataframe thead th {\n",
       "        text-align: right;\n",
       "    }\n",
       "</style>\n",
       "<table border=\"1\" class=\"dataframe\">\n",
       "  <thead>\n",
       "    <tr style=\"text-align: right;\">\n",
       "      <th></th>\n",
       "      <th>Parameter</th>\n",
       "      <th>Value</th>\n",
       "      <th>Weight</th>\n",
       "      <th>Score</th>\n",
       "      <th>Excel Formula</th>\n",
       "    </tr>\n",
       "  </thead>\n",
       "  <tbody>\n",
       "    <tr>\n",
       "      <th>0</th>\n",
       "      <td>TB-TB-2019-T-A-b.pdf</td>\n",
       "      <td>None</td>\n",
       "      <td>NaN</td>\n",
       "      <td>NaN</td>\n",
       "      <td>None</td>\n",
       "    </tr>\n",
       "    <tr>\n",
       "      <th>1</th>\n",
       "      <td>Trial is for condition</td>\n",
       "      <td>TB</td>\n",
       "      <td>NaN</td>\n",
       "      <td>NaN</td>\n",
       "      <td>None</td>\n",
       "    </tr>\n",
       "    <tr>\n",
       "      <th>2</th>\n",
       "      <td>Number of subjects</td>\n",
       "      <td>450</td>\n",
       "      <td>NaN</td>\n",
       "      <td>NaN</td>\n",
       "      <td>None</td>\n",
       "    </tr>\n",
       "    <tr>\n",
       "      <th>3</th>\n",
       "      <td>Lower tertile number of subjects for phase and...</td>\n",
       "      <td>50.0</td>\n",
       "      <td>NaN</td>\n",
       "      <td>NaN</td>\n",
       "      <td>None</td>\n",
       "    </tr>\n",
       "    <tr>\n",
       "      <th>4</th>\n",
       "      <td>Upper tertile number of subjects for phase and...</td>\n",
       "      <td>100.0</td>\n",
       "      <td>NaN</td>\n",
       "      <td>NaN</td>\n",
       "      <td>None</td>\n",
       "    </tr>\n",
       "    <tr>\n",
       "      <th>5</th>\n",
       "      <td>Trial phase</td>\n",
       "      <td>2.0</td>\n",
       "      <td>5.0</td>\n",
       "      <td>10.0</td>\n",
       "      <td>=B7*C7</td>\n",
       "    </tr>\n",
       "    <tr>\n",
       "      <th>6</th>\n",
       "      <td>SAP completed?</td>\n",
       "      <td>1</td>\n",
       "      <td>30.0</td>\n",
       "      <td>30.0</td>\n",
       "      <td>=B8*C8</td>\n",
       "    </tr>\n",
       "    <tr>\n",
       "      <th>7</th>\n",
       "      <td>Effect Estimate disclosed?</td>\n",
       "      <td>0</td>\n",
       "      <td>20.0</td>\n",
       "      <td>0.0</td>\n",
       "      <td>=B9*C9</td>\n",
       "    </tr>\n",
       "    <tr>\n",
       "      <th>8</th>\n",
       "      <td>Number of subjects low/medium/high</td>\n",
       "      <td>2</td>\n",
       "      <td>10.0</td>\n",
       "      <td>20.0</td>\n",
       "      <td>=B10*C10</td>\n",
       "    </tr>\n",
       "    <tr>\n",
       "      <th>9</th>\n",
       "      <td>International?</td>\n",
       "      <td>True</td>\n",
       "      <td>10.0</td>\n",
       "      <td>10.0</td>\n",
       "      <td>=B11*C11</td>\n",
       "    </tr>\n",
       "    <tr>\n",
       "      <th>10</th>\n",
       "      <td>Simulation?</td>\n",
       "      <td>0</td>\n",
       "      <td>10.0</td>\n",
       "      <td>0.0</td>\n",
       "      <td>=B12*C12</td>\n",
       "    </tr>\n",
       "    <tr>\n",
       "      <th>11</th>\n",
       "      <td>Constant</td>\n",
       "      <td>1</td>\n",
       "      <td>-5.0</td>\n",
       "      <td>-5.0</td>\n",
       "      <td>=B13*C13</td>\n",
       "    </tr>\n",
       "    <tr>\n",
       "      <th>0</th>\n",
       "      <td>Total score (50-100=low risk, 0-40=high risk)</td>\n",
       "      <td>NaN</td>\n",
       "      <td>NaN</td>\n",
       "      <td>65</td>\n",
       "      <td>=MIN(100,SUM(D7:D13))</td>\n",
       "    </tr>\n",
       "    <tr>\n",
       "      <th>0</th>\n",
       "      <td>Risk level</td>\n",
       "      <td>NaN</td>\n",
       "      <td>NaN</td>\n",
       "      <td>LOW</td>\n",
       "      <td>=IF(D14&gt;=50,\"LOW\",IF(D14&gt;=40,\"MEDIUM\",\"HIGH\"))</td>\n",
       "    </tr>\n",
       "  </tbody>\n",
       "</table>\n",
       "</div>"
      ],
      "text/plain": [
       "                                            Parameter  Value  Weight Score  \\\n",
       "0       TB-TB-2019-T-A-b.pdf   None     NaN   NaN   \n",
       "1                              Trial is for condition     TB     NaN   NaN   \n",
       "2                                  Number of subjects    450     NaN   NaN   \n",
       "3   Lower tertile number of subjects for phase and...   50.0     NaN   NaN   \n",
       "4   Upper tertile number of subjects for phase and...  100.0     NaN   NaN   \n",
       "5                                         Trial phase    2.0     5.0  10.0   \n",
       "6                                      SAP completed?      1    30.0  30.0   \n",
       "7                          Effect Estimate disclosed?      0    20.0   0.0   \n",
       "8                  Number of subjects low/medium/high      2    10.0  20.0   \n",
       "9                                      International?   True    10.0  10.0   \n",
       "10                                        Simulation?      0    10.0   0.0   \n",
       "11                                           Constant      1    -5.0  -5.0   \n",
       "0       Total score (50-100=low risk, 0-40=high risk)    NaN     NaN    65   \n",
       "0                                          Risk level    NaN     NaN   LOW   \n",
       "\n",
       "                                     Excel Formula  \n",
       "0                                             None  \n",
       "1                                             None  \n",
       "2                                             None  \n",
       "3                                             None  \n",
       "4                                             None  \n",
       "5                                           =B7*C7  \n",
       "6                                           =B8*C8  \n",
       "7                                           =B9*C9  \n",
       "8                                         =B10*C10  \n",
       "9                                         =B11*C11  \n",
       "10                                        =B12*C12  \n",
       "11                                        =B13*C13  \n",
       "0                            =MIN(100,SUM(D7:D13))  \n",
       "0   =IF(D14>=50,\"LOW\",IF(D14>=40,\"MEDIUM\",\"HIGH\"))  "
      ]
     },
     "metadata": {},
     "output_type": "display_data"
    },
    {
     "data": {
      "text/html": [
       "<div>\n",
       "<style scoped>\n",
       "    .dataframe tbody tr th:only-of-type {\n",
       "        vertical-align: middle;\n",
       "    }\n",
       "\n",
       "    .dataframe tbody tr th {\n",
       "        vertical-align: top;\n",
       "    }\n",
       "\n",
       "    .dataframe thead th {\n",
       "        text-align: right;\n",
       "    }\n",
       "</style>\n",
       "<table border=\"1\" class=\"dataframe\">\n",
       "  <thead>\n",
       "    <tr style=\"text-align: right;\">\n",
       "      <th></th>\n",
       "      <th>Parameter</th>\n",
       "      <th>Value</th>\n",
       "      <th>Weight</th>\n",
       "      <th>Score</th>\n",
       "      <th>Excel Formula</th>\n",
       "    </tr>\n",
       "  </thead>\n",
       "  <tbody>\n",
       "    <tr>\n",
       "      <th>0</th>\n",
       "      <td>HIV-HIV-2016-Laufer-Trimethoprim-Sulfamethoxaz...</td>\n",
       "      <td>None</td>\n",
       "      <td>NaN</td>\n",
       "      <td>NaN</td>\n",
       "      <td>None</td>\n",
       "    </tr>\n",
       "    <tr>\n",
       "      <th>1</th>\n",
       "      <td>Trial is for condition</td>\n",
       "      <td>HIV</td>\n",
       "      <td>NaN</td>\n",
       "      <td>NaN</td>\n",
       "      <td>None</td>\n",
       "    </tr>\n",
       "    <tr>\n",
       "      <th>2</th>\n",
       "      <td>Number of subjects</td>\n",
       "      <td>1500</td>\n",
       "      <td>NaN</td>\n",
       "      <td>NaN</td>\n",
       "      <td>None</td>\n",
       "    </tr>\n",
       "    <tr>\n",
       "      <th>3</th>\n",
       "      <td>Lower tertile number of subjects for phase and...</td>\n",
       "      <td>1000.0</td>\n",
       "      <td>NaN</td>\n",
       "      <td>NaN</td>\n",
       "      <td>None</td>\n",
       "    </tr>\n",
       "    <tr>\n",
       "      <th>4</th>\n",
       "      <td>Upper tertile number of subjects for phase and...</td>\n",
       "      <td>2000.0</td>\n",
       "      <td>NaN</td>\n",
       "      <td>NaN</td>\n",
       "      <td>None</td>\n",
       "    </tr>\n",
       "    <tr>\n",
       "      <th>5</th>\n",
       "      <td>Trial phase</td>\n",
       "      <td>3.0</td>\n",
       "      <td>5.0</td>\n",
       "      <td>15.0</td>\n",
       "      <td>=B7*C7</td>\n",
       "    </tr>\n",
       "    <tr>\n",
       "      <th>6</th>\n",
       "      <td>SAP completed?</td>\n",
       "      <td>0</td>\n",
       "      <td>30.0</td>\n",
       "      <td>0.0</td>\n",
       "      <td>=B8*C8</td>\n",
       "    </tr>\n",
       "    <tr>\n",
       "      <th>7</th>\n",
       "      <td>Effect Estimate disclosed?</td>\n",
       "      <td>1</td>\n",
       "      <td>20.0</td>\n",
       "      <td>20.0</td>\n",
       "      <td>=B9*C9</td>\n",
       "    </tr>\n",
       "    <tr>\n",
       "      <th>8</th>\n",
       "      <td>Number of subjects low/medium/high</td>\n",
       "      <td>1</td>\n",
       "      <td>10.0</td>\n",
       "      <td>10.0</td>\n",
       "      <td>=B10*C10</td>\n",
       "    </tr>\n",
       "    <tr>\n",
       "      <th>9</th>\n",
       "      <td>International?</td>\n",
       "      <td>False</td>\n",
       "      <td>10.0</td>\n",
       "      <td>0.0</td>\n",
       "      <td>=B11*C11</td>\n",
       "    </tr>\n",
       "    <tr>\n",
       "      <th>10</th>\n",
       "      <td>Simulation?</td>\n",
       "      <td>0</td>\n",
       "      <td>10.0</td>\n",
       "      <td>0.0</td>\n",
       "      <td>=B12*C12</td>\n",
       "    </tr>\n",
       "    <tr>\n",
       "      <th>11</th>\n",
       "      <td>Constant</td>\n",
       "      <td>1</td>\n",
       "      <td>-5.0</td>\n",
       "      <td>-5.0</td>\n",
       "      <td>=B13*C13</td>\n",
       "    </tr>\n",
       "    <tr>\n",
       "      <th>0</th>\n",
       "      <td>Total score (50-100=low risk, 0-40=high risk)</td>\n",
       "      <td>NaN</td>\n",
       "      <td>NaN</td>\n",
       "      <td>40</td>\n",
       "      <td>=MIN(100,SUM(D7:D13))</td>\n",
       "    </tr>\n",
       "    <tr>\n",
       "      <th>0</th>\n",
       "      <td>Risk level</td>\n",
       "      <td>NaN</td>\n",
       "      <td>NaN</td>\n",
       "      <td>MEDIUM</td>\n",
       "      <td>=IF(D14&gt;=50,\"LOW\",IF(D14&gt;=40,\"MEDIUM\",\"HIGH\"))</td>\n",
       "    </tr>\n",
       "  </tbody>\n",
       "</table>\n",
       "</div>"
      ],
      "text/plain": [
       "                                            Parameter   Value  Weight   Score  \\\n",
       "0   HIV-HIV-2016-Laufer-Trimethoprim-Sulfamethoxaz...    None     NaN     NaN   \n",
       "1                              Trial is for condition     HIV     NaN     NaN   \n",
       "2                                  Number of subjects    1500     NaN     NaN   \n",
       "3   Lower tertile number of subjects for phase and...  1000.0     NaN     NaN   \n",
       "4   Upper tertile number of subjects for phase and...  2000.0     NaN     NaN   \n",
       "5                                         Trial phase     3.0     5.0    15.0   \n",
       "6                                      SAP completed?       0    30.0     0.0   \n",
       "7                          Effect Estimate disclosed?       1    20.0    20.0   \n",
       "8                  Number of subjects low/medium/high       1    10.0    10.0   \n",
       "9                                      International?   False    10.0     0.0   \n",
       "10                                        Simulation?       0    10.0     0.0   \n",
       "11                                           Constant       1    -5.0    -5.0   \n",
       "0       Total score (50-100=low risk, 0-40=high risk)     NaN     NaN      40   \n",
       "0                                          Risk level     NaN     NaN  MEDIUM   \n",
       "\n",
       "                                     Excel Formula  \n",
       "0                                             None  \n",
       "1                                             None  \n",
       "2                                             None  \n",
       "3                                             None  \n",
       "4                                             None  \n",
       "5                                           =B7*C7  \n",
       "6                                           =B8*C8  \n",
       "7                                           =B9*C9  \n",
       "8                                         =B10*C10  \n",
       "9                                         =B11*C11  \n",
       "10                                        =B12*C12  \n",
       "11                                        =B13*C13  \n",
       "0                            =MIN(100,SUM(D7:D13))  \n",
       "0   =IF(D14>=50,\"LOW\",IF(D14>=40,\"MEDIUM\",\"HIGH\"))  "
      ]
     },
     "metadata": {},
     "output_type": "display_data"
    },
    {
     "data": {
      "text/html": [
       "<div>\n",
       "<style scoped>\n",
       "    .dataframe tbody tr th:only-of-type {\n",
       "        vertical-align: middle;\n",
       "    }\n",
       "\n",
       "    .dataframe tbody tr th {\n",
       "        vertical-align: top;\n",
       "    }\n",
       "\n",
       "    .dataframe thead th {\n",
       "        text-align: right;\n",
       "    }\n",
       "</style>\n",
       "<table border=\"1\" class=\"dataframe\">\n",
       "  <thead>\n",
       "    <tr style=\"text-align: right;\">\n",
       "      <th></th>\n",
       "      <th>Parameter</th>\n",
       "      <th>Value</th>\n",
       "      <th>Weight</th>\n",
       "      <th>Score</th>\n",
       "      <th>Excel Formula</th>\n",
       "    </tr>\n",
       "  </thead>\n",
       "  <tbody>\n",
       "    <tr>\n",
       "      <th>0</th>\n",
       "      <td>HIV-HIV-2017-Abrams-IMPAACT P1101.pdf</td>\n",
       "      <td>None</td>\n",
       "      <td>NaN</td>\n",
       "      <td>NaN</td>\n",
       "      <td>None</td>\n",
       "    </tr>\n",
       "    <tr>\n",
       "      <th>1</th>\n",
       "      <td>Trial is for condition</td>\n",
       "      <td>HIV</td>\n",
       "      <td>NaN</td>\n",
       "      <td>NaN</td>\n",
       "      <td>None</td>\n",
       "    </tr>\n",
       "    <tr>\n",
       "      <th>2</th>\n",
       "      <td>Number of subjects</td>\n",
       "      <td>36</td>\n",
       "      <td>NaN</td>\n",
       "      <td>NaN</td>\n",
       "      <td>None</td>\n",
       "    </tr>\n",
       "    <tr>\n",
       "      <th>3</th>\n",
       "      <td>Lower tertile number of subjects for phase and...</td>\n",
       "      <td>40.0</td>\n",
       "      <td>NaN</td>\n",
       "      <td>NaN</td>\n",
       "      <td>None</td>\n",
       "    </tr>\n",
       "    <tr>\n",
       "      <th>4</th>\n",
       "      <td>Upper tertile number of subjects for phase and...</td>\n",
       "      <td>130.0</td>\n",
       "      <td>NaN</td>\n",
       "      <td>NaN</td>\n",
       "      <td>None</td>\n",
       "    </tr>\n",
       "    <tr>\n",
       "      <th>5</th>\n",
       "      <td>Trial phase</td>\n",
       "      <td>1.0</td>\n",
       "      <td>5.0</td>\n",
       "      <td>5.0</td>\n",
       "      <td>=B7*C7</td>\n",
       "    </tr>\n",
       "    <tr>\n",
       "      <th>6</th>\n",
       "      <td>SAP completed?</td>\n",
       "      <td>0</td>\n",
       "      <td>30.0</td>\n",
       "      <td>0.0</td>\n",
       "      <td>=B8*C8</td>\n",
       "    </tr>\n",
       "    <tr>\n",
       "      <th>7</th>\n",
       "      <td>Effect Estimate disclosed?</td>\n",
       "      <td>0</td>\n",
       "      <td>20.0</td>\n",
       "      <td>0.0</td>\n",
       "      <td>=B9*C9</td>\n",
       "    </tr>\n",
       "    <tr>\n",
       "      <th>8</th>\n",
       "      <td>Number of subjects low/medium/high</td>\n",
       "      <td>0</td>\n",
       "      <td>10.0</td>\n",
       "      <td>0.0</td>\n",
       "      <td>=B10*C10</td>\n",
       "    </tr>\n",
       "    <tr>\n",
       "      <th>9</th>\n",
       "      <td>International?</td>\n",
       "      <td>False</td>\n",
       "      <td>10.0</td>\n",
       "      <td>0.0</td>\n",
       "      <td>=B11*C11</td>\n",
       "    </tr>\n",
       "    <tr>\n",
       "      <th>10</th>\n",
       "      <td>Simulation?</td>\n",
       "      <td>0</td>\n",
       "      <td>10.0</td>\n",
       "      <td>0.0</td>\n",
       "      <td>=B12*C12</td>\n",
       "    </tr>\n",
       "    <tr>\n",
       "      <th>11</th>\n",
       "      <td>Constant</td>\n",
       "      <td>1</td>\n",
       "      <td>-5.0</td>\n",
       "      <td>-5.0</td>\n",
       "      <td>=B13*C13</td>\n",
       "    </tr>\n",
       "    <tr>\n",
       "      <th>0</th>\n",
       "      <td>Total score (50-100=low risk, 0-40=high risk)</td>\n",
       "      <td>NaN</td>\n",
       "      <td>NaN</td>\n",
       "      <td>0</td>\n",
       "      <td>=MIN(100,SUM(D7:D13))</td>\n",
       "    </tr>\n",
       "    <tr>\n",
       "      <th>0</th>\n",
       "      <td>Risk level</td>\n",
       "      <td>NaN</td>\n",
       "      <td>NaN</td>\n",
       "      <td>HIGH</td>\n",
       "      <td>=IF(D14&gt;=50,\"LOW\",IF(D14&gt;=40,\"MEDIUM\",\"HIGH\"))</td>\n",
       "    </tr>\n",
       "  </tbody>\n",
       "</table>\n",
       "</div>"
      ],
      "text/plain": [
       "                                            Parameter  Value  Weight Score  \\\n",
       "0               HIV-HIV-2017-Abrams-IMPAACT P1101.pdf   None     NaN   NaN   \n",
       "1                              Trial is for condition    HIV     NaN   NaN   \n",
       "2                                  Number of subjects     36     NaN   NaN   \n",
       "3   Lower tertile number of subjects for phase and...   40.0     NaN   NaN   \n",
       "4   Upper tertile number of subjects for phase and...  130.0     NaN   NaN   \n",
       "5                                         Trial phase    1.0     5.0   5.0   \n",
       "6                                      SAP completed?      0    30.0   0.0   \n",
       "7                          Effect Estimate disclosed?      0    20.0   0.0   \n",
       "8                  Number of subjects low/medium/high      0    10.0   0.0   \n",
       "9                                      International?  False    10.0   0.0   \n",
       "10                                        Simulation?      0    10.0   0.0   \n",
       "11                                           Constant      1    -5.0  -5.0   \n",
       "0       Total score (50-100=low risk, 0-40=high risk)    NaN     NaN     0   \n",
       "0                                          Risk level    NaN     NaN  HIGH   \n",
       "\n",
       "                                     Excel Formula  \n",
       "0                                             None  \n",
       "1                                             None  \n",
       "2                                             None  \n",
       "3                                             None  \n",
       "4                                             None  \n",
       "5                                           =B7*C7  \n",
       "6                                           =B8*C8  \n",
       "7                                           =B9*C9  \n",
       "8                                         =B10*C10  \n",
       "9                                         =B11*C11  \n",
       "10                                        =B12*C12  \n",
       "11                                        =B13*C13  \n",
       "0                            =MIN(100,SUM(D7:D13))  \n",
       "0   =IF(D14>=50,\"LOW\",IF(D14>=40,\"MEDIUM\",\"HIGH\"))  "
      ]
     },
     "metadata": {},
     "output_type": "display_data"
    },
    {
     "data": {
      "text/html": [
       "<div>\n",
       "<style scoped>\n",
       "    .dataframe tbody tr th:only-of-type {\n",
       "        vertical-align: middle;\n",
       "    }\n",
       "\n",
       "    .dataframe tbody tr th {\n",
       "        vertical-align: top;\n",
       "    }\n",
       "\n",
       "    .dataframe thead th {\n",
       "        text-align: right;\n",
       "    }\n",
       "</style>\n",
       "<table border=\"1\" class=\"dataframe\">\n",
       "  <thead>\n",
       "    <tr style=\"text-align: right;\">\n",
       "      <th></th>\n",
       "      <th>Parameter</th>\n",
       "      <th>Value</th>\n",
       "      <th>Weight</th>\n",
       "      <th>Score</th>\n",
       "      <th>Excel Formula</th>\n",
       "    </tr>\n",
       "  </thead>\n",
       "  <tbody>\n",
       "    <tr>\n",
       "      <th>0</th>\n",
       "      <td>HIV-HIV-2018-IMPAACT-P1112.pdf</td>\n",
       "      <td>None</td>\n",
       "      <td>NaN</td>\n",
       "      <td>NaN</td>\n",
       "      <td>None</td>\n",
       "    </tr>\n",
       "    <tr>\n",
       "      <th>1</th>\n",
       "      <td>Trial is for condition</td>\n",
       "      <td>HIV</td>\n",
       "      <td>NaN</td>\n",
       "      <td>NaN</td>\n",
       "      <td>None</td>\n",
       "    </tr>\n",
       "    <tr>\n",
       "      <th>2</th>\n",
       "      <td>Number of subjects</td>\n",
       "      <td>79</td>\n",
       "      <td>NaN</td>\n",
       "      <td>NaN</td>\n",
       "      <td>None</td>\n",
       "    </tr>\n",
       "    <tr>\n",
       "      <th>3</th>\n",
       "      <td>Lower tertile number of subjects for phase and...</td>\n",
       "      <td>40.0</td>\n",
       "      <td>NaN</td>\n",
       "      <td>NaN</td>\n",
       "      <td>None</td>\n",
       "    </tr>\n",
       "    <tr>\n",
       "      <th>4</th>\n",
       "      <td>Upper tertile number of subjects for phase and...</td>\n",
       "      <td>130.0</td>\n",
       "      <td>NaN</td>\n",
       "      <td>NaN</td>\n",
       "      <td>None</td>\n",
       "    </tr>\n",
       "    <tr>\n",
       "      <th>5</th>\n",
       "      <td>Trial phase</td>\n",
       "      <td>1.0</td>\n",
       "      <td>5.0</td>\n",
       "      <td>5.0</td>\n",
       "      <td>=B7*C7</td>\n",
       "    </tr>\n",
       "    <tr>\n",
       "      <th>6</th>\n",
       "      <td>SAP completed?</td>\n",
       "      <td>0</td>\n",
       "      <td>30.0</td>\n",
       "      <td>0.0</td>\n",
       "      <td>=B8*C8</td>\n",
       "    </tr>\n",
       "    <tr>\n",
       "      <th>7</th>\n",
       "      <td>Effect Estimate disclosed?</td>\n",
       "      <td>0</td>\n",
       "      <td>20.0</td>\n",
       "      <td>0.0</td>\n",
       "      <td>=B9*C9</td>\n",
       "    </tr>\n",
       "    <tr>\n",
       "      <th>8</th>\n",
       "      <td>Number of subjects low/medium/high</td>\n",
       "      <td>1</td>\n",
       "      <td>10.0</td>\n",
       "      <td>10.0</td>\n",
       "      <td>=B10*C10</td>\n",
       "    </tr>\n",
       "    <tr>\n",
       "      <th>9</th>\n",
       "      <td>International?</td>\n",
       "      <td>False</td>\n",
       "      <td>10.0</td>\n",
       "      <td>0.0</td>\n",
       "      <td>=B11*C11</td>\n",
       "    </tr>\n",
       "    <tr>\n",
       "      <th>10</th>\n",
       "      <td>Simulation?</td>\n",
       "      <td>0</td>\n",
       "      <td>10.0</td>\n",
       "      <td>0.0</td>\n",
       "      <td>=B12*C12</td>\n",
       "    </tr>\n",
       "    <tr>\n",
       "      <th>11</th>\n",
       "      <td>Constant</td>\n",
       "      <td>1</td>\n",
       "      <td>-5.0</td>\n",
       "      <td>-5.0</td>\n",
       "      <td>=B13*C13</td>\n",
       "    </tr>\n",
       "    <tr>\n",
       "      <th>0</th>\n",
       "      <td>Total score (50-100=low risk, 0-40=high risk)</td>\n",
       "      <td>NaN</td>\n",
       "      <td>NaN</td>\n",
       "      <td>10</td>\n",
       "      <td>=MIN(100,SUM(D7:D13))</td>\n",
       "    </tr>\n",
       "    <tr>\n",
       "      <th>0</th>\n",
       "      <td>Risk level</td>\n",
       "      <td>NaN</td>\n",
       "      <td>NaN</td>\n",
       "      <td>HIGH</td>\n",
       "      <td>=IF(D14&gt;=50,\"LOW\",IF(D14&gt;=40,\"MEDIUM\",\"HIGH\"))</td>\n",
       "    </tr>\n",
       "  </tbody>\n",
       "</table>\n",
       "</div>"
      ],
      "text/plain": [
       "                                            Parameter  Value  Weight Score  \\\n",
       "0                      HIV-HIV-2018-IMPAACT-P1112.pdf   None     NaN   NaN   \n",
       "1                              Trial is for condition    HIV     NaN   NaN   \n",
       "2                                  Number of subjects     79     NaN   NaN   \n",
       "3   Lower tertile number of subjects for phase and...   40.0     NaN   NaN   \n",
       "4   Upper tertile number of subjects for phase and...  130.0     NaN   NaN   \n",
       "5                                         Trial phase    1.0     5.0   5.0   \n",
       "6                                      SAP completed?      0    30.0   0.0   \n",
       "7                          Effect Estimate disclosed?      0    20.0   0.0   \n",
       "8                  Number of subjects low/medium/high      1    10.0  10.0   \n",
       "9                                      International?  False    10.0   0.0   \n",
       "10                                        Simulation?      0    10.0   0.0   \n",
       "11                                           Constant      1    -5.0  -5.0   \n",
       "0       Total score (50-100=low risk, 0-40=high risk)    NaN     NaN    10   \n",
       "0                                          Risk level    NaN     NaN  HIGH   \n",
       "\n",
       "                                     Excel Formula  \n",
       "0                                             None  \n",
       "1                                             None  \n",
       "2                                             None  \n",
       "3                                             None  \n",
       "4                                             None  \n",
       "5                                           =B7*C7  \n",
       "6                                           =B8*C8  \n",
       "7                                           =B9*C9  \n",
       "8                                         =B10*C10  \n",
       "9                                         =B11*C11  \n",
       "10                                        =B12*C12  \n",
       "11                                        =B13*C13  \n",
       "0                            =MIN(100,SUM(D7:D13))  \n",
       "0   =IF(D14>=50,\"LOW\",IF(D14>=40,\"MEDIUM\",\"HIGH\"))  "
      ]
     },
     "metadata": {},
     "output_type": "display_data"
    },
    {
     "data": {
      "text/html": [
       "<div>\n",
       "<style scoped>\n",
       "    .dataframe tbody tr th:only-of-type {\n",
       "        vertical-align: middle;\n",
       "    }\n",
       "\n",
       "    .dataframe tbody tr th {\n",
       "        vertical-align: top;\n",
       "    }\n",
       "\n",
       "    .dataframe thead th {\n",
       "        text-align: right;\n",
       "    }\n",
       "</style>\n",
       "<table border=\"1\" class=\"dataframe\">\n",
       "  <thead>\n",
       "    <tr style=\"text-align: right;\">\n",
       "      <th></th>\n",
       "      <th>Parameter</th>\n",
       "      <th>Value</th>\n",
       "      <th>Weight</th>\n",
       "      <th>Score</th>\n",
       "      <th>Excel Formula</th>\n",
       "    </tr>\n",
       "  </thead>\n",
       "  <tbody>\n",
       "    <tr>\n",
       "      <th>0</th>\n",
       "      <td>HIV-HIV-2018-GSK1265744.pdf</td>\n",
       "      <td>None</td>\n",
       "      <td>NaN</td>\n",
       "      <td>NaN</td>\n",
       "      <td>None</td>\n",
       "    </tr>\n",
       "    <tr>\n",
       "      <th>1</th>\n",
       "      <td>Trial is for condition</td>\n",
       "      <td>HIV</td>\n",
       "      <td>NaN</td>\n",
       "      <td>NaN</td>\n",
       "      <td>None</td>\n",
       "    </tr>\n",
       "    <tr>\n",
       "      <th>2</th>\n",
       "      <td>Number of subjects</td>\n",
       "      <td>60</td>\n",
       "      <td>NaN</td>\n",
       "      <td>NaN</td>\n",
       "      <td>None</td>\n",
       "    </tr>\n",
       "    <tr>\n",
       "      <th>3</th>\n",
       "      <td>Lower tertile number of subjects for phase and...</td>\n",
       "      <td>40.0</td>\n",
       "      <td>NaN</td>\n",
       "      <td>NaN</td>\n",
       "      <td>None</td>\n",
       "    </tr>\n",
       "    <tr>\n",
       "      <th>4</th>\n",
       "      <td>Upper tertile number of subjects for phase and...</td>\n",
       "      <td>130.0</td>\n",
       "      <td>NaN</td>\n",
       "      <td>NaN</td>\n",
       "      <td>None</td>\n",
       "    </tr>\n",
       "    <tr>\n",
       "      <th>5</th>\n",
       "      <td>Trial phase</td>\n",
       "      <td>1.0</td>\n",
       "      <td>5.0</td>\n",
       "      <td>5.0</td>\n",
       "      <td>=B7*C7</td>\n",
       "    </tr>\n",
       "    <tr>\n",
       "      <th>6</th>\n",
       "      <td>SAP completed?</td>\n",
       "      <td>0</td>\n",
       "      <td>30.0</td>\n",
       "      <td>0.0</td>\n",
       "      <td>=B8*C8</td>\n",
       "    </tr>\n",
       "    <tr>\n",
       "      <th>7</th>\n",
       "      <td>Effect Estimate disclosed?</td>\n",
       "      <td>0</td>\n",
       "      <td>20.0</td>\n",
       "      <td>0.0</td>\n",
       "      <td>=B9*C9</td>\n",
       "    </tr>\n",
       "    <tr>\n",
       "      <th>8</th>\n",
       "      <td>Number of subjects low/medium/high</td>\n",
       "      <td>1</td>\n",
       "      <td>10.0</td>\n",
       "      <td>10.0</td>\n",
       "      <td>=B10*C10</td>\n",
       "    </tr>\n",
       "    <tr>\n",
       "      <th>9</th>\n",
       "      <td>International?</td>\n",
       "      <td>False</td>\n",
       "      <td>10.0</td>\n",
       "      <td>0.0</td>\n",
       "      <td>=B11*C11</td>\n",
       "    </tr>\n",
       "    <tr>\n",
       "      <th>10</th>\n",
       "      <td>Simulation?</td>\n",
       "      <td>0</td>\n",
       "      <td>10.0</td>\n",
       "      <td>0.0</td>\n",
       "      <td>=B12*C12</td>\n",
       "    </tr>\n",
       "    <tr>\n",
       "      <th>11</th>\n",
       "      <td>Constant</td>\n",
       "      <td>1</td>\n",
       "      <td>-5.0</td>\n",
       "      <td>-5.0</td>\n",
       "      <td>=B13*C13</td>\n",
       "    </tr>\n",
       "    <tr>\n",
       "      <th>0</th>\n",
       "      <td>Total score (50-100=low risk, 0-40=high risk)</td>\n",
       "      <td>NaN</td>\n",
       "      <td>NaN</td>\n",
       "      <td>10</td>\n",
       "      <td>=MIN(100,SUM(D7:D13))</td>\n",
       "    </tr>\n",
       "    <tr>\n",
       "      <th>0</th>\n",
       "      <td>Risk level</td>\n",
       "      <td>NaN</td>\n",
       "      <td>NaN</td>\n",
       "      <td>HIGH</td>\n",
       "      <td>=IF(D14&gt;=50,\"LOW\",IF(D14&gt;=40,\"MEDIUM\",\"HIGH\"))</td>\n",
       "    </tr>\n",
       "  </tbody>\n",
       "</table>\n",
       "</div>"
      ],
      "text/plain": [
       "                                            Parameter  Value  Weight Score  \\\n",
       "0                         HIV-HIV-2018-GSK1265744.pdf   None     NaN   NaN   \n",
       "1                              Trial is for condition    HIV     NaN   NaN   \n",
       "2                                  Number of subjects     60     NaN   NaN   \n",
       "3   Lower tertile number of subjects for phase and...   40.0     NaN   NaN   \n",
       "4   Upper tertile number of subjects for phase and...  130.0     NaN   NaN   \n",
       "5                                         Trial phase    1.0     5.0   5.0   \n",
       "6                                      SAP completed?      0    30.0   0.0   \n",
       "7                          Effect Estimate disclosed?      0    20.0   0.0   \n",
       "8                  Number of subjects low/medium/high      1    10.0  10.0   \n",
       "9                                      International?  False    10.0   0.0   \n",
       "10                                        Simulation?      0    10.0   0.0   \n",
       "11                                           Constant      1    -5.0  -5.0   \n",
       "0       Total score (50-100=low risk, 0-40=high risk)    NaN     NaN    10   \n",
       "0                                          Risk level    NaN     NaN  HIGH   \n",
       "\n",
       "                                     Excel Formula  \n",
       "0                                             None  \n",
       "1                                             None  \n",
       "2                                             None  \n",
       "3                                             None  \n",
       "4                                             None  \n",
       "5                                           =B7*C7  \n",
       "6                                           =B8*C8  \n",
       "7                                           =B9*C9  \n",
       "8                                         =B10*C10  \n",
       "9                                         =B11*C11  \n",
       "10                                        =B12*C12  \n",
       "11                                        =B13*C13  \n",
       "0                            =MIN(100,SUM(D7:D13))  \n",
       "0   =IF(D14>=50,\"LOW\",IF(D14>=40,\"MEDIUM\",\"HIGH\"))  "
      ]
     },
     "metadata": {},
     "output_type": "display_data"
    },
    {
     "data": {
      "text/html": [
       "<div>\n",
       "<style scoped>\n",
       "    .dataframe tbody tr th:only-of-type {\n",
       "        vertical-align: middle;\n",
       "    }\n",
       "\n",
       "    .dataframe tbody tr th {\n",
       "        vertical-align: top;\n",
       "    }\n",
       "\n",
       "    .dataframe thead th {\n",
       "        text-align: right;\n",
       "    }\n",
       "</style>\n",
       "<table border=\"1\" class=\"dataframe\">\n",
       "  <thead>\n",
       "    <tr style=\"text-align: right;\">\n",
       "      <th></th>\n",
       "      <th>Parameter</th>\n",
       "      <th>Value</th>\n",
       "      <th>Weight</th>\n",
       "      <th>Score</th>\n",
       "      <th>Excel Formula</th>\n",
       "    </tr>\n",
       "  </thead>\n",
       "  <tbody>\n",
       "    <tr>\n",
       "      <th>0</th>\n",
       "      <td>TB-TB-2018-Piazza-A Phase 1b, Randomized, Doub...</td>\n",
       "      <td>None</td>\n",
       "      <td>NaN</td>\n",
       "      <td>NaN</td>\n",
       "      <td>None</td>\n",
       "    </tr>\n",
       "    <tr>\n",
       "      <th>1</th>\n",
       "      <td>Trial is for condition</td>\n",
       "      <td>TB</td>\n",
       "      <td>NaN</td>\n",
       "      <td>NaN</td>\n",
       "      <td>None</td>\n",
       "    </tr>\n",
       "    <tr>\n",
       "      <th>2</th>\n",
       "      <td>Number of subjects</td>\n",
       "      <td>66</td>\n",
       "      <td>NaN</td>\n",
       "      <td>NaN</td>\n",
       "      <td>None</td>\n",
       "    </tr>\n",
       "    <tr>\n",
       "      <th>3</th>\n",
       "      <td>Lower tertile number of subjects for phase and...</td>\n",
       "      <td>30.0</td>\n",
       "      <td>NaN</td>\n",
       "      <td>NaN</td>\n",
       "      <td>None</td>\n",
       "    </tr>\n",
       "    <tr>\n",
       "      <th>4</th>\n",
       "      <td>Upper tertile number of subjects for phase and...</td>\n",
       "      <td>60.0</td>\n",
       "      <td>NaN</td>\n",
       "      <td>NaN</td>\n",
       "      <td>None</td>\n",
       "    </tr>\n",
       "    <tr>\n",
       "      <th>5</th>\n",
       "      <td>Trial phase</td>\n",
       "      <td>1.0</td>\n",
       "      <td>5.0</td>\n",
       "      <td>5.0</td>\n",
       "      <td>=B7*C7</td>\n",
       "    </tr>\n",
       "    <tr>\n",
       "      <th>6</th>\n",
       "      <td>SAP completed?</td>\n",
       "      <td>0</td>\n",
       "      <td>30.0</td>\n",
       "      <td>0.0</td>\n",
       "      <td>=B8*C8</td>\n",
       "    </tr>\n",
       "    <tr>\n",
       "      <th>7</th>\n",
       "      <td>Effect Estimate disclosed?</td>\n",
       "      <td>0</td>\n",
       "      <td>20.0</td>\n",
       "      <td>0.0</td>\n",
       "      <td>=B9*C9</td>\n",
       "    </tr>\n",
       "    <tr>\n",
       "      <th>8</th>\n",
       "      <td>Number of subjects low/medium/high</td>\n",
       "      <td>2</td>\n",
       "      <td>10.0</td>\n",
       "      <td>20.0</td>\n",
       "      <td>=B10*C10</td>\n",
       "    </tr>\n",
       "    <tr>\n",
       "      <th>9</th>\n",
       "      <td>International?</td>\n",
       "      <td>False</td>\n",
       "      <td>10.0</td>\n",
       "      <td>0.0</td>\n",
       "      <td>=B11*C11</td>\n",
       "    </tr>\n",
       "    <tr>\n",
       "      <th>10</th>\n",
       "      <td>Simulation?</td>\n",
       "      <td>0</td>\n",
       "      <td>10.0</td>\n",
       "      <td>0.0</td>\n",
       "      <td>=B12*C12</td>\n",
       "    </tr>\n",
       "    <tr>\n",
       "      <th>11</th>\n",
       "      <td>Constant</td>\n",
       "      <td>1</td>\n",
       "      <td>-5.0</td>\n",
       "      <td>-5.0</td>\n",
       "      <td>=B13*C13</td>\n",
       "    </tr>\n",
       "    <tr>\n",
       "      <th>0</th>\n",
       "      <td>Total score (50-100=low risk, 0-40=high risk)</td>\n",
       "      <td>NaN</td>\n",
       "      <td>NaN</td>\n",
       "      <td>20</td>\n",
       "      <td>=MIN(100,SUM(D7:D13))</td>\n",
       "    </tr>\n",
       "    <tr>\n",
       "      <th>0</th>\n",
       "      <td>Risk level</td>\n",
       "      <td>NaN</td>\n",
       "      <td>NaN</td>\n",
       "      <td>HIGH</td>\n",
       "      <td>=IF(D14&gt;=50,\"LOW\",IF(D14&gt;=40,\"MEDIUM\",\"HIGH\"))</td>\n",
       "    </tr>\n",
       "  </tbody>\n",
       "</table>\n",
       "</div>"
      ],
      "text/plain": [
       "                                            Parameter  Value  Weight Score  \\\n",
       "0   TB-TB-2018-Piazza-A Phase 1b, Randomized, Doub...   None     NaN   NaN   \n",
       "1                              Trial is for condition     TB     NaN   NaN   \n",
       "2                                  Number of subjects     66     NaN   NaN   \n",
       "3   Lower tertile number of subjects for phase and...   30.0     NaN   NaN   \n",
       "4   Upper tertile number of subjects for phase and...   60.0     NaN   NaN   \n",
       "5                                         Trial phase    1.0     5.0   5.0   \n",
       "6                                      SAP completed?      0    30.0   0.0   \n",
       "7                          Effect Estimate disclosed?      0    20.0   0.0   \n",
       "8                  Number of subjects low/medium/high      2    10.0  20.0   \n",
       "9                                      International?  False    10.0   0.0   \n",
       "10                                        Simulation?      0    10.0   0.0   \n",
       "11                                           Constant      1    -5.0  -5.0   \n",
       "0       Total score (50-100=low risk, 0-40=high risk)    NaN     NaN    20   \n",
       "0                                          Risk level    NaN     NaN  HIGH   \n",
       "\n",
       "                                     Excel Formula  \n",
       "0                                             None  \n",
       "1                                             None  \n",
       "2                                             None  \n",
       "3                                             None  \n",
       "4                                             None  \n",
       "5                                           =B7*C7  \n",
       "6                                           =B8*C8  \n",
       "7                                           =B9*C9  \n",
       "8                                         =B10*C10  \n",
       "9                                         =B11*C11  \n",
       "10                                        =B12*C12  \n",
       "11                                        =B13*C13  \n",
       "0                            =MIN(100,SUM(D7:D13))  \n",
       "0   =IF(D14>=50,\"LOW\",IF(D14>=40,\"MEDIUM\",\"HIGH\"))  "
      ]
     },
     "metadata": {},
     "output_type": "display_data"
    },
    {
     "data": {
      "text/html": [
       "<div>\n",
       "<style scoped>\n",
       "    .dataframe tbody tr th:only-of-type {\n",
       "        vertical-align: middle;\n",
       "    }\n",
       "\n",
       "    .dataframe tbody tr th {\n",
       "        vertical-align: top;\n",
       "    }\n",
       "\n",
       "    .dataframe thead th {\n",
       "        text-align: right;\n",
       "    }\n",
       "</style>\n",
       "<table border=\"1\" class=\"dataframe\">\n",
       "  <thead>\n",
       "    <tr style=\"text-align: right;\">\n",
       "      <th></th>\n",
       "      <th>Parameter</th>\n",
       "      <th>Value</th>\n",
       "      <th>Weight</th>\n",
       "      <th>Score</th>\n",
       "      <th>Excel Formula</th>\n",
       "    </tr>\n",
       "  </thead>\n",
       "  <tbody>\n",
       "    <tr>\n",
       "      <th>0</th>\n",
       "      <td>HIV-HIV-2017-Corey-HVTN703-HPTN081.pdf</td>\n",
       "      <td>None</td>\n",
       "      <td>NaN</td>\n",
       "      <td>NaN</td>\n",
       "      <td>None</td>\n",
       "    </tr>\n",
       "    <tr>\n",
       "      <th>1</th>\n",
       "      <td>Trial is for condition</td>\n",
       "      <td>HIV</td>\n",
       "      <td>NaN</td>\n",
       "      <td>NaN</td>\n",
       "      <td>None</td>\n",
       "    </tr>\n",
       "    <tr>\n",
       "      <th>2</th>\n",
       "      <td>Number of subjects</td>\n",
       "      <td>1900</td>\n",
       "      <td>NaN</td>\n",
       "      <td>NaN</td>\n",
       "      <td>None</td>\n",
       "    </tr>\n",
       "    <tr>\n",
       "      <th>3</th>\n",
       "      <td>Lower tertile number of subjects for phase and...</td>\n",
       "      <td>40.0</td>\n",
       "      <td>NaN</td>\n",
       "      <td>NaN</td>\n",
       "      <td>None</td>\n",
       "    </tr>\n",
       "    <tr>\n",
       "      <th>4</th>\n",
       "      <td>Upper tertile number of subjects for phase and...</td>\n",
       "      <td>130.0</td>\n",
       "      <td>NaN</td>\n",
       "      <td>NaN</td>\n",
       "      <td>None</td>\n",
       "    </tr>\n",
       "    <tr>\n",
       "      <th>5</th>\n",
       "      <td>Trial phase</td>\n",
       "      <td>1.0</td>\n",
       "      <td>5.0</td>\n",
       "      <td>5.0</td>\n",
       "      <td>=B7*C7</td>\n",
       "    </tr>\n",
       "    <tr>\n",
       "      <th>6</th>\n",
       "      <td>SAP completed?</td>\n",
       "      <td>1</td>\n",
       "      <td>30.0</td>\n",
       "      <td>30.0</td>\n",
       "      <td>=B8*C8</td>\n",
       "    </tr>\n",
       "    <tr>\n",
       "      <th>7</th>\n",
       "      <td>Effect Estimate disclosed?</td>\n",
       "      <td>1</td>\n",
       "      <td>20.0</td>\n",
       "      <td>20.0</td>\n",
       "      <td>=B9*C9</td>\n",
       "    </tr>\n",
       "    <tr>\n",
       "      <th>8</th>\n",
       "      <td>Number of subjects low/medium/high</td>\n",
       "      <td>2</td>\n",
       "      <td>10.0</td>\n",
       "      <td>20.0</td>\n",
       "      <td>=B10*C10</td>\n",
       "    </tr>\n",
       "    <tr>\n",
       "      <th>9</th>\n",
       "      <td>International?</td>\n",
       "      <td>False</td>\n",
       "      <td>10.0</td>\n",
       "      <td>0.0</td>\n",
       "      <td>=B11*C11</td>\n",
       "    </tr>\n",
       "    <tr>\n",
       "      <th>10</th>\n",
       "      <td>Simulation?</td>\n",
       "      <td>1</td>\n",
       "      <td>10.0</td>\n",
       "      <td>10.0</td>\n",
       "      <td>=B12*C12</td>\n",
       "    </tr>\n",
       "    <tr>\n",
       "      <th>11</th>\n",
       "      <td>Constant</td>\n",
       "      <td>1</td>\n",
       "      <td>-5.0</td>\n",
       "      <td>-5.0</td>\n",
       "      <td>=B13*C13</td>\n",
       "    </tr>\n",
       "    <tr>\n",
       "      <th>0</th>\n",
       "      <td>Total score (50-100=low risk, 0-40=high risk)</td>\n",
       "      <td>NaN</td>\n",
       "      <td>NaN</td>\n",
       "      <td>80</td>\n",
       "      <td>=MIN(100,SUM(D7:D13))</td>\n",
       "    </tr>\n",
       "    <tr>\n",
       "      <th>0</th>\n",
       "      <td>Risk level</td>\n",
       "      <td>NaN</td>\n",
       "      <td>NaN</td>\n",
       "      <td>LOW</td>\n",
       "      <td>=IF(D14&gt;=50,\"LOW\",IF(D14&gt;=40,\"MEDIUM\",\"HIGH\"))</td>\n",
       "    </tr>\n",
       "  </tbody>\n",
       "</table>\n",
       "</div>"
      ],
      "text/plain": [
       "                                            Parameter  Value  Weight Score  \\\n",
       "0              HIV-HIV-2017-Corey-HVTN703-HPTN081.pdf   None     NaN   NaN   \n",
       "1                              Trial is for condition    HIV     NaN   NaN   \n",
       "2                                  Number of subjects   1900     NaN   NaN   \n",
       "3   Lower tertile number of subjects for phase and...   40.0     NaN   NaN   \n",
       "4   Upper tertile number of subjects for phase and...  130.0     NaN   NaN   \n",
       "5                                         Trial phase    1.0     5.0   5.0   \n",
       "6                                      SAP completed?      1    30.0  30.0   \n",
       "7                          Effect Estimate disclosed?      1    20.0  20.0   \n",
       "8                  Number of subjects low/medium/high      2    10.0  20.0   \n",
       "9                                      International?  False    10.0   0.0   \n",
       "10                                        Simulation?      1    10.0  10.0   \n",
       "11                                           Constant      1    -5.0  -5.0   \n",
       "0       Total score (50-100=low risk, 0-40=high risk)    NaN     NaN    80   \n",
       "0                                          Risk level    NaN     NaN   LOW   \n",
       "\n",
       "                                     Excel Formula  \n",
       "0                                             None  \n",
       "1                                             None  \n",
       "2                                             None  \n",
       "3                                             None  \n",
       "4                                             None  \n",
       "5                                           =B7*C7  \n",
       "6                                           =B8*C8  \n",
       "7                                           =B9*C9  \n",
       "8                                         =B10*C10  \n",
       "9                                         =B11*C11  \n",
       "10                                        =B12*C12  \n",
       "11                                        =B13*C13  \n",
       "0                            =MIN(100,SUM(D7:D13))  \n",
       "0   =IF(D14>=50,\"LOW\",IF(D14>=40,\"MEDIUM\",\"HIGH\"))  "
      ]
     },
     "metadata": {},
     "output_type": "display_data"
    },
    {
     "data": {
      "text/html": [
       "<div>\n",
       "<style scoped>\n",
       "    .dataframe tbody tr th:only-of-type {\n",
       "        vertical-align: middle;\n",
       "    }\n",
       "\n",
       "    .dataframe tbody tr th {\n",
       "        vertical-align: top;\n",
       "    }\n",
       "\n",
       "    .dataframe thead th {\n",
       "        text-align: right;\n",
       "    }\n",
       "</style>\n",
       "<table border=\"1\" class=\"dataframe\">\n",
       "  <thead>\n",
       "    <tr style=\"text-align: right;\">\n",
       "      <th></th>\n",
       "      <th>Parameter</th>\n",
       "      <th>Value</th>\n",
       "      <th>Weight</th>\n",
       "      <th>Score</th>\n",
       "      <th>Excel Formula</th>\n",
       "    </tr>\n",
       "  </thead>\n",
       "  <tbody>\n",
       "    <tr>\n",
       "      <th>0</th>\n",
       "      <td>HIV-HIV-2017-Bekker-HVTN100.pdf</td>\n",
       "      <td>None</td>\n",
       "      <td>NaN</td>\n",
       "      <td>NaN</td>\n",
       "      <td>None</td>\n",
       "    </tr>\n",
       "    <tr>\n",
       "      <th>1</th>\n",
       "      <td>Trial is for condition</td>\n",
       "      <td>HIV</td>\n",
       "      <td>NaN</td>\n",
       "      <td>NaN</td>\n",
       "      <td>None</td>\n",
       "    </tr>\n",
       "    <tr>\n",
       "      <th>2</th>\n",
       "      <td>Number of subjects</td>\n",
       "      <td>252</td>\n",
       "      <td>NaN</td>\n",
       "      <td>NaN</td>\n",
       "      <td>None</td>\n",
       "    </tr>\n",
       "    <tr>\n",
       "      <th>3</th>\n",
       "      <td>Lower tertile number of subjects for phase and...</td>\n",
       "      <td>40.0</td>\n",
       "      <td>NaN</td>\n",
       "      <td>NaN</td>\n",
       "      <td>None</td>\n",
       "    </tr>\n",
       "    <tr>\n",
       "      <th>4</th>\n",
       "      <td>Upper tertile number of subjects for phase and...</td>\n",
       "      <td>130.0</td>\n",
       "      <td>NaN</td>\n",
       "      <td>NaN</td>\n",
       "      <td>None</td>\n",
       "    </tr>\n",
       "    <tr>\n",
       "      <th>5</th>\n",
       "      <td>Trial phase</td>\n",
       "      <td>1.0</td>\n",
       "      <td>5.0</td>\n",
       "      <td>5.0</td>\n",
       "      <td>=B7*C7</td>\n",
       "    </tr>\n",
       "    <tr>\n",
       "      <th>6</th>\n",
       "      <td>SAP completed?</td>\n",
       "      <td>0</td>\n",
       "      <td>30.0</td>\n",
       "      <td>0.0</td>\n",
       "      <td>=B8*C8</td>\n",
       "    </tr>\n",
       "    <tr>\n",
       "      <th>7</th>\n",
       "      <td>Effect Estimate disclosed?</td>\n",
       "      <td>1</td>\n",
       "      <td>20.0</td>\n",
       "      <td>20.0</td>\n",
       "      <td>=B9*C9</td>\n",
       "    </tr>\n",
       "    <tr>\n",
       "      <th>8</th>\n",
       "      <td>Number of subjects low/medium/high</td>\n",
       "      <td>2</td>\n",
       "      <td>10.0</td>\n",
       "      <td>20.0</td>\n",
       "      <td>=B10*C10</td>\n",
       "    </tr>\n",
       "    <tr>\n",
       "      <th>9</th>\n",
       "      <td>International?</td>\n",
       "      <td>False</td>\n",
       "      <td>10.0</td>\n",
       "      <td>0.0</td>\n",
       "      <td>=B11*C11</td>\n",
       "    </tr>\n",
       "    <tr>\n",
       "      <th>10</th>\n",
       "      <td>Simulation?</td>\n",
       "      <td>1</td>\n",
       "      <td>10.0</td>\n",
       "      <td>10.0</td>\n",
       "      <td>=B12*C12</td>\n",
       "    </tr>\n",
       "    <tr>\n",
       "      <th>11</th>\n",
       "      <td>Constant</td>\n",
       "      <td>1</td>\n",
       "      <td>-5.0</td>\n",
       "      <td>-5.0</td>\n",
       "      <td>=B13*C13</td>\n",
       "    </tr>\n",
       "    <tr>\n",
       "      <th>0</th>\n",
       "      <td>Total score (50-100=low risk, 0-40=high risk)</td>\n",
       "      <td>NaN</td>\n",
       "      <td>NaN</td>\n",
       "      <td>50</td>\n",
       "      <td>=MIN(100,SUM(D7:D13))</td>\n",
       "    </tr>\n",
       "    <tr>\n",
       "      <th>0</th>\n",
       "      <td>Risk level</td>\n",
       "      <td>NaN</td>\n",
       "      <td>NaN</td>\n",
       "      <td>LOW</td>\n",
       "      <td>=IF(D14&gt;=50,\"LOW\",IF(D14&gt;=40,\"MEDIUM\",\"HIGH\"))</td>\n",
       "    </tr>\n",
       "  </tbody>\n",
       "</table>\n",
       "</div>"
      ],
      "text/plain": [
       "                                            Parameter  Value  Weight Score  \\\n",
       "0                     HIV-HIV-2017-Bekker-HVTN100.pdf   None     NaN   NaN   \n",
       "1                              Trial is for condition    HIV     NaN   NaN   \n",
       "2                                  Number of subjects    252     NaN   NaN   \n",
       "3   Lower tertile number of subjects for phase and...   40.0     NaN   NaN   \n",
       "4   Upper tertile number of subjects for phase and...  130.0     NaN   NaN   \n",
       "5                                         Trial phase    1.0     5.0   5.0   \n",
       "6                                      SAP completed?      0    30.0   0.0   \n",
       "7                          Effect Estimate disclosed?      1    20.0  20.0   \n",
       "8                  Number of subjects low/medium/high      2    10.0  20.0   \n",
       "9                                      International?  False    10.0   0.0   \n",
       "10                                        Simulation?      1    10.0  10.0   \n",
       "11                                           Constant      1    -5.0  -5.0   \n",
       "0       Total score (50-100=low risk, 0-40=high risk)    NaN     NaN    50   \n",
       "0                                          Risk level    NaN     NaN   LOW   \n",
       "\n",
       "                                     Excel Formula  \n",
       "0                                             None  \n",
       "1                                             None  \n",
       "2                                             None  \n",
       "3                                             None  \n",
       "4                                             None  \n",
       "5                                           =B7*C7  \n",
       "6                                           =B8*C8  \n",
       "7                                           =B9*C9  \n",
       "8                                         =B10*C10  \n",
       "9                                         =B11*C11  \n",
       "10                                        =B12*C12  \n",
       "11                                        =B13*C13  \n",
       "0                            =MIN(100,SUM(D7:D13))  \n",
       "0   =IF(D14>=50,\"LOW\",IF(D14>=40,\"MEDIUM\",\"HIGH\"))  "
      ]
     },
     "metadata": {},
     "output_type": "display_data"
    },
    {
     "ename": "TypeError",
     "evalue": "'>' not supported between instances of 'int' and 'NoneType'",
     "output_type": "error",
     "traceback": [
      "\u001b[0;31m---------------------------------------------------------------------------\u001b[0m",
      "\u001b[0;31mTypeError\u001b[0m                                 Traceback (most recent call last)",
      "\u001b[0;32m/tmp/ipykernel_4939/1860906614.py\u001b[0m in \u001b[0;36m<module>\u001b[0;34m\u001b[0m\n\u001b[1;32m     33\u001b[0m \u001b[0;34m\u001b[0m\u001b[0m\n\u001b[1;32m     34\u001b[0m \u001b[0;34m\u001b[0m\u001b[0m\n\u001b[0;32m---> 35\u001b[0;31m     total_score, df, desc = calculate_risk_level(file_name, condition, phase, sap, effect_estimate, num_subjects_and_tertile,\n\u001b[0m\u001b[1;32m     36\u001b[0m                                                is_international, simulation)\n\u001b[1;32m     37\u001b[0m \u001b[0;34m\u001b[0m\u001b[0m\n",
      "\u001b[0;32m/media/thomas/642d0db5-2c98-4156-b591-1a3572c5868c/projects_client/protocol_analysis_tool_2/front_end/util/risk_assessor.py\u001b[0m in \u001b[0;36mcalculate_risk_level\u001b[0;34m(file_name, condition, phase, sap, effect_estimate, num_subjects_and_tertile, is_international, simulation)\u001b[0m\n\u001b[1;32m     63\u001b[0m                    \u001b[0mlower_tertile\u001b[0m\u001b[0;34m,\u001b[0m\u001b[0;34m\u001b[0m\u001b[0;34m\u001b[0m\u001b[0m\n\u001b[1;32m     64\u001b[0m                    \u001b[0mupper_tertile\u001b[0m\u001b[0;34m,\u001b[0m\u001b[0;34m\u001b[0m\u001b[0;34m\u001b[0m\u001b[0m\n\u001b[0;32m---> 65\u001b[0;31m                    \u001b[0mmax\u001b[0m\u001b[0;34m(\u001b[0m\u001b[0;34m(\u001b[0m\u001b[0mphase\u001b[0m\u001b[0;34m,\u001b[0m \u001b[0;36m0\u001b[0m\u001b[0;34m)\u001b[0m\u001b[0;34m)\u001b[0m\u001b[0;34m,\u001b[0m\u001b[0;34m\u001b[0m\u001b[0;34m\u001b[0m\u001b[0m\n\u001b[0m\u001b[1;32m     66\u001b[0m                    \u001b[0mmax\u001b[0m\u001b[0;34m(\u001b[0m\u001b[0;34m(\u001b[0m\u001b[0msap\u001b[0m\u001b[0;34m,\u001b[0m \u001b[0;36m0\u001b[0m\u001b[0;34m)\u001b[0m\u001b[0;34m)\u001b[0m\u001b[0;34m,\u001b[0m\u001b[0;34m\u001b[0m\u001b[0;34m\u001b[0m\u001b[0m\n\u001b[1;32m     67\u001b[0m                    \u001b[0mmax\u001b[0m\u001b[0;34m(\u001b[0m\u001b[0;34m(\u001b[0m\u001b[0meffect_estimate\u001b[0m\u001b[0;34m,\u001b[0m \u001b[0;36m0\u001b[0m\u001b[0;34m)\u001b[0m\u001b[0;34m)\u001b[0m\u001b[0;34m,\u001b[0m\u001b[0;34m\u001b[0m\u001b[0;34m\u001b[0m\u001b[0m\n",
      "\u001b[0;31mTypeError\u001b[0m: '>' not supported between instances of 'int' and 'NoneType'"
     ]
    }
   ],
   "source": [
    "files = []\n",
    "complexities = []\n",
    "levels = []\n",
    "dataframes = []\n",
    "\n",
    "for file_name, pages in file_to_text.items():\n",
    "    \n",
    "    if not (\"HIV\" in file_name or \"TB\" in file_name):\n",
    "        continue\n",
    "    \n",
    "    condition = file_to_results[file_name][0]['prediction']\n",
    "    phase = file_to_results[file_name][1]['prediction']\n",
    "    sap = file_to_results[file_name][2]['prediction']\n",
    "    effect_estimate = file_to_results[file_name][3]['prediction']\n",
    "    num_subjects = file_to_results[file_name][4]['prediction']\n",
    "    is_international = len(file_to_results[file_name][5]['prediction']) > 1\n",
    "    simulation = file_to_results[file_name][6]['prediction']\n",
    "    \n",
    "    if phase is None:\n",
    "        continue\n",
    "    \n",
    "    if condition in [\"HIV\", \"TB\"]:\n",
    "        lower_tertile, upper_tertile = get_tertile(tertile_provider, condition, phase)\n",
    "    else:\n",
    "        lower_tertile, upper_tertile = get_tertile(tertile_provider, \"HIV\", phase)\n",
    "    if num_subjects > upper_tertile:\n",
    "        tertile = 2\n",
    "    elif num_subjects > lower_tertile:\n",
    "        tertile = 1\n",
    "    else:\n",
    "        tertile = 0\n",
    "    num_subjects_and_tertile = (num_subjects, tertile, lower_tertile, upper_tertile)\n",
    "    \n",
    "        \n",
    "    total_score, df, desc = calculate_risk_level(file_name, condition, phase, sap, effect_estimate, num_subjects_and_tertile,\n",
    "                                               is_international, simulation)\n",
    "    \n",
    "    \n",
    "    display(df)\n",
    "    \n",
    "    dataframes.append(df)\n",
    "    \n",
    "    if total_score < SCORE_LOWER_TERTILE:\n",
    "        level = \"high\"\n",
    "    elif total_score < SCORE_UPPER_TERTILE:\n",
    "        level = \"medium\"\n",
    "    else:\n",
    "        level = \"low\"\n",
    "    \n",
    "    files.append(file_name)\n",
    "    complexities.append(total_score)\n",
    "    levels.append(level)\n",
    "    \n",
    "\n",
    "df_complexities = pd.DataFrame({\"file\":files,\"complexity\":complexities, \"level\":levels})"
   ]
  },
  {
   "cell_type": "code",
   "execution_count": null,
   "id": "36361ceb",
   "metadata": {},
   "outputs": [],
   "source": [
    "df_all_parameters = pd.DataFrame()\n",
    "col = []\n",
    "for df_tmp in dataframes:\n",
    "    col.append(df_tmp.Parameter.iloc[0])\n",
    "col.append(\"WEIGHT\")\n",
    "df_all_parameters[\"File name\"] = col\n",
    "\n",
    "for i in range(1, 10):\n",
    "    col = []\n",
    "    for tmp_df in dataframes:\n",
    "        col.append(tmp_df.Value.iloc[i])\n",
    "    col.append(tmp_df.Weight.iloc[i])\n",
    "        \n",
    "    df_all_parameters[df.Parameter.iloc[i]] = col\n",
    "    \n",
    "formulae = []\n",
    "num_rows = len(df_all_parameters)\n",
    "for i in range(num_rows):\n",
    "    summands = []\n",
    "    for c in [\"E\", \"F\", \"G\", \"H\", \"I\", \"J\"]:\n",
    "        summands.append(f\"{c}{i+2}*${c}{num_rows+1}\")\n",
    "    formulae.append(\"'=\" + \"+\".join(summands))\n",
    "\n",
    "df_all_parameters[\"Total score\"] = formulae"
   ]
  },
  {
   "cell_type": "code",
   "execution_count": null,
   "id": "0a4f59a3",
   "metadata": {},
   "outputs": [],
   "source": [
    "df_all_parameters"
   ]
  },
  {
   "cell_type": "code",
   "execution_count": null,
   "id": "130abee6",
   "metadata": {
    "scrolled": false
   },
   "outputs": [],
   "source": [
    "df_all_parameters.to_excel(\"/tmp/Complexities.xlsx\", index=False)"
   ]
  },
  {
   "cell_type": "code",
   "execution_count": null,
   "id": "b1c32c2a",
   "metadata": {},
   "outputs": [],
   "source": [
    "import matplotlib.pyplot as plt"
   ]
  },
  {
   "cell_type": "code",
   "execution_count": null,
   "id": "ceaf70d8",
   "metadata": {},
   "outputs": [],
   "source": [
    "plt.hist(df_complexities[\"complexity\"])"
   ]
  },
  {
   "cell_type": "code",
   "execution_count": null,
   "id": "006f614a",
   "metadata": {},
   "outputs": [],
   "source": [
    "sns.countplot(x=\"level\", data=df_complexities)\n",
    "plt.xlabel(\"Risk level\")\n",
    "plt.ylabel(\"Count\")"
   ]
  },
  {
   "cell_type": "code",
   "execution_count": null,
   "id": "25088033",
   "metadata": {},
   "outputs": [],
   "source": []
  },
  {
   "cell_type": "code",
   "execution_count": null,
   "id": "e8d78873",
   "metadata": {},
   "outputs": [],
   "source": []
  }
 ],
 "metadata": {
  "kernelspec": {
   "display_name": "protocol",
   "language": "python",
   "name": "protocol"
  },
  "language_info": {
   "codemirror_mode": {
    "name": "ipython",
    "version": 3
   },
   "file_extension": ".py",
   "mimetype": "text/x-python",
   "name": "python",
   "nbconvert_exporter": "python",
   "pygments_lexer": "ipython3",
   "version": "3.9.7"
  }
 },
 "nbformat": 4,
 "nbformat_minor": 5
}
