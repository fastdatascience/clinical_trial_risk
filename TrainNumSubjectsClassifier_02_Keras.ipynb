{
  "cells": [
    {
      "cell_type": "markdown",
      "metadata": {
        "id": "view-in-github",
        "colab_type": "text"
      },
      "source": [
        "<a href=\"https://colab.research.google.com/github/fastdatascience/clinical_trial_risk/blob/fixes_nov_2022/TrainNumSubjectsClassifier_02_Keras.ipynb\" target=\"_parent\"><img src=\"https://colab.research.google.com/assets/colab-badge.svg\" alt=\"Open In Colab\"/></a>"
      ]
    },
    {
      "cell_type": "code",
      "execution_count": 2,
      "id": "ad812236",
      "metadata": {
        "id": "ad812236"
      },
      "outputs": [],
      "source": [
        "import pandas as pd\n",
        "import re\n",
        "import os\n",
        "import sys\n",
        "import pickle as pkl\n",
        "import seaborn as sns\n",
        "from sklearn.metrics import accuracy_score, confusion_matrix\n",
        "from sklearn.metrics import ConfusionMatrixDisplay\n",
        "from sklearn.metrics import mean_absolute_error, mean_squared_error\n",
        "from sklearn.metrics import roc_auc_score\n",
        "from sklearn.metrics import roc_curve, auc\n",
        "from IPython.display import display\n",
        "import matplotlib.pyplot as plt\n",
        "import numpy as np\n",
        "import json\n",
        "\n",
        "# df_annotations = pd.read_csv(\"all_annotations.csv\")\n"
      ]
    },
    {
      "cell_type": "code",
      "source": [],
      "metadata": {
        "id": "2NNBbnc0JzF2"
      },
      "id": "2NNBbnc0JzF2",
      "execution_count": 2,
      "outputs": []
    },
    {
      "cell_type": "markdown",
      "id": "e7ea7d33",
      "metadata": {
        "id": "e7ea7d33"
      },
      "source": [
        "# Get data"
      ]
    },
    {
      "cell_type": "code",
      "execution_count": 3,
      "id": "284b9a07",
      "metadata": {
        "id": "284b9a07"
      },
      "outputs": [],
      "source": [
        "# with open(\"protocols.pkl.gz\", \"rb\") as f:\n",
        "#     file_to_pages = pkl.load(f)"
      ]
    },
    {
      "cell_type": "code",
      "execution_count": 4,
      "id": "91013de0",
      "metadata": {
        "id": "91013de0"
      },
      "outputs": [],
      "source": [
        "# import spacy\n",
        "# nlp = spacy.blank(\"en\")"
      ]
    },
    {
      "cell_type": "code",
      "execution_count": 5,
      "id": "65956b92",
      "metadata": {
        "id": "65956b92",
        "scrolled": true
      },
      "outputs": [],
      "source": [
        "# texts = []\n",
        "\n",
        "# for i in range(len(df_annotations)):\n",
        "#     file_name = df_annotations.file.iloc[i]\n",
        "    \n",
        "#     pages= file_to_pages[file_name]\n",
        "    \n",
        "#     text = \"\"\n",
        "#     for page in pages:\n",
        "#         doc = nlp(page)\n",
        "        \n",
        "#         is_include = [False] * len(doc)\n",
        "#         for tok in doc:\n",
        "#             if tok.text.lower() in {\"phase\"}:\n",
        "#                 for token_index in range(tok.i - 20, tok.i + 20):\n",
        "#                     if token_index >= 0 and token_index < len(doc):\n",
        "#                         is_include[token_index] = True\n",
        "        \n",
        "#         for token_index in range(len(doc)):\n",
        "#             if is_include[token_index]:\n",
        "#                 text += doc[token_index].text + doc[token_index].whitespace_\n",
        "                \n",
        "                \n",
        "#     if text == \"\":\n",
        "#         print (\"nothing found\", file_name, df_annotations.phase.iloc[i])\n",
        "#         text = \" \".join(pages)\n",
        "#         if len(text) > 100000:\n",
        "#             text = text[:100000]\n",
        "#     else:\n",
        "#         print (\"found\", file_name, df_annotations.phase.iloc[i])\n",
        "\n",
        "#     texts.append(text)\n",
        "# df_annotations[\"text\"] = texts"
      ]
    },
    {
      "cell_type": "code",
      "execution_count": 6,
      "id": "76a39c5b",
      "metadata": {
        "id": "76a39c5b"
      },
      "outputs": [],
      "source": [
        "# df_annotations.to_csv(\"filtered_for_phase.csv.bz2\")"
      ]
    },
    {
      "cell_type": "code",
      "source": [
        "from google.colab import drive\n",
        "drive.mount('/content/drive')"
      ],
      "metadata": {
        "colab": {
          "base_uri": "https://localhost:8080/"
        },
        "id": "xCe1anFkGSrt",
        "outputId": "9b4cc36d-0023-442d-a2c5-f89c2831b583"
      },
      "id": "xCe1anFkGSrt",
      "execution_count": 7,
      "outputs": [
        {
          "output_type": "stream",
          "name": "stdout",
          "text": [
            "Drive already mounted at /content/drive; to attempt to forcibly remount, call drive.mount(\"/content/drive\", force_remount=True).\n"
          ]
        }
      ]
    },
    {
      "cell_type": "code",
      "source": [
        "df_annotations= pd.read_csv(\"/content/drive/MyDrive/data/filtered_for_phase_arms_subjects.csv.bz2\")"
      ],
      "metadata": {
        "id": "FdcTHlHsGWnk"
      },
      "id": "FdcTHlHsGWnk",
      "execution_count": 8,
      "outputs": []
    },
    {
      "cell_type": "code",
      "source": [
        "df_annotations.text = df_annotations.text.apply(lambda t : t[:10000] if len(t) > 10000 else t)"
      ],
      "metadata": {
        "id": "wGilqqbTi76N"
      },
      "id": "wGilqqbTi76N",
      "execution_count": 13,
      "outputs": []
    },
    {
      "cell_type": "markdown",
      "source": [
        "Override the subjects column with more up to date data"
      ],
      "metadata": {
        "id": "XP9xzQDxODSO"
      },
      "id": "XP9xzQDxODSO"
    },
    {
      "cell_type": "code",
      "source": [
        "annots_with_subject = pd.read_csv(\"/content/drive/MyDrive/data/all_annotations.csv\")"
      ],
      "metadata": {
        "id": "QqYlj_tFJ0Go"
      },
      "id": "QqYlj_tFJ0Go",
      "execution_count": 14,
      "outputs": []
    },
    {
      "cell_type": "code",
      "source": [
        "(~df_annotations.num_subjects.isna()).sum(), (~annots_with_subject.num_subjects.isna()).sum()"
      ],
      "metadata": {
        "colab": {
          "base_uri": "https://localhost:8080/"
        },
        "id": "ha07Zb55KOfa",
        "outputId": "9a7d1bfd-24c8-4f2f-a402-856a8d528c4a"
      },
      "id": "ha07Zb55KOfa",
      "execution_count": 15,
      "outputs": [
        {
          "output_type": "execute_result",
          "data": {
            "text/plain": [
              "(418, 11920)"
            ]
          },
          "metadata": {},
          "execution_count": 15
        }
      ]
    },
    {
      "cell_type": "code",
      "source": [
        "df_annotations[\"num_subjects\"] = annots_with_subject[\"num_subjects\"]"
      ],
      "metadata": {
        "id": "gHWOafBCKCQD"
      },
      "id": "gHWOafBCKCQD",
      "execution_count": 16,
      "outputs": []
    },
    {
      "cell_type": "code",
      "source": [
        "def get_num_subjects_clean(num):\n",
        "    if pd.isna(num):\n",
        "        return None\n",
        "    if num >= 10000:\n",
        "        return \"10000+\"\n",
        "    if num >= 1000:\n",
        "        return \"1000+\"\n",
        "    if num >= 500:\n",
        "        return \"500+\"\n",
        "    if num >= 200:\n",
        "        return \"200+\"\n",
        "    if num >= 100:\n",
        "        return \"100+\"\n",
        "    if num >= 50:\n",
        "        return \"50+\"\n",
        "    if num >= 25:\n",
        "        return \"25+\"\n",
        "    return \"1-24\"\n",
        "df_annotations[\"num_subjects_clean\"] = df_annotations[\"num_subjects\"].apply(get_num_subjects_clean)"
      ],
      "metadata": {
        "id": "mZ82V337HouW"
      },
      "id": "mZ82V337HouW",
      "execution_count": 17,
      "outputs": []
    },
    {
      "cell_type": "code",
      "source": [
        "df_annotations[\"num_subjects_clean\"].value_counts()"
      ],
      "metadata": {
        "colab": {
          "base_uri": "https://localhost:8080/"
        },
        "id": "cKMRrJjQIF7U",
        "outputId": "6de00028-df44-4632-ae5a-8d0c98f0bc0b"
      },
      "id": "cKMRrJjQIF7U",
      "execution_count": 18,
      "outputs": [
        {
          "output_type": "execute_result",
          "data": {
            "text/plain": [
              "1-24      2980\n",
              "25+       2119\n",
              "50+       2016\n",
              "100+      1674\n",
              "200+      1656\n",
              "500+       816\n",
              "1000+      547\n",
              "10000+     112\n",
              "Name: num_subjects_clean, dtype: int64"
            ]
          },
          "metadata": {},
          "execution_count": 18
        }
      ]
    },
    {
      "cell_type": "code",
      "execution_count": 19,
      "id": "89e1c4f0",
      "metadata": {
        "id": "89e1c4f0"
      },
      "outputs": [],
      "source": [
        "# df_annotations = pd.read_csv(\"filtered_for_phase.csv.bz2\")"
      ]
    },
    {
      "cell_type": "code",
      "execution_count": 20,
      "id": "a12043ac",
      "metadata": {
        "id": "a12043ac"
      },
      "outputs": [],
      "source": [
        "# del file_to_pages"
      ]
    },
    {
      "cell_type": "code",
      "execution_count": 21,
      "id": "bbe0ba77",
      "metadata": {
        "id": "bbe0ba77"
      },
      "outputs": [],
      "source": [
        "phase_map = {\"Phase 2\":\"2\",\n",
        "\"Phase 3\":\"3\",\n",
        "\"Phase 4\":\"4\",\n",
        "\"Phase 1\":\"1\",\n",
        "\"Phase 1/Phase 2\":\"1.5\",\n",
        "\"Not Applicable\":\"0\",\n",
        "\"Phase 2/Phase 3\":\"2.5\",\n",
        "\"Early Phase 1\":\"0.5\"}\n",
        "df_annotations[\"phase_clean\"] = df_annotations[\"phase\"].apply(lambda x : phase_map.get(x, None))"
      ]
    },
    {
      "cell_type": "code",
      "execution_count": 22,
      "id": "f99e999b",
      "metadata": {
        "id": "f99e999b"
      },
      "outputs": [],
      "source": [
        "def get_num_arms_clean(num):\n",
        "    if pd.isna(num):\n",
        "        return None\n",
        "    if num >= 5:\n",
        "        num = 5\n",
        "    return num\n",
        "df_annotations[\"num_arms_clean\"] = df_annotations[\"num_arms\"].apply(get_num_arms_clean)"
      ]
    },
    {
      "cell_type": "markdown",
      "source": [
        "# Begin Keras/TF"
      ],
      "metadata": {
        "id": "Tq8Iseh1e_uQ"
      },
      "id": "Tq8Iseh1e_uQ"
    },
    {
      "cell_type": "code",
      "source": [
        "import numpy as np\n",
        "\n",
        "import tensorflow as tf\n",
        "import tensorflow_hub as hub\n",
        "import tensorflow_datasets as tfds\n",
        "\n",
        "import matplotlib.pyplot as plt\n",
        "\n",
        "print(\"Version: \", tf.__version__)\n",
        "print(\"Eager mode: \", tf.executing_eagerly())\n",
        "print(\"Hub version: \", hub.__version__)\n",
        "print(\"GPU is\", \"available\" if tf.config.list_physical_devices('GPU') else \"NOT AVAILABLE\")"
      ],
      "metadata": {
        "id": "eE1-7kc4ceQP",
        "colab": {
          "base_uri": "https://localhost:8080/"
        },
        "outputId": "a15dae15-28d1-4e18-b06f-0c1740cfe30b"
      },
      "id": "eE1-7kc4ceQP",
      "execution_count": 23,
      "outputs": [
        {
          "output_type": "stream",
          "name": "stdout",
          "text": [
            "Version:  2.9.2\n",
            "Eager mode:  True\n",
            "Hub version:  0.12.0\n",
            "GPU is available\n"
          ]
        }
      ]
    },
    {
      "cell_type": "code",
      "source": [
        "num_subjects_clean_map = {}\n",
        "for idx, val in enumerate(sorted(set(df_annotations[~df_annotations.num_subjects_clean.isna()].num_subjects_clean), key = lambda x : int(re.sub(r'\\D.*$', '', x)))):\n",
        "  num_subjects_clean_map[val] = idx"
      ],
      "metadata": {
        "id": "0HHgTj8Qfub9"
      },
      "id": "0HHgTj8Qfub9",
      "execution_count": 24,
      "outputs": []
    },
    {
      "cell_type": "code",
      "source": [
        "# invert the dictionary\n",
        "num_subjects_lookup = {v: k for k, v in num_subjects_clean_map.items()}"
      ],
      "metadata": {
        "id": "6jQQHMvxkC2l"
      },
      "id": "6jQQHMvxkC2l",
      "execution_count": 58,
      "outputs": []
    },
    {
      "cell_type": "code",
      "source": [
        "num_subjects_list = [num_subjects_lookup[x] for x in sorted(num_subjects_lookup)]\n",
        "num_subjects_list"
      ],
      "metadata": {
        "colab": {
          "base_uri": "https://localhost:8080/"
        },
        "id": "C6fm756mlUSk",
        "outputId": "0123ef47-14a4-4dcb-8c87-28f27f63e30b"
      },
      "id": "C6fm756mlUSk",
      "execution_count": 74,
      "outputs": [
        {
          "output_type": "execute_result",
          "data": {
            "text/plain": [
              "['1-24', '25+', '50+', '100+', '200+', '500+', '1000+', '10000+']"
            ]
          },
          "metadata": {},
          "execution_count": 74
        }
      ]
    },
    {
      "cell_type": "code",
      "source": [
        "num_subjects_clean_map"
      ],
      "metadata": {
        "colab": {
          "base_uri": "https://localhost:8080/"
        },
        "id": "sDIKJA57hR-K",
        "outputId": "a34806a6-4de4-465f-f481-0681b66d0e46"
      },
      "id": "sDIKJA57hR-K",
      "execution_count": 25,
      "outputs": [
        {
          "output_type": "execute_result",
          "data": {
            "text/plain": [
              "{'1-24': 0,\n",
              " '25+': 1,\n",
              " '50+': 2,\n",
              " '100+': 3,\n",
              " '200+': 4,\n",
              " '500+': 5,\n",
              " '1000+': 6,\n",
              " '10000+': 7}"
            ]
          },
          "metadata": {},
          "execution_count": 25
        }
      ]
    },
    {
      "cell_type": "code",
      "source": [
        "def get_one_hot_num_subjects(x):\n",
        "  a = [0] * len(num_subjects_clean_map)\n",
        "  if x is None:\n",
        "    return a\n",
        "  a[num_subjects_clean_map[x]] = 1\n",
        "  return a"
      ],
      "metadata": {
        "id": "EFTomf_xfjTS"
      },
      "id": "EFTomf_xfjTS",
      "execution_count": 26,
      "outputs": []
    },
    {
      "cell_type": "code",
      "source": [
        "df_annotations[\"num_subjects_one_hot\"] = df_annotations[\"num_subjects_clean\"].apply(get_one_hot_num_subjects)"
      ],
      "metadata": {
        "id": "GCf8jZQZiBbC"
      },
      "id": "GCf8jZQZiBbC",
      "execution_count": 27,
      "outputs": []
    },
    {
      "cell_type": "code",
      "source": [
        "df_train = df_annotations[df_annotations.train_val == \"train\"]\n",
        "df_val = df_annotations[df_annotations.train_val == \"val\"]"
      ],
      "metadata": {
        "id": "F_VhjeihirIu"
      },
      "id": "F_VhjeihirIu",
      "execution_count": 28,
      "outputs": []
    },
    {
      "cell_type": "code",
      "source": [
        "train_labels = np.asarray(list(df_train[~df_train.num_subjects_clean.isna()].num_subjects_one_hot))\n",
        "test_labels = np.asarray(list(df_val.num_subjects_one_hot))"
      ],
      "metadata": {
        "id": "0upX622wfjVv"
      },
      "id": "0upX622wfjVv",
      "execution_count": 29,
      "outputs": []
    },
    {
      "cell_type": "code",
      "source": [
        "train_examples = np.asarray(list(df_train[~df_train.num_subjects_clean.isna()].text))\n",
        "test_examples = np.asarray(list(df_val.text))"
      ],
      "metadata": {
        "id": "YDlX78f5cz_F"
      },
      "id": "YDlX78f5cz_F",
      "execution_count": 30,
      "outputs": []
    },
    {
      "cell_type": "code",
      "source": [
        "print(\"Training entries: {}, test entries: {}\".format(len(train_examples), len(test_examples)))"
      ],
      "metadata": {
        "colab": {
          "base_uri": "https://localhost:8080/"
        },
        "id": "LFDvdJe_fjYD",
        "outputId": "126c9154-c96c-4c24-8334-2ecfaefbc1da"
      },
      "id": "LFDvdJe_fjYD",
      "execution_count": 31,
      "outputs": [
        {
          "output_type": "stream",
          "name": "stdout",
          "text": [
            "Training entries: 9535, test entries: 1085\n"
          ]
        }
      ]
    },
    {
      "cell_type": "code",
      "source": [
        "train_examples[:10]"
      ],
      "metadata": {
        "colab": {
          "base_uri": "https://localhost:8080/"
        },
        "id": "hSaZ39-mfjaY",
        "outputId": "8e7df606-56fe-40ec-b0f4-dd4735026c66"
      },
      "id": "hSaZ39-mfjaY",
      "execution_count": 32,
      "outputs": [
        {
          "output_type": "execute_result",
          "data": {
            "text/plain": [
              "array(['SLC/F:/BABY-HUG/BHUG Protocol/August-09/B-CoverPageOnly.wpd —  8/09\\n\\nPEDIATRIC HYDROXYUREA PHASE III CLINICAL TRIAL\\nBABY HUG\\n\\nPROTOCOL\\n\\nAugust 2009\\n\\n.\\n\\nPrepared by:\\n\\nClinical -1  Projected Enrollment, Maintenance of Assigned \\n      Study Treatment 2-10\\n\\n3 PATIENT ELIGIBILITY, RECRUITMENT, ORIENTATION, \\nAND INFORMED CONSENT\\n3.1 Introduction 3-1  \\n\\n3.2 Inclusion and Exclusion Criteria 3.2.1 Inclusion Criteria 3-2  \\n\\n3.2.2 Exclusion Criteria for Pilot and Main Study 3-3  \\n\\n3.3 Recruitment 3-4  \\n\\n3.4 Parent/Guardian Orientation 3-5  \\n\\n3.5 Baseline Assessment 3-6 4-17\\n\\n4.4.1 Feasibility and Safety Pilot Study 4-17\\n\\n4.4.2 Primary Treatment Comparison (Full Phase III Trial) 4-17\\n\\n4.4.3 Spleen Endpoint 4-19\\n\\nTable 4-4 Power Classification and \\nReporting of Adverse Events 4-34\\n\\nFigure 4-1 Absolute Effect Size\\n\\nTwo Sample Proportions 4-35\\n\\nFigure 4-2 Overlay of the Entry and Exit PK Studies \\non \\n\\n8.3 Prophylactic Medications 8-3\\n\\n8.4 Parent Education 8-4\\n\\n9 SPECIAL STUDIES AND READING GROUPS\\n9.1 Introduction 9-1\\n\\n9.2 Pitted Cell Counts 9-1\\n\\n9.3 Cytogenetics (Karyotype children\\n(HUSOFT) with SCA, but its clinical efficacy has not been proven in this younger age group.\\nImportantly, the effects of hydroxyurea on chronic end organ damage in SCA have not been\\norgans are the first\\nto be affected early in life.  We propose to determine if we can enroll children with SCA who are\\nbetween 9 and 17 months of age, to prevent chronic damage to BHUG Protocol/August-09/CHAP-1.wpd —  8/09 Page 1-1 of 1-15    \\n\\nPEDIATRIC HYDROXYUREA PHASE III CLINICAL TRIAL (BABY HUG) PROTOCOL\\n\\nCHAPTER 1\\n\\nBACKGROUND AND STUDY RATIONALE\\n\\n1.1 OVERVIEW OF SICKLE CELL ANEMIA\\n\\nThe term Sickle Cell Disease (SCD) refers to a group of genetic hematological disorders\\n\\ncharacterized by the predominance of sickle hemoglobin (HbS).  SCD is and attentional deficits (Bonner et al, 1999).\\n\\n1.2.4 Lungs\\n\\nThe lungs are also frequent target organs in patients with SCA.  Episodes of acute chest\\n\\nsyndrome (ACS, with intrapulmonary sickling1-6 of 1-15    \\n\\nThe physiologic decline in % HbF and % F cells in a cohort of infants homozygous for HbSS\\n\\nbetween birth and 24 months of age was recently investigated (Marcus and workers (Charache et al, 1992) reported a mean increase\\n\\nin HbF of 11% in a Phase I/II study of adults receiving daily HU treatment.  In the Multicenter Study\\n\\nof Hydroxyurea in Sickle Cell Anemia (MSH) Phase III clinical trial (Charache et al, 1995), adult\\n\\npatients were randomized prospectively either to , 1992; Charache et al, 1995).\\n\\n1.4.3 Hydroxyurea For Children With SCA\\n\\nAfter the Phase I/II adult HU trial was completed, several anecdotal reports suggested that\\n\\nHU therapy might be institutions administered HU therapy to a total of 84 school-\\n\\naged children with SCA in an NHLBI-sponsored Phase I/II clinical protocol (HUG-KIDS).  HUG-KIDS\\n\\nprovided convincing evidence of HU was mild and included primarily reversible myelosuppression.\\n\\nClinical efficacy was not a stated goal of this Phase I/II study, but it was clear that the pediatric\\n\\npatients with SCA had a less 2000).  To determine the feasibility of HU therapy for very\\n\\nyoung children with SCD, a Phase I/II pilot trial (HUSOFT) was recently performed.  Children\\n\\nbetween age 6-prevent the elevation of\\n\\nGFR observed over time in untreated children with sickle cell anemia.  \\n\\nRecently two groups of investigators have presented evidence that hydroxyurea therapy in\\n\\nchildren is associated with lower TCD velocities (Zimmerman \\n\\nThe short-term toxicities of HU for patients with SCA have been carefully studied in two large\\n\\nPhase I/II trials.  In the safety trial for adults with SCA (Charache et al, of HU therapy for children with SCA did\\n\\nnot report any obvious neurodevelopmental decline.  Similarly, the Phase I/II HUG-KIDS pediatric\\n\\nsafety trial did not specifically test for neurodevelopmental progress, although has been investigated most carefully in patients\\n\\nwith myeloproliferative disorders (MPD).  The Polycythemia Vera Study Group (PVSG) reported a\\n\\n5.9% incidence of acute leukemia in 51 adults with PV treated with that HU may help prevent damage\\n\\nto the spleen and kidneys compared to expectations from the CSSCD and nonrandomized groups\\n\\n(Wang et al, 2001; Hankins et al, 2005) not given HU.  be mild or\\n\\nabsent.  Taken together, the available data make a compelling case for the proposed Phase III trial\\n\\nof hydroxyurea in very young children (9 through 17 months of age) with SCA/BHUG Protocol/August-09/CHAP-2.wpd — 8/09 Page 2-1 of 2-10  \\n\\nPEDIATRIC HYDROXYUREA PHASE III CLINICAL TRIAL (BABY HUG) PROTOCOL\\n\\nCHAPTER 2\\n\\nOBJECTIVES AND DESIGN OF THE TRIAL\\n\\nCharache et al, 1995). \\n\\nPediatric patients with SCA also benefit from HU therapy.  A Phase I/II trial (HUG-KIDS)\\n\\ninvolving 84 children who were 5-15 years 1999).  Several smaller studies have further suggested that HU has clinical efficacy in this\\n\\nyounger age group (Hoppe et al, 2000; Bernaudin et al, 1999), and reduces the number of (HUSOFT)\\n\\nhas provided preliminary data demonstrating that HU is well-tolerated in this very young age group,\\n\\nwith laboratory effects similar to those for older children (Wang et al, 2001; Hankins the toxicities, effects on growth and\\n\\ndevelopment, and occurrence of adverse events in this very young age group (9-17 months).\\n\\nMoreover, the accurate and reproducible quantitative measurements of splenic and 10  \\n\\n2.3 DESIGN OF THE TRIAL\\n\\n2.3.1 Overview of the Trial\\n\\nThis NHLBI- and NICHD-sponsored Phase III therapeutic trial will be a randomized,\\n\\nplacebo-controlled double-blinded study and will involve Clinical Centers, a Medical Coordinating\\n\\nCenter, and eight core laboratories within the United States.  The Phase III study will include 200\\n\\nchildren with sickle cell anemia (SCA) aged 9-17 months.  A Feasibility and Safety Pilot Study has\\n\\nenrolled 40 children from 12 to 17 months of age.  Each child was randomly assigned to either\\n\\nFeasibility and Safety Pilot Study have been presented\\n\\nto the DSMB and a decision has been made regarding reopening recruitment for the full study.\\n\\nAfter the children’s treatment period has ended, they will remain in follow-up clinic visits for up to five years\\n\\nafter the end of study treatment. \\n\\nThe target dose of hydroxyurea will be 20 mg/kg/day in liquid formulation or equivalent\\n\\nvolumes of outlined in the Protocol (Chapter 4) and elaborated\\n\\nin a separate document prior to the start of recruitment.  Long-term follow-up in an observational\\n\\nstudy after study treatment is terminated in BABY HUG is anticipated so that children enrolled in\\n\\nthe follow-up can be obtained.  \\n\\n2.3.2 The Feasibility and Safety Pilot Study\\n\\nThe 40 children enrolled in the Feasibility and Safety Pilot Study will be on study treatment\\n\\nfor two years. The DSMB authorized immediately continuing recruitment for the remaining 160\\n\\nchildren in the full Phase III BABY HUG Clinical Trial.  The anticipated recruitment and follow-up\\n\\nperiods are presented in Figure 2-1.  The Primary Aims of and Safety Pilot Study\\n\\nwere:\\n\\n1. To determine the feasibility of BABY HUG in terms of recruitment, follow-up,\\n\\nadherence to study treatment, and compliance with the study schedule of\\n\\nclearance; and,\\n\\n5. To assess some pharmacokinetic parameters of hydroxyurea in the BABY HUG age\\n\\ngroup.\\n\\nAt study entry, plasma specimens for pharmacokinetics were collected from the blood\\n\\ncollected as part reviewed monthly and semi-annual Feasibility and Safety Pilot Study reports including\\n\\ninformation on:\\n\\n1. Recruitment: Expected vs. Actual (overall), and reasons for ineligibility\\n\\n2. Patients screened, eligible the\\n\\nExecutive Secretary of the DSMB, and the NHLBI Project Officer.\\n\\nBased on individual patient and group safety monitoring reviews, the Executive Secretary\\n\\nof the DSMB, the NHLBI Project Officer and/or DSMB Chair least three) of randomized study treatment, the\\n\\nDSMB could have recommended to the NHLBI that the full Phase III trial not proceed in children\\n\\nless than 18 months of age.  If serious adverse events 2-7 of 2-10  \\n\\nwas absent at entry for more than 40% of the children enrolled, the DSMB could have\\n\\nrecommended to the NHLBI to re-design the primary outcome or other /BHUG Protocol/August-09/CHAP-2.wpd — 8/09 Page 2-9 of 2-10  \\n\\n  2. Group comparisons between hydroxyurea-assigned patients and placebo-assigned\\n\\npatients will be included in semi-annual the study.  Safety comparisons and inferences based on\\n\\nthem will be discussed by the DSMB as data accrue in the study.\\n\\n3. Monitoring for unanticipated adverse clinical effects will be done using adverse\\n\\nthe Medical Coordinating Center (MCC)\\n\\nand tabulated based on the affected organ system. A central review group\\n\\n(consisting of two pediatric hematologists with expertise in sickle cell disease and\\n\\nwithout association with the of the event.  MCC staff will immediately review the material and\\n\\nforward it to the central review group. If the central review group finds that an event\\n\\nis serious, MCC staff will send the information to the NHLBI and NICHD C\\n\\nom\\nm\\n\\non\\n T\\n\\ner\\nm\\n\\nin\\nat\\n\\nio\\nn \\n\\nN\\n   \\n\\nN\\n20\\n\\n0\\n\\n16\\n0\\n\\n 12\\n0\\n\\n  8\\n0 \\n\\n    \\n40\\n\\n   \\n   \\n\\n \\nf S\\n\\ntu\\ndy\\n\\nIN\\nTE\\n\\nR\\nIM\\n\\n M\\nO\\n\\nN\\nIT\\n\\nO\\nR\\n\\nIN\\nG\\n\\n L\\nO\\n\\nO\\nK\\n\\n2\\n   \\n\\n   \\n   \\n\\n   \\n   \\n\\n   \\n   \\n\\n3 \\n   \\n\\n   \\n   \\n\\n   \\n   \\n\\n   \\n 4\\n\\n   \\n   \\n\\n   \\n   \\n\\n (F\\nin\\n\\nal\\n)\\n\\n(#\\n o\\n\\nn \\nH\\n\\nU\\n / \\n\\n# \\non\\n\\n P\\nLB\\n\\nO\\n)  \\n\\n   \\n   \\n\\n   \\n   \\n\\n   \\n   \\n\\n   \\n   \\n\\n   \\n   \\n\\n   \\n   \\n\\n   \\n   \\n\\n   \\n   \\n\\n   \\n   \\n\\n   \\n   \\n\\n   \\n   \\n\\n   \\n S\\n\\naf\\net\\n\\ny \\nPi\\n\\nlo\\nt S\\n\\ntu\\ndy\\n\\n (N\\n=4\\n\\n0 \\nch\\n\\nild\\nre\\n\\nn \\nar\\n\\ne \\nen\\n\\nro\\nlle\\n\\nd \\nov\\n\\ner\\n 1\\n\\nlin\\n\\nic\\nal\\n\\n T\\nria\\n\\nl c\\noh\\n\\nor\\nt (\\n\\nN\\n=1\\n\\n60\\n a\\n\\ndd\\niti\\n\\non\\nal\\n\\n c\\nhi\\n\\nld\\nre\\n\\nn \\nar\\n\\ne \\nen\\n\\nro\\nlle\\n\\nd \\nov\\n\\ner\\n 1\\n\\nBHUG Protocol/August-09/CHAP-3.wpd —  8/09 Page 3-1 of 3-9\\n\\nPEDIATRIC HYDROXYUREA PHASE III CLINICAL TRIAL (BABY HUG) PROTOCOL\\n\\nCHAPTER 3\\n\\nPATIENT ELIGIBILITY, RECRUITMENT, ORIENTATION, AND INFORMED CONSENT \\n\\n3.1 INTRODUCTION\\n\\nThe primary objective of this study is to determine with sickle cell anemia.  This will be\\n\\naccomplished by the administra',\n",
              "       'au\\ntho\\n\\nriz\\nati\\n\\non\\n \\n\\nNumber\\n\\nap\\npli\\n\\nca\\ntio\\n\\nn a\\nnd\\n\\n an\\ny e\\n\\nxte\\nns\\n\\nion\\ns mg\\n\\nex___________\\n\\nap\\npli\\n\\nca\\ntio\\n\\nn \\nDate:\\n\\nap\\npli\\n\\nca\\ntio\\n\\nn \\nDate:\\n\\n________________\\n\\nap\\npli\\n\\nca\\ntio\\n\\nn \\n\\n________________\\n____________\\n\\nap\\npli\\n\\nca\\ntio\\n\\nn \\n\\n__________________\\ntho\\n\\nriz\\nati\\n\\non\\n \\n\\nPhone:\\n\\nap\\npli\\n\\nca\\ntio\\n\\nn \\n\\nap\\npli\\n\\nca\\ntio\\n\\nn a\\nnd\\n\\n \\nan\\n\\nd a\\nny\\n\\n \\nan\\n\\ny e\\nxte\\n\\nnsng\\n\\n au\\ntho\\n\\nriz\\nati\\n\\non\\n ap\\n\\npli\\nca\\n\\ntio\\nn \\n\\nnvestigators is maintained in the Trial Mast\\n\\nap\\npli\\n\\nca\\ntio\\n\\nn \\n\\nnvestigators is maintained in the Trial Mast\\n\\nan\\nd a\\n\\nny\\n ex\\n\\ntendisease..........................................23\\n6.2 Background information regarding product .....................................................24\\n6.3 Efficacy with BRV in fixed-dose Phase II/III studies in POS .........................25\\n6.4 Safety with BRV ..............................................................................................25\\n6.5 Study Rationale \\n \\n\\n................................au\\ntho\\n\\nriz\\nati\\n\\non\\n ap\\n\\npli\\nca\\n\\ntio\\nn \\n\\n................................\\n\\nap\\npli\\n\\nca\\ntio\\n\\nn \\n................................\\n\\n................................\\n\\nap\\npli\\n\\nca\\ntio\\n\\nn ................................\\nIII studies in POS\\n\\nap\\npli\\n\\nca\\ntio\\n\\nn \\nIII studies in POS\\n\\nap\\npli\\n\\nca\\ntio\\n\\nn \\n\\n................................\\nap\\n\\npli\\nca\\n\\ntio\\nn \\n\\n................................\\n................................ap\\n\\npli\\nca\\n\\ntio\\nn \\n\\n................................\\n\\nan\\nd ................................\\n\\nan\\nd ................................\\n\\n................................an\\nd \\n\\n................................\\n\\ntho\\nriz\\n\\nati\\non\\n\\n \\n\\nsical Examination\\n\\nap\\npli\\n\\nca\\ntio\\n\\nn \\n................................\\n\\nap\\npli\\n\\nca\\ntio\\n\\nn \\n................................\\n................................\\n\\nap\\npli\\n\\nca\\ntio\\n\\nn ................................\\n................................\\n\\nap\\npli\\n\\nca\\ntio\\n\\nn \\n................................\\n\\nChildbearing Potential and Birth Control\\n\\nap\\npli\\n\\nca\\ntio\\n\\nn \\n\\nChildbearing Potential and Birth Control\\n\\nap\\npli\\n\\nca\\ntio\\n\\nn \\n\\nGeneral Medical and Procedure Historyap\\npli\\n\\nca\\ntio\\n\\nn \\n\\nGeneral Medical and Procedure Historyap\\npli\\n\\nca\\ntio\\n\\nn a\\nnd\\n\\n ................................\\n\\nan\\nd ................................\\n\\n................................an\\nd \\n\\n................................\\n\\nan56\\n13.1.2 Efficacy and Safety Variables............................................................56\\n13.1.3 Statistical Evaluation..........................................................................58\\n\\n13.2 Determination of the Sample Size....................................................................60\\n13.3 Statistical and Analytical Issues .......................................................................60\\n\\n13.3.1 Handling of Dropouts of Missing DataEvaluation\\n\\nsu\\npp\\n\\nort\\n Statistical Evaluation\\n\\nsu\\npp\\n\\nort\\n \\n\\nDetermination of the Sample Size\\n\\nsu\\npp\\n\\nort\\n \\n\\nDetermination of the Sample Size\\n\\nsu\\npp\\n\\nort\\n \\n\\nStatistical a\\nsu\\n\\npp\\nort\\n\\n \\nStatistical and and Safet\\n\\nan\\ny \\n\\nStatistical Evaluationan\\ny \\n\\nStatistical Evaluationan\\ny \\n\\nDetermination of the Sample Size\\nan\\n\\ny \\n\\nDetermination of the Sample Size\\n\\nmark\\neti\\n\\nng\\n \\n\\n................................\\n\\nmark\\neti\\n\\nng\\n \\n\\n................................................................\\n\\nmarkEvents\\nau\\n\\ntho\\nriz\\n\\nati\\non\\n\\n ap\\npli\\n\\nca\\ntio\\n\\nn \\n................................\\n\\nap\\npli\\n\\nca\\ntio\\n\\nn \\n................................\\n\\n................................\\n\\nap\\npli\\n\\nca\\ntio\\n\\nn ................................\\n12.1.5 Rule for Repetition of an AE ................................\\n\\nap\\npli\\n\\nca\\ntio\\n\\nn \\n12.1.5 Rule for Repetition of an AE ................................\\n\\n................................\\n\\nap\\npli\\n\\nca\\ntio\\n\\nn \\n\\n................................\\n12.1.7 Overdose of Investigational Product................................ap\\n\\npli\\nca\\n\\ntio\\nn \\n\\n12.1.7 Overdose of Investigational Product................................ap\\npli\\n\\nca\\ntio\\n\\nn a\\nnd\\n\\n 12.1.2 Procedures for Reporting and Recording Adverse Events.................50\\n\\nan\\nd 12.1.2 au\\ntho\\n\\nriz\\nati\\n\\non\\n \\n\\n................................\\n\\nap\\npli\\n\\nca\\ntio\\n\\nn ................................\\n\\nap\\npli\\n\\nca\\ntio\\n\\nn ................................\\n................................\\n\\nap\\npli\\n\\nca\\ntio\\n\\nn \\n................................\\n\\nap\\npli\\n\\nca\\ntio\\n\\nn \\n\\n................................\\n\\nap\\npli\\n\\nca\\ntio\\n\\nn \\n\\n................................\\n\\n................................ap\\npli\\n\\nca\\ntio\\n\\nn \\n\\n................................\\n\\nan\\nd \\n\\n................................\\n\\nan\\nd \\n\\n................................\\n................................\\n\\nan\\nau\\ntho\\n\\nriz\\nati\\n\\non\\n \\n\\nanager\\n\\nap\\npli\\n\\nca\\ntio\\n\\nn \\n\\n Medicinal Product\\n\\nap\\npli\\n\\nca\\ntio\\n\\nn \\n\\n Medicinal Product\\n\\nan\\nd a\\n\\nny\\n ex\\n\\nten\\nsio\\n\\nns\\n Epilepsy\\n\\nau\\ntho\\n\\nriz\\nati\\n\\non\\n ap\\n\\npli\\nca\\n\\ntio\\nn \\n\\noncentration\\n\\nap\\npli\\n\\nca\\ntio\\n\\nn \\noncentration\\n\\negulatoryap\\npli\\n\\nca\\ntio\\n\\nn \\n\\negulatory Aap\\npli\\n\\nca\\ntio\\n\\nn \\n\\nActivitiesap\\npli\\n\\nca\\ntio\\n\\nn \\n\\nctivities\\n\\nan\\nd a\\n\\nny\\n ex\\n\\nten\\nsio\\n\\nns\\n orng\\n\\n au\\ntho\\n\\nriz\\nati\\n\\non\\n ap\\n\\npli\\nca\\n\\ntio\\nn a\\n\\nnd\\n an\\n\\ny e\\nxte\\n\\nns\\nion\\n\\ns o\\nr \\nati\\n\\non\\n \\n\\n will provide subjects suffering from epilepsy\\n\\nap\\npli\\n\\nca\\ntio\\n\\nn \\n\\nrelated\\n\\nap\\npli\\n\\nca\\ntio\\n\\nn \\n\\nrelated\\n\\nmedical resource use and indirect cost parameters\\nap\\n\\npli\\nca\\n\\ntio\\nn \\n\\nmedical resource use and indirect cost parameters\\n\\nan\\nd (for POS/PGS subjects)able to understand and complete diaries and questionnaires), visit \\n\\nap\\npli\\n\\nca\\ntio\\n\\nn \\nligation, bilateral tubal implant, monogamous relationship with vasectomized partner). \\n\\nap\\npli\\n\\nca\\ntio\\n\\nn \\nligation, bilateral tubal implant, monogamous relationship with vasectomized partner). \\nOral or depot contraceptive at least 30 µg [or 50 µg if associated with \\n\\nap\\npli\\n\\nca\\ntio\\n\\nn Oral or depot contraceptive treatment with at least 30 µg [or 50 µg if associated with \\nknown as inducers] ethin\\n\\nap\\npli\\n\\nca\\ntio\\n\\nn \\nknown as inducers] ethinyl\\n\\nap\\npli\\n\\nca\\ntio\\n\\nn \\nylestradiol per intake must be \\n\\nap\\npli\\n\\nca\\ntio\\n\\nn \\nestradiol per intake must be \\n\\nused in conjunction with a barrier method. The subject must understand the consequences \\n\\nap\\npli\\n\\nca\\ntio\\n\\nn \\n\\nused in conjunction with a barrier method. The subject must understand the consequences \\ny protected sexual activity, be educated about and ap\\n\\npli\\nca\\n\\ntio\\nn \\n\\ny protected sexual activity, be educated about and \\nand undertake to inform the \\n\\nap\\npli\\n\\nca\\ntio\\n\\nn \\n\\nand undertake to inform the \\n\\nan\\nd oral hormonal contraceptive medi\\n\\nan\\nd oral \\n\\nHDPE bottles containing 80 and 200 oral tablets of BRV 25 mg will be available when \\nsubjects begin enrolling from BRV Phase III studies (N01252, N01253, and N01254).  \\nContainers of 80 tablets will be progressively is an excess of drug in \\nthe visit carton or bottle.\\n\\nMethodology:\\nThis is a Phase III, therapeutic long-term follow-up, multicenter, non-comparative, open-label \\nand single arm study.\\n\\nThis study will run throughout the duration of the clinical development period of BRV and \\nthe drug and that there is an excess of drug in \\n\\nap\\npli\\n\\nca\\ntio\\n\\nn Containers of 80\\n\\nap\\npli\\n\\nca\\ntio\\n\\nn Containers of 80\\n\\n25 mg will be available when ap\\npli\\n\\nca\\ntio\\n\\nn \\n\\n25 mg will be available when \\nudies (N01252, N01253, ap\\n\\npli\\nca\\n\\ntio\\nn \\n\\nudies (N01252, N01253, \\n\\nan\\nd \\n\\nBrivaracetam 2.5 mg oral tablets were packaged \\n\\n \\n\\neriod (V1 until the last evaluation visit).\\n\\nap\\npli\\n\\nca\\ntio\\n\\nn \\n using the seizure count informati\\n\\nap\\npli\\n\\nca\\ntio\\n\\nn \\n using the seizure count informati\\n\\nDRC.  The subject will be asked to record the date and the number (where possible) of \\n\\nap\\npli\\n\\nca\\ntio\\n\\nn DRC.  The subject will be asked to record the date and the number (where possible) of \\nype of seizure (according to individual \\n\\nap\\npli\\n\\nca\\ntio\\n\\nn \\nype of seizure (according to individual \\n\\ny the Investigator b\\n\\nap\\npli\\n\\nca\\ntio\\n\\nn \\n\\ny the Investigator by \\n\\nap\\npli\\n\\nca\\ntio\\n\\nn \\n\\ny adding the ILAE codes.  The \\n\\nap\\npli\\n\\nca\\ntio\\n\\nn \\n\\nadding the ILAE codes.  The \\nInvestigator will also confirm on the DRC the number of seizures of each tyap\\n\\npli\\nca\\n\\ntio\\nn \\n\\nInvestigator will also confirm on the DRC the number of seizures of each ty\\n\\nan\\nd 6 months and at least 12 months during the Evaluation Period\\n\\nap\\npli\\n\\nca\\ntio\\n\\nn a\\nnd\\n\\n  from the Baseline \\n\\nan\\nd  from the Baseline an\\n\\ny  ng\\n\\n au\\ntho\\n\\nriz\\nati\\n\\non\\n ap\\n\\npli\\nca\\n\\ntio\\nn \\n\\nprofessional data for each assessment for the first 2 y\\n\\nap\\npli\\n\\nca\\ntio\\n\\nn \\nprofessional data for each assessment for the first 2 y\\n\\nap\\npli\\n\\nca\\ntio\\n\\nn \\nears and for the last \\n\\nap\\npli\\n\\nca\\ntio\\n\\nn \\nears and for the last \\n\\nears of the Evaluation Period\\n\\nap\\npli\\n\\nca\\ntio\\n\\nn \\n\\nears of the Evaluation Period\\n\\nan\\nd  the subject and d\\n\\nan\\nd on\\n \\n\\nau\\ntho\\n\\nriz\\nati\\n\\non\\n ap\\n\\npli\\nca\\n\\ntio\\nn Discontinuation \\n\\nap\\npli\\n\\nca\\ntio\\n\\nn Discontinuation \\nVisit\\n\\nap\\npli\\n\\nca\\ntio\\n\\nn \\nVisit\\n\\nap\\npli\\n\\nca\\ntio\\n\\nn \\n\\nap\\npli\\n\\nca\\ntio\\n\\nn \\n\\nap\\npli\\n\\nca\\ntio\\n\\nn \\n\\nap\\npli\\n\\nca\\ntio\\n\\nn \\n\\nap\\npli\\n\\nca\\ntio\\n\\nn \\n\\nap\\npli\\n\\nca\\ntio\\n\\nn \\n\\nap\\npli\\n\\nca\\ntio\\n\\nn a\\nnd\\n\\n \\nEarly an\\n\\nd \\nEarly \\n\\nDiscontinuation an\\nd \\n\\nDiscontinuation an\\non\\n \\n\\nXau\\ntho\\n\\nriz\\nati\\n\\non\\n ap\\n\\npli\\nca\\n\\ntio\\nn (EDV)\\n\\nap\\npli\\n\\nca\\ntio\\n\\nn (EDV)\\n\\nX\\n\\nap\\npli\\n\\nca\\ntio\\n\\nn X\\n\\nap\\npli\\n\\nca\\ntio\\n\\nn \\n\\nap\\npli\\n\\nca\\ntio\\n\\nn \\n\\nap\\npli\\n\\nca\\ntio\\n\\nn \\n\\nap\\npli\\n\\nca\\ntio\\n\\nn \\n\\nap\\npli\\n\\nca\\ntio\\n\\nn \\n\\nap\\npli\\n\\nca\\ntio\\n\\nn \\n\\nap\\npli\\n\\nca\\ntio\\n\\nn a\\nnd\\n\\n Discontinuation \\n\\nan\\nd \\n\\nDiscontinuation \\n\\nVisit\\nan\\n\\nd Visit\\nati\\n\\non\\n \\n\\niscontinuation Visit where ECG results were normal\\n\\nap\\npli\\n\\nca\\ntio\\n\\nn \\n=Patient Weighted Quality of life in Epilepsy Questionnaire; YEV=Yearly \\n\\nap\\npli\\n\\nca\\ntio\\n\\nn \\n=Patient Weighted Quality of life in Epilepsy Questionnaire; YEV=Yearly \\n\\nperiod is mandatory in case the subjects discontinue from more than \\n\\nap\\npli\\n\\nca\\ntio\\n\\nn \\nperiod is mandatory in case the subjects discontinue from more than \\n\\nThe following data will be transferred from the database of the baseline visit of the previous \\n\\nap\\npli\\n\\nca\\ntio\\n\\nn \\n\\nThe following data will be transferred from the database of the baseline visit of the previous study\\n\\nap\\npli\\n\\nca\\ntio\\n\\nn \\n\\nstudy\\n\\nstudy\\nap\\n\\npli\\nca\\n\\ntio\\nn \\n\\nstudy\\n\\nan\\nd Call; ECG=electrocardiogram; EDV=Early Discontinuation Visit; EVriz\\n\\nati\\non\\n\\n \\n\\nFEV alternating with MEV.\\n\\nap\\npli\\n\\nca\\ntio\\n\\nn \\nbe performed in replacement of the first \\n\\nap',\n",
              "       '.  All rights reserved. \\nFER-TH-007 Amendment 4   October 1, 2012 \\n\\n1 \\n\\nPhase II Study of Bevacizumab and Erlotinib in Elderly Patients with Advanced Non-\\nSmall Cell Lung Cancer \\n\\n \\nSupport \\n\\n1.5.1 Dose Selection for Single-Agent Trials of Erlotinib ..................................................10 \\n\\n1.5.2 Pharmacokinetics .........................................................................................................11 \\n\\n1.5.3 Phase II and III Trials in Patients with Advanced Cancer ......................................11 \\n\\n1.5.4 Patients with Hepatic or Renal impairment Registration  .................................................................................................................43 \\n\\n10.0          Data Safety Monitoring Plan .....................................................................................43 \\n\\n11.0 Statistical Methods and Determination of sample size .............................................44 \\n\\n11.1         Primary Endpoint:   .....................................................................................................45 \\n\\n11.2 Secondary Endpoints ...................................................................................................45 \\n\\ncombination treatment with \\nbevacizumab and erlotinib in treatment-naïve elderly patients with advanced NSCLC – an \\nimportant cohort that need less toxic therapies. \\n \\n1.2 Vascular Endothelial Growth Factor (VEGF) and Anti-angiogenic monoclonal antibody targeting vascular endothelial growth factor (VEGF).  \\nBevacizumab has been studied in a multitude of Phase I, II, and III clinical trials in more than \\n5000 patients and in multiple tumor types. In addition, data are available from 3,863 patients \\nenrolled in two postmarketing studies in metastatic colorectal cancer (CRC).  Approximately \\n130,000 patients have been results pertinent to this particular trial. Please refer to the bevacizumab Investigator \\nBrochure for descriptions of all completed Phase I, II, and III trials reported to date. \\n \\nThese clinical trials have included patients with types, including colorectal, \\nbreast, lung, and renal carcinoma.19-22. \\n \\nIn a large phase III study (AVF2107g) in patients with metastatic colorectal cancer, the addition \\n\\n), and duration of response \\n(7.1 vs. 10.4 months; p < 0.01) for the combination arm versus the chemotherapy only arm19.   \\n \\nBased on the survival advantage demonstrated in Study AVF2107g, bevacizumab 5-FU based chemotherapy for subjects with \\nmetastatic colorectal cancer (CRC).  \\n \\nAdditional data from Phase III trials in metastatic CRC (E3200), non small cell lung cancer \\n(NSCLC; E4599safety and efficacy of Bevacizumab in patients with non-small cell lung cancer was \\ninvestigated in a randomized Phase III trial conducted by the Eastern Cooperative \\nOncology Group (ECOG 4599)23.  \\n \\nIn this multicenter trial, more than 800 patients were randomly assigned to receive rate, time to progression and tolerability.  \\n \\nOverall survival was statistically significantly better in the PC plus bevacizumab arm. \\nThe median overall survival was 12.3 months vs. 10.3 months in the control group \\n(hazard ratio 0.80). Response rate (10% vs. 27%) and time to progression (4.5 mos vs. \\n6.4 mos) also favored the bevacizumab arm. Toxicities included grade 4/5 neutropenia \\n(16.4% vs. 24%); grade 3/4 thrombosis/; & hemorrhage (1.0% \\nvs 4.1%). There were 11 treatment-related deaths (arm PC: 2; arm PCB: 9); 5 due to \\nhemoptysis, all on the bevacizumab arm. Bases on this trial, in October 2006, the FDA \\ngranted approval of this regimen for in more than 4000 healthy subjects and \\npatients (excluding patients exposed to placebo) in a number of Phase I, II, and III studies.24   \\n \\n\\n1.5.1 Dose Selection for Single-Agent Trials of Erlotinib \\n \\nPhase I trials of erlotinib explored both schedule and dose to evaluate the safety, \\ntolerability, and pharmacokinetic agent   A \\nnumber of pharmacokinetic trials in healthy subjects have been conducted, along with \\nthree classic Phase I trials in patients with advanced cancer.  The single-agent maximum \\ntolerated dose (MTDfollowing erlotinib discontinuation.  The rash did not result in study \\ndiscontinuation in patients with cancer in the Phase I trials.   \\n \\nLaboratory abnormalities observed infrequently with single-agent erlotinib involved \\nprimarily liver function testsAll rights reserved. \\nFER-TH-007 Amendment 4   October 1, 2012 \\n\\n11 \\n\\ndose in Phase I trials in heavily pretreated patients with advanced cancer.  Drug levels \\nseen in patients with cancer mL targeted for clinical efficacy.  \\n \\n1.5.2 Pharmacokinetics \\n \\nOral erlotinib is well absorbed and has an extended absorption phase, with mean peak \\nplasma levels occurring at 3 hours after oral dosing of 150 mg/dL trough concentration and patient age, body \\nweight, sex, ethnicity, or creatinine clearance. \\n \\n1.5.3 Phase II and III Trials in Patients with Advanced Cancer  \\n \\nMultiple Phase II trials evaluating the safety, tolerability, and antitumor activity of \\nerlotinib have been conducted in patients .   \\n \\nThe first randomized placebo controlled trial to demonstrate a survival advantage for an \\nEGFR inhibitor was the Phase III study, BR.21.  This international trial, conducted by the \\nNational Cancer Institute of Canada Clinical Trial Group (NCIC CTG), included 731 \\npatients with incurable Stage IIIb/IV NSCLC who have failed patients evaluable for safety (485 erlotinib, 242 placebo), the most \\ncommon AEs in the erlotinib arm were rash (75% erlotinib, 17% placebo), diarrhea (54% \\nerlotinib,  The incidence of interstitial \\nlung disease (ILD) reported was the same in the placebo and erlotinib groups at 0.8% in \\neach arm. \\n \\nTwo large, Phase III, randomized studies in first-line NSCLC patients evaluated erlotinib \\nin combination with platinum-based .  \\nOverall, the number of adverse events and serious adverse events were well balanced \\nbetween the two arms of each study, with two exceptions.  As expected, rash and diarrhea \\noccurred more frequently in the Erlotinib arms.  In the TRIBUTE study, more serious \\nadverse events resulting in death were seen in the Erlotinib arm compared with the \\nplacebo arm (53 vs. 27).  Most of the apparent imbalance was due to events reported as \\nparticularly \\nin NSCLC and renal cell carcinoma32,33.  This approach has scientific rationale because the two \\nagents target different pathways involved in tumor growth and non-clinical studies in xenograft \\nmodels have demonstrated that the provide \\neven greater benefit for patients who are unable to receive cytotoxic therapy.  \\n \\nAn investigator-sponsored Phase I/II trial (OSI2486s) has been conducted to evaluate the \\ncombination of bevacizumab and erlotinib in subjects with relapsed or refractory NSCLC with \\nnon-squamous histology32.  This Phase I study evaluated three dose combinations to determine \\ntolerability and pharmacokinetic profile of each agent when combined. day erlotinib + 15 mg/kg \\nbevacizumab every 3 weeks.  A total of 12 subjects were enrolled and treated (3, 3, and 6 per \\ncohort, respectively).  No dose-limiting toxicities were observed, and the pharmacokinetic \\nprofiles of both drugs did not appear to be affected by the combination.  \\n \\nFor the Phase II portion of the study, 22 subjects were evaluable for safety and efficacy, \\ninclusive of the 12 subjects treated in Phase I.  The majority of the subjects had a good \\nperformance status (11 with a Karnofsky score stable disease (31.2%) were reported.  Based on the preliminary \\ndata from this single-arm, Phase I/II study, it appears that the combination of bevacizumab and \\nerlotinib is well tolerated by ASCO meeting, Fehrenbacher presented an abstract from a study were patients \\nwith NSCLC were randomized to three different arms: chemo plus placebo, chemo plus \\nbevacizumab and erlotinib plus bevacizumab (AT). In this the elderly), \\nthe serious adverse event rates were somewhat less common in the erlotinib plus bevacizumab \\narm compared to the other two arms. There was one case of a pulmonary hemorrhage in this arm \\nvs. two in the chemo plus bevacizumab arm. Study discontinuation due to adverse events were \\nalso less frequent in the AT arm. Efficacy was similar to the chemo plus bevacizumab arm and \\nbetter that the chemo alone group34.  Hence the safety of this regimen has been tested kind, will explore the response rate in treatment-naïve \\nelderly patients with advanced NSCLC –an important cohort that needs less toxic therapies. \\n \\n2.0 OBJECTIVES \\n \\n2.1 Primary \\n  \\nThe primary objective of this Phase II study is to evaluate the progression free survival of \\ncombination bevacizumab and Tarceva (erlotinib) as co-morbidities (Charlson Co-Morbidity \\nIndex)35(Appendix H) \\n\\n \\n3.0 Study Design  \\n \\nThis is a phase II open label study for elderly patients with advanced NSCLC that have not \\nreceived chemotherapy for advanced diseaseSerum creatinine < = 3.0 mg/dl  \\n Serious, active infections must be controlled. Patients may be enrolled while still on \\n\\nantibiotics as long as clinical signs of active infection are absent. \\n Previous radiation and molecule characterization, see the bevacizumab Investigator \\nBrochure. \\n \\n6.1.2 Bevacizumab Safety Profile \\n \\n In the initial Phase I and II clinical trials, four potential bevacizumab-associated safety \\nsignals were identified: hypertension, proteinuria, thromboembolic events, and \\nhemorrhage.  Additional completed Phase II and Phase III studies of bevacizumab as well \\nas spontaneous reports have further defined the safety profile of this agent. Bevacizumab-\\nassociated adverse events identified in phase III trials include congestive heart failure \\n(CHF) primarily in metastatic breast cancer, gastrointestinal perforations, Proteinuria:  An increased incidence of proteinuria has been observed in patients treated \\nwith bevacizumab compared with control arm patients. In the bevacizumab-containing \\ntreatment arms of clinical trials (across all indications), the ',\n",
              "       \"#:  10-C-0011 J \\n Version Date:  08/03/2018 \\n NCT Number:   NCT01030900 \\n \\n\\nPHASE II TRIAL OF ALEMTUZUMAB (CAMPATH) AND DOSE-ADJUSTED \\nEPOCH-RITUXIMAB (DA-EPOCHcells and they appear to provide important survival signals to HRS cells.  \\n\\n• CD52 is one such promising target that is highly expressed in most of these infiltrating \\ncells and on most DLBCL although not on HRS and at relapse. \\n• It is anticipated that up to 10-15 patients per year may be enrolled onto this trial. Thus, \\n\\naccrual of up to 52 patients is expected to require approximately 4-5 years. \\n\\nonly) ...................................................................... 26 \\n\\n4.8 GI Prophylaxis ........................................................................................................... 26 \\n\\n5 BIOSPECIMEN COLLECTION .......................................................................................... 26 \\n\\n5.1 Procedures for Sample Collection ............................................................................. 26 \\n\\n5.2 Sample Storage, Tracking and Disposition ............................................................... 26 \\n\\n6 DATA COLLECTION AND EVALUATION ..................................................................... 28 \\n\\n6.1 Data Collection are associated with different prognoses 1. This has \\npaved the way for the development of therapeutic strategies that target specific pathways. \\nIndeed, we recently demonstrated that the ABC type may be preferentially targeted (when the addition of bortezomib to anthracycline-based chemotherapy \\n2.  \\nRecent work led by Dr. Staudt’s group has identified two signatures of the microenvironment \\nthat are predictive of R-CHOP outcome in DLBCL3. polymorphonuclear leukocytes and natural killer cells4. Although \\nvarious immune effector cells (e.g. cytotoxic T lymphocytes) are recruited to the tumor site, their \\nanti-tumor functions may be downregulated in response to tumor-:  EPOCH-RC in recurrent lymphoma \\nVersion Date:  08/03/2018 \\n\\n 7 \\n\\n  \\n \\nA promising therapeutic target is CD52 which is highly expressed on most DLBCL, including \\nboth ABC and GCB types, and IL-5, CCL5, CCL28 and granulocyte–macrophage colony-stimulating factor \\nby HRS cells presumably causes the recruitment of eosinophils into the Hodgkin's lymphoma \\nmicroenvironment. CCL5 additionally attracts mast cells. HRS cells also ) regimen was initially studied in 131 patients with \\nrelapsed or resistant lymphomas32.  46% of the group generally had a poor prognosis as \\ndetermined by a high-intermediate or high International Prognostic Index (in patients who showed no response to their last combination regimen \\n(i.e. resistant disease). In this group of 42 patients, 57% responded to EPOCH. Among patients \\nwith chemotherapy-sensitive disease, DLBCL. Jermann et al. reported the use of EPOCH-Rituximab combination as salvage therapy \\nin a phase II study36. Patients with relapsed or refractory CD20-positive large B-cell and mantle-\\ncell and ABC DLBCL patients who \\nreceived DA-EPOCH-B, there were significant differences between the 2 groups. The overall \\nresponse rate was 13% in GCB DLBCL compared to 83% in ABC DLBCL of treatment was used to determine Alemtuzumab dose escalation. Patients \\nwere treated with escalated doses of Alemtuzumab in cohorts of three patients; 4 patients were \\ntreated with 30 mg, and subsequent cohorts were treated with 60 and 90 mg. All but 3 were stage \\nIII or IV at presentation\\nVersion Date:  08/03/2018 \\n\\n 16 \\n\\n3 STUDY IMPLEMENTATION \\n3.1 STUDY DESIGN \\nThis is a phase II trial of Alemtuzumab in combination with DA-EPOCH-R given every 21 days \\nfor a > 50 cc/min.  No other dose modifications for abnormal renal \\nindices will be made for enrolled patients.  \\n\\nf. Other Non-Hematological Toxicity  \\n\\nSymptom grade Management \\n\\uf0a3 grade 2 Treat symptomatically \\nbiopsies. If a biopsy needs to be performed for medical reasons under general anesthesia, \\nthe obtained sample might be used for research purposes. \\n\\n3.5 CONCURRENT THERAPIES (CONTINUED UNTIL CD4 COUNT IS >100 patients for the entire duration while patient is on \\nchemotherapy. \\n\\n5 BIOSPECIMEN COLLECTION \\n5.1 PROCEDURES FOR SAMPLE COLLECTION \\nSample collection is outlined in Section 3.   \\n5.2 SAMPLE STORAGE, TRACKING AND DISPOSITION \\nAll specimens obtained in the protocol are used as defined in the protocollaboratory \\ndirector.  Each of these computers has a password restricted login screen.   \\n\\n• The database sample entry program itself is accessed through a password protected entry \\nscreen.   \\n\\nprogram has different levels of access approval to limit unauthorized \\nchanges to specimen records and the program maintains a sample history.   \\n\\n• Upon specimen receipt each sample is assigned a unique, sequential laboratory accession \\nID number.  All products generated by the laboratory • Inventory information will be stored at the vial level and each vial will be labeled with \\nboth a sample ID and a vial sequence number.   \\n\\n• Vial labels do not contain any personal identifier information. subcontract to Leidos Biomedical Research, Inc.    \\n\\n• Access to stored clinical samples is restricted.  Investigators establish sample collections \\nunder “Source Codes” and the investigator responsible for the collections, typically the \\nprotocol .  Specific \\npermissions will be required to view, input or withdraw samples from a collection. \\nSample withdrawal requests submitted to approved laboratory staff by anyone other than \\nthe repository source code owner are submitted for approval.  \\nThe repository facility will also notify the Source Code holder of any submitted requests \\nfor sample withdrawal.   \\n\\n• It is the responsibility of the Source Code holder (generally the NCI Principal \\nidentifier information as part of the transfer process but may, at the \\ndiscretion of the NCI investigator, group samples from individual patients when that is \\ncritical to the testing process.    \\n\\n• The NCI investigator responsible for the sample collection is responsible for ensuring \\nappropriate IRB approvals are in place and that a Material Transfer Agreement has \\nAbbreviated Title:  EPOCH-RC in recurrent lymphoma \\nVersion Date:  08/03/2018 \\n\\n 28 \\n\\nsample will typically consist of 2 cores in a microcentrifuge vial snap frozen on dry ice. \\nSurgical lymph 20-\\n100x106/mL in FCS with 10% DMSO using a temperature controlled freezing process to \\noptimize sample viability. Samples will be transferred to Nitrogen tanks for long term \\nstorage.  \\n\\n• Tumor and RNA is monitored by gel \\nelectrophoresis and concentration of RNA or protein is measured spectrophotometrically.  \\n\\n• Research sample inventory and storage: All research samples are assigned a unique \\nnumber and cataloged. Viably frozen cells called HP Patient Information and \\nSpecimen Inventory is used for tracking the samples. \\n\\n5.2.3 Protocol Completion/Sample Destruction \\nAny specimens that are remaining at the completion of the protocol will be stored in the \\nregimen=0.10) and beta = 0.10 (probability of rejecting a good \\nregimen=0.10), the study will initially enroll 14 evaluable patients, and if 0 to 3 of the 14 are \\nable to have a response then no further patients will be accrued. Response will be evaluated after \\n6 cycles or 18 weeks. If 4 or more of the first 14 patients have a response, then accrual would \\ncontinue until a total of 44 patients have been treated.   A temporary pause in the accrual may be \\nnecessary to ensure that enrollment to the second stage is warranted. If there are 4 informal manner to those of other previous studies. \\nToxicity will also be evaluated and monitored as patients are accrued to the trial. If at any point \\nin the accrual to the trial, there are greater than 1/3 of patients who have an SAE, then the trial \\nwill suspend accrual, and the study will either be terminated or have the drug regimen modified \\nto allow a safer outcome. It is anticipated that up to 10-15 patients per year may be enrolled onto \\nthis trial. Thus, accrual of up to 44 evaluable patients is expected to require approximately 3-4 \\nyears.  In order to allow for a small number of unavailable patients, the accrual ceiling will be set \\nat 47. \\nEffective with Amendment G, version date 05/08/2014, the accrual ceiling will be increased to \\n52 to allow for continued enrolment of patients with relapsed T cell histiocyte-rich Diffuse Large \\nB cell Lymphoma and advanced Lymphocyte Predominant performed.   \\n\\n10.3 PARTICIPATION OF SUBJECTS UNABLE TO GIVE CONSENT \\nAdults unable to give consent were excluded from enrolling in the protocol.  However, re-\\nconsent may be necessary and there is a possibility, alone. But this potential toxicity of this combination is \\nreasonable in relation to the potential benefit to this group of patients who have treatable \\ndiseases. Additionally, the knowledge that will be gained from this trial \\ndevelopment of a hematoma and bleeding. Rarely more significant complications can occur \\nwhen structures near the biopsy target are entered with the needle (for example, puncture of lung \\nor bowel). As far b r e v i at e d Titl e:  E P O C H -R C i n r e c urr e nt l y m p h o m a  \\nV ersi o n D at e:   0 8/ 0 3/ 2 0 1 8  \\n\\n 3 9  \\n\\n1 1. 2. 3  Pr e p ar ati o n  \\n\\nRit u xi m a b will  b e dil ut e d t o a fi n al v ol u m e of 0. 9 % S o di u m C hl ori d e or 5 % D e xtr os e I nj e cti o n \\nt o pr e p ar e a st a n d ar d pr o d u ct wit h c o n c e ntr ati o n of 2 m g/ ml.  C a uti o n s h o ul d b e t a k e n d uri n g th e \\npr e p ar ati o n of t h e dr u g, a s s h a ki n g c a n c a us e a g gr e g ati o n a n d pr e ci pit ati o n of t h e a nti b o d y.  \\n\\n1 1. 2. 4  A d mi ni str ati o n  \\n\\nA p eri p h er al or c e ntr al i ntr a v e n o us li n e will b e est a bli s h e d. D uri n g rit u xi m a b i nf usi o n, a p ati e nt's \\nvit al si g ns ( bl o o d pr ess ur e, p uls e, r es pir a ti o n, t e m p er at ur e) s h o ul d b e m o nit or e d a c c or di n g t o t h e \\nst a n d ar d of c ar e. M e di c ati o\",\n",
              "       'Version\\n\\nEUDRACT number: 2010-020399-41\\n\\nVersion number: v03 (clean)\\n\\nDevelopment phase: IIIb\\n\\nRelease date: 18-May-2016\\n\\nProperty of Novartis\\nConfidential\\n\\nMay not be treatment ......................................................................................................27\\n\\n5.1.1 Investigational and control drugs ..........................................................27\\n\\n5.1.2 Additional treatment..............................................................................27\\n\\n5.2 Treatment arms ......................................................................................................28\\n\\n5.3 Treatment assignment ............................................................................................28\\n\\n5.4 Treatment blinding.................................................................................................28\\n\\n5.5 Treating the patient 9.5.7 Pharmacogenetics/pharmacogenomics .................................................60\\n\\n9.5.8 Biomarkers ............................................................................................61\\n\\n9.5.9 PK/PD ...................................................................................................61\\n\\n9.6 Sample size calculation..........................................................................................61\\n\\n9.7 Interim analyses .....................................................................................................61\\n\\n10 Ethical considerations........................................................................................................61\\n\\n27\\n\\nTable 5-2 Preparation of i.v. zoledronic acid infusion ..........................................30\\n\\nTable 6-1 Group 1 Assessment schedule...............................................................34\\n\\nTable 6-2 Group 2 Assessment schedule...............................................................36\\n\\nTable 7-1 Guidance for capturing the study treatment errors including \\ncell volume\\n\\nMedDRA Medical Dictionary for Regulatory Activities\\n\\nMCHC Mean cell hemoglobin concentration\\n\\nNTX Cross-linked N-telopeptide\\n\\nOC/RDC Oracle Clinical/Remote Data Capture\\n\\nOI Osteogenesis Imperfecta\\n\\nONJ Osteonecrosis informed consent\\n\\nRandomization number A unique identifier assigned to each randomized patient, \\ncorresponding to a specific treatment arm assignment\\n\\nStudy drug Any single drug or combination of drugs administered to the patient \\nas part of current minimum RDAs for vitamin D and \\ncalcium from the Institute of Medicine. \\n\\n\\uf0b7 Visit 9 for Group 1 is now defined as up to 10 months after Visit 5 (month 6) of the \\nDMD) already specified previously. These additional conditions \\nare listed in Appendix 6 and the exclusion criteria for Group 2 have been revised to \\naddress these as follows: \\n\\n\\uf0b7 Due to the inclusion of some renal function defined as < 60 \\nmL/min/1.73 m2 based on the Schwartz formula at Visit 8 (Group 1) or Visit 8A \\n(Group 2). \\n\\n\\uf0b7 Schwartz formula has been added under Section 6.5.4.2\\n\\n\\uf0b7 In addition ‘serious definition of normal i.e. < 20 ng/mL or < 50 nmol/L at Visit 8A for \\nGroup 2. \\n\\n\\uf0b7 The blood volume required (Appendix 7) for the analysis of specialized bone \\nwithin the protocol and across supporting documents \\nespecially with respect to Serious Adverse Event/Adverse Event reporting in Group 2 and \\ncentral laboratory analyses. \\n\\n\\uf0b7 In this 12 month study, visit windows have been and replaced with a requirement \\nto perform the visit as close to the designated day as possible. For Group 2 only, the time \\nbetween Visit 8A and Visit 9 should be as close to 28 days .\\n\\nStatus of the study as of 10-May-2016:\\n\\nTwelve (12) patients have been enrolled onto this study, all were enrolled into Group 1; the \\nproposed changes will have no impact on the interpretation of the data.\\n\\nChanges underlying conditions other than chronic inflammatory disorders e.g. Duchenne muscular \\ndystrophy (DMD).\\n\\n\\uf0b7 Include (Group 2): patients not eligible to enroll into the Core study because of clinically \\nsignificant back pain (significant symptoms) from vertebral fracture and Therefore two Baselines are used in the study:\\n\\n\\uf0b7 Baseline 1: First visit of the Core for Group 1\\n\\n\\uf0b7 Baseline 2: First visit of the Extension for Group 2.\\n\\n\\uf0b7 Align with the Core study changes in the Inclusion/Exclusion criteria:\\n\\n\\uf0b7 12-month observational study of zoledronic acid in children and adolescents with \\nosteoporosis \\n\\nSponsor and \\nClinical Phase\\n\\nNovartis \\n\\nPhase IIIb\\n\\nInvestigation \\ntype\\n\\nDrug\\n\\nStudy type Interventional\\n\\nPurpose and \\nrationale\\n\\nTo evaluate the Core study (CZOL446H2337), is safe for the treatment of osteoporotic \\nchildren treated with glucocorticoids (Group 1 only)\\n\\nSecondary \\nObjectives\\n\\nGroup 1:\\n\\n1. To evaluate the change from baseline (Visit 1 of the Core study) in LS BMD Z-\\nscore at Month 18 and 24 by core treatment group.\\n\\n2. To evaluate the change from baseline 1 (Visit 1 of the Core study) in LS and total \\nbody BMC at Month 18 and 24 by core treatment group.\\n\\n3. To evaluate the change from baseline 1(Visit 1 of the Core study) in serum N-\\nterminal propeptide type I collagen (P1NP), cross linked N-telopeptide (NTX), \\nbone specific alkaline phosphatase (BSAP) and tartrate-resistant acid \\nphosphatase isoform 5b (TRAP-5b) at Month 18 and 24 by core treatment \\ngroup.\\n\\n4. To evaluate the proportion of patients with new clinical vertebral fractures during \\nthe 12 month extension period by core treatment group.\\n\\n5. To evaluate the proportion of patients with new morphometric vertebral fracture \\nduring the 12 month extension period by core treatment group.\\n\\n6. To evaluate the change from baseline 1 (Visit 1 of the Core study) -Revised (FPS-R) at Month 15, 18, 21 and 24 by core \\ntreatment group.\\n\\n7. To evaluate the change from baseline 1 (Visit 1 of the Core study) in 2nd \\nmetacarpal cortical width at month 24 by core treatment group.\\n\\n8. To evaluate the change from baseline 1(Visit 1 of the Core study) in bone age \\nand 2nd metacarpal cortical width at month 24 by core treatment group.\\n\\nGroup 2:\\n\\n1. To evaluate the change from (Extension) baseline 2 (Visit 8A) 6 and 12.\\n\\n3. To evaluate the relative change from (Extension) Baseline 2 in serum N-terminal \\npropeptide type I collagen (P1NP), cross linked N-telopeptide (NTX), bone \\nspecific alkaline phosphatase (BSAP) and tartrate-resistant acid -center, 1-year open-label extension to the \\nCZOL446H2337 Core study with a single treatment arm (zoledronic acid); there will \\nbe no placebo or active control group. All patients will have received glucocorticoid \\ntherapy of any duration within the 12 months preceding screening.of non-malignant conditions requiring treatment with systemic \\nglucocorticoids. All patients who complete the Core study (Group 1) will be eligible.\\nThose patients who were found to be eligible for the Core study but not enrolled due \\nto clinically significant back pain associated with the fracture (Group 2).\\n\\nApproximately 100 patients will be eligible for enrollment into the extension, for both \\ngroups. Patient recruitment in Group 2 will stop once enrollment in the Core study is \\ncompleted.\\n\\nKey Inclusion \\ncriteria\\n\\nWritten informed consent before any study-related procedure.\\n\\nGroup 1:\\n\\n1. Children and adolescents, male or female, 6-19 years old, study \\ndrug and have completed Visit 8 of the CZOL446H2337 Core study.\\n\\n2. Patient must be enrolled into the extension at Visit 9 up to 10 months after Visit 5 \\n(month 6) of regimen of calcium and vitamin D intake as required in \\nthe Core study through diet or supplementation.\\n\\nGroup 2:\\n\\n1. Children and adolescents, male or female, 5 - 17 years old who met the inclusion \\ncriteria for entry into the Core study but were not enrolled because of clinically \\nsignificant back pain from vertebral fracture and the preexisting clinical care at \\nthe Investigator from standing height or less).\\n\\nKey Exclusion 1. Major protocol violation in the Core Study (Group 1 only).\\n\\nTrial Protocol (Version 03) clean Protocol No. CZOL446H2337E1\\n\\ncriteria 2. Prior use of bisphosphonates (Group 2 only) or sodium fluoride (doses for \\nosteoporosis not for dental hygiene).\\n\\n3D concentrations of < 20 \\nng/mL or < 50 nmol/L) at Visit 8 (Group 1) or Visit 8A (Group 2).\\n\\n5. Renal impairment defined as an estimated glomerular filtration rate (GFR) \\nformula at Visit 8 \\nor 8 A; a serum creatinine above the normal range at Visit 9 (Group 1) or \\nan increase between Visit 8A and Visit 9 greater than 0.5 mg/dL (44.2 \\nμmol/L) for Group 2.\\n\\n6. Female patients of child bearing potential are eligible only if they are not \\n; and bone safety monitoring.\\n\\nData analysis Data analyses will be performed separately for the two populations (Group 1 [SAF-\\n1] and Group 2 [SAF-2]), if not otherwise specified. \\n\\nFor the patients in Group 2 (SAF-2); only descriptive statistics will be reported for \\nthe single treatment arm.\\n\\nKey words Osteoporosis, children and adolescents, zoledronic acid, chronic inflammation, \\nDuchenne muscular with \\nGCs. Patients who completed the Core study are referred to in this protocol as patients in \\nGroup 1. This study will also add to the information available on the management of \\n\\nis to treat this type of patient with a bisphosphonate. These patients are\\nincluded in this protocol in Group 2.\\n\\n2 Study objectives\\n\\n2.1 Primary objective\\n\\nThe primary objective of this study is to . This objective applies only to patients \\nwho completed the Core study (these patients are referred to as Group 1).\\n\\n2.2 Secondary objective(s)\\n\\nGroup 1 secondary objectives:\\n\\n1. To evaluate the change from baseline 1 (Visit 1 of the Core study) in LS-BMD Z-score at \\nMonth 18 and 24 by core treatment group.\\n\\n2. To evaluate the change from baseline 1 (Visit 1 of the Core study) in LS and total body \\nBMC at Month 18 and 24 by core treatment group.\\n\\n3. To evaluate the change from baseline 1(Visit 1 of the Core study) in serum N-terminal \\npropeptide type I collagen (P1NP), cross linked N-telopeptide (NTX), bone specific \\nalkaline ph',\n",
              "       'staff: \\nGeorgetown University  \\nSchool of Medicine \\n3900 Reservoir Rd NW \\nWashington, DC 2007 \\n \\n\\n \\n\\n   \\nAccrual number:  300 \\nSponsor:  No \\nProject uses Ionizing Radiation: Yes  \\nIND/Reporting Guidelines: ............................................ 36 \\n8.3 IND/IDE: ............................................................................................... 36 \\n\\n9.0 Multi-Institutional Guidelines: N/A ............................................................ 36 \\n10.0 Pharmaceutical and/or Investigational Device Information ....................... 36 \\n11.0 Reference: ................................................................................................ 42 guided by MRI images of the carotid arteries.  Participants randomized to the \\nsecond, imaging guided, group will be assigned to LDL cholesterol targets \\naccording to the degree of atherosclerosis seen by MRI.  regression with therapy controlling for the reduction in LDL cholesterol and the \\ndosage of statins required to achieve that target. \\n \\nAlthough contrast-enhanced coronary CT angiography (CTA) with multidetector \\ncomputed tomography (MDCT“vulnerable” plaques, plaques that demonstrate \\nheightened inflammation, neovascularization or apoptosis.  The primary \\ntarget is the carotid and coronary arteries, imaging will also include the \\nascending and descending aorta, and in which 200 \\nmen and women aged 55 and older will be randomized to one of two \\ntreatment arms.  The study duration will be 24 months.  The control group \\nwill receive standard care with NCEP ATP IIIR guided statin therapy as \\ndetermined by clinical risk factors.  The imaging intervention group will \\nhave lipid targets assigned according to the severity of atherosclerotic \\nplaque measured as wall volume in (using \\nthe MESA study as a reference population(4)) will have statin therapy \\nadjusted to a target LDL between 100-130 mg/dL.  Patients in the middle \\ntertile will receive statin therapy to an LDL target of 70-100 mg/dL.  \\nPatients in the highest tertile will receive statin therapy to achieve below 70 mg/dL.  Participants will be randomized in a equal ratio \\ninto imaging guided and control groups, respectively.  This recruitment \\ngoal is designed to account for an estimated 20% attrition rate and \\nmaintain adequate power at of \\ncarotid arterial wall volume using contrast enhanced MR.  For participants \\nrandomized to the imaging intervention arm, measured wall volume will be \\ncompared against the MESA population, and treatment targets will be \\nno atherosclerosis, defined as the lowest tertile of wall volume, will \\nhave statin therapy adjusted to a target range of 100-130 mg/dL   \\nParticipants in the middle tertile will receive statin therapy adjusted to \\nachieve a target LDL 70-100 mg/dL.   Participants with the most severe \\natherosclerosis will receive statin therapy to an LDL target between 40 \\nand 70 mg/dL.  Participants in the control arm will have lipid sub-fraction \\ntargets determined according to estimated 10 year cardiovascular risk, as \\nextended release once daily \\n\\nrosuvastatin 40 mg/ day  \\n\\nsimvastatin 80 mg/day  \\n\\n \\nSubjects assigned to both arms of the study will undergo carotid MR for \\nplaque evaluation at baseline, 12 and 24 months of 10/26/17 \\n\\n10 \\n\\nData Analyses of Carotid MR imaging \\n \\nCo-investigators blinded to the results of treatment group assignment and \\npatient characteristics will be responsible for the measurement of all  MR \\noutcome variables, slice-thickness by a multi-\\nsegment reconstruction algorithm. The baseline axial MDCT images with \\nadequate reconstruction phase will be post processed and analyzed by \\ncommercial software (Sure Plaque, Toshiba Medical Systems). Lumen \\nand wall boundaries of target vessels will be semi-automatically detected \\non cross sectional images. Under the guide of stretched multiplanar Outer contour volume – lumen volume (mm3) \\n \\n\\n PET Substudy \\n \\n\\nA subgroup of 60 patients will be recruited to participate in PET scanning \\nwhich will be performed twice, once at study initiation and after 6 be collected. The total \\ncholesterol and LDL levels and the dosage of statins required to achieve \\nthat target will be recorded. \\n \\nInclusion Criteria: \\nParticipants who are not participating in the CT Reproducibility study dietary manipulation and the maintenance \\nof strict glycemic control we will exclude diabetic patients from our initial \\nstudy sample. Blood glucose measurements before injection must be \\nwithin normal limits, less than 200 mg/dL gating \\nwill be performed.  Images will be acquired in list-mode allowing for both \\nsingle phase and segmented reconstructions.   \\n \\nSubjects will be placed in a head holder and mobility-restricted with \\nx weight (kg)   \\n                          (dose (Bq) x 1000 (g/kg)) \\n\\n \\nTarget (plaque) -to-background (blood) ratio (TBR) normalizes vessel wall \\nFDG uptake jugular vein for the carotids and the inferior \\nvena cava for the aorta and iliac vessels.   \\n \\nThe target-to-background ratio is calculated: \\n \\n\\nTBR =           mean voxel value within ROI (MBqyear.   \\n \\nSixteen to twenty-four patients (total, n=60) will be selected from three \\ngroups: (a) patients with a calcium score of 0-99, (b) patients with lowering therapy under NCEP ATP III \\n\\nguidelines without contraindication to statin therapy \\n \\n\\nC. Willing to modify therapy to enroll in the study  \\n \\n\\nD. Willing to travel to the NIH for follow-up visits. \\n \\n\\nE. dietary manipulation and the \\nmaintenance of strict glycemic control we will exclude diabetic \\npatients from our initial study sample.   Blood glucose \\nmeasurements before injection must be within normal limits, less \\nthan 200 mg– Appendix B \\n\\n2.4 Registration Procedures \\n\\nUpon completion of the screening process, eligible subjects will be  \\nenrolled on the study and will begin treatment after being \\nrandomized by the NIH Pharmaceutical Development Services.  \\n\\nbe open-label randomized by the NIH \\nPharmaceutical Development Service in to either the image guided \\ntherapy arm or the standardized treatment arm using a random \\nnumber table used by the NIH Pharmaceutical Development \\nService Department.  Double blinding feasible in light of the \\nneed for study physicians to titrate drugs to LDL targets.   \\n \\nThe treatment group assignments will be blinded to the MRI and CT \\nreaders.  If a participant should need to come off study for any \\nreason, they will be informed which arm they were randomized to. \\n \\n\\n3.0 Subjects Implementation \\n\\n3.1 Study Design \\n\\nThis is a randomized, in which 200 men and \\nwomen aged 55 and older will be randomized to one of two \\ntreatment arms.  The study followup will be 24 months.  The control \\ngroup will receive standard care with NCEP ATP IIIR guided statin \\ntherapy as determined by clinical risk factors. \\n  Version Date:   10/26/17 \\n\\n21 \\n\\n \\nThe imaging intervention group will have lipid targets assigned \\naccording to the severity of atherosclerotic plaque measured as \\nwall volume in (using the MESA \\nstudy as a reference population(4)) will have statin therapy adjusted \\nto a target LDL between 100-130 mg/dL.  Patients in the middle \\ntertile will receive statin therapy to an LDL target of 70-100 mg/dL.  \\nPatients in the highest tertile will receive statin therapy to achieve and less than 70 mg/dL.  Participants will \\nbe randomized in equal numbers to the two study arms.   \\n\\n \\nWe estimate we will accrue approximately 3-4 subjects a month, \\nleading to full accrual within 50 months. \\n\\n3.2 Protocol Evaluation/Study Calendar \\n\\nTreatment Arms: Randomized 1 (Arm A):1 (Arm B) \\n \\nA. Statin therapy with lipid targets determined by plaque imaging.  \\n\\n \\n1. Lowest tertile  Should a \\nparticipant’s LDL fluctuate after the 6 month visit, bringing them \\noutside of their target range, statin dosage may be increased or \\ndecreased as necessary to return them to their protocol assigned \\ntarget.  Participants who have not reached their LDL target after the \\n6 month dose adjustment will be removed from study treatment as \\nper off-treatment \\n  Version Date:   10/26/17 \\n\\n23 \\n\\n3.3 Concurrent Therapies \\n\\nN/A \\n\\n3.4 Criteria for removal from Treatment/Protocol \\n\\n3.4.1 Off Treatment Criteria: \\n\\n \\n\\nSubjects follow up, \\nthey will complete imaging as per protocol and be analyzed \\naccording to their original treatment group assignment.   \\n\\n \\n1. Occurrence of a clinical cardiovascular event including \\n\\nmyocardial infarction, acute coronary syndrome, \\nnot wanting to adhere to the study medications) \\n\\n  \\n3. Inability to reach our study LDL target after 6 months of \\n\\ntitration (study visit 4) \\n \\n\\n4. Elevations of liver enzymes three 125 mm3, combining data from both the left and right arteries. The \\nbaseline mean for the entire group was 300.0. Since the proposed study \\nhas a longer duration (24 months) than the NIA MRI technology, we anticipate a \\nlarger effect size than was seen in the NIA Plaque Study. The sample size \\ncalculations were based on finding a 40% decrease in plaque volume in \\nthe image-guided arm compared to a 20% decrease in the conventional \\ntreatment arm at 24 months using a two-sample t-test.  The table below \\nshows the power to detect this difference at the 5% level of significance, \\nassuming 80 subjects in each group. These power calculations were \\nbased on comparing the change from baseline at a single time point. a mixed model, which will \\ninclude multiple observations per patient. Therefore, 80 patients in each \\ngroup will certainly provide adequate power. As discussed below we \\nassume that the attrition rate will be 0.20 at the 24-month follow-up. Thus, \\nrecruiting 200 study participants will be sufficient for this study. These \\ncalculations were based on the optimal allocation of equal numbers to the \\ntwo arms. However a 3/1 ratio of image-guided to conventional therapy did \\nnot meaningfully reduce the power.   \\n\\n \\n \\n\\n \\n \\n \\n\\nPower of a two-sample t test to detect the indicated difference in change from \\nbaseline at 24 months \\n\\n \\nFor the secondary hazard rate, which ',\n",
              "       'Page 1 of 68  \\n \\n\\nVersion 8: 22 May 2014 \\n\\n \\n\\nProtocol Title: \\n\\nAn Open-Label Phase 2 Study of Ofatumumab (Arzerra\\uf0e2) in \\nCombination with Oral GSK2110183 in the Treatment of Relapsed and \\nDSMB \\nEC \\n\\nData Safety Monitoring Board \\nEthics Committee \\n\\nECG Electrocardiogram \\nECOG Eastern Cooperative Oncology Group \\nFCBP Female of child bearing potential \\nFDA Food and Drug Administration \\nFISH Fluorescence in situ hybridization ……………………………………………10.4 \\n\\n Patient Accrual and Study Duration…………………………………10.5 \\n\\nRegulatory  \\n \\n\\nVersion 8: 22 May 2014 \\n\\n1. Protocol Synopsis \\n\\nPROTOCOL TITLE: An Open-Label Phase 2 Study of Ofatumumab (Arzerra\\uf0e2) in \\nCombination with Oral GSK2110183 in the Treatment of Relapsed and :  Relapsed or refractory CLL, previously treated \\nwith at least one fludarabine-containing regimen \\n\\nSTUDY PHASE:  Phase II \\n\\n \\n \\nBACKGROUND AND RATIONALE: \\n \\nOfatumumab is a novel anti-CD20 monoclonal antibody with promising antilead to clear apoptosis, similar to that seen in \\nfludarabine-sensitive samples.  In an ongoing phase 1-2 trial of single agent GSK2110183 in \\nrelapsed and refractory patients with various hematologic malignancies, agent was found \\nto be very well-tolerated with minimal myelotoxicity. Dose-limiting toxicities in the phase 1 part \\nwere reversible liver enzyme abnormalities.  The phase 2 part is ongoing and has thus far shown \\nencouraging responses in myeloma and other lymphoproliferative disorders, PMH-GSK2110183-CLL001 Confidential Page 9 of 68  \\n \\n\\nVersion 8: 22 May 2014 \\n\\ndaily recommended phase 2 dose of GSK2110183 will be used. As neither ofatumumab nor \\nGSK2110183 are myelosuppressive, the combination competing trials for CLL patients who are relapsed or refractory to prior fludarabine-based \\ntherapy, and therefore accrual to this proposed study is anticipated to be rapid and efficient. \\n \\nSTUDY OBJECTIVES: \\nPrimary: ofatumumab in combination with GSK2110183. \\n\\n3. To identify predictors of response using gene expression analysis and demonstrate target \\ninhibition via flow-cytometry based pharmacodynamic studies.  \\n\\n4. To evaluate the pharmacokinetics of GSK2110183 dosing and in combination with ofatumumab in first 10 eligible participants. \\n\\n \\n\\nSTUDY DESIGN: \\nThis is a phase 2, open-label, single institution trial of combination of intravenous (IV) \\nofatumumab and therapy containing fludarabine (single-agent or \\ncombination therapy).  During the initial 7 months Treatment Phase, ofatumumab will be \\nadministered weekly for 8 doses, then once every 4 week cycle for an additional 4 doses (dose \\nand schedule identical to the pivotal phase 2 trial) (Wierda 2010) and GSK2110183 will be given \\ndaily PO (Treatment Phase).  There will be an initial 10 day lead-in with GSK2110183 alone \\nprior to evaluation of changes in cell surface expression due \\nto GSK2110183 and for GSK2110183 pharmacokinetic studies (Lead-in Phase).  The official \\nCycle 1 Day 1 will start on the date of first dose of for safety, disease assessment, response, and survival on day 1 of each \\ncycle during the Treatment Phase. The safety data will be reviewed by the Data Safety \\nMonitoring Board (DSMB) during their safety data is awaited. All patients achieving SD, PR or CR by the \\nend of the Treatment Phase will proceed to the Maintenance Phase. Patients with PD at any time, \\nincluding by the end of Treatment Phase, will be taken off study.  During the Maintenance Phase, \\n\\nMaximum duration on any study drug is 18 months (18 cycles).  During the Follow-up Phase, \\npatients will be assessed for safety, disease assessment, response, and survival every 3 months withdrawal are progressive disease, intolerable toxicity, or completion \\nof therapy.   \\n \\nLead-in                               Treatment Phase                                       Maintenance \\nPhase                                                                                                       Phase \\n     \\n Day 1-10*         \\n                  O  O O  O  O O  O  monthly (i.e. every 4 weeks) infusions. \\n* PK sampling on Day 10 of lead-in phase and with 8th weekly dose of ofatumumab \\n \\n\\nSTUDY ENDPOINTS \\nPrimary: \\n\\n\\uf0b7 Overall Response Rate (Lead-in of 10 days \\n\\n\\uf0b7 At any time for unacceptable toxicity \\nor patient request \\n\\n \\n\\nTOTAL SAMPLE SIZE:  \\n \\n\\n31 response evaluable patients \\n\\nDOSING REGIMEN (S): \\nGSK2110183 125mg OD continuously Version 8: 22 May 2014 \\n\\n2   Schedule of Study Assessments *  \\n\\nProcedures Screening Lead-in phase Treatment Phase  Maintenance Phase Follow-up \\n \\n \\n \\n \\n\\n< 28 days from \\nLead-in Day 1 \\n\\n(Days 1 to \\nadditional bone marrow aspirate (no biopsy) will be performed on Day 8 of the lead-in phase (Window period of + 2 days to coincide with clinic days) for \\ncorrelative studies only. baseline abnormalities on CT will undergo rescanning at end of cycle 6 (prior to the start of the Maintenance Phase), at study discontinuation, \\nand to assess CR only.  CT scans will not be conjugated) \\nbilirubin will be evaluated. Please note that the glucose should be performed on a fasting blood sample (at least 8 hours fasting)  (either separately from other \\nchemistry or all scheduled chemistry for pharmacokinetic studies will be performed on first 10 eligible participants; on Day 10 of the Lead-in Phase and Cycle 2 Day 22 \\nof the Treatment Phase (with 8th weekly dose of ofatumumab): Predose (before GSK2110183 dose), 0.5, 1, can lead to clear apoptosis, similar to that seen in fludarabine-\\n\\nsensitive samples.  In an ongoing phase 1-2 trial of single agent GSK2110183 in relapsed and \\n\\nrefractory patients with various hematologic malignancies, agent was found to be very well-\\n\\ntolerated with minimal myelotoxicity.  Dose-limiting toxicities in the phase 1 part were reversible \\n\\nliver enzyme abnormalities.  The phase 2 part is ongoing and has so far shown encouraging \\n\\nresponses in myeloma and other lymphoproliferative disorders, be \\n\\nidentical to that used in the pivotal trial of single-agent ofatumumab and the daily recommended \\n\\nphase 2 dose of GSK2110183 will be used. As neither ofatumumab nor GSK2110183 are \\n\\nmyelosuppressive, the combination competing trials for CLL patients who are relapsed or refractory to prior \\n\\nfludarabine-based therapy, and therefore accrual to this proposed study is anticipated to be rapid and \\n\\nefficient. \\n\\n \\n3.2.2 Correlative studies rationale: proposed clinical trial, we will conduct experiments aimed at \\n\\nidentifying predictors of response and pharmacodynamic studies to demonstrate target inhibition. \\n\\nPharmacokinetic studies will be analyzed after multiple dosing of GSK2110183 alone and during \\n\\ncombination GSK2110183 ofatumumab \\nin combination with GSK2110183.  \\n\\n\\uf0b7 To identify predictors of response using gene expression analysis and demonstrate target \\ninhibition via flow-cytometry based pharmacodynamic studies (Appendix 6) \\n\\n\\uf0b7 To evaluate the pharmacokinetics of adverse events to study therapy). \\n\\n5 Investigational Plan \\n\\n5.1 Overall design \\n\\nThis is a phase 2, open-label, single institution trial of combination IV ofatumumab and oral \\n\\nGSK2110183 in patients \\nPMH-GSK2110183-CLL001 Confidential Page 17 of 68  \\n \\n\\nVersion 8: 22 May 2014 \\n   \\n\\nPhase, ofatumumab will be administered weekly for 8 doses, then once every 4 weeks cycle for an \\n\\nadditional 4 doses (dose and schedule identical to the pivotal phase 2 trial, Wierda et al. 2010)  and \\n\\nGSK2110183 will be given daily PO (Treatment Phase).  There will be an initial 10 day lead-in with \\n\\nGSK2110183 alone prior to allow for evaluation of changes in cell \\n\\nsurface expression due to GSK2110183 and pharmacokinetic studies (Lead-in Phase).  The official \\n\\nCycle 1 Day 1 will start on the date of first dose of for safety, disease assessment, response, and survival on day 1 of each cycle during \\n\\nthe Treatment Phase.  The safety data will be reviewed by the DSMB during their biannual meeting. \\n\\nEnrollment will safety data is awaited. All \\n\\npatients achieving SD, PR or CR by the end of the Treatment Phase will proceed to the Maintenance \\n\\nPhase. Patients with PD at any time, including by the end of Treatment Phase, will be taken off \\n\\nstudy.  During the Maintenance Phase, single-agent GSK2110183 will be administered daily for a \\n\\nmaximum of 11 months (11 cyclesMaximum duration on any study drug is 18 months (18 cycles).  \\n\\nDuring the Follow-up Phase, patients will be assessed for safety, disease assessment, response, and \\n\\nsurvival every 3 months study withdrawal are progressive disease, intolerable \\n\\ntoxicity or completion of therapy.   \\n \\n\\nLead-in                               Treatment Phase                                       Maintenance \\nPhase                                                                                                       Phase \\n     \\nDay 1-10*         \\n                  O  O  O  O  O  O  monthly (i.e. every 4 weeks) infusions. \\n\\n* PK sampling on Day 10 of lead-in phase and with 8th weekly dose of ofatumumab (see Appendix 6) \\n\\n \\n\\ncompared to tumor cell lysis capability observed with rituximab (Teeling et al \\n\\n2006). \\n\\n \\n\\nIn a phase I dose-ranging trial of ofatumumab 500mg (n=3), 1000mg (n=3), 2008).  Cmax, Cmin, AUC and t½ increased from dose 1 to 4 in all three arms. In the \\n\\n2000mg dose group, objective response significantly correlated with Cmax, AUC and t½ after dose 4 \\n\\nand survival endpoints correlated and non-opportunistic grade 1-2 \\n\\ninfections were observed in 51% of patients. \\n\\n \\n\\nA phase II study of 500mg and 1000mg ofatumumab in combination with fludarabine and \\n\\ncyclophosphamide (OFC) of 68  \\n \\n\\nVersion 8: 22 May 2014 \\n   \\n\\n5.1.2 GSK2110183 \\n\\nGSK2110183 is a novel member of the N-alkyl pyrazole class of orally available kinase inhibitors \\n\\nand has been shown to be a potent, due to a lack of AKT kinase inhibition. GSK2110183 has been shown to induce cycle arrest at G1 \\n\\nphase or apoptosis in a concentration-dependent manner depending on the cellular context. \\n\\n \\n\\nGSK2110183 is an oral, low nanomolar pan-AKT kinase inhibitor given once daily in a ph',\n",
              "       '\\nC LI NI C A L P R O T O C O L \\n\\nA N O P E N -L A B E L  S T U D Y F O R P R E VI O U S L Y T R E A T E D A T A L U R E N  \\n( P T C 1 2 4®) P A TI E N T S  WI T H  \\n\\nN O N S E N S E M U T A TI O N D Y S T R O P HI N O P A T H Y     \\n\\nPr ot o c ol N u m b er P T C 1 2 4Pr ot o c ol N u m b er P T C 1 2 4 --G DG D --0 1 90 1 9 --D M DD M D   \\n\\n1 8 N o v e m b er 1 8 N o v e m b er 2 0 1 52 0 1 5   \\n\\nV er si o n V er si o n 55 . 0. 0  \\n\\nP T C T h er a p e uti c s, I n c.P T C T h er a p e uti c s, I n c.   \\n1 0 0 C or p or at e C o urt1 0 0 C or p at e C o urt   \\n\\nS o ut h S o ut h Pl ai nfi el d, N J 0 7 0 8 0 U S APl ai nfi el d, N J 0 7 0 8 0 U S A\\n\\nN oti c e  of  Pr o pri et ar y  I nf or m ati o n:  T hi s  d o c u m e nt  c o nt ai n s  c o nfi d e nti al  i nf or m ati o n  b el o n gi n g  t o  \\nP T C  T h er a p e uti c s, I n c.  E x c e pt a s m a y ot h er wi s e b e p er mitt e d i n writi n g, b y a c c e pti n g or r e vi e wi n g \\nt h e s e  m at eri al s,  y o u  a gr e e  t h at  t h i s  i nf or m ati o n  s h o ul d  n ot  b e  di s cl o s e d  t o  ot h er uir e d  b y a p pli c a bl e  l a w)  a n d  s h o ul d  n ot  b e  u s e d  f or  u n a ut h ori z e d  p ur p o s e s.   I n  t h e  e v e nt  of  a n  \\na ct u al or s u s p e ct e d br e a c h of t hi s o bli g ati o n, P T C T h er a p e uti c s, I n c. s h o ul d b e n otifi e d pr o m pt l y. \\n\\nN C T #: N C T 0 1 5 5 7 4 0 0\\n\\n PTC124-GD-019-DMD \\n\\nProtocol Version Version 5.0 \\n\\nProtocol Version Date 18 November 2015 \\nProtocol Phase Phase 3 \\n\\nProtocol Title An Open-Label Study for Previously Treated Ataluren \\n(PTC124) Patients with \\nPr ot o c ol N u m b er P T C 1 2 4 -G D -0 1 9 -D M D  1 8 N o v e m b er  2 0 1 5   \\nV er si o n 5 . 0 \\n\\n \\n\\n \\nP T C T h er a p e uti cs, I n c.  –  C o nfi d e nti al  \\n\\nP a g e 5  of 8 6  \\n \\n\\nT A B L E O F C O N T E N T S   \\n\\n1.  O V E R VI E W  ..................................................................................................................................................... 1 1  \\n\\n1. 1.  B A C K G R O U N D  ........................................................................................................................................... 1 1  \\n1. 2.  S T U D Y D E SI G N  .......................................................................................................................................... 1 2  \\n\\n2.  I N T R O D U C TI O N  ............................................................................................................................................ 1 2  \\n\\n2. 1.  D I S E A S E IN DI C A TI O N  ................................................................................................................................. 1 2  \\n2. 2.  A T A L U R E N ( P T C 1 2 4) ................................................................................................................................ 1 3  \\n\\n2. 2. 1.  T h er a p e uti c C o n c e pt  ............................................................................................................................ 1 3  \\n2. 2. 2.  C h e mi c al D es cri pti o n  .......................................................................................................................... 1 4  \\n2. 2. 3.  Cli ni c al St u di 1 4  \\n\\n3.  S T U D Y O B J E C TI V E A N D E N D P O I N T S  ..................................................................................................... 1 8  \\n\\n3. 1.  P RI M A R Y O J E C TI V E  ................................................................................................................................. 1 8  \\n3. 2.  S E C O N D A R Y O B J E C TI V E S  .......................................................................................................................... 1 8  \\n3. 3.  C LI NI C A L E N D P OI N T S  ................................................................................................................................ 1 8  \\n\\n4.  S U B J E C T S E L E C TI O N C R I T E RI A  ............................................................................................................. 1 9  \\n\\n4. 1.  O V E R VI E W ................................................................................................................................................. 1 9  \\n4. 2.  IN C L U SI O N C RI T E RI A  ................................................................................................................................. 1 9  \\n4. 3.  E X C L U SI O N C RI T E RI A  ................................................................................................................................ 2 0  \\n\\n5.  E N R O L L M E N T P R O C E D U R E S  ................................................................................................................... 2 1  \\n\\n5. 1.  S O U R C E A N D N U M B E R O F S U B J E C T S  ......................................................................................................... 2 1  \\n5. 2.  S C R E E NI N G A N D S T U D Y D R U G A L L O C A TI O N  ............................................................................................. 2 1  \\n\\n6.  S T U D Y D R U G A D M I NI S T R A TI O N  ............................................................................................................ 2 1  \\n\\n6. 1.  IN V E S TI G A TI O N A L P R O D U C T  ..................................................................................................................... 2 1  \\n6. 1. 1.  At al u r e n ( P T C 1 2 4)  .............................................................................................................................. 2 1  \\n6. 1. 2. 6. 1. 3.  St u d y Dr u g P a c k a gi n g a n d L a b eli n g  ................................................................................................... 2 2  \\n6. 1. 4.  St u d y Dr u g Dis p e n si n g  ........................................................................................................................ 2 2  \\n6. 1. 5.  R et u r n of St u d y Dr u g  ........................................................................................................................... 2 2  \\n6. 1. 6.  St o r a g e a n d St a bilit y ............................................................................................................................ 2 2  \\n6. 1. 7.  St u d . 1. 8.  O v er d o s e P r e c a uti o n s  .......................................................................................................................... 2 3  \\n6. 1. 9.  I n a d v ert e nt E x p o s u r e a n d S pill P r e c a uti o n s ....................................................................................... 2 3  \\n\\n6. 2.  S T U D Y D R U G T R E A T M E N T  ........................................................................................................................ 2 3  \\n6. 2. 1.  D u r ati o n of T h er a p y  ............................................................................................................................ 2 3  \\n6. 2. 2.  S c h e d ul e of A d mi nistr ati o n  .................................................................................................................. 2 4  \\n6. 2. 3.  I n str u cti o n s f o r D el a ys i n D o si n g ........................................................................................................ 2 4  \\n6. 2. 4.  St u d y Dr u g P r e p a r ati o n a n d St o r a g e  .................................................................................................. 2 4  \\n\\n6. 3.  S A F E T Y M O NI T O RI N G A N D S T U D Y D R U G D O S E IN T E R R U P TI O N / MO DI FI C A TI O N  ........................................ 2 5  \\n6. 3. 1.  L a b o r at o r y A b n o r m aliti es a n d A d v ers e E v e nts R e q uiri n g E v al u ati o n a n d P ot e nti al Dr u g \\nI nt err u pti o n/ M o difi c ati o n .................................................................................................................................. 2 5  \\n6. 3. 2.  E v al u ati o n of A d v ers e E v e nts o r L a b o r at o r y A b n o r m aliti es  ............................................................... 2 7  \\n6. 3. 3.  I n str u cti o n s f o r R es u mi n g St u d y Dr u g A d mi nistr ati o n aft er a n .......................................................... 2 7  \\nI nt err u pti o n f o r S af et y C o n c er n s ....................................................................................................................... 2 7  \\n6. 3. 4.  I n str u cti o n s f o r Dis c o nti n u ati o n of St u d y Dr u g A d mi nistr ati o n f o r .................................................... 2 8  \\nS af et y C o n c er n s .................................................................................................................................................. 2 8  \\n\\n6. 4.  C O N C O MI T A N T A N D S U P P O R TI V E T H E R A P Y  .............................................................................................. \\nPr ot o c ol N u m b er P T C 1 2 4 -G D -0 1 9 -D M D  1 8 N o v e m b er  2 0 1 5   \\nV er si o n 5 . 0 \\n\\n \\n\\n \\nP T C T h er a p e uti cs, I n c.  –  C o nfi d e nti al  \\n\\nP a g e 6  of 8 6  \\n \\n\\n6. 4. 1.  A mi n o gl y c o si d es o r Ot h er P ot e nti all y N e p h r ot o xi c A g e nts  ................................................................. 2 9  \\n6. 4. 2.  H y d r ati o n  ............................................................................................................................................. 2 9  \\n6. 4. 3.  C a r di a c Dr oliz e d b y C yt o c h r o m e  P 4 5 0 E n z y m es  ............................................................................. 3 0  \\n6. 4. 5.  Ot h er P ot e nti al Dr u g I nt er a cti o n s  ....................................................................................................... 3 0  \\n6. 4. 6.  Ot h er C o n c o mi',\n",
              "       'of \\n\\nNNC 0129-0000-1003 in Previously Treated Paediatric \\nPatients with Severe Haemophilia A\\n\\nTrial phase: 3\\n\\nProtocol originator: \\nName: \\n\\nThis confidential document is the property of Novo Nordisktrial design..............................................................................................................25\\n5.3 Treatment of patients ...................................................................................................................26\\n\\n5.3.1 Prophylaxis treatment ................................................................................................26\\n5.3.1.1 Extension phase...................................................................................27\\n\\n5.3.2 Treatment of bleeding episodes .................................................................................27\\n5.3.2.1 Treatment of suspected bleeding episodes ..........................................28– 7  N8-GP dosing visits for all patients ........................................................44\\n8.1.5 Visit 8 End of main phase..........................................................................................45\\n8.1.6 Visit 9 – 16 N8-GP dosing visits for all patients .......................................................46\\nPatient reported outcomes..........................................................................................64\\n8.8 Patient compliance.......................................................................................................................65\\n\\n8.8.1 Definition of treatment compliance in the main phase ..............................................65\\n8.8.2 Definition of treatment compliance in the extension phase.......................................65\\n\\n9 Trial supplies ...........................................................................................................................................66\\n9.1 Trial products...............................................................................................................................66\\n9.2 Non-investigational \\n\\n14 Data management....................................................................................................................................84\\n\\n15 Computerised systems.............................................................................................................................85\\n\\n16 Statistical considerations ........................................................................................................................86\\n16.1 Sample size calculation................................................................................................................86\\n16.2 Definition of analysis sets............................................................................................................86\\n16.3 Primary endpoint..........................................................................................................................87\\nFigure 5-1 Trial overview..............................................................................................................................25\\n\\nFigure 8-1 Overview of visits in main and extension phase..........................................................................37\\n\\nTable of tables   \\nPage\\n\\nTable 2-1 Flow chart for the main phase......................................................................................................12\\n\\nTable 2-2 Flow chart for the extension phase ..............................................................................................15\\n\\nTable 2-3 Flow chart for PK assessments ....................................................................................................17\\n\\nTable 5-1 4 - 7 procedures...................................................................................................................44\\n\\nTable 8-5 Visit 8 procedures for patients continuing in the extension phase...............................................45\\n\\nTable 8-6 Visit 9 - 16 procedures.................................................................................................................46\\n\\nTable 8-7 \\n\\nLAR legally acceptable/authorised representative\\n\\nMESI medical event of special interest\\n\\nMRT mean residence time\\n\\nN total number\\n\\nN8-GP Glycopegylated recombinant coagulation factor VIII (NNC 0129-0000-1003)\\n\\n! Incidence of inhibitory antibodies against coagulation factor VIII (FVIII) ≥0.6 Bethesda units\\nduring the main phase of the trial (from 0-26 weeks of treatment)\\n\\nKey secondary objectives\\n\\n! To -GP.\\n\\nAll secondary safety and efficacy endpoints will be analysed and reported separately for the main \\nphase (from 0-26 weeks of treatment) and the extension phase of the trial (from 26 weeks to the last \\npatient has completed the trial).\\n\\nof bleeding \\nepisodes in previously treated paediatric patients with severe haemophilia A.\\n\\nThe trial consists of a main phase and an extension phase. The duration of the main phase for each \\npatient will be approximately 26 weeks. After completion of the main phase, the patients can \\ncontinue in an extension phase lasting until N8-GP is commercially available in the relevant \\ncountries or if the N8-GP program is terminated or otherwise required by national regulations.\\n\\nFor UK only: The end of the extension phase is defined as the planned last patient last visit date, \\nMay 2018.\\n\\nThe patients will be recruited evenly from two age groups; 0-5 years and 6-11 years. A minimum of \\n12 patients in each age group will complete pharmacokinetic assessment of previous FVIII product \\nand of N8-GP. The trial has one treatment arm where all patients receive N8-GP twice weekly for \\nprophylaxis. An increase in dose frequency from is allowed within the dose range 50-75 U/kg body weight). In the extension \\nphase the patient should remain on the prescribed prophylaxis regimen until one year of treatment is \\ncompleted. Hereafter depending of severity and/or \\nlocation of bleeding episode.\\n\\nTrial population:\\nApproximately 60 patients will be enrolled and started on trial product in order for approximately\\n25 patients in each age group to complete the main phase of the trial.\\n\\nThe trial population is characterised by the following key inclusion and exclusion criteria:Inhibitory antibodies against FVIII, adverse events and FVIII activity will be assessed at each visit \\nthroughout the main phase of the trial (except assessment of inhibitory antibodies against FVIII at \\nvisit 3). During the extension phase of the trial inhibitory antibodies against FVIII, adverse events \\nand FVIII activity will be assessed at intervals 10.0 -19.9 kg, and five blood samples will be collected from patients weighing ≥20.0 kg. The first \\nsample will be collected within one hour prior to dose administration and the last sample will be \\ncollected up to 30 hours post dose.\\n\\nThe PK sessions with N8-GP 10.0 -19.9 \\nkg, and seven blood samples will be collected from patients weighing ≥20.0 kg. The first sample \\nwill be collected within one hour prior to dose administration and the last sample will be collected \\n96 hours post dose.\\n\\nTrial product(s):\\nThe following trial products will 23 Page: 12 of 108\\n\\n2 Flow chart\\nTable 2-1 Flow chart for the main phase\\n\\nVisit purpose Screen1 1st dose 2nd dose N8-GP dosing visits\\nEnd of\\nmain\\nphase\\n\\nInhibitor \\nfollow-\\n\\nup\\n\\nVisit number V1 V2 V3 V4 V5 V6 V7 V8\\n\\nTime 108\\n\\nVisit purpose Screen1 1st dose 2nd dose N8-GP dosing visits\\nEnd of\\nmain\\nphase\\n\\nInhibitor \\nfollow-\\n\\nup\\n\\nVisit number V1 V2 V3 V4 V5 V6 V7 V8\\n\\nTime has consented the results can be transferred. Consent for genotyping can be obtained at any time during the main phase\\nof the trial, but preferably at Visit 1.\\n\\n5 PRO questionnaire can be completed at PK sampling schedules\\n\\n12 Not applicable for patients participating in PK assessment\\n\\n13 Only if continuing in extension phase\\n\\n14 Only applicable if patient is treated with a FVIII product\\n\\n15 If historical results for  and \\nretesting is not required. If only one result is available in the medical records, an additional sample should be collected at the \\nscreening visit.\\n\\n18 Genotype sample can be collected at any visit during the main phase of the trial following consent. Should preferably be collected at \\nVisit 3 or later due to the 2012-001711-23 Page: 15 of 108\\n\\nTable 2-2 Flow chart for the extension phase\\n\\nVisit purpose N8-GP dosing visits EOT \\nextension\\n\\nInhibitor \\nfollow-up\\n\\nVisit GP becomes commercially available in the patient’s country. For UK \\nonly: The end of the extension phase is defined as the planned last patient last visit date, May 2018\\n\\n2 Time of visit is of FVIII product. Please refer to section 8.1.1.1 and 8.1.2.1.\\n\\nNominal time Parameters\\n\\nhours min\\nSample \\nwindow \\n(min)\\n\\nDosing PK sample Vital signs\\nAdverse \\nevents\\n\\nVISIT 11\\n\\nDay1\\n\\n-01 +55 X\\n\\nX\\n00 only applicable if no recent half-life investigation is \\navailable. Please refer to section 8.1.1.1\\n\\n2 Sample should only be collected from patients weighing ≥20.0 kg \\ndue to blood volume\\n\\n3 Patient should be linked congenital bleeding disorder caused by mutations in the \\ncoagulation factor VIII (FVIII) gene on the long arm of the X-chromosome. According to the World \\nFederation of Haemophilia (WFH), there 26 adult PTPs with haemophilia A were \\ndosed with single escalating doses, investigating safety and PK. The phase 1 trial has successfully \\nbeen concluded with no safety concerns. No new FVIII inhibitors were detected and with other severe conditions such as severe renal or \\nhepatic dysfunction are excluded. The safety of the patients enrolled in the clinical trial will be \\ncarefully and closely monitored. \\n\\nTo minimise the switching between FVIII products, the patients can continue in the extension phase \\nlasting until N8-GP is commercially available in the relevant countries or until the N8-GP 2012-001711-23 Page: 21 of 108\\n\\nFor UK only: The end of the extension phase is defined as the planned last patient last visit date, \\nMay 2018.\\n\\n3.2 Rationale for from ',\n",
              "       'MAcitentan in Eisenmenger Syndrome To RestOre exercise \\n\\ncapacity (Open-Label) \\n\\nLong term, single-arm, open-label extension study of protocol AC-055-305 to assess \\n\\nthe safety, tolerability and efficacy of macitentan in subjects with Eisenmenger \\n\\nSyndrome \\n\\n \\n\\nStudy Phase: 3 \\n\\nIdentifier: NCT02382016 \\n\\nDate: 16 May 2014 \\n\\nVersion and History: Final Version Protocol number, acronym, title  \\n\\nAC-055-308, MAESTRO-OL, Long term, single-arm, open-label extension study of \\n\\nprotocol AC-055-305 to assess the safety, tolerability and Protocol number, acronym, title  \\n\\nAC-055-308, MAESTRO-OL, Long term, single-arm, open-label extension study of \\n\\nprotocol AC-055-305 to assess the safety, tolerability and ....................................................................................................22 \\n\\n1.3.1 Macitentan – Preclinical information ...............................................22 \\n\\n1.3.2 Macitentan – Clinical information ....................................................23 \\n1.3.2.1 Phase 1 studies .........................................................................23 \\n\\n1.3.2.2 Phase 2 study in patients with essential hypertension .............25 \\n1.3.2.3 Phase 2 study in patients with idiopathic pulmonary \\n\\nfibrosis .....................................................................................25 \\n\\n1.3.2.4 Phase 3 study in patients with pulmonary arterial \\n\\nhypertension ............................................................................26 \\n1.3.3 Macitentan – Summary of potential risks selection ...................................................................................29 \\n\\n1.4.5 Treatment duration ............................................................................29 \\n1.4.6 Primary endpoint ...............................................................................29 \\n1.4.7 Statistical hypotheses and sample size ..............................................29 \\n\\n2 STUDY OBJECTIVES ...............................................................................................29 \\n\\n3 INVESTIGATIONAL PLAN .....................................................................................30 \\n\\n3.1 Overall study 004411-31 \\n\\nDoc No D-14.170 \\n\\n \\n \\n\\nPROTOCOL SYNOPSIS AC-055-308 \\n\\nTITLE Long term, single-arm, open-label extension study of protocol \\n\\nAC-055-305 to assess the safety, tolerability and safety, tolerability and efficacy of \\n\\nmacitentan in subjects with Eisenmenger Syndrome (ES). \\n\\nDESIGN / PHASE Multi-center, open-label (OL) extension, single-arm, Phase 3 \\n\\nstudy. \\n\\nSTUDY PLANNED \\nDURATION \\n\\nFirst subject \\n\\nFirst visit \\n\\nQ2 \\n\\n2013 \\n\\nLast visit \\nOpen \\n\\nCENTERS/COUNTRIES Approximately 90 centers in approximately 30 countries. \\n\\nSUBJECTS / GROUPS Up to 220 subjects in one group*. \\n\\n* Sample size may be increased up to 330 subjects based on the interim blind \\n\\nsample size review during the double-blind AC-055-305 / MAESTRO study.  \\n\\nINCLUSION CRITERIA 1. \\n\\n(ULN). \\n\\n6. Severe hepatic impairment according to National Cancer \\n\\nInstitute organ dysfunction working group criteria defined as \\n\\ntotal bilirubin > 3 \\uf0b4 ULN accompanied by any AST \\n\\nelevation above the ULNon the \\n\\nday of first administration of macitentan during this \\n\\nAC-055-308 OL study (All-enrolled set), \\n\\nand \\n\\n• Taking as baseline the baseline of the AC-055-305 / \\n\\nwho received \\n\\nmacitentan during the double-blind AC-055-305 / \\n\\nMAESTRO study (restricted All-enrolled set). \\n\\nSTUDY COMMITTEES • A Steering Committee is involved in the design of the study \\n\\nthe eligibility of the subject on the day of Enrollment, local laboratory results are required in addition to the sample sent to the central laboratory \\n\\nfor analysis.  \\n\\n4. Only concerns females of childbearing potential. Doc No D-14.170 \\n\\n \\n\\n1 BACKGROUND AND RATIONALE \\n\\n1.1 Eisenmenger Syndrome \\n\\nEisenmenger Syndrome (ES) belongs to group 1.4.4 of the Dana Point clinical \\n\\nclassification of pulmonary hypertension [Simonneau 2009; see Appendix 1]Confidential  \\n\\nEudraCT 2012-004411-31 \\n\\nDoc No D-14.170 \\n\\n \\n\\n1.3.2 Macitentan – Clinical information \\n\\n1.3.2.1 Phase 1 studies \\n\\nDuring the Phase 1 program, more than 200 healthy subjects and about 30 patients (with \\n\\nrenal and hepatic impairmentor ECG \\n\\nintervals or morphology.  \\n\\nEight cases of asymptomatic increases in aminotransferases were observed in the \\n\\nPhase 1 program (6 received macitentan, 2 received placebo). Of these increases, only \\n\\n3 ACT-132577. Also, no effect of macitentan was observed \\n\\non the PK of sildenafil and its metabolite (N-desmethyl sildenafil). \\n\\nExposure to macitentan increased by approximately a factor of 2 after concomitant \\n\\nMay 2014, page 25/102 \\n\\nConfidential  \\n\\nEudraCT 2012-004411-31 \\n\\nDoc No D-14.170 \\n\\n \\n\\n1.3.2.2 Phase 2 study in patients with essential hypertension \\n\\nA Phase 2 dose-finding study was conducted over 8 weeks in 379 patients with mild to \\n\\nmoderate essential across all 4 dose levels. The overall frequency of AEs was \\n\\nsimilar to that observed in the placebo group. The numbers of patients with at least one \\n\\nserious adverse event (SAE) were equally distributed across groups. There were no \\n\\ndeaths.  \\n\\nThe study was terminated prematurely following the sponsor’s decision to of 5 cases of increased liver enzymes \\uf03e 3 \\uf0b4 ULN. These 5 cases \\n\\noccurred in the macitentan groups, without obvious dose relationship (one, 2, one, and \\n\\none in the 0.3 mg, 1 mg, 3 mg, and 10 mg dose groups, respectively). In 3 cases, there \\n\\nwere other plausible reasons for increased liver enzymes (enzyme increase in a patient with pancreatic cancer \\n\\nresolved 48 days after surgery for pancreatic cancer.  \\n\\n \\n\\n \\n\\n1.3.2.3 Phase 2 study in patients with idiopathic pulmonary fibrosis \\n\\nA double-blind, randomized, placebo-controlled, multi-center, parallel group \\n\\nPhase 2 study to evaluate the efficacy and safety of a 10 mg dose of macitentan in \\n\\n178 patients dose was well tolerated. Overall, the safety profile was \\n\\nsimilar in the macitentan 10 mg and placebo groups. The overall incidence of \\n\\n \\n\\nEudraCT 2012-004411-31 \\n\\nDoc No D-14.170 \\n\\n \\n\\ntreatment-emergent AEs was similar in both groups. Dyspnea, peripheral edema, anemia, \\n\\npneumonia and nausea occurred at a higher incidence in patients hypertension were lower on macitentan \\n\\nthan on placebo. \\n\\nAn equal proportion of patients in the 2 treatment groups experienced SAEs and died \\n\\nduring the study. The most frequently reported SAEs and causes of death were consequences of the underlying disease. \\n\\nMean changes in laboratory variables were generally small and unremarkable in both \\n\\ngroups. Seven patients treated with macitentan had a decrease in hemoglobin levels to \\n\\n≤ 10 g/dL aminotransferase [ALT] or aspartate \\n\\naminotransferase [AST] > 3 \\uf0b4 ULN in the macitentan and placebo groups, respectively). \\n\\n \\n\\n \\n\\n1.3.2.4 Phase 3 study in patients with pulmonary arterial hypertension \\n\\nA randomized, placebo-controlled, event-driven Phase 3 study (AC-055-302 / \\n\\nSERAPHIN) has recently been completed to assess the effects of a total of 742 patients randomized. \\n\\nMean exposure to study treatment was 85.3 weeks for placebo patients (n = 249), \\n\\n99.5 weeks for patients on 3 mg (n = 250) and 103.9 weeks for patients on 10 mg \\n\\n(n = 242). Macitentan, at both the 3 mg and 10 mg dose, decreased the risk over the treatment period versus placebo. This risk was \\n\\nreduced by 45% in the 10 mg dose group (p < 0.0001). At 3 mg, the observed risk \\n\\nreduction was 30% (well tolerated. The number of AEs reported and patients \\n\\ndiscontinuing treatment due to AEs was similar across all groups. The overall incidence \\n\\nof elevations in liver aminotransferases was similar to placebo (4.5%, 3.6of ALT or AST > 3 \\uf0b4 ULN in the placebo, macitentan 3 mg and macitentan \\n\\n10 mg groups, respectively). In addition, no differences were observed between \\n\\nmacitentan and placebo on fluid retention an AE – was observed more frequently on macitentan than placebo, with no difference \\n\\nin treatment discontinuation between groups. \\n\\nadverse effect reported with other endothelin \\n\\nantagonists, was reported with similar incidence across macitentan and placebo treatment \\n\\ngroups. \\n\\nElevations of liver aminotransferases (AST, ALT) have been associated with PAH and \\n\\nwith May 2014, page 28/102 \\n\\nConfidential  \\n\\nEudraCT 2012-004411-31 \\n\\nDoc No D-14.170 \\n\\n \\n\\nmacitentan groups, showed markedly reduced platelet counts, with or without bleeding \\n\\ncomplications, at some time during the . \\n\\n1.4.3 Study design \\n\\nThis trial is an OL, non-comparative, multi-center, Phase 3 extension study of protocol \\n\\nAC-055-305, which aims to assess the long-term safety1.4.6 Primary endpoint \\n\\nNo primary endpoint is considered for this OL extension study. \\n\\n1.4.7 Statistical hypotheses and sample size \\n\\nNo statistical hypothesis is considered for this OL extension study. \\n\\n2 STUDY OBJECTIVES \\n\\nThe Overall study design and plan \\n\\nThis trial is a multi-center, OL, non-comparative, Phase 3 extension study to assess the \\n\\nlong-term safety, tolerability and efficacy of macitentan in subjects to 220 subjects (males or females) from the double-blind AC-055-305 study will be \\n\\nenrolled in this OL study [see Section 1.4.2]. Subjects will be rolled over from the \\n\\nAC-055to this OL study without knowledge of their previous study drug \\n\\n(macitentan or placebo). \\n\\nThe sample size may be increased up to 330 subjects based on the interim blind sample \\n\\nsize review during the double-blind AC-055-305 / MAESTRO study . \\n\\nEnrollment in the alternative medical cause. \\n\\n• Of the 2 contraceptive methods that must be used, one must be from Group 1, and \\n\\none must be from Group 2, defined as follows:  \\n\\n– Group 1: Oral, implantable, transdermal or injectable hormonal contraceptives, \\n\\nintrauterine devices, female sterilization (), or partner’s \\n\\nsterilization (vasectomy). If a hormonal contraceptive is chosen from this \\n\\ngroup, it must be taken for at least one month prior to enrollment. Alternatively, \\n\\nif the confirm correct location o'],\n",
              "      dtype='<U10000')"
            ]
          },
          "metadata": {},
          "execution_count": 32
        }
      ]
    },
    {
      "cell_type": "code",
      "source": [
        "train_labels[:10]"
      ],
      "metadata": {
        "colab": {
          "base_uri": "https://localhost:8080/"
        },
        "id": "NPk1jhPOfjcH",
        "outputId": "7a1d0a49-88f3-4021-bd4f-2c541ee9d791"
      },
      "id": "NPk1jhPOfjcH",
      "execution_count": 33,
      "outputs": [
        {
          "output_type": "execute_result",
          "data": {
            "text/plain": [
              "array([[0, 0, 0, 1, 0, 0, 0, 0],\n",
              "       [0, 0, 0, 0, 0, 1, 0, 0],\n",
              "       [0, 1, 0, 0, 0, 0, 0, 0],\n",
              "       [0, 0, 1, 0, 0, 0, 0, 0],\n",
              "       [0, 1, 0, 0, 0, 0, 0, 0],\n",
              "       [0, 0, 0, 0, 1, 0, 0, 0],\n",
              "       [0, 1, 0, 0, 0, 0, 0, 0],\n",
              "       [0, 0, 1, 0, 0, 0, 0, 0],\n",
              "       [0, 0, 1, 0, 0, 0, 0, 0],\n",
              "       [0, 0, 0, 0, 1, 0, 0, 0]])"
            ]
          },
          "metadata": {},
          "execution_count": 33
        }
      ]
    },
    {
      "cell_type": "code",
      "source": [
        "model = \"https://tfhub.dev/google/nnlm-en-dim50/2\"\n",
        "hub_layer = hub.KerasLayer(model, input_shape=[], dtype=tf.string, trainable=True)\n",
        "hub_layer(train_examples[:3])"
      ],
      "metadata": {
        "colab": {
          "base_uri": "https://localhost:8080/"
        },
        "id": "Ju7TNdElgQ-P",
        "outputId": "63038ac4-1cbf-438f-f6af-5bc3c145d4af"
      },
      "id": "Ju7TNdElgQ-P",
      "execution_count": 34,
      "outputs": [
        {
          "output_type": "execute_result",
          "data": {
            "text/plain": [
              "<tf.Tensor: shape=(3, 50), dtype=float32, numpy=\n",
              "array([[ 2.25559   , -0.04003555,  0.93899107,  0.2506811 ,  0.84559846,\n",
              "        -0.998915  , -1.1229645 ,  1.0880628 , -0.3572988 ,  0.24719179,\n",
              "        -0.8556173 , -0.44134468,  0.5519561 , -1.7939239 ,  0.66371584,\n",
              "        -0.8935602 ,  1.8869379 , -0.84141505,  0.69978   ,  1.0125706 ,\n",
              "         0.08160346,  1.1788766 ,  1.5604182 , -0.34575224,  0.2779351 ,\n",
              "        -1.3876771 ,  0.16311622,  1.9580957 , -1.0933205 , -1.0580326 ,\n",
              "         0.37967965,  1.156498  , -0.72321945, -0.772455  ,  0.73082954,\n",
              "        -0.9501583 ,  1.0493797 , -0.55693537, -0.37929386,  0.17795539,\n",
              "        -0.31323153, -0.7816628 , -0.04035624,  1.1845489 ,  0.09255461,\n",
              "        -0.6382013 ,  0.33023688, -0.7802934 , -0.03285996,  1.088984  ],\n",
              "       [ 2.731097  , -0.18215285,  0.9739955 ,  0.586558  ,  0.60148025,\n",
              "        -0.990663  , -0.7144665 ,  0.47427112, -0.06968777, -0.07448192,\n",
              "        -0.7558011 ,  0.10947579,  0.10275193, -1.1342437 ,  0.38744602,\n",
              "        -0.50763524,  1.5641029 , -0.31741625,  0.0359352 ,  0.5377715 ,\n",
              "        -0.06797756, -0.04631888,  0.6529147 ,  0.4494843 , -0.02220607,\n",
              "        -0.92648315,  0.05569491,  1.2933536 , -0.98819685, -0.6491972 ,\n",
              "         0.27619264,  1.088039  , -0.43497664, -1.0455433 ,  0.23724169,\n",
              "        -0.7524495 ,  0.7667709 , -0.21065734, -0.42801633,  0.40313464,\n",
              "         0.26086715, -0.29644766, -0.52313393,  0.9811465 ,  0.2767862 ,\n",
              "        -0.3021194 , -0.11111609,  0.17843132, -0.06487798,  1.0419159 ],\n",
              "       [ 1.5993927 , -0.5197563 ,  1.4270151 , -0.02424326,  0.66646475,\n",
              "        -1.1968917 , -0.64398575,  1.4333013 , -0.83490443, -0.53040344,\n",
              "        -0.88788724, -0.15950488,  1.1025413 , -2.6452134 , -0.0493395 ,\n",
              "        -1.400407  ,  2.8102806 , -0.9500489 ,  0.74772155,  0.98417366,\n",
              "         0.495352  ,  0.79880553,  1.5502701 , -0.170685  ,  0.23786466,\n",
              "        -1.2409445 , -0.1008264 ,  3.5367322 , -0.89503455, -1.231581  ,\n",
              "         0.6332018 ,  1.235789  ,  0.22374023, -0.69297415,  0.5686009 ,\n",
              "        -0.8107976 ,  1.4895896 , -0.81259716,  0.12828544, -0.50187004,\n",
              "        -0.03430385, -1.229768  ,  0.17670332,  1.3994156 ,  0.7868397 ,\n",
              "        -0.9145234 ,  0.1391817 , -1.3974673 ,  0.5922207 ,  0.47408032]],\n",
              "      dtype=float32)>"
            ]
          },
          "metadata": {},
          "execution_count": 34
        }
      ]
    },
    {
      "cell_type": "code",
      "source": [
        "model = tf.keras.Sequential()\n",
        "model.add(hub_layer)\n",
        "model.add(tf.keras.layers.Dense(16, activation='relu'))\n",
        "model.add(tf.keras.layers.Dense(8, activation='softmax'))\n",
        "\n",
        "model.summary()"
      ],
      "metadata": {
        "colab": {
          "base_uri": "https://localhost:8080/"
        },
        "id": "XVwvmzuQgRAQ",
        "outputId": "b4154a39-c24c-4f3f-d913-d3f828663165"
      },
      "id": "XVwvmzuQgRAQ",
      "execution_count": 39,
      "outputs": [
        {
          "output_type": "stream",
          "name": "stdout",
          "text": [
            "Model: \"sequential_1\"\n",
            "_________________________________________________________________\n",
            " Layer (type)                Output Shape              Param #   \n",
            "=================================================================\n",
            " keras_layer (KerasLayer)    (None, 50)                48190600  \n",
            "                                                                 \n",
            " dense_2 (Dense)             (None, 16)                816       \n",
            "                                                                 \n",
            " dense_3 (Dense)             (None, 8)                 136       \n",
            "                                                                 \n",
            "=================================================================\n",
            "Total params: 48,191,552\n",
            "Trainable params: 48,191,552\n",
            "Non-trainable params: 0\n",
            "_________________________________________________________________\n"
          ]
        }
      ]
    },
    {
      "cell_type": "code",
      "source": [
        "model.compile(optimizer='adam',\n",
        "              loss=tf.losses.CategoricalCrossentropy(),\n",
        "              metrics=[tf.metrics.CategoricalAccuracy(name='accuracy')],\n",
        "              run_eagerly=True)"
      ],
      "metadata": {
        "id": "4grRdQTWgRCY"
      },
      "id": "4grRdQTWgRCY",
      "execution_count": 40,
      "outputs": []
    },
    {
      "cell_type": "code",
      "source": [
        "# x_val = train_examples[:10000]\n",
        "# partial_x_train = train_examples[10000:]\n",
        "\n",
        "# y_val = train_labels[:10000]\n",
        "# partial_y_train = train_labels[10000:]\n",
        "\n",
        "partial_x_train = train_examples\n",
        "x_val = test_examples\n",
        "\n",
        "partial_y_train = train_labels\n",
        "y_val = test_labels"
      ],
      "metadata": {
        "id": "--LLz2FYgREf"
      },
      "id": "--LLz2FYgREf",
      "execution_count": 41,
      "outputs": []
    },
    {
      "cell_type": "code",
      "source": [
        "history = model.fit(partial_x_train,\n",
        "                    partial_y_train,\n",
        "                    epochs=100,\n",
        "                    batch_size=512,\n",
        "                    validation_data=(x_val, y_val),\n",
        "                    verbose=1)"
      ],
      "metadata": {
        "colab": {
          "base_uri": "https://localhost:8080/",
          "height": 1000
        },
        "id": "zEMElK4ygRGg",
        "outputId": "c49cf736-81b6-4007-f9e5-d5f1894f0f6d"
      },
      "id": "zEMElK4ygRGg",
      "execution_count": 64,
      "outputs": [
        {
          "output_type": "stream",
          "name": "stdout",
          "text": [
            "Epoch 1/100\n",
            "19/19 [==============================] - 2s 97ms/step - loss: 1.2253 - accuracy: 0.5533 - val_loss: 1.6358 - val_accuracy: 0.3309\n",
            "Epoch 2/100\n",
            "19/19 [==============================] - 2s 97ms/step - loss: 1.1418 - accuracy: 0.6016 - val_loss: 1.6378 - val_accuracy: 0.3392\n",
            "Epoch 3/100\n",
            "19/19 [==============================] - 2s 97ms/step - loss: 1.0605 - accuracy: 0.6450 - val_loss: 1.6430 - val_accuracy: 0.3465\n",
            "Epoch 4/100\n",
            "19/19 [==============================] - 2s 97ms/step - loss: 0.9804 - accuracy: 0.7005 - val_loss: 1.6530 - val_accuracy: 0.3493\n",
            "Epoch 5/100\n",
            "19/19 [==============================] - 2s 96ms/step - loss: 0.8960 - accuracy: 0.7382 - val_loss: 1.6635 - val_accuracy: 0.3419\n",
            "Epoch 6/100\n",
            "19/19 [==============================] - 2s 96ms/step - loss: 0.8149 - accuracy: 0.7781 - val_loss: 1.6840 - val_accuracy: 0.3447\n",
            "Epoch 7/100\n",
            "19/19 [==============================] - 2s 97ms/step - loss: 0.7368 - accuracy: 0.8191 - val_loss: 1.7004 - val_accuracy: 0.3447\n",
            "Epoch 8/100\n",
            "19/19 [==============================] - 2s 95ms/step - loss: 0.6646 - accuracy: 0.8453 - val_loss: 1.7333 - val_accuracy: 0.3355\n",
            "Epoch 9/100\n",
            "19/19 [==============================] - 2s 96ms/step - loss: 0.5956 - accuracy: 0.8709 - val_loss: 1.7589 - val_accuracy: 0.3438\n",
            "Epoch 10/100\n",
            "19/19 [==============================] - 2s 95ms/step - loss: 0.5298 - accuracy: 0.8961 - val_loss: 1.7926 - val_accuracy: 0.3419\n",
            "Epoch 11/100\n",
            "19/19 [==============================] - 2s 95ms/step - loss: 0.4734 - accuracy: 0.9104 - val_loss: 1.8260 - val_accuracy: 0.3429\n",
            "Epoch 12/100\n",
            "19/19 [==============================] - 2s 95ms/step - loss: 0.4199 - accuracy: 0.9284 - val_loss: 1.8672 - val_accuracy: 0.3318\n",
            "Epoch 13/100\n",
            "19/19 [==============================] - 2s 97ms/step - loss: 0.3743 - accuracy: 0.9388 - val_loss: 1.9142 - val_accuracy: 0.3263\n",
            "Epoch 14/100\n",
            "19/19 [==============================] - 2s 100ms/step - loss: 0.3356 - accuracy: 0.9488 - val_loss: 1.9472 - val_accuracy: 0.3244\n",
            "Epoch 15/100\n",
            "19/19 [==============================] - 2s 96ms/step - loss: 0.2943 - accuracy: 0.9609 - val_loss: 2.0012 - val_accuracy: 0.3207\n",
            "Epoch 16/100\n",
            "19/19 [==============================] - 2s 99ms/step - loss: 0.2582 - accuracy: 0.9705 - val_loss: 2.0473 - val_accuracy: 0.3281\n",
            "Epoch 17/100\n",
            "19/19 [==============================] - 2s 98ms/step - loss: 0.2269 - accuracy: 0.9755 - val_loss: 2.0884 - val_accuracy: 0.3226\n",
            "Epoch 18/100\n",
            "19/19 [==============================] - 2s 96ms/step - loss: 0.2008 - accuracy: 0.9807 - val_loss: 2.1359 - val_accuracy: 0.3355\n",
            "Epoch 19/100\n",
            "19/19 [==============================] - 2s 97ms/step - loss: 0.1758 - accuracy: 0.9828 - val_loss: 2.1786 - val_accuracy: 0.3253\n",
            "Epoch 20/100\n",
            "19/19 [==============================] - 2s 96ms/step - loss: 0.1558 - accuracy: 0.9874 - val_loss: 2.2196 - val_accuracy: 0.3272\n",
            "Epoch 21/100\n",
            "19/19 [==============================] - 2s 100ms/step - loss: 0.1375 - accuracy: 0.9879 - val_loss: 2.2618 - val_accuracy: 0.3263\n",
            "Epoch 22/100\n",
            "19/19 [==============================] - 2s 96ms/step - loss: 0.1225 - accuracy: 0.9914 - val_loss: 2.3052 - val_accuracy: 0.3290\n",
            "Epoch 23/100\n",
            "19/19 [==============================] - 2s 96ms/step - loss: 0.1090 - accuracy: 0.9932 - val_loss: 2.3503 - val_accuracy: 0.3309\n",
            "Epoch 24/100\n",
            "19/19 [==============================] - 2s 97ms/step - loss: 0.0978 - accuracy: 0.9937 - val_loss: 2.3885 - val_accuracy: 0.3300\n",
            "Epoch 25/100\n",
            " 7/19 [==========>...................] - ETA: 1s - loss: 0.0879 - accuracy: 0.9947"
          ]
        },
        {
          "output_type": "error",
          "ename": "KeyboardInterrupt",
          "evalue": "ignored",
          "traceback": [
            "\u001b[0;31m---------------------------------------------------------------------------\u001b[0m",
            "\u001b[0;31mKeyboardInterrupt\u001b[0m                         Traceback (most recent call last)",
            "\u001b[0;32m<ipython-input-64-ead823f7e983>\u001b[0m in \u001b[0;36m<module>\u001b[0;34m\u001b[0m\n\u001b[1;32m      4\u001b[0m                     \u001b[0mbatch_size\u001b[0m\u001b[0;34m=\u001b[0m\u001b[0;36m512\u001b[0m\u001b[0;34m,\u001b[0m\u001b[0;34m\u001b[0m\u001b[0;34m\u001b[0m\u001b[0m\n\u001b[1;32m      5\u001b[0m                     \u001b[0mvalidation_data\u001b[0m\u001b[0;34m=\u001b[0m\u001b[0;34m(\u001b[0m\u001b[0mx_val\u001b[0m\u001b[0;34m,\u001b[0m \u001b[0my_val\u001b[0m\u001b[0;34m)\u001b[0m\u001b[0;34m,\u001b[0m\u001b[0;34m\u001b[0m\u001b[0;34m\u001b[0m\u001b[0m\n\u001b[0;32m----> 6\u001b[0;31m                     verbose=1)\n\u001b[0m",
            "\u001b[0;32m/usr/local/lib/python3.7/dist-packages/keras/utils/traceback_utils.py\u001b[0m in \u001b[0;36merror_handler\u001b[0;34m(*args, **kwargs)\u001b[0m\n\u001b[1;32m     62\u001b[0m     \u001b[0mfiltered_tb\u001b[0m \u001b[0;34m=\u001b[0m \u001b[0;32mNone\u001b[0m\u001b[0;34m\u001b[0m\u001b[0;34m\u001b[0m\u001b[0m\n\u001b[1;32m     63\u001b[0m     \u001b[0;32mtry\u001b[0m\u001b[0;34m:\u001b[0m\u001b[0;34m\u001b[0m\u001b[0;34m\u001b[0m\u001b[0m\n\u001b[0;32m---> 64\u001b[0;31m       \u001b[0;32mreturn\u001b[0m \u001b[0mfn\u001b[0m\u001b[0;34m(\u001b[0m\u001b[0;34m*\u001b[0m\u001b[0margs\u001b[0m\u001b[0;34m,\u001b[0m \u001b[0;34m**\u001b[0m\u001b[0mkwargs\u001b[0m\u001b[0;34m)\u001b[0m\u001b[0;34m\u001b[0m\u001b[0;34m\u001b[0m\u001b[0m\n\u001b[0m\u001b[1;32m     65\u001b[0m     \u001b[0;32mexcept\u001b[0m \u001b[0mException\u001b[0m \u001b[0;32mas\u001b[0m \u001b[0me\u001b[0m\u001b[0;34m:\u001b[0m  \u001b[0;31m# pylint: disable=broad-except\u001b[0m\u001b[0;34m\u001b[0m\u001b[0;34m\u001b[0m\u001b[0m\n\u001b[1;32m     66\u001b[0m       \u001b[0mfiltered_tb\u001b[0m \u001b[0;34m=\u001b[0m \u001b[0m_process_traceback_frames\u001b[0m\u001b[0;34m(\u001b[0m\u001b[0me\u001b[0m\u001b[0;34m.\u001b[0m\u001b[0m__traceback__\u001b[0m\u001b[0;34m)\u001b[0m\u001b[0;34m\u001b[0m\u001b[0;34m\u001b[0m\u001b[0m\n",
            "\u001b[0;32m/usr/local/lib/python3.7/dist-packages/keras/engine/training.py\u001b[0m in \u001b[0;36mfit\u001b[0;34m(self, x, y, batch_size, epochs, verbose, callbacks, validation_split, validation_data, shuffle, class_weight, sample_weight, initial_epoch, steps_per_epoch, validation_steps, validation_batch_size, validation_freq, max_queue_size, workers, use_multiprocessing)\u001b[0m\n\u001b[1;32m   1407\u001b[0m                 _r=1):\n\u001b[1;32m   1408\u001b[0m               \u001b[0mcallbacks\u001b[0m\u001b[0;34m.\u001b[0m\u001b[0mon_train_batch_begin\u001b[0m\u001b[0;34m(\u001b[0m\u001b[0mstep\u001b[0m\u001b[0;34m)\u001b[0m\u001b[0;34m\u001b[0m\u001b[0;34m\u001b[0m\u001b[0m\n\u001b[0;32m-> 1409\u001b[0;31m               \u001b[0mtmp_logs\u001b[0m \u001b[0;34m=\u001b[0m \u001b[0mself\u001b[0m\u001b[0;34m.\u001b[0m\u001b[0mtrain_function\u001b[0m\u001b[0;34m(\u001b[0m\u001b[0miterator\u001b[0m\u001b[0;34m)\u001b[0m\u001b[0;34m\u001b[0m\u001b[0;34m\u001b[0m\u001b[0m\n\u001b[0m\u001b[1;32m   1410\u001b[0m               \u001b[0;32mif\u001b[0m \u001b[0mdata_handler\u001b[0m\u001b[0;34m.\u001b[0m\u001b[0mshould_sync\u001b[0m\u001b[0;34m:\u001b[0m\u001b[0;34m\u001b[0m\u001b[0;34m\u001b[0m\u001b[0m\n\u001b[1;32m   1411\u001b[0m                 \u001b[0mcontext\u001b[0m\u001b[0;34m.\u001b[0m\u001b[0masync_wait\u001b[0m\u001b[0;34m(\u001b[0m\u001b[0;34m)\u001b[0m\u001b[0;34m\u001b[0m\u001b[0;34m\u001b[0m\u001b[0m\n",
            "\u001b[0;32m/usr/local/lib/python3.7/dist-packages/keras/engine/training.py\u001b[0m in \u001b[0;36mtrain_function\u001b[0;34m(iterator)\u001b[0m\n\u001b[1;32m   1049\u001b[0m       \u001b[0;32mdef\u001b[0m \u001b[0mtrain_function\u001b[0m\u001b[0;34m(\u001b[0m\u001b[0miterator\u001b[0m\u001b[0;34m)\u001b[0m\u001b[0;34m:\u001b[0m\u001b[0;34m\u001b[0m\u001b[0;34m\u001b[0m\u001b[0m\n\u001b[1;32m   1050\u001b[0m         \u001b[0;34m\"\"\"Runs a training execution with a single step.\"\"\"\u001b[0m\u001b[0;34m\u001b[0m\u001b[0;34m\u001b[0m\u001b[0m\n\u001b[0;32m-> 1051\u001b[0;31m         \u001b[0;32mreturn\u001b[0m \u001b[0mstep_function\u001b[0m\u001b[0;34m(\u001b[0m\u001b[0mself\u001b[0m\u001b[0;34m,\u001b[0m \u001b[0miterator\u001b[0m\u001b[0;34m)\u001b[0m\u001b[0;34m\u001b[0m\u001b[0;34m\u001b[0m\u001b[0m\n\u001b[0m\u001b[1;32m   1052\u001b[0m \u001b[0;34m\u001b[0m\u001b[0m\n\u001b[1;32m   1053\u001b[0m       \u001b[0;32mif\u001b[0m \u001b[0;32mnot\u001b[0m \u001b[0mself\u001b[0m\u001b[0;34m.\u001b[0m\u001b[0mrun_eagerly\u001b[0m\u001b[0;34m:\u001b[0m\u001b[0;34m\u001b[0m\u001b[0;34m\u001b[0m\u001b[0m\n",
            "\u001b[0;32m/usr/local/lib/python3.7/dist-packages/keras/engine/training.py\u001b[0m in \u001b[0;36mstep_function\u001b[0;34m(model, iterator)\u001b[0m\n\u001b[1;32m   1038\u001b[0m             run_step, jit_compile=True, reduce_retracing=True)\n\u001b[1;32m   1039\u001b[0m       \u001b[0mdata\u001b[0m \u001b[0;34m=\u001b[0m \u001b[0mnext\u001b[0m\u001b[0;34m(\u001b[0m\u001b[0miterator\u001b[0m\u001b[0;34m)\u001b[0m\u001b[0;34m\u001b[0m\u001b[0;34m\u001b[0m\u001b[0m\n\u001b[0;32m-> 1040\u001b[0;31m       \u001b[0moutputs\u001b[0m \u001b[0;34m=\u001b[0m \u001b[0mmodel\u001b[0m\u001b[0;34m.\u001b[0m\u001b[0mdistribute_strategy\u001b[0m\u001b[0;34m.\u001b[0m\u001b[0mrun\u001b[0m\u001b[0;34m(\u001b[0m\u001b[0mrun_step\u001b[0m\u001b[0;34m,\u001b[0m \u001b[0margs\u001b[0m\u001b[0;34m=\u001b[0m\u001b[0;34m(\u001b[0m\u001b[0mdata\u001b[0m\u001b[0;34m,\u001b[0m\u001b[0;34m)\u001b[0m\u001b[0;34m)\u001b[0m\u001b[0;34m\u001b[0m\u001b[0;34m\u001b[0m\u001b[0m\n\u001b[0m\u001b[1;32m   1041\u001b[0m       outputs = reduce_per_replica(\n\u001b[1;32m   1042\u001b[0m           outputs, self.distribute_strategy, reduction='first')\n",
            "\u001b[0;32m/usr/local/lib/python3.7/dist-packages/tensorflow/python/distribute/distribute_lib.py\u001b[0m in \u001b[0;36mrun\u001b[0;34m(***failed resolving arguments***)\u001b[0m\n\u001b[1;32m   1310\u001b[0m       fn = autograph.tf_convert(\n\u001b[1;32m   1311\u001b[0m           fn, autograph_ctx.control_status_ctx(), convert_by_default=False)\n\u001b[0;32m-> 1312\u001b[0;31m       \u001b[0;32mreturn\u001b[0m \u001b[0mself\u001b[0m\u001b[0;34m.\u001b[0m\u001b[0m_extended\u001b[0m\u001b[0;34m.\u001b[0m\u001b[0mcall_for_each_replica\u001b[0m\u001b[0;34m(\u001b[0m\u001b[0mfn\u001b[0m\u001b[0;34m,\u001b[0m \u001b[0margs\u001b[0m\u001b[0;34m=\u001b[0m\u001b[0margs\u001b[0m\u001b[0;34m,\u001b[0m \u001b[0mkwargs\u001b[0m\u001b[0;34m=\u001b[0m\u001b[0mkwargs\u001b[0m\u001b[0;34m)\u001b[0m\u001b[0;34m\u001b[0m\u001b[0;34m\u001b[0m\u001b[0m\n\u001b[0m\u001b[1;32m   1313\u001b[0m \u001b[0;34m\u001b[0m\u001b[0m\n\u001b[1;32m   1314\u001b[0m   \u001b[0;32mdef\u001b[0m \u001b[0mreduce\u001b[0m\u001b[0;34m(\u001b[0m\u001b[0mself\u001b[0m\u001b[0;34m,\u001b[0m \u001b[0mreduce_op\u001b[0m\u001b[0;34m,\u001b[0m \u001b[0mvalue\u001b[0m\u001b[0;34m,\u001b[0m \u001b[0maxis\u001b[0m\u001b[0;34m)\u001b[0m\u001b[0;34m:\u001b[0m\u001b[0;34m\u001b[0m\u001b[0;34m\u001b[0m\u001b[0m\n",
            "\u001b[0;32m/usr/local/lib/python3.7/dist-packages/tensorflow/python/distribute/distribute_lib.py\u001b[0m in \u001b[0;36mcall_for_each_replica\u001b[0;34m(self, fn, args, kwargs)\u001b[0m\n\u001b[1;32m   2886\u001b[0m       \u001b[0mkwargs\u001b[0m \u001b[0;34m=\u001b[0m \u001b[0;34m{\u001b[0m\u001b[0;34m}\u001b[0m\u001b[0;34m\u001b[0m\u001b[0;34m\u001b[0m\u001b[0m\n\u001b[1;32m   2887\u001b[0m     \u001b[0;32mwith\u001b[0m \u001b[0mself\u001b[0m\u001b[0;34m.\u001b[0m\u001b[0m_container_strategy\u001b[0m\u001b[0;34m(\u001b[0m\u001b[0;34m)\u001b[0m\u001b[0;34m.\u001b[0m\u001b[0mscope\u001b[0m\u001b[0;34m(\u001b[0m\u001b[0;34m)\u001b[0m\u001b[0;34m:\u001b[0m\u001b[0;34m\u001b[0m\u001b[0;34m\u001b[0m\u001b[0m\n\u001b[0;32m-> 2888\u001b[0;31m       \u001b[0;32mreturn\u001b[0m \u001b[0mself\u001b[0m\u001b[0;34m.\u001b[0m\u001b[0m_call_for_each_replica\u001b[0m\u001b[0;34m(\u001b[0m\u001b[0mfn\u001b[0m\u001b[0;34m,\u001b[0m \u001b[0margs\u001b[0m\u001b[0;34m,\u001b[0m \u001b[0mkwargs\u001b[0m\u001b[0;34m)\u001b[0m\u001b[0;34m\u001b[0m\u001b[0;34m\u001b[0m\u001b[0m\n\u001b[0m\u001b[1;32m   2889\u001b[0m \u001b[0;34m\u001b[0m\u001b[0m\n\u001b[1;32m   2890\u001b[0m   \u001b[0;32mdef\u001b[0m \u001b[0m_call_for_each_replica\u001b[0m\u001b[0;34m(\u001b[0m\u001b[0mself\u001b[0m\u001b[0;34m,\u001b[0m \u001b[0mfn\u001b[0m\u001b[0;34m,\u001b[0m \u001b[0margs\u001b[0m\u001b[0;34m,\u001b[0m \u001b[0mkwargs\u001b[0m\u001b[0;34m)\u001b[0m\u001b[0;34m:\u001b[0m\u001b[0;34m\u001b[0m\u001b[0;34m\u001b[0m\u001b[0m\n",
            "\u001b[0;32m/usr/local/lib/python3.7/dist-packages/tensorflow/python/distribute/distribute_lib.py\u001b[0m in \u001b[0;36m_call_for_each_replica\u001b[0;34m(self, fn, args, kwargs)\u001b[0m\n\u001b[1;32m   3687\u001b[0m   \u001b[0;32mdef\u001b[0m \u001b[0m_call_for_each_replica\u001b[0m\u001b[0;34m(\u001b[0m\u001b[0mself\u001b[0m\u001b[0;34m,\u001b[0m \u001b[0mfn\u001b[0m\u001b[0;34m,\u001b[0m \u001b[0margs\u001b[0m\u001b[0;34m,\u001b[0m \u001b[0mkwargs\u001b[0m\u001b[0;34m)\u001b[0m\u001b[0;34m:\u001b[0m\u001b[0;34m\u001b[0m\u001b[0;34m\u001b[0m\u001b[0m\n\u001b[1;32m   3688\u001b[0m     \u001b[0;32mwith\u001b[0m \u001b[0mReplicaContext\u001b[0m\u001b[0;34m(\u001b[0m\u001b[0mself\u001b[0m\u001b[0;34m.\u001b[0m\u001b[0m_container_strategy\u001b[0m\u001b[0;34m(\u001b[0m\u001b[0;34m)\u001b[0m\u001b[0;34m,\u001b[0m \u001b[0mreplica_id_in_sync_group\u001b[0m\u001b[0;34m=\u001b[0m\u001b[0;36m0\u001b[0m\u001b[0;34m)\u001b[0m\u001b[0;34m:\u001b[0m\u001b[0;34m\u001b[0m\u001b[0;34m\u001b[0m\u001b[0m\n\u001b[0;32m-> 3689\u001b[0;31m       \u001b[0;32mreturn\u001b[0m \u001b[0mfn\u001b[0m\u001b[0;34m(\u001b[0m\u001b[0;34m*\u001b[0m\u001b[0margs\u001b[0m\u001b[0;34m,\u001b[0m \u001b[0;34m**\u001b[0m\u001b[0mkwargs\u001b[0m\u001b[0;34m)\u001b[0m\u001b[0;34m\u001b[0m\u001b[0;34m\u001b[0m\u001b[0m\n\u001b[0m\u001b[1;32m   3690\u001b[0m \u001b[0;34m\u001b[0m\u001b[0m\n\u001b[1;32m   3691\u001b[0m   \u001b[0;32mdef\u001b[0m \u001b[0m_reduce_to\u001b[0m\u001b[0;34m(\u001b[0m\u001b[0mself\u001b[0m\u001b[0;34m,\u001b[0m \u001b[0mreduce_op\u001b[0m\u001b[0;34m,\u001b[0m \u001b[0mvalue\u001b[0m\u001b[0;34m,\u001b[0m \u001b[0mdestinations\u001b[0m\u001b[0;34m,\u001b[0m \u001b[0moptions\u001b[0m\u001b[0;34m)\u001b[0m\u001b[0;34m:\u001b[0m\u001b[0;34m\u001b[0m\u001b[0;34m\u001b[0m\u001b[0m\n",
            "\u001b[0;32m/usr/local/lib/python3.7/dist-packages/tensorflow/python/autograph/impl/api.py\u001b[0m in \u001b[0;36mwrapper\u001b[0;34m(*args, **kwargs)\u001b[0m\n\u001b[1;32m    593\u001b[0m   \u001b[0;32mdef\u001b[0m \u001b[0mwrapper\u001b[0m\u001b[0;34m(\u001b[0m\u001b[0;34m*\u001b[0m\u001b[0margs\u001b[0m\u001b[0;34m,\u001b[0m \u001b[0;34m**\u001b[0m\u001b[0mkwargs\u001b[0m\u001b[0;34m)\u001b[0m\u001b[0;34m:\u001b[0m\u001b[0;34m\u001b[0m\u001b[0;34m\u001b[0m\u001b[0m\n\u001b[1;32m    594\u001b[0m     \u001b[0;32mwith\u001b[0m \u001b[0mag_ctx\u001b[0m\u001b[0;34m.\u001b[0m\u001b[0mControlStatusCtx\u001b[0m\u001b[0;34m(\u001b[0m\u001b[0mstatus\u001b[0m\u001b[0;34m=\u001b[0m\u001b[0mag_ctx\u001b[0m\u001b[0;34m.\u001b[0m\u001b[0mStatus\u001b[0m\u001b[0;34m.\u001b[0m\u001b[0mUNSPECIFIED\u001b[0m\u001b[0;34m)\u001b[0m\u001b[0;34m:\u001b[0m\u001b[0;34m\u001b[0m\u001b[0;34m\u001b[0m\u001b[0m\n\u001b[0;32m--> 595\u001b[0;31m       \u001b[0;32mreturn\u001b[0m \u001b[0mfunc\u001b[0m\u001b[0;34m(\u001b[0m\u001b[0;34m*\u001b[0m\u001b[0margs\u001b[0m\u001b[0;34m,\u001b[0m \u001b[0;34m**\u001b[0m\u001b[0mkwargs\u001b[0m\u001b[0;34m)\u001b[0m\u001b[0;34m\u001b[0m\u001b[0;34m\u001b[0m\u001b[0m\n\u001b[0m\u001b[1;32m    596\u001b[0m \u001b[0;34m\u001b[0m\u001b[0m\n\u001b[1;32m    597\u001b[0m   \u001b[0;32mif\u001b[0m \u001b[0minspect\u001b[0m\u001b[0;34m.\u001b[0m\u001b[0misfunction\u001b[0m\u001b[0;34m(\u001b[0m\u001b[0mfunc\u001b[0m\u001b[0;34m)\u001b[0m \u001b[0;32mor\u001b[0m \u001b[0minspect\u001b[0m\u001b[0;34m.\u001b[0m\u001b[0mismethod\u001b[0m\u001b[0;34m(\u001b[0m\u001b[0mfunc\u001b[0m\u001b[0;34m)\u001b[0m\u001b[0;34m:\u001b[0m\u001b[0;34m\u001b[0m\u001b[0;34m\u001b[0m\u001b[0m\n",
            "\u001b[0;32m/usr/local/lib/python3.7/dist-packages/keras/engine/training.py\u001b[0m in \u001b[0;36mrun_step\u001b[0;34m(data)\u001b[0m\n\u001b[1;32m   1028\u001b[0m \u001b[0;34m\u001b[0m\u001b[0m\n\u001b[1;32m   1029\u001b[0m       \u001b[0;32mdef\u001b[0m \u001b[0mrun_step\u001b[0m\u001b[0;34m(\u001b[0m\u001b[0mdata\u001b[0m\u001b[0;34m)\u001b[0m\u001b[0;34m:\u001b[0m\u001b[0;34m\u001b[0m\u001b[0;34m\u001b[0m\u001b[0m\n\u001b[0;32m-> 1030\u001b[0;31m         \u001b[0moutputs\u001b[0m \u001b[0;34m=\u001b[0m \u001b[0mmodel\u001b[0m\u001b[0;34m.\u001b[0m\u001b[0mtrain_step\u001b[0m\u001b[0;34m(\u001b[0m\u001b[0mdata\u001b[0m\u001b[0;34m)\u001b[0m\u001b[0;34m\u001b[0m\u001b[0;34m\u001b[0m\u001b[0m\n\u001b[0m\u001b[1;32m   1031\u001b[0m         \u001b[0;31m# Ensure counter is updated only if `train_step` succeeds.\u001b[0m\u001b[0;34m\u001b[0m\u001b[0;34m\u001b[0m\u001b[0;34m\u001b[0m\u001b[0m\n\u001b[1;32m   1032\u001b[0m         \u001b[0;32mwith\u001b[0m \u001b[0mtf\u001b[0m\u001b[0;34m.\u001b[0m\u001b[0mcontrol_dependencies\u001b[0m\u001b[0;34m(\u001b[0m\u001b[0m_minimum_control_deps\u001b[0m\u001b[0;34m(\u001b[0m\u001b[0moutputs\u001b[0m\u001b[0;34m)\u001b[0m\u001b[0;34m)\u001b[0m\u001b[0;34m:\u001b[0m\u001b[0;34m\u001b[0m\u001b[0;34m\u001b[0m\u001b[0m\n",
            "\u001b[0;32m/usr/local/lib/python3.7/dist-packages/keras/engine/training.py\u001b[0m in \u001b[0;36mtrain_step\u001b[0;34m(self, data)\u001b[0m\n\u001b[1;32m    887\u001b[0m     \u001b[0;31m# Run forward pass.\u001b[0m\u001b[0;34m\u001b[0m\u001b[0;34m\u001b[0m\u001b[0;34m\u001b[0m\u001b[0m\n\u001b[1;32m    888\u001b[0m     \u001b[0;32mwith\u001b[0m \u001b[0mtf\u001b[0m\u001b[0;34m.\u001b[0m\u001b[0mGradientTape\u001b[0m\u001b[0;34m(\u001b[0m\u001b[0;34m)\u001b[0m \u001b[0;32mas\u001b[0m \u001b[0mtape\u001b[0m\u001b[0;34m:\u001b[0m\u001b[0;34m\u001b[0m\u001b[0;34m\u001b[0m\u001b[0m\n\u001b[0;32m--> 889\u001b[0;31m       \u001b[0my_pred\u001b[0m \u001b[0;34m=\u001b[0m \u001b[0mself\u001b[0m\u001b[0;34m(\u001b[0m\u001b[0mx\u001b[0m\u001b[0;34m,\u001b[0m \u001b[0mtraining\u001b[0m\u001b[0;34m=\u001b[0m\u001b[0;32mTrue\u001b[0m\u001b[0;34m)\u001b[0m\u001b[0;34m\u001b[0m\u001b[0;34m\u001b[0m\u001b[0m\n\u001b[0m\u001b[1;32m    890\u001b[0m       \u001b[0mloss\u001b[0m \u001b[0;34m=\u001b[0m \u001b[0mself\u001b[0m\u001b[0;34m.\u001b[0m\u001b[0mcompute_loss\u001b[0m\u001b[0;34m(\u001b[0m\u001b[0mx\u001b[0m\u001b[0;34m,\u001b[0m \u001b[0my\u001b[0m\u001b[0;34m,\u001b[0m \u001b[0my_pred\u001b[0m\u001b[0;34m,\u001b[0m \u001b[0msample_weight\u001b[0m\u001b[0;34m)\u001b[0m\u001b[0;34m\u001b[0m\u001b[0;34m\u001b[0m\u001b[0m\n\u001b[1;32m    891\u001b[0m     \u001b[0mself\u001b[0m\u001b[0;34m.\u001b[0m\u001b[0m_validate_target_and_loss\u001b[0m\u001b[0;34m(\u001b[0m\u001b[0my\u001b[0m\u001b[0;34m,\u001b[0m \u001b[0mloss\u001b[0m\u001b[0;34m)\u001b[0m\u001b[0;34m\u001b[0m\u001b[0;34m\u001b[0m\u001b[0m\n",
            "\u001b[0;32m/usr/local/lib/python3.7/dist-packages/keras/utils/traceback_utils.py\u001b[0m in \u001b[0;36merror_handler\u001b[0;34m(*args, **kwargs)\u001b[0m\n\u001b[1;32m     62\u001b[0m     \u001b[0mfiltered_tb\u001b[0m \u001b[0;34m=\u001b[0m \u001b[0;32mNone\u001b[0m\u001b[0;34m\u001b[0m\u001b[0;34m\u001b[0m\u001b[0m\n\u001b[1;32m     63\u001b[0m     \u001b[0;32mtry\u001b[0m\u001b[0;34m:\u001b[0m\u001b[0;34m\u001b[0m\u001b[0;34m\u001b[0m\u001b[0m\n\u001b[0;32m---> 64\u001b[0;31m       \u001b[0;32mreturn\u001b[0m \u001b[0mfn\u001b[0m\u001b[0;34m(\u001b[0m\u001b[0;34m*\u001b[0m\u001b[0margs\u001b[0m\u001b[0;34m,\u001b[0m \u001b[0;34m**\u001b[0m\u001b[0mkwargs\u001b[0m\u001b[0;34m)\u001b[0m\u001b[0;34m\u001b[0m\u001b[0;34m\u001b[0m\u001b[0m\n\u001b[0m\u001b[1;32m     65\u001b[0m     \u001b[0;32mexcept\u001b[0m \u001b[0mException\u001b[0m \u001b[0;32mas\u001b[0m \u001b[0me\u001b[0m\u001b[0;34m:\u001b[0m  \u001b[0;31m# pylint: disable=broad-except\u001b[0m\u001b[0;34m\u001b[0m\u001b[0;34m\u001b[0m\u001b[0m\n\u001b[1;32m     66\u001b[0m       \u001b[0mfiltered_tb\u001b[0m \u001b[0;34m=\u001b[0m \u001b[0m_process_traceback_frames\u001b[0m\u001b[0;34m(\u001b[0m\u001b[0me\u001b[0m\u001b[0;34m.\u001b[0m\u001b[0m__traceback__\u001b[0m\u001b[0;34m)\u001b[0m\u001b[0;34m\u001b[0m\u001b[0;34m\u001b[0m\u001b[0m\n",
            "\u001b[0;32m/usr/local/lib/python3.7/dist-packages/keras/engine/training.py\u001b[0m in \u001b[0;36m__call__\u001b[0;34m(self, *args, **kwargs)\u001b[0m\n\u001b[1;32m    488\u001b[0m       \u001b[0mlayout_map_lib\u001b[0m\u001b[0;34m.\u001b[0m\u001b[0m_map_subclass_model_variable\u001b[0m\u001b[0;34m(\u001b[0m\u001b[0mself\u001b[0m\u001b[0;34m,\u001b[0m \u001b[0mself\u001b[0m\u001b[0;34m.\u001b[0m\u001b[0m_layout_map\u001b[0m\u001b[0;34m)\u001b[0m\u001b[0;34m\u001b[0m\u001b[0;34m\u001b[0m\u001b[0m\n\u001b[1;32m    489\u001b[0m \u001b[0;34m\u001b[0m\u001b[0m\n\u001b[0;32m--> 490\u001b[0;31m     \u001b[0;32mreturn\u001b[0m \u001b[0msuper\u001b[0m\u001b[0;34m(\u001b[0m\u001b[0;34m)\u001b[0m\u001b[0;34m.\u001b[0m\u001b[0m__call__\u001b[0m\u001b[0;34m(\u001b[0m\u001b[0;34m*\u001b[0m\u001b[0margs\u001b[0m\u001b[0;34m,\u001b[0m \u001b[0;34m**\u001b[0m\u001b[0mkwargs\u001b[0m\u001b[0;34m)\u001b[0m\u001b[0;34m\u001b[0m\u001b[0;34m\u001b[0m\u001b[0m\n\u001b[0m\u001b[1;32m    491\u001b[0m \u001b[0;34m\u001b[0m\u001b[0m\n\u001b[1;32m    492\u001b[0m   \u001b[0;34m@\u001b[0m\u001b[0mdoc_controls\u001b[0m\u001b[0;34m.\u001b[0m\u001b[0mdoc_in_current_and_subclasses\u001b[0m\u001b[0;34m\u001b[0m\u001b[0;34m\u001b[0m\u001b[0m\n",
            "\u001b[0;32m/usr/local/lib/python3.7/dist-packages/keras/utils/traceback_utils.py\u001b[0m in \u001b[0;36merror_handler\u001b[0;34m(*args, **kwargs)\u001b[0m\n\u001b[1;32m     62\u001b[0m     \u001b[0mfiltered_tb\u001b[0m \u001b[0;34m=\u001b[0m \u001b[0;32mNone\u001b[0m\u001b[0;34m\u001b[0m\u001b[0;34m\u001b[0m\u001b[0m\n\u001b[1;32m     63\u001b[0m     \u001b[0;32mtry\u001b[0m\u001b[0;34m:\u001b[0m\u001b[0;34m\u001b[0m\u001b[0;34m\u001b[0m\u001b[0m\n\u001b[0;32m---> 64\u001b[0;31m       \u001b[0;32mreturn\u001b[0m \u001b[0mfn\u001b[0m\u001b[0;34m(\u001b[0m\u001b[0;34m*\u001b[0m\u001b[0margs\u001b[0m\u001b[0;34m,\u001b[0m \u001b[0;34m**\u001b[0m\u001b[0mkwargs\u001b[0m\u001b[0;34m)\u001b[0m\u001b[0;34m\u001b[0m\u001b[0;34m\u001b[0m\u001b[0m\n\u001b[0m\u001b[1;32m     65\u001b[0m     \u001b[0;32mexcept\u001b[0m \u001b[0mException\u001b[0m \u001b[0;32mas\u001b[0m \u001b[0me\u001b[0m\u001b[0;34m:\u001b[0m  \u001b[0;31m# pylint: disable=broad-except\u001b[0m\u001b[0;34m\u001b[0m\u001b[0;34m\u001b[0m\u001b[0m\n\u001b[1;32m     66\u001b[0m       \u001b[0mfiltered_tb\u001b[0m \u001b[0;34m=\u001b[0m \u001b[0m_process_traceback_frames\u001b[0m\u001b[0;34m(\u001b[0m\u001b[0me\u001b[0m\u001b[0;34m.\u001b[0m\u001b[0m__traceback__\u001b[0m\u001b[0;34m)\u001b[0m\u001b[0;34m\u001b[0m\u001b[0;34m\u001b[0m\u001b[0m\n",
            "\u001b[0;32m/usr/local/lib/python3.7/dist-packages/keras/engine/base_layer.py\u001b[0m in \u001b[0;36m__call__\u001b[0;34m(self, *args, **kwargs)\u001b[0m\n\u001b[1;32m   1012\u001b[0m         with autocast_variable.enable_auto_cast_variables(\n\u001b[1;32m   1013\u001b[0m             self._compute_dtype_object):\n\u001b[0;32m-> 1014\u001b[0;31m           \u001b[0moutputs\u001b[0m \u001b[0;34m=\u001b[0m \u001b[0mcall_fn\u001b[0m\u001b[0;34m(\u001b[0m\u001b[0minputs\u001b[0m\u001b[0;34m,\u001b[0m \u001b[0;34m*\u001b[0m\u001b[0margs\u001b[0m\u001b[0;34m,\u001b[0m \u001b[0;34m**\u001b[0m\u001b[0mkwargs\u001b[0m\u001b[0;34m)\u001b[0m\u001b[0;34m\u001b[0m\u001b[0;34m\u001b[0m\u001b[0m\n\u001b[0m\u001b[1;32m   1015\u001b[0m \u001b[0;34m\u001b[0m\u001b[0m\n\u001b[1;32m   1016\u001b[0m         \u001b[0;32mif\u001b[0m \u001b[0mself\u001b[0m\u001b[0;34m.\u001b[0m\u001b[0m_activity_regularizer\u001b[0m\u001b[0;34m:\u001b[0m\u001b[0;34m\u001b[0m\u001b[0;34m\u001b[0m\u001b[0m\n",
            "\u001b[0;32m/usr/local/lib/python3.7/dist-packages/keras/utils/traceback_utils.py\u001b[0m in \u001b[0;36merror_handler\u001b[0;34m(*args, **kwargs)\u001b[0m\n\u001b[1;32m     90\u001b[0m     \u001b[0mbound_signature\u001b[0m \u001b[0;34m=\u001b[0m \u001b[0;32mNone\u001b[0m\u001b[0;34m\u001b[0m\u001b[0;34m\u001b[0m\u001b[0m\n\u001b[1;32m     91\u001b[0m     \u001b[0;32mtry\u001b[0m\u001b[0;34m:\u001b[0m\u001b[0;34m\u001b[0m\u001b[0;34m\u001b[0m\u001b[0m\n\u001b[0;32m---> 92\u001b[0;31m       \u001b[0;32mreturn\u001b[0m \u001b[0mfn\u001b[0m\u001b[0;34m(\u001b[0m\u001b[0;34m*\u001b[0m\u001b[0margs\u001b[0m\u001b[0;34m,\u001b[0m \u001b[0;34m**\u001b[0m\u001b[0mkwargs\u001b[0m\u001b[0;34m)\u001b[0m\u001b[0;34m\u001b[0m\u001b[0;34m\u001b[0m\u001b[0m\n\u001b[0m\u001b[1;32m     93\u001b[0m     \u001b[0;32mexcept\u001b[0m \u001b[0mException\u001b[0m \u001b[0;32mas\u001b[0m \u001b[0me\u001b[0m\u001b[0;34m:\u001b[0m  \u001b[0;31m# pylint: disable=broad-except\u001b[0m\u001b[0;34m\u001b[0m\u001b[0;34m\u001b[0m\u001b[0m\n\u001b[1;32m     94\u001b[0m       \u001b[0;32mif\u001b[0m \u001b[0mhasattr\u001b[0m\u001b[0;34m(\u001b[0m\u001b[0me\u001b[0m\u001b[0;34m,\u001b[0m \u001b[0;34m'_keras_call_info_injected'\u001b[0m\u001b[0;34m)\u001b[0m\u001b[0;34m:\u001b[0m\u001b[0;34m\u001b[0m\u001b[0;34m\u001b[0m\u001b[0m\n",
            "\u001b[0;32m/usr/local/lib/python3.7/dist-packages/keras/engine/sequential.py\u001b[0m in \u001b[0;36mcall\u001b[0;34m(self, inputs, training, mask)\u001b[0m\n\u001b[1;32m    372\u001b[0m       \u001b[0;32mif\u001b[0m \u001b[0;32mnot\u001b[0m \u001b[0mself\u001b[0m\u001b[0;34m.\u001b[0m\u001b[0mbuilt\u001b[0m\u001b[0;34m:\u001b[0m\u001b[0;34m\u001b[0m\u001b[0;34m\u001b[0m\u001b[0m\n\u001b[1;32m    373\u001b[0m         \u001b[0mself\u001b[0m\u001b[0;34m.\u001b[0m\u001b[0m_init_graph_network\u001b[0m\u001b[0;34m(\u001b[0m\u001b[0mself\u001b[0m\u001b[0;34m.\u001b[0m\u001b[0minputs\u001b[0m\u001b[0;34m,\u001b[0m \u001b[0mself\u001b[0m\u001b[0;34m.\u001b[0m\u001b[0moutputs\u001b[0m\u001b[0;34m)\u001b[0m\u001b[0;34m\u001b[0m\u001b[0;34m\u001b[0m\u001b[0m\n\u001b[0;32m--> 374\u001b[0;31m       \u001b[0;32mreturn\u001b[0m \u001b[0msuper\u001b[0m\u001b[0;34m(\u001b[0m\u001b[0mSequential\u001b[0m\u001b[0;34m,\u001b[0m \u001b[0mself\u001b[0m\u001b[0;34m)\u001b[0m\u001b[0;34m.\u001b[0m\u001b[0mcall\u001b[0m\u001b[0;34m(\u001b[0m\u001b[0minputs\u001b[0m\u001b[0;34m,\u001b[0m \u001b[0mtraining\u001b[0m\u001b[0;34m=\u001b[0m\u001b[0mtraining\u001b[0m\u001b[0;34m,\u001b[0m \u001b[0mmask\u001b[0m\u001b[0;34m=\u001b[0m\u001b[0mmask\u001b[0m\u001b[0;34m)\u001b[0m\u001b[0;34m\u001b[0m\u001b[0;34m\u001b[0m\u001b[0m\n\u001b[0m\u001b[1;32m    375\u001b[0m \u001b[0;34m\u001b[0m\u001b[0m\n\u001b[1;32m    376\u001b[0m     \u001b[0moutputs\u001b[0m \u001b[0;34m=\u001b[0m \u001b[0minputs\u001b[0m  \u001b[0;31m# handle the corner case where self.layers is empty\u001b[0m\u001b[0;34m\u001b[0m\u001b[0;34m\u001b[0m\u001b[0m\n",
            "\u001b[0;32m/usr/local/lib/python3.7/dist-packages/keras/engine/functional.py\u001b[0m in \u001b[0;36mcall\u001b[0;34m(self, inputs, training, mask)\u001b[0m\n\u001b[1;32m    457\u001b[0m     \"\"\"\n\u001b[1;32m    458\u001b[0m     return self._run_internal_graph(\n\u001b[0;32m--> 459\u001b[0;31m         inputs, training=training, mask=mask)\n\u001b[0m\u001b[1;32m    460\u001b[0m \u001b[0;34m\u001b[0m\u001b[0m\n\u001b[1;32m    461\u001b[0m   \u001b[0;32mdef\u001b[0m \u001b[0mcompute_output_shape\u001b[0m\u001b[0;34m(\u001b[0m\u001b[0mself\u001b[0m\u001b[0;34m,\u001b[0m \u001b[0minput_shape\u001b[0m\u001b[0;34m)\u001b[0m\u001b[0;34m:\u001b[0m\u001b[0;34m\u001b[0m\u001b[0;34m\u001b[0m\u001b[0m\n",
            "\u001b[0;32m/usr/local/lib/python3.7/dist-packages/keras/engine/functional.py\u001b[0m in \u001b[0;36m_run_internal_graph\u001b[0;34m(self, inputs, training, mask)\u001b[0m\n\u001b[1;32m    594\u001b[0m \u001b[0;34m\u001b[0m\u001b[0m\n\u001b[1;32m    595\u001b[0m         \u001b[0margs\u001b[0m\u001b[0;34m,\u001b[0m \u001b[0mkwargs\u001b[0m \u001b[0;34m=\u001b[0m \u001b[0mnode\u001b[0m\u001b[0;34m.\u001b[0m\u001b[0mmap_arguments\u001b[0m\u001b[0;34m(\u001b[0m\u001b[0mtensor_dict\u001b[0m\u001b[0;34m)\u001b[0m\u001b[0;34m\u001b[0m\u001b[0;34m\u001b[0m\u001b[0m\n\u001b[0;32m--> 596\u001b[0;31m         \u001b[0moutputs\u001b[0m \u001b[0;34m=\u001b[0m \u001b[0mnode\u001b[0m\u001b[0;34m.\u001b[0m\u001b[0mlayer\u001b[0m\u001b[0;34m(\u001b[0m\u001b[0;34m*\u001b[0m\u001b[0margs\u001b[0m\u001b[0;34m,\u001b[0m \u001b[0;34m**\u001b[0m\u001b[0mkwargs\u001b[0m\u001b[0;34m)\u001b[0m\u001b[0;34m\u001b[0m\u001b[0;34m\u001b[0m\u001b[0m\n\u001b[0m\u001b[1;32m    597\u001b[0m \u001b[0;34m\u001b[0m\u001b[0m\n\u001b[1;32m    598\u001b[0m         \u001b[0;31m# Update tensor_dict.\u001b[0m\u001b[0;34m\u001b[0m\u001b[0;34m\u001b[0m\u001b[0;34m\u001b[0m\u001b[0m\n",
            "\u001b[0;32m/usr/local/lib/python3.7/dist-packages/keras/utils/traceback_utils.py\u001b[0m in \u001b[0;36merror_handler\u001b[0;34m(*args, **kwargs)\u001b[0m\n\u001b[1;32m     62\u001b[0m     \u001b[0mfiltered_tb\u001b[0m \u001b[0;34m=\u001b[0m \u001b[0;32mNone\u001b[0m\u001b[0;34m\u001b[0m\u001b[0;34m\u001b[0m\u001b[0m\n\u001b[1;32m     63\u001b[0m     \u001b[0;32mtry\u001b[0m\u001b[0;34m:\u001b[0m\u001b[0;34m\u001b[0m\u001b[0;34m\u001b[0m\u001b[0m\n\u001b[0;32m---> 64\u001b[0;31m       \u001b[0;32mreturn\u001b[0m \u001b[0mfn\u001b[0m\u001b[0;34m(\u001b[0m\u001b[0;34m*\u001b[0m\u001b[0margs\u001b[0m\u001b[0;34m,\u001b[0m \u001b[0;34m**\u001b[0m\u001b[0mkwargs\u001b[0m\u001b[0;34m)\u001b[0m\u001b[0;34m\u001b[0m\u001b[0;34m\u001b[0m\u001b[0m\n\u001b[0m\u001b[1;32m     65\u001b[0m     \u001b[0;32mexcept\u001b[0m \u001b[0mException\u001b[0m \u001b[0;32mas\u001b[0m \u001b[0me\u001b[0m\u001b[0;34m:\u001b[0m  \u001b[0;31m# pylint: disable=broad-except\u001b[0m\u001b[0;34m\u001b[0m\u001b[0;34m\u001b[0m\u001b[0m\n\u001b[1;32m     66\u001b[0m       \u001b[0mfiltered_tb\u001b[0m \u001b[0;34m=\u001b[0m \u001b[0m_process_traceback_frames\u001b[0m\u001b[0;34m(\u001b[0m\u001b[0me\u001b[0m\u001b[0;34m.\u001b[0m\u001b[0m__traceback__\u001b[0m\u001b[0;34m)\u001b[0m\u001b[0;34m\u001b[0m\u001b[0;34m\u001b[0m\u001b[0m\n",
            "\u001b[0;32m/usr/local/lib/python3.7/dist-packages/keras/engine/base_layer.py\u001b[0m in \u001b[0;36m__call__\u001b[0;34m(self, *args, **kwargs)\u001b[0m\n\u001b[1;32m   1012\u001b[0m         with autocast_variable.enable_auto_cast_variables(\n\u001b[1;32m   1013\u001b[0m             self._compute_dtype_object):\n\u001b[0;32m-> 1014\u001b[0;31m           \u001b[0moutputs\u001b[0m \u001b[0;34m=\u001b[0m \u001b[0mcall_fn\u001b[0m\u001b[0;34m(\u001b[0m\u001b[0minputs\u001b[0m\u001b[0;34m,\u001b[0m \u001b[0;34m*\u001b[0m\u001b[0margs\u001b[0m\u001b[0;34m,\u001b[0m \u001b[0;34m**\u001b[0m\u001b[0mkwargs\u001b[0m\u001b[0;34m)\u001b[0m\u001b[0;34m\u001b[0m\u001b[0;34m\u001b[0m\u001b[0m\n\u001b[0m\u001b[1;32m   1015\u001b[0m \u001b[0;34m\u001b[0m\u001b[0m\n\u001b[1;32m   1016\u001b[0m         \u001b[0;32mif\u001b[0m \u001b[0mself\u001b[0m\u001b[0;34m.\u001b[0m\u001b[0m_activity_regularizer\u001b[0m\u001b[0;34m:\u001b[0m\u001b[0;34m\u001b[0m\u001b[0;34m\u001b[0m\u001b[0m\n",
            "\u001b[0;32m/usr/local/lib/python3.7/dist-packages/keras/utils/traceback_utils.py\u001b[0m in \u001b[0;36merror_handler\u001b[0;34m(*args, **kwargs)\u001b[0m\n\u001b[1;32m     90\u001b[0m     \u001b[0mbound_signature\u001b[0m \u001b[0;34m=\u001b[0m \u001b[0;32mNone\u001b[0m\u001b[0;34m\u001b[0m\u001b[0;34m\u001b[0m\u001b[0m\n\u001b[1;32m     91\u001b[0m     \u001b[0;32mtry\u001b[0m\u001b[0;34m:\u001b[0m\u001b[0;34m\u001b[0m\u001b[0;34m\u001b[0m\u001b[0m\n\u001b[0;32m---> 92\u001b[0;31m       \u001b[0;32mreturn\u001b[0m \u001b[0mfn\u001b[0m\u001b[0;34m(\u001b[0m\u001b[0;34m*\u001b[0m\u001b[0margs\u001b[0m\u001b[0;34m,\u001b[0m \u001b[0;34m**\u001b[0m\u001b[0mkwargs\u001b[0m\u001b[0;34m)\u001b[0m\u001b[0;34m\u001b[0m\u001b[0;34m\u001b[0m\u001b[0m\n\u001b[0m\u001b[1;32m     93\u001b[0m     \u001b[0;32mexcept\u001b[0m \u001b[0mException\u001b[0m \u001b[0;32mas\u001b[0m \u001b[0me\u001b[0m\u001b[0;34m:\u001b[0m  \u001b[0;31m# pylint: disable=broad-except\u001b[0m\u001b[0;34m\u001b[0m\u001b[0;34m\u001b[0m\u001b[0m\n\u001b[1;32m     94\u001b[0m       \u001b[0;32mif\u001b[0m \u001b[0mhasattr\u001b[0m\u001b[0;34m(\u001b[0m\u001b[0me\u001b[0m\u001b[0;34m,\u001b[0m \u001b[0;34m'_keras_call_info_injected'\u001b[0m\u001b[0;34m)\u001b[0m\u001b[0;34m:\u001b[0m\u001b[0;34m\u001b[0m\u001b[0;34m\u001b[0m\u001b[0m\n",
            "\u001b[0;32m/usr/local/lib/python3.7/dist-packages/tensorflow_hub/keras_layer.py\u001b[0m in \u001b[0;36mcall\u001b[0;34m(self, inputs, training)\u001b[0m\n\u001b[1;32m    227\u001b[0m     \u001b[0;31m# or else Keras' global `learning_phase`, which might actually be a tensor.\u001b[0m\u001b[0;34m\u001b[0m\u001b[0;34m\u001b[0m\u001b[0;34m\u001b[0m\u001b[0m\n\u001b[1;32m    228\u001b[0m     \u001b[0;32mif\u001b[0m \u001b[0;32mnot\u001b[0m \u001b[0mself\u001b[0m\u001b[0;34m.\u001b[0m\u001b[0m_has_training_argument\u001b[0m\u001b[0;34m:\u001b[0m\u001b[0;34m\u001b[0m\u001b[0;34m\u001b[0m\u001b[0m\n\u001b[0;32m--> 229\u001b[0;31m       \u001b[0mresult\u001b[0m \u001b[0;34m=\u001b[0m \u001b[0mf\u001b[0m\u001b[0;34m(\u001b[0m\u001b[0;34m)\u001b[0m\u001b[0;34m\u001b[0m\u001b[0;34m\u001b[0m\u001b[0m\n\u001b[0m\u001b[1;32m    230\u001b[0m     \u001b[0;32melse\u001b[0m\u001b[0;34m:\u001b[0m\u001b[0;34m\u001b[0m\u001b[0;34m\u001b[0m\u001b[0m\n\u001b[1;32m    231\u001b[0m       \u001b[0;32mif\u001b[0m \u001b[0mself\u001b[0m\u001b[0;34m.\u001b[0m\u001b[0mtrainable\u001b[0m\u001b[0;34m:\u001b[0m\u001b[0;34m\u001b[0m\u001b[0;34m\u001b[0m\u001b[0m\n",
            "\u001b[0;32m/usr/local/lib/python3.7/dist-packages/tensorflow/python/saved_model/load.py\u001b[0m in \u001b[0;36m_call_attribute\u001b[0;34m(instance, *args, **kwargs)\u001b[0m\n\u001b[1;32m    684\u001b[0m \u001b[0;34m\u001b[0m\u001b[0m\n\u001b[1;32m    685\u001b[0m \u001b[0;32mdef\u001b[0m \u001b[0m_call_attribute\u001b[0m\u001b[0;34m(\u001b[0m\u001b[0minstance\u001b[0m\u001b[0;34m,\u001b[0m \u001b[0;34m*\u001b[0m\u001b[0margs\u001b[0m\u001b[0;34m,\u001b[0m \u001b[0;34m**\u001b[0m\u001b[0mkwargs\u001b[0m\u001b[0;34m)\u001b[0m\u001b[0;34m:\u001b[0m\u001b[0;34m\u001b[0m\u001b[0;34m\u001b[0m\u001b[0m\n\u001b[0;32m--> 686\u001b[0;31m   \u001b[0;32mreturn\u001b[0m \u001b[0minstance\u001b[0m\u001b[0;34m.\u001b[0m\u001b[0m__call__\u001b[0m\u001b[0;34m(\u001b[0m\u001b[0;34m*\u001b[0m\u001b[0margs\u001b[0m\u001b[0;34m,\u001b[0m \u001b[0;34m**\u001b[0m\u001b[0mkwargs\u001b[0m\u001b[0;34m)\u001b[0m\u001b[0;34m\u001b[0m\u001b[0;34m\u001b[0m\u001b[0m\n\u001b[0m\u001b[1;32m    687\u001b[0m \u001b[0;34m\u001b[0m\u001b[0m\n\u001b[1;32m    688\u001b[0m \u001b[0;34m\u001b[0m\u001b[0m\n",
            "\u001b[0;32m/usr/local/lib/python3.7/dist-packages/tensorflow/python/util/traceback_utils.py\u001b[0m in \u001b[0;36merror_handler\u001b[0;34m(*args, **kwargs)\u001b[0m\n\u001b[1;32m    148\u001b[0m     \u001b[0mfiltered_tb\u001b[0m \u001b[0;34m=\u001b[0m \u001b[0;32mNone\u001b[0m\u001b[0;34m\u001b[0m\u001b[0;34m\u001b[0m\u001b[0m\n\u001b[1;32m    149\u001b[0m     \u001b[0;32mtry\u001b[0m\u001b[0;34m:\u001b[0m\u001b[0;34m\u001b[0m\u001b[0;34m\u001b[0m\u001b[0m\n\u001b[0;32m--> 150\u001b[0;31m       \u001b[0;32mreturn\u001b[0m \u001b[0mfn\u001b[0m\u001b[0;34m(\u001b[0m\u001b[0;34m*\u001b[0m\u001b[0margs\u001b[0m\u001b[0;34m,\u001b[0m \u001b[0;34m**\u001b[0m\u001b[0mkwargs\u001b[0m\u001b[0;34m)\u001b[0m\u001b[0;34m\u001b[0m\u001b[0;34m\u001b[0m\u001b[0m\n\u001b[0m\u001b[1;32m    151\u001b[0m     \u001b[0;32mexcept\u001b[0m \u001b[0mException\u001b[0m \u001b[0;32mas\u001b[0m \u001b[0me\u001b[0m\u001b[0;34m:\u001b[0m\u001b[0;34m\u001b[0m\u001b[0;34m\u001b[0m\u001b[0m\n\u001b[1;32m    152\u001b[0m       \u001b[0mfiltered_tb\u001b[0m \u001b[0;34m=\u001b[0m \u001b[0m_process_traceback_frames\u001b[0m\u001b[0;34m(\u001b[0m\u001b[0me\u001b[0m\u001b[0;34m.\u001b[0m\u001b[0m__traceback__\u001b[0m\u001b[0;34m)\u001b[0m\u001b[0;34m\u001b[0m\u001b[0;34m\u001b[0m\u001b[0m\n",
            "\u001b[0;32m/usr/local/lib/python3.7/dist-packages/tensorflow/python/eager/def_function.py\u001b[0m in \u001b[0;36m__call__\u001b[0;34m(self, *args, **kwds)\u001b[0m\n\u001b[1;32m    913\u001b[0m \u001b[0;34m\u001b[0m\u001b[0m\n\u001b[1;32m    914\u001b[0m       \u001b[0;32mwith\u001b[0m \u001b[0mOptionalXlaContext\u001b[0m\u001b[0;34m(\u001b[0m\u001b[0mself\u001b[0m\u001b[0;34m.\u001b[0m\u001b[0m_jit_compile\u001b[0m\u001b[0;34m)\u001b[0m\u001b[0;34m:\u001b[0m\u001b[0;34m\u001b[0m\u001b[0;34m\u001b[0m\u001b[0m\n\u001b[0;32m--> 915\u001b[0;31m         \u001b[0mresult\u001b[0m \u001b[0;34m=\u001b[0m \u001b[0mself\u001b[0m\u001b[0;34m.\u001b[0m\u001b[0m_call\u001b[0m\u001b[0;34m(\u001b[0m\u001b[0;34m*\u001b[0m\u001b[0margs\u001b[0m\u001b[0;34m,\u001b[0m \u001b[0;34m**\u001b[0m\u001b[0mkwds\u001b[0m\u001b[0;34m)\u001b[0m\u001b[0;34m\u001b[0m\u001b[0;34m\u001b[0m\u001b[0m\n\u001b[0m\u001b[1;32m    916\u001b[0m \u001b[0;34m\u001b[0m\u001b[0m\n\u001b[1;32m    917\u001b[0m       \u001b[0mnew_tracing_count\u001b[0m \u001b[0;34m=\u001b[0m \u001b[0mself\u001b[0m\u001b[0;34m.\u001b[0m\u001b[0mexperimental_get_tracing_count\u001b[0m\u001b[0;34m(\u001b[0m\u001b[0;34m)\u001b[0m\u001b[0;34m\u001b[0m\u001b[0;34m\u001b[0m\u001b[0m\n",
            "\u001b[0;32m/usr/local/lib/python3.7/dist-packages/tensorflow/python/eager/def_function.py\u001b[0m in \u001b[0;36m_call\u001b[0;34m(self, *args, **kwds)\u001b[0m\n\u001b[1;32m    952\u001b[0m       \u001b[0;31m# In this case we have not created variables on the first call. So we can\u001b[0m\u001b[0;34m\u001b[0m\u001b[0;34m\u001b[0m\u001b[0;34m\u001b[0m\u001b[0m\n\u001b[1;32m    953\u001b[0m       \u001b[0;31m# run the first trace but we should fail if variables are created.\u001b[0m\u001b[0;34m\u001b[0m\u001b[0;34m\u001b[0m\u001b[0;34m\u001b[0m\u001b[0m\n\u001b[0;32m--> 954\u001b[0;31m       \u001b[0mresults\u001b[0m \u001b[0;34m=\u001b[0m \u001b[0mself\u001b[0m\u001b[0;34m.\u001b[0m\u001b[0m_stateful_fn\u001b[0m\u001b[0;34m(\u001b[0m\u001b[0;34m*\u001b[0m\u001b[0margs\u001b[0m\u001b[0;34m,\u001b[0m \u001b[0;34m**\u001b[0m\u001b[0mkwds\u001b[0m\u001b[0;34m)\u001b[0m\u001b[0;34m\u001b[0m\u001b[0;34m\u001b[0m\u001b[0m\n\u001b[0m\u001b[1;32m    955\u001b[0m       \u001b[0;32mif\u001b[0m \u001b[0mself\u001b[0m\u001b[0;34m.\u001b[0m\u001b[0m_created_variables\u001b[0m \u001b[0;32mand\u001b[0m \u001b[0;32mnot\u001b[0m \u001b[0mALLOW_DYNAMIC_VARIABLE_CREATION\u001b[0m\u001b[0;34m:\u001b[0m\u001b[0;34m\u001b[0m\u001b[0;34m\u001b[0m\u001b[0m\n\u001b[1;32m    956\u001b[0m         raise ValueError(\"Creating variables on a non-first call to a function\"\n",
            "\u001b[0;32m/usr/local/lib/python3.7/dist-packages/tensorflow/python/eager/function.py\u001b[0m in \u001b[0;36m__call__\u001b[0;34m(self, *args, **kwargs)\u001b[0m\n\u001b[1;32m   2452\u001b[0m        filtered_flat_args) = self._maybe_define_function(args, kwargs)\n\u001b[1;32m   2453\u001b[0m     return graph_function._call_flat(\n\u001b[0;32m-> 2454\u001b[0;31m         filtered_flat_args, captured_inputs=graph_function.captured_inputs)  # pylint: disable=protected-access\n\u001b[0m\u001b[1;32m   2455\u001b[0m \u001b[0;34m\u001b[0m\u001b[0m\n\u001b[1;32m   2456\u001b[0m   \u001b[0;34m@\u001b[0m\u001b[0mproperty\u001b[0m\u001b[0;34m\u001b[0m\u001b[0;34m\u001b[0m\u001b[0m\n",
            "\u001b[0;32m/usr/local/lib/python3.7/dist-packages/tensorflow/python/eager/function.py\u001b[0m in \u001b[0;36m_call_flat\u001b[0;34m(self, args, captured_inputs, cancellation_manager)\u001b[0m\n\u001b[1;32m   1867\u001b[0m     \u001b[0;32mif\u001b[0m \u001b[0mexecuting_eagerly\u001b[0m\u001b[0;34m:\u001b[0m\u001b[0;34m\u001b[0m\u001b[0;34m\u001b[0m\u001b[0m\n\u001b[1;32m   1868\u001b[0m       flat_outputs = forward_function.call(\n\u001b[0;32m-> 1869\u001b[0;31m           ctx, args_with_tangents, cancellation_manager=cancellation_manager)\n\u001b[0m\u001b[1;32m   1870\u001b[0m     \u001b[0;32melse\u001b[0m\u001b[0;34m:\u001b[0m\u001b[0;34m\u001b[0m\u001b[0;34m\u001b[0m\u001b[0m\n\u001b[1;32m   1871\u001b[0m       with default_graph._override_gradient_function(  # pylint: disable=protected-access\n",
            "\u001b[0;32m/usr/local/lib/python3.7/dist-packages/tensorflow/python/eager/function.py\u001b[0m in \u001b[0;36mcall\u001b[0;34m(self, ctx, args, cancellation_manager)\u001b[0m\n\u001b[1;32m    500\u001b[0m               \u001b[0minputs\u001b[0m\u001b[0;34m=\u001b[0m\u001b[0margs\u001b[0m\u001b[0;34m,\u001b[0m\u001b[0;34m\u001b[0m\u001b[0;34m\u001b[0m\u001b[0m\n\u001b[1;32m    501\u001b[0m               \u001b[0mattrs\u001b[0m\u001b[0;34m=\u001b[0m\u001b[0mattrs\u001b[0m\u001b[0;34m,\u001b[0m\u001b[0;34m\u001b[0m\u001b[0;34m\u001b[0m\u001b[0m\n\u001b[0;32m--> 502\u001b[0;31m               ctx=ctx)\n\u001b[0m\u001b[1;32m    503\u001b[0m         \u001b[0;32melse\u001b[0m\u001b[0;34m:\u001b[0m\u001b[0;34m\u001b[0m\u001b[0;34m\u001b[0m\u001b[0m\n\u001b[1;32m    504\u001b[0m           outputs = execute.execute_with_cancellation(\n",
            "\u001b[0;32m/usr/local/lib/python3.7/dist-packages/tensorflow/python/eager/execute.py\u001b[0m in \u001b[0;36mquick_execute\u001b[0;34m(op_name, num_outputs, inputs, attrs, ctx, name)\u001b[0m\n\u001b[1;32m     53\u001b[0m     \u001b[0mctx\u001b[0m\u001b[0;34m.\u001b[0m\u001b[0mensure_initialized\u001b[0m\u001b[0;34m(\u001b[0m\u001b[0;34m)\u001b[0m\u001b[0;34m\u001b[0m\u001b[0;34m\u001b[0m\u001b[0m\n\u001b[1;32m     54\u001b[0m     tensors = pywrap_tfe.TFE_Py_Execute(ctx._handle, device_name, op_name,\n\u001b[0;32m---> 55\u001b[0;31m                                         inputs, attrs, num_outputs)\n\u001b[0m\u001b[1;32m     56\u001b[0m   \u001b[0;32mexcept\u001b[0m \u001b[0mcore\u001b[0m\u001b[0;34m.\u001b[0m\u001b[0m_NotOkStatusException\u001b[0m \u001b[0;32mas\u001b[0m \u001b[0me\u001b[0m\u001b[0;34m:\u001b[0m\u001b[0;34m\u001b[0m\u001b[0;34m\u001b[0m\u001b[0m\n\u001b[1;32m     57\u001b[0m     \u001b[0;32mif\u001b[0m \u001b[0mname\u001b[0m \u001b[0;32mis\u001b[0m \u001b[0;32mnot\u001b[0m \u001b[0;32mNone\u001b[0m\u001b[0;34m:\u001b[0m\u001b[0;34m\u001b[0m\u001b[0;34m\u001b[0m\u001b[0m\n",
            "\u001b[0;31mKeyboardInterrupt\u001b[0m: "
          ]
        }
      ]
    },
    {
      "cell_type": "code",
      "source": [
        "model.save('num_subjects_model_02_keras.keras')"
      ],
      "metadata": {
        "id": "5DLaUL_7gRIy"
      },
      "id": "5DLaUL_7gRIy",
      "execution_count": 43,
      "outputs": []
    },
    {
      "cell_type": "code",
      "source": [
        "from google.colab import drive\n",
        "drive.mount('/content/drive')\n",
        "model.save(\"num_subjects_model_02_keras.keras\")"
      ],
      "metadata": {
        "colab": {
          "base_uri": "https://localhost:8080/"
        },
        "id": "lYKFZVGigRKg",
        "outputId": "a95e3bbc-9b14-4acf-fd55-7d969b311d70"
      },
      "id": "lYKFZVGigRKg",
      "execution_count": 44,
      "outputs": [
        {
          "output_type": "stream",
          "name": "stdout",
          "text": [
            "Drive already mounted at /content/drive; to attempt to forcibly remount, call drive.mount(\"/content/drive\", force_remount=True).\n"
          ]
        }
      ]
    },
    {
      "cell_type": "code",
      "source": [
        "results = model.evaluate(test_examples, test_labels)\n",
        "\n",
        "print(results)"
      ],
      "metadata": {
        "colab": {
          "base_uri": "https://localhost:8080/"
        },
        "id": "x6i0VsDEgdgm",
        "outputId": "3a193f29-aa91-4321-e99c-a9d9fe19c8eb"
      },
      "id": "x6i0VsDEgdgm",
      "execution_count": 45,
      "outputs": [
        {
          "output_type": "stream",
          "name": "stdout",
          "text": [
            "34/34 [==============================] - 1s 15ms/step - loss: 1.6420 - accuracy: 0.3410\n",
            "[1.6419545412063599, 0.3410138189792633]\n"
          ]
        }
      ]
    },
    {
      "cell_type": "code",
      "source": [
        "history_dict = history.history\n",
        "history_dict.keys()"
      ],
      "metadata": {
        "colab": {
          "base_uri": "https://localhost:8080/"
        },
        "id": "6rg2XlFpgdi4",
        "outputId": "a215c8e5-ab74-4c13-d1c2-9cb4314a198d"
      },
      "id": "6rg2XlFpgdi4",
      "execution_count": 46,
      "outputs": [
        {
          "output_type": "execute_result",
          "data": {
            "text/plain": [
              "dict_keys(['loss', 'accuracy', 'val_loss', 'val_accuracy'])"
            ]
          },
          "metadata": {},
          "execution_count": 46
        }
      ]
    },
    {
      "cell_type": "code",
      "source": [
        "acc = history_dict['accuracy']\n",
        "val_acc = history_dict['val_accuracy']\n",
        "loss = history_dict['loss']\n",
        "val_loss = history_dict['val_loss']\n",
        "\n",
        "epochs = range(1, len(acc) + 1)\n",
        "\n",
        "# \"bo\" is for \"blue dot\"\n",
        "plt.plot(epochs, loss, 'bo', label='Training loss')\n",
        "# b is for \"solid blue line\"\n",
        "plt.plot(epochs, val_loss, 'b', label='Validation loss')\n",
        "plt.title('Training and validation loss')\n",
        "plt.xlabel('Epochs')\n",
        "plt.ylabel('Loss')\n",
        "plt.legend()\n",
        "\n",
        "plt.show()"
      ],
      "metadata": {
        "colab": {
          "base_uri": "https://localhost:8080/",
          "height": 295
        },
        "id": "6wjt4B0IgdlS",
        "outputId": "12e802a5-2414-483a-bc37-02fe8853e6d7"
      },
      "id": "6wjt4B0IgdlS",
      "execution_count": 65,
      "outputs": [
        {
          "output_type": "display_data",
          "data": {
            "text/plain": [
              "<Figure size 432x288 with 1 Axes>"
            ],
            "image/png": "[encoded data removed]"
          },
          "metadata": {
            "needs_background": "light"
          }
        }
      ]
    },
    {
      "cell_type": "code",
      "source": [
        "plt.clf()   # clear figure\n",
        "\n",
        "plt.plot(epochs, acc, 'bo', label='Training acc')\n",
        "plt.plot(epochs, val_acc, 'b', label='Validation acc')\n",
        "plt.title('Training and validation accuracy')\n",
        "plt.xlabel('Epochs')\n",
        "plt.ylabel('Accuracy')\n",
        "plt.legend()\n",
        "\n",
        "plt.show()"
      ],
      "metadata": {
        "colab": {
          "base_uri": "https://localhost:8080/",
          "height": 295
        },
        "id": "1p5i_Iiegdnj",
        "outputId": "daaf68ca-f103-4ec7-d7a7-840b91037a20"
      },
      "id": "1p5i_Iiegdnj",
      "execution_count": 66,
      "outputs": [
        {
          "output_type": "display_data",
          "data": {
            "text/plain": [
              "<Figure size 432x288 with 1 Axes>"
            ],
            "image/png": "[encoded data removed]"
          },
          "metadata": {
            "needs_background": "light"
          }
        }
      ]
    },
    {
      "cell_type": "code",
      "source": [],
      "metadata": {
        "id": "DrpUa4NdgkI2"
      },
      "id": "DrpUa4NdgkI2",
      "execution_count": 66,
      "outputs": []
    },
    {
      "cell_type": "code",
      "source": [
        "input_texts= np.asarray(df_val.text)"
      ],
      "metadata": {
        "id": "iAx8Wx3IgkLL"
      },
      "id": "iAx8Wx3IgkLL",
      "execution_count": 67,
      "outputs": []
    },
    {
      "cell_type": "code",
      "source": [
        "pred_proba = model.predict(input_texts)"
      ],
      "metadata": {
        "colab": {
          "base_uri": "https://localhost:8080/"
        },
        "id": "weo-BkHPgkNI",
        "outputId": "a95ca45a-4125-4d81-eba2-7ba146353266"
      },
      "id": "weo-BkHPgkNI",
      "execution_count": 68,
      "outputs": [
        {
          "output_type": "stream",
          "name": "stdout",
          "text": [
            "34/34 [==============================] - 0s 8ms/step\n"
          ]
        }
      ]
    },
    {
      "cell_type": "code",
      "source": [
        "df_val[\"y_pred_num_subjects\"] = [num_subjects_lookup[one_hot] for one_hot in np.argmax(pred_proba, axis=1)]"
      ],
      "metadata": {
        "colab": {
          "base_uri": "https://localhost:8080/"
        },
        "id": "zZ5GGZLYgkPI",
        "outputId": "5e638464-1cc3-4e96-de53-6b56ae680434"
      },
      "id": "zZ5GGZLYgkPI",
      "execution_count": 69,
      "outputs": [
        {
          "output_type": "stream",
          "name": "stderr",
          "text": [
            "/usr/local/lib/python3.7/dist-packages/ipykernel_launcher.py:1: SettingWithCopyWarning: \n",
            "A value is trying to be set on a copy of a slice from a DataFrame.\n",
            "Try using .loc[row_indexer,col_indexer] = value instead\n",
            "\n",
            "See the caveats in the documentation: https://pandas.pydata.org/pandas-docs/stable/user_guide/indexing.html#returning-a-view-versus-a-copy\n",
            "  \"\"\"Entry point for launching an IPython kernel.\n"
          ]
        }
      ]
    },
    {
      "cell_type": "code",
      "source": [
        "df_val[\"y_pred_num_subjects\"].value_counts()"
      ],
      "metadata": {
        "colab": {
          "base_uri": "https://localhost:8080/"
        },
        "id": "0O4WlVPPgkRc",
        "outputId": "21a1c9e6-d500-4324-e235-df711bff174b"
      },
      "id": "0O4WlVPPgkRc",
      "execution_count": 70,
      "outputs": [
        {
          "output_type": "execute_result",
          "data": {
            "text/plain": [
              "1-24      290\n",
              "25+       203\n",
              "50+       203\n",
              "200+      145\n",
              "100+      133\n",
              "500+       80\n",
              "1000+      26\n",
              "10000+      5\n",
              "Name: y_pred_num_subjects, dtype: int64"
            ]
          },
          "metadata": {},
          "execution_count": 70
        }
      ]
    },
    {
      "cell_type": "code",
      "source": [],
      "metadata": {
        "id": "SW_bJxzLgkTc"
      },
      "id": "SW_bJxzLgkTc",
      "execution_count": 70,
      "outputs": []
    },
    {
      "cell_type": "code",
      "source": [],
      "metadata": {
        "id": "DbBjX9-agkVH"
      },
      "id": "DbBjX9-agkVH",
      "execution_count": 70,
      "outputs": []
    },
    {
      "cell_type": "code",
      "source": [
        "acc = accuracy_score(df_val.num_subjects_clean, df_val[\"y_pred_num_subjects\"])\n",
        "print (f\"Subjects accuracy {acc}\")"
      ],
      "metadata": {
        "id": "rYhLhDmnNuAl",
        "outputId": "3f3b654d-3d2d-4a8c-bacd-fe43f2ef5152",
        "colab": {
          "base_uri": "https://localhost:8080/"
        }
      },
      "id": "rYhLhDmnNuAl",
      "execution_count": 71,
      "outputs": [
        {
          "output_type": "stream",
          "name": "stdout",
          "text": [
            "Subjects accuracy 0.32903225806451614\n"
          ]
        }
      ]
    },
    {
      "cell_type": "code",
      "source": [
        "ConfusionMatrixDisplay.from_predictions(df_val.num_subjects_clean, df_val[\"y_pred_num_subjects\"], labels=num_subjects_list)\n",
        "plt.xticks(rotation=90)\n",
        ";"
      ],
      "metadata": {
        "id": "XOiQVXB0NuHC",
        "outputId": "4308ffbd-f5c0-4a81-d0e4-000251eb7de6",
        "colab": {
          "base_uri": "https://localhost:8080/",
          "height": 332
        }
      },
      "id": "XOiQVXB0NuHC",
      "execution_count": 75,
      "outputs": [
        {
          "output_type": "execute_result",
          "data": {
            "text/plain": [
              "''"
            ],
            "application/vnd.google.colaboratory.intrinsic+json": {
              "type": "string"
            }
          },
          "metadata": {},
          "execution_count": 75
        },
        {
          "output_type": "display_data",
          "data": {
            "text/plain": [
              "<Figure size 432x288 with 2 Axes>"
            ],
            "image/png": "[encoded data removed]"
          },
          "metadata": {
            "needs_background": "light"
          }
        }
      ]
    },
    {
      "cell_type": "code",
      "source": [],
      "metadata": {
        "id": "_mrXg7E8dlVW"
      },
      "id": "_mrXg7E8dlVW",
      "execution_count": 72,
      "outputs": []
    }
  ],
  "metadata": {
    "colab": {
      "provenance": [],
      "collapsed_sections": [],
      "machine_shape": "hm",
      "include_colab_link": true
    },
    "kernelspec": {
      "display_name": "conda_tensorflow_p36",
      "language": "python",
      "name": "conda_tensorflow_p36"
    },
    "language_info": {
      "codemirror_mode": {
        "name": "ipython",
        "version": 3
      },
      "file_extension": ".py",
      "mimetype": "text/x-python",
      "name": "python",
      "nbconvert_exporter": "python",
      "pygments_lexer": "ipython3",
      "version": "3.6.13"
    },
    "accelerator": "GPU",
    "gpuClass": "premium"
  },
  "nbformat": 4,
  "nbformat_minor": 5
}